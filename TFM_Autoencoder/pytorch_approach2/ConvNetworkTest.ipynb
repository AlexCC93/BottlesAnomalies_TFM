{
 "cells": [
  {
   "cell_type": "code",
   "execution_count": 2,
   "id": "canadian-canyon",
   "metadata": {},
   "outputs": [],
   "source": [
    "import torch\n",
    "import torch.nn as nn\n",
    "import torch.nn.functional as F\n",
    "import torch.optim as optim\n",
    "from torchvision import datasets, transforms\n",
    "import torchvision\n",
    "import matplotlib.pyplot as plt\n",
    "import numpy as np"
   ]
  },
  {
   "cell_type": "code",
   "execution_count": 3,
   "id": "9b2e643f",
   "metadata": {},
   "outputs": [],
   "source": [
    "# Device configuration\n",
    "device = torch.device('cuda' if torch.cuda.is_available() else 'cpu')"
   ]
  },
  {
   "cell_type": "code",
   "execution_count": 4,
   "id": "63b56f8f",
   "metadata": {},
   "outputs": [
    {
     "name": "stdout",
     "output_type": "stream",
     "text": [
      "Files already downloaded and verified\n",
      "Files already downloaded and verified\n"
     ]
    }
   ],
   "source": [
    "# Hyper-parameters \n",
    "num_epochs = 5\n",
    "batch_size = 4\n",
    "learning_rate = 0.001\n",
    "\n",
    "# dataset has PILImage images of range [0, 1]. \n",
    "# We transform them to Tensors of normalized range [-1, 1]\n",
    "transform = transforms.Compose(\n",
    "    [transforms.ToTensor(),\n",
    "     transforms.Normalize((0.5, 0.5, 0.5), (0.5, 0.5, 0.5))])\n",
    "\n",
    "# CIFAR10: 60000 32x32 color images in 10 classes, with 6000 images per class\n",
    "train_dataset = torchvision.datasets.CIFAR10(root='./data', train=True,\n",
    "                                        download=True, transform=transform)\n",
    "\n",
    "test_dataset = torchvision.datasets.CIFAR10(root='./data', train=False,\n",
    "                                       download=True, transform=transform)\n",
    "\n",
    "train_loader = torch.utils.data.DataLoader(train_dataset, batch_size=batch_size,\n",
    "                                          shuffle=True)\n",
    "\n",
    "test_loader = torch.utils.data.DataLoader(test_dataset, batch_size=batch_size,\n",
    "                                         shuffle=False)\n"
   ]
  },
  {
   "cell_type": "code",
   "execution_count": 5,
   "id": "1f26b9b2",
   "metadata": {},
   "outputs": [
    {
     "data": {
      "image/png": "[encoded data removed]",
      "text/plain": [
       "<Figure size 640x480 with 1 Axes>"
      ]
     },
     "metadata": {},
     "output_type": "display_data"
    }
   ],
   "source": [
    "classes = ('plane', 'car', 'bird', 'cat',\n",
    "           'deer', 'dog', 'frog', 'horse', 'ship', 'truck')\n",
    "\n",
    "def imshow(img):\n",
    "    img = img / 2 + 0.5  # unnormalize\n",
    "    npimg = img.numpy()\n",
    "    plt.imshow(np.transpose(npimg, (1, 2, 0)))\n",
    "    plt.show()\n",
    "    \n",
    "# get some random training images\n",
    "dataiter = iter(train_loader)\n",
    "images, labels = next(dataiter)\n",
    "\n",
    "# show images\n",
    "imshow(torchvision.utils.make_grid(images))\n"
   ]
  },
  {
   "cell_type": "code",
   "execution_count": 6,
   "id": "b5d93cb0",
   "metadata": {},
   "outputs": [
    {
     "name": "stdout",
     "output_type": "stream",
     "text": [
      "torch.Size([4, 3, 32, 32])\n"
     ]
    }
   ],
   "source": [
    "conv1 = nn.Conv2d(3, 6, 5)      # input image channels, output channels, kernel size (filter)\n",
    "pool = nn.MaxPool2d(2, 2)       # kernel size, stride\n",
    "conv2 = nn.Conv2d(6, 16, 5)\n",
    "print(images.shape)"
   ]
  },
  {
   "cell_type": "code",
   "execution_count": 7,
   "id": "e0caf196",
   "metadata": {},
   "outputs": [
    {
     "name": "stdout",
     "output_type": "stream",
     "text": [
      "torch.Size([4, 6, 28, 28])\n"
     ]
    }
   ],
   "source": [
    "x = conv1(images)\n",
    "print(x.shape)"
   ]
  },
  {
   "attachments": {},
   "cell_type": "markdown",
   "id": "bf836c75",
   "metadata": {},
   "source": [
    "It was at first, the size of the image, 32x32. And above it can be seen that was downsized to 28x28. This is the formula for computing the output size of the convolved image.\n",
    "\n",
    "(Width - Filter + 2*Padding)/Stride + 1 \n",
    "\n",
    "(32 - 5 + 2*0)/1 + 1 = 28"
   ]
  },
  {
   "cell_type": "code",
   "execution_count": 8,
   "id": "c3d8c406",
   "metadata": {},
   "outputs": [
    {
     "name": "stdout",
     "output_type": "stream",
     "text": [
      "torch.Size([4, 6, 14, 14])\n"
     ]
    }
   ],
   "source": [
    "x = pool(x)\n",
    "print(x.shape)"
   ]
  },
  {
   "attachments": {},
   "cell_type": "markdown",
   "id": "6fb6e137",
   "metadata": {},
   "source": [
    "The kernel size of 2 and stride of 2 make the image size reduce in a factor of 2. That is why above size is half of the previous to it. "
   ]
  },
  {
   "cell_type": "code",
   "execution_count": 9,
   "id": "f645aa4e",
   "metadata": {},
   "outputs": [
    {
     "name": "stdout",
     "output_type": "stream",
     "text": [
      "torch.Size([4, 16, 10, 10])\n"
     ]
    }
   ],
   "source": [
    "x = conv2(x)\n",
    "print(x.shape)"
   ]
  },
  {
   "attachments": {},
   "cell_type": "markdown",
   "id": "41297065",
   "metadata": {},
   "source": [
    "Above, follows the same formula as described before. This is the formula:\n",
    "\n",
    "(Width - Filter + 2*Padding)/Stride + 1 \n",
    "\n",
    "(14 - 5 + 2*0)/1 + 1 = 10"
   ]
  },
  {
   "attachments": {},
   "cell_type": "markdown",
   "id": "65858449",
   "metadata": {},
   "source": [
    "# Making use of F.relu()"
   ]
  },
  {
   "cell_type": "code",
   "execution_count": 10,
   "id": "fefd6f4a",
   "metadata": {},
   "outputs": [
    {
     "name": "stdout",
     "output_type": "stream",
     "text": [
      "torch.Size([4, 3, 32, 32])\n"
     ]
    }
   ],
   "source": [
    "conv1 = nn.Conv2d(3, 6, 5)      # input image channels, output channels, kernel size (filter)\n",
    "pool = nn.MaxPool2d(2, 2)       # kernel size, stride\n",
    "conv2 = nn.Conv2d(6, 16, 5)\n",
    "print(images.shape)"
   ]
  },
  {
   "cell_type": "code",
   "execution_count": 11,
   "id": "d56001c0",
   "metadata": {},
   "outputs": [
    {
     "name": "stdout",
     "output_type": "stream",
     "text": [
      "torch.Size([4, 6, 14, 14])\n"
     ]
    }
   ],
   "source": [
    "x = pool(F.relu(conv1(images)))\n",
    "print(x.shape)"
   ]
  },
  {
   "cell_type": "code",
   "execution_count": 12,
   "id": "6439a688",
   "metadata": {},
   "outputs": [
    {
     "name": "stdout",
     "output_type": "stream",
     "text": [
      "torch.Size([4, 16, 5, 5])\n"
     ]
    }
   ],
   "source": [
    "x = pool(F.relu(conv2(x)))\n",
    "print(x.shape)"
   ]
  },
  {
   "attachments": {},
   "cell_type": "markdown",
   "id": "5c017d53",
   "metadata": {},
   "source": [
    "These operations shown above have the same effect as the ones previous to it. Meaning that we can use:\n",
    "\n",
    "\"pool(F.relu(conv1(...)))\" or\n",
    "\n",
    "\" x = conv1(...)\n",
    "\n",
    "x = pool(x)\" \n",
    "\n"
   ]
  },
  {
   "attachments": {},
   "cell_type": "markdown",
   "id": "113dda86",
   "metadata": {},
   "source": [
    "# Another test\n"
   ]
  },
  {
   "cell_type": "code",
   "execution_count": 13,
   "id": "1892712d",
   "metadata": {},
   "outputs": [
    {
     "name": "stdout",
     "output_type": "stream",
     "text": [
      "tensor(0.) tensor(1.)\n"
     ]
    }
   ],
   "source": [
    "transform = transforms.ToTensor()\n",
    "\n",
    "mnist_data = datasets.MNIST(root='./data', train=True, download=True, transform=transform)\n",
    "\n",
    "data_loader = torch.utils.data.DataLoader(dataset=mnist_data,\n",
    "                                          batch_size=64,\n",
    "                                          shuffle=True)\n",
    "dataiter = iter(data_loader)\n",
    "images, labels = next(dataiter)\n",
    "\n",
    "print(torch.min(images), torch.max(images))"
   ]
  },
  {
   "cell_type": "code",
   "execution_count": 14,
   "id": "dc3e23c8",
   "metadata": {},
   "outputs": [
    {
     "name": "stdout",
     "output_type": "stream",
     "text": [
      "torch.Size([64, 1, 28, 28])\n"
     ]
    }
   ],
   "source": [
    "conv1 = nn.Conv2d(1, 16, 3, stride=2, padding=1)      # input image channels, output channels, kernel size (filter)\n",
    "conv2 = nn.Conv2d(16, 32, 3, stride=2, padding=1)\n",
    "conv3 = nn.Conv2d(32, 64, 7)\n",
    "print(images.shape)"
   ]
  },
  {
   "cell_type": "code",
   "execution_count": 15,
   "id": "7b040b49",
   "metadata": {},
   "outputs": [
    {
     "name": "stdout",
     "output_type": "stream",
     "text": [
      "torch.Size([64, 16, 14, 14])\n"
     ]
    }
   ],
   "source": [
    "x = F.relu(conv1(images))\n",
    "print(x.shape)"
   ]
  },
  {
   "cell_type": "code",
   "execution_count": 16,
   "id": "86639c8c",
   "metadata": {},
   "outputs": [
    {
     "name": "stdout",
     "output_type": "stream",
     "text": [
      "torch.Size([64, 32, 7, 7])\n"
     ]
    }
   ],
   "source": [
    "x = F.relu(conv2(x))\n",
    "print(x.shape)"
   ]
  },
  {
   "cell_type": "code",
   "execution_count": 17,
   "id": "fd02bccc",
   "metadata": {},
   "outputs": [
    {
     "name": "stdout",
     "output_type": "stream",
     "text": [
      "torch.Size([64, 64, 1, 1])\n"
     ]
    }
   ],
   "source": [
    "x = F.relu(conv3(x))\n",
    "print(x.shape)"
   ]
  },
  {
   "cell_type": "code",
   "execution_count": 18,
   "id": "c740e7f6",
   "metadata": {},
   "outputs": [
    {
     "name": "stdout",
     "output_type": "stream",
     "text": [
      "torch.Size([64, 64, 1, 1])\n"
     ]
    }
   ],
   "source": [
    "conv4 = nn.ConvTranspose2d(64, 32, 7)      # input image channels, output channels, kernel size (filter)\n",
    "conv5 = nn.ConvTranspose2d(32, 16, 3, stride=2, padding=1, output_padding=1)\n",
    "conv6 = nn.ConvTranspose2d(16, 1, 3, stride=2, padding=1, output_padding=1)\n",
    "print(x.shape)"
   ]
  },
  {
   "cell_type": "code",
   "execution_count": 19,
   "id": "35af0a97",
   "metadata": {},
   "outputs": [
    {
     "name": "stdout",
     "output_type": "stream",
     "text": [
      "torch.Size([64, 32, 7, 7])\n"
     ]
    }
   ],
   "source": [
    "x = F.relu(conv4(x))\n",
    "print(x.shape)"
   ]
  },
  {
   "cell_type": "code",
   "execution_count": 20,
   "id": "2b636beb",
   "metadata": {},
   "outputs": [
    {
     "name": "stdout",
     "output_type": "stream",
     "text": [
      "torch.Size([64, 16, 14, 14])\n"
     ]
    }
   ],
   "source": [
    "x = F.relu(conv5(x))\n",
    "print(x.shape)"
   ]
  },
  {
   "cell_type": "markdown",
   "id": "2e1d44e5",
   "metadata": {},
   "source": []
  }
 ],
 "metadata": {
  "kernelspec": {
   "display_name": "tfm_2",
   "language": "python",
   "name": "python3"
  },
  "language_info": {
   "codemirror_mode": {
    "name": "ipython",
    "version": 3
   },
   "file_extension": ".py",
   "mimetype": "text/x-python",
   "name": "python",
   "nbconvert_exporter": "python",
   "pygments_lexer": "ipython3",
   "version": "3.9.16"
  }
 },
 "nbformat": 4,
 "nbformat_minor": 5
}
