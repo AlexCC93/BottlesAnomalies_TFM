{
 "cells": [
  {
   "cell_type": "code",
   "execution_count": 1,
   "metadata": {},
   "outputs": [],
   "source": [
    "from tensorflow.keras.models import Sequential, Model\n",
    "from tensorflow.keras.layers import *\n",
    "from tensorflow.keras.preprocessing.image import ImageDataGenerator\n",
    "from tensorflow import keras\n",
    "import tensorflow as tf\n",
    "# from keras import layers\n",
    "\n",
    "\n",
    "from tensorflow.keras.optimizers import Adam, RMSprop\n",
    "from tensorflow.keras.preprocessing import image\n",
    "\n",
    "import tensorflow.keras.backend as K\n",
    "\n",
    "\n",
    "from PIL import Image\n",
    "import matplotlib.pyplot as plt\n",
    "import numpy as np\n",
    "import random\n",
    "\n"
   ]
  },
  {
   "cell_type": "code",
   "execution_count": 2,
   "metadata": {},
   "outputs": [
    {
     "name": "stdout",
     "output_type": "stream",
     "text": [
      "Num GPUs Available:  1\n"
     ]
    },
    {
     "name": "stderr",
     "output_type": "stream",
     "text": [
      "2023-06-11 12:11:23.410668: I tensorflow/stream_executor/platform/default/dso_loader.cc:44] Successfully opened dynamic library libcuda.so.1\n",
      "2023-06-11 12:11:23.433738: I tensorflow/stream_executor/cuda/cuda_gpu_executor.cc:981] successful NUMA node read from SysFS had negative value (-1), but there must be at least one NUMA node, so returning NUMA node zero\n",
      "2023-06-11 12:11:23.434027: I tensorflow/core/common_runtime/gpu/gpu_device.cc:1561] Found device 0 with properties: \n",
      "pciBusID: 0000:01:00.0 name: NVIDIA GeForce RTX 2080 with Max-Q Design computeCapability: 7.5\n",
      "coreClock: 1.23GHz coreCount: 46 deviceMemorySize: 7.79GiB deviceMemoryBandwidth: 357.69GiB/s\n",
      "2023-06-11 12:11:23.434204: I tensorflow/stream_executor/platform/default/dso_loader.cc:44] Successfully opened dynamic library libcudart.so.10.1\n",
      "2023-06-11 12:11:23.435476: I tensorflow/stream_executor/platform/default/dso_loader.cc:44] Successfully opened dynamic library libcublas.so.10\n",
      "2023-06-11 12:11:23.436642: I tensorflow/stream_executor/platform/default/dso_loader.cc:44] Successfully opened dynamic library libcufft.so.10\n",
      "2023-06-11 12:11:23.436850: I tensorflow/stream_executor/platform/default/dso_loader.cc:44] Successfully opened dynamic library libcurand.so.10\n",
      "2023-06-11 12:11:23.438151: I tensorflow/stream_executor/platform/default/dso_loader.cc:44] Successfully opened dynamic library libcusolver.so.10\n",
      "2023-06-11 12:11:23.438873: I tensorflow/stream_executor/platform/default/dso_loader.cc:44] Successfully opened dynamic library libcusparse.so.10\n",
      "2023-06-11 12:11:23.441949: I tensorflow/stream_executor/platform/default/dso_loader.cc:44] Successfully opened dynamic library libcudnn.so.7\n",
      "2023-06-11 12:11:23.442069: I tensorflow/stream_executor/cuda/cuda_gpu_executor.cc:981] successful NUMA node read from SysFS had negative value (-1), but there must be at least one NUMA node, so returning NUMA node zero\n",
      "2023-06-11 12:11:23.442411: I tensorflow/stream_executor/cuda/cuda_gpu_executor.cc:981] successful NUMA node read from SysFS had negative value (-1), but there must be at least one NUMA node, so returning NUMA node zero\n",
      "2023-06-11 12:11:23.442663: I tensorflow/core/common_runtime/gpu/gpu_device.cc:1703] Adding visible gpu devices: 0\n"
     ]
    }
   ],
   "source": [
    "physical_devices = tf.config.experimental.list_physical_devices('GPU')\n",
    "if len(physical_devices) == 0:\n",
    "    print(\"Not enough GPU hardware devices available\")\n",
    "else:\n",
    "    config = tf.config.experimental.set_memory_growth(physical_devices[0], True)\n",
    "print(\"Num GPUs Available: \", len(physical_devices))"
   ]
  },
  {
   "cell_type": "code",
   "execution_count": 3,
   "metadata": {},
   "outputs": [],
   "source": [
    "# tf.debugging.set_log_device_placement(True)       # Will print the log information of every execution of tensorflow, mainly about "
   ]
  },
  {
   "cell_type": "code",
   "execution_count": 4,
   "metadata": {},
   "outputs": [],
   "source": [
    "#Size of our input images\n",
    "# SIZE = 128        # It was this value at the beginning, but the image display was poor. \n",
    "SIZE = 160\n",
    "# SIZE = 228          # It was 224, but in order for the current autoencoder model configuration work adequately, we changed it 228"
   ]
  },
  {
   "attachments": {},
   "cell_type": "markdown",
   "metadata": {},
   "source": [
    "# Setting the training and testing datasets "
   ]
  },
  {
   "attachments": {},
   "cell_type": "markdown",
   "metadata": {},
   "source": [
    "ImageDataGenerator.flow_from_directory: Takes the path to a directory and generates batches of augmented data."
   ]
  },
  {
   "cell_type": "code",
   "execution_count": 5,
   "metadata": {},
   "outputs": [],
   "source": [
    "def my_crop(img, start_y, start_x, desired_height, desired_width):\n",
    "  if K.image_data_format() == 'channels_last':\n",
    "    # Note: image_data_format is 'channel_last'\n",
    "    assert img.shape[2] == 3\n",
    "    height, width = img.shape[0], img.shape[1]\n",
    "    dy = desired_height #input desired output size\n",
    "    dx = desired_width #input desired output size\n",
    "    # start_y = (height-dy)//2\n",
    "    # start_x = (width-dx)//2\n",
    "    return img[start_y:start_y+dy, start_x:(dx+start_x), :]\n",
    "  else:\n",
    "      assert img.shape[0] == 3\n",
    "      height, width = img.shape[1], img.shape[2]\n",
    "      dy = desired_height #input desired output size\n",
    "      dx = desired_width #input desired output size\n",
    "      # start_y = (height-dy)//2\n",
    "      # start_x = (width-dx)//2\n",
    "      return img[:,start_y:start_y + dy, start_x:(dx + start_x)]\n",
    "\n",
    "def crop_generator(batches, start_y, start_x, crop_height, crop_width, flag=0):\n",
    "    '''\n",
    "    Take as input a Keras ImageGen (Iterator) and generate\n",
    "    crops from the image batches generated by the original iterator\n",
    "    '''\n",
    "    # print(\"I'm in the crop_generataor function\")\n",
    "    while True:\n",
    "      batch_x, batch_y = next(batches)  # In batch_x there are the images, in batch_y there are the labels\n",
    "    #   print(\"hello\")\n",
    "    #   print('the shape of tensor batch_x is:', batch_x.shape)\n",
    "    #   print('batch_y is:', batch_y)\n",
    "      if flag==0:\n",
    "        if K.image_data_format() == 'channels_last':\n",
    "          batch_crops = np.zeros((batch_x.shape[0], crop_height, crop_width, 3))\n",
    "          batch_crops_y = np.zeros((batch_y.shape[0], crop_height, crop_width, 3))\n",
    "        else:\n",
    "          batch_crops = np.zeros((batch_x.shape[0], 3, crop_height, crop_width))\n",
    "          batch_crops_y = np.zeros((batch_y.shape[0], 3, crop_height, crop_width))\n",
    "        for i in range(batch_x.shape[0]):\n",
    "          #   print(\"THe shape of a single image before the cropping is: \", batch_x[i].shape)\n",
    "            batch_crops[i] = my_crop(batch_x[i], start_y, start_x, crop_height, crop_width)\n",
    "            batch_crops_y[i] = my_crop(batch_x[i], start_y, start_x, crop_height, crop_width)\n",
    "        yield (batch_crops, batch_crops_y)\n",
    "      else: \n",
    "        if K.image_data_format() == 'channels_last':\n",
    "          batch_crops = np.zeros((batch_x.shape[0], crop_height, crop_width, 3))\n",
    "        else:\n",
    "          batch_crops = np.zeros((batch_x.shape[0], 3, crop_height, crop_width))\n",
    "        for i in range(batch_x.shape[0]):\n",
    "          #   print(\"THe shape of a single image before the cropping is: \", batch_x[i].shape)\n",
    "            batch_crops[i] = my_crop(batch_x[i], start_y, start_x, crop_height, crop_width)\n",
    "\n",
    "        yield (batch_crops, batch_y)"
   ]
  },
  {
   "cell_type": "code",
   "execution_count": 6,
   "metadata": {},
   "outputs": [
    {
     "data": {
      "text/plain": [
       "12"
      ]
     },
     "execution_count": 6,
     "metadata": {},
     "output_type": "execute_result"
    }
   ],
   "source": [
    "(50-25)//2"
   ]
  },
  {
   "cell_type": "code",
   "execution_count": 7,
   "metadata": {},
   "outputs": [
    {
     "name": "stdout",
     "output_type": "stream",
     "text": [
      "Found 295 images belonging to 1 classes.\n"
     ]
    }
   ],
   "source": [
    "# batch_size = 64\n",
    "batch_size = 32\n",
    "datagen = ImageDataGenerator(rescale=1./255)\n",
    "\n",
    "train_generator = datagen.flow_from_directory(\n",
    "    \"../../Images/june5Night/Positive/\",         # For home laptop\n",
    "    # \"../../../BottleStoodUp_atNight/Positive/\",          # For work laptop\n",
    "    batch_size=batch_size,\n",
    "    shuffle = False,\n",
    "    class_mode='binary'          # Class used for working with Autoencoders\n",
    "    \n",
    "    )"
   ]
  },
  {
   "cell_type": "code",
   "execution_count": 8,
   "metadata": {},
   "outputs": [],
   "source": [
    "train_crops = crop_generator(train_generator, 65, 69, 160,128)      # top, left, height, width"
   ]
  },
  {
   "attachments": {},
   "cell_type": "markdown",
   "metadata": {},
   "source": [
    "# Showing one sample of the training set images"
   ]
  },
  {
   "attachments": {},
   "cell_type": "markdown",
   "metadata": {},
   "source": [
    "Grabbing only one image of one batch of the training set."
   ]
  },
  {
   "cell_type": "code",
   "execution_count": 9,
   "metadata": {},
   "outputs": [],
   "source": [
    "images_in_batch = next(train_crops)\n"
   ]
  },
  {
   "cell_type": "code",
   "execution_count": 10,
   "metadata": {},
   "outputs": [
    {
     "name": "stdout",
     "output_type": "stream",
     "text": [
      "<class 'tuple'>\n",
      "2\n"
     ]
    }
   ],
   "source": [
    "print(type(images_in_batch))\n",
    "print(len(images_in_batch))"
   ]
  },
  {
   "cell_type": "code",
   "execution_count": 11,
   "metadata": {},
   "outputs": [
    {
     "data": {
      "text/plain": [
       "<matplotlib.image.AxesImage at 0x7f006062dfa0>"
      ]
     },
     "execution_count": 11,
     "metadata": {},
     "output_type": "execute_result"
    },
    {
     "data": {
      "image/png": "[encoded data removed]",
      "text/plain": [
       "<Figure size 640x480 with 1 Axes>"
      ]
     },
     "metadata": {},
     "output_type": "display_data"
    }
   ],
   "source": [
    "single_img = images_in_batch[0][0]\n",
    "plt.imshow(single_img)"
   ]
  },
  {
   "cell_type": "code",
   "execution_count": 12,
   "metadata": {},
   "outputs": [
    {
     "name": "stdout",
     "output_type": "stream",
     "text": [
      "[[[[0.74117649 0.74117649 0.74117649]\n",
      "   [0.71372551 0.71372551 0.71372551]\n",
      "   [0.73725492 0.73725492 0.73725492]\n",
      "   ...\n",
      "   [0.54509807 0.54509807 0.54509807]\n",
      "   [0.54901963 0.54901963 0.54901963]\n",
      "   [0.54509807 0.54509807 0.54509807]]\n",
      "\n",
      "  [[0.74117649 0.74117649 0.74117649]\n",
      "   [0.72549021 0.72549021 0.72549021]\n",
      "   [0.72941178 0.72941178 0.72941178]\n",
      "   ...\n",
      "   [0.57254905 0.57254905 0.57254905]\n",
      "   [0.5529412  0.5529412  0.5529412 ]\n",
      "   [0.55686277 0.55686277 0.55686277]]\n",
      "\n",
      "  [[0.74509805 0.74509805 0.74509805]\n",
      "   [0.73333335 0.73333335 0.73333335]\n",
      "   [0.74901962 0.74901962 0.74901962]\n",
      "   ...\n",
      "   [0.57647061 0.57647061 0.57647061]\n",
      "   [0.54509807 0.54509807 0.54509807]\n",
      "   [0.54509807 0.54509807 0.54509807]]\n",
      "\n",
      "  ...\n",
      "\n",
      "  [[0.34117648 0.34117648 0.34117648]\n",
      "   [0.32941177 0.32941177 0.32941177]\n",
      "   [0.33333334 0.33333334 0.33333334]\n",
      "   ...\n",
      "   [0.227451   0.227451   0.227451  ]\n",
      "   [0.22352943 0.22352943 0.22352943]\n",
      "   [0.22352943 0.22352943 0.22352943]]\n",
      "\n",
      "  [[0.32549021 0.32549021 0.32549021]\n",
      "   [0.34901962 0.34901962 0.34901962]\n",
      "   [0.33725491 0.33725491 0.33725491]\n",
      "   ...\n",
      "   [0.24313727 0.24313727 0.24313727]\n",
      "   [0.22352943 0.22352943 0.22352943]\n",
      "   [0.227451   0.227451   0.227451  ]]\n",
      "\n",
      "  [[0.34117648 0.34117648 0.34117648]\n",
      "   [0.32549021 0.32549021 0.32549021]\n",
      "   [0.34509805 0.34509805 0.34509805]\n",
      "   ...\n",
      "   [0.227451   0.227451   0.227451  ]\n",
      "   [0.21176472 0.21176472 0.21176472]\n",
      "   [0.21176472 0.21176472 0.21176472]]]\n",
      "\n",
      "\n",
      " [[[0.75294125 0.75294125 0.75294125]\n",
      "   [0.7843138  0.7843138  0.7843138 ]\n",
      "   [0.76078439 0.76078439 0.76078439]\n",
      "   ...\n",
      "   [0.53725493 0.53725493 0.53725493]\n",
      "   [0.56078434 0.56078434 0.56078434]\n",
      "   [0.54901963 0.54901963 0.54901963]]\n",
      "\n",
      "  [[0.73333335 0.73333335 0.73333335]\n",
      "   [0.74117649 0.74117649 0.74117649]\n",
      "   [0.73725492 0.73725492 0.73725492]\n",
      "   ...\n",
      "   [0.58823532 0.58823532 0.58823532]\n",
      "   [0.53725493 0.53725493 0.53725493]\n",
      "   [0.5529412  0.5529412  0.5529412 ]]\n",
      "\n",
      "  [[0.76470596 0.76470596 0.76470596]\n",
      "   [0.74117649 0.74117649 0.74117649]\n",
      "   [0.75294125 0.75294125 0.75294125]\n",
      "   ...\n",
      "   [0.56862748 0.56862748 0.56862748]\n",
      "   [0.55686277 0.55686277 0.55686277]\n",
      "   [0.52156866 0.52156866 0.52156866]]\n",
      "\n",
      "  ...\n",
      "\n",
      "  [[0.37254903 0.37254903 0.37254903]\n",
      "   [0.34509805 0.34509805 0.34509805]\n",
      "   [0.34509805 0.34509805 0.34509805]\n",
      "   ...\n",
      "   [0.25098041 0.25098041 0.25098041]\n",
      "   [0.227451   0.227451   0.227451  ]\n",
      "   [0.22352943 0.22352943 0.22352943]]\n",
      "\n",
      "  [[0.36862746 0.36862746 0.36862746]\n",
      "   [0.36078432 0.36078432 0.36078432]\n",
      "   [0.34901962 0.34901962 0.34901962]\n",
      "   ...\n",
      "   [0.24313727 0.24313727 0.24313727]\n",
      "   [0.21568629 0.21568629 0.21568629]\n",
      "   [0.24313727 0.24313727 0.24313727]]\n",
      "\n",
      "  [[0.35294119 0.35294119 0.35294119]\n",
      "   [0.35686275 0.35686275 0.35686275]\n",
      "   [0.35686275 0.35686275 0.35686275]\n",
      "   ...\n",
      "   [0.21960786 0.21960786 0.21960786]\n",
      "   [0.24313727 0.24313727 0.24313727]\n",
      "   [0.21960786 0.21960786 0.21960786]]]\n",
      "\n",
      "\n",
      " [[[0.74117649 0.74117649 0.74117649]\n",
      "   [0.78039223 0.78039223 0.78039223]\n",
      "   [0.76078439 0.76078439 0.76078439]\n",
      "   ...\n",
      "   [0.53725493 0.53725493 0.53725493]\n",
      "   [0.55686277 0.55686277 0.55686277]\n",
      "   [0.52549022 0.52549022 0.52549022]]\n",
      "\n",
      "  [[0.76862752 0.76862752 0.76862752]\n",
      "   [0.75294125 0.75294125 0.75294125]\n",
      "   [0.76862752 0.76862752 0.76862752]\n",
      "   ...\n",
      "   [0.56470591 0.56470591 0.56470591]\n",
      "   [0.52156866 0.52156866 0.52156866]\n",
      "   [0.52549022 0.52549022 0.52549022]]\n",
      "\n",
      "  [[0.75294125 0.75294125 0.75294125]\n",
      "   [0.76862752 0.76862752 0.76862752]\n",
      "   [0.76862752 0.76862752 0.76862752]\n",
      "   ...\n",
      "   [0.56470591 0.56470591 0.56470591]\n",
      "   [0.55686277 0.55686277 0.55686277]\n",
      "   [0.52941179 0.52941179 0.52941179]]\n",
      "\n",
      "  ...\n",
      "\n",
      "  [[0.34901962 0.34901962 0.34901962]\n",
      "   [0.34901962 0.34901962 0.34901962]\n",
      "   [0.33333334 0.33333334 0.33333334]\n",
      "   ...\n",
      "   [0.227451   0.227451   0.227451  ]\n",
      "   [0.21960786 0.21960786 0.21960786]\n",
      "   [0.24705884 0.24705884 0.24705884]]\n",
      "\n",
      "  [[0.36078432 0.36078432 0.36078432]\n",
      "   [0.35686275 0.35686275 0.35686275]\n",
      "   [0.34117648 0.34117648 0.34117648]\n",
      "   ...\n",
      "   [0.23529413 0.23529413 0.23529413]\n",
      "   [0.227451   0.227451   0.227451  ]\n",
      "   [0.23137257 0.23137257 0.23137257]]\n",
      "\n",
      "  [[0.36078432 0.36078432 0.36078432]\n",
      "   [0.34509805 0.34509805 0.34509805]\n",
      "   [0.36470589 0.36470589 0.36470589]\n",
      "   ...\n",
      "   [0.21568629 0.21568629 0.21568629]\n",
      "   [0.23529413 0.23529413 0.23529413]\n",
      "   [0.20784315 0.20784315 0.20784315]]]\n",
      "\n",
      "\n",
      " ...\n",
      "\n",
      "\n",
      " [[[0.67058825 0.67058825 0.67058825]\n",
      "   [0.6901961  0.6901961  0.6901961 ]\n",
      "   [0.67843139 0.67843139 0.67843139]\n",
      "   ...\n",
      "   [0.61176473 0.61176473 0.61176473]\n",
      "   [0.627451   0.627451   0.627451  ]\n",
      "   [0.59215689 0.59215689 0.59215689]]\n",
      "\n",
      "  [[0.7019608  0.7019608  0.7019608 ]\n",
      "   [0.68235296 0.68235296 0.68235296]\n",
      "   [0.7019608  0.7019608  0.7019608 ]\n",
      "   ...\n",
      "   [0.61176473 0.61176473 0.61176473]\n",
      "   [0.61176473 0.61176473 0.61176473]\n",
      "   [0.59607846 0.59607846 0.59607846]]\n",
      "\n",
      "  [[0.67843139 0.67843139 0.67843139]\n",
      "   [0.67843139 0.67843139 0.67843139]\n",
      "   [0.70980394 0.70980394 0.70980394]\n",
      "   ...\n",
      "   [0.63137257 0.63137257 0.63137257]\n",
      "   [0.59607846 0.59607846 0.59607846]\n",
      "   [0.61960787 0.61960787 0.61960787]]\n",
      "\n",
      "  ...\n",
      "\n",
      "  [[0.32549021 0.32549021 0.32549021]\n",
      "   [0.33333334 0.33333334 0.33333334]\n",
      "   [0.31764707 0.31764707 0.31764707]\n",
      "   ...\n",
      "   [0.23529413 0.23529413 0.23529413]\n",
      "   [0.25490198 0.25490198 0.25490198]\n",
      "   [0.2392157  0.2392157  0.2392157 ]]\n",
      "\n",
      "  [[0.34509805 0.34509805 0.34509805]\n",
      "   [0.34117648 0.34117648 0.34117648]\n",
      "   [0.32941177 0.32941177 0.32941177]\n",
      "   ...\n",
      "   [0.23529413 0.23529413 0.23529413]\n",
      "   [0.2392157  0.2392157  0.2392157 ]\n",
      "   [0.24313727 0.24313727 0.24313727]]\n",
      "\n",
      "  [[0.32156864 0.32156864 0.32156864]\n",
      "   [0.32156864 0.32156864 0.32156864]\n",
      "   [0.33333334 0.33333334 0.33333334]\n",
      "   ...\n",
      "   [0.21176472 0.21176472 0.21176472]\n",
      "   [0.23137257 0.23137257 0.23137257]\n",
      "   [0.22352943 0.22352943 0.22352943]]]\n",
      "\n",
      "\n",
      " [[[0.67843139 0.67843139 0.67843139]\n",
      "   [0.7019608  0.7019608  0.7019608 ]\n",
      "   [0.6901961  0.6901961  0.6901961 ]\n",
      "   ...\n",
      "   [0.62352943 0.62352943 0.62352943]\n",
      "   [0.61960787 0.61960787 0.61960787]\n",
      "   [0.59607846 0.59607846 0.59607846]]\n",
      "\n",
      "  [[0.6901961  0.6901961  0.6901961 ]\n",
      "   [0.6901961  0.6901961  0.6901961 ]\n",
      "   [0.6901961  0.6901961  0.6901961 ]\n",
      "   ...\n",
      "   [0.62352943 0.62352943 0.62352943]\n",
      "   [0.627451   0.627451   0.627451  ]\n",
      "   [0.60000002 0.60000002 0.60000002]]\n",
      "\n",
      "  [[0.67450982 0.67450982 0.67450982]\n",
      "   [0.6901961  0.6901961  0.6901961 ]\n",
      "   [0.70588237 0.70588237 0.70588237]\n",
      "   ...\n",
      "   [0.6156863  0.6156863  0.6156863 ]\n",
      "   [0.64313728 0.64313728 0.64313728]\n",
      "   [0.60392159 0.60392159 0.60392159]]\n",
      "\n",
      "  ...\n",
      "\n",
      "  [[0.32156864 0.32156864 0.32156864]\n",
      "   [0.34901962 0.34901962 0.34901962]\n",
      "   [0.32941177 0.32941177 0.32941177]\n",
      "   ...\n",
      "   [0.24313727 0.24313727 0.24313727]\n",
      "   [0.24705884 0.24705884 0.24705884]\n",
      "   [0.25098041 0.25098041 0.25098041]]\n",
      "\n",
      "  [[0.31764707 0.31764707 0.31764707]\n",
      "   [0.33333334 0.33333334 0.33333334]\n",
      "   [0.33725491 0.33725491 0.33725491]\n",
      "   ...\n",
      "   [0.23529413 0.23529413 0.23529413]\n",
      "   [0.24313727 0.24313727 0.24313727]\n",
      "   [0.23529413 0.23529413 0.23529413]]\n",
      "\n",
      "  [[0.32941177 0.32941177 0.32941177]\n",
      "   [0.31764707 0.31764707 0.31764707]\n",
      "   [0.34117648 0.34117648 0.34117648]\n",
      "   ...\n",
      "   [0.22352943 0.22352943 0.22352943]\n",
      "   [0.23529413 0.23529413 0.23529413]\n",
      "   [0.22352943 0.22352943 0.22352943]]]\n",
      "\n",
      "\n",
      " [[[0.67843139 0.67843139 0.67843139]\n",
      "   [0.69411767 0.69411767 0.69411767]\n",
      "   [0.70588237 0.70588237 0.70588237]\n",
      "   ...\n",
      "   [0.627451   0.627451   0.627451  ]\n",
      "   [0.58823532 0.58823532 0.58823532]\n",
      "   [0.58823532 0.58823532 0.58823532]]\n",
      "\n",
      "  [[0.70980394 0.70980394 0.70980394]\n",
      "   [0.68235296 0.68235296 0.68235296]\n",
      "   [0.69411767 0.69411767 0.69411767]\n",
      "   ...\n",
      "   [0.60000002 0.60000002 0.60000002]\n",
      "   [0.60784316 0.60784316 0.60784316]\n",
      "   [0.60784316 0.60784316 0.60784316]]\n",
      "\n",
      "  [[0.69803923 0.69803923 0.69803923]\n",
      "   [0.68627453 0.68627453 0.68627453]\n",
      "   [0.6901961  0.6901961  0.6901961 ]\n",
      "   ...\n",
      "   [0.63529414 0.63529414 0.63529414]\n",
      "   [0.61960787 0.61960787 0.61960787]\n",
      "   [0.58431375 0.58431375 0.58431375]]\n",
      "\n",
      "  ...\n",
      "\n",
      "  [[0.32156864 0.32156864 0.32156864]\n",
      "   [0.34117648 0.34117648 0.34117648]\n",
      "   [0.32941177 0.32941177 0.32941177]\n",
      "   ...\n",
      "   [0.25490198 0.25490198 0.25490198]\n",
      "   [0.24705884 0.24705884 0.24705884]\n",
      "   [0.24313727 0.24313727 0.24313727]]\n",
      "\n",
      "  [[0.33333334 0.33333334 0.33333334]\n",
      "   [0.35686275 0.35686275 0.35686275]\n",
      "   [0.3137255  0.3137255  0.3137255 ]\n",
      "   ...\n",
      "   [0.2392157  0.2392157  0.2392157 ]\n",
      "   [0.25098041 0.25098041 0.25098041]\n",
      "   [0.24705884 0.24705884 0.24705884]]\n",
      "\n",
      "  [[0.34117648 0.34117648 0.34117648]\n",
      "   [0.33333334 0.33333334 0.33333334]\n",
      "   [0.32941177 0.32941177 0.32941177]\n",
      "   ...\n",
      "   [0.23137257 0.23137257 0.23137257]\n",
      "   [0.2392157  0.2392157  0.2392157 ]\n",
      "   [0.23529413 0.23529413 0.23529413]]]]\n"
     ]
    }
   ],
   "source": [
    "single_data= images_in_batch[1]\n",
    "print(single_data)"
   ]
  },
  {
   "cell_type": "code",
   "execution_count": 13,
   "metadata": {},
   "outputs": [
    {
     "name": "stdout",
     "output_type": "stream",
     "text": [
      "(32, 160, 128, 3)\n"
     ]
    }
   ],
   "source": [
    "print(images_in_batch[0].shape)"
   ]
  },
  {
   "cell_type": "code",
   "execution_count": 14,
   "metadata": {},
   "outputs": [
    {
     "name": "stdout",
     "output_type": "stream",
     "text": [
      "(160, 128, 3)\n"
     ]
    }
   ],
   "source": [
    "print(single_img.shape)"
   ]
  },
  {
   "cell_type": "code",
   "execution_count": 15,
   "metadata": {},
   "outputs": [
    {
     "name": "stdout",
     "output_type": "stream",
     "text": [
      "[[[0.74117649 0.74117649 0.74117649]\n",
      "  [0.71372551 0.71372551 0.71372551]\n",
      "  [0.73725492 0.73725492 0.73725492]\n",
      "  ...\n",
      "  [0.54509807 0.54509807 0.54509807]\n",
      "  [0.54901963 0.54901963 0.54901963]\n",
      "  [0.54509807 0.54509807 0.54509807]]\n",
      "\n",
      " [[0.74117649 0.74117649 0.74117649]\n",
      "  [0.72549021 0.72549021 0.72549021]\n",
      "  [0.72941178 0.72941178 0.72941178]\n",
      "  ...\n",
      "  [0.57254905 0.57254905 0.57254905]\n",
      "  [0.5529412  0.5529412  0.5529412 ]\n",
      "  [0.55686277 0.55686277 0.55686277]]\n",
      "\n",
      " [[0.74509805 0.74509805 0.74509805]\n",
      "  [0.73333335 0.73333335 0.73333335]\n",
      "  [0.74901962 0.74901962 0.74901962]\n",
      "  ...\n",
      "  [0.57647061 0.57647061 0.57647061]\n",
      "  [0.54509807 0.54509807 0.54509807]\n",
      "  [0.54509807 0.54509807 0.54509807]]\n",
      "\n",
      " ...\n",
      "\n",
      " [[0.34117648 0.34117648 0.34117648]\n",
      "  [0.32941177 0.32941177 0.32941177]\n",
      "  [0.33333334 0.33333334 0.33333334]\n",
      "  ...\n",
      "  [0.227451   0.227451   0.227451  ]\n",
      "  [0.22352943 0.22352943 0.22352943]\n",
      "  [0.22352943 0.22352943 0.22352943]]\n",
      "\n",
      " [[0.32549021 0.32549021 0.32549021]\n",
      "  [0.34901962 0.34901962 0.34901962]\n",
      "  [0.33725491 0.33725491 0.33725491]\n",
      "  ...\n",
      "  [0.24313727 0.24313727 0.24313727]\n",
      "  [0.22352943 0.22352943 0.22352943]\n",
      "  [0.227451   0.227451   0.227451  ]]\n",
      "\n",
      " [[0.34117648 0.34117648 0.34117648]\n",
      "  [0.32549021 0.32549021 0.32549021]\n",
      "  [0.34509805 0.34509805 0.34509805]\n",
      "  ...\n",
      "  [0.227451   0.227451   0.227451  ]\n",
      "  [0.21176472 0.21176472 0.21176472]\n",
      "  [0.21176472 0.21176472 0.21176472]]]\n"
     ]
    }
   ],
   "source": [
    "print(single_img)"
   ]
  },
  {
   "cell_type": "code",
   "execution_count": null,
   "metadata": {},
   "outputs": [],
   "source": []
  }
 ],
 "metadata": {
  "kernelspec": {
   "display_name": "Python 3",
   "language": "python",
   "name": "python3"
  },
  "language_info": {
   "codemirror_mode": {
    "name": "ipython",
    "version": 3
   },
   "file_extension": ".py",
   "mimetype": "text/x-python",
   "name": "python",
   "nbconvert_exporter": "python",
   "pygments_lexer": "ipython3",
   "version": "3.8.10"
  },
  "orig_nbformat": 4,
  "vscode": {
   "interpreter": {
    "hash": "916dbcbb3f70747c44a77c7bcd40155683ae19c65e1c03b4aa3499c5328201f1"
   }
  }
 },
 "nbformat": 4,
 "nbformat_minor": 2
}
