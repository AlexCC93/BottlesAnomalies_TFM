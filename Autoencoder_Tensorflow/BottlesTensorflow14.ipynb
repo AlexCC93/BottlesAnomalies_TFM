{
 "cells": [
  {
   "cell_type": "code",
   "execution_count": 1,
   "metadata": {},
   "outputs": [],
   "source": [
    "from tensorflow.keras.models import Sequential, Model\n",
    "from tensorflow.keras.layers import *\n",
    "from tensorflow.keras.preprocessing.image import ImageDataGenerator\n",
    "from tensorflow import keras\n",
    "import tensorflow as tf\n",
    "# from keras import layers\n",
    "\n",
    "\n",
    "from tensorflow.keras.optimizers import Adam, RMSprop\n",
    "from tensorflow.keras.preprocessing import image\n",
    "\n",
    "import tensorflow.keras.backend as K\n",
    "\n",
    "\n",
    "from PIL import Image\n",
    "import matplotlib.pyplot as plt\n",
    "import numpy as np\n",
    "import random\n",
    "\n"
   ]
  },
  {
   "cell_type": "code",
   "execution_count": 2,
   "metadata": {},
   "outputs": [
    {
     "name": "stdout",
     "output_type": "stream",
     "text": [
      "Num GPUs Available:  1\n"
     ]
    },
    {
     "name": "stderr",
     "output_type": "stream",
     "text": [
      "2023-06-05 20:11:44.821293: I tensorflow/stream_executor/platform/default/dso_loader.cc:44] Successfully opened dynamic library libcuda.so.1\n",
      "2023-06-05 20:11:44.858505: I tensorflow/stream_executor/cuda/cuda_gpu_executor.cc:981] successful NUMA node read from SysFS had negative value (-1), but there must be at least one NUMA node, so returning NUMA node zero\n",
      "2023-06-05 20:11:44.858833: I tensorflow/core/common_runtime/gpu/gpu_device.cc:1561] Found device 0 with properties: \n",
      "pciBusID: 0000:01:00.0 name: NVIDIA GeForce RTX 2080 with Max-Q Design computeCapability: 7.5\n",
      "coreClock: 1.23GHz coreCount: 46 deviceMemorySize: 7.79GiB deviceMemoryBandwidth: 357.69GiB/s\n",
      "2023-06-05 20:11:44.859016: I tensorflow/stream_executor/platform/default/dso_loader.cc:44] Successfully opened dynamic library libcudart.so.10.1\n",
      "2023-06-05 20:11:44.860297: I tensorflow/stream_executor/platform/default/dso_loader.cc:44] Successfully opened dynamic library libcublas.so.10\n",
      "2023-06-05 20:11:44.861505: I tensorflow/stream_executor/platform/default/dso_loader.cc:44] Successfully opened dynamic library libcufft.so.10\n",
      "2023-06-05 20:11:44.861737: I tensorflow/stream_executor/platform/default/dso_loader.cc:44] Successfully opened dynamic library libcurand.so.10\n",
      "2023-06-05 20:11:44.863153: I tensorflow/stream_executor/platform/default/dso_loader.cc:44] Successfully opened dynamic library libcusolver.so.10\n",
      "2023-06-05 20:11:44.863893: I tensorflow/stream_executor/platform/default/dso_loader.cc:44] Successfully opened dynamic library libcusparse.so.10\n",
      "2023-06-05 20:11:44.866808: I tensorflow/stream_executor/platform/default/dso_loader.cc:44] Successfully opened dynamic library libcudnn.so.7\n",
      "2023-06-05 20:11:44.866903: I tensorflow/stream_executor/cuda/cuda_gpu_executor.cc:981] successful NUMA node read from SysFS had negative value (-1), but there must be at least one NUMA node, so returning NUMA node zero\n",
      "2023-06-05 20:11:44.867281: I tensorflow/stream_executor/cuda/cuda_gpu_executor.cc:981] successful NUMA node read from SysFS had negative value (-1), but there must be at least one NUMA node, so returning NUMA node zero\n",
      "2023-06-05 20:11:44.867568: I tensorflow/core/common_runtime/gpu/gpu_device.cc:1703] Adding visible gpu devices: 0\n"
     ]
    }
   ],
   "source": [
    "physical_devices = tf.config.experimental.list_physical_devices('GPU')\n",
    "if len(physical_devices) == 0:\n",
    "    print(\"Not enough GPU hardware devices available\")\n",
    "else:\n",
    "    config = tf.config.experimental.set_memory_growth(physical_devices[0], True)\n",
    "print(\"Num GPUs Available: \", len(physical_devices))"
   ]
  },
  {
   "cell_type": "code",
   "execution_count": 3,
   "metadata": {},
   "outputs": [],
   "source": [
    "# tf.debugging.set_log_device_placement(True)       # Will print the log information of every execution of tensorflow, mainly about "
   ]
  },
  {
   "cell_type": "code",
   "execution_count": 4,
   "metadata": {},
   "outputs": [],
   "source": [
    "#Size of our input images\n",
    "# SIZE = 128        # It was this value at the beginning, but the image display was poor. \n",
    "SIZE = 224\n",
    "# SIZE = 228          # It was 224, but in order for the current autoencoder model configuration work adequately, we changed it 228"
   ]
  },
  {
   "attachments": {},
   "cell_type": "markdown",
   "metadata": {},
   "source": [
    "# Setting the training and testing datasets "
   ]
  },
  {
   "attachments": {},
   "cell_type": "markdown",
   "metadata": {},
   "source": [
    "ImageDataGenerator.flow_from_directory: Takes the path to a directory and generates batches of augmented data."
   ]
  },
  {
   "cell_type": "code",
   "execution_count": 5,
   "metadata": {},
   "outputs": [
    {
     "name": "stdout",
     "output_type": "stream",
     "text": [
      "Found 179 images belonging to 1 classes.\n"
     ]
    }
   ],
   "source": [
    "# batch_size = 64\n",
    "batch_size = 32\n",
    "datagen = ImageDataGenerator(rescale=1./255) # Typically used for data augmentation. Here it is only rescaling the image pixels value to range 0 to 1 in decimals\n",
    "\n",
    "train_generator = datagen.flow_from_directory(\n",
    "    \"../../Images/BottleStoodUp_atNight/Positive/\",         # For home laptop\n",
    "    # \"../../../BottleStoodUp_atNight/Positive/\",          # For work laptop\n",
    "    target_size=(SIZE, SIZE),\n",
    "    batch_size=batch_size,\n",
    "    shuffle = False,\n",
    "    class_mode='input'          # Class used for working with Autoencoders\n",
    "    \n",
    "    )"
   ]
  },
  {
   "cell_type": "code",
   "execution_count": 6,
   "metadata": {},
   "outputs": [
    {
     "name": "stdout",
     "output_type": "stream",
     "text": [
      "Found 30 images belonging to 1 classes.\n"
     ]
    }
   ],
   "source": [
    "validation_generator = datagen.flow_from_directory(\n",
    "    \"../../Images/BottleStoodUp_atNight/Positive_val/\",     # For home laptop\n",
    "    # \"../../../BottleStoodUp_atNight/Positive_val/\",           # For work lpatop   \n",
    "    target_size=(SIZE, SIZE),\n",
    "    batch_size=batch_size,\n",
    "    shuffle = False,\n",
    "    class_mode='input'\n",
    "    )\n"
   ]
  },
  {
   "cell_type": "code",
   "execution_count": 7,
   "metadata": {},
   "outputs": [
    {
     "name": "stdout",
     "output_type": "stream",
     "text": [
      "Found 6 images belonging to 1 classes.\n"
     ]
    }
   ],
   "source": [
    "anomaly_generator = datagen.flow_from_directory(\n",
    "    \"../../Images/BottleStoodUp_atNight/Anomalies2.0/\",         # For home laptop\n",
    "    # \"../../../BottleStoodUp_atNight/Anomalies2.0/\",           # For work lpatpo\n",
    "    target_size=(SIZE, SIZE),\n",
    "    batch_size=batch_size,\n",
    "    shuffle = False,\n",
    "    class_mode='input'\n",
    "    )\n"
   ]
  },
  {
   "cell_type": "code",
   "execution_count": 8,
   "metadata": {},
   "outputs": [
    {
     "name": "stdout",
     "output_type": "stream",
     "text": [
      "Found 30 images belonging to 2 classes.\n"
     ]
    }
   ],
   "source": [
    "test_set_generator = datagen.flow_from_directory(\n",
    "    \"../../Images/BottleStoodUp_atNight/Evaluation/\",       # For home laptop\n",
    "    # \"../../../BottleStoodUp_atNight/Evaluation/\",             # For work laptop  \n",
    "    target_size=(SIZE, SIZE),\n",
    "    batch_size=batch_size,\n",
    "    shuffle = False,\n",
    "    class_mode='binary'\n",
    "    )\n"
   ]
  },
  {
   "attachments": {},
   "cell_type": "markdown",
   "metadata": {},
   "source": [
    "# Showing one sample of the training set images"
   ]
  },
  {
   "attachments": {},
   "cell_type": "markdown",
   "metadata": {},
   "source": [
    "Grabbing only one image of one batch of the training set."
   ]
  },
  {
   "cell_type": "code",
   "execution_count": 9,
   "metadata": {},
   "outputs": [
    {
     "name": "stdout",
     "output_type": "stream",
     "text": [
      "<class 'numpy.ndarray'>\n",
      "32\n"
     ]
    },
    {
     "name": "stderr",
     "output_type": "stream",
     "text": [
      "2023-06-05 20:11:45.716309: I tensorflow/core/platform/cpu_feature_guard.cc:143] Your CPU supports instructions that this TensorFlow binary was not compiled to use: AVX2 FMA\n",
      "2023-06-05 20:11:45.720338: I tensorflow/core/platform/profile_utils/cpu_utils.cc:102] CPU Frequency: 2599990000 Hz\n",
      "2023-06-05 20:11:45.720624: I tensorflow/compiler/xla/service/service.cc:168] XLA service 0x7f4d00000b90 initialized for platform Host (this does not guarantee that XLA will be used). Devices:\n",
      "2023-06-05 20:11:45.720636: I tensorflow/compiler/xla/service/service.cc:176]   StreamExecutor device (0): Host, Default Version\n",
      "2023-06-05 20:11:45.796253: I tensorflow/stream_executor/cuda/cuda_gpu_executor.cc:981] successful NUMA node read from SysFS had negative value (-1), but there must be at least one NUMA node, so returning NUMA node zero\n",
      "2023-06-05 20:11:45.796659: I tensorflow/compiler/xla/service/service.cc:168] XLA service 0x526ec50 initialized for platform CUDA (this does not guarantee that XLA will be used). Devices:\n",
      "2023-06-05 20:11:45.796674: I tensorflow/compiler/xla/service/service.cc:176]   StreamExecutor device (0): NVIDIA GeForce RTX 2080 with Max-Q Design, Compute Capability 7.5\n",
      "2023-06-05 20:11:45.796813: I tensorflow/stream_executor/cuda/cuda_gpu_executor.cc:981] successful NUMA node read from SysFS had negative value (-1), but there must be at least one NUMA node, so returning NUMA node zero\n",
      "2023-06-05 20:11:45.797119: I tensorflow/core/common_runtime/gpu/gpu_device.cc:1561] Found device 0 with properties: \n",
      "pciBusID: 0000:01:00.0 name: NVIDIA GeForce RTX 2080 with Max-Q Design computeCapability: 7.5\n",
      "coreClock: 1.23GHz coreCount: 46 deviceMemorySize: 7.79GiB deviceMemoryBandwidth: 357.69GiB/s\n",
      "2023-06-05 20:11:45.797147: I tensorflow/stream_executor/platform/default/dso_loader.cc:44] Successfully opened dynamic library libcudart.so.10.1\n",
      "2023-06-05 20:11:45.797159: I tensorflow/stream_executor/platform/default/dso_loader.cc:44] Successfully opened dynamic library libcublas.so.10\n",
      "2023-06-05 20:11:45.797169: I tensorflow/stream_executor/platform/default/dso_loader.cc:44] Successfully opened dynamic library libcufft.so.10\n",
      "2023-06-05 20:11:45.797179: I tensorflow/stream_executor/platform/default/dso_loader.cc:44] Successfully opened dynamic library libcurand.so.10\n",
      "2023-06-05 20:11:45.797188: I tensorflow/stream_executor/platform/default/dso_loader.cc:44] Successfully opened dynamic library libcusolver.so.10\n",
      "2023-06-05 20:11:45.797198: I tensorflow/stream_executor/platform/default/dso_loader.cc:44] Successfully opened dynamic library libcusparse.so.10\n",
      "2023-06-05 20:11:45.797208: I tensorflow/stream_executor/platform/default/dso_loader.cc:44] Successfully opened dynamic library libcudnn.so.7\n",
      "2023-06-05 20:11:45.797253: I tensorflow/stream_executor/cuda/cuda_gpu_executor.cc:981] successful NUMA node read from SysFS had negative value (-1), but there must be at least one NUMA node, so returning NUMA node zero\n",
      "2023-06-05 20:11:45.797576: I tensorflow/stream_executor/cuda/cuda_gpu_executor.cc:981] successful NUMA node read from SysFS had negative value (-1), but there must be at least one NUMA node, so returning NUMA node zero\n",
      "2023-06-05 20:11:45.797862: I tensorflow/core/common_runtime/gpu/gpu_device.cc:1703] Adding visible gpu devices: 0\n",
      "2023-06-05 20:11:45.797891: I tensorflow/stream_executor/platform/default/dso_loader.cc:44] Successfully opened dynamic library libcudart.so.10.1\n",
      "2023-06-05 20:11:45.798274: I tensorflow/core/common_runtime/gpu/gpu_device.cc:1102] Device interconnect StreamExecutor with strength 1 edge matrix:\n",
      "2023-06-05 20:11:45.798283: I tensorflow/core/common_runtime/gpu/gpu_device.cc:1108]      0 \n",
      "2023-06-05 20:11:45.798287: I tensorflow/core/common_runtime/gpu/gpu_device.cc:1121] 0:   N \n",
      "2023-06-05 20:11:45.798364: I tensorflow/stream_executor/cuda/cuda_gpu_executor.cc:981] successful NUMA node read from SysFS had negative value (-1), but there must be at least one NUMA node, so returning NUMA node zero\n",
      "2023-06-05 20:11:45.798744: I tensorflow/stream_executor/cuda/cuda_gpu_executor.cc:981] successful NUMA node read from SysFS had negative value (-1), but there must be at least one NUMA node, so returning NUMA node zero\n",
      "2023-06-05 20:11:45.799048: I tensorflow/core/common_runtime/gpu/gpu_device.cc:1247] Created TensorFlow device (/job:localhost/replica:0/task:0/device:GPU:0 with 6737 MB memory) -> physical GPU (device: 0, name: NVIDIA GeForce RTX 2080 with Max-Q Design, pci bus id: 0000:01:00.0, compute capability: 7.5)\n"
     ]
    },
    {
     "name": "stdout",
     "output_type": "stream",
     "text": [
      "tf.Tensor(0.0, shape=(), dtype=float32) tf.Tensor(1.0, shape=(), dtype=float32)\n"
     ]
    }
   ],
   "source": [
    "images_in_batch = next(train_generator)[0]\n",
    "print(type(images_in_batch))\n",
    "print(len(images_in_batch))\n",
    "print(tf.reduce_min(images_in_batch), tf.reduce_max(images_in_batch))"
   ]
  },
  {
   "cell_type": "code",
   "execution_count": 10,
   "metadata": {},
   "outputs": [
    {
     "data": {
      "text/plain": [
       "<matplotlib.image.AxesImage at 0x7f4d90127fd0>"
      ]
     },
     "execution_count": 10,
     "metadata": {},
     "output_type": "execute_result"
    },
    {
     "data": {
      "image/png": "[encoded data removed]",
      "text/plain": [
       "<Figure size 640x480 with 1 Axes>"
      ]
     },
     "metadata": {},
     "output_type": "display_data"
    }
   ],
   "source": [
    "single_img = images_in_batch[0]\n",
    "plt.imshow(single_img)"
   ]
  },
  {
   "attachments": {},
   "cell_type": "markdown",
   "metadata": {},
   "source": [
    "# Configuring the Autoencoder netwrok"
   ]
  },
  {
   "cell_type": "code",
   "execution_count": 11,
   "metadata": {},
   "outputs": [
    {
     "name": "stdout",
     "output_type": "stream",
     "text": [
      "(None, 14, 14, 1)\n",
      "(None, 98)\n",
      "Model: \"model\"\n",
      "_________________________________________________________________\n",
      "Layer (type)                 Output Shape              Param #   \n",
      "=================================================================\n",
      "input_1 (InputLayer)         [(None, 224, 224, 3)]     0         \n",
      "_________________________________________________________________\n",
      "conv2d (Conv2D)              (None, 224, 224, 64)      1792      \n",
      "_________________________________________________________________\n",
      "max_pooling2d (MaxPooling2D) (None, 112, 112, 64)      0         \n",
      "_________________________________________________________________\n",
      "conv2d_1 (Conv2D)            (None, 112, 112, 32)      18464     \n",
      "_________________________________________________________________\n",
      "max_pooling2d_1 (MaxPooling2 (None, 56, 56, 32)        0         \n",
      "_________________________________________________________________\n",
      "conv2d_2 (Conv2D)            (None, 56, 56, 16)        4624      \n",
      "_________________________________________________________________\n",
      "max_pooling2d_2 (MaxPooling2 (None, 28, 28, 16)        0         \n",
      "_________________________________________________________________\n",
      "conv2d_3 (Conv2D)            (None, 28, 28, 4)         580       \n",
      "_________________________________________________________________\n",
      "max_pooling2d_3 (MaxPooling2 (None, 14, 14, 4)         0         \n",
      "_________________________________________________________________\n",
      "conv2d_4 (Conv2D)            (None, 14, 14, 1)         37        \n",
      "_________________________________________________________________\n",
      "flatten (Flatten)            (None, 196)               0         \n",
      "_________________________________________________________________\n",
      "dense (Dense)                (None, 196)               38612     \n",
      "_________________________________________________________________\n",
      "dense_1 (Dense)              (None, 98)                19306     \n",
      "=================================================================\n",
      "Total params: 83,415\n",
      "Trainable params: 83,415\n",
      "Non-trainable params: 0\n",
      "_________________________________________________________________\n"
     ]
    }
   ],
   "source": [
    "latent_dim = 98  # Number of latent dimension parameters\n",
    "\n",
    "input_img = Input(shape=(SIZE, SIZE, 3))\n",
    "x = Conv2D(64, (3, 3), activation='relu', padding='same')(input_img)\n",
    "x = MaxPooling2D((2, 2), padding='same')(x)\n",
    "x = Conv2D(32, (3, 3), activation='relu', padding='same')(x)\n",
    "x = MaxPool2D( (2, 2), padding='same')(x)\n",
    "x = Conv2D(16, (3, 3), activation='relu', padding='same')(x)\n",
    "x = MaxPool2D( (2, 2), padding='same')(x)\n",
    "\n",
    "x = Conv2D(4, (3, 3), activation='relu', padding='same')(x)\n",
    "x = MaxPool2D( (2, 2), padding='same')(x)\n",
    "x = Conv2D(1, (3, 3), activation='relu', padding='same')(x)\n",
    "\n",
    "shape_before_flattening = K.int_shape(x)\n",
    "print(shape_before_flattening)\n",
    "x = Flatten()(x)\n",
    "x = Dense(196, activation='relu')(x)\n",
    "\n",
    "Z = Dense(latent_dim)(x)\n",
    "print(K.int_shape(Z))\n",
    "\n",
    "encoder = Model(input_img,Z)\n",
    "encoder.summary()"
   ]
  },
  {
   "cell_type": "code",
   "execution_count": 12,
   "metadata": {},
   "outputs": [
    {
     "name": "stdout",
     "output_type": "stream",
     "text": [
      "Model: \"model_1\"\n",
      "_________________________________________________________________\n",
      "Layer (type)                 Output Shape              Param #   \n",
      "=================================================================\n",
      "input_2 (InputLayer)         [(None, 98)]              0         \n",
      "_________________________________________________________________\n",
      "intermediate_decoder (Dense) (None, 784)               77616     \n",
      "_________________________________________________________________\n",
      "original_decoder (Dense)     (None, 784)               615440    \n",
      "_________________________________________________________________\n",
      "reshape (Reshape)            (None, 14, 14, 4)         0         \n",
      "_________________________________________________________________\n",
      "conv2d_transpose (Conv2DTran (None, 14, 14, 3)         111       \n",
      "_________________________________________________________________\n",
      "up_sampling2d (UpSampling2D) (None, 28, 28, 3)         0         \n",
      "_________________________________________________________________\n",
      "conv2d_transpose_1 (Conv2DTr (None, 28, 28, 3)         84        \n",
      "_________________________________________________________________\n",
      "up_sampling2d_1 (UpSampling2 (None, 56, 56, 3)         0         \n",
      "_________________________________________________________________\n",
      "conv2d_transpose_2 (Conv2DTr (None, 56, 56, 3)         84        \n",
      "_________________________________________________________________\n",
      "up_sampling2d_2 (UpSampling2 (None, 112, 112, 3)       0         \n",
      "_________________________________________________________________\n",
      "conv2d_transpose_3 (Conv2DTr (None, 112, 112, 3)       84        \n",
      "_________________________________________________________________\n",
      "up_sampling2d_3 (UpSampling2 (None, 224, 224, 3)       0         \n",
      "=================================================================\n",
      "Total params: 693,419\n",
      "Trainable params: 693,419\n",
      "Non-trainable params: 0\n",
      "_________________________________________________________________\n"
     ]
    }
   ],
   "source": [
    "# decoder takes the latent distribution sample as input\n",
    "decoder_input = Input(K.int_shape(Z)[1:])\n",
    "x = Dense(14*14*4, activation='relu', name=\"intermediate_decoder\", input_shape=(latent_dim,))(decoder_input)\n",
    "# Expand to 784 total pixels\n",
    "x = Dense(784, activation='sigmoid', name=\"original_decoder\")(x)\n",
    "x = Reshape((14,14,4),input_shape=(784,))(x)\n",
    "\n",
    "x = Conv2DTranspose(3, (3, 3), padding='same')(x)\n",
    "x = UpSampling2D( (2, 2))(x)\n",
    "x = Conv2DTranspose(3, (3, 3), padding='same')(x)\n",
    "x = UpSampling2D( (2, 2))(x)\n",
    "x = Conv2DTranspose(3, (3, 3), padding='same')(x)\n",
    "x = UpSampling2D( (2, 2))(x)\n",
    "x = Conv2DTranspose(3, (3, 3), padding='same')(x)\n",
    "x = UpSampling2D( (2, 2))(x)\n",
    "\n",
    "# decoder model statement\n",
    "decoder = Model(decoder_input, x)\n",
    "\n",
    "# apply the decoder to the sample from the latent distribution\n",
    "z_decoded = decoder(Z)\n",
    "\n",
    "decoder.summary()"
   ]
  },
  {
   "cell_type": "code",
   "execution_count": 13,
   "metadata": {},
   "outputs": [
    {
     "name": "stdout",
     "output_type": "stream",
     "text": [
      "Model: \"model_2\"\n",
      "_________________________________________________________________\n",
      "Layer (type)                 Output Shape              Param #   \n",
      "=================================================================\n",
      "input_1 (InputLayer)         [(None, 224, 224, 3)]     0         \n",
      "_________________________________________________________________\n",
      "conv2d (Conv2D)              (None, 224, 224, 64)      1792      \n",
      "_________________________________________________________________\n",
      "max_pooling2d (MaxPooling2D) (None, 112, 112, 64)      0         \n",
      "_________________________________________________________________\n",
      "conv2d_1 (Conv2D)            (None, 112, 112, 32)      18464     \n",
      "_________________________________________________________________\n",
      "max_pooling2d_1 (MaxPooling2 (None, 56, 56, 32)        0         \n",
      "_________________________________________________________________\n",
      "conv2d_2 (Conv2D)            (None, 56, 56, 16)        4624      \n",
      "_________________________________________________________________\n",
      "max_pooling2d_2 (MaxPooling2 (None, 28, 28, 16)        0         \n",
      "_________________________________________________________________\n",
      "conv2d_3 (Conv2D)            (None, 28, 28, 4)         580       \n",
      "_________________________________________________________________\n",
      "max_pooling2d_3 (MaxPooling2 (None, 14, 14, 4)         0         \n",
      "_________________________________________________________________\n",
      "conv2d_4 (Conv2D)            (None, 14, 14, 1)         37        \n",
      "_________________________________________________________________\n",
      "flatten (Flatten)            (None, 196)               0         \n",
      "_________________________________________________________________\n",
      "dense (Dense)                (None, 196)               38612     \n",
      "_________________________________________________________________\n",
      "dense_1 (Dense)              (None, 98)                19306     \n",
      "_________________________________________________________________\n",
      "model_1 (Model)              (None, 224, 224, 3)       693419    \n",
      "=================================================================\n",
      "Total params: 776,834\n",
      "Trainable params: 776,834\n",
      "Non-trainable params: 0\n",
      "_________________________________________________________________\n"
     ]
    }
   ],
   "source": [
    "# VAE model statement\n",
    "ae = Model(input_img,z_decoded)\n",
    "ae.compile(optimizer='adam', loss='mean_squared_error')\n",
    "\n",
    "ae.summary()"
   ]
  },
  {
   "attachments": {},
   "cell_type": "markdown",
   "metadata": {},
   "source": [
    "These are the weights of a specific layer of the encoder model, before training are:"
   ]
  },
  {
   "cell_type": "code",
   "execution_count": 14,
   "metadata": {},
   "outputs": [
    {
     "name": "stdout",
     "output_type": "stream",
     "text": [
      "quantity of layers in the model:  13\n",
      "The weigths in the conv2d is:  [<tf.Variable 'conv2d/kernel:0' shape=(3, 3, 3, 64) dtype=float32, numpy=\n",
      "array([[[[ 0.03647858, -0.05644528, -0.00746322, ...,  0.04459821,\n",
      "          -0.01579977,  0.05048697],\n",
      "         [-0.01945338,  0.07180317,  0.03254902, ..., -0.03740717,\n",
      "          -0.03480368, -0.09572487],\n",
      "         [-0.0077675 ,  0.05179042, -0.08589911, ...,  0.09070784,\n",
      "           0.07565127,  0.08238222]],\n",
      "\n",
      "        [[ 0.07277566, -0.02356073, -0.09872427, ...,  0.02331703,\n",
      "          -0.07352096,  0.06482869],\n",
      "         [ 0.03049348,  0.04634872,  0.04832618, ..., -0.01268025,\n",
      "          -0.02604573, -0.01408943],\n",
      "         [-0.05130042,  0.05823734,  0.05255575, ..., -0.00818878,\n",
      "           0.01724232, -0.09054136]],\n",
      "\n",
      "        [[ 0.08021908, -0.04201766,  0.06597124, ...,  0.0286098 ,\n",
      "          -0.0675361 ,  0.05073497],\n",
      "         [ 0.03202513, -0.09644586,  0.01179906, ...,  0.08690581,\n",
      "           0.08926795, -0.09132016],\n",
      "         [-0.07268491, -0.07549001,  0.0939174 , ..., -0.03965521,\n",
      "           0.09360567,  0.09458376]]],\n",
      "\n",
      "\n",
      "       [[[-0.02423134, -0.06258004, -0.03946483, ...,  0.09959759,\n",
      "           0.01986063,  0.03570549],\n",
      "         [ 0.03942394, -0.06552241,  0.00936098, ...,  0.04212621,\n",
      "          -0.09232878, -0.06547247],\n",
      "         [ 0.0280823 , -0.01617579,  0.02710855, ...,  0.00101884,\n",
      "           0.05516605, -0.00541265]],\n",
      "\n",
      "        [[ 0.06615157,  0.00376574, -0.093625  , ...,  0.09175196,\n",
      "          -0.05234069,  0.07980381],\n",
      "         [-0.02802423, -0.0556641 ,  0.05705076, ..., -0.00337523,\n",
      "          -0.06599838,  0.03371942],\n",
      "         [ 0.00755819,  0.05469656, -0.07458494, ..., -0.04135856,\n",
      "           0.05829418,  0.09214851]],\n",
      "\n",
      "        [[-0.08420768, -0.06031935, -0.0657756 , ..., -0.02571718,\n",
      "          -0.07658806, -0.09208392],\n",
      "         [-0.00315201,  0.07270034, -0.07661211, ..., -0.03669155,\n",
      "          -0.04478186, -0.08220068],\n",
      "         [ 0.02550898, -0.00684652, -0.06411651, ...,  0.04044276,\n",
      "           0.02081563,  0.08206297]]],\n",
      "\n",
      "\n",
      "       [[[ 0.01647638, -0.03727178, -0.0569997 , ..., -0.07244647,\n",
      "           0.00584804,  0.0313469 ],\n",
      "         [ 0.0476481 , -0.04649379, -0.01336751, ..., -0.06459974,\n",
      "           0.06153949,  0.00161954],\n",
      "         [ 0.00063183, -0.06535552, -0.0812124 , ...,  0.099419  ,\n",
      "           0.03852054, -0.00531058]],\n",
      "\n",
      "        [[-0.01386373,  0.05079152,  0.03348376, ...,  0.07570487,\n",
      "           0.08695737,  0.00656051],\n",
      "         [ 0.07815412,  0.01216509,  0.03200078, ...,  0.03189641,\n",
      "          -0.02551943,  0.06371725],\n",
      "         [-0.09026025,  0.0898107 , -0.01581908, ..., -0.01995505,\n",
      "          -0.09243797, -0.00202253]],\n",
      "\n",
      "        [[ 0.0030824 ,  0.08259994,  0.06233749, ...,  0.03719701,\n",
      "          -0.05759911,  0.05983131],\n",
      "         [-0.03704523, -0.06281663, -0.0091597 , ...,  0.08423717,\n",
      "          -0.02284528,  0.09945668],\n",
      "         [ 0.06891938,  0.04790828,  0.0966185 , ...,  0.00985137,\n",
      "           0.09939057,  0.02446385]]]], dtype=float32)>, <tf.Variable 'conv2d/bias:0' shape=(64,) dtype=float32, numpy=\n",
      "array([0., 0., 0., 0., 0., 0., 0., 0., 0., 0., 0., 0., 0., 0., 0., 0., 0.,\n",
      "       0., 0., 0., 0., 0., 0., 0., 0., 0., 0., 0., 0., 0., 0., 0., 0., 0.,\n",
      "       0., 0., 0., 0., 0., 0., 0., 0., 0., 0., 0., 0., 0., 0., 0., 0., 0.,\n",
      "       0., 0., 0., 0., 0., 0., 0., 0., 0., 0., 0., 0., 0.], dtype=float32)>]\n"
     ]
    }
   ],
   "source": [
    "layer_number = 1\n",
    "print(\"quantity of layers in the model: \", len(encoder.layers))\n",
    "print(\"The weigths in the\", encoder.layers[layer_number].name, \"is: \", encoder.layers[layer_number].weights)"
   ]
  },
  {
   "attachments": {},
   "cell_type": "markdown",
   "metadata": {},
   "source": [
    "These are the weights of a specific layer of the decoder model,before training are:"
   ]
  },
  {
   "cell_type": "code",
   "execution_count": 15,
   "metadata": {},
   "outputs": [],
   "source": [
    "# layer_number = 1\n",
    "# print(\"quantity of layers in the model: \", len(decoder.layers))\n",
    "# print(\"The weigths in the\", decoder.layers[layer_number].name, \"is: \", decoder.layers[layer_number].weights)"
   ]
  },
  {
   "attachments": {},
   "cell_type": "markdown",
   "metadata": {},
   "source": [
    "These are the weights of a specific layer of the autoencoder model,before training are:"
   ]
  },
  {
   "cell_type": "code",
   "execution_count": 16,
   "metadata": {},
   "outputs": [],
   "source": [
    "# layer_number = 1\n",
    "# print(\"quantity of layers in the model: \", len(ae.layers))\n",
    "# print(\"The weigths in the\", ae.layers[layer_number].name, \"is: \", ae.layers[layer_number].weights)"
   ]
  },
  {
   "cell_type": "code",
   "execution_count": 17,
   "metadata": {},
   "outputs": [],
   "source": [
    "# from tensorflow.keras.callbacks import EarlyStopping\n",
    "# # run the model\n",
    "# # early_stopping = EarlyStopping(monitor='val_loss', min_delta=0, patience=20, verbose=5, mode='auto')\n",
    "# history = ae.fit(train_generator, epochs=200, validation_data=validation_generator, verbose=1, shuffle = True)"
   ]
  },
  {
   "cell_type": "code",
   "execution_count": 18,
   "metadata": {},
   "outputs": [],
   "source": [
    "\n",
    "# # Get the training and validation loss values from the history object\n",
    "# train_loss = history.history['loss']\n",
    "# val_loss = history.history['val_loss']\n",
    "\n",
    "# # Plot the training and validation loss\n",
    "# epochs = range(1, len(train_loss) + 1)\n",
    "# plt.plot(epochs, train_loss, 'b-', label='Training Loss')\n",
    "# plt.plot(epochs, val_loss, 'r-', label='Validation Loss')\n",
    "# plt.title('Training and Validation Loss')\n",
    "# plt.xlabel('Epochs')\n",
    "# plt.ylabel('Loss')\n",
    "# plt.legend()\n",
    "# plt.show()\n"
   ]
  },
  {
   "cell_type": "code",
   "execution_count": 19,
   "metadata": {},
   "outputs": [
    {
     "name": "stdout",
     "output_type": "stream",
     "text": [
      "ResemblingGoodAutoModel1\n"
     ]
    }
   ],
   "source": [
    "model_version = 'ResemblingGoodAutoModel1'\n",
    "print(model_version)"
   ]
  },
  {
   "cell_type": "code",
   "execution_count": 20,
   "metadata": {},
   "outputs": [],
   "source": [
    "# ae.save(f\"../../BottlesAnomalies_TFM/models/{model_version}\")"
   ]
  },
  {
   "cell_type": "code",
   "execution_count": 21,
   "metadata": {},
   "outputs": [
    {
     "name": "stdout",
     "output_type": "stream",
     "text": [
      "<class 'tensorflow.python.keras.engine.training.Model'>\n"
     ]
    }
   ],
   "source": [
    "print(type(ae))"
   ]
  },
  {
   "attachments": {},
   "cell_type": "markdown",
   "metadata": {},
   "source": [
    "Loading the model that was previously saved\n"
   ]
  },
  {
   "cell_type": "code",
   "execution_count": 22,
   "metadata": {},
   "outputs": [
    {
     "name": "stdout",
     "output_type": "stream",
     "text": [
      "<class 'tensorflow.python.keras.engine.training.Model'>\n"
     ]
    }
   ],
   "source": [
    "model = keras.models.load_model('../models/ResemblingGoodAutoModel1')\n",
    "print(type(model))"
   ]
  },
  {
   "attachments": {},
   "cell_type": "markdown",
   "metadata": {},
   "source": [
    "## See the weights after the model loading"
   ]
  },
  {
   "attachments": {},
   "cell_type": "markdown",
   "metadata": {},
   "source": [
    "These are the weights of a specific layer of the encoder model, AFTER training:"
   ]
  },
  {
   "cell_type": "code",
   "execution_count": 23,
   "metadata": {},
   "outputs": [
    {
     "name": "stdout",
     "output_type": "stream",
     "text": [
      "quantity of layers in the model:  13\n",
      "The weigths in the conv2d is:  [<tf.Variable 'conv2d/kernel:0' shape=(3, 3, 3, 64) dtype=float32, numpy=\n",
      "array([[[[ 0.03647858, -0.05644528, -0.00746322, ...,  0.04459821,\n",
      "          -0.01579977,  0.05048697],\n",
      "         [-0.01945338,  0.07180317,  0.03254902, ..., -0.03740717,\n",
      "          -0.03480368, -0.09572487],\n",
      "         [-0.0077675 ,  0.05179042, -0.08589911, ...,  0.09070784,\n",
      "           0.07565127,  0.08238222]],\n",
      "\n",
      "        [[ 0.07277566, -0.02356073, -0.09872427, ...,  0.02331703,\n",
      "          -0.07352096,  0.06482869],\n",
      "         [ 0.03049348,  0.04634872,  0.04832618, ..., -0.01268025,\n",
      "          -0.02604573, -0.01408943],\n",
      "         [-0.05130042,  0.05823734,  0.05255575, ..., -0.00818878,\n",
      "           0.01724232, -0.09054136]],\n",
      "\n",
      "        [[ 0.08021908, -0.04201766,  0.06597124, ...,  0.0286098 ,\n",
      "          -0.0675361 ,  0.05073497],\n",
      "         [ 0.03202513, -0.09644586,  0.01179906, ...,  0.08690581,\n",
      "           0.08926795, -0.09132016],\n",
      "         [-0.07268491, -0.07549001,  0.0939174 , ..., -0.03965521,\n",
      "           0.09360567,  0.09458376]]],\n",
      "\n",
      "\n",
      "       [[[-0.02423134, -0.06258004, -0.03946483, ...,  0.09959759,\n",
      "           0.01986063,  0.03570549],\n",
      "         [ 0.03942394, -0.06552241,  0.00936098, ...,  0.04212621,\n",
      "          -0.09232878, -0.06547247],\n",
      "         [ 0.0280823 , -0.01617579,  0.02710855, ...,  0.00101884,\n",
      "           0.05516605, -0.00541265]],\n",
      "\n",
      "        [[ 0.06615157,  0.00376574, -0.093625  , ...,  0.09175196,\n",
      "          -0.05234069,  0.07980381],\n",
      "         [-0.02802423, -0.0556641 ,  0.05705076, ..., -0.00337523,\n",
      "          -0.06599838,  0.03371942],\n",
      "         [ 0.00755819,  0.05469656, -0.07458494, ..., -0.04135856,\n",
      "           0.05829418,  0.09214851]],\n",
      "\n",
      "        [[-0.08420768, -0.06031935, -0.0657756 , ..., -0.02571718,\n",
      "          -0.07658806, -0.09208392],\n",
      "         [-0.00315201,  0.07270034, -0.07661211, ..., -0.03669155,\n",
      "          -0.04478186, -0.08220068],\n",
      "         [ 0.02550898, -0.00684652, -0.06411651, ...,  0.04044276,\n",
      "           0.02081563,  0.08206297]]],\n",
      "\n",
      "\n",
      "       [[[ 0.01647638, -0.03727178, -0.0569997 , ..., -0.07244647,\n",
      "           0.00584804,  0.0313469 ],\n",
      "         [ 0.0476481 , -0.04649379, -0.01336751, ..., -0.06459974,\n",
      "           0.06153949,  0.00161954],\n",
      "         [ 0.00063183, -0.06535552, -0.0812124 , ...,  0.099419  ,\n",
      "           0.03852054, -0.00531058]],\n",
      "\n",
      "        [[-0.01386373,  0.05079152,  0.03348376, ...,  0.07570487,\n",
      "           0.08695737,  0.00656051],\n",
      "         [ 0.07815412,  0.01216509,  0.03200078, ...,  0.03189641,\n",
      "          -0.02551943,  0.06371725],\n",
      "         [-0.09026025,  0.0898107 , -0.01581908, ..., -0.01995505,\n",
      "          -0.09243797, -0.00202253]],\n",
      "\n",
      "        [[ 0.0030824 ,  0.08259994,  0.06233749, ...,  0.03719701,\n",
      "          -0.05759911,  0.05983131],\n",
      "         [-0.03704523, -0.06281663, -0.0091597 , ...,  0.08423717,\n",
      "          -0.02284528,  0.09945668],\n",
      "         [ 0.06891938,  0.04790828,  0.0966185 , ...,  0.00985137,\n",
      "           0.09939057,  0.02446385]]]], dtype=float32)>, <tf.Variable 'conv2d/bias:0' shape=(64,) dtype=float32, numpy=\n",
      "array([0., 0., 0., 0., 0., 0., 0., 0., 0., 0., 0., 0., 0., 0., 0., 0., 0.,\n",
      "       0., 0., 0., 0., 0., 0., 0., 0., 0., 0., 0., 0., 0., 0., 0., 0., 0.,\n",
      "       0., 0., 0., 0., 0., 0., 0., 0., 0., 0., 0., 0., 0., 0., 0., 0., 0.,\n",
      "       0., 0., 0., 0., 0., 0., 0., 0., 0., 0., 0., 0., 0.], dtype=float32)>]\n"
     ]
    }
   ],
   "source": [
    "layer_number = 1\n",
    "print(\"quantity of layers in the model: \", len(encoder.layers))\n",
    "print(\"The weigths in the\", encoder.layers[layer_number].name, \"is: \", encoder.layers[layer_number].weights)"
   ]
  },
  {
   "attachments": {},
   "cell_type": "markdown",
   "metadata": {},
   "source": [
    "These are the weights of a specific layer of the Autoencoder model, AFTER training:"
   ]
  },
  {
   "cell_type": "code",
   "execution_count": 24,
   "metadata": {},
   "outputs": [
    {
     "name": "stdout",
     "output_type": "stream",
     "text": [
      "quantity of layers in the model:  14\n",
      "The weigths in the conv2d is:  [<tf.Variable 'conv2d/kernel:0' shape=(3, 3, 3, 64) dtype=float32, numpy=\n",
      "array([[[[-0.06354542, -0.0718592 , -0.02806223, ...,  0.06678934,\n",
      "          -0.0821481 ,  0.01662805],\n",
      "         [-0.08614331,  0.07533826, -0.10461488, ..., -0.01506774,\n",
      "          -0.09995852, -0.03096535],\n",
      "         [-0.09631139,  0.08113249, -0.05807021, ...,  0.07175443,\n",
      "           0.04301379,  0.06503586]],\n",
      "\n",
      "        [[ 0.07838888,  0.08164129,  0.03254025, ..., -0.01769103,\n",
      "          -0.03459752,  0.01767246],\n",
      "         [-0.031467  , -0.00995658,  0.09584064, ...,  0.06090549,\n",
      "           0.04023768, -0.08142138],\n",
      "         [ 0.03956481,  0.01735879, -0.01285171, ...,  0.02099375,\n",
      "          -0.07063777,  0.01085365]],\n",
      "\n",
      "        [[ 0.01088833,  0.05531802,  0.09315495, ...,  0.00489329,\n",
      "          -0.0979104 ,  0.03038216],\n",
      "         [ 0.05498279,  0.0755927 ,  0.04242995, ..., -0.00446055,\n",
      "           0.04560794,  0.06517592],\n",
      "         [-0.07005583, -0.07255838, -0.02093319, ...,  0.02191169,\n",
      "           0.02440218, -0.03239154]]],\n",
      "\n",
      "\n",
      "       [[[ 0.04907981, -0.08513217, -0.06315698, ...,  0.09076321,\n",
      "           0.05912896,  0.08111319],\n",
      "         [ 0.00090986,  0.06562365, -0.03390383, ...,  0.0257418 ,\n",
      "          -0.06034885,  0.06230912],\n",
      "         [-0.00876986,  0.06009355, -0.04662457, ...,  0.025219  ,\n",
      "           0.08330596, -0.08885833]],\n",
      "\n",
      "        [[ 0.04845522, -0.02601486, -0.00717224, ..., -0.09995728,\n",
      "          -0.07897929, -0.00772512],\n",
      "         [-0.08931682, -0.06685474, -0.05502349, ...,  0.00533975,\n",
      "           0.00711674, -0.03112435],\n",
      "         [ 0.05501099, -0.04759203,  0.05403044, ...,  0.07007919,\n",
      "          -0.02746045,  0.08934122]],\n",
      "\n",
      "        [[ 0.11869329,  0.08905061,  0.1409255 , ...,  0.02378943,\n",
      "           0.0482729 ,  0.07834567],\n",
      "         [-0.06100919,  0.0581493 ,  0.07263143, ..., -0.0434022 ,\n",
      "          -0.05103064,  0.0964435 ],\n",
      "         [ 0.09175655,  0.08074825,  0.06781401, ...,  0.02384336,\n",
      "          -0.06147348,  0.09459088]]],\n",
      "\n",
      "\n",
      "       [[[ 0.0462046 , -0.01630515, -0.08193538, ...,  0.09582585,\n",
      "          -0.03253448,  0.08832853],\n",
      "         [-0.08491334, -0.07779376, -0.07579339, ...,  0.08776584,\n",
      "           0.08800618,  0.08556068],\n",
      "         [-0.04039504, -0.07750025, -0.06333445, ...,  0.01970013,\n",
      "           0.04432286,  0.07921124]],\n",
      "\n",
      "        [[-0.01226101, -0.0032195 , -0.02068502, ..., -0.04811263,\n",
      "           0.01392143,  0.05498515],\n",
      "         [-0.04538368, -0.04492519, -0.04870467, ...,  0.03804671,\n",
      "           0.02353279, -0.01249394],\n",
      "         [-0.10746647, -0.03700047, -0.09535853, ...,  0.04357211,\n",
      "           0.10381153,  0.0304654 ]],\n",
      "\n",
      "        [[-0.1068361 , -0.01275534,  0.05087034, ...,  0.02650473,\n",
      "          -0.09315118,  0.07379849],\n",
      "         [-0.00640215, -0.09850998,  0.05859867, ..., -0.01050788,\n",
      "           0.08027786,  0.02446863],\n",
      "         [-0.04694299, -0.05109141,  0.058598  , ...,  0.0485204 ,\n",
      "          -0.01782395, -0.06009937]]]], dtype=float32)>, <tf.Variable 'conv2d/bias:0' shape=(64,) dtype=float32, numpy=\n",
      "array([-0.01634842, -0.02339586,  0.00956612,  0.00251751, -0.04110189,\n",
      "       -0.00268657, -0.03105398, -0.04127843, -0.02163999, -0.04958227,\n",
      "        0.        , -0.01391337,  0.01188575, -0.02550025, -0.02629942,\n",
      "       -0.02080092, -0.02147991, -0.00716209, -0.01729236, -0.03244303,\n",
      "       -0.0350889 ,  0.07041448, -0.03080148, -0.00489005, -0.03585605,\n",
      "        0.        , -0.03737129, -0.02152112, -0.03378838, -0.01341648,\n",
      "       -0.03504817, -0.00024207,  0.        , -0.01858145, -0.02061521,\n",
      "        0.        ,  0.00205573, -0.06731644, -0.05505333, -0.01976741,\n",
      "        0.        , -0.04032758, -0.02197344, -0.00302477, -0.00128562,\n",
      "       -0.02094852,  0.07080689, -0.01728493, -0.01466808, -0.04414487,\n",
      "       -0.01897814, -0.02802968, -0.0092992 , -0.01339568,  0.        ,\n",
      "       -0.02691919, -0.01017822,  0.04475731, -0.03735818, -0.05867451,\n",
      "       -0.00527791, -0.04380135, -0.0300515 , -0.04134042], dtype=float32)>]\n"
     ]
    }
   ],
   "source": [
    "layer_number = 1\n",
    "print(\"quantity of layers in the model: \", len(model.layers))\n",
    "print(\"The weigths in the\", model.layers[layer_number].name, \"is: \", model.layers[layer_number].weights)"
   ]
  },
  {
   "attachments": {},
   "cell_type": "markdown",
   "metadata": {},
   "source": [
    "Indeed the weights of the \"Autoencoder\" model have been updated but the ones from the \"Encoder\" have not. This is expected, since the model that was trained was actually the \"Autoencoder\" mdoel."
   ]
  },
  {
   "attachments": {},
   "cell_type": "markdown",
   "metadata": {},
   "source": [
    "## Perform an Autoencoder reconstruction in one image"
   ]
  },
  {
   "attachments": {},
   "cell_type": "markdown",
   "metadata": {},
   "source": [
    "Get all batches generated by the datagen and pick a batch for prediction"
   ]
  },
  {
   "cell_type": "code",
   "execution_count": 25,
   "metadata": {},
   "outputs": [
    {
     "name": "stdout",
     "output_type": "stream",
     "text": [
      "number of batches are:  6\n"
     ]
    }
   ],
   "source": [
    "#Just to test the model. \n",
    "data_batch = []  #Capture all training batches as a numpy array\n",
    "img_num = 0\n",
    "# while img_num <= train_generator.batch_index:   #gets each generated batch of size batch_size\n",
    "while img_num < len(train_generator):        #I think this should be the correct while clause\n",
    "    data = train_generator.next()\n",
    "    data_batch.append(data[0])\n",
    "    img_num = img_num + 1\n",
    "    \n",
    "print(\"number of batches are: \", img_num)\n"
   ]
  },
  {
   "cell_type": "code",
   "execution_count": 26,
   "metadata": {},
   "outputs": [
    {
     "name": "stdout",
     "output_type": "stream",
     "text": [
      "6\n"
     ]
    }
   ],
   "source": [
    "print(len(data_batch))"
   ]
  },
  {
   "attachments": {},
   "cell_type": "markdown",
   "metadata": {},
   "source": [
    "Predict on the first batch of images. Do also notice that the prediction is being carried out over the images we used for training."
   ]
  },
  {
   "cell_type": "code",
   "execution_count": 27,
   "metadata": {},
   "outputs": [
    {
     "name": "stdout",
     "output_type": "stream",
     "text": [
      "(32, 224, 224, 3)\n"
     ]
    },
    {
     "name": "stderr",
     "output_type": "stream",
     "text": [
      "2023-06-05 20:11:50.095767: I tensorflow/stream_executor/platform/default/dso_loader.cc:44] Successfully opened dynamic library libcublas.so.10\n",
      "2023-06-05 20:11:50.312079: I tensorflow/stream_executor/platform/default/dso_loader.cc:44] Successfully opened dynamic library libcudnn.so.7\n"
     ]
    },
    {
     "name": "stdout",
     "output_type": "stream",
     "text": [
      "(32, 224, 224, 3)\n"
     ]
    }
   ],
   "source": [
    "print(data_batch[0].shape)\n",
    "predicted = model.predict(data_batch[0])  \n",
    "print(predicted.shape)"
   ]
  },
  {
   "attachments": {},
   "cell_type": "markdown",
   "metadata": {},
   "source": [
    "The above is 15 length because it corresponds to the 15 predicted images of a batch. Recall that the predictions are reconstructions of the input images, since we are working with the autoencoder network."
   ]
  },
  {
   "cell_type": "code",
   "execution_count": 28,
   "metadata": {},
   "outputs": [],
   "source": [
    "single_img = data_batch[0][0]"
   ]
  },
  {
   "cell_type": "code",
   "execution_count": 29,
   "metadata": {},
   "outputs": [
    {
     "name": "stdout",
     "output_type": "stream",
     "text": [
      "(224, 224, 3)\n"
     ]
    }
   ],
   "source": [
    "print(single_img.shape)"
   ]
  },
  {
   "cell_type": "code",
   "execution_count": 30,
   "metadata": {},
   "outputs": [
    {
     "name": "stderr",
     "output_type": "stream",
     "text": [
      "Clipping input data to the valid range for imshow with RGB data ([0..1] for floats or [0..255] for integers).\n"
     ]
    },
    {
     "data": {
      "image/png": "[encoded data removed]",
      "text/plain": [
       "<Figure size 1200x600 with 2 Axes>"
      ]
     },
     "metadata": {},
     "output_type": "display_data"
    }
   ],
   "source": [
    "#Sanity check, view few images and corresponding reconstructions\n",
    "image_number = random.randint(0, predicted.shape[0]-1)\n",
    "plt.figure(figsize=(12, 6))\n",
    "plt.subplot(121)\n",
    "plt.title(\"input image\")\n",
    "plt.imshow(data_batch[0][image_number])\n",
    "plt.subplot(122)\n",
    "plt.title(\"reconstructed image\")\n",
    "plt.imshow(predicted[image_number])\n",
    "plt.show()"
   ]
  },
  {
   "attachments": {},
   "cell_type": "markdown",
   "metadata": {},
   "source": [
    "# Quantifying the reconstruction error using \"evaluate_generator()\" function"
   ]
  },
  {
   "attachments": {},
   "cell_type": "markdown",
   "metadata": {},
   "source": [
    "Let us examine the reconstruction error of our validation data (good/normal images) and the anomaly images"
   ]
  },
  {
   "cell_type": "code",
   "execution_count": 31,
   "metadata": {},
   "outputs": [
    {
     "name": "stdout",
     "output_type": "stream",
     "text": [
      "WARNING:tensorflow:From /tmp/ipykernel_23500/2207300971.py:1: Model.evaluate_generator (from tensorflow.python.keras.engine.training) is deprecated and will be removed in a future version.\n",
      "Instructions for updating:\n",
      "Please use Model.evaluate, which supports generators.\n",
      "Recon. error for the validation (normal) data is:  0.003459423780441284\n"
     ]
    }
   ],
   "source": [
    "validation_error = model.evaluate_generator(validation_generator)\n",
    "print(\"Recon. error for the validation (normal) data is: \", validation_error)"
   ]
  },
  {
   "attachments": {},
   "cell_type": "markdown",
   "metadata": {},
   "source": [
    "This reconstruction error above should be very low, since the validation generator is full of normal images (good images)"
   ]
  },
  {
   "attachments": {},
   "cell_type": "markdown",
   "metadata": {},
   "source": [
    "Whereas the reconstruction error here below, for the \"anomaly_generator\" should be higher, since this dataset is comprised of full anomaly images."
   ]
  },
  {
   "cell_type": "code",
   "execution_count": 32,
   "metadata": {},
   "outputs": [
    {
     "name": "stdout",
     "output_type": "stream",
     "text": [
      "Recon. error for the anomaly data is:  0.004173059482127428\n"
     ]
    }
   ],
   "source": [
    "anomaly_error = model.evaluate_generator(anomaly_generator)\n",
    "print(\"Recon. error for the anomaly data is: \", anomaly_error)"
   ]
  },
  {
   "attachments": {},
   "cell_type": "markdown",
   "metadata": {},
   "source": [
    "See that this error is slightly higher than the error in the validation dataset. This is good, but the difference is not that significant and this could result in wrong anomaly detections. Let's see some detections."
   ]
  },
  {
   "attachments": {},
   "cell_type": "markdown",
   "metadata": {},
   "source": [
    "SIDENOTE: Additionally, we can check the train generator error according to the \"evaluate_generator()\" function."
   ]
  },
  {
   "cell_type": "code",
   "execution_count": 33,
   "metadata": {},
   "outputs": [
    {
     "name": "stdout",
     "output_type": "stream",
     "text": [
      "Recon. error for the training (non-anomaly) data is:  0.003719898872077465\n"
     ]
    }
   ],
   "source": [
    "training_error = model.evaluate_generator(train_generator)\n",
    "print(\"Recon. error for the training (non-anomaly) data is: \", training_error)"
   ]
  },
  {
   "attachments": {},
   "cell_type": "markdown",
   "metadata": {},
   "source": [
    "See that the above value does not correspond with the below mean reconstruction error of the training set that will be computed. It should at least be close, I think. This is something to check."
   ]
  },
  {
   "attachments": {},
   "cell_type": "markdown",
   "metadata": {},
   "source": [
    "Also see tha the error from the anomaly images is smaller than the error of the training set, which consists of non-anomaly images. THis is not expected and means that this particular model is shit."
   ]
  },
  {
   "attachments": {},
   "cell_type": "markdown",
   "metadata": {},
   "source": [
    "# Computing the reconstruction error without using the \"evaluate_generator()\" function"
   ]
  },
  {
   "attachments": {},
   "cell_type": "markdown",
   "metadata": {},
   "source": [
    "The following function computes the reconstrution error per each batch of images. It does, for each of the batches:\n",
    "- Initialize a vector for storing the reconstruction errors.\n",
    "- A for loop that traverses all the images contained in a batch.\n",
    "    - Take the one image of the batch.\n",
    "    - Add a new size dimension to the image.\n",
    "    - Make a prediction of the selected image with the model that was built.\n",
    "    - Evaluate the performance of the prediction, i.e. compute the prediction error.\n",
    "    - Append the reconstruction error into a list.\n",
    "- Compute the mean and std deviation of the error.\n",
    " "
   ]
  },
  {
   "cell_type": "code",
   "execution_count": 34,
   "metadata": {},
   "outputs": [],
   "source": [
    "def calc_recon_error(batch_images):   \n",
    "    recon_error_list=[]\n",
    "    for im in range(0, batch_images.shape[0]):\n",
    "        img  = batch_images[im]\n",
    "        img = img[np.newaxis, :,:,:]\n",
    "        reconstruction = model.predict([[img]])\n",
    "        # reconstruction_error = model.evaluate([reconstruction],[[img]], batch_size = 1)[0]    # The batch_size parameter for the moment can be supressed. Results were seen to be the same\n",
    "        # reconstruction_error = model.evaluate([reconstruction],[[img]])[0]                    # It included the [0] subscription but with this new model, the rec error is directly a float value, so no more need for subscription\n",
    "        reconstruction_error = model.evaluate([reconstruction],[[img]])\n",
    "        recon_error_list.append(reconstruction_error)   \n",
    "    return recon_error_list"
   ]
  },
  {
   "cell_type": "code",
   "execution_count": 35,
   "metadata": {},
   "outputs": [
    {
     "name": "stdout",
     "output_type": "stream",
     "text": [
      "1/1 [==============================] - 0s 757us/step - loss: 0.0050\n",
      "1/1 [==============================] - 0s 660us/step - loss: 0.0051\n",
      "1/1 [==============================] - 0s 667us/step - loss: 0.0052\n",
      "1/1 [==============================] - 0s 637us/step - loss: 0.0052\n",
      "1/1 [==============================] - 0s 610us/step - loss: 0.0051\n",
      "1/1 [==============================] - 0s 584us/step - loss: 0.0052\n",
      "1/1 [==============================] - 0s 834us/step - loss: 0.0053\n",
      "1/1 [==============================] - 0s 777us/step - loss: 0.0055\n",
      "1/1 [==============================] - 0s 618us/step - loss: 0.0053\n",
      "1/1 [==============================] - 0s 730us/step - loss: 0.0057\n",
      "1/1 [==============================] - 0s 626us/step - loss: 0.0052\n",
      "1/1 [==============================] - 0s 786us/step - loss: 0.0051\n",
      "1/1 [==============================] - 0s 600us/step - loss: 0.0053\n",
      "1/1 [==============================] - 0s 578us/step - loss: 0.0054\n",
      "1/1 [==============================] - 0s 640us/step - loss: 0.0053\n",
      "1/1 [==============================] - 0s 728us/step - loss: 0.0052\n",
      "1/1 [==============================] - 0s 729us/step - loss: 0.0052\n",
      "1/1 [==============================] - 0s 742us/step - loss: 0.0052\n",
      "1/1 [==============================] - 0s 882us/step - loss: 0.0052\n",
      "1/1 [==============================] - 0s 849us/step - loss: 0.0056\n",
      "1/1 [==============================] - 0s 595us/step - loss: 0.0056\n",
      "1/1 [==============================] - 0s 622us/step - loss: 0.0054\n",
      "1/1 [==============================] - 0s 668us/step - loss: 0.0052\n",
      "1/1 [==============================] - 0s 684us/step - loss: 0.0052\n",
      "1/1 [==============================] - 0s 825us/step - loss: 0.0052\n",
      "1/1 [==============================] - 0s 677us/step - loss: 0.0052\n",
      "1/1 [==============================] - 0s 634us/step - loss: 0.0052\n",
      "1/1 [==============================] - 0s 639us/step - loss: 0.0052\n",
      "1/1 [==============================] - 0s 872us/step - loss: 0.0068\n",
      "1/1 [==============================] - 0s 607us/step - loss: 0.0056\n",
      "1/1 [==============================] - 0s 609us/step - loss: 0.0056\n",
      "1/1 [==============================] - 0s 819us/step - loss: 0.0055\n",
      "1/1 [==============================] - 0s 581us/step - loss: 0.0053\n",
      "1/1 [==============================] - 0s 885us/step - loss: 0.0054\n",
      "1/1 [==============================] - 0s 647us/step - loss: 0.0054\n",
      "1/1 [==============================] - 0s 679us/step - loss: 0.0056\n",
      "1/1 [==============================] - 0s 635us/step - loss: 0.0056\n",
      "1/1 [==============================] - 0s 603us/step - loss: 0.0056\n",
      "1/1 [==============================] - 0s 591us/step - loss: 0.0056\n",
      "1/1 [==============================] - 0s 692us/step - loss: 0.0056\n",
      "1/1 [==============================] - 0s 661us/step - loss: 0.0059\n",
      "1/1 [==============================] - 0s 711us/step - loss: 0.0053\n",
      "1/1 [==============================] - 0s 646us/step - loss: 0.0062\n",
      "1/1 [==============================] - 0s 1ms/step - loss: 0.0059\n",
      "1/1 [==============================] - 0s 674us/step - loss: 0.0060\n",
      "1/1 [==============================] - 0s 582us/step - loss: 0.0060\n",
      "1/1 [==============================] - 0s 629us/step - loss: 0.0064\n",
      "1/1 [==============================] - 0s 826us/step - loss: 0.0060\n",
      "1/1 [==============================] - 0s 694us/step - loss: 0.0068\n",
      "1/1 [==============================] - 0s 596us/step - loss: 0.0056\n",
      "1/1 [==============================] - 0s 695us/step - loss: 0.0056\n",
      "1/1 [==============================] - 0s 746us/step - loss: 0.0055\n",
      "1/1 [==============================] - 0s 628us/step - loss: 0.0053\n",
      "1/1 [==============================] - 0s 836us/step - loss: 0.0054\n",
      "1/1 [==============================] - 0s 638us/step - loss: 0.0054\n",
      "1/1 [==============================] - 0s 629us/step - loss: 0.0056\n",
      "1/1 [==============================] - 0s 616us/step - loss: 0.0056\n",
      "1/1 [==============================] - 0s 686us/step - loss: 0.0056\n",
      "1/1 [==============================] - 0s 593us/step - loss: 0.0056\n",
      "1/1 [==============================] - 0s 683us/step - loss: 0.0056\n",
      "1/1 [==============================] - 0s 622us/step - loss: 0.0059\n",
      "1/1 [==============================] - 0s 631us/step - loss: 0.0053\n",
      "1/1 [==============================] - 0s 893us/step - loss: 0.0062\n",
      "1/1 [==============================] - 0s 625us/step - loss: 0.0059\n",
      "1/1 [==============================] - 0s 918us/step - loss: 0.0060\n",
      "1/1 [==============================] - 0s 692us/step - loss: 0.0060\n",
      "1/1 [==============================] - 0s 627us/step - loss: 0.0064\n",
      "1/1 [==============================] - 0s 607us/step - loss: 0.0060\n",
      "1/1 [==============================] - 0s 623us/step - loss: 0.0054\n",
      "1/1 [==============================] - 0s 647us/step - loss: 0.0057\n",
      "1/1 [==============================] - 0s 590us/step - loss: 0.0058\n",
      "1/1 [==============================] - 0s 582us/step - loss: 0.0054\n",
      "1/1 [==============================] - 0s 637us/step - loss: 0.0054\n",
      "1/1 [==============================] - 0s 769us/step - loss: 0.0054\n",
      "1/1 [==============================] - 0s 743us/step - loss: 0.0054\n",
      "1/1 [==============================] - 0s 607us/step - loss: 0.0053\n",
      "1/1 [==============================] - 0s 606us/step - loss: 0.0053\n",
      "1/1 [==============================] - 0s 634us/step - loss: 0.0053\n",
      "1/1 [==============================] - 0s 615us/step - loss: 0.0053\n",
      "1/1 [==============================] - 0s 599us/step - loss: 0.0053\n",
      "1/1 [==============================] - 0s 699us/step - loss: 0.0056\n",
      "1/1 [==============================] - 0s 665us/step - loss: 0.0057\n",
      "1/1 [==============================] - 0s 589us/step - loss: 0.0057\n",
      "1/1 [==============================] - 0s 639us/step - loss: 0.0059\n",
      "1/1 [==============================] - 0s 641us/step - loss: 0.0065\n",
      "1/1 [==============================] - 0s 727us/step - loss: 0.0063\n",
      "1/1 [==============================] - 0s 608us/step - loss: 0.0053\n",
      "1/1 [==============================] - 0s 667us/step - loss: 0.0054\n",
      "1/1 [==============================] - 0s 593us/step - loss: 0.0069\n",
      "1/1 [==============================] - 0s 691us/step - loss: 0.0053\n",
      "1/1 [==============================] - 0s 613us/step - loss: 0.0051\n",
      "1/1 [==============================] - 0s 630us/step - loss: 0.0051\n",
      "1/1 [==============================] - 0s 793us/step - loss: 0.0052\n",
      "1/1 [==============================] - 0s 591us/step - loss: 0.0052\n",
      "1/1 [==============================] - 0s 578us/step - loss: 0.0053\n",
      "1/1 [==============================] - 0s 1ms/step - loss: 0.0052\n",
      "1/1 [==============================] - 0s 672us/step - loss: 0.0054\n",
      "1/1 [==============================] - 0s 799us/step - loss: 0.0051\n",
      "1/1 [==============================] - 0s 585us/step - loss: 0.0051\n",
      "1/1 [==============================] - 0s 611us/step - loss: 0.0051\n",
      "1/1 [==============================] - 0s 765us/step - loss: 0.0051\n",
      "1/1 [==============================] - 0s 745us/step - loss: 0.0051\n",
      "1/1 [==============================] - 0s 583us/step - loss: 0.0051\n",
      "1/1 [==============================] - 0s 611us/step - loss: 0.0052\n",
      "1/1 [==============================] - 0s 646us/step - loss: 0.0051\n",
      "1/1 [==============================] - 0s 607us/step - loss: 0.0057\n",
      "1/1 [==============================] - 0s 697us/step - loss: 0.0050\n",
      "1/1 [==============================] - 0s 793us/step - loss: 0.0052\n",
      "1/1 [==============================] - 0s 734us/step - loss: 0.0052\n",
      "1/1 [==============================] - 0s 624us/step - loss: 0.0052\n",
      "1/1 [==============================] - 0s 610us/step - loss: 0.0053\n",
      "1/1 [==============================] - 0s 699us/step - loss: 0.0052\n",
      "1/1 [==============================] - 0s 722us/step - loss: 0.0053\n",
      "1/1 [==============================] - 0s 606us/step - loss: 0.0052\n",
      "1/1 [==============================] - 0s 587us/step - loss: 0.0060\n",
      "1/1 [==============================] - 0s 674us/step - loss: 0.0052\n",
      "1/1 [==============================] - 0s 625us/step - loss: 0.0051\n",
      "1/1 [==============================] - 0s 626us/step - loss: 0.0050\n",
      "1/1 [==============================] - 0s 621us/step - loss: 0.0050\n",
      "1/1 [==============================] - 0s 610us/step - loss: 0.0049\n",
      "1/1 [==============================] - 0s 620us/step - loss: 0.0050\n",
      "1/1 [==============================] - 0s 624us/step - loss: 0.0051\n",
      "1/1 [==============================] - 0s 589us/step - loss: 0.0051\n",
      "1/1 [==============================] - 0s 613us/step - loss: 0.0060\n",
      "1/1 [==============================] - 0s 644us/step - loss: 0.0057\n",
      "1/1 [==============================] - 0s 625us/step - loss: 0.0057\n",
      "1/1 [==============================] - 0s 650us/step - loss: 0.0058\n",
      "1/1 [==============================] - 0s 664us/step - loss: 0.0058\n",
      "1/1 [==============================] - 0s 655us/step - loss: 0.0058\n",
      "1/1 [==============================] - 0s 762us/step - loss: 0.0059\n",
      "1/1 [==============================] - 0s 635us/step - loss: 0.0058\n",
      "1/1 [==============================] - 0s 651us/step - loss: 0.0060\n",
      "1/1 [==============================] - 0s 671us/step - loss: 0.0059\n",
      "1/1 [==============================] - 0s 669us/step - loss: 0.0061\n",
      "1/1 [==============================] - 0s 707us/step - loss: 0.0056\n",
      "1/1 [==============================] - 0s 662us/step - loss: 0.0065\n",
      "1/1 [==============================] - 0s 715us/step - loss: 0.0066\n",
      "1/1 [==============================] - 0s 636us/step - loss: 0.0060\n",
      "1/1 [==============================] - 0s 676us/step - loss: 0.0058\n",
      "1/1 [==============================] - 0s 643us/step - loss: 0.0057\n",
      "1/1 [==============================] - 0s 889us/step - loss: 0.0056\n",
      "1/1 [==============================] - 0s 812us/step - loss: 0.0057\n",
      "1/1 [==============================] - 0s 689us/step - loss: 0.0057\n",
      "1/1 [==============================] - 0s 618us/step - loss: 0.0060\n",
      "1/1 [==============================] - 0s 681us/step - loss: 0.0061\n",
      "1/1 [==============================] - 0s 601us/step - loss: 0.0060\n",
      "1/1 [==============================] - 0s 600us/step - loss: 0.0057\n",
      "1/1 [==============================] - 0s 703us/step - loss: 0.0068\n",
      "1/1 [==============================] - 0s 842us/step - loss: 0.0054\n",
      "1/1 [==============================] - 0s 958us/step - loss: 0.0058\n",
      "1/1 [==============================] - 0s 638us/step - loss: 0.0054\n",
      "1/1 [==============================] - 0s 662us/step - loss: 0.0052\n",
      "1/1 [==============================] - 0s 816us/step - loss: 0.0054\n",
      "1/1 [==============================] - 0s 881us/step - loss: 0.0053\n",
      "1/1 [==============================] - 0s 610us/step - loss: 0.0054\n",
      "1/1 [==============================] - 0s 879us/step - loss: 0.0053\n",
      "1/1 [==============================] - 0s 830us/step - loss: 0.0053\n",
      "1/1 [==============================] - 0s 625us/step - loss: 0.0051\n",
      "1/1 [==============================] - 0s 635us/step - loss: 0.0052\n",
      "1/1 [==============================] - 0s 648us/step - loss: 0.0055\n",
      "1/1 [==============================] - 0s 604us/step - loss: 0.0055\n",
      "1/1 [==============================] - 0s 631us/step - loss: 0.0054\n",
      "1/1 [==============================] - 0s 643us/step - loss: 0.0056\n",
      "1/1 [==============================] - 0s 744us/step - loss: 0.0057\n",
      "1/1 [==============================] - 0s 627us/step - loss: 0.0063\n",
      "1/1 [==============================] - 0s 640us/step - loss: 0.0058\n",
      "1/1 [==============================] - 0s 899us/step - loss: 0.0063\n",
      "1/1 [==============================] - 0s 672us/step - loss: 0.0058\n",
      "1/1 [==============================] - 0s 725us/step - loss: 0.0057\n",
      "1/1 [==============================] - 0s 707us/step - loss: 0.0052\n",
      "1/1 [==============================] - 0s 685us/step - loss: 0.0051\n",
      "1/1 [==============================] - 0s 822us/step - loss: 0.0052\n",
      "1/1 [==============================] - 0s 611us/step - loss: 0.0053\n",
      "1/1 [==============================] - 0s 630us/step - loss: 0.0051\n",
      "1/1 [==============================] - 0s 616us/step - loss: 0.0051\n",
      "1/1 [==============================] - 0s 599us/step - loss: 0.0052\n",
      "1/1 [==============================] - 0s 865us/step - loss: 0.0050\n",
      "1/1 [==============================] - 0s 767us/step - loss: 0.0050\n",
      "1/1 [==============================] - 0s 736us/step - loss: 0.0054\n",
      "The list of rec. error contains  6 batches of rec. errors\n"
     ]
    }
   ],
   "source": [
    "total_rec_error = []\n",
    "for i in range(len(train_generator)):        #I think this should be the correct while clause\n",
    "    data = train_generator.next()\n",
    "    total_rec_error.append(calc_recon_error(data[0]))\n",
    "    \n",
    "print(\"The list of rec. error contains \", len(total_rec_error), \"batches of rec. errors\")"
   ]
  },
  {
   "cell_type": "code",
   "execution_count": 36,
   "metadata": {},
   "outputs": [
    {
     "name": "stdout",
     "output_type": "stream",
     "text": [
      "179\n"
     ]
    }
   ],
   "source": [
    "total_rec_error_list = [item for sublist in total_rec_error for item in sublist]\n",
    "print(len(total_rec_error_list))"
   ]
  },
  {
   "cell_type": "code",
   "execution_count": 37,
   "metadata": {},
   "outputs": [
    {
     "name": "stdout",
     "output_type": "stream",
     "text": [
      "THIS IS FOR THE TRAINING (NON-ANOMALY) IMAGES\n",
      "\n",
      "The average of the errors list is:  0.005521684289290752\n",
      "The standard deviation of the errors list is:  0.0004065031297210624\n",
      "The min value of the errors list is:  0.004948091693222523\n",
      "The max value of the errors list is:  0.006946203764528036\n"
     ]
    }
   ],
   "source": [
    "na_average_recon_error = np.mean(np.array(total_rec_error_list))  \n",
    "na_stdev_recon_error = np.std(np.array(total_rec_error_list)) \n",
    "min_prob = np.min(total_rec_error_list)\n",
    "max_prob = np.max(total_rec_error_list)\n",
    "print(\"THIS IS FOR THE TRAINING (NON-ANOMALY) IMAGES\\n\")\n",
    "print(\"The average of the errors list is: \", na_average_recon_error)\n",
    "print(\"The standard deviation of the errors list is: \", na_stdev_recon_error)\n",
    "print(\"The min value of the errors list is: \", min_prob)\n",
    "print(\"The max value of the errors list is: \", max_prob)"
   ]
  },
  {
   "attachments": {},
   "cell_type": "markdown",
   "metadata": {},
   "source": [
    "Compute the average and std dev. of recon. error for positive (anomalies) samples. \n"
   ]
  },
  {
   "cell_type": "code",
   "execution_count": 38,
   "metadata": {},
   "outputs": [],
   "source": [
    "anomaly_batch = anomaly_generator.next()"
   ]
  },
  {
   "cell_type": "code",
   "execution_count": 39,
   "metadata": {},
   "outputs": [
    {
     "name": "stdout",
     "output_type": "stream",
     "text": [
      "1/1 [==============================] - 0s 864us/step - loss: 0.0054\n",
      "1/1 [==============================] - 0s 620us/step - loss: 0.0052\n",
      "1/1 [==============================] - 0s 611us/step - loss: 0.0066\n",
      "1/1 [==============================] - 0s 979us/step - loss: 0.0068\n",
      "1/1 [==============================] - 0s 835us/step - loss: 0.0073\n",
      "1/1 [==============================] - 0s 734us/step - loss: 0.0057\n",
      "The list of rec. error for anomalies contains  1 batches of rec. errors\n"
     ]
    }
   ],
   "source": [
    "total_rec_error_anomalies = []\n",
    "for i in range(len(anomaly_generator)):        #I think this should be the correct while clause\n",
    "    data = anomaly_generator.next()\n",
    "    total_rec_error_anomalies.append(calc_recon_error(data[0]))\n",
    "    \n",
    "print(\"The list of rec. error for anomalies contains \", len(total_rec_error_anomalies), \"batches of rec. errors\")"
   ]
  },
  {
   "cell_type": "code",
   "execution_count": 40,
   "metadata": {},
   "outputs": [
    {
     "name": "stdout",
     "output_type": "stream",
     "text": [
      "6\n"
     ]
    }
   ],
   "source": [
    "total_rec_error_anomalies = [item for sublist in total_rec_error_anomalies for item in sublist]\n",
    "print(len(total_rec_error_anomalies))"
   ]
  },
  {
   "cell_type": "code",
   "execution_count": 41,
   "metadata": {},
   "outputs": [
    {
     "name": "stdout",
     "output_type": "stream",
     "text": [
      "THIS IS FOR THE ANOMALY IMAGES\n",
      "\n",
      "The average of the errors list is:  0.006162668423106273\n",
      "The standard deviation of the errors list is:  0.0007849212218469936\n",
      "The min value of the errors list is:  0.00515466183423996\n",
      "The max value of the errors list is:  0.007267634384334087\n"
     ]
    }
   ],
   "source": [
    "a_average_recon_error = np.mean(np.array(total_rec_error_anomalies))  \n",
    "a_stdev_recon_error = np.std(np.array(total_rec_error_anomalies)) \n",
    "min_prob = np.min(total_rec_error_anomalies)\n",
    "max_prob = np.max(total_rec_error_anomalies)\n",
    "print(\"THIS IS FOR THE ANOMALY IMAGES\\n\")\n",
    "print(\"The average of the errors list is: \", a_average_recon_error)\n",
    "print(\"The standard deviation of the errors list is: \", a_stdev_recon_error)\n",
    "print(\"The min value of the errors list is: \", min_prob)\n",
    "print(\"The max value of the errors list is: \", max_prob)"
   ]
  },
  {
   "attachments": {},
   "cell_type": "markdown",
   "metadata": {},
   "source": [
    "Compute the average and std dev. of recon. error for the validation (non-anomalies) samples. \n"
   ]
  },
  {
   "cell_type": "code",
   "execution_count": 42,
   "metadata": {},
   "outputs": [
    {
     "name": "stdout",
     "output_type": "stream",
     "text": [
      "1/1 [==============================] - 0s 987us/step - loss: 0.0060\n",
      "1/1 [==============================] - 0s 876us/step - loss: 0.0057\n",
      "1/1 [==============================] - 0s 825us/step - loss: 0.0055\n",
      "1/1 [==============================] - 0s 691us/step - loss: 0.0055\n",
      "1/1 [==============================] - 0s 812us/step - loss: 0.0055\n",
      "1/1 [==============================] - 0s 605us/step - loss: 0.0054\n",
      "1/1 [==============================] - 0s 773us/step - loss: 0.0057\n",
      "1/1 [==============================] - 0s 605us/step - loss: 0.0056\n",
      "1/1 [==============================] - 0s 671us/step - loss: 0.0061\n",
      "1/1 [==============================] - 0s 664us/step - loss: 0.0058\n",
      "1/1 [==============================] - 0s 674us/step - loss: 0.0060\n",
      "1/1 [==============================] - 0s 649us/step - loss: 0.0059\n",
      "1/1 [==============================] - 0s 830us/step - loss: 0.0061\n",
      "1/1 [==============================] - 0s 701us/step - loss: 0.0059\n",
      "1/1 [==============================] - 0s 695us/step - loss: 0.0055\n",
      "1/1 [==============================] - 0s 662us/step - loss: 0.0060\n",
      "1/1 [==============================] - 0s 661us/step - loss: 0.0057\n",
      "1/1 [==============================] - 0s 630us/step - loss: 0.0055\n",
      "1/1 [==============================] - 0s 1ms/step - loss: 0.0057\n",
      "1/1 [==============================] - 0s 633us/step - loss: 0.0056\n",
      "1/1 [==============================] - 0s 611us/step - loss: 0.0056\n",
      "1/1 [==============================] - 0s 820us/step - loss: 0.0055\n",
      "1/1 [==============================] - 0s 623us/step - loss: 0.0056\n",
      "1/1 [==============================] - 0s 595us/step - loss: 0.0063\n",
      "1/1 [==============================] - 0s 879us/step - loss: 0.0063\n",
      "1/1 [==============================] - 0s 769us/step - loss: 0.0065\n",
      "1/1 [==============================] - 0s 750us/step - loss: 0.0067\n",
      "1/1 [==============================] - 0s 705us/step - loss: 0.0067\n",
      "1/1 [==============================] - 0s 751us/step - loss: 0.0061\n",
      "1/1 [==============================] - 0s 667us/step - loss: 0.0057\n",
      "The list of rec. error for anomalies contains  1 batches of rec. errors\n"
     ]
    }
   ],
   "source": [
    "total_rec_error_validation = []\n",
    "for i in range(len(validation_generator)):        #I think this should be the correct while clause\n",
    "    data = validation_generator.next()\n",
    "    total_rec_error_validation.append(calc_recon_error(data[0]))\n",
    "    \n",
    "print(\"The list of rec. error for anomalies contains \", len(total_rec_error_validation), \"batches of rec. errors\")"
   ]
  },
  {
   "cell_type": "code",
   "execution_count": 43,
   "metadata": {},
   "outputs": [
    {
     "name": "stdout",
     "output_type": "stream",
     "text": [
      "30\n"
     ]
    }
   ],
   "source": [
    "total_rec_error_validation = [item for sublist in total_rec_error_validation for item in sublist]\n",
    "print(len(total_rec_error_validation))"
   ]
  },
  {
   "cell_type": "code",
   "execution_count": 44,
   "metadata": {},
   "outputs": [
    {
     "name": "stdout",
     "output_type": "stream",
     "text": [
      "THIS IS FOR THE VALIDATION IMAGES\n",
      "\n",
      "The average of the errors list is:  0.005849855563913782\n",
      "The standard deviation of the errors list is:  0.0003565632867929124\n",
      "The min value of the errors list is:  0.0054452186450362206\n",
      "The max value of the errors list is:  0.006734589114785194\n"
     ]
    }
   ],
   "source": [
    "val_average_recon_error = np.mean(np.array(total_rec_error_validation))  \n",
    "val_stdev_recon_error = np.std(np.array(total_rec_error_validation)) \n",
    "min_prob = np.min(total_rec_error_validation)\n",
    "max_prob = np.max(total_rec_error_validation)\n",
    "print(\"THIS IS FOR THE VALIDATION IMAGES\\n\")\n",
    "print(\"The average of the errors list is: \", val_average_recon_error)\n",
    "print(\"The standard deviation of the errors list is: \", val_stdev_recon_error)\n",
    "print(\"The min value of the errors list is: \", min_prob)\n",
    "print(\"The max value of the errors list is: \", max_prob)"
   ]
  },
  {
   "attachments": {},
   "cell_type": "markdown",
   "metadata": {},
   "source": [
    "Below, we can see the plot of the reconstruction error values, of the non-anomaly list (blue) and the anomaly list (red)."
   ]
  },
  {
   "cell_type": "code",
   "execution_count": 45,
   "metadata": {},
   "outputs": [
    {
     "data": {
      "image/png": "[encoded data removed]",
      "text/plain": [
       "<Figure size 1000x1000 with 1 Axes>"
      ]
     },
     "metadata": {},
     "output_type": "display_data"
    }
   ],
   "source": [
    "plt.figure(figsize=(10, 10))\n",
    "val = 0. # this is the value where you want the data to appear on the y-axis.\n",
    "plt.plot(total_rec_error_list, np.zeros_like(total_rec_error_list) + val, 'x')\n",
    "plt.plot(total_rec_error_anomalies, np.zeros_like(total_rec_error_anomalies) + val, 'ro')\n",
    "plt.show()"
   ]
  },
  {
   "cell_type": "code",
   "execution_count": 46,
   "metadata": {},
   "outputs": [
    {
     "data": {
      "image/png": "[encoded data removed]",
      "text/plain": [
       "<Figure size 640x480 with 1 Axes>"
      ]
     },
     "metadata": {},
     "output_type": "display_data"
    }
   ],
   "source": [
    "import random\n",
    "import numpy\n",
    "from matplotlib import pyplot\n",
    "\n",
    "bins = numpy.linspace(0.004, 0.0075, 50)\n",
    "\n",
    "pyplot.hist(total_rec_error_list, bins, alpha=0.5, label='errors non-anomalies')\n",
    "pyplot.hist(total_rec_error_anomalies, bins, alpha=0.5, label='errors anomalies')\n",
    "pyplot.legend(loc='upper right')\n",
    "pyplot.show()"
   ]
  },
  {
   "attachments": {},
   "cell_type": "markdown",
   "metadata": {},
   "source": [
    "## Checking the latent space"
   ]
  },
  {
   "attachments": {},
   "cell_type": "markdown",
   "metadata": {},
   "source": [
    "Let's update the weights of the encoder model."
   ]
  },
  {
   "cell_type": "code",
   "execution_count": 47,
   "metadata": {},
   "outputs": [
    {
     "name": "stdout",
     "output_type": "stream",
     "text": [
      "Layer weights are successfully copied.\n",
      "Layer weights are successfully copied.\n",
      "Layer weights are successfully copied.\n",
      "Layer weights are successfully copied.\n",
      "Layer weights are successfully copied.\n",
      "Layer weights are successfully copied.\n",
      "Layer weights are successfully copied.\n",
      "Layer weights are successfully copied.\n",
      "Layer weights are successfully copied.\n",
      "Layer weights are successfully copied.\n",
      "Layer weights are successfully copied.\n",
      "Layer weights are successfully copied.\n",
      "Layer weights are successfully copied.\n",
      "Layer weights are successfully copied.\n"
     ]
    }
   ],
   "source": [
    "# Copy the layer weights from the base model to the target model\n",
    "for i, target_layer in enumerate(encoder.layers):\n",
    "    base_layer = model.layers[i]\n",
    "    target_layer.set_weights(base_layer.get_weights())\n",
    "\n",
    "# Verify if the weights are successfully copied\n",
    "for base_layer, target_layer in zip(model.layers[:len(encoder.layers)], encoder.layers):\n",
    "    base_weights = base_layer.get_weights()\n",
    "    target_weights = target_layer.get_weights()\n",
    "    for base_weight, target_weight in zip(base_weights, target_weights):\n",
    "        if (base_weight == target_weight).all():\n",
    "            print(\"Layer weights are successfully copied.\")\n",
    "        else:\n",
    "            print(\"Error: Layer weights are not copied correctly.\")\n"
   ]
  },
  {
   "cell_type": "code",
   "execution_count": 48,
   "metadata": {},
   "outputs": [
    {
     "name": "stdout",
     "output_type": "stream",
     "text": [
      "WARNING:tensorflow:From /tmp/ipykernel_23500/402064861.py:6: Model.predict_generator (from tensorflow.python.keras.engine.training) is deprecated and will be removed in a future version.\n",
      "Instructions for updating:\n",
      "Please use Model.predict, which supports generators.\n"
     ]
    }
   ],
   "source": [
    "########################################################\n",
    "# Calculate KDE using sklearn\n",
    "from sklearn.neighbors import KernelDensity\n",
    "\n",
    "#Get encoded output of input images = Latent space\n",
    "encoded_images = encoder.predict_generator(train_generator)"
   ]
  },
  {
   "cell_type": "code",
   "execution_count": 49,
   "metadata": {},
   "outputs": [
    {
     "name": "stdout",
     "output_type": "stream",
     "text": [
      "(179, 98)\n"
     ]
    }
   ],
   "source": [
    "print(encoded_images.shape)"
   ]
  },
  {
   "attachments": {},
   "cell_type": "markdown",
   "metadata": {},
   "source": [
    "See that it is 179 length because it corresponds to all the images that belong to the training dataset. The second length corresponds to the output shape of the model as specified in its structure at the beginning."
   ]
  },
  {
   "cell_type": "code",
   "execution_count": 50,
   "metadata": {},
   "outputs": [
    {
     "data": {
      "text/plain": [
       "numpy.ndarray"
      ]
     },
     "execution_count": 50,
     "metadata": {},
     "output_type": "execute_result"
    }
   ],
   "source": [
    "type(encoded_images)"
   ]
  },
  {
   "cell_type": "code",
   "execution_count": 52,
   "metadata": {},
   "outputs": [
    {
     "name": "stdout",
     "output_type": "stream",
     "text": [
      "(None, 98)\n"
     ]
    }
   ],
   "source": [
    "encoder_output_shape = encoder.output_shape \n",
    "print(encoder_output_shape)"
   ]
  },
  {
   "attachments": {},
   "cell_type": "markdown",
   "metadata": {},
   "source": [
    "Now, let's fit KDE to the image latent data"
   ]
  },
  {
   "cell_type": "code",
   "execution_count": 53,
   "metadata": {},
   "outputs": [],
   "source": [
    "kde = KernelDensity(kernel='gaussian', bandwidth=0.2).fit(encoded_images)"
   ]
  },
  {
   "attachments": {},
   "cell_type": "markdown",
   "metadata": {},
   "source": [
    "The above function fits a kernel density estimation to the data that is provided, that is, the \"encoded_images\" variable. It does so using a Guassian kernel of bandwidth 0.2.\n",
    "\n",
    "The badnwidth parameter affects on how the selected kernel will fit each sample of the given data. For example for the case in which the kernel is a Gaussian distribution, the bandwidth parameter would affect in how thin or wide is the Gaussian distribution.\n",
    "\n",
    "At this point in the variable \"kde\" we have some numbers that are the result of fitting Gaussian functions to the given data points in the variable \"encoded_images\". We will use the \"kde\" variable later for scoring with it, some given data points; the scoring will be given depending on how similar are the given data points to the ones that it had estimated."
   ]
  },
  {
   "attachments": {},
   "cell_type": "markdown",
   "metadata": {},
   "source": [
    "Here below, it is shown the kde values corresponding to each encoded sample. THese are supposed to be very close to each other in value."
   ]
  },
  {
   "cell_type": "code",
   "execution_count": 54,
   "metadata": {},
   "outputs": [
    {
     "name": "stdout",
     "output_type": "stream",
     "text": [
      "[64.27776168 64.68949097 63.72429834 65.09761097 65.92838334 65.31345869\n",
      " 65.76441024 65.75140909 65.78106194 65.77957581 66.02894444 65.98881578\n",
      " 64.5331304  64.4690062  64.63620265 65.63959805 65.88759226 65.69818867\n",
      " 65.89183731 63.59589145 64.56731526 64.63674069 64.98523397 64.98649745\n",
      " 65.38600945 64.53613801 64.87311476 64.75371832 64.74573923 64.97739643\n",
      " 65.12023335 65.96306436 64.99546874 64.9786939  64.92558485 64.99057796\n",
      " 65.03905714 65.04195633 64.9020478  64.78641395 64.91981785 65.4048851\n",
      " 65.56575065 65.49112935 65.57889321 64.80398411 64.94988868 64.92597734\n",
      " 64.87931858 64.89291423 65.12308917 65.80285998 65.65930788 65.54765147\n",
      " 65.59370104 65.25793483 65.65708448 65.60780888 65.69262698 65.63995564\n",
      " 64.79635499 65.28144715 64.79819408 65.73333359 66.00828851 66.0313676\n",
      " 66.00494444 65.89650622 65.88127331 65.96790189 65.84079644 65.75642144\n",
      " 65.37999615 65.91482469 65.299417   65.55646279 65.55611963 65.53140971\n",
      " 65.52556326 65.73572496 64.79635499 65.28144715 64.79819408 65.73333359\n",
      " 66.00828851 66.0313676  66.00494444 65.89650622 65.88127331 65.96790189\n",
      " 65.84079644 65.75642144 65.37999615 65.91482469 65.299417   65.55646279\n",
      " 65.55611963 65.53140971 65.52556326 65.73572496 65.7296509  65.32855633\n",
      " 63.70330819 65.91517791 65.96026421 65.93901637 65.96494518 65.84482221\n",
      " 65.95070406 65.56804296 65.76492231 65.67940136 65.52729041 65.6034226\n",
      " 65.62692538 65.21845728 65.00264357 65.11615005 65.61795076 64.70028957\n",
      " 64.41549389 65.43666077 65.2660296  65.40244493 65.41640384 65.41176995\n",
      " 65.47682719 65.56141284 65.10517184 65.54443475 65.60586467 64.62228166\n",
      " 65.20031112 65.30417188 65.36347662 65.38665233 65.28675708 64.48374323\n",
      " 65.26935067 65.2194338  65.21796091 65.13371759 65.27355745 65.27935265\n",
      " 65.27613247 65.10696544 64.67116245 65.3374154  65.36239724 65.20619826\n",
      " 65.24770322 65.24174553 65.2347018  65.29186918 65.30437149 63.26678056\n",
      " 65.31046671 65.34039656 65.35667672 65.32670061 65.34861097 65.30590303\n",
      " 65.32958629 65.22802182 65.2905935  65.09714279 65.1265487  65.22258753\n",
      " 64.94145319 65.2970507  65.31941358 65.16339989 65.10902883 65.12209946\n",
      " 65.2411468  64.1770162  64.21845341 64.20732116 64.29268674]\n"
     ]
    }
   ],
   "source": [
    "density_vals = kde.score_samples(encoded_images)\n",
    "print(density_vals)"
   ]
  },
  {
   "attachments": {},
   "cell_type": "markdown",
   "metadata": {},
   "source": [
    "From here, the mean and standard deviation of these values are computed"
   ]
  },
  {
   "cell_type": "code",
   "execution_count": 55,
   "metadata": {},
   "outputs": [
    {
     "name": "stdout",
     "output_type": "stream",
     "text": [
      "The avg of the density values is:  65.29620065069766\n",
      "The stdev_density of the density values is:  0.5057573355788083\n"
     ]
    }
   ],
   "source": [
    "average_density = np.mean(density_vals)\n",
    "stdev_density = np.std(density_vals)\n",
    "print(\"The avg of the density values is: \", average_density)\n",
    "print(\"The stdev_density of the density values is: \", stdev_density)"
   ]
  },
  {
   "attachments": {},
   "cell_type": "markdown",
   "metadata": {},
   "source": [
    "based on the above data create a function that outputs a probability of a KDE value to be considered an anomaly or non-anomaly image"
   ]
  },
  {
   "cell_type": "code",
   "execution_count": 56,
   "metadata": {},
   "outputs": [],
   "source": [
    "def ranges_mapper(value, leftMin, leftMax, rightMin, rightMax):\n",
    "    # Figure out how 'wide' each range is\n",
    "    leftSpan = leftMax - leftMin\n",
    "    rightSpan = rightMax - rightMin\n",
    "\n",
    "    # Convert the left range into a 0-1 range (float)\n",
    "    valueScaled = float(value - leftMin) / float(leftSpan)\n",
    "\n",
    "    # Convert the 0-1 range into a value in the right range.\n",
    "    return rightMin + (valueScaled * rightSpan)"
   ]
  },
  {
   "cell_type": "code",
   "execution_count": 57,
   "metadata": {},
   "outputs": [],
   "source": [
    "# def map_kde2prob_list(input_list):\n",
    "#     threshold = average_density          # The mean of the kde corresponding to the non-anomaly images\n",
    "#     std_dev = stdev_density            # The std deviation of the kde corresponding to the non-anomaly images\n",
    "#     prob_score_list = []\n",
    "#     prob_score = 0              # This was changed for making threshold+std_dev be mapped to be 50% chance. Before it was directly mapped threshold value to 50% chance\n",
    "#     for i in range (len(input_list)):\n",
    "#         aux_score = input_list[i] - threshold\n",
    "#         if aux_score>=0:\n",
    "#             additional = ranges_mapper(aux_score, 0, std_dev, 0, 50)\n",
    "#             prob_score_tot = prob_score+additional\n",
    "#         else:\n",
    "#             additional = ranges_mapper(abs(aux_score), 0, std_dev, 0, 50)\n",
    "#             prob_score_tot = prob_score-additional\n",
    "#         if prob_score_tot > 100:\n",
    "#             prob_score_tot = 100\n",
    "#         if prob_score_tot < 0:\n",
    "#             prob_score_tot = 0\n",
    "#         prob_score_list.append(prob_score_tot)\n",
    "#     return prob_score_list"
   ]
  },
  {
   "cell_type": "code",
   "execution_count": 58,
   "metadata": {},
   "outputs": [],
   "source": [
    "# def map_kde2prob(value):\n",
    "#     threshold = average_density         # The mean of the kde corresponding to the non-anomaly images\n",
    "#     std_dev = stdev_density          # The std deviation of the kde corresponding to the non-anomaly images\n",
    "#     prob_score = 0              # This was changed for making threshold+std_dev be mapped to be 50% chance. Before it was directly mapped threshold value to 50% chance\n",
    "#     aux_score = value - threshold\n",
    "#     print(\"value is: \", value)\n",
    "#     print(\"aux_score is: \", aux_score)\n",
    "        \n",
    "#     if aux_score>=0:\n",
    "#         additional = ranges_mapper(aux_score, 0, std_dev, 0, 50)\n",
    "#         print(\"additional is: \", additional)\n",
    "#         prob_score_tot = prob_score+additional\n",
    "#         print(\"prob_score_tot is: \", prob_score_tot)\n",
    "        \n",
    "#     else:\n",
    "#         additional = ranges_mapper(abs(aux_score), 0, std_dev, 0, 50)\n",
    "#         prob_score_tot = prob_score-additional\n",
    "#     if prob_score_tot > 100:\n",
    "#         prob_score_tot = 100\n",
    "#     if prob_score_tot < 0:\n",
    "#         prob_score_tot = 0    \n",
    "#     return prob_score_tot"
   ]
  },
  {
   "cell_type": "code",
   "execution_count": 82,
   "metadata": {},
   "outputs": [],
   "source": [
    "def map_kde2prob_list(input_list):\n",
    "    threshold = average_density          # The mean of the kde corresponding to the non-anomaly images\n",
    "    std_dev = stdev_density            # The std deviation of the kde corresponding to the non-anomaly images\n",
    "    prob_score_list =[]\n",
    "    for i in range (len(input_list)):\n",
    "        aux_score = input_list[i] - threshold\n",
    "        prob_score = ranges_mapper(abs(aux_score), 0, std_dev, 0, 50)\n",
    "        if prob_score<0:\n",
    "            prob_score = 0\n",
    "        if prob_score>100:\n",
    "            prob_score = 100     \n",
    "        prob_score_list.append(prob_score)\n",
    "    return prob_score_list"
   ]
  },
  {
   "cell_type": "code",
   "execution_count": 83,
   "metadata": {},
   "outputs": [],
   "source": [
    "def map_kde2prob(value):\n",
    "    threshold = average_density         # The mean of the kde corresponding to the non-anomaly images\n",
    "    std_dev = stdev_density          # The std deviation of the kde corresponding to the non-anomaly images\n",
    "    \n",
    "    aux_score = value - threshold\n",
    "    prob_score = ranges_mapper(abs(aux_score), 0, std_dev, 0, 50)\n",
    "    if prob_score<0:\n",
    "            prob_score = 0\n",
    "    if prob_score>100:\n",
    "        prob_score = 100 \n",
    "    return prob_score"
   ]
  },
  {
   "cell_type": "code",
   "execution_count": 84,
   "metadata": {},
   "outputs": [],
   "source": [
    "def computePred(kde_value):\n",
    "    pred = 0\n",
    "    prob_anomaly = map_kde2prob(kde_value)/100\n",
    "    if prob_anomaly > 0.5:\n",
    "        pred = 1\n",
    "    return pred"
   ]
  },
  {
   "cell_type": "code",
   "execution_count": 94,
   "metadata": {},
   "outputs": [
    {
     "name": "stdout",
     "output_type": "stream",
     "text": [
      "[49.99999999999982]\n"
     ]
    }
   ],
   "source": [
    "print(map_kde2prob_list([average_density - 1*stdev_density]))"
   ]
  },
  {
   "cell_type": "code",
   "execution_count": 95,
   "metadata": {},
   "outputs": [],
   "source": [
    "#Get encoded output of input images = Latent space\n",
    "encoded_images_test_set = encoder.predict_generator(test_set_generator)"
   ]
  },
  {
   "cell_type": "code",
   "execution_count": 96,
   "metadata": {},
   "outputs": [
    {
     "name": "stdout",
     "output_type": "stream",
     "text": [
      "(30, 98)\n"
     ]
    }
   ],
   "source": [
    "print(encoded_images_test_set.shape)"
   ]
  },
  {
   "cell_type": "code",
   "execution_count": 97,
   "metadata": {},
   "outputs": [
    {
     "name": "stdout",
     "output_type": "stream",
     "text": [
      "[64.54657578 64.65745843 64.81481768 64.79387446 64.84946443 64.8747204\n",
      " 64.62289556 64.48692682 64.27816033 64.37823953 64.03781273 64.13340856\n",
      " 63.97807693 64.42366957 64.57474394 64.39496638 64.67034411 65.16323712\n",
      " 64.38748273 63.80124789 63.81920183 63.85765572 63.73650792 63.83438058\n",
      " 64.00568233 64.50512405 64.70599632 64.71165814 64.58026427 64.39920836]\n"
     ]
    }
   ],
   "source": [
    "density_vals_test = kde.score_samples(encoded_images_test_set)\n",
    "print(density_vals_test)"
   ]
  },
  {
   "cell_type": "code",
   "execution_count": 98,
   "metadata": {},
   "outputs": [
    {
     "data": {
      "text/plain": [
       "65.80195798627646"
      ]
     },
     "execution_count": 98,
     "metadata": {},
     "output_type": "execute_result"
    }
   ],
   "source": [
    "average_density + stdev_density"
   ]
  },
  {
   "cell_type": "code",
   "execution_count": 99,
   "metadata": {},
   "outputs": [
    {
     "data": {
      "text/plain": [
       "64.79044331511885"
      ]
     },
     "execution_count": 99,
     "metadata": {},
     "output_type": "execute_result"
    }
   ],
   "source": [
    "average_density - stdev_density"
   ]
  },
  {
   "cell_type": "code",
   "execution_count": 100,
   "metadata": {},
   "outputs": [
    {
     "name": "stdout",
     "output_type": "stream",
     "text": [
      "[74.10914510905374, 63.1471034803878, 47.59031014641661, 49.660791751884496, 44.165075592205035, 41.66822895039782, 66.56404564113251, 80.00613856502376, 100, 90.75114253259763, 100, 100, 100, 86.25985422772537, 71.3243940117391, 89.09749856033014, 61.87320424486074, 13.14499317459192, 89.83734463701173, 100, 100, 100, 100, 100, 100, 78.20713095484328, 58.34856823214894, 57.78883171010464, 70.7786454467191, 88.67812962243248]\n"
     ]
    }
   ],
   "source": [
    "prob_test = map_kde2prob_list(density_vals_test)\n",
    "print(prob_test)"
   ]
  },
  {
   "attachments": {},
   "cell_type": "markdown",
   "metadata": {},
   "source": [
    "See the final predictions based on the KDE average values that was computed before."
   ]
  },
  {
   "cell_type": "code",
   "execution_count": 101,
   "metadata": {},
   "outputs": [
    {
     "name": "stdout",
     "output_type": "stream",
     "text": [
      "The list of rec. error for anomalies contains  1 batches of rec. errors\n"
     ]
    }
   ],
   "source": [
    "ground_truth = []\n",
    "for i in range(len(test_set_generator)):        #I think this should be the correct while clause\n",
    "    _, labels = test_set_generator.next()\n",
    "    ground_truth.append(labels)\n",
    "    \n",
    "print(\"The list of rec. error for anomalies contains \", len(ground_truth), \"batches of rec. errors\")"
   ]
  },
  {
   "cell_type": "code",
   "execution_count": 102,
   "metadata": {},
   "outputs": [],
   "source": [
    "ground_truth = [item for sublist in ground_truth for item in sublist]\n",
    "ground_truth = [int(x) for x in ground_truth]\n"
   ]
  },
  {
   "cell_type": "code",
   "execution_count": 103,
   "metadata": {},
   "outputs": [
    {
     "name": "stdout",
     "output_type": "stream",
     "text": [
      "[0, 0, 0, 0, 0, 0, 0, 0, 0, 0, 0, 0, 0, 0, 0, 0, 0, 0, 0, 0, 0, 0, 0, 0, 0, 1, 1, 1, 1, 1]\n",
      "[1, 1, 0, 0, 0, 0, 1, 1, 1, 1, 1, 1, 1, 1, 1, 1, 1, 0, 1, 1, 1, 1, 1, 1, 1, 1, 1, 1, 1, 1]\n"
     ]
    }
   ],
   "source": [
    "pred_list =[]\n",
    "for i in range(len(prob_test)):\n",
    "    \n",
    "    if(prob_test[i]>50):\n",
    "        pred = 1\n",
    "    else:\n",
    "        pred = 0\n",
    "    pred_list.append(pred)\n",
    "print(ground_truth)\n",
    "print(pred_list)"
   ]
  },
  {
   "attachments": {},
   "cell_type": "markdown",
   "metadata": {},
   "source": [
    "## Trehshold based on Gaussian distribution of the non-anomaly images"
   ]
  },
  {
   "cell_type": "code",
   "execution_count": 104,
   "metadata": {},
   "outputs": [],
   "source": [
    "def map_error2prob(value):\n",
    "    # Calculate the mean and standard deviation\n",
    "    mean = na_average_recon_error\n",
    "    std_dev = na_stdev_recon_error\n",
    "    aux_score = value - mean\n",
    "    prob_score = ranges_mapper(abs(aux_score), 0, std_dev, 0, 50)\n",
    "    if prob_score<0:\n",
    "        prob_score = 0\n",
    "    if prob_score>100:\n",
    "        prob_score = 100\n",
    "    return prob_score"
   ]
  },
  {
   "attachments": {},
   "cell_type": "markdown",
   "metadata": {},
   "source": [
    "See below test, that shows if a reconstruction error is equal to the mean of the reconstruction error plus its standard deviation has 50% chance of being predicted as anomaly image."
   ]
  },
  {
   "cell_type": "code",
   "execution_count": 110,
   "metadata": {},
   "outputs": [
    {
     "name": "stdout",
     "output_type": "stream",
     "text": [
      "50.00000000000004\n"
     ]
    }
   ],
   "source": [
    "print(map_error2prob(na_average_recon_error - na_stdev_recon_error))"
   ]
  },
  {
   "cell_type": "code",
   "execution_count": 111,
   "metadata": {},
   "outputs": [],
   "source": [
    "def map_error2prob_list(input_list):\n",
    "    # Calculate the mean and standard deviation\n",
    "    mean = na_average_recon_error\n",
    "    std_dev = na_stdev_recon_error\n",
    "    prob_score_list = []\n",
    "    for i in range (len(input_list)):\n",
    "        aux_score = input_list[i] - mean\n",
    "        prob_score = ranges_mapper(abs(aux_score), 0, std_dev, 0, 50)\n",
    "        if prob_score<0:\n",
    "            prob_score = 0\n",
    "        if prob_score>100:\n",
    "            prob_score = 100\n",
    "        prob_score_list.append(prob_score)\n",
    "    return prob_score_list"
   ]
  },
  {
   "cell_type": "code",
   "execution_count": 112,
   "metadata": {},
   "outputs": [],
   "source": [
    "def computePred(err_value):\n",
    "    pred = 0\n",
    "    prob_anomaly = map_error2prob(err_value)/100\n",
    "    if prob_anomaly > 0.5:\n",
    "        pred = 1\n",
    "    return pred"
   ]
  },
  {
   "cell_type": "code",
   "execution_count": 113,
   "metadata": {},
   "outputs": [
    {
     "name": "stdout",
     "output_type": "stream",
     "text": [
      "1/1 [==============================] - 0s 703us/step - loss: 0.0060\n",
      "1/1 [==============================] - 0s 934us/step - loss: 0.0057\n",
      "1/1 [==============================] - 0s 769us/step - loss: 0.0055\n",
      "1/1 [==============================] - 0s 677us/step - loss: 0.0055\n",
      "1/1 [==============================] - 0s 874us/step - loss: 0.0055\n",
      "1/1 [==============================] - 0s 710us/step - loss: 0.0054\n",
      "1/1 [==============================] - 0s 743us/step - loss: 0.0057\n",
      "1/1 [==============================] - 0s 666us/step - loss: 0.0056\n",
      "1/1 [==============================] - 0s 648us/step - loss: 0.0061\n",
      "1/1 [==============================] - 0s 747us/step - loss: 0.0058\n",
      "1/1 [==============================] - 0s 814us/step - loss: 0.0060\n",
      "1/1 [==============================] - 0s 917us/step - loss: 0.0059\n",
      "1/1 [==============================] - 0s 606us/step - loss: 0.0061\n",
      "1/1 [==============================] - 0s 810us/step - loss: 0.0059\n",
      "1/1 [==============================] - 0s 1ms/step - loss: 0.0055\n",
      "1/1 [==============================] - 0s 753us/step - loss: 0.0060\n",
      "1/1 [==============================] - 0s 625us/step - loss: 0.0057\n",
      "1/1 [==============================] - 0s 828us/step - loss: 0.0055\n",
      "1/1 [==============================] - 0s 610us/step - loss: 0.0056\n",
      "1/1 [==============================] - 0s 667us/step - loss: 0.0063\n",
      "1/1 [==============================] - 0s 655us/step - loss: 0.0063\n",
      "1/1 [==============================] - 0s 626us/step - loss: 0.0065\n",
      "1/1 [==============================] - 0s 650us/step - loss: 0.0067\n",
      "1/1 [==============================] - 0s 689us/step - loss: 0.0067\n",
      "1/1 [==============================] - 0s 694us/step - loss: 0.0061\n",
      "1/1 [==============================] - 0s 734us/step - loss: 0.0080\n",
      "1/1 [==============================] - 0s 711us/step - loss: 0.0079\n",
      "1/1 [==============================] - 0s 644us/step - loss: 0.0079\n",
      "1/1 [==============================] - 0s 706us/step - loss: 0.0077\n",
      "1/1 [==============================] - 0s 687us/step - loss: 0.0080\n",
      "[[0.0, 0.0, 0.0, 0.0, 0.0, 0.0, 0.0, 0.0, 0.0, 0.0, 0.0, 0.0, 0.0, 0.0, 0.0, 0.0, 0.0, 0.0, 0.0, 0.0, 0.0, 0.0, 0.0, 0.0, 0.0, 1.0, 1.0, 1.0, 1.0, 1.0]]\n",
      "[[1, 0, 0, 0, 0, 0, 0, 0, 1, 0, 1, 0, 1, 0, 0, 1, 0, 0, 0, 1, 1, 1, 1, 1, 1, 1, 1, 1, 1, 1]]\n"
     ]
    }
   ],
   "source": [
    "y_pred_final = []\n",
    "y_true_final = []\n",
    "\n",
    "for i in range(len(test_set_generator)):        # Traversing all the batches of the test set\n",
    "    batch_images, labels = next(test_set_generator)\n",
    "    y_pred = []\n",
    "    y_true = []\n",
    "    for im in range(0, batch_images.shape[0]):  #Traversing all the images in the batch\n",
    "        img  = batch_images[im]\n",
    "        img = img[np.newaxis, :,:,:]\n",
    "        reconstruction = model.predict([[img]])\n",
    "        reconstruction_error = model.evaluate([reconstruction],[[img]])\n",
    "        prediction = computePred(reconstruction_error)   \n",
    "        y_pred.append(prediction) # Save Prediction\n",
    "        y_true.append(labels[im]) # Save Truth  \n",
    "    y_pred_final.append(y_pred)  \n",
    "    y_true_final.append(y_true)  \n",
    "print(y_true_final)\n",
    "print(y_pred_final)"
   ]
  },
  {
   "cell_type": "code",
   "execution_count": 114,
   "metadata": {},
   "outputs": [
    {
     "name": "stdout",
     "output_type": "stream",
     "text": [
      "[0, 0, 0, 0, 0, 0, 0, 0, 0, 0, 0, 0, 0, 0, 0, 0, 0, 0, 0, 0, 0, 0, 0, 0, 0, 1, 1, 1, 1, 1]\n",
      "[1, 0, 0, 0, 0, 0, 0, 0, 1, 0, 1, 0, 1, 0, 0, 1, 0, 0, 0, 1, 1, 1, 1, 1, 1, 1, 1, 1, 1, 1]\n"
     ]
    }
   ],
   "source": [
    "y_true_final = [item for sublist in y_true_final for item in sublist]\n",
    "y_true_final = [int(i) for i in y_true_final]\n",
    "y_pred_final = [item for sublist in y_pred_final for item in sublist]\n",
    "print(y_true_final)\n",
    "print(y_pred_final)"
   ]
  },
  {
   "cell_type": "code",
   "execution_count": null,
   "metadata": {},
   "outputs": [],
   "source": []
  }
 ],
 "metadata": {
  "kernelspec": {
   "display_name": "Python 3",
   "language": "python",
   "name": "python3"
  },
  "language_info": {
   "codemirror_mode": {
    "name": "ipython",
    "version": 3
   },
   "file_extension": ".py",
   "mimetype": "text/x-python",
   "name": "python",
   "nbconvert_exporter": "python",
   "pygments_lexer": "ipython3",
   "version": "3.8.10"
  },
  "orig_nbformat": 4,
  "vscode": {
   "interpreter": {
    "hash": "916dbcbb3f70747c44a77c7bcd40155683ae19c65e1c03b4aa3499c5328201f1"
   }
  }
 },
 "nbformat": 4,
 "nbformat_minor": 2
}
