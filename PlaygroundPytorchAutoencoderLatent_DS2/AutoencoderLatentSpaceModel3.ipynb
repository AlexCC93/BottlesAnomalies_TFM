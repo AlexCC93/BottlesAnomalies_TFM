{
 "cells": [
  {
   "attachments": {},
   "cell_type": "markdown",
   "metadata": {},
   "source": [
    "# Importing libraries"
   ]
  },
  {
   "cell_type": "code",
   "execution_count": 10,
   "metadata": {},
   "outputs": [],
   "source": [
    "import numpy as np\n",
    "import torch\n",
    "import torch.nn as nn\n",
    "import torch.nn.functional as F\n",
    "import torch.optim as optim\n",
    "import matplotlib.pyplot as plt\n",
    "from torch.utils.data.sampler import SubsetRandomSampler\n",
    "from torch.utils.data import DataLoader\n",
    "from torchvision import datasets, transforms\n",
    "import matplotlib.pyplot as plt\n",
    "%matplotlib inline\n",
    "import torch.nn as nn\n",
    "import torch.nn.functional as F\n"
   ]
  },
  {
   "attachments": {},
   "cell_type": "markdown",
   "metadata": {},
   "source": [
    "Working with CUDA capabilities."
   ]
  },
  {
   "cell_type": "code",
   "execution_count": 11,
   "metadata": {},
   "outputs": [
    {
     "name": "stdout",
     "output_type": "stream",
     "text": [
      "False\n",
      "0\n"
     ]
    },
    {
     "ename": "AssertionError",
     "evalue": "Torch not compiled with CUDA enabled",
     "output_type": "error",
     "traceback": [
      "\u001b[1;31m---------------------------------------------------------------------------\u001b[0m",
      "\u001b[1;31mAssertionError\u001b[0m                            Traceback (most recent call last)",
      "Cell \u001b[1;32mIn[11], line 4\u001b[0m\n\u001b[0;32m      1\u001b[0m \u001b[39mprint\u001b[39m(torch\u001b[39m.\u001b[39mcuda\u001b[39m.\u001b[39mis_available())\n\u001b[0;32m      2\u001b[0m \u001b[39mprint\u001b[39m(torch\u001b[39m.\u001b[39mcuda\u001b[39m.\u001b[39mdevice_count())\n\u001b[1;32m----> 4\u001b[0m \u001b[39mprint\u001b[39m(torch\u001b[39m.\u001b[39;49mcuda\u001b[39m.\u001b[39;49mcurrent_device())\n\u001b[0;32m      5\u001b[0m \u001b[39mprint\u001b[39m(torch\u001b[39m.\u001b[39mcuda\u001b[39m.\u001b[39mdevice(\u001b[39m0\u001b[39m))\n\u001b[0;32m      6\u001b[0m \u001b[39mprint\u001b[39m(torch\u001b[39m.\u001b[39mcuda\u001b[39m.\u001b[39mget_device_name(\u001b[39m0\u001b[39m))\n",
      "File \u001b[1;32mc:\\Users\\Alex\\.conda\\envs\\tfm\\lib\\site-packages\\torch\\cuda\\__init__.py:674\u001b[0m, in \u001b[0;36mcurrent_device\u001b[1;34m()\u001b[0m\n\u001b[0;32m    672\u001b[0m \u001b[39mdef\u001b[39;00m \u001b[39mcurrent_device\u001b[39m() \u001b[39m-\u001b[39m\u001b[39m>\u001b[39m \u001b[39mint\u001b[39m:\n\u001b[0;32m    673\u001b[0m     \u001b[39mr\u001b[39m\u001b[39m\"\"\"Returns the index of a currently selected device.\"\"\"\u001b[39;00m\n\u001b[1;32m--> 674\u001b[0m     _lazy_init()\n\u001b[0;32m    675\u001b[0m     \u001b[39mreturn\u001b[39;00m torch\u001b[39m.\u001b[39m_C\u001b[39m.\u001b[39m_cuda_getDevice()\n",
      "File \u001b[1;32mc:\\Users\\Alex\\.conda\\envs\\tfm\\lib\\site-packages\\torch\\cuda\\__init__.py:239\u001b[0m, in \u001b[0;36m_lazy_init\u001b[1;34m()\u001b[0m\n\u001b[0;32m    235\u001b[0m     \u001b[39mraise\u001b[39;00m \u001b[39mRuntimeError\u001b[39;00m(\n\u001b[0;32m    236\u001b[0m         \u001b[39m\"\u001b[39m\u001b[39mCannot re-initialize CUDA in forked subprocess. To use CUDA with \u001b[39m\u001b[39m\"\u001b[39m\n\u001b[0;32m    237\u001b[0m         \u001b[39m\"\u001b[39m\u001b[39mmultiprocessing, you must use the \u001b[39m\u001b[39m'\u001b[39m\u001b[39mspawn\u001b[39m\u001b[39m'\u001b[39m\u001b[39m start method\u001b[39m\u001b[39m\"\u001b[39m)\n\u001b[0;32m    238\u001b[0m \u001b[39mif\u001b[39;00m \u001b[39mnot\u001b[39;00m \u001b[39mhasattr\u001b[39m(torch\u001b[39m.\u001b[39m_C, \u001b[39m'\u001b[39m\u001b[39m_cuda_getDeviceCount\u001b[39m\u001b[39m'\u001b[39m):\n\u001b[1;32m--> 239\u001b[0m     \u001b[39mraise\u001b[39;00m \u001b[39mAssertionError\u001b[39;00m(\u001b[39m\"\u001b[39m\u001b[39mTorch not compiled with CUDA enabled\u001b[39m\u001b[39m\"\u001b[39m)\n\u001b[0;32m    240\u001b[0m \u001b[39mif\u001b[39;00m _cudart \u001b[39mis\u001b[39;00m \u001b[39mNone\u001b[39;00m:\n\u001b[0;32m    241\u001b[0m     \u001b[39mraise\u001b[39;00m \u001b[39mAssertionError\u001b[39;00m(\n\u001b[0;32m    242\u001b[0m         \u001b[39m\"\u001b[39m\u001b[39mlibcudart functions unavailable. It looks like you have a broken build?\u001b[39m\u001b[39m\"\u001b[39m)\n",
      "\u001b[1;31mAssertionError\u001b[0m: Torch not compiled with CUDA enabled"
     ]
    }
   ],
   "source": [
    "print(torch.cuda.is_available())\n",
    "print(torch.cuda.device_count())\n",
    "\n",
    "print(torch.cuda.current_device())\n",
    "print(torch.cuda.device(0))\n",
    "print(torch.cuda.get_device_name(0))"
   ]
  },
  {
   "attachments": {},
   "cell_type": "markdown",
   "metadata": {},
   "source": [
    "# Loading the train data set"
   ]
  },
  {
   "cell_type": "code",
   "execution_count": 8,
   "metadata": {},
   "outputs": [],
   "source": [
    "data_dir = '../../Images/june5Night/Positive/'      #This is for the home laptop\n",
    "# data_dir = '../../../../BottleStoodUp_atNight/Positive/'        #For the work laptop"
   ]
  },
  {
   "cell_type": "code",
   "execution_count": 9,
   "metadata": {},
   "outputs": [
    {
     "ename": "FileNotFoundError",
     "evalue": "[WinError 3] El sistema no puede encontrar la ruta especificada: '../../Images/june5Night/Positive/'",
     "output_type": "error",
     "traceback": [
      "\u001b[1;31m---------------------------------------------------------------------------\u001b[0m",
      "\u001b[1;31mFileNotFoundError\u001b[0m                         Traceback (most recent call last)",
      "Cell \u001b[1;32mIn[9], line 4\u001b[0m\n\u001b[0;32m      1\u001b[0m transform_characteristics \u001b[39m=\u001b[39m transforms\u001b[39m.\u001b[39mCompose([transforms\u001b[39m.\u001b[39mToTensor(),\n\u001b[0;32m      2\u001b[0m                                                 transforms\u001b[39m.\u001b[39mResize(\u001b[39m255\u001b[39m),\n\u001b[0;32m      3\u001b[0m                                                 transforms\u001b[39m.\u001b[39mCenterCrop(\u001b[39m224\u001b[39m)])\n\u001b[1;32m----> 4\u001b[0m dataset \u001b[39m=\u001b[39m datasets\u001b[39m.\u001b[39;49mImageFolder(data_dir, transform\u001b[39m=\u001b[39;49mtransform_characteristics)\n\u001b[0;32m      5\u001b[0m dataloader \u001b[39m=\u001b[39m torch\u001b[39m.\u001b[39mutils\u001b[39m.\u001b[39mdata\u001b[39m.\u001b[39mDataLoader(dataset, batch_size\u001b[39m=\u001b[39m\u001b[39m15\u001b[39m, shuffle\u001b[39m=\u001b[39m\u001b[39mTrue\u001b[39;00m)\n",
      "File \u001b[1;32mc:\\Users\\Alex\\.conda\\envs\\tfm\\lib\\site-packages\\torchvision\\datasets\\folder.py:309\u001b[0m, in \u001b[0;36mImageFolder.__init__\u001b[1;34m(self, root, transform, target_transform, loader, is_valid_file)\u001b[0m\n\u001b[0;32m    301\u001b[0m \u001b[39mdef\u001b[39;00m \u001b[39m__init__\u001b[39m(\n\u001b[0;32m    302\u001b[0m     \u001b[39mself\u001b[39m,\n\u001b[0;32m    303\u001b[0m     root: \u001b[39mstr\u001b[39m,\n\u001b[1;32m   (...)\u001b[0m\n\u001b[0;32m    307\u001b[0m     is_valid_file: Optional[Callable[[\u001b[39mstr\u001b[39m], \u001b[39mbool\u001b[39m]] \u001b[39m=\u001b[39m \u001b[39mNone\u001b[39;00m,\n\u001b[0;32m    308\u001b[0m ):\n\u001b[1;32m--> 309\u001b[0m     \u001b[39msuper\u001b[39;49m()\u001b[39m.\u001b[39;49m\u001b[39m__init__\u001b[39;49m(\n\u001b[0;32m    310\u001b[0m         root,\n\u001b[0;32m    311\u001b[0m         loader,\n\u001b[0;32m    312\u001b[0m         IMG_EXTENSIONS \u001b[39mif\u001b[39;49;00m is_valid_file \u001b[39mis\u001b[39;49;00m \u001b[39mNone\u001b[39;49;00m \u001b[39melse\u001b[39;49;00m \u001b[39mNone\u001b[39;49;00m,\n\u001b[0;32m    313\u001b[0m         transform\u001b[39m=\u001b[39;49mtransform,\n\u001b[0;32m    314\u001b[0m         target_transform\u001b[39m=\u001b[39;49mtarget_transform,\n\u001b[0;32m    315\u001b[0m         is_valid_file\u001b[39m=\u001b[39;49mis_valid_file,\n\u001b[0;32m    316\u001b[0m     )\n\u001b[0;32m    317\u001b[0m     \u001b[39mself\u001b[39m\u001b[39m.\u001b[39mimgs \u001b[39m=\u001b[39m \u001b[39mself\u001b[39m\u001b[39m.\u001b[39msamples\n",
      "File \u001b[1;32mc:\\Users\\Alex\\.conda\\envs\\tfm\\lib\\site-packages\\torchvision\\datasets\\folder.py:144\u001b[0m, in \u001b[0;36mDatasetFolder.__init__\u001b[1;34m(self, root, loader, extensions, transform, target_transform, is_valid_file)\u001b[0m\n\u001b[0;32m    134\u001b[0m \u001b[39mdef\u001b[39;00m \u001b[39m__init__\u001b[39m(\n\u001b[0;32m    135\u001b[0m     \u001b[39mself\u001b[39m,\n\u001b[0;32m    136\u001b[0m     root: \u001b[39mstr\u001b[39m,\n\u001b[1;32m   (...)\u001b[0m\n\u001b[0;32m    141\u001b[0m     is_valid_file: Optional[Callable[[\u001b[39mstr\u001b[39m], \u001b[39mbool\u001b[39m]] \u001b[39m=\u001b[39m \u001b[39mNone\u001b[39;00m,\n\u001b[0;32m    142\u001b[0m ) \u001b[39m-\u001b[39m\u001b[39m>\u001b[39m \u001b[39mNone\u001b[39;00m:\n\u001b[0;32m    143\u001b[0m     \u001b[39msuper\u001b[39m()\u001b[39m.\u001b[39m\u001b[39m__init__\u001b[39m(root, transform\u001b[39m=\u001b[39mtransform, target_transform\u001b[39m=\u001b[39mtarget_transform)\n\u001b[1;32m--> 144\u001b[0m     classes, class_to_idx \u001b[39m=\u001b[39m \u001b[39mself\u001b[39;49m\u001b[39m.\u001b[39;49mfind_classes(\u001b[39mself\u001b[39;49m\u001b[39m.\u001b[39;49mroot)\n\u001b[0;32m    145\u001b[0m     samples \u001b[39m=\u001b[39m \u001b[39mself\u001b[39m\u001b[39m.\u001b[39mmake_dataset(\u001b[39mself\u001b[39m\u001b[39m.\u001b[39mroot, class_to_idx, extensions, is_valid_file)\n\u001b[0;32m    147\u001b[0m     \u001b[39mself\u001b[39m\u001b[39m.\u001b[39mloader \u001b[39m=\u001b[39m loader\n",
      "File \u001b[1;32mc:\\Users\\Alex\\.conda\\envs\\tfm\\lib\\site-packages\\torchvision\\datasets\\folder.py:218\u001b[0m, in \u001b[0;36mDatasetFolder.find_classes\u001b[1;34m(self, directory)\u001b[0m\n\u001b[0;32m    191\u001b[0m \u001b[39mdef\u001b[39;00m \u001b[39mfind_classes\u001b[39m(\u001b[39mself\u001b[39m, directory: \u001b[39mstr\u001b[39m) \u001b[39m-\u001b[39m\u001b[39m>\u001b[39m Tuple[List[\u001b[39mstr\u001b[39m], Dict[\u001b[39mstr\u001b[39m, \u001b[39mint\u001b[39m]]:\n\u001b[0;32m    192\u001b[0m     \u001b[39m\"\"\"Find the class folders in a dataset structured as follows::\u001b[39;00m\n\u001b[0;32m    193\u001b[0m \n\u001b[0;32m    194\u001b[0m \u001b[39m        directory/\u001b[39;00m\n\u001b[1;32m   (...)\u001b[0m\n\u001b[0;32m    216\u001b[0m \u001b[39m        (Tuple[List[str], Dict[str, int]]): List of all classes and dictionary mapping each class to an index.\u001b[39;00m\n\u001b[0;32m    217\u001b[0m \u001b[39m    \"\"\"\u001b[39;00m\n\u001b[1;32m--> 218\u001b[0m     \u001b[39mreturn\u001b[39;00m find_classes(directory)\n",
      "File \u001b[1;32mc:\\Users\\Alex\\.conda\\envs\\tfm\\lib\\site-packages\\torchvision\\datasets\\folder.py:40\u001b[0m, in \u001b[0;36mfind_classes\u001b[1;34m(directory)\u001b[0m\n\u001b[0;32m     35\u001b[0m \u001b[39mdef\u001b[39;00m \u001b[39mfind_classes\u001b[39m(directory: \u001b[39mstr\u001b[39m) \u001b[39m-\u001b[39m\u001b[39m>\u001b[39m Tuple[List[\u001b[39mstr\u001b[39m], Dict[\u001b[39mstr\u001b[39m, \u001b[39mint\u001b[39m]]:\n\u001b[0;32m     36\u001b[0m     \u001b[39m\"\"\"Finds the class folders in a dataset.\u001b[39;00m\n\u001b[0;32m     37\u001b[0m \n\u001b[0;32m     38\u001b[0m \u001b[39m    See :class:`DatasetFolder` for details.\u001b[39;00m\n\u001b[0;32m     39\u001b[0m \u001b[39m    \"\"\"\u001b[39;00m\n\u001b[1;32m---> 40\u001b[0m     classes \u001b[39m=\u001b[39m \u001b[39msorted\u001b[39m(entry\u001b[39m.\u001b[39mname \u001b[39mfor\u001b[39;00m entry \u001b[39min\u001b[39;00m os\u001b[39m.\u001b[39;49mscandir(directory) \u001b[39mif\u001b[39;00m entry\u001b[39m.\u001b[39mis_dir())\n\u001b[0;32m     41\u001b[0m     \u001b[39mif\u001b[39;00m \u001b[39mnot\u001b[39;00m classes:\n\u001b[0;32m     42\u001b[0m         \u001b[39mraise\u001b[39;00m \u001b[39mFileNotFoundError\u001b[39;00m(\u001b[39mf\u001b[39m\u001b[39m\"\u001b[39m\u001b[39mCouldn\u001b[39m\u001b[39m'\u001b[39m\u001b[39mt find any class folder in \u001b[39m\u001b[39m{\u001b[39;00mdirectory\u001b[39m}\u001b[39;00m\u001b[39m.\u001b[39m\u001b[39m\"\u001b[39m)\n",
      "\u001b[1;31mFileNotFoundError\u001b[0m: [WinError 3] El sistema no puede encontrar la ruta especificada: '../../Images/june5Night/Positive/'"
     ]
    }
   ],
   "source": [
    "transform_characteristics = transforms.Compose([transforms.ToTensor(),\n",
    "                                                transforms.Resize(255),\n",
    "                                                transforms.CenterCrop(224)])\n",
    "dataset = datasets.ImageFolder(data_dir, transform=transform_characteristics)\n",
    "dataloader = torch.utils.data.DataLoader(dataset, batch_size=15, shuffle=True)"
   ]
  },
  {
   "attachments": {},
   "cell_type": "markdown",
   "metadata": {},
   "source": [
    "We see 20 batches of 15 images each. Becasue we have in total 295 of positive images."
   ]
  },
  {
   "cell_type": "code",
   "execution_count": null,
   "metadata": {},
   "outputs": [
    {
     "name": "stdout",
     "output_type": "stream",
     "text": [
      "20\n"
     ]
    }
   ],
   "source": [
    "print(len(dataloader))"
   ]
  },
  {
   "cell_type": "code",
   "execution_count": null,
   "metadata": {},
   "outputs": [
    {
     "name": "stderr",
     "output_type": "stream",
     "text": [
      "c:\\Users\\alexj\\.conda\\envs\\tfm_3\\lib\\site-packages\\torchvision\\transforms\\functional.py:1603: UserWarning: The default value of the antialias parameter of all the resizing transforms (Resize(), RandomResizedCrop(), etc.) will change from None to True in v0.17, in order to be consistent across the PIL and Tensor backends. To suppress this warning, directly pass antialias=True (recommended, future default), antialias=None (current default, which means False for Tensors and True for PIL), or antialias=False (only works on Tensors - PIL will still use antialiasing). This also applies if you are using the inference transforms from the models weights: update the call to weights.transforms(antialias=True).\n",
      "  warnings.warn(\n"
     ]
    },
    {
     "name": "stdout",
     "output_type": "stream",
     "text": [
      "The images are stored in a variable of type:  <class 'torch.Tensor'>\n",
      "The classes labels are:  tensor([0, 0, 0, 0, 0, 0, 0, 0, 0, 0, 0, 0, 0, 0, 0])\n",
      "tensor(0.) tensor(1.)\n"
     ]
    }
   ],
   "source": [
    "images, labels = next(iter(dataloader))\n",
    "print(\"The images are stored in a variable of type: \", type(images))\n",
    "print(\"The classes labels are: \", labels)\n",
    "print(torch.min(images), torch.max(images))"
   ]
  },
  {
   "attachments": {},
   "cell_type": "markdown",
   "metadata": {},
   "source": [
    "# Showing one sample of the training set images"
   ]
  },
  {
   "attachments": {},
   "cell_type": "markdown",
   "metadata": {},
   "source": [
    "Grabbing only one image of the training set, permuting its shape sizes and converting to numpy to able to display it."
   ]
  },
  {
   "cell_type": "code",
   "execution_count": null,
   "metadata": {},
   "outputs": [
    {
     "data": {
      "text/plain": [
       "<matplotlib.image.AxesImage at 0x1d9f2537940>"
      ]
     },
     "execution_count": 7,
     "metadata": {},
     "output_type": "execute_result"
    },
    {
     "data": {
      "image/png": "[encoded data removed]",
      "text/plain": [
       "<Figure size 432x288 with 1 Axes>"
      ]
     },
     "metadata": {
      "needs_background": "light"
     },
     "output_type": "display_data"
    }
   ],
   "source": [
    "single_img = images[0]\n",
    "single_img_permuted = single_img.permute(1, 2, 0) \n",
    "single_img_numpy = single_img_permuted.detach().numpy()\n",
    "\n",
    "plt.imshow(single_img_numpy)"
   ]
  },
  {
   "cell_type": "markdown",
   "metadata": {},
   "source": [
    "Now, cropping the image to be of size 160x160."
   ]
  },
  {
   "cell_type": "code",
   "execution_count": null,
   "metadata": {},
   "outputs": [],
   "source": [
    "TOP_CROP_POS = 50\n",
    "LEFT_CROP_POS = 35"
   ]
  },
  {
   "cell_type": "code",
   "execution_count": null,
   "metadata": {},
   "outputs": [
    {
     "data": {
      "text/plain": [
       "<matplotlib.image.AxesImage at 0x1d9f8f37520>"
      ]
     },
     "execution_count": 9,
     "metadata": {},
     "output_type": "execute_result"
    },
    {
     "data": {
      "image/png": "[encoded data removed]",
      "text/plain": [
       "<Figure size 432x288 with 1 Axes>"
      ]
     },
     "metadata": {
      "needs_background": "light"
     },
     "output_type": "display_data"
    }
   ],
   "source": [
    "\n",
    "\n",
    "imgs_croped = transforms.functional.crop(images, TOP_CROP_POS, LEFT_CROP_POS, 160, 160)\n",
    "single_img = imgs_croped[0]\n",
    "single_img_permuted = single_img.permute(1, 2, 0) \n",
    "single_img_numpy = single_img_permuted.cpu().detach().numpy()\n",
    "\n",
    "plt.imshow(single_img_numpy)"
   ]
  },
  {
   "attachments": {},
   "cell_type": "markdown",
   "metadata": {},
   "source": [
    "# Building the model Autoencoder model"
   ]
  },
  {
   "cell_type": "code",
   "execution_count": null,
   "metadata": {},
   "outputs": [],
   "source": [
    "class Autoencoder(nn.Module):\n",
    "    def __init__(self):\n",
    "        super().__init__()        \n",
    "        # 15, 3, 160, 160.  Batch size, input channels, shape of the image.\n",
    "        input_channels = 3              # number of channels of the input image\n",
    "        output_channels = 55           # ~= 110/2. Shape of the input image divided by 2 approximately. \n",
    "        kernel_size = 9\n",
    "        padding_val = 1\n",
    "        stride_val = 5\n",
    "\n",
    "        output_channels_layer2 = output_channels*2+5\n",
    "        output_channels_layer3 = output_channels_layer2*2\n",
    "        \n",
    "        self.conv2d_1 = nn.Conv2d(input_channels, output_channels, kernel_size, stride=stride_val, padding=padding_val)\n",
    "        self.conv2d_2 = nn.Conv2d(output_channels, output_channels_layer2, kernel_size, stride=stride_val, padding=padding_val)\n",
    "        self.conv2d_3 = nn.Conv2d(output_channels_layer2, output_channels_layer3, 5)\n",
    "        self.relu1 = nn.ReLU()\n",
    "        self.relu2 = nn.ReLU()\n",
    "\n",
    "        self.fc = nn.Linear(output_channels_layer3, output_channels_layer3)\n",
    "        self.encoder_tanh = nn.Tanh()\n",
    "        self.decoder_tanh = nn.Tanh()\n",
    "        self.decoder_fc = nn.Linear(output_channels_layer3, output_channels_layer3)\n",
    "\n",
    "        self.convTranspose2d_1 = nn.ConvTranspose2d(output_channels_layer3, output_channels_layer2, 5)\n",
    "        self.convTranspose2d_2 = nn.ConvTranspose2d(output_channels_layer2, output_channels, kernel_size, stride=stride_val, padding=padding_val, output_padding=4)\n",
    "        self.convTranspose2d_3 = nn.ConvTranspose2d(output_channels, input_channels, kernel_size, stride=stride_val, padding=padding_val, output_padding=3)\n",
    "        self.relu3 = nn.ReLU()\n",
    "        self.relu4 = nn.ReLU()\n",
    "        self.sigmoid = nn.Sigmoid()\n",
    "\n",
    "    def forward(self, x, flag = False):\n",
    "        if flag:\n",
    "            print(\"The FORWARD function is starting\")\n",
    "\n",
    "            print(\"The ENCODER part is executing\")\n",
    "            output = x\n",
    "            print(\"The input image shape is: \", output.shape)\n",
    "            output = self.conv2d_1(output)\n",
    "            print(\"self.conv2d_1 shape is: \", output.shape)\n",
    "            output = self.relu1(output)\n",
    "            output = self.conv2d_2(output)\n",
    "            print(\"self.conv2d_2 shape is: \", output.shape)\n",
    "            output = self.relu2(output)\n",
    "            output = self.conv2d_3(output)\n",
    "            print(\"self.conv2d_3 shape is: \", output.shape)\n",
    "\n",
    "            print(\"The LINEAR and TANH layers\")\n",
    "            output = output.view(output.size(0), -1)\n",
    "            print(\"output.view shape is: \", output.shape)\n",
    "            output = self.fc(output)\n",
    "            print(\"self.fc shape is: \", output.shape)\n",
    "            output = self.encoder_tanh(output)\n",
    "            print(\"self.encoder_tanh shape is: \", output.shape)\n",
    "\n",
    "            output = self.decoder_tanh(output)\n",
    "            print(\"self.decoder_tanh shape is: \", output.shape)\n",
    "            output = self.decoder_fc(output)\n",
    "            print(\"self.decoder_fc shape is: \", output.shape)\n",
    "            output = output.view(-1, output.size(1), 1, 1)\n",
    "            print(\"output.view shape is: \", output.shape)\n",
    "            \n",
    "\n",
    "            print(\"The DECODER part is executing\")\n",
    "            output = self.convTranspose2d_1(output)\n",
    "            print(\"self.convTranspose2d_1 shape is: \", output.shape)\n",
    "            output = self.relu3(output)\n",
    "            output = self.convTranspose2d_2(output)\n",
    "            print(\"self.convTranspose2d_2 shape is: \", output.shape)\n",
    "            output = self.relu4(output)\n",
    "            output = self.convTranspose2d_3(output)\n",
    "            print(\"self.convTranspose2d_3 shape is: \", output.shape)\n",
    "            output = self.sigmoid(output)\n",
    "            print(\"self.sigmoid shape is: \", output.shape)\n",
    "\n",
    "            print(\"Finish the FORWARD function\")\n",
    "        else:\n",
    "             # print(\"The FORWARD function is starting\")\n",
    "\n",
    "            # print(\"The ENCODER part is executing\")\n",
    "            output = x\n",
    "            # print(\"The input image shape is: \", output.shape)\n",
    "            output = self.conv2d_1(output)\n",
    "            # print(\"self.conv2d_1 shape is: \", output.shape)\n",
    "            output = self.relu1(output)\n",
    "            output = self.conv2d_2(output)\n",
    "            # print(\"self.conv2d_2 shape is: \", output.shape)\n",
    "            output = self.relu2(output)\n",
    "            output = self.conv2d_3(output)\n",
    "            # print(\"self.conv2d_3 shape is: \", output.shape)\n",
    "\n",
    "            # print(\"The LINEAR and TANH layers\")\n",
    "            output = output.view(output.size(0), -1)\n",
    "            # print(\"output.view shape is: \", output.shape)\n",
    "            output = self.fc(output)\n",
    "            # print(\"self.fc shape is: \", output.shape)\n",
    "            output = self.encoder_tanh(output)\n",
    "            # print(\"self.encoder_tanh shape is: \", output.shape)\n",
    "\n",
    "            output = self.decoder_tanh(output)\n",
    "            # print(\"self.decoder_tanh shape is: \", output.shape)\n",
    "            output = self.decoder_fc(output)\n",
    "            # print(\"self.decoder_fc shape is: \", output.shape)\n",
    "            output = output.view(-1, output.size(1), 1, 1)\n",
    "            # print(\"output.view shape is: \", output.shape)\n",
    "            \n",
    "\n",
    "            # print(\"The DECODER part is executing\")\n",
    "            output = self.convTranspose2d_1(output)\n",
    "            # print(\"self.convTranspose2d_1 shape is: \", output.shape)\n",
    "            output = self.relu3(output)\n",
    "            output = self.convTranspose2d_2(output)\n",
    "            # print(\"self.convTranspose2d_2 shape is: \", output.shape)\n",
    "            output = self.relu4(output)\n",
    "            output = self.convTranspose2d_3(output)\n",
    "            # print(\"self.convTranspose2d_3 shape is: \", output.shape)\n",
    "            output = self.sigmoid(output)\n",
    "            # print(\"self.sigmoid shape is: \", output.shape)\n",
    "\n",
    "            # print(\"Finish the FORWARD function\")\n",
    "        return output\n",
    "    \n",
    "    def show_one_layer_weights(self, index):\n",
    "        print(\"This is the one layer show function\")\n",
    "        i = 0\n",
    "        for name, m in self.named_modules():\n",
    "        # for m in self.modules():\n",
    "            if isinstance(m, nn.Conv2d) or isinstance(m, nn.Linear) or isinstance(m, nn.ConvTranspose2d):\n",
    "                if i == index:\n",
    "                    print(\"Layer name is:\", name)\n",
    "                    print(\"The weights are: \", m.weight)\n",
    "                i = i +1   \n",
    " \n",
    "# Note: nn.MaxPool2d -> use nn.MaxUnpool2d, or use different kernelsize, stride etc to compensate...\n",
    "# Input [-1, +1] -> use nn.Tanh"
   ]
  },
  {
   "attachments": {},
   "cell_type": "markdown",
   "metadata": {},
   "source": [
    "Making sure to use the GPU for the trainig stage"
   ]
  },
  {
   "cell_type": "code",
   "execution_count": null,
   "metadata": {},
   "outputs": [
    {
     "name": "stdout",
     "output_type": "stream",
     "text": [
      "cuda:0\n"
     ]
    }
   ],
   "source": [
    "def get_device():\n",
    "    if torch.cuda.is_available():\n",
    "        device = 'cuda:0'\n",
    "    else:\n",
    "        device = 'cpu'\n",
    "    return device\n",
    "\n",
    "device = get_device()\n",
    "print(device)"
   ]
  },
  {
   "cell_type": "code",
   "execution_count": null,
   "metadata": {},
   "outputs": [
    {
     "data": {
      "text/plain": [
       "Autoencoder(\n",
       "  (conv2d_1): Conv2d(3, 55, kernel_size=(9, 9), stride=(5, 5), padding=(1, 1))\n",
       "  (conv2d_2): Conv2d(55, 115, kernel_size=(9, 9), stride=(5, 5), padding=(1, 1))\n",
       "  (conv2d_3): Conv2d(115, 230, kernel_size=(5, 5), stride=(1, 1))\n",
       "  (relu1): ReLU()\n",
       "  (relu2): ReLU()\n",
       "  (fc): Linear(in_features=230, out_features=230, bias=True)\n",
       "  (encoder_tanh): Tanh()\n",
       "  (decoder_tanh): Tanh()\n",
       "  (decoder_fc): Linear(in_features=230, out_features=230, bias=True)\n",
       "  (convTranspose2d_1): ConvTranspose2d(230, 115, kernel_size=(5, 5), stride=(1, 1))\n",
       "  (convTranspose2d_2): ConvTranspose2d(115, 55, kernel_size=(9, 9), stride=(5, 5), padding=(1, 1), output_padding=(4, 4))\n",
       "  (convTranspose2d_3): ConvTranspose2d(55, 3, kernel_size=(9, 9), stride=(5, 5), padding=(1, 1), output_padding=(3, 3))\n",
       "  (relu3): ReLU()\n",
       "  (relu4): ReLU()\n",
       "  (sigmoid): Sigmoid()\n",
       ")"
      ]
     },
     "execution_count": 12,
     "metadata": {},
     "output_type": "execute_result"
    }
   ],
   "source": [
    "model = Autoencoder()\n",
    "\n",
    "criterion = nn.MSELoss()\n",
    "optimizer = torch.optim.Adam(model.parameters(),\n",
    "                             lr=1e-3, \n",
    "                             weight_decay=1e-5)\n",
    "model.to(device)"
   ]
  },
  {
   "cell_type": "code",
   "execution_count": null,
   "metadata": {},
   "outputs": [],
   "source": [
    "torch.cuda.empty_cache()"
   ]
  },
  {
   "attachments": {},
   "cell_type": "markdown",
   "metadata": {},
   "source": [
    "# Training the model"
   ]
  },
  {
   "cell_type": "code",
   "execution_count": null,
   "metadata": {},
   "outputs": [
    {
     "name": "stdout",
     "output_type": "stream",
     "text": [
      "2\n"
     ]
    }
   ],
   "source": [
    "val_dir_for_training = '../../Images/june5Night/Positive_val'      #This is for the home laptop\n",
    "\n",
    "transform_characteristics = transforms.Compose([transforms.ToTensor(),\n",
    "                                                transforms.Resize(255),\n",
    "                                                transforms.CenterCrop(224)])\n",
    "\n",
    "dataset_val_for_training = datasets.ImageFolder(val_dir_for_training, transform=transform_characteristics)\n",
    "dataloader_val_for_training = torch.utils.data.DataLoader(dataset_val_for_training, batch_size=15, shuffle=True)\n",
    "print(len(dataloader_val_for_training))"
   ]
  },
  {
   "attachments": {},
   "cell_type": "markdown",
   "metadata": {},
   "source": [
    "Actually training the model with early stopping and storing the loss function values accross all epochs."
   ]
  },
  {
   "cell_type": "code",
   "execution_count": null,
   "metadata": {},
   "outputs": [],
   "source": [
    "# epochs_toCheck_earlyStopping = 10\n",
    "# min_diff_earlyStopping = 0.0005\n",
    "# # Point to training loop video\n",
    "# num_epochs = 300\n",
    "# outputs = []\n",
    "# prev_losses = [float('inf')] * epochs_toCheck_earlyStopping  # Initialize previous losses with infinity\n",
    "# losses_list = []\n",
    "# losses_avg_list = []\n",
    "\n",
    "# losses_val_list = []\n",
    "# losses_val_avg_list = []\n",
    "\n",
    "# for epoch in range(num_epochs):\n",
    "#     for (img, _) in dataloader:     # This iterates over the batches of images.\n",
    "#         img = img.to(device)\n",
    "#         # Forward pass\n",
    "#         recon = model(img)          # The entire batch of images is passed to the model\n",
    "#         loss = criterion(recon, img)\n",
    "\n",
    "#         # Backward and optimize\n",
    "#         optimizer.zero_grad()       # Sets the gradients of all optimized torch.Tensors to zero\n",
    "#         loss.backward()             # The accumulation (or sum) of all the gradients is calculated     \n",
    "#         optimizer.step()            # can be called once the gradients are computed \n",
    "#         losses_list.append(loss.item())  \n",
    "\n",
    "#     for (img, _) in dataloader_val_for_training:     # This iterates over the batches of images.\n",
    "#         img = img.to(device)\n",
    "#         # Forward pass\n",
    "#         recon_val = model(img.cuda())          # The entire batch of images is passed to the model\n",
    "#         losses_val = criterion(recon_val, img)\n",
    "#         losses_val_list.append(losses_val.item())\n",
    "\n",
    "#     loss_avg_epoch = np.mean(losses_list[-len(dataloader):])\n",
    "#     losses_avg_list.append(loss_avg_epoch)\n",
    "    \n",
    "#     loss_val_avg_epoch = np.mean(losses_val_list[-len(dataloader_val_for_training):])\n",
    "#     losses_val_avg_list.append(loss_val_avg_epoch)\n",
    "\n",
    "#     print(f'Epoch:{epoch+1}, average training loss:{loss_avg_epoch:.4f}, average validation loss:{loss_val_avg_epoch:.4f}')\n",
    "\n",
    "#     # Append the current validation loss to the previous losses list\n",
    "#     prev_losses.append(loss_val_avg_epoch)\n",
    "#     prev_losses = prev_losses[-epochs_toCheck_earlyStopping:]  # Keep only the last 10 losses\n",
    "#     # print(prev_losses)\n",
    "#     # Check if the last 10 losses are the same (within a tolerance)\n",
    "#     stop_training = all(abs(loss_val_avg_epoch - prev_loss) < min_diff_earlyStopping for prev_loss in prev_losses)\n",
    "\n",
    "#     # Break the training loop if the stopping condition is met\n",
    "#     if stop_training:\n",
    "#         print('Early stopping triggered. Training stopped.')\n",
    "#         break\n",
    "\n",
    "# # open file\n",
    "# with open('losseslistTrain.txt', 'w+') as g:\n",
    "#     # write elements of list\n",
    "#     for items in losses_list:\n",
    "#         g.write('%s\\n' %items)\n",
    "#     print(\"losseslistTrain written successfully\")\n",
    "# # close the file\n",
    "# g.close() \n",
    "\n",
    "# # open file\n",
    "# with open('losseslist_avg_Train.txt', 'w+') as g:\n",
    "#     # write elements of list\n",
    "#     for items in losses_avg_list:\n",
    "#         g.write('%s\\n' %items)\n",
    "#     print(\"losseslist_avg_Train written successfully\")\n",
    "# # close the file\n",
    "# g.close()\n",
    "\n",
    "# # open file\n",
    "# with open('losseslistVal.txt', 'w+') as g:\n",
    "#     # write elements of list\n",
    "#     for items in losses_val_list:\n",
    "#         g.write('%s\\n' %items)\n",
    "#     print(\"losseslistVal written successfully\")\n",
    "# # close the file\n",
    "# g.close() \n",
    "\n",
    "# # open file\n",
    "# with open('losses_avg_Val.txt', 'w+') as g:\n",
    "#     # write elements of list\n",
    "#     for items in losses_val_avg_list:\n",
    "#         g.write('%s\\n' %items)\n",
    "#     print(\"losseslist_avg_Val written successfully\")\n",
    "# # close the file\n",
    "# g.close()"
   ]
  },
  {
   "cell_type": "code",
   "execution_count": 17,
   "metadata": {},
   "outputs": [],
   "source": [
    "filepath = \"models/PytorchCUDA_AutoencoderDS2_croppingImages_V3\""
   ]
  },
  {
   "attachments": {},
   "cell_type": "markdown",
   "metadata": {},
   "source": [
    "Saving the model"
   ]
  },
  {
   "cell_type": "code",
   "execution_count": 15,
   "metadata": {},
   "outputs": [],
   "source": [
    "# torch.save(model.state_dict(), filepath)"
   ]
  },
  {
   "attachments": {},
   "cell_type": "markdown",
   "metadata": {},
   "source": [
    "Loading the model"
   ]
  },
  {
   "cell_type": "code",
   "execution_count": 18,
   "metadata": {},
   "outputs": [
    {
     "data": {
      "text/plain": [
       "Autoencoder(\n",
       "  (conv2d_1): Conv2d(3, 55, kernel_size=(9, 9), stride=(5, 5), padding=(1, 1))\n",
       "  (conv2d_2): Conv2d(55, 115, kernel_size=(9, 9), stride=(5, 5), padding=(1, 1))\n",
       "  (conv2d_3): Conv2d(115, 230, kernel_size=(5, 5), stride=(1, 1))\n",
       "  (relu1): ReLU()\n",
       "  (relu2): ReLU()\n",
       "  (fc): Linear(in_features=230, out_features=230, bias=True)\n",
       "  (encoder_tanh): Tanh()\n",
       "  (decoder_tanh): Tanh()\n",
       "  (decoder_fc): Linear(in_features=230, out_features=230, bias=True)\n",
       "  (convTranspose2d_1): ConvTranspose2d(230, 115, kernel_size=(5, 5), stride=(1, 1))\n",
       "  (convTranspose2d_2): ConvTranspose2d(115, 55, kernel_size=(9, 9), stride=(5, 5), padding=(1, 1), output_padding=(4, 4))\n",
       "  (convTranspose2d_3): ConvTranspose2d(55, 3, kernel_size=(9, 9), stride=(5, 5), padding=(1, 1), output_padding=(3, 3))\n",
       "  (relu3): ReLU()\n",
       "  (relu4): ReLU()\n",
       "  (sigmoid): Sigmoid()\n",
       ")"
      ]
     },
     "execution_count": 18,
     "metadata": {},
     "output_type": "execute_result"
    }
   ],
   "source": [
    "# For loading the model \n",
    "model.load_state_dict(torch.load(filepath))                                         # For home laptop\n",
    "# model.load_state_dict(torch.load(filepath, map_location=torch.device('cpu')))     # For work laptop\n",
    "model.eval()"
   ]
  },
  {
   "attachments": {},
   "cell_type": "markdown",
   "metadata": {},
   "source": [
    "The evolution of the loss function accross all epochs."
   ]
  },
  {
   "cell_type": "code",
   "execution_count": 19,
   "metadata": {},
   "outputs": [
    {
     "data": {
      "image/png": "[encoded data removed]",
      "text/plain": [
       "<Figure size 432x288 with 1 Axes>"
      ]
     },
     "metadata": {
      "needs_background": "light"
     },
     "output_type": "display_data"
    }
   ],
   "source": [
    "# Load data from the text file\n",
    "with open(\"txtFilesAutoencoder_V2/losseslist_avg_Train.txt\", \"r\") as file:\n",
    "    data = [float(line.strip()) for line in file]\n",
    "\n",
    "# Plot the data\n",
    "plt.plot(data)\n",
    "plt.xlabel(\"Epochs\")\n",
    "plt.ylabel(\"Cost\")\n",
    "plt.title(\"Loss function values\")\n",
    "plt.grid(True)\n",
    "plt.show()"
   ]
  },
  {
   "cell_type": "code",
   "execution_count": 20,
   "metadata": {},
   "outputs": [
    {
     "data": {
      "image/png": "[encoded data removed]",
      "text/plain": [
       "<Figure size 432x288 with 1 Axes>"
      ]
     },
     "metadata": {
      "needs_background": "light"
     },
     "output_type": "display_data"
    }
   ],
   "source": [
    "# Load data from the text file\n",
    "with open(\"txtFilesAutoencoder_V2/losses_avg_Val.txt\", \"r\") as file:\n",
    "    data = [float(line.strip()) for line in file]\n",
    "\n",
    "# Plot the data\n",
    "plt.plot(data)\n",
    "plt.xlabel(\"Epochs\")\n",
    "plt.ylabel(\"Cost\")\n",
    "plt.title(\"Loss function values\")\n",
    "plt.grid(True)\n",
    "plt.show()"
   ]
  },
  {
   "attachments": {},
   "cell_type": "markdown",
   "metadata": {},
   "source": [
    "Once the model has been trained we will show the results:\n",
    "\n",
    "The below function is used for formatting the image to make it able to be showed."
   ]
  },
  {
   "cell_type": "code",
   "execution_count": 21,
   "metadata": {},
   "outputs": [],
   "source": [
    "#Utility functions to un-normalize and display an image\n",
    "def imshow(img):\n",
    "    # img = img / 2 + 0.5  \n",
    "    plt.imshow(np.transpose(img, (1, 2, 0))) "
   ]
  },
  {
   "cell_type": "markdown",
   "metadata": {},
   "source": [
    "## Updating the weights of the Encoder part"
   ]
  },
  {
   "cell_type": "code",
   "execution_count": 22,
   "metadata": {},
   "outputs": [],
   "source": [
    "class Encoder(nn.Module):\n",
    "    def __init__(self):\n",
    "        super().__init__()        \n",
    "         # 15, 3, 160, 160.  Batch size, input channels, shape of the image.\n",
    "        input_channels = 3              # number of channels of the input image\n",
    "        output_channels = 55           # ~= 110/2. Shape of the input image divided by 2 approximately. \n",
    "        kernel_size = 9\n",
    "        padding_val = 1\n",
    "        stride_val = 5\n",
    "\n",
    "        \n",
    "        output_channels_layer2 = output_channels*2+5\n",
    "        output_channels_layer3 = output_channels_layer2*2\n",
    "        \n",
    "        self.conv2d_1 = nn.Conv2d(input_channels, output_channels, kernel_size, stride=stride_val, padding=padding_val)\n",
    "        self.conv2d_2 = nn.Conv2d(output_channels, output_channels_layer2, kernel_size, stride=stride_val, padding=padding_val)\n",
    "        self.conv2d_3 = nn.Conv2d(output_channels_layer2, output_channels_layer3, 5)\n",
    "        self.relu1 = nn.ReLU()\n",
    "        self.relu2 = nn.ReLU()\n",
    "\n",
    "        self.fc = nn.Linear(output_channels_layer3, output_channels_layer3)\n",
    "\n",
    "    def forward(self, x, flag = False):\n",
    "        if flag:\n",
    "            print(\"The FORWARD function is starting\")\n",
    "\n",
    "            print(\"The ENCODER part is executing\")\n",
    "            output = x\n",
    "            print(\"The input image shape is: \", output.shape)\n",
    "            output = self.conv2d_1(output)\n",
    "            print(\"self.conv2d_1 shape is: \", output.shape)\n",
    "            output = self.relu1(output)\n",
    "            output = self.conv2d_2(output)\n",
    "            print(\"self.conv2d_2 shape is: \", output.shape)\n",
    "            output = self.relu2(output)\n",
    "            output = self.conv2d_3(output)\n",
    "            print(\"self.conv2d_3 shape is: \", output.shape)\n",
    "\n",
    "            # print(\"The LINEAR and TANH layers\")\n",
    "            output = output.view(output.size(0), -1)\n",
    "            print(\"output.view shape is: \", output.shape)\n",
    "            output = self.fc(output)\n",
    "            print(\"self.fc shape is: \", output.shape)\n",
    "            print(\"Finish the FORWARD function\")\n",
    "\n",
    "        else:\n",
    "            # print(\"The FORWARD function is starting\")\n",
    "\n",
    "            # print(\"The ENCODER part is executing\")\n",
    "            output = x\n",
    "            # print(\"The input image shape is: \", output.shape)\n",
    "            output = self.conv2d_1(output)\n",
    "            # print(\"self.conv2d_1 shape is: \", output.shape)\n",
    "            output = self.relu1(output)\n",
    "            output = self.conv2d_2(output)\n",
    "            # print(\"self.conv2d_2 shape is: \", output.shape)\n",
    "            output = self.relu2(output)\n",
    "            output = self.conv2d_3(output)\n",
    "            # print(\"self.conv2d_3 shape is: \", output.shape)\n",
    "\n",
    "            # print(\"The LINEAR and TANH layers\")\n",
    "            output = output.view(output.size(0), -1)\n",
    "            # print(\"output.view shape is: \", output.shape)\n",
    "            output = self.fc(output)\n",
    "            # print(\"self.fc shape is: \", output.shape)\n",
    "\n",
    "        return output\n",
    "    \n",
    "    def show_modules(self):\n",
    "        print(\"This is the show modules function\")\n",
    "        i = 0\n",
    "        for m in self.modules():\n",
    "            print(m)\n",
    "            print(\"i is: \", i)\n",
    "            print(\"print the next module\")\n",
    "            i = i +1\n",
    "            \n",
    "    def show_one_layer_weights(self, index):\n",
    "        print(\"This is the one layer show function\")\n",
    "        i = 0\n",
    "        for name, m in self.named_modules():\n",
    "        # for m in self.modules():\n",
    "            if isinstance(m, nn.Conv2d) or isinstance(m, nn.Linear):\n",
    "                if i == index:\n",
    "                    print(\"Layer name is:\", name)\n",
    "                    print(\"The weights are: \", m.weight)\n",
    "                i = i +1                                 "
   ]
  },
  {
   "cell_type": "code",
   "execution_count": 23,
   "metadata": {},
   "outputs": [
    {
     "data": {
      "text/plain": [
       "Encoder(\n",
       "  (conv2d_1): Conv2d(3, 55, kernel_size=(9, 9), stride=(5, 5), padding=(1, 1))\n",
       "  (conv2d_2): Conv2d(55, 115, kernel_size=(9, 9), stride=(5, 5), padding=(1, 1))\n",
       "  (conv2d_3): Conv2d(115, 230, kernel_size=(5, 5), stride=(1, 1))\n",
       "  (relu1): ReLU()\n",
       "  (relu2): ReLU()\n",
       "  (fc): Linear(in_features=230, out_features=230, bias=True)\n",
       ")"
      ]
     },
     "execution_count": 23,
     "metadata": {},
     "output_type": "execute_result"
    }
   ],
   "source": [
    "model_encoder = Encoder()\n",
    "model_encoder.to(device)"
   ]
  },
  {
   "cell_type": "code",
   "execution_count": 24,
   "metadata": {},
   "outputs": [
    {
     "name": "stdout",
     "output_type": "stream",
     "text": [
      "Layer weights are successfully copied.\n",
      "Layer weights are successfully copied.\n",
      "Layer weights are successfully copied.\n",
      "Layer weights are successfully copied.\n",
      "Layer weights are successfully copied.\n",
      "Layer weights are successfully copied.\n",
      "Layer weights are successfully copied.\n",
      "Layer weights are successfully copied.\n"
     ]
    }
   ],
   "source": [
    "# Copy the layer weights from the base model to the target model\n",
    "for target_layer, base_layer in zip(model_encoder.children(), model.children()):\n",
    "    target_params = target_layer.parameters()\n",
    "    base_params = base_layer.parameters()\n",
    "\n",
    "    # Copy the weights from the base model to the target model\n",
    "    for target_param, base_param in zip(target_params, base_params):\n",
    "        target_param.data.copy_(base_param.data)\n",
    "\n",
    "# Verify if the weights are successfully copied\n",
    "for target_layer, base_layer in zip(model_encoder.children(), model.children()):\n",
    "    target_params = target_layer.parameters()\n",
    "    base_params = base_layer.parameters()\n",
    "\n",
    "    for target_param, base_param in zip(target_params, base_params):\n",
    "        if torch.allclose(target_param.data, base_param.data):\n",
    "            print(\"Layer weights are successfully copied.\")\n",
    "        else:\n",
    "            print(\"Error: Layer weights are not copied correctly.\")\n"
   ]
  },
  {
   "cell_type": "code",
   "execution_count": 25,
   "metadata": {},
   "outputs": [
    {
     "name": "stdout",
     "output_type": "stream",
     "text": [
      "This is the one layer show function\n",
      "Layer name is: fc\n",
      "The weights are:  Parameter containing:\n",
      "tensor([[ 3.7097e-04,  7.6802e-04,  6.6537e-04,  ...,  3.7190e-05,\n",
      "          2.6629e-02,  2.2305e-05],\n",
      "        [ 1.6935e-04,  2.1841e-04,  2.1496e-04,  ...,  7.5172e-05,\n",
      "         -2.5823e-02, -4.3789e-05],\n",
      "        [-1.6056e-04, -2.0024e-04, -1.9457e-04,  ..., -6.9219e-05,\n",
      "          2.5170e-02,  4.6309e-05],\n",
      "        ...,\n",
      "        [-5.8859e-05, -5.4875e-05, -6.6639e-05,  ...,  3.5479e-06,\n",
      "          2.3610e-02,  2.3858e-05],\n",
      "        [ 1.6383e-04,  2.3025e-04,  2.1378e-04,  ...,  4.2490e-05,\n",
      "         -2.4741e-02, -3.0664e-05],\n",
      "        [-1.6975e-04, -2.6600e-04, -2.5997e-04,  ..., -7.0299e-05,\n",
      "          2.6559e-02,  5.6339e-05]], device='cuda:0', requires_grad=True)\n"
     ]
    }
   ],
   "source": [
    "model_encoder.show_one_layer_weights(3)"
   ]
  },
  {
   "cell_type": "code",
   "execution_count": 26,
   "metadata": {},
   "outputs": [
    {
     "name": "stdout",
     "output_type": "stream",
     "text": [
      "This is the one layer show function\n",
      "Layer name is: fc\n",
      "The weights are:  Parameter containing:\n",
      "tensor([[ 3.7097e-04,  7.6802e-04,  6.6537e-04,  ...,  3.7190e-05,\n",
      "          2.6629e-02,  2.2305e-05],\n",
      "        [ 1.6935e-04,  2.1841e-04,  2.1496e-04,  ...,  7.5172e-05,\n",
      "         -2.5823e-02, -4.3789e-05],\n",
      "        [-1.6056e-04, -2.0024e-04, -1.9457e-04,  ..., -6.9219e-05,\n",
      "          2.5170e-02,  4.6309e-05],\n",
      "        ...,\n",
      "        [-5.8859e-05, -5.4875e-05, -6.6639e-05,  ...,  3.5479e-06,\n",
      "          2.3610e-02,  2.3858e-05],\n",
      "        [ 1.6383e-04,  2.3025e-04,  2.1378e-04,  ...,  4.2490e-05,\n",
      "         -2.4741e-02, -3.0664e-05],\n",
      "        [-1.6975e-04, -2.6600e-04, -2.5997e-04,  ..., -7.0299e-05,\n",
      "          2.6559e-02,  5.6339e-05]], device='cuda:0', requires_grad=True)\n"
     ]
    }
   ],
   "source": [
    "model.show_one_layer_weights(3)"
   ]
  },
  {
   "cell_type": "markdown",
   "metadata": {},
   "source": [
    "Above we see the parameters are the same, hence the weights updates has been successfully performed."
   ]
  },
  {
   "cell_type": "markdown",
   "metadata": {},
   "source": [
    "Check the usage of the \"model_encoder\" newtork in only one image."
   ]
  },
  {
   "cell_type": "code",
   "execution_count": 28,
   "metadata": {},
   "outputs": [
    {
     "name": "stdout",
     "output_type": "stream",
     "text": [
      "torch.Size([1, 3, 160, 160])\n",
      "The FORWARD function is starting\n",
      "The ENCODER part is executing\n",
      "The input image shape is:  torch.Size([1, 3, 160, 160])\n",
      "self.conv2d_1 shape is:  torch.Size([1, 55, 31, 31])\n",
      "self.conv2d_2 shape is:  torch.Size([1, 115, 5, 5])\n",
      "self.conv2d_3 shape is:  torch.Size([1, 230, 1, 1])\n",
      "The LINEAR and TANH layers\n",
      "output.view shape is:  torch.Size([1, 230])\n",
      "self.fc shape is:  torch.Size([1, 230])\n",
      "Finish the FORWARD function\n"
     ]
    }
   ],
   "source": [
    "num_epochs = 1\n",
    "outputs = []\n",
    "for epoch in range(num_epochs):\n",
    "    for i, (img, _) in enumerate(dataloader):\n",
    "        if i == 1:\n",
    "            break\n",
    "        img = img.to(device)\n",
    "        single_img = img[0]\n",
    "        imgs_croped = transforms.functional.crop(single_img.cuda(), TOP_CROP_POS, LEFT_CROP_POS, 160, 160)\n",
    "        image_in_tensor = imgs_croped[None, :].cuda()\n",
    "        print(image_in_tensor.shape)\n",
    "        # Forward pass\n",
    "        with torch.no_grad():\n",
    "            recon = model_encoder(image_in_tensor,True)          # The entire batch of images is passed to the model\n"
   ]
  },
  {
   "cell_type": "markdown",
   "metadata": {},
   "source": [
    "## Obtaining the KDE representation of the training set images"
   ]
  },
  {
   "cell_type": "code",
   "execution_count": 29,
   "metadata": {},
   "outputs": [
    {
     "name": "stderr",
     "output_type": "stream",
     "text": [
      "c:\\Users\\alexj\\.conda\\envs\\tfm_3\\lib\\site-packages\\torchvision\\transforms\\functional.py:1603: UserWarning: The default value of the antialias parameter of all the resizing transforms (Resize(), RandomResizedCrop(), etc.) will change from None to True in v0.17, in order to be consistent across the PIL and Tensor backends. To suppress this warning, directly pass antialias=True (recommended, future default), antialias=None (current default, which means False for Tensors and True for PIL), or antialias=False (only works on Tensors - PIL will still use antialiasing). This also applies if you are using the inference transforms from the models weights: update the call to weights.transforms(antialias=True).\n",
      "  warnings.warn(\n"
     ]
    }
   ],
   "source": [
    "########################################################\n",
    "# Calculate KDE using sklearn\n",
    "from sklearn.neighbors import KernelDensity\n",
    "\n",
    "#Get encoded output of input images = Latent space\n",
    "# encoded_images = model_encoder(images)\n",
    "encoded_images = []\n",
    "\n",
    "for i in range(len(dataset)):\n",
    "    X = dataset[i]\n",
    "    image_in_tensor = X[0]\n",
    "    imgs_croped = transforms.functional.crop(image_in_tensor.cuda(), TOP_CROP_POS, LEFT_CROP_POS, 160, 160)\n",
    "    image_in_tensor = imgs_croped[None, :].cuda()\n",
    "    with torch.no_grad():\n",
    "        # print(image_in_tensor.shape)\n",
    "        Y = model_encoder(image_in_tensor)  # should be same as X\n",
    "    encoded_images.append(Y)\n"
   ]
  },
  {
   "cell_type": "code",
   "execution_count": 30,
   "metadata": {},
   "outputs": [
    {
     "name": "stdout",
     "output_type": "stream",
     "text": [
      "295\n",
      "<class 'list'>\n",
      "<class 'torch.Tensor'>\n"
     ]
    }
   ],
   "source": [
    "print(len(encoded_images))\n",
    "print(type(encoded_images))\n",
    "print(type(encoded_images[0]))"
   ]
  },
  {
   "cell_type": "markdown",
   "metadata": {},
   "source": [
    "See that it is 295 length because it corresponds to all the images that belong to the training dataset. \n",
    " "
   ]
  },
  {
   "cell_type": "markdown",
   "metadata": {},
   "source": [
    "Convert \"encoded_images\" to a np array"
   ]
  },
  {
   "cell_type": "code",
   "execution_count": 31,
   "metadata": {},
   "outputs": [
    {
     "name": "stdout",
     "output_type": "stream",
     "text": [
      "<class 'numpy.ndarray'>\n"
     ]
    }
   ],
   "source": [
    "np_encoded_images = []\n",
    "for i in range (len(encoded_images)):\n",
    "    # np_conversion = encoded_images[i].detach().numpy()        # If not using GPU\n",
    "    np_conversion = encoded_images[i].cpu().detach().numpy()    # If using GPU\n",
    "    np_encoded_images.append(np_conversion)\n",
    "np_encoded_images = np.array(np_encoded_images)\n",
    "print(type(np_encoded_images))"
   ]
  },
  {
   "cell_type": "code",
   "execution_count": 32,
   "metadata": {},
   "outputs": [
    {
     "name": "stdout",
     "output_type": "stream",
     "text": [
      "(295, 1, 230)\n"
     ]
    }
   ],
   "source": [
    "print(np_encoded_images.shape)"
   ]
  },
  {
   "cell_type": "markdown",
   "metadata": {},
   "source": [
    "Make sure to flatten the encoded images"
   ]
  },
  {
   "cell_type": "code",
   "execution_count": 33,
   "metadata": {},
   "outputs": [
    {
     "name": "stdout",
     "output_type": "stream",
     "text": [
      "(295, 230)\n"
     ]
    }
   ],
   "source": [
    "np_encoded_images_vector = np.squeeze(np_encoded_images)\n",
    "print(np_encoded_images_vector.shape)"
   ]
  },
  {
   "cell_type": "code",
   "execution_count": 34,
   "metadata": {},
   "outputs": [
    {
     "data": {
      "text/plain": [
       "(array([[ 1.,  1., 21., ...,  0.,  0.,  0.],\n",
       "        [ 0.,  0.,  0., ..., 20.,  9.,  1.],\n",
       "        [ 1.,  7., 21., ...,  0.,  0.,  0.],\n",
       "        ...,\n",
       "        [ 1.,  0., 15., ...,  0.,  0.,  0.],\n",
       "        [ 0.,  0.,  0., ..., 22.,  2.,  1.],\n",
       "        [ 1.,  3., 21., ...,  0.,  0.,  0.]]),\n",
       " array([-6.30725145e-01, -5.88698089e-01, -5.46671033e-01, -5.04643977e-01,\n",
       "        -4.62616891e-01, -4.20589834e-01, -3.78562778e-01, -3.36535722e-01,\n",
       "        -2.94508636e-01, -2.52481580e-01, -2.10454524e-01, -1.68427467e-01,\n",
       "        -1.26400396e-01, -8.43733400e-02, -4.23462763e-02, -3.19212675e-04,\n",
       "         4.17078510e-02,  8.37349147e-02,  1.25761971e-01,  1.67789042e-01,\n",
       "         2.09816098e-01,  2.51843154e-01,  2.93870211e-01,  3.35897297e-01,\n",
       "         3.77924353e-01,  4.19951409e-01,  4.61978465e-01,  5.04005551e-01,\n",
       "         5.46032608e-01,  5.88059664e-01,  6.30086720e-01]),\n",
       " <a list of 230 BarContainer objects>)"
      ]
     },
     "execution_count": 34,
     "metadata": {},
     "output_type": "execute_result"
    },
    {
     "data": {
      "image/png": "[encoded data removed]",
      "text/plain": [
       "<Figure size 432x288 with 1 Axes>"
      ]
     },
     "metadata": {
      "needs_background": "light"
     },
     "output_type": "display_data"
    }
   ],
   "source": [
    "plt.hist(np_encoded_images_vector, bins=30)"
   ]
  },
  {
   "cell_type": "markdown",
   "metadata": {},
   "source": [
    "We will approximate a kernel distribution to this data"
   ]
  },
  {
   "cell_type": "code",
   "execution_count": 35,
   "metadata": {},
   "outputs": [],
   "source": [
    "kde = KernelDensity(kernel='gaussian', bandwidth=0.2).fit(np_encoded_images_vector)"
   ]
  },
  {
   "cell_type": "code",
   "execution_count": 36,
   "metadata": {},
   "outputs": [
    {
     "name": "stdout",
     "output_type": "stream",
     "text": [
      "[157.05726896 156.99774691 157.01761869 157.01691403 157.00881567\n",
      " 157.04771617 157.05633587 157.05182435 157.04177864 157.07280302\n",
      " 157.06414201 157.05957458 156.94285169 156.7710369  156.84195824\n",
      " 157.0624478  157.07514978 157.07828083 157.07886523 157.05536608\n",
      " 157.07838203 157.06294255 157.05852251 157.05798451 156.90158468\n",
      " 156.95896899 157.06635812 157.03456894 157.03806213 157.06375326\n",
      " 157.05860722 157.05448951 157.06736859 157.07797176 156.56880526\n",
      " 156.56740191 156.46199996 156.90607915 157.04699541 156.77023887\n",
      " 156.59680395 157.06331139 156.97582128 156.94392011 156.74101342\n",
      " 156.68326923 156.70193297 156.55526408 156.45694791 156.72518604\n",
      " 156.71871602 156.95538424 156.96546777 156.97561636 156.92709559\n",
      " 156.99840758 157.07471449 157.07260843 156.88874364 156.61734212\n",
      " 156.73787913 157.01219382 157.06747897 157.07772093 157.07346756\n",
      " 157.07898819 157.02135569 156.98400676 156.96655702 156.90033071\n",
      " 156.96778391 157.05796887 157.06858379 157.07643658 157.06320642\n",
      " 157.05183165 157.05456949 157.06288892 156.64620012 157.03315021\n",
      " 157.027278   157.02557557 157.02480374 157.02769289 156.93579977\n",
      " 156.59877923 156.62968862 156.62455219 156.64141018 156.94028658\n",
      " 157.0037695  157.02920918 156.61806572 156.88936935 156.91242985\n",
      " 157.05755026 157.02729583 156.6167779  156.17386404 156.91933395\n",
      " 157.05445728 157.07378032 157.07137494 156.90124086 156.70449926\n",
      " 156.69477733 154.27765603 155.95279485 155.96861821 156.02207823\n",
      " 156.0251306  156.00774266 156.01754397 156.79665061 157.01959755\n",
      " 156.94972296 156.01423228 153.12790354 155.09814911 155.91137496\n",
      " 156.01656445 156.0291299  156.02429351 157.0744672  157.06714698\n",
      " 156.50557607 156.50212342 156.45333439 156.56703393 156.47581702\n",
      " 156.34441005 156.43009007 156.96938021 156.57421342 156.69534027\n",
      " 156.70216747 157.07124306 156.59666431 156.64599994 156.5097478\n",
      " 156.74690673 156.75729153 157.06801732 157.07859357 157.0717932\n",
      " 156.78240638 157.04888071 157.05487924 157.03091723 157.02369296\n",
      " 157.0376096  157.03269308 157.07211138 157.05897064 156.03089606\n",
      " 156.37848154 156.5194928  156.41826502 156.64146342 156.60222362\n",
      " 156.59650096 156.85526473 156.59870654 156.90197737 156.59820514\n",
      " 155.87866191 155.71747901 155.50538546 155.68444699 156.59658048\n",
      " 156.59683046 156.62498925 156.61258048 156.56092036 156.59612083\n",
      " 156.43850721 156.6114856  156.89274266 156.71980729 156.71026687\n",
      " 156.79279439 156.68466728 156.62364457 156.64537279 156.6235125\n",
      " 156.64630274 156.60983187 155.90437815 156.30166496 156.77654895\n",
      " 156.88106749 156.9540836  156.94555164 156.94308773 156.62328641\n",
      " 156.64116439 156.84667895 156.71103251 156.61970191 156.60339148\n",
      " 156.59691378 156.57964417 156.52659603 156.53918127 156.67230437\n",
      " 157.06310659 156.47135155 156.71124426 156.3783161  156.60363848\n",
      " 156.70975606 156.64524596 156.64631406 156.01584073 156.05618427\n",
      " 156.28005383 156.62229038 156.64156916 156.59647467 156.64631542\n",
      " 156.63221215 156.64268552 156.72424856 156.67168235 156.69587555\n",
      " 156.60552485 156.00153487 156.93648549 156.67534363 156.71113936\n",
      " 156.67855349 156.69734317 156.71108586 157.07593188 156.83668472\n",
      " 157.05119518 157.07425475 156.77282648 156.83080406 156.57951055\n",
      " 156.52720802 154.98091326 155.97594984 156.70424339 156.6942485\n",
      " 156.70666414 156.70385396 156.62868515 156.64334515 157.07640408\n",
      " 155.94914937 155.8621696  155.80811175 155.75822849 156.17382116\n",
      " 156.71031865 156.70848002 156.53460832 156.51942713 156.64477433\n",
      " 156.62707623 156.64212501 156.22749044 156.05138339 156.02357966\n",
      " 156.63217936 156.61094149 155.92524434 156.64621836 154.9523149\n",
      " 155.06293103 155.17424929 155.15787716 154.25738006 154.55300801\n",
      " 155.15484276 155.02258066 155.13207579 155.2327883  155.24865936\n",
      " 155.25956956 154.14804401 156.66450806 156.71042412 156.76084139\n",
      " 156.58654448 156.57783032 156.63227058 156.1149092  154.9717395\n",
      " 154.78483997 154.92583859 154.96108545 154.9684032  154.95394733]\n"
     ]
    }
   ],
   "source": [
    "density_vals = kde.score_samples(np_encoded_images_vector)\n",
    "print(density_vals)\n"
   ]
  },
  {
   "cell_type": "code",
   "execution_count": 37,
   "metadata": {},
   "outputs": [
    {
     "name": "stdout",
     "output_type": "stream",
     "text": [
      "(295,)\n"
     ]
    }
   ],
   "source": [
    "print(density_vals.shape)"
   ]
  },
  {
   "cell_type": "code",
   "execution_count": 38,
   "metadata": {},
   "outputs": [
    {
     "data": {
      "text/plain": [
       "<matplotlib.collections.PathCollection at 0x1da97de0fa0>"
      ]
     },
     "execution_count": 38,
     "metadata": {},
     "output_type": "execute_result"
    },
    {
     "data": {
      "image/png": "[encoded data removed]",
      "text/plain": [
       "<Figure size 432x288 with 1 Axes>"
      ]
     },
     "metadata": {
      "needs_background": "light"
     },
     "output_type": "display_data"
    }
   ],
   "source": [
    "plt.scatter(np.arange(len(density_vals)), density_vals, c='red')"
   ]
  },
  {
   "cell_type": "code",
   "execution_count": 39,
   "metadata": {},
   "outputs": [
    {
     "name": "stdout",
     "output_type": "stream",
     "text": [
      "The avg of the density values is:  156.56275175168622\n",
      "The stdev_density of the density values is:  0.6125943719003498\n"
     ]
    }
   ],
   "source": [
    "average_density = np.mean(density_vals)\n",
    "stdev_density = np.std(density_vals)\n",
    "print(\"The avg of the density values is: \", average_density)\n",
    "print(\"The stdev_density of the density values is: \", stdev_density)"
   ]
  },
  {
   "attachments": {},
   "cell_type": "markdown",
   "metadata": {},
   "source": [
    "# Function to check if an image contains anomalies"
   ]
  },
  {
   "attachments": {},
   "cell_type": "markdown",
   "metadata": {},
   "source": [
    "Based on the previously found score of the KDE samples, its average and its standard deviation values, it can be built a function that maps the KDE scores to a probability value of an image being considered as an anomaly or not.\n",
    "\n",
    "If the a given KDE score is outside the range of the standard deviation sum and subtraction to the average values, then that KDE score has more than 50% chance to be considered as an anomaly image."
   ]
  },
  {
   "cell_type": "code",
   "execution_count": 40,
   "metadata": {},
   "outputs": [],
   "source": [
    "def ranges_mapper(value, leftMin, leftMax, rightMin, rightMax):\n",
    "    # if(value>leftMax):\n",
    "    #     return rightMax\n",
    "    # Figure out how 'wide' each range is\n",
    "    leftSpan = leftMax - leftMin\n",
    "    rightSpan = rightMax - rightMin\n",
    "\n",
    "    # Convert the left range into a 0-1 range (float)\n",
    "    valueScaled = float(value - leftMin) / float(leftSpan)\n",
    "\n",
    "    # Convert the 0-1 range into a value in the right range.\n",
    "    return rightMin + (valueScaled * rightSpan)"
   ]
  },
  {
   "cell_type": "code",
   "execution_count": 41,
   "metadata": {},
   "outputs": [],
   "source": [
    "def map_kde2prob_list(input_list):\n",
    "    threshold_NOanomaly = average_density          # The mean of the density values corresponding to the non-anomaly images\n",
    "    std_dev_NOanomaly = stdev_density            # The std deviation of the density values corresponding to the non-anomaly images\n",
    "\n",
    "    prob_score_list = []\n",
    "\n",
    "    for i in range (len(input_list)):\n",
    "        score_NOanomaly = input_list[i] - threshold_NOanomaly\n",
    "\n",
    "        perc_NOanomaly = ranges_mapper(abs(score_NOanomaly), 0, std_dev_NOanomaly, 0, 50)\n",
    "        if perc_NOanomaly<0:\n",
    "            perc_NOanomaly = 0\n",
    "        if perc_NOanomaly>100:\n",
    "            perc_NOanomaly = 100\n",
    "        prob_score_list.append(perc_NOanomaly)\n",
    "    return prob_score_list"
   ]
  },
  {
   "cell_type": "code",
   "execution_count": 42,
   "metadata": {},
   "outputs": [],
   "source": [
    "def map_kde2prob(value):\n",
    "    threshold_NOanomaly = average_density          # The mean of the density values corresponding to the non-anomaly images\n",
    "    std_dev_NOanomaly = stdev_density            # The std deviation of the density values corresponding to the non-anomaly images\n",
    "\n",
    "    score_NOanomaly = value - threshold_NOanomaly\n",
    "\n",
    "    perc_NOanomaly = ranges_mapper(abs(score_NOanomaly), 0, std_dev_NOanomaly, 0, 50)\n",
    "    if perc_NOanomaly<0:\n",
    "        perc_NOanomaly = 0\n",
    "    if perc_NOanomaly>100:\n",
    "        perc_NOanomaly = 100\n",
    "    \n",
    "    prob_score = perc_NOanomaly\n",
    "    return prob_score"
   ]
  },
  {
   "cell_type": "code",
   "execution_count": 43,
   "metadata": {},
   "outputs": [
    {
     "name": "stdout",
     "output_type": "stream",
     "text": [
      "49.999999999999446\n"
     ]
    }
   ],
   "source": [
    "print(map_kde2prob(average_density+stdev_density))"
   ]
  },
  {
   "cell_type": "code",
   "execution_count": 44,
   "metadata": {},
   "outputs": [],
   "source": [
    "def computePred(kde_value):\n",
    "    pred = 0\n",
    "    prob_anomaly = map_kde2prob(kde_value)/100\n",
    "    if prob_anomaly > 0.5:\n",
    "        pred = 1\n",
    "    return pred"
   ]
  },
  {
   "cell_type": "code",
   "execution_count": 45,
   "metadata": {},
   "outputs": [
    {
     "name": "stdout",
     "output_type": "stream",
     "text": [
      "The prob of the kde value of being anomaly image is:  49.999999999999446\n",
      "Given the probability, it is actually predicted as: 0\n"
     ]
    }
   ],
   "source": [
    "print(\"The prob of the kde value of being anomaly image is: \", map_kde2prob(average_density+stdev_density))\n",
    "print(\"Given the probability, it is actually predicted as:\", computePred(average_density+stdev_density))"
   ]
  },
  {
   "attachments": {},
   "cell_type": "markdown",
   "metadata": {},
   "source": [
    "# Validating the performance of the model with KDE score directly"
   ]
  },
  {
   "attachments": {},
   "cell_type": "markdown",
   "metadata": {},
   "source": [
    "We will use the validation data set to find the best threshold value for predicting an image as anomaly or non-anomaly."
   ]
  },
  {
   "cell_type": "code",
   "execution_count": 46,
   "metadata": {},
   "outputs": [],
   "source": [
    "val_dir = '../../Images/june5Night/Validation'      #This is for the home laptop\n",
    "# test_dir = '../../../Images/BottleStoodUp_atNight/Evaluation'      #This is for the home laptop\n",
    "# test_dir = '../../../../BottleStoodUp_atNight/Evaluation'      #This is for the work laptop\n",
    "transform_characteristics = transforms.Compose([transforms.ToTensor(),\n",
    "                                                transforms.Resize(255),\n",
    "                                                transforms.CenterCrop(224)])\n",
    "\n",
    "dataset_val = datasets.ImageFolder(val_dir, transform=transform_characteristics)\n",
    "dataloader_val = torch.utils.data.DataLoader(dataset_val, batch_size=15, shuffle=True)\n",
    "classes = ('non-anomaly','anomaly')"
   ]
  },
  {
   "cell_type": "code",
   "execution_count": 48,
   "metadata": {},
   "outputs": [
    {
     "name": "stdout",
     "output_type": "stream",
     "text": [
      "The ground truth labels are:  [0, 0, 0, 0, 0, 0, 0, 0, 0, 0, 0, 0, 0, 0, 0, 0, 0, 0, 0, 0, 1, 1, 1, 1, 1, 1, 1, 1, 1, 1]\n",
      "The encoded_images len is:  30\n"
     ]
    }
   ],
   "source": [
    "y_true = []\n",
    "encoded_images = []\n",
    "\n",
    "for i in range(len(dataset_val)):\n",
    "    X = dataset_val[i]\n",
    "    image_in_tensor = X[0]\n",
    "    imgs_croped = transforms.functional.crop(image_in_tensor.cuda(), TOP_CROP_POS, LEFT_CROP_POS, 160, 160)\n",
    "    image_in_tensor = imgs_croped[None, :].cuda()   # If using the GPU\n",
    "    # image_in_tensor = image_in_tensor[None, :]   # If NO GPU\n",
    "    ground_truth = X[1]\n",
    "\n",
    "    with torch.no_grad():\n",
    "        Y = model_encoder(image_in_tensor)  # should be same as X\n",
    "    encoded_images.append(Y)\n",
    "    y_true.append(ground_truth) # Save Truth\n",
    "print(\"The ground truth labels are: \", y_true)\n",
    "print(\"The encoded_images len is: \", len(encoded_images)) \n",
    "\n"
   ]
  },
  {
   "cell_type": "code",
   "execution_count": 49,
   "metadata": {},
   "outputs": [
    {
     "name": "stdout",
     "output_type": "stream",
     "text": [
      "(30, 1, 230)\n",
      "(30, 230)\n"
     ]
    }
   ],
   "source": [
    "np_encoded_images = []\n",
    "for i in range (len(encoded_images)):\n",
    "    # np_conversion = encoded_images[i].detach().numpy()        # If not using GPU\n",
    "    np_conversion = encoded_images[i].cpu().detach().numpy()    # If using GPU\n",
    "    np_encoded_images.append(np_conversion)\n",
    "np_encoded_images = np.array(np_encoded_images)\n",
    "print(np_encoded_images.shape)\n",
    "np_encoded_images_vector = np.squeeze(np_encoded_images)\n",
    "print(np_encoded_images_vector.shape)"
   ]
  },
  {
   "cell_type": "code",
   "execution_count": 50,
   "metadata": {},
   "outputs": [
    {
     "name": "stdout",
     "output_type": "stream",
     "text": [
      "(30,)\n"
     ]
    }
   ],
   "source": [
    "density_validation = kde.score_samples(np_encoded_images_vector)\n",
    "print(density_validation.shape)"
   ]
  },
  {
   "cell_type": "code",
   "execution_count": 51,
   "metadata": {},
   "outputs": [
    {
     "name": "stdout",
     "output_type": "stream",
     "text": [
      "[156.75493384 156.95727889 157.07755595 156.65702454 156.88052461\n",
      " 157.03486252 156.89165318 156.99463626 154.18095313 156.62900522\n",
      " 156.70576127 156.68056169 156.66466341 156.70972368 156.48159147\n",
      " 156.81345166 157.06576501 154.04120719 155.20852012 156.56616723\n",
      " 155.23174109 155.01334419 146.24175469 153.90131357 155.15500098\n",
      " 156.01447629 157.02960281 154.95739713 154.17266903 154.11800052]\n"
     ]
    }
   ],
   "source": [
    "print(density_validation)"
   ]
  },
  {
   "attachments": {},
   "cell_type": "markdown",
   "metadata": {},
   "source": [
    "Let's compute the ROC and AUC score out of directly the KDE scores obtained from the images of the validation data set."
   ]
  },
  {
   "cell_type": "code",
   "execution_count": 52,
   "metadata": {},
   "outputs": [
    {
     "name": "stdout",
     "output_type": "stream",
     "text": [
      "AUC =  0.155\n"
     ]
    }
   ],
   "source": [
    "from sklearn import metrics\n",
    "print('AUC = ', metrics.roc_auc_score(y_true, density_validation))"
   ]
  },
  {
   "cell_type": "code",
   "execution_count": 53,
   "metadata": {},
   "outputs": [
    {
     "data": {
      "image/png": "[encoded data removed]",
      "text/plain": [
       "<Figure size 432x288 with 1 Axes>"
      ]
     },
     "metadata": {
      "needs_background": "light"
     },
     "output_type": "display_data"
    }
   ],
   "source": [
    "fpr, tpr, thresholds = metrics.roc_curve(y_true, density_validation)\n",
    "plt.plot(fpr, tpr, marker='.', label='AUROC = %0.3f' % metrics.roc_auc_score(y_true, density_validation))\n",
    "# Title\n",
    "plt.title('ROC Plot')\n",
    "# Axis labels\n",
    "plt.xlabel('False Positive Rate')\n",
    "plt.ylabel('True Positive Rate')\n",
    "# Show legend\n",
    "plt.legend() # \n",
    "# Show plot\n",
    "plt.show()"
   ]
  },
  {
   "cell_type": "code",
   "execution_count": 54,
   "metadata": {},
   "outputs": [
    {
     "name": "stdout",
     "output_type": "stream",
     "text": [
      "The fpr is:  [0.   0.05 0.15 0.15 0.85 0.85 0.9  0.9  0.95 0.95 1.   1.  ]\n",
      "The tpr is:  [0.  0.  0.  0.1 0.1 0.3 0.3 0.6 0.6 0.8 0.8 1. ]\n",
      "The thresholds are:  [158.07755595 157.07755595 157.03486252 157.02960281 156.48159147\n",
      " 155.23174109 155.20852012 154.95739713 154.18095313 154.11800052\n",
      " 154.04120719 146.24175469]\n"
     ]
    }
   ],
   "source": [
    "print(\"The fpr is: \", fpr)\n",
    "print(\"The tpr is: \", tpr)\n",
    "print(\"The thresholds are: \", thresholds)"
   ]
  },
  {
   "attachments": {},
   "cell_type": "markdown",
   "metadata": {},
   "source": [
    "The best threshold value for this is: 146.24175469 , let's asses this."
   ]
  },
  {
   "cell_type": "code",
   "execution_count": 55,
   "metadata": {},
   "outputs": [],
   "source": [
    "def pred_label_onProb(probs_list, prob_threshold):\n",
    "    pred_based_onProb = []\n",
    "    for i in range (len(probs_list)):\n",
    "        if probs_list[i] > prob_threshold:\n",
    "            prediction = 1                          ## Stands for classifiaction of anomaly bottle\n",
    "        else:\n",
    "            prediction = 0\n",
    "        pred_based_onProb.append(prediction)\n",
    "    return pred_based_onProb"
   ]
  },
  {
   "cell_type": "code",
   "execution_count": 56,
   "metadata": {},
   "outputs": [],
   "source": [
    "# from tensorflow.keras.metrics import Precision, Recall, BinaryAccuracy, SpecificityAtSensitivity\n",
    "from sklearn.metrics import confusion_matrix"
   ]
  },
  {
   "cell_type": "code",
   "execution_count": 57,
   "metadata": {},
   "outputs": [],
   "source": [
    "best_threshold_approach1 = 146.24175469"
   ]
  },
  {
   "cell_type": "code",
   "execution_count": 58,
   "metadata": {},
   "outputs": [
    {
     "name": "stdout",
     "output_type": "stream",
     "text": [
      "[[ 0 20]\n",
      " [ 0 10]]\n",
      "The FPR values are:  1.0\n",
      "The TPR values are:  1.0\n",
      "Using the threshold =  146.24175469\n"
     ]
    }
   ],
   "source": [
    "conf_matrix = confusion_matrix(y_true, pred_label_onProb(density_validation, best_threshold_approach1))\n",
    "print(conf_matrix)\n",
    "_tp = conf_matrix[1, 1]\n",
    "_fn = conf_matrix[1, 0]\n",
    "_fp = conf_matrix[0, 1]\n",
    "_tn = conf_matrix[0, 0]\n",
    "_tpr = _tp/(_tp+_fn)\n",
    "_fpr = _fp / (_tn + _fp)\n",
    "print(\"The FPR values are: \", _fpr)\n",
    "print(\"The TPR values are: \", _tpr)\n",
    "print(\"Using the threshold = \", best_threshold_approach1)"
   ]
  },
  {
   "attachments": {},
   "cell_type": "markdown",
   "metadata": {},
   "source": [
    "# Validating the performance of the model with the mapping of the density score to a probability value"
   ]
  },
  {
   "cell_type": "code",
   "execution_count": 59,
   "metadata": {},
   "outputs": [
    {
     "name": "stdout",
     "output_type": "stream",
     "text": [
      "The probability list is:  [15.685916519043152, 32.20133590996838, 42.018358512108186, 7.694552258008945, 25.936644869650095, 38.53371751022117, 26.84495971882926, 35.25044722472267, 100, 5.407613550923599, 11.672447939245858, 9.615656313382564, 8.318037833538265, 11.995860519536171, 6.624308336287166, 20.462145867100382, 41.05598085970218, 100, 100, 0.2787714534341387, 100, 100, 100, 100, 100, 44.75028516759797, 38.10441950244431, 100, 100, 100]\n",
      "The ground truth labels are:  [0, 0, 0, 0, 0, 0, 0, 0, 0, 0, 0, 0, 0, 0, 0, 0, 0, 0, 0, 0, 1, 1, 1, 1, 1, 1, 1, 1, 1, 1]\n"
     ]
    }
   ],
   "source": [
    "probs_list = map_kde2prob_list(density_validation)\n",
    "print(\"The probability list is: \", probs_list)\n",
    "print(\"The ground truth labels are: \", y_true)"
   ]
  },
  {
   "cell_type": "code",
   "execution_count": 60,
   "metadata": {},
   "outputs": [
    {
     "name": "stdout",
     "output_type": "stream",
     "text": [
      "AUC =  0.895\n"
     ]
    }
   ],
   "source": [
    "from sklearn import metrics\n",
    "print('AUC = ', metrics.roc_auc_score(y_true, probs_list))"
   ]
  },
  {
   "cell_type": "code",
   "execution_count": 61,
   "metadata": {},
   "outputs": [
    {
     "data": {
      "image/png": "[encoded data removed]",
      "text/plain": [
       "<Figure size 432x288 with 1 Axes>"
      ]
     },
     "metadata": {
      "needs_background": "light"
     },
     "output_type": "display_data"
    }
   ],
   "source": [
    "fpr, tpr, thresholds = metrics.roc_curve(y_true, probs_list)\n",
    "plt.plot(fpr, tpr, marker='.', label='AUROC = %0.3f' % metrics.roc_auc_score(y_true, probs_list))\n",
    "# Title\n",
    "plt.title('ROC Plot')\n",
    "# Axis labels\n",
    "plt.xlabel('False Positive Rate')\n",
    "plt.ylabel('True Positive Rate')\n",
    "# Show legend\n",
    "plt.legend() # \n",
    "# Show plot\n",
    "plt.show()"
   ]
  },
  {
   "cell_type": "code",
   "execution_count": 62,
   "metadata": {},
   "outputs": [
    {
     "name": "stdout",
     "output_type": "stream",
     "text": [
      "The fpr is:  [0.   0.15 0.15 0.3  0.3  1.  ]\n",
      "The tpr is:  [0.  0.8 0.9 0.9 1.  1. ]\n",
      "The thresholds are:  [101.         100.          44.75028517  38.53371751  38.1044195\n",
      "   0.27877145]\n"
     ]
    }
   ],
   "source": [
    "print(\"The fpr is: \", fpr)\n",
    "print(\"The tpr is: \", tpr)\n",
    "print(\"The thresholds are: \", thresholds)"
   ]
  },
  {
   "cell_type": "code",
   "execution_count": 63,
   "metadata": {},
   "outputs": [],
   "source": [
    "best_threshold_approach2 = 38.1044195"
   ]
  },
  {
   "attachments": {},
   "cell_type": "markdown",
   "metadata": {},
   "source": [
    "The best threshold in terms of FPR and TPR is 38.1044195. Let's asses that."
   ]
  },
  {
   "cell_type": "code",
   "execution_count": 64,
   "metadata": {},
   "outputs": [
    {
     "name": "stdout",
     "output_type": "stream",
     "text": [
      "[[14  6]\n",
      " [ 0 10]]\n",
      "The FPR values are:  0.3\n",
      "The TPR values are:  1.0\n",
      "Using the threshold =  38.1044195\n"
     ]
    }
   ],
   "source": [
    "conf_matrix = confusion_matrix(y_true, pred_label_onProb(probs_list, best_threshold_approach2))\n",
    "print(conf_matrix)\n",
    "_tp = conf_matrix[1, 1]\n",
    "_fn = conf_matrix[1, 0]\n",
    "_fp = conf_matrix[0, 1]\n",
    "_tn = conf_matrix[0, 0]\n",
    "_tpr = _tp/(_tp+_fn)\n",
    "_fpr = _fp / (_tn + _fp)\n",
    "print(\"The FPR values are: \", _fpr)\n",
    "print(\"The TPR values are: \", _tpr)\n",
    "print(\"Using the threshold = \", best_threshold_approach2)"
   ]
  },
  {
   "attachments": {},
   "cell_type": "markdown",
   "metadata": {},
   "source": [
    "# Evaluating the model. With the threhsold value of the direct density score"
   ]
  },
  {
   "cell_type": "code",
   "execution_count": 65,
   "metadata": {},
   "outputs": [],
   "source": [
    "test_dir = '../../Images/june5Night/Evaluation'      #This is for the home laptop\n",
    "# test_dir = '../../../Images/BottleStoodUp_atNight/Evaluation'      #This is for the home laptop\n",
    "# test_dir = '../../../../BottleStoodUp_atNight/Evaluation'      #This is for the work laptop\n",
    "transform_characteristics = transforms.Compose([transforms.ToTensor(),\n",
    "                                                transforms.Resize(255),\n",
    "                                                transforms.CenterCrop(224)])\n",
    "\n",
    "dataset_test = datasets.ImageFolder(test_dir, transform=transform_characteristics)\n",
    "dataloader_test = torch.utils.data.DataLoader(dataset_test, batch_size=15, shuffle=True)\n",
    "classes = ('non-anomaly','anomaly')"
   ]
  },
  {
   "cell_type": "code",
   "execution_count": 66,
   "metadata": {},
   "outputs": [
    {
     "name": "stderr",
     "output_type": "stream",
     "text": [
      "c:\\Users\\alexj\\.conda\\envs\\tfm_3\\lib\\site-packages\\torchvision\\transforms\\functional.py:1603: UserWarning: The default value of the antialias parameter of all the resizing transforms (Resize(), RandomResizedCrop(), etc.) will change from None to True in v0.17, in order to be consistent across the PIL and Tensor backends. To suppress this warning, directly pass antialias=True (recommended, future default), antialias=None (current default, which means False for Tensors and True for PIL), or antialias=False (only works on Tensors - PIL will still use antialiasing). This also applies if you are using the inference transforms from the models weights: update the call to weights.transforms(antialias=True).\n",
      "  warnings.warn(\n",
      "c:\\Users\\alexj\\.conda\\envs\\tfm_3\\lib\\site-packages\\torchvision\\transforms\\functional.py:1603: UserWarning: The default value of the antialias parameter of all the resizing transforms (Resize(), RandomResizedCrop(), etc.) will change from None to True in v0.17, in order to be consistent across the PIL and Tensor backends. To suppress this warning, directly pass antialias=True (recommended, future default), antialias=None (current default, which means False for Tensors and True for PIL), or antialias=False (only works on Tensors - PIL will still use antialiasing). This also applies if you are using the inference transforms from the models weights: update the call to weights.transforms(antialias=True).\n",
      "  warnings.warn(\n",
      "c:\\Users\\alexj\\.conda\\envs\\tfm_3\\lib\\site-packages\\torchvision\\transforms\\functional.py:1603: UserWarning: The default value of the antialias parameter of all the resizing transforms (Resize(), RandomResizedCrop(), etc.) will change from None to True in v0.17, in order to be consistent across the PIL and Tensor backends. To suppress this warning, directly pass antialias=True (recommended, future default), antialias=None (current default, which means False for Tensors and True for PIL), or antialias=False (only works on Tensors - PIL will still use antialiasing). This also applies if you are using the inference transforms from the models weights: update the call to weights.transforms(antialias=True).\n",
      "  warnings.warn(\n",
      "c:\\Users\\alexj\\.conda\\envs\\tfm_3\\lib\\site-packages\\torchvision\\transforms\\functional.py:1603: UserWarning: The default value of the antialias parameter of all the resizing transforms (Resize(), RandomResizedCrop(), etc.) will change from None to True in v0.17, in order to be consistent across the PIL and Tensor backends. To suppress this warning, directly pass antialias=True (recommended, future default), antialias=None (current default, which means False for Tensors and True for PIL), or antialias=False (only works on Tensors - PIL will still use antialiasing). This also applies if you are using the inference transforms from the models weights: update the call to weights.transforms(antialias=True).\n",
      "  warnings.warn(\n",
      "c:\\Users\\alexj\\.conda\\envs\\tfm_3\\lib\\site-packages\\torchvision\\transforms\\functional.py:1603: UserWarning: The default value of the antialias parameter of all the resizing transforms (Resize(), RandomResizedCrop(), etc.) will change from None to True in v0.17, in order to be consistent across the PIL and Tensor backends. To suppress this warning, directly pass antialias=True (recommended, future default), antialias=None (current default, which means False for Tensors and True for PIL), or antialias=False (only works on Tensors - PIL will still use antialiasing). This also applies if you are using the inference transforms from the models weights: update the call to weights.transforms(antialias=True).\n",
      "  warnings.warn(\n",
      "c:\\Users\\alexj\\.conda\\envs\\tfm_3\\lib\\site-packages\\torchvision\\transforms\\functional.py:1603: UserWarning: The default value of the antialias parameter of all the resizing transforms (Resize(), RandomResizedCrop(), etc.) will change from None to True in v0.17, in order to be consistent across the PIL and Tensor backends. To suppress this warning, directly pass antialias=True (recommended, future default), antialias=None (current default, which means False for Tensors and True for PIL), or antialias=False (only works on Tensors - PIL will still use antialiasing). This also applies if you are using the inference transforms from the models weights: update the call to weights.transforms(antialias=True).\n",
      "  warnings.warn(\n",
      "c:\\Users\\alexj\\.conda\\envs\\tfm_3\\lib\\site-packages\\torchvision\\transforms\\functional.py:1603: UserWarning: The default value of the antialias parameter of all the resizing transforms (Resize(), RandomResizedCrop(), etc.) will change from None to True in v0.17, in order to be consistent across the PIL and Tensor backends. To suppress this warning, directly pass antialias=True (recommended, future default), antialias=None (current default, which means False for Tensors and True for PIL), or antialias=False (only works on Tensors - PIL will still use antialiasing). This also applies if you are using the inference transforms from the models weights: update the call to weights.transforms(antialias=True).\n",
      "  warnings.warn(\n",
      "c:\\Users\\alexj\\.conda\\envs\\tfm_3\\lib\\site-packages\\torchvision\\transforms\\functional.py:1603: UserWarning: The default value of the antialias parameter of all the resizing transforms (Resize(), RandomResizedCrop(), etc.) will change from None to True in v0.17, in order to be consistent across the PIL and Tensor backends. To suppress this warning, directly pass antialias=True (recommended, future default), antialias=None (current default, which means False for Tensors and True for PIL), or antialias=False (only works on Tensors - PIL will still use antialiasing). This also applies if you are using the inference transforms from the models weights: update the call to weights.transforms(antialias=True).\n",
      "  warnings.warn(\n",
      "c:\\Users\\alexj\\.conda\\envs\\tfm_3\\lib\\site-packages\\torchvision\\transforms\\functional.py:1603: UserWarning: The default value of the antialias parameter of all the resizing transforms (Resize(), RandomResizedCrop(), etc.) will change from None to True in v0.17, in order to be consistent across the PIL and Tensor backends. To suppress this warning, directly pass antialias=True (recommended, future default), antialias=None (current default, which means False for Tensors and True for PIL), or antialias=False (only works on Tensors - PIL will still use antialiasing). This also applies if you are using the inference transforms from the models weights: update the call to weights.transforms(antialias=True).\n",
      "  warnings.warn(\n",
      "c:\\Users\\alexj\\.conda\\envs\\tfm_3\\lib\\site-packages\\torchvision\\transforms\\functional.py:1603: UserWarning: The default value of the antialias parameter of all the resizing transforms (Resize(), RandomResizedCrop(), etc.) will change from None to True in v0.17, in order to be consistent across the PIL and Tensor backends. To suppress this warning, directly pass antialias=True (recommended, future default), antialias=None (current default, which means False for Tensors and True for PIL), or antialias=False (only works on Tensors - PIL will still use antialiasing). This also applies if you are using the inference transforms from the models weights: update the call to weights.transforms(antialias=True).\n",
      "  warnings.warn(\n",
      "c:\\Users\\alexj\\.conda\\envs\\tfm_3\\lib\\site-packages\\torchvision\\transforms\\functional.py:1603: UserWarning: The default value of the antialias parameter of all the resizing transforms (Resize(), RandomResizedCrop(), etc.) will change from None to True in v0.17, in order to be consistent across the PIL and Tensor backends. To suppress this warning, directly pass antialias=True (recommended, future default), antialias=None (current default, which means False for Tensors and True for PIL), or antialias=False (only works on Tensors - PIL will still use antialiasing). This also applies if you are using the inference transforms from the models weights: update the call to weights.transforms(antialias=True).\n",
      "  warnings.warn(\n",
      "c:\\Users\\alexj\\.conda\\envs\\tfm_3\\lib\\site-packages\\torchvision\\transforms\\functional.py:1603: UserWarning: The default value of the antialias parameter of all the resizing transforms (Resize(), RandomResizedCrop(), etc.) will change from None to True in v0.17, in order to be consistent across the PIL and Tensor backends. To suppress this warning, directly pass antialias=True (recommended, future default), antialias=None (current default, which means False for Tensors and True for PIL), or antialias=False (only works on Tensors - PIL will still use antialiasing). This also applies if you are using the inference transforms from the models weights: update the call to weights.transforms(antialias=True).\n",
      "  warnings.warn(\n",
      "c:\\Users\\alexj\\.conda\\envs\\tfm_3\\lib\\site-packages\\torchvision\\transforms\\functional.py:1603: UserWarning: The default value of the antialias parameter of all the resizing transforms (Resize(), RandomResizedCrop(), etc.) will change from None to True in v0.17, in order to be consistent across the PIL and Tensor backends. To suppress this warning, directly pass antialias=True (recommended, future default), antialias=None (current default, which means False for Tensors and True for PIL), or antialias=False (only works on Tensors - PIL will still use antialiasing). This also applies if you are using the inference transforms from the models weights: update the call to weights.transforms(antialias=True).\n",
      "  warnings.warn(\n",
      "c:\\Users\\alexj\\.conda\\envs\\tfm_3\\lib\\site-packages\\torchvision\\transforms\\functional.py:1603: UserWarning: The default value of the antialias parameter of all the resizing transforms (Resize(), RandomResizedCrop(), etc.) will change from None to True in v0.17, in order to be consistent across the PIL and Tensor backends. To suppress this warning, directly pass antialias=True (recommended, future default), antialias=None (current default, which means False for Tensors and True for PIL), or antialias=False (only works on Tensors - PIL will still use antialiasing). This also applies if you are using the inference transforms from the models weights: update the call to weights.transforms(antialias=True).\n",
      "  warnings.warn(\n",
      "c:\\Users\\alexj\\.conda\\envs\\tfm_3\\lib\\site-packages\\torchvision\\transforms\\functional.py:1603: UserWarning: The default value of the antialias parameter of all the resizing transforms (Resize(), RandomResizedCrop(), etc.) will change from None to True in v0.17, in order to be consistent across the PIL and Tensor backends. To suppress this warning, directly pass antialias=True (recommended, future default), antialias=None (current default, which means False for Tensors and True for PIL), or antialias=False (only works on Tensors - PIL will still use antialiasing). This also applies if you are using the inference transforms from the models weights: update the call to weights.transforms(antialias=True).\n",
      "  warnings.warn(\n",
      "c:\\Users\\alexj\\.conda\\envs\\tfm_3\\lib\\site-packages\\torchvision\\transforms\\functional.py:1603: UserWarning: The default value of the antialias parameter of all the resizing transforms (Resize(), RandomResizedCrop(), etc.) will change from None to True in v0.17, in order to be consistent across the PIL and Tensor backends. To suppress this warning, directly pass antialias=True (recommended, future default), antialias=None (current default, which means False for Tensors and True for PIL), or antialias=False (only works on Tensors - PIL will still use antialiasing). This also applies if you are using the inference transforms from the models weights: update the call to weights.transforms(antialias=True).\n",
      "  warnings.warn(\n",
      "c:\\Users\\alexj\\.conda\\envs\\tfm_3\\lib\\site-packages\\torchvision\\transforms\\functional.py:1603: UserWarning: The default value of the antialias parameter of all the resizing transforms (Resize(), RandomResizedCrop(), etc.) will change from None to True in v0.17, in order to be consistent across the PIL and Tensor backends. To suppress this warning, directly pass antialias=True (recommended, future default), antialias=None (current default, which means False for Tensors and True for PIL), or antialias=False (only works on Tensors - PIL will still use antialiasing). This also applies if you are using the inference transforms from the models weights: update the call to weights.transforms(antialias=True).\n",
      "  warnings.warn(\n",
      "c:\\Users\\alexj\\.conda\\envs\\tfm_3\\lib\\site-packages\\torchvision\\transforms\\functional.py:1603: UserWarning: The default value of the antialias parameter of all the resizing transforms (Resize(), RandomResizedCrop(), etc.) will change from None to True in v0.17, in order to be consistent across the PIL and Tensor backends. To suppress this warning, directly pass antialias=True (recommended, future default), antialias=None (current default, which means False for Tensors and True for PIL), or antialias=False (only works on Tensors - PIL will still use antialiasing). This also applies if you are using the inference transforms from the models weights: update the call to weights.transforms(antialias=True).\n",
      "  warnings.warn(\n",
      "c:\\Users\\alexj\\.conda\\envs\\tfm_3\\lib\\site-packages\\torchvision\\transforms\\functional.py:1603: UserWarning: The default value of the antialias parameter of all the resizing transforms (Resize(), RandomResizedCrop(), etc.) will change from None to True in v0.17, in order to be consistent across the PIL and Tensor backends. To suppress this warning, directly pass antialias=True (recommended, future default), antialias=None (current default, which means False for Tensors and True for PIL), or antialias=False (only works on Tensors - PIL will still use antialiasing). This also applies if you are using the inference transforms from the models weights: update the call to weights.transforms(antialias=True).\n",
      "  warnings.warn(\n",
      "c:\\Users\\alexj\\.conda\\envs\\tfm_3\\lib\\site-packages\\torchvision\\transforms\\functional.py:1603: UserWarning: The default value of the antialias parameter of all the resizing transforms (Resize(), RandomResizedCrop(), etc.) will change from None to True in v0.17, in order to be consistent across the PIL and Tensor backends. To suppress this warning, directly pass antialias=True (recommended, future default), antialias=None (current default, which means False for Tensors and True for PIL), or antialias=False (only works on Tensors - PIL will still use antialiasing). This also applies if you are using the inference transforms from the models weights: update the call to weights.transforms(antialias=True).\n",
      "  warnings.warn(\n",
      "c:\\Users\\alexj\\.conda\\envs\\tfm_3\\lib\\site-packages\\torchvision\\transforms\\functional.py:1603: UserWarning: The default value of the antialias parameter of all the resizing transforms (Resize(), RandomResizedCrop(), etc.) will change from None to True in v0.17, in order to be consistent across the PIL and Tensor backends. To suppress this warning, directly pass antialias=True (recommended, future default), antialias=None (current default, which means False for Tensors and True for PIL), or antialias=False (only works on Tensors - PIL will still use antialiasing). This also applies if you are using the inference transforms from the models weights: update the call to weights.transforms(antialias=True).\n",
      "  warnings.warn(\n",
      "c:\\Users\\alexj\\.conda\\envs\\tfm_3\\lib\\site-packages\\torchvision\\transforms\\functional.py:1603: UserWarning: The default value of the antialias parameter of all the resizing transforms (Resize(), RandomResizedCrop(), etc.) will change from None to True in v0.17, in order to be consistent across the PIL and Tensor backends. To suppress this warning, directly pass antialias=True (recommended, future default), antialias=None (current default, which means False for Tensors and True for PIL), or antialias=False (only works on Tensors - PIL will still use antialiasing). This also applies if you are using the inference transforms from the models weights: update the call to weights.transforms(antialias=True).\n",
      "  warnings.warn(\n",
      "c:\\Users\\alexj\\.conda\\envs\\tfm_3\\lib\\site-packages\\torchvision\\transforms\\functional.py:1603: UserWarning: The default value of the antialias parameter of all the resizing transforms (Resize(), RandomResizedCrop(), etc.) will change from None to True in v0.17, in order to be consistent across the PIL and Tensor backends. To suppress this warning, directly pass antialias=True (recommended, future default), antialias=None (current default, which means False for Tensors and True for PIL), or antialias=False (only works on Tensors - PIL will still use antialiasing). This also applies if you are using the inference transforms from the models weights: update the call to weights.transforms(antialias=True).\n",
      "  warnings.warn(\n",
      "c:\\Users\\alexj\\.conda\\envs\\tfm_3\\lib\\site-packages\\torchvision\\transforms\\functional.py:1603: UserWarning: The default value of the antialias parameter of all the resizing transforms (Resize(), RandomResizedCrop(), etc.) will change from None to True in v0.17, in order to be consistent across the PIL and Tensor backends. To suppress this warning, directly pass antialias=True (recommended, future default), antialias=None (current default, which means False for Tensors and True for PIL), or antialias=False (only works on Tensors - PIL will still use antialiasing). This also applies if you are using the inference transforms from the models weights: update the call to weights.transforms(antialias=True).\n",
      "  warnings.warn(\n",
      "c:\\Users\\alexj\\.conda\\envs\\tfm_3\\lib\\site-packages\\torchvision\\transforms\\functional.py:1603: UserWarning: The default value of the antialias parameter of all the resizing transforms (Resize(), RandomResizedCrop(), etc.) will change from None to True in v0.17, in order to be consistent across the PIL and Tensor backends. To suppress this warning, directly pass antialias=True (recommended, future default), antialias=None (current default, which means False for Tensors and True for PIL), or antialias=False (only works on Tensors - PIL will still use antialiasing). This also applies if you are using the inference transforms from the models weights: update the call to weights.transforms(antialias=True).\n",
      "  warnings.warn(\n",
      "c:\\Users\\alexj\\.conda\\envs\\tfm_3\\lib\\site-packages\\torchvision\\transforms\\functional.py:1603: UserWarning: The default value of the antialias parameter of all the resizing transforms (Resize(), RandomResizedCrop(), etc.) will change from None to True in v0.17, in order to be consistent across the PIL and Tensor backends. To suppress this warning, directly pass antialias=True (recommended, future default), antialias=None (current default, which means False for Tensors and True for PIL), or antialias=False (only works on Tensors - PIL will still use antialiasing). This also applies if you are using the inference transforms from the models weights: update the call to weights.transforms(antialias=True).\n",
      "  warnings.warn(\n",
      "c:\\Users\\alexj\\.conda\\envs\\tfm_3\\lib\\site-packages\\torchvision\\transforms\\functional.py:1603: UserWarning: The default value of the antialias parameter of all the resizing transforms (Resize(), RandomResizedCrop(), etc.) will change from None to True in v0.17, in order to be consistent across the PIL and Tensor backends. To suppress this warning, directly pass antialias=True (recommended, future default), antialias=None (current default, which means False for Tensors and True for PIL), or antialias=False (only works on Tensors - PIL will still use antialiasing). This also applies if you are using the inference transforms from the models weights: update the call to weights.transforms(antialias=True).\n",
      "  warnings.warn(\n",
      "c:\\Users\\alexj\\.conda\\envs\\tfm_3\\lib\\site-packages\\torchvision\\transforms\\functional.py:1603: UserWarning: The default value of the antialias parameter of all the resizing transforms (Resize(), RandomResizedCrop(), etc.) will change from None to True in v0.17, in order to be consistent across the PIL and Tensor backends. To suppress this warning, directly pass antialias=True (recommended, future default), antialias=None (current default, which means False for Tensors and True for PIL), or antialias=False (only works on Tensors - PIL will still use antialiasing). This also applies if you are using the inference transforms from the models weights: update the call to weights.transforms(antialias=True).\n",
      "  warnings.warn(\n",
      "c:\\Users\\alexj\\.conda\\envs\\tfm_3\\lib\\site-packages\\torchvision\\transforms\\functional.py:1603: UserWarning: The default value of the antialias parameter of all the resizing transforms (Resize(), RandomResizedCrop(), etc.) will change from None to True in v0.17, in order to be consistent across the PIL and Tensor backends. To suppress this warning, directly pass antialias=True (recommended, future default), antialias=None (current default, which means False for Tensors and True for PIL), or antialias=False (only works on Tensors - PIL will still use antialiasing). This also applies if you are using the inference transforms from the models weights: update the call to weights.transforms(antialias=True).\n",
      "  warnings.warn(\n"
     ]
    },
    {
     "name": "stdout",
     "output_type": "stream",
     "text": [
      "The density score list is:  [array([157.01760706]), array([157.05180832]), array([157.06049126]), array([156.60450159]), array([157.07781767]), array([157.07553934]), array([156.6100303]), array([156.49588102]), array([156.02002794]), array([156.00893942]), array([153.12479667]), array([156.61070807]), array([156.0077328]), array([156.5963931]), array([156.63532995]), array([156.63651287]), array([156.02178868]), array([154.61672223]), array([154.97220177]), array([154.95436068]), array([155.67572255]), array([155.24641137]), array([156.64529322]), array([156.62924955]), array([153.79165999]), array([156.10825226]), array([156.9388456]), array([156.64939493]), array([154.88009551]), array([154.45638046])]\n",
      "The ground truth labels are:  [0, 0, 0, 0, 0, 0, 0, 0, 0, 0, 0, 0, 0, 0, 0, 0, 0, 0, 0, 0, 1, 1, 1, 1, 1, 1, 1, 1, 1, 1]\n"
     ]
    },
    {
     "name": "stderr",
     "output_type": "stream",
     "text": [
      "c:\\Users\\alexj\\.conda\\envs\\tfm_3\\lib\\site-packages\\torchvision\\transforms\\functional.py:1603: UserWarning: The default value of the antialias parameter of all the resizing transforms (Resize(), RandomResizedCrop(), etc.) will change from None to True in v0.17, in order to be consistent across the PIL and Tensor backends. To suppress this warning, directly pass antialias=True (recommended, future default), antialias=None (current default, which means False for Tensors and True for PIL), or antialias=False (only works on Tensors - PIL will still use antialiasing). This also applies if you are using the inference transforms from the models weights: update the call to weights.transforms(antialias=True).\n",
      "  warnings.warn(\n"
     ]
    }
   ],
   "source": [
    "y_true = []\n",
    "densityScore_lst = []\n",
    "\n",
    "for i in range(len(dataset_test)):\n",
    "    X = dataset_test[i]\n",
    "    image_in_tensor = X[0]\n",
    "    imgs_croped = transforms.functional.crop(image_in_tensor.cuda(), TOP_CROP_POS, LEFT_CROP_POS, 160, 160)\n",
    "    image_in_tensor = imgs_croped[None, :].cuda()   # If using the GPU\n",
    "    # image_in_tensor = image_in_tensor[None, :]   # If NO GPU\n",
    "    ground_truth = X[1]\n",
    "\n",
    "    with torch.no_grad():\n",
    "        Y = model_encoder(image_in_tensor)  # should be same as X\n",
    "    np_converted_encoded_img = Y.cpu().detach().numpy()\n",
    "    # print(np_converted_encoded_img.shape)\n",
    "    density_score = kde.score_samples(np_converted_encoded_img)\n",
    "    # print(density_score)\n",
    "    densityScore_lst.append(density_score)\n",
    "\n",
    "    y_true.append(ground_truth) # Save Truth\n",
    "print(\"The density score list is: \", densityScore_lst)\n",
    "print(\"The ground truth labels are: \", y_true)"
   ]
  },
  {
   "cell_type": "code",
   "execution_count": 67,
   "metadata": {},
   "outputs": [
    {
     "data": {
      "text/plain": [
       "156.56275175168622"
      ]
     },
     "execution_count": 67,
     "metadata": {},
     "output_type": "execute_result"
    }
   ],
   "source": [
    "average_density"
   ]
  },
  {
   "cell_type": "code",
   "execution_count": 68,
   "metadata": {},
   "outputs": [
    {
     "data": {
      "text/plain": [
       "0.6125943719003498"
      ]
     },
     "execution_count": 68,
     "metadata": {},
     "output_type": "execute_result"
    }
   ],
   "source": [
    "stdev_density"
   ]
  },
  {
   "cell_type": "code",
   "execution_count": 70,
   "metadata": {},
   "outputs": [
    {
     "data": {
      "text/plain": [
       "0.0"
      ]
     },
     "execution_count": 70,
     "metadata": {},
     "output_type": "execute_result"
    }
   ],
   "source": [
    "map_kde2prob(156.56275175168622)"
   ]
  },
  {
   "cell_type": "code",
   "execution_count": 71,
   "metadata": {},
   "outputs": [
    {
     "name": "stdout",
     "output_type": "stream",
     "text": [
      "[[ 0 20]\n",
      " [ 0 10]]\n",
      "The FPR values are:  1.0\n",
      "The TPR values are:  1.0\n",
      "Using the threshold =  146.24175469\n"
     ]
    }
   ],
   "source": [
    "conf_matrix = confusion_matrix(y_true, pred_label_onProb(densityScore_lst, best_threshold_approach1))\n",
    "print(conf_matrix)\n",
    "_tp = conf_matrix[1, 1]\n",
    "_fn = conf_matrix[1, 0]\n",
    "_fp = conf_matrix[0, 1]\n",
    "_tn = conf_matrix[0, 0]\n",
    "_tpr = _tp/(_tp+_fn)\n",
    "_fpr = _fp / (_tn + _fp)\n",
    "print(\"The FPR values are: \", _fpr)\n",
    "print(\"The TPR values are: \", _tpr)\n",
    "print(\"Using the threshold = \", best_threshold_approach1)"
   ]
  },
  {
   "cell_type": "code",
   "execution_count": 72,
   "metadata": {},
   "outputs": [
    {
     "name": "stdout",
     "output_type": "stream",
     "text": [
      "The groudn truth is:  [0, 0, 0, 0, 0, 0, 0, 0, 0, 0, 0, 0, 0, 0, 0, 0, 0, 0, 0, 0, 1, 1, 1, 1, 1, 1, 1, 1, 1, 1]\n",
      "The predicted label is:  [1, 1, 1, 1, 1, 1, 1, 1, 1, 1, 1, 1, 1, 1, 1, 1, 1, 1, 1, 1, 1, 1, 1, 1, 1, 1, 1, 1, 1, 1]\n"
     ]
    }
   ],
   "source": [
    "y_pred = pred_label_onProb(densityScore_lst, best_threshold_approach1)\n",
    "print(\"The groudn truth is: \", y_true)\n",
    "print(\"The predicted label is: \", y_pred)"
   ]
  },
  {
   "attachments": {},
   "cell_type": "markdown",
   "metadata": {},
   "source": [
    "# Applying evaluation metrics to these results"
   ]
  },
  {
   "attachments": {},
   "cell_type": "markdown",
   "metadata": {},
   "source": [
    "## Computing the confusion matrix"
   ]
  },
  {
   "cell_type": "code",
   "execution_count": 73,
   "metadata": {},
   "outputs": [],
   "source": [
    "from sklearn.metrics import confusion_matrix\n",
    "import pandas as pd\n",
    "import seaborn as sn"
   ]
  },
  {
   "cell_type": "code",
   "execution_count": 74,
   "metadata": {},
   "outputs": [
    {
     "name": "stdout",
     "output_type": "stream",
     "text": [
      "[[ 0 20]\n",
      " [ 0 10]]\n"
     ]
    }
   ],
   "source": [
    "conf_matrix = confusion_matrix(y_true, y_pred)\n",
    "print(conf_matrix)"
   ]
  },
  {
   "cell_type": "code",
   "execution_count": 75,
   "metadata": {},
   "outputs": [
    {
     "data": {
      "text/plain": [
       "Text(0.5, 15.0, 'Predicted label')"
      ]
     },
     "execution_count": 75,
     "metadata": {},
     "output_type": "execute_result"
    },
    {
     "data": {
      "image/png": "[encoded data removed]",
      "text/plain": [
       "<Figure size 432x288 with 2 Axes>"
      ]
     },
     "metadata": {
      "needs_background": "light"
     },
     "output_type": "display_data"
    }
   ],
   "source": [
    "group_names = ['True Neg','False Pos','False Neg','True Pos']\n",
    "group_counts = [\"{0:0.0f}\".format(value) for value in\n",
    "                conf_matrix.flatten()]\n",
    "group_percentages = [\"{0:.2%}\".format(value) for value in\n",
    "                     conf_matrix.flatten()/np.sum(conf_matrix)]\n",
    "labels = [f\"{v1}\\n{v2}\\n{v3}\" for v1, v2, v3 in\n",
    "          zip(group_names,group_counts,group_percentages)]        #To print the group names as well \n",
    "\n",
    "labels = np.asarray(labels).reshape(2,2)\n",
    "categories = ['Positive bottles', 'Anomaly bottles']\n",
    "sn.heatmap(conf_matrix, annot=labels, fmt='', xticklabels=categories,yticklabels=categories, cmap='Blues')\n",
    "plt.ylabel('True label')\n",
    "plt.xlabel('Predicted label')"
   ]
  },
  {
   "cell_type": "code",
   "execution_count": 76,
   "metadata": {},
   "outputs": [
    {
     "name": "stdout",
     "output_type": "stream",
     "text": [
      "The FPR values are:  1.0\n",
      "The TPR values are:  1.0\n"
     ]
    }
   ],
   "source": [
    "_tp = conf_matrix[1, 1]\n",
    "_fn = conf_matrix[1, 0]\n",
    "_fp = conf_matrix[0, 1]\n",
    "_tn = conf_matrix[0, 0]\n",
    "_tpr = _tp/(_tp+_fn)\n",
    "_fpr = _fp / (_tn + _fp)\n",
    "print(\"The FPR values are: \", _fpr)\n",
    "print(\"The TPR values are: \", _tpr)"
   ]
  },
  {
   "attachments": {},
   "cell_type": "markdown",
   "metadata": {},
   "source": [
    "## Precision metric"
   ]
  },
  {
   "attachments": {},
   "cell_type": "markdown",
   "metadata": {},
   "source": [
    "Precision = True positives / (True positives + False positives).\n",
    "\n",
    "Answers the question: Which proportion of positive predictions is actually right?"
   ]
  },
  {
   "cell_type": "code",
   "execution_count": 77,
   "metadata": {},
   "outputs": [
    {
     "name": "stdout",
     "output_type": "stream",
     "text": [
      "The precision is:  0.3333333333333333\n"
     ]
    }
   ],
   "source": [
    "precision = _tp/(_tp+_fp)\n",
    "print(\"The precision is: \", precision)\n"
   ]
  },
  {
   "attachments": {},
   "cell_type": "markdown",
   "metadata": {},
   "source": [
    "## Recall metric"
   ]
  },
  {
   "attachments": {},
   "cell_type": "markdown",
   "metadata": {},
   "source": [
    "Recall = TruePositives / (TruePositives + FalseNegatives)\n",
    "\n",
    "This metric is also called \"sensitiviy\" and TPR \"True Positive Rate\". It responds how good is the model at catching YESes?"
   ]
  },
  {
   "cell_type": "code",
   "execution_count": 78,
   "metadata": {},
   "outputs": [
    {
     "name": "stdout",
     "output_type": "stream",
     "text": [
      "The recall is:  1.0\n"
     ]
    }
   ],
   "source": [
    "recall = _tp/(_tp+_fn)\n",
    "print(\"The recall is: \", recall)"
   ]
  },
  {
   "attachments": {},
   "cell_type": "markdown",
   "metadata": {},
   "source": [
    "## Specificity"
   ]
  },
  {
   "attachments": {},
   "cell_type": "markdown",
   "metadata": {},
   "source": [
    "Specificity = True negatives / (True negatives + false positives)\n",
    "\n",
    "The specificity metric is the opposite as sensitivity, it tells us how good is the model at catching NOes. It measures the proportion of actual negatives that are correctly identified as such."
   ]
  },
  {
   "cell_type": "code",
   "execution_count": 79,
   "metadata": {},
   "outputs": [
    {
     "name": "stdout",
     "output_type": "stream",
     "text": [
      "The specificity is:  0.0\n"
     ]
    }
   ],
   "source": [
    "spec = _tn/(_tn+_fp)\n",
    "print(\"The specificity is: \", spec)"
   ]
  },
  {
   "attachments": {},
   "cell_type": "markdown",
   "metadata": {},
   "source": [
    "## Accuracy"
   ]
  },
  {
   "attachments": {},
   "cell_type": "markdown",
   "metadata": {},
   "source": [
    "Accuracy = (True negatives + True positives) / (True positives + True negatives + False positives + False negatives)"
   ]
  },
  {
   "cell_type": "code",
   "execution_count": 80,
   "metadata": {},
   "outputs": [
    {
     "name": "stdout",
     "output_type": "stream",
     "text": [
      "The accuracy is:  0.3333333333333333\n"
     ]
    }
   ],
   "source": [
    "acc = (_tn+_tp)/(_tn+_tp +_fp + _fn)\n",
    "print(\"The accuracy is: \", acc)"
   ]
  },
  {
   "attachments": {},
   "cell_type": "markdown",
   "metadata": {},
   "source": [
    "## The ROC curve"
   ]
  },
  {
   "cell_type": "code",
   "execution_count": 81,
   "metadata": {},
   "outputs": [],
   "source": [
    "from sklearn.metrics import roc_curve, roc_auc_score\n"
   ]
  },
  {
   "attachments": {},
   "cell_type": "markdown",
   "metadata": {},
   "source": [
    "Rather than the prediction of each sample (0 or 1 values) we need the probability of the samples to be predicted as an anomaly image. Hence, we compute this probability"
   ]
  },
  {
   "cell_type": "code",
   "execution_count": 82,
   "metadata": {},
   "outputs": [
    {
     "name": "stdout",
     "output_type": "stream",
     "text": [
      "AUROC = 0.390\n",
      "The fpr is:  [0.   0.05 0.25 0.25 0.35 0.35 0.6  0.6  0.8  0.8  0.9  0.9  0.95 0.95\n",
      " 1.  ]\n",
      "The tpr is:  [0.  0.  0.  0.3 0.3 0.4 0.4 0.5 0.5 0.7 0.7 0.8 0.8 1.  1. ]\n",
      "The thresholds are:  [158.07781767 157.07781767 157.01760706 156.64529322 156.63532995\n",
      " 156.62924955 156.49588102 156.10825226 156.0077328  155.24641137\n",
      " 154.95436068 154.88009551 154.61672223 153.79165999 153.12479667]\n"
     ]
    }
   ],
   "source": [
    "auc_score = roc_auc_score(y_true, densityScore_lst)\n",
    "print('AUROC = %.3f' % (auc_score))\n",
    "fpr, tpr, thresholds = roc_curve(y_true, densityScore_lst)\n",
    "print(\"The fpr is: \", fpr)\n",
    "print(\"The tpr is: \", tpr)\n",
    "print(\"The thresholds are: \", thresholds)"
   ]
  },
  {
   "cell_type": "code",
   "execution_count": 83,
   "metadata": {},
   "outputs": [
    {
     "data": {
      "image/png": "[encoded data removed]",
      "text/plain": [
       "<Figure size 432x288 with 1 Axes>"
      ]
     },
     "metadata": {
      "needs_background": "light"
     },
     "output_type": "display_data"
    }
   ],
   "source": [
    "plt.plot(fpr, tpr, marker='.', label='AUROC = %0.3f' % auc_score)\n",
    "# Title\n",
    "plt.title('ROC Plot')\n",
    "# Axis labels\n",
    "plt.xlabel('False Positive Rate')\n",
    "plt.ylabel('True Positive Rate')\n",
    "# Show legend\n",
    "plt.legend() # \n",
    "# Show plot\n",
    "plt.show()"
   ]
  },
  {
   "attachments": {},
   "cell_type": "markdown",
   "metadata": {},
   "source": [
    "# Evaluating the model. With the threhsold value computed from a probability value upon the reconstruction errors"
   ]
  },
  {
   "cell_type": "code",
   "execution_count": 84,
   "metadata": {},
   "outputs": [
    {
     "name": "stdout",
     "output_type": "stream",
     "text": [
      "The probability list is:  [37.12532554981791, 39.916834707791985, 40.62553744169167, 3.4076249891490447, 42.03972001492915, 41.85376273011692, 3.858878923863246, 5.4579946719706, 44.29715908428113, 45.202205636491584, 100, 3.914198235282867, 45.300689829205496, 2.7458094163279996, 5.923837883015054, 6.020387860979861, 44.15344811667375, 100, 100, 100, 72.39939208751719, 100, 6.737041381346098, 5.427555678432431, 100, 37.096283337361726, 30.696808870756914, 7.071823135394801, 100, 100]\n",
      "The ground truth labels are:  [0, 0, 0, 0, 0, 0, 0, 0, 0, 0, 0, 0, 0, 0, 0, 0, 0, 0, 0, 0, 1, 1, 1, 1, 1, 1, 1, 1, 1, 1]\n"
     ]
    }
   ],
   "source": [
    "probs_list = map_kde2prob_list(densityScore_lst)\n",
    "print(\"The probability list is: \", probs_list)\n",
    "print(\"The ground truth labels are: \", y_true)"
   ]
  },
  {
   "cell_type": "code",
   "execution_count": 85,
   "metadata": {},
   "outputs": [
    {
     "name": "stdout",
     "output_type": "stream",
     "text": [
      "[[ 8 12]\n",
      " [ 5  5]]\n",
      "The FPR values are:  0.6\n",
      "The TPR values are:  0.5\n",
      "Using the threshold =  38.1044195\n"
     ]
    }
   ],
   "source": [
    "conf_matrix = confusion_matrix(y_true, pred_label_onProb(probs_list, best_threshold_approach2))\n",
    "print(conf_matrix)\n",
    "_tp = conf_matrix[1, 1]\n",
    "_fn = conf_matrix[1, 0]\n",
    "_fp = conf_matrix[0, 1]\n",
    "_tn = conf_matrix[0, 0]\n",
    "_tpr = _tp/(_tp+_fn)\n",
    "_fpr = _fp / (_tn + _fp)\n",
    "print(\"The FPR values are: \", _fpr)\n",
    "print(\"The TPR values are: \", _tpr)\n",
    "print(\"Using the threshold = \", best_threshold_approach2)"
   ]
  },
  {
   "cell_type": "code",
   "execution_count": 92,
   "metadata": {},
   "outputs": [
    {
     "name": "stdout",
     "output_type": "stream",
     "text": [
      "The groudn truth is:  [0, 0, 0, 0, 0, 0, 0, 0, 0, 0, 0, 0, 0, 0, 0, 0, 0, 0, 0, 0, 1, 1, 1, 1, 1, 1, 1, 1, 1, 1]\n",
      "The predicted label is:  [0, 1, 1, 0, 1, 1, 0, 0, 1, 1, 1, 0, 1, 0, 0, 0, 1, 1, 1, 1, 1, 1, 0, 0, 1, 0, 0, 0, 1, 1]\n"
     ]
    }
   ],
   "source": [
    "y_pred = pred_label_onProb(probs_list, best_threshold_approach2)\n",
    "print(\"The groudn truth is: \", y_true)\n",
    "print(\"The predicted label is: \", y_pred)"
   ]
  },
  {
   "attachments": {},
   "cell_type": "markdown",
   "metadata": {},
   "source": [
    "# Applying evaluation metrics to these results"
   ]
  },
  {
   "attachments": {},
   "cell_type": "markdown",
   "metadata": {},
   "source": [
    "## Computing the confusion matrix"
   ]
  },
  {
   "cell_type": "code",
   "execution_count": 93,
   "metadata": {},
   "outputs": [],
   "source": [
    "from sklearn.metrics import confusion_matrix\n",
    "import pandas as pd\n",
    "import seaborn as sn"
   ]
  },
  {
   "cell_type": "code",
   "execution_count": 94,
   "metadata": {},
   "outputs": [
    {
     "name": "stdout",
     "output_type": "stream",
     "text": [
      "[[ 8 12]\n",
      " [ 5  5]]\n"
     ]
    }
   ],
   "source": [
    "conf_matrix = confusion_matrix(y_true, y_pred)\n",
    "print(conf_matrix)"
   ]
  },
  {
   "cell_type": "code",
   "execution_count": 95,
   "metadata": {},
   "outputs": [
    {
     "data": {
      "text/plain": [
       "Text(0.5, 15.0, 'Predicted label')"
      ]
     },
     "execution_count": 95,
     "metadata": {},
     "output_type": "execute_result"
    },
    {
     "data": {
      "image/png": "[encoded data removed]",
      "text/plain": [
       "<Figure size 432x288 with 2 Axes>"
      ]
     },
     "metadata": {
      "needs_background": "light"
     },
     "output_type": "display_data"
    }
   ],
   "source": [
    "group_names = ['True Neg','False Pos','False Neg','True Pos']\n",
    "group_counts = [\"{0:0.0f}\".format(value) for value in\n",
    "                conf_matrix.flatten()]\n",
    "group_percentages = [\"{0:.2%}\".format(value) for value in\n",
    "                     conf_matrix.flatten()/np.sum(conf_matrix)]\n",
    "labels = [f\"{v1}\\n{v2}\\n{v3}\" for v1, v2, v3 in\n",
    "          zip(group_names,group_counts,group_percentages)]        #To print the group names as well \n",
    "\n",
    "labels = np.asarray(labels).reshape(2,2)\n",
    "categories = ['Positive bottles', 'Anomaly bottles']\n",
    "sn.heatmap(conf_matrix, annot=labels, fmt='', xticklabels=categories,yticklabels=categories, cmap='Blues')\n",
    "plt.ylabel('True label')\n",
    "plt.xlabel('Predicted label')"
   ]
  },
  {
   "cell_type": "code",
   "execution_count": 96,
   "metadata": {},
   "outputs": [
    {
     "name": "stdout",
     "output_type": "stream",
     "text": [
      "The FPR values are:  0.6\n",
      "The TPR values are:  0.5\n"
     ]
    }
   ],
   "source": [
    "_tp = conf_matrix[1, 1]\n",
    "_fn = conf_matrix[1, 0]\n",
    "_fp = conf_matrix[0, 1]\n",
    "_tn = conf_matrix[0, 0]\n",
    "_tpr = _tp/(_tp+_fn)\n",
    "_fpr = _fp / (_tn + _fp)\n",
    "print(\"The FPR values are: \", _fpr)\n",
    "print(\"The TPR values are: \", _tpr)"
   ]
  },
  {
   "attachments": {},
   "cell_type": "markdown",
   "metadata": {},
   "source": [
    "## Precision metric"
   ]
  },
  {
   "attachments": {},
   "cell_type": "markdown",
   "metadata": {},
   "source": [
    "Precision = True positives / (True positives + False positives).\n",
    "\n",
    "Answers the question: Which proportion of positive predictions is actually right?"
   ]
  },
  {
   "cell_type": "code",
   "execution_count": 97,
   "metadata": {},
   "outputs": [
    {
     "name": "stdout",
     "output_type": "stream",
     "text": [
      "The precision is:  0.29411764705882354\n"
     ]
    }
   ],
   "source": [
    "precision = _tp/(_tp+_fp)\n",
    "print(\"The precision is: \", precision)\n"
   ]
  },
  {
   "attachments": {},
   "cell_type": "markdown",
   "metadata": {},
   "source": [
    "## Recall metric"
   ]
  },
  {
   "attachments": {},
   "cell_type": "markdown",
   "metadata": {},
   "source": [
    "Recall = TruePositives / (TruePositives + FalseNegatives)\n",
    "\n",
    "This metric is also called \"sensitiviy\" and TPR \"True Positive Rate\". It responds how good is the model at catching YESes?"
   ]
  },
  {
   "cell_type": "code",
   "execution_count": 98,
   "metadata": {},
   "outputs": [
    {
     "name": "stdout",
     "output_type": "stream",
     "text": [
      "The recall is:  0.5\n"
     ]
    }
   ],
   "source": [
    "recall = _tp/(_tp+_fn)\n",
    "print(\"The recall is: \", recall)"
   ]
  },
  {
   "attachments": {},
   "cell_type": "markdown",
   "metadata": {},
   "source": [
    "## Specificity"
   ]
  },
  {
   "attachments": {},
   "cell_type": "markdown",
   "metadata": {},
   "source": [
    "Specificity = True negatives / (True negatives + false positives)\n",
    "\n",
    "The specificity metric is the opposite as sensitivity, it tells us how good is the model at catching NOes. It measures the proportion of actual negatives that are correctly identified as such."
   ]
  },
  {
   "cell_type": "code",
   "execution_count": 99,
   "metadata": {},
   "outputs": [
    {
     "name": "stdout",
     "output_type": "stream",
     "text": [
      "The specificity is:  0.4\n"
     ]
    }
   ],
   "source": [
    "spec = _tn/(_tn+_fp)\n",
    "print(\"The specificity is: \", spec)"
   ]
  },
  {
   "attachments": {},
   "cell_type": "markdown",
   "metadata": {},
   "source": [
    "## Accuracy"
   ]
  },
  {
   "attachments": {},
   "cell_type": "markdown",
   "metadata": {},
   "source": [
    "Accuracy = (True negatives + True positives) / (True positives + True negatives + False positives + False negatives)"
   ]
  },
  {
   "cell_type": "code",
   "execution_count": 100,
   "metadata": {},
   "outputs": [
    {
     "name": "stdout",
     "output_type": "stream",
     "text": [
      "The accuracy is:  0.43333333333333335\n"
     ]
    }
   ],
   "source": [
    "acc = (_tn+_tp)/(_tn+_tp +_fp + _fn)\n",
    "print(\"The accuracy is: \", acc)"
   ]
  },
  {
   "attachments": {},
   "cell_type": "markdown",
   "metadata": {},
   "source": [
    "## The ROC curve"
   ]
  },
  {
   "cell_type": "code",
   "execution_count": 101,
   "metadata": {},
   "outputs": [],
   "source": [
    "from sklearn.metrics import roc_curve, roc_auc_score\n"
   ]
  },
  {
   "attachments": {},
   "cell_type": "markdown",
   "metadata": {},
   "source": [
    "Rather than the prediction of each sample (0 or 1 values) we need the probability of the samples to be predicted as an anomaly image. Hence, we compute this probability"
   ]
  },
  {
   "cell_type": "code",
   "execution_count": 102,
   "metadata": {},
   "outputs": [
    {
     "name": "stdout",
     "output_type": "stream",
     "text": [
      "AUROC = 0.600\n",
      "The fpr is:  [0.   0.2  0.2  0.65 0.65 0.8  0.8  1.  ]\n",
      "The tpr is:  [0.  0.4 0.5 0.5 0.9 0.9 1.  1. ]\n",
      "The thresholds are:  [101.         100.          72.39939209  37.12532555   6.73704138\n",
      "   5.45799467   5.42755568   2.74580942]\n"
     ]
    }
   ],
   "source": [
    "auc_score = roc_auc_score(y_true, probs_list)\n",
    "print('AUROC = %.3f' % (auc_score))\n",
    "fpr, tpr, thresholds = roc_curve(y_true, probs_list)\n",
    "print(\"The fpr is: \", fpr)\n",
    "print(\"The tpr is: \", tpr)\n",
    "print(\"The thresholds are: \", thresholds)"
   ]
  },
  {
   "cell_type": "code",
   "execution_count": 103,
   "metadata": {},
   "outputs": [
    {
     "data": {
      "image/png": "[encoded data removed]",
      "text/plain": [
       "<Figure size 432x288 with 1 Axes>"
      ]
     },
     "metadata": {
      "needs_background": "light"
     },
     "output_type": "display_data"
    }
   ],
   "source": [
    "plt.plot(fpr, tpr, marker='.', label='AUROC = %0.3f' % auc_score)\n",
    "# Title\n",
    "plt.title('ROC Plot')\n",
    "# Axis labels\n",
    "plt.xlabel('False Positive Rate')\n",
    "plt.ylabel('True Positive Rate')\n",
    "# Show legend\n",
    "plt.legend() # \n",
    "# Show plot\n",
    "plt.show()"
   ]
  }
 ],
 "metadata": {
  "kernelspec": {
   "display_name": "tfm",
   "language": "python",
   "name": "python3"
  },
  "language_info": {
   "codemirror_mode": {
    "name": "ipython",
    "version": 3
   },
   "file_extension": ".py",
   "mimetype": "text/x-python",
   "name": "python",
   "nbconvert_exporter": "python",
   "pygments_lexer": "ipython3",
   "version": "3.9.16"
  },
  "orig_nbformat": 4
 },
 "nbformat": 4,
 "nbformat_minor": 2
}
