{
 "cells": [
  {
   "cell_type": "code",
   "execution_count": 1,
   "metadata": {},
   "outputs": [
    {
     "name": "stdout",
     "output_type": "stream",
     "text": [
      "tensor([[2., 2.],\n",
      "        [2., 2.]], requires_grad=True)\n",
      "tensor([[6., 6.],\n",
      "        [6., 6.]], grad_fn=<MulBackward0>)\n",
      "None\n",
      "tensor([[-6., -6.],\n",
      "        [-6., -6.]])\n"
     ]
    },
    {
     "name": "stderr",
     "output_type": "stream",
     "text": [
      "<ipython-input-1-094f9d10e69b>:4: UserWarning: To copy construct from a tensor, it is recommended to use sourceTensor.clone().detach() or sourceTensor.clone().detach().requires_grad_(True), rather than torch.tensor(sourceTensor).\n",
      "  x = torch.tensor(2 * torch.ones(2, 2), requires_grad=True)\n"
     ]
    }
   ],
   "source": [
    "import torch\n",
    "\n",
    "# Create the variable\n",
    "x = torch.tensor(2 * torch.ones(2, 2), requires_grad=True)\n",
    "print(x)\n",
    "\n",
    "# Perform some operations involving x\n",
    "y = x * 3\n",
    "print(y)\n",
    "# Call backward with -x as the argument\n",
    "result = y.backward(-x)\n",
    "print(result)\n",
    "# Access the gradients of x\n",
    "x_gradients = x.grad\n",
    "\n",
    "print(x_gradients)  # Print the gradients of x"
   ]
  }
 ],
 "metadata": {
  "kernelspec": {
   "display_name": "tfm_3",
   "language": "python",
   "name": "python3"
  },
  "language_info": {
   "codemirror_mode": {
    "name": "ipython",
    "version": 3
   },
   "file_extension": ".py",
   "mimetype": "text/x-python",
   "name": "python",
   "nbconvert_exporter": "python",
   "pygments_lexer": "ipython3",
   "version": "3.9.16"
  },
  "orig_nbformat": 4
 },
 "nbformat": 4,
 "nbformat_minor": 2
}
