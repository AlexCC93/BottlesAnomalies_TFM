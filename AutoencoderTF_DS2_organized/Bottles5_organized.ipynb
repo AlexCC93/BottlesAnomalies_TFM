{
 "cells": [
  {
   "cell_type": "code",
   "execution_count": 1,
   "metadata": {},
   "outputs": [],
   "source": [
    "from tensorflow.keras.models import Sequential, Model\n",
    "from tensorflow.keras.layers import *\n",
    "from tensorflow.keras.preprocessing.image import ImageDataGenerator\n",
    "from tensorflow import keras\n",
    "import tensorflow as tf\n",
    "# from keras import layers\n",
    "\n",
    "\n",
    "from tensorflow.keras.optimizers import Adam, RMSprop\n",
    "from tensorflow.keras.preprocessing import image\n",
    "\n",
    "import tensorflow.keras.backend as K\n",
    "\n",
    "\n",
    "from PIL import Image\n",
    "import matplotlib.pyplot as plt\n",
    "import numpy as np\n",
    "import random\n",
    "\n"
   ]
  },
  {
   "cell_type": "code",
   "execution_count": 2,
   "metadata": {},
   "outputs": [
    {
     "name": "stdout",
     "output_type": "stream",
     "text": [
      "Num GPUs Available:  1\n"
     ]
    },
    {
     "name": "stderr",
     "output_type": "stream",
     "text": [
      "2023-06-11 20:02:17.402019: I tensorflow/stream_executor/platform/default/dso_loader.cc:44] Successfully opened dynamic library libcuda.so.1\n",
      "2023-06-11 20:02:17.437079: I tensorflow/stream_executor/cuda/cuda_gpu_executor.cc:981] successful NUMA node read from SysFS had negative value (-1), but there must be at least one NUMA node, so returning NUMA node zero\n",
      "2023-06-11 20:02:17.437592: I tensorflow/core/common_runtime/gpu/gpu_device.cc:1561] Found device 0 with properties: \n",
      "pciBusID: 0000:01:00.0 name: NVIDIA GeForce RTX 2080 with Max-Q Design computeCapability: 7.5\n",
      "coreClock: 1.23GHz coreCount: 46 deviceMemorySize: 7.79GiB deviceMemoryBandwidth: 357.69GiB/s\n",
      "2023-06-11 20:02:17.437819: I tensorflow/stream_executor/platform/default/dso_loader.cc:44] Successfully opened dynamic library libcudart.so.10.1\n",
      "2023-06-11 20:02:17.439322: I tensorflow/stream_executor/platform/default/dso_loader.cc:44] Successfully opened dynamic library libcublas.so.10\n",
      "2023-06-11 20:02:17.440677: I tensorflow/stream_executor/platform/default/dso_loader.cc:44] Successfully opened dynamic library libcufft.so.10\n",
      "2023-06-11 20:02:17.440910: I tensorflow/stream_executor/platform/default/dso_loader.cc:44] Successfully opened dynamic library libcurand.so.10\n",
      "2023-06-11 20:02:17.442265: I tensorflow/stream_executor/platform/default/dso_loader.cc:44] Successfully opened dynamic library libcusolver.so.10\n",
      "2023-06-11 20:02:17.443052: I tensorflow/stream_executor/platform/default/dso_loader.cc:44] Successfully opened dynamic library libcusparse.so.10\n",
      "2023-06-11 20:02:17.446030: I tensorflow/stream_executor/platform/default/dso_loader.cc:44] Successfully opened dynamic library libcudnn.so.7\n",
      "2023-06-11 20:02:17.446133: I tensorflow/stream_executor/cuda/cuda_gpu_executor.cc:981] successful NUMA node read from SysFS had negative value (-1), but there must be at least one NUMA node, so returning NUMA node zero\n",
      "2023-06-11 20:02:17.446499: I tensorflow/stream_executor/cuda/cuda_gpu_executor.cc:981] successful NUMA node read from SysFS had negative value (-1), but there must be at least one NUMA node, so returning NUMA node zero\n",
      "2023-06-11 20:02:17.446788: I tensorflow/core/common_runtime/gpu/gpu_device.cc:1703] Adding visible gpu devices: 0\n"
     ]
    }
   ],
   "source": [
    "physical_devices = tf.config.experimental.list_physical_devices('GPU')\n",
    "if len(physical_devices) == 0:\n",
    "    print(\"Not enough GPU hardware devices available\")\n",
    "else:\n",
    "    config = tf.config.experimental.set_memory_growth(physical_devices[0], True)\n",
    "print(\"Num GPUs Available: \", len(physical_devices))"
   ]
  },
  {
   "cell_type": "code",
   "execution_count": 3,
   "metadata": {},
   "outputs": [],
   "source": [
    "# tf.debugging.set_log_device_placement(True)       # Will print the log information of every execution of tensorflow, mainly about "
   ]
  },
  {
   "attachments": {},
   "cell_type": "markdown",
   "metadata": {},
   "source": [
    "# Setting the training and testing datasets "
   ]
  },
  {
   "attachments": {},
   "cell_type": "markdown",
   "metadata": {},
   "source": [
    "ImageDataGenerator.flow_from_directory: Takes the path to a directory and generates batches of augmented data."
   ]
  },
  {
   "cell_type": "code",
   "execution_count": 4,
   "metadata": {},
   "outputs": [],
   "source": [
    "def my_crop(img, start_y, start_x, desired_height, desired_width):\n",
    "  if K.image_data_format() == 'channels_last':\n",
    "    # Note: image_data_format is 'channel_last'\n",
    "    assert img.shape[2] == 3\n",
    "    dy = desired_height #input desired output size\n",
    "    dx = desired_width #input desired output size\n",
    "    # start_y = (height-dy)//2\n",
    "    # start_x = (width-dx)//2\n",
    "    return img[start_y:start_y+dy, start_x:(dx+start_x), :]\n",
    "  else:\n",
    "      assert img.shape[0] == 3\n",
    "      dy = desired_height #input desired output size\n",
    "      dx = desired_width #input desired output size\n",
    "      # start_y = (height-dy)//2\n",
    "      # start_x = (width-dx)//2\n",
    "      return img[:,start_y:start_y + dy, start_x:(dx + start_x)]\n",
    "\n",
    "def crop_augmented_generator(batches, start_y, start_x, crop_height, crop_width):\n",
    "    '''\n",
    "    Take as input a Keras ImageGen (Iterator) and generate\n",
    "    crops from the image batches generated by the original iterator\n",
    "    '''\n",
    "    # print(\"I'm in the crop_generataor function\")\n",
    "    while True:\n",
    "      batch_x, batch_y = next(batches)  # In batch_x there are the images, in batch_y there are the labels\n",
    "    #   print(\"hello\")\n",
    "    #   print('the shape of tensor batch_x is:', batch_x.shape)\n",
    "    #   print('batch_y is:', batch_y)\n",
    "    \n",
    "      if K.image_data_format() == 'channels_last':\n",
    "        # print(\"type of batch_x: \", type(batch_x))\n",
    "        # print(\"type of batch_y: \", type(batch_y))\n",
    "        # print(\"len of batch_x: \", len(batch_x))\n",
    "\n",
    "        # Either batch_x or batch_y could be augmented or original\n",
    "        batch_crops_input_x = np.zeros((batch_x[0].shape[0], crop_height, crop_width, 3))\n",
    "        batch_crops_target_x = np.zeros((batch_x[1].shape[0], crop_height, crop_width, 3))\n",
    "\n",
    "        batch_crops_input_y = np.zeros((batch_y[0].shape[0], crop_height, crop_width, 3))\n",
    "        batch_crops_target_y = np.zeros((batch_y[1].shape[0], crop_height, crop_width, 3))\n",
    "      else:\n",
    "        # Either batch_x or batch_y could be augmented or original\n",
    "        batch_crops_input_x = np.zeros((batch_x[0].shape[0], 3, crop_height, crop_width))\n",
    "        batch_crops_target_x = np.zeros((batch_x[1].shape[0], 3, crop_height, crop_width))\n",
    "\n",
    "        batch_crops_input_y = np.zeros((batch_y[0].shape[0], 3, crop_height, crop_width))\n",
    "        batch_crops_target_y = np.zeros((batch_y[1].shape[0], 3, crop_height, crop_width))\n",
    "\n",
    "      for i in range(batch_x[0].shape[0]):\n",
    "        #   print(\"THe shape of a single image before the cropping is: \", batch_x[i].shape)\n",
    "        batch_crops_input_x[i] = my_crop(batch_x[0][i], start_y, start_x, crop_height, crop_width)\n",
    "        batch_crops_target_x[i] = my_crop(batch_x[1][i], start_y, start_x, crop_height, crop_width)\n",
    "\n",
    "        batch_crops_input_y[i] = my_crop(batch_y[0][i], start_y, start_x, crop_height, crop_width)\n",
    "        batch_crops_target_y[i] = my_crop(batch_y[1][i], start_y, start_x, crop_height, crop_width)\n",
    "      \n",
    "      # print(type(batch_crops_input_x))\n",
    "      batch_crops_x = (batch_crops_input_x, batch_crops_target_x)\n",
    "      batch_crops_y = (batch_crops_input_y, batch_crops_target_y)\n",
    "\n",
    "      yield (batch_crops_x, batch_crops_y)\n",
    "\n",
    "  \n",
    "    \n",
    "def crop_generator(batches, start_y, start_x, crop_height, crop_width, flag=0):\n",
    "    '''\n",
    "    Take as input a Keras ImageGen (Iterator) and generate\n",
    "    crops from the image batches generated by the original iterator\n",
    "    '''\n",
    "    # print(\"I'm in the crop_generataor function\")\n",
    "    while True:\n",
    "      batch_x, batch_y = next(batches)  # In batch_x there are the images, in batch_y there are the labels\n",
    "    #   print(\"hello\")\n",
    "    #   print('the shape of tensor batch_x is:', batch_x.shape)\n",
    "    #   print('batch_y is:', batch_y)\n",
    "      if flag==0:\n",
    "        if K.image_data_format() == 'channels_last':\n",
    "          batch_crops = np.zeros((batch_x.shape[0], crop_height, crop_width, 3))\n",
    "          batch_crops_y = np.zeros((batch_y.shape[0], crop_height, crop_width, 3))\n",
    "        else:\n",
    "          batch_crops = np.zeros((batch_x.shape[0], 3, crop_height, crop_width))\n",
    "          batch_crops_y = np.zeros((batch_y.shape[0], 3, crop_height, crop_width))\n",
    "        for i in range(batch_x.shape[0]):\n",
    "          #   print(\"THe shape of a single image before the cropping is: \", batch_x[i].shape)\n",
    "            batch_crops[i] = my_crop(batch_x[i], start_y, start_x, crop_height, crop_width)\n",
    "            batch_crops_y[i] = my_crop(batch_x[i], start_y, start_x, crop_height, crop_width)\n",
    "        yield (batch_crops, batch_crops_y)\n",
    "      else: \n",
    "        if K.image_data_format() == 'channels_last':\n",
    "          batch_crops = np.zeros((batch_x.shape[0], crop_height, crop_width, 3))\n",
    "        else:\n",
    "          batch_crops = np.zeros((batch_x.shape[0], 3, crop_height, crop_width))\n",
    "        for i in range(batch_x.shape[0]):\n",
    "          #   print(\"THe shape of a single image before the cropping is: \", batch_x[i].shape)\n",
    "            batch_crops[i] = my_crop(batch_x[i], start_y, start_x, crop_height, crop_width)\n",
    "\n",
    "        yield (batch_crops, batch_y)\n",
    "         "
   ]
  },
  {
   "cell_type": "code",
   "execution_count": 5,
   "metadata": {},
   "outputs": [
    {
     "name": "stdout",
     "output_type": "stream",
     "text": [
      "Found 295 images belonging to 1 classes.\n",
      "Found 295 images belonging to 1 classes.\n"
     ]
    }
   ],
   "source": [
    "# batch_size = 64\n",
    "batch_size = 10\n",
    "train_datagen = ImageDataGenerator(rescale=1./255,\n",
    "                                    brightness_range=[0.88,1.0]) # Typically used for data augmentation. Here it is only rescaling the image pixels value to range 0 to 1 in decimals and changing the brightness\n",
    "\n",
    "\n",
    "original_datagen = ImageDataGenerator(rescale=1./255)\n",
    "\n",
    "\n",
    "train_generator = train_datagen.flow_from_directory(\n",
    "    \"../../Images/june5Night/Positive/\",         # For home laptop\n",
    "    # \"../../../BottleStoodUp_atNight/Positive/\",          # For work laptop\n",
    "    batch_size=batch_size,\n",
    "    shuffle = False,\n",
    "    class_mode='input'\n",
    "    )\n",
    "\n",
    "# Generate original images from the original data directory\n",
    "original_generator = original_datagen.flow_from_directory(\n",
    "    \"../../Images/june5Night/Positive/\",\n",
    "    batch_size=batch_size,\n",
    "    shuffle = False,\n",
    "    class_mode='input')\n",
    "\n",
    "# Combine the generators using the `keras.preprocessing.image.Iterator` class\n",
    "combined_generator = zip(train_generator, original_generator)"
   ]
  },
  {
   "cell_type": "code",
   "execution_count": 6,
   "metadata": {},
   "outputs": [
    {
     "name": "stdout",
     "output_type": "stream",
     "text": [
      "Found 20 images belonging to 1 classes.\n"
     ]
    }
   ],
   "source": [
    "validation_generator = original_datagen.flow_from_directory(\n",
    "    \"../../Images/june5Night/Positive_val/\",     # For home laptop\n",
    "    # \"../../../BottleStoodUp_atNight/Positive_val/\",           # For work lpatop   \n",
    "    batch_size=batch_size,\n",
    "    shuffle = False,\n",
    "    class_mode='input'\n",
    "    )\n"
   ]
  },
  {
   "cell_type": "code",
   "execution_count": 7,
   "metadata": {},
   "outputs": [
    {
     "name": "stdout",
     "output_type": "stream",
     "text": [
      "Found 10 images belonging to 1 classes.\n"
     ]
    }
   ],
   "source": [
    "anomaly_generator = original_datagen.flow_from_directory(\n",
    "    \"../../Images/june5Night/Anomalies2.0/\",         # For home laptop\n",
    "    # \"../../../BottleStoodUp_atNight/Anomalies2.0/\",           # For work lpatpo\n",
    "    batch_size=batch_size,\n",
    "    shuffle = False,\n",
    "    class_mode='input'\n",
    "    )\n"
   ]
  },
  {
   "cell_type": "code",
   "execution_count": 8,
   "metadata": {},
   "outputs": [
    {
     "name": "stdout",
     "output_type": "stream",
     "text": [
      "Found 30 images belonging to 2 classes.\n"
     ]
    }
   ],
   "source": [
    "test_set_generator = original_datagen.flow_from_directory(\n",
    "    \"../../Images/june5Night/Evaluation/\",       # For home laptop\n",
    "    # \"../../../BottleStoodUp_atNight/Evaluation/\",             # For work laptop  \n",
    "    batch_size=batch_size,\n",
    "    shuffle = False,\n",
    "    class_mode='binary'\n",
    "    )\n"
   ]
  },
  {
   "attachments": {},
   "cell_type": "markdown",
   "metadata": {},
   "source": [
    "Creating the cropped images"
   ]
  },
  {
   "cell_type": "code",
   "execution_count": 9,
   "metadata": {},
   "outputs": [],
   "source": [
    "HEIGHT = 160\n",
    "WIDTH = 128"
   ]
  },
  {
   "cell_type": "code",
   "execution_count": 10,
   "metadata": {},
   "outputs": [],
   "source": [
    "train_crops = crop_augmented_generator(combined_generator, 65, 69, HEIGHT,WIDTH)      # top, left, height, width\n",
    "val_crops = crop_generator(validation_generator, 65, 69, HEIGHT,WIDTH)      # top, left, height, width\n",
    "anomaly_crops = crop_generator(anomaly_generator, 65, 69, HEIGHT,WIDTH)      # top, left, height, width\n",
    "test_crops = crop_generator(test_set_generator, 65, 69, HEIGHT,WIDTH,1)      # top, left, height, width"
   ]
  },
  {
   "cell_type": "code",
   "execution_count": 11,
   "metadata": {},
   "outputs": [],
   "source": [
    "# print(type(train_crops))\n",
    "# print(type(train_generator))"
   ]
  },
  {
   "attachments": {},
   "cell_type": "markdown",
   "metadata": {},
   "source": [
    "Here we make sure that both of the returned elements of the cropped generator are indeed cropped images."
   ]
  },
  {
   "cell_type": "code",
   "execution_count": 12,
   "metadata": {},
   "outputs": [],
   "source": [
    "# images_in_batch, images_in_batch2 = next(train_crops)\n"
   ]
  },
  {
   "cell_type": "code",
   "execution_count": 13,
   "metadata": {},
   "outputs": [],
   "source": [
    "# print(images_in_batch[0].shape)\n",
    "# print(images_in_batch[1].shape)\n",
    "\n",
    "# print(images_in_batch2[0].shape)\n",
    "# print(images_in_batch2[1].shape)"
   ]
  },
  {
   "cell_type": "code",
   "execution_count": 14,
   "metadata": {},
   "outputs": [],
   "source": [
    "# print(type(images_in_batch))"
   ]
  },
  {
   "cell_type": "code",
   "execution_count": 15,
   "metadata": {},
   "outputs": [],
   "source": [
    "# images_in_batch, images_in_batch2 = next(train_generator)\n",
    "# print(type(images_in_batch))"
   ]
  },
  {
   "cell_type": "code",
   "execution_count": 16,
   "metadata": {},
   "outputs": [],
   "source": [
    "# single_img = images_in_batch[0]\n",
    "# plt.imshow(single_img)"
   ]
  },
  {
   "cell_type": "code",
   "execution_count": 17,
   "metadata": {},
   "outputs": [],
   "source": [
    "# single_img2 = images_in_batch2[0]\n",
    "# plt.imshow(single_img2)"
   ]
  },
  {
   "attachments": {},
   "cell_type": "markdown",
   "metadata": {},
   "source": [
    "# Configuring the Autoencoder netwrok"
   ]
  },
  {
   "cell_type": "code",
   "execution_count": 18,
   "metadata": {},
   "outputs": [
    {
     "name": "stderr",
     "output_type": "stream",
     "text": [
      "2023-06-11 20:02:17.628978: I tensorflow/core/platform/cpu_feature_guard.cc:143] Your CPU supports instructions that this TensorFlow binary was not compiled to use: AVX2 FMA\n",
      "2023-06-11 20:02:17.652933: I tensorflow/core/platform/profile_utils/cpu_utils.cc:102] CPU Frequency: 2599990000 Hz\n",
      "2023-06-11 20:02:17.653498: I tensorflow/compiler/xla/service/service.cc:168] XLA service 0x7f87f8000bc0 initialized for platform Host (this does not guarantee that XLA will be used). Devices:\n",
      "2023-06-11 20:02:17.653516: I tensorflow/compiler/xla/service/service.cc:176]   StreamExecutor device (0): Host, Default Version\n",
      "2023-06-11 20:02:17.727160: I tensorflow/stream_executor/cuda/cuda_gpu_executor.cc:981] successful NUMA node read from SysFS had negative value (-1), but there must be at least one NUMA node, so returning NUMA node zero\n",
      "2023-06-11 20:02:17.727554: I tensorflow/compiler/xla/service/service.cc:168] XLA service 0x59a9d30 initialized for platform CUDA (this does not guarantee that XLA will be used). Devices:\n",
      "2023-06-11 20:02:17.727570: I tensorflow/compiler/xla/service/service.cc:176]   StreamExecutor device (0): NVIDIA GeForce RTX 2080 with Max-Q Design, Compute Capability 7.5\n",
      "2023-06-11 20:02:17.727762: I tensorflow/stream_executor/cuda/cuda_gpu_executor.cc:981] successful NUMA node read from SysFS had negative value (-1), but there must be at least one NUMA node, so returning NUMA node zero\n",
      "2023-06-11 20:02:17.728132: I tensorflow/core/common_runtime/gpu/gpu_device.cc:1561] Found device 0 with properties: \n",
      "pciBusID: 0000:01:00.0 name: NVIDIA GeForce RTX 2080 with Max-Q Design computeCapability: 7.5\n",
      "coreClock: 1.23GHz coreCount: 46 deviceMemorySize: 7.79GiB deviceMemoryBandwidth: 357.69GiB/s\n",
      "2023-06-11 20:02:17.728184: I tensorflow/stream_executor/platform/default/dso_loader.cc:44] Successfully opened dynamic library libcudart.so.10.1\n",
      "2023-06-11 20:02:17.728208: I tensorflow/stream_executor/platform/default/dso_loader.cc:44] Successfully opened dynamic library libcublas.so.10\n",
      "2023-06-11 20:02:17.728231: I tensorflow/stream_executor/platform/default/dso_loader.cc:44] Successfully opened dynamic library libcufft.so.10\n",
      "2023-06-11 20:02:17.728254: I tensorflow/stream_executor/platform/default/dso_loader.cc:44] Successfully opened dynamic library libcurand.so.10\n",
      "2023-06-11 20:02:17.728276: I tensorflow/stream_executor/platform/default/dso_loader.cc:44] Successfully opened dynamic library libcusolver.so.10\n",
      "2023-06-11 20:02:17.728298: I tensorflow/stream_executor/platform/default/dso_loader.cc:44] Successfully opened dynamic library libcusparse.so.10\n",
      "2023-06-11 20:02:17.728321: I tensorflow/stream_executor/platform/default/dso_loader.cc:44] Successfully opened dynamic library libcudnn.so.7\n",
      "2023-06-11 20:02:17.728387: I tensorflow/stream_executor/cuda/cuda_gpu_executor.cc:981] successful NUMA node read from SysFS had negative value (-1), but there must be at least one NUMA node, so returning NUMA node zero\n",
      "2023-06-11 20:02:17.728895: I tensorflow/stream_executor/cuda/cuda_gpu_executor.cc:981] successful NUMA node read from SysFS had negative value (-1), but there must be at least one NUMA node, so returning NUMA node zero\n",
      "2023-06-11 20:02:17.729356: I tensorflow/core/common_runtime/gpu/gpu_device.cc:1703] Adding visible gpu devices: 0\n",
      "2023-06-11 20:02:17.729415: I tensorflow/stream_executor/platform/default/dso_loader.cc:44] Successfully opened dynamic library libcudart.so.10.1\n",
      "2023-06-11 20:02:17.730051: I tensorflow/core/common_runtime/gpu/gpu_device.cc:1102] Device interconnect StreamExecutor with strength 1 edge matrix:\n",
      "2023-06-11 20:02:17.730066: I tensorflow/core/common_runtime/gpu/gpu_device.cc:1108]      0 \n",
      "2023-06-11 20:02:17.730074: I tensorflow/core/common_runtime/gpu/gpu_device.cc:1121] 0:   N \n",
      "2023-06-11 20:02:17.730229: I tensorflow/stream_executor/cuda/cuda_gpu_executor.cc:981] successful NUMA node read from SysFS had negative value (-1), but there must be at least one NUMA node, so returning NUMA node zero\n",
      "2023-06-11 20:02:17.730598: I tensorflow/stream_executor/cuda/cuda_gpu_executor.cc:981] successful NUMA node read from SysFS had negative value (-1), but there must be at least one NUMA node, so returning NUMA node zero\n",
      "2023-06-11 20:02:17.730927: I tensorflow/core/common_runtime/gpu/gpu_device.cc:1247] Created TensorFlow device (/job:localhost/replica:0/task:0/device:GPU:0 with 6976 MB memory) -> physical GPU (device: 0, name: NVIDIA GeForce RTX 2080 with Max-Q Design, pci bus id: 0000:01:00.0, compute capability: 7.5)\n"
     ]
    },
    {
     "name": "stdout",
     "output_type": "stream",
     "text": [
      "(None, 10, 8, 1)\n",
      "(None, 40)\n",
      "Model: \"model\"\n",
      "_________________________________________________________________\n",
      "Layer (type)                 Output Shape              Param #   \n",
      "=================================================================\n",
      "input_1 (InputLayer)         [(None, 160, 128, 3)]     0         \n",
      "_________________________________________________________________\n",
      "conv2d (Conv2D)              (None, 160, 128, 64)      1792      \n",
      "_________________________________________________________________\n",
      "max_pooling2d (MaxPooling2D) (None, 80, 64, 64)        0         \n",
      "_________________________________________________________________\n",
      "conv2d_1 (Conv2D)            (None, 80, 64, 32)        18464     \n",
      "_________________________________________________________________\n",
      "max_pooling2d_1 (MaxPooling2 (None, 40, 32, 32)        0         \n",
      "_________________________________________________________________\n",
      "conv2d_2 (Conv2D)            (None, 40, 32, 16)        4624      \n",
      "_________________________________________________________________\n",
      "max_pooling2d_2 (MaxPooling2 (None, 20, 16, 16)        0         \n",
      "_________________________________________________________________\n",
      "conv2d_3 (Conv2D)            (None, 20, 16, 4)         580       \n",
      "_________________________________________________________________\n",
      "max_pooling2d_3 (MaxPooling2 (None, 10, 8, 4)          0         \n",
      "_________________________________________________________________\n",
      "conv2d_4 (Conv2D)            (None, 10, 8, 1)          37        \n",
      "_________________________________________________________________\n",
      "flatten (Flatten)            (None, 80)                0         \n",
      "_________________________________________________________________\n",
      "dense (Dense)                (None, 80)                6480      \n",
      "_________________________________________________________________\n",
      "dense_1 (Dense)              (None, 40)                3240      \n",
      "=================================================================\n",
      "Total params: 35,217\n",
      "Trainable params: 35,217\n",
      "Non-trainable params: 0\n",
      "_________________________________________________________________\n"
     ]
    }
   ],
   "source": [
    "latent_dim = 40  # Number of latent dimension parameters\n",
    "\n",
    "input_img = Input(shape=(HEIGHT, WIDTH, 3))\n",
    "x = Conv2D(64, (3, 3), activation='relu', padding='same')(input_img)\n",
    "x = MaxPooling2D((2, 2), padding='same')(x)\n",
    "x = Conv2D(32, (3, 3), activation='relu', padding='same')(x)\n",
    "x = MaxPool2D( (2, 2), padding='same')(x)\n",
    "x = Conv2D(16, (3, 3), activation='relu', padding='same')(x)\n",
    "x = MaxPool2D( (2, 2), padding='same')(x)\n",
    "\n",
    "x = Conv2D(4, (3, 3), activation='relu', padding='same')(x)\n",
    "x = MaxPool2D( (2, 2), padding='same')(x)\n",
    "x = Conv2D(1, (3, 3), activation='relu', padding='same')(x)\n",
    "\n",
    "shape_before_flattening = K.int_shape(x)\n",
    "print(shape_before_flattening)\n",
    "x = Flatten()(x)\n",
    "x = Dense(80, activation='relu')(x)        # Activation function is supposed to be none, i.e the output is the same as the input\n",
    "\n",
    "Z = Dense(latent_dim)(x)\n",
    "print(K.int_shape(Z))\n",
    "\n",
    "encoder = Model(input_img,Z)\n",
    "encoder.summary()"
   ]
  },
  {
   "cell_type": "code",
   "execution_count": 19,
   "metadata": {},
   "outputs": [
    {
     "name": "stdout",
     "output_type": "stream",
     "text": [
      "Model: \"model_1\"\n",
      "_________________________________________________________________\n",
      "Layer (type)                 Output Shape              Param #   \n",
      "=================================================================\n",
      "input_2 (InputLayer)         [(None, 40)]              0         \n",
      "_________________________________________________________________\n",
      "intermediate_decoder (Dense) (None, 320)               13120     \n",
      "_________________________________________________________________\n",
      "original_decoder (Dense)     (None, 320)               102720    \n",
      "_________________________________________________________________\n",
      "reshape (Reshape)            (None, 10, 8, 4)          0         \n",
      "_________________________________________________________________\n",
      "conv2d_transpose (Conv2DTran (None, 10, 8, 3)          111       \n",
      "_________________________________________________________________\n",
      "up_sampling2d (UpSampling2D) (None, 20, 16, 3)         0         \n",
      "_________________________________________________________________\n",
      "conv2d_transpose_1 (Conv2DTr (None, 20, 16, 3)         84        \n",
      "_________________________________________________________________\n",
      "up_sampling2d_1 (UpSampling2 (None, 40, 32, 3)         0         \n",
      "_________________________________________________________________\n",
      "conv2d_transpose_2 (Conv2DTr (None, 40, 32, 3)         84        \n",
      "_________________________________________________________________\n",
      "up_sampling2d_2 (UpSampling2 (None, 80, 64, 3)         0         \n",
      "_________________________________________________________________\n",
      "conv2d_transpose_3 (Conv2DTr (None, 80, 64, 3)         84        \n",
      "_________________________________________________________________\n",
      "up_sampling2d_3 (UpSampling2 (None, 160, 128, 3)       0         \n",
      "=================================================================\n",
      "Total params: 116,203\n",
      "Trainable params: 116,203\n",
      "Non-trainable params: 0\n",
      "_________________________________________________________________\n"
     ]
    }
   ],
   "source": [
    "# decoder takes the latent distribution sample as input\n",
    "decoder_input = Input(K.int_shape(Z)[1:])\n",
    "x = Dense(10*8*4, activation='relu', name=\"intermediate_decoder\", input_shape=(latent_dim,))(decoder_input)\n",
    "# Expand to 784 total pixels\n",
    "x = Dense(320, activation='sigmoid', name=\"original_decoder\")(x)\n",
    "x = Reshape((10,8,4),input_shape=(320,))(x)\n",
    "\n",
    "x = Conv2DTranspose(3, (3, 3), padding='same')(x)\n",
    "x = UpSampling2D( (2, 2))(x)\n",
    "x = Conv2DTranspose(3, (3, 3), padding='same')(x)\n",
    "x = UpSampling2D( (2, 2))(x)\n",
    "x = Conv2DTranspose(3, (3, 3), padding='same')(x)\n",
    "x = UpSampling2D( (2, 2))(x)\n",
    "x = Conv2DTranspose(3, (3, 3), padding='same')(x)\n",
    "x = UpSampling2D( (2, 2))(x)\n",
    "\n",
    "# decoder model statement\n",
    "decoder = Model(decoder_input, x)\n",
    "\n",
    "# apply the decoder to the sample from the latent distribution\n",
    "z_decoded = decoder(Z)\n",
    "\n",
    "decoder.summary()"
   ]
  },
  {
   "cell_type": "code",
   "execution_count": 20,
   "metadata": {},
   "outputs": [
    {
     "name": "stdout",
     "output_type": "stream",
     "text": [
      "Model: \"model_2\"\n",
      "_________________________________________________________________\n",
      "Layer (type)                 Output Shape              Param #   \n",
      "=================================================================\n",
      "input_1 (InputLayer)         [(None, 160, 128, 3)]     0         \n",
      "_________________________________________________________________\n",
      "conv2d (Conv2D)              (None, 160, 128, 64)      1792      \n",
      "_________________________________________________________________\n",
      "max_pooling2d (MaxPooling2D) (None, 80, 64, 64)        0         \n",
      "_________________________________________________________________\n",
      "conv2d_1 (Conv2D)            (None, 80, 64, 32)        18464     \n",
      "_________________________________________________________________\n",
      "max_pooling2d_1 (MaxPooling2 (None, 40, 32, 32)        0         \n",
      "_________________________________________________________________\n",
      "conv2d_2 (Conv2D)            (None, 40, 32, 16)        4624      \n",
      "_________________________________________________________________\n",
      "max_pooling2d_2 (MaxPooling2 (None, 20, 16, 16)        0         \n",
      "_________________________________________________________________\n",
      "conv2d_3 (Conv2D)            (None, 20, 16, 4)         580       \n",
      "_________________________________________________________________\n",
      "max_pooling2d_3 (MaxPooling2 (None, 10, 8, 4)          0         \n",
      "_________________________________________________________________\n",
      "conv2d_4 (Conv2D)            (None, 10, 8, 1)          37        \n",
      "_________________________________________________________________\n",
      "flatten (Flatten)            (None, 80)                0         \n",
      "_________________________________________________________________\n",
      "dense (Dense)                (None, 80)                6480      \n",
      "_________________________________________________________________\n",
      "dense_1 (Dense)              (None, 40)                3240      \n",
      "_________________________________________________________________\n",
      "model_1 (Model)              (None, 160, 128, 3)       116203    \n",
      "=================================================================\n",
      "Total params: 151,420\n",
      "Trainable params: 151,420\n",
      "Non-trainable params: 0\n",
      "_________________________________________________________________\n"
     ]
    }
   ],
   "source": [
    "# VAE model statement\n",
    "ae = Model(input_img,z_decoded)\n",
    "ae.compile(optimizer='adam', loss='mean_squared_error')\n",
    "\n",
    "ae.summary()"
   ]
  },
  {
   "attachments": {},
   "cell_type": "markdown",
   "metadata": {},
   "source": [
    "These are the weights of a specific layer of the encoder model, before training are:"
   ]
  },
  {
   "cell_type": "code",
   "execution_count": 21,
   "metadata": {},
   "outputs": [
    {
     "name": "stdout",
     "output_type": "stream",
     "text": [
      "quantity of layers in the model:  13\n",
      "The weigths in the conv2d is:  [<tf.Variable 'conv2d/kernel:0' shape=(3, 3, 3, 64) dtype=float32, numpy=\n",
      "array([[[[-0.01591678,  0.07908741,  0.02848655, ..., -0.00956353,\n",
      "           0.06863362, -0.07311112],\n",
      "         [-0.02187971,  0.02979098,  0.01398384, ..., -0.03319867,\n",
      "          -0.02966067,  0.01702045],\n",
      "         [-0.03984585,  0.09015127,  0.05822451, ..., -0.01451704,\n",
      "           0.05727494, -0.06260873]],\n",
      "\n",
      "        [[ 0.04146603, -0.08525787,  0.00132167, ...,  0.00082901,\n",
      "           0.02595508, -0.05006399],\n",
      "         [ 0.08089319,  0.07925446,  0.04682429, ...,  0.04924147,\n",
      "          -0.04706699, -0.06156234],\n",
      "         [-0.00441389,  0.0986656 , -0.07971656, ..., -0.07888521,\n",
      "          -0.04410344,  0.0303476 ]],\n",
      "\n",
      "        [[-0.02030484, -0.02226748,  0.02652992, ...,  0.0673949 ,\n",
      "           0.03962599,  0.00803113],\n",
      "         [-0.02187695,  0.00962436,  0.02341021, ..., -0.06476411,\n",
      "          -0.07706566,  0.01399083],\n",
      "         [-0.04976176, -0.03117711,  0.03149809, ..., -0.01151036,\n",
      "           0.06148793,  0.08176278]]],\n",
      "\n",
      "\n",
      "       [[[ 0.00518423,  0.0718911 , -0.0798623 , ..., -0.04221632,\n",
      "           0.024533  ,  0.0008058 ],\n",
      "         [-0.01229768, -0.0947359 ,  0.09037051, ...,  0.07786402,\n",
      "          -0.09092333, -0.05799307],\n",
      "         [-0.08167178, -0.06918477,  0.05228896, ..., -0.01512323,\n",
      "          -0.03195934, -0.00871338]],\n",
      "\n",
      "        [[ 0.02413303, -0.01987549,  0.002449  , ..., -0.00972099,\n",
      "          -0.03503311, -0.01054563],\n",
      "         [ 0.02638012, -0.03554814,  0.08718832, ...,  0.02398061,\n",
      "          -0.02052496,  0.00668119],\n",
      "         [-0.00265379,  0.04501207, -0.03501289, ..., -0.04644042,\n",
      "           0.05693237,  0.04820332]],\n",
      "\n",
      "        [[-0.0313005 , -0.057199  , -0.00636702, ...,  0.04395998,\n",
      "          -0.09941563, -0.03751988],\n",
      "         [ 0.06852677,  0.07957031,  0.07579248, ..., -0.03359035,\n",
      "          -0.02481827, -0.06367161],\n",
      "         [ 0.08556236,  0.02901748,  0.033498  , ...,  0.07340105,\n",
      "           0.03686859, -0.0502812 ]]],\n",
      "\n",
      "\n",
      "       [[[ 0.01711627,  0.09057476,  0.0200495 , ...,  0.02209526,\n",
      "           0.00815156,  0.03215937],\n",
      "         [ 0.04682808, -0.05365802, -0.05401873, ..., -0.07719523,\n",
      "          -0.09520742, -0.05072591],\n",
      "         [-0.01748902, -0.01606099,  0.07566412, ...,  0.01248984,\n",
      "           0.09577289,  0.0385332 ]],\n",
      "\n",
      "        [[-0.02272955, -0.08630071, -0.06474056, ...,  0.08750311,\n",
      "           0.00842874, -0.0460937 ],\n",
      "         [ 0.09226216, -0.04057084, -0.04695329, ..., -0.08177657,\n",
      "          -0.07097735,  0.08585925],\n",
      "         [ 0.01209879,  0.04850103,  0.07341777, ..., -0.08608146,\n",
      "           0.02775541, -0.09955157]],\n",
      "\n",
      "        [[ 0.04083292, -0.01533154,  0.01205341, ...,  0.05472574,\n",
      "          -0.08483046, -0.0535701 ],\n",
      "         [ 0.03989296, -0.06281118,  0.05065684, ..., -0.09522979,\n",
      "           0.05472907, -0.0124009 ],\n",
      "         [-0.02663611, -0.01331583,  0.0293375 , ..., -0.00017126,\n",
      "           0.08226997, -0.0448747 ]]]], dtype=float32)>, <tf.Variable 'conv2d/bias:0' shape=(64,) dtype=float32, numpy=\n",
      "array([0., 0., 0., 0., 0., 0., 0., 0., 0., 0., 0., 0., 0., 0., 0., 0., 0.,\n",
      "       0., 0., 0., 0., 0., 0., 0., 0., 0., 0., 0., 0., 0., 0., 0., 0., 0.,\n",
      "       0., 0., 0., 0., 0., 0., 0., 0., 0., 0., 0., 0., 0., 0., 0., 0., 0.,\n",
      "       0., 0., 0., 0., 0., 0., 0., 0., 0., 0., 0., 0., 0.], dtype=float32)>]\n"
     ]
    }
   ],
   "source": [
    "layer_number = 1\n",
    "print(\"quantity of layers in the model: \", len(encoder.layers))\n",
    "print(\"The weigths in the\", encoder.layers[layer_number].name, \"is: \", encoder.layers[layer_number].weights)"
   ]
  },
  {
   "attachments": {},
   "cell_type": "markdown",
   "metadata": {},
   "source": [
    "These are the weights of a specific layer of the decoder model,before training are:"
   ]
  },
  {
   "cell_type": "code",
   "execution_count": 22,
   "metadata": {},
   "outputs": [],
   "source": [
    "# layer_number = 1\n",
    "# print(\"quantity of layers in the model: \", len(decoder.layers))\n",
    "# print(\"The weigths in the\", decoder.layers[layer_number].name, \"is: \", decoder.layers[layer_number].weights)"
   ]
  },
  {
   "attachments": {},
   "cell_type": "markdown",
   "metadata": {},
   "source": [
    "These are the weights of a specific layer of the autoencoder model,before training are:"
   ]
  },
  {
   "cell_type": "code",
   "execution_count": 23,
   "metadata": {},
   "outputs": [],
   "source": [
    "# layer_number = 1\n",
    "# print(\"quantity of layers in the model: \", len(ae.layers))\n",
    "# print(\"The weigths in the\", ae.layers[layer_number].name, \"is: \", ae.layers[layer_number].weights)"
   ]
  },
  {
   "cell_type": "code",
   "execution_count": 24,
   "metadata": {},
   "outputs": [],
   "source": [
    "# from tensorflow.keras.callbacks import EarlyStopping\n",
    "# run the modelvalidat\n",
    "# early_stopping = EarlyStopping(monitor='val_loss', min_delta=0, patience=20, verbose=5, mode='auto')\n",
    "# history = ae.fit(train_crops, epochs=300, steps_per_epoch=len(train_generator)*10, validation_data=val_crops, validation_steps =len(validation_generator),  verbose=1, shuffle = True)"
   ]
  },
  {
   "cell_type": "code",
   "execution_count": 25,
   "metadata": {},
   "outputs": [],
   "source": [
    "\n",
    "# # Get the training and validation loss values from the history object\n",
    "# train_loss = history.history['loss']\n",
    "# val_loss = history.history['val_loss']\n",
    "\n",
    "# # Plot the training and validation loss\n",
    "# epochs = range(1, len(train_loss) + 1)\n",
    "# plt.plot(epochs, train_loss, 'b-', label='Training Loss')\n",
    "# plt.plot(epochs, val_loss, 'r-', label='Validation Loss')\n",
    "# plt.title('Training and Validation Loss')\n",
    "# plt.xlabel('Epochs')\n",
    "# plt.ylabel('Loss')\n",
    "# plt.legend()\n",
    "# plt.show()\n"
   ]
  },
  {
   "cell_type": "code",
   "execution_count": 26,
   "metadata": {},
   "outputs": [
    {
     "name": "stdout",
     "output_type": "stream",
     "text": [
      "UsingValidDS1_3\n"
     ]
    }
   ],
   "source": [
    "model_version = 'UsingValidDS1_3'\n",
    "print(model_version)"
   ]
  },
  {
   "cell_type": "code",
   "execution_count": 27,
   "metadata": {},
   "outputs": [],
   "source": [
    "# ae.save(f\"../../BottlesAnomalies_TFM/models/{model_version}\")"
   ]
  },
  {
   "attachments": {},
   "cell_type": "markdown",
   "metadata": {},
   "source": [
    "Loading the model that was previously saved\n"
   ]
  },
  {
   "cell_type": "code",
   "execution_count": 28,
   "metadata": {},
   "outputs": [
    {
     "name": "stdout",
     "output_type": "stream",
     "text": [
      "<class 'tensorflow.python.keras.engine.training.Model'>\n"
     ]
    }
   ],
   "source": [
    "model = keras.models.load_model('../models/UsingValidDS1_3')\n",
    "print(type(model))"
   ]
  },
  {
   "attachments": {},
   "cell_type": "markdown",
   "metadata": {},
   "source": [
    "## See the weights after the model loading"
   ]
  },
  {
   "attachments": {},
   "cell_type": "markdown",
   "metadata": {},
   "source": [
    "These are the weights of a specific layer of the encoder model, AFTER training:"
   ]
  },
  {
   "cell_type": "code",
   "execution_count": 29,
   "metadata": {},
   "outputs": [
    {
     "name": "stdout",
     "output_type": "stream",
     "text": [
      "quantity of layers in the model:  13\n",
      "The weigths in the conv2d is:  [<tf.Variable 'conv2d/kernel:0' shape=(3, 3, 3, 64) dtype=float32, numpy=\n",
      "array([[[[-0.01591678,  0.07908741,  0.02848655, ..., -0.00956353,\n",
      "           0.06863362, -0.07311112],\n",
      "         [-0.02187971,  0.02979098,  0.01398384, ..., -0.03319867,\n",
      "          -0.02966067,  0.01702045],\n",
      "         [-0.03984585,  0.09015127,  0.05822451, ..., -0.01451704,\n",
      "           0.05727494, -0.06260873]],\n",
      "\n",
      "        [[ 0.04146603, -0.08525787,  0.00132167, ...,  0.00082901,\n",
      "           0.02595508, -0.05006399],\n",
      "         [ 0.08089319,  0.07925446,  0.04682429, ...,  0.04924147,\n",
      "          -0.04706699, -0.06156234],\n",
      "         [-0.00441389,  0.0986656 , -0.07971656, ..., -0.07888521,\n",
      "          -0.04410344,  0.0303476 ]],\n",
      "\n",
      "        [[-0.02030484, -0.02226748,  0.02652992, ...,  0.0673949 ,\n",
      "           0.03962599,  0.00803113],\n",
      "         [-0.02187695,  0.00962436,  0.02341021, ..., -0.06476411,\n",
      "          -0.07706566,  0.01399083],\n",
      "         [-0.04976176, -0.03117711,  0.03149809, ..., -0.01151036,\n",
      "           0.06148793,  0.08176278]]],\n",
      "\n",
      "\n",
      "       [[[ 0.00518423,  0.0718911 , -0.0798623 , ..., -0.04221632,\n",
      "           0.024533  ,  0.0008058 ],\n",
      "         [-0.01229768, -0.0947359 ,  0.09037051, ...,  0.07786402,\n",
      "          -0.09092333, -0.05799307],\n",
      "         [-0.08167178, -0.06918477,  0.05228896, ..., -0.01512323,\n",
      "          -0.03195934, -0.00871338]],\n",
      "\n",
      "        [[ 0.02413303, -0.01987549,  0.002449  , ..., -0.00972099,\n",
      "          -0.03503311, -0.01054563],\n",
      "         [ 0.02638012, -0.03554814,  0.08718832, ...,  0.02398061,\n",
      "          -0.02052496,  0.00668119],\n",
      "         [-0.00265379,  0.04501207, -0.03501289, ..., -0.04644042,\n",
      "           0.05693237,  0.04820332]],\n",
      "\n",
      "        [[-0.0313005 , -0.057199  , -0.00636702, ...,  0.04395998,\n",
      "          -0.09941563, -0.03751988],\n",
      "         [ 0.06852677,  0.07957031,  0.07579248, ..., -0.03359035,\n",
      "          -0.02481827, -0.06367161],\n",
      "         [ 0.08556236,  0.02901748,  0.033498  , ...,  0.07340105,\n",
      "           0.03686859, -0.0502812 ]]],\n",
      "\n",
      "\n",
      "       [[[ 0.01711627,  0.09057476,  0.0200495 , ...,  0.02209526,\n",
      "           0.00815156,  0.03215937],\n",
      "         [ 0.04682808, -0.05365802, -0.05401873, ..., -0.07719523,\n",
      "          -0.09520742, -0.05072591],\n",
      "         [-0.01748902, -0.01606099,  0.07566412, ...,  0.01248984,\n",
      "           0.09577289,  0.0385332 ]],\n",
      "\n",
      "        [[-0.02272955, -0.08630071, -0.06474056, ...,  0.08750311,\n",
      "           0.00842874, -0.0460937 ],\n",
      "         [ 0.09226216, -0.04057084, -0.04695329, ..., -0.08177657,\n",
      "          -0.07097735,  0.08585925],\n",
      "         [ 0.01209879,  0.04850103,  0.07341777, ..., -0.08608146,\n",
      "           0.02775541, -0.09955157]],\n",
      "\n",
      "        [[ 0.04083292, -0.01533154,  0.01205341, ...,  0.05472574,\n",
      "          -0.08483046, -0.0535701 ],\n",
      "         [ 0.03989296, -0.06281118,  0.05065684, ..., -0.09522979,\n",
      "           0.05472907, -0.0124009 ],\n",
      "         [-0.02663611, -0.01331583,  0.0293375 , ..., -0.00017126,\n",
      "           0.08226997, -0.0448747 ]]]], dtype=float32)>, <tf.Variable 'conv2d/bias:0' shape=(64,) dtype=float32, numpy=\n",
      "array([0., 0., 0., 0., 0., 0., 0., 0., 0., 0., 0., 0., 0., 0., 0., 0., 0.,\n",
      "       0., 0., 0., 0., 0., 0., 0., 0., 0., 0., 0., 0., 0., 0., 0., 0., 0.,\n",
      "       0., 0., 0., 0., 0., 0., 0., 0., 0., 0., 0., 0., 0., 0., 0., 0., 0.,\n",
      "       0., 0., 0., 0., 0., 0., 0., 0., 0., 0., 0., 0., 0.], dtype=float32)>]\n"
     ]
    }
   ],
   "source": [
    "layer_number = 1\n",
    "print(\"quantity of layers in the model: \", len(encoder.layers))\n",
    "print(\"The weigths in the\", encoder.layers[layer_number].name, \"is: \", encoder.layers[layer_number].weights)"
   ]
  },
  {
   "attachments": {},
   "cell_type": "markdown",
   "metadata": {},
   "source": [
    "These are the weights of a specific layer of the Autoencoder model, AFTER training:"
   ]
  },
  {
   "cell_type": "code",
   "execution_count": 30,
   "metadata": {},
   "outputs": [
    {
     "name": "stdout",
     "output_type": "stream",
     "text": [
      "quantity of layers in the model:  14\n",
      "The weigths in the conv2d is:  [<tf.Variable 'conv2d/kernel:0' shape=(3, 3, 3, 64) dtype=float32, numpy=\n",
      "array([[[[-4.99771386e-01,  3.52965206e-01,  2.92718522e-02, ...,\n",
      "          -2.04163231e-02,  2.47254118e-01, -9.68578830e-02],\n",
      "         [-4.33307230e-01,  3.20262343e-01, -2.91717313e-02, ...,\n",
      "          -7.35003129e-02,  3.41128677e-01, -1.59470960e-01],\n",
      "         [-4.79812145e-01,  2.94571996e-01, -3.15850973e-02, ...,\n",
      "           5.15338629e-02,  2.49808654e-01, -1.77302703e-01]],\n",
      "\n",
      "        [[-5.37473142e-01,  5.14709540e-02,  8.63300916e-03, ...,\n",
      "           1.79174114e-02, -5.15676618e-01,  1.49472326e-01],\n",
      "         [-4.58521456e-01,  1.44241586e-01, -5.07149138e-02, ...,\n",
      "          -8.18998665e-02, -5.48085690e-01,  2.33161122e-01],\n",
      "         [-4.14499462e-01, -1.27961831e-02,  8.42652172e-02, ...,\n",
      "          -3.80221382e-02, -3.88688475e-01,  2.34065741e-01]],\n",
      "\n",
      "        [[ 5.93829453e-01, -2.96604276e-01, -6.53561577e-02, ...,\n",
      "          -3.70833464e-02, -5.36488056e-01,  2.08805010e-01],\n",
      "         [ 4.91873026e-01, -3.83631378e-01,  1.72546570e-04, ...,\n",
      "          -9.99373272e-02, -5.99901319e-01,  1.36235461e-01],\n",
      "         [ 6.06327772e-01, -4.52958256e-01,  4.73167049e-03, ...,\n",
      "          -7.63265118e-02, -5.83838403e-01,  2.26357862e-01]]],\n",
      "\n",
      "\n",
      "       [[[ 4.27096754e-01,  6.57640100e-01,  2.26093363e-02, ...,\n",
      "           4.22869734e-02, -2.42690787e-01, -3.58696967e-01],\n",
      "         [ 4.08358306e-01,  6.81001782e-01, -5.88932335e-02, ...,\n",
      "           3.20415758e-02, -2.21283197e-01, -4.18376237e-01],\n",
      "         [ 3.73123556e-01,  6.19235635e-01, -6.59860000e-02, ...,\n",
      "           1.29260253e-02, -2.82878548e-01, -4.15542215e-01]],\n",
      "\n",
      "        [[-2.59767085e-01, -1.34212300e-01, -9.06185061e-03, ...,\n",
      "           7.14546889e-02, -2.66232997e-01, -1.28535792e-01],\n",
      "         [-2.64779061e-01, -2.07013816e-01,  9.63493437e-03, ...,\n",
      "          -8.26184750e-02, -2.11197674e-01, -1.60032839e-01],\n",
      "         [-1.12440072e-01, -2.41416752e-01, -8.11033025e-02, ...,\n",
      "           2.31143087e-02, -1.48430914e-01, -2.09871292e-01]],\n",
      "\n",
      "        [[-2.96622664e-01, -2.15752900e-01, -6.59983084e-02, ...,\n",
      "          -3.83014604e-02, -4.55796003e-01, -4.03513946e-02],\n",
      "         [-2.89033204e-01, -1.21364027e-01, -6.21832535e-02, ...,\n",
      "          -4.43183072e-02, -4.26485062e-01, -1.67317055e-02],\n",
      "         [-1.20110944e-01, -1.36871681e-01, -7.55449310e-02, ...,\n",
      "           6.43228069e-02, -3.60419124e-01,  1.36633858e-01]]],\n",
      "\n",
      "\n",
      "       [[[-2.39397049e-01,  7.91266933e-02,  4.07437189e-03, ...,\n",
      "          -7.27691799e-02,  1.98034063e-01,  1.97624341e-01],\n",
      "         [-1.11371167e-01,  6.18879348e-02,  3.81910615e-02, ...,\n",
      "           2.91893203e-02,  1.50584295e-01,  2.62503266e-01],\n",
      "         [-1.97813839e-01,  6.06124243e-03, -9.56628472e-02, ...,\n",
      "          -3.43539268e-02,  2.04220980e-01,  2.08249167e-01]],\n",
      "\n",
      "        [[-3.81394416e-01, -1.65856034e-01, -3.71225527e-03, ...,\n",
      "          -6.43921718e-02,  3.35258991e-01, -5.02231777e-01],\n",
      "         [-4.10584420e-01, -2.68672287e-01, -8.96215960e-02, ...,\n",
      "          -4.07397300e-02,  3.21124434e-01, -4.46361274e-01],\n",
      "         [-4.89788413e-01, -1.42420143e-01,  7.46725798e-02, ...,\n",
      "          -9.19123515e-02,  3.41755867e-01, -3.95749301e-01]],\n",
      "\n",
      "        [[-1.83012277e-01, -2.32795730e-01, -9.47369114e-02, ...,\n",
      "          -1.29804220e-02, -1.42477393e-01, -4.82184023e-01],\n",
      "         [-2.32122630e-01, -9.86445695e-02,  3.43985111e-02, ...,\n",
      "          -5.27511053e-02, -2.11908013e-01, -4.72992480e-01],\n",
      "         [-1.91328585e-01, -1.16940968e-01,  1.07206090e-03, ...,\n",
      "          -4.93927784e-02, -1.56029135e-01, -5.38431466e-01]]]],\n",
      "      dtype=float32)>, <tf.Variable 'conv2d/bias:0' shape=(64,) dtype=float32, numpy=\n",
      "array([ 0.15459679, -0.38091844, -0.00278729, -0.05582545, -0.17164294,\n",
      "       -0.21271849, -0.16978434,  0.        ,  0.116437  , -0.04163256,\n",
      "       -0.24307927,  0.31010354, -0.01498889, -0.02320432, -0.03069805,\n",
      "       -0.31959468, -0.02455558, -0.11822961, -0.14195634, -0.12008268,\n",
      "       -0.2311671 , -0.20348111, -0.02195205, -0.10818473, -0.05330151,\n",
      "       -0.0364369 , -0.01602888, -0.01688339, -0.0359314 , -0.00926934,\n",
      "       -0.0043489 , -0.01542334, -0.21580556, -0.43907785, -0.01757967,\n",
      "       -0.02615972, -0.1652363 , -0.34563512, -0.13325676, -0.02905084,\n",
      "       -0.28435355, -0.08195115, -0.00330885, -0.00747271, -0.09894399,\n",
      "       -0.05985887, -0.02709964, -0.03737932, -0.00687012, -0.04955089,\n",
      "       -0.24183476, -0.09897659, -0.08615945, -0.0667249 , -0.08308628,\n",
      "       -0.07179338,  0.18130684, -0.58708894, -0.0363142 , -0.10131533,\n",
      "       -0.4195817 , -0.0083602 ,  0.16258222, -0.15056965], dtype=float32)>]\n"
     ]
    }
   ],
   "source": [
    "layer_number = 1\n",
    "print(\"quantity of layers in the model: \", len(model.layers))\n",
    "print(\"The weigths in the\", model.layers[layer_number].name, \"is: \", model.layers[layer_number].weights)"
   ]
  },
  {
   "attachments": {},
   "cell_type": "markdown",
   "metadata": {},
   "source": [
    "Indeed the weights of the \"Autoencoder\" model have been updated but the ones from the \"Encoder\" have not. This is expected, since the model that was trained was actually the \"Autoencoder\" mdoel."
   ]
  },
  {
   "attachments": {},
   "cell_type": "markdown",
   "metadata": {},
   "source": [
    "## Perform an Autoencoder reconstruction in one image"
   ]
  },
  {
   "attachments": {},
   "cell_type": "markdown",
   "metadata": {},
   "source": [
    "Get all batches generated by the datagen and pick a batch for prediction"
   ]
  },
  {
   "cell_type": "code",
   "execution_count": 31,
   "metadata": {},
   "outputs": [
    {
     "name": "stdout",
     "output_type": "stream",
     "text": [
      "number of batches are:  30\n"
     ]
    }
   ],
   "source": [
    "#Just to test the model. \n",
    "data_batch = []  #Capture all training batches as a numpy array\n",
    "img_num = 0\n",
    "# while img_num <= train_generator.batch_index:   #gets each generated batch of size batch_size\n",
    "while img_num < len(train_generator):        #I think this should be the correct while clause\n",
    "    data = next(train_crops)[0]\n",
    "    data_batch.append(data)\n",
    "    img_num = img_num + 1\n",
    "    \n",
    "print(\"number of batches are: \", img_num)\n",
    "\n"
   ]
  },
  {
   "cell_type": "code",
   "execution_count": 33,
   "metadata": {},
   "outputs": [
    {
     "name": "stdout",
     "output_type": "stream",
     "text": [
      "(5, 160, 128, 3)\n"
     ]
    }
   ],
   "source": [
    "print(data[0].shape)"
   ]
  },
  {
   "cell_type": "code",
   "execution_count": 34,
   "metadata": {},
   "outputs": [
    {
     "name": "stdout",
     "output_type": "stream",
     "text": [
      "30\n"
     ]
    }
   ],
   "source": [
    "print(len(data_batch))"
   ]
  },
  {
   "cell_type": "code",
   "execution_count": 36,
   "metadata": {},
   "outputs": [
    {
     "name": "stdout",
     "output_type": "stream",
     "text": [
      "(10, 160, 128, 3)\n"
     ]
    }
   ],
   "source": [
    "print(data_batch[1][0].shape)"
   ]
  },
  {
   "attachments": {},
   "cell_type": "markdown",
   "metadata": {},
   "source": [
    "Predict on the first batch of images. Do also notice that the prediction is being carried out over the images we used for training."
   ]
  },
  {
   "cell_type": "code",
   "execution_count": 38,
   "metadata": {},
   "outputs": [
    {
     "name": "stdout",
     "output_type": "stream",
     "text": [
      "(10, 160, 128, 3)\n"
     ]
    },
    {
     "name": "stderr",
     "output_type": "stream",
     "text": [
      "2023-06-11 20:04:00.599176: I tensorflow/stream_executor/platform/default/dso_loader.cc:44] Successfully opened dynamic library libcublas.so.10\n",
      "2023-06-11 20:04:00.773925: I tensorflow/stream_executor/platform/default/dso_loader.cc:44] Successfully opened dynamic library libcudnn.so.7\n"
     ]
    },
    {
     "name": "stdout",
     "output_type": "stream",
     "text": [
      "(10, 160, 128, 3)\n"
     ]
    }
   ],
   "source": [
    "print(data_batch[0][0].shape)\n",
    "predicted = model.predict(data_batch[0])  \n",
    "print(predicted.shape)"
   ]
  },
  {
   "attachments": {},
   "cell_type": "markdown",
   "metadata": {},
   "source": [
    "The above is 15 length because it corresponds to the 15 predicted images of a batch. Recall that the predictions are reconstructions of the input images, since we are working with the autoencoder network."
   ]
  },
  {
   "cell_type": "code",
   "execution_count": 41,
   "metadata": {},
   "outputs": [],
   "source": [
    "single_batch = data_batch[0][0]"
   ]
  },
  {
   "cell_type": "code",
   "execution_count": 42,
   "metadata": {},
   "outputs": [
    {
     "name": "stdout",
     "output_type": "stream",
     "text": [
      "(10, 160, 128, 3)\n"
     ]
    }
   ],
   "source": [
    "print(single_batch.shape)"
   ]
  },
  {
   "cell_type": "code",
   "execution_count": 43,
   "metadata": {},
   "outputs": [
    {
     "name": "stdout",
     "output_type": "stream",
     "text": [
      "(160, 128, 3)\n"
     ]
    }
   ],
   "source": [
    "single_img = single_batch[0]\n",
    "print(single_img.shape)"
   ]
  },
  {
   "cell_type": "code",
   "execution_count": 44,
   "metadata": {},
   "outputs": [
    {
     "data": {
      "image/png": "[encoded data removed]",
      "text/plain": [
       "<Figure size 1200x600 with 2 Axes>"
      ]
     },
     "metadata": {},
     "output_type": "display_data"
    }
   ],
   "source": [
    "#Sanity check, view few images and corresponding reconstructions\n",
    "image_number = random.randint(0, predicted.shape[0]-1)\n",
    "plt.figure(figsize=(12, 6))\n",
    "plt.subplot(121)\n",
    "plt.title(\"input image\")\n",
    "plt.imshow(data_batch[0][0][image_number])\n",
    "plt.subplot(122)\n",
    "plt.title(\"reconstructed image\")\n",
    "plt.imshow(predicted[image_number])\n",
    "plt.show()"
   ]
  },
  {
   "attachments": {},
   "cell_type": "markdown",
   "metadata": {},
   "source": [
    "# Quantifying the reconstruction error using \"evaluate_generator()\" function"
   ]
  },
  {
   "attachments": {},
   "cell_type": "markdown",
   "metadata": {},
   "source": [
    "Let us examine the reconstruction error of our validation data (good/normal images) and the anomaly images"
   ]
  },
  {
   "cell_type": "code",
   "execution_count": 45,
   "metadata": {},
   "outputs": [
    {
     "name": "stdout",
     "output_type": "stream",
     "text": [
      "WARNING:tensorflow:From /tmp/ipykernel_6704/1040139700.py:1: Model.evaluate_generator (from tensorflow.python.keras.engine.training) is deprecated and will be removed in a future version.\n",
      "Instructions for updating:\n",
      "Please use Model.evaluate, which supports generators.\n",
      "Recon. error for the validation (normal) data is:  0.0045077926479279995\n"
     ]
    }
   ],
   "source": [
    "validation_error = model.evaluate_generator(val_crops, steps=len(validation_generator))\n",
    "print(\"Recon. error for the validation (normal) data is: \", validation_error)\n",
    "\n",
    "\n"
   ]
  },
  {
   "attachments": {},
   "cell_type": "markdown",
   "metadata": {},
   "source": [
    "This reconstruction error above should be very low, since the validation generator is full of normal images (good images)"
   ]
  },
  {
   "attachments": {},
   "cell_type": "markdown",
   "metadata": {},
   "source": [
    "Whereas the reconstruction error here below, for the \"anomaly_generator\" should be higher, since this dataset is comprised of full anomaly images."
   ]
  },
  {
   "cell_type": "code",
   "execution_count": 46,
   "metadata": {},
   "outputs": [
    {
     "name": "stdout",
     "output_type": "stream",
     "text": [
      "Recon. error for the anomaly data is:  0.007557075470685959\n"
     ]
    }
   ],
   "source": [
    "anomaly_error = model.evaluate_generator(anomaly_crops, steps=len(anomaly_generator))\n",
    "print(\"Recon. error for the anomaly data is: \", anomaly_error)"
   ]
  },
  {
   "attachments": {},
   "cell_type": "markdown",
   "metadata": {},
   "source": [
    "See that this error is slightly higher than the error in the validation dataset. This is good, but the difference is not that significant and this could result in wrong anomaly detections. Let's see some detections."
   ]
  },
  {
   "attachments": {},
   "cell_type": "markdown",
   "metadata": {},
   "source": [
    "SIDENOTE: Additionally, we can check the train generator error according to the \"evaluate_generator()\" function."
   ]
  },
  {
   "cell_type": "code",
   "execution_count": 47,
   "metadata": {},
   "outputs": [
    {
     "name": "stdout",
     "output_type": "stream",
     "text": [
      "Recon. error for the training (non-anomaly) data is:  0.004391264170408249\n"
     ]
    }
   ],
   "source": [
    "\n",
    "training_error = model.evaluate_generator(train_crops, steps=len(train_generator)*2)\n",
    "print(\"Recon. error for the training (non-anomaly) data is: \", training_error)\n",
    "\n"
   ]
  },
  {
   "attachments": {},
   "cell_type": "markdown",
   "metadata": {},
   "source": [
    "See that the above value does not correspond with the below mean reconstruction error of the training set that will be computed. It should at least be close, I think. This is something to check."
   ]
  },
  {
   "attachments": {},
   "cell_type": "markdown",
   "metadata": {},
   "source": [
    "Also see tha the error from the anomaly images is smaller than the error of the training set, which consists of non-anomaly images. THis is not expected and means that this particular model is shit."
   ]
  },
  {
   "attachments": {},
   "cell_type": "markdown",
   "metadata": {},
   "source": [
    "# Computing the reconstruction error without using the \"evaluate_generator()\" function"
   ]
  },
  {
   "attachments": {},
   "cell_type": "markdown",
   "metadata": {},
   "source": [
    "The following function computes the reconstrution error per each batch of images. It does, for each of the batches:\n",
    "- Initialize a vector for storing the reconstruction errors.\n",
    "- A for loop that traverses all the images contained in a batch.\n",
    "    - Take the one image of the batch.\n",
    "    - Add a new size dimension to the image.\n",
    "    - Make a prediction of the selected image with the model that was built.\n",
    "    - Evaluate the performance of the prediction, i.e. compute the prediction error.\n",
    "    - Append the reconstruction error into a list.\n",
    "- Compute the mean and std deviation of the error.\n",
    " "
   ]
  },
  {
   "cell_type": "code",
   "execution_count": 48,
   "metadata": {},
   "outputs": [],
   "source": [
    "def calc_recon_error(batch_images):   \n",
    "    recon_error_list=[]\n",
    "    for im in range(0, batch_images.shape[0]):\n",
    "        img  = batch_images[im]\n",
    "        img = img[np.newaxis, :,:,:]\n",
    "        reconstruction = model.predict([[img]])\n",
    "        # reconstruction_error = model.evaluate([reconstruction],[[img]], batch_size = 1)[0]    # The batch_size parameter for the moment can be supressed. Results were seen to be the same\n",
    "        # reconstruction_error = model.evaluate([reconstruction],[[img]])[0]                    # It included the [0] subscription but with this new model, the rec error is directly a float value, so no more need for subscription\n",
    "        reconstruction_error = model.evaluate([reconstruction],[[img]])\n",
    "        recon_error_list.append(reconstruction_error)   \n",
    "    return recon_error_list"
   ]
  },
  {
   "cell_type": "code",
   "execution_count": 50,
   "metadata": {},
   "outputs": [
    {
     "name": "stdout",
     "output_type": "stream",
     "text": [
      "1/1 [==============================] - 0s 892us/step - loss: 0.0093\n",
      "1/1 [==============================] - 0s 638us/step - loss: 0.0076\n",
      "1/1 [==============================] - 0s 733us/step - loss: 0.0105\n",
      "1/1 [==============================] - 0s 678us/step - loss: 0.0072\n",
      "1/1 [==============================] - 0s 666us/step - loss: 0.0081\n",
      "1/1 [==============================] - 0s 666us/step - loss: 0.0115\n",
      "1/1 [==============================] - 0s 617us/step - loss: 0.0074\n",
      "1/1 [==============================] - 0s 637us/step - loss: 0.0054\n",
      "1/1 [==============================] - 0s 701us/step - loss: 0.0087\n",
      "1/1 [==============================] - 0s 743us/step - loss: 0.0100\n",
      "1/1 [==============================] - 0s 806us/step - loss: 0.0069\n",
      "1/1 [==============================] - 0s 650us/step - loss: 0.0109\n",
      "1/1 [==============================] - 0s 725us/step - loss: 0.0099\n",
      "1/1 [==============================] - 0s 907us/step - loss: 0.0114\n",
      "1/1 [==============================] - 0s 785us/step - loss: 0.0165\n",
      "1/1 [==============================] - 0s 746us/step - loss: 0.0125\n",
      "1/1 [==============================] - 0s 882us/step - loss: 0.0173\n",
      "1/1 [==============================] - 0s 608us/step - loss: 0.0092\n",
      "1/1 [==============================] - 0s 890us/step - loss: 0.0061\n",
      "1/1 [==============================] - 0s 622us/step - loss: 0.0070\n",
      "1/1 [==============================] - 0s 836us/step - loss: 0.0065\n",
      "1/1 [==============================] - 0s 744us/step - loss: 0.0101\n",
      "1/1 [==============================] - 0s 633us/step - loss: 0.0134\n",
      "1/1 [==============================] - 0s 908us/step - loss: 0.0103\n",
      "1/1 [==============================] - 0s 648us/step - loss: 0.0144\n",
      "1/1 [==============================] - 0s 726us/step - loss: 0.0103\n",
      "1/1 [==============================] - 0s 854us/step - loss: 0.0150\n",
      "1/1 [==============================] - 0s 773us/step - loss: 0.0197\n",
      "1/1 [==============================] - 0s 849us/step - loss: 0.0162\n",
      "1/1 [==============================] - 0s 834us/step - loss: 0.0059\n",
      "1/1 [==============================] - 0s 912us/step - loss: 0.0076\n",
      "1/1 [==============================] - 0s 863us/step - loss: 0.0125\n",
      "1/1 [==============================] - 0s 706us/step - loss: 0.0132\n",
      "1/1 [==============================] - 0s 876us/step - loss: 0.0093\n",
      "1/1 [==============================] - 0s 792us/step - loss: 0.0133\n",
      "1/1 [==============================] - 0s 861us/step - loss: 0.0067\n",
      "1/1 [==============================] - 0s 867us/step - loss: 0.0117\n",
      "1/1 [==============================] - 0s 751us/step - loss: 0.0083\n",
      "1/1 [==============================] - 0s 696us/step - loss: 0.0087\n",
      "1/1 [==============================] - 0s 731us/step - loss: 0.0072\n",
      "1/1 [==============================] - 0s 764us/step - loss: 0.0062\n",
      "1/1 [==============================] - 0s 798us/step - loss: 0.0067\n",
      "1/1 [==============================] - 0s 628us/step - loss: 0.0062\n",
      "1/1 [==============================] - 0s 932us/step - loss: 0.0114\n",
      "1/1 [==============================] - 0s 736us/step - loss: 0.0069\n",
      "1/1 [==============================] - 0s 850us/step - loss: 0.0099\n",
      "1/1 [==============================] - 0s 861us/step - loss: 0.0088\n",
      "1/1 [==============================] - 0s 702us/step - loss: 0.0112\n",
      "1/1 [==============================] - 0s 691us/step - loss: 0.0091\n",
      "1/1 [==============================] - 0s 683us/step - loss: 0.0061\n",
      "1/1 [==============================] - 0s 664us/step - loss: 0.0069\n",
      "1/1 [==============================] - 0s 612us/step - loss: 0.0071\n",
      "1/1 [==============================] - 0s 649us/step - loss: 0.0101\n",
      "1/1 [==============================] - 0s 635us/step - loss: 0.0111\n",
      "1/1 [==============================] - 0s 791us/step - loss: 0.0085\n",
      "1/1 [==============================] - 0s 1ms/step - loss: 0.0094\n",
      "1/1 [==============================] - 0s 730us/step - loss: 0.0093\n",
      "1/1 [==============================] - 0s 759us/step - loss: 0.0067\n",
      "1/1 [==============================] - 0s 960us/step - loss: 0.0057\n",
      "1/1 [==============================] - 0s 628us/step - loss: 0.0058\n",
      "1/1 [==============================] - 0s 684us/step - loss: 0.0079\n",
      "1/1 [==============================] - 0s 660us/step - loss: 0.0062\n",
      "1/1 [==============================] - 0s 645us/step - loss: 0.0085\n",
      "1/1 [==============================] - 0s 661us/step - loss: 0.0106\n",
      "1/1 [==============================] - 0s 695us/step - loss: 0.0091\n",
      "1/1 [==============================] - 0s 717us/step - loss: 0.0070\n",
      "1/1 [==============================] - 0s 716us/step - loss: 0.0074\n",
      "1/1 [==============================] - 0s 629us/step - loss: 0.0048\n",
      "1/1 [==============================] - 0s 658us/step - loss: 0.0053\n",
      "1/1 [==============================] - 0s 643us/step - loss: 0.0058\n",
      "1/1 [==============================] - 0s 909us/step - loss: 0.0061\n",
      "1/1 [==============================] - 0s 619us/step - loss: 0.0065\n",
      "1/1 [==============================] - 0s 873us/step - loss: 0.0047\n",
      "1/1 [==============================] - 0s 856us/step - loss: 0.0068\n",
      "1/1 [==============================] - 0s 633us/step - loss: 0.0102\n",
      "1/1 [==============================] - 0s 809us/step - loss: 0.0080\n",
      "1/1 [==============================] - 0s 738us/step - loss: 0.0055\n",
      "1/1 [==============================] - 0s 633us/step - loss: 0.0054\n",
      "1/1 [==============================] - 0s 625us/step - loss: 0.0051\n",
      "1/1 [==============================] - 0s 630us/step - loss: 0.0068\n",
      "1/1 [==============================] - 0s 657us/step - loss: 0.0108\n",
      "1/1 [==============================] - 0s 653us/step - loss: 0.0076\n",
      "1/1 [==============================] - 0s 863us/step - loss: 0.0112\n",
      "1/1 [==============================] - 0s 636us/step - loss: 0.0084\n",
      "1/1 [==============================] - 0s 846us/step - loss: 0.0142\n",
      "1/1 [==============================] - 0s 659us/step - loss: 0.0164\n",
      "1/1 [==============================] - 0s 642us/step - loss: 0.0201\n",
      "1/1 [==============================] - 0s 597us/step - loss: 0.0049\n",
      "1/1 [==============================] - 0s 752us/step - loss: 0.0052\n",
      "1/1 [==============================] - 0s 654us/step - loss: 0.0045\n",
      "1/1 [==============================] - 0s 753us/step - loss: 0.0045\n",
      "1/1 [==============================] - 0s 766us/step - loss: 0.0045\n",
      "1/1 [==============================] - 0s 700us/step - loss: 0.0058\n",
      "1/1 [==============================] - 0s 714us/step - loss: 0.0056\n",
      "1/1 [==============================] - 0s 673us/step - loss: 0.0074\n",
      "1/1 [==============================] - 0s 939us/step - loss: 0.0053\n",
      "1/1 [==============================] - 0s 848us/step - loss: 0.0052\n",
      "1/1 [==============================] - 0s 665us/step - loss: 0.0091\n",
      "1/1 [==============================] - 0s 620us/step - loss: 0.0049\n",
      "1/1 [==============================] - 0s 1ms/step - loss: 0.0050\n",
      "1/1 [==============================] - 0s 736us/step - loss: 0.0048\n",
      "1/1 [==============================] - 0s 762us/step - loss: 0.0051\n",
      "1/1 [==============================] - 0s 729us/step - loss: 0.0046\n",
      "1/1 [==============================] - 0s 739us/step - loss: 0.0076\n",
      "1/1 [==============================] - 0s 642us/step - loss: 0.0085\n",
      "1/1 [==============================] - 0s 645us/step - loss: 0.0050\n",
      "1/1 [==============================] - 0s 651us/step - loss: 0.0054\n",
      "1/1 [==============================] - 0s 812us/step - loss: 0.0049\n",
      "1/1 [==============================] - 0s 829us/step - loss: 0.0062\n",
      "1/1 [==============================] - 0s 637us/step - loss: 0.0046\n",
      "1/1 [==============================] - 0s 592us/step - loss: 0.0047\n",
      "1/1 [==============================] - 0s 749us/step - loss: 0.0049\n",
      "1/1 [==============================] - 0s 591us/step - loss: 0.0079\n",
      "1/1 [==============================] - 0s 664us/step - loss: 0.0120\n",
      "1/1 [==============================] - 0s 736us/step - loss: 0.0136\n",
      "1/1 [==============================] - 0s 703us/step - loss: 0.0139\n",
      "1/1 [==============================] - 0s 830us/step - loss: 0.0127\n",
      "1/1 [==============================] - 0s 654us/step - loss: 0.0084\n",
      "1/1 [==============================] - 0s 694us/step - loss: 0.0060\n",
      "1/1 [==============================] - 0s 618us/step - loss: 0.0046\n",
      "1/1 [==============================] - 0s 652us/step - loss: 0.0128\n",
      "1/1 [==============================] - 0s 629us/step - loss: 0.0130\n",
      "1/1 [==============================] - 0s 609us/step - loss: 0.0106\n",
      "1/1 [==============================] - 0s 658us/step - loss: 0.0076\n",
      "1/1 [==============================] - 0s 746us/step - loss: 0.0061\n",
      "1/1 [==============================] - 0s 857us/step - loss: 0.0097\n",
      "1/1 [==============================] - 0s 746us/step - loss: 0.0078\n",
      "1/1 [==============================] - 0s 777us/step - loss: 0.0122\n",
      "1/1 [==============================] - 0s 684us/step - loss: 0.0093\n",
      "1/1 [==============================] - 0s 788us/step - loss: 0.0069\n",
      "1/1 [==============================] - 0s 645us/step - loss: 0.0093\n",
      "1/1 [==============================] - 0s 902us/step - loss: 0.0118\n",
      "1/1 [==============================] - 0s 608us/step - loss: 0.0116\n",
      "1/1 [==============================] - 0s 644us/step - loss: 0.0095\n",
      "1/1 [==============================] - 0s 612us/step - loss: 0.0048\n",
      "1/1 [==============================] - 0s 629us/step - loss: 0.0051\n",
      "1/1 [==============================] - 0s 752us/step - loss: 0.0049\n",
      "1/1 [==============================] - 0s 756us/step - loss: 0.0054\n",
      "1/1 [==============================] - 0s 630us/step - loss: 0.0064\n",
      "1/1 [==============================] - 0s 737us/step - loss: 0.0054\n",
      "1/1 [==============================] - 0s 806us/step - loss: 0.0075\n",
      "1/1 [==============================] - 0s 616us/step - loss: 0.0080\n",
      "1/1 [==============================] - 0s 722us/step - loss: 0.0048\n",
      "1/1 [==============================] - 0s 732us/step - loss: 0.0053\n",
      "1/1 [==============================] - 0s 661us/step - loss: 0.0053\n",
      "1/1 [==============================] - 0s 757us/step - loss: 0.0049\n",
      "1/1 [==============================] - 0s 711us/step - loss: 0.0049\n",
      "1/1 [==============================] - 0s 930us/step - loss: 0.0058\n",
      "1/1 [==============================] - 0s 744us/step - loss: 0.0050\n",
      "1/1 [==============================] - 0s 736us/step - loss: 0.0069\n",
      "1/1 [==============================] - 0s 662us/step - loss: 0.0079\n",
      "1/1 [==============================] - 0s 835us/step - loss: 0.0065\n",
      "1/1 [==============================] - 0s 660us/step - loss: 0.0054\n",
      "1/1 [==============================] - 0s 613us/step - loss: 0.0075\n",
      "1/1 [==============================] - 0s 719us/step - loss: 0.0079\n",
      "1/1 [==============================] - 0s 651us/step - loss: 0.0056\n",
      "1/1 [==============================] - 0s 823us/step - loss: 0.0058\n",
      "1/1 [==============================] - 0s 620us/step - loss: 0.0054\n",
      "1/1 [==============================] - 0s 814us/step - loss: 0.0069\n",
      "1/1 [==============================] - 0s 786us/step - loss: 0.0095\n",
      "1/1 [==============================] - 0s 660us/step - loss: 0.0075\n",
      "1/1 [==============================] - 0s 666us/step - loss: 0.0051\n",
      "1/1 [==============================] - 0s 678us/step - loss: 0.0081\n",
      "1/1 [==============================] - 0s 635us/step - loss: 0.0067\n",
      "1/1 [==============================] - 0s 733us/step - loss: 0.0063\n",
      "1/1 [==============================] - 0s 684us/step - loss: 0.0060\n",
      "1/1 [==============================] - 0s 728us/step - loss: 0.0051\n",
      "1/1 [==============================] - 0s 599us/step - loss: 0.0050\n",
      "1/1 [==============================] - 0s 635us/step - loss: 0.0047\n",
      "1/1 [==============================] - 0s 656us/step - loss: 0.0104\n",
      "1/1 [==============================] - 0s 680us/step - loss: 0.0090\n",
      "1/1 [==============================] - 0s 736us/step - loss: 0.0061\n",
      "1/1 [==============================] - 0s 787us/step - loss: 0.0103\n",
      "1/1 [==============================] - 0s 713us/step - loss: 0.0112\n",
      "1/1 [==============================] - 0s 725us/step - loss: 0.0049\n",
      "1/1 [==============================] - 0s 723us/step - loss: 0.0078\n",
      "1/1 [==============================] - 0s 916us/step - loss: 0.0068\n",
      "1/1 [==============================] - 0s 620us/step - loss: 0.0117\n",
      "1/1 [==============================] - 0s 641us/step - loss: 0.0141\n",
      "1/1 [==============================] - 0s 689us/step - loss: 0.0128\n",
      "1/1 [==============================] - 0s 782us/step - loss: 0.0095\n",
      "1/1 [==============================] - 0s 641us/step - loss: 0.0128\n",
      "1/1 [==============================] - 0s 700us/step - loss: 0.0076\n",
      "1/1 [==============================] - 0s 630us/step - loss: 0.0133\n",
      "1/1 [==============================] - 0s 700us/step - loss: 0.0052\n",
      "1/1 [==============================] - 0s 685us/step - loss: 0.0087\n",
      "1/1 [==============================] - 0s 628us/step - loss: 0.0170\n",
      "1/1 [==============================] - 0s 614us/step - loss: 0.0114\n",
      "1/1 [==============================] - 0s 667us/step - loss: 0.0108\n",
      "1/1 [==============================] - 0s 626us/step - loss: 0.0099\n",
      "1/1 [==============================] - 0s 633us/step - loss: 0.0108\n",
      "1/1 [==============================] - 0s 711us/step - loss: 0.0051\n",
      "1/1 [==============================] - 0s 696us/step - loss: 0.0047\n",
      "1/1 [==============================] - 0s 749us/step - loss: 0.0057\n",
      "1/1 [==============================] - 0s 611us/step - loss: 0.0053\n",
      "1/1 [==============================] - 0s 644us/step - loss: 0.0055\n",
      "1/1 [==============================] - 0s 734us/step - loss: 0.0072\n",
      "1/1 [==============================] - 0s 953us/step - loss: 0.0069\n",
      "1/1 [==============================] - 0s 739us/step - loss: 0.0055\n",
      "1/1 [==============================] - 0s 841us/step - loss: 0.0065\n",
      "1/1 [==============================] - 0s 675us/step - loss: 0.0049\n",
      "1/1 [==============================] - 0s 825us/step - loss: 0.0062\n",
      "1/1 [==============================] - 0s 852us/step - loss: 0.0066\n",
      "1/1 [==============================] - 0s 905us/step - loss: 0.0095\n",
      "1/1 [==============================] - 0s 620us/step - loss: 0.0072\n",
      "1/1 [==============================] - 0s 885us/step - loss: 0.0056\n",
      "1/1 [==============================] - 0s 670us/step - loss: 0.0050\n",
      "1/1 [==============================] - 0s 615us/step - loss: 0.0086\n",
      "1/1 [==============================] - 0s 622us/step - loss: 0.0147\n",
      "1/1 [==============================] - 0s 602us/step - loss: 0.0148\n",
      "1/1 [==============================] - 0s 677us/step - loss: 0.0157\n",
      "1/1 [==============================] - 0s 641us/step - loss: 0.0124\n",
      "1/1 [==============================] - 0s 670us/step - loss: 0.0176\n",
      "1/1 [==============================] - 0s 753us/step - loss: 0.0085\n",
      "1/1 [==============================] - 0s 614us/step - loss: 0.0086\n",
      "1/1 [==============================] - 0s 631us/step - loss: 0.0085\n",
      "1/1 [==============================] - 0s 714us/step - loss: 0.0080\n",
      "1/1 [==============================] - 0s 883us/step - loss: 0.0153\n",
      "1/1 [==============================] - 0s 632us/step - loss: 0.0092\n",
      "1/1 [==============================] - 0s 593us/step - loss: 0.0113\n",
      "1/1 [==============================] - 0s 663us/step - loss: 0.0098\n",
      "1/1 [==============================] - 0s 640us/step - loss: 0.0184\n",
      "1/1 [==============================] - 0s 826us/step - loss: 0.0164\n",
      "1/1 [==============================] - 0s 611us/step - loss: 0.0157\n",
      "1/1 [==============================] - 0s 620us/step - loss: 0.0144\n",
      "1/1 [==============================] - 0s 649us/step - loss: 0.0130\n",
      "1/1 [==============================] - 0s 655us/step - loss: 0.0121\n",
      "1/1 [==============================] - 0s 766us/step - loss: 0.0046\n",
      "1/1 [==============================] - 0s 604us/step - loss: 0.0068\n",
      "1/1 [==============================] - 0s 774us/step - loss: 0.0099\n",
      "1/1 [==============================] - 0s 792us/step - loss: 0.0115\n",
      "1/1 [==============================] - 0s 627us/step - loss: 0.0117\n",
      "1/1 [==============================] - 0s 837us/step - loss: 0.0111\n",
      "1/1 [==============================] - 0s 636us/step - loss: 0.0138\n",
      "1/1 [==============================] - 0s 871us/step - loss: 0.0120\n",
      "1/1 [==============================] - 0s 611us/step - loss: 0.0170\n",
      "1/1 [==============================] - 0s 906us/step - loss: 0.0156\n",
      "1/1 [==============================] - 0s 852us/step - loss: 0.0057\n",
      "1/1 [==============================] - 0s 769us/step - loss: 0.0057\n",
      "1/1 [==============================] - 0s 606us/step - loss: 0.0057\n",
      "1/1 [==============================] - 0s 666us/step - loss: 0.0044\n",
      "1/1 [==============================] - 0s 766us/step - loss: 0.0051\n",
      "1/1 [==============================] - 0s 638us/step - loss: 0.0054\n",
      "1/1 [==============================] - 0s 734us/step - loss: 0.0051\n",
      "1/1 [==============================] - 0s 681us/step - loss: 0.0050\n",
      "1/1 [==============================] - 0s 610us/step - loss: 0.0066\n",
      "1/1 [==============================] - 0s 683us/step - loss: 0.0054\n",
      "1/1 [==============================] - 0s 647us/step - loss: 0.0050\n",
      "1/1 [==============================] - 0s 630us/step - loss: 0.0058\n",
      "1/1 [==============================] - 0s 647us/step - loss: 0.0162\n",
      "1/1 [==============================] - 0s 653us/step - loss: 0.0224\n",
      "1/1 [==============================] - 0s 632us/step - loss: 0.0156\n",
      "1/1 [==============================] - 0s 735us/step - loss: 0.0225\n",
      "1/1 [==============================] - 0s 607us/step - loss: 0.0216\n",
      "1/1 [==============================] - 0s 976us/step - loss: 0.0209\n",
      "1/1 [==============================] - 0s 633us/step - loss: 0.0182\n",
      "1/1 [==============================] - 0s 756us/step - loss: 0.0210\n",
      "1/1 [==============================] - 0s 601us/step - loss: 0.0146\n",
      "1/1 [==============================] - 0s 780us/step - loss: 0.0210\n",
      "1/1 [==============================] - 0s 635us/step - loss: 0.0217\n",
      "1/1 [==============================] - 0s 688us/step - loss: 0.0161\n",
      "1/1 [==============================] - 0s 872us/step - loss: 0.0133\n",
      "1/1 [==============================] - 0s 676us/step - loss: 0.0138\n",
      "1/1 [==============================] - 0s 622us/step - loss: 0.0116\n",
      "1/1 [==============================] - 0s 606us/step - loss: 0.0108\n",
      "1/1 [==============================] - 0s 700us/step - loss: 0.0113\n",
      "1/1 [==============================] - 0s 695us/step - loss: 0.0129\n",
      "1/1 [==============================] - 0s 668us/step - loss: 0.0117\n",
      "1/1 [==============================] - 0s 626us/step - loss: 0.0129\n",
      "1/1 [==============================] - 0s 652us/step - loss: 0.0259\n",
      "1/1 [==============================] - 0s 780us/step - loss: 0.0258\n",
      "1/1 [==============================] - 0s 628us/step - loss: 0.0264\n",
      "1/1 [==============================] - 0s 768us/step - loss: 0.0211\n",
      "1/1 [==============================] - 0s 764us/step - loss: 0.0317\n",
      "1/1 [==============================] - 0s 654us/step - loss: 0.0245\n",
      "1/1 [==============================] - 0s 582us/step - loss: 0.0094\n",
      "1/1 [==============================] - 0s 753us/step - loss: 0.0061\n",
      "1/1 [==============================] - 0s 811us/step - loss: 0.0060\n",
      "1/1 [==============================] - 0s 1ms/step - loss: 0.0067\n",
      "1/1 [==============================] - 0s 857us/step - loss: 0.0073\n",
      "1/1 [==============================] - 0s 647us/step - loss: 0.0098\n",
      "1/1 [==============================] - 0s 614us/step - loss: 0.0073\n",
      "1/1 [==============================] - 0s 645us/step - loss: 0.0074\n",
      "1/1 [==============================] - 0s 601us/step - loss: 0.0079\n",
      "1/1 [==============================] - 0s 619us/step - loss: 0.0113\n",
      "1/1 [==============================] - 0s 566us/step - loss: 0.0071\n",
      "1/1 [==============================] - 0s 604us/step - loss: 0.0080\n",
      "1/1 [==============================] - 0s 923us/step - loss: 0.0056\n",
      "1/1 [==============================] - 0s 891us/step - loss: 0.0052\n",
      "1/1 [==============================] - 0s 604us/step - loss: 0.0053\n",
      "1/1 [==============================] - 0s 677us/step - loss: 0.0083\n",
      "1/1 [==============================] - 0s 692us/step - loss: 0.0061\n",
      "1/1 [==============================] - 0s 729us/step - loss: 0.0063\n",
      "1/1 [==============================] - 0s 756us/step - loss: 0.0068\n",
      "1/1 [==============================] - 0s 855us/step - loss: 0.0098\n",
      "The list of rec. error contains  30 batches of rec. errors\n"
     ]
    }
   ],
   "source": [
    "total_rec_error = []\n",
    "for i in range(len(train_generator)):        #I think this should be the correct while clause\n",
    "    data = next(train_crops)\n",
    "    total_rec_error.append(calc_recon_error(data[0][0]))\n",
    "    \n",
    "print(\"The list of rec. error contains \", len(total_rec_error), \"batches of rec. errors\")\n"
   ]
  },
  {
   "cell_type": "code",
   "execution_count": 51,
   "metadata": {},
   "outputs": [
    {
     "name": "stdout",
     "output_type": "stream",
     "text": [
      "295\n"
     ]
    }
   ],
   "source": [
    "total_rec_error_list = [item for sublist in total_rec_error for item in sublist]\n",
    "print(len(total_rec_error_list))\n"
   ]
  },
  {
   "cell_type": "code",
   "execution_count": 52,
   "metadata": {},
   "outputs": [
    {
     "name": "stdout",
     "output_type": "stream",
     "text": [
      "THIS IS FOR THE TRAINING (NON-ANOMALY) IMAGES\n",
      "\n",
      "The average of the errors list is:  0.009348892920918889\n",
      "The standard deviation of the errors list is:  0.004642336335499139\n",
      "The min value of the errors list is:  0.004424527287483215\n",
      "The max value of the errors list is:  0.03174956887960434\n"
     ]
    }
   ],
   "source": [
    "na_average_recon_error = np.mean(np.array(total_rec_error_list))  \n",
    "na_stdev_recon_error = np.std(np.array(total_rec_error_list)) \n",
    "min_prob = np.min(total_rec_error_list)\n",
    "max_prob = np.max(total_rec_error_list)\n",
    "print(\"THIS IS FOR THE TRAINING (NON-ANOMALY) IMAGES\\n\")\n",
    "print(\"The average of the errors list is: \", na_average_recon_error)\n",
    "print(\"The standard deviation of the errors list is: \", na_stdev_recon_error)\n",
    "print(\"The min value of the errors list is: \", min_prob)\n",
    "print(\"The max value of the errors list is: \", max_prob)"
   ]
  },
  {
   "attachments": {},
   "cell_type": "markdown",
   "metadata": {},
   "source": [
    "Compute the average and std dev. of recon. error for positive (anomalies) samples. \n"
   ]
  },
  {
   "cell_type": "code",
   "execution_count": null,
   "metadata": {},
   "outputs": [],
   "source": [
    "# anomaly_batch = anomaly_generator.next()\n",
    "\n",
    "# train_crops\n",
    "# val_crops\n",
    "# anomaly_crops\n",
    "# test_crops"
   ]
  },
  {
   "cell_type": "code",
   "execution_count": 53,
   "metadata": {},
   "outputs": [
    {
     "name": "stdout",
     "output_type": "stream",
     "text": [
      "1/1 [==============================] - 0s 688us/step - loss: 0.0110\n",
      "1/1 [==============================] - 0s 625us/step - loss: 0.0118\n",
      "1/1 [==============================] - 0s 586us/step - loss: 0.0183\n",
      "1/1 [==============================] - 0s 654us/step - loss: 0.0179\n",
      "1/1 [==============================] - 0s 646us/step - loss: 0.0103\n",
      "1/1 [==============================] - 0s 670us/step - loss: 0.0052\n",
      "1/1 [==============================] - 0s 664us/step - loss: 0.0055\n",
      "1/1 [==============================] - 0s 640us/step - loss: 0.0056\n",
      "1/1 [==============================] - 0s 803us/step - loss: 0.0178\n",
      "1/1 [==============================] - 0s 590us/step - loss: 0.0220\n",
      "The list of rec. error for anomalies contains  1 batches of rec. errors\n"
     ]
    }
   ],
   "source": [
    "total_rec_error_anomalies = []\n",
    "for i in range(len(anomaly_generator)):        #I think this should be the correct while clause\n",
    "    data = next(anomaly_crops)\n",
    "    total_rec_error_anomalies.append(calc_recon_error(data[0]))\n",
    "    \n",
    "print(\"The list of rec. error for anomalies contains \", len(total_rec_error_anomalies), \"batches of rec. errors\")\n"
   ]
  },
  {
   "cell_type": "code",
   "execution_count": 54,
   "metadata": {},
   "outputs": [
    {
     "name": "stdout",
     "output_type": "stream",
     "text": [
      "10\n"
     ]
    }
   ],
   "source": [
    "total_rec_error_anomalies = [item for sublist in total_rec_error_anomalies for item in sublist]\n",
    "print(len(total_rec_error_anomalies))"
   ]
  },
  {
   "cell_type": "code",
   "execution_count": 55,
   "metadata": {},
   "outputs": [
    {
     "name": "stdout",
     "output_type": "stream",
     "text": [
      "THIS IS FOR THE ANOMALY IMAGES\n",
      "\n",
      "The average of the errors list is:  0.012540902569890022\n",
      "The standard deviation of the errors list is:  0.0058163702866879385\n",
      "The min value of the errors list is:  0.0052465894259512424\n",
      "The max value of the errors list is:  0.022005688399076462\n"
     ]
    }
   ],
   "source": [
    "a_average_recon_error = np.mean(np.array(total_rec_error_anomalies))  \n",
    "a_stdev_recon_error = np.std(np.array(total_rec_error_anomalies)) \n",
    "min_prob = np.min(total_rec_error_anomalies)\n",
    "max_prob = np.max(total_rec_error_anomalies)\n",
    "print(\"THIS IS FOR THE ANOMALY IMAGES\\n\")\n",
    "print(\"The average of the errors list is: \", a_average_recon_error)\n",
    "print(\"The standard deviation of the errors list is: \", a_stdev_recon_error)\n",
    "print(\"The min value of the errors list is: \", min_prob)\n",
    "print(\"The max value of the errors list is: \", max_prob)"
   ]
  },
  {
   "attachments": {},
   "cell_type": "markdown",
   "metadata": {},
   "source": [
    "Compute the average and std dev. of recon. error for the validation (non-anomalies) samples. \n"
   ]
  },
  {
   "cell_type": "code",
   "execution_count": 56,
   "metadata": {},
   "outputs": [
    {
     "name": "stdout",
     "output_type": "stream",
     "text": [
      "1/1 [==============================] - 0s 597us/step - loss: 0.0050\n",
      "1/1 [==============================] - 0s 956us/step - loss: 0.0047\n",
      "1/1 [==============================] - 0s 706us/step - loss: 0.0050\n",
      "1/1 [==============================] - 0s 684us/step - loss: 0.0082\n",
      "1/1 [==============================] - 0s 684us/step - loss: 0.0079\n",
      "1/1 [==============================] - 0s 663us/step - loss: 0.0155\n",
      "1/1 [==============================] - 0s 793us/step - loss: 0.0137\n",
      "1/1 [==============================] - 0s 595us/step - loss: 0.0154\n",
      "1/1 [==============================] - 0s 672us/step - loss: 0.0136\n",
      "1/1 [==============================] - 0s 860us/step - loss: 0.0110\n",
      "1/1 [==============================] - 0s 658us/step - loss: 0.0057\n",
      "1/1 [==============================] - 0s 603us/step - loss: 0.0053\n",
      "1/1 [==============================] - 0s 596us/step - loss: 0.0093\n",
      "1/1 [==============================] - 0s 625us/step - loss: 0.0070\n",
      "1/1 [==============================] - 0s 642us/step - loss: 0.0056\n",
      "1/1 [==============================] - 0s 687us/step - loss: 0.0056\n",
      "1/1 [==============================] - 0s 708us/step - loss: 0.0079\n",
      "1/1 [==============================] - 0s 666us/step - loss: 0.0074\n",
      "1/1 [==============================] - 0s 607us/step - loss: 0.0061\n",
      "1/1 [==============================] - 0s 612us/step - loss: 0.0047\n",
      "The list of rec. error for anomalies contains  2 batches of rec. errors\n"
     ]
    }
   ],
   "source": [
    "total_rec_error_validation = []\n",
    "for i in range(len(validation_generator)):        #I think this should be the correct while clause\n",
    "    data = next(val_crops)\n",
    "    total_rec_error_validation.append(calc_recon_error(data[0]))\n",
    "    \n",
    "print(\"The list of rec. error for anomalies contains \", len(total_rec_error_validation), \"batches of rec. errors\")\n",
    "\n",
    "# train_crops\n",
    "# val_crops\n",
    "# anomaly_crops\n",
    "# test_crops\n"
   ]
  },
  {
   "cell_type": "code",
   "execution_count": 57,
   "metadata": {},
   "outputs": [
    {
     "name": "stdout",
     "output_type": "stream",
     "text": [
      "20\n"
     ]
    }
   ],
   "source": [
    "total_rec_error_validation = [item for sublist in total_rec_error_validation for item in sublist]\n",
    "print(len(total_rec_error_validation))"
   ]
  },
  {
   "cell_type": "code",
   "execution_count": 58,
   "metadata": {},
   "outputs": [
    {
     "name": "stdout",
     "output_type": "stream",
     "text": [
      "THIS IS FOR THE VALIDATION IMAGES\n",
      "\n",
      "The average of the errors list is:  0.008229155070148408\n",
      "The standard deviation of the errors list is:  0.0035633056192138995\n",
      "The min value of the errors list is:  0.004651373252272606\n",
      "The max value of the errors list is:  0.015522328205406666\n"
     ]
    }
   ],
   "source": [
    "val_average_recon_error = np.mean(np.array(total_rec_error_validation))  \n",
    "val_stdev_recon_error = np.std(np.array(total_rec_error_validation)) \n",
    "min_prob = np.min(total_rec_error_validation)\n",
    "max_prob = np.max(total_rec_error_validation)\n",
    "print(\"THIS IS FOR THE VALIDATION IMAGES\\n\")\n",
    "print(\"The average of the errors list is: \", val_average_recon_error)\n",
    "print(\"The standard deviation of the errors list is: \", val_stdev_recon_error)\n",
    "print(\"The min value of the errors list is: \", min_prob)\n",
    "print(\"The max value of the errors list is: \", max_prob)"
   ]
  },
  {
   "attachments": {},
   "cell_type": "markdown",
   "metadata": {},
   "source": [
    "Below, we can see the plot of the reconstruction error values, of the non-anomaly list (blue) and the anomaly list (red)."
   ]
  },
  {
   "cell_type": "code",
   "execution_count": 59,
   "metadata": {},
   "outputs": [
    {
     "data": {
      "image/png": "[encoded data removed]",
      "text/plain": [
       "<Figure size 1000x1000 with 1 Axes>"
      ]
     },
     "metadata": {},
     "output_type": "display_data"
    }
   ],
   "source": [
    "plt.figure(figsize=(10, 10))\n",
    "val = 0. # this is the value where you want the data to appear on the y-axis.\n",
    "plt.plot(total_rec_error_list, np.zeros_like(total_rec_error_list) + val, 'x')\n",
    "plt.plot(total_rec_error_anomalies, np.zeros_like(total_rec_error_anomalies) + val, 'ro')\n",
    "plt.show()"
   ]
  },
  {
   "cell_type": "code",
   "execution_count": 62,
   "metadata": {},
   "outputs": [
    {
     "data": {
      "image/png": "[encoded data removed]",
      "text/plain": [
       "<Figure size 640x480 with 1 Axes>"
      ]
     },
     "metadata": {},
     "output_type": "display_data"
    }
   ],
   "source": [
    "import random\n",
    "import numpy\n",
    "from matplotlib import pyplot\n",
    "\n",
    "bins = numpy.linspace(0.002, 0.03, 50)\n",
    "\n",
    "pyplot.hist(total_rec_error_list, bins, alpha=0.5, label='errors non-anomalies')\n",
    "pyplot.hist(total_rec_error_anomalies, bins, alpha=0.5, label='errors anomalies')\n",
    "pyplot.legend(loc='upper right')\n",
    "pyplot.show()"
   ]
  },
  {
   "attachments": {},
   "cell_type": "markdown",
   "metadata": {},
   "source": [
    "## Checking the latent space"
   ]
  },
  {
   "attachments": {},
   "cell_type": "markdown",
   "metadata": {},
   "source": [
    "Let's update the weights of the encoder model."
   ]
  },
  {
   "cell_type": "code",
   "execution_count": 63,
   "metadata": {},
   "outputs": [
    {
     "name": "stdout",
     "output_type": "stream",
     "text": [
      "Layer weights are successfully copied.\n",
      "Layer weights are successfully copied.\n",
      "Layer weights are successfully copied.\n",
      "Layer weights are successfully copied.\n",
      "Layer weights are successfully copied.\n",
      "Layer weights are successfully copied.\n",
      "Layer weights are successfully copied.\n",
      "Layer weights are successfully copied.\n",
      "Layer weights are successfully copied.\n",
      "Layer weights are successfully copied.\n",
      "Layer weights are successfully copied.\n",
      "Layer weights are successfully copied.\n",
      "Layer weights are successfully copied.\n",
      "Layer weights are successfully copied.\n"
     ]
    }
   ],
   "source": [
    "# Copy the layer weights from the base model to the target model\n",
    "for i, target_layer in enumerate(encoder.layers):\n",
    "    base_layer = model.layers[i]\n",
    "    target_layer.set_weights(base_layer.get_weights())\n",
    "\n",
    "# Verify if the weights are successfully copied\n",
    "for base_layer, target_layer in zip(model.layers[:len(encoder.layers)], encoder.layers):\n",
    "    base_weights = base_layer.get_weights()\n",
    "    target_weights = target_layer.get_weights()\n",
    "    for base_weight, target_weight in zip(base_weights, target_weights):\n",
    "        if (base_weight == target_weight).all():\n",
    "            print(\"Layer weights are successfully copied.\")\n",
    "        else:\n",
    "            print(\"Error: Layer weights are not copied correctly.\")\n"
   ]
  },
  {
   "cell_type": "code",
   "execution_count": 64,
   "metadata": {},
   "outputs": [
    {
     "name": "stdout",
     "output_type": "stream",
     "text": [
      "WARNING:tensorflow:From /tmp/ipykernel_6704/4085829184.py:6: Model.predict_generator (from tensorflow.python.keras.engine.training) is deprecated and will be removed in a future version.\n",
      "Instructions for updating:\n",
      "Please use Model.predict, which supports generators.\n"
     ]
    }
   ],
   "source": [
    "########################################################\n",
    "# Calculate KDE using sklearn\n",
    "from sklearn.neighbors import KernelDensity\n",
    "\n",
    "#Get encoded output of input images = Latent space\n",
    "encoded_images = encoder.predict_generator(train_crops, steps=len(train_generator)*2)\n",
    "\n"
   ]
  },
  {
   "cell_type": "code",
   "execution_count": 65,
   "metadata": {},
   "outputs": [
    {
     "name": "stdout",
     "output_type": "stream",
     "text": [
      "(590, 40)\n"
     ]
    }
   ],
   "source": [
    "print(encoded_images.shape)"
   ]
  },
  {
   "attachments": {},
   "cell_type": "markdown",
   "metadata": {},
   "source": [
    "See that it is 179 length because it corresponds to all the images that belong to the training dataset. The second length corresponds to the output shape of the model as specified in its structure at the beginning."
   ]
  },
  {
   "cell_type": "code",
   "execution_count": 66,
   "metadata": {},
   "outputs": [
    {
     "data": {
      "text/plain": [
       "numpy.ndarray"
      ]
     },
     "execution_count": 66,
     "metadata": {},
     "output_type": "execute_result"
    }
   ],
   "source": [
    "type(encoded_images)"
   ]
  },
  {
   "cell_type": "code",
   "execution_count": 67,
   "metadata": {},
   "outputs": [
    {
     "name": "stdout",
     "output_type": "stream",
     "text": [
      "(None, 40)\n"
     ]
    }
   ],
   "source": [
    "encoder_output_shape = encoder.output_shape \n",
    "print(encoder_output_shape)"
   ]
  },
  {
   "attachments": {},
   "cell_type": "markdown",
   "metadata": {},
   "source": [
    "Now, let's fit KDE to the image latent data"
   ]
  },
  {
   "cell_type": "code",
   "execution_count": 68,
   "metadata": {},
   "outputs": [],
   "source": [
    "kde = KernelDensity(kernel='gaussian', bandwidth=0.2).fit(encoded_images)"
   ]
  },
  {
   "attachments": {},
   "cell_type": "markdown",
   "metadata": {},
   "source": [
    "The above function fits a kernel density estimation to the data that is provided, that is, the \"encoded_images\" variable. It does so using a Guassian kernel of bandwidth 0.2.\n",
    "\n",
    "The badnwidth parameter affects on how the selected kernel will fit each sample of the given data. For example for the case in which the kernel is a Gaussian distribution, the bandwidth parameter would affect in how thin or wide is the Gaussian distribution.\n",
    "\n",
    "At this point in the variable \"kde\" we have some numbers that are the result of fitting Gaussian functions to the given data points in the variable \"encoded_images\". We will use the \"kde\" variable later for scoring with it, some given data points; the scoring will be given depending on how similar are the given data points to the ones that it had estimated."
   ]
  },
  {
   "attachments": {},
   "cell_type": "markdown",
   "metadata": {},
   "source": [
    "Here below, it is shown the kde values corresponding to each encoded sample. THese are supposed to be very close to each other in value."
   ]
  },
  {
   "cell_type": "code",
   "execution_count": 69,
   "metadata": {},
   "outputs": [
    {
     "name": "stdout",
     "output_type": "stream",
     "text": [
      "[24.69354995 24.61062276 24.58257976 24.67312586 23.69890125 23.72454877\n",
      " 23.72960718 23.65124401 24.16838436 24.5135947  24.56532561 24.64898713\n",
      " 23.54962228 22.13731727 22.8317481  22.82759667 22.7538564  22.20682876\n",
      " 22.97556393 23.00778875 23.36910611 22.29375241 22.62052134 22.7459927\n",
      " 22.62679687 22.46457904 22.94048578 22.94616065 22.88989707 23.3475404\n",
      " 23.55078345 24.45283665 24.62552875 24.584522   24.48587733 24.46855944\n",
      " 24.50624273 24.08680571 23.81947799 23.71383064 23.55017896 24.43400073\n",
      " 24.67654946 24.49004794 24.29105368 24.2028884  23.24848247 23.30413948\n",
      " 23.2982283  22.80882939 23.17514761 22.18980107 22.51171561 23.38173845\n",
      " 23.40215772 23.41680051 23.41402561 23.27608614 22.33624307 24.00156572\n",
      " 24.01547537 23.91593366 23.89721108 23.99209164 23.86427295 23.31317184\n",
      " 23.22244068 23.27684585 22.59231057 22.98079438 22.48435714 23.9096653\n",
      " 23.20171983 22.53781113 22.25275533 22.45859453 22.49887366 23.33132049\n",
      " 22.50078447 22.46443731 22.76798093 22.97117335 22.93821139 22.60431321\n",
      " 22.3377259  22.31638001 21.92505009 23.04691717 23.20478668 23.50403229\n",
      " 23.51881728 23.42646847 22.45883515 23.54605078 23.63270876 23.79478685\n",
      " 21.9114407  21.80394537 22.24779324 23.16201262 22.39356599 22.99353997\n",
      " 23.23615395 22.45994207 22.36105449 23.02809833 23.11925703 22.7412929\n",
      " 22.84953308 22.90968338 22.71652005 22.81552872 22.08485029 21.98751188\n",
      " 21.93099712 21.88787226 22.0351442  22.8847831  23.06113196 22.87110339\n",
      " 23.72786022 23.93344139 24.17884755 23.91096719 23.73364934 23.95878213\n",
      " 24.22008857 24.16829418 24.20933224 24.12711133 24.1967991  24.12560607\n",
      " 23.81670735 23.63262691 22.24923414 23.03313198 22.99209808 22.34216002\n",
      " 22.40842705 23.087779   23.28535852 23.16941393 22.23987667 22.11967831\n",
      " 22.31405323 22.23267045 22.88804166 22.96019755 22.89057023 23.20938613\n",
      " 23.33719968 23.94975919 23.79927228 23.83555722 23.69783475 23.6691025\n",
      " 23.18623233 22.69047264 22.75429822 22.45771923 22.80197137 22.88755321\n",
      " 23.26322393 23.90802554 23.68451382 23.93940827 23.81856886 21.89485726\n",
      " 23.12245599 23.49354028 23.70415692 23.34676898 23.59629485 23.6608456\n",
      " 23.86738063 23.75729988 23.46284343 23.5624726  23.50135172 23.54493355\n",
      " 23.52566588 23.01875972 22.81122871 22.99123841 23.08909965 23.11426611\n",
      " 22.87660113 23.30125044 23.43756682 23.50040376 23.540346   23.60292015\n",
      " 23.83691687 22.93341391 22.91503518 23.04852301 22.96910128 22.91621799\n",
      " 22.62730861 23.69796296 23.48551799 23.64837893 23.55853781 23.44677819\n",
      " 22.60598995 23.26557468 21.96777946 22.24808775 23.68520648 23.71646267\n",
      " 23.65581139 23.52763636 23.37877913 22.34825262 22.81893435 22.76123032\n",
      " 22.81501577 23.23159974 23.4436134  23.55989278 23.65109541 23.51717368\n",
      " 23.62427906 23.08792283 22.87024095 22.82963116 22.85012667 23.4234329\n",
      " 22.49939994 22.50619205 23.48314912 23.46839285 23.55258369 23.50571146\n",
      " 23.3806188  23.24939723 23.20111912 23.0669088  23.14661444 22.92619036\n",
      " 23.08176897 23.01173636 22.90522441 22.88286673 22.31786146 22.74358933\n",
      " 22.62204737 21.92759015 22.94950534 23.3851091  23.79364667 23.85774998\n",
      " 22.48685154 22.55616284 22.58450182 23.80608019 23.77131381 23.82803995\n",
      " 23.79150053 23.83786627 23.89766887 22.35780475 23.13696491 23.15675529\n",
      " 22.03380831 23.17477765 23.15981471 23.11344012 23.09712845 23.58807757\n",
      " 23.51339841 23.5591713  23.61067647 23.59187412 23.5653763  23.45670853\n",
      " 23.52011619 23.08798448 23.35549609 23.47436883 23.7813356  24.00485139\n",
      " 23.92728912 23.8960422  23.85704884 23.75734617 23.68009718 23.56183433\n",
      " 23.30328607 23.4474575  23.83153319 24.71453432 24.72609091 24.65340835\n",
      " 24.71202146 24.71157493 24.593392   24.56922057 24.69229556 23.70044207\n",
      " 23.7016513  23.74538296 23.63909482 24.20062671 24.53141836 24.53193053\n",
      " 24.64918468 23.56517254 22.24554975 22.80377711 22.86142602 22.78179957\n",
      " 22.18829075 22.89241341 23.22542054 23.34640296 22.28131892 22.57957162\n",
      " 22.72720347 22.60759156 22.40821309 22.94609691 22.9612859  22.8937801\n",
      " 23.33734468 23.58957205 24.41741722 24.62953838 24.59111359 24.5034806\n",
      " 24.33748318 24.52242249 24.2092847  23.78818242 23.69867892 23.56718387\n",
      " 24.47312257 24.6228498  24.55880687 24.41612307 24.22416739 23.21263742\n",
      " 23.30435112 23.27491507 22.87950213 23.14014229 22.13078212 22.65590272\n",
      " 23.36946211 23.38508539 23.35750411 23.24498198 23.24971178 22.46173899\n",
      " 24.02909765 23.9275333  23.91657051 23.89096645 23.98823961 23.87610167\n",
      " 23.31899432 23.23434726 23.27359451 22.55834031 22.88441839 22.67454454\n",
      " 23.93432389 23.03191136 22.51572508 22.28475204 22.46156278 22.61938484\n",
      " 23.36284676 22.49546492 22.30751386 22.78290801 22.89831412 22.9631528\n",
      " 22.61753387 22.34516279 22.31079735 21.92495342 22.89432798 23.28230585\n",
      " 23.4596268  23.47876523 23.51246668 23.03991765 23.38715153 23.55292897\n",
      " 23.75447727 21.91899534 21.80394537 22.12730849 23.17476013 22.14115331\n",
      " 22.73464678 23.22569598 22.55205102 22.48628599 23.01838173 23.08678819\n",
      " 22.83615296 22.81424553 22.90146044 22.70431351 22.8049519  22.07005096\n",
      " 21.87645961 21.93139828 21.88562301 21.96793929 22.92099088 23.10743084\n",
      " 22.87354077 23.76021349 23.98830156 24.18758941 23.85745651 23.51362275\n",
      " 23.92629589 24.21159328 24.17827788 24.19613534 24.18841039 24.20567802\n",
      " 24.13681427 23.79640052 23.59999571 22.45413352 22.99794442 22.81787056\n",
      " 22.07522788 22.84203401 23.09322046 23.28399929 23.24386293 22.23895106\n",
      " 22.07347809 22.44669038 22.30788265 22.84418203 22.95877402 22.89457204\n",
      " 23.22262119 23.21053842 23.74129594 23.84106111 23.74284237 23.83454292\n",
      " 23.79880288 23.21985588 22.59098042 22.77059911 22.45357556 22.8353551\n",
      " 22.98560098 23.37786846 23.91626938 23.70018467 23.93426341 23.84147738\n",
      " 21.88653157 22.88824645 23.27545014 23.69840661 23.49049725 23.61325965\n",
      " 23.6724899  23.87760032 23.83058411 23.54640426 23.61370759 23.4557643\n",
      " 23.48194096 23.44165593 23.0261226  22.77111243 22.99178191 23.10497435\n",
      " 23.06038067 22.84469928 23.28548582 23.444546   23.50009109 23.50552304\n",
      " 23.66252402 23.75193131 22.88593477 22.90733592 23.06899496 22.9701642\n",
      " 22.8838283  22.86820397 23.75140382 23.49329842 23.65585416 23.65377156\n",
      " 23.51590021 22.71384522 23.22801685 21.92816687 22.22660382 23.60658692\n",
      " 23.69832622 23.65363683 23.51223047 23.35480485 22.40553805 23.09503312\n",
      " 22.87015896 22.81277496 23.27637562 23.41887351 23.38061567 23.56827219\n",
      " 23.51227233 23.63346728 23.21115735 22.91913035 22.86264021 22.82478154\n",
      " 23.47804518 22.85166562 22.5349762  23.59352603 23.46981484 23.51879659\n",
      " 23.55627481 23.39673463 23.17949927 23.14508515 22.96332803 23.04586332\n",
      " 22.94219952 23.08441104 22.9742435  22.85918076 22.86632855 22.57794037\n",
      " 22.71945454 22.67145687 21.9275955  22.89744511 23.16319154 23.67758182\n",
      " 23.61223841 22.68800764 22.58168465 22.48690742 23.75506599 23.78025795\n",
      " 23.82206987 23.85001672 23.8013154  23.84451279 22.2140153  23.17827583\n",
      " 23.18455613 22.24327287 23.15114653 23.2034047  23.0995099  23.06472989\n",
      " 23.54695904 23.55705348 23.43663705 23.55934578 23.60498052 23.55598307\n",
      " 23.43208971 23.5012616  23.03378629 23.36906457 23.47135059 23.78712118\n",
      " 23.99419668 23.86977924 23.88370547 23.90934718 23.75250135 23.70977552\n",
      " 23.56818932 23.31414217 23.45560289 23.85536631 24.71125601 24.71021968\n",
      " 24.66956145 24.70344832]\n"
     ]
    }
   ],
   "source": [
    "density_vals = kde.score_samples(encoded_images)\n",
    "print(density_vals)"
   ]
  },
  {
   "attachments": {},
   "cell_type": "markdown",
   "metadata": {},
   "source": [
    "From here, the mean and standard deviation of these values are computed"
   ]
  },
  {
   "cell_type": "code",
   "execution_count": 70,
   "metadata": {},
   "outputs": [
    {
     "name": "stdout",
     "output_type": "stream",
     "text": [
      "The avg of the density values is:  23.27288380275398\n",
      "The stdev_density of the density values is:  0.6565056766683597\n"
     ]
    }
   ],
   "source": [
    "average_density = np.mean(density_vals)\n",
    "stdev_density = np.std(density_vals)\n",
    "print(\"The avg of the density values is: \", average_density)\n",
    "print(\"The stdev_density of the density values is: \", stdev_density)"
   ]
  },
  {
   "attachments": {},
   "cell_type": "markdown",
   "metadata": {},
   "source": [
    "based on the above data create a function that outputs a probability of a KDE value to be considered an anomaly or non-anomaly image"
   ]
  },
  {
   "cell_type": "code",
   "execution_count": 71,
   "metadata": {},
   "outputs": [],
   "source": [
    "def ranges_mapper(value, leftMin, leftMax, rightMin, rightMax):\n",
    "    # Figure out how 'wide' each range is\n",
    "    leftSpan = leftMax - leftMin\n",
    "    rightSpan = rightMax - rightMin\n",
    "\n",
    "    # Convert the left range into a 0-1 range (float)\n",
    "    valueScaled = float(value - leftMin) / float(leftSpan)\n",
    "\n",
    "    # Convert the 0-1 range into a value in the right range.\n",
    "    return rightMin + (valueScaled * rightSpan)"
   ]
  },
  {
   "cell_type": "code",
   "execution_count": 72,
   "metadata": {},
   "outputs": [],
   "source": [
    "# def map_kde2prob_list(input_list):\n",
    "#     threshold = average_density          # The mean of the kde corresponding to the non-anomaly images\n",
    "#     std_dev = stdev_density            # The std deviation of the kde corresponding to the non-anomaly images\n",
    "#     prob_score_list = []\n",
    "#     prob_score = 0              # This was changed for making threshold+std_dev be mapped to be 50% chance. Before it was directly mapped threshold value to 50% chance\n",
    "#     for i in range (len(input_list)):\n",
    "#         aux_score = input_list[i] - threshold\n",
    "#         if aux_score>=0:\n",
    "#             additional = ranges_mapper(aux_score, 0, std_dev, 0, 50)\n",
    "#             prob_score_tot = prob_score+additional\n",
    "#         else:\n",
    "#             additional = ranges_mapper(abs(aux_score), 0, std_dev, 0, 50)\n",
    "#             prob_score_tot = prob_score-additional\n",
    "#         if prob_score_tot > 100:\n",
    "#             prob_score_tot = 100\n",
    "#         if prob_score_tot < 0:\n",
    "#             prob_score_tot = 0\n",
    "#         prob_score_list.append(prob_score_tot)\n",
    "#     return prob_score_list"
   ]
  },
  {
   "cell_type": "code",
   "execution_count": 73,
   "metadata": {},
   "outputs": [],
   "source": [
    "# def map_kde2prob(value):\n",
    "#     threshold = average_density         # The mean of the kde corresponding to the non-anomaly images\n",
    "#     std_dev = stdev_density          # The std deviation of the kde corresponding to the non-anomaly images\n",
    "#     prob_score = 0              # This was changed for making threshold+std_dev be mapped to be 50% chance. Before it was directly mapped threshold value to 50% chance\n",
    "#     aux_score = value - threshold\n",
    "#     print(\"value is: \", value)\n",
    "#     print(\"aux_score is: \", aux_score)\n",
    "        \n",
    "#     if aux_score>=0:\n",
    "#         additional = ranges_mapper(aux_score, 0, std_dev, 0, 50)\n",
    "#         print(\"additional is: \", additional)\n",
    "#         prob_score_tot = prob_score+additional\n",
    "#         print(\"prob_score_tot is: \", prob_score_tot)\n",
    "        \n",
    "#     else:\n",
    "#         additional = ranges_mapper(abs(aux_score), 0, std_dev, 0, 50)\n",
    "#         prob_score_tot = prob_score-additional\n",
    "#     if prob_score_tot > 100:\n",
    "#         prob_score_tot = 100\n",
    "#     if prob_score_tot < 0:\n",
    "#         prob_score_tot = 0    \n",
    "#     return prob_score_tot"
   ]
  },
  {
   "cell_type": "code",
   "execution_count": 74,
   "metadata": {},
   "outputs": [],
   "source": [
    "def map_kde2prob_list(input_list):\n",
    "    threshold = average_density          # The mean of the kde corresponding to the non-anomaly images\n",
    "    std_dev = stdev_density            # The std deviation of the kde corresponding to the non-anomaly images\n",
    "    prob_score_list =[]\n",
    "    for i in range (len(input_list)):\n",
    "        aux_score = input_list[i] - threshold\n",
    "        prob_score = ranges_mapper(abs(aux_score), 0, std_dev, 0, 50)\n",
    "        if prob_score<0:\n",
    "            prob_score = 0\n",
    "        if prob_score>100:\n",
    "            prob_score = 100     \n",
    "        prob_score_list.append(prob_score)\n",
    "    return prob_score_list"
   ]
  },
  {
   "cell_type": "code",
   "execution_count": 75,
   "metadata": {},
   "outputs": [],
   "source": [
    "def map_kde2prob(value):\n",
    "    threshold = average_density         # The mean of the kde corresponding to the non-anomaly images\n",
    "    std_dev = stdev_density          # The std deviation of the kde corresponding to the non-anomaly images\n",
    "    \n",
    "    aux_score = value - threshold\n",
    "    prob_score = ranges_mapper(abs(aux_score), 0, std_dev, 0, 50)\n",
    "    if prob_score<0:\n",
    "            prob_score = 0\n",
    "    if prob_score>100:\n",
    "        prob_score = 100 \n",
    "    return prob_score"
   ]
  },
  {
   "cell_type": "code",
   "execution_count": 76,
   "metadata": {},
   "outputs": [],
   "source": [
    "def computePred_kde(kde_value):\n",
    "    pred = 0\n",
    "    prob_anomaly = map_kde2prob(kde_value)/100\n",
    "    if prob_anomaly > 0.5:\n",
    "        pred = 1\n",
    "    return pred"
   ]
  },
  {
   "cell_type": "code",
   "execution_count": 77,
   "metadata": {},
   "outputs": [
    {
     "name": "stdout",
     "output_type": "stream",
     "text": [
      "[50.0]\n"
     ]
    }
   ],
   "source": [
    "print(map_kde2prob_list([average_density - 1*stdev_density]))"
   ]
  },
  {
   "cell_type": "code",
   "execution_count": 78,
   "metadata": {},
   "outputs": [
    {
     "name": "stdout",
     "output_type": "stream",
     "text": [
      "[[0.0, 0.0, 0.0, 0.0, 0.0, 0.0, 0.0, 0.0, 0.0, 0.0], [0.0, 0.0, 0.0, 0.0, 0.0, 0.0, 0.0, 0.0, 0.0, 0.0], [1.0, 1.0, 1.0, 1.0, 1.0, 1.0, 1.0, 1.0, 1.0, 1.0]]\n",
      "[[0, 1, 1, 0, 1, 0, 1, 1, 0, 1], [1, 0, 1, 0, 0, 1, 1, 1, 0, 0], [0, 1, 0, 1, 1, 1, 1, 1, 0, 1]]\n",
      "[[14.871966586049357, 100, 100, 18.954034604560235, 98.93200743897575, 20.8029362228115, 61.75842442732025, 100, 6.723693091910057, 100], [100, 15.07535873917546, 100, 43.19537163882497, 26.399528422902762, 73.21181433026057, 100, 100, 26.521713406927933, 25.205548066446703], [14.722772280126476, 79.59624184451671, 18.13623275681342, 100, 100, 100, 100, 77.45744601210961, 6.187627960281105, 100]]\n"
     ]
    }
   ],
   "source": [
    "y_pred_kde_final = []\n",
    "ground_truth = []\n",
    "y_prob_kde_final = []\n",
    "for i in range(len(test_set_generator)):        # Traversing all the batches of the test set\n",
    "    batch_images, labels = next(test_crops)\n",
    "    y_pred_kde = []\n",
    "    y_true = []\n",
    "    y_prob_kde = []\n",
    "    for im in range(0, batch_images.shape[0]):  #Traversing all the images in the batch\n",
    "        img  = batch_images[im]\n",
    "        img = img[np.newaxis, :,:,:]\n",
    "        encoded_image_test_set = encoder.predict([[img]])\n",
    "        densityValue_test = kde.score_samples(encoded_image_test_set)\n",
    "        prob_kde_test = map_kde2prob(densityValue_test)\n",
    "        prediction = computePred_kde(densityValue_test)  \n",
    "        y_pred_kde.append(prediction) # Save Prediction\n",
    "        y_true.append(labels[im])\n",
    "        # y_true.append(labels[im]) # Save Truth  \n",
    "        y_prob_kde.append(prob_kde_test) # Save probability  \n",
    "\n",
    "    y_pred_kde_final.append(y_pred_kde)  \n",
    "    ground_truth.append(y_true)  \n",
    "    y_prob_kde_final.append(y_prob_kde)  \n",
    "print(ground_truth)\n",
    "print(y_pred_kde_final)\n",
    "print(y_prob_kde_final)\n",
    "\n"
   ]
  },
  {
   "cell_type": "code",
   "execution_count": 79,
   "metadata": {},
   "outputs": [
    {
     "name": "stdout",
     "output_type": "stream",
     "text": [
      "[0, 0, 0, 0, 0, 0, 0, 0, 0, 0, 0, 0, 0, 0, 0, 0, 0, 0, 0, 0, 1, 1, 1, 1, 1, 1, 1, 1, 1, 1]\n",
      "[0, 1, 1, 0, 1, 0, 1, 1, 0, 1, 1, 0, 1, 0, 0, 1, 1, 1, 0, 0, 0, 1, 0, 1, 1, 1, 1, 1, 0, 1]\n",
      "[14.871966586049357, 100, 100, 18.954034604560235, 98.93200743897575, 20.8029362228115, 61.75842442732025, 100, 6.723693091910057, 100, 100, 15.07535873917546, 100, 43.19537163882497, 26.399528422902762, 73.21181433026057, 100, 100, 26.521713406927933, 25.205548066446703, 14.722772280126476, 79.59624184451671, 18.13623275681342, 100, 100, 100, 100, 77.45744601210961, 6.187627960281105, 100]\n"
     ]
    }
   ],
   "source": [
    "ground_truth = [item for sublist in ground_truth for item in sublist]\n",
    "ground_truth = [int(i) for i in ground_truth]\n",
    "y_pred_kde_final = [item for sublist in y_pred_kde_final for item in sublist]\n",
    "y_prob_kde_final = [item for sublist in y_prob_kde_final for item in sublist]\n",
    "print(ground_truth)\n",
    "print(y_pred_kde_final)\n",
    "print(y_prob_kde_final)"
   ]
  },
  {
   "attachments": {},
   "cell_type": "markdown",
   "metadata": {},
   "source": [
    "Below commented section is just another way of computing the predicions and probabilitis shown above. THis approach computes separately the labels of the test set and their probabilities "
   ]
  },
  {
   "cell_type": "code",
   "execution_count": null,
   "metadata": {},
   "outputs": [],
   "source": [
    "# ground_truth = []\n",
    "# for i in range(len(test_set_generator)):        #I think this should be the correct while clause\n",
    "#     _, labels = next(test_crops)\n",
    "#     ground_truth.append(labels)\n",
    "    \n",
    "# print(\"The list of rec. error for anomalies contains \", len(ground_truth), \"batches of rec. errors\")\n",
    "\n",
    "# print(ground_truth)\n",
    "# #Get encoded output of input images = Latent space\n",
    "# encoded_images_test_set = encoder.predict_generator(test_crops, steps=len(test_set_generator))\n",
    "# print(encoded_images_test_set.shape)\n",
    "\n",
    "# density_vals_test = kde.score_samples(encoded_images_test_set)\n",
    "# print(density_vals_test)\n",
    "\n",
    "# average_density + stdev_density\n",
    "# average_density - stdev_density\n",
    "\n",
    "# prob_test = map_kde2prob_list(density_vals_test)\n",
    "# print(prob_test)\n",
    "\n",
    "# ground_truth = [item for sublist in ground_truth for item in sublist]\n",
    "# ground_truth = [int(x) for x in ground_truth]\n",
    "\n",
    "# pred_list =[]\n",
    "# for i in range(len(prob_test)):\n",
    "    \n",
    "#     if(prob_test[i]>50):\n",
    "#         pred = 1\n",
    "#     else:\n",
    "#         pred = 0\n",
    "#     pred_list.append(pred)\n",
    "# print(ground_truth)\n",
    "# print(pred_list)"
   ]
  },
  {
   "cell_type": "code",
   "execution_count": 80,
   "metadata": {},
   "outputs": [
    {
     "name": "stdout",
     "output_type": "stream",
     "text": [
      "AUC =  0.53\n"
     ]
    }
   ],
   "source": [
    "from sklearn import metrics\n",
    "print('AUC = ', metrics.roc_auc_score(ground_truth, y_prob_kde_final))"
   ]
  },
  {
   "cell_type": "code",
   "execution_count": 81,
   "metadata": {},
   "outputs": [
    {
     "data": {
      "image/png": "[encoded data removed]",
      "text/plain": [
       "<Figure size 640x480 with 1 Axes>"
      ]
     },
     "metadata": {},
     "output_type": "display_data"
    }
   ],
   "source": [
    "fpr, tpr, thresholds = metrics.roc_curve(ground_truth, y_prob_kde_final)\n",
    "plt.plot(fpr, tpr, marker='.', label='AUROC = %0.3f' % metrics.roc_auc_score(ground_truth, y_prob_kde_final))\n",
    "# Title\n",
    "plt.title('ROC Plot')\n",
    "# Axis labels\n",
    "plt.xlabel('False Positive Rate')\n",
    "plt.ylabel('True Positive Rate')\n",
    "# Show legend\n",
    "plt.legend() # \n",
    "# Show plot\n",
    "plt.show()"
   ]
  },
  {
   "cell_type": "code",
   "execution_count": 82,
   "metadata": {},
   "outputs": [
    {
     "name": "stdout",
     "output_type": "stream",
     "text": [
      "The fpr is:  [0.   0.4  0.45 0.45 0.85 0.85 0.95 0.95 1.   1.  ]\n",
      "The tpr is:  [0.  0.5 0.5 0.7 0.7 0.8 0.8 0.9 0.9 1. ]\n",
      "The thresholds are:  [101.         100.          98.93200744  77.45744601  18.9540346\n",
      "  18.13623276  14.87196659  14.72277228   6.72369309   6.18762796]\n"
     ]
    }
   ],
   "source": [
    "print(\"The fpr is: \", fpr)\n",
    "print(\"The tpr is: \", tpr)\n",
    "print(\"The thresholds are: \", thresholds)"
   ]
  },
  {
   "attachments": {},
   "cell_type": "markdown",
   "metadata": {},
   "source": [
    "FRom above we can see that the results are not that good; these could be improved. HOwever these results are not as bad as the previous programs. "
   ]
  },
  {
   "attachments": {},
   "cell_type": "markdown",
   "metadata": {},
   "source": [
    "FRom the above graph, it is seen that the best threshold could be:  77.45744601. Let's see if we obtain what we expect (FPR = 0.45 and TPR = 0.7).\n",
    "\n",
    "- NOTE: Notice, that it was previously accorded that the thresholds shown by the metrics.roc_auc_score(ground_truth, prob_test) functions were going to be considered as 100-x to effectively test the FPR and TPR values. However in this case, strangely, see that directly using the threshold displayed by the function is used. It is not known yet why this happens. "
   ]
  },
  {
   "cell_type": "code",
   "execution_count": 83,
   "metadata": {},
   "outputs": [],
   "source": [
    "def pred_label_onProb(probs_list, prob_threshold):\n",
    "    pred_based_onProb = []\n",
    "    for i in range (len(probs_list)):\n",
    "        if probs_list[i] > prob_threshold:\n",
    "            prediction = 1                          ## Stands for classifiaction of anomaly bottle\n",
    "        else:\n",
    "            prediction = 0\n",
    "        pred_based_onProb.append(prediction)\n",
    "    return pred_based_onProb"
   ]
  },
  {
   "cell_type": "code",
   "execution_count": 84,
   "metadata": {},
   "outputs": [],
   "source": [
    "# from tensorflow.keras.metrics import Precision, Recall, BinaryAccuracy, SpecificityAtSensitivity\n",
    "from sklearn.metrics import confusion_matrix"
   ]
  },
  {
   "cell_type": "code",
   "execution_count": 89,
   "metadata": {},
   "outputs": [
    {
     "name": "stdout",
     "output_type": "stream",
     "text": [
      "[[11  9]\n",
      " [ 3  7]]\n",
      "The FPR values are:  0.45\n",
      "The TPR values are:  0.7\n",
      "Using the threshold = 77.45744601 \n"
     ]
    }
   ],
   "source": [
    "conf_matrix = confusion_matrix(ground_truth, pred_label_onProb(y_prob_kde_final, (77.45744601 )))\n",
    "print(conf_matrix)\n",
    "_tp = conf_matrix[1, 1]\n",
    "_fn = conf_matrix[1, 0]\n",
    "_fp = conf_matrix[0, 1]\n",
    "_tn = conf_matrix[0, 0]\n",
    "_tpr = _tp/(_tp+_fn)\n",
    "_fpr = _fp / (_tn + _fp)\n",
    "print(\"The FPR values are: \", _fpr)\n",
    "print(\"The TPR values are: \", _tpr)\n",
    "print(\"Using the threshold = 77.45744601 \")"
   ]
  },
  {
   "attachments": {},
   "cell_type": "markdown",
   "metadata": {},
   "source": [
    "Actually, the threshold= 74.49570045 is the one that corresonds to FPR = 0.45 and TPR = 1.0"
   ]
  },
  {
   "attachments": {},
   "cell_type": "markdown",
   "metadata": {},
   "source": [
    "## Trehshold based on Gaussian distribution of the non-anomaly images"
   ]
  },
  {
   "cell_type": "code",
   "execution_count": 90,
   "metadata": {},
   "outputs": [],
   "source": [
    "def map_error2prob(value):\n",
    "    # Calculate the mean and standard deviation\n",
    "    mean = na_average_recon_error\n",
    "    std_dev = na_stdev_recon_error\n",
    "    aux_score = value - mean\n",
    "    prob_score = ranges_mapper(abs(aux_score), 0, std_dev, 0, 50)\n",
    "    if prob_score<0:\n",
    "        prob_score = 0\n",
    "    if prob_score>100:\n",
    "        prob_score = 100\n",
    "    return prob_score"
   ]
  },
  {
   "attachments": {},
   "cell_type": "markdown",
   "metadata": {},
   "source": [
    "See below test, that shows if a reconstruction error is equal to the mean of the reconstruction error plus its standard deviation has 50% chance of being predicted as anomaly image."
   ]
  },
  {
   "cell_type": "code",
   "execution_count": 91,
   "metadata": {},
   "outputs": [
    {
     "name": "stdout",
     "output_type": "stream",
     "text": [
      "50.0\n"
     ]
    }
   ],
   "source": [
    "print(map_error2prob(na_average_recon_error + na_stdev_recon_error))"
   ]
  },
  {
   "cell_type": "code",
   "execution_count": 92,
   "metadata": {},
   "outputs": [],
   "source": [
    "def map_error2prob_list(input_list):\n",
    "    # Calculate the mean and standard deviation\n",
    "    mean = na_average_recon_error\n",
    "    std_dev = na_stdev_recon_error\n",
    "    prob_score_list = []\n",
    "    for i in range (len(input_list)):\n",
    "        aux_score = input_list[i] - mean\n",
    "        prob_score = ranges_mapper(abs(aux_score), 0, std_dev, 0, 50)\n",
    "        if prob_score<0:\n",
    "            prob_score = 0\n",
    "        if prob_score>100:\n",
    "            prob_score = 100\n",
    "        prob_score_list.append(prob_score)\n",
    "    return prob_score_list"
   ]
  },
  {
   "cell_type": "code",
   "execution_count": 93,
   "metadata": {},
   "outputs": [],
   "source": [
    "def computePred(err_value):\n",
    "    pred = 0\n",
    "    prob_anomaly = map_error2prob(err_value)/100\n",
    "    if prob_anomaly > 0.5:\n",
    "        pred = 1\n",
    "    else:\n",
    "        pred =0 \n",
    "    return pred"
   ]
  },
  {
   "cell_type": "code",
   "execution_count": 94,
   "metadata": {},
   "outputs": [
    {
     "name": "stdout",
     "output_type": "stream",
     "text": [
      "1/1 [==============================] - 0s 928us/step - loss: 0.0058\n",
      "1/1 [==============================] - 0s 649us/step - loss: 0.0054\n",
      "1/1 [==============================] - 0s 665us/step - loss: 0.0054\n",
      "1/1 [==============================] - 0s 654us/step - loss: 0.0046\n",
      "1/1 [==============================] - 0s 884us/step - loss: 0.0062\n",
      "1/1 [==============================] - 0s 630us/step - loss: 0.0055\n",
      "1/1 [==============================] - 0s 620us/step - loss: 0.0050\n",
      "1/1 [==============================] - 0s 760us/step - loss: 0.0048\n",
      "1/1 [==============================] - 0s 769us/step - loss: 0.0057\n",
      "1/1 [==============================] - 0s 754us/step - loss: 0.0058\n",
      "1/1 [==============================] - 0s 735us/step - loss: 0.0114\n",
      "1/1 [==============================] - 0s 663us/step - loss: 0.0050\n",
      "1/1 [==============================] - 0s 608us/step - loss: 0.0052\n",
      "1/1 [==============================] - 0s 737us/step - loss: 0.0051\n",
      "1/1 [==============================] - 0s 628us/step - loss: 0.0045\n",
      "1/1 [==============================] - 0s 676us/step - loss: 0.0091\n",
      "1/1 [==============================] - 0s 663us/step - loss: 0.0052\n",
      "1/1 [==============================] - 0s 842us/step - loss: 0.0150\n",
      "1/1 [==============================] - 0s 633us/step - loss: 0.0203\n",
      "1/1 [==============================] - 0s 866us/step - loss: 0.0206\n",
      "1/1 [==============================] - 0s 679us/step - loss: 0.0113\n",
      "1/1 [==============================] - 0s 1ms/step - loss: 0.0182\n",
      "1/1 [==============================] - 0s 1ms/step - loss: 0.0104\n",
      "1/1 [==============================] - 0s 912us/step - loss: 0.0052\n",
      "1/1 [==============================] - 0s 862us/step - loss: 0.0144\n",
      "1/1 [==============================] - 0s 814us/step - loss: 0.0060\n",
      "1/1 [==============================] - 0s 639us/step - loss: 0.0052\n",
      "1/1 [==============================] - 0s 620us/step - loss: 0.0087\n",
      "1/1 [==============================] - 0s 691us/step - loss: 0.0169\n",
      "1/1 [==============================] - 0s 616us/step - loss: 0.0207\n",
      "[[0.0, 0.0, 0.0, 0.0, 0.0, 0.0, 0.0, 0.0, 0.0, 0.0], [0.0, 0.0, 0.0, 0.0, 0.0, 0.0, 0.0, 0.0, 0.0, 0.0], [1.0, 1.0, 1.0, 1.0, 1.0, 1.0, 1.0, 1.0, 1.0, 1.0]]\n",
      "[[0, 0, 0, 1, 0, 0, 0, 0, 0, 0], [0, 0, 0, 0, 1, 0, 0, 1, 1, 1], [0, 1, 0, 0, 1, 0, 0, 0, 1, 1]]\n",
      "[[37.85388821193943, 43.01517200145801, 42.92326522787224, 51.481759399343574, 34.28595943074597, 41.65729894857077, 46.54571616653642, 49.45216193135875, 39.670758487474565, 38.72252132213937], [22.47012696021684, 46.501029162299076, 44.97088294346926, 46.2509223691108, 52.402487224808745, 2.9013585409718052, 44.748069828963324, 60.984526837617125, 100, 100], [21.418272117267353, 94.82286053626713, 11.022078811832422, 44.26486839953099, 54.62427718289433, 36.34061371951303, 45.05080296732134, 7.4125993878190775, 80.8340126437027, 100]]\n"
     ]
    }
   ],
   "source": [
    "y_pred_final = []\n",
    "y_true_final = []\n",
    "y_prob_final = []\n",
    "for i in range(len(test_set_generator)):        # Traversing all the batches of the test set\n",
    "    batch_images, labels = next(test_crops)\n",
    "    y_pred = []\n",
    "    y_true = []\n",
    "    y_prob = []\n",
    "    for im in range(0, batch_images.shape[0]):  #Traversing all the images in the batch\n",
    "        img  = batch_images[im]\n",
    "        img = img[np.newaxis, :,:,:]\n",
    "        reconstruction = model.predict([[img]])\n",
    "        reconstruction_error = model.evaluate([reconstruction],[[img]])\n",
    "        probability = map_error2prob(reconstruction_error)\n",
    "        prediction = computePred(reconstruction_error)   \n",
    "        y_pred.append(prediction) # Save Prediction\n",
    "        y_true.append(labels[im]) # Save Truth  \n",
    "        y_prob.append(probability) # Save probability  \n",
    "    y_pred_final.append(y_pred)  \n",
    "    y_true_final.append(y_true)  \n",
    "    y_prob_final.append(y_prob)  \n",
    "print(y_true_final)\n",
    "print(y_pred_final)\n",
    "print(y_prob_final)\n",
    "\n",
    "\n",
    "# train_crops\n",
    "# val_crops\n",
    "# anomaly_crops\n",
    "# test_crops\n",
    " "
   ]
  },
  {
   "cell_type": "code",
   "execution_count": 95,
   "metadata": {},
   "outputs": [
    {
     "name": "stdout",
     "output_type": "stream",
     "text": [
      "[0, 0, 0, 0, 0, 0, 0, 0, 0, 0, 0, 0, 0, 0, 0, 0, 0, 0, 0, 0, 1, 1, 1, 1, 1, 1, 1, 1, 1, 1]\n",
      "[0, 0, 0, 1, 0, 0, 0, 0, 0, 0, 0, 0, 0, 0, 1, 0, 0, 1, 1, 1, 0, 1, 0, 0, 1, 0, 0, 0, 1, 1]\n",
      "[37.85388821193943, 43.01517200145801, 42.92326522787224, 51.481759399343574, 34.28595943074597, 41.65729894857077, 46.54571616653642, 49.45216193135875, 39.670758487474565, 38.72252132213937, 22.47012696021684, 46.501029162299076, 44.97088294346926, 46.2509223691108, 52.402487224808745, 2.9013585409718052, 44.748069828963324, 60.984526837617125, 100, 100, 21.418272117267353, 94.82286053626713, 11.022078811832422, 44.26486839953099, 54.62427718289433, 36.34061371951303, 45.05080296732134, 7.4125993878190775, 80.8340126437027, 100]\n"
     ]
    }
   ],
   "source": [
    "y_true_final = [item for sublist in y_true_final for item in sublist]\n",
    "y_true_final = [int(i) for i in y_true_final]\n",
    "y_pred_final = [item for sublist in y_pred_final for item in sublist]\n",
    "y_prob_final = [item for sublist in y_prob_final for item in sublist]\n",
    "print(y_true_final)\n",
    "print(y_pred_final)\n",
    "print(y_prob_final)"
   ]
  },
  {
   "attachments": {},
   "cell_type": "markdown",
   "metadata": {},
   "source": [
    "Above we see the predictions based on a threshold of 50%. See that the results are not that good. There are some false positive results and more important there are a considerable number of false negatives."
   ]
  },
  {
   "cell_type": "code",
   "execution_count": 96,
   "metadata": {},
   "outputs": [
    {
     "name": "stdout",
     "output_type": "stream",
     "text": [
      "AUC =  0.49\n"
     ]
    },
    {
     "data": {
      "image/png": "[encoded data removed]",
      "text/plain": [
       "<Figure size 640x480 with 1 Axes>"
      ]
     },
     "metadata": {},
     "output_type": "display_data"
    },
    {
     "name": "stdout",
     "output_type": "stream",
     "text": [
      "The fpr is:  [0.   0.1  0.1  0.15 0.15 0.45 0.45 0.55 0.55 0.85 0.85 0.95 0.95 1.  ]\n",
      "The tpr is:  [0.  0.1 0.3 0.3 0.4 0.4 0.5 0.5 0.6 0.6 0.7 0.7 1.  1. ]\n",
      "The thresholds are:  [101.         100.          80.83401264  60.98452684  54.62427718\n",
      "  46.25092237  45.05080297  44.74806983  44.2648684   37.85388821\n",
      "  36.34061372  22.47012696   7.41259939   2.90135854]\n"
     ]
    }
   ],
   "source": [
    "print('AUC = ', metrics.roc_auc_score(y_true_final, y_prob_final))\n",
    "fpr, tpr, thresholds = metrics.roc_curve(y_true_final, y_prob_final)\n",
    "plt.plot(fpr, tpr, marker='.', label='AUROC = %0.3f' % metrics.roc_auc_score(y_true_final, y_prob_final))\n",
    "# Title\n",
    "plt.title('ROC Plot')\n",
    "# Axis labels\n",
    "plt.xlabel('False Positive Rate')\n",
    "plt.ylabel('True Positive Rate')\n",
    "# Show legend\n",
    "plt.legend() # \n",
    "# Show plot\n",
    "plt.show()\n",
    "\n",
    "print(\"The fpr is: \", fpr)\n",
    "print(\"The tpr is: \", tpr)\n",
    "print(\"The thresholds are: \", thresholds)"
   ]
  },
  {
   "attachments": {},
   "cell_type": "markdown",
   "metadata": {},
   "source": [
    "At this point, the graph above shows us that there is not any acceptable threshold to work with. The result from the reconstruction error are poor in this approach."
   ]
  },
  {
   "attachments": {},
   "cell_type": "markdown",
   "metadata": {},
   "source": [
    "## Verifying the evaluation set"
   ]
  },
  {
   "cell_type": "code",
   "execution_count": 97,
   "metadata": {},
   "outputs": [
    {
     "name": "stdout",
     "output_type": "stream",
     "text": [
      "number of batches are:  3\n"
     ]
    }
   ],
   "source": [
    "#Just to test the model. \n",
    "data_batch_test = []  #Capture all training batches as a numpy array\n",
    "labels_test = []\n",
    "img_num = 0\n",
    "# while img_num <= train_generator.batch_index:   #gets each generated batch of size batch_size\n",
    "while img_num < len(test_set_generator):        #I think this should be the correct while clause\n",
    "    data, labels = next(test_crops)\n",
    "    data_batch_test.append(data)\n",
    "    labels_test.append(labels)\n",
    "    img_num = img_num + 1\n",
    "    \n",
    "print(\"number of batches are: \", img_num)"
   ]
  },
  {
   "cell_type": "code",
   "execution_count": 98,
   "metadata": {},
   "outputs": [
    {
     "name": "stdout",
     "output_type": "stream",
     "text": [
      "(10, 160, 128, 3)\n",
      "(10, 160, 128, 3)\n"
     ]
    }
   ],
   "source": [
    "index_batch = 2\n",
    "print(data_batch_test[index_batch].shape)\n",
    "predicted_fromTestSet = model.predict(data_batch_test[index_batch])  \n",
    "print(predicted_fromTestSet.shape)"
   ]
  },
  {
   "cell_type": "code",
   "execution_count": 99,
   "metadata": {},
   "outputs": [
    {
     "name": "stdout",
     "output_type": "stream",
     "text": [
      "(160, 128, 3)\n"
     ]
    }
   ],
   "source": [
    "single_img = data_batch_test[index_batch][0]\n",
    "print(single_img.shape)"
   ]
  },
  {
   "cell_type": "code",
   "execution_count": 100,
   "metadata": {},
   "outputs": [
    {
     "data": {
      "image/png": "[encoded data removed]",
      "text/plain": [
       "<Figure size 1200x600 with 2 Axes>"
      ]
     },
     "metadata": {},
     "output_type": "display_data"
    }
   ],
   "source": [
    "#Sanity check, view few images and corresponding reconstructions\n",
    "image_number = 0\n",
    "plt.figure(figsize=(12, 6))\n",
    "plt.subplot(121)\n",
    "plt.title(\"input image\")\n",
    "plt.imshow(data_batch_test[index_batch][image_number])\n",
    "plt.subplot(122)\n",
    "plt.title(\"reconstructed image\")\n",
    "plt.imshow(predicted_fromTestSet[image_number])\n",
    "plt.show()"
   ]
  },
  {
   "attachments": {},
   "cell_type": "markdown",
   "metadata": {},
   "source": [
    "Displaying the label of this particular image."
   ]
  },
  {
   "cell_type": "code",
   "execution_count": 101,
   "metadata": {},
   "outputs": [
    {
     "name": "stdout",
     "output_type": "stream",
     "text": [
      "1.0\n"
     ]
    }
   ],
   "source": [
    "print(labels_test[index_batch][image_number])"
   ]
  },
  {
   "attachments": {},
   "cell_type": "markdown",
   "metadata": {},
   "source": [
    "## Analyzing further the results of the reconstruction images"
   ]
  },
  {
   "attachments": {},
   "cell_type": "markdown",
   "metadata": {},
   "source": [
    "See below images. THe first one is predicted to be an anomaly while the second one is predicted be a non-anomaly image."
   ]
  },
  {
   "cell_type": "code",
   "execution_count": 104,
   "metadata": {},
   "outputs": [
    {
     "name": "stdout",
     "output_type": "stream",
     "text": [
      "1/1 [==============================] - 0s 754us/step - loss: 0.0054\n"
     ]
    },
    {
     "data": {
      "image/png": "[encoded data removed]",
      "text/plain": [
       "<Figure size 1200x600 with 2 Axes>"
      ]
     },
     "metadata": {},
     "output_type": "display_data"
    },
    {
     "name": "stdout",
     "output_type": "stream",
     "text": [
      "The label image is:  0.0\n",
      "Its probability is:  42.92326522787224\n",
      "Its prediction is:  0\n",
      "Its reconstruction_error is:  0.005363608244806528\n"
     ]
    }
   ],
   "source": [
    "\n",
    "for i in range(len(test_set_generator)):        # Traversing all the batches of the test set\n",
    "    batch_images, labels = next(test_crops)\n",
    "    if i == 0:\n",
    "        for im in range(0, batch_images.shape[0]):  #Traversing all the images in the batch\n",
    "            if im == 2:\n",
    "                img  = batch_images[im]\n",
    "\n",
    "                label_img = labels[im]\n",
    "\n",
    "                img = img[np.newaxis, :,:,:]\n",
    "                reconstruction = model.predict([[img]])\n",
    "\n",
    "                reconstruction_error = model.evaluate([reconstruction],[[img]])\n",
    "                probability = map_error2prob(reconstruction_error)\n",
    "                prediction = computePred(reconstruction_error)   \n",
    "\n",
    "                \n",
    "\n",
    "to_print_original = img[0]\n",
    "to_print_reconstruction = reconstruction[0]\n",
    "#Sanity check, view few images and corresponding reconstructions\n",
    "image_number = 0\n",
    "plt.figure(figsize=(12, 6))\n",
    "plt.subplot(121)\n",
    "plt.title(\"input image\")\n",
    "plt.imshow(to_print_original)\n",
    "plt.subplot(122)\n",
    "plt.title(\"reconstructed image\")\n",
    "plt.imshow(to_print_reconstruction)\n",
    "plt.show()\n",
    "\n",
    "print(\"The label image is: \", label_img)\n",
    "print(\"Its probability is: \", probability)\n",
    "print(\"Its prediction is: \", prediction)\n",
    "print(\"Its reconstruction_error is: \", reconstruction_error)\n"
   ]
  },
  {
   "cell_type": "code",
   "execution_count": 105,
   "metadata": {},
   "outputs": [
    {
     "name": "stdout",
     "output_type": "stream",
     "text": [
      "1/1 [==============================] - 0s 755us/step - loss: 0.0046\n"
     ]
    },
    {
     "data": {
      "image/png": "[encoded data removed]",
      "text/plain": [
       "<Figure size 1200x600 with 2 Axes>"
      ]
     },
     "metadata": {},
     "output_type": "display_data"
    },
    {
     "name": "stdout",
     "output_type": "stream",
     "text": [
      "The label image is:  0.0\n",
      "Its probability is:  51.481759399343574\n",
      "Its prediction is:  1\n",
      "Its reconstruction_error is:  0.004568980075418949\n"
     ]
    }
   ],
   "source": [
    "\n",
    "for i in range(len(test_set_generator)):        # Traversing all the batches of the test set\n",
    "    batch_images, labels = next(test_crops)\n",
    "    if i == 0:\n",
    "        for im in range(0, batch_images.shape[0]):  #Traversing all the images in the batch\n",
    "            if im == 3:\n",
    "                img  = batch_images[im]\n",
    "\n",
    "                label_img = labels[im]\n",
    "\n",
    "                img = img[np.newaxis, :,:,:]\n",
    "                reconstruction = model.predict([[img]])\n",
    "\n",
    "                reconstruction_error = model.evaluate([reconstruction],[[img]])\n",
    "                probability = map_error2prob(reconstruction_error)\n",
    "                prediction = computePred(reconstruction_error)   \n",
    "\n",
    "                \n",
    "\n",
    "to_print_original = img[0]\n",
    "to_print_reconstruction = reconstruction[0]\n",
    "#Sanity check, view few images and corresponding reconstructions\n",
    "image_number = 0\n",
    "plt.figure(figsize=(12, 6))\n",
    "plt.subplot(121)\n",
    "plt.title(\"input image\")\n",
    "plt.imshow(to_print_original)\n",
    "plt.subplot(122)\n",
    "plt.title(\"reconstructed image\")\n",
    "plt.imshow(to_print_reconstruction)\n",
    "plt.show()\n",
    "\n",
    "print(\"The label image is: \", label_img)\n",
    "print(\"Its probability is: \", probability)\n",
    "print(\"Its prediction is: \", prediction)\n",
    "print(\"Its reconstruction_error is: \", reconstruction_error)\n"
   ]
  },
  {
   "cell_type": "code",
   "execution_count": 106,
   "metadata": {},
   "outputs": [
    {
     "data": {
      "text/plain": [
       "0.013991229256418028"
      ]
     },
     "execution_count": 106,
     "metadata": {},
     "output_type": "execute_result"
    }
   ],
   "source": [
    "na_average_recon_error + na_stdev_recon_error"
   ]
  },
  {
   "cell_type": "code",
   "execution_count": 107,
   "metadata": {},
   "outputs": [
    {
     "data": {
      "text/plain": [
       "0.00470655658541975"
      ]
     },
     "execution_count": 107,
     "metadata": {},
     "output_type": "execute_result"
    }
   ],
   "source": [
    "na_average_recon_error - na_stdev_recon_error"
   ]
  },
  {
   "cell_type": "code",
   "execution_count": 108,
   "metadata": {},
   "outputs": [
    {
     "name": "stdout",
     "output_type": "stream",
     "text": [
      "0.009348892920918889\n",
      "0.004642336335499139\n"
     ]
    }
   ],
   "source": [
    "print(na_average_recon_error)\n",
    "print(na_stdev_recon_error)"
   ]
  },
  {
   "attachments": {},
   "cell_type": "markdown",
   "metadata": {},
   "source": [
    "As seen above both images at simple look, seem to be the same. However, the first image seems to have more brightness, perhaps that's what made it to be predicted as anomaly."
   ]
  },
  {
   "attachments": {},
   "cell_type": "markdown",
   "metadata": {},
   "source": []
  }
 ],
 "metadata": {
  "kernelspec": {
   "display_name": "Python 3",
   "language": "python",
   "name": "python3"
  },
  "language_info": {
   "codemirror_mode": {
    "name": "ipython",
    "version": 3
   },
   "file_extension": ".py",
   "mimetype": "text/x-python",
   "name": "python",
   "nbconvert_exporter": "python",
   "pygments_lexer": "ipython3",
   "version": "3.8.10"
  },
  "orig_nbformat": 4,
  "vscode": {
   "interpreter": {
    "hash": "916dbcbb3f70747c44a77c7bcd40155683ae19c65e1c03b4aa3499c5328201f1"
   }
  }
 },
 "nbformat": 4,
 "nbformat_minor": 2
}
