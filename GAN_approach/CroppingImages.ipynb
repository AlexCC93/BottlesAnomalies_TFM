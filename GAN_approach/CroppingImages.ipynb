{
 "cells": [
  {
   "cell_type": "code",
   "execution_count": 1,
   "metadata": {},
   "outputs": [],
   "source": [
    "from PIL import Image"
   ]
  },
  {
   "cell_type": "code",
   "execution_count": 4,
   "metadata": {},
   "outputs": [],
   "source": [
    "img_name = '../../Images/BottleStoodUp_atNight_V3/Positive/Positive_samples/07-03-2023 - 22.28.40_0.bmp'    #This is for the home laptop\n",
    "img = Image.open(img_name)\n",
    "img.show()"
   ]
  },
  {
   "cell_type": "code",
   "execution_count": 5,
   "metadata": {},
   "outputs": [],
   "source": [
    "# box = (500, 300, 1100, 1100)\n",
    "box = (500, 300, 1100, 1100)\n",
    "img2 = img.crop(box)"
   ]
  },
  {
   "cell_type": "code",
   "execution_count": 6,
   "metadata": {},
   "outputs": [],
   "source": [
    "img2.save('../../Images/BottleStoodUp_atNight_V3/Positive/Positive_samples/cropped.bmp')\n",
    "img2.show()"
   ]
  }
 ],
 "metadata": {
  "kernelspec": {
   "display_name": "tfm_3",
   "language": "python",
   "name": "python3"
  },
  "language_info": {
   "codemirror_mode": {
    "name": "ipython",
    "version": 3
   },
   "file_extension": ".py",
   "mimetype": "text/x-python",
   "name": "python",
   "nbconvert_exporter": "python",
   "pygments_lexer": "ipython3",
   "version": "3.9.16"
  },
  "orig_nbformat": 4
 },
 "nbformat": 4,
 "nbformat_minor": 2
}
