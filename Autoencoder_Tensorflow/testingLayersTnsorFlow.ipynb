{
 "cells": [
  {
   "cell_type": "code",
   "execution_count": 1,
   "metadata": {},
   "outputs": [],
   "source": [
    "from tensorflow.keras.models import Sequential\n",
    "from tensorflow.keras.layers import Conv2D, MaxPooling2D, UpSampling2D\n",
    "from tensorflow.keras.preprocessing.image import ImageDataGenerator\n",
    "from tensorflow import keras\n",
    "import tensorflow as tf\n",
    "from keras import layers\n",
    "\n",
    "from PIL import Image\n",
    "import matplotlib.pyplot as plt\n",
    "import numpy as np\n",
    "import random\n",
    "\n"
   ]
  },
  {
   "cell_type": "code",
   "execution_count": 15,
   "metadata": {},
   "outputs": [],
   "source": [
    "batch_size = 15\n",
    "SIZE = 228"
   ]
  },
  {
   "attachments": {},
   "cell_type": "markdown",
   "metadata": {},
   "source": [
    "General example"
   ]
  },
  {
   "cell_type": "code",
   "execution_count": 16,
   "metadata": {},
   "outputs": [
    {
     "name": "stdout",
     "output_type": "stream",
     "text": [
      "The input shape is:  (15, 228, 228, 3)\n",
      "The output shape, after applying Conv2D, is:  (15, 226, 226, 2)\n"
     ]
    }
   ],
   "source": [
    "input_shape = (batch_size, SIZE, SIZE, 3)\n",
    "x = tf.random.normal(input_shape)\n",
    "print(\"The input shape is: \", x.shape)\n",
    "y = tf.keras.layers.Conv2D(2, 3, activation='relu', input_shape=input_shape[1:])(x) # Conv2D(filters, kernel size, ...)\n",
    "print(\"The output shape, after applying Conv2D, is: \", y.shape)"
   ]
  },
  {
   "cell_type": "code",
   "execution_count": 17,
   "metadata": {},
   "outputs": [
    {
     "name": "stdout",
     "output_type": "stream",
     "text": [
      "(228, 228, 3)\n"
     ]
    }
   ],
   "source": [
    "print(input_shape[1:])"
   ]
  },
  {
   "attachments": {},
   "cell_type": "markdown",
   "metadata": {},
   "source": [
    "# For the layers in program \"BottlesTensorflow\""
   ]
  },
  {
   "cell_type": "code",
   "execution_count": 18,
   "metadata": {},
   "outputs": [
    {
     "name": "stdout",
     "output_type": "stream",
     "text": [
      "after Conv2D, the shape is:  (None, 228, 228, 16)\n"
     ]
    }
   ],
   "source": [
    "input_img = keras.Input(shape=(SIZE, SIZE, 3))\n",
    "x = layers.Conv2D(16, (3, 3), activation='relu', padding='same')(input_img) #Conv2D(filters, kernel_size, ...)\n",
    "print(\"after Conv2D, the shape is: \", x.shape)\n",
    "autoencoder = keras.Model(input_img, x)"
   ]
  },
  {
   "cell_type": "code",
   "execution_count": 19,
   "metadata": {},
   "outputs": [
    {
     "name": "stdout",
     "output_type": "stream",
     "text": [
      "The input shape is:  (15, 228, 228, 3)\n",
      "1/1 [==============================] - 0s 51ms/step\n",
      "The output shape, after feeding to the autoencoder, is:  (15, 228, 228, 16)\n"
     ]
    }
   ],
   "source": [
    "input_shape = (batch_size, SIZE, SIZE, 3)\n",
    "x = tf.random.normal(input_shape)\n",
    "print(\"The input shape is: \", x.shape)\n",
    "decoded_imgs = autoencoder.predict(x)\n",
    "print(\"The output shape, after feeding to the autoencoder, is: \", decoded_imgs.shape)"
   ]
  },
  {
   "attachments": {},
   "cell_type": "markdown",
   "metadata": {},
   "source": [
    "Now, checking all the layers of the \"BottlesTensorflow\" program"
   ]
  },
  {
   "cell_type": "code",
   "execution_count": 21,
   "metadata": {},
   "outputs": [
    {
     "name": "stdout",
     "output_type": "stream",
     "text": [
      "ENCODER PART\n",
      "input img shape is:  (15, 228, 228, 3)\n",
      "after Conv2D, the shape is:  (None, 228, 228, 16)\n",
      "after MaxPooling2D, the shape is:  (None, 114, 114, 16)\n",
      "after Conv2D, the shape is:  (None, 114, 114, 8)\n",
      "after MaxPooling2D, the shape is:  (None, 57, 57, 8)\n",
      "after Conv2D, the shape is:  (None, 57, 57, 8)\n",
      "after MaxPooling2D, the shape is:  (None, 29, 29, 8)\n",
      "DECODER PART\n",
      "after Conv2D, the shape is:  (None, 29, 29, 8)\n",
      "after UpSampling2D, the shape is:  (None, 58, 58, 8)\n",
      "after Conv2D, the shape is:  (None, 58, 58, 8)\n",
      "after UpSampling2D, the shape is:  (None, 116, 116, 8)\n",
      "after Conv2D, the shape is:  (None, 114, 114, 16)\n",
      "after UpSampling2D, the shape is:  (None, 228, 228, 16)\n",
      "after Conv2D, the shape is:  (None, 228, 228, 3)\n"
     ]
    }
   ],
   "source": [
    "print(\"ENCODER PART\")\n",
    "print(\"input img shape is: \", input_shape)\n",
    "x = layers.Conv2D(16, (3, 3), activation='relu', padding='same')(input_img)\n",
    "print(\"after Conv2D, the shape is: \", x.shape)\n",
    "x = layers.MaxPooling2D((2, 2), padding='same')(x)\n",
    "print(\"after MaxPooling2D, the shape is: \", x.shape)\n",
    "x = layers.Conv2D(8, (3, 3), activation='relu', padding='same')(x)\n",
    "print(\"after Conv2D, the shape is: \", x.shape)\n",
    "x = layers.MaxPooling2D((2, 2), padding='same')(x)\n",
    "print(\"after MaxPooling2D, the shape is: \", x.shape)\n",
    "x = layers.Conv2D(8, (3, 3), activation='relu', padding='same')(x)\n",
    "print(\"after Conv2D, the shape is: \", x.shape)\n",
    "encoded = layers.MaxPooling2D((2, 2), padding='same')(x)\n",
    "print(\"after MaxPooling2D, the shape is: \", encoded.shape)\n",
    "\n",
    "# at this point the representation is (4, 4, 8) i.e. 128-dimensional\n",
    "\n",
    "print(\"DECODER PART\")\n",
    "x = layers.Conv2D(8, (3, 3), activation='relu', padding='same')(encoded)\n",
    "print(\"after Conv2D, the shape is: \", x.shape)\n",
    "x = layers.UpSampling2D((2, 2))(x)\n",
    "print(\"after UpSampling2D, the shape is: \", x.shape)\n",
    "x = layers.Conv2D(8, (3, 3), activation='relu', padding='same')(x)\n",
    "print(\"after Conv2D, the shape is: \", x.shape)\n",
    "x = layers.UpSampling2D((2, 2))(x)\n",
    "print(\"after UpSampling2D, the shape is: \", x.shape)\n",
    "x = layers.Conv2D(16, (3, 3), activation='relu')(x)\n",
    "print(\"after Conv2D, the shape is: \", x.shape)\n",
    "x = layers.UpSampling2D((2, 2))(x)\n",
    "print(\"after UpSampling2D, the shape is: \", x.shape)\n",
    "# decoded = layers.Conv2D(1, (3, 3), activation='sigmoid', padding='same')(x)\n",
    "decoded = layers.Conv2D(3, (3, 3), activation='sigmoid', padding='same')(x)\n",
    "print(\"after Conv2D, the shape is: \", decoded.shape)"
   ]
  },
  {
   "cell_type": "code",
   "execution_count": null,
   "metadata": {},
   "outputs": [],
   "source": []
  }
 ],
 "metadata": {
  "kernelspec": {
   "display_name": "tfm",
   "language": "python",
   "name": "python3"
  },
  "language_info": {
   "codemirror_mode": {
    "name": "ipython",
    "version": 3
   },
   "file_extension": ".py",
   "mimetype": "text/x-python",
   "name": "python",
   "nbconvert_exporter": "python",
   "pygments_lexer": "ipython3",
   "version": "3.8.16"
  },
  "orig_nbformat": 4
 },
 "nbformat": 4,
 "nbformat_minor": 2
}
