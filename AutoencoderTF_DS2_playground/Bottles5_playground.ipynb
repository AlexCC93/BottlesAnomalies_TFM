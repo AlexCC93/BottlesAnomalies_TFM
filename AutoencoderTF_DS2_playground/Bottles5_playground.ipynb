{
 "cells": [
  {
   "cell_type": "code",
   "execution_count": 1,
   "metadata": {},
   "outputs": [],
   "source": [
    "from tensorflow.keras.models import Sequential, Model\n",
    "from tensorflow.keras.layers import *\n",
    "from tensorflow.keras.preprocessing.image import ImageDataGenerator\n",
    "from tensorflow import keras\n",
    "import tensorflow as tf\n",
    "# from keras import layers\n",
    "\n",
    "\n",
    "from tensorflow.keras.optimizers import Adam, RMSprop\n",
    "from tensorflow.keras.preprocessing import image\n",
    "\n",
    "import tensorflow.keras.backend as K\n",
    "\n",
    "\n",
    "from PIL import Image\n",
    "import matplotlib.pyplot as plt\n",
    "import numpy as np\n",
    "import random\n",
    "\n"
   ]
  },
  {
   "cell_type": "code",
   "execution_count": 2,
   "metadata": {},
   "outputs": [
    {
     "name": "stdout",
     "output_type": "stream",
     "text": [
      "Num GPUs Available:  1\n"
     ]
    },
    {
     "name": "stderr",
     "output_type": "stream",
     "text": [
      "2023-08-19 16:56:56.924566: I tensorflow/stream_executor/platform/default/dso_loader.cc:44] Successfully opened dynamic library libcuda.so.1\n",
      "2023-08-19 16:56:56.946377: I tensorflow/stream_executor/cuda/cuda_gpu_executor.cc:981] successful NUMA node read from SysFS had negative value (-1), but there must be at least one NUMA node, so returning NUMA node zero\n",
      "2023-08-19 16:56:56.946701: I tensorflow/core/common_runtime/gpu/gpu_device.cc:1561] Found device 0 with properties: \n",
      "pciBusID: 0000:01:00.0 name: NVIDIA GeForce RTX 2080 with Max-Q Design computeCapability: 7.5\n",
      "coreClock: 1.23GHz coreCount: 46 deviceMemorySize: 7.79GiB deviceMemoryBandwidth: 357.69GiB/s\n",
      "2023-08-19 16:56:56.946874: I tensorflow/stream_executor/platform/default/dso_loader.cc:44] Successfully opened dynamic library libcudart.so.10.1\n",
      "2023-08-19 16:56:56.948097: I tensorflow/stream_executor/platform/default/dso_loader.cc:44] Successfully opened dynamic library libcublas.so.10\n",
      "2023-08-19 16:56:56.949271: I tensorflow/stream_executor/platform/default/dso_loader.cc:44] Successfully opened dynamic library libcufft.so.10\n",
      "2023-08-19 16:56:56.949528: I tensorflow/stream_executor/platform/default/dso_loader.cc:44] Successfully opened dynamic library libcurand.so.10\n",
      "2023-08-19 16:56:56.950845: I tensorflow/stream_executor/platform/default/dso_loader.cc:44] Successfully opened dynamic library libcusolver.so.10\n",
      "2023-08-19 16:56:56.951572: I tensorflow/stream_executor/platform/default/dso_loader.cc:44] Successfully opened dynamic library libcusparse.so.10\n",
      "2023-08-19 16:56:56.954335: I tensorflow/stream_executor/platform/default/dso_loader.cc:44] Successfully opened dynamic library libcudnn.so.7\n",
      "2023-08-19 16:56:56.954433: I tensorflow/stream_executor/cuda/cuda_gpu_executor.cc:981] successful NUMA node read from SysFS had negative value (-1), but there must be at least one NUMA node, so returning NUMA node zero\n",
      "2023-08-19 16:56:56.954897: I tensorflow/stream_executor/cuda/cuda_gpu_executor.cc:981] successful NUMA node read from SysFS had negative value (-1), but there must be at least one NUMA node, so returning NUMA node zero\n",
      "2023-08-19 16:56:56.955467: I tensorflow/core/common_runtime/gpu/gpu_device.cc:1703] Adding visible gpu devices: 0\n"
     ]
    }
   ],
   "source": [
    "physical_devices = tf.config.experimental.list_physical_devices('GPU')\n",
    "if len(physical_devices) == 0:\n",
    "    print(\"Not enough GPU hardware devices available\")\n",
    "else:\n",
    "    config = tf.config.experimental.set_memory_growth(physical_devices[0], True)\n",
    "print(\"Num GPUs Available: \", len(physical_devices))"
   ]
  },
  {
   "cell_type": "code",
   "execution_count": 3,
   "metadata": {},
   "outputs": [],
   "source": [
    "# tf.debugging.set_log_device_placement(True)       # Will print the log information of every execution of tensorflow, mainly about "
   ]
  },
  {
   "attachments": {},
   "cell_type": "markdown",
   "metadata": {},
   "source": [
    "# Setting the training and testing datasets "
   ]
  },
  {
   "attachments": {},
   "cell_type": "markdown",
   "metadata": {},
   "source": [
    "ImageDataGenerator.flow_from_directory: Takes the path to a directory and generates batches of augmented data."
   ]
  },
  {
   "cell_type": "code",
   "execution_count": 4,
   "metadata": {},
   "outputs": [],
   "source": [
    "def my_crop(img, start_y, start_x, desired_height, desired_width):\n",
    "  if K.image_data_format() == 'channels_last':\n",
    "    # Note: image_data_format is 'channel_last'\n",
    "    assert img.shape[2] == 3\n",
    "    dy = desired_height #input desired output size\n",
    "    dx = desired_width #input desired output size\n",
    "    # start_y = (height-dy)//2\n",
    "    # start_x = (width-dx)//2\n",
    "    return img[start_y:start_y+dy, start_x:(dx+start_x), :]\n",
    "  else:\n",
    "      assert img.shape[0] == 3\n",
    "      dy = desired_height #input desired output size\n",
    "      dx = desired_width #input desired output size\n",
    "      # start_y = (height-dy)//2\n",
    "      # start_x = (width-dx)//2\n",
    "      return img[:,start_y:start_y + dy, start_x:(dx + start_x)]\n",
    "\n",
    "def crop_augmented_generator(batches, start_y, start_x, crop_height, crop_width):\n",
    "    '''\n",
    "    Take as input a Keras ImageGen (Iterator) and generate\n",
    "    crops from the image batches generated by the original iterator\n",
    "    '''\n",
    "    # print(\"I'm in the crop_generataor function\")\n",
    "    while True:\n",
    "      batch_x, batch_y = next(batches)  # In batch_x there are the images, in batch_y there are the same images because \"batches\" was selected to work with class_mode='input'\n",
    "    #   print(\"hello\")\n",
    "    #   print('the shape of tensor batch_x is:', batch_x.shape)\n",
    "    #   print('batch_y is:', batch_y)\n",
    "    \n",
    "      if K.image_data_format() == 'channels_last':\n",
    "        # print(\"type of batch_x: \", type(batch_x))\n",
    "        # print(\"type of batch_y: \", type(batch_y))\n",
    "        # print(\"len of batch_x: \", len(batch_x))\n",
    "\n",
    "        # Either batch_x or batch_y could be augmented or original\n",
    "        batch_crops_input_x = np.zeros((batch_x[0].shape[0], crop_height, crop_width, 3))\n",
    "        batch_crops_target_x = np.zeros((batch_x[1].shape[0], crop_height, crop_width, 3))\n",
    "\n",
    "        batch_crops_input_y = np.zeros((batch_y[0].shape[0], crop_height, crop_width, 3))\n",
    "        batch_crops_target_y = np.zeros((batch_y[1].shape[0], crop_height, crop_width, 3))\n",
    "      else:\n",
    "        # Either batch_x or batch_y could be augmented or original\n",
    "        batch_crops_input_x = np.zeros((batch_x[0].shape[0], 3, crop_height, crop_width))\n",
    "        batch_crops_target_x = np.zeros((batch_x[1].shape[0], 3, crop_height, crop_width))\n",
    "\n",
    "        batch_crops_input_y = np.zeros((batch_y[0].shape[0], 3, crop_height, crop_width))\n",
    "        batch_crops_target_y = np.zeros((batch_y[1].shape[0], 3, crop_height, crop_width))\n",
    "\n",
    "      for i in range(batch_x[0].shape[0]):\n",
    "        #   print(\"THe shape of a single image before the cropping is: \", batch_x[i].shape)\n",
    "        batch_crops_input_x[i] = my_crop(batch_x[0][i], start_y, start_x, crop_height, crop_width)\n",
    "        batch_crops_target_x[i] = my_crop(batch_x[1][i], start_y, start_x, crop_height, crop_width)\n",
    "\n",
    "        batch_crops_input_y[i] = my_crop(batch_y[0][i], start_y, start_x, crop_height, crop_width)\n",
    "        batch_crops_target_y[i] = my_crop(batch_y[1][i], start_y, start_x, crop_height, crop_width)\n",
    "      \n",
    "      # print(type(batch_crops_input_x))\n",
    "      batch_crops_x = (batch_crops_input_x, batch_crops_target_x)\n",
    "      batch_crops_y = (batch_crops_input_y, batch_crops_target_y)\n",
    "\n",
    "      yield (batch_crops_x, batch_crops_y)\n",
    "\n",
    "  \n",
    "    \n",
    "def crop_generator(batches, start_y, start_x, crop_height, crop_width, flag=0):\n",
    "    '''\n",
    "    Take as input a Keras ImageGen (Iterator) and generate\n",
    "    crops from the image batches generated by the original iterator\n",
    "    '''\n",
    "    # print(\"I'm in the crop_generataor function\")\n",
    "    while True:\n",
    "      batch_x, batch_y = next(batches)  # In batch_x there are the images, in batch_y there are the labels\n",
    "    #   print(\"hello\")\n",
    "    #   print('the shape of tensor batch_x is:', batch_x.shape)\n",
    "    #   print('batch_y is:', batch_y)\n",
    "      if flag==0:\n",
    "        if K.image_data_format() == 'channels_last':\n",
    "          batch_crops = np.zeros((batch_x.shape[0], crop_height, crop_width, 3))\n",
    "          batch_crops_y = np.zeros((batch_y.shape[0], crop_height, crop_width, 3))\n",
    "        else:\n",
    "          batch_crops = np.zeros((batch_x.shape[0], 3, crop_height, crop_width))\n",
    "          batch_crops_y = np.zeros((batch_y.shape[0], 3, crop_height, crop_width))\n",
    "        for i in range(batch_x.shape[0]):\n",
    "          #   print(\"THe shape of a single image before the cropping is: \", batch_x[i].shape)\n",
    "            batch_crops[i] = my_crop(batch_x[i], start_y, start_x, crop_height, crop_width)\n",
    "            batch_crops_y[i] = my_crop(batch_x[i], start_y, start_x, crop_height, crop_width)\n",
    "        yield (batch_crops, batch_crops_y)\n",
    "      else: \n",
    "        if K.image_data_format() == 'channels_last':\n",
    "          batch_crops = np.zeros((batch_x.shape[0], crop_height, crop_width, 3))\n",
    "        else:\n",
    "          batch_crops = np.zeros((batch_x.shape[0], 3, crop_height, crop_width))\n",
    "        for i in range(batch_x.shape[0]):\n",
    "          #   print(\"THe shape of a single image before the cropping is: \", batch_x[i].shape)\n",
    "            batch_crops[i] = my_crop(batch_x[i], start_y, start_x, crop_height, crop_width)\n",
    "\n",
    "        yield (batch_crops, batch_y)\n",
    "         "
   ]
  },
  {
   "cell_type": "code",
   "execution_count": 5,
   "metadata": {},
   "outputs": [
    {
     "name": "stdout",
     "output_type": "stream",
     "text": [
      "Found 295 images belonging to 1 classes.\n",
      "Found 295 images belonging to 1 classes.\n"
     ]
    }
   ],
   "source": [
    "# batch_size = 64\n",
    "batch_size = 10\n",
    "train_datagen = ImageDataGenerator(rescale=1./255,\n",
    "                                   brightness_range=[0.88,1.0]) # Typically used for data augmentation. Here it is only rescaling the image pixels value to range 0 to 1 in decimals and changing the brightness\n",
    "\n",
    "\n",
    "original_datagen = ImageDataGenerator(rescale=1./255)\n",
    "\n",
    "\n",
    "train_generator = train_datagen.flow_from_directory(\n",
    "    \"../../Images/june5Night/Positive/\",         # For home laptop\n",
    "    # \"../../../BottleStoodUp_atNight/Positive/\",          # For work laptop\n",
    "    batch_size=batch_size,\n",
    "    shuffle = False,\n",
    "    class_mode='input'\n",
    "    )\n",
    "\n",
    "# Generate original images from the original data directory\n",
    "original_generator = original_datagen.flow_from_directory(\n",
    "    \"../../Images/june5Night/Positive/\",\n",
    "    batch_size=batch_size,\n",
    "    shuffle = False,\n",
    "    class_mode='input')\n",
    "\n",
    "# Combine the generators using the `keras.preprocessing.image.Iterator` class\n",
    "combined_generator = zip(train_generator, original_generator)"
   ]
  },
  {
   "cell_type": "code",
   "execution_count": 6,
   "metadata": {},
   "outputs": [
    {
     "name": "stdout",
     "output_type": "stream",
     "text": [
      "Found 20 images belonging to 1 classes.\n"
     ]
    }
   ],
   "source": [
    "validation_generator = original_datagen.flow_from_directory(\n",
    "    \"../../Images/june5Night/Positive_val/\",     # For home laptop\n",
    "    # \"../../../BottleStoodUp_atNight/Positive_val/\",           # For work lpatop   \n",
    "    batch_size=batch_size,\n",
    "    shuffle = False,\n",
    "    class_mode='input'\n",
    "    )\n"
   ]
  },
  {
   "cell_type": "code",
   "execution_count": 7,
   "metadata": {},
   "outputs": [
    {
     "name": "stdout",
     "output_type": "stream",
     "text": [
      "Found 10 images belonging to 1 classes.\n"
     ]
    }
   ],
   "source": [
    "anomaly_generator = original_datagen.flow_from_directory(\n",
    "    \"../../Images/june5Night/Anomalies2.0/\",         # For home laptop\n",
    "    # \"../../../BottleStoodUp_atNight/Anomalies2.0/\",           # For work lpatpo\n",
    "    batch_size=batch_size,\n",
    "    shuffle = False,\n",
    "    class_mode='input'\n",
    "    )\n"
   ]
  },
  {
   "cell_type": "code",
   "execution_count": 8,
   "metadata": {},
   "outputs": [
    {
     "name": "stdout",
     "output_type": "stream",
     "text": [
      "Found 30 images belonging to 2 classes.\n"
     ]
    }
   ],
   "source": [
    "test_set_generator = original_datagen.flow_from_directory(\n",
    "    \"../../Images/june5Night/Evaluation/\",       # For home laptop\n",
    "    # \"../../../BottleStoodUp_atNight/Evaluation/\",             # For work laptop  \n",
    "    batch_size=batch_size,\n",
    "    shuffle = False,\n",
    "    class_mode='binary'\n",
    "    )\n"
   ]
  },
  {
   "attachments": {},
   "cell_type": "markdown",
   "metadata": {},
   "source": [
    "Creating the cropped images"
   ]
  },
  {
   "cell_type": "code",
   "execution_count": 9,
   "metadata": {},
   "outputs": [],
   "source": [
    "HEIGHT = 160\n",
    "WIDTH = 128"
   ]
  },
  {
   "cell_type": "code",
   "execution_count": 10,
   "metadata": {},
   "outputs": [],
   "source": [
    "train_crops = crop_augmented_generator(combined_generator, 65, 69, HEIGHT,WIDTH)      # top, left, height, width\n",
    "val_crops = crop_generator(validation_generator, 65, 69, HEIGHT,WIDTH)      # top, left, height, width\n",
    "anomaly_crops = crop_generator(anomaly_generator, 65, 69, HEIGHT,WIDTH)      # top, left, height, width\n",
    "test_crops = crop_generator(test_set_generator, 65, 69, HEIGHT,WIDTH,1)      # top, left, height, width"
   ]
  },
  {
   "cell_type": "code",
   "execution_count": 11,
   "metadata": {},
   "outputs": [
    {
     "name": "stdout",
     "output_type": "stream",
     "text": [
      "<class 'generator'>\n",
      "<class 'keras_preprocessing.image.directory_iterator.DirectoryIterator'>\n"
     ]
    }
   ],
   "source": [
    "print(type(train_crops))\n",
    "print(type(train_generator))"
   ]
  },
  {
   "attachments": {},
   "cell_type": "markdown",
   "metadata": {},
   "source": [
    "Here we make sure that both of the returned elements of the cropped generator, that is \"imgaes_in_batch\" and \"imgaes_in_batch2\", are indeed cropped images."
   ]
  },
  {
   "cell_type": "code",
   "execution_count": 12,
   "metadata": {},
   "outputs": [],
   "source": [
    "images_in_batch, images_in_batch2 = next(train_crops)"
   ]
  },
  {
   "cell_type": "code",
   "execution_count": 13,
   "metadata": {},
   "outputs": [
    {
     "name": "stdout",
     "output_type": "stream",
     "text": [
      "(10, 160, 128, 3)\n",
      "(10, 160, 128, 3)\n"
     ]
    }
   ],
   "source": [
    "batch_input_images1 = images_in_batch[0]\n",
    "batch_expected_images1 = images_in_batch[1]\n",
    "print(batch_input_images1.shape)\n",
    "print(batch_expected_images1.shape)"
   ]
  },
  {
   "cell_type": "code",
   "execution_count": 14,
   "metadata": {},
   "outputs": [
    {
     "name": "stdout",
     "output_type": "stream",
     "text": [
      "(10, 160, 128, 3)\n",
      "(10, 160, 128, 3)\n"
     ]
    }
   ],
   "source": [
    "batch_input_images2 = images_in_batch2[0]\n",
    "batch_expected_images2 = images_in_batch2[1]\n",
    "print(batch_input_images2.shape)\n",
    "print(batch_expected_images2.shape)"
   ]
  },
  {
   "cell_type": "code",
   "execution_count": 15,
   "metadata": {},
   "outputs": [
    {
     "data": {
      "text/plain": [
       "<matplotlib.image.AxesImage at 0x7f728045b7f0>"
      ]
     },
     "execution_count": 15,
     "metadata": {},
     "output_type": "execute_result"
    },
    {
     "data": {
      "image/png": "[encoded data removed]",
      "text/plain": [
       "<Figure size 640x480 with 1 Axes>"
      ]
     },
     "metadata": {},
     "output_type": "display_data"
    }
   ],
   "source": [
    "single_img_batch1 = batch_input_images1[0]\n",
    "plt.imshow(single_img_batch1)"
   ]
  },
  {
   "cell_type": "code",
   "execution_count": 16,
   "metadata": {},
   "outputs": [
    {
     "data": {
      "text/plain": [
       "<matplotlib.image.AxesImage at 0x7f72803fa1c0>"
      ]
     },
     "execution_count": 16,
     "metadata": {},
     "output_type": "execute_result"
    },
    {
     "data": {
      "image/png": "[encoded data removed]",
      "text/plain": [
       "<Figure size 640x480 with 1 Axes>"
      ]
     },
     "metadata": {},
     "output_type": "display_data"
    }
   ],
   "source": [
    "single_img_batch2 = batch_input_images2[0]\n",
    "plt.imshow(single_img_batch2)"
   ]
  },
  {
   "attachments": {},
   "cell_type": "markdown",
   "metadata": {},
   "source": [
    "# Configuring the Autoencoder netwrok"
   ]
  },
  {
   "cell_type": "code",
   "execution_count": 17,
   "metadata": {},
   "outputs": [
    {
     "name": "stderr",
     "output_type": "stream",
     "text": [
      "2023-08-19 16:56:58.764105: I tensorflow/core/platform/cpu_feature_guard.cc:143] Your CPU supports instructions that this TensorFlow binary was not compiled to use: AVX2 FMA\n",
      "2023-08-19 16:56:58.789645: I tensorflow/core/platform/profile_utils/cpu_utils.cc:102] CPU Frequency: 2599990000 Hz\n",
      "2023-08-19 16:56:58.790306: I tensorflow/compiler/xla/service/service.cc:168] XLA service 0x7f71fc000db0 initialized for platform Host (this does not guarantee that XLA will be used). Devices:\n",
      "2023-08-19 16:56:58.790321: I tensorflow/compiler/xla/service/service.cc:176]   StreamExecutor device (0): Host, Default Version\n",
      "2023-08-19 16:56:58.857988: I tensorflow/stream_executor/cuda/cuda_gpu_executor.cc:981] successful NUMA node read from SysFS had negative value (-1), but there must be at least one NUMA node, so returning NUMA node zero\n",
      "2023-08-19 16:56:58.858439: I tensorflow/compiler/xla/service/service.cc:168] XLA service 0x4805350 initialized for platform CUDA (this does not guarantee that XLA will be used). Devices:\n",
      "2023-08-19 16:56:58.858455: I tensorflow/compiler/xla/service/service.cc:176]   StreamExecutor device (0): NVIDIA GeForce RTX 2080 with Max-Q Design, Compute Capability 7.5\n",
      "2023-08-19 16:56:58.858615: I tensorflow/stream_executor/cuda/cuda_gpu_executor.cc:981] successful NUMA node read from SysFS had negative value (-1), but there must be at least one NUMA node, so returning NUMA node zero\n",
      "2023-08-19 16:56:58.859120: I tensorflow/core/common_runtime/gpu/gpu_device.cc:1561] Found device 0 with properties: \n",
      "pciBusID: 0000:01:00.0 name: NVIDIA GeForce RTX 2080 with Max-Q Design computeCapability: 7.5\n",
      "coreClock: 1.23GHz coreCount: 46 deviceMemorySize: 7.79GiB deviceMemoryBandwidth: 357.69GiB/s\n",
      "2023-08-19 16:56:58.859158: I tensorflow/stream_executor/platform/default/dso_loader.cc:44] Successfully opened dynamic library libcudart.so.10.1\n",
      "2023-08-19 16:56:58.859173: I tensorflow/stream_executor/platform/default/dso_loader.cc:44] Successfully opened dynamic library libcublas.so.10\n",
      "2023-08-19 16:56:58.859185: I tensorflow/stream_executor/platform/default/dso_loader.cc:44] Successfully opened dynamic library libcufft.so.10\n",
      "2023-08-19 16:56:58.859197: I tensorflow/stream_executor/platform/default/dso_loader.cc:44] Successfully opened dynamic library libcurand.so.10\n",
      "2023-08-19 16:56:58.859209: I tensorflow/stream_executor/platform/default/dso_loader.cc:44] Successfully opened dynamic library libcusolver.so.10\n",
      "2023-08-19 16:56:58.859220: I tensorflow/stream_executor/platform/default/dso_loader.cc:44] Successfully opened dynamic library libcusparse.so.10\n",
      "2023-08-19 16:56:58.859232: I tensorflow/stream_executor/platform/default/dso_loader.cc:44] Successfully opened dynamic library libcudnn.so.7\n",
      "2023-08-19 16:56:58.859283: I tensorflow/stream_executor/cuda/cuda_gpu_executor.cc:981] successful NUMA node read from SysFS had negative value (-1), but there must be at least one NUMA node, so returning NUMA node zero\n",
      "2023-08-19 16:56:58.859605: I tensorflow/stream_executor/cuda/cuda_gpu_executor.cc:981] successful NUMA node read from SysFS had negative value (-1), but there must be at least one NUMA node, so returning NUMA node zero\n",
      "2023-08-19 16:56:58.860119: I tensorflow/core/common_runtime/gpu/gpu_device.cc:1703] Adding visible gpu devices: 0\n",
      "2023-08-19 16:56:58.860157: I tensorflow/stream_executor/platform/default/dso_loader.cc:44] Successfully opened dynamic library libcudart.so.10.1\n",
      "2023-08-19 16:56:58.860617: I tensorflow/core/common_runtime/gpu/gpu_device.cc:1102] Device interconnect StreamExecutor with strength 1 edge matrix:\n",
      "2023-08-19 16:56:58.860705: I tensorflow/core/common_runtime/gpu/gpu_device.cc:1108]      0 \n",
      "2023-08-19 16:56:58.860713: I tensorflow/core/common_runtime/gpu/gpu_device.cc:1121] 0:   N \n",
      "2023-08-19 16:56:58.860803: I tensorflow/stream_executor/cuda/cuda_gpu_executor.cc:981] successful NUMA node read from SysFS had negative value (-1), but there must be at least one NUMA node, so returning NUMA node zero\n",
      "2023-08-19 16:56:58.861255: I tensorflow/stream_executor/cuda/cuda_gpu_executor.cc:981] successful NUMA node read from SysFS had negative value (-1), but there must be at least one NUMA node, so returning NUMA node zero\n",
      "2023-08-19 16:56:58.861615: I tensorflow/core/common_runtime/gpu/gpu_device.cc:1247] Created TensorFlow device (/job:localhost/replica:0/task:0/device:GPU:0 with 6882 MB memory) -> physical GPU (device: 0, name: NVIDIA GeForce RTX 2080 with Max-Q Design, pci bus id: 0000:01:00.0, compute capability: 7.5)\n"
     ]
    },
    {
     "name": "stdout",
     "output_type": "stream",
     "text": [
      "shape before flattening:  (None, 10, 8, 1)\n",
      "(None, 40)\n",
      "Model: \"model\"\n",
      "_________________________________________________________________\n",
      "Layer (type)                 Output Shape              Param #   \n",
      "=================================================================\n",
      "input_1 (InputLayer)         [(None, 160, 128, 3)]     0         \n",
      "_________________________________________________________________\n",
      "conv2d (Conv2D)              (None, 160, 128, 64)      1792      \n",
      "_________________________________________________________________\n",
      "max_pooling2d (MaxPooling2D) (None, 80, 64, 64)        0         \n",
      "_________________________________________________________________\n",
      "conv2d_1 (Conv2D)            (None, 80, 64, 32)        18464     \n",
      "_________________________________________________________________\n",
      "max_pooling2d_1 (MaxPooling2 (None, 40, 32, 32)        0         \n",
      "_________________________________________________________________\n",
      "conv2d_2 (Conv2D)            (None, 40, 32, 16)        4624      \n",
      "_________________________________________________________________\n",
      "max_pooling2d_2 (MaxPooling2 (None, 20, 16, 16)        0         \n",
      "_________________________________________________________________\n",
      "conv2d_3 (Conv2D)            (None, 20, 16, 4)         580       \n",
      "_________________________________________________________________\n",
      "max_pooling2d_3 (MaxPooling2 (None, 10, 8, 4)          0         \n",
      "_________________________________________________________________\n",
      "conv2d_4 (Conv2D)            (None, 10, 8, 1)          37        \n",
      "_________________________________________________________________\n",
      "flatten (Flatten)            (None, 80)                0         \n",
      "_________________________________________________________________\n",
      "dense (Dense)                (None, 80)                6480      \n",
      "_________________________________________________________________\n",
      "dense_1 (Dense)              (None, 40)                3240      \n",
      "=================================================================\n",
      "Total params: 35,217\n",
      "Trainable params: 35,217\n",
      "Non-trainable params: 0\n",
      "_________________________________________________________________\n"
     ]
    }
   ],
   "source": [
    "latent_dim = 40  # Number of latent dimension parameters\n",
    "\n",
    "input_img = Input(shape=(HEIGHT, WIDTH, 3))\n",
    "x = Conv2D(64, (3, 3), activation='relu', padding='same')(input_img)\n",
    "x = MaxPooling2D((2, 2), padding='same')(x)\n",
    "x = Conv2D(32, (3, 3), activation='relu', padding='same')(x)\n",
    "x = MaxPool2D( (2, 2), padding='same')(x)\n",
    "x = Conv2D(16, (3, 3), activation='relu', padding='same')(x)\n",
    "x = MaxPool2D( (2, 2), padding='same')(x)\n",
    "\n",
    "x = Conv2D(4, (3, 3), activation='relu', padding='same')(x)\n",
    "x = MaxPool2D( (2, 2), padding='same')(x)\n",
    "x = Conv2D(1, (3, 3), activation='relu', padding='same')(x)\n",
    "\n",
    "shape_before_flattening = K.int_shape(x)        #  K is the tensorflow.keras.backend. It retreives the shape of the layer up to this point.\n",
    "print(\"shape before flattening: \", shape_before_flattening)\n",
    "x = Flatten()(x)\n",
    "x = Dense(80, activation='relu')(x)        # Activation function is supposed to be none, i.e the output is the same as the input. If none, then \"Dense()\" is the same as linear transformation in Pytorch\n",
    "\n",
    "Z = Dense(latent_dim)(x)\n",
    "print(K.int_shape(Z))\n",
    "\n",
    "encoder = Model(input_img,Z)\n",
    "encoder.summary()"
   ]
  },
  {
   "cell_type": "code",
   "execution_count": 18,
   "metadata": {},
   "outputs": [
    {
     "name": "stdout",
     "output_type": "stream",
     "text": [
      "Model: \"model_1\"\n",
      "_________________________________________________________________\n",
      "Layer (type)                 Output Shape              Param #   \n",
      "=================================================================\n",
      "input_2 (InputLayer)         [(None, 40)]              0         \n",
      "_________________________________________________________________\n",
      "intermediate_decoder (Dense) (None, 320)               13120     \n",
      "_________________________________________________________________\n",
      "original_decoder (Dense)     (None, 320)               102720    \n",
      "_________________________________________________________________\n",
      "reshape (Reshape)            (None, 10, 8, 4)          0         \n",
      "_________________________________________________________________\n",
      "conv2d_transpose (Conv2DTran (None, 10, 8, 3)          111       \n",
      "_________________________________________________________________\n",
      "up_sampling2d (UpSampling2D) (None, 20, 16, 3)         0         \n",
      "_________________________________________________________________\n",
      "conv2d_transpose_1 (Conv2DTr (None, 20, 16, 3)         84        \n",
      "_________________________________________________________________\n",
      "up_sampling2d_1 (UpSampling2 (None, 40, 32, 3)         0         \n",
      "_________________________________________________________________\n",
      "conv2d_transpose_2 (Conv2DTr (None, 40, 32, 3)         84        \n",
      "_________________________________________________________________\n",
      "up_sampling2d_2 (UpSampling2 (None, 80, 64, 3)         0         \n",
      "_________________________________________________________________\n",
      "conv2d_transpose_3 (Conv2DTr (None, 80, 64, 3)         84        \n",
      "_________________________________________________________________\n",
      "up_sampling2d_3 (UpSampling2 (None, 160, 128, 3)       0         \n",
      "=================================================================\n",
      "Total params: 116,203\n",
      "Trainable params: 116,203\n",
      "Non-trainable params: 0\n",
      "_________________________________________________________________\n"
     ]
    }
   ],
   "source": [
    "# decoder takes the latent distribution sample as input\n",
    "decoder_input = Input(K.int_shape(Z)[1:])\n",
    "x = Dense(10*8*4, activation='relu', name=\"intermediate_decoder\", input_shape=(latent_dim,))(decoder_input)\n",
    "\n",
    "x = Dense(320, activation='sigmoid', name=\"original_decoder\")(x)\n",
    "x = Reshape((10,8,4),input_shape=(320,))(x)\n",
    "\n",
    "x = Conv2DTranspose(3, (3, 3), padding='same')(x)\n",
    "x = UpSampling2D( (2, 2))(x)\n",
    "x = Conv2DTranspose(3, (3, 3), padding='same')(x)\n",
    "x = UpSampling2D( (2, 2))(x)\n",
    "x = Conv2DTranspose(3, (3, 3), padding='same')(x)\n",
    "x = UpSampling2D( (2, 2))(x)\n",
    "x = Conv2DTranspose(3, (3, 3), padding='same')(x)\n",
    "x = UpSampling2D( (2, 2))(x)\n",
    "\n",
    "# decoder model statement\n",
    "decoder = Model(decoder_input, x)\n",
    "\n",
    "# apply the decoder to the sample from the latent distribution\n",
    "z_decoded = decoder(Z)\n",
    "\n",
    "decoder.summary()"
   ]
  },
  {
   "cell_type": "code",
   "execution_count": 19,
   "metadata": {},
   "outputs": [
    {
     "name": "stdout",
     "output_type": "stream",
     "text": [
      "Model: \"model_2\"\n",
      "_________________________________________________________________\n",
      "Layer (type)                 Output Shape              Param #   \n",
      "=================================================================\n",
      "input_1 (InputLayer)         [(None, 160, 128, 3)]     0         \n",
      "_________________________________________________________________\n",
      "conv2d (Conv2D)              (None, 160, 128, 64)      1792      \n",
      "_________________________________________________________________\n",
      "max_pooling2d (MaxPooling2D) (None, 80, 64, 64)        0         \n",
      "_________________________________________________________________\n",
      "conv2d_1 (Conv2D)            (None, 80, 64, 32)        18464     \n",
      "_________________________________________________________________\n",
      "max_pooling2d_1 (MaxPooling2 (None, 40, 32, 32)        0         \n",
      "_________________________________________________________________\n",
      "conv2d_2 (Conv2D)            (None, 40, 32, 16)        4624      \n",
      "_________________________________________________________________\n",
      "max_pooling2d_2 (MaxPooling2 (None, 20, 16, 16)        0         \n",
      "_________________________________________________________________\n",
      "conv2d_3 (Conv2D)            (None, 20, 16, 4)         580       \n",
      "_________________________________________________________________\n",
      "max_pooling2d_3 (MaxPooling2 (None, 10, 8, 4)          0         \n",
      "_________________________________________________________________\n",
      "conv2d_4 (Conv2D)            (None, 10, 8, 1)          37        \n",
      "_________________________________________________________________\n",
      "flatten (Flatten)            (None, 80)                0         \n",
      "_________________________________________________________________\n",
      "dense (Dense)                (None, 80)                6480      \n",
      "_________________________________________________________________\n",
      "dense_1 (Dense)              (None, 40)                3240      \n",
      "_________________________________________________________________\n",
      "model_1 (Model)              (None, 160, 128, 3)       116203    \n",
      "=================================================================\n",
      "Total params: 151,420\n",
      "Trainable params: 151,420\n",
      "Non-trainable params: 0\n",
      "_________________________________________________________________\n"
     ]
    }
   ],
   "source": [
    "# VAE model statement\n",
    "ae = Model(input_img,z_decoded)\n",
    "ae.compile(optimizer='adam', loss='mean_squared_error')\n",
    "\n",
    "ae.summary()"
   ]
  },
  {
   "attachments": {},
   "cell_type": "markdown",
   "metadata": {},
   "source": [
    "These are the weights of a specific layer of the encoder model, before training are:"
   ]
  },
  {
   "cell_type": "code",
   "execution_count": 20,
   "metadata": {},
   "outputs": [
    {
     "name": "stdout",
     "output_type": "stream",
     "text": [
      "quantity of layers in the model:  13\n",
      "The weigths in the conv2d is:  [<tf.Variable 'conv2d/kernel:0' shape=(3, 3, 3, 64) dtype=float32, numpy=\n",
      "array([[[[-0.03758095,  0.00849272, -0.01266576, ...,  0.02428184,\n",
      "           0.00407922, -0.0694396 ],\n",
      "         [-0.03194296, -0.04997262, -0.01684882, ...,  0.00837667,\n",
      "          -0.00050868,  0.05896215],\n",
      "         [-0.07967979, -0.07360208,  0.03728519, ..., -0.09607352,\n",
      "           0.00624416,  0.06931868]],\n",
      "\n",
      "        [[ 0.04787523, -0.01342914, -0.05630402, ...,  0.06922956,\n",
      "           0.02559362, -0.05438291],\n",
      "         [-0.01376877,  0.05222563,  0.03101371, ..., -0.08672128,\n",
      "          -0.03822201, -0.02747625],\n",
      "         [-0.0222594 ,  0.06233019,  0.03031519, ...,  0.03556621,\n",
      "           0.0676934 ,  0.06636752]],\n",
      "\n",
      "        [[ 0.06959695,  0.06503345,  0.02598904, ...,  0.03174487,\n",
      "           0.03375533,  0.05002585],\n",
      "         [-0.01986393,  0.0354168 ,  0.06997263, ...,  0.03660063,\n",
      "           0.01991899, -0.08738983],\n",
      "         [ 0.01501109, -0.09063356, -0.03456648, ...,  0.00576428,\n",
      "           0.08572355,  0.09000744]]],\n",
      "\n",
      "\n",
      "       [[[-0.01590184,  0.03273021, -0.08008787, ...,  0.06359331,\n",
      "          -0.08375016,  0.00300147],\n",
      "         [-0.00102355, -0.02297751, -0.01181718, ...,  0.05620177,\n",
      "           0.07521151, -0.09619417],\n",
      "         [ 0.06116523,  0.08710523,  0.04127724, ...,  0.09321402,\n",
      "           0.01728044, -0.03884834]],\n",
      "\n",
      "        [[ 0.01111859, -0.05957808, -0.0766801 , ...,  0.09967184,\n",
      "          -0.02774863, -0.06762381],\n",
      "         [ 0.07125668, -0.04565886, -0.05255666, ..., -0.03120799,\n",
      "           0.02868162, -0.01128067],\n",
      "         [-0.04728532,  0.02677014,  0.04875769, ...,  0.07813583,\n",
      "          -0.06409767,  0.07451983]],\n",
      "\n",
      "        [[ 0.05980931,  0.0440796 ,  0.00059654, ..., -0.05809386,\n",
      "           0.01619975,  0.03289621],\n",
      "         [ 0.08016166, -0.0962806 , -0.08602395, ...,  0.03259198,\n",
      "           0.06210023,  0.07707392],\n",
      "         [-0.09323002, -0.01316413, -0.09561814, ...,  0.03627408,\n",
      "           0.0794691 ,  0.06317042]]],\n",
      "\n",
      "\n",
      "       [[[ 0.01065474, -0.05606707,  0.03005922, ..., -0.03307969,\n",
      "          -0.07741515, -0.00794125],\n",
      "         [ 0.09864855,  0.02438776, -0.08251841, ..., -0.02214967,\n",
      "          -0.02636866, -0.05179051],\n",
      "         [ 0.08667614, -0.07452199,  0.05596286, ...,  0.05447024,\n",
      "           0.00100999, -0.06852036]],\n",
      "\n",
      "        [[-0.09398502, -0.07715085,  0.0764828 , ..., -0.08311921,\n",
      "          -0.08318292, -0.07374197],\n",
      "         [ 0.01599842,  0.02238573,  0.07115088, ...,  0.03578095,\n",
      "          -0.02020666, -0.01307967],\n",
      "         [ 0.0452006 , -0.0888587 , -0.08651297, ...,  0.07982293,\n",
      "           0.0376019 ,  0.04145136]],\n",
      "\n",
      "        [[ 0.09075013,  0.01761804,  0.08016716, ...,  0.02992509,\n",
      "          -0.08233801,  0.06303734],\n",
      "         [ 0.09207897, -0.02886134,  0.034337  , ...,  0.01318531,\n",
      "           0.02875982,  0.04090811],\n",
      "         [ 0.00197038, -0.07718246,  0.00069466, ...,  0.05982566,\n",
      "          -0.03309631, -0.07597743]]]], dtype=float32)>, <tf.Variable 'conv2d/bias:0' shape=(64,) dtype=float32, numpy=\n",
      "array([0., 0., 0., 0., 0., 0., 0., 0., 0., 0., 0., 0., 0., 0., 0., 0., 0.,\n",
      "       0., 0., 0., 0., 0., 0., 0., 0., 0., 0., 0., 0., 0., 0., 0., 0., 0.,\n",
      "       0., 0., 0., 0., 0., 0., 0., 0., 0., 0., 0., 0., 0., 0., 0., 0., 0.,\n",
      "       0., 0., 0., 0., 0., 0., 0., 0., 0., 0., 0., 0., 0.], dtype=float32)>]\n"
     ]
    }
   ],
   "source": [
    "# layer_number = 1\n",
    "# print(\"quantity of layers in the model: \", len(encoder.layers))\n",
    "# print(\"The weigths in the\", encoder.layers[layer_number].name, \"is: \", encoder.layers[layer_number].weights)"
   ]
  },
  {
   "attachments": {},
   "cell_type": "markdown",
   "metadata": {},
   "source": [
    "These are the weights of a specific layer of the decoder model,before training are:"
   ]
  },
  {
   "cell_type": "code",
   "execution_count": null,
   "metadata": {},
   "outputs": [],
   "source": [
    "# layer_number = 1\n",
    "# print(\"quantity of layers in the model: \", len(decoder.layers))\n",
    "# print(\"The weigths in the\", decoder.layers[layer_number].name, \"is: \", decoder.layers[layer_number].weights)"
   ]
  },
  {
   "attachments": {},
   "cell_type": "markdown",
   "metadata": {},
   "source": [
    "These are the weights of a specific layer of the autoencoder model,before training are:"
   ]
  },
  {
   "cell_type": "code",
   "execution_count": null,
   "metadata": {},
   "outputs": [],
   "source": [
    "# layer_number = 1\n",
    "# print(\"quantity of layers in the model: \", len(ae.layers))\n",
    "# print(\"The weigths in the\", ae.layers[layer_number].name, \"is: \", ae.layers[layer_number].weights)"
   ]
  },
  {
   "cell_type": "code",
   "execution_count": null,
   "metadata": {},
   "outputs": [],
   "source": [
    "# from tensorflow.keras.callbacks import EarlyStopping\n",
    "# run the modelvalidat\n",
    "# early_stopping = EarlyStopping(monitor='val_loss', min_delta=0, patience=20, verbose=5, mode='auto')\n",
    "# history = ae.fit(train_crops, epochs=300, steps_per_epoch=len(train_generator)*10, validation_data=val_crops, validation_steps =len(validation_generator),  verbose=1, shuffle = True)"
   ]
  },
  {
   "cell_type": "code",
   "execution_count": null,
   "metadata": {},
   "outputs": [],
   "source": [
    "\n",
    "# # Get the training and validation loss values from the history object\n",
    "# train_loss = history.history['loss']\n",
    "# val_loss = history.history['val_loss']\n",
    "\n",
    "# # Plot the training and validation loss\n",
    "# epochs = range(1, len(train_loss) + 1)\n",
    "# plt.plot(epochs, train_loss, 'b-', label='Training Loss')\n",
    "# plt.plot(epochs, val_loss, 'r-', label='Validation Loss')\n",
    "# plt.title('Training and Validation Loss')\n",
    "# plt.xlabel('Epochs')\n",
    "# plt.ylabel('Loss')\n",
    "# plt.legend()\n",
    "# plt.show()\n"
   ]
  },
  {
   "cell_type": "code",
   "execution_count": 21,
   "metadata": {},
   "outputs": [
    {
     "name": "stdout",
     "output_type": "stream",
     "text": [
      "UsingValidDS1_3\n"
     ]
    }
   ],
   "source": [
    "model_version = 'UsingValidDS1_3'\n",
    "print(model_version)"
   ]
  },
  {
   "cell_type": "code",
   "execution_count": null,
   "metadata": {},
   "outputs": [],
   "source": [
    "# ae.save(f\"../../BottlesAnomalies_TFM/models/{model_version}\")"
   ]
  },
  {
   "attachments": {},
   "cell_type": "markdown",
   "metadata": {},
   "source": [
    "Loading the model that was previously saved\n"
   ]
  },
  {
   "cell_type": "code",
   "execution_count": 22,
   "metadata": {},
   "outputs": [
    {
     "name": "stdout",
     "output_type": "stream",
     "text": [
      "<class 'tensorflow.python.keras.engine.training.Model'>\n"
     ]
    }
   ],
   "source": [
    "model = keras.models.load_model('../models/UsingValidDS1_3')\n",
    "print(type(model))"
   ]
  },
  {
   "attachments": {},
   "cell_type": "markdown",
   "metadata": {},
   "source": [
    "## See the weights after the model loading"
   ]
  },
  {
   "attachments": {},
   "cell_type": "markdown",
   "metadata": {},
   "source": [
    "These are the weights of a specific layer of the encoder model, AFTER training:"
   ]
  },
  {
   "cell_type": "code",
   "execution_count": 23,
   "metadata": {},
   "outputs": [
    {
     "name": "stdout",
     "output_type": "stream",
     "text": [
      "quantity of layers in the model:  13\n",
      "The weigths in the conv2d is:  [<tf.Variable 'conv2d/kernel:0' shape=(3, 3, 3, 64) dtype=float32, numpy=\n",
      "array([[[[-0.03758095,  0.00849272, -0.01266576, ...,  0.02428184,\n",
      "           0.00407922, -0.0694396 ],\n",
      "         [-0.03194296, -0.04997262, -0.01684882, ...,  0.00837667,\n",
      "          -0.00050868,  0.05896215],\n",
      "         [-0.07967979, -0.07360208,  0.03728519, ..., -0.09607352,\n",
      "           0.00624416,  0.06931868]],\n",
      "\n",
      "        [[ 0.04787523, -0.01342914, -0.05630402, ...,  0.06922956,\n",
      "           0.02559362, -0.05438291],\n",
      "         [-0.01376877,  0.05222563,  0.03101371, ..., -0.08672128,\n",
      "          -0.03822201, -0.02747625],\n",
      "         [-0.0222594 ,  0.06233019,  0.03031519, ...,  0.03556621,\n",
      "           0.0676934 ,  0.06636752]],\n",
      "\n",
      "        [[ 0.06959695,  0.06503345,  0.02598904, ...,  0.03174487,\n",
      "           0.03375533,  0.05002585],\n",
      "         [-0.01986393,  0.0354168 ,  0.06997263, ...,  0.03660063,\n",
      "           0.01991899, -0.08738983],\n",
      "         [ 0.01501109, -0.09063356, -0.03456648, ...,  0.00576428,\n",
      "           0.08572355,  0.09000744]]],\n",
      "\n",
      "\n",
      "       [[[-0.01590184,  0.03273021, -0.08008787, ...,  0.06359331,\n",
      "          -0.08375016,  0.00300147],\n",
      "         [-0.00102355, -0.02297751, -0.01181718, ...,  0.05620177,\n",
      "           0.07521151, -0.09619417],\n",
      "         [ 0.06116523,  0.08710523,  0.04127724, ...,  0.09321402,\n",
      "           0.01728044, -0.03884834]],\n",
      "\n",
      "        [[ 0.01111859, -0.05957808, -0.0766801 , ...,  0.09967184,\n",
      "          -0.02774863, -0.06762381],\n",
      "         [ 0.07125668, -0.04565886, -0.05255666, ..., -0.03120799,\n",
      "           0.02868162, -0.01128067],\n",
      "         [-0.04728532,  0.02677014,  0.04875769, ...,  0.07813583,\n",
      "          -0.06409767,  0.07451983]],\n",
      "\n",
      "        [[ 0.05980931,  0.0440796 ,  0.00059654, ..., -0.05809386,\n",
      "           0.01619975,  0.03289621],\n",
      "         [ 0.08016166, -0.0962806 , -0.08602395, ...,  0.03259198,\n",
      "           0.06210023,  0.07707392],\n",
      "         [-0.09323002, -0.01316413, -0.09561814, ...,  0.03627408,\n",
      "           0.0794691 ,  0.06317042]]],\n",
      "\n",
      "\n",
      "       [[[ 0.01065474, -0.05606707,  0.03005922, ..., -0.03307969,\n",
      "          -0.07741515, -0.00794125],\n",
      "         [ 0.09864855,  0.02438776, -0.08251841, ..., -0.02214967,\n",
      "          -0.02636866, -0.05179051],\n",
      "         [ 0.08667614, -0.07452199,  0.05596286, ...,  0.05447024,\n",
      "           0.00100999, -0.06852036]],\n",
      "\n",
      "        [[-0.09398502, -0.07715085,  0.0764828 , ..., -0.08311921,\n",
      "          -0.08318292, -0.07374197],\n",
      "         [ 0.01599842,  0.02238573,  0.07115088, ...,  0.03578095,\n",
      "          -0.02020666, -0.01307967],\n",
      "         [ 0.0452006 , -0.0888587 , -0.08651297, ...,  0.07982293,\n",
      "           0.0376019 ,  0.04145136]],\n",
      "\n",
      "        [[ 0.09075013,  0.01761804,  0.08016716, ...,  0.02992509,\n",
      "          -0.08233801,  0.06303734],\n",
      "         [ 0.09207897, -0.02886134,  0.034337  , ...,  0.01318531,\n",
      "           0.02875982,  0.04090811],\n",
      "         [ 0.00197038, -0.07718246,  0.00069466, ...,  0.05982566,\n",
      "          -0.03309631, -0.07597743]]]], dtype=float32)>, <tf.Variable 'conv2d/bias:0' shape=(64,) dtype=float32, numpy=\n",
      "array([0., 0., 0., 0., 0., 0., 0., 0., 0., 0., 0., 0., 0., 0., 0., 0., 0.,\n",
      "       0., 0., 0., 0., 0., 0., 0., 0., 0., 0., 0., 0., 0., 0., 0., 0., 0.,\n",
      "       0., 0., 0., 0., 0., 0., 0., 0., 0., 0., 0., 0., 0., 0., 0., 0., 0.,\n",
      "       0., 0., 0., 0., 0., 0., 0., 0., 0., 0., 0., 0., 0.], dtype=float32)>]\n"
     ]
    }
   ],
   "source": [
    "layer_number = 1\n",
    "print(\"quantity of layers in the model: \", len(encoder.layers))\n",
    "print(\"The weigths in the\", encoder.layers[layer_number].name, \"is: \", encoder.layers[layer_number].weights)"
   ]
  },
  {
   "attachments": {},
   "cell_type": "markdown",
   "metadata": {},
   "source": [
    "These are the weights of a specific layer of the Autoencoder model, AFTER training:"
   ]
  },
  {
   "cell_type": "code",
   "execution_count": 24,
   "metadata": {},
   "outputs": [
    {
     "name": "stdout",
     "output_type": "stream",
     "text": [
      "quantity of layers in the model:  14\n",
      "The weigths in the conv2d is:  [<tf.Variable 'conv2d/kernel:0' shape=(3, 3, 3, 64) dtype=float32, numpy=\n",
      "array([[[[-4.99771386e-01,  3.52965206e-01,  2.92718522e-02, ...,\n",
      "          -2.04163231e-02,  2.47254118e-01, -9.68578830e-02],\n",
      "         [-4.33307230e-01,  3.20262343e-01, -2.91717313e-02, ...,\n",
      "          -7.35003129e-02,  3.41128677e-01, -1.59470960e-01],\n",
      "         [-4.79812145e-01,  2.94571996e-01, -3.15850973e-02, ...,\n",
      "           5.15338629e-02,  2.49808654e-01, -1.77302703e-01]],\n",
      "\n",
      "        [[-5.37473142e-01,  5.14709540e-02,  8.63300916e-03, ...,\n",
      "           1.79174114e-02, -5.15676618e-01,  1.49472326e-01],\n",
      "         [-4.58521456e-01,  1.44241586e-01, -5.07149138e-02, ...,\n",
      "          -8.18998665e-02, -5.48085690e-01,  2.33161122e-01],\n",
      "         [-4.14499462e-01, -1.27961831e-02,  8.42652172e-02, ...,\n",
      "          -3.80221382e-02, -3.88688475e-01,  2.34065741e-01]],\n",
      "\n",
      "        [[ 5.93829453e-01, -2.96604276e-01, -6.53561577e-02, ...,\n",
      "          -3.70833464e-02, -5.36488056e-01,  2.08805010e-01],\n",
      "         [ 4.91873026e-01, -3.83631378e-01,  1.72546570e-04, ...,\n",
      "          -9.99373272e-02, -5.99901319e-01,  1.36235461e-01],\n",
      "         [ 6.06327772e-01, -4.52958256e-01,  4.73167049e-03, ...,\n",
      "          -7.63265118e-02, -5.83838403e-01,  2.26357862e-01]]],\n",
      "\n",
      "\n",
      "       [[[ 4.27096754e-01,  6.57640100e-01,  2.26093363e-02, ...,\n",
      "           4.22869734e-02, -2.42690787e-01, -3.58696967e-01],\n",
      "         [ 4.08358306e-01,  6.81001782e-01, -5.88932335e-02, ...,\n",
      "           3.20415758e-02, -2.21283197e-01, -4.18376237e-01],\n",
      "         [ 3.73123556e-01,  6.19235635e-01, -6.59860000e-02, ...,\n",
      "           1.29260253e-02, -2.82878548e-01, -4.15542215e-01]],\n",
      "\n",
      "        [[-2.59767085e-01, -1.34212300e-01, -9.06185061e-03, ...,\n",
      "           7.14546889e-02, -2.66232997e-01, -1.28535792e-01],\n",
      "         [-2.64779061e-01, -2.07013816e-01,  9.63493437e-03, ...,\n",
      "          -8.26184750e-02, -2.11197674e-01, -1.60032839e-01],\n",
      "         [-1.12440072e-01, -2.41416752e-01, -8.11033025e-02, ...,\n",
      "           2.31143087e-02, -1.48430914e-01, -2.09871292e-01]],\n",
      "\n",
      "        [[-2.96622664e-01, -2.15752900e-01, -6.59983084e-02, ...,\n",
      "          -3.83014604e-02, -4.55796003e-01, -4.03513946e-02],\n",
      "         [-2.89033204e-01, -1.21364027e-01, -6.21832535e-02, ...,\n",
      "          -4.43183072e-02, -4.26485062e-01, -1.67317055e-02],\n",
      "         [-1.20110944e-01, -1.36871681e-01, -7.55449310e-02, ...,\n",
      "           6.43228069e-02, -3.60419124e-01,  1.36633858e-01]]],\n",
      "\n",
      "\n",
      "       [[[-2.39397049e-01,  7.91266933e-02,  4.07437189e-03, ...,\n",
      "          -7.27691799e-02,  1.98034063e-01,  1.97624341e-01],\n",
      "         [-1.11371167e-01,  6.18879348e-02,  3.81910615e-02, ...,\n",
      "           2.91893203e-02,  1.50584295e-01,  2.62503266e-01],\n",
      "         [-1.97813839e-01,  6.06124243e-03, -9.56628472e-02, ...,\n",
      "          -3.43539268e-02,  2.04220980e-01,  2.08249167e-01]],\n",
      "\n",
      "        [[-3.81394416e-01, -1.65856034e-01, -3.71225527e-03, ...,\n",
      "          -6.43921718e-02,  3.35258991e-01, -5.02231777e-01],\n",
      "         [-4.10584420e-01, -2.68672287e-01, -8.96215960e-02, ...,\n",
      "          -4.07397300e-02,  3.21124434e-01, -4.46361274e-01],\n",
      "         [-4.89788413e-01, -1.42420143e-01,  7.46725798e-02, ...,\n",
      "          -9.19123515e-02,  3.41755867e-01, -3.95749301e-01]],\n",
      "\n",
      "        [[-1.83012277e-01, -2.32795730e-01, -9.47369114e-02, ...,\n",
      "          -1.29804220e-02, -1.42477393e-01, -4.82184023e-01],\n",
      "         [-2.32122630e-01, -9.86445695e-02,  3.43985111e-02, ...,\n",
      "          -5.27511053e-02, -2.11908013e-01, -4.72992480e-01],\n",
      "         [-1.91328585e-01, -1.16940968e-01,  1.07206090e-03, ...,\n",
      "          -4.93927784e-02, -1.56029135e-01, -5.38431466e-01]]]],\n",
      "      dtype=float32)>, <tf.Variable 'conv2d/bias:0' shape=(64,) dtype=float32, numpy=\n",
      "array([ 0.15459679, -0.38091844, -0.00278729, -0.05582545, -0.17164294,\n",
      "       -0.21271849, -0.16978434,  0.        ,  0.116437  , -0.04163256,\n",
      "       -0.24307927,  0.31010354, -0.01498889, -0.02320432, -0.03069805,\n",
      "       -0.31959468, -0.02455558, -0.11822961, -0.14195634, -0.12008268,\n",
      "       -0.2311671 , -0.20348111, -0.02195205, -0.10818473, -0.05330151,\n",
      "       -0.0364369 , -0.01602888, -0.01688339, -0.0359314 , -0.00926934,\n",
      "       -0.0043489 , -0.01542334, -0.21580556, -0.43907785, -0.01757967,\n",
      "       -0.02615972, -0.1652363 , -0.34563512, -0.13325676, -0.02905084,\n",
      "       -0.28435355, -0.08195115, -0.00330885, -0.00747271, -0.09894399,\n",
      "       -0.05985887, -0.02709964, -0.03737932, -0.00687012, -0.04955089,\n",
      "       -0.24183476, -0.09897659, -0.08615945, -0.0667249 , -0.08308628,\n",
      "       -0.07179338,  0.18130684, -0.58708894, -0.0363142 , -0.10131533,\n",
      "       -0.4195817 , -0.0083602 ,  0.16258222, -0.15056965], dtype=float32)>]\n"
     ]
    }
   ],
   "source": [
    "layer_number = 1\n",
    "print(\"quantity of layers in the model: \", len(model.layers))\n",
    "print(\"The weigths in the\", model.layers[layer_number].name, \"is: \", model.layers[layer_number].weights)"
   ]
  },
  {
   "attachments": {},
   "cell_type": "markdown",
   "metadata": {},
   "source": [
    "Indeed the weights of the \"Autoencoder\" model have been updated but the ones from the \"Encoder\" have not. This is expected, since the model that was trained was actually the \"Autoencoder\" mdoel."
   ]
  },
  {
   "attachments": {},
   "cell_type": "markdown",
   "metadata": {},
   "source": [
    "## Perform an Autoencoder reconstruction in one image"
   ]
  },
  {
   "attachments": {},
   "cell_type": "markdown",
   "metadata": {},
   "source": [
    "Get all batches generated by the datagen and pick a batch for prediction"
   ]
  },
  {
   "cell_type": "code",
   "execution_count": 25,
   "metadata": {},
   "outputs": [
    {
     "name": "stdout",
     "output_type": "stream",
     "text": [
      "number of batches are:  30\n"
     ]
    }
   ],
   "source": [
    "#Just to test the model. \n",
    "data_batch = []  #Capture all training batches as a numpy array\n",
    "img_num = 0\n",
    "# while img_num <= train_generator.batch_index:   #gets each generated batch of size batch_size\n",
    "while img_num < len(train_generator):        #I think this should be the correct while clause\n",
    "    data = next(train_crops)[0]\n",
    "    data_batch.append(data)\n",
    "    img_num = img_num + 1\n",
    "    \n",
    "print(\"number of batches are: \", img_num)\n",
    "\n"
   ]
  },
  {
   "cell_type": "code",
   "execution_count": 26,
   "metadata": {},
   "outputs": [
    {
     "name": "stdout",
     "output_type": "stream",
     "text": [
      "(10, 160, 128, 3)\n"
     ]
    }
   ],
   "source": [
    "print(data[0].shape)"
   ]
  },
  {
   "cell_type": "code",
   "execution_count": 27,
   "metadata": {},
   "outputs": [
    {
     "name": "stdout",
     "output_type": "stream",
     "text": [
      "30\n"
     ]
    }
   ],
   "source": [
    "print(len(data_batch))"
   ]
  },
  {
   "cell_type": "code",
   "execution_count": 28,
   "metadata": {},
   "outputs": [
    {
     "name": "stdout",
     "output_type": "stream",
     "text": [
      "(10, 160, 128, 3)\n"
     ]
    }
   ],
   "source": [
    "print(data_batch[1][0].shape)"
   ]
  },
  {
   "attachments": {},
   "cell_type": "markdown",
   "metadata": {},
   "source": [
    "Predict on the first batch of images. Do also notice that the prediction is being carried out over the images we used for training."
   ]
  },
  {
   "cell_type": "code",
   "execution_count": 29,
   "metadata": {},
   "outputs": [
    {
     "name": "stdout",
     "output_type": "stream",
     "text": [
      "(10, 160, 128, 3)\n"
     ]
    },
    {
     "name": "stderr",
     "output_type": "stream",
     "text": [
      "2023-08-19 17:27:48.004719: I tensorflow/stream_executor/platform/default/dso_loader.cc:44] Successfully opened dynamic library libcublas.so.10\n",
      "2023-08-19 17:27:48.303334: I tensorflow/stream_executor/platform/default/dso_loader.cc:44] Successfully opened dynamic library libcudnn.so.7\n"
     ]
    },
    {
     "name": "stdout",
     "output_type": "stream",
     "text": [
      "(10, 160, 128, 3)\n"
     ]
    }
   ],
   "source": [
    "print(data_batch[0][0].shape)\n",
    "predicted = model.predict(data_batch[0])  \n",
    "print(predicted.shape)"
   ]
  },
  {
   "attachments": {},
   "cell_type": "markdown",
   "metadata": {},
   "source": [
    "The above is 15 length because it corresponds to the 10 predicted images of a batch. Recall that the predictions are reconstructions of the input images, since we are working with the autoencoder network."
   ]
  },
  {
   "cell_type": "code",
   "execution_count": 30,
   "metadata": {},
   "outputs": [],
   "source": [
    "single_batch = data_batch[0][0]"
   ]
  },
  {
   "cell_type": "code",
   "execution_count": 31,
   "metadata": {},
   "outputs": [
    {
     "name": "stdout",
     "output_type": "stream",
     "text": [
      "(10, 160, 128, 3)\n"
     ]
    }
   ],
   "source": [
    "print(single_batch.shape)"
   ]
  },
  {
   "cell_type": "code",
   "execution_count": 32,
   "metadata": {},
   "outputs": [
    {
     "name": "stdout",
     "output_type": "stream",
     "text": [
      "(160, 128, 3)\n"
     ]
    }
   ],
   "source": [
    "single_img = single_batch[0]\n",
    "print(single_img.shape)"
   ]
  },
  {
   "cell_type": "code",
   "execution_count": 33,
   "metadata": {},
   "outputs": [
    {
     "data": {
      "image/png": "[encoded data removed]",
      "text/plain": [
       "<Figure size 1200x600 with 2 Axes>"
      ]
     },
     "metadata": {},
     "output_type": "display_data"
    }
   ],
   "source": [
    "#Sanity check, view few images and corresponding reconstructions\n",
    "image_number = random.randint(0, predicted.shape[0]-1)\n",
    "plt.figure(figsize=(12, 6))\n",
    "plt.subplot(121)\n",
    "plt.title(\"input image\")\n",
    "plt.imshow(data_batch[0][0][image_number])\n",
    "plt.subplot(122)\n",
    "plt.title(\"reconstructed image\")\n",
    "plt.imshow(predicted[image_number])\n",
    "plt.show()"
   ]
  },
  {
   "attachments": {},
   "cell_type": "markdown",
   "metadata": {},
   "source": [
    "# Quantifying the reconstruction error using \"evaluate_generator()\" function"
   ]
  },
  {
   "attachments": {},
   "cell_type": "markdown",
   "metadata": {},
   "source": [
    "Let us examine the reconstruction error of our validation data (good/normal images) and the anomaly images"
   ]
  },
  {
   "cell_type": "code",
   "execution_count": 34,
   "metadata": {},
   "outputs": [
    {
     "name": "stdout",
     "output_type": "stream",
     "text": [
      "WARNING:tensorflow:From /tmp/ipykernel_14518/1040139700.py:1: Model.evaluate_generator (from tensorflow.python.keras.engine.training) is deprecated and will be removed in a future version.\n",
      "Instructions for updating:\n",
      "Please use Model.evaluate, which supports generators.\n",
      "Recon. error for the validation (normal) data is:  0.0045077926479279995\n"
     ]
    }
   ],
   "source": [
    "validation_error = model.evaluate_generator(val_crops, steps=len(validation_generator))\n",
    "print(\"Recon. error for the validation (normal) data is: \", validation_error)\n",
    "\n",
    "\n"
   ]
  },
  {
   "attachments": {},
   "cell_type": "markdown",
   "metadata": {},
   "source": [
    "This reconstruction error above should be very low, since the validation generator is full of normal images (good images)"
   ]
  },
  {
   "attachments": {},
   "cell_type": "markdown",
   "metadata": {},
   "source": [
    "Whereas the reconstruction error here below, for the \"anomaly_generator\" should be higher, since this dataset is comprised of full anomaly images."
   ]
  },
  {
   "cell_type": "code",
   "execution_count": 35,
   "metadata": {},
   "outputs": [
    {
     "name": "stdout",
     "output_type": "stream",
     "text": [
      "Recon. error for the anomaly data is:  0.007557075470685959\n"
     ]
    }
   ],
   "source": [
    "anomaly_error = model.evaluate_generator(anomaly_crops, steps=len(anomaly_generator))\n",
    "print(\"Recon. error for the anomaly data is: \", anomaly_error)"
   ]
  },
  {
   "attachments": {},
   "cell_type": "markdown",
   "metadata": {},
   "source": [
    "See that this error is slightly higher than the error in the validation dataset. This is good, but the difference is not that significant and this could result in wrong anomaly detections. Let's see some detections."
   ]
  },
  {
   "attachments": {},
   "cell_type": "markdown",
   "metadata": {},
   "source": [
    "SIDENOTE: Additionally, we can check the train generator error according to the \"evaluate_generator()\" function."
   ]
  },
  {
   "cell_type": "code",
   "execution_count": 36,
   "metadata": {},
   "outputs": [
    {
     "name": "stdout",
     "output_type": "stream",
     "text": [
      "Recon. error for the training (non-anomaly) data is:  0.004392750561237335\n"
     ]
    }
   ],
   "source": [
    "\n",
    "training_error = model.evaluate_generator(train_crops, steps=len(train_generator)*2)\n",
    "print(\"Recon. error for the training (non-anomaly) data is: \", training_error)\n",
    "\n"
   ]
  },
  {
   "attachments": {},
   "cell_type": "markdown",
   "metadata": {},
   "source": [
    "See that the above value does not correspond with the below mean reconstruction error of the training set that will be computed. It should at least be close, I think. This is something to check."
   ]
  },
  {
   "attachments": {},
   "cell_type": "markdown",
   "metadata": {},
   "source": [
    "Also see tha the error from the anomaly images is smaller than the error of the training set, which consists of non-anomaly images. THis is not expected and means that this particular model is shit."
   ]
  },
  {
   "attachments": {},
   "cell_type": "markdown",
   "metadata": {},
   "source": [
    "# Computing the reconstruction error without using the \"evaluate_generator()\" function"
   ]
  },
  {
   "attachments": {},
   "cell_type": "markdown",
   "metadata": {},
   "source": [
    "The following function computes the reconstrution error per each batch of images. It does, for each of the batches:\n",
    "- Initialize a vector for storing the reconstruction errors.\n",
    "- A for loop that traverses all the images contained in a batch.\n",
    "    - Take the one image of the batch.\n",
    "    - Add a new size dimension to the image.\n",
    "    - Make a prediction of the selected image with the model that was built.\n",
    "    - Evaluate the performance of the prediction, i.e. compute the prediction error.\n",
    "    - Append the reconstruction error into a list.\n",
    "- Compute the mean and std deviation of the error.\n",
    " "
   ]
  },
  {
   "cell_type": "code",
   "execution_count": 37,
   "metadata": {},
   "outputs": [],
   "source": [
    "def calc_recon_error(batch_images):   \n",
    "    recon_error_list=[]\n",
    "    for im in range(0, batch_images.shape[0]):\n",
    "        img  = batch_images[im]\n",
    "        img = img[np.newaxis, :,:,:]\n",
    "        reconstruction = model.predict([[img]])\n",
    "        # reconstruction_error = model.evaluate([reconstruction],[[img]], batch_size = 1)[0]    # The batch_size parameter for the moment can be supressed. Results were seen to be the same\n",
    "        # reconstruction_error = model.evaluate([reconstruction],[[img]])[0]                    # It included the [0] subscription but with this new model, the rec error is directly a float value, so no more need for subscription\n",
    "        reconstruction_error = model.evaluate([reconstruction],[[img]])\n",
    "        recon_error_list.append(reconstruction_error)   \n",
    "    return recon_error_list"
   ]
  },
  {
   "cell_type": "code",
   "execution_count": 38,
   "metadata": {},
   "outputs": [
    {
     "name": "stdout",
     "output_type": "stream",
     "text": [
      "1/1 [==============================] - 0s 749us/step - loss: 0.0072\n",
      "1/1 [==============================] - 0s 1ms/step - loss: 0.0081\n",
      "1/1 [==============================] - 0s 611us/step - loss: 0.0075\n",
      "1/1 [==============================] - 0s 861us/step - loss: 0.0055\n",
      "1/1 [==============================] - 0s 694us/step - loss: 0.0081\n",
      "1/1 [==============================] - 0s 781us/step - loss: 0.0099\n",
      "1/1 [==============================] - 0s 643us/step - loss: 0.0088\n",
      "1/1 [==============================] - 0s 846us/step - loss: 0.0084\n",
      "1/1 [==============================] - 0s 880us/step - loss: 0.0064\n",
      "1/1 [==============================] - 0s 604us/step - loss: 0.0067\n",
      "1/1 [==============================] - 0s 695us/step - loss: 0.0106\n",
      "1/1 [==============================] - 0s 819us/step - loss: 0.0056\n",
      "1/1 [==============================] - 0s 594us/step - loss: 0.0070\n",
      "1/1 [==============================] - 0s 719us/step - loss: 0.0071\n",
      "1/1 [==============================] - 0s 612us/step - loss: 0.0122\n",
      "1/1 [==============================] - 0s 598us/step - loss: 0.0164\n",
      "1/1 [==============================] - 0s 629us/step - loss: 0.0138\n",
      "1/1 [==============================] - 0s 604us/step - loss: 0.0086\n",
      "1/1 [==============================] - 0s 597us/step - loss: 0.0074\n",
      "1/1 [==============================] - 0s 788us/step - loss: 0.0055\n",
      "1/1 [==============================] - 0s 740us/step - loss: 0.0053\n",
      "1/1 [==============================] - 0s 673us/step - loss: 0.0098\n",
      "1/1 [==============================] - 0s 777us/step - loss: 0.0086\n",
      "1/1 [==============================] - 0s 658us/step - loss: 0.0125\n",
      "1/1 [==============================] - 0s 605us/step - loss: 0.0113\n",
      "1/1 [==============================] - 0s 910us/step - loss: 0.0134\n",
      "1/1 [==============================] - 0s 649us/step - loss: 0.0113\n",
      "1/1 [==============================] - 0s 704us/step - loss: 0.0124\n",
      "1/1 [==============================] - 0s 647us/step - loss: 0.0159\n",
      "1/1 [==============================] - 0s 816us/step - loss: 0.0070\n",
      "1/1 [==============================] - 0s 731us/step - loss: 0.0051\n",
      "1/1 [==============================] - 0s 597us/step - loss: 0.0122\n",
      "1/1 [==============================] - 0s 596us/step - loss: 0.0114\n",
      "1/1 [==============================] - 0s 671us/step - loss: 0.0101\n",
      "1/1 [==============================] - 0s 694us/step - loss: 0.0077\n",
      "1/1 [==============================] - 0s 647us/step - loss: 0.0090\n",
      "1/1 [==============================] - 0s 611us/step - loss: 0.0074\n",
      "1/1 [==============================] - 0s 835us/step - loss: 0.0092\n",
      "1/1 [==============================] - 0s 594us/step - loss: 0.0055\n",
      "1/1 [==============================] - 0s 570us/step - loss: 0.0063\n",
      "1/1 [==============================] - 0s 751us/step - loss: 0.0074\n",
      "1/1 [==============================] - 0s 664us/step - loss: 0.0086\n",
      "1/1 [==============================] - 0s 795us/step - loss: 0.0117\n",
      "1/1 [==============================] - 0s 746us/step - loss: 0.0061\n",
      "1/1 [==============================] - 0s 899us/step - loss: 0.0115\n",
      "1/1 [==============================] - 0s 913us/step - loss: 0.0073\n",
      "1/1 [==============================] - 0s 678us/step - loss: 0.0061\n",
      "1/1 [==============================] - 0s 649us/step - loss: 0.0061\n",
      "1/1 [==============================] - 0s 614us/step - loss: 0.0066\n",
      "1/1 [==============================] - 0s 692us/step - loss: 0.0071\n",
      "1/1 [==============================] - 0s 854us/step - loss: 0.0073\n",
      "1/1 [==============================] - 0s 577us/step - loss: 0.0086\n",
      "1/1 [==============================] - 0s 839us/step - loss: 0.0074\n",
      "1/1 [==============================] - 0s 843us/step - loss: 0.0088\n",
      "1/1 [==============================] - 0s 603us/step - loss: 0.0095\n",
      "1/1 [==============================] - 0s 921us/step - loss: 0.0097\n",
      "1/1 [==============================] - 0s 593us/step - loss: 0.0060\n",
      "1/1 [==============================] - 0s 656us/step - loss: 0.0067\n",
      "1/1 [==============================] - 0s 688us/step - loss: 0.0066\n",
      "1/1 [==============================] - 0s 722us/step - loss: 0.0065\n",
      "1/1 [==============================] - 0s 661us/step - loss: 0.0075\n",
      "1/1 [==============================] - 0s 632us/step - loss: 0.0056\n",
      "1/1 [==============================] - 0s 623us/step - loss: 0.0093\n",
      "1/1 [==============================] - 0s 812us/step - loss: 0.0075\n",
      "1/1 [==============================] - 0s 671us/step - loss: 0.0057\n",
      "1/1 [==============================] - 0s 626us/step - loss: 0.0064\n",
      "1/1 [==============================] - 0s 612us/step - loss: 0.0064\n",
      "1/1 [==============================] - 0s 620us/step - loss: 0.0052\n",
      "1/1 [==============================] - 0s 755us/step - loss: 0.0088\n",
      "1/1 [==============================] - 0s 644us/step - loss: 0.0091\n",
      "1/1 [==============================] - 0s 862us/step - loss: 0.0070\n",
      "1/1 [==============================] - 0s 597us/step - loss: 0.0064\n",
      "1/1 [==============================] - 0s 728us/step - loss: 0.0047\n",
      "1/1 [==============================] - 0s 639us/step - loss: 0.0073\n",
      "1/1 [==============================] - 0s 609us/step - loss: 0.0067\n",
      "1/1 [==============================] - 0s 700us/step - loss: 0.0064\n",
      "1/1 [==============================] - 0s 823us/step - loss: 0.0053\n",
      "1/1 [==============================] - 0s 596us/step - loss: 0.0045\n",
      "1/1 [==============================] - 0s 605us/step - loss: 0.0057\n",
      "1/1 [==============================] - 0s 611us/step - loss: 0.0086\n",
      "1/1 [==============================] - 0s 613us/step - loss: 0.0073\n",
      "1/1 [==============================] - 0s 604us/step - loss: 0.0076\n",
      "1/1 [==============================] - 0s 626us/step - loss: 0.0102\n",
      "1/1 [==============================] - 0s 591us/step - loss: 0.0083\n",
      "1/1 [==============================] - 0s 581us/step - loss: 0.0163\n",
      "1/1 [==============================] - 0s 1ms/step - loss: 0.0164\n",
      "1/1 [==============================] - 0s 767us/step - loss: 0.0160\n",
      "1/1 [==============================] - 0s 619us/step - loss: 0.0048\n",
      "1/1 [==============================] - 0s 914us/step - loss: 0.0049\n",
      "1/1 [==============================] - 0s 656us/step - loss: 0.0045\n",
      "1/1 [==============================] - 0s 600us/step - loss: 0.0052\n",
      "1/1 [==============================] - 0s 927us/step - loss: 0.0051\n",
      "1/1 [==============================] - 0s 879us/step - loss: 0.0044\n",
      "1/1 [==============================] - 0s 659us/step - loss: 0.0049\n",
      "1/1 [==============================] - 0s 818us/step - loss: 0.0111\n",
      "1/1 [==============================] - 0s 648us/step - loss: 0.0101\n",
      "1/1 [==============================] - 0s 700us/step - loss: 0.0051\n",
      "1/1 [==============================] - 0s 598us/step - loss: 0.0075\n",
      "1/1 [==============================] - 0s 665us/step - loss: 0.0047\n",
      "1/1 [==============================] - 0s 601us/step - loss: 0.0054\n",
      "1/1 [==============================] - 0s 809us/step - loss: 0.0052\n",
      "1/1 [==============================] - 0s 1ms/step - loss: 0.0047\n",
      "1/1 [==============================] - 0s 616us/step - loss: 0.0050\n",
      "1/1 [==============================] - 0s 600us/step - loss: 0.0095\n",
      "1/1 [==============================] - 0s 562us/step - loss: 0.0074\n",
      "1/1 [==============================] - 0s 642us/step - loss: 0.0054\n",
      "1/1 [==============================] - 0s 638us/step - loss: 0.0061\n",
      "1/1 [==============================] - 0s 614us/step - loss: 0.0056\n",
      "1/1 [==============================] - 0s 638us/step - loss: 0.0046\n",
      "1/1 [==============================] - 0s 861us/step - loss: 0.0045\n",
      "1/1 [==============================] - 0s 877us/step - loss: 0.0061\n",
      "1/1 [==============================] - 0s 607us/step - loss: 0.0049\n",
      "1/1 [==============================] - 0s 750us/step - loss: 0.0122\n",
      "1/1 [==============================] - 0s 900us/step - loss: 0.0146\n",
      "1/1 [==============================] - 0s 749us/step - loss: 0.0174\n",
      "1/1 [==============================] - 0s 622us/step - loss: 0.0172\n",
      "1/1 [==============================] - 0s 813us/step - loss: 0.0066\n",
      "1/1 [==============================] - 0s 854us/step - loss: 0.0079\n",
      "1/1 [==============================] - 0s 744us/step - loss: 0.0050\n",
      "1/1 [==============================] - 0s 789us/step - loss: 0.0062\n",
      "1/1 [==============================] - 0s 1ms/step - loss: 0.0136\n",
      "1/1 [==============================] - 0s 615us/step - loss: 0.0077\n",
      "1/1 [==============================] - 0s 791us/step - loss: 0.0064\n",
      "1/1 [==============================] - 0s 683us/step - loss: 0.0075\n",
      "1/1 [==============================] - 0s 938us/step - loss: 0.0116\n",
      "1/1 [==============================] - 0s 809us/step - loss: 0.0088\n",
      "1/1 [==============================] - 0s 723us/step - loss: 0.0093\n",
      "1/1 [==============================] - 0s 957us/step - loss: 0.0064\n",
      "1/1 [==============================] - 0s 918us/step - loss: 0.0111\n",
      "1/1 [==============================] - 0s 635us/step - loss: 0.0097\n",
      "1/1 [==============================] - 0s 750us/step - loss: 0.0101\n",
      "1/1 [==============================] - 0s 992us/step - loss: 0.0067\n",
      "1/1 [==============================] - 0s 731us/step - loss: 0.0076\n",
      "1/1 [==============================] - 0s 723us/step - loss: 0.0082\n",
      "1/1 [==============================] - 0s 605us/step - loss: 0.0046\n",
      "1/1 [==============================] - 0s 695us/step - loss: 0.0047\n",
      "1/1 [==============================] - 0s 889us/step - loss: 0.0051\n",
      "1/1 [==============================] - 0s 608us/step - loss: 0.0048\n",
      "1/1 [==============================] - 0s 894us/step - loss: 0.0050\n",
      "1/1 [==============================] - 0s 892us/step - loss: 0.0048\n",
      "1/1 [==============================] - 0s 651us/step - loss: 0.0055\n",
      "1/1 [==============================] - 0s 681us/step - loss: 0.0071\n",
      "1/1 [==============================] - 0s 713us/step - loss: 0.0063\n",
      "1/1 [==============================] - 0s 675us/step - loss: 0.0053\n",
      "1/1 [==============================] - 0s 911us/step - loss: 0.0053\n",
      "1/1 [==============================] - 0s 652us/step - loss: 0.0049\n",
      "1/1 [==============================] - 0s 770us/step - loss: 0.0061\n",
      "1/1 [==============================] - 0s 743us/step - loss: 0.0047\n",
      "1/1 [==============================] - 0s 1ms/step - loss: 0.0049\n",
      "1/1 [==============================] - 0s 685us/step - loss: 0.0061\n",
      "1/1 [==============================] - 0s 709us/step - loss: 0.0052\n",
      "1/1 [==============================] - 0s 601us/step - loss: 0.0084\n",
      "1/1 [==============================] - 0s 863us/step - loss: 0.0052\n",
      "1/1 [==============================] - 0s 771us/step - loss: 0.0067\n",
      "1/1 [==============================] - 0s 709us/step - loss: 0.0090\n",
      "1/1 [==============================] - 0s 853us/step - loss: 0.0051\n",
      "1/1 [==============================] - 0s 635us/step - loss: 0.0074\n",
      "1/1 [==============================] - 0s 676us/step - loss: 0.0051\n",
      "1/1 [==============================] - 0s 583us/step - loss: 0.0084\n",
      "1/1 [==============================] - 0s 631us/step - loss: 0.0099\n",
      "1/1 [==============================] - 0s 789us/step - loss: 0.0079\n",
      "1/1 [==============================] - 0s 658us/step - loss: 0.0051\n",
      "1/1 [==============================] - 0s 616us/step - loss: 0.0058\n",
      "1/1 [==============================] - 0s 618us/step - loss: 0.0062\n",
      "1/1 [==============================] - 0s 656us/step - loss: 0.0064\n",
      "1/1 [==============================] - 0s 621us/step - loss: 0.0078\n",
      "1/1 [==============================] - 0s 604us/step - loss: 0.0048\n",
      "1/1 [==============================] - 0s 707us/step - loss: 0.0050\n",
      "1/1 [==============================] - 0s 971us/step - loss: 0.0046\n",
      "1/1 [==============================] - 0s 656us/step - loss: 0.0108\n",
      "1/1 [==============================] - 0s 637us/step - loss: 0.0119\n",
      "1/1 [==============================] - 0s 637us/step - loss: 0.0060\n",
      "1/1 [==============================] - 0s 603us/step - loss: 0.0105\n",
      "1/1 [==============================] - 0s 600us/step - loss: 0.0093\n",
      "1/1 [==============================] - 0s 768us/step - loss: 0.0085\n",
      "1/1 [==============================] - 0s 660us/step - loss: 0.0054\n",
      "1/1 [==============================] - 0s 598us/step - loss: 0.0057\n",
      "1/1 [==============================] - 0s 600us/step - loss: 0.0127\n",
      "1/1 [==============================] - 0s 637us/step - loss: 0.0123\n",
      "1/1 [==============================] - 0s 950us/step - loss: 0.0118\n",
      "1/1 [==============================] - 0s 717us/step - loss: 0.0085\n",
      "1/1 [==============================] - 0s 626us/step - loss: 0.0138\n",
      "1/1 [==============================] - 0s 604us/step - loss: 0.0111\n",
      "1/1 [==============================] - 0s 626us/step - loss: 0.0105\n",
      "1/1 [==============================] - 0s 651us/step - loss: 0.0052\n",
      "1/1 [==============================] - 0s 620us/step - loss: 0.0060\n",
      "1/1 [==============================] - 0s 604us/step - loss: 0.0090\n",
      "1/1 [==============================] - 0s 638us/step - loss: 0.0164\n",
      "1/1 [==============================] - 0s 697us/step - loss: 0.0183\n",
      "1/1 [==============================] - 0s 691us/step - loss: 0.0164\n",
      "1/1 [==============================] - 0s 667us/step - loss: 0.0127\n",
      "1/1 [==============================] - 0s 617us/step - loss: 0.0057\n",
      "1/1 [==============================] - 0s 595us/step - loss: 0.0048\n",
      "1/1 [==============================] - 0s 627us/step - loss: 0.0061\n",
      "1/1 [==============================] - 0s 621us/step - loss: 0.0054\n",
      "1/1 [==============================] - 0s 610us/step - loss: 0.0053\n",
      "1/1 [==============================] - 0s 743us/step - loss: 0.0061\n",
      "1/1 [==============================] - 0s 736us/step - loss: 0.0052\n",
      "1/1 [==============================] - 0s 871us/step - loss: 0.0091\n",
      "1/1 [==============================] - 0s 594us/step - loss: 0.0055\n",
      "1/1 [==============================] - 0s 622us/step - loss: 0.0073\n",
      "1/1 [==============================] - 0s 705us/step - loss: 0.0054\n",
      "1/1 [==============================] - 0s 581us/step - loss: 0.0064\n",
      "1/1 [==============================] - 0s 653us/step - loss: 0.0065\n",
      "1/1 [==============================] - 0s 606us/step - loss: 0.0085\n",
      "1/1 [==============================] - 0s 622us/step - loss: 0.0065\n",
      "1/1 [==============================] - 0s 609us/step - loss: 0.0050\n",
      "1/1 [==============================] - 0s 703us/step - loss: 0.0080\n",
      "1/1 [==============================] - 0s 954us/step - loss: 0.0175\n",
      "1/1 [==============================] - 0s 970us/step - loss: 0.0176\n",
      "1/1 [==============================] - 0s 595us/step - loss: 0.0127\n",
      "1/1 [==============================] - 0s 747us/step - loss: 0.0129\n",
      "1/1 [==============================] - 0s 708us/step - loss: 0.0145\n",
      "1/1 [==============================] - 0s 801us/step - loss: 0.0067\n",
      "1/1 [==============================] - 0s 583us/step - loss: 0.0146\n",
      "1/1 [==============================] - 0s 646us/step - loss: 0.0085\n",
      "1/1 [==============================] - 0s 742us/step - loss: 0.0140\n",
      "1/1 [==============================] - 0s 706us/step - loss: 0.0084\n",
      "1/1 [==============================] - 0s 612us/step - loss: 0.0158\n",
      "1/1 [==============================] - 0s 658us/step - loss: 0.0115\n",
      "1/1 [==============================] - 0s 597us/step - loss: 0.0157\n",
      "1/1 [==============================] - 0s 663us/step - loss: 0.0115\n",
      "1/1 [==============================] - 0s 577us/step - loss: 0.0108\n",
      "1/1 [==============================] - 0s 606us/step - loss: 0.0100\n",
      "1/1 [==============================] - 0s 618us/step - loss: 0.0132\n",
      "1/1 [==============================] - 0s 664us/step - loss: 0.0144\n",
      "1/1 [==============================] - 0s 600us/step - loss: 0.0108\n",
      "1/1 [==============================] - 0s 705us/step - loss: 0.0046\n",
      "1/1 [==============================] - 0s 751us/step - loss: 0.0052\n",
      "1/1 [==============================] - 0s 582us/step - loss: 0.0086\n",
      "1/1 [==============================] - 0s 611us/step - loss: 0.0170\n",
      "1/1 [==============================] - 0s 636us/step - loss: 0.0182\n",
      "1/1 [==============================] - 0s 756us/step - loss: 0.0152\n",
      "1/1 [==============================] - 0s 957us/step - loss: 0.0178\n",
      "1/1 [==============================] - 0s 762us/step - loss: 0.0150\n",
      "1/1 [==============================] - 0s 701us/step - loss: 0.0128\n",
      "1/1 [==============================] - 0s 614us/step - loss: 0.0096\n",
      "1/1 [==============================] - 0s 649us/step - loss: 0.0046\n",
      "1/1 [==============================] - 0s 570us/step - loss: 0.0048\n",
      "1/1 [==============================] - 0s 587us/step - loss: 0.0043\n",
      "1/1 [==============================] - 0s 579us/step - loss: 0.0045\n",
      "1/1 [==============================] - 0s 652us/step - loss: 0.0044\n",
      "1/1 [==============================] - 0s 797us/step - loss: 0.0049\n",
      "1/1 [==============================] - 0s 966us/step - loss: 0.0052\n",
      "1/1 [==============================] - 0s 4ms/step - loss: 0.0054\n",
      "1/1 [==============================] - 0s 879us/step - loss: 0.0049\n",
      "1/1 [==============================] - 0s 740us/step - loss: 0.0055\n",
      "1/1 [==============================] - 0s 567us/step - loss: 0.0049\n",
      "1/1 [==============================] - 0s 638us/step - loss: 0.0066\n",
      "1/1 [==============================] - 0s 598us/step - loss: 0.0175\n",
      "1/1 [==============================] - 0s 628us/step - loss: 0.0234\n",
      "1/1 [==============================] - 0s 584us/step - loss: 0.0191\n",
      "1/1 [==============================] - 0s 672us/step - loss: 0.0224\n",
      "1/1 [==============================] - 0s 916us/step - loss: 0.0249\n",
      "1/1 [==============================] - 0s 691us/step - loss: 0.0279\n",
      "1/1 [==============================] - 0s 608us/step - loss: 0.0167\n",
      "1/1 [==============================] - 0s 951us/step - loss: 0.0208\n",
      "1/1 [==============================] - 0s 633us/step - loss: 0.0182\n",
      "1/1 [==============================] - 0s 677us/step - loss: 0.0174\n",
      "1/1 [==============================] - 0s 577us/step - loss: 0.0169\n",
      "1/1 [==============================] - 0s 674us/step - loss: 0.0145\n",
      "1/1 [==============================] - 0s 932us/step - loss: 0.0165\n",
      "1/1 [==============================] - 0s 578us/step - loss: 0.0115\n",
      "1/1 [==============================] - 0s 843us/step - loss: 0.0106\n",
      "1/1 [==============================] - 0s 703us/step - loss: 0.0105\n",
      "1/1 [==============================] - 0s 644us/step - loss: 0.0119\n",
      "1/1 [==============================] - 0s 610us/step - loss: 0.0109\n",
      "1/1 [==============================] - 0s 782us/step - loss: 0.0108\n",
      "1/1 [==============================] - 0s 605us/step - loss: 0.0138\n",
      "1/1 [==============================] - 0s 621us/step - loss: 0.0264\n",
      "1/1 [==============================] - 0s 676us/step - loss: 0.0226\n",
      "1/1 [==============================] - 0s 681us/step - loss: 0.0289\n",
      "1/1 [==============================] - 0s 626us/step - loss: 0.0318\n",
      "1/1 [==============================] - 0s 605us/step - loss: 0.0231\n",
      "1/1 [==============================] - 0s 665us/step - loss: 0.0313\n",
      "1/1 [==============================] - 0s 714us/step - loss: 0.0105\n",
      "1/1 [==============================] - 0s 682us/step - loss: 0.0063\n",
      "1/1 [==============================] - 0s 705us/step - loss: 0.0081\n",
      "1/1 [==============================] - 0s 655us/step - loss: 0.0075\n",
      "1/1 [==============================] - 0s 662us/step - loss: 0.0078\n",
      "1/1 [==============================] - 0s 788us/step - loss: 0.0077\n",
      "1/1 [==============================] - 0s 928us/step - loss: 0.0111\n",
      "1/1 [==============================] - 0s 629us/step - loss: 0.0062\n",
      "1/1 [==============================] - 0s 675us/step - loss: 0.0077\n",
      "1/1 [==============================] - 0s 753us/step - loss: 0.0065\n",
      "1/1 [==============================] - 0s 615us/step - loss: 0.0066\n",
      "1/1 [==============================] - 0s 611us/step - loss: 0.0062\n",
      "1/1 [==============================] - 0s 745us/step - loss: 0.0070\n",
      "1/1 [==============================] - 0s 587us/step - loss: 0.0091\n",
      "1/1 [==============================] - 0s 611us/step - loss: 0.0065\n",
      "1/1 [==============================] - 0s 641us/step - loss: 0.0072\n",
      "1/1 [==============================] - 0s 607us/step - loss: 0.0072\n",
      "1/1 [==============================] - 0s 627us/step - loss: 0.0118\n",
      "1/1 [==============================] - 0s 708us/step - loss: 0.0067\n",
      "1/1 [==============================] - 0s 656us/step - loss: 0.0071\n",
      "The list of rec. error contains  30 batches of rec. errors\n"
     ]
    }
   ],
   "source": [
    "total_rec_error = []\n",
    "for i in range(len(train_generator)):        #I think this should be the correct while clause\n",
    "    data = next(train_crops)\n",
    "    total_rec_error.append(calc_recon_error(data[0][0]))\n",
    "    \n",
    "print(\"The list of rec. error contains \", len(total_rec_error), \"batches of rec. errors\")\n"
   ]
  },
  {
   "cell_type": "code",
   "execution_count": 39,
   "metadata": {},
   "outputs": [
    {
     "name": "stdout",
     "output_type": "stream",
     "text": [
      "295\n"
     ]
    }
   ],
   "source": [
    "total_rec_error_list = [item for sublist in total_rec_error for item in sublist]\n",
    "print(len(total_rec_error_list))\n"
   ]
  },
  {
   "cell_type": "code",
   "execution_count": 40,
   "metadata": {},
   "outputs": [
    {
     "name": "stdout",
     "output_type": "stream",
     "text": [
      "THIS IS FOR THE TRAINING (NON-ANOMALY) IMAGES\n",
      "\n",
      "The average of the errors list is:  0.009225321622660099\n",
      "The standard deviation of the errors list is:  0.004895756039250505\n",
      "The min value of the errors list is:  0.004344586282968521\n",
      "The max value of the errors list is:  0.03178569674491882\n"
     ]
    }
   ],
   "source": [
    "na_average_recon_error = np.mean(np.array(total_rec_error_list))  \n",
    "na_stdev_recon_error = np.std(np.array(total_rec_error_list)) \n",
    "min_prob = np.min(total_rec_error_list)\n",
    "max_prob = np.max(total_rec_error_list)\n",
    "print(\"THIS IS FOR THE TRAINING (NON-ANOMALY) IMAGES\\n\")\n",
    "print(\"The average of the errors list is: \", na_average_recon_error)\n",
    "print(\"The standard deviation of the errors list is: \", na_stdev_recon_error)\n",
    "print(\"The min value of the errors list is: \", min_prob)\n",
    "print(\"The max value of the errors list is: \", max_prob)"
   ]
  },
  {
   "attachments": {},
   "cell_type": "markdown",
   "metadata": {},
   "source": [
    "Compute the average and std dev. of recon. error for positive (anomalies) samples. \n"
   ]
  },
  {
   "cell_type": "code",
   "execution_count": 41,
   "metadata": {},
   "outputs": [],
   "source": [
    "# anomaly_batch = anomaly_generator.next()\n",
    "\n",
    "# train_crops\n",
    "# val_crops\n",
    "# anomaly_crops\n",
    "# test_crops"
   ]
  },
  {
   "cell_type": "code",
   "execution_count": 42,
   "metadata": {},
   "outputs": [
    {
     "name": "stdout",
     "output_type": "stream",
     "text": [
      "1/1 [==============================] - 0s 2ms/step - loss: 0.0110\n",
      "1/1 [==============================] - 0s 989us/step - loss: 0.0118\n",
      "1/1 [==============================] - 0s 653us/step - loss: 0.0183\n",
      "1/1 [==============================] - 0s 909us/step - loss: 0.0179\n",
      "1/1 [==============================] - 0s 689us/step - loss: 0.0103\n",
      "1/1 [==============================] - 0s 1ms/step - loss: 0.0052\n",
      "1/1 [==============================] - 0s 757us/step - loss: 0.0055\n",
      "1/1 [==============================] - 0s 658us/step - loss: 0.0056\n",
      "1/1 [==============================] - 0s 653us/step - loss: 0.0178\n",
      "1/1 [==============================] - 0s 733us/step - loss: 0.0220\n",
      "The list of rec. error for anomalies contains  1 batches of rec. errors\n"
     ]
    }
   ],
   "source": [
    "total_rec_error_anomalies = []\n",
    "for i in range(len(anomaly_generator)):        #I think this should be the correct while clause\n",
    "    data = next(anomaly_crops)\n",
    "    total_rec_error_anomalies.append(calc_recon_error(data[0]))\n",
    "    \n",
    "print(\"The list of rec. error for anomalies contains \", len(total_rec_error_anomalies), \"batches of rec. errors\")\n"
   ]
  },
  {
   "cell_type": "code",
   "execution_count": 43,
   "metadata": {},
   "outputs": [
    {
     "name": "stdout",
     "output_type": "stream",
     "text": [
      "10\n"
     ]
    }
   ],
   "source": [
    "total_rec_error_anomalies = [item for sublist in total_rec_error_anomalies for item in sublist]\n",
    "print(len(total_rec_error_anomalies))"
   ]
  },
  {
   "cell_type": "code",
   "execution_count": 44,
   "metadata": {},
   "outputs": [
    {
     "name": "stdout",
     "output_type": "stream",
     "text": [
      "THIS IS FOR THE ANOMALY IMAGES\n",
      "\n",
      "The average of the errors list is:  0.012540902243927121\n",
      "The standard deviation of the errors list is:  0.005816370308091744\n",
      "The min value of the errors list is:  0.005246588960289955\n",
      "The max value of the errors list is:  0.022005688399076462\n"
     ]
    }
   ],
   "source": [
    "a_average_recon_error = np.mean(np.array(total_rec_error_anomalies))  \n",
    "a_stdev_recon_error = np.std(np.array(total_rec_error_anomalies)) \n",
    "min_prob = np.min(total_rec_error_anomalies)\n",
    "max_prob = np.max(total_rec_error_anomalies)\n",
    "print(\"THIS IS FOR THE ANOMALY IMAGES\\n\")\n",
    "print(\"The average of the errors list is: \", a_average_recon_error)\n",
    "print(\"The standard deviation of the errors list is: \", a_stdev_recon_error)\n",
    "print(\"The min value of the errors list is: \", min_prob)\n",
    "print(\"The max value of the errors list is: \", max_prob)"
   ]
  },
  {
   "attachments": {},
   "cell_type": "markdown",
   "metadata": {},
   "source": [
    "Compute the average and std dev. of recon. error for the validation (non-anomalies) samples. \n"
   ]
  },
  {
   "cell_type": "code",
   "execution_count": 45,
   "metadata": {},
   "outputs": [
    {
     "name": "stdout",
     "output_type": "stream",
     "text": [
      "1/1 [==============================] - 0s 767us/step - loss: 0.0050\n",
      "1/1 [==============================] - 0s 1ms/step - loss: 0.0047\n",
      "1/1 [==============================] - 0s 921us/step - loss: 0.0050\n",
      "1/1 [==============================] - 0s 789us/step - loss: 0.0082\n",
      "1/1 [==============================] - 0s 672us/step - loss: 0.0079\n",
      "1/1 [==============================] - 0s 907us/step - loss: 0.0155\n",
      "1/1 [==============================] - 0s 695us/step - loss: 0.0137\n",
      "1/1 [==============================] - 0s 850us/step - loss: 0.0154\n",
      "1/1 [==============================] - 0s 675us/step - loss: 0.0136\n",
      "1/1 [==============================] - 0s 600us/step - loss: 0.0110\n",
      "1/1 [==============================] - 0s 594us/step - loss: 0.0057\n",
      "1/1 [==============================] - 0s 749us/step - loss: 0.0053\n",
      "1/1 [==============================] - 0s 664us/step - loss: 0.0093\n",
      "1/1 [==============================] - 0s 773us/step - loss: 0.0070\n",
      "1/1 [==============================] - 0s 636us/step - loss: 0.0056\n",
      "1/1 [==============================] - 0s 607us/step - loss: 0.0056\n",
      "1/1 [==============================] - 0s 643us/step - loss: 0.0079\n",
      "1/1 [==============================] - 0s 660us/step - loss: 0.0074\n",
      "1/1 [==============================] - 0s 712us/step - loss: 0.0061\n",
      "1/1 [==============================] - 0s 613us/step - loss: 0.0047\n",
      "The list of rec. error for anomalies contains  2 batches of rec. errors\n"
     ]
    }
   ],
   "source": [
    "total_rec_error_validation = []\n",
    "for i in range(len(validation_generator)):        #I think this should be the correct while clause\n",
    "    data = next(val_crops)\n",
    "    total_rec_error_validation.append(calc_recon_error(data[0]))\n",
    "    \n",
    "print(\"The list of rec. error for anomalies contains \", len(total_rec_error_validation), \"batches of rec. errors\")\n",
    "\n",
    "# train_crops\n",
    "# val_crops\n",
    "# anomaly_crops\n",
    "# test_crops\n"
   ]
  },
  {
   "cell_type": "code",
   "execution_count": 46,
   "metadata": {},
   "outputs": [
    {
     "name": "stdout",
     "output_type": "stream",
     "text": [
      "20\n"
     ]
    }
   ],
   "source": [
    "total_rec_error_validation = [item for sublist in total_rec_error_validation for item in sublist]\n",
    "print(len(total_rec_error_validation))"
   ]
  },
  {
   "cell_type": "code",
   "execution_count": 47,
   "metadata": {},
   "outputs": [
    {
     "name": "stdout",
     "output_type": "stream",
     "text": [
      "THIS IS FOR THE VALIDATION IMAGES\n",
      "\n",
      "The average of the errors list is:  0.008229154674336315\n",
      "The standard deviation of the errors list is:  0.003563305398711825\n",
      "The min value of the errors list is:  0.0046513741835951805\n",
      "The max value of the errors list is:  0.01552233099937439\n"
     ]
    }
   ],
   "source": [
    "val_average_recon_error = np.mean(np.array(total_rec_error_validation))  \n",
    "val_stdev_recon_error = np.std(np.array(total_rec_error_validation)) \n",
    "min_prob = np.min(total_rec_error_validation)\n",
    "max_prob = np.max(total_rec_error_validation)\n",
    "print(\"THIS IS FOR THE VALIDATION IMAGES\\n\")\n",
    "print(\"The average of the errors list is: \", val_average_recon_error)\n",
    "print(\"The standard deviation of the errors list is: \", val_stdev_recon_error)\n",
    "print(\"The min value of the errors list is: \", min_prob)\n",
    "print(\"The max value of the errors list is: \", max_prob)"
   ]
  },
  {
   "attachments": {},
   "cell_type": "markdown",
   "metadata": {},
   "source": [
    "Below, we can see the plot of the reconstruction error values, of the non-anomaly list (blue) and the anomaly list (red)."
   ]
  },
  {
   "cell_type": "code",
   "execution_count": 48,
   "metadata": {},
   "outputs": [
    {
     "data": {
      "image/png": "[encoded data removed]",
      "text/plain": [
       "<Figure size 1000x1000 with 1 Axes>"
      ]
     },
     "metadata": {},
     "output_type": "display_data"
    }
   ],
   "source": [
    "plt.figure(figsize=(10, 10))\n",
    "val = 0. # this is the value where you want the data to appear on the y-axis.\n",
    "plt.plot(total_rec_error_list, np.zeros_like(total_rec_error_list) + val, 'x')\n",
    "plt.plot(total_rec_error_anomalies, np.zeros_like(total_rec_error_anomalies) + val, 'ro')\n",
    "plt.show()"
   ]
  },
  {
   "cell_type": "code",
   "execution_count": 49,
   "metadata": {},
   "outputs": [
    {
     "data": {
      "image/png": "[encoded data removed]",
      "text/plain": [
       "<Figure size 640x480 with 1 Axes>"
      ]
     },
     "metadata": {},
     "output_type": "display_data"
    }
   ],
   "source": [
    "import random\n",
    "import numpy\n",
    "from matplotlib import pyplot\n",
    "\n",
    "bins = numpy.linspace(0.002, 0.03, 50)\n",
    "\n",
    "pyplot.hist(total_rec_error_list, bins, alpha=0.5, label='errors non-anomalies')\n",
    "pyplot.hist(total_rec_error_anomalies, bins, alpha=0.5, label='errors anomalies')\n",
    "pyplot.legend(loc='upper right')\n",
    "pyplot.show()"
   ]
  },
  {
   "attachments": {},
   "cell_type": "markdown",
   "metadata": {},
   "source": [
    "## Checking the latent space"
   ]
  },
  {
   "attachments": {},
   "cell_type": "markdown",
   "metadata": {},
   "source": [
    "Let's update the weights of the encoder model."
   ]
  },
  {
   "cell_type": "code",
   "execution_count": 50,
   "metadata": {},
   "outputs": [
    {
     "name": "stdout",
     "output_type": "stream",
     "text": [
      "Layer weights are successfully copied.\n",
      "Layer weights are successfully copied.\n",
      "Layer weights are successfully copied.\n",
      "Layer weights are successfully copied.\n",
      "Layer weights are successfully copied.\n",
      "Layer weights are successfully copied.\n",
      "Layer weights are successfully copied.\n",
      "Layer weights are successfully copied.\n",
      "Layer weights are successfully copied.\n",
      "Layer weights are successfully copied.\n",
      "Layer weights are successfully copied.\n",
      "Layer weights are successfully copied.\n",
      "Layer weights are successfully copied.\n",
      "Layer weights are successfully copied.\n"
     ]
    }
   ],
   "source": [
    "# Copy the layer weights from the base model to the target model\n",
    "for i, target_layer in enumerate(encoder.layers):\n",
    "    base_layer = model.layers[i]\n",
    "    target_layer.set_weights(base_layer.get_weights())\n",
    "\n",
    "# Verify if the weights are successfully copied\n",
    "for base_layer, target_layer in zip(model.layers[:len(encoder.layers)], encoder.layers):\n",
    "    base_weights = base_layer.get_weights()\n",
    "    target_weights = target_layer.get_weights()\n",
    "    for base_weight, target_weight in zip(base_weights, target_weights):\n",
    "        if (base_weight == target_weight).all():\n",
    "            print(\"Layer weights are successfully copied.\")\n",
    "        else:\n",
    "            print(\"Error: Layer weights are not copied correctly.\")\n"
   ]
  },
  {
   "cell_type": "code",
   "execution_count": 51,
   "metadata": {},
   "outputs": [
    {
     "name": "stdout",
     "output_type": "stream",
     "text": [
      "WARNING:tensorflow:From /tmp/ipykernel_14518/4085829184.py:6: Model.predict_generator (from tensorflow.python.keras.engine.training) is deprecated and will be removed in a future version.\n",
      "Instructions for updating:\n",
      "Please use Model.predict, which supports generators.\n"
     ]
    }
   ],
   "source": [
    "########################################################\n",
    "# Calculate KDE using sklearn\n",
    "from sklearn.neighbors import KernelDensity\n",
    "\n",
    "#Get encoded output of input images = Latent space\n",
    "encoded_images = encoder.predict_generator(train_crops, steps=len(train_generator)*2)\n",
    "\n"
   ]
  },
  {
   "cell_type": "code",
   "execution_count": 52,
   "metadata": {},
   "outputs": [
    {
     "name": "stdout",
     "output_type": "stream",
     "text": [
      "(590, 40)\n"
     ]
    }
   ],
   "source": [
    "print(encoded_images.shape)"
   ]
  },
  {
   "attachments": {},
   "cell_type": "markdown",
   "metadata": {},
   "source": [
    "See that it is 179 length because it corresponds to all the images that belong to the training dataset. The second length corresponds to the output shape of the model as specified in its structure at the beginning."
   ]
  },
  {
   "cell_type": "code",
   "execution_count": 53,
   "metadata": {},
   "outputs": [
    {
     "data": {
      "text/plain": [
       "numpy.ndarray"
      ]
     },
     "execution_count": 53,
     "metadata": {},
     "output_type": "execute_result"
    }
   ],
   "source": [
    "type(encoded_images)"
   ]
  },
  {
   "cell_type": "code",
   "execution_count": 54,
   "metadata": {},
   "outputs": [
    {
     "name": "stdout",
     "output_type": "stream",
     "text": [
      "(None, 40)\n"
     ]
    }
   ],
   "source": [
    "encoder_output_shape = encoder.output_shape \n",
    "print(encoder_output_shape)"
   ]
  },
  {
   "attachments": {},
   "cell_type": "markdown",
   "metadata": {},
   "source": [
    "Now, let's fit KDE to the image latent data"
   ]
  },
  {
   "cell_type": "code",
   "execution_count": 55,
   "metadata": {},
   "outputs": [],
   "source": [
    "kde = KernelDensity(kernel='gaussian', bandwidth=0.2).fit(encoded_images)"
   ]
  },
  {
   "attachments": {},
   "cell_type": "markdown",
   "metadata": {},
   "source": [
    "The above function fits a kernel density estimation to the data that is provided, that is, the \"encoded_images\" variable. It does so using a Guassian kernel of bandwidth 0.2.\n",
    "\n",
    "The badnwidth parameter affects on how the selected kernel will fit each sample of the given data. For example for the case in which the kernel is a Gaussian distribution, the bandwidth parameter would affect in how thin or wide is the Gaussian distribution.\n",
    "\n",
    "At this point in the variable \"kde\" we have some numbers that are the result of fitting Gaussian functions to the given data points in the variable \"encoded_images\". We will use the \"kde\" variable later for scoring with it, some given data points; the scoring will be given depending on how similar are the given data points to the ones that it had estimated."
   ]
  },
  {
   "attachments": {},
   "cell_type": "markdown",
   "metadata": {},
   "source": [
    "Here below, it is shown the kde values corresponding to each encoded sample. THese are supposed to be very close to each other in value."
   ]
  },
  {
   "cell_type": "code",
   "execution_count": 56,
   "metadata": {},
   "outputs": [
    {
     "name": "stdout",
     "output_type": "stream",
     "text": [
      "[24.68100178 24.56878067 24.52173099 24.68521375 23.71569953 23.74214359\n",
      " 23.70605656 23.6248138  24.16214809 24.50479474 24.57474369 24.58936975\n",
      " 23.59257391 22.26811098 22.84961898 22.85602388 22.80408415 22.19607106\n",
      " 22.76049337 23.19574183 23.35276002 22.24916846 22.65499599 22.73545771\n",
      " 22.71798436 22.34892614 22.85876352 22.78460827 22.75769337 23.4399047\n",
      " 23.53447094 24.44165649 24.60152996 24.55032028 24.47876303 24.46375145\n",
      " 24.52279976 24.17296134 23.81078704 23.68006844 23.54007096 24.45521644\n",
      " 24.68227852 24.60425271 24.33674437 24.18607451 23.22896198 23.25035743\n",
      " 23.3073225  22.93058758 23.16837386 22.27328462 22.58603261 23.34066552\n",
      " 23.37412126 23.39702987 23.32261092 23.20268632 22.25884405 23.99899419\n",
      " 24.01604632 23.92918844 23.97083001 23.98718837 23.86408102 23.28943961\n",
      " 23.21299718 23.2599652  22.58428966 22.93203204 22.64929125 23.93074833\n",
      " 22.99780129 22.66509711 22.28947754 22.49487593 22.62350704 23.47359182\n",
      " 22.50034924 22.60125077 22.7238105  22.9351732  22.90817166 22.6037895\n",
      " 22.37594112 22.3464638  21.93111991 22.84745371 23.08249398 23.44246913\n",
      " 23.44824317 23.47687249 23.07271335 23.45568677 23.61488998 23.77932276\n",
      " 21.8715587  21.83937513 22.26557289 22.94029177 22.21265253 22.83419854\n",
      " 23.1041147  22.49822509 22.43502082 23.08356112 23.19585188 22.86088423\n",
      " 22.80586835 22.8054303  22.69245803 22.79183695 22.13036694 21.94206517\n",
      " 21.91761535 21.92587497 22.06351243 22.94003451 23.06101518 22.92256689\n",
      " 23.71472419 23.98199544 24.17396238 23.74811501 23.78601428 23.97060987\n",
      " 24.20784589 24.14657463 24.20281677 24.1814059  24.19761679 24.12350241\n",
      " 23.83717617 23.34691858 22.37904642 23.12329793 22.77637523 22.18157152\n",
      " 22.95908577 23.19879017 23.30131356 23.24548948 22.30101045 22.10216514\n",
      " 22.4858033  22.38882444 22.76282914 22.78146091 22.65912238 23.26319923\n",
      " 23.35325438 23.96690056 23.86535559 23.85420471 23.8527651  23.68399446\n",
      " 23.25421897 22.67977674 22.71930886 22.48903315 22.86794943 22.65352863\n",
      " 23.38439763 23.97935575 23.71054116 23.90386892 23.61058135 21.8983512\n",
      " 23.17997067 23.42977942 23.69589573 23.46830058 23.5979382  23.65603757\n",
      " 23.86096626 23.80365065 23.57125901 23.61323088 23.48276037 23.49252393\n",
      " 23.50634796 23.00887031 22.76894611 22.94914672 23.03220612 23.02048991\n",
      " 22.83542306 23.2390543  23.37279157 23.52050731 23.5555699  23.62829623\n",
      " 23.84477241 22.90311876 22.86492238 22.9205543  22.93391196 22.98744642\n",
      " 22.74548374 23.72074885 23.57585249 23.63778269 23.61091564 23.44573831\n",
      " 22.63791071 23.26920226 22.32197315 22.30791379 23.66002054 23.69998653\n",
      " 23.67426934 23.50486066 23.41512643 22.47988381 22.99225359 22.76766856\n",
      " 22.82180558 23.21176745 23.3946773  23.39208089 23.68697739 23.24549198\n",
      " 23.45806274 23.08026917 22.91049442 22.82845416 22.85582872 23.45967945\n",
      " 22.72200992 22.38314356 23.50733194 23.35541348 23.58580124 23.540558\n",
      " 23.32981575 23.19284488 23.11043338 23.1842129  23.21536785 22.85469271\n",
      " 22.9524553  22.92666299 22.92462952 22.91115941 22.53514732 22.76336323\n",
      " 22.64267006 21.92804012 22.5912134  23.4642712  23.88112559 23.88678358\n",
      " 22.91522012 22.64369493 22.66682452 23.94205304 23.8044868  23.87925371\n",
      " 23.95573628 23.95155853 23.94179078 22.22437632 23.0591038  23.12333883\n",
      " 22.20837501 22.86354045 23.09706512 23.09326722 22.96675011 23.58717104\n",
      " 23.5837012  23.58732773 23.62464987 23.6054555  23.52935429 23.31885272\n",
      " 23.53555727 23.1155868  23.30111612 23.36902681 23.7162833  24.00395443\n",
      " 23.89916594 23.90709146 23.82343781 23.73189737 23.66459743 23.52830919\n",
      " 23.30896504 23.38267365 23.82910872 24.72738311 24.71792314 24.63483155\n",
      " 24.68918428 24.69453613 24.57716934 24.56015556 24.64972213 23.70506619\n",
      " 23.74349731 23.73379414 23.65378617 24.17915702 24.52876826 24.58228511\n",
      " 24.60141542 23.6037539  22.06952205 22.80477984 22.86915156 22.79896496\n",
      " 22.20832715 22.92008755 23.09606967 23.41643311 22.26465747 22.66580233\n",
      " 22.7841826  22.79041931 22.34535121 22.7798345  22.86513431 22.79049965\n",
      " 23.4020824  23.56960671 24.45231684 24.62759594 24.59206714 24.47560374\n",
      " 24.47364579 24.43126327 24.086408   23.78293331 23.67321685 23.55853216\n",
      " 24.48976061 24.54821985 24.59069309 24.33666799 24.19613451 23.21679126\n",
      " 23.30133794 23.29388205 22.96372762 23.19336208 22.06373522 22.54166\n",
      " 23.26497511 23.3842429  23.33048061 23.30784418 23.22444535 22.34174229\n",
      " 24.03262299 23.96666637 23.93287569 24.00040725 23.9896926  23.87993116\n",
      " 23.29310286 23.22375996 23.2643237  22.36814243 23.01825908 22.71533598\n",
      " 23.96746176 23.18625936 22.65682464 22.27615249 22.48723696 22.68533276\n",
      " 23.39631259 22.43399021 22.59819566 22.7338278  22.94154072 22.81751881\n",
      " 22.60168172 22.34331461 22.33441116 21.93112503 23.22498793 23.26148485\n",
      " 23.31203867 23.52384471 23.43747553 23.07668778 23.53573234 23.55999739\n",
      " 23.79828354 21.88897686 21.83937513 22.32349343 22.87183894 22.4593253\n",
      " 22.8193743  23.00148908 22.46018128 22.4752589  23.10757982 23.13589739\n",
      " 22.88030658 22.73931435 22.82334249 22.69161125 22.66609144 22.13697931\n",
      " 22.08553059 21.91823038 21.92675109 22.04524235 22.89043079 23.09278088\n",
      " 22.84676779 23.72365162 23.95370268 24.18799858 23.9348298  23.6596935\n",
      " 23.91090067 24.21830386 24.15800915 24.20957032 24.1498352  24.20154745\n",
      " 24.12369516 23.72629906 23.50935501 22.3002154  23.12541069 23.02015221\n",
      " 22.21673137 22.51484499 22.95024044 23.30044198 23.2553169  22.27650169\n",
      " 22.09743611 22.27850812 22.36455533 22.75004281 22.79148267 22.6450573\n",
      " 23.17358269 23.32691046 23.93335149 23.88109957 23.84502197 23.86025934\n",
      " 23.58551814 23.2675802  22.63249739 22.74980812 22.44310693 22.7338351\n",
      " 22.90903924 23.34537416 23.99808995 23.70026049 23.85085703 23.68230644\n",
      " 21.90861785 23.01392182 23.26272381 23.69899523 23.43761093 23.56305591\n",
      " 23.64513035 23.84586422 23.79252622 23.5333633  23.60793398 23.51262662\n",
      " 23.49310581 23.35786541 23.01486776 22.78350892 23.02802127 23.05308683\n",
      " 23.09567877 22.84803846 23.26697218 23.36406119 23.50271356 23.54080029\n",
      " 23.69215301 23.79128403 22.85851906 22.84022675 22.93489224 22.93931361\n",
      " 22.9462637  22.7479296  23.62324068 23.62266747 23.63162906 23.53570015\n",
      " 23.40032717 22.57924252 23.27151321 22.02162151 22.16271486 23.70090941\n",
      " 23.72622568 23.66730627 23.48909296 23.3641682  22.47374591 23.04632474\n",
      " 22.82448955 22.76857832 23.21415668 23.40961762 23.36010366 23.63122896\n",
      " 23.47289189 23.57468572 23.10885396 22.85807925 22.91678201 22.83181819\n",
      " 23.44987733 22.64458005 22.42162433 23.52585706 23.42118129 23.53174011\n",
      " 23.51515048 23.3544487  23.20565695 23.101592   23.04109503 23.00944067\n",
      " 22.76294259 22.98834795 22.98323392 22.83350537 22.89052243 22.59035722\n",
      " 22.77538773 22.66566581 21.92805955 22.90856993 23.50357175 23.90453531\n",
      " 23.80012087 22.9602885  22.66907452 22.66881965 23.95795871 23.81407021\n",
      " 23.73297878 23.91684726 23.94304961 23.97072881 22.33251868 23.04628863\n",
      " 23.13135666 22.26354723 23.07461062 23.10831877 22.97349265 22.99079572\n",
      " 23.61900444 23.58490273 23.56338185 23.5989838  23.57595777 23.48565624\n",
      " 23.70690082 23.5099497  22.97068851 23.32691649 23.40950257 23.6748815\n",
      " 23.98510004 23.95212093 23.87404121 23.82475196 23.73214564 23.6594152\n",
      " 23.52305257 23.26855913 23.41546888 23.86601678 24.72049632 24.71550577\n",
      " 24.67252678 24.7090845 ]\n"
     ]
    }
   ],
   "source": [
    "density_vals = kde.score_samples(encoded_images)\n",
    "print(density_vals)"
   ]
  },
  {
   "attachments": {},
   "cell_type": "markdown",
   "metadata": {},
   "source": [
    "From here, the mean and standard deviation of these values are computed"
   ]
  },
  {
   "cell_type": "code",
   "execution_count": 57,
   "metadata": {},
   "outputs": [
    {
     "name": "stdout",
     "output_type": "stream",
     "text": [
      "The avg of the density values is:  23.272524011084787\n",
      "The stdev_density of the density values is:  0.6528145497662329\n"
     ]
    }
   ],
   "source": [
    "average_density = np.mean(density_vals)\n",
    "stdev_density = np.std(density_vals)\n",
    "print(\"The avg of the density values is: \", average_density)\n",
    "print(\"The stdev_density of the density values is: \", stdev_density)"
   ]
  },
  {
   "attachments": {},
   "cell_type": "markdown",
   "metadata": {},
   "source": [
    "based on the above data create a function that outputs a probability of a KDE value to be considered an anomaly or non-anomaly image"
   ]
  },
  {
   "cell_type": "code",
   "execution_count": 58,
   "metadata": {},
   "outputs": [],
   "source": [
    "def ranges_mapper(value, leftMin, leftMax, rightMin, rightMax):\n",
    "    # Figure out how 'wide' each range is\n",
    "    leftSpan = leftMax - leftMin\n",
    "    rightSpan = rightMax - rightMin\n",
    "\n",
    "    # Convert the left range into a 0-1 range (float)\n",
    "    valueScaled = float(value - leftMin) / float(leftSpan)\n",
    "\n",
    "    # Convert the 0-1 range into a value in the right range.\n",
    "    return rightMin + (valueScaled * rightSpan)"
   ]
  },
  {
   "cell_type": "code",
   "execution_count": 59,
   "metadata": {},
   "outputs": [],
   "source": [
    "# def map_kde2prob_list(input_list):\n",
    "#     threshold = average_density          # The mean of the kde corresponding to the non-anomaly images\n",
    "#     std_dev = stdev_density            # The std deviation of the kde corresponding to the non-anomaly images\n",
    "#     prob_score_list = []\n",
    "#     prob_score = 0              # This was changed for making threshold+std_dev be mapped to be 50% chance. Before it was directly mapped threshold value to 50% chance\n",
    "#     for i in range (len(input_list)):\n",
    "#         aux_score = input_list[i] - threshold\n",
    "#         if aux_score>=0:\n",
    "#             additional = ranges_mapper(aux_score, 0, std_dev, 0, 50)\n",
    "#             prob_score_tot = prob_score+additional\n",
    "#         else:\n",
    "#             additional = ranges_mapper(abs(aux_score), 0, std_dev, 0, 50)\n",
    "#             prob_score_tot = prob_score-additional\n",
    "#         if prob_score_tot > 100:\n",
    "#             prob_score_tot = 100\n",
    "#         if prob_score_tot < 0:\n",
    "#             prob_score_tot = 0\n",
    "#         prob_score_list.append(prob_score_tot)\n",
    "#     return prob_score_list"
   ]
  },
  {
   "cell_type": "code",
   "execution_count": 60,
   "metadata": {},
   "outputs": [],
   "source": [
    "# def map_kde2prob(value):\n",
    "#     threshold = average_density         # The mean of the kde corresponding to the non-anomaly images\n",
    "#     std_dev = stdev_density          # The std deviation of the kde corresponding to the non-anomaly images\n",
    "#     prob_score = 0              # This was changed for making threshold+std_dev be mapped to be 50% chance. Before it was directly mapped threshold value to 50% chance\n",
    "#     aux_score = value - threshold\n",
    "#     print(\"value is: \", value)\n",
    "#     print(\"aux_score is: \", aux_score)\n",
    "        \n",
    "#     if aux_score>=0:\n",
    "#         additional = ranges_mapper(aux_score, 0, std_dev, 0, 50)\n",
    "#         print(\"additional is: \", additional)\n",
    "#         prob_score_tot = prob_score+additional\n",
    "#         print(\"prob_score_tot is: \", prob_score_tot)\n",
    "        \n",
    "#     else:\n",
    "#         additional = ranges_mapper(abs(aux_score), 0, std_dev, 0, 50)\n",
    "#         prob_score_tot = prob_score-additional\n",
    "#     if prob_score_tot > 100:\n",
    "#         prob_score_tot = 100\n",
    "#     if prob_score_tot < 0:\n",
    "#         prob_score_tot = 0    \n",
    "#     return prob_score_tot"
   ]
  },
  {
   "cell_type": "code",
   "execution_count": 61,
   "metadata": {},
   "outputs": [],
   "source": [
    "def map_kde2prob_list(input_list):\n",
    "    threshold = average_density          # The mean of the kde corresponding to the non-anomaly images\n",
    "    std_dev = stdev_density            # The std deviation of the kde corresponding to the non-anomaly images\n",
    "    prob_score_list =[]\n",
    "    for i in range (len(input_list)):\n",
    "        aux_score = input_list[i] - threshold\n",
    "        prob_score = ranges_mapper(abs(aux_score), 0, std_dev, 0, 50)\n",
    "        if prob_score<0:\n",
    "            prob_score = 0\n",
    "        if prob_score>100:\n",
    "            prob_score = 100     \n",
    "        prob_score_list.append(prob_score)\n",
    "    return prob_score_list"
   ]
  },
  {
   "cell_type": "code",
   "execution_count": 62,
   "metadata": {},
   "outputs": [],
   "source": [
    "def map_kde2prob(value):\n",
    "    threshold = average_density         # The mean of the kde corresponding to the non-anomaly images\n",
    "    std_dev = stdev_density          # The std deviation of the kde corresponding to the non-anomaly images\n",
    "    \n",
    "    aux_score = value - threshold\n",
    "    prob_score = ranges_mapper(abs(aux_score), 0, std_dev, 0, 50)\n",
    "    if prob_score<0:\n",
    "            prob_score = 0\n",
    "    if prob_score>100:\n",
    "        prob_score = 100 \n",
    "    return prob_score"
   ]
  },
  {
   "cell_type": "code",
   "execution_count": 63,
   "metadata": {},
   "outputs": [],
   "source": [
    "def computePred_kde(kde_value):\n",
    "    pred = 0\n",
    "    prob_anomaly = map_kde2prob(kde_value)/100\n",
    "    if prob_anomaly > 0.5:\n",
    "        pred = 1\n",
    "    return pred"
   ]
  },
  {
   "cell_type": "code",
   "execution_count": 64,
   "metadata": {},
   "outputs": [
    {
     "name": "stdout",
     "output_type": "stream",
     "text": [
      "[50.00000000000006]\n"
     ]
    }
   ],
   "source": [
    "print(map_kde2prob_list([average_density - 1*stdev_density]))"
   ]
  },
  {
   "cell_type": "code",
   "execution_count": 65,
   "metadata": {},
   "outputs": [
    {
     "name": "stdout",
     "output_type": "stream",
     "text": [
      "[[0.0, 0.0, 0.0, 0.0, 0.0, 0.0, 0.0, 0.0, 0.0, 0.0], [0.0, 0.0, 0.0, 0.0, 0.0, 0.0, 0.0, 0.0, 0.0, 0.0], [1.0, 1.0, 1.0, 1.0, 1.0, 1.0, 1.0, 1.0, 1.0, 1.0]]\n",
      "[[0, 1, 1, 0, 1, 0, 1, 1, 0, 1], [1, 0, 1, 0, 0, 1, 1, 1, 0, 0], [0, 1, 0, 1, 1, 1, 1, 1, 0, 1]]\n",
      "[[14.400211574454847, 100, 100, 17.159095212564107, 98.49942350033668, 20.108998145145666, 62.73392518520061, 100, 2.9028571668175305, 100], [100, 11.128027561338646, 100, 36.711404501109996, 23.208373337112576, 77.31451405482278, 100, 100, 24.71229061658587, 21.07023218452298], [13.715551879767466, 78.81523449845268, 16.666893462331444, 100, 100, 99.12620370347366, 100, 76.6602045083443, 5.523200917576957, 100]]\n"
     ]
    }
   ],
   "source": [
    "y_pred_kde_final = []\n",
    "ground_truth = []\n",
    "y_prob_kde_final = []\n",
    "for i in range(len(test_set_generator)):        # Traversing all the batches of the test set\n",
    "    batch_images, labels = next(test_crops)\n",
    "    y_pred_kde = []\n",
    "    y_true = []\n",
    "    y_prob_kde = []\n",
    "    for im in range(0, batch_images.shape[0]):  #Traversing all the images in the batch\n",
    "        img  = batch_images[im]\n",
    "        img = img[np.newaxis, :,:,:]\n",
    "        encoded_image_test_set = encoder.predict([[img]])\n",
    "        densityValue_test = kde.score_samples(encoded_image_test_set)\n",
    "        prob_kde_test = map_kde2prob(densityValue_test)\n",
    "        prediction = computePred_kde(densityValue_test)  \n",
    "        y_pred_kde.append(prediction) # Save Prediction\n",
    "        y_true.append(labels[im])\n",
    "        # y_true.append(labels[im]) # Save Truth  \n",
    "        y_prob_kde.append(prob_kde_test) # Save probability  \n",
    "\n",
    "    y_pred_kde_final.append(y_pred_kde)  \n",
    "    ground_truth.append(y_true)  \n",
    "    y_prob_kde_final.append(y_prob_kde)  \n",
    "print(ground_truth)\n",
    "print(y_pred_kde_final)\n",
    "print(y_prob_kde_final)\n",
    "\n"
   ]
  },
  {
   "cell_type": "code",
   "execution_count": 66,
   "metadata": {},
   "outputs": [
    {
     "name": "stdout",
     "output_type": "stream",
     "text": [
      "[0, 0, 0, 0, 0, 0, 0, 0, 0, 0, 0, 0, 0, 0, 0, 0, 0, 0, 0, 0, 1, 1, 1, 1, 1, 1, 1, 1, 1, 1]\n",
      "[0, 1, 1, 0, 1, 0, 1, 1, 0, 1, 1, 0, 1, 0, 0, 1, 1, 1, 0, 0, 0, 1, 0, 1, 1, 1, 1, 1, 0, 1]\n",
      "[14.400211574454847, 100, 100, 17.159095212564107, 98.49942350033668, 20.108998145145666, 62.73392518520061, 100, 2.9028571668175305, 100, 100, 11.128027561338646, 100, 36.711404501109996, 23.208373337112576, 77.31451405482278, 100, 100, 24.71229061658587, 21.07023218452298, 13.715551879767466, 78.81523449845268, 16.666893462331444, 100, 100, 99.12620370347366, 100, 76.6602045083443, 5.523200917576957, 100]\n"
     ]
    }
   ],
   "source": [
    "ground_truth = [item for sublist in ground_truth for item in sublist]\n",
    "ground_truth = [int(i) for i in ground_truth]\n",
    "y_pred_kde_final = [item for sublist in y_pred_kde_final for item in sublist]\n",
    "y_prob_kde_final = [item for sublist in y_prob_kde_final for item in sublist]\n",
    "print(ground_truth)\n",
    "print(y_pred_kde_final)\n",
    "print(y_prob_kde_final)"
   ]
  },
  {
   "attachments": {},
   "cell_type": "markdown",
   "metadata": {},
   "source": [
    "Below commented section is just another way of computing the predicions and probabilitis shown above. THis approach computes separately the labels of the test set and their probabilities "
   ]
  },
  {
   "cell_type": "code",
   "execution_count": 67,
   "metadata": {},
   "outputs": [],
   "source": [
    "# ground_truth = []\n",
    "# for i in range(len(test_set_generator)):        #I think this should be the correct while clause\n",
    "#     _, labels = next(test_crops)\n",
    "#     ground_truth.append(labels)\n",
    "    \n",
    "# print(\"The list of rec. error for anomalies contains \", len(ground_truth), \"batches of rec. errors\")\n",
    "\n",
    "# print(ground_truth)\n",
    "# #Get encoded output of input images = Latent space\n",
    "# encoded_images_test_set = encoder.predict_generator(test_crops, steps=len(test_set_generator))\n",
    "# print(encoded_images_test_set.shape)\n",
    "\n",
    "# density_vals_test = kde.score_samples(encoded_images_test_set)\n",
    "# print(density_vals_test)\n",
    "\n",
    "# average_density + stdev_density\n",
    "# average_density - stdev_density\n",
    "\n",
    "# prob_test = map_kde2prob_list(density_vals_test)\n",
    "# print(prob_test)\n",
    "\n",
    "# ground_truth = [item for sublist in ground_truth for item in sublist]\n",
    "# ground_truth = [int(x) for x in ground_truth]\n",
    "\n",
    "# pred_list =[]\n",
    "# for i in range(len(prob_test)):\n",
    "    \n",
    "#     if(prob_test[i]>50):\n",
    "#         pred = 1\n",
    "#     else:\n",
    "#         pred = 0\n",
    "#     pred_list.append(pred)\n",
    "# print(ground_truth)\n",
    "# print(pred_list)"
   ]
  },
  {
   "cell_type": "code",
   "execution_count": 68,
   "metadata": {},
   "outputs": [
    {
     "name": "stdout",
     "output_type": "stream",
     "text": [
      "AUC =  0.515\n"
     ]
    }
   ],
   "source": [
    "from sklearn import metrics\n",
    "print('AUC = ', metrics.roc_auc_score(ground_truth, y_prob_kde_final))"
   ]
  },
  {
   "cell_type": "code",
   "execution_count": 69,
   "metadata": {},
   "outputs": [
    {
     "data": {
      "image/png": "[encoded data removed]",
      "text/plain": [
       "<Figure size 640x480 with 1 Axes>"
      ]
     },
     "metadata": {},
     "output_type": "display_data"
    }
   ],
   "source": [
    "fpr, tpr, thresholds = metrics.roc_curve(ground_truth, y_prob_kde_final)\n",
    "plt.plot(fpr, tpr, marker='.', label='AUROC = %0.3f' % metrics.roc_auc_score(ground_truth, y_prob_kde_final))\n",
    "# Title\n",
    "plt.title('ROC Plot')\n",
    "# Axis labels\n",
    "plt.xlabel('False Positive Rate')\n",
    "plt.ylabel('True Positive Rate')\n",
    "# Show legend\n",
    "plt.legend() # \n",
    "# Show plot\n",
    "plt.show()"
   ]
  },
  {
   "cell_type": "code",
   "execution_count": 70,
   "metadata": {},
   "outputs": [
    {
     "name": "stdout",
     "output_type": "stream",
     "text": [
      "The fpr is:  [0.   0.4  0.4  0.45 0.45 0.5  0.5  0.85 0.85 0.9  0.9  0.95 0.95 1.  ]\n",
      "The tpr is:  [0.  0.4 0.5 0.5 0.6 0.6 0.7 0.7 0.8 0.8 0.9 0.9 1.  1. ]\n",
      "The thresholds are:  [101.         100.          99.1262037   98.4994235   78.8152345\n",
      "  77.31451405  76.66020451  17.15909521  16.66689346  14.40021157\n",
      "  13.71555188  11.12802756   5.52320092   2.90285717]\n"
     ]
    }
   ],
   "source": [
    "print(\"The fpr is: \", fpr)\n",
    "print(\"The tpr is: \", tpr)\n",
    "print(\"The thresholds are: \", thresholds)"
   ]
  },
  {
   "attachments": {},
   "cell_type": "markdown",
   "metadata": {},
   "source": [
    "FRom above we can see that the results are not that good; these could be improved. HOwever these results are not as bad as the previous programs. "
   ]
  },
  {
   "attachments": {},
   "cell_type": "markdown",
   "metadata": {},
   "source": [
    "FRom the above graph, it is seen that the best threshold could be:  77.45744601. Let's see if we obtain what we expect (FPR = 0.45 and TPR = 0.7).\n",
    "\n",
    "- NOTE: Notice, that it was previously accorded that the thresholds shown by the metrics.roc_auc_score(ground_truth, prob_test) functions were going to be considered as 100-x to effectively test the FPR and TPR values. However in this case, strangely, see that directly using the threshold displayed by the function is used. It is not known yet why this happens. "
   ]
  },
  {
   "cell_type": "code",
   "execution_count": 71,
   "metadata": {},
   "outputs": [],
   "source": [
    "def pred_label_onProb(probs_list, prob_threshold):\n",
    "    pred_based_onProb = []\n",
    "    for i in range (len(probs_list)):\n",
    "        if probs_list[i] > prob_threshold:\n",
    "            prediction = 1                          ## Stands for classifiaction of anomaly bottle\n",
    "        else:\n",
    "            prediction = 0\n",
    "        pred_based_onProb.append(prediction)\n",
    "    return pred_based_onProb"
   ]
  },
  {
   "cell_type": "code",
   "execution_count": 72,
   "metadata": {},
   "outputs": [],
   "source": [
    "# from tensorflow.keras.metrics import Precision, Recall, BinaryAccuracy, SpecificityAtSensitivity\n",
    "from sklearn.metrics import confusion_matrix"
   ]
  },
  {
   "cell_type": "code",
   "execution_count": 73,
   "metadata": {},
   "outputs": [
    {
     "name": "stdout",
     "output_type": "stream",
     "text": [
      "[[11  9]\n",
      " [ 4  6]]\n",
      "The FPR values are:  0.45\n",
      "The TPR values are:  0.6\n",
      "Using the threshold = 77.45744601 \n"
     ]
    }
   ],
   "source": [
    "conf_matrix = confusion_matrix(ground_truth, pred_label_onProb(y_prob_kde_final, (77.45744601 )))\n",
    "print(conf_matrix)\n",
    "_tp = conf_matrix[1, 1]\n",
    "_fn = conf_matrix[1, 0]\n",
    "_fp = conf_matrix[0, 1]\n",
    "_tn = conf_matrix[0, 0]\n",
    "_tpr = _tp/(_tp+_fn)\n",
    "_fpr = _fp / (_tn + _fp)\n",
    "print(\"The FPR values are: \", _fpr)\n",
    "print(\"The TPR values are: \", _tpr)\n",
    "print(\"Using the threshold = 77.45744601 \")"
   ]
  },
  {
   "attachments": {},
   "cell_type": "markdown",
   "metadata": {},
   "source": [
    "Actually, the threshold= 74.49570045 is the one that corresonds to FPR = 0.45 and TPR = 1.0"
   ]
  },
  {
   "attachments": {},
   "cell_type": "markdown",
   "metadata": {},
   "source": [
    "## Trehshold based on Gaussian distribution of the non-anomaly images"
   ]
  },
  {
   "cell_type": "code",
   "execution_count": 74,
   "metadata": {},
   "outputs": [],
   "source": [
    "def map_error2prob(value):\n",
    "    # Calculate the mean and standard deviation\n",
    "    mean = na_average_recon_error\n",
    "    std_dev = na_stdev_recon_error\n",
    "    aux_score = value - mean\n",
    "    prob_score = ranges_mapper(abs(aux_score), 0, std_dev, 0, 50)\n",
    "    if prob_score<0:\n",
    "        prob_score = 0\n",
    "    if prob_score>100:\n",
    "        prob_score = 100\n",
    "    return prob_score"
   ]
  },
  {
   "attachments": {},
   "cell_type": "markdown",
   "metadata": {},
   "source": [
    "See below test, that shows if a reconstruction error is equal to the mean of the reconstruction error plus its standard deviation has 50% chance of being predicted as anomaly image."
   ]
  },
  {
   "cell_type": "code",
   "execution_count": 75,
   "metadata": {},
   "outputs": [
    {
     "name": "stdout",
     "output_type": "stream",
     "text": [
      "50.0\n"
     ]
    }
   ],
   "source": [
    "print(map_error2prob(na_average_recon_error + na_stdev_recon_error))"
   ]
  },
  {
   "cell_type": "code",
   "execution_count": 76,
   "metadata": {},
   "outputs": [],
   "source": [
    "def map_error2prob_list(input_list):\n",
    "    # Calculate the mean and standard deviation\n",
    "    mean = na_average_recon_error\n",
    "    std_dev = na_stdev_recon_error\n",
    "    prob_score_list = []\n",
    "    for i in range (len(input_list)):\n",
    "        aux_score = input_list[i] - mean\n",
    "        prob_score = ranges_mapper(abs(aux_score), 0, std_dev, 0, 50)\n",
    "        if prob_score<0:\n",
    "            prob_score = 0\n",
    "        if prob_score>100:\n",
    "            prob_score = 100\n",
    "        prob_score_list.append(prob_score)\n",
    "    return prob_score_list"
   ]
  },
  {
   "cell_type": "code",
   "execution_count": 77,
   "metadata": {},
   "outputs": [],
   "source": [
    "def computePred(err_value):\n",
    "    pred = 0\n",
    "    prob_anomaly = map_error2prob(err_value)/100\n",
    "    if prob_anomaly > 0.5:\n",
    "        pred = 1\n",
    "    else:\n",
    "        pred =0 \n",
    "    return pred"
   ]
  },
  {
   "cell_type": "code",
   "execution_count": 78,
   "metadata": {},
   "outputs": [
    {
     "name": "stdout",
     "output_type": "stream",
     "text": [
      "1/1 [==============================] - 0s 743us/step - loss: 0.0058\n",
      "1/1 [==============================] - 0s 818us/step - loss: 0.0054\n",
      "1/1 [==============================] - 0s 1ms/step - loss: 0.0054\n",
      "1/1 [==============================] - 0s 811us/step - loss: 0.0046\n",
      "1/1 [==============================] - 0s 670us/step - loss: 0.0062\n",
      "1/1 [==============================] - 0s 751us/step - loss: 0.0055\n",
      "1/1 [==============================] - 0s 795us/step - loss: 0.0050\n",
      "1/1 [==============================] - 0s 1ms/step - loss: 0.0048\n",
      "1/1 [==============================] - 0s 711us/step - loss: 0.0057\n",
      "1/1 [==============================] - 0s 638us/step - loss: 0.0058\n",
      "1/1 [==============================] - 0s 668us/step - loss: 0.0114\n",
      "1/1 [==============================] - 0s 661us/step - loss: 0.0050\n",
      "1/1 [==============================] - 0s 672us/step - loss: 0.0052\n",
      "1/1 [==============================] - 0s 693us/step - loss: 0.0051\n",
      "1/1 [==============================] - 0s 696us/step - loss: 0.0045\n",
      "1/1 [==============================] - 0s 776us/step - loss: 0.0091\n",
      "1/1 [==============================] - 0s 806us/step - loss: 0.0052\n",
      "1/1 [==============================] - 0s 974us/step - loss: 0.0150\n",
      "1/1 [==============================] - 0s 765us/step - loss: 0.0203\n",
      "1/1 [==============================] - 0s 832us/step - loss: 0.0206\n",
      "1/1 [==============================] - 0s 633us/step - loss: 0.0113\n",
      "1/1 [==============================] - 0s 710us/step - loss: 0.0182\n",
      "1/1 [==============================] - 0s 893us/step - loss: 0.0104\n",
      "1/1 [==============================] - 0s 675us/step - loss: 0.0052\n",
      "1/1 [==============================] - 0s 634us/step - loss: 0.0144\n",
      "1/1 [==============================] - 0s 664us/step - loss: 0.0060\n",
      "1/1 [==============================] - 0s 840us/step - loss: 0.0052\n",
      "1/1 [==============================] - 0s 700us/step - loss: 0.0087\n",
      "1/1 [==============================] - 0s 733us/step - loss: 0.0169\n",
      "1/1 [==============================] - 0s 692us/step - loss: 0.0207\n",
      "[[0.0, 0.0, 0.0, 0.0, 0.0, 0.0, 0.0, 0.0, 0.0, 0.0], [0.0, 0.0, 0.0, 0.0, 0.0, 0.0, 0.0, 0.0, 0.0, 0.0], [1.0, 1.0, 1.0, 1.0, 1.0, 1.0, 1.0, 1.0, 1.0, 1.0]]\n",
      "[[0, 0, 0, 0, 0, 0, 0, 0, 0, 0], [0, 0, 0, 0, 0, 0, 0, 1, 1, 1], [0, 1, 0, 0, 1, 0, 0, 0, 1, 1]]\n",
      "[[34.63243694744132, 39.52654221588517, 39.43939758122387, 47.5548772233552, 31.24920487368494, 38.23896644704644, 42.87432957439758, 45.630338092621585, 36.355241290044724, 35.45608310179389], [22.56902731218371, 42.83196522133259, 41.38101466344562, 42.59480474101771, 48.427945285773696, 1.4891789754350153, 41.16974456684042, 59.08982946321517, 100, 100], [21.571581732285562, 91.17653721007281, 11.713556567760447, 40.71155040473372, 53.05877776524864, 33.19747527089748, 41.45680728746861, 5.766884809089189, 77.91183405120191, 100]]\n"
     ]
    }
   ],
   "source": [
    "y_pred_final = []\n",
    "y_true_final = []\n",
    "y_prob_final = []\n",
    "for i in range(len(test_set_generator)):        # Traversing all the batches of the test set\n",
    "    batch_images, labels = next(test_crops)\n",
    "    y_pred = []\n",
    "    y_true = []\n",
    "    y_prob = []\n",
    "    for im in range(0, batch_images.shape[0]):  #Traversing all the images in the batch\n",
    "        img  = batch_images[im]\n",
    "        img = img[np.newaxis, :,:,:]\n",
    "        reconstruction = model.predict([[img]])\n",
    "        reconstruction_error = model.evaluate([reconstruction],[[img]])\n",
    "        probability = map_error2prob(reconstruction_error)\n",
    "        prediction = computePred(reconstruction_error)   \n",
    "        y_pred.append(prediction) # Save Prediction\n",
    "        y_true.append(labels[im]) # Save Truth  \n",
    "        y_prob.append(probability) # Save probability  \n",
    "    y_pred_final.append(y_pred)  \n",
    "    y_true_final.append(y_true)  \n",
    "    y_prob_final.append(y_prob)  \n",
    "print(y_true_final)\n",
    "print(y_pred_final)\n",
    "print(y_prob_final)\n",
    "\n",
    "\n",
    "# train_crops\n",
    "# val_crops\n",
    "# anomaly_crops\n",
    "# test_crops\n",
    " "
   ]
  },
  {
   "cell_type": "code",
   "execution_count": 79,
   "metadata": {},
   "outputs": [
    {
     "name": "stdout",
     "output_type": "stream",
     "text": [
      "[0, 0, 0, 0, 0, 0, 0, 0, 0, 0, 0, 0, 0, 0, 0, 0, 0, 0, 0, 0, 1, 1, 1, 1, 1, 1, 1, 1, 1, 1]\n",
      "[0, 0, 0, 0, 0, 0, 0, 0, 0, 0, 0, 0, 0, 0, 0, 0, 0, 1, 1, 1, 0, 1, 0, 0, 1, 0, 0, 0, 1, 1]\n",
      "[34.63243694744132, 39.52654221588517, 39.43939758122387, 47.5548772233552, 31.24920487368494, 38.23896644704644, 42.87432957439758, 45.630338092621585, 36.355241290044724, 35.45608310179389, 22.56902731218371, 42.83196522133259, 41.38101466344562, 42.59480474101771, 48.427945285773696, 1.4891789754350153, 41.16974456684042, 59.08982946321517, 100, 100, 21.571581732285562, 91.17653721007281, 11.713556567760447, 40.71155040473372, 53.05877776524864, 33.19747527089748, 41.45680728746861, 5.766884809089189, 77.91183405120191, 100]\n"
     ]
    }
   ],
   "source": [
    "y_true_final = [item for sublist in y_true_final for item in sublist]\n",
    "y_true_final = [int(i) for i in y_true_final]\n",
    "y_pred_final = [item for sublist in y_pred_final for item in sublist]\n",
    "y_prob_final = [item for sublist in y_prob_final for item in sublist]\n",
    "print(y_true_final)\n",
    "print(y_pred_final)\n",
    "print(y_prob_final)"
   ]
  },
  {
   "attachments": {},
   "cell_type": "markdown",
   "metadata": {},
   "source": [
    "Above we see the predictions based on a threshold of 50%. See that the results are not that good. There are some false positive results and more important there are a considerable number of false negatives."
   ]
  },
  {
   "cell_type": "code",
   "execution_count": 80,
   "metadata": {},
   "outputs": [
    {
     "name": "stdout",
     "output_type": "stream",
     "text": [
      "AUC =  0.49\n"
     ]
    },
    {
     "data": {
      "image/png": "[encoded data removed]",
      "text/plain": [
       "<Figure size 640x480 with 1 Axes>"
      ]
     },
     "metadata": {},
     "output_type": "display_data"
    },
    {
     "name": "stdout",
     "output_type": "stream",
     "text": [
      "The fpr is:  [0.   0.1  0.1  0.15 0.15 0.45 0.45 0.55 0.55 0.85 0.85 0.95 0.95 1.  ]\n",
      "The tpr is:  [0.  0.1 0.3 0.3 0.4 0.4 0.5 0.5 0.6 0.6 0.7 0.7 1.  1. ]\n",
      "The thresholds are:  [101.         100.          77.91183405  59.08982946  53.05877777\n",
      "  42.59480474  41.45680729  41.16974457  40.7115504   34.63243695\n",
      "  33.19747527  22.56902731   5.76688481   1.48917898]\n"
     ]
    }
   ],
   "source": [
    "print('AUC = ', metrics.roc_auc_score(y_true_final, y_prob_final))\n",
    "fpr, tpr, thresholds = metrics.roc_curve(y_true_final, y_prob_final)\n",
    "plt.plot(fpr, tpr, marker='.', label='AUROC = %0.3f' % metrics.roc_auc_score(y_true_final, y_prob_final))\n",
    "# Title\n",
    "plt.title('ROC Plot')\n",
    "# Axis labels\n",
    "plt.xlabel('False Positive Rate')\n",
    "plt.ylabel('True Positive Rate')\n",
    "# Show legend\n",
    "plt.legend() # \n",
    "# Show plot\n",
    "plt.show()\n",
    "\n",
    "print(\"The fpr is: \", fpr)\n",
    "print(\"The tpr is: \", tpr)\n",
    "print(\"The thresholds are: \", thresholds)"
   ]
  },
  {
   "attachments": {},
   "cell_type": "markdown",
   "metadata": {},
   "source": [
    "At this point, the graph above shows us that there is not any acceptable threshold to work with. The result from the reconstruction error are poor in this approach."
   ]
  },
  {
   "attachments": {},
   "cell_type": "markdown",
   "metadata": {},
   "source": [
    "## Verifying the evaluation set"
   ]
  },
  {
   "cell_type": "code",
   "execution_count": 81,
   "metadata": {},
   "outputs": [
    {
     "name": "stdout",
     "output_type": "stream",
     "text": [
      "number of batches are:  3\n"
     ]
    }
   ],
   "source": [
    "#Just to test the model. \n",
    "data_batch_test = []  #Capture all training batches as a numpy array\n",
    "labels_test = []\n",
    "img_num = 0\n",
    "# while img_num <= train_generator.batch_index:   #gets each generated batch of size batch_size\n",
    "while img_num < len(test_set_generator):        #I think this should be the correct while clause\n",
    "    data, labels = next(test_crops)\n",
    "    data_batch_test.append(data)\n",
    "    labels_test.append(labels)\n",
    "    img_num = img_num + 1\n",
    "    \n",
    "print(\"number of batches are: \", img_num)"
   ]
  },
  {
   "cell_type": "code",
   "execution_count": 82,
   "metadata": {},
   "outputs": [
    {
     "name": "stdout",
     "output_type": "stream",
     "text": [
      "(10, 160, 128, 3)\n",
      "(10, 160, 128, 3)\n"
     ]
    }
   ],
   "source": [
    "index_batch = 2\n",
    "print(data_batch_test[index_batch].shape)\n",
    "predicted_fromTestSet = model.predict(data_batch_test[index_batch])  \n",
    "print(predicted_fromTestSet.shape)"
   ]
  },
  {
   "cell_type": "code",
   "execution_count": 83,
   "metadata": {},
   "outputs": [
    {
     "name": "stdout",
     "output_type": "stream",
     "text": [
      "(160, 128, 3)\n"
     ]
    }
   ],
   "source": [
    "single_img = data_batch_test[index_batch][0]\n",
    "print(single_img.shape)"
   ]
  },
  {
   "cell_type": "code",
   "execution_count": 84,
   "metadata": {},
   "outputs": [
    {
     "data": {
      "image/png": "[encoded data removed]",
      "text/plain": [
       "<Figure size 1200x600 with 2 Axes>"
      ]
     },
     "metadata": {},
     "output_type": "display_data"
    }
   ],
   "source": [
    "#Sanity check, view few images and corresponding reconstructions\n",
    "image_number = 0\n",
    "plt.figure(figsize=(12, 6))\n",
    "plt.subplot(121)\n",
    "plt.title(\"input image\")\n",
    "plt.imshow(data_batch_test[index_batch][image_number])\n",
    "plt.subplot(122)\n",
    "plt.title(\"reconstructed image\")\n",
    "plt.imshow(predicted_fromTestSet[image_number])\n",
    "plt.show()"
   ]
  },
  {
   "attachments": {},
   "cell_type": "markdown",
   "metadata": {},
   "source": [
    "Displaying the label of this particular image."
   ]
  },
  {
   "cell_type": "code",
   "execution_count": 85,
   "metadata": {},
   "outputs": [
    {
     "name": "stdout",
     "output_type": "stream",
     "text": [
      "1.0\n"
     ]
    }
   ],
   "source": [
    "print(labels_test[index_batch][image_number])"
   ]
  },
  {
   "attachments": {},
   "cell_type": "markdown",
   "metadata": {},
   "source": [
    "## Analyzing further the results of the reconstruction images"
   ]
  },
  {
   "attachments": {},
   "cell_type": "markdown",
   "metadata": {},
   "source": [
    "See below images. THe first one is predicted to be an anomaly while the second one is predicted be a non-anomaly image."
   ]
  },
  {
   "cell_type": "code",
   "execution_count": 86,
   "metadata": {},
   "outputs": [
    {
     "name": "stdout",
     "output_type": "stream",
     "text": [
      "1/1 [==============================] - 0s 845us/step - loss: 0.0054\n"
     ]
    },
    {
     "data": {
      "image/png": "[encoded data removed]",
      "text/plain": [
       "<Figure size 1200x600 with 2 Axes>"
      ]
     },
     "metadata": {},
     "output_type": "display_data"
    },
    {
     "name": "stdout",
     "output_type": "stream",
     "text": [
      "The label image is:  0.0\n",
      "Its probability is:  39.4394023369887\n",
      "Its prediction is:  0\n",
      "Its reconstruction_error is:  0.005363607779145241\n"
     ]
    }
   ],
   "source": [
    "\n",
    "for i in range(len(test_set_generator)):        # Traversing all the batches of the test set\n",
    "    batch_images, labels = next(test_crops)\n",
    "    if i == 0:\n",
    "        for im in range(0, batch_images.shape[0]):  #Traversing all the images in the batch\n",
    "            if im == 2:\n",
    "                img  = batch_images[im]\n",
    "\n",
    "                label_img = labels[im]\n",
    "\n",
    "                img = img[np.newaxis, :,:,:]\n",
    "                reconstruction = model.predict([[img]])\n",
    "\n",
    "                reconstruction_error = model.evaluate([reconstruction],[[img]])\n",
    "                probability = map_error2prob(reconstruction_error)\n",
    "                prediction = computePred(reconstruction_error)   \n",
    "\n",
    "                \n",
    "\n",
    "to_print_original = img[0]\n",
    "to_print_reconstruction = reconstruction[0]\n",
    "#Sanity check, view few images and corresponding reconstructions\n",
    "image_number = 0\n",
    "plt.figure(figsize=(12, 6))\n",
    "plt.subplot(121)\n",
    "plt.title(\"input image\")\n",
    "plt.imshow(to_print_original)\n",
    "plt.subplot(122)\n",
    "plt.title(\"reconstructed image\")\n",
    "plt.imshow(to_print_reconstruction)\n",
    "plt.show()\n",
    "\n",
    "print(\"The label image is: \", label_img)\n",
    "print(\"Its probability is: \", probability)\n",
    "print(\"Its prediction is: \", prediction)\n",
    "print(\"Its reconstruction_error is: \", reconstruction_error)\n"
   ]
  },
  {
   "cell_type": "code",
   "execution_count": 87,
   "metadata": {},
   "outputs": [
    {
     "name": "stdout",
     "output_type": "stream",
     "text": [
      "1/1 [==============================] - 0s 649us/step - loss: 0.0046\n"
     ]
    },
    {
     "data": {
      "image/png": "[encoded data removed]",
      "text/plain": [
       "<Figure size 1200x600 with 2 Axes>"
      ]
     },
     "metadata": {},
     "output_type": "display_data"
    },
    {
     "name": "stdout",
     "output_type": "stream",
     "text": [
      "The label image is:  0.0\n",
      "Its probability is:  47.5548772233552\n",
      "Its prediction is:  0\n",
      "Its reconstruction_error is:  0.004568980075418949\n"
     ]
    }
   ],
   "source": [
    "\n",
    "for i in range(len(test_set_generator)):        # Traversing all the batches of the test set\n",
    "    batch_images, labels = next(test_crops)\n",
    "    if i == 0:\n",
    "        for im in range(0, batch_images.shape[0]):  #Traversing all the images in the batch\n",
    "            if im == 3:\n",
    "                img  = batch_images[im]\n",
    "\n",
    "                label_img = labels[im]\n",
    "\n",
    "                img = img[np.newaxis, :,:,:]\n",
    "                reconstruction = model.predict([[img]])\n",
    "\n",
    "                reconstruction_error = model.evaluate([reconstruction],[[img]])\n",
    "                probability = map_error2prob(reconstruction_error)\n",
    "                prediction = computePred(reconstruction_error)   \n",
    "\n",
    "                \n",
    "\n",
    "to_print_original = img[0]\n",
    "to_print_reconstruction = reconstruction[0]\n",
    "#Sanity check, view few images and corresponding reconstructions\n",
    "image_number = 0\n",
    "plt.figure(figsize=(12, 6))\n",
    "plt.subplot(121)\n",
    "plt.title(\"input image\")\n",
    "plt.imshow(to_print_original)\n",
    "plt.subplot(122)\n",
    "plt.title(\"reconstructed image\")\n",
    "plt.imshow(to_print_reconstruction)\n",
    "plt.show()\n",
    "\n",
    "print(\"The label image is: \", label_img)\n",
    "print(\"Its probability is: \", probability)\n",
    "print(\"Its prediction is: \", prediction)\n",
    "print(\"Its reconstruction_error is: \", reconstruction_error)\n"
   ]
  },
  {
   "cell_type": "code",
   "execution_count": 88,
   "metadata": {},
   "outputs": [
    {
     "data": {
      "text/plain": [
       "0.014121077661910604"
      ]
     },
     "execution_count": 88,
     "metadata": {},
     "output_type": "execute_result"
    }
   ],
   "source": [
    "na_average_recon_error + na_stdev_recon_error"
   ]
  },
  {
   "cell_type": "code",
   "execution_count": 89,
   "metadata": {},
   "outputs": [
    {
     "data": {
      "text/plain": [
       "0.004329565583409594"
      ]
     },
     "execution_count": 89,
     "metadata": {},
     "output_type": "execute_result"
    }
   ],
   "source": [
    "na_average_recon_error - na_stdev_recon_error"
   ]
  },
  {
   "cell_type": "code",
   "execution_count": 90,
   "metadata": {},
   "outputs": [
    {
     "name": "stdout",
     "output_type": "stream",
     "text": [
      "0.009225321622660099\n",
      "0.004895756039250505\n"
     ]
    }
   ],
   "source": [
    "print(na_average_recon_error)\n",
    "print(na_stdev_recon_error)"
   ]
  },
  {
   "attachments": {},
   "cell_type": "markdown",
   "metadata": {},
   "source": [
    "As seen above both images at simple look, seem to be the same. However, the first image seems to have more brightness, perhaps that's what made it to be predicted as anomaly."
   ]
  },
  {
   "attachments": {},
   "cell_type": "markdown",
   "metadata": {},
   "source": []
  }
 ],
 "metadata": {
  "kernelspec": {
   "display_name": "Python 3",
   "language": "python",
   "name": "python3"
  },
  "language_info": {
   "codemirror_mode": {
    "name": "ipython",
    "version": 3
   },
   "file_extension": ".py",
   "mimetype": "text/x-python",
   "name": "python",
   "nbconvert_exporter": "python",
   "pygments_lexer": "ipython3",
   "version": "3.8.10"
  },
  "orig_nbformat": 4,
  "vscode": {
   "interpreter": {
    "hash": "916dbcbb3f70747c44a77c7bcd40155683ae19c65e1c03b4aa3499c5328201f1"
   }
  }
 },
 "nbformat": 4,
 "nbformat_minor": 2
}
