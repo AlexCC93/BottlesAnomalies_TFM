{
 "cells": [
  {
   "cell_type": "markdown",
   "metadata": {},
   "source": [
    "# Importing libraries"
   ]
  },
  {
   "cell_type": "code",
   "execution_count": 1,
   "metadata": {},
   "outputs": [],
   "source": [
    "from tensorflow.keras.models import Sequential, Model\n",
    "from tensorflow.keras.layers import *\n",
    "from tensorflow.keras.preprocessing.image import ImageDataGenerator\n",
    "from tensorflow import keras\n",
    "import tensorflow as tf\n",
    "# from keras import layers\n",
    "\n",
    "\n",
    "from tensorflow.keras.optimizers import Adam, RMSprop\n",
    "from tensorflow.keras.preprocessing import image\n",
    "\n",
    "import tensorflow.keras.backend as K\n",
    "\n",
    "\n",
    "from PIL import Image\n",
    "import matplotlib.pyplot as plt\n",
    "import numpy as np\n",
    "import random\n",
    "\n"
   ]
  },
  {
   "cell_type": "code",
   "execution_count": 2,
   "metadata": {},
   "outputs": [
    {
     "name": "stdout",
     "output_type": "stream",
     "text": [
      "Num GPUs Available:  1\n"
     ]
    },
    {
     "name": "stderr",
     "output_type": "stream",
     "text": [
      "2023-08-20 23:37:19.465971: I tensorflow/stream_executor/platform/default/dso_loader.cc:44] Successfully opened dynamic library libcuda.so.1\n",
      "2023-08-20 23:37:19.497850: I tensorflow/stream_executor/cuda/cuda_gpu_executor.cc:981] successful NUMA node read from SysFS had negative value (-1), but there must be at least one NUMA node, so returning NUMA node zero\n",
      "2023-08-20 23:37:19.498170: I tensorflow/core/common_runtime/gpu/gpu_device.cc:1561] Found device 0 with properties: \n",
      "pciBusID: 0000:01:00.0 name: NVIDIA GeForce RTX 2080 with Max-Q Design computeCapability: 7.5\n",
      "coreClock: 1.23GHz coreCount: 46 deviceMemorySize: 7.79GiB deviceMemoryBandwidth: 357.69GiB/s\n",
      "2023-08-20 23:37:19.498346: I tensorflow/stream_executor/platform/default/dso_loader.cc:44] Successfully opened dynamic library libcudart.so.10.1\n",
      "2023-08-20 23:37:19.499750: I tensorflow/stream_executor/platform/default/dso_loader.cc:44] Successfully opened dynamic library libcublas.so.10\n",
      "2023-08-20 23:37:19.501048: I tensorflow/stream_executor/platform/default/dso_loader.cc:44] Successfully opened dynamic library libcufft.so.10\n",
      "2023-08-20 23:37:19.501281: I tensorflow/stream_executor/platform/default/dso_loader.cc:44] Successfully opened dynamic library libcurand.so.10\n",
      "2023-08-20 23:37:19.502681: I tensorflow/stream_executor/platform/default/dso_loader.cc:44] Successfully opened dynamic library libcusolver.so.10\n",
      "2023-08-20 23:37:19.503482: I tensorflow/stream_executor/platform/default/dso_loader.cc:44] Successfully opened dynamic library libcusparse.so.10\n",
      "2023-08-20 23:37:19.506332: I tensorflow/stream_executor/platform/default/dso_loader.cc:44] Successfully opened dynamic library libcudnn.so.7\n",
      "2023-08-20 23:37:19.506424: I tensorflow/stream_executor/cuda/cuda_gpu_executor.cc:981] successful NUMA node read from SysFS had negative value (-1), but there must be at least one NUMA node, so returning NUMA node zero\n",
      "2023-08-20 23:37:19.506784: I tensorflow/stream_executor/cuda/cuda_gpu_executor.cc:981] successful NUMA node read from SysFS had negative value (-1), but there must be at least one NUMA node, so returning NUMA node zero\n",
      "2023-08-20 23:37:19.507114: I tensorflow/core/common_runtime/gpu/gpu_device.cc:1703] Adding visible gpu devices: 0\n"
     ]
    }
   ],
   "source": [
    "physical_devices = tf.config.experimental.list_physical_devices('GPU')\n",
    "if len(physical_devices) == 0:\n",
    "    print(\"Not enough GPU hardware devices available\")\n",
    "else:\n",
    "    config = tf.config.experimental.set_memory_growth(physical_devices[0], True)\n",
    "print(\"Num GPUs Available: \", len(physical_devices))"
   ]
  },
  {
   "cell_type": "markdown",
   "metadata": {},
   "source": [
    "If uncommented it will print all the log information about where the tensorflow operations were performed, in the CPU or the GPU"
   ]
  },
  {
   "cell_type": "code",
   "execution_count": 3,
   "metadata": {},
   "outputs": [],
   "source": [
    "# tf.debugging.set_log_device_placement(True)       # Will print the log information of every execution of tensorflow, mainly about "
   ]
  },
  {
   "attachments": {},
   "cell_type": "markdown",
   "metadata": {},
   "source": [
    "# Loading the train data set"
   ]
  },
  {
   "attachments": {},
   "cell_type": "markdown",
   "metadata": {},
   "source": [
    "ImageDataGenerator.flow_from_directory: Takes the path to a directory and generates batches of augmented data."
   ]
  },
  {
   "cell_type": "code",
   "execution_count": 4,
   "metadata": {},
   "outputs": [],
   "source": [
    "def my_crop(img, start_y, start_x, desired_height, desired_width):\n",
    "  if K.image_data_format() == 'channels_last':\n",
    "    # Note: image_data_format is 'channel_last'\n",
    "    assert img.shape[2] == 3\n",
    "    dy = desired_height #input desired output size\n",
    "    dx = desired_width #input desired output size\n",
    "    # start_y = (height-dy)//2\n",
    "    # start_x = (width-dx)//2\n",
    "    return img[start_y:start_y+dy, start_x:(dx+start_x), :]\n",
    "  else:\n",
    "      assert img.shape[0] == 3\n",
    "      dy = desired_height #input desired output size\n",
    "      dx = desired_width #input desired output size\n",
    "      # start_y = (height-dy)//2\n",
    "      # start_x = (width-dx)//2\n",
    "      return img[:,start_y:start_y + dy, start_x:(dx + start_x)]\n",
    "\n",
    "def crop_augmented_generator(batches, start_y, start_x, crop_height, crop_width):\n",
    "    '''\n",
    "    Take as input a Keras ImageGen (Iterator) and generate\n",
    "    crops from the image batches generated by the original iterator\n",
    "    '''\n",
    "    # print(\"I'm in the crop_generataor function\")\n",
    "    while True:\n",
    "      batch_x, batch_y = next(batches)  # In batch_x there are the images, in batch_y there are the labels\n",
    "    #   print(\"hello\")\n",
    "    #   print('the shape of tensor batch_x is:', batch_x.shape)\n",
    "    #   print('batch_y is:', batch_y)\n",
    "    \n",
    "      if K.image_data_format() == 'channels_last':\n",
    "        # print(\"type of batch_x: \", type(batch_x))\n",
    "        # print(\"type of batch_y: \", type(batch_y))\n",
    "        # print(\"len of batch_x: \", len(batch_x))\n",
    "\n",
    "        # Either batch_x or batch_y could be augmented or original\n",
    "        batch_crops_input_x = np.zeros((batch_x[0].shape[0], crop_height, crop_width, 3))\n",
    "        batch_crops_target_x = np.zeros((batch_x[1].shape[0], crop_height, crop_width, 3))\n",
    "\n",
    "        batch_crops_input_y = np.zeros((batch_y[0].shape[0], crop_height, crop_width, 3))\n",
    "        batch_crops_target_y = np.zeros((batch_y[1].shape[0], crop_height, crop_width, 3))\n",
    "      else:\n",
    "        # Either batch_x or batch_y could be augmented or original\n",
    "        batch_crops_input_x = np.zeros((batch_x[0].shape[0], 3, crop_height, crop_width))\n",
    "        batch_crops_target_x = np.zeros((batch_x[1].shape[0], 3, crop_height, crop_width))\n",
    "\n",
    "        batch_crops_input_y = np.zeros((batch_y[0].shape[0], 3, crop_height, crop_width))\n",
    "        batch_crops_target_y = np.zeros((batch_y[1].shape[0], 3, crop_height, crop_width))\n",
    "\n",
    "      for i in range(batch_x[0].shape[0]):\n",
    "        #   print(\"THe shape of a single image before the cropping is: \", batch_x[i].shape)\n",
    "        batch_crops_input_x[i] = my_crop(batch_x[0][i], start_y, start_x, crop_height, crop_width)\n",
    "        batch_crops_target_x[i] = my_crop(batch_x[1][i], start_y, start_x, crop_height, crop_width)\n",
    "\n",
    "        batch_crops_input_y[i] = my_crop(batch_y[0][i], start_y, start_x, crop_height, crop_width)\n",
    "        batch_crops_target_y[i] = my_crop(batch_y[1][i], start_y, start_x, crop_height, crop_width)\n",
    "      \n",
    "      # print(type(batch_crops_input_x))\n",
    "      batch_crops_x = (batch_crops_input_x, batch_crops_target_x)\n",
    "      batch_crops_y = (batch_crops_input_y, batch_crops_target_y)\n",
    "\n",
    "      yield (batch_crops_x, batch_crops_y)\n",
    "\n",
    "  \n",
    "    \n",
    "def crop_generator(batches, start_y, start_x, crop_height, crop_width, flag=0):\n",
    "    '''\n",
    "    Take as input a Keras ImageGen (Iterator) and generate\n",
    "    crops from the image batches generated by the original iterator\n",
    "    '''\n",
    "    # print(\"I'm in the crop_generataor function\")\n",
    "    while True:\n",
    "      batch_x, batch_y = next(batches)  # In batch_x there are the images, in batch_y there are the labels\n",
    "    #   print(\"hello\")\n",
    "    #   print('the shape of tensor batch_x is:', batch_x.shape)\n",
    "    #   print('batch_y is:', batch_y)\n",
    "      if flag==0:\n",
    "        if K.image_data_format() == 'channels_last':\n",
    "          batch_crops = np.zeros((batch_x.shape[0], crop_height, crop_width, 3))\n",
    "          batch_crops_y = np.zeros((batch_y.shape[0], crop_height, crop_width, 3))\n",
    "        else:\n",
    "          batch_crops = np.zeros((batch_x.shape[0], 3, crop_height, crop_width))\n",
    "          batch_crops_y = np.zeros((batch_y.shape[0], 3, crop_height, crop_width))\n",
    "        for i in range(batch_x.shape[0]):\n",
    "          #   print(\"THe shape of a single image before the cropping is: \", batch_x[i].shape)\n",
    "            batch_crops[i] = my_crop(batch_x[i], start_y, start_x, crop_height, crop_width)\n",
    "            batch_crops_y[i] = my_crop(batch_x[i], start_y, start_x, crop_height, crop_width)\n",
    "        yield (batch_crops, batch_crops_y)\n",
    "      else: \n",
    "        if K.image_data_format() == 'channels_last':\n",
    "          batch_crops = np.zeros((batch_x.shape[0], crop_height, crop_width, 3))\n",
    "        else:\n",
    "          batch_crops = np.zeros((batch_x.shape[0], 3, crop_height, crop_width))\n",
    "        for i in range(batch_x.shape[0]):\n",
    "          #   print(\"THe shape of a single image before the cropping is: \", batch_x[i].shape)\n",
    "            batch_crops[i] = my_crop(batch_x[i], start_y, start_x, crop_height, crop_width)\n",
    "\n",
    "        yield (batch_crops, batch_y)\n",
    "         "
   ]
  },
  {
   "cell_type": "code",
   "execution_count": 5,
   "metadata": {},
   "outputs": [
    {
     "name": "stdout",
     "output_type": "stream",
     "text": [
      "Found 295 images belonging to 1 classes.\n",
      "Found 295 images belonging to 1 classes.\n"
     ]
    }
   ],
   "source": [
    "# batch_size = 64\n",
    "batch_size = 10\n",
    "train_datagen = ImageDataGenerator(rescale=1./255,\n",
    "                                    brightness_range=[0.88,1.0]) # Typically used for data augmentation. Here it is only rescaling the image pixels value to range 0 to 1 in decimals and changing the brightness\n",
    "\n",
    "\n",
    "original_datagen = ImageDataGenerator(rescale=1./255)\n",
    "\n",
    "\n",
    "train_generator = train_datagen.flow_from_directory(\n",
    "    \"../../Images/june5Night/Positive/\",         # For home laptop\n",
    "    # \"../../../BottleStoodUp_atNight/Positive/\",          # For work laptop\n",
    "    batch_size=batch_size,\n",
    "    shuffle = False,\n",
    "    class_mode='input'\n",
    "    )\n",
    "\n",
    "# Generate original images from the original data directory\n",
    "original_generator = original_datagen.flow_from_directory(\n",
    "    \"../../Images/june5Night/Positive/\",\n",
    "    batch_size=batch_size,\n",
    "    shuffle = False,\n",
    "    class_mode='input')\n",
    "\n",
    "# Combine the generators using the `keras.preprocessing.image.Iterator` class\n",
    "combined_generator = zip(train_generator, original_generator)"
   ]
  },
  {
   "cell_type": "code",
   "execution_count": 6,
   "metadata": {},
   "outputs": [
    {
     "name": "stdout",
     "output_type": "stream",
     "text": [
      "Found 20 images belonging to 1 classes.\n"
     ]
    }
   ],
   "source": [
    "validation_generator = original_datagen.flow_from_directory(\n",
    "    \"../../Images/june5Night/Positive_val/\",     # For home laptop\n",
    "    # \"../../../BottleStoodUp_atNight/Positive_val/\",           # For work lpatop   \n",
    "    batch_size=batch_size,\n",
    "    shuffle = False,\n",
    "    class_mode='input'\n",
    "    )\n"
   ]
  },
  {
   "cell_type": "code",
   "execution_count": 7,
   "metadata": {},
   "outputs": [
    {
     "name": "stdout",
     "output_type": "stream",
     "text": [
      "Found 30 images belonging to 2 classes.\n"
     ]
    }
   ],
   "source": [
    "validation_generator_for_threshold = original_datagen.flow_from_directory(\n",
    "    \"../../Images/june5Night/Validation/\",     # For home laptop\n",
    "    # \"../../../BottleStoodUp_atNight/Positive_val/\",           # For work lpatop   \n",
    "    batch_size=batch_size,\n",
    "    shuffle = False,\n",
    "    class_mode='binary'\n",
    "    )\n"
   ]
  },
  {
   "cell_type": "code",
   "execution_count": 8,
   "metadata": {},
   "outputs": [
    {
     "name": "stdout",
     "output_type": "stream",
     "text": [
      "Found 30 images belonging to 2 classes.\n"
     ]
    }
   ],
   "source": [
    "test_set_generator = original_datagen.flow_from_directory(\n",
    "    \"../../Images/june5Night/Evaluation/\",       # For home laptop\n",
    "    # \"../../../BottleStoodUp_atNight/Evaluation/\",             # For work laptop  \n",
    "    batch_size=batch_size,\n",
    "    shuffle = False,\n",
    "    class_mode='binary'\n",
    "    )\n"
   ]
  },
  {
   "cell_type": "markdown",
   "metadata": {},
   "source": [
    "# Showing one sample of the training set images"
   ]
  },
  {
   "attachments": {},
   "cell_type": "markdown",
   "metadata": {},
   "source": [
    "Creating the cropped images"
   ]
  },
  {
   "cell_type": "code",
   "execution_count": 9,
   "metadata": {},
   "outputs": [],
   "source": [
    "HEIGHT = 160\n",
    "WIDTH = 128"
   ]
  },
  {
   "cell_type": "code",
   "execution_count": 10,
   "metadata": {},
   "outputs": [],
   "source": [
    "train_crops = crop_augmented_generator(combined_generator, 65, 69, HEIGHT,WIDTH)      # top, left, height, width\n",
    "val_crops = crop_generator(validation_generator, 65, 69, HEIGHT,WIDTH)      # top, left, height, width\n",
    "test_crops = crop_generator(test_set_generator, 65, 69, HEIGHT,WIDTH,1)      # top, left, height, width\n",
    "val_crops_for_threshold = crop_generator(validation_generator_for_threshold, 65, 69, HEIGHT,WIDTH,1)      # top, left, height, width"
   ]
  },
  {
   "attachments": {},
   "cell_type": "markdown",
   "metadata": {},
   "source": [
    "Here we make sure that both of the returned elements of the cropped generator, that is \"imgaes_in_batch\" and \"imgaes_in_batch2\", are indeed cropped images."
   ]
  },
  {
   "cell_type": "code",
   "execution_count": 11,
   "metadata": {},
   "outputs": [],
   "source": [
    "images_in_batch, images_in_batch2 = next(train_crops)"
   ]
  },
  {
   "cell_type": "code",
   "execution_count": 12,
   "metadata": {},
   "outputs": [
    {
     "name": "stdout",
     "output_type": "stream",
     "text": [
      "(10, 160, 128, 3)\n",
      "(10, 160, 128, 3)\n"
     ]
    }
   ],
   "source": [
    "batch_input_images1 = images_in_batch[0]\n",
    "batch_expected_images1 = images_in_batch[1]\n",
    "print(batch_input_images1.shape)\n",
    "print(batch_expected_images1.shape)"
   ]
  },
  {
   "cell_type": "code",
   "execution_count": 13,
   "metadata": {},
   "outputs": [
    {
     "name": "stdout",
     "output_type": "stream",
     "text": [
      "(10, 160, 128, 3)\n",
      "(10, 160, 128, 3)\n"
     ]
    }
   ],
   "source": [
    "batch_input_images2 = images_in_batch2[0]\n",
    "batch_expected_images2 = images_in_batch2[1]\n",
    "print(batch_input_images2.shape)\n",
    "print(batch_expected_images2.shape)"
   ]
  },
  {
   "cell_type": "code",
   "execution_count": 14,
   "metadata": {},
   "outputs": [
    {
     "data": {
      "text/plain": [
       "<matplotlib.image.AxesImage at 0x7fa5d03d5880>"
      ]
     },
     "execution_count": 14,
     "metadata": {},
     "output_type": "execute_result"
    },
    {
     "data": {
      "image/png": "[encoded data removed]",
      "text/plain": [
       "<Figure size 640x480 with 1 Axes>"
      ]
     },
     "metadata": {},
     "output_type": "display_data"
    }
   ],
   "source": [
    "single_img_batch1 = batch_input_images1[0]\n",
    "plt.imshow(single_img_batch1)"
   ]
  },
  {
   "cell_type": "code",
   "execution_count": 15,
   "metadata": {},
   "outputs": [
    {
     "data": {
      "text/plain": [
       "<matplotlib.image.AxesImage at 0x7fa5d036f4c0>"
      ]
     },
     "execution_count": 15,
     "metadata": {},
     "output_type": "execute_result"
    },
    {
     "data": {
      "image/png": "[encoded data removed]",
      "text/plain": [
       "<Figure size 640x480 with 1 Axes>"
      ]
     },
     "metadata": {},
     "output_type": "display_data"
    }
   ],
   "source": [
    "single_img_batch2 = batch_input_images2[0]\n",
    "plt.imshow(single_img_batch2)"
   ]
  },
  {
   "cell_type": "code",
   "execution_count": 16,
   "metadata": {},
   "outputs": [
    {
     "name": "stdout",
     "output_type": "stream",
     "text": [
      "This is comparisson imgs: False\n"
     ]
    }
   ],
   "source": [
    "compareImgs = single_img_batch1==single_img_batch2\n",
    "res1 =  np.all(compareImgs)\n",
    "print(\"This is comparisson imgs:\", res1)"
   ]
  },
  {
   "attachments": {},
   "cell_type": "markdown",
   "metadata": {},
   "source": [
    "# Building the model Autoencoder model"
   ]
  },
  {
   "cell_type": "code",
   "execution_count": 17,
   "metadata": {},
   "outputs": [
    {
     "name": "stderr",
     "output_type": "stream",
     "text": [
      "2023-08-20 23:37:20.066187: I tensorflow/core/platform/cpu_feature_guard.cc:143] Your CPU supports instructions that this TensorFlow binary was not compiled to use: AVX2 FMA\n",
      "2023-08-20 23:37:20.091113: I tensorflow/core/platform/profile_utils/cpu_utils.cc:102] CPU Frequency: 2599990000 Hz\n",
      "2023-08-20 23:37:20.091531: I tensorflow/compiler/xla/service/service.cc:168] XLA service 0x7fa54c001020 initialized for platform Host (this does not guarantee that XLA will be used). Devices:\n",
      "2023-08-20 23:37:20.091546: I tensorflow/compiler/xla/service/service.cc:176]   StreamExecutor device (0): Host, Default Version\n",
      "2023-08-20 23:37:20.162874: I tensorflow/stream_executor/cuda/cuda_gpu_executor.cc:981] successful NUMA node read from SysFS had negative value (-1), but there must be at least one NUMA node, so returning NUMA node zero\n",
      "2023-08-20 23:37:20.163304: I tensorflow/compiler/xla/service/service.cc:168] XLA service 0x4fe8f60 initialized for platform CUDA (this does not guarantee that XLA will be used). Devices:\n",
      "2023-08-20 23:37:20.163318: I tensorflow/compiler/xla/service/service.cc:176]   StreamExecutor device (0): NVIDIA GeForce RTX 2080 with Max-Q Design, Compute Capability 7.5\n",
      "2023-08-20 23:37:20.163470: I tensorflow/stream_executor/cuda/cuda_gpu_executor.cc:981] successful NUMA node read from SysFS had negative value (-1), but there must be at least one NUMA node, so returning NUMA node zero\n",
      "2023-08-20 23:37:20.163768: I tensorflow/core/common_runtime/gpu/gpu_device.cc:1561] Found device 0 with properties: \n",
      "pciBusID: 0000:01:00.0 name: NVIDIA GeForce RTX 2080 with Max-Q Design computeCapability: 7.5\n",
      "coreClock: 1.23GHz coreCount: 46 deviceMemorySize: 7.79GiB deviceMemoryBandwidth: 357.69GiB/s\n",
      "2023-08-20 23:37:20.163800: I tensorflow/stream_executor/platform/default/dso_loader.cc:44] Successfully opened dynamic library libcudart.so.10.1\n",
      "2023-08-20 23:37:20.163812: I tensorflow/stream_executor/platform/default/dso_loader.cc:44] Successfully opened dynamic library libcublas.so.10\n",
      "2023-08-20 23:37:20.163824: I tensorflow/stream_executor/platform/default/dso_loader.cc:44] Successfully opened dynamic library libcufft.so.10\n",
      "2023-08-20 23:37:20.163835: I tensorflow/stream_executor/platform/default/dso_loader.cc:44] Successfully opened dynamic library libcurand.so.10\n",
      "2023-08-20 23:37:20.163846: I tensorflow/stream_executor/platform/default/dso_loader.cc:44] Successfully opened dynamic library libcusolver.so.10\n",
      "2023-08-20 23:37:20.163856: I tensorflow/stream_executor/platform/default/dso_loader.cc:44] Successfully opened dynamic library libcusparse.so.10\n",
      "2023-08-20 23:37:20.163868: I tensorflow/stream_executor/platform/default/dso_loader.cc:44] Successfully opened dynamic library libcudnn.so.7\n",
      "2023-08-20 23:37:20.163917: I tensorflow/stream_executor/cuda/cuda_gpu_executor.cc:981] successful NUMA node read from SysFS had negative value (-1), but there must be at least one NUMA node, so returning NUMA node zero\n",
      "2023-08-20 23:37:20.164256: I tensorflow/stream_executor/cuda/cuda_gpu_executor.cc:981] successful NUMA node read from SysFS had negative value (-1), but there must be at least one NUMA node, so returning NUMA node zero\n",
      "2023-08-20 23:37:20.164743: I tensorflow/core/common_runtime/gpu/gpu_device.cc:1703] Adding visible gpu devices: 0\n",
      "2023-08-20 23:37:20.164776: I tensorflow/stream_executor/platform/default/dso_loader.cc:44] Successfully opened dynamic library libcudart.so.10.1\n",
      "2023-08-20 23:37:20.165334: I tensorflow/core/common_runtime/gpu/gpu_device.cc:1102] Device interconnect StreamExecutor with strength 1 edge matrix:\n",
      "2023-08-20 23:37:20.165347: I tensorflow/core/common_runtime/gpu/gpu_device.cc:1108]      0 \n",
      "2023-08-20 23:37:20.165353: I tensorflow/core/common_runtime/gpu/gpu_device.cc:1121] 0:   N \n",
      "2023-08-20 23:37:20.165445: I tensorflow/stream_executor/cuda/cuda_gpu_executor.cc:981] successful NUMA node read from SysFS had negative value (-1), but there must be at least one NUMA node, so returning NUMA node zero\n",
      "2023-08-20 23:37:20.165808: I tensorflow/stream_executor/cuda/cuda_gpu_executor.cc:981] successful NUMA node read from SysFS had negative value (-1), but there must be at least one NUMA node, so returning NUMA node zero\n",
      "2023-08-20 23:37:20.166139: I tensorflow/core/common_runtime/gpu/gpu_device.cc:1247] Created TensorFlow device (/job:localhost/replica:0/task:0/device:GPU:0 with 6763 MB memory) -> physical GPU (device: 0, name: NVIDIA GeForce RTX 2080 with Max-Q Design, pci bus id: 0000:01:00.0, compute capability: 7.5)\n"
     ]
    },
    {
     "name": "stdout",
     "output_type": "stream",
     "text": [
      "(None, 10, 8, 1)\n",
      "(None, 40)\n",
      "Model: \"model\"\n",
      "_________________________________________________________________\n",
      "Layer (type)                 Output Shape              Param #   \n",
      "=================================================================\n",
      "input_1 (InputLayer)         [(None, 160, 128, 3)]     0         \n",
      "_________________________________________________________________\n",
      "conv2d (Conv2D)              (None, 160, 128, 64)      1792      \n",
      "_________________________________________________________________\n",
      "max_pooling2d (MaxPooling2D) (None, 80, 64, 64)        0         \n",
      "_________________________________________________________________\n",
      "conv2d_1 (Conv2D)            (None, 80, 64, 32)        18464     \n",
      "_________________________________________________________________\n",
      "max_pooling2d_1 (MaxPooling2 (None, 40, 32, 32)        0         \n",
      "_________________________________________________________________\n",
      "conv2d_2 (Conv2D)            (None, 40, 32, 16)        4624      \n",
      "_________________________________________________________________\n",
      "max_pooling2d_2 (MaxPooling2 (None, 20, 16, 16)        0         \n",
      "_________________________________________________________________\n",
      "conv2d_3 (Conv2D)            (None, 20, 16, 4)         580       \n",
      "_________________________________________________________________\n",
      "max_pooling2d_3 (MaxPooling2 (None, 10, 8, 4)          0         \n",
      "_________________________________________________________________\n",
      "conv2d_4 (Conv2D)            (None, 10, 8, 1)          37        \n",
      "_________________________________________________________________\n",
      "flatten (Flatten)            (None, 80)                0         \n",
      "_________________________________________________________________\n",
      "dense (Dense)                (None, 80)                6480      \n",
      "_________________________________________________________________\n",
      "dense_1 (Dense)              (None, 40)                3240      \n",
      "=================================================================\n",
      "Total params: 35,217\n",
      "Trainable params: 35,217\n",
      "Non-trainable params: 0\n",
      "_________________________________________________________________\n"
     ]
    }
   ],
   "source": [
    "latent_dim = 40  # Number of latent dimension parameters\n",
    "\n",
    "input_img = Input(shape=(HEIGHT, WIDTH, 3))\n",
    "x = Conv2D(64, (3, 3), activation='relu', padding='same')(input_img)\n",
    "x = MaxPooling2D((2, 2), padding='same')(x)\n",
    "x = Conv2D(32, (3, 3), activation='relu', padding='same')(x)\n",
    "x = MaxPool2D( (2, 2), padding='same')(x)\n",
    "x = Conv2D(16, (3, 3), activation='relu', padding='same')(x)\n",
    "x = MaxPool2D( (2, 2), padding='same')(x)\n",
    "\n",
    "x = Conv2D(4, (3, 3), activation='relu', padding='same')(x)\n",
    "x = MaxPool2D( (2, 2), padding='same')(x)\n",
    "x = Conv2D(1, (3, 3), activation='relu', padding='same')(x)\n",
    "\n",
    "shape_before_flattening = K.int_shape(x)\n",
    "print(shape_before_flattening)\n",
    "x = Flatten()(x)\n",
    "x = Dense(80, activation='relu')(x)        # Activation function is supposed to be none, i.e the output is the same as the input\n",
    "\n",
    "Z = Dense(latent_dim)(x)\n",
    "print(K.int_shape(Z))\n",
    "\n",
    "encoder = Model(input_img,Z)\n",
    "encoder.summary()"
   ]
  },
  {
   "cell_type": "code",
   "execution_count": 18,
   "metadata": {},
   "outputs": [
    {
     "name": "stdout",
     "output_type": "stream",
     "text": [
      "Model: \"model_1\"\n",
      "_________________________________________________________________\n",
      "Layer (type)                 Output Shape              Param #   \n",
      "=================================================================\n",
      "input_2 (InputLayer)         [(None, 40)]              0         \n",
      "_________________________________________________________________\n",
      "intermediate_decoder (Dense) (None, 320)               13120     \n",
      "_________________________________________________________________\n",
      "original_decoder (Dense)     (None, 320)               102720    \n",
      "_________________________________________________________________\n",
      "reshape (Reshape)            (None, 10, 8, 4)          0         \n",
      "_________________________________________________________________\n",
      "conv2d_transpose (Conv2DTran (None, 10, 8, 3)          111       \n",
      "_________________________________________________________________\n",
      "up_sampling2d (UpSampling2D) (None, 20, 16, 3)         0         \n",
      "_________________________________________________________________\n",
      "conv2d_transpose_1 (Conv2DTr (None, 20, 16, 3)         84        \n",
      "_________________________________________________________________\n",
      "up_sampling2d_1 (UpSampling2 (None, 40, 32, 3)         0         \n",
      "_________________________________________________________________\n",
      "conv2d_transpose_2 (Conv2DTr (None, 40, 32, 3)         84        \n",
      "_________________________________________________________________\n",
      "up_sampling2d_2 (UpSampling2 (None, 80, 64, 3)         0         \n",
      "_________________________________________________________________\n",
      "conv2d_transpose_3 (Conv2DTr (None, 80, 64, 3)         84        \n",
      "_________________________________________________________________\n",
      "up_sampling2d_3 (UpSampling2 (None, 160, 128, 3)       0         \n",
      "=================================================================\n",
      "Total params: 116,203\n",
      "Trainable params: 116,203\n",
      "Non-trainable params: 0\n",
      "_________________________________________________________________\n"
     ]
    }
   ],
   "source": [
    "# decoder takes the latent distribution sample as input\n",
    "decoder_input = Input(K.int_shape(Z)[1:])\n",
    "x = Dense(10*8*4, activation='relu', name=\"intermediate_decoder\", input_shape=(latent_dim,))(decoder_input)\n",
    "# Expand to 784 total pixels\n",
    "x = Dense(320, activation='sigmoid', name=\"original_decoder\")(x)\n",
    "x = Reshape((10,8,4),input_shape=(320,))(x)\n",
    "\n",
    "x = Conv2DTranspose(3, (3, 3), padding='same')(x)\n",
    "x = UpSampling2D( (2, 2))(x)\n",
    "x = Conv2DTranspose(3, (3, 3), padding='same')(x)\n",
    "x = UpSampling2D( (2, 2))(x)\n",
    "x = Conv2DTranspose(3, (3, 3), padding='same')(x)\n",
    "x = UpSampling2D( (2, 2))(x)\n",
    "x = Conv2DTranspose(3, (3, 3), padding='same')(x)\n",
    "x = UpSampling2D( (2, 2))(x)\n",
    "\n",
    "# decoder model statement\n",
    "decoder = Model(decoder_input, x)\n",
    "\n",
    "# apply the decoder to the sample from the latent distribution\n",
    "z_decoded = decoder(Z)\n",
    "\n",
    "decoder.summary()"
   ]
  },
  {
   "cell_type": "code",
   "execution_count": 19,
   "metadata": {},
   "outputs": [
    {
     "name": "stdout",
     "output_type": "stream",
     "text": [
      "Model: \"model_2\"\n",
      "_________________________________________________________________\n",
      "Layer (type)                 Output Shape              Param #   \n",
      "=================================================================\n",
      "input_1 (InputLayer)         [(None, 160, 128, 3)]     0         \n",
      "_________________________________________________________________\n",
      "conv2d (Conv2D)              (None, 160, 128, 64)      1792      \n",
      "_________________________________________________________________\n",
      "max_pooling2d (MaxPooling2D) (None, 80, 64, 64)        0         \n",
      "_________________________________________________________________\n",
      "conv2d_1 (Conv2D)            (None, 80, 64, 32)        18464     \n",
      "_________________________________________________________________\n",
      "max_pooling2d_1 (MaxPooling2 (None, 40, 32, 32)        0         \n",
      "_________________________________________________________________\n",
      "conv2d_2 (Conv2D)            (None, 40, 32, 16)        4624      \n",
      "_________________________________________________________________\n",
      "max_pooling2d_2 (MaxPooling2 (None, 20, 16, 16)        0         \n",
      "_________________________________________________________________\n",
      "conv2d_3 (Conv2D)            (None, 20, 16, 4)         580       \n",
      "_________________________________________________________________\n",
      "max_pooling2d_3 (MaxPooling2 (None, 10, 8, 4)          0         \n",
      "_________________________________________________________________\n",
      "conv2d_4 (Conv2D)            (None, 10, 8, 1)          37        \n",
      "_________________________________________________________________\n",
      "flatten (Flatten)            (None, 80)                0         \n",
      "_________________________________________________________________\n",
      "dense (Dense)                (None, 80)                6480      \n",
      "_________________________________________________________________\n",
      "dense_1 (Dense)              (None, 40)                3240      \n",
      "_________________________________________________________________\n",
      "model_1 (Model)              (None, 160, 128, 3)       116203    \n",
      "=================================================================\n",
      "Total params: 151,420\n",
      "Trainable params: 151,420\n",
      "Non-trainable params: 0\n",
      "_________________________________________________________________\n"
     ]
    }
   ],
   "source": [
    "# VAE model statement\n",
    "ae = Model(input_img,z_decoded)\n",
    "ae.compile(optimizer='adam', loss='mean_squared_error')\n",
    "\n",
    "ae.summary()"
   ]
  },
  {
   "cell_type": "markdown",
   "metadata": {},
   "source": [
    "# Training the model"
   ]
  },
  {
   "cell_type": "code",
   "execution_count": 20,
   "metadata": {},
   "outputs": [],
   "source": [
    "# # from tensorflow.keras.callbacks import EarlyStopping\n",
    "# # run the modelvalidat\n",
    "# # early_stopping = EarlyStopping(monitor='val_loss', min_delta=0, patience=20, verbose=5, mode='auto')\n",
    "# history = ae.fit(train_crops, epochs=300, steps_per_epoch=len(train_generator)*2, validation_data=val_crops, validation_steps =len(validation_generator),  verbose=1, shuffle = True)"
   ]
  },
  {
   "cell_type": "code",
   "execution_count": 21,
   "metadata": {},
   "outputs": [],
   "source": [
    "\n",
    "# # Get the training and validation loss values from the history object\n",
    "# train_loss = history.history['loss']\n",
    "# val_loss = history.history['val_loss']\n",
    "\n",
    "# # Plot the training and validation loss\n",
    "# epochs = range(1, len(train_loss) + 1)\n",
    "# plt.plot(epochs, train_loss, 'b-', label='Training Loss')\n",
    "# plt.plot(epochs, val_loss, 'r-', label='Validation Loss')\n",
    "# plt.title('Training and Validation Loss')\n",
    "# plt.xlabel('Epochs')\n",
    "# plt.ylabel('Loss')\n",
    "# plt.legend()\n",
    "# plt.show()\n"
   ]
  },
  {
   "cell_type": "markdown",
   "metadata": {},
   "source": [
    "Saving the train and validation history data"
   ]
  },
  {
   "cell_type": "code",
   "execution_count": 22,
   "metadata": {},
   "outputs": [],
   "source": [
    "# # open file\n",
    "# with open('txtFilesAutoencoderBottles4/TrainingLoss.txt', 'w+') as g:\n",
    "#     # write elements of list\n",
    "#     for items in train_loss:\n",
    "#         g.write('%s\\n' %items)\n",
    "#     print(\"train_loss written successfully\")\n",
    "# # close the file\n",
    "# g.close() \n",
    "\n",
    "# # open file\n",
    "# with open('txtFilesAutoencoderBottles4/ValidationLoss.txt', 'w+') as g:\n",
    "#     # write elements of list\n",
    "#     for items in val_loss:\n",
    "#         g.write('%s\\n' %items)\n",
    "#     print(\"val_loss written successfully\")\n",
    "# # close the file\n",
    "# g.close()\n"
   ]
  },
  {
   "cell_type": "markdown",
   "metadata": {},
   "source": [
    "LOading the train and validation history data"
   ]
  },
  {
   "cell_type": "code",
   "execution_count": 23,
   "metadata": {},
   "outputs": [
    {
     "data": {
      "image/png": "[encoded data removed]",
      "text/plain": [
       "<Figure size 640x480 with 1 Axes>"
      ]
     },
     "metadata": {},
     "output_type": "display_data"
    }
   ],
   "source": [
    "# Load data from the text file\n",
    "with open(\"txtFilesAutoencoderBottles6/TrainingLoss.txt\", \"r\") as file:\n",
    "    train_loss_data = [float(line.strip()) for line in file]\n",
    "\n",
    "# Load data from the text file\n",
    "with open(\"txtFilesAutoencoderBottles6/ValidationLoss.txt\", \"r\") as file:\n",
    "    val_loss_data = [float(line.strip()) for line in file]\n",
    "\n",
    "# Plot the training and validation loss\n",
    "epochs = range(1, len(train_loss_data) + 1)\n",
    "plt.plot(epochs, train_loss_data, 'b-', label='Training Loss')\n",
    "plt.plot(epochs, val_loss_data, 'r-', label='Validation Loss')\n",
    "plt.title('Training and Validation Loss')\n",
    "plt.xlabel('Epochs')\n",
    "plt.ylabel('Loss')\n",
    "plt.legend()\n",
    "plt.show()"
   ]
  },
  {
   "cell_type": "code",
   "execution_count": 24,
   "metadata": {},
   "outputs": [],
   "source": [
    "filepath = \"models/Bottles6_playground\""
   ]
  },
  {
   "cell_type": "code",
   "execution_count": 25,
   "metadata": {},
   "outputs": [],
   "source": [
    "# ae.save(f\"{filepath}\")"
   ]
  },
  {
   "attachments": {},
   "cell_type": "markdown",
   "metadata": {},
   "source": [
    "Loading the model that was previously saved\n"
   ]
  },
  {
   "cell_type": "code",
   "execution_count": 26,
   "metadata": {},
   "outputs": [
    {
     "name": "stdout",
     "output_type": "stream",
     "text": [
      "Model: \"model_3\"\n",
      "_________________________________________________________________\n",
      "Layer (type)                 Output Shape              Param #   \n",
      "=================================================================\n",
      "input_1 (InputLayer)         [(None, 160, 128, 3)]     0         \n",
      "_________________________________________________________________\n",
      "conv2d (Conv2D)              (None, 160, 128, 64)      1792      \n",
      "_________________________________________________________________\n",
      "max_pooling2d (MaxPooling2D) (None, 80, 64, 64)        0         \n",
      "_________________________________________________________________\n",
      "conv2d_1 (Conv2D)            (None, 80, 64, 32)        18464     \n",
      "_________________________________________________________________\n",
      "max_pooling2d_1 (MaxPooling2 (None, 40, 32, 32)        0         \n",
      "_________________________________________________________________\n",
      "conv2d_2 (Conv2D)            (None, 40, 32, 16)        4624      \n",
      "_________________________________________________________________\n",
      "max_pooling2d_2 (MaxPooling2 (None, 20, 16, 16)        0         \n",
      "_________________________________________________________________\n",
      "conv2d_3 (Conv2D)            (None, 20, 16, 4)         580       \n",
      "_________________________________________________________________\n",
      "max_pooling2d_3 (MaxPooling2 (None, 10, 8, 4)          0         \n",
      "_________________________________________________________________\n",
      "conv2d_4 (Conv2D)            (None, 10, 8, 1)          37        \n",
      "_________________________________________________________________\n",
      "flatten (Flatten)            (None, 80)                0         \n",
      "_________________________________________________________________\n",
      "dense (Dense)                (None, 80)                6480      \n",
      "_________________________________________________________________\n",
      "dense_1 (Dense)              (None, 40)                3240      \n",
      "_________________________________________________________________\n",
      "model_1 (Model)              (None, 160, 128, 3)       116203    \n",
      "=================================================================\n",
      "Total params: 151,420\n",
      "Trainable params: 151,420\n",
      "Non-trainable params: 0\n",
      "_________________________________________________________________\n"
     ]
    }
   ],
   "source": [
    "# VAE model statement\n",
    "model = Model(input_img,z_decoded)\n",
    "model.compile(optimizer='adam', loss='mean_squared_error')\n",
    "\n",
    "model.summary()"
   ]
  },
  {
   "cell_type": "code",
   "execution_count": 27,
   "metadata": {},
   "outputs": [
    {
     "name": "stdout",
     "output_type": "stream",
     "text": [
      "<class 'tensorflow.python.keras.engine.training.Model'>\n"
     ]
    }
   ],
   "source": [
    "model = keras.models.load_model(f'{filepath}')\n",
    "print(type(model))"
   ]
  },
  {
   "cell_type": "markdown",
   "metadata": {},
   "source": [
    "## Updating the weights of the Encoder part"
   ]
  },
  {
   "cell_type": "code",
   "execution_count": 28,
   "metadata": {},
   "outputs": [
    {
     "name": "stdout",
     "output_type": "stream",
     "text": [
      "Layer weights are successfully copied.\n",
      "Layer weights are successfully copied.\n",
      "Layer weights are successfully copied.\n",
      "Layer weights are successfully copied.\n",
      "Layer weights are successfully copied.\n",
      "Layer weights are successfully copied.\n",
      "Layer weights are successfully copied.\n",
      "Layer weights are successfully copied.\n",
      "Layer weights are successfully copied.\n",
      "Layer weights are successfully copied.\n",
      "Layer weights are successfully copied.\n",
      "Layer weights are successfully copied.\n",
      "Layer weights are successfully copied.\n",
      "Layer weights are successfully copied.\n"
     ]
    }
   ],
   "source": [
    "# Copy the layer weights from the base model to the target model\n",
    "for i, target_layer in enumerate(encoder.layers):\n",
    "    base_layer = model.layers[i]\n",
    "    target_layer.set_weights(base_layer.get_weights())\n",
    "\n",
    "# Verify if the weights are successfully copied\n",
    "for base_layer, target_layer in zip(model.layers[:len(encoder.layers)], encoder.layers):\n",
    "    base_weights = base_layer.get_weights()\n",
    "    target_weights = target_layer.get_weights()\n",
    "    for base_weight, target_weight in zip(base_weights, target_weights):\n",
    "        if (base_weight == target_weight).all():\n",
    "            print(\"Layer weights are successfully copied.\")\n",
    "        else:\n",
    "            print(\"Error: Layer weights are not copied correctly.\")\n"
   ]
  },
  {
   "cell_type": "markdown",
   "metadata": {},
   "source": [
    "These are the weights of a specific layer of the encoder model, AFTER copying the weights to it:"
   ]
  },
  {
   "cell_type": "code",
   "execution_count": 29,
   "metadata": {},
   "outputs": [
    {
     "name": "stdout",
     "output_type": "stream",
     "text": [
      "quantity of layers in the model:  13\n",
      "The weigths in the dense_1 is:  [<tf.Variable 'dense_1/kernel:0' shape=(80, 40) dtype=float32, numpy=\n",
      "array([[-0.10400404,  0.18159233,  0.01976633, ..., -0.15218487,\n",
      "         0.19475651, -0.09854026],\n",
      "       [ 0.22833656,  0.17342216, -0.02287393, ..., -0.20419474,\n",
      "         0.13762209, -0.03142049],\n",
      "       [-0.1468062 , -0.21499439, -0.18412386, ..., -0.13933845,\n",
      "         0.22378954,  0.03899439],\n",
      "       ...,\n",
      "       [-0.0008612 ,  0.15655415,  0.00049293, ..., -0.10853784,\n",
      "         0.10118984, -0.00136194],\n",
      "       [-0.00361612, -0.17145923, -0.06309832, ...,  0.14783414,\n",
      "         0.05033498, -0.23842335],\n",
      "       [ 0.01847731, -0.16843192, -0.23643282, ..., -0.0749932 ,\n",
      "         0.18300717, -0.0891355 ]], dtype=float32)>, <tf.Variable 'dense_1/bias:0' shape=(40,) dtype=float32, numpy=\n",
      "array([-0.01439496,  0.0337229 , -0.01796746,  0.0063692 , -0.0821178 ,\n",
      "       -0.1274954 ,  0.10440206,  0.04213955, -0.10308536,  0.05990963,\n",
      "       -0.0848579 ,  0.07913269, -0.07364701,  0.03111261,  0.06249646,\n",
      "        0.04404403,  0.03614415,  0.08296855,  0.02919561, -0.04258735,\n",
      "       -0.09925104,  0.08143263,  0.07219822,  0.04942549,  0.02783056,\n",
      "       -0.08070357, -0.092342  , -0.04945717, -0.05174932, -0.08433592,\n",
      "        0.0766668 , -0.06459076, -0.11536217,  0.10818826, -0.08067672,\n",
      "       -0.05187293, -0.09327292, -0.03830669,  0.07894517, -0.08876791],\n",
      "      dtype=float32)>]\n"
     ]
    }
   ],
   "source": [
    "layer_number = 12\n",
    "print(\"quantity of layers in the model: \", len(encoder.layers))\n",
    "print(\"The weigths in the\", encoder.layers[layer_number].name, \"is: \", encoder.layers[layer_number].weights)"
   ]
  },
  {
   "cell_type": "markdown",
   "metadata": {},
   "source": [
    "These are the weights of the same specific layer of the Autoencoder model, AFTER copying its weights:"
   ]
  },
  {
   "cell_type": "code",
   "execution_count": 30,
   "metadata": {},
   "outputs": [
    {
     "name": "stdout",
     "output_type": "stream",
     "text": [
      "quantity of layers in the model:  14\n",
      "The weigths in the dense_1 is:  [<tf.Variable 'dense_1/kernel:0' shape=(80, 40) dtype=float32, numpy=\n",
      "array([[-0.10400404,  0.18159233,  0.01976633, ..., -0.15218487,\n",
      "         0.19475651, -0.09854026],\n",
      "       [ 0.22833656,  0.17342216, -0.02287393, ..., -0.20419474,\n",
      "         0.13762209, -0.03142049],\n",
      "       [-0.1468062 , -0.21499439, -0.18412386, ..., -0.13933845,\n",
      "         0.22378954,  0.03899439],\n",
      "       ...,\n",
      "       [-0.0008612 ,  0.15655415,  0.00049293, ..., -0.10853784,\n",
      "         0.10118984, -0.00136194],\n",
      "       [-0.00361612, -0.17145923, -0.06309832, ...,  0.14783414,\n",
      "         0.05033498, -0.23842335],\n",
      "       [ 0.01847731, -0.16843192, -0.23643282, ..., -0.0749932 ,\n",
      "         0.18300717, -0.0891355 ]], dtype=float32)>, <tf.Variable 'dense_1/bias:0' shape=(40,) dtype=float32, numpy=\n",
      "array([-0.01439496,  0.0337229 , -0.01796746,  0.0063692 , -0.0821178 ,\n",
      "       -0.1274954 ,  0.10440206,  0.04213955, -0.10308536,  0.05990963,\n",
      "       -0.0848579 ,  0.07913269, -0.07364701,  0.03111261,  0.06249646,\n",
      "        0.04404403,  0.03614415,  0.08296855,  0.02919561, -0.04258735,\n",
      "       -0.09925104,  0.08143263,  0.07219822,  0.04942549,  0.02783056,\n",
      "       -0.08070357, -0.092342  , -0.04945717, -0.05174932, -0.08433592,\n",
      "        0.0766668 , -0.06459076, -0.11536217,  0.10818826, -0.08067672,\n",
      "       -0.05187293, -0.09327292, -0.03830669,  0.07894517, -0.08876791],\n",
      "      dtype=float32)>]\n"
     ]
    }
   ],
   "source": [
    "print(\"quantity of layers in the model: \", len(model.layers))\n",
    "print(\"The weigths in the\", model.layers[layer_number].name, \"is: \", model.layers[layer_number].weights)"
   ]
  },
  {
   "cell_type": "code",
   "execution_count": 31,
   "metadata": {},
   "outputs": [
    {
     "name": "stdout",
     "output_type": "stream",
     "text": [
      "Model: \"model\"\n",
      "_________________________________________________________________\n",
      "Layer (type)                 Output Shape              Param #   \n",
      "=================================================================\n",
      "input_1 (InputLayer)         [(None, 160, 128, 3)]     0         \n",
      "_________________________________________________________________\n",
      "conv2d (Conv2D)              (None, 160, 128, 64)      1792      \n",
      "_________________________________________________________________\n",
      "max_pooling2d (MaxPooling2D) (None, 80, 64, 64)        0         \n",
      "_________________________________________________________________\n",
      "conv2d_1 (Conv2D)            (None, 80, 64, 32)        18464     \n",
      "_________________________________________________________________\n",
      "max_pooling2d_1 (MaxPooling2 (None, 40, 32, 32)        0         \n",
      "_________________________________________________________________\n",
      "conv2d_2 (Conv2D)            (None, 40, 32, 16)        4624      \n",
      "_________________________________________________________________\n",
      "max_pooling2d_2 (MaxPooling2 (None, 20, 16, 16)        0         \n",
      "_________________________________________________________________\n",
      "conv2d_3 (Conv2D)            (None, 20, 16, 4)         580       \n",
      "_________________________________________________________________\n",
      "max_pooling2d_3 (MaxPooling2 (None, 10, 8, 4)          0         \n",
      "_________________________________________________________________\n",
      "conv2d_4 (Conv2D)            (None, 10, 8, 1)          37        \n",
      "_________________________________________________________________\n",
      "flatten (Flatten)            (None, 80)                0         \n",
      "_________________________________________________________________\n",
      "dense (Dense)                (None, 80)                6480      \n",
      "_________________________________________________________________\n",
      "dense_1 (Dense)              (None, 40)                3240      \n",
      "=================================================================\n",
      "Total params: 35,217\n",
      "Trainable params: 35,217\n",
      "Non-trainable params: 0\n",
      "_________________________________________________________________\n"
     ]
    }
   ],
   "source": [
    "encoder.summary()\n"
   ]
  },
  {
   "cell_type": "code",
   "execution_count": 32,
   "metadata": {},
   "outputs": [],
   "source": [
    "num_features = 40"
   ]
  },
  {
   "cell_type": "markdown",
   "metadata": {},
   "source": [
    "## Obtaining the KDE representation of the training set images "
   ]
  },
  {
   "cell_type": "code",
   "execution_count": 33,
   "metadata": {},
   "outputs": [],
   "source": [
    "def calc_encoded_imgs(batch_images):   \n",
    "    encoded_imgs_list=[]\n",
    "    for im in range(0, batch_images.shape[0]):\n",
    "        img  = batch_images[im]\n",
    "        img = img[np.newaxis, :,:,:]\n",
    "        encoded_img = encoder.predict([[img]])\n",
    "        # reconstruction_error = model.evaluate([reconstruction],[[img]], batch_size = 1)[0]    # The batch_size parameter for the moment can be supressed. Results were seen to be the same\n",
    "        # reconstruction_error = model.evaluate([reconstruction],[[img]])[0]                    # It included the [0] subscription but with this new model, the rec error is directly a float value, so no more need for subscription\n",
    "        encoded_imgs_list.append(encoded_img)   \n",
    "    return encoded_imgs_list"
   ]
  },
  {
   "cell_type": "code",
   "execution_count": 34,
   "metadata": {},
   "outputs": [
    {
     "name": "stderr",
     "output_type": "stream",
     "text": [
      "2023-08-20 23:37:22.484115: I tensorflow/stream_executor/platform/default/dso_loader.cc:44] Successfully opened dynamic library libcublas.so.10\n",
      "2023-08-20 23:37:22.693332: I tensorflow/stream_executor/platform/default/dso_loader.cc:44] Successfully opened dynamic library libcudnn.so.7\n"
     ]
    },
    {
     "name": "stdout",
     "output_type": "stream",
     "text": [
      "The list of rec. error contains  60 batches of rec. errors\n"
     ]
    }
   ],
   "source": [
    "encoded_imgs_list = []\n",
    "\n",
    "for i in range(len(train_generator)):                               #This will traverse the train generator the number of batches it contains\n",
    "    images_in_batch, images_in_batch2 = next(train_crops)           #As for each next step of the \"train_crops\" generator it exists one batch of the augmented and one batch of the orignial images, we perform twice the calc_recon_error() function\n",
    "    batch_input_images1 = images_in_batch[0]\n",
    "    encoded_imgs_list.append(calc_encoded_imgs(batch_input_images1))\n",
    "    batch_input_images2 = images_in_batch2[0]\n",
    "    encoded_imgs_list.append(calc_encoded_imgs(batch_input_images2))\n",
    "print(\"The list of rec. error contains \", len(encoded_imgs_list), \"batches of rec. errors\")"
   ]
  },
  {
   "cell_type": "code",
   "execution_count": 35,
   "metadata": {},
   "outputs": [
    {
     "name": "stdout",
     "output_type": "stream",
     "text": [
      "590\n"
     ]
    }
   ],
   "source": [
    "encoded_imgs_training = [item for sublist in encoded_imgs_list for item in sublist]\n",
    "print(len(encoded_imgs_training))"
   ]
  },
  {
   "cell_type": "code",
   "execution_count": 36,
   "metadata": {},
   "outputs": [
    {
     "name": "stdout",
     "output_type": "stream",
     "text": [
      "(590, 40)\n"
     ]
    }
   ],
   "source": [
    "encoded_imgs_training = np.array(encoded_imgs_training)\n",
    "encoded_imgs_training = encoded_imgs_training.reshape(encoded_imgs_training.shape[0],encoded_imgs_training.shape[2])\n",
    "print(encoded_imgs_training.shape)"
   ]
  },
  {
   "cell_type": "markdown",
   "metadata": {},
   "source": [
    "See that it is 590 length because it corresponds to all the images that belong to the training dataset multiplied by 2. Because it is considering as well the feature vector of those augmented images. The second length corresponds to the output shape of the model as specified in its structure at the beginning. For this case, we stated to work with 40 features."
   ]
  },
  {
   "cell_type": "markdown",
   "metadata": {},
   "source": [
    "See that it is not the exactly the same as computing directly the encoded images with the function \"predict_generator()\""
   ]
  },
  {
   "cell_type": "code",
   "execution_count": 37,
   "metadata": {},
   "outputs": [
    {
     "name": "stdout",
     "output_type": "stream",
     "text": [
      "WARNING:tensorflow:From /tmp/ipykernel_66618/756080382.py:2: Model.predict_generator (from tensorflow.python.keras.engine.training) is deprecated and will be removed in a future version.\n",
      "Instructions for updating:\n",
      "Please use Model.predict, which supports generators.\n",
      "(590, 40)\n"
     ]
    }
   ],
   "source": [
    "#Get encoded output of input images = Latent space\n",
    "encoded_images = encoder.predict_generator(train_crops, steps=len(train_generator)*2)\n",
    "print(encoded_images.shape)"
   ]
  },
  {
   "cell_type": "code",
   "execution_count": 38,
   "metadata": {},
   "outputs": [
    {
     "data": {
      "text/plain": [
       "array([[False, False, False, ..., False, False, False],\n",
       "       [False, False, False, ..., False, False, False],\n",
       "       [False, False, False, ..., False, False, False],\n",
       "       ...,\n",
       "       [False, False, False, ..., False, False, False],\n",
       "       [False, False, False, ..., False, False, False],\n",
       "       [False, False, False, ..., False, False, False]])"
      ]
     },
     "execution_count": 38,
     "metadata": {},
     "output_type": "execute_result"
    }
   ],
   "source": [
    "encoded_imgs_training == encoded_images"
   ]
  },
  {
   "cell_type": "markdown",
   "metadata": {},
   "source": [
    "We will work in this part with the encoded images obtained from the first approach, the one that is computed one by one of the training set images."
   ]
  },
  {
   "cell_type": "markdown",
   "metadata": {},
   "source": [
    "Obtaining the best bandwidth value"
   ]
  },
  {
   "cell_type": "code",
   "execution_count": 39,
   "metadata": {},
   "outputs": [
    {
     "data": {
      "text/html": [
       "<style>#sk-container-id-1 {color: black;background-color: white;}#sk-container-id-1 pre{padding: 0;}#sk-container-id-1 div.sk-toggleable {background-color: white;}#sk-container-id-1 label.sk-toggleable__label {cursor: pointer;display: block;width: 100%;margin-bottom: 0;padding: 0.3em;box-sizing: border-box;text-align: center;}#sk-container-id-1 label.sk-toggleable__label-arrow:before {content: \"▸\";float: left;margin-right: 0.25em;color: #696969;}#sk-container-id-1 label.sk-toggleable__label-arrow:hover:before {color: black;}#sk-container-id-1 div.sk-estimator:hover label.sk-toggleable__label-arrow:before {color: black;}#sk-container-id-1 div.sk-toggleable__content {max-height: 0;max-width: 0;overflow: hidden;text-align: left;background-color: #f0f8ff;}#sk-container-id-1 div.sk-toggleable__content pre {margin: 0.2em;color: black;border-radius: 0.25em;background-color: #f0f8ff;}#sk-container-id-1 input.sk-toggleable__control:checked~div.sk-toggleable__content {max-height: 200px;max-width: 100%;overflow: auto;}#sk-container-id-1 input.sk-toggleable__control:checked~label.sk-toggleable__label-arrow:before {content: \"▾\";}#sk-container-id-1 div.sk-estimator input.sk-toggleable__control:checked~label.sk-toggleable__label {background-color: #d4ebff;}#sk-container-id-1 div.sk-label input.sk-toggleable__control:checked~label.sk-toggleable__label {background-color: #d4ebff;}#sk-container-id-1 input.sk-hidden--visually {border: 0;clip: rect(1px 1px 1px 1px);clip: rect(1px, 1px, 1px, 1px);height: 1px;margin: -1px;overflow: hidden;padding: 0;position: absolute;width: 1px;}#sk-container-id-1 div.sk-estimator {font-family: monospace;background-color: #f0f8ff;border: 1px dotted black;border-radius: 0.25em;box-sizing: border-box;margin-bottom: 0.5em;}#sk-container-id-1 div.sk-estimator:hover {background-color: #d4ebff;}#sk-container-id-1 div.sk-parallel-item::after {content: \"\";width: 100%;border-bottom: 1px solid gray;flex-grow: 1;}#sk-container-id-1 div.sk-label:hover label.sk-toggleable__label {background-color: #d4ebff;}#sk-container-id-1 div.sk-serial::before {content: \"\";position: absolute;border-left: 1px solid gray;box-sizing: border-box;top: 0;bottom: 0;left: 50%;z-index: 0;}#sk-container-id-1 div.sk-serial {display: flex;flex-direction: column;align-items: center;background-color: white;padding-right: 0.2em;padding-left: 0.2em;position: relative;}#sk-container-id-1 div.sk-item {position: relative;z-index: 1;}#sk-container-id-1 div.sk-parallel {display: flex;align-items: stretch;justify-content: center;background-color: white;position: relative;}#sk-container-id-1 div.sk-item::before, #sk-container-id-1 div.sk-parallel-item::before {content: \"\";position: absolute;border-left: 1px solid gray;box-sizing: border-box;top: 0;bottom: 0;left: 50%;z-index: -1;}#sk-container-id-1 div.sk-parallel-item {display: flex;flex-direction: column;z-index: 1;position: relative;background-color: white;}#sk-container-id-1 div.sk-parallel-item:first-child::after {align-self: flex-end;width: 50%;}#sk-container-id-1 div.sk-parallel-item:last-child::after {align-self: flex-start;width: 50%;}#sk-container-id-1 div.sk-parallel-item:only-child::after {width: 0;}#sk-container-id-1 div.sk-dashed-wrapped {border: 1px dashed gray;margin: 0 0.4em 0.5em 0.4em;box-sizing: border-box;padding-bottom: 0.4em;background-color: white;}#sk-container-id-1 div.sk-label label {font-family: monospace;font-weight: bold;display: inline-block;line-height: 1.2em;}#sk-container-id-1 div.sk-label-container {text-align: center;}#sk-container-id-1 div.sk-container {/* jupyter's `normalize.less` sets `[hidden] { display: none; }` but bootstrap.min.css set `[hidden] { display: none !important; }` so we also need the `!important` here to be able to override the default hidden behavior on the sphinx rendered scikit-learn.org. See: https://github.com/scikit-learn/scikit-learn/issues/21755 */display: inline-block !important;position: relative;}#sk-container-id-1 div.sk-text-repr-fallback {display: none;}</style><div id=\"sk-container-id-1\" class=\"sk-top-container\"><div class=\"sk-text-repr-fallback\"><pre>GridSearchCV(estimator=KernelDensity(),\n",
       "             param_grid={&#x27;bandwidth&#x27;: array([1.e-05, 5.e-05, 1.e-04, 5.e-04, 1.e-03, 1.e-03, 5.e-03, 1.e-02,\n",
       "       1.e-01, 3.e-01, 5.e-01, 1.e+00, 2.e+00, 5.e+00])})</pre><b>In a Jupyter environment, please rerun this cell to show the HTML representation or trust the notebook. <br />On GitHub, the HTML representation is unable to render, please try loading this page with nbviewer.org.</b></div><div class=\"sk-container\" hidden><div class=\"sk-item sk-dashed-wrapped\"><div class=\"sk-label-container\"><div class=\"sk-label sk-toggleable\"><input class=\"sk-toggleable__control sk-hidden--visually\" id=\"sk-estimator-id-1\" type=\"checkbox\" ><label for=\"sk-estimator-id-1\" class=\"sk-toggleable__label sk-toggleable__label-arrow\">GridSearchCV</label><div class=\"sk-toggleable__content\"><pre>GridSearchCV(estimator=KernelDensity(),\n",
       "             param_grid={&#x27;bandwidth&#x27;: array([1.e-05, 5.e-05, 1.e-04, 5.e-04, 1.e-03, 1.e-03, 5.e-03, 1.e-02,\n",
       "       1.e-01, 3.e-01, 5.e-01, 1.e+00, 2.e+00, 5.e+00])})</pre></div></div></div><div class=\"sk-parallel\"><div class=\"sk-parallel-item\"><div class=\"sk-item\"><div class=\"sk-label-container\"><div class=\"sk-label sk-toggleable\"><input class=\"sk-toggleable__control sk-hidden--visually\" id=\"sk-estimator-id-2\" type=\"checkbox\" ><label for=\"sk-estimator-id-2\" class=\"sk-toggleable__label sk-toggleable__label-arrow\">estimator: KernelDensity</label><div class=\"sk-toggleable__content\"><pre>KernelDensity()</pre></div></div></div><div class=\"sk-serial\"><div class=\"sk-item\"><div class=\"sk-estimator sk-toggleable\"><input class=\"sk-toggleable__control sk-hidden--visually\" id=\"sk-estimator-id-3\" type=\"checkbox\" ><label for=\"sk-estimator-id-3\" class=\"sk-toggleable__label sk-toggleable__label-arrow\">KernelDensity</label><div class=\"sk-toggleable__content\"><pre>KernelDensity()</pre></div></div></div></div></div></div></div></div></div></div>"
      ],
      "text/plain": [
       "GridSearchCV(estimator=KernelDensity(),\n",
       "             param_grid={'bandwidth': array([1.e-05, 5.e-05, 1.e-04, 5.e-04, 1.e-03, 1.e-03, 5.e-03, 1.e-02,\n",
       "       1.e-01, 3.e-01, 5.e-01, 1.e+00, 2.e+00, 5.e+00])})"
      ]
     },
     "execution_count": 39,
     "metadata": {},
     "output_type": "execute_result"
    }
   ],
   "source": [
    "# Calculate KDE using sklearn\n",
    "from sklearn.model_selection import GridSearchCV\n",
    "from sklearn.neighbors import KernelDensity\n",
    "\n",
    "bandwidth_values = np.array([0.00001, 0.00005, 0.0001, 0.0005, 0.001, 0.001, 0.005, 0.01, 0.1, 0.3, 0.5, 1, 2, 5])\n",
    "kde = KernelDensity(kernel='gaussian')\n",
    "grid = GridSearchCV(kde, {'bandwidth': bandwidth_values})\n",
    "grid.fit(encoded_imgs_training)"
   ]
  },
  {
   "cell_type": "code",
   "execution_count": 40,
   "metadata": {},
   "outputs": [
    {
     "name": "stdout",
     "output_type": "stream",
     "text": [
      "0.1\n"
     ]
    }
   ],
   "source": [
    "best_bandwidth = grid.best_params_['bandwidth']\n",
    "print(best_bandwidth)"
   ]
  },
  {
   "cell_type": "code",
   "execution_count": 41,
   "metadata": {},
   "outputs": [],
   "source": [
    "kde = KernelDensity(kernel='gaussian', bandwidth=best_bandwidth).fit(encoded_imgs_training)"
   ]
  },
  {
   "cell_type": "code",
   "execution_count": 42,
   "metadata": {},
   "outputs": [],
   "source": [
    "density_vals = kde.score_samples(encoded_imgs_training)"
   ]
  },
  {
   "cell_type": "code",
   "execution_count": 43,
   "metadata": {},
   "outputs": [
    {
     "name": "stdout",
     "output_type": "stream",
     "text": [
      "[50.92950201 50.98935795 49.70640091 50.14816681 50.25202409 51.00220021\n",
      " 51.69948439 51.61331707 51.56722169 51.50933595 50.99880785 51.00750229\n",
      " 49.70111615 50.14832745 50.21177309 50.74952487 51.6695327  51.67475128\n",
      " 51.68736533 51.4764616  51.61032717 51.44085846 51.62972488 51.29743441\n",
      " 49.8919881  50.8371777  50.87374718 50.14343192 50.3897366  51.28306841\n",
      " 51.62707499 51.26926204 51.56935317 51.35197942 49.84630392 50.72874562\n",
      " 50.7745087  50.24961072 50.24193543 51.391238   51.60611435 51.55348906\n",
      " 49.7823502  49.68574191 50.05793565 50.43192846 49.66917328 49.60774511\n",
      " 49.88154367 50.0607754  51.01465144 51.26710341 49.80708737 49.6864212\n",
      " 50.01408156 50.48115431 49.68910108 49.61081633 50.01467637 50.02800685\n",
      " 50.35372669 49.64215419 49.66885441 49.75341079 49.69330977 49.92768769\n",
      " 50.40776411 50.38279934 50.51688251 50.47778617 50.29220684 49.6404912\n",
      " 49.65381754 49.72590323 49.77019163 49.75375962 50.15025403 50.48966772\n",
      " 50.50310467 50.36514125 50.23592062 51.5150036  51.53601823 51.23713645\n",
      " 51.33336348 51.54540538 51.16418124 50.96397822 50.36238134 49.82574634\n",
      " 50.13454879 51.53013292 51.44159766 51.3953285  51.36690021 51.59073182\n",
      " 51.35851368 50.99026826 50.46178959 49.75920735 50.0500719  50.4381089\n",
      " 51.46028853 50.91287904 51.37091183 51.2675195  49.94200928 49.8570958\n",
      " 49.59214246 49.68080206 49.98045904 50.50284923 51.45053662 50.75425771\n",
      " 50.97183611 50.79753026 50.00058345 49.36906806 49.4787976  49.67352691\n",
      " 49.5999405  49.65027762 50.03223969 50.72636204 50.42347522 50.57184449\n",
      " 50.79540224 50.57720789 49.60569219 50.82687065 49.46090201 49.66691593\n",
      " 50.04027946 50.82526394 50.77746205 50.51597374 50.78765173 50.53011401\n",
      " 49.61911213 50.88910774 50.60277623 50.73694225 50.87423452 51.01137511\n",
      " 50.30230211 50.02233938 50.18453573 50.30265232 49.72425253 49.72673873\n",
      " 50.92629062 51.00691338 50.77092156 50.96465907 50.2498974  50.01553186\n",
      " 50.35167898 50.28588936 49.52050675 49.65174351 49.60705575 50.61430383\n",
      " 49.95376294 49.57773304 49.5088649  49.68887427 49.593114   49.82226367\n",
      " 49.59982405 49.52820393 49.64583862 50.91364657 50.09782327 49.58168714\n",
      " 49.51419775 49.69961498 49.58973322 49.78321246 49.61053302 49.50463341\n",
      " 49.72373061 50.24289344 50.32950866 49.31212167 49.42646468 49.64224502\n",
      " 49.35135236 49.71660786 49.82025081 49.80322515 49.84826576 50.26048334\n",
      " 50.2879473  49.46017508 49.42033344 49.64236055 49.35135208 49.81734893\n",
      " 49.76713188 49.69229903 49.87045687 49.67098079 49.85865877 50.73814905\n",
      " 50.38456751 50.58298746 49.65044868 49.49295535 49.71000197 49.84609252\n",
      " 49.88707009 49.70801856 49.78664455 50.70928383 50.559851   50.59549246\n",
      " 49.65043484 49.49295535 49.7114742  49.87586141 49.80769642 49.3896965\n",
      " 49.69502181 49.81335417 50.2125814  49.98574649 49.81454945 49.55412593\n",
      " 49.64312804 49.72191899 49.34399555 49.7933304  49.76605913 49.68631446\n",
      " 50.12379521 49.95676389 49.63731678 49.52414709 49.6627438  49.6986688\n",
      " 50.07874336 50.08685954 49.79658742 49.48077085 49.6392879  49.62021436\n",
      " 49.6047967  49.68703434 49.67388071 49.72958102 50.03876801 50.10613402\n",
      " 49.78289655 49.50313217 49.63985737 49.61489816 49.60466955 49.85345017\n",
      " 49.74247235 49.76186896 51.21690917 51.07245124 51.07403902 50.44555033\n",
      " 50.54609198 51.30688696 51.38068214 51.2126963  51.3454765  51.42395576\n",
      " 51.16516761 50.96161905 51.03610169 50.41824985 50.52233702 51.21202169\n",
      " 51.3490939  51.31753909 51.21587066 51.4611185  51.15088136 51.38044863\n",
      " 50.38742304 50.06038775 49.7868927  49.7031859  50.10412023 49.85186986\n",
      " 50.4205598  50.67409716 51.34904857 51.35407443 50.36952019 49.9743584\n",
      " 49.87531225 49.86906771 50.11317982 49.77686423 50.26129712 50.76922271\n",
      " 50.77913392 49.56437246 49.63197509 49.63282545 49.7213663  49.35560406\n",
      " 49.62497383 49.79049572 50.02124271 50.76623894 50.87680955 49.42007417\n",
      " 49.60980928 49.62444091 49.71339804 49.42329898 49.69578819 49.62030186\n",
      " 50.0188704  50.51534085 50.62812699 49.95307863 50.22520228 50.35510785\n",
      " 50.02908251 50.00878032 50.88963489 49.39906183 50.31386521 49.59237516\n",
      " 50.71056876 50.0585583  50.22926071 50.32067581 50.07309299 50.00846487\n",
      " 50.84630718 49.40431861 50.36340858 49.5912298  50.53204721 49.59863177\n",
      " 49.66014771 49.5614914  49.46522524 50.33267529 50.15040628 49.51934919\n",
      " 49.42062734 49.8904595  50.59551807 49.59863495 49.66154866 49.57785346\n",
      " 49.45056253 50.28636312 49.64789602 49.51934416 49.23220698 49.71943149\n",
      " 49.96777495 50.23691131 49.9734362  49.51639778 50.23488663 50.43381807\n",
      " 50.63161841 50.9710553  51.06166929 51.03307003 50.12253553 50.06800372\n",
      " 50.12288344 49.65012855 50.25407243 50.37886526 50.57458241 50.9244859\n",
      " 50.94468606 51.16649533 51.18348908 50.55178733 50.38891734 50.93345493\n",
      " 49.87478099 49.83975579 49.69315046 50.97623299 50.61544597 50.85946118\n",
      " 51.1947343  50.55492891 50.29687596 50.82833653 49.86715528 49.82792942\n",
      " 49.67359303 50.82419524 50.66942096 51.02227887 51.15257464 50.15941958\n",
      " 49.72925189 50.22980593 50.22226279 50.32440649 49.98486021 49.69977916\n",
      " 49.53623511 50.15938224 51.01739892 50.12679935 50.32678861 49.52379883\n",
      " 50.16724025 50.34445185 50.0413231  49.67080669 49.62370896 50.20030515\n",
      " 49.60689504 49.84112986 50.36492142 50.09107329 49.41934798 49.32986307\n",
      " 49.11046398 49.55139407 50.80995347 50.79749458 49.50028324 50.25240747\n",
      " 50.33747888 50.27469969 49.41221549 49.32116123 49.02311906 49.55131323\n",
      " 50.85859225 50.64409071 50.77134049 50.16581572 50.54029332 49.57276505\n",
      " 49.64183351 50.12956045 49.84453706 50.36924005 50.35857133 50.67263155\n",
      " 50.72994138 50.23318796 50.74922031 49.57073146 49.63134727 50.02479025\n",
      " 49.98041919 50.25511455 50.28716288 50.5370336  50.19277782 50.59018219\n",
      " 50.62312217 50.22587642 50.51310819 50.45783372 50.48478123 50.26268975\n",
      " 50.18299479 49.65551062 50.13540869 50.49448318 50.49070195 50.10562457\n",
      " 50.46183041 50.55736389 50.45412573 50.21492324 50.09266012 49.63889988\n",
      " 50.75480103 50.60930084 50.79347478 50.38599727 50.44875205 50.03947683\n",
      " 50.15590187 50.02313548 49.4185588  50.08634116 50.73278713 50.58295796\n",
      " 50.843798   50.4864562  50.52797644 50.00410468 50.23818071 50.01432728\n",
      " 50.09145818 50.31811506 50.04869226 50.10684564 50.04338811 49.2016178\n",
      " 49.20320269 49.71870536 49.68330005 49.55929046 50.25554146 51.3948602\n",
      " 49.99552745 50.32244651 49.41534918 49.07211447 49.12463507 49.71162959\n",
      " 49.70298226 49.55160819 50.29416794 51.41121514 51.33408551 51.18393287\n",
      " 50.49552936 50.14354608 50.1215983  51.29463984 51.52381968 51.22363336\n",
      " 51.38558722 51.38400262 51.24460826 51.31750389 50.65948844 50.15304916\n",
      " 50.13973357 51.19768144 51.36587291 51.17801465 51.50664588 51.36238293\n",
      " 51.43327423 49.61011412 50.22684736 49.74962581 50.25558947 50.53271828\n",
      " 50.68760449 50.4447026  50.15832172 51.02547136 51.39146085 49.61012156\n",
      " 50.20788314 49.77565103 50.04927897 50.63857478 50.62393503 50.63666234\n",
      " 50.20789375 50.97352902 50.85206767 51.08232388 51.10117127 51.00903959\n",
      " 50.97519621 50.95777606 51.12712078 51.00512256 51.00551833 50.81826398\n",
      " 50.3932017  50.14469134 50.04648644 50.23986941 50.03581504 51.05238558\n",
      " 51.03920379 50.91070047 50.85743745 50.99792536 50.34875492 50.22636656\n",
      " 49.86943983 50.11341293 49.96367667 50.94244379 51.11060226 50.93725475\n",
      " 50.85732724 50.86130596]\n",
      "(590,)\n"
     ]
    }
   ],
   "source": [
    "print(density_vals)\n",
    "print(density_vals.shape)"
   ]
  },
  {
   "cell_type": "markdown",
   "metadata": {},
   "source": [
    "The KDE score outputs a log likelihood, but here computing the exp of \"density_vals\" results in too large values to work with. Hence we stay with the log likelihood of the KDE score samples."
   ]
  },
  {
   "cell_type": "code",
   "execution_count": 44,
   "metadata": {},
   "outputs": [
    {
     "name": "stdout",
     "output_type": "stream",
     "text": [
      "The avg of the density values is:  50.287130311800134\n",
      "The stdev_density of the density values is:  0.6243650424932412\n"
     ]
    }
   ],
   "source": [
    "average_density = np.mean(density_vals)\n",
    "stdev_density = np.std(density_vals)\n",
    "print(\"The avg of the density values is: \", average_density)\n",
    "print(\"The stdev_density of the density values is: \", stdev_density)"
   ]
  },
  {
   "cell_type": "code",
   "execution_count": 45,
   "metadata": {},
   "outputs": [
    {
     "data": {
      "image/png": "[encoded data removed]",
      "text/plain": [
       "<Figure size 640x480 with 1 Axes>"
      ]
     },
     "metadata": {},
     "output_type": "display_data"
    }
   ],
   "source": [
    "val = 0. # this is the value where you want the data to appear on the y-axis.\n",
    "plt.plot(density_vals, np.zeros_like(density_vals) + val, 'x')\n",
    "plt.show()"
   ]
  },
  {
   "cell_type": "code",
   "execution_count": 46,
   "metadata": {},
   "outputs": [
    {
     "data": {
      "image/png": "[encoded data removed]",
      "text/plain": [
       "<Figure size 640x480 with 1 Axes>"
      ]
     },
     "metadata": {},
     "output_type": "display_data"
    }
   ],
   "source": [
    "bins = np.linspace(48, 52, 50)\n",
    "plt.hist(density_vals, bins, alpha=0.5, label='KDE scores')\n",
    "plt.legend(loc='upper right')\n",
    "\n",
    "# Calculate average and standard deviation\n",
    "average = np.mean(density_vals)\n",
    "std = np.std(density_vals)\n",
    "\n",
    "# Plot average line\n",
    "plt.axvline(x=average, color='red', linestyle='--', label='Average')\n",
    "\n",
    "# Plot lines for standard deviation\n",
    "plt.axvline(x=average + std, color='black', linestyle=':', label='Average + Std')\n",
    "plt.axvline(x=average - std, color='black', linestyle=':', label='Average - Std')\n",
    "\n",
    "plt.legend()\n",
    "\n",
    "plt.show()"
   ]
  },
  {
   "cell_type": "markdown",
   "metadata": {},
   "source": [
    "# Function to check if an image contains anomalies"
   ]
  },
  {
   "cell_type": "markdown",
   "metadata": {},
   "source": [
    "Based on the previously found score of the KDE samples, its average and its standard deviation values, it can be built a function that maps the KDE scores to a probability value of an image being considered as an anomaly or not.\n",
    "\n",
    "If the a given KDE score is outside the range of the standard deviation sum and subtraction to the average values, then that KDE score has more than 50% chance to be considered as an anomaly image."
   ]
  },
  {
   "cell_type": "code",
   "execution_count": 47,
   "metadata": {},
   "outputs": [],
   "source": [
    "def ranges_mapper(value, leftMin, leftMax, rightMin, rightMax):\n",
    "    # if(value>leftMax):\n",
    "    #     return rightMax\n",
    "    # Figure out how 'wide' each range is\n",
    "    leftSpan = leftMax - leftMin\n",
    "    rightSpan = rightMax - rightMin\n",
    "\n",
    "    # Convert the left range into a 0-1 range (float)\n",
    "    valueScaled = float(value - leftMin) / float(leftSpan)\n",
    "\n",
    "    # Convert the 0-1 range into a value in the right range.\n",
    "    return rightMin + (valueScaled * rightSpan)"
   ]
  },
  {
   "cell_type": "code",
   "execution_count": 48,
   "metadata": {},
   "outputs": [],
   "source": [
    "def map_kde2prob_list(input_list):\n",
    "    threshold_NOanomaly = average_density          # The mean of the density values corresponding to the non-anomaly images\n",
    "    std_dev_NOanomaly = stdev_density            # The std deviation of the density values corresponding to the non-anomaly images\n",
    "\n",
    "    prob_score_list = []\n",
    "\n",
    "    for i in range (len(input_list)):\n",
    "        score_NOanomaly = input_list[i] - threshold_NOanomaly\n",
    "\n",
    "        perc_NOanomaly = ranges_mapper(abs(score_NOanomaly), 0, std_dev_NOanomaly, 0, 50)\n",
    "        if perc_NOanomaly<0:\n",
    "            perc_NOanomaly = 0\n",
    "        if perc_NOanomaly>100:\n",
    "            perc_NOanomaly = 100\n",
    "        prob_score_list.append(perc_NOanomaly)\n",
    "    return prob_score_list"
   ]
  },
  {
   "cell_type": "code",
   "execution_count": 49,
   "metadata": {},
   "outputs": [],
   "source": [
    "def map_kde2prob(value):\n",
    "    threshold_NOanomaly = average_density          # The mean of the density values corresponding to the non-anomaly images\n",
    "    std_dev_NOanomaly = stdev_density            # The std deviation of the density values corresponding to the non-anomaly images\n",
    "\n",
    "    score_NOanomaly = value - threshold_NOanomaly\n",
    "\n",
    "    perc_NOanomaly = ranges_mapper(abs(score_NOanomaly), 0, std_dev_NOanomaly, 0, 50)\n",
    "    if perc_NOanomaly<0:\n",
    "        perc_NOanomaly = 0\n",
    "    if perc_NOanomaly>100:\n",
    "        perc_NOanomaly = 100\n",
    "    \n",
    "    prob_score = perc_NOanomaly\n",
    "    return prob_score"
   ]
  },
  {
   "cell_type": "code",
   "execution_count": 50,
   "metadata": {},
   "outputs": [
    {
     "name": "stdout",
     "output_type": "stream",
     "text": [
      "49.999999999999766\n"
     ]
    }
   ],
   "source": [
    "print(map_kde2prob(average_density+stdev_density))"
   ]
  },
  {
   "cell_type": "markdown",
   "metadata": {},
   "source": [
    "# Validating the performance of the model with KDE score directly"
   ]
  },
  {
   "cell_type": "markdown",
   "metadata": {},
   "source": [
    "We will use the validation data set to find the best threshold value for predicting an image as anomaly or non-anomaly."
   ]
  },
  {
   "cell_type": "code",
   "execution_count": 51,
   "metadata": {},
   "outputs": [],
   "source": [
    "def calc_kde_samples_for_val_eval(batch_images,batch_labels):   \n",
    "    kde_score_list=[]\n",
    "    labels_list = []\n",
    "    for im in range(0, batch_images.shape[0]):\n",
    "    # for im in range(1):\n",
    "        label = batch_labels[im]\n",
    "        img  = batch_images[im]\n",
    "        img = img[np.newaxis, :,:,:]\n",
    "        encoded_img = encoder.predict([[img]])\n",
    "        # print(\"The encoded_img shape is: \", encoded_img.shape)\n",
    "        # reconstruction_error = model.evaluate([reconstruction],[[img]], batch_size = 1)[0]    # The batch_size parameter for the moment can be supressed. Results were seen to be the same\n",
    "        # reconstruction_error = model.evaluate([reconstruction],[[img]])[0]                    # It included the [0] subscription but with this new model, the rec error is directly a float value, so no more need for subscription\n",
    "        density_val = kde.score_samples(encoded_img)\n",
    "        kde_score_list.append(density_val)   \n",
    "        labels_list.append(label)\n",
    "    return kde_score_list, labels_list"
   ]
  },
  {
   "cell_type": "code",
   "execution_count": 52,
   "metadata": {},
   "outputs": [
    {
     "name": "stdout",
     "output_type": "stream",
     "text": [
      "The list of kde scores list contains  3 batches of rec. errors\n"
     ]
    }
   ],
   "source": [
    "kde_scores_list = []\n",
    "labels_list = []\n",
    "for i in range(len(validation_generator_for_threshold)):                               #This will traverse the train generator the number of batches it contains\n",
    "    images_in_batch, images_labels = next(val_crops_for_threshold)           #As for each next step of the \"train_crops\" generator it exists one batch of the augmented and one batch of the orignial images, we perform twice the calc_recon_error() function\n",
    "    kde_scores, labels = calc_kde_samples_for_val_eval(images_in_batch,images_labels)\n",
    "    kde_scores_list.append(kde_scores)\n",
    "    labels_list.append(labels)\n",
    "    \n",
    "print(\"The list of kde scores list contains \", len(kde_scores_list), \"batches of rec. errors\")"
   ]
  },
  {
   "cell_type": "code",
   "execution_count": 53,
   "metadata": {},
   "outputs": [
    {
     "name": "stdout",
     "output_type": "stream",
     "text": [
      "[[array([49.09942817]), array([49.72763568]), array([50.84972639]), array([50.47881571]), array([51.37865007]), array([50.4933984]), array([49.3021503]), array([49.0572674]), array([46.29300191]), array([46.77449642])], [array([51.08169262]), array([51.16367856]), array([49.98982493]), array([51.05573643]), array([49.89672326]), array([49.29017212]), array([45.93798546]), array([49.73438608]), array([51.32960684]), array([47.56790025])], [array([48.08335203]), array([47.4019305]), array([39.60001281]), array([46.09183701]), array([47.24054727]), array([41.1668]), array([46.58686407]), array([46.69060017]), array([46.34826198]), array([46.64204157])]]\n"
     ]
    }
   ],
   "source": [
    "print(kde_scores_list)"
   ]
  },
  {
   "cell_type": "code",
   "execution_count": 54,
   "metadata": {},
   "outputs": [
    {
     "name": "stdout",
     "output_type": "stream",
     "text": [
      "The kde scores list is:  [49.099428173576705, 49.72763567839343, 50.84972639165524, 50.47881571428303, 51.37865006677926, 50.493398404738755, 49.302150302002815, 49.05726739518682, 46.293001912231986, 46.774496417350555, 51.08169261919457, 51.16367855639201, 49.98982492609657, 51.055736425369126, 49.89672325979768, 49.290172120299445, 45.9379854551961, 49.73438608262956, 51.32960683873393, 47.567900253141296, 48.083352033784244, 47.40193049891009, 39.60001280603536, 46.09183701465492, 47.24054726708579, 41.16680000282252, 46.58686406724378, 46.690600173023235, 46.34826198277665, 46.64204157268865]\n",
      "The ground truth labels are:  [0.0, 0.0, 0.0, 0.0, 0.0, 0.0, 0.0, 0.0, 0.0, 0.0, 0.0, 0.0, 0.0, 0.0, 0.0, 0.0, 0.0, 0.0, 0.0, 0.0, 1.0, 1.0, 1.0, 1.0, 1.0, 1.0, 1.0, 1.0, 1.0, 1.0]\n"
     ]
    }
   ],
   "source": [
    "kde_scores_validation = [item[0] for sublist in kde_scores_list for item in sublist]\n",
    "y_true = [item for sublist in labels_list for item in sublist]\n",
    "print(\"The kde scores list is: \", kde_scores_validation)\n",
    "print(\"The ground truth labels are: \", y_true)"
   ]
  },
  {
   "cell_type": "markdown",
   "metadata": {},
   "source": [
    "Let's compute the ROC and AUC score out of directly the KDE scores obtained from the images of the validation data set."
   ]
  },
  {
   "cell_type": "code",
   "execution_count": 55,
   "metadata": {},
   "outputs": [
    {
     "name": "stdout",
     "output_type": "stream",
     "text": [
      "AUC =  0.09499999999999999\n"
     ]
    }
   ],
   "source": [
    "from sklearn import metrics\n",
    "print('AUC = ', metrics.roc_auc_score(y_true, kde_scores_validation))"
   ]
  },
  {
   "cell_type": "code",
   "execution_count": 56,
   "metadata": {},
   "outputs": [
    {
     "data": {
      "image/png": "[encoded data removed]",
      "text/plain": [
       "<Figure size 640x480 with 1 Axes>"
      ]
     },
     "metadata": {},
     "output_type": "display_data"
    }
   ],
   "source": [
    "fpr, tpr, thresholds = metrics.roc_curve(y_true, kde_scores_validation)\n",
    "plt.plot(fpr, tpr, marker='.', label='AUROC = %0.3f' % metrics.roc_auc_score(y_true, kde_scores_validation))\n",
    "# Title\n",
    "plt.title('ROC Plot')\n",
    "# Axis labels\n",
    "plt.xlabel('False Positive Rate')\n",
    "plt.ylabel('True Positive Rate')\n",
    "# Show legend\n",
    "plt.legend() # \n",
    "# Show plot\n",
    "plt.show()"
   ]
  },
  {
   "cell_type": "code",
   "execution_count": 58,
   "metadata": {},
   "outputs": [
    {
     "name": "stdout",
     "output_type": "stream",
     "text": [
      "The fpr is:  [0.   0.05 0.8  0.8  0.85 0.85 0.9  0.9  0.95 0.95 1.   1.  ]\n",
      "The tpr is:  [0.  0.  0.  0.1 0.1 0.3 0.3 0.7 0.7 0.8 0.8 1. ]\n",
      "The thresholds are:  [52.37865007 51.37865007 49.0572674  48.08335203 47.56790025 47.24054727\n",
      " 46.77449642 46.34826198 46.29300191 46.09183701 45.93798546 39.60001281]\n"
     ]
    }
   ],
   "source": [
    "print(\"The fpr is: \", fpr)\n",
    "print(\"The tpr is: \", tpr)\n",
    "print(\"The thresholds are: \", thresholds)"
   ]
  },
  {
   "cell_type": "markdown",
   "metadata": {},
   "source": [
    "The best threshold value for this is:39.59637982, let's asses this."
   ]
  },
  {
   "cell_type": "code",
   "execution_count": 59,
   "metadata": {},
   "outputs": [],
   "source": [
    "def pred_label_onProb(probs_list, prob_threshold):\n",
    "    pred_based_onProb = []\n",
    "    for i in range (len(probs_list)):\n",
    "        if probs_list[i] > prob_threshold:\n",
    "            prediction = 1                          ## Stands for classifiaction of anomaly bottle\n",
    "        else:\n",
    "            prediction = 0\n",
    "        pred_based_onProb.append(prediction)\n",
    "    return pred_based_onProb"
   ]
  },
  {
   "cell_type": "code",
   "execution_count": 60,
   "metadata": {},
   "outputs": [],
   "source": [
    "# from tensorflow.keras.metrics import Precision, Recall, BinaryAccuracy, SpecificityAtSensitivity\n",
    "from sklearn.metrics import confusion_matrix"
   ]
  },
  {
   "cell_type": "code",
   "execution_count": 61,
   "metadata": {},
   "outputs": [],
   "source": [
    "best_threshold_approach1 = 39.59637982"
   ]
  },
  {
   "cell_type": "code",
   "execution_count": 62,
   "metadata": {},
   "outputs": [
    {
     "name": "stdout",
     "output_type": "stream",
     "text": [
      "[[ 0 20]\n",
      " [ 0 10]]\n",
      "The FPR values are:  1.0\n",
      "The TPR values are:  1.0\n",
      "Using the threshold =  39.59637982\n"
     ]
    }
   ],
   "source": [
    "conf_matrix = confusion_matrix(y_true, pred_label_onProb(kde_scores_validation, best_threshold_approach1))\n",
    "print(conf_matrix)\n",
    "_tp = conf_matrix[1, 1]\n",
    "_fn = conf_matrix[1, 0]\n",
    "_fp = conf_matrix[0, 1]\n",
    "_tn = conf_matrix[0, 0]\n",
    "_tpr = _tp/(_tp+_fn)\n",
    "_fpr = _fp / (_tn + _fp)\n",
    "print(\"The FPR values are: \", _fpr)\n",
    "print(\"The TPR values are: \", _tpr)\n",
    "print(\"Using the threshold = \", best_threshold_approach1)"
   ]
  },
  {
   "cell_type": "markdown",
   "metadata": {},
   "source": [
    "# Validating the performance of the model with the mapping of the kde scores to a probability value"
   ]
  },
  {
   "cell_type": "code",
   "execution_count": 63,
   "metadata": {},
   "outputs": [
    {
     "name": "stdout",
     "output_type": "stream",
     "text": [
      "The probability list is:  [95.11279919521488, 44.805089597305326, 45.05345763822091, 15.350427188992684, 87.41038340490853, 16.518228832522656, 78.87853601348775, 98.48909154988664, 100, 100, 63.629627967443206, 70.19517309069737, 23.808618794251675, 61.5510207377852, 31.26432659037586, 79.83776506125265, 100, 44.264508064331174, 83.48293514087007, 100, 100, 100, 100, 100, 100, 100, 100, 100, 100, 100]\n",
      "The ground truth labels are:  [0.0, 0.0, 0.0, 0.0, 0.0, 0.0, 0.0, 0.0, 0.0, 0.0, 0.0, 0.0, 0.0, 0.0, 0.0, 0.0, 0.0, 0.0, 0.0, 0.0, 1.0, 1.0, 1.0, 1.0, 1.0, 1.0, 1.0, 1.0, 1.0, 1.0]\n"
     ]
    }
   ],
   "source": [
    "probs_list = map_kde2prob_list(kde_scores_validation)\n",
    "print(\"The probability list is: \", probs_list)\n",
    "print(\"The ground truth labels are: \", y_true)"
   ]
  },
  {
   "cell_type": "code",
   "execution_count": 64,
   "metadata": {},
   "outputs": [
    {
     "name": "stdout",
     "output_type": "stream",
     "text": [
      "AUC =  0.9\n"
     ]
    }
   ],
   "source": [
    "from sklearn import metrics\n",
    "print('AUC = ', metrics.roc_auc_score(y_true, probs_list))"
   ]
  },
  {
   "cell_type": "code",
   "execution_count": 65,
   "metadata": {},
   "outputs": [
    {
     "data": {
      "image/png": "[encoded data removed]",
      "text/plain": [
       "<Figure size 640x480 with 1 Axes>"
      ]
     },
     "metadata": {},
     "output_type": "display_data"
    }
   ],
   "source": [
    "fpr, tpr, thresholds = metrics.roc_curve(y_true, probs_list)\n",
    "plt.plot(fpr, tpr, marker='.', label='AUROC = %0.3f' % metrics.roc_auc_score(y_true, probs_list))\n",
    "# Title\n",
    "plt.title('ROC Plot')\n",
    "# Axis labels\n",
    "plt.xlabel('False Positive Rate')\n",
    "plt.ylabel('True Positive Rate')\n",
    "# Show legend\n",
    "plt.legend() # \n",
    "# Show plot\n",
    "plt.show()"
   ]
  },
  {
   "cell_type": "code",
   "execution_count": 66,
   "metadata": {},
   "outputs": [
    {
     "name": "stdout",
     "output_type": "stream",
     "text": [
      "The fpr is:  [0.  0.2 1. ]\n",
      "The tpr is:  [0. 1. 1.]\n",
      "The thresholds are:  [101.         100.          15.35042719]\n"
     ]
    }
   ],
   "source": [
    "print(\"The fpr is: \", fpr)\n",
    "print(\"The tpr is: \", tpr)\n",
    "print(\"The thresholds are: \", thresholds)"
   ]
  },
  {
   "cell_type": "markdown",
   "metadata": {},
   "source": [
    "The best threshold in terms of FPR and TPR is 99.7 .  Let's asses that."
   ]
  },
  {
   "cell_type": "code",
   "execution_count": 75,
   "metadata": {},
   "outputs": [],
   "source": [
    "best_threshold_approach2 = 99.7"
   ]
  },
  {
   "cell_type": "code",
   "execution_count": 76,
   "metadata": {},
   "outputs": [
    {
     "name": "stdout",
     "output_type": "stream",
     "text": [
      "[[16  4]\n",
      " [ 0 10]]\n",
      "The FPR values are:  0.2\n",
      "The TPR values are:  1.0\n",
      "Using the threshold =   99.7\n"
     ]
    }
   ],
   "source": [
    "conf_matrix = confusion_matrix(y_true, pred_label_onProb(probs_list,  best_threshold_approach2))\n",
    "print(conf_matrix)\n",
    "_tp = conf_matrix[1, 1]\n",
    "_fn = conf_matrix[1, 0]\n",
    "_fp = conf_matrix[0, 1]\n",
    "_tn = conf_matrix[0, 0]\n",
    "_tpr = _tp/(_tp+_fn)\n",
    "_fpr = _fp / (_tn + _fp)\n",
    "print(\"The FPR values are: \", _fpr)\n",
    "print(\"The TPR values are: \", _tpr)\n",
    "print(\"Using the threshold =  \", best_threshold_approach2)"
   ]
  },
  {
   "cell_type": "markdown",
   "metadata": {},
   "source": [
    "# Evaluating the model. With the threhsold value of the direct reconstruction error"
   ]
  },
  {
   "cell_type": "code",
   "execution_count": 77,
   "metadata": {},
   "outputs": [
    {
     "name": "stdout",
     "output_type": "stream",
     "text": [
      "The list of rec. error contains  3 batches of rec. errors\n"
     ]
    }
   ],
   "source": [
    "kde_scores_list_eval = []\n",
    "labels_list_eval = []\n",
    "for i in range(len(test_set_generator)):                               #This will traverse the train generator the number of batches it contains\n",
    "    images_in_batch, images_labels = next(test_crops)           #As for each next step of the \"train_crops\" generator it exists one batch of the augmented and one batch of the orignial images, we perform twice the calc_recon_error() function\n",
    "    kde_scores, labels = calc_kde_samples_for_val_eval(images_in_batch,images_labels)\n",
    "    kde_scores_list_eval.append(kde_scores)\n",
    "    labels_list_eval.append(labels)\n",
    "    \n",
    "print(\"The list of rec. error contains \", len(kde_scores_list_eval), \"batches of rec. errors\")"
   ]
  },
  {
   "cell_type": "code",
   "execution_count": 78,
   "metadata": {},
   "outputs": [
    {
     "name": "stdout",
     "output_type": "stream",
     "text": [
      "[[array([48.99210696]), array([51.11216775]), array([51.22230389]), array([49.71149984]), array([50.74561223]), array([47.8189834]), array([48.80182063]), array([44.50761916]), array([47.55903104]), array([48.11452086])], [array([40.37550648]), array([50.21190453]), array([41.22214493]), array([48.90395854]), array([47.96144633]), array([49.83489656]), array([48.72451697]), array([47.5140479]), array([50.50458364]), array([49.94311767])], [array([47.33264818]), array([47.76854324]), array([45.49533559]), array([44.10555957]), array([46.24949396]), array([43.06307243]), array([45.7434014]), array([45.13237821]), array([48.3090015]), array([46.00077531])]]\n"
     ]
    }
   ],
   "source": [
    "print(kde_scores_list_eval)"
   ]
  },
  {
   "cell_type": "code",
   "execution_count": 79,
   "metadata": {},
   "outputs": [
    {
     "name": "stdout",
     "output_type": "stream",
     "text": [
      "The kde scores list is:  [48.99210696022889, 51.11216775394201, 51.22230389293114, 49.71149983520966, 50.74561222780657, 47.818983403820276, 48.801820634977425, 44.507619161250474, 47.55903103655943, 48.11452086437855, 40.3755064789839, 50.21190452783889, 41.222144927459496, 48.9039585366328, 47.9614463264157, 49.83489656332906, 48.724516973643425, 47.51404790023159, 50.50458364110751, 49.943117670489215, 47.332648179538516, 47.768543238628155, 45.495335585298655, 44.10555956653472, 46.24949396171571, 43.06307242972851, 45.74340139500761, 45.13237820823702, 48.30900149727615, 46.000775312773015]\n",
      "The ground truth labels are:  [0.0, 0.0, 0.0, 0.0, 0.0, 0.0, 0.0, 0.0, 0.0, 0.0, 0.0, 0.0, 0.0, 0.0, 0.0, 0.0, 0.0, 0.0, 0.0, 0.0, 1.0, 1.0, 1.0, 1.0, 1.0, 1.0, 1.0, 1.0, 1.0, 1.0]\n"
     ]
    }
   ],
   "source": [
    "kde_scores_evaluation= [item[0] for sublist in kde_scores_list_eval for item in sublist]\n",
    "y_true = [item for sublist in labels_list_eval for item in sublist]\n",
    "print(\"The kde scores list is: \", kde_scores_evaluation)\n",
    "print(\"The ground truth labels are: \", y_true)"
   ]
  },
  {
   "cell_type": "code",
   "execution_count": 80,
   "metadata": {},
   "outputs": [
    {
     "name": "stdout",
     "output_type": "stream",
     "text": [
      "[[ 0 20]\n",
      " [ 0 10]]\n",
      "The FPR values are:  1.0\n",
      "The TPR values are:  1.0\n",
      "Using the threshold =  39.59637982\n"
     ]
    }
   ],
   "source": [
    "conf_matrix = confusion_matrix(y_true, pred_label_onProb(kde_scores_evaluation, best_threshold_approach1))\n",
    "print(conf_matrix)\n",
    "_tp = conf_matrix[1, 1]\n",
    "_fn = conf_matrix[1, 0]\n",
    "_fp = conf_matrix[0, 1]\n",
    "_tn = conf_matrix[0, 0]\n",
    "_tpr = _tp/(_tp+_fn)\n",
    "_fpr = _fp / (_tn + _fp)\n",
    "print(\"The FPR values are: \", _fpr)\n",
    "print(\"The TPR values are: \", _tpr)\n",
    "print(\"Using the threshold = \", best_threshold_approach1)"
   ]
  },
  {
   "cell_type": "code",
   "execution_count": 81,
   "metadata": {},
   "outputs": [],
   "source": [
    "def computePredList(probs_list, threshold_value):\n",
    "    pred = 0\n",
    "    pred_list =[]\n",
    "    for i in range (len(probs_list)):\n",
    "        if probs_list[i] > threshold_value:              # Working with a threshold of 50%\n",
    "            pred = 1\n",
    "        else:\n",
    "            pred = 0\n",
    "        pred_list.append(pred)\n",
    "    return pred_list"
   ]
  },
  {
   "cell_type": "code",
   "execution_count": 82,
   "metadata": {},
   "outputs": [
    {
     "name": "stdout",
     "output_type": "stream",
     "text": [
      "The groudn truth is:  [0. 0. 0. 0. 0. 0. 0. 0. 0. 0. 0. 0. 0. 0. 0. 0. 0. 0. 0. 0. 1. 1. 1. 1.\n",
      " 1. 1. 1. 1. 1. 1.]\n",
      "The predicted label is:  [1, 1, 1, 1, 1, 1, 1, 1, 1, 1, 1, 1, 1, 1, 1, 1, 1, 1, 1, 1, 1, 1, 1, 1, 1, 1, 1, 1, 1, 1]\n"
     ]
    }
   ],
   "source": [
    "y_pred = computePredList(kde_scores_evaluation, best_threshold_approach1)\n",
    "print(\"The groudn truth is: \", np.array(y_true))\n",
    "print(\"The predicted label is: \", y_pred)"
   ]
  },
  {
   "cell_type": "markdown",
   "metadata": {},
   "source": [
    "# Applying evaluation metrics to these results"
   ]
  },
  {
   "cell_type": "markdown",
   "metadata": {},
   "source": [
    "## Computing the confusion matrix"
   ]
  },
  {
   "cell_type": "code",
   "execution_count": 83,
   "metadata": {},
   "outputs": [],
   "source": [
    "from sklearn.metrics import confusion_matrix\n",
    "import pandas as pd\n",
    "import seaborn as sn"
   ]
  },
  {
   "cell_type": "code",
   "execution_count": 84,
   "metadata": {},
   "outputs": [
    {
     "name": "stdout",
     "output_type": "stream",
     "text": [
      "[[ 0 20]\n",
      " [ 0 10]]\n"
     ]
    }
   ],
   "source": [
    "conf_matrix = confusion_matrix(y_true, y_pred)\n",
    "print(conf_matrix)"
   ]
  },
  {
   "cell_type": "code",
   "execution_count": 85,
   "metadata": {},
   "outputs": [
    {
     "data": {
      "text/plain": [
       "Text(0.5, 23.52222222222222, 'Predicted label')"
      ]
     },
     "execution_count": 85,
     "metadata": {},
     "output_type": "execute_result"
    },
    {
     "data": {
      "image/png": "[encoded data removed]",
      "text/plain": [
       "<Figure size 640x480 with 2 Axes>"
      ]
     },
     "metadata": {},
     "output_type": "display_data"
    }
   ],
   "source": [
    "group_names = ['True Neg','False Pos','False Neg','True Pos']\n",
    "group_counts = [\"{0:0.0f}\".format(value) for value in\n",
    "                conf_matrix.flatten()]\n",
    "group_percentages = [\"{0:.2%}\".format(value) for value in\n",
    "                     conf_matrix.flatten()/np.sum(conf_matrix)]\n",
    "labels = [f\"{v1}\\n{v2}\\n{v3}\" for v1, v2, v3 in\n",
    "          zip(group_names,group_counts,group_percentages)]        #To print the group names as well \n",
    "\n",
    "labels = np.asarray(labels).reshape(2,2)\n",
    "categories = ['Positive bottles', 'Anomaly bottles']\n",
    "sn.heatmap(conf_matrix, annot=labels, fmt='', xticklabels=categories,yticklabels=categories, cmap='Blues')\n",
    "plt.ylabel('True label')\n",
    "plt.xlabel('Predicted label')"
   ]
  },
  {
   "cell_type": "code",
   "execution_count": 86,
   "metadata": {},
   "outputs": [
    {
     "name": "stdout",
     "output_type": "stream",
     "text": [
      "The FPR values are:  1.0\n",
      "The TPR values are:  1.0\n"
     ]
    }
   ],
   "source": [
    "_tp = conf_matrix[1, 1]\n",
    "_fn = conf_matrix[1, 0]\n",
    "_fp = conf_matrix[0, 1]\n",
    "_tn = conf_matrix[0, 0]\n",
    "_tpr = _tp/(_tp+_fn)\n",
    "_fpr = _fp / (_tn + _fp)\n",
    "print(\"The FPR values are: \", _fpr)\n",
    "print(\"The TPR values are: \", _tpr)"
   ]
  },
  {
   "cell_type": "markdown",
   "metadata": {},
   "source": [
    "## Precision metric"
   ]
  },
  {
   "cell_type": "markdown",
   "metadata": {},
   "source": [
    "Precision = True positives / (True positives + False positives).\n",
    "\n",
    "Answers the question: Which proportion of positive predictions is actually right?"
   ]
  },
  {
   "cell_type": "code",
   "execution_count": 87,
   "metadata": {},
   "outputs": [
    {
     "name": "stdout",
     "output_type": "stream",
     "text": [
      "The precision is:  0.3333333333333333\n"
     ]
    }
   ],
   "source": [
    "precision = _tp/(_tp+_fp)\n",
    "print(\"The precision is: \", precision)\n"
   ]
  },
  {
   "cell_type": "markdown",
   "metadata": {},
   "source": [
    "## Recall metric"
   ]
  },
  {
   "cell_type": "markdown",
   "metadata": {},
   "source": [
    "Recall = TruePositives / (TruePositives + FalseNegatives)\n",
    "\n",
    "This metric is also called \"sensitiviy\" and TPR \"True Positive Rate\". It responds how good is the model at catching YESes?"
   ]
  },
  {
   "cell_type": "code",
   "execution_count": 88,
   "metadata": {},
   "outputs": [
    {
     "name": "stdout",
     "output_type": "stream",
     "text": [
      "The recall is:  1.0\n"
     ]
    }
   ],
   "source": [
    "recall = _tp/(_tp+_fn)\n",
    "print(\"The recall is: \", recall)"
   ]
  },
  {
   "cell_type": "markdown",
   "metadata": {},
   "source": [
    "## Specificity"
   ]
  },
  {
   "cell_type": "markdown",
   "metadata": {},
   "source": [
    "Specificity = True negatives / (True negatives + false positives)\n",
    "\n",
    "The specificity metric is the opposite as sensitivity, it tells us how good is the model at catching NOes. It measures the proportion of actual negatives that are correctly identified as such."
   ]
  },
  {
   "cell_type": "code",
   "execution_count": 89,
   "metadata": {},
   "outputs": [
    {
     "name": "stdout",
     "output_type": "stream",
     "text": [
      "The specificity is:  0.0\n"
     ]
    }
   ],
   "source": [
    "spec = _tn/(_tn+_fp)\n",
    "print(\"The specificity is: \", spec)"
   ]
  },
  {
   "cell_type": "markdown",
   "metadata": {},
   "source": [
    "## Accuracy"
   ]
  },
  {
   "cell_type": "markdown",
   "metadata": {},
   "source": [
    "Accuracy = (True negatives + True positives) / (True positives + True negatives + False positives + False negatives)"
   ]
  },
  {
   "cell_type": "code",
   "execution_count": 90,
   "metadata": {},
   "outputs": [
    {
     "name": "stdout",
     "output_type": "stream",
     "text": [
      "The accuracy is:  0.3333333333333333\n"
     ]
    }
   ],
   "source": [
    "acc = (_tn+_tp)/(_tn+_tp +_fp + _fn)\n",
    "print(\"The accuracy is: \", acc)"
   ]
  },
  {
   "cell_type": "markdown",
   "metadata": {},
   "source": [
    "## The ROC curve"
   ]
  },
  {
   "cell_type": "code",
   "execution_count": 91,
   "metadata": {},
   "outputs": [],
   "source": [
    "from sklearn.metrics import roc_curve, roc_auc_score\n"
   ]
  },
  {
   "cell_type": "markdown",
   "metadata": {},
   "source": [
    "Rather than the prediction of each sample (0 or 1 values) we need the probability of the samples to be predicted as an anomaly image. Hence, we compute this probability"
   ]
  },
  {
   "cell_type": "code",
   "execution_count": 92,
   "metadata": {},
   "outputs": [
    {
     "name": "stdout",
     "output_type": "stream",
     "text": [
      "AUROC = 0.175\n",
      "The fpr is:  [0.   0.05 0.6  0.6  0.75 0.75 0.85 0.85 0.9  0.9  1.  ]\n",
      "The tpr is:  [0.  0.  0.  0.1 0.1 0.2 0.2 0.8 0.8 1.  1. ]\n",
      "The thresholds are:  [52.22230389 51.22230389 48.72451697 48.3090015  47.8189834  47.76854324\n",
      " 47.5140479  45.13237821 44.50761916 43.06307243 40.37550648]\n"
     ]
    }
   ],
   "source": [
    "auc_score = roc_auc_score(y_true, kde_scores_evaluation)\n",
    "print('AUROC = %.3f' % (auc_score))\n",
    "fpr, tpr, thresholds = roc_curve(y_true, kde_scores_evaluation)\n",
    "print(\"The fpr is: \", fpr)\n",
    "print(\"The tpr is: \", tpr)\n",
    "print(\"The thresholds are: \", thresholds)"
   ]
  },
  {
   "cell_type": "code",
   "execution_count": 93,
   "metadata": {},
   "outputs": [
    {
     "data": {
      "image/png": "[encoded data removed]",
      "text/plain": [
       "<Figure size 640x480 with 1 Axes>"
      ]
     },
     "metadata": {},
     "output_type": "display_data"
    }
   ],
   "source": [
    "plt.plot(fpr, tpr, marker='.', label='AUROC = %0.3f' % auc_score)\n",
    "# Title\n",
    "plt.title('ROC Plot')\n",
    "# Axis labels\n",
    "plt.xlabel('False Positive Rate')\n",
    "plt.ylabel('True Positive Rate')\n",
    "# Show legend\n",
    "plt.legend() # \n",
    "# Show plot\n",
    "plt.show()"
   ]
  },
  {
   "cell_type": "markdown",
   "metadata": {},
   "source": [
    "# Evaluating the model. With the threhsold value computed from a probability value upon the reconstruction errors"
   ]
  },
  {
   "cell_type": "code",
   "execution_count": 94,
   "metadata": {},
   "outputs": [
    {
     "name": "stdout",
     "output_type": "stream",
     "text": [
      "The probability list is:  [100, 66.07011811930582, 74.88996960789383, 46.097269819258585, 36.71585409199117, 100, 100, 100, 100, 100, 100, 6.02418287712339, 100, 100, 100, 36.21549235565736, 100, 100, 17.413957741694755, 27.54899921504192, 100, 100, 100, 100, 100, 100, 100, 100, 100, 100]\n",
      "The ground truth labels are:  [0.0, 0.0, 0.0, 0.0, 0.0, 0.0, 0.0, 0.0, 0.0, 0.0, 0.0, 0.0, 0.0, 0.0, 0.0, 0.0, 0.0, 0.0, 0.0, 0.0, 1.0, 1.0, 1.0, 1.0, 1.0, 1.0, 1.0, 1.0, 1.0, 1.0]\n"
     ]
    }
   ],
   "source": [
    "probs_list = map_kde2prob_list(kde_scores_evaluation)\n",
    "print(\"The probability list is: \", probs_list)\n",
    "print(\"The ground truth labels are: \", y_true)"
   ]
  },
  {
   "cell_type": "code",
   "execution_count": 99,
   "metadata": {},
   "outputs": [
    {
     "name": "stdout",
     "output_type": "stream",
     "text": [
      "[[ 8 12]\n",
      " [ 0 10]]\n",
      "The FPR values are:  0.6\n",
      "The TPR values are:  1.0\n",
      "Using the threshold =  99.7\n"
     ]
    }
   ],
   "source": [
    "conf_matrix = confusion_matrix(y_true, pred_label_onProb(probs_list, best_threshold_approach2))\n",
    "print(conf_matrix)\n",
    "_tp = conf_matrix[1, 1]\n",
    "_fn = conf_matrix[1, 0]\n",
    "_fp = conf_matrix[0, 1]\n",
    "_tn = conf_matrix[0, 0]\n",
    "_tpr = _tp/(_tp+_fn)\n",
    "_fpr = _fp / (_tn + _fp)\n",
    "print(\"The FPR values are: \", _fpr)\n",
    "print(\"The TPR values are: \", _tpr)\n",
    "print(\"Using the threshold = \", best_threshold_approach2)"
   ]
  },
  {
   "cell_type": "code",
   "execution_count": 100,
   "metadata": {},
   "outputs": [
    {
     "name": "stdout",
     "output_type": "stream",
     "text": [
      "The groudn truth is:  [0. 0. 0. 0. 0. 0. 0. 0. 0. 0. 0. 0. 0. 0. 0. 0. 0. 0. 0. 0. 1. 1. 1. 1.\n",
      " 1. 1. 1. 1. 1. 1.]\n",
      "The predicted label is:  [1, 0, 0, 0, 0, 1, 1, 1, 1, 1, 1, 0, 1, 1, 1, 0, 1, 1, 0, 0, 1, 1, 1, 1, 1, 1, 1, 1, 1, 1]\n"
     ]
    }
   ],
   "source": [
    "y_pred = computePredList(probs_list, best_threshold_approach2)\n",
    "print(\"The groudn truth is: \", np.array(y_true))\n",
    "print(\"The predicted label is: \", y_pred)"
   ]
  },
  {
   "cell_type": "markdown",
   "metadata": {},
   "source": [
    "# Applying evaluation metrics to these results"
   ]
  },
  {
   "cell_type": "markdown",
   "metadata": {},
   "source": [
    "## Computing the confusion matrix"
   ]
  },
  {
   "cell_type": "code",
   "execution_count": 101,
   "metadata": {},
   "outputs": [],
   "source": [
    "from sklearn.metrics import confusion_matrix\n",
    "import pandas as pd\n",
    "import seaborn as sn"
   ]
  },
  {
   "cell_type": "code",
   "execution_count": 102,
   "metadata": {},
   "outputs": [
    {
     "name": "stdout",
     "output_type": "stream",
     "text": [
      "[[ 8 12]\n",
      " [ 0 10]]\n"
     ]
    }
   ],
   "source": [
    "conf_matrix = confusion_matrix(y_true, y_pred)\n",
    "print(conf_matrix)"
   ]
  },
  {
   "cell_type": "code",
   "execution_count": 103,
   "metadata": {},
   "outputs": [
    {
     "data": {
      "text/plain": [
       "Text(0.5, 23.52222222222222, 'Predicted label')"
      ]
     },
     "execution_count": 103,
     "metadata": {},
     "output_type": "execute_result"
    },
    {
     "data": {
      "image/png": "[encoded data removed]",
      "text/plain": [
       "<Figure size 640x480 with 2 Axes>"
      ]
     },
     "metadata": {},
     "output_type": "display_data"
    }
   ],
   "source": [
    "group_names = ['True Neg','False Pos','False Neg','True Pos']\n",
    "group_counts = [\"{0:0.0f}\".format(value) for value in\n",
    "                conf_matrix.flatten()]\n",
    "group_percentages = [\"{0:.2%}\".format(value) for value in\n",
    "                     conf_matrix.flatten()/np.sum(conf_matrix)]\n",
    "labels = [f\"{v1}\\n{v2}\\n{v3}\" for v1, v2, v3 in\n",
    "          zip(group_names,group_counts,group_percentages)]        #To print the group names as well \n",
    "\n",
    "labels = np.asarray(labels).reshape(2,2)\n",
    "categories = ['Positive bottles', 'Anomaly bottles']\n",
    "sn.heatmap(conf_matrix, annot=labels, fmt='', xticklabels=categories,yticklabels=categories, cmap='Blues')\n",
    "plt.ylabel('True label')\n",
    "plt.xlabel('Predicted label')"
   ]
  },
  {
   "cell_type": "code",
   "execution_count": 104,
   "metadata": {},
   "outputs": [
    {
     "name": "stdout",
     "output_type": "stream",
     "text": [
      "The FPR values are:  0.6\n",
      "The TPR values are:  1.0\n"
     ]
    }
   ],
   "source": [
    "_tp = conf_matrix[1, 1]\n",
    "_fn = conf_matrix[1, 0]\n",
    "_fp = conf_matrix[0, 1]\n",
    "_tn = conf_matrix[0, 0]\n",
    "_tpr = _tp/(_tp+_fn)\n",
    "_fpr = _fp / (_tn + _fp)\n",
    "print(\"The FPR values are: \", _fpr)\n",
    "print(\"The TPR values are: \", _tpr)"
   ]
  },
  {
   "cell_type": "markdown",
   "metadata": {},
   "source": [
    "## Precision metric"
   ]
  },
  {
   "cell_type": "markdown",
   "metadata": {},
   "source": [
    "Precision = True positives / (True positives + False positives).\n",
    "\n",
    "Answers the question: Which proportion of positive predictions is actually right?"
   ]
  },
  {
   "cell_type": "code",
   "execution_count": 105,
   "metadata": {},
   "outputs": [
    {
     "name": "stdout",
     "output_type": "stream",
     "text": [
      "The precision is:  0.45454545454545453\n"
     ]
    }
   ],
   "source": [
    "precision = _tp/(_tp+_fp)\n",
    "print(\"The precision is: \", precision)\n"
   ]
  },
  {
   "cell_type": "markdown",
   "metadata": {},
   "source": [
    "## Recall metric"
   ]
  },
  {
   "cell_type": "markdown",
   "metadata": {},
   "source": [
    "Recall = TruePositives / (TruePositives + FalseNegatives)\n",
    "\n",
    "This metric is also called \"sensitiviy\" and TPR \"True Positive Rate\". It responds how good is the model at catching YESes?"
   ]
  },
  {
   "cell_type": "code",
   "execution_count": 106,
   "metadata": {},
   "outputs": [
    {
     "name": "stdout",
     "output_type": "stream",
     "text": [
      "The recall is:  1.0\n"
     ]
    }
   ],
   "source": [
    "recall = _tp/(_tp+_fn)\n",
    "print(\"The recall is: \", recall)"
   ]
  },
  {
   "cell_type": "markdown",
   "metadata": {},
   "source": [
    "## Specificity"
   ]
  },
  {
   "cell_type": "markdown",
   "metadata": {},
   "source": [
    "Specificity = True negatives / (True negatives + false positives)\n",
    "\n",
    "The specificity metric is the opposite as sensitivity, it tells us how good is the model at catching NOes. It measures the proportion of actual negatives that are correctly identified as such."
   ]
  },
  {
   "cell_type": "code",
   "execution_count": 107,
   "metadata": {},
   "outputs": [
    {
     "name": "stdout",
     "output_type": "stream",
     "text": [
      "The specificity is:  0.4\n"
     ]
    }
   ],
   "source": [
    "spec = _tn/(_tn+_fp)\n",
    "print(\"The specificity is: \", spec)"
   ]
  },
  {
   "cell_type": "markdown",
   "metadata": {},
   "source": [
    "## Accuracy"
   ]
  },
  {
   "cell_type": "markdown",
   "metadata": {},
   "source": [
    "Accuracy = (True negatives + True positives) / (True positives + True negatives + False positives + False negatives)"
   ]
  },
  {
   "cell_type": "code",
   "execution_count": 108,
   "metadata": {},
   "outputs": [
    {
     "name": "stdout",
     "output_type": "stream",
     "text": [
      "The accuracy is:  0.6\n"
     ]
    }
   ],
   "source": [
    "acc = (_tn+_tp)/(_tn+_tp +_fp + _fn)\n",
    "print(\"The accuracy is: \", acc)"
   ]
  },
  {
   "cell_type": "markdown",
   "metadata": {},
   "source": [
    "## The ROC curve"
   ]
  },
  {
   "cell_type": "code",
   "execution_count": 109,
   "metadata": {},
   "outputs": [],
   "source": [
    "from sklearn.metrics import roc_curve, roc_auc_score\n"
   ]
  },
  {
   "cell_type": "markdown",
   "metadata": {},
   "source": [
    "Rather than the prediction of each sample (0 or 1 values) we need the probability of the samples to be predicted as an anomaly image. Hence, we compute this probability"
   ]
  },
  {
   "cell_type": "code",
   "execution_count": 110,
   "metadata": {},
   "outputs": [
    {
     "name": "stdout",
     "output_type": "stream",
     "text": [
      "AUROC = 0.700\n",
      "The fpr is:  [0.  0.6 1. ]\n",
      "The tpr is:  [0. 1. 1.]\n",
      "The thresholds are:  [101.         100.           6.02418288]\n"
     ]
    }
   ],
   "source": [
    "auc_score = roc_auc_score(y_true, probs_list)\n",
    "print('AUROC = %.3f' % (auc_score))\n",
    "fpr, tpr, thresholds = roc_curve(y_true, probs_list)\n",
    "print(\"The fpr is: \", fpr)\n",
    "print(\"The tpr is: \", tpr)\n",
    "print(\"The thresholds are: \", thresholds)"
   ]
  },
  {
   "cell_type": "code",
   "execution_count": 111,
   "metadata": {},
   "outputs": [
    {
     "data": {
      "image/png": "[encoded data removed]",
      "text/plain": [
       "<Figure size 640x480 with 1 Axes>"
      ]
     },
     "metadata": {},
     "output_type": "display_data"
    }
   ],
   "source": [
    "plt.plot(fpr, tpr, marker='.', label='AUROC = %0.3f' % auc_score)\n",
    "# Title\n",
    "plt.title('ROC Plot')\n",
    "# Axis labels\n",
    "plt.xlabel('False Positive Rate')\n",
    "plt.ylabel('True Positive Rate')\n",
    "# Show legend\n",
    "plt.legend() # \n",
    "# Show plot\n",
    "plt.show()"
   ]
  }
 ],
 "metadata": {
  "kernelspec": {
   "display_name": "Python 3",
   "language": "python",
   "name": "python3"
  },
  "language_info": {
   "codemirror_mode": {
    "name": "ipython",
    "version": 3
   },
   "file_extension": ".py",
   "mimetype": "text/x-python",
   "name": "python",
   "nbconvert_exporter": "python",
   "pygments_lexer": "ipython3",
   "version": "3.8.10"
  },
  "orig_nbformat": 4,
  "vscode": {
   "interpreter": {
    "hash": "916dbcbb3f70747c44a77c7bcd40155683ae19c65e1c03b4aa3499c5328201f1"
   }
  }
 },
 "nbformat": 4,
 "nbformat_minor": 2
}
