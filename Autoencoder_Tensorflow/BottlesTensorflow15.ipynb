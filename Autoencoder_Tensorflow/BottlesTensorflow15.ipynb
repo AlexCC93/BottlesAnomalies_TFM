{
 "cells": [
  {
   "cell_type": "code",
   "execution_count": 1,
   "metadata": {},
   "outputs": [],
   "source": [
    "from tensorflow.keras.models import Sequential, Model\n",
    "from tensorflow.keras.layers import *\n",
    "from tensorflow.keras.preprocessing.image import ImageDataGenerator\n",
    "from tensorflow import keras\n",
    "import tensorflow as tf\n",
    "# from keras import layers\n",
    "\n",
    "\n",
    "from tensorflow.keras.optimizers import Adam, RMSprop\n",
    "from tensorflow.keras.preprocessing import image\n",
    "\n",
    "import tensorflow.keras.backend as K\n",
    "\n",
    "\n",
    "from PIL import Image\n",
    "import matplotlib.pyplot as plt\n",
    "import numpy as np\n",
    "import random\n",
    "\n"
   ]
  },
  {
   "cell_type": "code",
   "execution_count": 2,
   "metadata": {},
   "outputs": [
    {
     "name": "stdout",
     "output_type": "stream",
     "text": [
      "Num GPUs Available:  1\n"
     ]
    },
    {
     "name": "stderr",
     "output_type": "stream",
     "text": [
      "2023-06-06 12:32:40.371787: I tensorflow/stream_executor/platform/default/dso_loader.cc:44] Successfully opened dynamic library libcuda.so.1\n",
      "2023-06-06 12:32:40.411853: I tensorflow/stream_executor/cuda/cuda_gpu_executor.cc:981] successful NUMA node read from SysFS had negative value (-1), but there must be at least one NUMA node, so returning NUMA node zero\n",
      "2023-06-06 12:32:40.412305: I tensorflow/core/common_runtime/gpu/gpu_device.cc:1561] Found device 0 with properties: \n",
      "pciBusID: 0000:01:00.0 name: NVIDIA GeForce RTX 2080 with Max-Q Design computeCapability: 7.5\n",
      "coreClock: 1.23GHz coreCount: 46 deviceMemorySize: 7.79GiB deviceMemoryBandwidth: 357.69GiB/s\n",
      "2023-06-06 12:32:40.412562: I tensorflow/stream_executor/platform/default/dso_loader.cc:44] Successfully opened dynamic library libcudart.so.10.1\n",
      "2023-06-06 12:32:40.414558: I tensorflow/stream_executor/platform/default/dso_loader.cc:44] Successfully opened dynamic library libcublas.so.10\n",
      "2023-06-06 12:32:40.416157: I tensorflow/stream_executor/platform/default/dso_loader.cc:44] Successfully opened dynamic library libcufft.so.10\n",
      "2023-06-06 12:32:40.416431: I tensorflow/stream_executor/platform/default/dso_loader.cc:44] Successfully opened dynamic library libcurand.so.10\n",
      "2023-06-06 12:32:40.418483: I tensorflow/stream_executor/platform/default/dso_loader.cc:44] Successfully opened dynamic library libcusolver.so.10\n",
      "2023-06-06 12:32:40.419301: I tensorflow/stream_executor/platform/default/dso_loader.cc:44] Successfully opened dynamic library libcusparse.so.10\n",
      "2023-06-06 12:32:40.422604: I tensorflow/stream_executor/platform/default/dso_loader.cc:44] Successfully opened dynamic library libcudnn.so.7\n",
      "2023-06-06 12:32:40.422760: I tensorflow/stream_executor/cuda/cuda_gpu_executor.cc:981] successful NUMA node read from SysFS had negative value (-1), but there must be at least one NUMA node, so returning NUMA node zero\n",
      "2023-06-06 12:32:40.423272: I tensorflow/stream_executor/cuda/cuda_gpu_executor.cc:981] successful NUMA node read from SysFS had negative value (-1), but there must be at least one NUMA node, so returning NUMA node zero\n",
      "2023-06-06 12:32:40.423776: I tensorflow/core/common_runtime/gpu/gpu_device.cc:1703] Adding visible gpu devices: 0\n"
     ]
    }
   ],
   "source": [
    "physical_devices = tf.config.experimental.list_physical_devices('GPU')\n",
    "if len(physical_devices) == 0:\n",
    "    print(\"Not enough GPU hardware devices available\")\n",
    "else:\n",
    "    config = tf.config.experimental.set_memory_growth(physical_devices[0], True)\n",
    "print(\"Num GPUs Available: \", len(physical_devices))"
   ]
  },
  {
   "cell_type": "code",
   "execution_count": 3,
   "metadata": {},
   "outputs": [],
   "source": [
    "# tf.debugging.set_log_device_placement(True)       # Will print the log information of every execution of tensorflow, mainly about "
   ]
  },
  {
   "cell_type": "code",
   "execution_count": 4,
   "metadata": {},
   "outputs": [],
   "source": [
    "#Size of our input images\n",
    "# SIZE = 128        # It was this value at the beginning, but the image display was poor. \n",
    "SIZE = 224\n",
    "# SIZE = 228          # It was 224, but in order for the current autoencoder model configuration work adequately, we changed it 228"
   ]
  },
  {
   "attachments": {},
   "cell_type": "markdown",
   "metadata": {},
   "source": [
    "# Setting the training and testing datasets "
   ]
  },
  {
   "attachments": {},
   "cell_type": "markdown",
   "metadata": {},
   "source": [
    "ImageDataGenerator.flow_from_directory: Takes the path to a directory and generates batches of augmented data."
   ]
  },
  {
   "cell_type": "code",
   "execution_count": 5,
   "metadata": {},
   "outputs": [
    {
     "name": "stdout",
     "output_type": "stream",
     "text": [
      "Found 179 images belonging to 1 classes.\n"
     ]
    }
   ],
   "source": [
    "# batch_size = 64\n",
    "batch_size = 32\n",
    "datagen = ImageDataGenerator(rescale=1./255) # Typically used for data augmentation. Here it is only rescaling the image pixels value to range 0 to 1 in decimals\n",
    "\n",
    "train_generator = datagen.flow_from_directory(\n",
    "    \"../../Images/BottleStoodUp_atNight/Positive/\",         # For home laptop\n",
    "    # \"../../../BottleStoodUp_atNight/Positive/\",          # For work laptop\n",
    "    target_size=(SIZE, SIZE),\n",
    "    batch_size=batch_size,\n",
    "    shuffle = False,\n",
    "    class_mode='input'          # Class used for working with Autoencoders\n",
    "    \n",
    "    )"
   ]
  },
  {
   "cell_type": "code",
   "execution_count": 6,
   "metadata": {},
   "outputs": [
    {
     "name": "stdout",
     "output_type": "stream",
     "text": [
      "Found 30 images belonging to 1 classes.\n"
     ]
    }
   ],
   "source": [
    "validation_generator = datagen.flow_from_directory(\n",
    "    \"../../Images/BottleStoodUp_atNight/Positive_val/\",     # For home laptop\n",
    "    # \"../../../BottleStoodUp_atNight/Positive_val/\",           # For work lpatop   \n",
    "    target_size=(SIZE, SIZE),\n",
    "    batch_size=batch_size,\n",
    "    shuffle = False,\n",
    "    class_mode='input'\n",
    "    )\n"
   ]
  },
  {
   "cell_type": "code",
   "execution_count": 7,
   "metadata": {},
   "outputs": [
    {
     "name": "stdout",
     "output_type": "stream",
     "text": [
      "Found 6 images belonging to 1 classes.\n"
     ]
    }
   ],
   "source": [
    "anomaly_generator = datagen.flow_from_directory(\n",
    "    \"../../Images/BottleStoodUp_atNight/Anomalies2.0/\",         # For home laptop\n",
    "    # \"../../../BottleStoodUp_atNight/Anomalies2.0/\",           # For work lpatpo\n",
    "    target_size=(SIZE, SIZE),\n",
    "    batch_size=batch_size,\n",
    "    shuffle = False,\n",
    "    class_mode='input'\n",
    "    )\n"
   ]
  },
  {
   "cell_type": "code",
   "execution_count": 8,
   "metadata": {},
   "outputs": [
    {
     "name": "stdout",
     "output_type": "stream",
     "text": [
      "Found 30 images belonging to 2 classes.\n"
     ]
    }
   ],
   "source": [
    "test_set_generator = datagen.flow_from_directory(\n",
    "    \"../../Images/BottleStoodUp_atNight/Evaluation/\",       # For home laptop\n",
    "    # \"../../../BottleStoodUp_atNight/Evaluation/\",             # For work laptop  \n",
    "    target_size=(SIZE, SIZE),\n",
    "    batch_size=batch_size,\n",
    "    shuffle = False,\n",
    "    class_mode='binary'\n",
    "    )\n"
   ]
  },
  {
   "attachments": {},
   "cell_type": "markdown",
   "metadata": {},
   "source": [
    "# Showing one sample of the training set images"
   ]
  },
  {
   "attachments": {},
   "cell_type": "markdown",
   "metadata": {},
   "source": [
    "Grabbing only one image of one batch of the training set."
   ]
  },
  {
   "cell_type": "code",
   "execution_count": 9,
   "metadata": {},
   "outputs": [
    {
     "name": "stdout",
     "output_type": "stream",
     "text": [
      "<class 'numpy.ndarray'>\n",
      "32\n"
     ]
    },
    {
     "name": "stderr",
     "output_type": "stream",
     "text": [
      "2023-06-06 12:32:41.153288: I tensorflow/core/platform/cpu_feature_guard.cc:143] Your CPU supports instructions that this TensorFlow binary was not compiled to use: AVX2 FMA\n",
      "2023-06-06 12:32:41.173915: I tensorflow/core/platform/profile_utils/cpu_utils.cc:102] CPU Frequency: 2599990000 Hz\n",
      "2023-06-06 12:32:41.174311: I tensorflow/compiler/xla/service/service.cc:168] XLA service 0x7f8b7c000db0 initialized for platform Host (this does not guarantee that XLA will be used). Devices:\n",
      "2023-06-06 12:32:41.174325: I tensorflow/compiler/xla/service/service.cc:176]   StreamExecutor device (0): Host, Default Version\n",
      "2023-06-06 12:32:41.240019: I tensorflow/stream_executor/cuda/cuda_gpu_executor.cc:981] successful NUMA node read from SysFS had negative value (-1), but there must be at least one NUMA node, so returning NUMA node zero\n",
      "2023-06-06 12:32:41.240447: I tensorflow/compiler/xla/service/service.cc:168] XLA service 0x45ce190 initialized for platform CUDA (this does not guarantee that XLA will be used). Devices:\n",
      "2023-06-06 12:32:41.240463: I tensorflow/compiler/xla/service/service.cc:176]   StreamExecutor device (0): NVIDIA GeForce RTX 2080 with Max-Q Design, Compute Capability 7.5\n",
      "2023-06-06 12:32:41.240665: I tensorflow/stream_executor/cuda/cuda_gpu_executor.cc:981] successful NUMA node read from SysFS had negative value (-1), but there must be at least one NUMA node, so returning NUMA node zero\n",
      "2023-06-06 12:32:41.240953: I tensorflow/core/common_runtime/gpu/gpu_device.cc:1561] Found device 0 with properties: \n",
      "pciBusID: 0000:01:00.0 name: NVIDIA GeForce RTX 2080 with Max-Q Design computeCapability: 7.5\n",
      "coreClock: 1.23GHz coreCount: 46 deviceMemorySize: 7.79GiB deviceMemoryBandwidth: 357.69GiB/s\n",
      "2023-06-06 12:32:41.240987: I tensorflow/stream_executor/platform/default/dso_loader.cc:44] Successfully opened dynamic library libcudart.so.10.1\n",
      "2023-06-06 12:32:41.240999: I tensorflow/stream_executor/platform/default/dso_loader.cc:44] Successfully opened dynamic library libcublas.so.10\n",
      "2023-06-06 12:32:41.241009: I tensorflow/stream_executor/platform/default/dso_loader.cc:44] Successfully opened dynamic library libcufft.so.10\n",
      "2023-06-06 12:32:41.241019: I tensorflow/stream_executor/platform/default/dso_loader.cc:44] Successfully opened dynamic library libcurand.so.10\n",
      "2023-06-06 12:32:41.241029: I tensorflow/stream_executor/platform/default/dso_loader.cc:44] Successfully opened dynamic library libcusolver.so.10\n",
      "2023-06-06 12:32:41.241039: I tensorflow/stream_executor/platform/default/dso_loader.cc:44] Successfully opened dynamic library libcusparse.so.10\n",
      "2023-06-06 12:32:41.241049: I tensorflow/stream_executor/platform/default/dso_loader.cc:44] Successfully opened dynamic library libcudnn.so.7\n",
      "2023-06-06 12:32:41.241098: I tensorflow/stream_executor/cuda/cuda_gpu_executor.cc:981] successful NUMA node read from SysFS had negative value (-1), but there must be at least one NUMA node, so returning NUMA node zero\n",
      "2023-06-06 12:32:41.241534: I tensorflow/stream_executor/cuda/cuda_gpu_executor.cc:981] successful NUMA node read from SysFS had negative value (-1), but there must be at least one NUMA node, so returning NUMA node zero\n",
      "2023-06-06 12:32:41.241868: I tensorflow/core/common_runtime/gpu/gpu_device.cc:1703] Adding visible gpu devices: 0\n",
      "2023-06-06 12:32:41.241909: I tensorflow/stream_executor/platform/default/dso_loader.cc:44] Successfully opened dynamic library libcudart.so.10.1\n",
      "2023-06-06 12:32:41.242423: I tensorflow/core/common_runtime/gpu/gpu_device.cc:1102] Device interconnect StreamExecutor with strength 1 edge matrix:\n",
      "2023-06-06 12:32:41.242434: I tensorflow/core/common_runtime/gpu/gpu_device.cc:1108]      0 \n",
      "2023-06-06 12:32:41.242440: I tensorflow/core/common_runtime/gpu/gpu_device.cc:1121] 0:   N \n",
      "2023-06-06 12:32:41.242521: I tensorflow/stream_executor/cuda/cuda_gpu_executor.cc:981] successful NUMA node read from SysFS had negative value (-1), but there must be at least one NUMA node, so returning NUMA node zero\n",
      "2023-06-06 12:32:41.242863: I tensorflow/stream_executor/cuda/cuda_gpu_executor.cc:981] successful NUMA node read from SysFS had negative value (-1), but there must be at least one NUMA node, so returning NUMA node zero\n",
      "2023-06-06 12:32:41.243177: I tensorflow/core/common_runtime/gpu/gpu_device.cc:1247] Created TensorFlow device (/job:localhost/replica:0/task:0/device:GPU:0 with 6711 MB memory) -> physical GPU (device: 0, name: NVIDIA GeForce RTX 2080 with Max-Q Design, pci bus id: 0000:01:00.0, compute capability: 7.5)\n"
     ]
    },
    {
     "name": "stdout",
     "output_type": "stream",
     "text": [
      "tf.Tensor(0.0, shape=(), dtype=float32) tf.Tensor(1.0, shape=(), dtype=float32)\n"
     ]
    }
   ],
   "source": [
    "images_in_batch = next(train_generator)[0]\n",
    "print(type(images_in_batch))\n",
    "print(len(images_in_batch))\n",
    "print(tf.reduce_min(images_in_batch), tf.reduce_max(images_in_batch))"
   ]
  },
  {
   "cell_type": "code",
   "execution_count": 10,
   "metadata": {},
   "outputs": [
    {
     "data": {
      "text/plain": [
       "<matplotlib.image.AxesImage at 0x7f8c1023c130>"
      ]
     },
     "execution_count": 10,
     "metadata": {},
     "output_type": "execute_result"
    },
    {
     "data": {
      "image/png": "[encoded data removed]",
      "text/plain": [
       "<Figure size 640x480 with 1 Axes>"
      ]
     },
     "metadata": {},
     "output_type": "display_data"
    }
   ],
   "source": [
    "single_img = images_in_batch[0]\n",
    "plt.imshow(single_img)"
   ]
  },
  {
   "attachments": {},
   "cell_type": "markdown",
   "metadata": {},
   "source": [
    "# Configuring the Autoencoder netwrok"
   ]
  },
  {
   "cell_type": "code",
   "execution_count": 11,
   "metadata": {},
   "outputs": [
    {
     "name": "stdout",
     "output_type": "stream",
     "text": [
      "(None, 7, 7, 1)\n",
      "(None, 24)\n",
      "Model: \"model\"\n",
      "_________________________________________________________________\n",
      "Layer (type)                 Output Shape              Param #   \n",
      "=================================================================\n",
      "input_1 (InputLayer)         [(None, 224, 224, 3)]     0         \n",
      "_________________________________________________________________\n",
      "conv2d (Conv2D)              (None, 224, 224, 128)     3584      \n",
      "_________________________________________________________________\n",
      "max_pooling2d (MaxPooling2D) (None, 112, 112, 128)     0         \n",
      "_________________________________________________________________\n",
      "conv2d_1 (Conv2D)            (None, 112, 112, 64)      73792     \n",
      "_________________________________________________________________\n",
      "max_pooling2d_1 (MaxPooling2 (None, 56, 56, 64)        0         \n",
      "_________________________________________________________________\n",
      "conv2d_2 (Conv2D)            (None, 56, 56, 32)        18464     \n",
      "_________________________________________________________________\n",
      "max_pooling2d_2 (MaxPooling2 (None, 28, 28, 32)        0         \n",
      "_________________________________________________________________\n",
      "conv2d_3 (Conv2D)            (None, 28, 28, 16)        4624      \n",
      "_________________________________________________________________\n",
      "max_pooling2d_3 (MaxPooling2 (None, 14, 14, 16)        0         \n",
      "_________________________________________________________________\n",
      "conv2d_4 (Conv2D)            (None, 14, 14, 4)         580       \n",
      "_________________________________________________________________\n",
      "max_pooling2d_4 (MaxPooling2 (None, 7, 7, 4)           0         \n",
      "_________________________________________________________________\n",
      "conv2d_5 (Conv2D)            (None, 7, 7, 1)           37        \n",
      "_________________________________________________________________\n",
      "flatten (Flatten)            (None, 49)                0         \n",
      "_________________________________________________________________\n",
      "dense (Dense)                (None, 49)                2450      \n",
      "_________________________________________________________________\n",
      "dense_1 (Dense)              (None, 24)                1200      \n",
      "=================================================================\n",
      "Total params: 104,731\n",
      "Trainable params: 104,731\n",
      "Non-trainable params: 0\n",
      "_________________________________________________________________\n"
     ]
    }
   ],
   "source": [
    "latent_dim = 24  # Number of latent dimension parameters\n",
    "\n",
    "input_img = Input(shape=(SIZE, SIZE, 3))\n",
    "x = Conv2D(128, (3, 3), activation='relu', padding='same') (input_img)\n",
    "x = MaxPooling2D((2, 2), padding='same')(x)\n",
    "x = Conv2D(64, (3, 3), activation='relu', padding='same')(x)\n",
    "x = MaxPooling2D((2, 2), padding='same')(x)\n",
    "x = Conv2D(32, (3, 3), activation='relu', padding='same')(x)\n",
    "x = MaxPool2D( (2, 2), padding='same')(x)\n",
    "x = Conv2D(16, (3, 3), activation='relu', padding='same')(x)\n",
    "x = MaxPool2D( (2, 2), padding='same')(x)\n",
    "\n",
    "x = Conv2D(4, (3, 3), activation='relu', padding='same')(x)\n",
    "x = MaxPool2D( (2, 2), padding='same')(x)\n",
    "x = Conv2D(1, (3, 3), activation='relu', padding='same')(x)\n",
    "\n",
    "shape_before_flattening = K.int_shape(x)\n",
    "print(shape_before_flattening)\n",
    "x = Flatten()(x)\n",
    "x = Dense(49, activation='relu')(x)\n",
    "\n",
    "Z = Dense(latent_dim)(x)\n",
    "print(K.int_shape(Z))\n",
    "\n",
    "encoder = Model(input_img,Z)\n",
    "encoder.summary()"
   ]
  },
  {
   "cell_type": "code",
   "execution_count": 12,
   "metadata": {},
   "outputs": [
    {
     "name": "stdout",
     "output_type": "stream",
     "text": [
      "Model: \"model_1\"\n",
      "_________________________________________________________________\n",
      "Layer (type)                 Output Shape              Param #   \n",
      "=================================================================\n",
      "input_2 (InputLayer)         [(None, 24)]              0         \n",
      "_________________________________________________________________\n",
      "intermediate_decoder (Dense) (None, 784)               19600     \n",
      "_________________________________________________________________\n",
      "original_decoder (Dense)     (None, 784)               615440    \n",
      "_________________________________________________________________\n",
      "reshape (Reshape)            (None, 14, 14, 4)         0         \n",
      "_________________________________________________________________\n",
      "conv2d_transpose (Conv2DTran (None, 14, 14, 3)         111       \n",
      "_________________________________________________________________\n",
      "up_sampling2d (UpSampling2D) (None, 28, 28, 3)         0         \n",
      "_________________________________________________________________\n",
      "conv2d_transpose_1 (Conv2DTr (None, 28, 28, 3)         84        \n",
      "_________________________________________________________________\n",
      "up_sampling2d_1 (UpSampling2 (None, 56, 56, 3)         0         \n",
      "_________________________________________________________________\n",
      "conv2d_transpose_2 (Conv2DTr (None, 56, 56, 3)         84        \n",
      "_________________________________________________________________\n",
      "up_sampling2d_2 (UpSampling2 (None, 112, 112, 3)       0         \n",
      "_________________________________________________________________\n",
      "conv2d_transpose_3 (Conv2DTr (None, 112, 112, 3)       84        \n",
      "_________________________________________________________________\n",
      "up_sampling2d_3 (UpSampling2 (None, 224, 224, 3)       0         \n",
      "=================================================================\n",
      "Total params: 635,403\n",
      "Trainable params: 635,403\n",
      "Non-trainable params: 0\n",
      "_________________________________________________________________\n"
     ]
    }
   ],
   "source": [
    "# decoder takes the latent distribution sample as input\n",
    "decoder_input = Input(K.int_shape(Z)[1:])\n",
    "x = Dense(14*14*4, activation='relu', name=\"intermediate_decoder\", input_shape=(latent_dim,))(decoder_input)\n",
    "# Expand to 784 total pixels\n",
    "x = Dense(784, activation='sigmoid', name=\"original_decoder\")(x)\n",
    "x = Reshape((14,14,4),input_shape=(784,))(x)\n",
    "\n",
    "x = Conv2DTranspose(3, (3, 3), padding='same')(x)\n",
    "x = UpSampling2D( (2, 2))(x)\n",
    "x = Conv2DTranspose(3, (3, 3), padding='same')(x)\n",
    "x = UpSampling2D( (2, 2))(x)\n",
    "x = Conv2DTranspose(3, (3, 3), padding='same')(x)\n",
    "x = UpSampling2D( (2, 2))(x)\n",
    "x = Conv2DTranspose(3, (3, 3), padding='same')(x)\n",
    "x = UpSampling2D( (2, 2))(x)\n",
    "\n",
    "\n",
    "# decoder model statement\n",
    "decoder = Model(decoder_input, x)\n",
    "\n",
    "# apply the decoder to the sample from the latent distribution\n",
    "z_decoded = decoder(Z)\n",
    "\n",
    "decoder.summary()"
   ]
  },
  {
   "cell_type": "code",
   "execution_count": 13,
   "metadata": {},
   "outputs": [
    {
     "name": "stdout",
     "output_type": "stream",
     "text": [
      "Model: \"model_2\"\n",
      "_________________________________________________________________\n",
      "Layer (type)                 Output Shape              Param #   \n",
      "=================================================================\n",
      "input_1 (InputLayer)         [(None, 224, 224, 3)]     0         \n",
      "_________________________________________________________________\n",
      "conv2d (Conv2D)              (None, 224, 224, 128)     3584      \n",
      "_________________________________________________________________\n",
      "max_pooling2d (MaxPooling2D) (None, 112, 112, 128)     0         \n",
      "_________________________________________________________________\n",
      "conv2d_1 (Conv2D)            (None, 112, 112, 64)      73792     \n",
      "_________________________________________________________________\n",
      "max_pooling2d_1 (MaxPooling2 (None, 56, 56, 64)        0         \n",
      "_________________________________________________________________\n",
      "conv2d_2 (Conv2D)            (None, 56, 56, 32)        18464     \n",
      "_________________________________________________________________\n",
      "max_pooling2d_2 (MaxPooling2 (None, 28, 28, 32)        0         \n",
      "_________________________________________________________________\n",
      "conv2d_3 (Conv2D)            (None, 28, 28, 16)        4624      \n",
      "_________________________________________________________________\n",
      "max_pooling2d_3 (MaxPooling2 (None, 14, 14, 16)        0         \n",
      "_________________________________________________________________\n",
      "conv2d_4 (Conv2D)            (None, 14, 14, 4)         580       \n",
      "_________________________________________________________________\n",
      "max_pooling2d_4 (MaxPooling2 (None, 7, 7, 4)           0         \n",
      "_________________________________________________________________\n",
      "conv2d_5 (Conv2D)            (None, 7, 7, 1)           37        \n",
      "_________________________________________________________________\n",
      "flatten (Flatten)            (None, 49)                0         \n",
      "_________________________________________________________________\n",
      "dense (Dense)                (None, 49)                2450      \n",
      "_________________________________________________________________\n",
      "dense_1 (Dense)              (None, 24)                1200      \n",
      "_________________________________________________________________\n",
      "model_1 (Model)              (None, 224, 224, 3)       635403    \n",
      "=================================================================\n",
      "Total params: 740,134\n",
      "Trainable params: 740,134\n",
      "Non-trainable params: 0\n",
      "_________________________________________________________________\n"
     ]
    }
   ],
   "source": [
    "# VAE model statement\n",
    "ae = Model(input_img,z_decoded)\n",
    "ae.compile(optimizer='adam', loss='mean_squared_error')\n",
    "\n",
    "ae.summary()"
   ]
  },
  {
   "attachments": {},
   "cell_type": "markdown",
   "metadata": {},
   "source": [
    "These are the weights of a specific layer of the encoder model, before training are:"
   ]
  },
  {
   "cell_type": "code",
   "execution_count": 14,
   "metadata": {},
   "outputs": [
    {
     "name": "stdout",
     "output_type": "stream",
     "text": [
      "quantity of layers in the model:  15\n",
      "The weigths in the conv2d is:  [<tf.Variable 'conv2d/kernel:0' shape=(3, 3, 3, 128) dtype=float32, numpy=\n",
      "array([[[[-0.06331614,  0.00997555,  0.03345904, ...,  0.05046403,\n",
      "           0.0673485 , -0.06866323],\n",
      "         [-0.04026558, -0.05146252,  0.01756325, ..., -0.06259798,\n",
      "          -0.03173126, -0.06610037],\n",
      "         [ 0.05692214,  0.05102554, -0.02640713, ..., -0.00736099,\n",
      "           0.06398281,  0.03487248]],\n",
      "\n",
      "        [[-0.03136009, -0.07001911,  0.03818487, ..., -0.03653449,\n",
      "          -0.03089568, -0.01255642],\n",
      "         [ 0.05636679, -0.00565851,  0.04553463, ...,  0.05380535,\n",
      "           0.0479161 ,  0.01023922],\n",
      "         [ 0.01579063, -0.00148999,  0.04125699, ...,  0.06233892,\n",
      "           0.00241054, -0.00682305]],\n",
      "\n",
      "        [[-0.01406518, -0.00457492, -0.05199181, ...,  0.0344919 ,\n",
      "          -0.02753022,  0.01267413],\n",
      "         [-0.01024007, -0.0117082 ,  0.027736  , ..., -0.00959384,\n",
      "          -0.06246506, -0.04833977],\n",
      "         [-0.02879784, -0.05185489, -0.01403495, ...,  0.02784939,\n",
      "          -0.04967364,  0.02967934]]],\n",
      "\n",
      "\n",
      "       [[[-0.02092683, -0.01802264, -0.02757398, ...,  0.06475547,\n",
      "           0.02537228,  0.03687458],\n",
      "         [ 0.00412156, -0.0652831 , -0.01986912, ...,  0.05096244,\n",
      "           0.00628702, -0.0384612 ],\n",
      "         [-0.01086102, -0.06618547,  0.05835314, ...,  0.0500536 ,\n",
      "          -0.03744053, -0.06312549]],\n",
      "\n",
      "        [[ 0.04779235, -0.0197908 , -0.03687327, ...,  0.01481748,\n",
      "           0.04015477,  0.04064649],\n",
      "         [ 0.02823402,  0.05588707, -0.03831312, ...,  0.02538676,\n",
      "           0.04983335,  0.03387888],\n",
      "         [-0.01685601, -0.00661203,  0.02468173, ..., -0.03643147,\n",
      "          -0.05024172, -0.04301833]],\n",
      "\n",
      "        [[ 0.04871919,  0.03234643,  0.02038313, ...,  0.03173482,\n",
      "           0.04722762,  0.00954028],\n",
      "         [ 0.00421122,  0.05800633,  0.00435269, ...,  0.02582324,\n",
      "          -0.05741284,  0.04412349],\n",
      "         [-0.0032328 ,  0.04309944, -0.00256319, ..., -0.06927226,\n",
      "           0.06709953,  0.00608901]]],\n",
      "\n",
      "\n",
      "       [[[-0.03207465, -0.052596  , -0.06367876, ...,  0.07080214,\n",
      "           0.04565467, -0.06922304],\n",
      "         [-0.03513485, -0.05034127, -0.04501326, ..., -0.05961054,\n",
      "          -0.04220686, -0.01295982],\n",
      "         [-0.02240768, -0.04655041,  0.06308727, ...,  0.05505539,\n",
      "           0.03114754, -0.02727198]],\n",
      "\n",
      "        [[ 0.01535825, -0.03698262, -0.06490226, ..., -0.06098581,\n",
      "           0.01808125,  0.03972756],\n",
      "         [ 0.01402175, -0.0349157 ,  0.05872722, ...,  0.0545623 ,\n",
      "           0.00923087, -0.06305734],\n",
      "         [-0.00717925,  0.06867142, -0.02202848, ...,  0.06220761,\n",
      "           0.02874721,  0.04879643]],\n",
      "\n",
      "        [[ 0.0232003 ,  0.05004708,  0.04354221, ...,  0.00843963,\n",
      "           0.0024667 , -0.02510129],\n",
      "         [-0.05012298,  0.00875423, -0.05001342, ..., -0.01614158,\n",
      "          -0.0255948 , -0.07043506],\n",
      "         [ 0.06271538,  0.0559245 , -0.04571981, ..., -0.06364023,\n",
      "           0.04602999, -0.04952717]]]], dtype=float32)>, <tf.Variable 'conv2d/bias:0' shape=(128,) dtype=float32, numpy=\n",
      "array([0., 0., 0., 0., 0., 0., 0., 0., 0., 0., 0., 0., 0., 0., 0., 0., 0.,\n",
      "       0., 0., 0., 0., 0., 0., 0., 0., 0., 0., 0., 0., 0., 0., 0., 0., 0.,\n",
      "       0., 0., 0., 0., 0., 0., 0., 0., 0., 0., 0., 0., 0., 0., 0., 0., 0.,\n",
      "       0., 0., 0., 0., 0., 0., 0., 0., 0., 0., 0., 0., 0., 0., 0., 0., 0.,\n",
      "       0., 0., 0., 0., 0., 0., 0., 0., 0., 0., 0., 0., 0., 0., 0., 0., 0.,\n",
      "       0., 0., 0., 0., 0., 0., 0., 0., 0., 0., 0., 0., 0., 0., 0., 0., 0.,\n",
      "       0., 0., 0., 0., 0., 0., 0., 0., 0., 0., 0., 0., 0., 0., 0., 0., 0.,\n",
      "       0., 0., 0., 0., 0., 0., 0., 0., 0.], dtype=float32)>]\n"
     ]
    }
   ],
   "source": [
    "layer_number = 1\n",
    "print(\"quantity of layers in the model: \", len(encoder.layers))\n",
    "print(\"The weigths in the\", encoder.layers[layer_number].name, \"is: \", encoder.layers[layer_number].weights)"
   ]
  },
  {
   "attachments": {},
   "cell_type": "markdown",
   "metadata": {},
   "source": [
    "These are the weights of a specific layer of the decoder model,before training are:"
   ]
  },
  {
   "cell_type": "code",
   "execution_count": 15,
   "metadata": {},
   "outputs": [],
   "source": [
    "# layer_number = 1\n",
    "# print(\"quantity of layers in the model: \", len(decoder.layers))\n",
    "# print(\"The weigths in the\", decoder.layers[layer_number].name, \"is: \", decoder.layers[layer_number].weights)"
   ]
  },
  {
   "attachments": {},
   "cell_type": "markdown",
   "metadata": {},
   "source": [
    "These are the weights of a specific layer of the autoencoder model,before training are:"
   ]
  },
  {
   "cell_type": "code",
   "execution_count": 16,
   "metadata": {},
   "outputs": [],
   "source": [
    "# layer_number = 1\n",
    "# print(\"quantity of layers in the model: \", len(ae.layers))\n",
    "# print(\"The weigths in the\", ae.layers[layer_number].name, \"is: \", ae.layers[layer_number].weights)"
   ]
  },
  {
   "cell_type": "code",
   "execution_count": 17,
   "metadata": {},
   "outputs": [
    {
     "name": "stdout",
     "output_type": "stream",
     "text": [
      "Epoch 1/200\n"
     ]
    },
    {
     "name": "stderr",
     "output_type": "stream",
     "text": [
      "2023-06-06 12:33:00.307117: I tensorflow/stream_executor/platform/default/dso_loader.cc:44] Successfully opened dynamic library libcublas.so.10\n",
      "2023-06-06 12:33:00.522935: I tensorflow/stream_executor/platform/default/dso_loader.cc:44] Successfully opened dynamic library libcudnn.so.7\n"
     ]
    },
    {
     "name": "stdout",
     "output_type": "stream",
     "text": [
      "6/6 [==============================] - 3s 444ms/step - loss: 0.1151 - val_loss: 0.0610\n",
      "Epoch 2/200\n",
      "6/6 [==============================] - 1s 188ms/step - loss: 0.0440 - val_loss: 0.0224\n",
      "Epoch 3/200\n",
      "6/6 [==============================] - 1s 178ms/step - loss: 0.0236 - val_loss: 0.0170\n",
      "Epoch 4/200\n",
      "6/6 [==============================] - 1s 172ms/step - loss: 0.0174 - val_loss: 0.0158\n",
      "Epoch 5/200\n",
      "6/6 [==============================] - 1s 177ms/step - loss: 0.0144 - val_loss: 0.0112\n",
      "Epoch 6/200\n",
      "6/6 [==============================] - 1s 157ms/step - loss: 0.0131 - val_loss: 0.0105\n",
      "Epoch 7/200\n",
      "6/6 [==============================] - 1s 189ms/step - loss: 0.0119 - val_loss: 0.0115\n",
      "Epoch 8/200\n",
      "6/6 [==============================] - 1s 156ms/step - loss: 0.0112 - val_loss: 0.0093\n",
      "Epoch 9/200\n",
      "6/6 [==============================] - 1s 155ms/step - loss: 0.0106 - val_loss: 0.0093\n",
      "Epoch 10/200\n",
      "6/6 [==============================] - 1s 170ms/step - loss: 0.0102 - val_loss: 0.0099\n",
      "Epoch 11/200\n",
      "6/6 [==============================] - 1s 168ms/step - loss: 0.0096 - val_loss: 0.0081\n",
      "Epoch 12/200\n",
      "6/6 [==============================] - 1s 154ms/step - loss: 0.0094 - val_loss: 0.0084\n",
      "Epoch 13/200\n",
      "6/6 [==============================] - 1s 181ms/step - loss: 0.0091 - val_loss: 0.0085\n",
      "Epoch 14/200\n",
      "6/6 [==============================] - 1s 191ms/step - loss: 0.0087 - val_loss: 0.0080\n",
      "Epoch 15/200\n",
      "6/6 [==============================] - 1s 164ms/step - loss: 0.0086 - val_loss: 0.0076\n",
      "Epoch 16/200\n",
      "6/6 [==============================] - 1s 157ms/step - loss: 0.0084 - val_loss: 0.0079\n",
      "Epoch 17/200\n",
      "6/6 [==============================] - 1s 161ms/step - loss: 0.0081 - val_loss: 0.0071\n",
      "Epoch 18/200\n",
      "6/6 [==============================] - 1s 166ms/step - loss: 0.0081 - val_loss: 0.0069\n",
      "Epoch 19/200\n",
      "6/6 [==============================] - 1s 152ms/step - loss: 0.0078 - val_loss: 0.0081\n",
      "Epoch 20/200\n",
      "6/6 [==============================] - 1s 159ms/step - loss: 0.0077 - val_loss: 0.0071\n",
      "Epoch 21/200\n",
      "6/6 [==============================] - 1s 167ms/step - loss: 0.0076 - val_loss: 0.0079\n",
      "Epoch 22/200\n",
      "6/6 [==============================] - 1s 165ms/step - loss: 0.0074 - val_loss: 0.0065\n",
      "Epoch 23/200\n",
      "6/6 [==============================] - 1s 155ms/step - loss: 0.0073 - val_loss: 0.0075\n",
      "Epoch 24/200\n",
      "6/6 [==============================] - 1s 178ms/step - loss: 0.0071 - val_loss: 0.0068\n",
      "Epoch 25/200\n",
      "6/6 [==============================] - 1s 180ms/step - loss: 0.0074 - val_loss: 0.0074\n",
      "Epoch 26/200\n",
      "6/6 [==============================] - 1s 165ms/step - loss: 0.0072 - val_loss: 0.0069\n",
      "Epoch 27/200\n",
      "6/6 [==============================] - 1s 174ms/step - loss: 0.0072 - val_loss: 0.0068\n",
      "Epoch 28/200\n",
      "6/6 [==============================] - 1s 178ms/step - loss: 0.0068 - val_loss: 0.0064\n",
      "Epoch 29/200\n",
      "6/6 [==============================] - 1s 181ms/step - loss: 0.0072 - val_loss: 0.0060\n",
      "Epoch 30/200\n",
      "6/6 [==============================] - 1s 165ms/step - loss: 0.0072 - val_loss: 0.0073\n",
      "Epoch 31/200\n",
      "6/6 [==============================] - 1s 163ms/step - loss: 0.0068 - val_loss: 0.0054\n",
      "Epoch 32/200\n",
      "6/6 [==============================] - 1s 199ms/step - loss: 0.0066 - val_loss: 0.0077\n",
      "Epoch 33/200\n",
      "6/6 [==============================] - 1s 162ms/step - loss: 0.0064 - val_loss: 0.0054\n",
      "Epoch 34/200\n",
      "6/6 [==============================] - 1s 168ms/step - loss: 0.0069 - val_loss: 0.0067\n",
      "Epoch 35/200\n",
      "6/6 [==============================] - 1s 176ms/step - loss: 0.0063 - val_loss: 0.0056\n",
      "Epoch 36/200\n",
      "6/6 [==============================] - 1s 155ms/step - loss: 0.0065 - val_loss: 0.0066\n",
      "Epoch 37/200\n",
      "6/6 [==============================] - 1s 167ms/step - loss: 0.0067 - val_loss: 0.0054\n",
      "Epoch 38/200\n",
      "6/6 [==============================] - 1s 152ms/step - loss: 0.0062 - val_loss: 0.0070\n",
      "Epoch 39/200\n",
      "6/6 [==============================] - 1s 170ms/step - loss: 0.0066 - val_loss: 0.0055\n",
      "Epoch 40/200\n",
      "6/6 [==============================] - 1s 170ms/step - loss: 0.0065 - val_loss: 0.0055\n",
      "Epoch 41/200\n",
      "6/6 [==============================] - 1s 171ms/step - loss: 0.0069 - val_loss: 0.0061\n",
      "Epoch 42/200\n",
      "6/6 [==============================] - 1s 163ms/step - loss: 0.0063 - val_loss: 0.0047\n",
      "Epoch 43/200\n",
      "6/6 [==============================] - 1s 155ms/step - loss: 0.0065 - val_loss: 0.0070\n",
      "Epoch 44/200\n",
      "6/6 [==============================] - 1s 151ms/step - loss: 0.0066 - val_loss: 0.0047\n",
      "Epoch 45/200\n",
      "6/6 [==============================] - 1s 165ms/step - loss: 0.0063 - val_loss: 0.0069\n",
      "Epoch 46/200\n",
      "6/6 [==============================] - 1s 165ms/step - loss: 0.0062 - val_loss: 0.0052\n",
      "Epoch 47/200\n",
      "6/6 [==============================] - 1s 165ms/step - loss: 0.0059 - val_loss: 0.0049\n",
      "Epoch 48/200\n",
      "6/6 [==============================] - 1s 160ms/step - loss: 0.0062 - val_loss: 0.0049\n",
      "Epoch 49/200\n",
      "6/6 [==============================] - 1s 152ms/step - loss: 0.0059 - val_loss: 0.0056\n",
      "Epoch 50/200\n",
      "6/6 [==============================] - 1s 182ms/step - loss: 0.0055 - val_loss: 0.0047\n",
      "Epoch 51/200\n",
      "6/6 [==============================] - 1s 174ms/step - loss: 0.0054 - val_loss: 0.0043\n",
      "Epoch 52/200\n",
      "6/6 [==============================] - 1s 163ms/step - loss: 0.0053 - val_loss: 0.0044\n",
      "Epoch 53/200\n",
      "6/6 [==============================] - 1s 161ms/step - loss: 0.0050 - val_loss: 0.0044\n",
      "Epoch 54/200\n",
      "6/6 [==============================] - 1s 170ms/step - loss: 0.0049 - val_loss: 0.0042\n",
      "Epoch 55/200\n",
      "6/6 [==============================] - 1s 173ms/step - loss: 0.0049 - val_loss: 0.0041\n",
      "Epoch 56/200\n",
      "6/6 [==============================] - 1s 165ms/step - loss: 0.0047 - val_loss: 0.0043\n",
      "Epoch 57/200\n",
      "6/6 [==============================] - 1s 173ms/step - loss: 0.0048 - val_loss: 0.0041\n",
      "Epoch 58/200\n",
      "6/6 [==============================] - 1s 164ms/step - loss: 0.0046 - val_loss: 0.0040\n",
      "Epoch 59/200\n",
      "6/6 [==============================] - 1s 155ms/step - loss: 0.0045 - val_loss: 0.0040\n",
      "Epoch 60/200\n",
      "6/6 [==============================] - 1s 172ms/step - loss: 0.0047 - val_loss: 0.0041\n",
      "Epoch 61/200\n",
      "6/6 [==============================] - 1s 155ms/step - loss: 0.0046 - val_loss: 0.0044\n",
      "Epoch 62/200\n",
      "6/6 [==============================] - 1s 166ms/step - loss: 0.0046 - val_loss: 0.0049\n",
      "Epoch 63/200\n",
      "6/6 [==============================] - 1s 155ms/step - loss: 0.0046 - val_loss: 0.0043\n",
      "Epoch 64/200\n",
      "6/6 [==============================] - 1s 168ms/step - loss: 0.0043 - val_loss: 0.0039\n",
      "Epoch 65/200\n",
      "6/6 [==============================] - 1s 182ms/step - loss: 0.0043 - val_loss: 0.0039\n",
      "Epoch 66/200\n",
      "6/6 [==============================] - 1s 168ms/step - loss: 0.0042 - val_loss: 0.0041\n",
      "Epoch 67/200\n",
      "6/6 [==============================] - 1s 159ms/step - loss: 0.0043 - val_loss: 0.0039\n",
      "Epoch 68/200\n",
      "6/6 [==============================] - 1s 200ms/step - loss: 0.0042 - val_loss: 0.0039\n",
      "Epoch 69/200\n",
      "6/6 [==============================] - 1s 169ms/step - loss: 0.0041 - val_loss: 0.0038\n",
      "Epoch 70/200\n",
      "6/6 [==============================] - 1s 166ms/step - loss: 0.0041 - val_loss: 0.0038\n",
      "Epoch 71/200\n",
      "6/6 [==============================] - 1s 167ms/step - loss: 0.0041 - val_loss: 0.0038\n",
      "Epoch 72/200\n",
      "6/6 [==============================] - 1s 171ms/step - loss: 0.0041 - val_loss: 0.0038\n",
      "Epoch 73/200\n",
      "6/6 [==============================] - 1s 165ms/step - loss: 0.0040 - val_loss: 0.0038\n",
      "Epoch 74/200\n",
      "6/6 [==============================] - 1s 168ms/step - loss: 0.0040 - val_loss: 0.0037\n",
      "Epoch 75/200\n",
      "6/6 [==============================] - 1s 172ms/step - loss: 0.0040 - val_loss: 0.0037\n",
      "Epoch 76/200\n",
      "6/6 [==============================] - 1s 170ms/step - loss: 0.0040 - val_loss: 0.0037\n",
      "Epoch 77/200\n",
      "6/6 [==============================] - 1s 182ms/step - loss: 0.0040 - val_loss: 0.0037\n",
      "Epoch 78/200\n",
      "6/6 [==============================] - 1s 169ms/step - loss: 0.0040 - val_loss: 0.0037\n",
      "Epoch 79/200\n",
      "6/6 [==============================] - 1s 167ms/step - loss: 0.0040 - val_loss: 0.0037\n",
      "Epoch 80/200\n",
      "6/6 [==============================] - 1s 161ms/step - loss: 0.0040 - val_loss: 0.0037\n",
      "Epoch 81/200\n",
      "6/6 [==============================] - 1s 166ms/step - loss: 0.0040 - val_loss: 0.0037\n",
      "Epoch 82/200\n",
      "6/6 [==============================] - 1s 169ms/step - loss: 0.0041 - val_loss: 0.0037\n",
      "Epoch 83/200\n",
      "6/6 [==============================] - 1s 183ms/step - loss: 0.0041 - val_loss: 0.0037\n",
      "Epoch 84/200\n",
      "6/6 [==============================] - 1s 175ms/step - loss: 0.0042 - val_loss: 0.0040\n",
      "Epoch 85/200\n",
      "6/6 [==============================] - 1s 186ms/step - loss: 0.0043 - val_loss: 0.0037\n",
      "Epoch 86/200\n",
      "6/6 [==============================] - 1s 171ms/step - loss: 0.0040 - val_loss: 0.0036\n",
      "Epoch 87/200\n",
      "6/6 [==============================] - 1s 204ms/step - loss: 0.0039 - val_loss: 0.0036\n",
      "Epoch 88/200\n",
      "6/6 [==============================] - 1s 180ms/step - loss: 0.0039 - val_loss: 0.0036\n",
      "Epoch 89/200\n",
      "6/6 [==============================] - 1s 161ms/step - loss: 0.0039 - val_loss: 0.0036\n",
      "Epoch 90/200\n",
      "6/6 [==============================] - 1s 163ms/step - loss: 0.0039 - val_loss: 0.0036\n",
      "Epoch 91/200\n",
      "6/6 [==============================] - 1s 172ms/step - loss: 0.0038 - val_loss: 0.0035\n",
      "Epoch 92/200\n",
      "6/6 [==============================] - 1s 167ms/step - loss: 0.0038 - val_loss: 0.0035\n",
      "Epoch 93/200\n",
      "6/6 [==============================] - 1s 159ms/step - loss: 0.0038 - val_loss: 0.0035\n",
      "Epoch 94/200\n",
      "6/6 [==============================] - 1s 179ms/step - loss: 0.0038 - val_loss: 0.0035\n",
      "Epoch 95/200\n",
      "6/6 [==============================] - 1s 170ms/step - loss: 0.0038 - val_loss: 0.0035\n",
      "Epoch 96/200\n",
      "6/6 [==============================] - 1s 159ms/step - loss: 0.0039 - val_loss: 0.0035\n",
      "Epoch 97/200\n",
      "6/6 [==============================] - 1s 169ms/step - loss: 0.0039 - val_loss: 0.0035\n",
      "Epoch 98/200\n",
      "6/6 [==============================] - 1s 184ms/step - loss: 0.0039 - val_loss: 0.0036\n",
      "Epoch 99/200\n",
      "6/6 [==============================] - 1s 172ms/step - loss: 0.0038 - val_loss: 0.0035\n",
      "Epoch 100/200\n",
      "6/6 [==============================] - 1s 175ms/step - loss: 0.0038 - val_loss: 0.0035\n",
      "Epoch 101/200\n",
      "6/6 [==============================] - 1s 162ms/step - loss: 0.0038 - val_loss: 0.0035\n",
      "Epoch 102/200\n",
      "6/6 [==============================] - 1s 168ms/step - loss: 0.0039 - val_loss: 0.0038\n",
      "Epoch 103/200\n",
      "6/6 [==============================] - 1s 175ms/step - loss: 0.0038 - val_loss: 0.0035\n",
      "Epoch 104/200\n",
      "6/6 [==============================] - 1s 196ms/step - loss: 0.0038 - val_loss: 0.0035\n",
      "Epoch 105/200\n",
      "6/6 [==============================] - 1s 207ms/step - loss: 0.0037 - val_loss: 0.0034\n",
      "Epoch 106/200\n",
      "6/6 [==============================] - 1s 170ms/step - loss: 0.0037 - val_loss: 0.0034\n",
      "Epoch 107/200\n",
      "6/6 [==============================] - 1s 175ms/step - loss: 0.0037 - val_loss: 0.0034\n",
      "Epoch 108/200\n",
      "6/6 [==============================] - 1s 185ms/step - loss: 0.0038 - val_loss: 0.0035\n",
      "Epoch 109/200\n",
      "6/6 [==============================] - 1s 175ms/step - loss: 0.0037 - val_loss: 0.0034\n",
      "Epoch 110/200\n",
      "6/6 [==============================] - 1s 181ms/step - loss: 0.0036 - val_loss: 0.0034\n",
      "Epoch 111/200\n",
      "6/6 [==============================] - 1s 171ms/step - loss: 0.0036 - val_loss: 0.0034\n",
      "Epoch 112/200\n",
      "6/6 [==============================] - 1s 170ms/step - loss: 0.0036 - val_loss: 0.0034\n",
      "Epoch 113/200\n",
      "6/6 [==============================] - 1s 192ms/step - loss: 0.0036 - val_loss: 0.0034\n",
      "Epoch 114/200\n",
      "6/6 [==============================] - 1s 163ms/step - loss: 0.0036 - val_loss: 0.0034\n",
      "Epoch 115/200\n",
      "6/6 [==============================] - 1s 177ms/step - loss: 0.0036 - val_loss: 0.0034\n",
      "Epoch 116/200\n",
      "6/6 [==============================] - 1s 174ms/step - loss: 0.0035 - val_loss: 0.0033\n",
      "Epoch 117/200\n",
      "6/6 [==============================] - 1s 169ms/step - loss: 0.0035 - val_loss: 0.0033\n",
      "Epoch 118/200\n",
      "6/6 [==============================] - 1s 161ms/step - loss: 0.0035 - val_loss: 0.0033\n",
      "Epoch 119/200\n",
      "6/6 [==============================] - 1s 170ms/step - loss: 0.0035 - val_loss: 0.0033\n",
      "Epoch 120/200\n",
      "6/6 [==============================] - 1s 175ms/step - loss: 0.0035 - val_loss: 0.0033\n",
      "Epoch 121/200\n",
      "6/6 [==============================] - 1s 180ms/step - loss: 0.0035 - val_loss: 0.0033\n",
      "Epoch 122/200\n",
      "6/6 [==============================] - 1s 176ms/step - loss: 0.0035 - val_loss: 0.0033\n",
      "Epoch 123/200\n",
      "6/6 [==============================] - 1s 188ms/step - loss: 0.0034 - val_loss: 0.0033\n",
      "Epoch 124/200\n",
      "6/6 [==============================] - 1s 237ms/step - loss: 0.0034 - val_loss: 0.0033\n",
      "Epoch 125/200\n",
      "6/6 [==============================] - 1s 211ms/step - loss: 0.0034 - val_loss: 0.0033\n",
      "Epoch 126/200\n",
      "6/6 [==============================] - 1s 201ms/step - loss: 0.0034 - val_loss: 0.0033\n",
      "Epoch 127/200\n",
      "6/6 [==============================] - 1s 215ms/step - loss: 0.0034 - val_loss: 0.0033\n",
      "Epoch 128/200\n",
      "6/6 [==============================] - 1s 199ms/step - loss: 0.0034 - val_loss: 0.0033\n",
      "Epoch 129/200\n",
      "6/6 [==============================] - 1s 175ms/step - loss: 0.0034 - val_loss: 0.0032\n",
      "Epoch 130/200\n",
      "6/6 [==============================] - 1s 166ms/step - loss: 0.0034 - val_loss: 0.0033\n",
      "Epoch 131/200\n",
      "6/6 [==============================] - 1s 164ms/step - loss: 0.0034 - val_loss: 0.0032\n",
      "Epoch 132/200\n",
      "6/6 [==============================] - 1s 178ms/step - loss: 0.0034 - val_loss: 0.0032\n",
      "Epoch 133/200\n",
      "6/6 [==============================] - 1s 169ms/step - loss: 0.0034 - val_loss: 0.0033\n",
      "Epoch 134/200\n",
      "6/6 [==============================] - 1s 184ms/step - loss: 0.0034 - val_loss: 0.0033\n",
      "Epoch 135/200\n",
      "6/6 [==============================] - 1s 172ms/step - loss: 0.0034 - val_loss: 0.0032\n",
      "Epoch 136/200\n",
      "6/6 [==============================] - 1s 174ms/step - loss: 0.0034 - val_loss: 0.0033\n",
      "Epoch 137/200\n",
      "6/6 [==============================] - 1s 180ms/step - loss: 0.0034 - val_loss: 0.0032\n",
      "Epoch 138/200\n",
      "6/6 [==============================] - 1s 167ms/step - loss: 0.0033 - val_loss: 0.0032\n",
      "Epoch 139/200\n",
      "6/6 [==============================] - 1s 172ms/step - loss: 0.0034 - val_loss: 0.0032\n",
      "Epoch 140/200\n",
      "6/6 [==============================] - 1s 190ms/step - loss: 0.0033 - val_loss: 0.0032\n",
      "Epoch 141/200\n",
      "6/6 [==============================] - 1s 170ms/step - loss: 0.0033 - val_loss: 0.0032\n",
      "Epoch 142/200\n",
      "6/6 [==============================] - 1s 176ms/step - loss: 0.0033 - val_loss: 0.0032\n",
      "Epoch 143/200\n",
      "6/6 [==============================] - 1s 170ms/step - loss: 0.0033 - val_loss: 0.0032\n",
      "Epoch 144/200\n",
      "6/6 [==============================] - 1s 171ms/step - loss: 0.0033 - val_loss: 0.0032\n",
      "Epoch 145/200\n",
      "6/6 [==============================] - 1s 173ms/step - loss: 0.0033 - val_loss: 0.0032\n",
      "Epoch 146/200\n",
      "6/6 [==============================] - 1s 180ms/step - loss: 0.0033 - val_loss: 0.0033\n",
      "Epoch 147/200\n",
      "6/6 [==============================] - 1s 167ms/step - loss: 0.0034 - val_loss: 0.0032\n",
      "Epoch 148/200\n",
      "6/6 [==============================] - 1s 201ms/step - loss: 0.0033 - val_loss: 0.0033\n",
      "Epoch 149/200\n",
      "6/6 [==============================] - 1s 199ms/step - loss: 0.0033 - val_loss: 0.0032\n",
      "Epoch 150/200\n",
      "6/6 [==============================] - 1s 168ms/step - loss: 0.0033 - val_loss: 0.0032\n",
      "Epoch 151/200\n",
      "6/6 [==============================] - 1s 161ms/step - loss: 0.0033 - val_loss: 0.0032\n",
      "Epoch 152/200\n",
      "6/6 [==============================] - 1s 176ms/step - loss: 0.0033 - val_loss: 0.0032\n",
      "Epoch 153/200\n",
      "6/6 [==============================] - 1s 174ms/step - loss: 0.0033 - val_loss: 0.0032\n",
      "Epoch 154/200\n",
      "6/6 [==============================] - 1s 166ms/step - loss: 0.0033 - val_loss: 0.0031\n",
      "Epoch 155/200\n",
      "6/6 [==============================] - 1s 174ms/step - loss: 0.0032 - val_loss: 0.0032\n",
      "Epoch 156/200\n",
      "6/6 [==============================] - 1s 187ms/step - loss: 0.0033 - val_loss: 0.0032\n",
      "Epoch 157/200\n",
      "6/6 [==============================] - 1s 162ms/step - loss: 0.0032 - val_loss: 0.0032\n",
      "Epoch 158/200\n",
      "6/6 [==============================] - 1s 174ms/step - loss: 0.0032 - val_loss: 0.0031\n",
      "Epoch 159/200\n",
      "6/6 [==============================] - 1s 193ms/step - loss: 0.0032 - val_loss: 0.0031\n",
      "Epoch 160/200\n",
      "6/6 [==============================] - 1s 181ms/step - loss: 0.0032 - val_loss: 0.0032\n",
      "Epoch 161/200\n",
      "6/6 [==============================] - 1s 189ms/step - loss: 0.0032 - val_loss: 0.0031\n",
      "Epoch 162/200\n",
      "6/6 [==============================] - 1s 166ms/step - loss: 0.0032 - val_loss: 0.0031\n",
      "Epoch 163/200\n",
      "6/6 [==============================] - 1s 175ms/step - loss: 0.0032 - val_loss: 0.0031\n",
      "Epoch 164/200\n",
      "6/6 [==============================] - 1s 175ms/step - loss: 0.0032 - val_loss: 0.0031\n",
      "Epoch 165/200\n",
      "6/6 [==============================] - 1s 184ms/step - loss: 0.0032 - val_loss: 0.0031\n",
      "Epoch 166/200\n",
      "6/6 [==============================] - 1s 172ms/step - loss: 0.0032 - val_loss: 0.0031\n",
      "Epoch 167/200\n",
      "6/6 [==============================] - 1s 205ms/step - loss: 0.0032 - val_loss: 0.0031\n",
      "Epoch 168/200\n",
      "6/6 [==============================] - 1s 226ms/step - loss: 0.0032 - val_loss: 0.0031\n",
      "Epoch 169/200\n",
      "6/6 [==============================] - 1s 197ms/step - loss: 0.0032 - val_loss: 0.0031\n",
      "Epoch 170/200\n",
      "6/6 [==============================] - 1s 206ms/step - loss: 0.0032 - val_loss: 0.0031\n",
      "Epoch 171/200\n",
      "6/6 [==============================] - 1s 202ms/step - loss: 0.0032 - val_loss: 0.0031\n",
      "Epoch 172/200\n",
      "6/6 [==============================] - 1s 212ms/step - loss: 0.0032 - val_loss: 0.0031\n",
      "Epoch 173/200\n",
      "6/6 [==============================] - 1s 212ms/step - loss: 0.0031 - val_loss: 0.0031\n",
      "Epoch 174/200\n",
      "6/6 [==============================] - 1s 199ms/step - loss: 0.0031 - val_loss: 0.0031\n",
      "Epoch 175/200\n",
      "6/6 [==============================] - 1s 210ms/step - loss: 0.0031 - val_loss: 0.0031\n",
      "Epoch 176/200\n",
      "6/6 [==============================] - 1s 231ms/step - loss: 0.0031 - val_loss: 0.0031\n",
      "Epoch 177/200\n",
      "6/6 [==============================] - 1s 219ms/step - loss: 0.0031 - val_loss: 0.0031\n",
      "Epoch 178/200\n",
      "6/6 [==============================] - 1s 169ms/step - loss: 0.0031 - val_loss: 0.0032\n",
      "Epoch 179/200\n",
      "6/6 [==============================] - 1s 158ms/step - loss: 0.0033 - val_loss: 0.0031\n",
      "Epoch 180/200\n",
      "6/6 [==============================] - 1s 172ms/step - loss: 0.0032 - val_loss: 0.0031\n",
      "Epoch 181/200\n",
      "6/6 [==============================] - 1s 183ms/step - loss: 0.0032 - val_loss: 0.0033\n",
      "Epoch 182/200\n",
      "6/6 [==============================] - 1s 180ms/step - loss: 0.0032 - val_loss: 0.0031\n",
      "Epoch 183/200\n",
      "6/6 [==============================] - 1s 186ms/step - loss: 0.0032 - val_loss: 0.0032\n",
      "Epoch 184/200\n",
      "6/6 [==============================] - 1s 176ms/step - loss: 0.0032 - val_loss: 0.0031\n",
      "Epoch 185/200\n",
      "6/6 [==============================] - 1s 183ms/step - loss: 0.0033 - val_loss: 0.0032\n",
      "Epoch 186/200\n",
      "6/6 [==============================] - 1s 169ms/step - loss: 0.0034 - val_loss: 0.0036\n",
      "Epoch 187/200\n",
      "6/6 [==============================] - 1s 173ms/step - loss: 0.0039 - val_loss: 0.0040\n",
      "Epoch 188/200\n",
      "6/6 [==============================] - 1s 170ms/step - loss: 0.0038 - val_loss: 0.0033\n",
      "Epoch 189/200\n",
      "6/6 [==============================] - 1s 174ms/step - loss: 0.0042 - val_loss: 0.0035\n",
      "Epoch 190/200\n",
      "6/6 [==============================] - 1s 182ms/step - loss: 0.0046 - val_loss: 0.0036\n",
      "Epoch 191/200\n",
      "6/6 [==============================] - 1s 173ms/step - loss: 0.0035 - val_loss: 0.0034\n",
      "Epoch 192/200\n",
      "6/6 [==============================] - 1s 176ms/step - loss: 0.0034 - val_loss: 0.0033\n",
      "Epoch 193/200\n",
      "6/6 [==============================] - 1s 221ms/step - loss: 0.0033 - val_loss: 0.0032\n",
      "Epoch 194/200\n",
      "6/6 [==============================] - 1s 179ms/step - loss: 0.0032 - val_loss: 0.0032\n",
      "Epoch 195/200\n",
      "6/6 [==============================] - 1s 169ms/step - loss: 0.0032 - val_loss: 0.0030\n",
      "Epoch 196/200\n",
      "6/6 [==============================] - 1s 188ms/step - loss: 0.0032 - val_loss: 0.0031\n",
      "Epoch 197/200\n",
      "6/6 [==============================] - 1s 171ms/step - loss: 0.0032 - val_loss: 0.0033\n",
      "Epoch 198/200\n",
      "6/6 [==============================] - 1s 187ms/step - loss: 0.0032 - val_loss: 0.0031\n",
      "Epoch 199/200\n",
      "6/6 [==============================] - 1s 174ms/step - loss: 0.0031 - val_loss: 0.0031\n",
      "Epoch 200/200\n",
      "6/6 [==============================] - 1s 174ms/step - loss: 0.0031 - val_loss: 0.0030\n"
     ]
    }
   ],
   "source": [
    "# from tensorflow.keras.callbacks import EarlyStopping\n",
    "# run the model\n",
    "# early_stopping = EarlyStopping(monitor='val_loss', min_delta=0, patience=20, verbose=5, mode='auto')\n",
    "history = ae.fit(train_generator, epochs=200, validation_data=validation_generator, verbose=1, shuffle = True)"
   ]
  },
  {
   "cell_type": "code",
   "execution_count": 18,
   "metadata": {},
   "outputs": [
    {
     "data": {
      "image/png": "[encoded data removed]",
      "text/plain": [
       "<Figure size 640x480 with 1 Axes>"
      ]
     },
     "metadata": {},
     "output_type": "display_data"
    }
   ],
   "source": [
    "\n",
    "# Get the training and validation loss values from the history object\n",
    "train_loss = history.history['loss']\n",
    "val_loss = history.history['val_loss']\n",
    "\n",
    "# Plot the training and validation loss\n",
    "epochs = range(1, len(train_loss) + 1)\n",
    "plt.plot(epochs, train_loss, 'b-', label='Training Loss')\n",
    "plt.plot(epochs, val_loss, 'r-', label='Validation Loss')\n",
    "plt.title('Training and Validation Loss')\n",
    "plt.xlabel('Epochs')\n",
    "plt.ylabel('Loss')\n",
    "plt.legend()\n",
    "plt.show()\n"
   ]
  },
  {
   "cell_type": "code",
   "execution_count": 19,
   "metadata": {},
   "outputs": [
    {
     "name": "stdout",
     "output_type": "stream",
     "text": [
      "ResemblingGoodAutoModel2\n"
     ]
    }
   ],
   "source": [
    "model_version = 'ResemblingGoodAutoModel2'\n",
    "print(model_version)"
   ]
  },
  {
   "cell_type": "code",
   "execution_count": 20,
   "metadata": {},
   "outputs": [
    {
     "name": "stderr",
     "output_type": "stream",
     "text": [
      "2023-06-06 12:39:02.452536: W tensorflow/python/util/util.cc:329] Sets are not currently considered sequences, but this may change in the future, so consider avoiding using them.\n"
     ]
    },
    {
     "name": "stdout",
     "output_type": "stream",
     "text": [
      "WARNING:tensorflow:From /home/alexpc/.local/lib/python3.8/site-packages/tensorflow/python/ops/resource_variable_ops.py:1813: calling BaseResourceVariable.__init__ (from tensorflow.python.ops.resource_variable_ops) with constraint is deprecated and will be removed in a future version.\n",
      "Instructions for updating:\n",
      "If using Keras pass *_constraint arguments to layers.\n",
      "INFO:tensorflow:Assets written to: ../../BottlesAnomalies_TFM/models/ResemblingGoodAutoModel2/assets\n"
     ]
    }
   ],
   "source": [
    "ae.save(f\"../../BottlesAnomalies_TFM/models/{model_version}\")"
   ]
  },
  {
   "cell_type": "code",
   "execution_count": 21,
   "metadata": {},
   "outputs": [
    {
     "name": "stdout",
     "output_type": "stream",
     "text": [
      "<class 'tensorflow.python.keras.engine.training.Model'>\n"
     ]
    }
   ],
   "source": [
    "print(type(ae))"
   ]
  },
  {
   "attachments": {},
   "cell_type": "markdown",
   "metadata": {},
   "source": [
    "Loading the model that was previously saved\n"
   ]
  },
  {
   "cell_type": "code",
   "execution_count": 22,
   "metadata": {},
   "outputs": [
    {
     "name": "stdout",
     "output_type": "stream",
     "text": [
      "<class 'tensorflow.python.keras.engine.training.Model'>\n"
     ]
    }
   ],
   "source": [
    "model = keras.models.load_model('../models/ResemblingGoodAutoModel2')\n",
    "print(type(model))"
   ]
  },
  {
   "attachments": {},
   "cell_type": "markdown",
   "metadata": {},
   "source": [
    "## See the weights after the model loading"
   ]
  },
  {
   "attachments": {},
   "cell_type": "markdown",
   "metadata": {},
   "source": [
    "These are the weights of a specific layer of the encoder model, AFTER training:"
   ]
  },
  {
   "cell_type": "code",
   "execution_count": 23,
   "metadata": {},
   "outputs": [
    {
     "name": "stdout",
     "output_type": "stream",
     "text": [
      "quantity of layers in the model:  15\n",
      "The weigths in the conv2d is:  [<tf.Variable 'conv2d/kernel:0' shape=(3, 3, 3, 128) dtype=float32, numpy=\n",
      "array([[[[-0.08335471,  0.00341708,  0.03585363, ...,  0.04616039,\n",
      "           0.06797823, -0.07092823],\n",
      "         [-0.06030418, -0.05802096,  0.01995778, ..., -0.06690168,\n",
      "          -0.03110142, -0.06836537],\n",
      "         [ 0.03688354,  0.04446709, -0.0240126 , ..., -0.0116647 ,\n",
      "           0.06461255,  0.03260755]],\n",
      "\n",
      "        [[-0.00225525, -0.07134029,  0.04287161, ..., -0.03884311,\n",
      "          -0.03085355, -0.01137328],\n",
      "         [ 0.08547153, -0.00697967,  0.05022137, ...,  0.05149673,\n",
      "           0.04795828,  0.01142236],\n",
      "         [ 0.04489548, -0.00281115,  0.04594373, ...,  0.0600303 ,\n",
      "           0.00245266, -0.0056399 ]],\n",
      "\n",
      "        [[-0.02515716, -0.0027748 , -0.05036973, ...,  0.03146334,\n",
      "          -0.02763331,  0.01135874],\n",
      "         [-0.02133205, -0.00990808,  0.02935808, ..., -0.0126224 ,\n",
      "          -0.06256807, -0.04965519],\n",
      "         [-0.0398898 , -0.05005477, -0.01241281, ...,  0.02482085,\n",
      "          -0.04977664,  0.02836397]]],\n",
      "\n",
      "\n",
      "       [[[-0.04887687, -0.02673903, -0.02317048, ...,  0.06779943,\n",
      "           0.03257231,  0.03470016],\n",
      "         [-0.02382845, -0.0739995 , -0.01546564, ...,  0.05400629,\n",
      "           0.01348707, -0.04063563],\n",
      "         [-0.03881101, -0.07490186,  0.0627567 , ...,  0.05309745,\n",
      "          -0.03024042, -0.06529983]],\n",
      "\n",
      "        [[ 0.069431  , -0.00777105, -0.03121307, ...,  0.0153503 ,\n",
      "           0.04719693,  0.03855842],\n",
      "         [ 0.04987263,  0.06790692, -0.03265293, ...,  0.02591957,\n",
      "           0.05687551,  0.0317908 ],\n",
      "         [ 0.00478259,  0.00540772,  0.03034195, ..., -0.03589864,\n",
      "          -0.04319956, -0.0451064 ]],\n",
      "\n",
      "        [[ 0.05932622,  0.06166538,  0.02444021, ...,  0.02924798,\n",
      "           0.05330329,  0.00431529],\n",
      "         [ 0.01481828,  0.08732534,  0.00840974, ...,  0.02333639,\n",
      "          -0.05133717,  0.0388985 ],\n",
      "         [ 0.00737428,  0.07241844,  0.00149387, ..., -0.07175913,\n",
      "           0.07317538,  0.00086401]]],\n",
      "\n",
      "\n",
      "       [[[-0.0682355 , -0.04365274, -0.06012341, ...,  0.07012875,\n",
      "           0.05316858, -0.07026685],\n",
      "         [-0.07129576, -0.04139801, -0.04145789, ..., -0.06028393,\n",
      "          -0.03469295, -0.01400368],\n",
      "         [-0.05856855, -0.03760715,  0.06664253, ...,  0.054382  ,\n",
      "           0.03866145, -0.02831582]],\n",
      "\n",
      "        [[-0.01542099, -0.02046863, -0.06056236, ..., -0.0633731 ,\n",
      "           0.02424969,  0.03946318],\n",
      "         [-0.0167575 , -0.01840169,  0.06306706, ...,  0.05217506,\n",
      "           0.01539929, -0.06332162],\n",
      "         [-0.03795853,  0.08518535, -0.01768862, ...,  0.05982039,\n",
      "           0.03491566,  0.04853205]],\n",
      "\n",
      "        [[ 0.02896388,  0.08910605,  0.04479166, ...,  0.00424786,\n",
      "           0.00486042, -0.02589796],\n",
      "         [-0.04435942,  0.04781324, -0.04876397, ..., -0.02033335,\n",
      "          -0.02320107, -0.07123166],\n",
      "         [ 0.06847906,  0.0949835 , -0.04447036, ..., -0.06783196,\n",
      "           0.04842373, -0.0503238 ]]]], dtype=float32)>, <tf.Variable 'conv2d/bias:0' shape=(128,) dtype=float32, numpy=\n",
      "array([ 0.02988151, -0.01970287, -0.00535016,  0.02398444, -0.02703558,\n",
      "       -0.01010578, -0.02424144, -0.04179779,  0.01135244, -0.04179542,\n",
      "       -0.02217134, -0.02974028, -0.00292842, -0.04532235,  0.0348458 ,\n",
      "        0.05173961,  0.        , -0.02042608, -0.05564352, -0.02583882,\n",
      "       -0.04463138,  0.00629417,  0.06806974, -0.01915583, -0.02596465,\n",
      "       -0.0272279 ,  0.00827807, -0.01016968, -0.02489707, -0.0270033 ,\n",
      "        0.03164442, -0.05761855, -0.03572366, -0.01747719,  0.03518558,\n",
      "       -0.01683998, -0.02461833, -0.02545062,  0.01760138, -0.03792237,\n",
      "        0.00651865, -0.01995421, -0.02154082, -0.01936038,  0.02657148,\n",
      "       -0.02601247,  0.0138764 , -0.01844486,  0.        , -0.04694223,\n",
      "       -0.02505521, -0.00412327, -0.02976561, -0.01926124, -0.02594061,\n",
      "       -0.0260955 ,  0.02192076, -0.06754167,  0.04452734, -0.02021004,\n",
      "        0.01386793, -0.03478581, -0.00512294, -0.02237553, -0.02319507,\n",
      "       -0.08746534, -0.01848351, -0.02191682, -0.00663912, -0.00030732,\n",
      "       -0.03074259, -0.04192764,  0.00506357, -0.0231993 , -0.03159625,\n",
      "        0.03685974, -0.02359096, -0.05674887, -0.0223805 , -0.04439526,\n",
      "       -0.03107639, -0.02901902, -0.02467723, -0.00209128, -0.00930703,\n",
      "        0.07345188,  0.02619372, -0.0274172 , -0.02908936, -0.00319605,\n",
      "        0.04840418, -0.02877733,  0.03219232, -0.05951499,  0.03449843,\n",
      "       -0.00837398,  0.        , -0.03459046, -0.03725671, -0.0239501 ,\n",
      "       -0.03077962, -0.01627296,  0.01290097,  0.03015266, -0.02247928,\n",
      "        0.03525887,  0.        , -0.02167211,  0.02013078,  0.08220832,\n",
      "       -0.01780873, -0.0228992 , -0.04397488, -0.03119867, -0.01343952,\n",
      "       -0.01823515, -0.01990234,  0.03037593, -0.00507251, -0.01937767,\n",
      "       -0.03086896,  0.03626705,  0.02638427,  0.0481771 ,  0.00083463,\n",
      "       -0.0363173 , -0.02487081,  0.00135401], dtype=float32)>]\n"
     ]
    }
   ],
   "source": [
    "layer_number = 1\n",
    "print(\"quantity of layers in the model: \", len(encoder.layers))\n",
    "print(\"The weigths in the\", encoder.layers[layer_number].name, \"is: \", encoder.layers[layer_number].weights)"
   ]
  },
  {
   "attachments": {},
   "cell_type": "markdown",
   "metadata": {},
   "source": [
    "These are the weights of a specific layer of the Autoencoder model, AFTER training:"
   ]
  },
  {
   "cell_type": "code",
   "execution_count": 24,
   "metadata": {},
   "outputs": [
    {
     "name": "stdout",
     "output_type": "stream",
     "text": [
      "quantity of layers in the model:  16\n",
      "The weigths in the conv2d is:  [<tf.Variable 'conv2d/kernel:0' shape=(3, 3, 3, 128) dtype=float32, numpy=\n",
      "array([[[[-0.08335471,  0.00341708,  0.03585363, ...,  0.04616039,\n",
      "           0.06797823, -0.07092823],\n",
      "         [-0.06030418, -0.05802096,  0.01995778, ..., -0.06690168,\n",
      "          -0.03110142, -0.06836537],\n",
      "         [ 0.03688354,  0.04446709, -0.0240126 , ..., -0.0116647 ,\n",
      "           0.06461255,  0.03260755]],\n",
      "\n",
      "        [[-0.00225525, -0.07134029,  0.04287161, ..., -0.03884311,\n",
      "          -0.03085355, -0.01137328],\n",
      "         [ 0.08547153, -0.00697967,  0.05022137, ...,  0.05149673,\n",
      "           0.04795828,  0.01142236],\n",
      "         [ 0.04489548, -0.00281115,  0.04594373, ...,  0.0600303 ,\n",
      "           0.00245266, -0.0056399 ]],\n",
      "\n",
      "        [[-0.02515716, -0.0027748 , -0.05036973, ...,  0.03146334,\n",
      "          -0.02763331,  0.01135874],\n",
      "         [-0.02133205, -0.00990808,  0.02935808, ..., -0.0126224 ,\n",
      "          -0.06256807, -0.04965519],\n",
      "         [-0.0398898 , -0.05005477, -0.01241281, ...,  0.02482085,\n",
      "          -0.04977664,  0.02836397]]],\n",
      "\n",
      "\n",
      "       [[[-0.04887687, -0.02673903, -0.02317048, ...,  0.06779943,\n",
      "           0.03257231,  0.03470016],\n",
      "         [-0.02382845, -0.0739995 , -0.01546564, ...,  0.05400629,\n",
      "           0.01348707, -0.04063563],\n",
      "         [-0.03881101, -0.07490186,  0.0627567 , ...,  0.05309745,\n",
      "          -0.03024042, -0.06529983]],\n",
      "\n",
      "        [[ 0.069431  , -0.00777105, -0.03121307, ...,  0.0153503 ,\n",
      "           0.04719693,  0.03855842],\n",
      "         [ 0.04987263,  0.06790692, -0.03265293, ...,  0.02591957,\n",
      "           0.05687551,  0.0317908 ],\n",
      "         [ 0.00478259,  0.00540772,  0.03034195, ..., -0.03589864,\n",
      "          -0.04319956, -0.0451064 ]],\n",
      "\n",
      "        [[ 0.05932622,  0.06166538,  0.02444021, ...,  0.02924798,\n",
      "           0.05330329,  0.00431529],\n",
      "         [ 0.01481828,  0.08732534,  0.00840974, ...,  0.02333639,\n",
      "          -0.05133717,  0.0388985 ],\n",
      "         [ 0.00737428,  0.07241844,  0.00149387, ..., -0.07175913,\n",
      "           0.07317538,  0.00086401]]],\n",
      "\n",
      "\n",
      "       [[[-0.0682355 , -0.04365274, -0.06012341, ...,  0.07012875,\n",
      "           0.05316858, -0.07026685],\n",
      "         [-0.07129576, -0.04139801, -0.04145789, ..., -0.06028393,\n",
      "          -0.03469295, -0.01400368],\n",
      "         [-0.05856855, -0.03760715,  0.06664253, ...,  0.054382  ,\n",
      "           0.03866145, -0.02831582]],\n",
      "\n",
      "        [[-0.01542099, -0.02046863, -0.06056236, ..., -0.0633731 ,\n",
      "           0.02424969,  0.03946318],\n",
      "         [-0.0167575 , -0.01840169,  0.06306706, ...,  0.05217506,\n",
      "           0.01539929, -0.06332162],\n",
      "         [-0.03795853,  0.08518535, -0.01768862, ...,  0.05982039,\n",
      "           0.03491566,  0.04853205]],\n",
      "\n",
      "        [[ 0.02896388,  0.08910605,  0.04479166, ...,  0.00424786,\n",
      "           0.00486042, -0.02589796],\n",
      "         [-0.04435942,  0.04781324, -0.04876397, ..., -0.02033335,\n",
      "          -0.02320107, -0.07123166],\n",
      "         [ 0.06847906,  0.0949835 , -0.04447036, ..., -0.06783196,\n",
      "           0.04842373, -0.0503238 ]]]], dtype=float32)>, <tf.Variable 'conv2d/bias:0' shape=(128,) dtype=float32, numpy=\n",
      "array([ 0.02988151, -0.01970287, -0.00535016,  0.02398444, -0.02703558,\n",
      "       -0.01010578, -0.02424144, -0.04179779,  0.01135244, -0.04179542,\n",
      "       -0.02217134, -0.02974028, -0.00292842, -0.04532235,  0.0348458 ,\n",
      "        0.05173961,  0.        , -0.02042608, -0.05564352, -0.02583882,\n",
      "       -0.04463138,  0.00629417,  0.06806974, -0.01915583, -0.02596465,\n",
      "       -0.0272279 ,  0.00827807, -0.01016968, -0.02489707, -0.0270033 ,\n",
      "        0.03164442, -0.05761855, -0.03572366, -0.01747719,  0.03518558,\n",
      "       -0.01683998, -0.02461833, -0.02545062,  0.01760138, -0.03792237,\n",
      "        0.00651865, -0.01995421, -0.02154082, -0.01936038,  0.02657148,\n",
      "       -0.02601247,  0.0138764 , -0.01844486,  0.        , -0.04694223,\n",
      "       -0.02505521, -0.00412327, -0.02976561, -0.01926124, -0.02594061,\n",
      "       -0.0260955 ,  0.02192076, -0.06754167,  0.04452734, -0.02021004,\n",
      "        0.01386793, -0.03478581, -0.00512294, -0.02237553, -0.02319507,\n",
      "       -0.08746534, -0.01848351, -0.02191682, -0.00663912, -0.00030732,\n",
      "       -0.03074259, -0.04192764,  0.00506357, -0.0231993 , -0.03159625,\n",
      "        0.03685974, -0.02359096, -0.05674887, -0.0223805 , -0.04439526,\n",
      "       -0.03107639, -0.02901902, -0.02467723, -0.00209128, -0.00930703,\n",
      "        0.07345188,  0.02619372, -0.0274172 , -0.02908936, -0.00319605,\n",
      "        0.04840418, -0.02877733,  0.03219232, -0.05951499,  0.03449843,\n",
      "       -0.00837398,  0.        , -0.03459046, -0.03725671, -0.0239501 ,\n",
      "       -0.03077962, -0.01627296,  0.01290097,  0.03015266, -0.02247928,\n",
      "        0.03525887,  0.        , -0.02167211,  0.02013078,  0.08220832,\n",
      "       -0.01780873, -0.0228992 , -0.04397488, -0.03119867, -0.01343952,\n",
      "       -0.01823515, -0.01990234,  0.03037593, -0.00507251, -0.01937767,\n",
      "       -0.03086896,  0.03626705,  0.02638427,  0.0481771 ,  0.00083463,\n",
      "       -0.0363173 , -0.02487081,  0.00135401], dtype=float32)>]\n"
     ]
    }
   ],
   "source": [
    "layer_number = 1\n",
    "print(\"quantity of layers in the model: \", len(model.layers))\n",
    "print(\"The weigths in the\", model.layers[layer_number].name, \"is: \", model.layers[layer_number].weights)"
   ]
  },
  {
   "attachments": {},
   "cell_type": "markdown",
   "metadata": {},
   "source": [
    "Indeed the weights of the \"Autoencoder\" model have been updated but the ones from the \"Encoder\" have not. This is expected, since the model that was trained was actually the \"Autoencoder\" mdoel."
   ]
  },
  {
   "attachments": {},
   "cell_type": "markdown",
   "metadata": {},
   "source": [
    "## Perform an Autoencoder reconstruction in one image"
   ]
  },
  {
   "attachments": {},
   "cell_type": "markdown",
   "metadata": {},
   "source": [
    "Get all batches generated by the datagen and pick a batch for prediction"
   ]
  },
  {
   "cell_type": "code",
   "execution_count": 25,
   "metadata": {},
   "outputs": [
    {
     "name": "stdout",
     "output_type": "stream",
     "text": [
      "number of batches are:  6\n"
     ]
    }
   ],
   "source": [
    "#Just to test the model. \n",
    "data_batch = []  #Capture all training batches as a numpy array\n",
    "img_num = 0\n",
    "# while img_num <= train_generator.batch_index:   #gets each generated batch of size batch_size\n",
    "while img_num < len(train_generator):        #I think this should be the correct while clause\n",
    "    data = train_generator.next()\n",
    "    data_batch.append(data[0])\n",
    "    img_num = img_num + 1\n",
    "    \n",
    "print(\"number of batches are: \", img_num)\n"
   ]
  },
  {
   "cell_type": "code",
   "execution_count": 26,
   "metadata": {},
   "outputs": [
    {
     "name": "stdout",
     "output_type": "stream",
     "text": [
      "6\n"
     ]
    }
   ],
   "source": [
    "print(len(data_batch))"
   ]
  },
  {
   "attachments": {},
   "cell_type": "markdown",
   "metadata": {},
   "source": [
    "Predict on the first batch of images. Do also notice that the prediction is being carried out over the images we used for training."
   ]
  },
  {
   "cell_type": "code",
   "execution_count": 27,
   "metadata": {},
   "outputs": [
    {
     "name": "stdout",
     "output_type": "stream",
     "text": [
      "(32, 224, 224, 3)\n",
      "(32, 224, 224, 3)\n"
     ]
    }
   ],
   "source": [
    "print(data_batch[0].shape)\n",
    "predicted = model.predict(data_batch[0])  \n",
    "print(predicted.shape)"
   ]
  },
  {
   "attachments": {},
   "cell_type": "markdown",
   "metadata": {},
   "source": [
    "The above is 15 length because it corresponds to the 15 predicted images of a batch. Recall that the predictions are reconstructions of the input images, since we are working with the autoencoder network."
   ]
  },
  {
   "cell_type": "code",
   "execution_count": 28,
   "metadata": {},
   "outputs": [],
   "source": [
    "single_img = data_batch[0][0]"
   ]
  },
  {
   "cell_type": "code",
   "execution_count": 29,
   "metadata": {},
   "outputs": [
    {
     "name": "stdout",
     "output_type": "stream",
     "text": [
      "(224, 224, 3)\n"
     ]
    }
   ],
   "source": [
    "print(single_img.shape)"
   ]
  },
  {
   "cell_type": "code",
   "execution_count": 30,
   "metadata": {},
   "outputs": [
    {
     "data": {
      "image/png": "[encoded data removed]",
      "text/plain": [
       "<Figure size 1200x600 with 2 Axes>"
      ]
     },
     "metadata": {},
     "output_type": "display_data"
    }
   ],
   "source": [
    "#Sanity check, view few images and corresponding reconstructions\n",
    "image_number = random.randint(0, predicted.shape[0]-1)\n",
    "plt.figure(figsize=(12, 6))\n",
    "plt.subplot(121)\n",
    "plt.title(\"input image\")\n",
    "plt.imshow(data_batch[0][image_number])\n",
    "plt.subplot(122)\n",
    "plt.title(\"reconstructed image\")\n",
    "plt.imshow(predicted[image_number])\n",
    "plt.show()"
   ]
  },
  {
   "attachments": {},
   "cell_type": "markdown",
   "metadata": {},
   "source": [
    "# Quantifying the reconstruction error using \"evaluate_generator()\" function"
   ]
  },
  {
   "attachments": {},
   "cell_type": "markdown",
   "metadata": {},
   "source": [
    "Let us examine the reconstruction error of our validation data (good/normal images) and the anomaly images"
   ]
  },
  {
   "cell_type": "code",
   "execution_count": 31,
   "metadata": {},
   "outputs": [
    {
     "name": "stdout",
     "output_type": "stream",
     "text": [
      "WARNING:tensorflow:From /tmp/ipykernel_12527/2207300971.py:1: Model.evaluate_generator (from tensorflow.python.keras.engine.training) is deprecated and will be removed in a future version.\n",
      "Instructions for updating:\n",
      "Please use Model.evaluate, which supports generators.\n",
      "Recon. error for the validation (normal) data is:  0.0030383430421352386\n"
     ]
    }
   ],
   "source": [
    "validation_error = model.evaluate_generator(validation_generator)\n",
    "print(\"Recon. error for the validation (normal) data is: \", validation_error)"
   ]
  },
  {
   "attachments": {},
   "cell_type": "markdown",
   "metadata": {},
   "source": [
    "This reconstruction error above should be very low, since the validation generator is full of normal images (good images)"
   ]
  },
  {
   "attachments": {},
   "cell_type": "markdown",
   "metadata": {},
   "source": [
    "Whereas the reconstruction error here below, for the \"anomaly_generator\" should be higher, since this dataset is comprised of full anomaly images."
   ]
  },
  {
   "cell_type": "code",
   "execution_count": 32,
   "metadata": {},
   "outputs": [
    {
     "name": "stdout",
     "output_type": "stream",
     "text": [
      "Recon. error for the anomaly data is:  0.0034346214961260557\n"
     ]
    }
   ],
   "source": [
    "anomaly_error = model.evaluate_generator(anomaly_generator)\n",
    "print(\"Recon. error for the anomaly data is: \", anomaly_error)"
   ]
  },
  {
   "attachments": {},
   "cell_type": "markdown",
   "metadata": {},
   "source": [
    "See that this error is slightly higher than the error in the validation dataset. This is good, but the difference is not that significant and this could result in wrong anomaly detections. Let's see some detections."
   ]
  },
  {
   "attachments": {},
   "cell_type": "markdown",
   "metadata": {},
   "source": [
    "SIDENOTE: Additionally, we can check the train generator error according to the \"evaluate_generator()\" function."
   ]
  },
  {
   "cell_type": "code",
   "execution_count": 33,
   "metadata": {},
   "outputs": [
    {
     "name": "stdout",
     "output_type": "stream",
     "text": [
      "Recon. error for the training (non-anomaly) data is:  0.0031459713354706764\n"
     ]
    }
   ],
   "source": [
    "training_error = model.evaluate_generator(train_generator)\n",
    "print(\"Recon. error for the training (non-anomaly) data is: \", training_error)"
   ]
  },
  {
   "attachments": {},
   "cell_type": "markdown",
   "metadata": {},
   "source": [
    "See that the above value does not correspond with the below mean reconstruction error of the training set that will be computed. It should at least be close, I think. This is something to check."
   ]
  },
  {
   "attachments": {},
   "cell_type": "markdown",
   "metadata": {},
   "source": [
    "Also see tha the error from the anomaly images is smaller than the error of the training set, which consists of non-anomaly images. THis is not expected and means that this particular model is shit."
   ]
  },
  {
   "attachments": {},
   "cell_type": "markdown",
   "metadata": {},
   "source": [
    "# Computing the reconstruction error without using the \"evaluate_generator()\" function"
   ]
  },
  {
   "attachments": {},
   "cell_type": "markdown",
   "metadata": {},
   "source": [
    "The following function computes the reconstrution error per each batch of images. It does, for each of the batches:\n",
    "- Initialize a vector for storing the reconstruction errors.\n",
    "- A for loop that traverses all the images contained in a batch.\n",
    "    - Take the one image of the batch.\n",
    "    - Add a new size dimension to the image.\n",
    "    - Make a prediction of the selected image with the model that was built.\n",
    "    - Evaluate the performance of the prediction, i.e. compute the prediction error.\n",
    "    - Append the reconstruction error into a list.\n",
    "- Compute the mean and std deviation of the error.\n",
    " "
   ]
  },
  {
   "cell_type": "code",
   "execution_count": 34,
   "metadata": {},
   "outputs": [],
   "source": [
    "def calc_recon_error(batch_images):   \n",
    "    recon_error_list=[]\n",
    "    for im in range(0, batch_images.shape[0]):\n",
    "        img  = batch_images[im]\n",
    "        img = img[np.newaxis, :,:,:]\n",
    "        reconstruction = model.predict([[img]])\n",
    "        # reconstruction_error = model.evaluate([reconstruction],[[img]], batch_size = 1)[0]    # The batch_size parameter for the moment can be supressed. Results were seen to be the same\n",
    "        # reconstruction_error = model.evaluate([reconstruction],[[img]])[0]                    # It included the [0] subscription but with this new model, the rec error is directly a float value, so no more need for subscription\n",
    "        reconstruction_error = model.evaluate([reconstruction],[[img]])\n",
    "        recon_error_list.append(reconstruction_error)   \n",
    "    return recon_error_list"
   ]
  },
  {
   "cell_type": "code",
   "execution_count": 35,
   "metadata": {},
   "outputs": [
    {
     "name": "stdout",
     "output_type": "stream",
     "text": [
      "1/1 [==============================] - 0s 687us/step - loss: 0.0049\n",
      "1/1 [==============================] - 0s 778us/step - loss: 0.0049\n",
      "1/1 [==============================] - 0s 932us/step - loss: 0.0053\n",
      "1/1 [==============================] - 0s 756us/step - loss: 0.0058\n",
      "1/1 [==============================] - 0s 695us/step - loss: 0.0051\n",
      "1/1 [==============================] - 0s 758us/step - loss: 0.0048\n",
      "1/1 [==============================] - 0s 673us/step - loss: 0.0048\n",
      "1/1 [==============================] - 0s 937us/step - loss: 0.0047\n",
      "1/1 [==============================] - 0s 862us/step - loss: 0.0066\n",
      "1/1 [==============================] - 0s 764us/step - loss: 0.0092\n",
      "1/1 [==============================] - 0s 922us/step - loss: 0.0073\n",
      "1/1 [==============================] - 0s 784us/step - loss: 0.0073\n",
      "1/1 [==============================] - 0s 791us/step - loss: 0.0080\n",
      "1/1 [==============================] - 0s 607us/step - loss: 0.0060\n",
      "1/1 [==============================] - 0s 732us/step - loss: 0.0063\n",
      "1/1 [==============================] - 0s 623us/step - loss: 0.0059\n",
      "1/1 [==============================] - 0s 939us/step - loss: 0.0057\n",
      "1/1 [==============================] - 0s 589us/step - loss: 0.0055\n",
      "1/1 [==============================] - 0s 870us/step - loss: 0.0068\n",
      "1/1 [==============================] - 0s 682us/step - loss: 0.0074\n",
      "1/1 [==============================] - 0s 592us/step - loss: 0.0098\n",
      "1/1 [==============================] - 0s 580us/step - loss: 0.0094\n",
      "1/1 [==============================] - 0s 592us/step - loss: 0.0088\n",
      "1/1 [==============================] - 0s 761us/step - loss: 0.0071\n",
      "1/1 [==============================] - 0s 684us/step - loss: 0.0077\n",
      "1/1 [==============================] - 0s 697us/step - loss: 0.0075\n",
      "1/1 [==============================] - 0s 620us/step - loss: 0.0077\n",
      "1/1 [==============================] - 0s 652us/step - loss: 0.0075\n",
      "1/1 [==============================] - 0s 708us/step - loss: 0.0102\n",
      "1/1 [==============================] - 0s 625us/step - loss: 0.0108\n",
      "1/1 [==============================] - 0s 849us/step - loss: 0.0068\n",
      "1/1 [==============================] - 0s 587us/step - loss: 0.0075\n",
      "1/1 [==============================] - 0s 710us/step - loss: 0.0076\n",
      "1/1 [==============================] - 0s 648us/step - loss: 0.0079\n",
      "1/1 [==============================] - 0s 759us/step - loss: 0.0084\n",
      "1/1 [==============================] - 0s 875us/step - loss: 0.0083\n",
      "1/1 [==============================] - 0s 679us/step - loss: 0.0081\n",
      "1/1 [==============================] - 0s 607us/step - loss: 0.0089\n",
      "1/1 [==============================] - 0s 642us/step - loss: 0.0073\n",
      "1/1 [==============================] - 0s 741us/step - loss: 0.0065\n",
      "1/1 [==============================] - 0s 658us/step - loss: 0.0102\n",
      "1/1 [==============================] - 0s 881us/step - loss: 0.0089\n",
      "1/1 [==============================] - 0s 776us/step - loss: 0.0111\n",
      "1/1 [==============================] - 0s 631us/step - loss: 0.0101\n",
      "1/1 [==============================] - 0s 623us/step - loss: 0.0104\n",
      "1/1 [==============================] - 0s 583us/step - loss: 0.0104\n",
      "1/1 [==============================] - 0s 756us/step - loss: 0.0109\n",
      "1/1 [==============================] - 0s 566us/step - loss: 0.0092\n",
      "1/1 [==============================] - 0s 894us/step - loss: 0.0102\n",
      "1/1 [==============================] - 0s 728us/step - loss: 0.0108\n",
      "1/1 [==============================] - 0s 789us/step - loss: 0.0068\n",
      "1/1 [==============================] - 0s 662us/step - loss: 0.0075\n",
      "1/1 [==============================] - 0s 729us/step - loss: 0.0076\n",
      "1/1 [==============================] - 0s 642us/step - loss: 0.0079\n",
      "1/1 [==============================] - 0s 649us/step - loss: 0.0084\n",
      "1/1 [==============================] - 0s 658us/step - loss: 0.0083\n",
      "1/1 [==============================] - 0s 769us/step - loss: 0.0081\n",
      "1/1 [==============================] - 0s 684us/step - loss: 0.0089\n",
      "1/1 [==============================] - 0s 674us/step - loss: 0.0073\n",
      "1/1 [==============================] - 0s 573us/step - loss: 0.0065\n",
      "1/1 [==============================] - 0s 651us/step - loss: 0.0102\n",
      "1/1 [==============================] - 0s 779us/step - loss: 0.0089\n",
      "1/1 [==============================] - 0s 599us/step - loss: 0.0111\n",
      "1/1 [==============================] - 0s 587us/step - loss: 0.0101\n",
      "1/1 [==============================] - 0s 736us/step - loss: 0.0104\n",
      "1/1 [==============================] - 0s 1ms/step - loss: 0.0104\n",
      "1/1 [==============================] - 0s 831us/step - loss: 0.0109\n",
      "1/1 [==============================] - 0s 775us/step - loss: 0.0092\n",
      "1/1 [==============================] - 0s 945us/step - loss: 0.0065\n",
      "1/1 [==============================] - 0s 614us/step - loss: 0.0082\n",
      "1/1 [==============================] - 0s 590us/step - loss: 0.0054\n",
      "1/1 [==============================] - 0s 990us/step - loss: 0.0084\n",
      "1/1 [==============================] - 0s 886us/step - loss: 0.0078\n",
      "1/1 [==============================] - 0s 923us/step - loss: 0.0079\n",
      "1/1 [==============================] - 0s 673us/step - loss: 0.0080\n",
      "1/1 [==============================] - 0s 663us/step - loss: 0.0078\n",
      "1/1 [==============================] - 0s 836us/step - loss: 0.0080\n",
      "1/1 [==============================] - 0s 591us/step - loss: 0.0072\n",
      "1/1 [==============================] - 0s 655us/step - loss: 0.0074\n",
      "1/1 [==============================] - 0s 695us/step - loss: 0.0072\n",
      "1/1 [==============================] - 0s 786us/step - loss: 0.0086\n",
      "1/1 [==============================] - 0s 703us/step - loss: 0.0085\n",
      "1/1 [==============================] - 0s 643us/step - loss: 0.0084\n",
      "1/1 [==============================] - 0s 976us/step - loss: 0.0098\n",
      "1/1 [==============================] - 0s 604us/step - loss: 0.0107\n",
      "1/1 [==============================] - 0s 627us/step - loss: 0.0106\n",
      "1/1 [==============================] - 0s 1ms/step - loss: 0.0069\n",
      "1/1 [==============================] - 0s 628us/step - loss: 0.0065\n",
      "1/1 [==============================] - 0s 775us/step - loss: 0.0096\n",
      "1/1 [==============================] - 0s 753us/step - loss: 0.0078\n",
      "1/1 [==============================] - 0s 668us/step - loss: 0.0075\n",
      "1/1 [==============================] - 0s 737us/step - loss: 0.0080\n",
      "1/1 [==============================] - 0s 648us/step - loss: 0.0082\n",
      "1/1 [==============================] - 0s 633us/step - loss: 0.0083\n",
      "1/1 [==============================] - 0s 910us/step - loss: 0.0091\n",
      "1/1 [==============================] - 0s 594us/step - loss: 0.0084\n",
      "1/1 [==============================] - 0s 579us/step - loss: 0.0079\n",
      "1/1 [==============================] - 0s 682us/step - loss: 0.0078\n",
      "1/1 [==============================] - 0s 613us/step - loss: 0.0080\n",
      "1/1 [==============================] - 0s 817us/step - loss: 0.0069\n",
      "1/1 [==============================] - 0s 648us/step - loss: 0.0076\n",
      "1/1 [==============================] - 0s 689us/step - loss: 0.0079\n",
      "1/1 [==============================] - 0s 603us/step - loss: 0.0081\n",
      "1/1 [==============================] - 0s 765us/step - loss: 0.0081\n",
      "1/1 [==============================] - 0s 944us/step - loss: 0.0077\n",
      "1/1 [==============================] - 0s 796us/step - loss: 0.0066\n",
      "1/1 [==============================] - 0s 812us/step - loss: 0.0066\n",
      "1/1 [==============================] - 0s 756us/step - loss: 0.0058\n",
      "1/1 [==============================] - 0s 640us/step - loss: 0.0059\n",
      "1/1 [==============================] - 0s 587us/step - loss: 0.0060\n",
      "1/1 [==============================] - 0s 752us/step - loss: 0.0061\n",
      "1/1 [==============================] - 0s 586us/step - loss: 0.0062\n",
      "1/1 [==============================] - 0s 556us/step - loss: 0.0062\n",
      "1/1 [==============================] - 0s 608us/step - loss: 0.0064\n",
      "1/1 [==============================] - 0s 585us/step - loss: 0.0069\n",
      "1/1 [==============================] - 0s 940us/step - loss: 0.0059\n",
      "1/1 [==============================] - 0s 696us/step - loss: 0.0063\n",
      "1/1 [==============================] - 0s 623us/step - loss: 0.0060\n",
      "1/1 [==============================] - 0s 722us/step - loss: 0.0059\n",
      "1/1 [==============================] - 0s 597us/step - loss: 0.0060\n",
      "1/1 [==============================] - 0s 776us/step - loss: 0.0061\n",
      "1/1 [==============================] - 0s 628us/step - loss: 0.0060\n",
      "1/1 [==============================] - 0s 586us/step - loss: 0.0058\n",
      "1/1 [==============================] - 0s 748us/step - loss: 0.0063\n",
      "1/1 [==============================] - 0s 602us/step - loss: 0.0093\n",
      "1/1 [==============================] - 0s 570us/step - loss: 0.0098\n",
      "1/1 [==============================] - 0s 678us/step - loss: 0.0099\n",
      "1/1 [==============================] - 0s 591us/step - loss: 0.0099\n",
      "1/1 [==============================] - 0s 734us/step - loss: 0.0099\n",
      "1/1 [==============================] - 0s 625us/step - loss: 0.0100\n",
      "1/1 [==============================] - 0s 847us/step - loss: 0.0096\n",
      "1/1 [==============================] - 0s 612us/step - loss: 0.0096\n",
      "1/1 [==============================] - 0s 778us/step - loss: 0.0094\n",
      "1/1 [==============================] - 0s 670us/step - loss: 0.0102\n",
      "1/1 [==============================] - 0s 938us/step - loss: 0.0081\n",
      "1/1 [==============================] - 0s 983us/step - loss: 0.0107\n",
      "1/1 [==============================] - 0s 765us/step - loss: 0.0118\n",
      "1/1 [==============================] - 0s 613us/step - loss: 0.0106\n",
      "1/1 [==============================] - 0s 634us/step - loss: 0.0099\n",
      "1/1 [==============================] - 0s 657us/step - loss: 0.0090\n",
      "1/1 [==============================] - 0s 603us/step - loss: 0.0089\n",
      "1/1 [==============================] - 0s 606us/step - loss: 0.0090\n",
      "1/1 [==============================] - 0s 888us/step - loss: 0.0094\n",
      "1/1 [==============================] - 0s 682us/step - loss: 0.0087\n",
      "1/1 [==============================] - 0s 616us/step - loss: 0.0096\n",
      "1/1 [==============================] - 0s 708us/step - loss: 0.0106\n",
      "1/1 [==============================] - 0s 703us/step - loss: 0.0102\n",
      "1/1 [==============================] - 0s 631us/step - loss: 0.0048\n",
      "1/1 [==============================] - 0s 700us/step - loss: 0.0051\n",
      "1/1 [==============================] - 0s 609us/step - loss: 0.0051\n",
      "1/1 [==============================] - 0s 618us/step - loss: 0.0073\n",
      "1/1 [==============================] - 0s 596us/step - loss: 0.0080\n",
      "1/1 [==============================] - 0s 611us/step - loss: 0.0072\n",
      "1/1 [==============================] - 0s 694us/step - loss: 0.0075\n",
      "1/1 [==============================] - 0s 686us/step - loss: 0.0076\n",
      "1/1 [==============================] - 0s 705us/step - loss: 0.0071\n",
      "1/1 [==============================] - 0s 684us/step - loss: 0.0070\n",
      "1/1 [==============================] - 0s 607us/step - loss: 0.0082\n",
      "1/1 [==============================] - 0s 804us/step - loss: 0.0081\n",
      "1/1 [==============================] - 0s 693us/step - loss: 0.0051\n",
      "1/1 [==============================] - 0s 606us/step - loss: 0.0053\n",
      "1/1 [==============================] - 0s 600us/step - loss: 0.0059\n",
      "1/1 [==============================] - 0s 567us/step - loss: 0.0107\n",
      "1/1 [==============================] - 0s 677us/step - loss: 0.0082\n",
      "1/1 [==============================] - 0s 613us/step - loss: 0.0108\n",
      "1/1 [==============================] - 0s 608us/step - loss: 0.0097\n",
      "1/1 [==============================] - 0s 644us/step - loss: 0.0052\n",
      "1/1 [==============================] - 0s 742us/step - loss: 0.0043\n",
      "1/1 [==============================] - 0s 589us/step - loss: 0.0043\n",
      "1/1 [==============================] - 0s 693us/step - loss: 0.0052\n",
      "1/1 [==============================] - 0s 644us/step - loss: 0.0055\n",
      "1/1 [==============================] - 0s 594us/step - loss: 0.0069\n",
      "1/1 [==============================] - 0s 635us/step - loss: 0.0062\n",
      "1/1 [==============================] - 0s 597us/step - loss: 0.0050\n",
      "1/1 [==============================] - 0s 597us/step - loss: 0.0050\n",
      "1/1 [==============================] - 0s 620us/step - loss: 0.0045\n",
      "1/1 [==============================] - 0s 722us/step - loss: 0.0046\n",
      "1/1 [==============================] - 0s 634us/step - loss: 0.0062\n",
      "1/1 [==============================] - 0s 641us/step - loss: 0.0078\n",
      "The list of rec. error contains  6 batches of rec. errors\n"
     ]
    }
   ],
   "source": [
    "total_rec_error = []\n",
    "for i in range(len(train_generator)):        #I think this should be the correct while clause\n",
    "    data = train_generator.next()\n",
    "    total_rec_error.append(calc_recon_error(data[0]))\n",
    "    \n",
    "print(\"The list of rec. error contains \", len(total_rec_error), \"batches of rec. errors\")"
   ]
  },
  {
   "cell_type": "code",
   "execution_count": 36,
   "metadata": {},
   "outputs": [
    {
     "name": "stdout",
     "output_type": "stream",
     "text": [
      "179\n"
     ]
    }
   ],
   "source": [
    "total_rec_error_list = [item for sublist in total_rec_error for item in sublist]\n",
    "print(len(total_rec_error_list))"
   ]
  },
  {
   "cell_type": "code",
   "execution_count": 37,
   "metadata": {},
   "outputs": [
    {
     "name": "stdout",
     "output_type": "stream",
     "text": [
      "THIS IS FOR THE TRAINING (NON-ANOMALY) IMAGES\n",
      "\n",
      "The average of the errors list is:  0.0077897338612868796\n",
      "The standard deviation of the errors list is:  0.001787679147098609\n",
      "The min value of the errors list is:  0.004274382721632719\n",
      "The max value of the errors list is:  0.01176402997225523\n"
     ]
    }
   ],
   "source": [
    "na_average_recon_error = np.mean(np.array(total_rec_error_list))  \n",
    "na_stdev_recon_error = np.std(np.array(total_rec_error_list)) \n",
    "min_prob = np.min(total_rec_error_list)\n",
    "max_prob = np.max(total_rec_error_list)\n",
    "print(\"THIS IS FOR THE TRAINING (NON-ANOMALY) IMAGES\\n\")\n",
    "print(\"The average of the errors list is: \", na_average_recon_error)\n",
    "print(\"The standard deviation of the errors list is: \", na_stdev_recon_error)\n",
    "print(\"The min value of the errors list is: \", min_prob)\n",
    "print(\"The max value of the errors list is: \", max_prob)"
   ]
  },
  {
   "attachments": {},
   "cell_type": "markdown",
   "metadata": {},
   "source": [
    "Compute the average and std dev. of recon. error for positive (anomalies) samples. \n"
   ]
  },
  {
   "cell_type": "code",
   "execution_count": 38,
   "metadata": {},
   "outputs": [],
   "source": [
    "anomaly_batch = anomaly_generator.next()"
   ]
  },
  {
   "cell_type": "code",
   "execution_count": 39,
   "metadata": {},
   "outputs": [
    {
     "name": "stdout",
     "output_type": "stream",
     "text": [
      "1/1 [==============================] - 0s 705us/step - loss: 0.0073\n",
      "1/1 [==============================] - 0s 794us/step - loss: 0.0080\n",
      "1/1 [==============================] - 0s 803us/step - loss: 0.0112\n",
      "1/1 [==============================] - 0s 717us/step - loss: 0.0049\n",
      "1/1 [==============================] - 0s 1ms/step - loss: 0.0121\n",
      "1/1 [==============================] - 0s 572us/step - loss: 0.0066\n",
      "The list of rec. error for anomalies contains  1 batches of rec. errors\n"
     ]
    }
   ],
   "source": [
    "total_rec_error_anomalies = []\n",
    "for i in range(len(anomaly_generator)):        #I think this should be the correct while clause\n",
    "    data = anomaly_generator.next()\n",
    "    total_rec_error_anomalies.append(calc_recon_error(data[0]))\n",
    "    \n",
    "print(\"The list of rec. error for anomalies contains \", len(total_rec_error_anomalies), \"batches of rec. errors\")"
   ]
  },
  {
   "cell_type": "code",
   "execution_count": 40,
   "metadata": {},
   "outputs": [
    {
     "name": "stdout",
     "output_type": "stream",
     "text": [
      "6\n"
     ]
    }
   ],
   "source": [
    "total_rec_error_anomalies = [item for sublist in total_rec_error_anomalies for item in sublist]\n",
    "print(len(total_rec_error_anomalies))"
   ]
  },
  {
   "cell_type": "code",
   "execution_count": 41,
   "metadata": {},
   "outputs": [
    {
     "name": "stdout",
     "output_type": "stream",
     "text": [
      "THIS IS FOR THE ANOMALY IMAGES\n",
      "\n",
      "The average of the errors list is:  0.008352405314023295\n",
      "The standard deviation of the errors list is:  0.0025362369910253164\n",
      "The min value of the errors list is:  0.004860306158661842\n",
      "The max value of the errors list is:  0.012091884389519691\n"
     ]
    }
   ],
   "source": [
    "a_average_recon_error = np.mean(np.array(total_rec_error_anomalies))  \n",
    "a_stdev_recon_error = np.std(np.array(total_rec_error_anomalies)) \n",
    "min_prob = np.min(total_rec_error_anomalies)\n",
    "max_prob = np.max(total_rec_error_anomalies)\n",
    "print(\"THIS IS FOR THE ANOMALY IMAGES\\n\")\n",
    "print(\"The average of the errors list is: \", a_average_recon_error)\n",
    "print(\"The standard deviation of the errors list is: \", a_stdev_recon_error)\n",
    "print(\"The min value of the errors list is: \", min_prob)\n",
    "print(\"The max value of the errors list is: \", max_prob)"
   ]
  },
  {
   "attachments": {},
   "cell_type": "markdown",
   "metadata": {},
   "source": [
    "Compute the average and std dev. of recon. error for the validation (non-anomalies) samples. \n"
   ]
  },
  {
   "cell_type": "code",
   "execution_count": 42,
   "metadata": {},
   "outputs": [
    {
     "name": "stdout",
     "output_type": "stream",
     "text": [
      "1/1 [==============================] - 0s 632us/step - loss: 0.0103\n",
      "1/1 [==============================] - 0s 741us/step - loss: 0.0099\n",
      "1/1 [==============================] - 0s 665us/step - loss: 0.0094\n",
      "1/1 [==============================] - 0s 752us/step - loss: 0.0095\n",
      "1/1 [==============================] - 0s 800us/step - loss: 0.0094\n",
      "1/1 [==============================] - 0s 640us/step - loss: 0.0094\n",
      "1/1 [==============================] - 0s 615us/step - loss: 0.0085\n",
      "1/1 [==============================] - 0s 621us/step - loss: 0.0078\n",
      "1/1 [==============================] - 0s 694us/step - loss: 0.0089\n",
      "1/1 [==============================] - 0s 592us/step - loss: 0.0081\n",
      "1/1 [==============================] - 0s 922us/step - loss: 0.0102\n",
      "1/1 [==============================] - 0s 552us/step - loss: 0.0096\n",
      "1/1 [==============================] - 0s 651us/step - loss: 0.0100\n",
      "1/1 [==============================] - 0s 723us/step - loss: 0.0096\n",
      "1/1 [==============================] - 0s 923us/step - loss: 0.0087\n",
      "1/1 [==============================] - 0s 877us/step - loss: 0.0101\n",
      "1/1 [==============================] - 0s 614us/step - loss: 0.0075\n",
      "1/1 [==============================] - 0s 1ms/step - loss: 0.0077\n",
      "1/1 [==============================] - 0s 1ms/step - loss: 0.0105\n",
      "1/1 [==============================] - 0s 751us/step - loss: 0.0104\n",
      "1/1 [==============================] - 0s 632us/step - loss: 0.0103\n",
      "1/1 [==============================] - 0s 992us/step - loss: 0.0100\n",
      "1/1 [==============================] - 0s 648us/step - loss: 0.0082\n",
      "1/1 [==============================] - 0s 827us/step - loss: 0.0105\n",
      "1/1 [==============================] - 0s 593us/step - loss: 0.0105\n",
      "1/1 [==============================] - 0s 616us/step - loss: 0.0107\n",
      "1/1 [==============================] - 0s 609us/step - loss: 0.0109\n",
      "1/1 [==============================] - 0s 648us/step - loss: 0.0111\n",
      "1/1 [==============================] - 0s 935us/step - loss: 0.0104\n",
      "1/1 [==============================] - 0s 921us/step - loss: 0.0104\n",
      "The list of rec. error for anomalies contains  1 batches of rec. errors\n"
     ]
    }
   ],
   "source": [
    "total_rec_error_validation = []\n",
    "for i in range(len(validation_generator)):        #I think this should be the correct while clause\n",
    "    data = validation_generator.next()\n",
    "    total_rec_error_validation.append(calc_recon_error(data[0]))\n",
    "    \n",
    "print(\"The list of rec. error for anomalies contains \", len(total_rec_error_validation), \"batches of rec. errors\")"
   ]
  },
  {
   "cell_type": "code",
   "execution_count": 43,
   "metadata": {},
   "outputs": [
    {
     "name": "stdout",
     "output_type": "stream",
     "text": [
      "30\n"
     ]
    }
   ],
   "source": [
    "total_rec_error_validation = [item for sublist in total_rec_error_validation for item in sublist]\n",
    "print(len(total_rec_error_validation))"
   ]
  },
  {
   "cell_type": "code",
   "execution_count": 44,
   "metadata": {},
   "outputs": [
    {
     "name": "stdout",
     "output_type": "stream",
     "text": [
      "THIS IS FOR THE VALIDATION IMAGES\n",
      "\n",
      "The average of the errors list is:  0.009616904131447276\n",
      "The standard deviation of the errors list is:  0.0009883692918234825\n",
      "The min value of the errors list is:  0.007495055440813303\n",
      "The max value of the errors list is:  0.011082123965024948\n"
     ]
    }
   ],
   "source": [
    "val_average_recon_error = np.mean(np.array(total_rec_error_validation))  \n",
    "val_stdev_recon_error = np.std(np.array(total_rec_error_validation)) \n",
    "min_prob = np.min(total_rec_error_validation)\n",
    "max_prob = np.max(total_rec_error_validation)\n",
    "print(\"THIS IS FOR THE VALIDATION IMAGES\\n\")\n",
    "print(\"The average of the errors list is: \", val_average_recon_error)\n",
    "print(\"The standard deviation of the errors list is: \", val_stdev_recon_error)\n",
    "print(\"The min value of the errors list is: \", min_prob)\n",
    "print(\"The max value of the errors list is: \", max_prob)"
   ]
  },
  {
   "attachments": {},
   "cell_type": "markdown",
   "metadata": {},
   "source": [
    "Below, we can see the plot of the reconstruction error values, of the non-anomaly list (blue) and the anomaly list (red)."
   ]
  },
  {
   "cell_type": "code",
   "execution_count": 47,
   "metadata": {},
   "outputs": [
    {
     "data": {
      "image/png": "[encoded data removed]",
      "text/plain": [
       "<Figure size 1000x1000 with 1 Axes>"
      ]
     },
     "metadata": {},
     "output_type": "display_data"
    }
   ],
   "source": [
    "plt.figure(figsize=(10, 10))\n",
    "val = 0. # this is the value where you want the data to appear on the y-axis.\n",
    "plt.plot(total_rec_error_list, np.zeros_like(total_rec_error_list) + val, 'x')\n",
    "plt.plot(total_rec_error_anomalies, np.zeros_like(total_rec_error_anomalies) + val, 'ro')\n",
    "plt.show()"
   ]
  },
  {
   "cell_type": "code",
   "execution_count": 49,
   "metadata": {},
   "outputs": [
    {
     "data": {
      "image/png": "[encoded data removed]",
      "text/plain": [
       "<Figure size 640x480 with 1 Axes>"
      ]
     },
     "metadata": {},
     "output_type": "display_data"
    }
   ],
   "source": [
    "import random\n",
    "import numpy\n",
    "from matplotlib import pyplot\n",
    "\n",
    "bins = numpy.linspace(0.004, 0.009, 50)\n",
    "\n",
    "pyplot.hist(total_rec_error_list, bins, alpha=0.5, label='errors non-anomalies')\n",
    "pyplot.hist(total_rec_error_anomalies, bins, alpha=0.5, label='errors anomalies')\n",
    "pyplot.legend(loc='upper right')\n",
    "pyplot.show()"
   ]
  },
  {
   "attachments": {},
   "cell_type": "markdown",
   "metadata": {},
   "source": [
    "## Checking the latent space"
   ]
  },
  {
   "attachments": {},
   "cell_type": "markdown",
   "metadata": {},
   "source": [
    "Let's update the weights of the encoder model."
   ]
  },
  {
   "cell_type": "code",
   "execution_count": 50,
   "metadata": {},
   "outputs": [
    {
     "name": "stdout",
     "output_type": "stream",
     "text": [
      "Layer weights are successfully copied.\n",
      "Layer weights are successfully copied.\n",
      "Layer weights are successfully copied.\n",
      "Layer weights are successfully copied.\n",
      "Layer weights are successfully copied.\n",
      "Layer weights are successfully copied.\n",
      "Layer weights are successfully copied.\n",
      "Layer weights are successfully copied.\n",
      "Layer weights are successfully copied.\n",
      "Layer weights are successfully copied.\n",
      "Layer weights are successfully copied.\n",
      "Layer weights are successfully copied.\n",
      "Layer weights are successfully copied.\n",
      "Layer weights are successfully copied.\n",
      "Layer weights are successfully copied.\n",
      "Layer weights are successfully copied.\n"
     ]
    }
   ],
   "source": [
    "# Copy the layer weights from the base model to the target model\n",
    "for i, target_layer in enumerate(encoder.layers):\n",
    "    base_layer = model.layers[i]\n",
    "    target_layer.set_weights(base_layer.get_weights())\n",
    "\n",
    "# Verify if the weights are successfully copied\n",
    "for base_layer, target_layer in zip(model.layers[:len(encoder.layers)], encoder.layers):\n",
    "    base_weights = base_layer.get_weights()\n",
    "    target_weights = target_layer.get_weights()\n",
    "    for base_weight, target_weight in zip(base_weights, target_weights):\n",
    "        if (base_weight == target_weight).all():\n",
    "            print(\"Layer weights are successfully copied.\")\n",
    "        else:\n",
    "            print(\"Error: Layer weights are not copied correctly.\")\n"
   ]
  },
  {
   "cell_type": "code",
   "execution_count": 51,
   "metadata": {},
   "outputs": [
    {
     "name": "stdout",
     "output_type": "stream",
     "text": [
      "WARNING:tensorflow:From /tmp/ipykernel_12527/402064861.py:6: Model.predict_generator (from tensorflow.python.keras.engine.training) is deprecated and will be removed in a future version.\n",
      "Instructions for updating:\n",
      "Please use Model.predict, which supports generators.\n"
     ]
    }
   ],
   "source": [
    "########################################################\n",
    "# Calculate KDE using sklearn\n",
    "from sklearn.neighbors import KernelDensity\n",
    "\n",
    "#Get encoded output of input images = Latent space\n",
    "encoded_images = encoder.predict_generator(train_generator)"
   ]
  },
  {
   "cell_type": "code",
   "execution_count": 52,
   "metadata": {},
   "outputs": [
    {
     "name": "stdout",
     "output_type": "stream",
     "text": [
      "(179, 24)\n"
     ]
    }
   ],
   "source": [
    "print(encoded_images.shape)"
   ]
  },
  {
   "attachments": {},
   "cell_type": "markdown",
   "metadata": {},
   "source": [
    "See that it is 179 length because it corresponds to all the images that belong to the training dataset. The second length corresponds to the output shape of the model as specified in its structure at the beginning."
   ]
  },
  {
   "cell_type": "code",
   "execution_count": 53,
   "metadata": {},
   "outputs": [
    {
     "data": {
      "text/plain": [
       "numpy.ndarray"
      ]
     },
     "execution_count": 53,
     "metadata": {},
     "output_type": "execute_result"
    }
   ],
   "source": [
    "type(encoded_images)"
   ]
  },
  {
   "cell_type": "code",
   "execution_count": 54,
   "metadata": {},
   "outputs": [
    {
     "name": "stdout",
     "output_type": "stream",
     "text": [
      "(None, 24)\n"
     ]
    }
   ],
   "source": [
    "encoder_output_shape = encoder.output_shape \n",
    "print(encoder_output_shape)"
   ]
  },
  {
   "attachments": {},
   "cell_type": "markdown",
   "metadata": {},
   "source": [
    "Now, let's fit KDE to the image latent data"
   ]
  },
  {
   "cell_type": "code",
   "execution_count": 55,
   "metadata": {},
   "outputs": [],
   "source": [
    "kde = KernelDensity(kernel='gaussian', bandwidth=0.2).fit(encoded_images)"
   ]
  },
  {
   "attachments": {},
   "cell_type": "markdown",
   "metadata": {},
   "source": [
    "The above function fits a kernel density estimation to the data that is provided, that is, the \"encoded_images\" variable. It does so using a Guassian kernel of bandwidth 0.2.\n",
    "\n",
    "The badnwidth parameter affects on how the selected kernel will fit each sample of the given data. For example for the case in which the kernel is a Gaussian distribution, the bandwidth parameter would affect in how thin or wide is the Gaussian distribution.\n",
    "\n",
    "At this point in the variable \"kde\" we have some numbers that are the result of fitting Gaussian functions to the given data points in the variable \"encoded_images\". We will use the \"kde\" variable later for scoring with it, some given data points; the scoring will be given depending on how similar are the given data points to the ones that it had estimated."
   ]
  },
  {
   "attachments": {},
   "cell_type": "markdown",
   "metadata": {},
   "source": [
    "Here below, it is shown the kde values corresponding to each encoded sample. THese are supposed to be very close to each other in value."
   ]
  },
  {
   "cell_type": "code",
   "execution_count": 56,
   "metadata": {},
   "outputs": [
    {
     "name": "stdout",
     "output_type": "stream",
     "text": [
      "[11.69070964 12.36391534 12.09925048 12.94503937 13.81417322 13.13249585\n",
      " 13.5744312  13.44813607 13.57942735 13.51351496 14.01967837 14.15693554\n",
      " 12.34541498 12.31035304 12.20304525 13.5216393  13.63282975 13.43840204\n",
      " 13.6045379  11.94827812 12.74015259 12.77584243 13.19952068 12.84128211\n",
      " 13.41348331 12.69162541 12.82942746 12.46410438 12.91295941 13.26921942\n",
      " 12.91066575 13.99741318 13.16223313 13.21085369 12.97573725 12.97512551\n",
      " 12.98222792 13.08549041 13.22415095 13.13661698 12.63006234 12.8699776\n",
      " 13.77054745 13.56224842 13.4753189  12.83674335 12.85589276 12.97946696\n",
      " 12.99166664 12.98923073 12.78959658 13.2676636  13.45088931 13.19146672\n",
      " 13.40736001 13.18848343 13.84554408 13.83312077 13.79661148 13.80824614\n",
      " 12.6758217  13.3474817  13.03371348 13.8048118  14.19403245 14.19834758\n",
      " 14.11518728 13.98935388 13.91311327 13.69039213 13.6767961  13.32234857\n",
      " 13.31865524 13.76783897 13.40139253 13.7963474  13.80269542 13.79116062\n",
      " 13.75827738 13.57014576 12.6758217  13.3474817  13.03371348 13.8048118\n",
      " 14.19403245 14.19834758 14.11518728 13.98935388 13.91311327 13.69039213\n",
      " 13.6767961  13.32234857 13.31865524 13.76783897 13.40139253 13.7963474\n",
      " 13.80269542 13.79116062 13.75827738 13.57014576 13.49506842 13.19731242\n",
      " 11.85426111 13.96143426 14.09527975 14.07636555 14.16258616 13.96650065\n",
      " 14.08576302 13.61665652 13.82047616 13.74886511 13.37399146 13.32954093\n",
      " 13.36893033 13.08638382 12.96081126 12.88449056 13.56708455 12.81807275\n",
      " 11.44309298 12.59243809 13.52738609 13.59054587 13.5384913  13.45814089\n",
      " 12.81561835 12.92115344 12.14138249 13.35954899 12.90268862 12.13343276\n",
      " 13.40910966 13.4901154  13.55596567 13.57099636 13.46476348 12.38188267\n",
      " 13.19952598 13.59701743 13.62648202 13.57768623 13.62961812 13.60489898\n",
      " 13.62727908 13.57474001 12.29789762 13.31219816 13.3148662  13.28269327\n",
      " 13.41954584 13.40316909 13.22795374 13.55732109 13.66728277 11.38461049\n",
      " 13.70638026 13.74768707 13.74041004 13.73982323 13.75170007 13.50940486\n",
      " 13.56158333 13.10879764 13.30417073 13.05874617 12.29483722 13.48485401\n",
      " 12.73950702 13.55590417 13.74502264 13.59639261 13.34109267 13.45131057\n",
      " 13.64676171 12.13328562 12.30004217 12.33369844 12.22393168]\n"
     ]
    }
   ],
   "source": [
    "density_vals = kde.score_samples(encoded_images)\n",
    "print(density_vals)"
   ]
  },
  {
   "attachments": {},
   "cell_type": "markdown",
   "metadata": {},
   "source": [
    "From here, the mean and standard deviation of these values are computed"
   ]
  },
  {
   "cell_type": "code",
   "execution_count": 57,
   "metadata": {},
   "outputs": [
    {
     "name": "stdout",
     "output_type": "stream",
     "text": [
      "The avg of the density values is:  13.30258693579254\n",
      "The stdev_density of the density values is:  0.566762523901815\n"
     ]
    }
   ],
   "source": [
    "average_density = np.mean(density_vals)\n",
    "stdev_density = np.std(density_vals)\n",
    "print(\"The avg of the density values is: \", average_density)\n",
    "print(\"The stdev_density of the density values is: \", stdev_density)"
   ]
  },
  {
   "attachments": {},
   "cell_type": "markdown",
   "metadata": {},
   "source": [
    "based on the above data create a function that outputs a probability of a KDE value to be considered an anomaly or non-anomaly image"
   ]
  },
  {
   "cell_type": "code",
   "execution_count": 58,
   "metadata": {},
   "outputs": [],
   "source": [
    "def ranges_mapper(value, leftMin, leftMax, rightMin, rightMax):\n",
    "    # Figure out how 'wide' each range is\n",
    "    leftSpan = leftMax - leftMin\n",
    "    rightSpan = rightMax - rightMin\n",
    "\n",
    "    # Convert the left range into a 0-1 range (float)\n",
    "    valueScaled = float(value - leftMin) / float(leftSpan)\n",
    "\n",
    "    # Convert the 0-1 range into a value in the right range.\n",
    "    return rightMin + (valueScaled * rightSpan)"
   ]
  },
  {
   "cell_type": "code",
   "execution_count": 59,
   "metadata": {},
   "outputs": [],
   "source": [
    "# def map_kde2prob_list(input_list):\n",
    "#     threshold = average_density          # The mean of the kde corresponding to the non-anomaly images\n",
    "#     std_dev = stdev_density            # The std deviation of the kde corresponding to the non-anomaly images\n",
    "#     prob_score_list = []\n",
    "#     prob_score = 0              # This was changed for making threshold+std_dev be mapped to be 50% chance. Before it was directly mapped threshold value to 50% chance\n",
    "#     for i in range (len(input_list)):\n",
    "#         aux_score = input_list[i] - threshold\n",
    "#         if aux_score>=0:\n",
    "#             additional = ranges_mapper(aux_score, 0, std_dev, 0, 50)\n",
    "#             prob_score_tot = prob_score+additional\n",
    "#         else:\n",
    "#             additional = ranges_mapper(abs(aux_score), 0, std_dev, 0, 50)\n",
    "#             prob_score_tot = prob_score-additional\n",
    "#         if prob_score_tot > 100:\n",
    "#             prob_score_tot = 100\n",
    "#         if prob_score_tot < 0:\n",
    "#             prob_score_tot = 0\n",
    "#         prob_score_list.append(prob_score_tot)\n",
    "#     return prob_score_list"
   ]
  },
  {
   "cell_type": "code",
   "execution_count": 60,
   "metadata": {},
   "outputs": [],
   "source": [
    "# def map_kde2prob(value):\n",
    "#     threshold = average_density         # The mean of the kde corresponding to the non-anomaly images\n",
    "#     std_dev = stdev_density          # The std deviation of the kde corresponding to the non-anomaly images\n",
    "#     prob_score = 0              # This was changed for making threshold+std_dev be mapped to be 50% chance. Before it was directly mapped threshold value to 50% chance\n",
    "#     aux_score = value - threshold\n",
    "#     print(\"value is: \", value)\n",
    "#     print(\"aux_score is: \", aux_score)\n",
    "        \n",
    "#     if aux_score>=0:\n",
    "#         additional = ranges_mapper(aux_score, 0, std_dev, 0, 50)\n",
    "#         print(\"additional is: \", additional)\n",
    "#         prob_score_tot = prob_score+additional\n",
    "#         print(\"prob_score_tot is: \", prob_score_tot)\n",
    "        \n",
    "#     else:\n",
    "#         additional = ranges_mapper(abs(aux_score), 0, std_dev, 0, 50)\n",
    "#         prob_score_tot = prob_score-additional\n",
    "#     if prob_score_tot > 100:\n",
    "#         prob_score_tot = 100\n",
    "#     if prob_score_tot < 0:\n",
    "#         prob_score_tot = 0    \n",
    "#     return prob_score_tot"
   ]
  },
  {
   "cell_type": "code",
   "execution_count": 61,
   "metadata": {},
   "outputs": [],
   "source": [
    "def map_kde2prob_list(input_list):\n",
    "    threshold = average_density          # The mean of the kde corresponding to the non-anomaly images\n",
    "    std_dev = stdev_density            # The std deviation of the kde corresponding to the non-anomaly images\n",
    "    prob_score_list =[]\n",
    "    for i in range (len(input_list)):\n",
    "        aux_score = input_list[i] - threshold\n",
    "        prob_score = ranges_mapper(abs(aux_score), 0, std_dev, 0, 50)\n",
    "        if prob_score<0:\n",
    "            prob_score = 0\n",
    "        if prob_score>100:\n",
    "            prob_score = 100     \n",
    "        prob_score_list.append(prob_score)\n",
    "    return prob_score_list"
   ]
  },
  {
   "cell_type": "code",
   "execution_count": 62,
   "metadata": {},
   "outputs": [],
   "source": [
    "def map_kde2prob(value):\n",
    "    threshold = average_density         # The mean of the kde corresponding to the non-anomaly images\n",
    "    std_dev = stdev_density          # The std deviation of the kde corresponding to the non-anomaly images\n",
    "    \n",
    "    aux_score = value - threshold\n",
    "    prob_score = ranges_mapper(abs(aux_score), 0, std_dev, 0, 50)\n",
    "    if prob_score<0:\n",
    "            prob_score = 0\n",
    "    if prob_score>100:\n",
    "        prob_score = 100 \n",
    "    return prob_score"
   ]
  },
  {
   "cell_type": "code",
   "execution_count": 63,
   "metadata": {},
   "outputs": [],
   "source": [
    "def computePred(kde_value):\n",
    "    pred = 0\n",
    "    prob_anomaly = map_kde2prob(kde_value)/100\n",
    "    if prob_anomaly > 0.5:\n",
    "        pred = 1\n",
    "    return pred"
   ]
  },
  {
   "cell_type": "code",
   "execution_count": 64,
   "metadata": {},
   "outputs": [
    {
     "name": "stdout",
     "output_type": "stream",
     "text": [
      "[50.0]\n"
     ]
    }
   ],
   "source": [
    "print(map_kde2prob_list([average_density - 1*stdev_density]))"
   ]
  },
  {
   "cell_type": "code",
   "execution_count": 65,
   "metadata": {},
   "outputs": [],
   "source": [
    "#Get encoded output of input images = Latent space\n",
    "encoded_images_test_set = encoder.predict_generator(test_set_generator)"
   ]
  },
  {
   "cell_type": "code",
   "execution_count": 66,
   "metadata": {},
   "outputs": [
    {
     "name": "stdout",
     "output_type": "stream",
     "text": [
      "(30, 24)\n"
     ]
    }
   ],
   "source": [
    "print(encoded_images_test_set.shape)"
   ]
  },
  {
   "cell_type": "code",
   "execution_count": 67,
   "metadata": {},
   "outputs": [
    {
     "name": "stdout",
     "output_type": "stream",
     "text": [
      "[12.14442037 11.75961332 11.28413713 11.1756714  11.13079564 10.89963674\n",
      " 11.47931667 11.79708701 11.82421149 11.85250867 12.36426758 12.38592636\n",
      " 12.32986504 12.34112129 12.06492015 12.27218459  7.97618004  8.96839647\n",
      " 12.09383393 12.12101815 12.11765078 11.95702237 11.92554819 11.98261995\n",
      " 11.87229395  8.76808293  7.01177702  7.90531532  8.95465917  8.01425998]\n"
     ]
    }
   ],
   "source": [
    "density_vals_test = kde.score_samples(encoded_images_test_set)\n",
    "print(density_vals_test)"
   ]
  },
  {
   "cell_type": "code",
   "execution_count": 68,
   "metadata": {},
   "outputs": [
    {
     "data": {
      "text/plain": [
       "13.869349459694355"
      ]
     },
     "execution_count": 68,
     "metadata": {},
     "output_type": "execute_result"
    }
   ],
   "source": [
    "average_density + stdev_density"
   ]
  },
  {
   "cell_type": "code",
   "execution_count": 69,
   "metadata": {},
   "outputs": [
    {
     "data": {
      "text/plain": [
       "12.735824411890725"
      ]
     },
     "execution_count": 69,
     "metadata": {},
     "output_type": "execute_result"
    }
   ],
   "source": [
    "average_density - stdev_density"
   ]
  },
  {
   "cell_type": "code",
   "execution_count": 70,
   "metadata": {},
   "outputs": [
    {
     "name": "stdout",
     "output_type": "stream",
     "text": [
      "[100, 100, 100, 100, 100, 100, 100, 100, 100, 100, 82.77888120442215, 80.86813549152613, 85.8138863602595, 84.82085539805841, 100, 90.9024766509656, 100, 100, 100, 100, 100, 100, 100, 100, 100, 100, 100, 100, 100, 100]\n"
     ]
    }
   ],
   "source": [
    "prob_test = map_kde2prob_list(density_vals_test)\n",
    "print(prob_test)"
   ]
  },
  {
   "attachments": {},
   "cell_type": "markdown",
   "metadata": {},
   "source": [
    "See the final predictions based on the KDE average values that was computed before."
   ]
  },
  {
   "cell_type": "code",
   "execution_count": 71,
   "metadata": {},
   "outputs": [
    {
     "name": "stdout",
     "output_type": "stream",
     "text": [
      "The list of rec. error for anomalies contains  1 batches of rec. errors\n"
     ]
    }
   ],
   "source": [
    "ground_truth = []\n",
    "for i in range(len(test_set_generator)):        #I think this should be the correct while clause\n",
    "    _, labels = test_set_generator.next()\n",
    "    ground_truth.append(labels)\n",
    "    \n",
    "print(\"The list of rec. error for anomalies contains \", len(ground_truth), \"batches of rec. errors\")"
   ]
  },
  {
   "cell_type": "code",
   "execution_count": 72,
   "metadata": {},
   "outputs": [],
   "source": [
    "ground_truth = [item for sublist in ground_truth for item in sublist]\n",
    "ground_truth = [int(x) for x in ground_truth]\n"
   ]
  },
  {
   "cell_type": "code",
   "execution_count": 73,
   "metadata": {},
   "outputs": [
    {
     "name": "stdout",
     "output_type": "stream",
     "text": [
      "[0, 0, 0, 0, 0, 0, 0, 0, 0, 0, 0, 0, 0, 0, 0, 0, 0, 0, 0, 0, 0, 0, 0, 0, 0, 1, 1, 1, 1, 1]\n",
      "[1, 1, 1, 1, 1, 1, 1, 1, 1, 1, 1, 1, 1, 1, 1, 1, 1, 1, 1, 1, 1, 1, 1, 1, 1, 1, 1, 1, 1, 1]\n"
     ]
    }
   ],
   "source": [
    "pred_list =[]\n",
    "for i in range(len(prob_test)):\n",
    "    \n",
    "    if(prob_test[i]>50):\n",
    "        pred = 1\n",
    "    else:\n",
    "        pred = 0\n",
    "    pred_list.append(pred)\n",
    "print(ground_truth)\n",
    "print(pred_list)"
   ]
  },
  {
   "attachments": {},
   "cell_type": "markdown",
   "metadata": {},
   "source": [
    "## Trehshold based on Gaussian distribution of the non-anomaly images"
   ]
  },
  {
   "cell_type": "code",
   "execution_count": 74,
   "metadata": {},
   "outputs": [],
   "source": [
    "def map_error2prob(value):\n",
    "    # Calculate the mean and standard deviation\n",
    "    mean = na_average_recon_error\n",
    "    std_dev = na_stdev_recon_error\n",
    "    aux_score = value - mean\n",
    "    prob_score = ranges_mapper(abs(aux_score), 0, std_dev, 0, 50)\n",
    "    if prob_score<0:\n",
    "        prob_score = 0\n",
    "    if prob_score>100:\n",
    "        prob_score = 100\n",
    "    return prob_score"
   ]
  },
  {
   "attachments": {},
   "cell_type": "markdown",
   "metadata": {},
   "source": [
    "See below test, that shows if a reconstruction error is equal to the mean of the reconstruction error plus its standard deviation has 50% chance of being predicted as anomaly image."
   ]
  },
  {
   "cell_type": "code",
   "execution_count": 75,
   "metadata": {},
   "outputs": [
    {
     "name": "stdout",
     "output_type": "stream",
     "text": [
      "49.99999999999999\n"
     ]
    }
   ],
   "source": [
    "print(map_error2prob(na_average_recon_error - na_stdev_recon_error))"
   ]
  },
  {
   "cell_type": "code",
   "execution_count": 76,
   "metadata": {},
   "outputs": [],
   "source": [
    "def map_error2prob_list(input_list):\n",
    "    # Calculate the mean and standard deviation\n",
    "    mean = na_average_recon_error\n",
    "    std_dev = na_stdev_recon_error\n",
    "    prob_score_list = []\n",
    "    for i in range (len(input_list)):\n",
    "        aux_score = input_list[i] - mean\n",
    "        prob_score = ranges_mapper(abs(aux_score), 0, std_dev, 0, 50)\n",
    "        if prob_score<0:\n",
    "            prob_score = 0\n",
    "        if prob_score>100:\n",
    "            prob_score = 100\n",
    "        prob_score_list.append(prob_score)\n",
    "    return prob_score_list"
   ]
  },
  {
   "cell_type": "code",
   "execution_count": 77,
   "metadata": {},
   "outputs": [],
   "source": [
    "def computePred(err_value):\n",
    "    pred = 0\n",
    "    prob_anomaly = map_error2prob(err_value)/100\n",
    "    if prob_anomaly > 0.5:\n",
    "        pred = 1\n",
    "    return pred"
   ]
  },
  {
   "cell_type": "code",
   "execution_count": 78,
   "metadata": {},
   "outputs": [
    {
     "name": "stdout",
     "output_type": "stream",
     "text": [
      "1/1 [==============================] - 0s 619us/step - loss: 0.0103\n",
      "1/1 [==============================] - 0s 918us/step - loss: 0.0099\n",
      "1/1 [==============================] - 0s 642us/step - loss: 0.0094\n",
      "1/1 [==============================] - 0s 745us/step - loss: 0.0095\n",
      "1/1 [==============================] - 0s 717us/step - loss: 0.0094\n",
      "1/1 [==============================] - 0s 647us/step - loss: 0.0094\n",
      "1/1 [==============================] - 0s 639us/step - loss: 0.0085\n",
      "1/1 [==============================] - 0s 697us/step - loss: 0.0078\n",
      "1/1 [==============================] - 0s 613us/step - loss: 0.0089\n",
      "1/1 [==============================] - 0s 910us/step - loss: 0.0081\n",
      "1/1 [==============================] - 0s 669us/step - loss: 0.0102\n",
      "1/1 [==============================] - 0s 660us/step - loss: 0.0096\n",
      "1/1 [==============================] - 0s 657us/step - loss: 0.0100\n",
      "1/1 [==============================] - 0s 647us/step - loss: 0.0096\n",
      "1/1 [==============================] - 0s 845us/step - loss: 0.0087\n",
      "1/1 [==============================] - 0s 706us/step - loss: 0.0101\n",
      "1/1 [==============================] - 0s 662us/step - loss: 0.0075\n",
      "1/1 [==============================] - 0s 782us/step - loss: 0.0077\n",
      "1/1 [==============================] - 0s 653us/step - loss: 0.0082\n",
      "1/1 [==============================] - 0s 611us/step - loss: 0.0105\n",
      "1/1 [==============================] - 0s 653us/step - loss: 0.0105\n",
      "1/1 [==============================] - 0s 594us/step - loss: 0.0107\n",
      "1/1 [==============================] - 0s 624us/step - loss: 0.0109\n",
      "1/1 [==============================] - 0s 719us/step - loss: 0.0111\n",
      "1/1 [==============================] - 0s 695us/step - loss: 0.0104\n",
      "1/1 [==============================] - 0s 616us/step - loss: 0.0139\n",
      "1/1 [==============================] - 0s 731us/step - loss: 0.0143\n",
      "1/1 [==============================] - 0s 813us/step - loss: 0.0134\n",
      "1/1 [==============================] - 0s 755us/step - loss: 0.0136\n",
      "1/1 [==============================] - 0s 598us/step - loss: 0.0142\n",
      "[[0.0, 0.0, 0.0, 0.0, 0.0, 0.0, 0.0, 0.0, 0.0, 0.0, 0.0, 0.0, 0.0, 0.0, 0.0, 0.0, 0.0, 0.0, 0.0, 0.0, 0.0, 0.0, 0.0, 0.0, 0.0, 1.0, 1.0, 1.0, 1.0, 1.0]]\n",
      "[[1, 1, 0, 0, 0, 0, 0, 0, 0, 0, 1, 1, 1, 1, 0, 1, 0, 0, 0, 1, 1, 1, 1, 1, 1, 1, 1, 1, 1, 1]]\n"
     ]
    }
   ],
   "source": [
    "y_pred_final = []\n",
    "y_true_final = []\n",
    "\n",
    "for i in range(len(test_set_generator)):        # Traversing all the batches of the test set\n",
    "    batch_images, labels = next(test_set_generator)\n",
    "    y_pred = []\n",
    "    y_true = []\n",
    "    for im in range(0, batch_images.shape[0]):  #Traversing all the images in the batch\n",
    "        img  = batch_images[im]\n",
    "        img = img[np.newaxis, :,:,:]\n",
    "        reconstruction = model.predict([[img]])\n",
    "        reconstruction_error = model.evaluate([reconstruction],[[img]])\n",
    "        prediction = computePred(reconstruction_error)   \n",
    "        y_pred.append(prediction) # Save Prediction\n",
    "        y_true.append(labels[im]) # Save Truth  \n",
    "    y_pred_final.append(y_pred)  \n",
    "    y_true_final.append(y_true)  \n",
    "print(y_true_final)\n",
    "print(y_pred_final)"
   ]
  },
  {
   "cell_type": "code",
   "execution_count": 79,
   "metadata": {},
   "outputs": [
    {
     "name": "stdout",
     "output_type": "stream",
     "text": [
      "[0, 0, 0, 0, 0, 0, 0, 0, 0, 0, 0, 0, 0, 0, 0, 0, 0, 0, 0, 0, 0, 0, 0, 0, 0, 1, 1, 1, 1, 1]\n",
      "[1, 1, 0, 0, 0, 0, 0, 0, 0, 0, 1, 1, 1, 1, 0, 1, 0, 0, 0, 1, 1, 1, 1, 1, 1, 1, 1, 1, 1, 1]\n"
     ]
    }
   ],
   "source": [
    "y_true_final = [item for sublist in y_true_final for item in sublist]\n",
    "y_true_final = [int(i) for i in y_true_final]\n",
    "y_pred_final = [item for sublist in y_pred_final for item in sublist]\n",
    "print(y_true_final)\n",
    "print(y_pred_final)"
   ]
  },
  {
   "cell_type": "code",
   "execution_count": null,
   "metadata": {},
   "outputs": [],
   "source": []
  },
  {
   "cell_type": "code",
   "execution_count": null,
   "metadata": {},
   "outputs": [],
   "source": []
  }
 ],
 "metadata": {
  "kernelspec": {
   "display_name": "Python 3",
   "language": "python",
   "name": "python3"
  },
  "language_info": {
   "codemirror_mode": {
    "name": "ipython",
    "version": 3
   },
   "file_extension": ".py",
   "mimetype": "text/x-python",
   "name": "python",
   "nbconvert_exporter": "python",
   "pygments_lexer": "ipython3",
   "version": "3.8.10"
  },
  "orig_nbformat": 4,
  "vscode": {
   "interpreter": {
    "hash": "916dbcbb3f70747c44a77c7bcd40155683ae19c65e1c03b4aa3499c5328201f1"
   }
  }
 },
 "nbformat": 4,
 "nbformat_minor": 2
}
