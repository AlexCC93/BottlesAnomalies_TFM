{
 "cells": [
  {
   "cell_type": "code",
   "execution_count": 2,
   "metadata": {},
   "outputs": [],
   "source": [
    "from tensorflow.keras.models import Sequential\n",
    "from tensorflow.keras.layers import Conv2D, MaxPooling2D, UpSampling2D, Dense, Dropout, Flatten\n",
    "from tensorflow.keras.preprocessing.image import ImageDataGenerator\n",
    "from tensorflow import keras\n",
    "import tensorflow as tf\n",
    "# from keras import layers\n",
    "\n",
    "from PIL import Image\n",
    "import matplotlib.pyplot as plt\n",
    "import numpy as np\n",
    "import random\n",
    "\n"
   ]
  },
  {
   "cell_type": "code",
   "execution_count": 3,
   "metadata": {},
   "outputs": [
    {
     "name": "stdout",
     "output_type": "stream",
     "text": [
      "Num GPUs Available:  1\n"
     ]
    },
    {
     "name": "stderr",
     "output_type": "stream",
     "text": [
      "2023-05-31 23:46:21.821518: I tensorflow/stream_executor/platform/default/dso_loader.cc:44] Successfully opened dynamic library libcuda.so.1\n",
      "2023-05-31 23:46:21.843532: I tensorflow/stream_executor/cuda/cuda_gpu_executor.cc:981] successful NUMA node read from SysFS had negative value (-1), but there must be at least one NUMA node, so returning NUMA node zero\n",
      "2023-05-31 23:46:21.843900: I tensorflow/core/common_runtime/gpu/gpu_device.cc:1561] Found device 0 with properties: \n",
      "pciBusID: 0000:01:00.0 name: NVIDIA GeForce RTX 2080 with Max-Q Design computeCapability: 7.5\n",
      "coreClock: 1.23GHz coreCount: 46 deviceMemorySize: 7.79GiB deviceMemoryBandwidth: 357.69GiB/s\n",
      "2023-05-31 23:46:21.844082: I tensorflow/stream_executor/platform/default/dso_loader.cc:44] Successfully opened dynamic library libcudart.so.10.1\n",
      "2023-05-31 23:46:21.845303: I tensorflow/stream_executor/platform/default/dso_loader.cc:44] Successfully opened dynamic library libcublas.so.10\n",
      "2023-05-31 23:46:21.846528: I tensorflow/stream_executor/platform/default/dso_loader.cc:44] Successfully opened dynamic library libcufft.so.10\n",
      "2023-05-31 23:46:21.846774: I tensorflow/stream_executor/platform/default/dso_loader.cc:44] Successfully opened dynamic library libcurand.so.10\n",
      "2023-05-31 23:46:21.848244: I tensorflow/stream_executor/platform/default/dso_loader.cc:44] Successfully opened dynamic library libcusolver.so.10\n",
      "2023-05-31 23:46:21.849034: I tensorflow/stream_executor/platform/default/dso_loader.cc:44] Successfully opened dynamic library libcusparse.so.10\n",
      "2023-05-31 23:46:21.851840: I tensorflow/stream_executor/platform/default/dso_loader.cc:44] Successfully opened dynamic library libcudnn.so.7\n",
      "2023-05-31 23:46:21.851951: I tensorflow/stream_executor/cuda/cuda_gpu_executor.cc:981] successful NUMA node read from SysFS had negative value (-1), but there must be at least one NUMA node, so returning NUMA node zero\n",
      "2023-05-31 23:46:21.852300: I tensorflow/stream_executor/cuda/cuda_gpu_executor.cc:981] successful NUMA node read from SysFS had negative value (-1), but there must be at least one NUMA node, so returning NUMA node zero\n",
      "2023-05-31 23:46:21.852578: I tensorflow/core/common_runtime/gpu/gpu_device.cc:1703] Adding visible gpu devices: 0\n"
     ]
    }
   ],
   "source": [
    "physical_devices = tf.config.experimental.list_physical_devices('GPU')\n",
    "if len(physical_devices) == 0:\n",
    "    print(\"Not enough GPU hardware devices available\")\n",
    "else:\n",
    "    config = tf.config.experimental.set_memory_growth(physical_devices[0], True)\n",
    "print(\"Num GPUs Available: \", len(physical_devices))"
   ]
  },
  {
   "cell_type": "code",
   "execution_count": 5,
   "metadata": {},
   "outputs": [],
   "source": [
    "# tf.debugging.set_log_device_placement(True)       # Will print the log information of every execution of tensorflow, mainly about "
   ]
  },
  {
   "cell_type": "code",
   "execution_count": 6,
   "metadata": {},
   "outputs": [],
   "source": [
    "#Size of our input images\n",
    "# SIZE = 128        # It was this value at the beginning, but the image display was poor. \n",
    "# SIZE = 224\n",
    "SIZE = 160          # It was 224, but in order for the current autoencoder model configuration work adequately, we changed it 228"
   ]
  },
  {
   "attachments": {},
   "cell_type": "markdown",
   "metadata": {},
   "source": [
    "# Setting the training and testing datasets "
   ]
  },
  {
   "attachments": {},
   "cell_type": "markdown",
   "metadata": {},
   "source": [
    "ImageDataGenerator.flow_from_directory: Takes the path to a directory and generates batches of augmented data."
   ]
  },
  {
   "cell_type": "code",
   "execution_count": 7,
   "metadata": {},
   "outputs": [
    {
     "name": "stdout",
     "output_type": "stream",
     "text": [
      "Found 179 images belonging to 1 classes.\n"
     ]
    }
   ],
   "source": [
    "batch_size = 15\n",
    "datagen = ImageDataGenerator(rescale=1./255) # Typically used for data augmentation. Here it is only rescaling the image pixels value to range 0 to 1 in decimals\n",
    "\n",
    "train_generator = datagen.flow_from_directory(\n",
    "    \"../../Images/BottleStoodUp_atNight/Positive/\",     # For home laptop\n",
    "    # \"../../../BottleStoodUp_atNight/Positive/\",           # For work laptop\n",
    "    target_size=(SIZE, SIZE),\n",
    "    batch_size=batch_size,\n",
    "    shuffle = False,\n",
    "    class_mode='input'          # Class used for working with Autoencoders\n",
    "    \n",
    "    )"
   ]
  },
  {
   "cell_type": "code",
   "execution_count": 8,
   "metadata": {},
   "outputs": [
    {
     "name": "stdout",
     "output_type": "stream",
     "text": [
      "Found 30 images belonging to 1 classes.\n"
     ]
    }
   ],
   "source": [
    "validation_generator = datagen.flow_from_directory(\n",
    "    \"../../Images/BottleStoodUp_atNight/Positive_val/\",     # For home laptop\n",
    "    # \"../../../BottleStoodUp_atNight/Positive_val/\",           # For work lpatop   \n",
    "    target_size=(SIZE, SIZE),\n",
    "    batch_size=batch_size,\n",
    "    shuffle = False,\n",
    "    class_mode='input'\n",
    "    )\n"
   ]
  },
  {
   "cell_type": "code",
   "execution_count": 9,
   "metadata": {},
   "outputs": [
    {
     "name": "stdout",
     "output_type": "stream",
     "text": [
      "Found 6 images belonging to 1 classes.\n"
     ]
    }
   ],
   "source": [
    "anomaly_generator = datagen.flow_from_directory(\n",
    "    \"../../Images/BottleStoodUp_atNight/Anomalies2.0/\",         # For home laptop\n",
    "    # \"../../../BottleStoodUp_atNight/Anomalies2.0/\",           # For work lpatpo\n",
    "    target_size=(SIZE, SIZE),\n",
    "    batch_size=batch_size,\n",
    "    shuffle = False,\n",
    "    class_mode='input'\n",
    "    )\n"
   ]
  },
  {
   "cell_type": "code",
   "execution_count": 10,
   "metadata": {},
   "outputs": [
    {
     "name": "stdout",
     "output_type": "stream",
     "text": [
      "Found 30 images belonging to 2 classes.\n"
     ]
    }
   ],
   "source": [
    "test_set_generator = datagen.flow_from_directory(\n",
    "    \"../../Images/BottleStoodUp_atNight/Evaluation/\",       # For home laptop\n",
    "    # \"../../../BottleStoodUp_atNight/Evaluation/\",             # For work laptop  \n",
    "    target_size=(SIZE, SIZE),\n",
    "    batch_size=batch_size,\n",
    "    shuffle = False,\n",
    "    class_mode='input'\n",
    "    )\n"
   ]
  },
  {
   "attachments": {},
   "cell_type": "markdown",
   "metadata": {},
   "source": [
    "# Showing one sample of the training set images"
   ]
  },
  {
   "attachments": {},
   "cell_type": "markdown",
   "metadata": {},
   "source": [
    "Grabbing only one image of one batch of the training set."
   ]
  },
  {
   "cell_type": "code",
   "execution_count": 11,
   "metadata": {},
   "outputs": [
    {
     "name": "stdout",
     "output_type": "stream",
     "text": [
      "<class 'numpy.ndarray'>\n",
      "15\n"
     ]
    },
    {
     "name": "stderr",
     "output_type": "stream",
     "text": [
      "2023-05-31 23:25:26.001845: I tensorflow/core/platform/cpu_feature_guard.cc:143] Your CPU supports instructions that this TensorFlow binary was not compiled to use: AVX2 FMA\n",
      "2023-05-31 23:25:26.022679: I tensorflow/core/platform/profile_utils/cpu_utils.cc:102] CPU Frequency: 2599990000 Hz\n",
      "2023-05-31 23:25:26.023141: I tensorflow/compiler/xla/service/service.cc:168] XLA service 0x7fb2300010b0 initialized for platform Host (this does not guarantee that XLA will be used). Devices:\n",
      "2023-05-31 23:25:26.023157: I tensorflow/compiler/xla/service/service.cc:176]   StreamExecutor device (0): Host, Default Version\n",
      "2023-05-31 23:25:26.094951: I tensorflow/stream_executor/cuda/cuda_gpu_executor.cc:981] successful NUMA node read from SysFS had negative value (-1), but there must be at least one NUMA node, so returning NUMA node zero\n",
      "2023-05-31 23:25:26.095335: I tensorflow/compiler/xla/service/service.cc:168] XLA service 0x4449170 initialized for platform CUDA (this does not guarantee that XLA will be used). Devices:\n",
      "2023-05-31 23:25:26.095349: I tensorflow/compiler/xla/service/service.cc:176]   StreamExecutor device (0): NVIDIA GeForce RTX 2080 with Max-Q Design, Compute Capability 7.5\n",
      "2023-05-31 23:25:26.095478: I tensorflow/stream_executor/cuda/cuda_gpu_executor.cc:981] successful NUMA node read from SysFS had negative value (-1), but there must be at least one NUMA node, so returning NUMA node zero\n",
      "2023-05-31 23:25:26.095762: I tensorflow/core/common_runtime/gpu/gpu_device.cc:1561] Found device 0 with properties: \n",
      "pciBusID: 0000:01:00.0 name: NVIDIA GeForce RTX 2080 with Max-Q Design computeCapability: 7.5\n",
      "coreClock: 1.23GHz coreCount: 46 deviceMemorySize: 7.79GiB deviceMemoryBandwidth: 357.69GiB/s\n",
      "2023-05-31 23:25:26.095788: I tensorflow/stream_executor/platform/default/dso_loader.cc:44] Successfully opened dynamic library libcudart.so.10.1\n",
      "2023-05-31 23:25:26.095800: I tensorflow/stream_executor/platform/default/dso_loader.cc:44] Successfully opened dynamic library libcublas.so.10\n",
      "2023-05-31 23:25:26.095810: I tensorflow/stream_executor/platform/default/dso_loader.cc:44] Successfully opened dynamic library libcufft.so.10\n",
      "2023-05-31 23:25:26.095820: I tensorflow/stream_executor/platform/default/dso_loader.cc:44] Successfully opened dynamic library libcurand.so.10\n",
      "2023-05-31 23:25:26.095830: I tensorflow/stream_executor/platform/default/dso_loader.cc:44] Successfully opened dynamic library libcusolver.so.10\n",
      "2023-05-31 23:25:26.095839: I tensorflow/stream_executor/platform/default/dso_loader.cc:44] Successfully opened dynamic library libcusparse.so.10\n",
      "2023-05-31 23:25:26.095849: I tensorflow/stream_executor/platform/default/dso_loader.cc:44] Successfully opened dynamic library libcudnn.so.7\n",
      "2023-05-31 23:25:26.095893: I tensorflow/stream_executor/cuda/cuda_gpu_executor.cc:981] successful NUMA node read from SysFS had negative value (-1), but there must be at least one NUMA node, so returning NUMA node zero\n",
      "2023-05-31 23:25:26.096189: I tensorflow/stream_executor/cuda/cuda_gpu_executor.cc:981] successful NUMA node read from SysFS had negative value (-1), but there must be at least one NUMA node, so returning NUMA node zero\n",
      "2023-05-31 23:25:26.096451: I tensorflow/core/common_runtime/gpu/gpu_device.cc:1703] Adding visible gpu devices: 0\n",
      "2023-05-31 23:25:26.096474: I tensorflow/stream_executor/platform/default/dso_loader.cc:44] Successfully opened dynamic library libcudart.so.10.1\n",
      "2023-05-31 23:25:26.096836: I tensorflow/core/common_runtime/gpu/gpu_device.cc:1102] Device interconnect StreamExecutor with strength 1 edge matrix:\n",
      "2023-05-31 23:25:26.096845: I tensorflow/core/common_runtime/gpu/gpu_device.cc:1108]      0 \n",
      "2023-05-31 23:25:26.096850: I tensorflow/core/common_runtime/gpu/gpu_device.cc:1121] 0:   N \n",
      "2023-05-31 23:25:26.096922: I tensorflow/stream_executor/cuda/cuda_gpu_executor.cc:981] successful NUMA node read from SysFS had negative value (-1), but there must be at least one NUMA node, so returning NUMA node zero\n",
      "2023-05-31 23:25:26.097324: I tensorflow/stream_executor/cuda/cuda_gpu_executor.cc:981] successful NUMA node read from SysFS had negative value (-1), but there must be at least one NUMA node, so returning NUMA node zero\n",
      "2023-05-31 23:25:26.097606: I tensorflow/core/common_runtime/gpu/gpu_device.cc:1247] Created TensorFlow device (/job:localhost/replica:0/task:0/device:GPU:0 with 5428 MB memory) -> physical GPU (device: 0, name: NVIDIA GeForce RTX 2080 with Max-Q Design, pci bus id: 0000:01:00.0, compute capability: 7.5)\n"
     ]
    },
    {
     "name": "stdout",
     "output_type": "stream",
     "text": [
      "tf.Tensor(0.011764707, shape=(), dtype=float32) tf.Tensor(1.0, shape=(), dtype=float32)\n"
     ]
    }
   ],
   "source": [
    "images_in_batch = next(train_generator)[0]\n",
    "print(type(images_in_batch))\n",
    "print(len(images_in_batch))\n",
    "print(tf.reduce_min(images_in_batch), tf.reduce_max(images_in_batch))"
   ]
  },
  {
   "cell_type": "code",
   "execution_count": 12,
   "metadata": {},
   "outputs": [
    {
     "name": "stdout",
     "output_type": "stream",
     "text": [
      "(15, 160, 160, 3)\n"
     ]
    }
   ],
   "source": [
    "print(images_in_batch.shape)"
   ]
  },
  {
   "cell_type": "code",
   "execution_count": 13,
   "metadata": {},
   "outputs": [
    {
     "data": {
      "text/plain": [
       "<matplotlib.image.AxesImage at 0x7fb2b9349580>"
      ]
     },
     "execution_count": 13,
     "metadata": {},
     "output_type": "execute_result"
    },
    {
     "data": {
      "image/png": "[encoded data removed]",
      "text/plain": [
       "<Figure size 640x480 with 1 Axes>"
      ]
     },
     "metadata": {},
     "output_type": "display_data"
    }
   ],
   "source": [
    "single_img = images_in_batch[0]\n",
    "plt.imshow(single_img)"
   ]
  },
  {
   "attachments": {},
   "cell_type": "markdown",
   "metadata": {},
   "source": [
    "# Configuring the Autoencoder netwrok"
   ]
  },
  {
   "cell_type": "code",
   "execution_count": 15,
   "metadata": {},
   "outputs": [],
   "source": [
    "from tensorflow.keras.layers import Conv2D, Dense, Dropout, LayerNormalization, BatchNormalization, ReLU, Flatten, Layer\n",
    "DIM = SIZE\n",
    "class DepthToSpace(Layer):\n",
    "    def __init__(self, block_size):\n",
    "        super(DepthToSpace, self).__init__()\n",
    "        self.block_size = block_size\n",
    "        self.block_size_sq = block_size * block_size\n",
    "\n",
    "    def call(self, inputs):\n",
    "        output = tf.transpose(inputs, [0, 2, 3, 1])\n",
    "        (batch_size, input_height, input_width, input_depth) = tf.shape(output)\n",
    "        output_depth = input_depth // self.block_size_sq\n",
    "        output_width = input_width * self.block_size\n",
    "        output_height = input_height * self.block_size\n",
    "        t_1 = tf.reshape(output, [batch_size, input_height, input_width, self.block_size_sq, output_depth])\n",
    "        spl = tf.split(t_1, self.block_size, axis=3)\n",
    "        stacks = [tf.reshape(t_t, [batch_size, input_height, output_width, output_depth]) for t_t in spl]\n",
    "        output = tf.stack(stacks, axis=0)\n",
    "        output = tf.transpose(output, [1, 2, 0, 3, 4])\n",
    "        output = tf.reshape(output, [batch_size, output_height, output_width, output_depth])\n",
    "        output = tf.transpose(output, [0, 3, 1, 2])\n",
    "        return output\n",
    "\n",
    "class UpSampleConv(Layer):\n",
    "    def __init__(self, input_dim, output_dim, kernel_size, he_init=True, bias=True):\n",
    "        super(UpSampleConv, self).__init__()\n",
    "        self.he_init = he_init\n",
    "        self.conv = MyConvo2d(input_dim, output_dim, kernel_size, he_init=self.he_init, bias=bias)\n",
    "        self.depth_to_space = DepthToSpace(2)\n",
    "\n",
    "    def call(self, inputs):\n",
    "        output = inputs\n",
    "        output = tf.concat((output, output, output, output), axis=1)\n",
    "        output = self.depth_to_space(output)\n",
    "        output = self.conv(output)\n",
    "        return output\n",
    "\n",
    "class ConvMeanPool(Layer):\n",
    "    def __init__(self, input_dim, output_dim, kernel_size, he_init=True):\n",
    "        super(ConvMeanPool, self).__init__()\n",
    "        self.he_init = he_init\n",
    "        self.conv = MyConvo2d(input_dim, output_dim, kernel_size, he_init=self.he_init)\n",
    "\n",
    "    def call(self, inputs):\n",
    "        output = self.conv(inputs)\n",
    "        output = (output[:, :, ::2, ::2] + output[:, :, 1::2, ::2] + output[:, :, ::2, 1::2] + output[:, :, 1::2, 1::2]) / 4\n",
    "        return output\n",
    "\n",
    "class MyConvo2d(Layer):\n",
    "    def __init__(self, input_dim, output_dim, kernel_size, he_init=True, stride=1, bias=True):\n",
    "        super(MyConvo2d, self).__init__()\n",
    "        self.he_init = he_init\n",
    "        self.padding = int((kernel_size - 1) / 2)\n",
    "        self.conv = Conv2D(output_dim, kernel_size, strides=stride, padding='same', use_bias=bias)\n",
    "\n",
    "    def call(self, inputs):\n",
    "        output = self.conv(inputs)\n",
    "        return output\n",
    "\n",
    "class MeanPoolConv(Layer):\n",
    "    def __init__(self, input_dim, output_dim, kernel_size, he_init=True):\n",
    "        super(MeanPoolConv, self).__init__()\n",
    "        self.he_init = he_init\n",
    "        self.conv = MyConvo2d(input_dim, output_dim, kernel_size, he_init=self.he_init)\n",
    "\n",
    "    def call(self, inputs):\n",
    "        output = inputs\n",
    "        output = (output[:, :, ::2, ::2] + output[:, :, 1::2, ::2] + output[:, :, ::2, 1::2] + output[:, :, 1::2, 1::2]) / 4\n",
    "        output = self.conv(output)\n",
    "        return output\n",
    "\n",
    "class ResidualBlock(Layer):\n",
    "    def __init__(self, input_dim, output_dim, kernel_size, resample=None, hw=DIM):\n",
    "        super(ResidualBlock, self).__init__()\n",
    "        self.input_dim = input_dim\n",
    "        self.output_dim = output_dim\n",
    "        self.kernel_size = kernel_size\n",
    "        self.resample = resample\n",
    "        self.bn1 = None\n",
    "        self.bn2 = None\n",
    "        self.relu1 = ReLU()\n",
    "        self.relu2 = ReLU()\n",
    "\n",
    "        if resample == 'down':\n",
    "            self.bn1 = LayerNormalization(axis=[1, 2, 3])\n",
    "            self.bn2 = LayerNormalization(axis=[1, 2, 3])\n",
    "        elif resample == 'up':\n",
    "            self.bn1 = BatchNormalization()\n",
    "            self.bn2 = BatchNormalization()\n",
    "        elif resample == None:\n",
    "            self.bn1 = BatchNormalization()\n",
    "            self.bn2 = LayerNormalization(axis=[1, 2, 3])\n",
    "        else:\n",
    "            raise Exception('Invalid resample value')\n",
    "\n",
    "        if resample == 'down':\n",
    "            self.conv_shortcut = MeanPoolConv(input_dim, output_dim, kernel_size=1, he_init=False)\n",
    "            self.conv_1 = MyConvo2d(input_dim, input_dim, kernel_size=kernel_size, bias=False)\n",
    "            self.conv_2 = ConvMeanPool(input_dim, output_dim, kernel_size=kernel_size)\n",
    "        elif resample == 'up':\n",
    "            self.conv_shortcut = UpSampleConv(input_dim, output_dim, kernel_size=1, he_init=False)\n",
    "            self.conv_1 = UpSampleConv(input_dim, output_dim, kernel_size=kernel_size, bias=False)\n",
    "            self.conv_2 = MyConvo2d(output_dim, output_dim, kernel_size=kernel_size)\n",
    "        elif resample == None:\n",
    "            self.conv_shortcut = MyConvo2d(input_dim, output_dim, kernel_size=1, he_init=False)\n",
    "            self.conv_1 = MyConvo2d(input_dim, input_dim, kernel_size=kernel_size, bias=False)\n",
    "            self.conv_2 = MyConvo2d(input_dim, output_dim, kernel_size=kernel_size)\n",
    "        else:\n",
    "            raise Exception('Invalid resample value')\n",
    "\n",
    "    def call(self, inputs):\n",
    "        if self.input_dim == self.output_dim and self.resample == None:\n",
    "            shortcut = inputs\n",
    "        else:\n",
    "            shortcut = self.conv_shortcut(inputs)\n",
    "\n",
    "        output = inputs\n",
    "        output = self.bn1(output)\n",
    "        output = self.relu1(output)\n",
    "        output = self.conv_1(output)\n",
    "        output = self.bn2(output)\n",
    "        output = self.relu2(output)\n",
    "        output = self.conv_2(output)\n",
    "\n",
    "        return shortcut + output\n",
    "\n",
    "class Encoder(Layer):\n",
    "    def __init__(self, dim, output_dim, drop_rate=0.0):\n",
    "        super(Encoder, self).__init__()\n",
    "        self.dropout = Dropout(drop_rate)\n",
    "        self.conv_in = Conv2D(dim, 3, 1, padding='same')\n",
    "        self.res1 = ResidualBlock(dim, dim * 2, 3, 'down', 160)\n",
    "        self.res2 = ResidualBlock(dim * 2, dim * 4, 3, 'down', 80)\n",
    "        self.res3 = ResidualBlock(dim * 4, dim * 8, 3, 'down', 40)\n",
    "        self.res4 = ResidualBlock(dim * 8, dim * 8, 3, 'down', 20)\n",
    "        self.fc = Dense(output_dim)\n",
    "\n",
    "    def call(self, inputs):\n",
    "        x = self.dropout(inputs)\n",
    "        x = self.conv_in(x)\n",
    "        x = self.res1(x)\n",
    "        x = self.res2(x)\n",
    "        x = self.res3(x)\n",
    "        x = self.res4(x)\n",
    "        x = tf.reshape(x, (x.shape[0], -1))\n",
    "        x = self.fc(x)\n",
    "        return tf.tanh(x)\n",
    "\n",
    "class Decoder(tf.keras.layers.Layer):\n",
    "    def __init__(self, dim):\n",
    "        super(Decoder, self).__init__()\n",
    "        self.fc = tf.keras.layers.Dense(10 * 10 * 8 * dim)\n",
    "        self.res4 = ResidualBlock(dim * 8, dim * 8, 3, resample=None, hw=20)\n",
    "        self.res3 = ResidualBlock(dim * 4, dim * 8, 3, resample='up', hw=40)\n",
    "        self.res2 = ResidualBlock(dim * 2, dim * 4, 3, resample='up', hw=80)\n",
    "        self.res1 = ResidualBlock(dim, dim * 2, 3, resample='up', hw=160)\n",
    "        self.conv_out = tf.keras.layers.Conv2DTranspose(3, 3, 1, padding='same')\n",
    "\n",
    "    def call(self, inputs):\n",
    "        x = tf.tanh(inputs)\n",
    "        x = self.fc(x)\n",
    "        x = tf.reshape(x, (-1, 10, 10, 8 * self.dim))\n",
    "        x = self.res4(x)\n",
    "        x = self.res3(x)\n",
    "        x = self.res2(x)\n",
    "        x = self.res1(x)\n",
    "        x = self.conv_out(x)\n",
    "        return x\n",
    "\n",
    "# autoencoder = keras.Model(inputs, decoder(encoder(inputs)),\n",
    "# \t\t\tname=\"autoencoder\")\n"
   ]
  },
  {
   "attachments": {},
   "cell_type": "markdown",
   "metadata": {},
   "source": [
    "THis model is too complex to recreate in tensorflow. Stop here."
   ]
  }
 ],
 "metadata": {
  "kernelspec": {
   "display_name": "Python 3",
   "language": "python",
   "name": "python3"
  },
  "language_info": {
   "codemirror_mode": {
    "name": "ipython",
    "version": 3
   },
   "file_extension": ".py",
   "mimetype": "text/x-python",
   "name": "python",
   "nbconvert_exporter": "python",
   "pygments_lexer": "ipython3",
   "version": "3.8.10"
  },
  "orig_nbformat": 4,
  "vscode": {
   "interpreter": {
    "hash": "916dbcbb3f70747c44a77c7bcd40155683ae19c65e1c03b4aa3499c5328201f1"
   }
  }
 },
 "nbformat": 4,
 "nbformat_minor": 2
}
