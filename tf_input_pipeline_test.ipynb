{
 "cells": [
  {
   "cell_type": "code",
   "execution_count": 10,
   "metadata": {},
   "outputs": [
    {
     "name": "stdout",
     "output_type": "stream",
     "text": [
      "2.11.0\n"
     ]
    }
   ],
   "source": [
    "import tensorflow as tf\n",
    "print(tf.__version__)\n",
    "import os"
   ]
  },
  {
   "cell_type": "code",
   "execution_count": 4,
   "metadata": {},
   "outputs": [
    {
     "name": "stdout",
     "output_type": "stream",
     "text": [
      "daily_sales_numbers is of type:  <class 'list'>\n"
     ]
    }
   ],
   "source": [
    "daily_sales_numbers = [21, 22, -108, 31, -1, 32, 34,31]\n",
    "print(\"daily_sales_numbers is of type: \", type(daily_sales_numbers))"
   ]
  },
  {
   "cell_type": "code",
   "execution_count": 5,
   "metadata": {},
   "outputs": [
    {
     "name": "stdout",
     "output_type": "stream",
     "text": [
      "tf_dataset is:  <TensorSliceDataset element_spec=TensorSpec(shape=(), dtype=tf.int32, name=None)>\n",
      "tf_dataset is of type:  <class 'tensorflow.python.data.ops.from_tensor_slices_op.TensorSliceDataset'>\n"
     ]
    }
   ],
   "source": [
    "tf_dataset = tf.data.Dataset.from_tensor_slices(daily_sales_numbers)\n",
    "print(\"tf_dataset is: \", tf_dataset)\n",
    "print(\"tf_dataset is of type: \", type(tf_dataset))\n"
   ]
  },
  {
   "cell_type": "code",
   "execution_count": 33,
   "metadata": {},
   "outputs": [
    {
     "data": {
      "text/plain": [
       "2152"
      ]
     },
     "execution_count": 33,
     "metadata": {},
     "output_type": "execute_result"
    }
   ],
   "source": [
    "images_ds = tf.data.Dataset.list_files('LeavesImages/*/*', shuffle=False)\n",
    "image_count = len(images_ds)\n",
    "image_count"
   ]
  },
  {
   "cell_type": "code",
   "execution_count": 34,
   "metadata": {},
   "outputs": [
    {
     "name": "stdout",
     "output_type": "stream",
     "text": [
      "b'LeavesImages\\\\Potato___Early_blight\\\\001187a0-57ab-4329-baff-e7246a9edeb0___RS_Early.B 8178.JPG'\n",
      "b'LeavesImages\\\\Potato___Early_blight\\\\002a55fb-7a3d-4a3a-aca8-ce2d5ebc6925___RS_Early.B 8170.JPG'\n",
      "b'LeavesImages\\\\Potato___Early_blight\\\\009c8c31-f22d-4ffd-8f16-189c6f06c577___RS_Early.B 7885.JPG'\n"
     ]
    }
   ],
   "source": [
    "for file in images_ds.take(3):\n",
    "    print(file.numpy())"
   ]
  },
  {
   "cell_type": "code",
   "execution_count": 35,
   "metadata": {},
   "outputs": [],
   "source": [
    "def get_label(file_path):\n",
    "    parts = tf.strings.split(file_path, os.path.sep)\n",
    "    return parts[-2]"
   ]
  },
  {
   "cell_type": "code",
   "execution_count": 37,
   "metadata": {},
   "outputs": [
    {
     "data": {
      "text/plain": [
       "<tf.Tensor: shape=(), dtype=string, numpy=b'Potato___Early_blight'>"
      ]
     },
     "execution_count": 37,
     "metadata": {},
     "output_type": "execute_result"
    }
   ],
   "source": [
    "get_label(\"LeavesImages\\\\Potato___Early_blight\\\\001187a0-57ab-4329-baff-e7246a9edeb0___RS_Early.B 8178.JPG\")"
   ]
  },
  {
   "cell_type": "code",
   "execution_count": 29,
   "metadata": {},
   "outputs": [
    {
     "name": "stdout",
     "output_type": "stream",
     "text": [
      "tf_dataset is of type:  <class 'tensorflow.python.data.ops.from_tensor_slices_op.TensorSliceDataset'>\n"
     ]
    }
   ],
   "source": [
    "# tf_dataset = tf.data.Dataset.from_tensor_slices(daily_sales_numbers)\n",
    "# print(\"tf_dataset is of type: \", type(tf_dataset))\n",
    "# for elements in tf_dataset:\n",
    "#     print(elements)\n",
    "#     print(\"elements is of type: \", type(elements))\n",
    "# tf_dataset_mapped = tf_dataset.map(lambda x: x*72)\n",
    "# print(\"tf_dataset is of type: \", type(tf_dataset_mapped))\n",
    "# for sales in tf_dataset_mapped:\n",
    "#     print(sales)\n",
    "#     print(\"sales is of type: \", type(sales))\n"
   ]
  },
  {
   "cell_type": "code",
   "execution_count": 38,
   "metadata": {},
   "outputs": [],
   "source": [
    "def process_image(file_path):\n",
    "    label = get_label(file_path)\n",
    "    img = tf.io.read_file(file_path) # load the raw data from the file as a string\n",
    "    img = tf.image.decode_jpeg(img)\n",
    "    img = tf.image.resize(img, [128, 128])\n",
    "    return img, label"
   ]
  },
  {
   "cell_type": "code",
   "execution_count": 40,
   "metadata": {},
   "outputs": [],
   "source": [
    "img, label = process_image(\"LeavesImages\\\\Potato___Early_blight\\\\001187a0-57ab-4329-baff-e7246a9edeb0___RS_Early.B 8178.JPG\")"
   ]
  },
  {
   "cell_type": "code",
   "execution_count": 42,
   "metadata": {},
   "outputs": [
    {
     "name": "stdout",
     "output_type": "stream",
     "text": [
      "img is of type:  <class 'tensorflow.python.framework.ops.EagerTensor'>\n",
      "img is of type:  <class 'tensorflow.python.framework.ops.EagerTensor'>\n"
     ]
    }
   ],
   "source": [
    "print(\"img is of type: \", type(img))\n",
    "print(\"img is of type: \", type(label))"
   ]
  },
  {
   "cell_type": "code",
   "execution_count": 45,
   "metadata": {},
   "outputs": [
    {
     "name": "stdout",
     "output_type": "stream",
     "text": [
      "train_ds is of type:  <class 'tensorflow.python.data.ops.dataset_ops.MapDataset'>\n"
     ]
    }
   ],
   "source": [
    "train_ds = images_ds.map(process_image)\n",
    "print(\"train_ds is of type: \", type(train_ds))"
   ]
  },
  {
   "cell_type": "code",
   "execution_count": 46,
   "metadata": {},
   "outputs": [
    {
     "name": "stdout",
     "output_type": "stream",
     "text": [
      "**** tf.Tensor(\n",
      "[[[140.5  137.5  144.5 ]\n",
      "  [145.75 142.75 149.75]\n",
      "  [139.75 136.75 143.75]\n",
      "  ...\n",
      "  [179.5  176.5  183.5 ]\n",
      "  [179.75 176.75 183.75]\n",
      "  [173.25 170.25 177.25]]\n",
      "\n",
      " [[141.5  138.5  145.5 ]\n",
      "  [159.75 156.75 163.75]\n",
      "  [140.5  137.5  144.5 ]\n",
      "  ...\n",
      "  [174.75 171.75 178.75]\n",
      "  [174.25 171.25 178.25]\n",
      "  [173.25 170.25 177.25]]\n",
      "\n",
      " [[147.75 144.75 151.75]\n",
      "  [159.75 156.75 163.75]\n",
      "  [147.   144.   151.  ]\n",
      "  ...\n",
      "  [173.25 170.25 177.25]\n",
      "  [176.5  173.5  180.5 ]\n",
      "  [180.75 177.75 184.75]]\n",
      "\n",
      " ...\n",
      "\n",
      " [[125.25 122.25 133.25]\n",
      "  [125.75 122.75 133.75]\n",
      "  [133.   130.   141.  ]\n",
      "  ...\n",
      "  [156.   155.   163.  ]\n",
      "  [158.75 158.75 168.75]\n",
      "  [161.75 161.75 171.75]]\n",
      "\n",
      " [[126.25 123.25 134.25]\n",
      "  [118.   115.   126.  ]\n",
      "  [120.   117.   128.  ]\n",
      "  ...\n",
      "  [157.   156.   164.  ]\n",
      "  [158.5  158.5  168.5 ]\n",
      "  [160.   160.   170.  ]]\n",
      "\n",
      " [[112.5  109.5  120.5 ]\n",
      "  [126.75 123.75 134.75]\n",
      "  [114.75 111.75 122.75]\n",
      "  ...\n",
      "  [156.5  155.5  163.5 ]\n",
      "  [161.75 161.75 171.75]\n",
      "  [166.25 166.25 178.25]]], shape=(128, 128, 3), dtype=float32)\n",
      "**** tf.Tensor(b'Potato___Early_blight', shape=(), dtype=string)\n"
     ]
    }
   ],
   "source": [
    "for image, label in train_ds.take(1):\n",
    "    print(\"****\",image)\n",
    "    print(\"****\",label)"
   ]
  }
 ],
 "metadata": {
  "kernelspec": {
   "display_name": "tfm",
   "language": "python",
   "name": "python3"
  },
  "language_info": {
   "codemirror_mode": {
    "name": "ipython",
    "version": 3
   },
   "file_extension": ".py",
   "mimetype": "text/x-python",
   "name": "python",
   "nbconvert_exporter": "python",
   "pygments_lexer": "ipython3",
   "version": "3.9.16"
  },
  "orig_nbformat": 4,
  "vscode": {
   "interpreter": {
    "hash": "1eb8275531b6067489f633cc64701068ecd5333cd3d821028c395dbfd09de935"
   }
  }
 },
 "nbformat": 4,
 "nbformat_minor": 2
}
