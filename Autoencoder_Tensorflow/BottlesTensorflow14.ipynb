{
 "cells": [
  {
   "cell_type": "code",
   "execution_count": 1,
   "metadata": {},
   "outputs": [],
   "source": [
    "from tensorflow.keras.models import Sequential, Model\n",
    "from tensorflow.keras.layers import *\n",
    "from tensorflow.keras.preprocessing.image import ImageDataGenerator\n",
    "from tensorflow import keras\n",
    "import tensorflow as tf\n",
    "# from keras import layers\n",
    "\n",
    "\n",
    "from tensorflow.keras.optimizers import Adam, RMSprop\n",
    "from tensorflow.keras.preprocessing import image\n",
    "\n",
    "import tensorflow.keras.backend as K\n",
    "\n",
    "\n",
    "from PIL import Image\n",
    "import matplotlib.pyplot as plt\n",
    "import numpy as np\n",
    "import random\n",
    "\n"
   ]
  },
  {
   "cell_type": "code",
   "execution_count": 2,
   "metadata": {},
   "outputs": [
    {
     "name": "stdout",
     "output_type": "stream",
     "text": [
      "Num GPUs Available:  1\n"
     ]
    },
    {
     "name": "stderr",
     "output_type": "stream",
     "text": [
      "2023-06-06 11:25:28.335767: I tensorflow/stream_executor/platform/default/dso_loader.cc:44] Successfully opened dynamic library libcuda.so.1\n",
      "2023-06-06 11:25:28.388449: I tensorflow/stream_executor/cuda/cuda_gpu_executor.cc:981] successful NUMA node read from SysFS had negative value (-1), but there must be at least one NUMA node, so returning NUMA node zero\n",
      "2023-06-06 11:25:28.388780: I tensorflow/core/common_runtime/gpu/gpu_device.cc:1561] Found device 0 with properties: \n",
      "pciBusID: 0000:01:00.0 name: NVIDIA GeForce RTX 2080 with Max-Q Design computeCapability: 7.5\n",
      "coreClock: 1.23GHz coreCount: 46 deviceMemorySize: 7.79GiB deviceMemoryBandwidth: 357.69GiB/s\n",
      "2023-06-06 11:25:28.389964: I tensorflow/stream_executor/platform/default/dso_loader.cc:44] Successfully opened dynamic library libcudart.so.10.1\n",
      "2023-06-06 11:25:28.416110: I tensorflow/stream_executor/platform/default/dso_loader.cc:44] Successfully opened dynamic library libcublas.so.10\n",
      "2023-06-06 11:25:28.432807: I tensorflow/stream_executor/platform/default/dso_loader.cc:44] Successfully opened dynamic library libcufft.so.10\n",
      "2023-06-06 11:25:28.435645: I tensorflow/stream_executor/platform/default/dso_loader.cc:44] Successfully opened dynamic library libcurand.so.10\n",
      "2023-06-06 11:25:28.463145: I tensorflow/stream_executor/platform/default/dso_loader.cc:44] Successfully opened dynamic library libcusolver.so.10\n",
      "2023-06-06 11:25:28.466663: I tensorflow/stream_executor/platform/default/dso_loader.cc:44] Successfully opened dynamic library libcusparse.so.10\n",
      "2023-06-06 11:25:28.535064: I tensorflow/stream_executor/platform/default/dso_loader.cc:44] Successfully opened dynamic library libcudnn.so.7\n",
      "2023-06-06 11:25:28.535464: I tensorflow/stream_executor/cuda/cuda_gpu_executor.cc:981] successful NUMA node read from SysFS had negative value (-1), but there must be at least one NUMA node, so returning NUMA node zero\n",
      "2023-06-06 11:25:28.536880: I tensorflow/stream_executor/cuda/cuda_gpu_executor.cc:981] successful NUMA node read from SysFS had negative value (-1), but there must be at least one NUMA node, so returning NUMA node zero\n",
      "2023-06-06 11:25:28.538038: I tensorflow/core/common_runtime/gpu/gpu_device.cc:1703] Adding visible gpu devices: 0\n"
     ]
    }
   ],
   "source": [
    "physical_devices = tf.config.experimental.list_physical_devices('GPU')\n",
    "if len(physical_devices) == 0:\n",
    "    print(\"Not enough GPU hardware devices available\")\n",
    "else:\n",
    "    config = tf.config.experimental.set_memory_growth(physical_devices[0], True)\n",
    "print(\"Num GPUs Available: \", len(physical_devices))"
   ]
  },
  {
   "cell_type": "code",
   "execution_count": 3,
   "metadata": {},
   "outputs": [],
   "source": [
    "# tf.debugging.set_log_device_placement(True)       # Will print the log information of every execution of tensorflow, mainly about "
   ]
  },
  {
   "cell_type": "code",
   "execution_count": 4,
   "metadata": {},
   "outputs": [],
   "source": [
    "#Size of our input images\n",
    "# SIZE = 128        # It was this value at the beginning, but the image display was poor. \n",
    "SIZE = 224\n",
    "# SIZE = 228          # It was 224, but in order for the current autoencoder model configuration work adequately, we changed it 228"
   ]
  },
  {
   "attachments": {},
   "cell_type": "markdown",
   "metadata": {},
   "source": [
    "# Setting the training and testing datasets "
   ]
  },
  {
   "attachments": {},
   "cell_type": "markdown",
   "metadata": {},
   "source": [
    "ImageDataGenerator.flow_from_directory: Takes the path to a directory and generates batches of augmented data."
   ]
  },
  {
   "cell_type": "code",
   "execution_count": 5,
   "metadata": {},
   "outputs": [
    {
     "name": "stdout",
     "output_type": "stream",
     "text": [
      "Found 179 images belonging to 1 classes.\n"
     ]
    }
   ],
   "source": [
    "# batch_size = 64\n",
    "batch_size = 32\n",
    "datagen = ImageDataGenerator(rescale=1./255) # Typically used for data augmentation. Here it is only rescaling the image pixels value to range 0 to 1 in decimals\n",
    "\n",
    "train_generator = datagen.flow_from_directory(\n",
    "    \"../../Images/BottleStoodUp_atNight/Positive/\",         # For home laptop\n",
    "    # \"../../../BottleStoodUp_atNight/Positive/\",          # For work laptop\n",
    "    target_size=(SIZE, SIZE),\n",
    "    batch_size=batch_size,\n",
    "    shuffle = False,\n",
    "    class_mode='input'          # Class used for working with Autoencoders\n",
    "    \n",
    "    )"
   ]
  },
  {
   "cell_type": "code",
   "execution_count": 6,
   "metadata": {},
   "outputs": [
    {
     "name": "stdout",
     "output_type": "stream",
     "text": [
      "Found 30 images belonging to 1 classes.\n"
     ]
    }
   ],
   "source": [
    "validation_generator = datagen.flow_from_directory(\n",
    "    \"../../Images/BottleStoodUp_atNight/Positive_val/\",     # For home laptop\n",
    "    # \"../../../BottleStoodUp_atNight/Positive_val/\",           # For work lpatop   \n",
    "    target_size=(SIZE, SIZE),\n",
    "    batch_size=batch_size,\n",
    "    shuffle = False,\n",
    "    class_mode='input'\n",
    "    )\n"
   ]
  },
  {
   "cell_type": "code",
   "execution_count": 7,
   "metadata": {},
   "outputs": [
    {
     "name": "stdout",
     "output_type": "stream",
     "text": [
      "Found 6 images belonging to 1 classes.\n"
     ]
    }
   ],
   "source": [
    "anomaly_generator = datagen.flow_from_directory(\n",
    "    \"../../Images/BottleStoodUp_atNight/Anomalies2.0/\",         # For home laptop\n",
    "    # \"../../../BottleStoodUp_atNight/Anomalies2.0/\",           # For work lpatpo\n",
    "    target_size=(SIZE, SIZE),\n",
    "    batch_size=batch_size,\n",
    "    shuffle = False,\n",
    "    class_mode='input'\n",
    "    )\n"
   ]
  },
  {
   "cell_type": "code",
   "execution_count": 8,
   "metadata": {},
   "outputs": [
    {
     "name": "stdout",
     "output_type": "stream",
     "text": [
      "Found 30 images belonging to 2 classes.\n"
     ]
    }
   ],
   "source": [
    "test_set_generator = datagen.flow_from_directory(\n",
    "    \"../../Images/BottleStoodUp_atNight/Evaluation/\",       # For home laptop\n",
    "    # \"../../../BottleStoodUp_atNight/Evaluation/\",             # For work laptop  \n",
    "    target_size=(SIZE, SIZE),\n",
    "    batch_size=batch_size,\n",
    "    shuffle = False,\n",
    "    class_mode='binary'\n",
    "    )\n"
   ]
  },
  {
   "attachments": {},
   "cell_type": "markdown",
   "metadata": {},
   "source": [
    "# Showing one sample of the training set images"
   ]
  },
  {
   "attachments": {},
   "cell_type": "markdown",
   "metadata": {},
   "source": [
    "Grabbing only one image of one batch of the training set."
   ]
  },
  {
   "cell_type": "code",
   "execution_count": 9,
   "metadata": {},
   "outputs": [
    {
     "name": "stdout",
     "output_type": "stream",
     "text": [
      "<class 'numpy.ndarray'>\n",
      "32\n"
     ]
    },
    {
     "name": "stderr",
     "output_type": "stream",
     "text": [
      "2023-06-06 11:25:29.156326: I tensorflow/core/platform/cpu_feature_guard.cc:143] Your CPU supports instructions that this TensorFlow binary was not compiled to use: AVX2 FMA\n",
      "2023-06-06 11:25:29.162931: I tensorflow/core/platform/profile_utils/cpu_utils.cc:102] CPU Frequency: 2599990000 Hz\n",
      "2023-06-06 11:25:29.163568: I tensorflow/compiler/xla/service/service.cc:168] XLA service 0x7f0a6c000b90 initialized for platform Host (this does not guarantee that XLA will be used). Devices:\n",
      "2023-06-06 11:25:29.163580: I tensorflow/compiler/xla/service/service.cc:176]   StreamExecutor device (0): Host, Default Version\n",
      "2023-06-06 11:25:29.244481: I tensorflow/stream_executor/cuda/cuda_gpu_executor.cc:981] successful NUMA node read from SysFS had negative value (-1), but there must be at least one NUMA node, so returning NUMA node zero\n",
      "2023-06-06 11:25:29.244858: I tensorflow/compiler/xla/service/service.cc:168] XLA service 0x5aca250 initialized for platform CUDA (this does not guarantee that XLA will be used). Devices:\n",
      "2023-06-06 11:25:29.244870: I tensorflow/compiler/xla/service/service.cc:176]   StreamExecutor device (0): NVIDIA GeForce RTX 2080 with Max-Q Design, Compute Capability 7.5\n",
      "2023-06-06 11:25:29.245222: I tensorflow/stream_executor/cuda/cuda_gpu_executor.cc:981] successful NUMA node read from SysFS had negative value (-1), but there must be at least one NUMA node, so returning NUMA node zero\n",
      "2023-06-06 11:25:29.245508: I tensorflow/core/common_runtime/gpu/gpu_device.cc:1561] Found device 0 with properties: \n",
      "pciBusID: 0000:01:00.0 name: NVIDIA GeForce RTX 2080 with Max-Q Design computeCapability: 7.5\n",
      "coreClock: 1.23GHz coreCount: 46 deviceMemorySize: 7.79GiB deviceMemoryBandwidth: 357.69GiB/s\n",
      "2023-06-06 11:25:29.245535: I tensorflow/stream_executor/platform/default/dso_loader.cc:44] Successfully opened dynamic library libcudart.so.10.1\n",
      "2023-06-06 11:25:29.245546: I tensorflow/stream_executor/platform/default/dso_loader.cc:44] Successfully opened dynamic library libcublas.so.10\n",
      "2023-06-06 11:25:29.245556: I tensorflow/stream_executor/platform/default/dso_loader.cc:44] Successfully opened dynamic library libcufft.so.10\n",
      "2023-06-06 11:25:29.245566: I tensorflow/stream_executor/platform/default/dso_loader.cc:44] Successfully opened dynamic library libcurand.so.10\n",
      "2023-06-06 11:25:29.245575: I tensorflow/stream_executor/platform/default/dso_loader.cc:44] Successfully opened dynamic library libcusolver.so.10\n",
      "2023-06-06 11:25:29.245584: I tensorflow/stream_executor/platform/default/dso_loader.cc:44] Successfully opened dynamic library libcusparse.so.10\n",
      "2023-06-06 11:25:29.245594: I tensorflow/stream_executor/platform/default/dso_loader.cc:44] Successfully opened dynamic library libcudnn.so.7\n",
      "2023-06-06 11:25:29.245639: I tensorflow/stream_executor/cuda/cuda_gpu_executor.cc:981] successful NUMA node read from SysFS had negative value (-1), but there must be at least one NUMA node, so returning NUMA node zero\n",
      "2023-06-06 11:25:29.246003: I tensorflow/stream_executor/cuda/cuda_gpu_executor.cc:981] successful NUMA node read from SysFS had negative value (-1), but there must be at least one NUMA node, so returning NUMA node zero\n",
      "2023-06-06 11:25:29.246272: I tensorflow/core/common_runtime/gpu/gpu_device.cc:1703] Adding visible gpu devices: 0\n",
      "2023-06-06 11:25:29.246521: I tensorflow/stream_executor/platform/default/dso_loader.cc:44] Successfully opened dynamic library libcudart.so.10.1\n",
      "2023-06-06 11:25:29.247118: I tensorflow/core/common_runtime/gpu/gpu_device.cc:1102] Device interconnect StreamExecutor with strength 1 edge matrix:\n",
      "2023-06-06 11:25:29.247127: I tensorflow/core/common_runtime/gpu/gpu_device.cc:1108]      0 \n",
      "2023-06-06 11:25:29.247133: I tensorflow/core/common_runtime/gpu/gpu_device.cc:1121] 0:   N \n",
      "2023-06-06 11:25:29.247481: I tensorflow/stream_executor/cuda/cuda_gpu_executor.cc:981] successful NUMA node read from SysFS had negative value (-1), but there must be at least one NUMA node, so returning NUMA node zero\n",
      "2023-06-06 11:25:29.247794: I tensorflow/stream_executor/cuda/cuda_gpu_executor.cc:981] successful NUMA node read from SysFS had negative value (-1), but there must be at least one NUMA node, so returning NUMA node zero\n",
      "2023-06-06 11:25:29.248083: I tensorflow/core/common_runtime/gpu/gpu_device.cc:1247] Created TensorFlow device (/job:localhost/replica:0/task:0/device:GPU:0 with 6497 MB memory) -> physical GPU (device: 0, name: NVIDIA GeForce RTX 2080 with Max-Q Design, pci bus id: 0000:01:00.0, compute capability: 7.5)\n"
     ]
    },
    {
     "name": "stdout",
     "output_type": "stream",
     "text": [
      "tf.Tensor(0.0, shape=(), dtype=float32) tf.Tensor(1.0, shape=(), dtype=float32)\n"
     ]
    }
   ],
   "source": [
    "images_in_batch = next(train_generator)[0]\n",
    "print(type(images_in_batch))\n",
    "print(len(images_in_batch))\n",
    "print(tf.reduce_min(images_in_batch), tf.reduce_max(images_in_batch))"
   ]
  },
  {
   "cell_type": "code",
   "execution_count": 10,
   "metadata": {},
   "outputs": [
    {
     "data": {
      "text/plain": [
       "<matplotlib.image.AxesImage at 0x7f0afc1add60>"
      ]
     },
     "execution_count": 10,
     "metadata": {},
     "output_type": "execute_result"
    },
    {
     "data": {
      "image/png": "[encoded data removed]",
      "text/plain": [
       "<Figure size 640x480 with 1 Axes>"
      ]
     },
     "metadata": {},
     "output_type": "display_data"
    }
   ],
   "source": [
    "single_img = images_in_batch[0]\n",
    "plt.imshow(single_img)"
   ]
  },
  {
   "attachments": {},
   "cell_type": "markdown",
   "metadata": {},
   "source": [
    "# Configuring the Autoencoder netwrok"
   ]
  },
  {
   "cell_type": "code",
   "execution_count": 11,
   "metadata": {},
   "outputs": [
    {
     "name": "stdout",
     "output_type": "stream",
     "text": [
      "(None, 14, 14, 1)\n",
      "(None, 98)\n",
      "Model: \"model\"\n",
      "_________________________________________________________________\n",
      "Layer (type)                 Output Shape              Param #   \n",
      "=================================================================\n",
      "input_1 (InputLayer)         [(None, 224, 224, 3)]     0         \n",
      "_________________________________________________________________\n",
      "conv2d (Conv2D)              (None, 224, 224, 64)      1792      \n",
      "_________________________________________________________________\n",
      "max_pooling2d (MaxPooling2D) (None, 112, 112, 64)      0         \n",
      "_________________________________________________________________\n",
      "conv2d_1 (Conv2D)            (None, 112, 112, 32)      18464     \n",
      "_________________________________________________________________\n",
      "max_pooling2d_1 (MaxPooling2 (None, 56, 56, 32)        0         \n",
      "_________________________________________________________________\n",
      "conv2d_2 (Conv2D)            (None, 56, 56, 16)        4624      \n",
      "_________________________________________________________________\n",
      "max_pooling2d_2 (MaxPooling2 (None, 28, 28, 16)        0         \n",
      "_________________________________________________________________\n",
      "conv2d_3 (Conv2D)            (None, 28, 28, 4)         580       \n",
      "_________________________________________________________________\n",
      "max_pooling2d_3 (MaxPooling2 (None, 14, 14, 4)         0         \n",
      "_________________________________________________________________\n",
      "conv2d_4 (Conv2D)            (None, 14, 14, 1)         37        \n",
      "_________________________________________________________________\n",
      "flatten (Flatten)            (None, 196)               0         \n",
      "_________________________________________________________________\n",
      "dense (Dense)                (None, 196)               38612     \n",
      "_________________________________________________________________\n",
      "dense_1 (Dense)              (None, 98)                19306     \n",
      "=================================================================\n",
      "Total params: 83,415\n",
      "Trainable params: 83,415\n",
      "Non-trainable params: 0\n",
      "_________________________________________________________________\n"
     ]
    }
   ],
   "source": [
    "latent_dim = 98  # Number of latent dimension parameters\n",
    "\n",
    "input_img = Input(shape=(SIZE, SIZE, 3))\n",
    "x = Conv2D(64, (3, 3), activation='relu', padding='same')(input_img)\n",
    "x = MaxPooling2D((2, 2), padding='same')(x)\n",
    "x = Conv2D(32, (3, 3), activation='relu', padding='same')(x)\n",
    "x = MaxPool2D( (2, 2), padding='same')(x)\n",
    "x = Conv2D(16, (3, 3), activation='relu', padding='same')(x)\n",
    "x = MaxPool2D( (2, 2), padding='same')(x)\n",
    "\n",
    "x = Conv2D(4, (3, 3), activation='relu', padding='same')(x)\n",
    "x = MaxPool2D( (2, 2), padding='same')(x)\n",
    "x = Conv2D(1, (3, 3), activation='relu', padding='same')(x)\n",
    "\n",
    "shape_before_flattening = K.int_shape(x)\n",
    "print(shape_before_flattening)\n",
    "x = Flatten()(x)\n",
    "x = Dense(196, activation='relu')(x)\n",
    "\n",
    "Z = Dense(latent_dim)(x)\n",
    "print(K.int_shape(Z))\n",
    "\n",
    "encoder = Model(input_img,Z)\n",
    "encoder.summary()"
   ]
  },
  {
   "cell_type": "code",
   "execution_count": 12,
   "metadata": {},
   "outputs": [
    {
     "name": "stdout",
     "output_type": "stream",
     "text": [
      "Model: \"model_1\"\n",
      "_________________________________________________________________\n",
      "Layer (type)                 Output Shape              Param #   \n",
      "=================================================================\n",
      "input_2 (InputLayer)         [(None, 98)]              0         \n",
      "_________________________________________________________________\n",
      "intermediate_decoder (Dense) (None, 784)               77616     \n",
      "_________________________________________________________________\n",
      "original_decoder (Dense)     (None, 784)               615440    \n",
      "_________________________________________________________________\n",
      "reshape (Reshape)            (None, 14, 14, 4)         0         \n",
      "_________________________________________________________________\n",
      "conv2d_transpose (Conv2DTran (None, 14, 14, 3)         111       \n",
      "_________________________________________________________________\n",
      "up_sampling2d (UpSampling2D) (None, 28, 28, 3)         0         \n",
      "_________________________________________________________________\n",
      "conv2d_transpose_1 (Conv2DTr (None, 28, 28, 3)         84        \n",
      "_________________________________________________________________\n",
      "up_sampling2d_1 (UpSampling2 (None, 56, 56, 3)         0         \n",
      "_________________________________________________________________\n",
      "conv2d_transpose_2 (Conv2DTr (None, 56, 56, 3)         84        \n",
      "_________________________________________________________________\n",
      "up_sampling2d_2 (UpSampling2 (None, 112, 112, 3)       0         \n",
      "_________________________________________________________________\n",
      "conv2d_transpose_3 (Conv2DTr (None, 112, 112, 3)       84        \n",
      "_________________________________________________________________\n",
      "up_sampling2d_3 (UpSampling2 (None, 224, 224, 3)       0         \n",
      "=================================================================\n",
      "Total params: 693,419\n",
      "Trainable params: 693,419\n",
      "Non-trainable params: 0\n",
      "_________________________________________________________________\n"
     ]
    }
   ],
   "source": [
    "# decoder takes the latent distribution sample as input\n",
    "decoder_input = Input(K.int_shape(Z)[1:])\n",
    "x = Dense(14*14*4, activation='relu', name=\"intermediate_decoder\", input_shape=(latent_dim,))(decoder_input)\n",
    "# Expand to 784 total pixels\n",
    "x = Dense(784, activation='sigmoid', name=\"original_decoder\")(x)\n",
    "x = Reshape((14,14,4),input_shape=(784,))(x)\n",
    "\n",
    "x = Conv2DTranspose(3, (3, 3), padding='same')(x)\n",
    "x = UpSampling2D( (2, 2))(x)\n",
    "x = Conv2DTranspose(3, (3, 3), padding='same')(x)\n",
    "x = UpSampling2D( (2, 2))(x)\n",
    "x = Conv2DTranspose(3, (3, 3), padding='same')(x)\n",
    "x = UpSampling2D( (2, 2))(x)\n",
    "x = Conv2DTranspose(3, (3, 3), padding='same')(x)\n",
    "x = UpSampling2D( (2, 2))(x)\n",
    "\n",
    "# decoder model statement\n",
    "decoder = Model(decoder_input, x)\n",
    "\n",
    "# apply the decoder to the sample from the latent distribution\n",
    "z_decoded = decoder(Z)\n",
    "\n",
    "decoder.summary()"
   ]
  },
  {
   "cell_type": "code",
   "execution_count": 13,
   "metadata": {},
   "outputs": [
    {
     "name": "stdout",
     "output_type": "stream",
     "text": [
      "Model: \"model_2\"\n",
      "_________________________________________________________________\n",
      "Layer (type)                 Output Shape              Param #   \n",
      "=================================================================\n",
      "input_1 (InputLayer)         [(None, 224, 224, 3)]     0         \n",
      "_________________________________________________________________\n",
      "conv2d (Conv2D)              (None, 224, 224, 64)      1792      \n",
      "_________________________________________________________________\n",
      "max_pooling2d (MaxPooling2D) (None, 112, 112, 64)      0         \n",
      "_________________________________________________________________\n",
      "conv2d_1 (Conv2D)            (None, 112, 112, 32)      18464     \n",
      "_________________________________________________________________\n",
      "max_pooling2d_1 (MaxPooling2 (None, 56, 56, 32)        0         \n",
      "_________________________________________________________________\n",
      "conv2d_2 (Conv2D)            (None, 56, 56, 16)        4624      \n",
      "_________________________________________________________________\n",
      "max_pooling2d_2 (MaxPooling2 (None, 28, 28, 16)        0         \n",
      "_________________________________________________________________\n",
      "conv2d_3 (Conv2D)            (None, 28, 28, 4)         580       \n",
      "_________________________________________________________________\n",
      "max_pooling2d_3 (MaxPooling2 (None, 14, 14, 4)         0         \n",
      "_________________________________________________________________\n",
      "conv2d_4 (Conv2D)            (None, 14, 14, 1)         37        \n",
      "_________________________________________________________________\n",
      "flatten (Flatten)            (None, 196)               0         \n",
      "_________________________________________________________________\n",
      "dense (Dense)                (None, 196)               38612     \n",
      "_________________________________________________________________\n",
      "dense_1 (Dense)              (None, 98)                19306     \n",
      "_________________________________________________________________\n",
      "model_1 (Model)              (None, 224, 224, 3)       693419    \n",
      "=================================================================\n",
      "Total params: 776,834\n",
      "Trainable params: 776,834\n",
      "Non-trainable params: 0\n",
      "_________________________________________________________________\n"
     ]
    }
   ],
   "source": [
    "# VAE model statement\n",
    "ae = Model(input_img,z_decoded)\n",
    "ae.compile(optimizer='adam', loss='mean_squared_error')\n",
    "\n",
    "ae.summary()"
   ]
  },
  {
   "attachments": {},
   "cell_type": "markdown",
   "metadata": {},
   "source": [
    "These are the weights of a specific layer of the encoder model, before training are:"
   ]
  },
  {
   "cell_type": "code",
   "execution_count": 14,
   "metadata": {},
   "outputs": [
    {
     "name": "stdout",
     "output_type": "stream",
     "text": [
      "quantity of layers in the model:  13\n",
      "The weigths in the conv2d is:  [<tf.Variable 'conv2d/kernel:0' shape=(3, 3, 3, 64) dtype=float32, numpy=\n",
      "array([[[[-3.9030921e-02,  2.8794318e-02, -4.9766067e-02, ...,\n",
      "           9.8326787e-02, -2.4970576e-02, -4.8179999e-03],\n",
      "         [ 1.5499160e-02,  7.0916489e-02,  4.5912787e-03, ...,\n",
      "           8.6315453e-02,  7.0596635e-02,  2.0723909e-02],\n",
      "         [-8.5999243e-02, -2.4680406e-02, -3.2761052e-02, ...,\n",
      "           3.4789130e-02,  9.8542288e-02, -2.1675661e-02]],\n",
      "\n",
      "        [[ 8.8991314e-02, -1.1188060e-02,  7.7290908e-02, ...,\n",
      "          -3.1135924e-02,  4.3335855e-02, -5.8122374e-02],\n",
      "         [-9.6943893e-02,  2.8007865e-02, -3.0503996e-02, ...,\n",
      "          -2.0211063e-02,  6.7653731e-02, -7.9012424e-02],\n",
      "         [ 9.4989926e-02,  3.6240101e-02,  7.3376223e-02, ...,\n",
      "           4.1610196e-02, -4.4660162e-02, -9.6078873e-02]],\n",
      "\n",
      "        [[-8.2885571e-02,  5.8673173e-02, -6.8959288e-02, ...,\n",
      "           8.1178159e-02, -1.5528671e-02, -6.1893370e-02],\n",
      "         [-7.9134241e-02, -6.8737283e-02,  9.3771949e-02, ...,\n",
      "          -7.4027047e-02,  4.7493100e-02,  6.3670993e-02],\n",
      "         [ 9.0145692e-02, -5.0537620e-02,  3.7783191e-02, ...,\n",
      "           3.2320455e-02, -9.8103166e-02,  2.6828200e-02]]],\n",
      "\n",
      "\n",
      "       [[[ 9.3351826e-02, -4.6711303e-02,  2.9694811e-03, ...,\n",
      "           8.0562189e-02,  9.7196743e-02,  2.5121689e-02],\n",
      "         [-4.1311085e-03, -3.5046592e-02, -3.0936509e-02, ...,\n",
      "          -2.7274959e-02, -3.5415627e-02, -8.4891573e-02],\n",
      "         [ 6.1719313e-02,  4.9244121e-02, -4.0887974e-02, ...,\n",
      "          -2.2203460e-02, -8.9251325e-03, -3.4276545e-02]],\n",
      "\n",
      "        [[ 5.7867333e-02, -5.3325877e-02,  8.1816763e-02, ...,\n",
      "           2.1237038e-02, -1.0772608e-02, -2.3292556e-02],\n",
      "         [-9.5146954e-02, -7.5644352e-02,  1.7837904e-02, ...,\n",
      "          -4.9021486e-02,  7.3914886e-02,  5.5120438e-02],\n",
      "         [ 3.6402315e-02, -1.7124906e-02,  6.7317948e-02, ...,\n",
      "          -3.5016105e-02, -6.0041953e-02,  8.2814038e-02]],\n",
      "\n",
      "        [[-7.9833046e-03, -7.3684178e-02,  2.7718544e-02, ...,\n",
      "          -5.7477202e-02,  3.7637144e-02, -8.9212358e-03],\n",
      "         [ 2.3131669e-02,  4.6538740e-02,  5.3268418e-02, ...,\n",
      "          -9.8378353e-02, -4.6900898e-02, -9.8297447e-02],\n",
      "         [-8.1351459e-02,  4.9220979e-02, -8.5400522e-02, ...,\n",
      "           3.4544826e-02,  3.8962811e-02,  2.8422102e-02]]],\n",
      "\n",
      "\n",
      "       [[[-6.6720903e-02, -3.8858116e-02, -7.5426340e-02, ...,\n",
      "          -7.3585436e-02, -1.7058931e-02,  8.9132130e-02],\n",
      "         [-5.0387956e-02, -6.7991413e-02, -1.6900077e-03, ...,\n",
      "           4.3374032e-02,  4.9343780e-02, -2.1409079e-02],\n",
      "         [ 9.5617279e-02, -5.5120885e-03,  5.2515820e-02, ...,\n",
      "          -5.6684915e-02, -7.4655548e-02,  5.2035183e-02]],\n",
      "\n",
      "        [[-4.2069443e-02, -4.2577792e-02, -4.7658250e-02, ...,\n",
      "           9.3634635e-02,  8.5248277e-03,  9.1592208e-02],\n",
      "         [-2.1305457e-02,  5.7056546e-05,  1.6530626e-02, ...,\n",
      "          -8.7546244e-02, -1.9565389e-02, -3.2922037e-02],\n",
      "         [-4.1958448e-02,  7.2631583e-02, -3.9543197e-02, ...,\n",
      "           5.9664294e-02,  1.8887855e-02, -5.4477829e-02]],\n",
      "\n",
      "        [[-4.8647769e-02, -7.5752608e-02,  1.8938318e-02, ...,\n",
      "           5.7227612e-02, -8.8312827e-02,  9.4493702e-03],\n",
      "         [-7.6073222e-02,  5.7809949e-03,  3.9616153e-03, ...,\n",
      "           1.9376054e-03, -9.9366039e-02, -2.6230760e-02],\n",
      "         [ 3.7064478e-03, -1.5880108e-02,  9.8989040e-02, ...,\n",
      "          -5.5199888e-02,  3.5860509e-02,  6.4646974e-03]]]],\n",
      "      dtype=float32)>, <tf.Variable 'conv2d/bias:0' shape=(64,) dtype=float32, numpy=\n",
      "array([0., 0., 0., 0., 0., 0., 0., 0., 0., 0., 0., 0., 0., 0., 0., 0., 0.,\n",
      "       0., 0., 0., 0., 0., 0., 0., 0., 0., 0., 0., 0., 0., 0., 0., 0., 0.,\n",
      "       0., 0., 0., 0., 0., 0., 0., 0., 0., 0., 0., 0., 0., 0., 0., 0., 0.,\n",
      "       0., 0., 0., 0., 0., 0., 0., 0., 0., 0., 0., 0., 0.], dtype=float32)>]\n"
     ]
    }
   ],
   "source": [
    "layer_number = 1\n",
    "print(\"quantity of layers in the model: \", len(encoder.layers))\n",
    "print(\"The weigths in the\", encoder.layers[layer_number].name, \"is: \", encoder.layers[layer_number].weights)"
   ]
  },
  {
   "attachments": {},
   "cell_type": "markdown",
   "metadata": {},
   "source": [
    "These are the weights of a specific layer of the decoder model,before training are:"
   ]
  },
  {
   "cell_type": "code",
   "execution_count": 15,
   "metadata": {},
   "outputs": [],
   "source": [
    "# layer_number = 1\n",
    "# print(\"quantity of layers in the model: \", len(decoder.layers))\n",
    "# print(\"The weigths in the\", decoder.layers[layer_number].name, \"is: \", decoder.layers[layer_number].weights)"
   ]
  },
  {
   "attachments": {},
   "cell_type": "markdown",
   "metadata": {},
   "source": [
    "These are the weights of a specific layer of the autoencoder model,before training are:"
   ]
  },
  {
   "cell_type": "code",
   "execution_count": 16,
   "metadata": {},
   "outputs": [],
   "source": [
    "# layer_number = 1\n",
    "# print(\"quantity of layers in the model: \", len(ae.layers))\n",
    "# print(\"The weigths in the\", ae.layers[layer_number].name, \"is: \", ae.layers[layer_number].weights)"
   ]
  },
  {
   "cell_type": "code",
   "execution_count": 17,
   "metadata": {},
   "outputs": [],
   "source": [
    "# from tensorflow.keras.callbacks import EarlyStopping\n",
    "# # run the model\n",
    "# # early_stopping = EarlyStopping(monitor='val_loss', min_delta=0, patience=20, verbose=5, mode='auto')\n",
    "# history = ae.fit(train_generator, epochs=200, validation_data=validation_generator, verbose=1, shuffle = True)"
   ]
  },
  {
   "cell_type": "code",
   "execution_count": 18,
   "metadata": {},
   "outputs": [],
   "source": [
    "\n",
    "# # Get the training and validation loss values from the history object\n",
    "# train_loss = history.history['loss']\n",
    "# val_loss = history.history['val_loss']\n",
    "\n",
    "# # Plot the training and validation loss\n",
    "# epochs = range(1, len(train_loss) + 1)\n",
    "# plt.plot(epochs, train_loss, 'b-', label='Training Loss')\n",
    "# plt.plot(epochs, val_loss, 'r-', label='Validation Loss')\n",
    "# plt.title('Training and Validation Loss')\n",
    "# plt.xlabel('Epochs')\n",
    "# plt.ylabel('Loss')\n",
    "# plt.legend()\n",
    "# plt.show()\n"
   ]
  },
  {
   "cell_type": "code",
   "execution_count": 19,
   "metadata": {},
   "outputs": [
    {
     "name": "stdout",
     "output_type": "stream",
     "text": [
      "ResemblingGoodAutoModel1\n"
     ]
    }
   ],
   "source": [
    "model_version = 'ResemblingGoodAutoModel1'\n",
    "print(model_version)"
   ]
  },
  {
   "cell_type": "code",
   "execution_count": 20,
   "metadata": {},
   "outputs": [],
   "source": [
    "# ae.save(f\"../../BottlesAnomalies_TFM/models/{model_version}\")"
   ]
  },
  {
   "cell_type": "code",
   "execution_count": 21,
   "metadata": {},
   "outputs": [
    {
     "name": "stdout",
     "output_type": "stream",
     "text": [
      "<class 'tensorflow.python.keras.engine.training.Model'>\n"
     ]
    }
   ],
   "source": [
    "print(type(ae))"
   ]
  },
  {
   "attachments": {},
   "cell_type": "markdown",
   "metadata": {},
   "source": [
    "Loading the model that was previously saved\n"
   ]
  },
  {
   "cell_type": "code",
   "execution_count": 22,
   "metadata": {},
   "outputs": [
    {
     "name": "stdout",
     "output_type": "stream",
     "text": [
      "<class 'tensorflow.python.keras.engine.training.Model'>\n"
     ]
    }
   ],
   "source": [
    "model = keras.models.load_model('../models/ResemblingGoodAutoModel1')\n",
    "print(type(model))"
   ]
  },
  {
   "attachments": {},
   "cell_type": "markdown",
   "metadata": {},
   "source": [
    "## See the weights after the model loading"
   ]
  },
  {
   "attachments": {},
   "cell_type": "markdown",
   "metadata": {},
   "source": [
    "These are the weights of a specific layer of the encoder model, AFTER training:"
   ]
  },
  {
   "cell_type": "code",
   "execution_count": 23,
   "metadata": {},
   "outputs": [
    {
     "name": "stdout",
     "output_type": "stream",
     "text": [
      "quantity of layers in the model:  13\n",
      "The weigths in the conv2d is:  [<tf.Variable 'conv2d/kernel:0' shape=(3, 3, 3, 64) dtype=float32, numpy=\n",
      "array([[[[-3.9030921e-02,  2.8794318e-02, -4.9766067e-02, ...,\n",
      "           9.8326787e-02, -2.4970576e-02, -4.8179999e-03],\n",
      "         [ 1.5499160e-02,  7.0916489e-02,  4.5912787e-03, ...,\n",
      "           8.6315453e-02,  7.0596635e-02,  2.0723909e-02],\n",
      "         [-8.5999243e-02, -2.4680406e-02, -3.2761052e-02, ...,\n",
      "           3.4789130e-02,  9.8542288e-02, -2.1675661e-02]],\n",
      "\n",
      "        [[ 8.8991314e-02, -1.1188060e-02,  7.7290908e-02, ...,\n",
      "          -3.1135924e-02,  4.3335855e-02, -5.8122374e-02],\n",
      "         [-9.6943893e-02,  2.8007865e-02, -3.0503996e-02, ...,\n",
      "          -2.0211063e-02,  6.7653731e-02, -7.9012424e-02],\n",
      "         [ 9.4989926e-02,  3.6240101e-02,  7.3376223e-02, ...,\n",
      "           4.1610196e-02, -4.4660162e-02, -9.6078873e-02]],\n",
      "\n",
      "        [[-8.2885571e-02,  5.8673173e-02, -6.8959288e-02, ...,\n",
      "           8.1178159e-02, -1.5528671e-02, -6.1893370e-02],\n",
      "         [-7.9134241e-02, -6.8737283e-02,  9.3771949e-02, ...,\n",
      "          -7.4027047e-02,  4.7493100e-02,  6.3670993e-02],\n",
      "         [ 9.0145692e-02, -5.0537620e-02,  3.7783191e-02, ...,\n",
      "           3.2320455e-02, -9.8103166e-02,  2.6828200e-02]]],\n",
      "\n",
      "\n",
      "       [[[ 9.3351826e-02, -4.6711303e-02,  2.9694811e-03, ...,\n",
      "           8.0562189e-02,  9.7196743e-02,  2.5121689e-02],\n",
      "         [-4.1311085e-03, -3.5046592e-02, -3.0936509e-02, ...,\n",
      "          -2.7274959e-02, -3.5415627e-02, -8.4891573e-02],\n",
      "         [ 6.1719313e-02,  4.9244121e-02, -4.0887974e-02, ...,\n",
      "          -2.2203460e-02, -8.9251325e-03, -3.4276545e-02]],\n",
      "\n",
      "        [[ 5.7867333e-02, -5.3325877e-02,  8.1816763e-02, ...,\n",
      "           2.1237038e-02, -1.0772608e-02, -2.3292556e-02],\n",
      "         [-9.5146954e-02, -7.5644352e-02,  1.7837904e-02, ...,\n",
      "          -4.9021486e-02,  7.3914886e-02,  5.5120438e-02],\n",
      "         [ 3.6402315e-02, -1.7124906e-02,  6.7317948e-02, ...,\n",
      "          -3.5016105e-02, -6.0041953e-02,  8.2814038e-02]],\n",
      "\n",
      "        [[-7.9833046e-03, -7.3684178e-02,  2.7718544e-02, ...,\n",
      "          -5.7477202e-02,  3.7637144e-02, -8.9212358e-03],\n",
      "         [ 2.3131669e-02,  4.6538740e-02,  5.3268418e-02, ...,\n",
      "          -9.8378353e-02, -4.6900898e-02, -9.8297447e-02],\n",
      "         [-8.1351459e-02,  4.9220979e-02, -8.5400522e-02, ...,\n",
      "           3.4544826e-02,  3.8962811e-02,  2.8422102e-02]]],\n",
      "\n",
      "\n",
      "       [[[-6.6720903e-02, -3.8858116e-02, -7.5426340e-02, ...,\n",
      "          -7.3585436e-02, -1.7058931e-02,  8.9132130e-02],\n",
      "         [-5.0387956e-02, -6.7991413e-02, -1.6900077e-03, ...,\n",
      "           4.3374032e-02,  4.9343780e-02, -2.1409079e-02],\n",
      "         [ 9.5617279e-02, -5.5120885e-03,  5.2515820e-02, ...,\n",
      "          -5.6684915e-02, -7.4655548e-02,  5.2035183e-02]],\n",
      "\n",
      "        [[-4.2069443e-02, -4.2577792e-02, -4.7658250e-02, ...,\n",
      "           9.3634635e-02,  8.5248277e-03,  9.1592208e-02],\n",
      "         [-2.1305457e-02,  5.7056546e-05,  1.6530626e-02, ...,\n",
      "          -8.7546244e-02, -1.9565389e-02, -3.2922037e-02],\n",
      "         [-4.1958448e-02,  7.2631583e-02, -3.9543197e-02, ...,\n",
      "           5.9664294e-02,  1.8887855e-02, -5.4477829e-02]],\n",
      "\n",
      "        [[-4.8647769e-02, -7.5752608e-02,  1.8938318e-02, ...,\n",
      "           5.7227612e-02, -8.8312827e-02,  9.4493702e-03],\n",
      "         [-7.6073222e-02,  5.7809949e-03,  3.9616153e-03, ...,\n",
      "           1.9376054e-03, -9.9366039e-02, -2.6230760e-02],\n",
      "         [ 3.7064478e-03, -1.5880108e-02,  9.8989040e-02, ...,\n",
      "          -5.5199888e-02,  3.5860509e-02,  6.4646974e-03]]]],\n",
      "      dtype=float32)>, <tf.Variable 'conv2d/bias:0' shape=(64,) dtype=float32, numpy=\n",
      "array([0., 0., 0., 0., 0., 0., 0., 0., 0., 0., 0., 0., 0., 0., 0., 0., 0.,\n",
      "       0., 0., 0., 0., 0., 0., 0., 0., 0., 0., 0., 0., 0., 0., 0., 0., 0.,\n",
      "       0., 0., 0., 0., 0., 0., 0., 0., 0., 0., 0., 0., 0., 0., 0., 0., 0.,\n",
      "       0., 0., 0., 0., 0., 0., 0., 0., 0., 0., 0., 0., 0.], dtype=float32)>]\n"
     ]
    }
   ],
   "source": [
    "layer_number = 1\n",
    "print(\"quantity of layers in the model: \", len(encoder.layers))\n",
    "print(\"The weigths in the\", encoder.layers[layer_number].name, \"is: \", encoder.layers[layer_number].weights)"
   ]
  },
  {
   "attachments": {},
   "cell_type": "markdown",
   "metadata": {},
   "source": [
    "These are the weights of a specific layer of the Autoencoder model, AFTER training:"
   ]
  },
  {
   "cell_type": "code",
   "execution_count": 24,
   "metadata": {},
   "outputs": [
    {
     "name": "stdout",
     "output_type": "stream",
     "text": [
      "quantity of layers in the model:  14\n",
      "The weigths in the conv2d is:  [<tf.Variable 'conv2d/kernel:0' shape=(3, 3, 3, 64) dtype=float32, numpy=\n",
      "array([[[[-0.06354542, -0.0718592 , -0.02806223, ...,  0.06678934,\n",
      "          -0.0821481 ,  0.01662805],\n",
      "         [-0.08614331,  0.07533826, -0.10461488, ..., -0.01506774,\n",
      "          -0.09995852, -0.03096535],\n",
      "         [-0.09631139,  0.08113249, -0.05807021, ...,  0.07175443,\n",
      "           0.04301379,  0.06503586]],\n",
      "\n",
      "        [[ 0.07838888,  0.08164129,  0.03254025, ..., -0.01769103,\n",
      "          -0.03459752,  0.01767246],\n",
      "         [-0.031467  , -0.00995658,  0.09584064, ...,  0.06090549,\n",
      "           0.04023768, -0.08142138],\n",
      "         [ 0.03956481,  0.01735879, -0.01285171, ...,  0.02099375,\n",
      "          -0.07063777,  0.01085365]],\n",
      "\n",
      "        [[ 0.01088833,  0.05531802,  0.09315495, ...,  0.00489329,\n",
      "          -0.0979104 ,  0.03038216],\n",
      "         [ 0.05498279,  0.0755927 ,  0.04242995, ..., -0.00446055,\n",
      "           0.04560794,  0.06517592],\n",
      "         [-0.07005583, -0.07255838, -0.02093319, ...,  0.02191169,\n",
      "           0.02440218, -0.03239154]]],\n",
      "\n",
      "\n",
      "       [[[ 0.04907981, -0.08513217, -0.06315698, ...,  0.09076321,\n",
      "           0.05912896,  0.08111319],\n",
      "         [ 0.00090986,  0.06562365, -0.03390383, ...,  0.0257418 ,\n",
      "          -0.06034885,  0.06230912],\n",
      "         [-0.00876986,  0.06009355, -0.04662457, ...,  0.025219  ,\n",
      "           0.08330596, -0.08885833]],\n",
      "\n",
      "        [[ 0.04845522, -0.02601486, -0.00717224, ..., -0.09995728,\n",
      "          -0.07897929, -0.00772512],\n",
      "         [-0.08931682, -0.06685474, -0.05502349, ...,  0.00533975,\n",
      "           0.00711674, -0.03112435],\n",
      "         [ 0.05501099, -0.04759203,  0.05403044, ...,  0.07007919,\n",
      "          -0.02746045,  0.08934122]],\n",
      "\n",
      "        [[ 0.11869329,  0.08905061,  0.1409255 , ...,  0.02378943,\n",
      "           0.0482729 ,  0.07834567],\n",
      "         [-0.06100919,  0.0581493 ,  0.07263143, ..., -0.0434022 ,\n",
      "          -0.05103064,  0.0964435 ],\n",
      "         [ 0.09175655,  0.08074825,  0.06781401, ...,  0.02384336,\n",
      "          -0.06147348,  0.09459088]]],\n",
      "\n",
      "\n",
      "       [[[ 0.0462046 , -0.01630515, -0.08193538, ...,  0.09582585,\n",
      "          -0.03253448,  0.08832853],\n",
      "         [-0.08491334, -0.07779376, -0.07579339, ...,  0.08776584,\n",
      "           0.08800618,  0.08556068],\n",
      "         [-0.04039504, -0.07750025, -0.06333445, ...,  0.01970013,\n",
      "           0.04432286,  0.07921124]],\n",
      "\n",
      "        [[-0.01226101, -0.0032195 , -0.02068502, ..., -0.04811263,\n",
      "           0.01392143,  0.05498515],\n",
      "         [-0.04538368, -0.04492519, -0.04870467, ...,  0.03804671,\n",
      "           0.02353279, -0.01249394],\n",
      "         [-0.10746647, -0.03700047, -0.09535853, ...,  0.04357211,\n",
      "           0.10381153,  0.0304654 ]],\n",
      "\n",
      "        [[-0.1068361 , -0.01275534,  0.05087034, ...,  0.02650473,\n",
      "          -0.09315118,  0.07379849],\n",
      "         [-0.00640215, -0.09850998,  0.05859867, ..., -0.01050788,\n",
      "           0.08027786,  0.02446863],\n",
      "         [-0.04694299, -0.05109141,  0.058598  , ...,  0.0485204 ,\n",
      "          -0.01782395, -0.06009937]]]], dtype=float32)>, <tf.Variable 'conv2d/bias:0' shape=(64,) dtype=float32, numpy=\n",
      "array([-0.01634842, -0.02339586,  0.00956612,  0.00251751, -0.04110189,\n",
      "       -0.00268657, -0.03105398, -0.04127843, -0.02163999, -0.04958227,\n",
      "        0.        , -0.01391337,  0.01188575, -0.02550025, -0.02629942,\n",
      "       -0.02080092, -0.02147991, -0.00716209, -0.01729236, -0.03244303,\n",
      "       -0.0350889 ,  0.07041448, -0.03080148, -0.00489005, -0.03585605,\n",
      "        0.        , -0.03737129, -0.02152112, -0.03378838, -0.01341648,\n",
      "       -0.03504817, -0.00024207,  0.        , -0.01858145, -0.02061521,\n",
      "        0.        ,  0.00205573, -0.06731644, -0.05505333, -0.01976741,\n",
      "        0.        , -0.04032758, -0.02197344, -0.00302477, -0.00128562,\n",
      "       -0.02094852,  0.07080689, -0.01728493, -0.01466808, -0.04414487,\n",
      "       -0.01897814, -0.02802968, -0.0092992 , -0.01339568,  0.        ,\n",
      "       -0.02691919, -0.01017822,  0.04475731, -0.03735818, -0.05867451,\n",
      "       -0.00527791, -0.04380135, -0.0300515 , -0.04134042], dtype=float32)>]\n"
     ]
    }
   ],
   "source": [
    "layer_number = 1\n",
    "print(\"quantity of layers in the model: \", len(model.layers))\n",
    "print(\"The weigths in the\", model.layers[layer_number].name, \"is: \", model.layers[layer_number].weights)"
   ]
  },
  {
   "attachments": {},
   "cell_type": "markdown",
   "metadata": {},
   "source": [
    "Indeed the weights of the \"Autoencoder\" model have been updated but the ones from the \"Encoder\" have not. This is expected, since the model that was trained was actually the \"Autoencoder\" mdoel."
   ]
  },
  {
   "attachments": {},
   "cell_type": "markdown",
   "metadata": {},
   "source": [
    "## Perform an Autoencoder reconstruction in one image"
   ]
  },
  {
   "attachments": {},
   "cell_type": "markdown",
   "metadata": {},
   "source": [
    "Get all batches generated by the datagen and pick a batch for prediction"
   ]
  },
  {
   "cell_type": "code",
   "execution_count": 25,
   "metadata": {},
   "outputs": [
    {
     "name": "stdout",
     "output_type": "stream",
     "text": [
      "number of batches are:  6\n"
     ]
    }
   ],
   "source": [
    "#Just to test the model. \n",
    "data_batch = []  #Capture all training batches as a numpy array\n",
    "img_num = 0\n",
    "# while img_num <= train_generator.batch_index:   #gets each generated batch of size batch_size\n",
    "while img_num < len(train_generator):        #I think this should be the correct while clause\n",
    "    data = train_generator.next()\n",
    "    data_batch.append(data[0])\n",
    "    img_num = img_num + 1\n",
    "    \n",
    "print(\"number of batches are: \", img_num)\n"
   ]
  },
  {
   "cell_type": "code",
   "execution_count": 26,
   "metadata": {},
   "outputs": [
    {
     "name": "stdout",
     "output_type": "stream",
     "text": [
      "6\n"
     ]
    }
   ],
   "source": [
    "print(len(data_batch))"
   ]
  },
  {
   "attachments": {},
   "cell_type": "markdown",
   "metadata": {},
   "source": [
    "Predict on the first batch of images. Do also notice that the prediction is being carried out over the images we used for training."
   ]
  },
  {
   "cell_type": "code",
   "execution_count": 27,
   "metadata": {},
   "outputs": [
    {
     "name": "stdout",
     "output_type": "stream",
     "text": [
      "(32, 224, 224, 3)\n"
     ]
    },
    {
     "name": "stderr",
     "output_type": "stream",
     "text": [
      "2023-06-06 11:25:34.212636: I tensorflow/stream_executor/platform/default/dso_loader.cc:44] Successfully opened dynamic library libcublas.so.10\n",
      "2023-06-06 11:25:34.516430: I tensorflow/stream_executor/platform/default/dso_loader.cc:44] Successfully opened dynamic library libcudnn.so.7\n"
     ]
    },
    {
     "name": "stdout",
     "output_type": "stream",
     "text": [
      "(32, 224, 224, 3)\n"
     ]
    }
   ],
   "source": [
    "print(data_batch[0].shape)\n",
    "predicted = model.predict(data_batch[0])  \n",
    "print(predicted.shape)"
   ]
  },
  {
   "attachments": {},
   "cell_type": "markdown",
   "metadata": {},
   "source": [
    "The above is 15 length because it corresponds to the 15 predicted images of a batch. Recall that the predictions are reconstructions of the input images, since we are working with the autoencoder network."
   ]
  },
  {
   "cell_type": "code",
   "execution_count": 28,
   "metadata": {},
   "outputs": [],
   "source": [
    "single_img = data_batch[0][0]"
   ]
  },
  {
   "cell_type": "code",
   "execution_count": 29,
   "metadata": {},
   "outputs": [
    {
     "name": "stdout",
     "output_type": "stream",
     "text": [
      "(224, 224, 3)\n"
     ]
    }
   ],
   "source": [
    "print(single_img.shape)"
   ]
  },
  {
   "cell_type": "code",
   "execution_count": 30,
   "metadata": {},
   "outputs": [
    {
     "data": {
      "image/png": "[encoded data removed]",
      "text/plain": [
       "<Figure size 1200x600 with 2 Axes>"
      ]
     },
     "metadata": {},
     "output_type": "display_data"
    }
   ],
   "source": [
    "#Sanity check, view few images and corresponding reconstructions\n",
    "image_number = random.randint(0, predicted.shape[0]-1)\n",
    "plt.figure(figsize=(12, 6))\n",
    "plt.subplot(121)\n",
    "plt.title(\"input image\")\n",
    "plt.imshow(data_batch[0][image_number])\n",
    "plt.subplot(122)\n",
    "plt.title(\"reconstructed image\")\n",
    "plt.imshow(predicted[image_number])\n",
    "plt.show()"
   ]
  },
  {
   "attachments": {},
   "cell_type": "markdown",
   "metadata": {},
   "source": [
    "# Quantifying the reconstruction error using \"evaluate_generator()\" function"
   ]
  },
  {
   "attachments": {},
   "cell_type": "markdown",
   "metadata": {},
   "source": [
    "Let us examine the reconstruction error of our validation data (good/normal images) and the anomaly images"
   ]
  },
  {
   "cell_type": "code",
   "execution_count": 31,
   "metadata": {},
   "outputs": [
    {
     "name": "stdout",
     "output_type": "stream",
     "text": [
      "WARNING:tensorflow:From /tmp/ipykernel_6953/2207300971.py:1: Model.evaluate_generator (from tensorflow.python.keras.engine.training) is deprecated and will be removed in a future version.\n",
      "Instructions for updating:\n",
      "Please use Model.evaluate, which supports generators.\n",
      "Recon. error for the validation (normal) data is:  0.003459423314779997\n"
     ]
    }
   ],
   "source": [
    "validation_error = model.evaluate_generator(validation_generator)\n",
    "print(\"Recon. error for the validation (normal) data is: \", validation_error)"
   ]
  },
  {
   "attachments": {},
   "cell_type": "markdown",
   "metadata": {},
   "source": [
    "This reconstruction error above should be very low, since the validation generator is full of normal images (good images)"
   ]
  },
  {
   "attachments": {},
   "cell_type": "markdown",
   "metadata": {},
   "source": [
    "Whereas the reconstruction error here below, for the \"anomaly_generator\" should be higher, since this dataset is comprised of full anomaly images."
   ]
  },
  {
   "cell_type": "code",
   "execution_count": 32,
   "metadata": {},
   "outputs": [
    {
     "name": "stdout",
     "output_type": "stream",
     "text": [
      "Recon. error for the anomaly data is:  0.004173059482127428\n"
     ]
    }
   ],
   "source": [
    "anomaly_error = model.evaluate_generator(anomaly_generator)\n",
    "print(\"Recon. error for the anomaly data is: \", anomaly_error)"
   ]
  },
  {
   "attachments": {},
   "cell_type": "markdown",
   "metadata": {},
   "source": [
    "See that this error is slightly higher than the error in the validation dataset. This is good, but the difference is not that significant and this could result in wrong anomaly detections. Let's see some detections."
   ]
  },
  {
   "attachments": {},
   "cell_type": "markdown",
   "metadata": {},
   "source": [
    "SIDENOTE: Additionally, we can check the train generator error according to the \"evaluate_generator()\" function."
   ]
  },
  {
   "cell_type": "code",
   "execution_count": 33,
   "metadata": {},
   "outputs": [
    {
     "name": "stdout",
     "output_type": "stream",
     "text": [
      "Recon. error for the training (non-anomaly) data is:  0.003719898872077465\n"
     ]
    }
   ],
   "source": [
    "training_error = model.evaluate_generator(train_generator)\n",
    "print(\"Recon. error for the training (non-anomaly) data is: \", training_error)"
   ]
  },
  {
   "attachments": {},
   "cell_type": "markdown",
   "metadata": {},
   "source": [
    "See that the above value does not correspond with the below mean reconstruction error of the training set that will be computed. It should at least be close, I think. This is something to check."
   ]
  },
  {
   "attachments": {},
   "cell_type": "markdown",
   "metadata": {},
   "source": [
    "Also see tha the error from the anomaly images is smaller than the error of the training set, which consists of non-anomaly images. THis is not expected and means that this particular model is shit."
   ]
  },
  {
   "attachments": {},
   "cell_type": "markdown",
   "metadata": {},
   "source": [
    "# Computing the reconstruction error without using the \"evaluate_generator()\" function"
   ]
  },
  {
   "attachments": {},
   "cell_type": "markdown",
   "metadata": {},
   "source": [
    "The following function computes the reconstrution error per each batch of images. It does, for each of the batches:\n",
    "- Initialize a vector for storing the reconstruction errors.\n",
    "- A for loop that traverses all the images contained in a batch.\n",
    "    - Take the one image of the batch.\n",
    "    - Add a new size dimension to the image.\n",
    "    - Make a prediction of the selected image with the model that was built.\n",
    "    - Evaluate the performance of the prediction, i.e. compute the prediction error.\n",
    "    - Append the reconstruction error into a list.\n",
    "- Compute the mean and std deviation of the error.\n",
    " "
   ]
  },
  {
   "cell_type": "code",
   "execution_count": 34,
   "metadata": {},
   "outputs": [],
   "source": [
    "def calc_recon_error(batch_images):   \n",
    "    recon_error_list=[]\n",
    "    for im in range(0, batch_images.shape[0]):\n",
    "        img  = batch_images[im]\n",
    "        img = img[np.newaxis, :,:,:]\n",
    "        reconstruction = model.predict([[img]])\n",
    "        # reconstruction_error = model.evaluate([reconstruction],[[img]], batch_size = 1)[0]    # The batch_size parameter for the moment can be supressed. Results were seen to be the same\n",
    "        # reconstruction_error = model.evaluate([reconstruction],[[img]])[0]                    # It included the [0] subscription but with this new model, the rec error is directly a float value, so no more need for subscription\n",
    "        reconstruction_error = model.evaluate([reconstruction],[[img]])\n",
    "        recon_error_list.append(reconstruction_error)   \n",
    "    return recon_error_list"
   ]
  },
  {
   "cell_type": "code",
   "execution_count": 35,
   "metadata": {},
   "outputs": [
    {
     "name": "stdout",
     "output_type": "stream",
     "text": [
      "1/1 [==============================] - 0s 659us/step - loss: 0.0050\n",
      "1/1 [==============================] - 0s 996us/step - loss: 0.0051\n",
      "1/1 [==============================] - 0s 888us/step - loss: 0.0052\n",
      "1/1 [==============================] - 0s 635us/step - loss: 0.0052\n",
      "1/1 [==============================] - 0s 662us/step - loss: 0.0051\n",
      "1/1 [==============================] - 0s 716us/step - loss: 0.0052\n",
      "1/1 [==============================] - 0s 641us/step - loss: 0.0053\n",
      "1/1 [==============================] - 0s 615us/step - loss: 0.0055\n",
      "1/1 [==============================] - 0s 629us/step - loss: 0.0053\n",
      "1/1 [==============================] - 0s 652us/step - loss: 0.0057\n",
      "1/1 [==============================] - 0s 660us/step - loss: 0.0052\n",
      "1/1 [==============================] - 0s 654us/step - loss: 0.0051\n",
      "1/1 [==============================] - 0s 754us/step - loss: 0.0053\n",
      "1/1 [==============================] - 0s 883us/step - loss: 0.0054\n",
      "1/1 [==============================] - 0s 787us/step - loss: 0.0053\n",
      "1/1 [==============================] - 0s 765us/step - loss: 0.0052\n",
      "1/1 [==============================] - 0s 996us/step - loss: 0.0052\n",
      "1/1 [==============================] - 0s 695us/step - loss: 0.0052\n",
      "1/1 [==============================] - 0s 647us/step - loss: 0.0052\n",
      "1/1 [==============================] - 0s 635us/step - loss: 0.0056\n",
      "1/1 [==============================] - 0s 657us/step - loss: 0.0056\n",
      "1/1 [==============================] - 0s 647us/step - loss: 0.0054\n",
      "1/1 [==============================] - 0s 634us/step - loss: 0.0052\n",
      "1/1 [==============================] - 0s 1ms/step - loss: 0.0052\n",
      "1/1 [==============================] - 0s 630us/step - loss: 0.0052\n",
      "1/1 [==============================] - 0s 728us/step - loss: 0.0052\n",
      "1/1 [==============================] - 0s 744us/step - loss: 0.0052\n",
      "1/1 [==============================] - 0s 668us/step - loss: 0.0052\n",
      "1/1 [==============================] - 0s 695us/step - loss: 0.0068\n",
      "1/1 [==============================] - 0s 631us/step - loss: 0.0056\n",
      "1/1 [==============================] - 0s 707us/step - loss: 0.0056\n",
      "1/1 [==============================] - 0s 631us/step - loss: 0.0055\n",
      "1/1 [==============================] - 0s 645us/step - loss: 0.0053\n",
      "1/1 [==============================] - 0s 642us/step - loss: 0.0054\n",
      "1/1 [==============================] - 0s 625us/step - loss: 0.0054\n",
      "1/1 [==============================] - 0s 733us/step - loss: 0.0056\n",
      "1/1 [==============================] - 0s 690us/step - loss: 0.0056\n",
      "1/1 [==============================] - 0s 693us/step - loss: 0.0056\n",
      "1/1 [==============================] - 0s 588us/step - loss: 0.0056\n",
      "1/1 [==============================] - 0s 702us/step - loss: 0.0056\n",
      "1/1 [==============================] - 0s 700us/step - loss: 0.0059\n",
      "1/1 [==============================] - 0s 759us/step - loss: 0.0053\n",
      "1/1 [==============================] - 0s 675us/step - loss: 0.0062\n",
      "1/1 [==============================] - 0s 713us/step - loss: 0.0059\n",
      "1/1 [==============================] - 0s 622us/step - loss: 0.0060\n",
      "1/1 [==============================] - 0s 765us/step - loss: 0.0060\n",
      "1/1 [==============================] - 0s 643us/step - loss: 0.0064\n",
      "1/1 [==============================] - 0s 751us/step - loss: 0.0060\n",
      "1/1 [==============================] - 0s 761us/step - loss: 0.0068\n",
      "1/1 [==============================] - 0s 915us/step - loss: 0.0056\n",
      "1/1 [==============================] - 0s 1ms/step - loss: 0.0056\n",
      "1/1 [==============================] - 0s 750us/step - loss: 0.0055\n",
      "1/1 [==============================] - 0s 700us/step - loss: 0.0053\n",
      "1/1 [==============================] - 0s 838us/step - loss: 0.0054\n",
      "1/1 [==============================] - 0s 775us/step - loss: 0.0054\n",
      "1/1 [==============================] - 0s 651us/step - loss: 0.0056\n",
      "1/1 [==============================] - 0s 648us/step - loss: 0.0056\n",
      "1/1 [==============================] - 0s 689us/step - loss: 0.0056\n",
      "1/1 [==============================] - 0s 899us/step - loss: 0.0056\n",
      "1/1 [==============================] - 0s 682us/step - loss: 0.0056\n",
      "1/1 [==============================] - 0s 831us/step - loss: 0.0059\n",
      "1/1 [==============================] - 0s 739us/step - loss: 0.0053\n",
      "1/1 [==============================] - 0s 1ms/step - loss: 0.0062\n",
      "1/1 [==============================] - 0s 843us/step - loss: 0.0059\n",
      "1/1 [==============================] - 0s 626us/step - loss: 0.0060\n",
      "1/1 [==============================] - 0s 665us/step - loss: 0.0060\n",
      "1/1 [==============================] - 0s 845us/step - loss: 0.0064\n",
      "1/1 [==============================] - 0s 667us/step - loss: 0.0060\n",
      "1/1 [==============================] - 0s 657us/step - loss: 0.0054\n",
      "1/1 [==============================] - 0s 1ms/step - loss: 0.0057\n",
      "1/1 [==============================] - 0s 636us/step - loss: 0.0058\n",
      "1/1 [==============================] - 0s 674us/step - loss: 0.0054\n",
      "1/1 [==============================] - 0s 609us/step - loss: 0.0054\n",
      "1/1 [==============================] - 0s 708us/step - loss: 0.0054\n",
      "1/1 [==============================] - 0s 832us/step - loss: 0.0054\n",
      "1/1 [==============================] - 0s 684us/step - loss: 0.0053\n",
      "1/1 [==============================] - 0s 822us/step - loss: 0.0053\n",
      "1/1 [==============================] - 0s 875us/step - loss: 0.0053\n",
      "1/1 [==============================] - 0s 649us/step - loss: 0.0053\n",
      "1/1 [==============================] - 0s 683us/step - loss: 0.0053\n",
      "1/1 [==============================] - 0s 649us/step - loss: 0.0056\n",
      "1/1 [==============================] - 0s 682us/step - loss: 0.0057\n",
      "1/1 [==============================] - 0s 676us/step - loss: 0.0057\n",
      "1/1 [==============================] - 0s 932us/step - loss: 0.0059\n",
      "1/1 [==============================] - 0s 1ms/step - loss: 0.0065\n",
      "1/1 [==============================] - 0s 674us/step - loss: 0.0063\n",
      "1/1 [==============================] - 0s 753us/step - loss: 0.0053\n",
      "1/1 [==============================] - 0s 774us/step - loss: 0.0054\n",
      "1/1 [==============================] - 0s 757us/step - loss: 0.0069\n",
      "1/1 [==============================] - 0s 705us/step - loss: 0.0053\n",
      "1/1 [==============================] - 0s 703us/step - loss: 0.0051\n",
      "1/1 [==============================] - 0s 746us/step - loss: 0.0051\n",
      "1/1 [==============================] - 0s 711us/step - loss: 0.0052\n",
      "1/1 [==============================] - 0s 877us/step - loss: 0.0052\n",
      "1/1 [==============================] - 0s 822us/step - loss: 0.0053\n",
      "1/1 [==============================] - 0s 679us/step - loss: 0.0052\n",
      "1/1 [==============================] - 0s 735us/step - loss: 0.0054\n",
      "1/1 [==============================] - 0s 858us/step - loss: 0.0051\n",
      "1/1 [==============================] - 0s 823us/step - loss: 0.0051\n",
      "1/1 [==============================] - 0s 633us/step - loss: 0.0051\n",
      "1/1 [==============================] - 0s 588us/step - loss: 0.0051\n",
      "1/1 [==============================] - 0s 662us/step - loss: 0.0051\n",
      "1/1 [==============================] - 0s 644us/step - loss: 0.0051\n",
      "1/1 [==============================] - 0s 663us/step - loss: 0.0052\n",
      "1/1 [==============================] - 0s 644us/step - loss: 0.0051\n",
      "1/1 [==============================] - 0s 658us/step - loss: 0.0057\n",
      "1/1 [==============================] - 0s 744us/step - loss: 0.0050\n",
      "1/1 [==============================] - 0s 707us/step - loss: 0.0052\n",
      "1/1 [==============================] - 0s 666us/step - loss: 0.0052\n",
      "1/1 [==============================] - 0s 638us/step - loss: 0.0052\n",
      "1/1 [==============================] - 0s 643us/step - loss: 0.0053\n",
      "1/1 [==============================] - 0s 1ms/step - loss: 0.0052\n",
      "1/1 [==============================] - 0s 2ms/step - loss: 0.0053\n",
      "1/1 [==============================] - 0s 781us/step - loss: 0.0052\n",
      "1/1 [==============================] - 0s 790us/step - loss: 0.0060\n",
      "1/1 [==============================] - 0s 681us/step - loss: 0.0052\n",
      "1/1 [==============================] - 0s 674us/step - loss: 0.0051\n",
      "1/1 [==============================] - 0s 665us/step - loss: 0.0050\n",
      "1/1 [==============================] - 0s 714us/step - loss: 0.0050\n",
      "1/1 [==============================] - 0s 760us/step - loss: 0.0049\n",
      "1/1 [==============================] - 0s 863us/step - loss: 0.0050\n",
      "1/1 [==============================] - 0s 2ms/step - loss: 0.0051\n",
      "1/1 [==============================] - 0s 773us/step - loss: 0.0051\n",
      "1/1 [==============================] - 0s 5ms/step - loss: 0.0060\n",
      "1/1 [==============================] - 0s 783us/step - loss: 0.0057\n",
      "1/1 [==============================] - 0s 660us/step - loss: 0.0057\n",
      "1/1 [==============================] - 0s 682us/step - loss: 0.0058\n",
      "1/1 [==============================] - 0s 680us/step - loss: 0.0058\n",
      "1/1 [==============================] - 0s 646us/step - loss: 0.0058\n",
      "1/1 [==============================] - 0s 664us/step - loss: 0.0059\n",
      "1/1 [==============================] - 0s 621us/step - loss: 0.0058\n",
      "1/1 [==============================] - 0s 794us/step - loss: 0.0060\n",
      "1/1 [==============================] - 0s 660us/step - loss: 0.0059\n",
      "1/1 [==============================] - 0s 620us/step - loss: 0.0061\n",
      "1/1 [==============================] - 0s 718us/step - loss: 0.0056\n",
      "1/1 [==============================] - 0s 643us/step - loss: 0.0065\n",
      "1/1 [==============================] - 0s 829us/step - loss: 0.0066\n",
      "1/1 [==============================] - 0s 707us/step - loss: 0.0060\n",
      "1/1 [==============================] - 0s 628us/step - loss: 0.0058\n",
      "1/1 [==============================] - 0s 659us/step - loss: 0.0057\n",
      "1/1 [==============================] - 0s 621us/step - loss: 0.0056\n",
      "1/1 [==============================] - 0s 661us/step - loss: 0.0057\n",
      "1/1 [==============================] - 0s 664us/step - loss: 0.0057\n",
      "1/1 [==============================] - 0s 911us/step - loss: 0.0060\n",
      "1/1 [==============================] - 0s 691us/step - loss: 0.0061\n",
      "1/1 [==============================] - 0s 736us/step - loss: 0.0060\n",
      "1/1 [==============================] - 0s 604us/step - loss: 0.0057\n",
      "1/1 [==============================] - 0s 631us/step - loss: 0.0068\n",
      "1/1 [==============================] - 0s 836us/step - loss: 0.0054\n",
      "1/1 [==============================] - 0s 809us/step - loss: 0.0058\n",
      "1/1 [==============================] - 0s 808us/step - loss: 0.0054\n",
      "1/1 [==============================] - 0s 890us/step - loss: 0.0052\n",
      "1/1 [==============================] - 0s 1ms/step - loss: 0.0054\n",
      "1/1 [==============================] - 0s 637us/step - loss: 0.0053\n",
      "1/1 [==============================] - 0s 818us/step - loss: 0.0054\n",
      "1/1 [==============================] - 0s 675us/step - loss: 0.0053\n",
      "1/1 [==============================] - 0s 629us/step - loss: 0.0053\n",
      "1/1 [==============================] - 0s 859us/step - loss: 0.0051\n",
      "1/1 [==============================] - 0s 829us/step - loss: 0.0052\n",
      "1/1 [==============================] - 0s 813us/step - loss: 0.0055\n",
      "1/1 [==============================] - 0s 599us/step - loss: 0.0055\n",
      "1/1 [==============================] - 0s 687us/step - loss: 0.0054\n",
      "1/1 [==============================] - 0s 642us/step - loss: 0.0056\n",
      "1/1 [==============================] - 0s 1ms/step - loss: 0.0057\n",
      "1/1 [==============================] - 0s 593us/step - loss: 0.0063\n",
      "1/1 [==============================] - 0s 767us/step - loss: 0.0058\n",
      "1/1 [==============================] - 0s 655us/step - loss: 0.0063\n",
      "1/1 [==============================] - 0s 728us/step - loss: 0.0058\n",
      "1/1 [==============================] - 0s 696us/step - loss: 0.0057\n",
      "1/1 [==============================] - 0s 655us/step - loss: 0.0052\n",
      "1/1 [==============================] - 0s 635us/step - loss: 0.0051\n",
      "1/1 [==============================] - 0s 741us/step - loss: 0.0052\n",
      "1/1 [==============================] - 0s 830us/step - loss: 0.0053\n",
      "1/1 [==============================] - 0s 764us/step - loss: 0.0051\n",
      "1/1 [==============================] - 0s 788us/step - loss: 0.0051\n",
      "1/1 [==============================] - 0s 651us/step - loss: 0.0052\n",
      "1/1 [==============================] - 0s 630us/step - loss: 0.0050\n",
      "1/1 [==============================] - 0s 674us/step - loss: 0.0050\n",
      "1/1 [==============================] - 0s 623us/step - loss: 0.0054\n",
      "The list of rec. error contains  6 batches of rec. errors\n"
     ]
    }
   ],
   "source": [
    "total_rec_error = []\n",
    "for i in range(len(train_generator)):        #I think this should be the correct while clause\n",
    "    data = train_generator.next()\n",
    "    total_rec_error.append(calc_recon_error(data[0]))\n",
    "    \n",
    "print(\"The list of rec. error contains \", len(total_rec_error), \"batches of rec. errors\")"
   ]
  },
  {
   "cell_type": "code",
   "execution_count": 36,
   "metadata": {},
   "outputs": [
    {
     "name": "stdout",
     "output_type": "stream",
     "text": [
      "179\n"
     ]
    }
   ],
   "source": [
    "total_rec_error_list = [item for sublist in total_rec_error for item in sublist]\n",
    "print(len(total_rec_error_list))"
   ]
  },
  {
   "cell_type": "code",
   "execution_count": 37,
   "metadata": {},
   "outputs": [
    {
     "name": "stdout",
     "output_type": "stream",
     "text": [
      "THIS IS FOR THE TRAINING (NON-ANOMALY) IMAGES\n",
      "\n",
      "The average of the errors list is:  0.005521684289290752\n",
      "The standard deviation of the errors list is:  0.0004065031297210624\n",
      "The min value of the errors list is:  0.004948091693222523\n",
      "The max value of the errors list is:  0.006946203764528036\n"
     ]
    }
   ],
   "source": [
    "na_average_recon_error = np.mean(np.array(total_rec_error_list))  \n",
    "na_stdev_recon_error = np.std(np.array(total_rec_error_list)) \n",
    "min_prob = np.min(total_rec_error_list)\n",
    "max_prob = np.max(total_rec_error_list)\n",
    "print(\"THIS IS FOR THE TRAINING (NON-ANOMALY) IMAGES\\n\")\n",
    "print(\"The average of the errors list is: \", na_average_recon_error)\n",
    "print(\"The standard deviation of the errors list is: \", na_stdev_recon_error)\n",
    "print(\"The min value of the errors list is: \", min_prob)\n",
    "print(\"The max value of the errors list is: \", max_prob)"
   ]
  },
  {
   "attachments": {},
   "cell_type": "markdown",
   "metadata": {},
   "source": [
    "Compute the average and std dev. of recon. error for positive (anomalies) samples. \n"
   ]
  },
  {
   "cell_type": "code",
   "execution_count": 38,
   "metadata": {},
   "outputs": [],
   "source": [
    "anomaly_batch = anomaly_generator.next()"
   ]
  },
  {
   "cell_type": "code",
   "execution_count": 39,
   "metadata": {},
   "outputs": [
    {
     "name": "stdout",
     "output_type": "stream",
     "text": [
      "1/1 [==============================] - 0s 708us/step - loss: 0.0054\n",
      "1/1 [==============================] - 0s 665us/step - loss: 0.0052\n",
      "1/1 [==============================] - 0s 626us/step - loss: 0.0066\n",
      "1/1 [==============================] - 0s 751us/step - loss: 0.0068\n",
      "1/1 [==============================] - 0s 822us/step - loss: 0.0073\n",
      "1/1 [==============================] - 0s 632us/step - loss: 0.0057\n",
      "The list of rec. error for anomalies contains  1 batches of rec. errors\n"
     ]
    }
   ],
   "source": [
    "total_rec_error_anomalies = []\n",
    "for i in range(len(anomaly_generator)):        #I think this should be the correct while clause\n",
    "    data = anomaly_generator.next()\n",
    "    total_rec_error_anomalies.append(calc_recon_error(data[0]))\n",
    "    \n",
    "print(\"The list of rec. error for anomalies contains \", len(total_rec_error_anomalies), \"batches of rec. errors\")"
   ]
  },
  {
   "cell_type": "code",
   "execution_count": 40,
   "metadata": {},
   "outputs": [
    {
     "name": "stdout",
     "output_type": "stream",
     "text": [
      "6\n"
     ]
    }
   ],
   "source": [
    "total_rec_error_anomalies = [item for sublist in total_rec_error_anomalies for item in sublist]\n",
    "print(len(total_rec_error_anomalies))"
   ]
  },
  {
   "cell_type": "code",
   "execution_count": 41,
   "metadata": {},
   "outputs": [
    {
     "name": "stdout",
     "output_type": "stream",
     "text": [
      "THIS IS FOR THE ANOMALY IMAGES\n",
      "\n",
      "The average of the errors list is:  0.006162668423106273\n",
      "The standard deviation of the errors list is:  0.0007849212218469936\n",
      "The min value of the errors list is:  0.00515466183423996\n",
      "The max value of the errors list is:  0.007267634384334087\n"
     ]
    }
   ],
   "source": [
    "a_average_recon_error = np.mean(np.array(total_rec_error_anomalies))  \n",
    "a_stdev_recon_error = np.std(np.array(total_rec_error_anomalies)) \n",
    "min_prob = np.min(total_rec_error_anomalies)\n",
    "max_prob = np.max(total_rec_error_anomalies)\n",
    "print(\"THIS IS FOR THE ANOMALY IMAGES\\n\")\n",
    "print(\"The average of the errors list is: \", a_average_recon_error)\n",
    "print(\"The standard deviation of the errors list is: \", a_stdev_recon_error)\n",
    "print(\"The min value of the errors list is: \", min_prob)\n",
    "print(\"The max value of the errors list is: \", max_prob)"
   ]
  },
  {
   "attachments": {},
   "cell_type": "markdown",
   "metadata": {},
   "source": [
    "Compute the average and std dev. of recon. error for the validation (non-anomalies) samples. \n"
   ]
  },
  {
   "cell_type": "code",
   "execution_count": 42,
   "metadata": {},
   "outputs": [
    {
     "name": "stdout",
     "output_type": "stream",
     "text": [
      "1/1 [==============================] - 0s 647us/step - loss: 0.0060\n",
      "1/1 [==============================] - 0s 671us/step - loss: 0.0057\n",
      "1/1 [==============================] - 0s 912us/step - loss: 0.0055\n",
      "1/1 [==============================] - 0s 874us/step - loss: 0.0055\n",
      "1/1 [==============================] - 0s 833us/step - loss: 0.0055\n",
      "1/1 [==============================] - 0s 834us/step - loss: 0.0054\n",
      "1/1 [==============================] - 0s 679us/step - loss: 0.0057\n",
      "1/1 [==============================] - 0s 664us/step - loss: 0.0056\n",
      "1/1 [==============================] - 0s 793us/step - loss: 0.0061\n",
      "1/1 [==============================] - 0s 668us/step - loss: 0.0058\n",
      "1/1 [==============================] - 0s 1ms/step - loss: 0.0060\n",
      "1/1 [==============================] - 0s 960us/step - loss: 0.0059\n",
      "1/1 [==============================] - 0s 643us/step - loss: 0.0061\n",
      "1/1 [==============================] - 0s 643us/step - loss: 0.0059\n",
      "1/1 [==============================] - 0s 858us/step - loss: 0.0055\n",
      "1/1 [==============================] - 0s 811us/step - loss: 0.0060\n",
      "1/1 [==============================] - 0s 720us/step - loss: 0.0057\n",
      "1/1 [==============================] - 0s 756us/step - loss: 0.0055\n",
      "1/1 [==============================] - 0s 687us/step - loss: 0.0057\n",
      "1/1 [==============================] - 0s 1ms/step - loss: 0.0056\n",
      "1/1 [==============================] - 0s 695us/step - loss: 0.0056\n",
      "1/1 [==============================] - 0s 940us/step - loss: 0.0055\n",
      "1/1 [==============================] - 0s 647us/step - loss: 0.0056\n",
      "1/1 [==============================] - 0s 747us/step - loss: 0.0063\n",
      "1/1 [==============================] - 0s 623us/step - loss: 0.0063\n",
      "1/1 [==============================] - 0s 646us/step - loss: 0.0065\n",
      "1/1 [==============================] - 0s 681us/step - loss: 0.0067\n",
      "1/1 [==============================] - 0s 676us/step - loss: 0.0067\n",
      "1/1 [==============================] - 0s 946us/step - loss: 0.0061\n",
      "1/1 [==============================] - 0s 818us/step - loss: 0.0057\n",
      "The list of rec. error for anomalies contains  1 batches of rec. errors\n"
     ]
    }
   ],
   "source": [
    "total_rec_error_validation = []\n",
    "for i in range(len(validation_generator)):        #I think this should be the correct while clause\n",
    "    data = validation_generator.next()\n",
    "    total_rec_error_validation.append(calc_recon_error(data[0]))\n",
    "    \n",
    "print(\"The list of rec. error for anomalies contains \", len(total_rec_error_validation), \"batches of rec. errors\")"
   ]
  },
  {
   "cell_type": "code",
   "execution_count": 43,
   "metadata": {},
   "outputs": [
    {
     "name": "stdout",
     "output_type": "stream",
     "text": [
      "30\n"
     ]
    }
   ],
   "source": [
    "total_rec_error_validation = [item for sublist in total_rec_error_validation for item in sublist]\n",
    "print(len(total_rec_error_validation))"
   ]
  },
  {
   "cell_type": "code",
   "execution_count": 44,
   "metadata": {},
   "outputs": [
    {
     "name": "stdout",
     "output_type": "stream",
     "text": [
      "THIS IS FOR THE VALIDATION IMAGES\n",
      "\n",
      "The average of the errors list is:  0.005849855563913782\n",
      "The standard deviation of the errors list is:  0.0003565632867929124\n",
      "The min value of the errors list is:  0.0054452186450362206\n",
      "The max value of the errors list is:  0.006734589114785194\n"
     ]
    }
   ],
   "source": [
    "val_average_recon_error = np.mean(np.array(total_rec_error_validation))  \n",
    "val_stdev_recon_error = np.std(np.array(total_rec_error_validation)) \n",
    "min_prob = np.min(total_rec_error_validation)\n",
    "max_prob = np.max(total_rec_error_validation)\n",
    "print(\"THIS IS FOR THE VALIDATION IMAGES\\n\")\n",
    "print(\"The average of the errors list is: \", val_average_recon_error)\n",
    "print(\"The standard deviation of the errors list is: \", val_stdev_recon_error)\n",
    "print(\"The min value of the errors list is: \", min_prob)\n",
    "print(\"The max value of the errors list is: \", max_prob)"
   ]
  },
  {
   "attachments": {},
   "cell_type": "markdown",
   "metadata": {},
   "source": [
    "Below, we can see the plot of the reconstruction error values, of the non-anomaly list (blue) and the anomaly list (red)."
   ]
  },
  {
   "cell_type": "code",
   "execution_count": 45,
   "metadata": {},
   "outputs": [
    {
     "data": {
      "image/png": "[encoded data removed]",
      "text/plain": [
       "<Figure size 1000x1000 with 1 Axes>"
      ]
     },
     "metadata": {},
     "output_type": "display_data"
    }
   ],
   "source": [
    "plt.figure(figsize=(10, 10))\n",
    "val = 0. # this is the value where you want the data to appear on the y-axis.\n",
    "plt.plot(total_rec_error_list, np.zeros_like(total_rec_error_list) + val, 'x')\n",
    "plt.plot(total_rec_error_anomalies, np.zeros_like(total_rec_error_anomalies) + val, 'ro')\n",
    "plt.show()"
   ]
  },
  {
   "cell_type": "code",
   "execution_count": 46,
   "metadata": {},
   "outputs": [
    {
     "data": {
      "image/png": "[encoded data removed]",
      "text/plain": [
       "<Figure size 640x480 with 1 Axes>"
      ]
     },
     "metadata": {},
     "output_type": "display_data"
    }
   ],
   "source": [
    "import random\n",
    "import numpy\n",
    "from matplotlib import pyplot\n",
    "\n",
    "bins = numpy.linspace(0.004, 0.0075, 50)\n",
    "\n",
    "pyplot.hist(total_rec_error_list, bins, alpha=0.5, label='errors non-anomalies')\n",
    "pyplot.hist(total_rec_error_anomalies, bins, alpha=0.5, label='errors anomalies')\n",
    "pyplot.legend(loc='upper right')\n",
    "pyplot.show()"
   ]
  },
  {
   "attachments": {},
   "cell_type": "markdown",
   "metadata": {},
   "source": [
    "## Checking the latent space"
   ]
  },
  {
   "attachments": {},
   "cell_type": "markdown",
   "metadata": {},
   "source": [
    "Let's update the weights of the encoder model."
   ]
  },
  {
   "cell_type": "code",
   "execution_count": 47,
   "metadata": {},
   "outputs": [
    {
     "name": "stdout",
     "output_type": "stream",
     "text": [
      "Layer weights are successfully copied.\n",
      "Layer weights are successfully copied.\n",
      "Layer weights are successfully copied.\n",
      "Layer weights are successfully copied.\n",
      "Layer weights are successfully copied.\n",
      "Layer weights are successfully copied.\n",
      "Layer weights are successfully copied.\n",
      "Layer weights are successfully copied.\n",
      "Layer weights are successfully copied.\n",
      "Layer weights are successfully copied.\n",
      "Layer weights are successfully copied.\n",
      "Layer weights are successfully copied.\n",
      "Layer weights are successfully copied.\n",
      "Layer weights are successfully copied.\n"
     ]
    }
   ],
   "source": [
    "# Copy the layer weights from the base model to the target model\n",
    "for i, target_layer in enumerate(encoder.layers):\n",
    "    base_layer = model.layers[i]\n",
    "    target_layer.set_weights(base_layer.get_weights())\n",
    "\n",
    "# Verify if the weights are successfully copied\n",
    "for base_layer, target_layer in zip(model.layers[:len(encoder.layers)], encoder.layers):\n",
    "    base_weights = base_layer.get_weights()\n",
    "    target_weights = target_layer.get_weights()\n",
    "    for base_weight, target_weight in zip(base_weights, target_weights):\n",
    "        if (base_weight == target_weight).all():\n",
    "            print(\"Layer weights are successfully copied.\")\n",
    "        else:\n",
    "            print(\"Error: Layer weights are not copied correctly.\")\n"
   ]
  },
  {
   "cell_type": "code",
   "execution_count": 48,
   "metadata": {},
   "outputs": [
    {
     "name": "stdout",
     "output_type": "stream",
     "text": [
      "WARNING:tensorflow:From /tmp/ipykernel_6953/402064861.py:6: Model.predict_generator (from tensorflow.python.keras.engine.training) is deprecated and will be removed in a future version.\n",
      "Instructions for updating:\n",
      "Please use Model.predict, which supports generators.\n"
     ]
    }
   ],
   "source": [
    "########################################################\n",
    "# Calculate KDE using sklearn\n",
    "from sklearn.neighbors import KernelDensity\n",
    "\n",
    "#Get encoded output of input images = Latent space\n",
    "encoded_images = encoder.predict_generator(train_generator)"
   ]
  },
  {
   "cell_type": "code",
   "execution_count": 49,
   "metadata": {},
   "outputs": [
    {
     "name": "stdout",
     "output_type": "stream",
     "text": [
      "(179, 98)\n"
     ]
    }
   ],
   "source": [
    "print(encoded_images.shape)"
   ]
  },
  {
   "attachments": {},
   "cell_type": "markdown",
   "metadata": {},
   "source": [
    "See that it is 179 length because it corresponds to all the images that belong to the training dataset. The second length corresponds to the output shape of the model as specified in its structure at the beginning."
   ]
  },
  {
   "cell_type": "code",
   "execution_count": 50,
   "metadata": {},
   "outputs": [
    {
     "data": {
      "text/plain": [
       "numpy.ndarray"
      ]
     },
     "execution_count": 50,
     "metadata": {},
     "output_type": "execute_result"
    }
   ],
   "source": [
    "type(encoded_images)"
   ]
  },
  {
   "cell_type": "code",
   "execution_count": 51,
   "metadata": {},
   "outputs": [
    {
     "name": "stdout",
     "output_type": "stream",
     "text": [
      "(None, 98)\n"
     ]
    }
   ],
   "source": [
    "encoder_output_shape = encoder.output_shape \n",
    "print(encoder_output_shape)"
   ]
  },
  {
   "attachments": {},
   "cell_type": "markdown",
   "metadata": {},
   "source": [
    "Now, let's fit KDE to the image latent data"
   ]
  },
  {
   "cell_type": "code",
   "execution_count": 52,
   "metadata": {},
   "outputs": [],
   "source": [
    "kde = KernelDensity(kernel='gaussian', bandwidth=0.2).fit(encoded_images)"
   ]
  },
  {
   "attachments": {},
   "cell_type": "markdown",
   "metadata": {},
   "source": [
    "The above function fits a kernel density estimation to the data that is provided, that is, the \"encoded_images\" variable. It does so using a Guassian kernel of bandwidth 0.2.\n",
    "\n",
    "The badnwidth parameter affects on how the selected kernel will fit each sample of the given data. For example for the case in which the kernel is a Gaussian distribution, the bandwidth parameter would affect in how thin or wide is the Gaussian distribution.\n",
    "\n",
    "At this point in the variable \"kde\" we have some numbers that are the result of fitting Gaussian functions to the given data points in the variable \"encoded_images\". We will use the \"kde\" variable later for scoring with it, some given data points; the scoring will be given depending on how similar are the given data points to the ones that it had estimated."
   ]
  },
  {
   "attachments": {},
   "cell_type": "markdown",
   "metadata": {},
   "source": [
    "Here below, it is shown the kde values corresponding to each encoded sample. THese are supposed to be very close to each other in value."
   ]
  },
  {
   "cell_type": "code",
   "execution_count": 53,
   "metadata": {},
   "outputs": [
    {
     "name": "stdout",
     "output_type": "stream",
     "text": [
      "[64.27776192 64.68949143 63.72429899 65.09761147 65.92838408 65.31345976\n",
      " 65.76440994 65.75140963 65.78106168 65.77957584 66.02894455 65.98881592\n",
      " 64.53313026 64.46900598 64.63620273 65.63959771 65.88759264 65.69818896\n",
      " 65.89183718 63.59589218 64.56731479 64.63674028 64.98523359 64.98649743\n",
      " 65.38600985 64.53613795 64.87311467 64.75371787 64.74573937 64.97739643\n",
      " 65.1202342  65.96306449 64.99546822 64.97869371 64.92558418 64.99057774\n",
      " 65.03905701 65.04195623 64.90204753 64.78641418 64.91981859 65.40488522\n",
      " 65.56575071 65.49112992 65.57889311 64.80398442 64.94988899 64.9259775\n",
      " 64.87931897 64.8929142  65.12308996 65.80286003 65.65930825 65.54765161\n",
      " 65.59370169 65.25793514 65.65708464 65.60780931 65.69262734 65.63995543\n",
      " 64.79635527 65.2814475  64.7981941  65.73333394 66.00828882 66.03136769\n",
      " 66.00494478 65.89650614 65.88127367 65.96790193 65.84079645 65.75642121\n",
      " 65.37999604 65.91482472 65.29941694 65.55646275 65.55611992 65.53140991\n",
      " 65.52556355 65.7357249  64.79635527 65.2814475  64.7981941  65.73333394\n",
      " 66.00828882 66.03136769 66.00494478 65.89650614 65.88127367 65.96790193\n",
      " 65.84079645 65.75642121 65.37999604 65.91482472 65.29941694 65.55646275\n",
      " 65.55611992 65.53140991 65.52556355 65.7357249  65.72965078 65.32855622\n",
      " 63.70330899 65.91517801 65.96026427 65.93901668 65.96494521 65.84482204\n",
      " 65.95070436 65.56804292 65.7649224  65.67940147 65.5272904  65.60342272\n",
      " 65.62692584 65.21845771 65.00264376 65.11615021 65.61795147 64.70029037\n",
      " 64.41549435 65.43666105 65.26602977 65.40244594 65.4164044  65.41177005\n",
      " 65.4768275  65.56141353 65.10517222 65.54443525 65.60586477 64.62228137\n",
      " 65.20031107 65.30417194 65.363477   65.38665299 65.28675694 64.48374309\n",
      " 65.26935099 65.21943426 65.21796092 65.13371839 65.27355749 65.27935279\n",
      " 65.27613255 65.10696611 64.67116252 65.33741552 65.36239772 65.20619778\n",
      " 65.24770396 65.24174589 65.23470243 65.29186919 65.30437163 63.26678104\n",
      " 65.31046658 65.34039663 65.35667667 65.3267006  65.34861099 65.30590333\n",
      " 65.32958608 65.22802195 65.29059375 65.0971427  65.12654918 65.22258727\n",
      " 64.94145287 65.29705064 65.31941342 65.16340006 65.10902839 65.12209958\n",
      " 65.24114666 64.17701652 64.21845329 64.20732124 64.29268768]\n"
     ]
    }
   ],
   "source": [
    "density_vals = kde.score_samples(encoded_images)\n",
    "print(density_vals)"
   ]
  },
  {
   "attachments": {},
   "cell_type": "markdown",
   "metadata": {},
   "source": [
    "From here, the mean and standard deviation of these values are computed"
   ]
  },
  {
   "cell_type": "code",
   "execution_count": 54,
   "metadata": {},
   "outputs": [
    {
     "name": "stdout",
     "output_type": "stream",
     "text": [
      "The avg of the density values is:  65.29620080658331\n",
      "The stdev_density of the density values is:  0.5057573151668366\n"
     ]
    }
   ],
   "source": [
    "average_density = np.mean(density_vals)\n",
    "stdev_density = np.std(density_vals)\n",
    "print(\"The avg of the density values is: \", average_density)\n",
    "print(\"The stdev_density of the density values is: \", stdev_density)"
   ]
  },
  {
   "attachments": {},
   "cell_type": "markdown",
   "metadata": {},
   "source": [
    "based on the above data create a function that outputs a probability of a KDE value to be considered an anomaly or non-anomaly image"
   ]
  },
  {
   "cell_type": "code",
   "execution_count": 55,
   "metadata": {},
   "outputs": [],
   "source": [
    "def ranges_mapper(value, leftMin, leftMax, rightMin, rightMax):\n",
    "    # Figure out how 'wide' each range is\n",
    "    leftSpan = leftMax - leftMin\n",
    "    rightSpan = rightMax - rightMin\n",
    "\n",
    "    # Convert the left range into a 0-1 range (float)\n",
    "    valueScaled = float(value - leftMin) / float(leftSpan)\n",
    "\n",
    "    # Convert the 0-1 range into a value in the right range.\n",
    "    return rightMin + (valueScaled * rightSpan)"
   ]
  },
  {
   "cell_type": "code",
   "execution_count": 56,
   "metadata": {},
   "outputs": [],
   "source": [
    "# def map_kde2prob_list(input_list):\n",
    "#     threshold = average_density          # The mean of the kde corresponding to the non-anomaly images\n",
    "#     std_dev = stdev_density            # The std deviation of the kde corresponding to the non-anomaly images\n",
    "#     prob_score_list = []\n",
    "#     prob_score = 0              # This was changed for making threshold+std_dev be mapped to be 50% chance. Before it was directly mapped threshold value to 50% chance\n",
    "#     for i in range (len(input_list)):\n",
    "#         aux_score = input_list[i] - threshold\n",
    "#         if aux_score>=0:\n",
    "#             additional = ranges_mapper(aux_score, 0, std_dev, 0, 50)\n",
    "#             prob_score_tot = prob_score+additional\n",
    "#         else:\n",
    "#             additional = ranges_mapper(abs(aux_score), 0, std_dev, 0, 50)\n",
    "#             prob_score_tot = prob_score-additional\n",
    "#         if prob_score_tot > 100:\n",
    "#             prob_score_tot = 100\n",
    "#         if prob_score_tot < 0:\n",
    "#             prob_score_tot = 0\n",
    "#         prob_score_list.append(prob_score_tot)\n",
    "#     return prob_score_list"
   ]
  },
  {
   "cell_type": "code",
   "execution_count": 57,
   "metadata": {},
   "outputs": [],
   "source": [
    "# def map_kde2prob(value):\n",
    "#     threshold = average_density         # The mean of the kde corresponding to the non-anomaly images\n",
    "#     std_dev = stdev_density          # The std deviation of the kde corresponding to the non-anomaly images\n",
    "#     prob_score = 0              # This was changed for making threshold+std_dev be mapped to be 50% chance. Before it was directly mapped threshold value to 50% chance\n",
    "#     aux_score = value - threshold\n",
    "#     print(\"value is: \", value)\n",
    "#     print(\"aux_score is: \", aux_score)\n",
    "        \n",
    "#     if aux_score>=0:\n",
    "#         additional = ranges_mapper(aux_score, 0, std_dev, 0, 50)\n",
    "#         print(\"additional is: \", additional)\n",
    "#         prob_score_tot = prob_score+additional\n",
    "#         print(\"prob_score_tot is: \", prob_score_tot)\n",
    "        \n",
    "#     else:\n",
    "#         additional = ranges_mapper(abs(aux_score), 0, std_dev, 0, 50)\n",
    "#         prob_score_tot = prob_score-additional\n",
    "#     if prob_score_tot > 100:\n",
    "#         prob_score_tot = 100\n",
    "#     if prob_score_tot < 0:\n",
    "#         prob_score_tot = 0    \n",
    "#     return prob_score_tot"
   ]
  },
  {
   "cell_type": "code",
   "execution_count": 58,
   "metadata": {},
   "outputs": [],
   "source": [
    "def map_kde2prob_list(input_list):\n",
    "    threshold = average_density          # The mean of the kde corresponding to the non-anomaly images\n",
    "    std_dev = stdev_density            # The std deviation of the kde corresponding to the non-anomaly images\n",
    "    prob_score_list =[]\n",
    "    for i in range (len(input_list)):\n",
    "        aux_score = input_list[i] - threshold\n",
    "        prob_score = ranges_mapper(abs(aux_score), 0, std_dev, 0, 50)\n",
    "        if prob_score<0:\n",
    "            prob_score = 0\n",
    "        if prob_score>100:\n",
    "            prob_score = 100     \n",
    "        prob_score_list.append(prob_score)\n",
    "    return prob_score_list"
   ]
  },
  {
   "cell_type": "code",
   "execution_count": 59,
   "metadata": {},
   "outputs": [],
   "source": [
    "def map_kde2prob(value):\n",
    "    threshold = average_density         # The mean of the kde corresponding to the non-anomaly images\n",
    "    std_dev = stdev_density          # The std deviation of the kde corresponding to the non-anomaly images\n",
    "    \n",
    "    aux_score = value - threshold\n",
    "    prob_score = ranges_mapper(abs(aux_score), 0, std_dev, 0, 50)\n",
    "    if prob_score<0:\n",
    "            prob_score = 0\n",
    "    if prob_score>100:\n",
    "        prob_score = 100 \n",
    "    return prob_score"
   ]
  },
  {
   "cell_type": "code",
   "execution_count": 60,
   "metadata": {},
   "outputs": [],
   "source": [
    "def computePred(kde_value):\n",
    "    pred = 0\n",
    "    prob_anomaly = map_kde2prob(kde_value)/100\n",
    "    if prob_anomaly > 0.5:\n",
    "        pred = 1\n",
    "    return pred"
   ]
  },
  {
   "cell_type": "code",
   "execution_count": 61,
   "metadata": {},
   "outputs": [
    {
     "name": "stdout",
     "output_type": "stream",
     "text": [
      "[49.99999999999956]\n"
     ]
    }
   ],
   "source": [
    "print(map_kde2prob_list([average_density - 1*stdev_density]))"
   ]
  },
  {
   "cell_type": "code",
   "execution_count": 62,
   "metadata": {},
   "outputs": [],
   "source": [
    "#Get encoded output of input images = Latent space\n",
    "encoded_images_test_set = encoder.predict_generator(test_set_generator)"
   ]
  },
  {
   "cell_type": "code",
   "execution_count": 63,
   "metadata": {},
   "outputs": [
    {
     "name": "stdout",
     "output_type": "stream",
     "text": [
      "(30, 98)\n"
     ]
    }
   ],
   "source": [
    "print(encoded_images_test_set.shape)"
   ]
  },
  {
   "cell_type": "code",
   "execution_count": 64,
   "metadata": {},
   "outputs": [
    {
     "name": "stdout",
     "output_type": "stream",
     "text": [
      "[64.54657606 64.65745831 64.81481785 64.79387505 64.84946472 64.87471984\n",
      " 64.62289577 64.48692618 64.27816047 64.37823922 64.03781231 64.13340815\n",
      " 63.97807702 64.42366975 64.5747441  64.39496677 64.67034422 65.1632368\n",
      " 64.38748242 63.80124756 63.81920171 63.8576559  63.73650756 63.83438003\n",
      " 64.00568203 64.50512405 64.70599619 64.71165857 64.58026376 64.3992084 ]\n"
     ]
    }
   ],
   "source": [
    "density_vals_test = kde.score_samples(encoded_images_test_set)\n",
    "print(density_vals_test)"
   ]
  },
  {
   "cell_type": "code",
   "execution_count": 65,
   "metadata": {},
   "outputs": [
    {
     "data": {
      "text/plain": [
       "65.80195812175015"
      ]
     },
     "execution_count": 65,
     "metadata": {},
     "output_type": "execute_result"
    }
   ],
   "source": [
    "average_density + stdev_density"
   ]
  },
  {
   "cell_type": "code",
   "execution_count": 66,
   "metadata": {},
   "outputs": [
    {
     "data": {
      "text/plain": [
       "64.79044349141648"
      ]
     },
     "execution_count": 66,
     "metadata": {},
     "output_type": "execute_result"
    }
   ],
   "source": [
    "average_density - stdev_density"
   ]
  },
  {
   "cell_type": "code",
   "execution_count": 67,
   "metadata": {},
   "outputs": [
    {
     "name": "stdout",
     "output_type": "stream",
     "text": [
      "[74.10913523991366, 63.14713349126359, 47.59031074251779, 49.66075031684352, 44.16506473568943, 41.6683019617511, 66.56404355848362, 80.00622050764218, 100, 90.75119194318489, 100, 100, 100, 86.2598555972644, 71.32439672216579, 89.09747874615891, 61.87321153705201, 13.145040028359793, 89.83739463394747, 100, 100, 100, 100, 100, 100, 78.20714955718493, 58.34859887798021, 57.78880729767171, 70.7787140348186, 88.67814474082519]\n"
     ]
    }
   ],
   "source": [
    "prob_test = map_kde2prob_list(density_vals_test)\n",
    "print(prob_test)"
   ]
  },
  {
   "attachments": {},
   "cell_type": "markdown",
   "metadata": {},
   "source": [
    "See the final predictions based on the KDE average values that was computed before."
   ]
  },
  {
   "cell_type": "code",
   "execution_count": 68,
   "metadata": {},
   "outputs": [
    {
     "name": "stdout",
     "output_type": "stream",
     "text": [
      "The list of rec. error for anomalies contains  1 batches of rec. errors\n"
     ]
    }
   ],
   "source": [
    "ground_truth = []\n",
    "for i in range(len(test_set_generator)):        #I think this should be the correct while clause\n",
    "    _, labels = test_set_generator.next()\n",
    "    ground_truth.append(labels)\n",
    "    \n",
    "print(\"The list of rec. error for anomalies contains \", len(ground_truth), \"batches of rec. errors\")"
   ]
  },
  {
   "cell_type": "code",
   "execution_count": 69,
   "metadata": {},
   "outputs": [],
   "source": [
    "ground_truth = [item for sublist in ground_truth for item in sublist]\n",
    "ground_truth = [int(x) for x in ground_truth]\n"
   ]
  },
  {
   "cell_type": "code",
   "execution_count": 70,
   "metadata": {},
   "outputs": [
    {
     "name": "stdout",
     "output_type": "stream",
     "text": [
      "[0, 0, 0, 0, 0, 0, 0, 0, 0, 0, 0, 0, 0, 0, 0, 0, 0, 0, 0, 0, 0, 0, 0, 0, 0, 1, 1, 1, 1, 1]\n",
      "[1, 1, 0, 0, 0, 0, 1, 1, 1, 1, 1, 1, 1, 1, 1, 1, 1, 0, 1, 1, 1, 1, 1, 1, 1, 1, 1, 1, 1, 1]\n"
     ]
    }
   ],
   "source": [
    "pred_list =[]\n",
    "for i in range(len(prob_test)):\n",
    "    \n",
    "    if(prob_test[i]>50):\n",
    "        pred = 1\n",
    "    else:\n",
    "        pred = 0\n",
    "    pred_list.append(pred)\n",
    "print(ground_truth)\n",
    "print(pred_list)"
   ]
  },
  {
   "cell_type": "code",
   "execution_count": 71,
   "metadata": {},
   "outputs": [
    {
     "name": "stdout",
     "output_type": "stream",
     "text": [
      "AUC =  0.31999999999999995\n"
     ]
    }
   ],
   "source": [
    "from sklearn import metrics\n",
    "print('AUC = ', metrics.roc_auc_score(ground_truth, prob_test))"
   ]
  },
  {
   "cell_type": "code",
   "execution_count": 72,
   "metadata": {},
   "outputs": [
    {
     "data": {
      "image/png": "[encoded data removed]",
      "text/plain": [
       "<Figure size 640x480 with 1 Axes>"
      ]
     },
     "metadata": {},
     "output_type": "display_data"
    }
   ],
   "source": [
    "fpr, tpr, thresholds = metrics.roc_curve(ground_truth, prob_test)\n",
    "plt.plot(fpr, tpr, marker='.', label='AUROC = %0.3f' % metrics.roc_auc_score(ground_truth, prob_test))\n",
    "# Title\n",
    "plt.title('ROC Plot')\n",
    "# Axis labels\n",
    "plt.xlabel('False Positive Rate')\n",
    "plt.ylabel('True Positive Rate')\n",
    "# Show legend\n",
    "plt.legend() # \n",
    "# Show plot\n",
    "plt.show()"
   ]
  },
  {
   "cell_type": "code",
   "execution_count": 73,
   "metadata": {},
   "outputs": [
    {
     "name": "stdout",
     "output_type": "stream",
     "text": [
      "The fpr is:  [0.   0.4  0.52 0.52 0.6  0.6  0.68 0.68 0.8  0.8  1.  ]\n",
      "The tpr is:  [0.  0.  0.  0.2 0.2 0.4 0.4 0.6 0.6 1.  1. ]\n",
      "The thresholds are:  [101.         100.          89.09747875  88.67814474  80.00622051\n",
      "  78.20714956  71.32439672  70.77871403  61.87321154  57.7888073\n",
      "  13.14504003]\n"
     ]
    }
   ],
   "source": [
    "print(\"The fpr is: \", fpr)\n",
    "print(\"The tpr is: \", tpr)\n",
    "print(\"The thresholds are: \", thresholds)"
   ]
  },
  {
   "attachments": {},
   "cell_type": "markdown",
   "metadata": {},
   "source": [
    "FRom above we can see that the results are not that good; these could be improved. HOwever these results are not as bad as the previous programs. "
   ]
  },
  {
   "attachments": {},
   "cell_type": "markdown",
   "metadata": {},
   "source": [
    "## Trehshold based on Gaussian distribution of the non-anomaly images"
   ]
  },
  {
   "cell_type": "code",
   "execution_count": 74,
   "metadata": {},
   "outputs": [],
   "source": [
    "def map_error2prob(value):\n",
    "    # Calculate the mean and standard deviation\n",
    "    mean = na_average_recon_error\n",
    "    std_dev = na_stdev_recon_error\n",
    "    aux_score = value - mean\n",
    "    prob_score = ranges_mapper(abs(aux_score), 0, std_dev, 0, 50)\n",
    "    if prob_score<0:\n",
    "        prob_score = 0\n",
    "    if prob_score>100:\n",
    "        prob_score = 100\n",
    "    return prob_score"
   ]
  },
  {
   "attachments": {},
   "cell_type": "markdown",
   "metadata": {},
   "source": [
    "See below test, that shows if a reconstruction error is equal to the mean of the reconstruction error plus its standard deviation has 50% chance of being predicted as anomaly image."
   ]
  },
  {
   "cell_type": "code",
   "execution_count": 78,
   "metadata": {},
   "outputs": [
    {
     "name": "stdout",
     "output_type": "stream",
     "text": [
      "50.00000000000004\n"
     ]
    }
   ],
   "source": [
    "print(map_error2prob(na_average_recon_error + na_stdev_recon_error))"
   ]
  },
  {
   "cell_type": "code",
   "execution_count": 87,
   "metadata": {},
   "outputs": [],
   "source": [
    "def map_error2prob_list(input_list):\n",
    "    # Calculate the mean and standard deviation\n",
    "    mean = na_average_recon_error\n",
    "    std_dev = na_stdev_recon_error\n",
    "    prob_score_list = []\n",
    "    for i in range (len(input_list)):\n",
    "        aux_score = input_list[i] - mean\n",
    "        prob_score = ranges_mapper(abs(aux_score), 0, std_dev, 0, 50)\n",
    "        if prob_score<0:\n",
    "            prob_score = 0\n",
    "        if prob_score>100:\n",
    "            prob_score = 100\n",
    "        prob_score_list.append(prob_score)\n",
    "    return prob_score_list"
   ]
  },
  {
   "cell_type": "code",
   "execution_count": 88,
   "metadata": {},
   "outputs": [],
   "source": [
    "def computePred(err_value):\n",
    "    pred = 0\n",
    "    prob_anomaly = map_error2prob(err_value)/100\n",
    "    if prob_anomaly > 0.5:\n",
    "        pred = 1\n",
    "    else:\n",
    "        pred =0 \n",
    "    return pred"
   ]
  },
  {
   "cell_type": "code",
   "execution_count": 89,
   "metadata": {},
   "outputs": [
    {
     "name": "stdout",
     "output_type": "stream",
     "text": [
      "1/1 [==============================] - 0s 757us/step - loss: 0.0060\n",
      "1/1 [==============================] - 0s 769us/step - loss: 0.0057\n",
      "1/1 [==============================] - 0s 1ms/step - loss: 0.0055\n",
      "1/1 [==============================] - 0s 719us/step - loss: 0.0055\n",
      "1/1 [==============================] - 0s 641us/step - loss: 0.0055\n",
      "1/1 [==============================] - 0s 655us/step - loss: 0.0054\n",
      "1/1 [==============================] - 0s 725us/step - loss: 0.0057\n",
      "1/1 [==============================] - 0s 667us/step - loss: 0.0056\n",
      "1/1 [==============================] - 0s 627us/step - loss: 0.0061\n",
      "1/1 [==============================] - 0s 789us/step - loss: 0.0058\n",
      "1/1 [==============================] - 0s 652us/step - loss: 0.0060\n",
      "1/1 [==============================] - 0s 760us/step - loss: 0.0059\n",
      "1/1 [==============================] - 0s 648us/step - loss: 0.0061\n",
      "1/1 [==============================] - 0s 813us/step - loss: 0.0059\n",
      "1/1 [==============================] - 0s 699us/step - loss: 0.0055\n",
      "1/1 [==============================] - 0s 726us/step - loss: 0.0060\n",
      "1/1 [==============================] - 0s 681us/step - loss: 0.0057\n",
      "1/1 [==============================] - 0s 753us/step - loss: 0.0055\n",
      "1/1 [==============================] - 0s 841us/step - loss: 0.0056\n",
      "1/1 [==============================] - 0s 674us/step - loss: 0.0063\n",
      "1/1 [==============================] - 0s 916us/step - loss: 0.0063\n",
      "1/1 [==============================] - 0s 709us/step - loss: 0.0065\n",
      "1/1 [==============================] - 0s 691us/step - loss: 0.0067\n",
      "1/1 [==============================] - 0s 749us/step - loss: 0.0067\n",
      "1/1 [==============================] - 0s 895us/step - loss: 0.0061\n",
      "1/1 [==============================] - 0s 920us/step - loss: 0.0080\n",
      "1/1 [==============================] - 0s 720us/step - loss: 0.0079\n",
      "1/1 [==============================] - 0s 618us/step - loss: 0.0079\n",
      "1/1 [==============================] - 0s 808us/step - loss: 0.0077\n",
      "1/1 [==============================] - 0s 702us/step - loss: 0.0080\n",
      "[[0.0, 0.0, 0.0, 0.0, 0.0, 0.0, 0.0, 0.0, 0.0, 0.0, 0.0, 0.0, 0.0, 0.0, 0.0, 0.0, 0.0, 0.0, 0.0, 0.0, 0.0, 0.0, 0.0, 0.0, 0.0, 1.0, 1.0, 1.0, 1.0, 1.0]]\n",
      "[[1, 0, 0, 0, 0, 0, 0, 0, 1, 0, 1, 0, 1, 0, 0, 1, 0, 0, 0, 1, 1, 1, 1, 1, 1, 1, 1, 1, 1, 1]]\n",
      "[[54.35475610693346, 24.069536145729533, 2.906796857882673, 0.8264009099845944, 4.782168321173595, 9.405295883822715, 22.029004621038798, 13.762979005468209, 74.897534882142, 30.13883730257717, 55.35909901058393, 47.4585545508841, 68.04320242575437, 43.352232578177286, 5.181499870888517, 54.632604263512206, 20.25154392363444, 7.288873036215702, 4.590209591340975, 95.14659991854703, 91.08793196898462, 100, 100, 100, 66.81737141212862, 100, 100, 100, 100, 100]]\n"
     ]
    }
   ],
   "source": [
    "y_pred_final = []\n",
    "y_true_final = []\n",
    "y_prob_final = []\n",
    "for i in range(len(test_set_generator)):        # Traversing all the batches of the test set\n",
    "    batch_images, labels = next(test_set_generator)\n",
    "    y_pred = []\n",
    "    y_true = []\n",
    "    y_prob = []\n",
    "    for im in range(0, batch_images.shape[0]):  #Traversing all the images in the batch\n",
    "        img  = batch_images[im]\n",
    "        img = img[np.newaxis, :,:,:]\n",
    "        reconstruction = model.predict([[img]])\n",
    "        reconstruction_error = model.evaluate([reconstruction],[[img]])\n",
    "        probability = map_error2prob(reconstruction_error)\n",
    "        prediction = computePred(reconstruction_error)   \n",
    "        y_pred.append(prediction) # Save Prediction\n",
    "        y_true.append(labels[im]) # Save Truth  \n",
    "        y_prob.append(probability) # Save probability  \n",
    "    y_pred_final.append(y_pred)  \n",
    "    y_true_final.append(y_true)  \n",
    "    y_prob_final.append(y_prob)  \n",
    "print(y_true_final)\n",
    "print(y_pred_final)\n",
    "print(y_prob_final)\n",
    " "
   ]
  },
  {
   "cell_type": "code",
   "execution_count": 90,
   "metadata": {},
   "outputs": [
    {
     "name": "stdout",
     "output_type": "stream",
     "text": [
      "[0, 0, 0, 0, 0, 0, 0, 0, 0, 0, 0, 0, 0, 0, 0, 0, 0, 0, 0, 0, 0, 0, 0, 0, 0, 1, 1, 1, 1, 1]\n",
      "[1, 0, 0, 0, 0, 0, 0, 0, 1, 0, 1, 0, 1, 0, 0, 1, 0, 0, 0, 1, 1, 1, 1, 1, 1, 1, 1, 1, 1, 1]\n",
      "[54.35475610693346, 24.069536145729533, 2.906796857882673, 0.8264009099845944, 4.782168321173595, 9.405295883822715, 22.029004621038798, 13.762979005468209, 74.897534882142, 30.13883730257717, 55.35909901058393, 47.4585545508841, 68.04320242575437, 43.352232578177286, 5.181499870888517, 54.632604263512206, 20.25154392363444, 7.288873036215702, 4.590209591340975, 95.14659991854703, 91.08793196898462, 100, 100, 100, 66.81737141212862, 100, 100, 100, 100, 100]\n"
     ]
    }
   ],
   "source": [
    "y_true_final = [item for sublist in y_true_final for item in sublist]\n",
    "y_true_final = [int(i) for i in y_true_final]\n",
    "y_pred_final = [item for sublist in y_pred_final for item in sublist]\n",
    "y_prob_final = [item for sublist in y_prob_final for item in sublist]\n",
    "print(y_true_final)\n",
    "print(y_pred_final)\n",
    "print(y_prob_final)"
   ]
  },
  {
   "attachments": {},
   "cell_type": "markdown",
   "metadata": {},
   "source": [
    "Above we see the predictions based on a threshold of 50%. See that the results are not that good. There is a high rate of false positives. "
   ]
  },
  {
   "cell_type": "code",
   "execution_count": 91,
   "metadata": {},
   "outputs": [
    {
     "name": "stdout",
     "output_type": "stream",
     "text": [
      "AUC =  0.94\n"
     ]
    },
    {
     "data": {
      "image/png": "[encoded data removed]",
      "text/plain": [
       "<Figure size 640x480 with 1 Axes>"
      ]
     },
     "metadata": {},
     "output_type": "display_data"
    },
    {
     "name": "stdout",
     "output_type": "stream",
     "text": [
      "The fpr is:  [0.   0.12 1.  ]\n",
      "The tpr is:  [0. 1. 1.]\n",
      "The thresholds are:  [101.         100.           0.82640091]\n"
     ]
    }
   ],
   "source": [
    "print('AUC = ', metrics.roc_auc_score(y_true_final, y_prob_final))\n",
    "fpr, tpr, thresholds = metrics.roc_curve(y_true_final, y_prob_final)\n",
    "plt.plot(fpr, tpr, marker='.', label='AUROC = %0.3f' % metrics.roc_auc_score(y_true_final, y_prob_final))\n",
    "# Title\n",
    "plt.title('ROC Plot')\n",
    "# Axis labels\n",
    "plt.xlabel('False Positive Rate')\n",
    "plt.ylabel('True Positive Rate')\n",
    "# Show legend\n",
    "plt.legend() # \n",
    "# Show plot\n",
    "plt.show()\n",
    "\n",
    "print(\"The fpr is: \", fpr)\n",
    "print(\"The tpr is: \", tpr)\n",
    "print(\"The thresholds are: \", thresholds)"
   ]
  },
  {
   "attachments": {},
   "cell_type": "markdown",
   "metadata": {},
   "source": [
    "Here it is seen that if the threshold were to change from being 50% to 82.64%, then the FPR would get better; it wouldn't be so high, in fact, it would be of 0.12. Let's asses this statement."
   ]
  },
  {
   "cell_type": "code",
   "execution_count": 92,
   "metadata": {},
   "outputs": [],
   "source": [
    "def pred_label_onProb(probs_list, prob_threshold):\n",
    "    pred_based_onProb = []\n",
    "    for i in range (len(probs_list)):\n",
    "        if probs_list[i] > prob_threshold:\n",
    "            prediction = 1                          ## Stands for classifiaction of anomaly bottle\n",
    "        else:\n",
    "            prediction = 0\n",
    "        pred_based_onProb.append(prediction)\n",
    "    return pred_based_onProb"
   ]
  },
  {
   "cell_type": "code",
   "execution_count": 93,
   "metadata": {},
   "outputs": [],
   "source": [
    "# from tensorflow.keras.metrics import Precision, Recall, BinaryAccuracy, SpecificityAtSensitivity\n",
    "from sklearn.metrics import confusion_matrix"
   ]
  },
  {
   "cell_type": "code",
   "execution_count": 95,
   "metadata": {},
   "outputs": [
    {
     "name": "stdout",
     "output_type": "stream",
     "text": [
      "[[20  5]\n",
      " [ 0  5]]\n",
      "The FPR values are:  0.2\n",
      "The TPR values are:  1.0\n",
      "Using the threshold = 82.64\n"
     ]
    }
   ],
   "source": [
    "conf_matrix = confusion_matrix(y_true_final, pred_label_onProb(y_prob_final, 82.64))\n",
    "print(conf_matrix)\n",
    "_tp = conf_matrix[1, 1]\n",
    "_fn = conf_matrix[1, 0]\n",
    "_fp = conf_matrix[0, 1]\n",
    "_tn = conf_matrix[0, 0]\n",
    "_tpr = _tp/(_tp+_fn)\n",
    "_fpr = _fp / (_tn + _fp)\n",
    "print(\"The FPR values are: \", _fpr)\n",
    "print(\"The TPR values are: \", _tpr)\n",
    "print(\"Using the threshold = 82.64\")"
   ]
  },
  {
   "attachments": {},
   "cell_type": "markdown",
   "metadata": {},
   "source": [
    "ABove we see that indeed, the 82.64% trheshold helps improve the FPR value but it does not exactly output 0.12 as it was shown in the above result:\n",
    "\n",
    "The fpr is:  [0.   0.12 1.  ]\n",
    "\n",
    "The tpr is:  [0. 1. 1.]\n",
    "\n",
    "The thresholds are:  [101.         100.           0.82640091]\n",
    "\n",
    "\n",
    "HOwever, this is still a good aproximation and a good indicator that the results obtained with the reconstruction error are btter than the ones obtained with the latent space. THis rises a doubt, because it was expected the results would have been better with the latent space. \n"
   ]
  }
 ],
 "metadata": {
  "kernelspec": {
   "display_name": "Python 3",
   "language": "python",
   "name": "python3"
  },
  "language_info": {
   "codemirror_mode": {
    "name": "ipython",
    "version": 3
   },
   "file_extension": ".py",
   "mimetype": "text/x-python",
   "name": "python",
   "nbconvert_exporter": "python",
   "pygments_lexer": "ipython3",
   "version": "3.8.10"
  },
  "orig_nbformat": 4,
  "vscode": {
   "interpreter": {
    "hash": "916dbcbb3f70747c44a77c7bcd40155683ae19c65e1c03b4aa3499c5328201f1"
   }
  }
 },
 "nbformat": 4,
 "nbformat_minor": 2
}
