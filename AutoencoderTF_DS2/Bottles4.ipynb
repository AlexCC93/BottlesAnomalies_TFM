{
 "cells": [
  {
   "cell_type": "code",
   "execution_count": 1,
   "metadata": {},
   "outputs": [],
   "source": [
    "from tensorflow.keras.models import Sequential, Model\n",
    "from tensorflow.keras.layers import *\n",
    "from tensorflow.keras.preprocessing.image import ImageDataGenerator\n",
    "from tensorflow import keras\n",
    "import tensorflow as tf\n",
    "# from keras import layers\n",
    "\n",
    "\n",
    "from tensorflow.keras.optimizers import Adam, RMSprop\n",
    "from tensorflow.keras.preprocessing import image\n",
    "\n",
    "import tensorflow.keras.backend as K\n",
    "\n",
    "\n",
    "from PIL import Image\n",
    "import matplotlib.pyplot as plt\n",
    "import numpy as np\n",
    "import random\n",
    "\n"
   ]
  },
  {
   "cell_type": "code",
   "execution_count": 2,
   "metadata": {},
   "outputs": [
    {
     "name": "stdout",
     "output_type": "stream",
     "text": [
      "Num GPUs Available:  1\n"
     ]
    },
    {
     "name": "stderr",
     "output_type": "stream",
     "text": [
      "2023-06-11 11:35:43.654080: I tensorflow/stream_executor/platform/default/dso_loader.cc:44] Successfully opened dynamic library libcuda.so.1\n",
      "2023-06-11 11:35:43.688345: I tensorflow/stream_executor/cuda/cuda_gpu_executor.cc:981] successful NUMA node read from SysFS had negative value (-1), but there must be at least one NUMA node, so returning NUMA node zero\n",
      "2023-06-11 11:35:43.688699: I tensorflow/core/common_runtime/gpu/gpu_device.cc:1561] Found device 0 with properties: \n",
      "pciBusID: 0000:01:00.0 name: NVIDIA GeForce RTX 2080 with Max-Q Design computeCapability: 7.5\n",
      "coreClock: 1.23GHz coreCount: 46 deviceMemorySize: 7.79GiB deviceMemoryBandwidth: 357.69GiB/s\n",
      "2023-06-11 11:35:43.688890: I tensorflow/stream_executor/platform/default/dso_loader.cc:44] Successfully opened dynamic library libcudart.so.10.1\n",
      "2023-06-11 11:35:43.690710: I tensorflow/stream_executor/platform/default/dso_loader.cc:44] Successfully opened dynamic library libcublas.so.10\n",
      "2023-06-11 11:35:43.692287: I tensorflow/stream_executor/platform/default/dso_loader.cc:44] Successfully opened dynamic library libcufft.so.10\n",
      "2023-06-11 11:35:43.692584: I tensorflow/stream_executor/platform/default/dso_loader.cc:44] Successfully opened dynamic library libcurand.so.10\n",
      "2023-06-11 11:35:43.694465: I tensorflow/stream_executor/platform/default/dso_loader.cc:44] Successfully opened dynamic library libcusolver.so.10\n",
      "2023-06-11 11:35:43.695644: I tensorflow/stream_executor/platform/default/dso_loader.cc:44] Successfully opened dynamic library libcusparse.so.10\n",
      "2023-06-11 11:35:43.698829: I tensorflow/stream_executor/platform/default/dso_loader.cc:44] Successfully opened dynamic library libcudnn.so.7\n",
      "2023-06-11 11:35:43.698962: I tensorflow/stream_executor/cuda/cuda_gpu_executor.cc:981] successful NUMA node read from SysFS had negative value (-1), but there must be at least one NUMA node, so returning NUMA node zero\n",
      "2023-06-11 11:35:43.699432: I tensorflow/stream_executor/cuda/cuda_gpu_executor.cc:981] successful NUMA node read from SysFS had negative value (-1), but there must be at least one NUMA node, so returning NUMA node zero\n",
      "2023-06-11 11:35:43.699782: I tensorflow/core/common_runtime/gpu/gpu_device.cc:1703] Adding visible gpu devices: 0\n"
     ]
    }
   ],
   "source": [
    "physical_devices = tf.config.experimental.list_physical_devices('GPU')\n",
    "if len(physical_devices) == 0:\n",
    "    print(\"Not enough GPU hardware devices available\")\n",
    "else:\n",
    "    config = tf.config.experimental.set_memory_growth(physical_devices[0], True)\n",
    "print(\"Num GPUs Available: \", len(physical_devices))"
   ]
  },
  {
   "cell_type": "code",
   "execution_count": 3,
   "metadata": {},
   "outputs": [],
   "source": [
    "# tf.debugging.set_log_device_placement(True)       # Will print the log information of every execution of tensorflow, mainly about "
   ]
  },
  {
   "attachments": {},
   "cell_type": "markdown",
   "metadata": {},
   "source": [
    "# Setting the training and testing datasets "
   ]
  },
  {
   "attachments": {},
   "cell_type": "markdown",
   "metadata": {},
   "source": [
    "ImageDataGenerator.flow_from_directory: Takes the path to a directory and generates batches of augmented data."
   ]
  },
  {
   "cell_type": "code",
   "execution_count": 4,
   "metadata": {},
   "outputs": [],
   "source": [
    "def my_crop(img, start_y, start_x, desired_height, desired_width):\n",
    "  if K.image_data_format() == 'channels_last':\n",
    "    # Note: image_data_format is 'channel_last'\n",
    "    assert img.shape[2] == 3\n",
    "    dy = desired_height #input desired output size\n",
    "    dx = desired_width #input desired output size\n",
    "    # start_y = (height-dy)//2\n",
    "    # start_x = (width-dx)//2\n",
    "    return img[start_y:start_y+dy, start_x:(dx+start_x), :]\n",
    "  else:\n",
    "      assert img.shape[0] == 3\n",
    "      dy = desired_height #input desired output size\n",
    "      dx = desired_width #input desired output size\n",
    "      # start_y = (height-dy)//2\n",
    "      # start_x = (width-dx)//2\n",
    "      return img[:,start_y:start_y + dy, start_x:(dx + start_x)]\n",
    "\n",
    "def crop_generator(batches, start_y, start_x, crop_height, crop_width, flag=0):\n",
    "    '''\n",
    "    Take as input a Keras ImageGen (Iterator) and generate\n",
    "    crops from the image batches generated by the original iterator\n",
    "    '''\n",
    "    # print(\"I'm in the crop_generataor function\")\n",
    "    while True:\n",
    "      batch_x, batch_y = next(batches)  # In batch_x there are the images, in batch_y there are the labels\n",
    "    #   print(\"hello\")\n",
    "    #   print('the shape of tensor batch_x is:', batch_x.shape)\n",
    "    #   print('batch_y is:', batch_y)\n",
    "      if flag==0:\n",
    "        if K.image_data_format() == 'channels_last':\n",
    "          batch_crops = np.zeros((batch_x.shape[0], crop_height, crop_width, 3))\n",
    "          batch_crops_y = np.zeros((batch_y.shape[0], crop_height, crop_width, 3))\n",
    "        else:\n",
    "          batch_crops = np.zeros((batch_x.shape[0], 3, crop_height, crop_width))\n",
    "          batch_crops_y = np.zeros((batch_y.shape[0], 3, crop_height, crop_width))\n",
    "        for i in range(batch_x.shape[0]):\n",
    "          #   print(\"THe shape of a single image before the cropping is: \", batch_x[i].shape)\n",
    "            batch_crops[i] = my_crop(batch_x[i], start_y, start_x, crop_height, crop_width)\n",
    "            batch_crops_y[i] = my_crop(batch_x[i], start_y, start_x, crop_height, crop_width)\n",
    "        yield (batch_crops, batch_crops_y)\n",
    "      else: \n",
    "        if K.image_data_format() == 'channels_last':\n",
    "          batch_crops = np.zeros((batch_x.shape[0], crop_height, crop_width, 3))\n",
    "        else:\n",
    "          batch_crops = np.zeros((batch_x.shape[0], 3, crop_height, crop_width))\n",
    "        for i in range(batch_x.shape[0]):\n",
    "          #   print(\"THe shape of a single image before the cropping is: \", batch_x[i].shape)\n",
    "            batch_crops[i] = my_crop(batch_x[i], start_y, start_x, crop_height, crop_width)\n",
    "\n",
    "        yield (batch_crops, batch_y)\n",
    "         "
   ]
  },
  {
   "cell_type": "code",
   "execution_count": 5,
   "metadata": {},
   "outputs": [
    {
     "name": "stdout",
     "output_type": "stream",
     "text": [
      "Found 295 images belonging to 1 classes.\n"
     ]
    }
   ],
   "source": [
    "# batch_size = 64\n",
    "batch_size = 10\n",
    "datagen = ImageDataGenerator(rescale=1./255) # Typically used for data augmentation. Here it is only rescaling the image pixels value to range 0 to 1 in decimals\n",
    "\n",
    "train_generator = datagen.flow_from_directory(\n",
    "    \"../../Images/june5Night/Positive/\",         # For home laptop\n",
    "    # \"../../../BottleStoodUp_atNight/Positive/\",          # For work laptop\n",
    "    batch_size=batch_size,\n",
    "    shuffle = False,\n",
    "    class_mode='input'\n",
    "    \n",
    "    )"
   ]
  },
  {
   "cell_type": "code",
   "execution_count": 6,
   "metadata": {},
   "outputs": [
    {
     "name": "stdout",
     "output_type": "stream",
     "text": [
      "Found 20 images belonging to 1 classes.\n"
     ]
    }
   ],
   "source": [
    "validation_generator = datagen.flow_from_directory(\n",
    "    \"../../Images/june5Night/Positive_val/\",     # For home laptop\n",
    "    # \"../../../BottleStoodUp_atNight/Positive_val/\",           # For work lpatop   \n",
    "    batch_size=batch_size,\n",
    "    shuffle = False,\n",
    "    class_mode='input'\n",
    "    )\n"
   ]
  },
  {
   "cell_type": "code",
   "execution_count": 7,
   "metadata": {},
   "outputs": [
    {
     "name": "stdout",
     "output_type": "stream",
     "text": [
      "Found 10 images belonging to 1 classes.\n"
     ]
    }
   ],
   "source": [
    "anomaly_generator = datagen.flow_from_directory(\n",
    "    \"../../Images/june5Night/Anomalies2.0/\",         # For home laptop\n",
    "    # \"../../../BottleStoodUp_atNight/Anomalies2.0/\",           # For work lpatpo\n",
    "    batch_size=batch_size,\n",
    "    shuffle = False,\n",
    "    class_mode='input'\n",
    "    )\n"
   ]
  },
  {
   "cell_type": "code",
   "execution_count": 8,
   "metadata": {},
   "outputs": [
    {
     "name": "stdout",
     "output_type": "stream",
     "text": [
      "Found 30 images belonging to 2 classes.\n"
     ]
    }
   ],
   "source": [
    "test_set_generator = datagen.flow_from_directory(\n",
    "    \"../../Images/june5Night/Evaluation/\",       # For home laptop\n",
    "    # \"../../../BottleStoodUp_atNight/Evaluation/\",             # For work laptop  \n",
    "    batch_size=batch_size,\n",
    "    shuffle = False,\n",
    "    class_mode='binary'\n",
    "    )\n"
   ]
  },
  {
   "attachments": {},
   "cell_type": "markdown",
   "metadata": {},
   "source": [
    "Creating the cropped images"
   ]
  },
  {
   "cell_type": "code",
   "execution_count": 9,
   "metadata": {},
   "outputs": [],
   "source": [
    "HEIGHT = 160\n",
    "WIDTH = 128"
   ]
  },
  {
   "cell_type": "code",
   "execution_count": 10,
   "metadata": {},
   "outputs": [],
   "source": [
    "train_crops = crop_generator(train_generator, 65, 69, HEIGHT,WIDTH)      # top, left, height, width\n",
    "val_crops = crop_generator(validation_generator, 65, 69, HEIGHT,WIDTH)      # top, left, height, width\n",
    "anomaly_crops = crop_generator(anomaly_generator, 65, 69, HEIGHT,WIDTH)      # top, left, height, width\n",
    "test_crops = crop_generator(test_set_generator, 65, 69, HEIGHT,WIDTH,1)      # top, left, height, width"
   ]
  },
  {
   "cell_type": "code",
   "execution_count": 11,
   "metadata": {},
   "outputs": [
    {
     "name": "stdout",
     "output_type": "stream",
     "text": [
      "<class 'generator'>\n",
      "<class 'keras_preprocessing.image.directory_iterator.DirectoryIterator'>\n"
     ]
    }
   ],
   "source": [
    "print(type(train_crops))\n",
    "print(type(train_generator))"
   ]
  },
  {
   "attachments": {},
   "cell_type": "markdown",
   "metadata": {},
   "source": [
    "Here we make sure that both of the returned elements of the cropped generator are indeed cropped images."
   ]
  },
  {
   "cell_type": "code",
   "execution_count": 12,
   "metadata": {},
   "outputs": [],
   "source": [
    "# images_in_batch, images_in_batch2 = next(train_crops)\n",
    "# print(images_in_batch.shape)\n",
    "# print(images_in_batch2.shape)"
   ]
  },
  {
   "cell_type": "code",
   "execution_count": 13,
   "metadata": {},
   "outputs": [],
   "source": [
    "# print(type(images_in_batch))"
   ]
  },
  {
   "cell_type": "code",
   "execution_count": 14,
   "metadata": {},
   "outputs": [],
   "source": [
    "# images_in_batch, images_in_batch2 = next(train_generator)\n",
    "# print(type(images_in_batch))"
   ]
  },
  {
   "cell_type": "code",
   "execution_count": 15,
   "metadata": {},
   "outputs": [],
   "source": [
    "# single_img = images_in_batch[0]\n",
    "# plt.imshow(single_img)"
   ]
  },
  {
   "cell_type": "code",
   "execution_count": 16,
   "metadata": {},
   "outputs": [],
   "source": [
    "# single_img2 = images_in_batch2[0]\n",
    "# plt.imshow(single_img2)"
   ]
  },
  {
   "attachments": {},
   "cell_type": "markdown",
   "metadata": {},
   "source": [
    "# Configuring the Autoencoder netwrok"
   ]
  },
  {
   "cell_type": "code",
   "execution_count": 17,
   "metadata": {},
   "outputs": [
    {
     "name": "stderr",
     "output_type": "stream",
     "text": [
      "2023-06-11 11:35:45.099151: I tensorflow/core/platform/cpu_feature_guard.cc:143] Your CPU supports instructions that this TensorFlow binary was not compiled to use: AVX2 FMA\n",
      "2023-06-11 11:35:45.127304: I tensorflow/core/platform/profile_utils/cpu_utils.cc:102] CPU Frequency: 2599990000 Hz\n",
      "2023-06-11 11:35:45.127863: I tensorflow/compiler/xla/service/service.cc:168] XLA service 0x7fae640012b0 initialized for platform Host (this does not guarantee that XLA will be used). Devices:\n",
      "2023-06-11 11:35:45.127879: I tensorflow/compiler/xla/service/service.cc:176]   StreamExecutor device (0): Host, Default Version\n",
      "2023-06-11 11:35:45.208589: I tensorflow/stream_executor/cuda/cuda_gpu_executor.cc:981] successful NUMA node read from SysFS had negative value (-1), but there must be at least one NUMA node, so returning NUMA node zero\n",
      "2023-06-11 11:35:45.209066: I tensorflow/compiler/xla/service/service.cc:168] XLA service 0x51ac900 initialized for platform CUDA (this does not guarantee that XLA will be used). Devices:\n",
      "2023-06-11 11:35:45.209081: I tensorflow/compiler/xla/service/service.cc:176]   StreamExecutor device (0): NVIDIA GeForce RTX 2080 with Max-Q Design, Compute Capability 7.5\n",
      "2023-06-11 11:35:45.209250: I tensorflow/stream_executor/cuda/cuda_gpu_executor.cc:981] successful NUMA node read from SysFS had negative value (-1), but there must be at least one NUMA node, so returning NUMA node zero\n",
      "2023-06-11 11:35:45.209615: I tensorflow/core/common_runtime/gpu/gpu_device.cc:1561] Found device 0 with properties: \n",
      "pciBusID: 0000:01:00.0 name: NVIDIA GeForce RTX 2080 with Max-Q Design computeCapability: 7.5\n",
      "coreClock: 1.23GHz coreCount: 46 deviceMemorySize: 7.79GiB deviceMemoryBandwidth: 357.69GiB/s\n",
      "2023-06-11 11:35:45.209652: I tensorflow/stream_executor/platform/default/dso_loader.cc:44] Successfully opened dynamic library libcudart.so.10.1\n",
      "2023-06-11 11:35:45.209665: I tensorflow/stream_executor/platform/default/dso_loader.cc:44] Successfully opened dynamic library libcublas.so.10\n",
      "2023-06-11 11:35:45.209677: I tensorflow/stream_executor/platform/default/dso_loader.cc:44] Successfully opened dynamic library libcufft.so.10\n",
      "2023-06-11 11:35:45.209689: I tensorflow/stream_executor/platform/default/dso_loader.cc:44] Successfully opened dynamic library libcurand.so.10\n",
      "2023-06-11 11:35:45.209700: I tensorflow/stream_executor/platform/default/dso_loader.cc:44] Successfully opened dynamic library libcusolver.so.10\n",
      "2023-06-11 11:35:45.209711: I tensorflow/stream_executor/platform/default/dso_loader.cc:44] Successfully opened dynamic library libcusparse.so.10\n",
      "2023-06-11 11:35:45.209723: I tensorflow/stream_executor/platform/default/dso_loader.cc:44] Successfully opened dynamic library libcudnn.so.7\n",
      "2023-06-11 11:35:45.209781: I tensorflow/stream_executor/cuda/cuda_gpu_executor.cc:981] successful NUMA node read from SysFS had negative value (-1), but there must be at least one NUMA node, so returning NUMA node zero\n",
      "2023-06-11 11:35:45.210160: I tensorflow/stream_executor/cuda/cuda_gpu_executor.cc:981] successful NUMA node read from SysFS had negative value (-1), but there must be at least one NUMA node, so returning NUMA node zero\n",
      "2023-06-11 11:35:45.210459: I tensorflow/core/common_runtime/gpu/gpu_device.cc:1703] Adding visible gpu devices: 0\n",
      "2023-06-11 11:35:45.210485: I tensorflow/stream_executor/platform/default/dso_loader.cc:44] Successfully opened dynamic library libcudart.so.10.1\n",
      "2023-06-11 11:35:45.210902: I tensorflow/core/common_runtime/gpu/gpu_device.cc:1102] Device interconnect StreamExecutor with strength 1 edge matrix:\n",
      "2023-06-11 11:35:45.210914: I tensorflow/core/common_runtime/gpu/gpu_device.cc:1108]      0 \n",
      "2023-06-11 11:35:45.210921: I tensorflow/core/common_runtime/gpu/gpu_device.cc:1121] 0:   N \n",
      "2023-06-11 11:35:45.211026: I tensorflow/stream_executor/cuda/cuda_gpu_executor.cc:981] successful NUMA node read from SysFS had negative value (-1), but there must be at least one NUMA node, so returning NUMA node zero\n",
      "2023-06-11 11:35:45.211426: I tensorflow/stream_executor/cuda/cuda_gpu_executor.cc:981] successful NUMA node read from SysFS had negative value (-1), but there must be at least one NUMA node, so returning NUMA node zero\n",
      "2023-06-11 11:35:45.211742: I tensorflow/core/common_runtime/gpu/gpu_device.cc:1247] Created TensorFlow device (/job:localhost/replica:0/task:0/device:GPU:0 with 6728 MB memory) -> physical GPU (device: 0, name: NVIDIA GeForce RTX 2080 with Max-Q Design, pci bus id: 0000:01:00.0, compute capability: 7.5)\n"
     ]
    },
    {
     "name": "stdout",
     "output_type": "stream",
     "text": [
      "(None, 10, 8, 1)\n",
      "(None, 40)\n",
      "Model: \"model\"\n",
      "_________________________________________________________________\n",
      "Layer (type)                 Output Shape              Param #   \n",
      "=================================================================\n",
      "input_1 (InputLayer)         [(None, 160, 128, 3)]     0         \n",
      "_________________________________________________________________\n",
      "conv2d (Conv2D)              (None, 160, 128, 64)      1792      \n",
      "_________________________________________________________________\n",
      "max_pooling2d (MaxPooling2D) (None, 80, 64, 64)        0         \n",
      "_________________________________________________________________\n",
      "conv2d_1 (Conv2D)            (None, 80, 64, 32)        18464     \n",
      "_________________________________________________________________\n",
      "max_pooling2d_1 (MaxPooling2 (None, 40, 32, 32)        0         \n",
      "_________________________________________________________________\n",
      "conv2d_2 (Conv2D)            (None, 40, 32, 16)        4624      \n",
      "_________________________________________________________________\n",
      "max_pooling2d_2 (MaxPooling2 (None, 20, 16, 16)        0         \n",
      "_________________________________________________________________\n",
      "conv2d_3 (Conv2D)            (None, 20, 16, 4)         580       \n",
      "_________________________________________________________________\n",
      "max_pooling2d_3 (MaxPooling2 (None, 10, 8, 4)          0         \n",
      "_________________________________________________________________\n",
      "conv2d_4 (Conv2D)            (None, 10, 8, 1)          37        \n",
      "_________________________________________________________________\n",
      "flatten (Flatten)            (None, 80)                0         \n",
      "_________________________________________________________________\n",
      "dense (Dense)                (None, 80)                6480      \n",
      "_________________________________________________________________\n",
      "dense_1 (Dense)              (None, 40)                3240      \n",
      "=================================================================\n",
      "Total params: 35,217\n",
      "Trainable params: 35,217\n",
      "Non-trainable params: 0\n",
      "_________________________________________________________________\n"
     ]
    }
   ],
   "source": [
    "latent_dim = 40  # Number of latent dimension parameters\n",
    "\n",
    "input_img = Input(shape=(HEIGHT, WIDTH, 3))\n",
    "x = Conv2D(64, (3, 3), activation='relu', padding='same')(input_img)\n",
    "x = MaxPooling2D((2, 2), padding='same')(x)\n",
    "x = Conv2D(32, (3, 3), activation='relu', padding='same')(x)\n",
    "x = MaxPool2D( (2, 2), padding='same')(x)\n",
    "x = Conv2D(16, (3, 3), activation='relu', padding='same')(x)\n",
    "x = MaxPool2D( (2, 2), padding='same')(x)\n",
    "\n",
    "x = Conv2D(4, (3, 3), activation='relu', padding='same')(x)\n",
    "x = MaxPool2D( (2, 2), padding='same')(x)\n",
    "x = Conv2D(1, (3, 3), activation='relu', padding='same')(x)\n",
    "\n",
    "shape_before_flattening = K.int_shape(x)\n",
    "print(shape_before_flattening)\n",
    "x = Flatten()(x)\n",
    "x = Dense(80, activation='relu')(x)        # Activation function is supposed to be none, i.e the output is the same as the input\n",
    "\n",
    "Z = Dense(latent_dim)(x)\n",
    "print(K.int_shape(Z))\n",
    "\n",
    "encoder = Model(input_img,Z)\n",
    "encoder.summary()"
   ]
  },
  {
   "cell_type": "code",
   "execution_count": 18,
   "metadata": {},
   "outputs": [
    {
     "name": "stdout",
     "output_type": "stream",
     "text": [
      "Model: \"model_1\"\n",
      "_________________________________________________________________\n",
      "Layer (type)                 Output Shape              Param #   \n",
      "=================================================================\n",
      "input_2 (InputLayer)         [(None, 40)]              0         \n",
      "_________________________________________________________________\n",
      "intermediate_decoder (Dense) (None, 320)               13120     \n",
      "_________________________________________________________________\n",
      "original_decoder (Dense)     (None, 320)               102720    \n",
      "_________________________________________________________________\n",
      "reshape (Reshape)            (None, 10, 8, 4)          0         \n",
      "_________________________________________________________________\n",
      "conv2d_transpose (Conv2DTran (None, 10, 8, 3)          111       \n",
      "_________________________________________________________________\n",
      "up_sampling2d (UpSampling2D) (None, 20, 16, 3)         0         \n",
      "_________________________________________________________________\n",
      "conv2d_transpose_1 (Conv2DTr (None, 20, 16, 3)         84        \n",
      "_________________________________________________________________\n",
      "up_sampling2d_1 (UpSampling2 (None, 40, 32, 3)         0         \n",
      "_________________________________________________________________\n",
      "conv2d_transpose_2 (Conv2DTr (None, 40, 32, 3)         84        \n",
      "_________________________________________________________________\n",
      "up_sampling2d_2 (UpSampling2 (None, 80, 64, 3)         0         \n",
      "_________________________________________________________________\n",
      "conv2d_transpose_3 (Conv2DTr (None, 80, 64, 3)         84        \n",
      "_________________________________________________________________\n",
      "up_sampling2d_3 (UpSampling2 (None, 160, 128, 3)       0         \n",
      "=================================================================\n",
      "Total params: 116,203\n",
      "Trainable params: 116,203\n",
      "Non-trainable params: 0\n",
      "_________________________________________________________________\n"
     ]
    }
   ],
   "source": [
    "# decoder takes the latent distribution sample as input\n",
    "decoder_input = Input(K.int_shape(Z)[1:])\n",
    "x = Dense(10*8*4, activation='relu', name=\"intermediate_decoder\", input_shape=(latent_dim,))(decoder_input)\n",
    "# Expand to 784 total pixels\n",
    "x = Dense(320, activation='sigmoid', name=\"original_decoder\")(x)\n",
    "x = Reshape((10,8,4),input_shape=(320,))(x)\n",
    "\n",
    "x = Conv2DTranspose(3, (3, 3), padding='same')(x)\n",
    "x = UpSampling2D( (2, 2))(x)\n",
    "x = Conv2DTranspose(3, (3, 3), padding='same')(x)\n",
    "x = UpSampling2D( (2, 2))(x)\n",
    "x = Conv2DTranspose(3, (3, 3), padding='same')(x)\n",
    "x = UpSampling2D( (2, 2))(x)\n",
    "x = Conv2DTranspose(3, (3, 3), padding='same')(x)\n",
    "x = UpSampling2D( (2, 2))(x)\n",
    "\n",
    "# decoder model statement\n",
    "decoder = Model(decoder_input, x)\n",
    "\n",
    "# apply the decoder to the sample from the latent distribution\n",
    "z_decoded = decoder(Z)\n",
    "\n",
    "decoder.summary()"
   ]
  },
  {
   "cell_type": "code",
   "execution_count": 19,
   "metadata": {},
   "outputs": [
    {
     "name": "stdout",
     "output_type": "stream",
     "text": [
      "Model: \"model_2\"\n",
      "_________________________________________________________________\n",
      "Layer (type)                 Output Shape              Param #   \n",
      "=================================================================\n",
      "input_1 (InputLayer)         [(None, 160, 128, 3)]     0         \n",
      "_________________________________________________________________\n",
      "conv2d (Conv2D)              (None, 160, 128, 64)      1792      \n",
      "_________________________________________________________________\n",
      "max_pooling2d (MaxPooling2D) (None, 80, 64, 64)        0         \n",
      "_________________________________________________________________\n",
      "conv2d_1 (Conv2D)            (None, 80, 64, 32)        18464     \n",
      "_________________________________________________________________\n",
      "max_pooling2d_1 (MaxPooling2 (None, 40, 32, 32)        0         \n",
      "_________________________________________________________________\n",
      "conv2d_2 (Conv2D)            (None, 40, 32, 16)        4624      \n",
      "_________________________________________________________________\n",
      "max_pooling2d_2 (MaxPooling2 (None, 20, 16, 16)        0         \n",
      "_________________________________________________________________\n",
      "conv2d_3 (Conv2D)            (None, 20, 16, 4)         580       \n",
      "_________________________________________________________________\n",
      "max_pooling2d_3 (MaxPooling2 (None, 10, 8, 4)          0         \n",
      "_________________________________________________________________\n",
      "conv2d_4 (Conv2D)            (None, 10, 8, 1)          37        \n",
      "_________________________________________________________________\n",
      "flatten (Flatten)            (None, 80)                0         \n",
      "_________________________________________________________________\n",
      "dense (Dense)                (None, 80)                6480      \n",
      "_________________________________________________________________\n",
      "dense_1 (Dense)              (None, 40)                3240      \n",
      "_________________________________________________________________\n",
      "model_1 (Model)              (None, 160, 128, 3)       116203    \n",
      "=================================================================\n",
      "Total params: 151,420\n",
      "Trainable params: 151,420\n",
      "Non-trainable params: 0\n",
      "_________________________________________________________________\n"
     ]
    }
   ],
   "source": [
    "# VAE model statement\n",
    "ae = Model(input_img,z_decoded)\n",
    "ae.compile(optimizer='adam', loss='mean_squared_error')\n",
    "\n",
    "ae.summary()"
   ]
  },
  {
   "attachments": {},
   "cell_type": "markdown",
   "metadata": {},
   "source": [
    "These are the weights of a specific layer of the encoder model, before training are:"
   ]
  },
  {
   "cell_type": "code",
   "execution_count": 20,
   "metadata": {},
   "outputs": [
    {
     "name": "stdout",
     "output_type": "stream",
     "text": [
      "quantity of layers in the model:  13\n",
      "The weigths in the conv2d is:  [<tf.Variable 'conv2d/kernel:0' shape=(3, 3, 3, 64) dtype=float32, numpy=\n",
      "array([[[[-0.05868933,  0.04158641,  0.09831288, ...,  0.05725132,\n",
      "           0.05534196,  0.03872098],\n",
      "         [-0.07459823,  0.07374933,  0.0877863 , ..., -0.0172466 ,\n",
      "           0.00230157,  0.08773765],\n",
      "         [-0.06999011, -0.00900226,  0.09772246, ..., -0.09706131,\n",
      "          -0.00648346, -0.0531867 ]],\n",
      "\n",
      "        [[-0.00487136, -0.03596391, -0.05526741, ..., -0.08505303,\n",
      "          -0.03553123,  0.06016196],\n",
      "         [ 0.02701275, -0.08644143, -0.07644501, ..., -0.01856232,\n",
      "          -0.03296941,  0.0396848 ],\n",
      "         [-0.00979686, -0.07031408, -0.06057485, ...,  0.04861452,\n",
      "          -0.03154229, -0.08280321]],\n",
      "\n",
      "        [[-0.02393897,  0.08683777,  0.05756137, ..., -0.0828253 ,\n",
      "           0.05959484,  0.01854526],\n",
      "         [-0.09631508, -0.05437561,  0.08233337, ...,  0.06662787,\n",
      "          -0.06752186, -0.08467603],\n",
      "         [-0.05554901, -0.03831854, -0.06164235, ..., -0.02947027,\n",
      "           0.07381403,  0.0830836 ]]],\n",
      "\n",
      "\n",
      "       [[[ 0.06332543, -0.08175709,  0.06927446, ..., -0.09013442,\n",
      "           0.03163801,  0.06510021],\n",
      "         [-0.06344339, -0.07954782, -0.00925393, ...,  0.09553704,\n",
      "           0.07492162, -0.0208623 ],\n",
      "         [-0.01949742, -0.05813669,  0.09253329, ..., -0.06123132,\n",
      "           0.09153494, -0.09478956]],\n",
      "\n",
      "        [[-0.01731554,  0.05203037,  0.01624964, ...,  0.01348616,\n",
      "           0.06499112,  0.03701095],\n",
      "         [ 0.08104897, -0.06202368,  0.0188176 , ...,  0.04319815,\n",
      "           0.00920919, -0.02004097],\n",
      "         [-0.08323061,  0.05475385, -0.04385484, ..., -0.00063735,\n",
      "           0.04002298, -0.03155233]],\n",
      "\n",
      "        [[-0.04250514,  0.01118632,  0.08200957, ...,  0.08759737,\n",
      "           0.09104043, -0.09140405],\n",
      "         [-0.07845908,  0.07490112, -0.04880937, ..., -0.01034483,\n",
      "           0.05681942, -0.05857978],\n",
      "         [-0.00300639, -0.01763994,  0.09952272, ...,  0.00602122,\n",
      "           0.00553768, -0.02595812]]],\n",
      "\n",
      "\n",
      "       [[[ 0.07346547, -0.0627181 ,  0.07406192, ...,  0.02960525,\n",
      "          -0.020499  , -0.06533791],\n",
      "         [ 0.08785222,  0.03007451, -0.06744955, ..., -0.03618035,\n",
      "           0.06402612,  0.03797387],\n",
      "         [-0.00182188, -0.02659875,  0.02480779, ..., -0.08613854,\n",
      "           0.04104833,  0.03289321]],\n",
      "\n",
      "        [[ 0.08958735,  0.0955897 ,  0.00621469, ..., -0.06687309,\n",
      "          -0.08028182,  0.03734629],\n",
      "         [-0.06027019,  0.02892311,  0.08361685, ..., -0.02679624,\n",
      "          -0.01827733, -0.02672748],\n",
      "         [-0.07059795,  0.04561417,  0.04660295, ..., -0.02907073,\n",
      "          -0.05476867, -0.01888533]],\n",
      "\n",
      "        [[ 0.08172068, -0.00882974,  0.0385395 , ..., -0.06820058,\n",
      "           0.02298177, -0.05200921],\n",
      "         [-0.03752423,  0.03530501, -0.0422426 , ..., -0.07403002,\n",
      "          -0.04256488, -0.04187421],\n",
      "         [-0.056626  ,  0.03404675,  0.0996404 , ..., -0.01106399,\n",
      "          -0.02043424,  0.05481954]]]], dtype=float32)>, <tf.Variable 'conv2d/bias:0' shape=(64,) dtype=float32, numpy=\n",
      "array([0., 0., 0., 0., 0., 0., 0., 0., 0., 0., 0., 0., 0., 0., 0., 0., 0.,\n",
      "       0., 0., 0., 0., 0., 0., 0., 0., 0., 0., 0., 0., 0., 0., 0., 0., 0.,\n",
      "       0., 0., 0., 0., 0., 0., 0., 0., 0., 0., 0., 0., 0., 0., 0., 0., 0.,\n",
      "       0., 0., 0., 0., 0., 0., 0., 0., 0., 0., 0., 0., 0.], dtype=float32)>]\n"
     ]
    }
   ],
   "source": [
    "layer_number = 1\n",
    "print(\"quantity of layers in the model: \", len(encoder.layers))\n",
    "print(\"The weigths in the\", encoder.layers[layer_number].name, \"is: \", encoder.layers[layer_number].weights)"
   ]
  },
  {
   "attachments": {},
   "cell_type": "markdown",
   "metadata": {},
   "source": [
    "These are the weights of a specific layer of the decoder model,before training are:"
   ]
  },
  {
   "cell_type": "code",
   "execution_count": 21,
   "metadata": {},
   "outputs": [],
   "source": [
    "# layer_number = 1\n",
    "# print(\"quantity of layers in the model: \", len(decoder.layers))\n",
    "# print(\"The weigths in the\", decoder.layers[layer_number].name, \"is: \", decoder.layers[layer_number].weights)"
   ]
  },
  {
   "attachments": {},
   "cell_type": "markdown",
   "metadata": {},
   "source": [
    "These are the weights of a specific layer of the autoencoder model,before training are:"
   ]
  },
  {
   "cell_type": "code",
   "execution_count": 22,
   "metadata": {},
   "outputs": [],
   "source": [
    "# layer_number = 1\n",
    "# print(\"quantity of layers in the model: \", len(ae.layers))\n",
    "# print(\"The weigths in the\", ae.layers[layer_number].name, \"is: \", ae.layers[layer_number].weights)"
   ]
  },
  {
   "cell_type": "code",
   "execution_count": 23,
   "metadata": {},
   "outputs": [],
   "source": [
    "# # from tensorflow.keras.callbacks import EarlyStopping\n",
    "# # run the modelvalidat\n",
    "# # early_stopping = EarlyStopping(monitor='val_loss', min_delta=0, patience=20, verbose=5, mode='auto')\n",
    "# history = ae.fit(train_crops, epochs=400, steps_per_epoch=len(train_generator), validation_data=val_crops, validation_steps =len(validation_generator),  verbose=1, shuffle = True)"
   ]
  },
  {
   "cell_type": "code",
   "execution_count": 24,
   "metadata": {},
   "outputs": [],
   "source": [
    "\n",
    "# # Get the training and validation loss values from the history object\n",
    "# train_loss = history.history['loss']\n",
    "# val_loss = history.history['val_loss']\n",
    "\n",
    "# # Plot the training and validation loss\n",
    "# epochs = range(1, len(train_loss) + 1)\n",
    "# plt.plot(epochs, train_loss, 'b-', label='Training Loss')\n",
    "# plt.plot(epochs, val_loss, 'r-', label='Validation Loss')\n",
    "# plt.title('Training and Validation Loss')\n",
    "# plt.xlabel('Epochs')\n",
    "# plt.ylabel('Loss')\n",
    "# plt.legend()\n",
    "# plt.show()\n"
   ]
  },
  {
   "cell_type": "code",
   "execution_count": 25,
   "metadata": {},
   "outputs": [
    {
     "name": "stdout",
     "output_type": "stream",
     "text": [
      "UsingValidDS1_2\n"
     ]
    }
   ],
   "source": [
    "model_version = 'UsingValidDS1_2'\n",
    "print(model_version)"
   ]
  },
  {
   "cell_type": "code",
   "execution_count": 26,
   "metadata": {},
   "outputs": [],
   "source": [
    "# ae.save(f\"../../BottlesAnomalies_TFM/models/{model_version}\")"
   ]
  },
  {
   "attachments": {},
   "cell_type": "markdown",
   "metadata": {},
   "source": [
    "Loading the model that was previously saved\n"
   ]
  },
  {
   "cell_type": "code",
   "execution_count": 27,
   "metadata": {},
   "outputs": [
    {
     "name": "stdout",
     "output_type": "stream",
     "text": [
      "<class 'tensorflow.python.keras.engine.training.Model'>\n"
     ]
    }
   ],
   "source": [
    "model = keras.models.load_model('../models/UsingValidDS1_2')\n",
    "print(type(model))"
   ]
  },
  {
   "attachments": {},
   "cell_type": "markdown",
   "metadata": {},
   "source": [
    "## See the weights after the model loading"
   ]
  },
  {
   "attachments": {},
   "cell_type": "markdown",
   "metadata": {},
   "source": [
    "These are the weights of a specific layer of the encoder model, AFTER training:"
   ]
  },
  {
   "cell_type": "code",
   "execution_count": 28,
   "metadata": {},
   "outputs": [
    {
     "name": "stdout",
     "output_type": "stream",
     "text": [
      "quantity of layers in the model:  13\n",
      "The weigths in the conv2d is:  [<tf.Variable 'conv2d/kernel:0' shape=(3, 3, 3, 64) dtype=float32, numpy=\n",
      "array([[[[-0.05868933,  0.04158641,  0.09831288, ...,  0.05725132,\n",
      "           0.05534196,  0.03872098],\n",
      "         [-0.07459823,  0.07374933,  0.0877863 , ..., -0.0172466 ,\n",
      "           0.00230157,  0.08773765],\n",
      "         [-0.06999011, -0.00900226,  0.09772246, ..., -0.09706131,\n",
      "          -0.00648346, -0.0531867 ]],\n",
      "\n",
      "        [[-0.00487136, -0.03596391, -0.05526741, ..., -0.08505303,\n",
      "          -0.03553123,  0.06016196],\n",
      "         [ 0.02701275, -0.08644143, -0.07644501, ..., -0.01856232,\n",
      "          -0.03296941,  0.0396848 ],\n",
      "         [-0.00979686, -0.07031408, -0.06057485, ...,  0.04861452,\n",
      "          -0.03154229, -0.08280321]],\n",
      "\n",
      "        [[-0.02393897,  0.08683777,  0.05756137, ..., -0.0828253 ,\n",
      "           0.05959484,  0.01854526],\n",
      "         [-0.09631508, -0.05437561,  0.08233337, ...,  0.06662787,\n",
      "          -0.06752186, -0.08467603],\n",
      "         [-0.05554901, -0.03831854, -0.06164235, ..., -0.02947027,\n",
      "           0.07381403,  0.0830836 ]]],\n",
      "\n",
      "\n",
      "       [[[ 0.06332543, -0.08175709,  0.06927446, ..., -0.09013442,\n",
      "           0.03163801,  0.06510021],\n",
      "         [-0.06344339, -0.07954782, -0.00925393, ...,  0.09553704,\n",
      "           0.07492162, -0.0208623 ],\n",
      "         [-0.01949742, -0.05813669,  0.09253329, ..., -0.06123132,\n",
      "           0.09153494, -0.09478956]],\n",
      "\n",
      "        [[-0.01731554,  0.05203037,  0.01624964, ...,  0.01348616,\n",
      "           0.06499112,  0.03701095],\n",
      "         [ 0.08104897, -0.06202368,  0.0188176 , ...,  0.04319815,\n",
      "           0.00920919, -0.02004097],\n",
      "         [-0.08323061,  0.05475385, -0.04385484, ..., -0.00063735,\n",
      "           0.04002298, -0.03155233]],\n",
      "\n",
      "        [[-0.04250514,  0.01118632,  0.08200957, ...,  0.08759737,\n",
      "           0.09104043, -0.09140405],\n",
      "         [-0.07845908,  0.07490112, -0.04880937, ..., -0.01034483,\n",
      "           0.05681942, -0.05857978],\n",
      "         [-0.00300639, -0.01763994,  0.09952272, ...,  0.00602122,\n",
      "           0.00553768, -0.02595812]]],\n",
      "\n",
      "\n",
      "       [[[ 0.07346547, -0.0627181 ,  0.07406192, ...,  0.02960525,\n",
      "          -0.020499  , -0.06533791],\n",
      "         [ 0.08785222,  0.03007451, -0.06744955, ..., -0.03618035,\n",
      "           0.06402612,  0.03797387],\n",
      "         [-0.00182188, -0.02659875,  0.02480779, ..., -0.08613854,\n",
      "           0.04104833,  0.03289321]],\n",
      "\n",
      "        [[ 0.08958735,  0.0955897 ,  0.00621469, ..., -0.06687309,\n",
      "          -0.08028182,  0.03734629],\n",
      "         [-0.06027019,  0.02892311,  0.08361685, ..., -0.02679624,\n",
      "          -0.01827733, -0.02672748],\n",
      "         [-0.07059795,  0.04561417,  0.04660295, ..., -0.02907073,\n",
      "          -0.05476867, -0.01888533]],\n",
      "\n",
      "        [[ 0.08172068, -0.00882974,  0.0385395 , ..., -0.06820058,\n",
      "           0.02298177, -0.05200921],\n",
      "         [-0.03752423,  0.03530501, -0.0422426 , ..., -0.07403002,\n",
      "          -0.04256488, -0.04187421],\n",
      "         [-0.056626  ,  0.03404675,  0.0996404 , ..., -0.01106399,\n",
      "          -0.02043424,  0.05481954]]]], dtype=float32)>, <tf.Variable 'conv2d/bias:0' shape=(64,) dtype=float32, numpy=\n",
      "array([0., 0., 0., 0., 0., 0., 0., 0., 0., 0., 0., 0., 0., 0., 0., 0., 0.,\n",
      "       0., 0., 0., 0., 0., 0., 0., 0., 0., 0., 0., 0., 0., 0., 0., 0., 0.,\n",
      "       0., 0., 0., 0., 0., 0., 0., 0., 0., 0., 0., 0., 0., 0., 0., 0., 0.,\n",
      "       0., 0., 0., 0., 0., 0., 0., 0., 0., 0., 0., 0., 0.], dtype=float32)>]\n"
     ]
    }
   ],
   "source": [
    "layer_number = 1\n",
    "print(\"quantity of layers in the model: \", len(encoder.layers))\n",
    "print(\"The weigths in the\", encoder.layers[layer_number].name, \"is: \", encoder.layers[layer_number].weights)"
   ]
  },
  {
   "attachments": {},
   "cell_type": "markdown",
   "metadata": {},
   "source": [
    "These are the weights of a specific layer of the Autoencoder model, AFTER training:"
   ]
  },
  {
   "cell_type": "code",
   "execution_count": 29,
   "metadata": {},
   "outputs": [
    {
     "name": "stdout",
     "output_type": "stream",
     "text": [
      "quantity of layers in the model:  14\n",
      "The weigths in the conv2d is:  [<tf.Variable 'conv2d/kernel:0' shape=(3, 3, 3, 64) dtype=float32, numpy=\n",
      "array([[[[ 0.06610329, -0.06582032, -0.02218388, ..., -0.07047901,\n",
      "           0.05430846,  0.16724253],\n",
      "         [-0.01202684, -0.01292756, -0.04396546, ...,  0.08265824,\n",
      "          -0.039819  ,  0.28787476],\n",
      "         [ 0.04677278,  0.05645363, -0.02933365, ..., -0.01803818,\n",
      "           0.05261484,  0.18129137]],\n",
      "\n",
      "        [[-0.01118797, -0.17000918, -0.03996446, ..., -0.01693045,\n",
      "          -0.12858297,  0.11856407],\n",
      "         [-0.06163788, -0.138065  ,  0.00750436, ..., -0.1878289 ,\n",
      "           0.00734806,  0.08380985],\n",
      "         [-0.10010549, -0.14288507,  0.065435  , ..., -0.11714873,\n",
      "           0.01154313,  0.21997051]],\n",
      "\n",
      "        [[ 0.06521299, -0.1908212 , -0.01472129, ...,  0.13837503,\n",
      "          -0.09167374,  0.1982468 ],\n",
      "         [ 0.03855083, -0.11292868,  0.02857419, ...,  0.20242198,\n",
      "           0.03202666,  0.16026783],\n",
      "         [-0.02968212, -0.09553071, -0.12167066, ...,  0.1766996 ,\n",
      "           0.03141356,  0.09173976]]],\n",
      "\n",
      "\n",
      "       [[[-0.08197163,  0.05134769, -0.01135995, ..., -0.04915233,\n",
      "           0.03068412,  0.1620789 ],\n",
      "         [-0.12724689,  0.07950544, -0.04930477, ..., -0.23555887,\n",
      "           0.0417157 ,  0.16655637],\n",
      "         [ 0.05194447,  0.02013512, -0.09938928, ..., -0.09532839,\n",
      "           0.03797237,  0.05193904]],\n",
      "\n",
      "        [[-0.09354831, -0.06418608,  0.10951147, ..., -0.21391132,\n",
      "          -0.09075254, -0.06105266],\n",
      "         [-0.03575884, -0.20561618,  0.09508934, ..., -0.17159785,\n",
      "           0.00251654, -0.02791365],\n",
      "         [-0.04587495, -0.22480898,  0.05572057, ..., -0.21676248,\n",
      "          -0.07900523, -0.07560623]],\n",
      "\n",
      "        [[-0.06924616,  0.09514013, -0.06172751, ...,  0.08046167,\n",
      "          -0.04335059, -0.26177502],\n",
      "         [-0.00850125,  0.07206756,  0.00523107, ...,  0.01277248,\n",
      "          -0.10041216, -0.2588786 ],\n",
      "         [ 0.02156321, -0.06394567, -0.07303385, ...,  0.01464553,\n",
      "           0.02380286, -0.22556335]]],\n",
      "\n",
      "\n",
      "       [[[-0.01036417,  0.21184216, -0.00363464, ..., -0.14457546,\n",
      "           0.0138787 ,  0.13503957],\n",
      "         [ 0.05477205,  0.2596722 ,  0.01555193, ..., -0.01322275,\n",
      "           0.06504789,  0.02325637],\n",
      "         [-0.08649924,  0.29977232, -0.05369093, ..., -0.01004528,\n",
      "           0.00808673,  0.04876905]],\n",
      "\n",
      "        [[-0.03768592, -0.00957833,  0.0429732 , ...,  0.08218697,\n",
      "          -0.05703538, -0.07849236],\n",
      "         [ 0.0489932 , -0.01530657,  0.03623243, ..., -0.0080359 ,\n",
      "           0.07053313, -0.10286183],\n",
      "         [-0.01033962,  0.01106413,  0.0708029 , ...,  0.05975145,\n",
      "          -0.01421141, -0.12437326]],\n",
      "\n",
      "        [[ 0.02402035, -0.21335559,  0.01488076, ..., -0.22298047,\n",
      "           0.01923233, -0.14403157],\n",
      "         [-0.00877158, -0.21389924, -0.0062914 , ..., -0.1055222 ,\n",
      "          -0.11475908, -0.02262161],\n",
      "         [-0.03723191, -0.04619417,  0.00446439, ..., -0.21911855,\n",
      "           0.05738601, -0.10865335]]]], dtype=float32)>, <tf.Variable 'conv2d/bias:0' shape=(64,) dtype=float32, numpy=\n",
      "array([-0.10123371, -0.04511283, -0.19131683,  0.17777888, -0.12976359,\n",
      "        0.12913875, -0.012101  ,  0.06659915, -0.0122261 , -0.27247706,\n",
      "       -0.1416292 , -0.16446234, -0.12274894, -0.17840776, -0.06556688,\n",
      "       -0.0735693 , -0.11138144,  0.01136004,  0.08716276, -0.11991304,\n",
      "       -0.04522196, -0.17446703,  0.06787827, -0.26416656, -0.1460371 ,\n",
      "       -0.0558974 , -0.18751498,  0.05518597, -0.20434986, -0.10394751,\n",
      "       -0.04440142, -0.15650153, -0.09348818, -0.12699664,  0.08780018,\n",
      "       -0.16198638, -0.13115482, -0.05514012, -0.16794516, -0.08703688,\n",
      "       -0.04317728,  0.04807284,  0.01944481,  0.03724978, -0.01516815,\n",
      "       -0.07946245, -0.06916744, -0.1426532 , -0.10541656, -0.00175931,\n",
      "        0.01829812, -0.10268392, -0.15614873,  0.07671937, -0.02420473,\n",
      "       -0.03694787, -0.07132243, -0.04065646, -0.15789782, -0.17590897,\n",
      "       -0.09151361, -0.07342317, -0.1440854 , -0.10060985], dtype=float32)>]\n"
     ]
    }
   ],
   "source": [
    "layer_number = 1\n",
    "print(\"quantity of layers in the model: \", len(model.layers))\n",
    "print(\"The weigths in the\", model.layers[layer_number].name, \"is: \", model.layers[layer_number].weights)"
   ]
  },
  {
   "attachments": {},
   "cell_type": "markdown",
   "metadata": {},
   "source": [
    "Indeed the weights of the \"Autoencoder\" model have been updated but the ones from the \"Encoder\" have not. This is expected, since the model that was trained was actually the \"Autoencoder\" mdoel."
   ]
  },
  {
   "attachments": {},
   "cell_type": "markdown",
   "metadata": {},
   "source": [
    "## Perform an Autoencoder reconstruction in one image"
   ]
  },
  {
   "attachments": {},
   "cell_type": "markdown",
   "metadata": {},
   "source": [
    "Get all batches generated by the datagen and pick a batch for prediction"
   ]
  },
  {
   "cell_type": "code",
   "execution_count": 30,
   "metadata": {},
   "outputs": [
    {
     "name": "stdout",
     "output_type": "stream",
     "text": [
      "number of batches are:  30\n"
     ]
    }
   ],
   "source": [
    "#Just to test the model. \n",
    "data_batch = []  #Capture all training batches as a numpy array\n",
    "img_num = 0\n",
    "# while img_num <= train_generator.batch_index:   #gets each generated batch of size batch_size\n",
    "while img_num < len(train_generator):        #I think this should be the correct while clause\n",
    "    data = next(train_crops)[0]\n",
    "    data_batch.append(data)\n",
    "    img_num = img_num + 1\n",
    "    \n",
    "print(\"number of batches are: \", img_num)\n",
    "\n"
   ]
  },
  {
   "cell_type": "code",
   "execution_count": 31,
   "metadata": {},
   "outputs": [
    {
     "name": "stdout",
     "output_type": "stream",
     "text": [
      "(5, 160, 128, 3)\n"
     ]
    }
   ],
   "source": [
    "print(data.shape)"
   ]
  },
  {
   "cell_type": "code",
   "execution_count": 32,
   "metadata": {},
   "outputs": [
    {
     "name": "stdout",
     "output_type": "stream",
     "text": [
      "30\n"
     ]
    }
   ],
   "source": [
    "print(len(data_batch))"
   ]
  },
  {
   "cell_type": "code",
   "execution_count": 33,
   "metadata": {},
   "outputs": [
    {
     "name": "stdout",
     "output_type": "stream",
     "text": [
      "(10, 160, 128, 3)\n"
     ]
    }
   ],
   "source": [
    "print(data_batch[1].shape)"
   ]
  },
  {
   "attachments": {},
   "cell_type": "markdown",
   "metadata": {},
   "source": [
    "Predict on the first batch of images. Do also notice that the prediction is being carried out over the images we used for training."
   ]
  },
  {
   "cell_type": "code",
   "execution_count": 34,
   "metadata": {},
   "outputs": [
    {
     "name": "stdout",
     "output_type": "stream",
     "text": [
      "(10, 160, 128, 3)\n"
     ]
    },
    {
     "name": "stderr",
     "output_type": "stream",
     "text": [
      "2023-06-11 11:35:49.702371: I tensorflow/stream_executor/platform/default/dso_loader.cc:44] Successfully opened dynamic library libcublas.so.10\n",
      "2023-06-11 11:35:49.883773: I tensorflow/stream_executor/platform/default/dso_loader.cc:44] Successfully opened dynamic library libcudnn.so.7\n"
     ]
    },
    {
     "name": "stdout",
     "output_type": "stream",
     "text": [
      "(10, 160, 128, 3)\n"
     ]
    }
   ],
   "source": [
    "print(data_batch[0].shape)\n",
    "predicted = model.predict(data_batch[0])  \n",
    "print(predicted.shape)"
   ]
  },
  {
   "attachments": {},
   "cell_type": "markdown",
   "metadata": {},
   "source": [
    "The above is 15 length because it corresponds to the 15 predicted images of a batch. Recall that the predictions are reconstructions of the input images, since we are working with the autoencoder network."
   ]
  },
  {
   "cell_type": "code",
   "execution_count": 35,
   "metadata": {},
   "outputs": [],
   "source": [
    "single_img = data_batch[0][0]"
   ]
  },
  {
   "cell_type": "code",
   "execution_count": 36,
   "metadata": {},
   "outputs": [
    {
     "name": "stdout",
     "output_type": "stream",
     "text": [
      "(160, 128, 3)\n"
     ]
    }
   ],
   "source": [
    "print(single_img.shape)"
   ]
  },
  {
   "cell_type": "code",
   "execution_count": 37,
   "metadata": {},
   "outputs": [
    {
     "data": {
      "image/png": "[encoded data removed]",
      "text/plain": [
       "<Figure size 1200x600 with 2 Axes>"
      ]
     },
     "metadata": {},
     "output_type": "display_data"
    }
   ],
   "source": [
    "#Sanity check, view few images and corresponding reconstructions\n",
    "image_number = random.randint(0, predicted.shape[0]-1)\n",
    "plt.figure(figsize=(12, 6))\n",
    "plt.subplot(121)\n",
    "plt.title(\"input image\")\n",
    "plt.imshow(data_batch[0][image_number])\n",
    "plt.subplot(122)\n",
    "plt.title(\"reconstructed image\")\n",
    "plt.imshow(predicted[image_number])\n",
    "plt.show()"
   ]
  },
  {
   "attachments": {},
   "cell_type": "markdown",
   "metadata": {},
   "source": [
    "# Quantifying the reconstruction error using \"evaluate_generator()\" function"
   ]
  },
  {
   "attachments": {},
   "cell_type": "markdown",
   "metadata": {},
   "source": [
    "Let us examine the reconstruction error of our validation data (good/normal images) and the anomaly images"
   ]
  },
  {
   "cell_type": "code",
   "execution_count": 38,
   "metadata": {},
   "outputs": [
    {
     "name": "stdout",
     "output_type": "stream",
     "text": [
      "WARNING:tensorflow:From /tmp/ipykernel_33084/1040139700.py:1: Model.evaluate_generator (from tensorflow.python.keras.engine.training) is deprecated and will be removed in a future version.\n",
      "Instructions for updating:\n",
      "Please use Model.evaluate, which supports generators.\n",
      "Recon. error for the validation (normal) data is:  0.006012328900396824\n"
     ]
    }
   ],
   "source": [
    "validation_error = model.evaluate_generator(val_crops, steps=len(validation_generator))\n",
    "print(\"Recon. error for the validation (normal) data is: \", validation_error)\n",
    "\n",
    "\n"
   ]
  },
  {
   "attachments": {},
   "cell_type": "markdown",
   "metadata": {},
   "source": [
    "This reconstruction error above should be very low, since the validation generator is full of normal images (good images)"
   ]
  },
  {
   "attachments": {},
   "cell_type": "markdown",
   "metadata": {},
   "source": [
    "Whereas the reconstruction error here below, for the \"anomaly_generator\" should be higher, since this dataset is comprised of full anomaly images."
   ]
  },
  {
   "cell_type": "code",
   "execution_count": 39,
   "metadata": {},
   "outputs": [
    {
     "name": "stdout",
     "output_type": "stream",
     "text": [
      "Recon. error for the anomaly data is:  0.010586066171526909\n"
     ]
    }
   ],
   "source": [
    "anomaly_error = model.evaluate_generator(anomaly_crops, steps=len(anomaly_generator))\n",
    "print(\"Recon. error for the anomaly data is: \", anomaly_error)"
   ]
  },
  {
   "attachments": {},
   "cell_type": "markdown",
   "metadata": {},
   "source": [
    "See that this error is slightly higher than the error in the validation dataset. This is good, but the difference is not that significant and this could result in wrong anomaly detections. Let's see some detections."
   ]
  },
  {
   "attachments": {},
   "cell_type": "markdown",
   "metadata": {},
   "source": [
    "SIDENOTE: Additionally, we can check the train generator error according to the \"evaluate_generator()\" function."
   ]
  },
  {
   "cell_type": "code",
   "execution_count": 40,
   "metadata": {},
   "outputs": [
    {
     "name": "stdout",
     "output_type": "stream",
     "text": [
      "Recon. error for the training (non-anomaly) data is:  0.006388398353010416\n"
     ]
    }
   ],
   "source": [
    "\n",
    "training_error = model.evaluate_generator(train_crops, steps=len(train_generator))\n",
    "print(\"Recon. error for the training (non-anomaly) data is: \", training_error)\n",
    "\n"
   ]
  },
  {
   "attachments": {},
   "cell_type": "markdown",
   "metadata": {},
   "source": [
    "See that the above value does not correspond with the below mean reconstruction error of the training set that will be computed. It should at least be close, I think. This is something to check."
   ]
  },
  {
   "attachments": {},
   "cell_type": "markdown",
   "metadata": {},
   "source": [
    "Also see tha the error from the anomaly images is smaller than the error of the training set, which consists of non-anomaly images. THis is not expected and means that this particular model is shit."
   ]
  },
  {
   "attachments": {},
   "cell_type": "markdown",
   "metadata": {},
   "source": [
    "# Computing the reconstruction error without using the \"evaluate_generator()\" function"
   ]
  },
  {
   "attachments": {},
   "cell_type": "markdown",
   "metadata": {},
   "source": [
    "The following function computes the reconstrution error per each batch of images. It does, for each of the batches:\n",
    "- Initialize a vector for storing the reconstruction errors.\n",
    "- A for loop that traverses all the images contained in a batch.\n",
    "    - Take the one image of the batch.\n",
    "    - Add a new size dimension to the image.\n",
    "    - Make a prediction of the selected image with the model that was built.\n",
    "    - Evaluate the performance of the prediction, i.e. compute the prediction error.\n",
    "    - Append the reconstruction error into a list.\n",
    "- Compute the mean and std deviation of the error.\n",
    " "
   ]
  },
  {
   "cell_type": "code",
   "execution_count": 41,
   "metadata": {},
   "outputs": [],
   "source": [
    "def calc_recon_error(batch_images):   \n",
    "    recon_error_list=[]\n",
    "    for im in range(0, batch_images.shape[0]):\n",
    "        img  = batch_images[im]\n",
    "        img = img[np.newaxis, :,:,:]\n",
    "        reconstruction = model.predict([[img]])\n",
    "        # reconstruction_error = model.evaluate([reconstruction],[[img]], batch_size = 1)[0]    # The batch_size parameter for the moment can be supressed. Results were seen to be the same\n",
    "        # reconstruction_error = model.evaluate([reconstruction],[[img]])[0]                    # It included the [0] subscription but with this new model, the rec error is directly a float value, so no more need for subscription\n",
    "        reconstruction_error = model.evaluate([reconstruction],[[img]])\n",
    "        recon_error_list.append(reconstruction_error)   \n",
    "    return recon_error_list"
   ]
  },
  {
   "cell_type": "code",
   "execution_count": 42,
   "metadata": {},
   "outputs": [
    {
     "name": "stdout",
     "output_type": "stream",
     "text": [
      "1/1 [==============================] - 0s 697us/step - loss: 0.0065\n",
      "1/1 [==============================] - 0s 590us/step - loss: 0.0067\n",
      "1/1 [==============================] - 0s 676us/step - loss: 0.0079\n",
      "1/1 [==============================] - 0s 832us/step - loss: 0.0085\n",
      "1/1 [==============================] - 0s 621us/step - loss: 0.0083\n",
      "1/1 [==============================] - 0s 716us/step - loss: 0.0065\n",
      "1/1 [==============================] - 0s 611us/step - loss: 0.0075\n",
      "1/1 [==============================] - 0s 596us/step - loss: 0.0074\n",
      "1/1 [==============================] - 0s 596us/step - loss: 0.0073\n",
      "1/1 [==============================] - 0s 583us/step - loss: 0.0070\n",
      "1/1 [==============================] - 0s 677us/step - loss: 0.0072\n",
      "1/1 [==============================] - 0s 715us/step - loss: 0.0079\n",
      "1/1 [==============================] - 0s 865us/step - loss: 0.0080\n",
      "1/1 [==============================] - 0s 593us/step - loss: 0.0080\n",
      "1/1 [==============================] - 0s 697us/step - loss: 0.0058\n",
      "1/1 [==============================] - 0s 709us/step - loss: 0.0059\n",
      "1/1 [==============================] - 0s 629us/step - loss: 0.0062\n",
      "1/1 [==============================] - 0s 603us/step - loss: 0.0072\n",
      "1/1 [==============================] - 0s 631us/step - loss: 0.0082\n",
      "1/1 [==============================] - 0s 643us/step - loss: 0.0078\n",
      "1/1 [==============================] - 0s 762us/step - loss: 0.0080\n",
      "1/1 [==============================] - 0s 1ms/step - loss: 0.0080\n",
      "1/1 [==============================] - 0s 598us/step - loss: 0.0066\n",
      "1/1 [==============================] - 0s 616us/step - loss: 0.0060\n",
      "1/1 [==============================] - 0s 648us/step - loss: 0.0059\n",
      "1/1 [==============================] - 0s 854us/step - loss: 0.0060\n",
      "1/1 [==============================] - 0s 608us/step - loss: 0.0059\n",
      "1/1 [==============================] - 0s 730us/step - loss: 0.0059\n",
      "1/1 [==============================] - 0s 662us/step - loss: 0.0071\n",
      "1/1 [==============================] - 0s 594us/step - loss: 0.0086\n",
      "1/1 [==============================] - 0s 594us/step - loss: 0.0096\n",
      "1/1 [==============================] - 0s 809us/step - loss: 0.0066\n",
      "1/1 [==============================] - 0s 729us/step - loss: 0.0062\n",
      "1/1 [==============================] - 0s 728us/step - loss: 0.0064\n",
      "1/1 [==============================] - 0s 602us/step - loss: 0.0063\n",
      "1/1 [==============================] - 0s 608us/step - loss: 0.0059\n",
      "1/1 [==============================] - 0s 829us/step - loss: 0.0058\n",
      "1/1 [==============================] - 0s 686us/step - loss: 0.0059\n",
      "1/1 [==============================] - 0s 808us/step - loss: 0.0059\n",
      "1/1 [==============================] - 0s 583us/step - loss: 0.0087\n",
      "1/1 [==============================] - 0s 648us/step - loss: 0.0088\n",
      "1/1 [==============================] - 0s 700us/step - loss: 0.0068\n",
      "1/1 [==============================] - 0s 697us/step - loss: 0.0069\n",
      "1/1 [==============================] - 0s 723us/step - loss: 0.0069\n",
      "1/1 [==============================] - 0s 648us/step - loss: 0.0068\n",
      "1/1 [==============================] - 0s 915us/step - loss: 0.0068\n",
      "1/1 [==============================] - 0s 895us/step - loss: 0.0072\n",
      "1/1 [==============================] - 0s 867us/step - loss: 0.0072\n",
      "1/1 [==============================] - 0s 764us/step - loss: 0.0083\n",
      "1/1 [==============================] - 0s 906us/step - loss: 0.0091\n",
      "1/1 [==============================] - 0s 1ms/step - loss: 0.0085\n",
      "1/1 [==============================] - 0s 663us/step - loss: 0.0066\n",
      "1/1 [==============================] - 0s 613us/step - loss: 0.0076\n",
      "1/1 [==============================] - 0s 682us/step - loss: 0.0073\n",
      "1/1 [==============================] - 0s 643us/step - loss: 0.0072\n",
      "1/1 [==============================] - 0s 628us/step - loss: 0.0074\n",
      "1/1 [==============================] - 0s 699us/step - loss: 0.0077\n",
      "1/1 [==============================] - 0s 826us/step - loss: 0.0076\n",
      "1/1 [==============================] - 0s 618us/step - loss: 0.0077\n",
      "1/1 [==============================] - 0s 600us/step - loss: 0.0078\n",
      "1/1 [==============================] - 0s 628us/step - loss: 0.0078\n",
      "1/1 [==============================] - 0s 609us/step - loss: 0.0068\n",
      "1/1 [==============================] - 0s 626us/step - loss: 0.0070\n",
      "1/1 [==============================] - 0s 642us/step - loss: 0.0069\n",
      "1/1 [==============================] - 0s 642us/step - loss: 0.0072\n",
      "1/1 [==============================] - 0s 837us/step - loss: 0.0074\n",
      "1/1 [==============================] - 0s 734us/step - loss: 0.0073\n",
      "1/1 [==============================] - 0s 714us/step - loss: 0.0072\n",
      "1/1 [==============================] - 0s 661us/step - loss: 0.0096\n",
      "1/1 [==============================] - 0s 871us/step - loss: 0.0078\n",
      "1/1 [==============================] - 0s 732us/step - loss: 0.0079\n",
      "1/1 [==============================] - 0s 614us/step - loss: 0.0079\n",
      "1/1 [==============================] - 0s 578us/step - loss: 0.0079\n",
      "1/1 [==============================] - 0s 662us/step - loss: 0.0078\n",
      "1/1 [==============================] - 0s 639us/step - loss: 0.0084\n",
      "1/1 [==============================] - 0s 662us/step - loss: 0.0102\n",
      "1/1 [==============================] - 0s 760us/step - loss: 0.0108\n",
      "1/1 [==============================] - 0s 740us/step - loss: 0.0106\n",
      "1/1 [==============================] - 0s 706us/step - loss: 0.0090\n",
      "1/1 [==============================] - 0s 787us/step - loss: 0.0080\n",
      "1/1 [==============================] - 0s 690us/step - loss: 0.0077\n",
      "1/1 [==============================] - 0s 685us/step - loss: 0.0077\n",
      "1/1 [==============================] - 0s 829us/step - loss: 0.0105\n",
      "1/1 [==============================] - 0s 640us/step - loss: 0.0092\n",
      "1/1 [==============================] - 0s 622us/step - loss: 0.0067\n",
      "1/1 [==============================] - 0s 611us/step - loss: 0.0069\n",
      "1/1 [==============================] - 0s 842us/step - loss: 0.0081\n",
      "1/1 [==============================] - 0s 1ms/step - loss: 0.0089\n",
      "1/1 [==============================] - 0s 828us/step - loss: 0.0106\n",
      "1/1 [==============================] - 0s 618us/step - loss: 0.0096\n",
      "1/1 [==============================] - 0s 594us/step - loss: 0.0088\n",
      "1/1 [==============================] - 0s 674us/step - loss: 0.0085\n",
      "1/1 [==============================] - 0s 727us/step - loss: 0.0086\n",
      "1/1 [==============================] - 0s 654us/step - loss: 0.0081\n",
      "1/1 [==============================] - 0s 594us/step - loss: 0.0077\n",
      "1/1 [==============================] - 0s 968us/step - loss: 0.0074\n",
      "1/1 [==============================] - 0s 686us/step - loss: 0.0076\n",
      "1/1 [==============================] - 0s 603us/step - loss: 0.0133\n",
      "1/1 [==============================] - 0s 778us/step - loss: 0.0131\n",
      "1/1 [==============================] - 0s 712us/step - loss: 0.0130\n",
      "1/1 [==============================] - 0s 743us/step - loss: 0.0132\n",
      "1/1 [==============================] - 0s 664us/step - loss: 0.0128\n",
      "1/1 [==============================] - 0s 608us/step - loss: 0.0139\n",
      "1/1 [==============================] - 0s 660us/step - loss: 0.0079\n",
      "1/1 [==============================] - 0s 689us/step - loss: 0.0070\n",
      "1/1 [==============================] - 0s 721us/step - loss: 0.0074\n",
      "1/1 [==============================] - 0s 607us/step - loss: 0.0117\n",
      "1/1 [==============================] - 0s 652us/step - loss: 0.0200\n",
      "1/1 [==============================] - 0s 728us/step - loss: 0.0145\n",
      "1/1 [==============================] - 0s 650us/step - loss: 0.0134\n",
      "1/1 [==============================] - 0s 642us/step - loss: 0.0131\n",
      "1/1 [==============================] - 0s 665us/step - loss: 0.0131\n",
      "1/1 [==============================] - 0s 632us/step - loss: 0.0129\n",
      "1/1 [==============================] - 0s 598us/step - loss: 0.0070\n",
      "1/1 [==============================] - 0s 713us/step - loss: 0.0067\n",
      "1/1 [==============================] - 0s 593us/step - loss: 0.0113\n",
      "1/1 [==============================] - 0s 595us/step - loss: 0.0115\n",
      "1/1 [==============================] - 0s 609us/step - loss: 0.0114\n",
      "1/1 [==============================] - 0s 850us/step - loss: 0.0109\n",
      "1/1 [==============================] - 0s 860us/step - loss: 0.0111\n",
      "1/1 [==============================] - 0s 818us/step - loss: 0.0119\n",
      "1/1 [==============================] - 0s 625us/step - loss: 0.0116\n",
      "1/1 [==============================] - 0s 634us/step - loss: 0.0065\n",
      "1/1 [==============================] - 0s 738us/step - loss: 0.0062\n",
      "1/1 [==============================] - 0s 751us/step - loss: 0.0061\n",
      "1/1 [==============================] - 0s 608us/step - loss: 0.0063\n",
      "1/1 [==============================] - 0s 832us/step - loss: 0.0071\n",
      "1/1 [==============================] - 0s 605us/step - loss: 0.0087\n",
      "1/1 [==============================] - 0s 722us/step - loss: 0.0094\n",
      "1/1 [==============================] - 0s 783us/step - loss: 0.0110\n",
      "1/1 [==============================] - 0s 780us/step - loss: 0.0058\n",
      "1/1 [==============================] - 0s 584us/step - loss: 0.0058\n",
      "1/1 [==============================] - 0s 922us/step - loss: 0.0062\n",
      "1/1 [==============================] - 0s 880us/step - loss: 0.0065\n",
      "1/1 [==============================] - 0s 575us/step - loss: 0.0067\n",
      "1/1 [==============================] - 0s 623us/step - loss: 0.0058\n",
      "1/1 [==============================] - 0s 633us/step - loss: 0.0061\n",
      "1/1 [==============================] - 0s 711us/step - loss: 0.0061\n",
      "1/1 [==============================] - 0s 650us/step - loss: 0.0061\n",
      "1/1 [==============================] - 0s 643us/step - loss: 0.0061\n",
      "1/1 [==============================] - 0s 674us/step - loss: 0.0061\n",
      "1/1 [==============================] - 0s 670us/step - loss: 0.0061\n",
      "1/1 [==============================] - 0s 664us/step - loss: 0.0067\n",
      "1/1 [==============================] - 0s 584us/step - loss: 0.0071\n",
      "1/1 [==============================] - 0s 666us/step - loss: 0.0133\n",
      "1/1 [==============================] - 0s 701us/step - loss: 0.0115\n",
      "1/1 [==============================] - 0s 607us/step - loss: 0.0113\n",
      "1/1 [==============================] - 0s 578us/step - loss: 0.0116\n",
      "1/1 [==============================] - 0s 661us/step - loss: 0.0100\n",
      "1/1 [==============================] - 0s 645us/step - loss: 0.0092\n",
      "1/1 [==============================] - 0s 644us/step - loss: 0.0090\n",
      "1/1 [==============================] - 0s 643us/step - loss: 0.0080\n",
      "1/1 [==============================] - 0s 613us/step - loss: 0.0092\n",
      "1/1 [==============================] - 0s 618us/step - loss: 0.0085\n",
      "1/1 [==============================] - 0s 666us/step - loss: 0.0091\n",
      "1/1 [==============================] - 0s 684us/step - loss: 0.0136\n",
      "1/1 [==============================] - 0s 609us/step - loss: 0.0144\n",
      "1/1 [==============================] - 0s 935us/step - loss: 0.0149\n",
      "1/1 [==============================] - 0s 833us/step - loss: 0.0147\n",
      "1/1 [==============================] - 0s 826us/step - loss: 0.0091\n",
      "1/1 [==============================] - 0s 808us/step - loss: 0.0091\n",
      "1/1 [==============================] - 0s 617us/step - loss: 0.0075\n",
      "1/1 [==============================] - 0s 667us/step - loss: 0.0084\n",
      "1/1 [==============================] - 0s 833us/step - loss: 0.0087\n",
      "1/1 [==============================] - 0s 594us/step - loss: 0.0086\n",
      "1/1 [==============================] - 0s 632us/step - loss: 0.0092\n",
      "1/1 [==============================] - 0s 657us/step - loss: 0.0093\n",
      "1/1 [==============================] - 0s 619us/step - loss: 0.0073\n",
      "1/1 [==============================] - 0s 608us/step - loss: 0.0058\n",
      "1/1 [==============================] - 0s 616us/step - loss: 0.0054\n",
      "1/1 [==============================] - 0s 705us/step - loss: 0.0056\n",
      "1/1 [==============================] - 0s 597us/step - loss: 0.0074\n",
      "1/1 [==============================] - 0s 664us/step - loss: 0.0076\n",
      "1/1 [==============================] - 0s 629us/step - loss: 0.0082\n",
      "1/1 [==============================] - 0s 855us/step - loss: 0.0079\n",
      "1/1 [==============================] - 0s 628us/step - loss: 0.0088\n",
      "1/1 [==============================] - 0s 601us/step - loss: 0.0093\n",
      "1/1 [==============================] - 0s 679us/step - loss: 0.0126\n",
      "1/1 [==============================] - 0s 695us/step - loss: 0.0104\n",
      "1/1 [==============================] - 0s 646us/step - loss: 0.0075\n",
      "1/1 [==============================] - 0s 635us/step - loss: 0.0071\n",
      "1/1 [==============================] - 0s 585us/step - loss: 0.0070\n",
      "1/1 [==============================] - 0s 613us/step - loss: 0.0072\n",
      "1/1 [==============================] - 0s 601us/step - loss: 0.0072\n",
      "1/1 [==============================] - 0s 728us/step - loss: 0.0083\n",
      "1/1 [==============================] - 0s 652us/step - loss: 0.0086\n",
      "1/1 [==============================] - 0s 610us/step - loss: 0.0080\n",
      "1/1 [==============================] - 0s 682us/step - loss: 0.0061\n",
      "1/1 [==============================] - 0s 794us/step - loss: 0.0061\n",
      "1/1 [==============================] - 0s 743us/step - loss: 0.0061\n",
      "1/1 [==============================] - 0s 725us/step - loss: 0.0061\n",
      "1/1 [==============================] - 0s 737us/step - loss: 0.0058\n",
      "1/1 [==============================] - 0s 776us/step - loss: 0.0057\n",
      "1/1 [==============================] - 0s 756us/step - loss: 0.0057\n",
      "1/1 [==============================] - 0s 801us/step - loss: 0.0086\n",
      "1/1 [==============================] - 0s 1ms/step - loss: 0.0069\n",
      "1/1 [==============================] - 0s 650us/step - loss: 0.0059\n",
      "1/1 [==============================] - 0s 629us/step - loss: 0.0059\n",
      "1/1 [==============================] - 0s 743us/step - loss: 0.0061\n",
      "1/1 [==============================] - 0s 799us/step - loss: 0.0061\n",
      "1/1 [==============================] - 0s 767us/step - loss: 0.0061\n",
      "1/1 [==============================] - 0s 840us/step - loss: 0.0093\n",
      "1/1 [==============================] - 0s 629us/step - loss: 0.0093\n",
      "1/1 [==============================] - 0s 590us/step - loss: 0.0122\n",
      "1/1 [==============================] - 0s 572us/step - loss: 0.0115\n",
      "1/1 [==============================] - 0s 614us/step - loss: 0.0107\n",
      "1/1 [==============================] - 0s 592us/step - loss: 0.0095\n",
      "1/1 [==============================] - 0s 1ms/step - loss: 0.0092\n",
      "1/1 [==============================] - 0s 625us/step - loss: 0.0079\n",
      "1/1 [==============================] - 0s 619us/step - loss: 0.0092\n",
      "1/1 [==============================] - 0s 666us/step - loss: 0.0088\n",
      "1/1 [==============================] - 0s 731us/step - loss: 0.0079\n",
      "1/1 [==============================] - 0s 686us/step - loss: 0.0080\n",
      "1/1 [==============================] - 0s 747us/step - loss: 0.0081\n",
      "1/1 [==============================] - 0s 712us/step - loss: 0.0078\n",
      "1/1 [==============================] - 0s 906us/step - loss: 0.0083\n",
      "1/1 [==============================] - 0s 821us/step - loss: 0.0129\n",
      "1/1 [==============================] - 0s 989us/step - loss: 0.0067\n",
      "1/1 [==============================] - 0s 727us/step - loss: 0.0059\n",
      "1/1 [==============================] - 0s 585us/step - loss: 0.0059\n",
      "1/1 [==============================] - 0s 658us/step - loss: 0.0060\n",
      "1/1 [==============================] - 0s 586us/step - loss: 0.0060\n",
      "1/1 [==============================] - 0s 648us/step - loss: 0.0060\n",
      "1/1 [==============================] - 0s 626us/step - loss: 0.0061\n",
      "1/1 [==============================] - 0s 626us/step - loss: 0.0059\n",
      "1/1 [==============================] - 0s 736us/step - loss: 0.0060\n",
      "1/1 [==============================] - 0s 597us/step - loss: 0.0060\n",
      "1/1 [==============================] - 0s 751us/step - loss: 0.0059\n",
      "1/1 [==============================] - 0s 716us/step - loss: 0.0060\n",
      "1/1 [==============================] - 0s 620us/step - loss: 0.0059\n",
      "1/1 [==============================] - 0s 1ms/step - loss: 0.0059\n",
      "1/1 [==============================] - 0s 1ms/step - loss: 0.0063\n",
      "1/1 [==============================] - 0s 1ms/step - loss: 0.0060\n",
      "1/1 [==============================] - 0s 1ms/step - loss: 0.0058\n",
      "1/1 [==============================] - 0s 807us/step - loss: 0.0064\n",
      "1/1 [==============================] - 0s 704us/step - loss: 0.0065\n",
      "1/1 [==============================] - 0s 635us/step - loss: 0.0064\n",
      "1/1 [==============================] - 0s 620us/step - loss: 0.0094\n",
      "1/1 [==============================] - 0s 586us/step - loss: 0.0092\n",
      "1/1 [==============================] - 0s 576us/step - loss: 0.0061\n",
      "1/1 [==============================] - 0s 649us/step - loss: 0.0061\n",
      "1/1 [==============================] - 0s 870us/step - loss: 0.0061\n",
      "1/1 [==============================] - 0s 679us/step - loss: 0.0061\n",
      "1/1 [==============================] - 0s 683us/step - loss: 0.0061\n",
      "1/1 [==============================] - 0s 849us/step - loss: 0.0058\n",
      "1/1 [==============================] - 0s 732us/step - loss: 0.0057\n",
      "1/1 [==============================] - 0s 779us/step - loss: 0.0057\n",
      "1/1 [==============================] - 0s 700us/step - loss: 0.0105\n",
      "1/1 [==============================] - 0s 643us/step - loss: 0.0107\n",
      "1/1 [==============================] - 0s 601us/step - loss: 0.0111\n",
      "1/1 [==============================] - 0s 726us/step - loss: 0.0113\n",
      "1/1 [==============================] - 0s 707us/step - loss: 0.0109\n",
      "1/1 [==============================] - 0s 609us/step - loss: 0.0118\n",
      "1/1 [==============================] - 0s 655us/step - loss: 0.0125\n",
      "1/1 [==============================] - 0s 953us/step - loss: 0.0125\n",
      "1/1 [==============================] - 0s 767us/step - loss: 0.0103\n",
      "1/1 [==============================] - 0s 626us/step - loss: 0.0095\n",
      "1/1 [==============================] - 0s 611us/step - loss: 0.0146\n",
      "1/1 [==============================] - 0s 673us/step - loss: 0.0106\n",
      "1/1 [==============================] - 0s 599us/step - loss: 0.0051\n",
      "1/1 [==============================] - 0s 674us/step - loss: 0.0051\n",
      "1/1 [==============================] - 0s 653us/step - loss: 0.0051\n",
      "1/1 [==============================] - 0s 654us/step - loss: 0.0050\n",
      "1/1 [==============================] - 0s 615us/step - loss: 0.0058\n",
      "1/1 [==============================] - 0s 626us/step - loss: 0.0061\n",
      "1/1 [==============================] - 0s 611us/step - loss: 0.0050\n",
      "1/1 [==============================] - 0s 601us/step - loss: 0.0051\n",
      "1/1 [==============================] - 0s 743us/step - loss: 0.0051\n",
      "1/1 [==============================] - 0s 622us/step - loss: 0.0050\n",
      "1/1 [==============================] - 0s 598us/step - loss: 0.0050\n",
      "1/1 [==============================] - 0s 608us/step - loss: 0.0050\n",
      "1/1 [==============================] - 0s 890us/step - loss: 0.0056\n",
      "1/1 [==============================] - 0s 635us/step - loss: 0.0084\n",
      "1/1 [==============================] - 0s 663us/step - loss: 0.0081\n",
      "1/1 [==============================] - 0s 595us/step - loss: 0.0115\n",
      "1/1 [==============================] - 0s 655us/step - loss: 0.0097\n",
      "1/1 [==============================] - 0s 646us/step - loss: 0.0097\n",
      "1/1 [==============================] - 0s 628us/step - loss: 0.0095\n",
      "1/1 [==============================] - 0s 974us/step - loss: 0.0074\n",
      "1/1 [==============================] - 0s 679us/step - loss: 0.0068\n",
      "1/1 [==============================] - 0s 719us/step - loss: 0.0074\n",
      "1/1 [==============================] - 0s 645us/step - loss: 0.0070\n",
      "1/1 [==============================] - 0s 653us/step - loss: 0.0067\n",
      "1/1 [==============================] - 0s 596us/step - loss: 0.0070\n",
      "1/1 [==============================] - 0s 715us/step - loss: 0.0070\n",
      "1/1 [==============================] - 0s 685us/step - loss: 0.0069\n",
      "1/1 [==============================] - 0s 927us/step - loss: 0.0077\n",
      "1/1 [==============================] - 0s 621us/step - loss: 0.0077\n",
      "1/1 [==============================] - 0s 704us/step - loss: 0.0076\n",
      "1/1 [==============================] - 0s 638us/step - loss: 0.0076\n",
      "1/1 [==============================] - 0s 691us/step - loss: 0.0070\n",
      "1/1 [==============================] - 0s 1ms/step - loss: 0.0067\n",
      "1/1 [==============================] - 0s 905us/step - loss: 0.0067\n",
      "1/1 [==============================] - 0s 732us/step - loss: 0.0069\n",
      "1/1 [==============================] - 0s 580us/step - loss: 0.0064\n",
      "The list of rec. error contains  30 batches of rec. errors\n"
     ]
    }
   ],
   "source": [
    "total_rec_error = []\n",
    "for i in range(len(train_generator)):        #I think this should be the correct while clause\n",
    "    data = next(train_crops)\n",
    "    total_rec_error.append(calc_recon_error(data[0]))\n",
    "    \n",
    "print(\"The list of rec. error contains \", len(total_rec_error), \"batches of rec. errors\")\n"
   ]
  },
  {
   "cell_type": "code",
   "execution_count": 43,
   "metadata": {},
   "outputs": [
    {
     "name": "stdout",
     "output_type": "stream",
     "text": [
      "295\n"
     ]
    }
   ],
   "source": [
    "total_rec_error_list = [item for sublist in total_rec_error for item in sublist]\n",
    "print(len(total_rec_error_list))\n"
   ]
  },
  {
   "cell_type": "code",
   "execution_count": 44,
   "metadata": {},
   "outputs": [
    {
     "name": "stdout",
     "output_type": "stream",
     "text": [
      "THIS IS FOR THE TRAINING (NON-ANOMALY) IMAGES\n",
      "\n",
      "The average of the errors list is:  0.008074111950788963\n",
      "The standard deviation of the errors list is:  0.0023225193850655696\n",
      "The min value of the errors list is:  0.005008947104215622\n",
      "The max value of the errors list is:  0.019989702850580215\n"
     ]
    }
   ],
   "source": [
    "na_average_recon_error = np.mean(np.array(total_rec_error_list))  \n",
    "na_stdev_recon_error = np.std(np.array(total_rec_error_list)) \n",
    "min_prob = np.min(total_rec_error_list)\n",
    "max_prob = np.max(total_rec_error_list)\n",
    "print(\"THIS IS FOR THE TRAINING (NON-ANOMALY) IMAGES\\n\")\n",
    "print(\"The average of the errors list is: \", na_average_recon_error)\n",
    "print(\"The standard deviation of the errors list is: \", na_stdev_recon_error)\n",
    "print(\"The min value of the errors list is: \", min_prob)\n",
    "print(\"The max value of the errors list is: \", max_prob)"
   ]
  },
  {
   "attachments": {},
   "cell_type": "markdown",
   "metadata": {},
   "source": [
    "Compute the average and std dev. of recon. error for positive (anomalies) samples. \n"
   ]
  },
  {
   "cell_type": "code",
   "execution_count": 45,
   "metadata": {},
   "outputs": [],
   "source": [
    "# anomaly_batch = anomaly_generator.next()\n",
    "\n",
    "# train_crops\n",
    "# val_crops\n",
    "# anomaly_crops\n",
    "# test_crops"
   ]
  },
  {
   "cell_type": "code",
   "execution_count": 46,
   "metadata": {},
   "outputs": [
    {
     "name": "stdout",
     "output_type": "stream",
     "text": [
      "1/1 [==============================] - 0s 617us/step - loss: 0.0066\n",
      "1/1 [==============================] - 0s 605us/step - loss: 0.0068\n",
      "1/1 [==============================] - 0s 597us/step - loss: 0.0092\n",
      "1/1 [==============================] - 0s 656us/step - loss: 0.0090\n",
      "1/1 [==============================] - 0s 691us/step - loss: 0.0246\n",
      "1/1 [==============================] - 0s 619us/step - loss: 0.0092\n",
      "1/1 [==============================] - 0s 676us/step - loss: 0.0087\n",
      "1/1 [==============================] - 0s 623us/step - loss: 0.0144\n",
      "1/1 [==============================] - 0s 578us/step - loss: 0.0089\n",
      "1/1 [==============================] - 0s 709us/step - loss: 0.0112\n",
      "The list of rec. error for anomalies contains  1 batches of rec. errors\n"
     ]
    }
   ],
   "source": [
    "total_rec_error_anomalies = []\n",
    "for i in range(len(anomaly_generator)):        #I think this should be the correct while clause\n",
    "    data = next(anomaly_crops)\n",
    "    total_rec_error_anomalies.append(calc_recon_error(data[0]))\n",
    "    \n",
    "print(\"The list of rec. error for anomalies contains \", len(total_rec_error_anomalies), \"batches of rec. errors\")\n"
   ]
  },
  {
   "cell_type": "code",
   "execution_count": 47,
   "metadata": {},
   "outputs": [
    {
     "name": "stdout",
     "output_type": "stream",
     "text": [
      "10\n"
     ]
    }
   ],
   "source": [
    "total_rec_error_anomalies = [item for sublist in total_rec_error_anomalies for item in sublist]\n",
    "print(len(total_rec_error_anomalies))"
   ]
  },
  {
   "cell_type": "code",
   "execution_count": 48,
   "metadata": {},
   "outputs": [
    {
     "name": "stdout",
     "output_type": "stream",
     "text": [
      "THIS IS FOR THE ANOMALY IMAGES\n",
      "\n",
      "The average of the errors list is:  0.010849869623780251\n",
      "The standard deviation of the errors list is:  0.005040606974931865\n",
      "The min value of the errors list is:  0.006615470163524151\n",
      "The max value of the errors list is:  0.024593595415353775\n"
     ]
    }
   ],
   "source": [
    "a_average_recon_error = np.mean(np.array(total_rec_error_anomalies))  \n",
    "a_stdev_recon_error = np.std(np.array(total_rec_error_anomalies)) \n",
    "min_prob = np.min(total_rec_error_anomalies)\n",
    "max_prob = np.max(total_rec_error_anomalies)\n",
    "print(\"THIS IS FOR THE ANOMALY IMAGES\\n\")\n",
    "print(\"The average of the errors list is: \", a_average_recon_error)\n",
    "print(\"The standard deviation of the errors list is: \", a_stdev_recon_error)\n",
    "print(\"The min value of the errors list is: \", min_prob)\n",
    "print(\"The max value of the errors list is: \", max_prob)"
   ]
  },
  {
   "attachments": {},
   "cell_type": "markdown",
   "metadata": {},
   "source": [
    "Compute the average and std dev. of recon. error for the validation (non-anomalies) samples. \n"
   ]
  },
  {
   "cell_type": "code",
   "execution_count": 49,
   "metadata": {},
   "outputs": [
    {
     "name": "stdout",
     "output_type": "stream",
     "text": [
      "1/1 [==============================] - 0s 691us/step - loss: 0.0078\n",
      "1/1 [==============================] - 0s 736us/step - loss: 0.0079\n",
      "1/1 [==============================] - 0s 773us/step - loss: 0.0074\n",
      "1/1 [==============================] - 0s 859us/step - loss: 0.0059\n",
      "1/1 [==============================] - 0s 857us/step - loss: 0.0059\n",
      "1/1 [==============================] - 0s 805us/step - loss: 0.0053\n",
      "1/1 [==============================] - 0s 824us/step - loss: 0.0050\n",
      "1/1 [==============================] - 0s 804us/step - loss: 0.0050\n",
      "1/1 [==============================] - 0s 973us/step - loss: 0.0049\n",
      "1/1 [==============================] - 0s 628us/step - loss: 0.0096\n",
      "1/1 [==============================] - 0s 745us/step - loss: 0.0068\n",
      "1/1 [==============================] - 0s 643us/step - loss: 0.0078\n",
      "1/1 [==============================] - 0s 1ms/step - loss: 0.0060\n",
      "1/1 [==============================] - 0s 916us/step - loss: 0.0069\n",
      "1/1 [==============================] - 0s 636us/step - loss: 0.0080\n",
      "1/1 [==============================] - 0s 605us/step - loss: 0.0079\n",
      "1/1 [==============================] - 0s 666us/step - loss: 0.0065\n",
      "1/1 [==============================] - 0s 588us/step - loss: 0.0168\n",
      "1/1 [==============================] - 0s 618us/step - loss: 0.0061\n",
      "1/1 [==============================] - 0s 622us/step - loss: 0.0093\n",
      "The list of rec. error for anomalies contains  2 batches of rec. errors\n"
     ]
    }
   ],
   "source": [
    "total_rec_error_validation = []\n",
    "for i in range(len(validation_generator)):        #I think this should be the correct while clause\n",
    "    data = next(val_crops)\n",
    "    total_rec_error_validation.append(calc_recon_error(data[0]))\n",
    "    \n",
    "print(\"The list of rec. error for anomalies contains \", len(total_rec_error_validation), \"batches of rec. errors\")\n",
    "\n",
    "# train_crops\n",
    "# val_crops\n",
    "# anomaly_crops\n",
    "# test_crops\n"
   ]
  },
  {
   "cell_type": "code",
   "execution_count": 50,
   "metadata": {},
   "outputs": [
    {
     "name": "stdout",
     "output_type": "stream",
     "text": [
      "20\n"
     ]
    }
   ],
   "source": [
    "total_rec_error_validation = [item for sublist in total_rec_error_validation for item in sublist]\n",
    "print(len(total_rec_error_validation))"
   ]
  },
  {
   "cell_type": "code",
   "execution_count": 51,
   "metadata": {},
   "outputs": [
    {
     "name": "stdout",
     "output_type": "stream",
     "text": [
      "THIS IS FOR THE VALIDATION IMAGES\n",
      "\n",
      "The average of the errors list is:  0.007334266905672848\n",
      "The standard deviation of the errors list is:  0.0025417532123913384\n",
      "The min value of the errors list is:  0.004908782429993153\n",
      "The max value of the errors list is:  0.016770023852586746\n"
     ]
    }
   ],
   "source": [
    "val_average_recon_error = np.mean(np.array(total_rec_error_validation))  \n",
    "val_stdev_recon_error = np.std(np.array(total_rec_error_validation)) \n",
    "min_prob = np.min(total_rec_error_validation)\n",
    "max_prob = np.max(total_rec_error_validation)\n",
    "print(\"THIS IS FOR THE VALIDATION IMAGES\\n\")\n",
    "print(\"The average of the errors list is: \", val_average_recon_error)\n",
    "print(\"The standard deviation of the errors list is: \", val_stdev_recon_error)\n",
    "print(\"The min value of the errors list is: \", min_prob)\n",
    "print(\"The max value of the errors list is: \", max_prob)"
   ]
  },
  {
   "attachments": {},
   "cell_type": "markdown",
   "metadata": {},
   "source": [
    "Below, we can see the plot of the reconstruction error values, of the non-anomaly list (blue) and the anomaly list (red)."
   ]
  },
  {
   "cell_type": "code",
   "execution_count": 52,
   "metadata": {},
   "outputs": [
    {
     "data": {
      "image/png": "[encoded data removed]",
      "text/plain": [
       "<Figure size 1000x1000 with 1 Axes>"
      ]
     },
     "metadata": {},
     "output_type": "display_data"
    }
   ],
   "source": [
    "plt.figure(figsize=(10, 10))\n",
    "val = 0. # this is the value where you want the data to appear on the y-axis.\n",
    "plt.plot(total_rec_error_list, np.zeros_like(total_rec_error_list) + val, 'x')\n",
    "plt.plot(total_rec_error_anomalies, np.zeros_like(total_rec_error_anomalies) + val, 'ro')\n",
    "plt.show()"
   ]
  },
  {
   "cell_type": "code",
   "execution_count": 53,
   "metadata": {},
   "outputs": [
    {
     "data": {
      "image/png": "[encoded data removed]",
      "text/plain": [
       "<Figure size 640x480 with 1 Axes>"
      ]
     },
     "metadata": {},
     "output_type": "display_data"
    }
   ],
   "source": [
    "import random\n",
    "import numpy\n",
    "from matplotlib import pyplot\n",
    "\n",
    "bins = numpy.linspace(0.004, 0.03, 50)\n",
    "\n",
    "pyplot.hist(total_rec_error_list, bins, alpha=0.5, label='errors non-anomalies')\n",
    "pyplot.hist(total_rec_error_anomalies, bins, alpha=0.5, label='errors anomalies')\n",
    "pyplot.legend(loc='upper right')\n",
    "pyplot.show()"
   ]
  },
  {
   "attachments": {},
   "cell_type": "markdown",
   "metadata": {},
   "source": [
    "## Checking the latent space"
   ]
  },
  {
   "attachments": {},
   "cell_type": "markdown",
   "metadata": {},
   "source": [
    "Let's update the weights of the encoder model."
   ]
  },
  {
   "cell_type": "code",
   "execution_count": 54,
   "metadata": {},
   "outputs": [
    {
     "name": "stdout",
     "output_type": "stream",
     "text": [
      "Layer weights are successfully copied.\n",
      "Layer weights are successfully copied.\n",
      "Layer weights are successfully copied.\n",
      "Layer weights are successfully copied.\n",
      "Layer weights are successfully copied.\n",
      "Layer weights are successfully copied.\n",
      "Layer weights are successfully copied.\n",
      "Layer weights are successfully copied.\n",
      "Layer weights are successfully copied.\n",
      "Layer weights are successfully copied.\n",
      "Layer weights are successfully copied.\n",
      "Layer weights are successfully copied.\n",
      "Layer weights are successfully copied.\n",
      "Layer weights are successfully copied.\n"
     ]
    }
   ],
   "source": [
    "# Copy the layer weights from the base model to the target model\n",
    "for i, target_layer in enumerate(encoder.layers):\n",
    "    base_layer = model.layers[i]\n",
    "    target_layer.set_weights(base_layer.get_weights())\n",
    "\n",
    "# Verify if the weights are successfully copied\n",
    "for base_layer, target_layer in zip(model.layers[:len(encoder.layers)], encoder.layers):\n",
    "    base_weights = base_layer.get_weights()\n",
    "    target_weights = target_layer.get_weights()\n",
    "    for base_weight, target_weight in zip(base_weights, target_weights):\n",
    "        if (base_weight == target_weight).all():\n",
    "            print(\"Layer weights are successfully copied.\")\n",
    "        else:\n",
    "            print(\"Error: Layer weights are not copied correctly.\")\n"
   ]
  },
  {
   "cell_type": "code",
   "execution_count": 55,
   "metadata": {},
   "outputs": [
    {
     "name": "stdout",
     "output_type": "stream",
     "text": [
      "WARNING:tensorflow:From /tmp/ipykernel_33084/269812568.py:6: Model.predict_generator (from tensorflow.python.keras.engine.training) is deprecated and will be removed in a future version.\n",
      "Instructions for updating:\n",
      "Please use Model.predict, which supports generators.\n"
     ]
    }
   ],
   "source": [
    "########################################################\n",
    "# Calculate KDE using sklearn\n",
    "from sklearn.neighbors import KernelDensity\n",
    "\n",
    "#Get encoded output of input images = Latent space\n",
    "encoded_images = encoder.predict_generator(train_crops, steps=len(train_generator))\n",
    "\n"
   ]
  },
  {
   "cell_type": "code",
   "execution_count": 56,
   "metadata": {},
   "outputs": [
    {
     "name": "stdout",
     "output_type": "stream",
     "text": [
      "(295, 40)\n"
     ]
    }
   ],
   "source": [
    "print(encoded_images.shape)"
   ]
  },
  {
   "attachments": {},
   "cell_type": "markdown",
   "metadata": {},
   "source": [
    "See that it is 179 length because it corresponds to all the images that belong to the training dataset. The second length corresponds to the output shape of the model as specified in its structure at the beginning."
   ]
  },
  {
   "cell_type": "code",
   "execution_count": 57,
   "metadata": {},
   "outputs": [
    {
     "data": {
      "text/plain": [
       "numpy.ndarray"
      ]
     },
     "execution_count": 57,
     "metadata": {},
     "output_type": "execute_result"
    }
   ],
   "source": [
    "type(encoded_images)"
   ]
  },
  {
   "cell_type": "code",
   "execution_count": 58,
   "metadata": {},
   "outputs": [
    {
     "name": "stdout",
     "output_type": "stream",
     "text": [
      "(None, 40)\n"
     ]
    }
   ],
   "source": [
    "encoder_output_shape = encoder.output_shape \n",
    "print(encoder_output_shape)"
   ]
  },
  {
   "attachments": {},
   "cell_type": "markdown",
   "metadata": {},
   "source": [
    "Now, let's fit KDE to the image latent data"
   ]
  },
  {
   "cell_type": "code",
   "execution_count": 59,
   "metadata": {},
   "outputs": [],
   "source": [
    "kde = KernelDensity(kernel='gaussian', bandwidth=0.2).fit(encoded_images)"
   ]
  },
  {
   "attachments": {},
   "cell_type": "markdown",
   "metadata": {},
   "source": [
    "The above function fits a kernel density estimation to the data that is provided, that is, the \"encoded_images\" variable. It does so using a Guassian kernel of bandwidth 0.2.\n",
    "\n",
    "The badnwidth parameter affects on how the selected kernel will fit each sample of the given data. For example for the case in which the kernel is a Gaussian distribution, the bandwidth parameter would affect in how thin or wide is the Gaussian distribution.\n",
    "\n",
    "At this point in the variable \"kde\" we have some numbers that are the result of fitting Gaussian functions to the given data points in the variable \"encoded_images\". We will use the \"kde\" variable later for scoring with it, some given data points; the scoring will be given depending on how similar are the given data points to the ones that it had estimated."
   ]
  },
  {
   "attachments": {},
   "cell_type": "markdown",
   "metadata": {},
   "source": [
    "Here below, it is shown the kde values corresponding to each encoded sample. THese are supposed to be very close to each other in value."
   ]
  },
  {
   "cell_type": "code",
   "execution_count": 60,
   "metadata": {},
   "outputs": [
    {
     "name": "stdout",
     "output_type": "stream",
     "text": [
      "[23.46906363 23.52895778 23.11881361 23.08182259 23.13659423 23.69640756\n",
      " 24.19120734 24.13516045 24.1850944  24.1054728  24.16551718 24.27459491\n",
      " 24.28262978 24.26597292 23.41954337 23.41858107 23.14963577 22.36274271\n",
      " 23.24481226 23.95702483 23.70999706 23.79304748 22.85613366 22.3678743\n",
      " 22.68320106 23.11496159 23.23733856 22.66244337 22.75884113 22.75775827\n",
      " 22.90116221 22.37177022 22.61280793 22.30420095 22.3266094  23.09314945\n",
      " 23.30277673 23.15571924 23.22310338 22.70076512 22.23962    24.00980736\n",
      " 24.10526205 24.07595036 24.17966683 24.22684113 23.36434627 22.96949533\n",
      " 22.95618832 22.30078583 22.08909893 23.23879171 24.03187547 24.05737211\n",
      " 23.4147158  23.27593334 22.9538671  22.580274   22.71699635 22.09483691\n",
      " 22.48690156 22.16737613 22.01997766 23.11018616 22.8646479  23.14336423\n",
      " 23.15491763 22.80960299 21.93505329 23.31363925 23.61315771 23.24125421\n",
      " 23.28714206 23.18292978 22.99695699 22.3259841  22.7659724  22.81315727\n",
      " 22.55426738 21.9346838  21.94441426 23.65471255 22.79541526 22.10556458\n",
      " 22.27952575 22.15089986 22.37888491 22.39022387 22.6198566  22.14284067\n",
      " 22.65395936 23.01430254 22.96517391 22.83601638 22.259584   22.40166952\n",
      " 22.31269885 22.71511847 22.57394047 22.31791291 22.55654729 22.7559176\n",
      " 22.61360521 23.12868468 23.05956391 22.98551804 22.26444007 21.93343562\n",
      " 22.38435348 22.41273054 22.62211856 22.4261978  22.80490868 22.27945701\n",
      " 22.27096093 22.53630184 22.4093555  22.21995715 22.48812743 22.51805317\n",
      " 22.58293436 22.54983027 22.20366567 22.14198926 22.05862519 22.38352191\n",
      " 22.02636228 21.96342882 22.20839143 22.22553893 23.47279263 23.35249228\n",
      " 23.71855974 22.97842408 22.50765469 23.51221671 23.02630437 23.76680085\n",
      " 23.58898501 23.76519286 23.84422891 23.68721836 22.86861587 22.18347843\n",
      " 22.37065808 21.93652993 22.09725011 22.1479018  22.67506334 22.99229496\n",
      " 23.31660703 21.97319775 21.95623529 22.00402699 22.10460317 21.94154306\n",
      " 22.12166145 22.34549282 22.10439956 23.19630844 23.0409169  22.89804036\n",
      " 22.79739606 23.03549859 23.08082067 22.94501322 23.26197452 21.93617019\n",
      " 23.03270357 23.36518116 22.73683702 22.12958401 22.09028651 22.82656248\n",
      " 22.31882878 23.11024    23.01977363 22.3577185  22.21265142 22.09299675\n",
      " 22.48164708 22.74346468 22.67826617 22.65384749 22.9384861  22.83273313\n",
      " 23.01848638 23.26615594 23.04096625 23.22737823 22.64877528 22.3758309\n",
      " 22.2541941  23.29242077 22.36940774 22.48292686 23.18274052 22.48989735\n",
      " 23.7701137  23.65736094 23.27121041 23.07294672 23.04940482 22.74356275\n",
      " 22.79143587 22.79611382 22.28011973 22.37221082 22.17712894 22.90643459\n",
      " 22.75503089 22.30874489 22.63394305 22.74000016 22.44336804 22.1784433\n",
      " 21.96044202 22.04587207 24.04847479 23.74804706 24.08373836 24.03992663\n",
      " 24.02208256 22.92770089 23.61359783 23.79129998 23.27234349 23.75555392\n",
      " 23.54075135 23.7979921  23.9613215  23.79348841 23.69256749 23.82903122\n",
      " 23.45271102 23.77619102 23.59920038 22.6732203  22.74884017 23.89714269\n",
      " 23.71579567 23.74856786 23.71323744 23.83840753 23.66937623 23.58181976\n",
      " 23.39213425 22.76570384 22.73099917 22.57399058 22.47880775 22.36264359\n",
      " 22.70010128 22.0590993  21.95044568 22.05301174 22.00084925 22.05606154\n",
      " 22.14072935 24.24483075 24.2395204  24.23015877 24.05263877 23.53843008\n",
      " 23.37263853 24.24881302 24.19390043 24.1623327  24.23015301 24.1715131\n",
      " 24.24275637 23.02802901 23.4074915  22.99386092 22.93832971 23.52308219\n",
      " 23.54154965 23.38773321 23.39116011 23.26206551 23.22677415 23.41190135\n",
      " 23.10513128 23.18929153 23.36053779 23.34847833 23.20068874 22.79319425\n",
      " 23.12426159 23.19585448 23.74056853 23.66697774 23.6897477  23.4830707\n",
      " 23.46108319]\n"
     ]
    }
   ],
   "source": [
    "density_vals = kde.score_samples(encoded_images)\n",
    "print(density_vals)"
   ]
  },
  {
   "attachments": {},
   "cell_type": "markdown",
   "metadata": {},
   "source": [
    "From here, the mean and standard deviation of these values are computed"
   ]
  },
  {
   "cell_type": "code",
   "execution_count": 61,
   "metadata": {},
   "outputs": [
    {
     "name": "stdout",
     "output_type": "stream",
     "text": [
      "The avg of the density values is:  22.97975066013292\n",
      "The stdev_density of the density values is:  0.6537864685675949\n"
     ]
    }
   ],
   "source": [
    "average_density = np.mean(density_vals)\n",
    "stdev_density = np.std(density_vals)\n",
    "print(\"The avg of the density values is: \", average_density)\n",
    "print(\"The stdev_density of the density values is: \", stdev_density)"
   ]
  },
  {
   "attachments": {},
   "cell_type": "markdown",
   "metadata": {},
   "source": [
    "based on the above data create a function that outputs a probability of a KDE value to be considered an anomaly or non-anomaly image"
   ]
  },
  {
   "cell_type": "code",
   "execution_count": 62,
   "metadata": {},
   "outputs": [],
   "source": [
    "def ranges_mapper(value, leftMin, leftMax, rightMin, rightMax):\n",
    "    # Figure out how 'wide' each range is\n",
    "    leftSpan = leftMax - leftMin\n",
    "    rightSpan = rightMax - rightMin\n",
    "\n",
    "    # Convert the left range into a 0-1 range (float)\n",
    "    valueScaled = float(value - leftMin) / float(leftSpan)\n",
    "\n",
    "    # Convert the 0-1 range into a value in the right range.\n",
    "    return rightMin + (valueScaled * rightSpan)"
   ]
  },
  {
   "cell_type": "code",
   "execution_count": 63,
   "metadata": {},
   "outputs": [],
   "source": [
    "# def map_kde2prob_list(input_list):\n",
    "#     threshold = average_density          # The mean of the kde corresponding to the non-anomaly images\n",
    "#     std_dev = stdev_density            # The std deviation of the kde corresponding to the non-anomaly images\n",
    "#     prob_score_list = []\n",
    "#     prob_score = 0              # This was changed for making threshold+std_dev be mapped to be 50% chance. Before it was directly mapped threshold value to 50% chance\n",
    "#     for i in range (len(input_list)):\n",
    "#         aux_score = input_list[i] - threshold\n",
    "#         if aux_score>=0:\n",
    "#             additional = ranges_mapper(aux_score, 0, std_dev, 0, 50)\n",
    "#             prob_score_tot = prob_score+additional\n",
    "#         else:\n",
    "#             additional = ranges_mapper(abs(aux_score), 0, std_dev, 0, 50)\n",
    "#             prob_score_tot = prob_score-additional\n",
    "#         if prob_score_tot > 100:\n",
    "#             prob_score_tot = 100\n",
    "#         if prob_score_tot < 0:\n",
    "#             prob_score_tot = 0\n",
    "#         prob_score_list.append(prob_score_tot)\n",
    "#     return prob_score_list"
   ]
  },
  {
   "cell_type": "code",
   "execution_count": 64,
   "metadata": {},
   "outputs": [],
   "source": [
    "# def map_kde2prob(value):\n",
    "#     threshold = average_density         # The mean of the kde corresponding to the non-anomaly images\n",
    "#     std_dev = stdev_density          # The std deviation of the kde corresponding to the non-anomaly images\n",
    "#     prob_score = 0              # This was changed for making threshold+std_dev be mapped to be 50% chance. Before it was directly mapped threshold value to 50% chance\n",
    "#     aux_score = value - threshold\n",
    "#     print(\"value is: \", value)\n",
    "#     print(\"aux_score is: \", aux_score)\n",
    "        \n",
    "#     if aux_score>=0:\n",
    "#         additional = ranges_mapper(aux_score, 0, std_dev, 0, 50)\n",
    "#         print(\"additional is: \", additional)\n",
    "#         prob_score_tot = prob_score+additional\n",
    "#         print(\"prob_score_tot is: \", prob_score_tot)\n",
    "        \n",
    "#     else:\n",
    "#         additional = ranges_mapper(abs(aux_score), 0, std_dev, 0, 50)\n",
    "#         prob_score_tot = prob_score-additional\n",
    "#     if prob_score_tot > 100:\n",
    "#         prob_score_tot = 100\n",
    "#     if prob_score_tot < 0:\n",
    "#         prob_score_tot = 0    \n",
    "#     return prob_score_tot"
   ]
  },
  {
   "cell_type": "code",
   "execution_count": 65,
   "metadata": {},
   "outputs": [],
   "source": [
    "def map_kde2prob_list(input_list):\n",
    "    threshold = average_density          # The mean of the kde corresponding to the non-anomaly images\n",
    "    std_dev = stdev_density            # The std deviation of the kde corresponding to the non-anomaly images\n",
    "    prob_score_list =[]\n",
    "    for i in range (len(input_list)):\n",
    "        aux_score = input_list[i] - threshold\n",
    "        prob_score = ranges_mapper(abs(aux_score), 0, std_dev, 0, 50)\n",
    "        if prob_score<0:\n",
    "            prob_score = 0\n",
    "        if prob_score>100:\n",
    "            prob_score = 100     \n",
    "        prob_score_list.append(prob_score)\n",
    "    return prob_score_list"
   ]
  },
  {
   "cell_type": "code",
   "execution_count": 66,
   "metadata": {},
   "outputs": [],
   "source": [
    "def map_kde2prob(value):\n",
    "    threshold = average_density         # The mean of the kde corresponding to the non-anomaly images\n",
    "    std_dev = stdev_density          # The std deviation of the kde corresponding to the non-anomaly images\n",
    "    \n",
    "    aux_score = value - threshold\n",
    "    prob_score = ranges_mapper(abs(aux_score), 0, std_dev, 0, 50)\n",
    "    if prob_score<0:\n",
    "            prob_score = 0\n",
    "    if prob_score>100:\n",
    "        prob_score = 100 \n",
    "    return prob_score"
   ]
  },
  {
   "cell_type": "code",
   "execution_count": 67,
   "metadata": {},
   "outputs": [],
   "source": [
    "def computePred_kde(kde_value):\n",
    "    pred = 0\n",
    "    prob_anomaly = map_kde2prob(kde_value)/100\n",
    "    if prob_anomaly > 0.5:\n",
    "        pred = 1\n",
    "    return pred"
   ]
  },
  {
   "cell_type": "code",
   "execution_count": 68,
   "metadata": {},
   "outputs": [
    {
     "name": "stdout",
     "output_type": "stream",
     "text": [
      "[50.00000000000006]\n"
     ]
    }
   ],
   "source": [
    "print(map_kde2prob_list([average_density - 1*stdev_density]))"
   ]
  },
  {
   "cell_type": "code",
   "execution_count": 69,
   "metadata": {},
   "outputs": [
    {
     "name": "stdout",
     "output_type": "stream",
     "text": [
      "[[0.0, 0.0, 0.0, 0.0, 0.0, 0.0, 0.0, 0.0, 0.0, 0.0], [0.0, 0.0, 0.0, 0.0, 0.0, 0.0, 0.0, 0.0, 0.0, 0.0], [1.0, 1.0, 1.0, 1.0, 1.0, 1.0, 1.0, 1.0, 1.0, 1.0]]\n",
      "[[0, 1, 1, 1, 0, 1, 1, 1, 1, 1], [1, 1, 1, 1, 0, 0, 1, 1, 0, 0], [1, 1, 1, 1, 1, 1, 1, 1, 1, 1]]\n",
      "[[1.6377472918772964, 60.50483048449629, 79.85394838458359, 71.42644374050897, 16.483174366151143, 100, 100, 100, 77.41613511163008, 100], [100, 61.132997313360136, 66.45052723995991, 95.04938009397299, 49.12460118928082, 7.001407064648843, 100, 68.07574152743044, 18.895672496511782, 6.441995010677751], [100, 100, 100, 100, 100, 100, 74.49570813712371, 100, 100, 100]]\n"
     ]
    }
   ],
   "source": [
    "y_pred_kde_final = []\n",
    "ground_truth = []\n",
    "y_prob_kde_final = []\n",
    "for i in range(len(test_set_generator)):        # Traversing all the batches of the test set\n",
    "    batch_images, labels = next(test_crops)\n",
    "    y_pred_kde = []\n",
    "    y_true = []\n",
    "    y_prob_kde = []\n",
    "    for im in range(0, batch_images.shape[0]):  #Traversing all the images in the batch\n",
    "        img  = batch_images[im]\n",
    "        img = img[np.newaxis, :,:,:]\n",
    "        encoded_image_test_set = encoder.predict([[img]])\n",
    "        densityValue_test = kde.score_samples(encoded_image_test_set)\n",
    "        prob_kde_test = map_kde2prob(densityValue_test)\n",
    "        prediction = computePred_kde(densityValue_test)  \n",
    "        y_pred_kde.append(prediction) # Save Prediction\n",
    "        y_true.append(labels[im])\n",
    "        # y_true.append(labels[im]) # Save Truth  \n",
    "        y_prob_kde.append(prob_kde_test) # Save probability  \n",
    "\n",
    "    y_pred_kde_final.append(y_pred_kde)  \n",
    "    ground_truth.append(y_true)  \n",
    "    y_prob_kde_final.append(y_prob_kde)  \n",
    "print(ground_truth)\n",
    "print(y_pred_kde_final)\n",
    "print(y_prob_kde_final)\n",
    "\n"
   ]
  },
  {
   "cell_type": "code",
   "execution_count": 70,
   "metadata": {},
   "outputs": [
    {
     "name": "stdout",
     "output_type": "stream",
     "text": [
      "[0, 0, 0, 0, 0, 0, 0, 0, 0, 0, 0, 0, 0, 0, 0, 0, 0, 0, 0, 0, 1, 1, 1, 1, 1, 1, 1, 1, 1, 1]\n",
      "[0, 1, 1, 1, 0, 1, 1, 1, 1, 1, 1, 1, 1, 1, 0, 0, 1, 1, 0, 0, 1, 1, 1, 1, 1, 1, 1, 1, 1, 1]\n",
      "[1.6377472918772964, 60.50483048449629, 79.85394838458359, 71.42644374050897, 16.483174366151143, 100, 100, 100, 77.41613511163008, 100, 100, 61.132997313360136, 66.45052723995991, 95.04938009397299, 49.12460118928082, 7.001407064648843, 100, 68.07574152743044, 18.895672496511782, 6.441995010677751, 100, 100, 100, 100, 100, 100, 74.49570813712371, 100, 100, 100]\n"
     ]
    }
   ],
   "source": [
    "ground_truth = [item for sublist in ground_truth for item in sublist]\n",
    "ground_truth = [int(i) for i in ground_truth]\n",
    "y_pred_kde_final = [item for sublist in y_pred_kde_final for item in sublist]\n",
    "y_prob_kde_final = [item for sublist in y_prob_kde_final for item in sublist]\n",
    "print(ground_truth)\n",
    "print(y_pred_kde_final)\n",
    "print(y_prob_kde_final)"
   ]
  },
  {
   "attachments": {},
   "cell_type": "markdown",
   "metadata": {},
   "source": [
    "Below commented section is just another way of computing the predicions and probabilitis shown above. THis approach computes separately the labels of the test set and their probabilities "
   ]
  },
  {
   "cell_type": "code",
   "execution_count": 71,
   "metadata": {},
   "outputs": [],
   "source": [
    "# ground_truth = []\n",
    "# for i in range(len(test_set_generator)):        #I think this should be the correct while clause\n",
    "#     _, labels = next(test_crops)\n",
    "#     ground_truth.append(labels)\n",
    "    \n",
    "# print(\"The list of rec. error for anomalies contains \", len(ground_truth), \"batches of rec. errors\")\n",
    "\n",
    "# print(ground_truth)\n",
    "# #Get encoded output of input images = Latent space\n",
    "# encoded_images_test_set = encoder.predict_generator(test_crops, steps=len(test_set_generator))\n",
    "# print(encoded_images_test_set.shape)\n",
    "\n",
    "# density_vals_test = kde.score_samples(encoded_images_test_set)\n",
    "# print(density_vals_test)\n",
    "\n",
    "# average_density + stdev_density\n",
    "# average_density - stdev_density\n",
    "\n",
    "# prob_test = map_kde2prob_list(density_vals_test)\n",
    "# print(prob_test)\n",
    "\n",
    "# ground_truth = [item for sublist in ground_truth for item in sublist]\n",
    "# ground_truth = [int(x) for x in ground_truth]\n",
    "\n",
    "# pred_list =[]\n",
    "# for i in range(len(prob_test)):\n",
    "    \n",
    "#     if(prob_test[i]>50):\n",
    "#         pred = 1\n",
    "#     else:\n",
    "#         pred = 0\n",
    "#     pred_list.append(pred)\n",
    "# print(ground_truth)\n",
    "# print(pred_list)"
   ]
  },
  {
   "cell_type": "code",
   "execution_count": 72,
   "metadata": {},
   "outputs": [
    {
     "name": "stdout",
     "output_type": "stream",
     "text": [
      "AUC =  0.8200000000000001\n"
     ]
    }
   ],
   "source": [
    "from sklearn import metrics\n",
    "print('AUC = ', metrics.roc_auc_score(ground_truth, y_prob_kde_final))"
   ]
  },
  {
   "cell_type": "code",
   "execution_count": 73,
   "metadata": {},
   "outputs": [
    {
     "data": {
      "image/png": "[encoded data removed]",
      "text/plain": [
       "<Figure size 640x480 with 1 Axes>"
      ]
     },
     "metadata": {},
     "output_type": "display_data"
    }
   ],
   "source": [
    "fpr, tpr, thresholds = metrics.roc_curve(ground_truth, y_prob_kde_final)\n",
    "plt.plot(fpr, tpr, marker='.', label='AUROC = %0.3f' % metrics.roc_auc_score(ground_truth, y_prob_kde_final))\n",
    "# Title\n",
    "plt.title('ROC Plot')\n",
    "# Axis labels\n",
    "plt.xlabel('False Positive Rate')\n",
    "plt.ylabel('True Positive Rate')\n",
    "# Show legend\n",
    "plt.legend() # \n",
    "# Show plot\n",
    "plt.show()"
   ]
  },
  {
   "cell_type": "code",
   "execution_count": 74,
   "metadata": {},
   "outputs": [
    {
     "name": "stdout",
     "output_type": "stream",
     "text": [
      "The fpr is:  [0.   0.3  0.45 0.45 1.  ]\n",
      "The tpr is:  [0.  0.9 0.9 1.  1. ]\n",
      "The thresholds are:  [101.         100.          77.41613511  74.49570814   1.63774729]\n"
     ]
    }
   ],
   "source": [
    "print(\"The fpr is: \", fpr)\n",
    "print(\"The tpr is: \", tpr)\n",
    "print(\"The thresholds are: \", thresholds)"
   ]
  },
  {
   "attachments": {},
   "cell_type": "markdown",
   "metadata": {},
   "source": [
    "FRom above we can see that the results are not that good; these could be improved. HOwever these results are not as bad as the previous programs. "
   ]
  },
  {
   "attachments": {},
   "cell_type": "markdown",
   "metadata": {},
   "source": [
    "FRom the above graph, it is seen that the best threshold could be:  1.63774259. Let's see if we obtain what we expect (FPR = 0.45 and TPR = 1.0).\n",
    "\n",
    "- NOTE: Notice, that it was previously accorded that the thresholds shown by the metrics.roc_auc_score(ground_truth, prob_test) functions were going to be considered as 100-x to effectively test the FPR and TPR values. However in this case, strangely, see that directly using the threshold displayed by the function is used. It is not known yet why this happens. "
   ]
  },
  {
   "cell_type": "code",
   "execution_count": 75,
   "metadata": {},
   "outputs": [],
   "source": [
    "def pred_label_onProb(probs_list, prob_threshold):\n",
    "    pred_based_onProb = []\n",
    "    for i in range (len(probs_list)):\n",
    "        if probs_list[i] > prob_threshold:\n",
    "            prediction = 1                          ## Stands for classifiaction of anomaly bottle\n",
    "        else:\n",
    "            prediction = 0\n",
    "        pred_based_onProb.append(prediction)\n",
    "    return pred_based_onProb"
   ]
  },
  {
   "cell_type": "code",
   "execution_count": 76,
   "metadata": {},
   "outputs": [],
   "source": [
    "# from tensorflow.keras.metrics import Precision, Recall, BinaryAccuracy, SpecificityAtSensitivity\n",
    "from sklearn.metrics import confusion_matrix"
   ]
  },
  {
   "cell_type": "code",
   "execution_count": 77,
   "metadata": {},
   "outputs": [
    {
     "name": "stdout",
     "output_type": "stream",
     "text": [
      "[[11  9]\n",
      " [ 0 10]]\n",
      "The FPR values are:  0.45\n",
      "The TPR values are:  1.0\n",
      "Using the threshold = 74.49570045\n"
     ]
    }
   ],
   "source": [
    "conf_matrix = confusion_matrix(ground_truth, pred_label_onProb(y_prob_kde_final, (74.49570045)))\n",
    "print(conf_matrix)\n",
    "_tp = conf_matrix[1, 1]\n",
    "_fn = conf_matrix[1, 0]\n",
    "_fp = conf_matrix[0, 1]\n",
    "_tn = conf_matrix[0, 0]\n",
    "_tpr = _tp/(_tp+_fn)\n",
    "_fpr = _fp / (_tn + _fp)\n",
    "print(\"The FPR values are: \", _fpr)\n",
    "print(\"The TPR values are: \", _tpr)\n",
    "print(\"Using the threshold = 74.49570045\")"
   ]
  },
  {
   "attachments": {},
   "cell_type": "markdown",
   "metadata": {},
   "source": [
    "Actually, the threshold= 74.49570045 is the one that corresonds to FPR = 0.45 and TPR = 1.0"
   ]
  },
  {
   "attachments": {},
   "cell_type": "markdown",
   "metadata": {},
   "source": [
    "## Trehshold based on Gaussian distribution of the non-anomaly images"
   ]
  },
  {
   "cell_type": "code",
   "execution_count": 78,
   "metadata": {},
   "outputs": [],
   "source": [
    "def map_error2prob(value):\n",
    "    # Calculate the mean and standard deviation\n",
    "    mean = na_average_recon_error\n",
    "    std_dev = na_stdev_recon_error\n",
    "    aux_score = value - mean\n",
    "    prob_score = ranges_mapper(abs(aux_score), 0, std_dev, 0, 50)\n",
    "    if prob_score<0:\n",
    "        prob_score = 0\n",
    "    if prob_score>100:\n",
    "        prob_score = 100\n",
    "    return prob_score"
   ]
  },
  {
   "attachments": {},
   "cell_type": "markdown",
   "metadata": {},
   "source": [
    "See below test, that shows if a reconstruction error is equal to the mean of the reconstruction error plus its standard deviation has 50% chance of being predicted as anomaly image."
   ]
  },
  {
   "cell_type": "code",
   "execution_count": 79,
   "metadata": {},
   "outputs": [
    {
     "name": "stdout",
     "output_type": "stream",
     "text": [
      "50.000000000000014\n"
     ]
    }
   ],
   "source": [
    "print(map_error2prob(na_average_recon_error + na_stdev_recon_error))"
   ]
  },
  {
   "cell_type": "code",
   "execution_count": 80,
   "metadata": {},
   "outputs": [],
   "source": [
    "def map_error2prob_list(input_list):\n",
    "    # Calculate the mean and standard deviation\n",
    "    mean = na_average_recon_error\n",
    "    std_dev = na_stdev_recon_error\n",
    "    prob_score_list = []\n",
    "    for i in range (len(input_list)):\n",
    "        aux_score = input_list[i] - mean\n",
    "        prob_score = ranges_mapper(abs(aux_score), 0, std_dev, 0, 50)\n",
    "        if prob_score<0:\n",
    "            prob_score = 0\n",
    "        if prob_score>100:\n",
    "            prob_score = 100\n",
    "        prob_score_list.append(prob_score)\n",
    "    return prob_score_list"
   ]
  },
  {
   "cell_type": "code",
   "execution_count": 81,
   "metadata": {},
   "outputs": [],
   "source": [
    "def computePred(err_value):\n",
    "    pred = 0\n",
    "    prob_anomaly = map_error2prob(err_value)/100\n",
    "    if prob_anomaly > 0.5:\n",
    "        pred = 1\n",
    "    else:\n",
    "        pred =0 \n",
    "    return pred"
   ]
  },
  {
   "cell_type": "code",
   "execution_count": 82,
   "metadata": {},
   "outputs": [
    {
     "name": "stdout",
     "output_type": "stream",
     "text": [
      "1/1 [==============================] - 0s 932us/step - loss: 0.0076\n",
      "1/1 [==============================] - 0s 906us/step - loss: 0.0081\n",
      "1/1 [==============================] - 0s 625us/step - loss: 0.0080\n",
      "1/1 [==============================] - 0s 713us/step - loss: 0.0097\n",
      "1/1 [==============================] - 0s 988us/step - loss: 0.0073\n",
      "1/1 [==============================] - 0s 792us/step - loss: 0.0068\n",
      "1/1 [==============================] - 0s 640us/step - loss: 0.0097\n",
      "1/1 [==============================] - 0s 703us/step - loss: 0.0104\n",
      "1/1 [==============================] - 0s 639us/step - loss: 0.0131\n",
      "1/1 [==============================] - 0s 605us/step - loss: 0.0133\n",
      "1/1 [==============================] - 0s 726us/step - loss: 0.0210\n",
      "1/1 [==============================] - 0s 609us/step - loss: 0.0087\n",
      "1/1 [==============================] - 0s 777us/step - loss: 0.0112\n",
      "1/1 [==============================] - 0s 964us/step - loss: 0.0079\n",
      "1/1 [==============================] - 0s 830us/step - loss: 0.0085\n",
      "1/1 [==============================] - 0s 749us/step - loss: 0.0058\n",
      "1/1 [==============================] - 0s 628us/step - loss: 0.0126\n",
      "1/1 [==============================] - 0s 582us/step - loss: 0.0052\n",
      "1/1 [==============================] - 0s 791us/step - loss: 0.0068\n",
      "1/1 [==============================] - 0s 608us/step - loss: 0.0070\n",
      "1/1 [==============================] - 0s 670us/step - loss: 0.0067\n",
      "1/1 [==============================] - 0s 606us/step - loss: 0.0092\n",
      "1/1 [==============================] - 0s 683us/step - loss: 0.0074\n",
      "1/1 [==============================] - 0s 582us/step - loss: 0.0121\n",
      "1/1 [==============================] - 0s 643us/step - loss: 0.0071\n",
      "1/1 [==============================] - 0s 792us/step - loss: 0.0156\n",
      "1/1 [==============================] - 0s 592us/step - loss: 0.0094\n",
      "1/1 [==============================] - 0s 746us/step - loss: 0.0071\n",
      "1/1 [==============================] - 0s 987us/step - loss: 0.0085\n",
      "1/1 [==============================] - 0s 683us/step - loss: 0.0104\n",
      "[[0.0, 0.0, 0.0, 0.0, 0.0, 0.0, 0.0, 0.0, 0.0, 0.0], [0.0, 0.0, 0.0, 0.0, 0.0, 0.0, 0.0, 0.0, 0.0, 0.0], [1.0, 1.0, 1.0, 1.0, 1.0, 1.0, 1.0, 1.0, 1.0, 1.0]]\n",
      "[[0, 0, 0, 0, 0, 0, 0, 0, 1, 1], [1, 0, 1, 0, 0, 0, 1, 1, 0, 0], [0, 0, 0, 1, 0, 1, 0, 0, 0, 1]]\n",
      "[[9.861434654330274, 0.529261625780871, 2.371989490971472, 35.903645352763526, 17.279131485798025, 26.87328795052074, 35.628962623433544, 49.59421352942074, 100, 100], [100, 12.480205933071959, 67.62202200219836, 4.69368009867181, 9.20847397890652, 49.84950579217801, 97.85795400629014, 62.660918811388086, 26.910269869809, 23.528494400320376], [30.39430951892883, 23.40131055355245, 15.333335170760357, 85.95087873635482, 20.649338200919978, 100, 27.61746990059084, 20.77845913353933, 9.826911116584133, 50.803198485323556]]\n"
     ]
    }
   ],
   "source": [
    "y_pred_final = []\n",
    "y_true_final = []\n",
    "y_prob_final = []\n",
    "for i in range(len(test_set_generator)):        # Traversing all the batches of the test set\n",
    "    batch_images, labels = next(test_crops)\n",
    "    y_pred = []\n",
    "    y_true = []\n",
    "    y_prob = []\n",
    "    for im in range(0, batch_images.shape[0]):  #Traversing all the images in the batch\n",
    "        img  = batch_images[im]\n",
    "        img = img[np.newaxis, :,:,:]\n",
    "        reconstruction = model.predict([[img]])\n",
    "        reconstruction_error = model.evaluate([reconstruction],[[img]])\n",
    "        probability = map_error2prob(reconstruction_error)\n",
    "        prediction = computePred(reconstruction_error)   \n",
    "        y_pred.append(prediction) # Save Prediction\n",
    "        y_true.append(labels[im]) # Save Truth  \n",
    "        y_prob.append(probability) # Save probability  \n",
    "    y_pred_final.append(y_pred)  \n",
    "    y_true_final.append(y_true)  \n",
    "    y_prob_final.append(y_prob)  \n",
    "print(y_true_final)\n",
    "print(y_pred_final)\n",
    "print(y_prob_final)\n",
    "\n",
    "\n",
    "# train_crops\n",
    "# val_crops\n",
    "# anomaly_crops\n",
    "# test_crops\n",
    " "
   ]
  },
  {
   "cell_type": "code",
   "execution_count": 83,
   "metadata": {},
   "outputs": [
    {
     "name": "stdout",
     "output_type": "stream",
     "text": [
      "[0, 0, 0, 0, 0, 0, 0, 0, 0, 0, 0, 0, 0, 0, 0, 0, 0, 0, 0, 0, 1, 1, 1, 1, 1, 1, 1, 1, 1, 1]\n",
      "[0, 0, 0, 0, 0, 0, 0, 0, 1, 1, 1, 0, 1, 0, 0, 0, 1, 1, 0, 0, 0, 0, 0, 1, 0, 1, 0, 0, 0, 1]\n",
      "[9.861434654330274, 0.529261625780871, 2.371989490971472, 35.903645352763526, 17.279131485798025, 26.87328795052074, 35.628962623433544, 49.59421352942074, 100, 100, 100, 12.480205933071959, 67.62202200219836, 4.69368009867181, 9.20847397890652, 49.84950579217801, 97.85795400629014, 62.660918811388086, 26.910269869809, 23.528494400320376, 30.39430951892883, 23.40131055355245, 15.333335170760357, 85.95087873635482, 20.649338200919978, 100, 27.61746990059084, 20.77845913353933, 9.826911116584133, 50.803198485323556]\n"
     ]
    }
   ],
   "source": [
    "y_true_final = [item for sublist in y_true_final for item in sublist]\n",
    "y_true_final = [int(i) for i in y_true_final]\n",
    "y_pred_final = [item for sublist in y_pred_final for item in sublist]\n",
    "y_prob_final = [item for sublist in y_prob_final for item in sublist]\n",
    "print(y_true_final)\n",
    "print(y_pred_final)\n",
    "print(y_prob_final)"
   ]
  },
  {
   "attachments": {},
   "cell_type": "markdown",
   "metadata": {},
   "source": [
    "Above we see the predictions based on a threshold of 50%. See that the results are not that good. There are some false positive results and more important there are a considerable number of false negatives."
   ]
  },
  {
   "cell_type": "code",
   "execution_count": 84,
   "metadata": {},
   "outputs": [
    {
     "name": "stdout",
     "output_type": "stream",
     "text": [
      "AUC =  0.4975\n"
     ]
    },
    {
     "data": {
      "image/png": "[encoded data removed]",
      "text/plain": [
       "<Figure size 640x480 with 1 Axes>"
      ]
     },
     "metadata": {},
     "output_type": "display_data"
    },
    {
     "name": "stdout",
     "output_type": "stream",
     "text": [
      "The fpr is:  [0.   0.15 0.2  0.2  0.3  0.3  0.5  0.5  0.65 0.65 0.7  0.7  0.8  0.8\n",
      " 1.  ]\n",
      "The tpr is:  [0.  0.1 0.1 0.2 0.2 0.3 0.3 0.5 0.5 0.8 0.8 0.9 0.9 1.  1. ]\n",
      "The thresholds are:  [101.         100.          97.85795401  85.95087874  62.66091881\n",
      "  50.80319849  35.62896262  27.6174699   23.5284944   20.6493382\n",
      "  17.27913149  15.33333517   9.86143465   9.82691112   0.52926163]\n"
     ]
    }
   ],
   "source": [
    "print('AUC = ', metrics.roc_auc_score(y_true_final, y_prob_final))\n",
    "fpr, tpr, thresholds = metrics.roc_curve(y_true_final, y_prob_final)\n",
    "plt.plot(fpr, tpr, marker='.', label='AUROC = %0.3f' % metrics.roc_auc_score(y_true_final, y_prob_final))\n",
    "# Title\n",
    "plt.title('ROC Plot')\n",
    "# Axis labels\n",
    "plt.xlabel('False Positive Rate')\n",
    "plt.ylabel('True Positive Rate')\n",
    "# Show legend\n",
    "plt.legend() # \n",
    "# Show plot\n",
    "plt.show()\n",
    "\n",
    "print(\"The fpr is: \", fpr)\n",
    "print(\"The tpr is: \", tpr)\n",
    "print(\"The thresholds are: \", thresholds)"
   ]
  },
  {
   "attachments": {},
   "cell_type": "markdown",
   "metadata": {},
   "source": [
    "At this point, the graph above shows us that there is not any acceptable threshold to work with. The result from the reconstruction error are poor in this approach."
   ]
  },
  {
   "attachments": {},
   "cell_type": "markdown",
   "metadata": {},
   "source": [
    "## Verifying the evaluation set"
   ]
  },
  {
   "cell_type": "code",
   "execution_count": 85,
   "metadata": {},
   "outputs": [
    {
     "name": "stdout",
     "output_type": "stream",
     "text": [
      "number of batches are:  3\n"
     ]
    }
   ],
   "source": [
    "#Just to test the model. \n",
    "data_batch_test = []  #Capture all training batches as a numpy array\n",
    "labels_test = []\n",
    "img_num = 0\n",
    "# while img_num <= train_generator.batch_index:   #gets each generated batch of size batch_size\n",
    "while img_num < len(test_set_generator):        #I think this should be the correct while clause\n",
    "    data, labels = next(test_crops)\n",
    "    data_batch_test.append(data)\n",
    "    labels_test.append(labels)\n",
    "    img_num = img_num + 1\n",
    "    \n",
    "print(\"number of batches are: \", img_num)"
   ]
  },
  {
   "cell_type": "code",
   "execution_count": 86,
   "metadata": {},
   "outputs": [
    {
     "name": "stdout",
     "output_type": "stream",
     "text": [
      "(10, 160, 128, 3)\n",
      "(10, 160, 128, 3)\n"
     ]
    }
   ],
   "source": [
    "index_batch = 2\n",
    "print(data_batch_test[index_batch].shape)\n",
    "predicted_fromTestSet = model.predict(data_batch_test[index_batch])  \n",
    "print(predicted_fromTestSet.shape)"
   ]
  },
  {
   "cell_type": "code",
   "execution_count": 87,
   "metadata": {},
   "outputs": [
    {
     "name": "stdout",
     "output_type": "stream",
     "text": [
      "(160, 128, 3)\n"
     ]
    }
   ],
   "source": [
    "single_img = data_batch_test[index_batch][0]\n",
    "print(single_img.shape)"
   ]
  },
  {
   "cell_type": "code",
   "execution_count": 88,
   "metadata": {},
   "outputs": [
    {
     "data": {
      "image/png": "[encoded data removed]",
      "text/plain": [
       "<Figure size 1200x600 with 2 Axes>"
      ]
     },
     "metadata": {},
     "output_type": "display_data"
    }
   ],
   "source": [
    "#Sanity check, view few images and corresponding reconstructions\n",
    "image_number = 0\n",
    "plt.figure(figsize=(12, 6))\n",
    "plt.subplot(121)\n",
    "plt.title(\"input image\")\n",
    "plt.imshow(data_batch_test[index_batch][image_number])\n",
    "plt.subplot(122)\n",
    "plt.title(\"reconstructed image\")\n",
    "plt.imshow(predicted_fromTestSet[image_number])\n",
    "plt.show()"
   ]
  },
  {
   "attachments": {},
   "cell_type": "markdown",
   "metadata": {},
   "source": [
    "Displaying the label of this particular image."
   ]
  },
  {
   "cell_type": "code",
   "execution_count": 89,
   "metadata": {},
   "outputs": [
    {
     "name": "stdout",
     "output_type": "stream",
     "text": [
      "1.0\n"
     ]
    }
   ],
   "source": [
    "print(labels_test[index_batch][image_number])"
   ]
  },
  {
   "attachments": {},
   "cell_type": "markdown",
   "metadata": {},
   "source": [
    "## Analyzing further the results of the reconstruction images"
   ]
  },
  {
   "attachments": {},
   "cell_type": "markdown",
   "metadata": {},
   "source": [
    "See below images. THe first one is predicted to be an anomaly while the second one is predicted be a non-anomaly image."
   ]
  },
  {
   "cell_type": "code",
   "execution_count": 101,
   "metadata": {},
   "outputs": [
    {
     "name": "stdout",
     "output_type": "stream",
     "text": [
      "1/1 [==============================] - 0s 830us/step - loss: 0.0133\n"
     ]
    },
    {
     "name": "stderr",
     "output_type": "stream",
     "text": [
      "Clipping input data to the valid range for imshow with RGB data ([0..1] for floats or [0..255] for integers).\n"
     ]
    },
    {
     "data": {
      "image/png": "[encoded data removed]",
      "text/plain": [
       "<Figure size 1200x600 with 2 Axes>"
      ]
     },
     "metadata": {},
     "output_type": "display_data"
    },
    {
     "name": "stdout",
     "output_type": "stream",
     "text": [
      "The label image is:  0.0\n",
      "Its probability is:  100\n",
      "Its prediction is:  1\n",
      "Its reconstruction_error is:  0.01332825142890215\n"
     ]
    }
   ],
   "source": [
    "\n",
    "for i in range(len(test_set_generator)):        # Traversing all the batches of the test set\n",
    "    batch_images, labels = next(test_crops)\n",
    "    if i == 0:\n",
    "        for im in range(0, batch_images.shape[0]):  #Traversing all the images in the batch\n",
    "            if im == batch_images.shape[0]-1:\n",
    "                img  = batch_images[im]\n",
    "\n",
    "                label_img = labels[im]\n",
    "\n",
    "                img = img[np.newaxis, :,:,:]\n",
    "                reconstruction = model.predict([[img]])\n",
    "\n",
    "                reconstruction_error = model.evaluate([reconstruction],[[img]])\n",
    "                probability = map_error2prob(reconstruction_error)\n",
    "                prediction = computePred(reconstruction_error)   \n",
    "\n",
    "                \n",
    "\n",
    "to_print_original = img[0]\n",
    "to_print_reconstruction = reconstruction[0]\n",
    "#Sanity check, view few images and corresponding reconstructions\n",
    "image_number = 0\n",
    "plt.figure(figsize=(12, 6))\n",
    "plt.subplot(121)\n",
    "plt.title(\"input image\")\n",
    "plt.imshow(to_print_original)\n",
    "plt.subplot(122)\n",
    "plt.title(\"reconstructed image\")\n",
    "plt.imshow(to_print_reconstruction)\n",
    "plt.show()\n",
    "\n",
    "print(\"The label image is: \", label_img)\n",
    "print(\"Its probability is: \", probability)\n",
    "print(\"Its prediction is: \", prediction)\n",
    "print(\"Its reconstruction_error is: \", reconstruction_error)\n"
   ]
  },
  {
   "cell_type": "code",
   "execution_count": 106,
   "metadata": {},
   "outputs": [
    {
     "name": "stdout",
     "output_type": "stream",
     "text": [
      "1/1 [==============================] - 0s 617us/step - loss: 0.0076\n"
     ]
    },
    {
     "data": {
      "image/png": "[encoded data removed]",
      "text/plain": [
       "<Figure size 1200x600 with 2 Axes>"
      ]
     },
     "metadata": {},
     "output_type": "display_data"
    },
    {
     "name": "stdout",
     "output_type": "stream",
     "text": [
      "The label image is:  0.0\n",
      "Its probability is:  9.861434654330274\n",
      "Its prediction is:  0\n",
      "Its reconstruction_error is:  0.007616044487804174\n"
     ]
    }
   ],
   "source": [
    "\n",
    "for i in range(len(test_set_generator)):        # Traversing all the batches of the test set\n",
    "    batch_images, labels = next(test_crops)\n",
    "    if i == 0:\n",
    "        for im in range(0, batch_images.shape[0]):  #Traversing all the images in the batch\n",
    "            if im == 0:\n",
    "                img  = batch_images[im]\n",
    "\n",
    "                label_img = labels[im]\n",
    "\n",
    "                img = img[np.newaxis, :,:,:]\n",
    "                reconstruction = model.predict([[img]])\n",
    "\n",
    "                reconstruction_error = model.evaluate([reconstruction],[[img]])\n",
    "                probability = map_error2prob(reconstruction_error)\n",
    "                prediction = computePred(reconstruction_error)   \n",
    "\n",
    "                \n",
    "\n",
    "to_print_original = img[0]\n",
    "to_print_reconstruction = reconstruction[0]\n",
    "#Sanity check, view few images and corresponding reconstructions\n",
    "image_number = 0\n",
    "plt.figure(figsize=(12, 6))\n",
    "plt.subplot(121)\n",
    "plt.title(\"input image\")\n",
    "plt.imshow(to_print_original)\n",
    "plt.subplot(122)\n",
    "plt.title(\"reconstructed image\")\n",
    "plt.imshow(to_print_reconstruction)\n",
    "plt.show()\n",
    "\n",
    "print(\"The label image is: \", label_img)\n",
    "print(\"Its probability is: \", probability)\n",
    "print(\"Its prediction is: \", prediction)\n",
    "print(\"Its reconstruction_error is: \", reconstruction_error)\n"
   ]
  },
  {
   "cell_type": "code",
   "execution_count": 102,
   "metadata": {},
   "outputs": [
    {
     "data": {
      "text/plain": [
       "0.010396631335854533"
      ]
     },
     "execution_count": 102,
     "metadata": {},
     "output_type": "execute_result"
    }
   ],
   "source": [
    "na_average_recon_error + na_stdev_recon_error"
   ]
  },
  {
   "cell_type": "code",
   "execution_count": 103,
   "metadata": {},
   "outputs": [
    {
     "data": {
      "text/plain": [
       "0.005751592565723393"
      ]
     },
     "execution_count": 103,
     "metadata": {},
     "output_type": "execute_result"
    }
   ],
   "source": [
    "na_average_recon_error - na_stdev_recon_error"
   ]
  },
  {
   "cell_type": "code",
   "execution_count": 105,
   "metadata": {},
   "outputs": [
    {
     "name": "stdout",
     "output_type": "stream",
     "text": [
      "0.008074111950788963\n",
      "0.0023225193850655696\n"
     ]
    }
   ],
   "source": [
    "print(na_average_recon_error)\n",
    "print(na_stdev_recon_error)"
   ]
  },
  {
   "attachments": {},
   "cell_type": "markdown",
   "metadata": {},
   "source": [
    "As seen above both images at simple look, seem to be the same. However, the first image seems to have more brightness, perhaps that's what made it to be predicted as anomaly."
   ]
  },
  {
   "attachments": {},
   "cell_type": "markdown",
   "metadata": {},
   "source": []
  }
 ],
 "metadata": {
  "kernelspec": {
   "display_name": "Python 3",
   "language": "python",
   "name": "python3"
  },
  "language_info": {
   "codemirror_mode": {
    "name": "ipython",
    "version": 3
   },
   "file_extension": ".py",
   "mimetype": "text/x-python",
   "name": "python",
   "nbconvert_exporter": "python",
   "pygments_lexer": "ipython3",
   "version": "3.8.10"
  },
  "orig_nbformat": 4,
  "vscode": {
   "interpreter": {
    "hash": "916dbcbb3f70747c44a77c7bcd40155683ae19c65e1c03b4aa3499c5328201f1"
   }
  }
 },
 "nbformat": 4,
 "nbformat_minor": 2
}
