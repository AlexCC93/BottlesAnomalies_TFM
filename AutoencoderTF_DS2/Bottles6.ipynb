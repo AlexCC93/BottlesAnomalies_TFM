{
 "cells": [
  {
   "cell_type": "code",
   "execution_count": 1,
   "metadata": {},
   "outputs": [],
   "source": [
    "from tensorflow.keras.models import Sequential, Model\n",
    "from tensorflow.keras.layers import *\n",
    "from tensorflow.keras.preprocessing.image import ImageDataGenerator\n",
    "from tensorflow import keras\n",
    "import tensorflow as tf\n",
    "# from keras import layers\n",
    "\n",
    "\n",
    "from tensorflow.keras.optimizers import Adam, RMSprop\n",
    "from tensorflow.keras.preprocessing import image\n",
    "\n",
    "import tensorflow.keras.backend as K\n",
    "\n",
    "\n",
    "from PIL import Image\n",
    "import matplotlib.pyplot as plt\n",
    "import numpy as np\n",
    "import random\n",
    "\n"
   ]
  },
  {
   "cell_type": "code",
   "execution_count": 2,
   "metadata": {},
   "outputs": [
    {
     "name": "stdout",
     "output_type": "stream",
     "text": [
      "Num GPUs Available:  1\n"
     ]
    },
    {
     "name": "stderr",
     "output_type": "stream",
     "text": [
      "2023-06-11 20:28:30.004356: I tensorflow/stream_executor/platform/default/dso_loader.cc:44] Successfully opened dynamic library libcuda.so.1\n",
      "2023-06-11 20:28:30.036724: I tensorflow/stream_executor/cuda/cuda_gpu_executor.cc:981] successful NUMA node read from SysFS had negative value (-1), but there must be at least one NUMA node, so returning NUMA node zero\n",
      "2023-06-11 20:28:30.037104: I tensorflow/core/common_runtime/gpu/gpu_device.cc:1561] Found device 0 with properties: \n",
      "pciBusID: 0000:01:00.0 name: NVIDIA GeForce RTX 2080 with Max-Q Design computeCapability: 7.5\n",
      "coreClock: 1.23GHz coreCount: 46 deviceMemorySize: 7.79GiB deviceMemoryBandwidth: 357.69GiB/s\n",
      "2023-06-11 20:28:30.037288: I tensorflow/stream_executor/platform/default/dso_loader.cc:44] Successfully opened dynamic library libcudart.so.10.1\n",
      "2023-06-11 20:28:30.038566: I tensorflow/stream_executor/platform/default/dso_loader.cc:44] Successfully opened dynamic library libcublas.so.10\n",
      "2023-06-11 20:28:30.039747: I tensorflow/stream_executor/platform/default/dso_loader.cc:44] Successfully opened dynamic library libcufft.so.10\n",
      "2023-06-11 20:28:30.039956: I tensorflow/stream_executor/platform/default/dso_loader.cc:44] Successfully opened dynamic library libcurand.so.10\n",
      "2023-06-11 20:28:30.041374: I tensorflow/stream_executor/platform/default/dso_loader.cc:44] Successfully opened dynamic library libcusolver.so.10\n",
      "2023-06-11 20:28:30.042110: I tensorflow/stream_executor/platform/default/dso_loader.cc:44] Successfully opened dynamic library libcusparse.so.10\n",
      "2023-06-11 20:28:30.044961: I tensorflow/stream_executor/platform/default/dso_loader.cc:44] Successfully opened dynamic library libcudnn.so.7\n",
      "2023-06-11 20:28:30.045066: I tensorflow/stream_executor/cuda/cuda_gpu_executor.cc:981] successful NUMA node read from SysFS had negative value (-1), but there must be at least one NUMA node, so returning NUMA node zero\n",
      "2023-06-11 20:28:30.045526: I tensorflow/stream_executor/cuda/cuda_gpu_executor.cc:981] successful NUMA node read from SysFS had negative value (-1), but there must be at least one NUMA node, so returning NUMA node zero\n",
      "2023-06-11 20:28:30.045814: I tensorflow/core/common_runtime/gpu/gpu_device.cc:1703] Adding visible gpu devices: 0\n"
     ]
    }
   ],
   "source": [
    "physical_devices = tf.config.experimental.list_physical_devices('GPU')\n",
    "if len(physical_devices) == 0:\n",
    "    print(\"Not enough GPU hardware devices available\")\n",
    "else:\n",
    "    config = tf.config.experimental.set_memory_growth(physical_devices[0], True)\n",
    "print(\"Num GPUs Available: \", len(physical_devices))"
   ]
  },
  {
   "cell_type": "code",
   "execution_count": 3,
   "metadata": {},
   "outputs": [],
   "source": [
    "# tf.debugging.set_log_device_placement(True)       # Will print the log information of every execution of tensorflow, mainly about "
   ]
  },
  {
   "attachments": {},
   "cell_type": "markdown",
   "metadata": {},
   "source": [
    "# Setting the training and testing datasets "
   ]
  },
  {
   "attachments": {},
   "cell_type": "markdown",
   "metadata": {},
   "source": [
    "ImageDataGenerator.flow_from_directory: Takes the path to a directory and generates batches of augmented data."
   ]
  },
  {
   "cell_type": "code",
   "execution_count": 4,
   "metadata": {},
   "outputs": [],
   "source": [
    "def my_crop(img, start_y, start_x, desired_height, desired_width):\n",
    "  if K.image_data_format() == 'channels_last':\n",
    "    # Note: image_data_format is 'channel_last'\n",
    "    assert img.shape[2] == 3\n",
    "    dy = desired_height #input desired output size\n",
    "    dx = desired_width #input desired output size\n",
    "    # start_y = (height-dy)//2\n",
    "    # start_x = (width-dx)//2\n",
    "    return img[start_y:start_y+dy, start_x:(dx+start_x), :]\n",
    "  else:\n",
    "      assert img.shape[0] == 3\n",
    "      dy = desired_height #input desired output size\n",
    "      dx = desired_width #input desired output size\n",
    "      # start_y = (height-dy)//2\n",
    "      # start_x = (width-dx)//2\n",
    "      return img[:,start_y:start_y + dy, start_x:(dx + start_x)]\n",
    "\n",
    "def crop_augmented_generator(batches, start_y, start_x, crop_height, crop_width):\n",
    "    '''\n",
    "    Take as input a Keras ImageGen (Iterator) and generate\n",
    "    crops from the image batches generated by the original iterator\n",
    "    '''\n",
    "    # print(\"I'm in the crop_generataor function\")\n",
    "    while True:\n",
    "      batch_x, batch_y = next(batches)  # In batch_x there are the images, in batch_y there are the labels\n",
    "    #   print(\"hello\")\n",
    "    #   print('the shape of tensor batch_x is:', batch_x.shape)\n",
    "    #   print('batch_y is:', batch_y)\n",
    "    \n",
    "      if K.image_data_format() == 'channels_last':\n",
    "        # print(\"type of batch_x: \", type(batch_x))\n",
    "        # print(\"type of batch_y: \", type(batch_y))\n",
    "        # print(\"len of batch_x: \", len(batch_x))\n",
    "\n",
    "        # Either batch_x or batch_y could be augmented or original\n",
    "        batch_crops_input_x = np.zeros((batch_x[0].shape[0], crop_height, crop_width, 3))\n",
    "        batch_crops_target_x = np.zeros((batch_x[1].shape[0], crop_height, crop_width, 3))\n",
    "\n",
    "        batch_crops_input_y = np.zeros((batch_y[0].shape[0], crop_height, crop_width, 3))\n",
    "        batch_crops_target_y = np.zeros((batch_y[1].shape[0], crop_height, crop_width, 3))\n",
    "      else:\n",
    "        # Either batch_x or batch_y could be augmented or original\n",
    "        batch_crops_input_x = np.zeros((batch_x[0].shape[0], 3, crop_height, crop_width))\n",
    "        batch_crops_target_x = np.zeros((batch_x[1].shape[0], 3, crop_height, crop_width))\n",
    "\n",
    "        batch_crops_input_y = np.zeros((batch_y[0].shape[0], 3, crop_height, crop_width))\n",
    "        batch_crops_target_y = np.zeros((batch_y[1].shape[0], 3, crop_height, crop_width))\n",
    "\n",
    "      for i in range(batch_x[0].shape[0]):\n",
    "        #   print(\"THe shape of a single image before the cropping is: \", batch_x[i].shape)\n",
    "        batch_crops_input_x[i] = my_crop(batch_x[0][i], start_y, start_x, crop_height, crop_width)\n",
    "        batch_crops_target_x[i] = my_crop(batch_x[1][i], start_y, start_x, crop_height, crop_width)\n",
    "\n",
    "        batch_crops_input_y[i] = my_crop(batch_y[0][i], start_y, start_x, crop_height, crop_width)\n",
    "        batch_crops_target_y[i] = my_crop(batch_y[1][i], start_y, start_x, crop_height, crop_width)\n",
    "      \n",
    "      # print(type(batch_crops_input_x))\n",
    "      batch_crops_x = (batch_crops_input_x, batch_crops_target_x)\n",
    "      batch_crops_y = (batch_crops_input_y, batch_crops_target_y)\n",
    "\n",
    "      yield (batch_crops_x, batch_crops_y)\n",
    "\n",
    "  \n",
    "    \n",
    "def crop_generator(batches, start_y, start_x, crop_height, crop_width, flag=0):\n",
    "    '''\n",
    "    Take as input a Keras ImageGen (Iterator) and generate\n",
    "    crops from the image batches generated by the original iterator\n",
    "    '''\n",
    "    # print(\"I'm in the crop_generataor function\")\n",
    "    while True:\n",
    "      batch_x, batch_y = next(batches)  # In batch_x there are the images, in batch_y there are the labels\n",
    "    #   print(\"hello\")\n",
    "    #   print('the shape of tensor batch_x is:', batch_x.shape)\n",
    "    #   print('batch_y is:', batch_y)\n",
    "      if flag==0:\n",
    "        if K.image_data_format() == 'channels_last':\n",
    "          batch_crops = np.zeros((batch_x.shape[0], crop_height, crop_width, 3))\n",
    "          batch_crops_y = np.zeros((batch_y.shape[0], crop_height, crop_width, 3))\n",
    "        else:\n",
    "          batch_crops = np.zeros((batch_x.shape[0], 3, crop_height, crop_width))\n",
    "          batch_crops_y = np.zeros((batch_y.shape[0], 3, crop_height, crop_width))\n",
    "        for i in range(batch_x.shape[0]):\n",
    "          #   print(\"THe shape of a single image before the cropping is: \", batch_x[i].shape)\n",
    "            batch_crops[i] = my_crop(batch_x[i], start_y, start_x, crop_height, crop_width)\n",
    "            batch_crops_y[i] = my_crop(batch_x[i], start_y, start_x, crop_height, crop_width)\n",
    "        yield (batch_crops, batch_crops_y)\n",
    "      else: \n",
    "        if K.image_data_format() == 'channels_last':\n",
    "          batch_crops = np.zeros((batch_x.shape[0], crop_height, crop_width, 3))\n",
    "        else:\n",
    "          batch_crops = np.zeros((batch_x.shape[0], 3, crop_height, crop_width))\n",
    "        for i in range(batch_x.shape[0]):\n",
    "          #   print(\"THe shape of a single image before the cropping is: \", batch_x[i].shape)\n",
    "            batch_crops[i] = my_crop(batch_x[i], start_y, start_x, crop_height, crop_width)\n",
    "\n",
    "        yield (batch_crops, batch_y)\n",
    "         "
   ]
  },
  {
   "cell_type": "code",
   "execution_count": 5,
   "metadata": {},
   "outputs": [
    {
     "name": "stdout",
     "output_type": "stream",
     "text": [
      "Found 295 images belonging to 1 classes.\n",
      "Found 295 images belonging to 1 classes.\n"
     ]
    }
   ],
   "source": [
    "# batch_size = 64\n",
    "batch_size = 10\n",
    "train_datagen = ImageDataGenerator(rescale=1./255,\n",
    "                                    brightness_range=[0.88,1.0]) # Typically used for data augmentation. Here it is only rescaling the image pixels value to range 0 to 1 in decimals and changing the brightness\n",
    "\n",
    "\n",
    "original_datagen = ImageDataGenerator(rescale=1./255)\n",
    "\n",
    "\n",
    "train_generator = train_datagen.flow_from_directory(\n",
    "    \"../../Images/june5Night/Positive/\",         # For home laptop\n",
    "    # \"../../../BottleStoodUp_atNight/Positive/\",          # For work laptop\n",
    "    batch_size=batch_size,\n",
    "    shuffle = False,\n",
    "    class_mode='input'\n",
    "    )\n",
    "\n",
    "# Generate original images from the original data directory\n",
    "original_generator = original_datagen.flow_from_directory(\n",
    "    \"../../Images/june5Night/Positive/\",\n",
    "    batch_size=batch_size,\n",
    "    shuffle = False,\n",
    "    class_mode='input')\n",
    "\n",
    "# Combine the generators using the `keras.preprocessing.image.Iterator` class\n",
    "combined_generator = zip(train_generator, original_generator)"
   ]
  },
  {
   "cell_type": "code",
   "execution_count": 6,
   "metadata": {},
   "outputs": [
    {
     "name": "stdout",
     "output_type": "stream",
     "text": [
      "Found 20 images belonging to 1 classes.\n"
     ]
    }
   ],
   "source": [
    "validation_generator = original_datagen.flow_from_directory(\n",
    "    \"../../Images/june5Night/Positive_val/\",     # For home laptop\n",
    "    # \"../../../BottleStoodUp_atNight/Positive_val/\",           # For work lpatop   \n",
    "    batch_size=batch_size,\n",
    "    shuffle = False,\n",
    "    class_mode='input'\n",
    "    )\n"
   ]
  },
  {
   "cell_type": "code",
   "execution_count": 7,
   "metadata": {},
   "outputs": [
    {
     "name": "stdout",
     "output_type": "stream",
     "text": [
      "Found 10 images belonging to 1 classes.\n"
     ]
    }
   ],
   "source": [
    "anomaly_generator = original_datagen.flow_from_directory(\n",
    "    \"../../Images/june5Night/Anomalies2.0/\",         # For home laptop\n",
    "    # \"../../../BottleStoodUp_atNight/Anomalies2.0/\",           # For work lpatpo\n",
    "    batch_size=batch_size,\n",
    "    shuffle = False,\n",
    "    class_mode='input'\n",
    "    )\n"
   ]
  },
  {
   "cell_type": "code",
   "execution_count": 8,
   "metadata": {},
   "outputs": [
    {
     "name": "stdout",
     "output_type": "stream",
     "text": [
      "Found 30 images belonging to 2 classes.\n"
     ]
    }
   ],
   "source": [
    "test_set_generator = original_datagen.flow_from_directory(\n",
    "    \"../../Images/june5Night/Evaluation/\",       # For home laptop\n",
    "    # \"../../../BottleStoodUp_atNight/Evaluation/\",             # For work laptop  \n",
    "    batch_size=batch_size,\n",
    "    shuffle = False,\n",
    "    class_mode='binary'\n",
    "    )\n"
   ]
  },
  {
   "attachments": {},
   "cell_type": "markdown",
   "metadata": {},
   "source": [
    "Creating the cropped images"
   ]
  },
  {
   "cell_type": "code",
   "execution_count": 9,
   "metadata": {},
   "outputs": [],
   "source": [
    "HEIGHT = 160\n",
    "WIDTH = 128"
   ]
  },
  {
   "cell_type": "code",
   "execution_count": 10,
   "metadata": {},
   "outputs": [],
   "source": [
    "train_crops = crop_augmented_generator(combined_generator, 65, 69, HEIGHT,WIDTH)      # top, left, height, width\n",
    "val_crops = crop_generator(validation_generator, 65, 69, HEIGHT,WIDTH)      # top, left, height, width\n",
    "anomaly_crops = crop_generator(anomaly_generator, 65, 69, HEIGHT,WIDTH)      # top, left, height, width\n",
    "test_crops = crop_generator(test_set_generator, 65, 69, HEIGHT,WIDTH,1)      # top, left, height, width"
   ]
  },
  {
   "cell_type": "code",
   "execution_count": 11,
   "metadata": {},
   "outputs": [],
   "source": [
    "# print(type(train_crops))\n",
    "# print(type(train_generator))"
   ]
  },
  {
   "attachments": {},
   "cell_type": "markdown",
   "metadata": {},
   "source": [
    "Here we make sure that both of the returned elements of the cropped generator are indeed cropped images."
   ]
  },
  {
   "cell_type": "code",
   "execution_count": 12,
   "metadata": {},
   "outputs": [],
   "source": [
    "# images_in_batch, images_in_batch2 = next(train_crops)\n"
   ]
  },
  {
   "cell_type": "code",
   "execution_count": 13,
   "metadata": {},
   "outputs": [],
   "source": [
    "# print(images_in_batch[0].shape)\n",
    "# print(images_in_batch[1].shape)\n",
    "\n",
    "# print(images_in_batch2[0].shape)\n",
    "# print(images_in_batch2[1].shape)"
   ]
  },
  {
   "cell_type": "code",
   "execution_count": 14,
   "metadata": {},
   "outputs": [],
   "source": [
    "# print(type(images_in_batch))"
   ]
  },
  {
   "cell_type": "code",
   "execution_count": 15,
   "metadata": {},
   "outputs": [],
   "source": [
    "# images_in_batch, images_in_batch2 = next(train_generator)\n",
    "# print(type(images_in_batch))"
   ]
  },
  {
   "cell_type": "code",
   "execution_count": 16,
   "metadata": {},
   "outputs": [],
   "source": [
    "# single_img = images_in_batch[0]\n",
    "# plt.imshow(single_img)"
   ]
  },
  {
   "cell_type": "code",
   "execution_count": 17,
   "metadata": {},
   "outputs": [],
   "source": [
    "# single_img2 = images_in_batch2[0]\n",
    "# plt.imshow(single_img2)"
   ]
  },
  {
   "attachments": {},
   "cell_type": "markdown",
   "metadata": {},
   "source": [
    "# Configuring the Autoencoder netwrok"
   ]
  },
  {
   "cell_type": "code",
   "execution_count": 18,
   "metadata": {},
   "outputs": [
    {
     "name": "stderr",
     "output_type": "stream",
     "text": [
      "2023-06-11 20:28:30.231709: I tensorflow/core/platform/cpu_feature_guard.cc:143] Your CPU supports instructions that this TensorFlow binary was not compiled to use: AVX2 FMA\n",
      "2023-06-11 20:28:30.260889: I tensorflow/core/platform/profile_utils/cpu_utils.cc:102] CPU Frequency: 2599990000 Hz\n",
      "2023-06-11 20:28:30.261362: I tensorflow/compiler/xla/service/service.cc:168] XLA service 0x7efbb4000b90 initialized for platform Host (this does not guarantee that XLA will be used). Devices:\n",
      "2023-06-11 20:28:30.261379: I tensorflow/compiler/xla/service/service.cc:176]   StreamExecutor device (0): Host, Default Version\n",
      "2023-06-11 20:28:30.327558: I tensorflow/stream_executor/cuda/cuda_gpu_executor.cc:981] successful NUMA node read from SysFS had negative value (-1), but there must be at least one NUMA node, so returning NUMA node zero\n",
      "2023-06-11 20:28:30.327971: I tensorflow/compiler/xla/service/service.cc:168] XLA service 0x54dc750 initialized for platform CUDA (this does not guarantee that XLA will be used). Devices:\n",
      "2023-06-11 20:28:30.327987: I tensorflow/compiler/xla/service/service.cc:176]   StreamExecutor device (0): NVIDIA GeForce RTX 2080 with Max-Q Design, Compute Capability 7.5\n",
      "2023-06-11 20:28:30.328168: I tensorflow/stream_executor/cuda/cuda_gpu_executor.cc:981] successful NUMA node read from SysFS had negative value (-1), but there must be at least one NUMA node, so returning NUMA node zero\n",
      "2023-06-11 20:28:30.328494: I tensorflow/core/common_runtime/gpu/gpu_device.cc:1561] Found device 0 with properties: \n",
      "pciBusID: 0000:01:00.0 name: NVIDIA GeForce RTX 2080 with Max-Q Design computeCapability: 7.5\n",
      "coreClock: 1.23GHz coreCount: 46 deviceMemorySize: 7.79GiB deviceMemoryBandwidth: 357.69GiB/s\n",
      "2023-06-11 20:28:30.328537: I tensorflow/stream_executor/platform/default/dso_loader.cc:44] Successfully opened dynamic library libcudart.so.10.1\n",
      "2023-06-11 20:28:30.328552: I tensorflow/stream_executor/platform/default/dso_loader.cc:44] Successfully opened dynamic library libcublas.so.10\n",
      "2023-06-11 20:28:30.328565: I tensorflow/stream_executor/platform/default/dso_loader.cc:44] Successfully opened dynamic library libcufft.so.10\n",
      "2023-06-11 20:28:30.328577: I tensorflow/stream_executor/platform/default/dso_loader.cc:44] Successfully opened dynamic library libcurand.so.10\n",
      "2023-06-11 20:28:30.328589: I tensorflow/stream_executor/platform/default/dso_loader.cc:44] Successfully opened dynamic library libcusolver.so.10\n",
      "2023-06-11 20:28:30.328601: I tensorflow/stream_executor/platform/default/dso_loader.cc:44] Successfully opened dynamic library libcusparse.so.10\n",
      "2023-06-11 20:28:30.328614: I tensorflow/stream_executor/platform/default/dso_loader.cc:44] Successfully opened dynamic library libcudnn.so.7\n",
      "2023-06-11 20:28:30.328672: I tensorflow/stream_executor/cuda/cuda_gpu_executor.cc:981] successful NUMA node read from SysFS had negative value (-1), but there must be at least one NUMA node, so returning NUMA node zero\n",
      "2023-06-11 20:28:30.329031: I tensorflow/stream_executor/cuda/cuda_gpu_executor.cc:981] successful NUMA node read from SysFS had negative value (-1), but there must be at least one NUMA node, so returning NUMA node zero\n",
      "2023-06-11 20:28:30.329445: I tensorflow/core/common_runtime/gpu/gpu_device.cc:1703] Adding visible gpu devices: 0\n",
      "2023-06-11 20:28:30.329486: I tensorflow/stream_executor/platform/default/dso_loader.cc:44] Successfully opened dynamic library libcudart.so.10.1\n",
      "2023-06-11 20:28:30.329914: I tensorflow/core/common_runtime/gpu/gpu_device.cc:1102] Device interconnect StreamExecutor with strength 1 edge matrix:\n",
      "2023-06-11 20:28:30.329924: I tensorflow/core/common_runtime/gpu/gpu_device.cc:1108]      0 \n",
      "2023-06-11 20:28:30.329930: I tensorflow/core/common_runtime/gpu/gpu_device.cc:1121] 0:   N \n",
      "2023-06-11 20:28:30.330022: I tensorflow/stream_executor/cuda/cuda_gpu_executor.cc:981] successful NUMA node read from SysFS had negative value (-1), but there must be at least one NUMA node, so returning NUMA node zero\n",
      "2023-06-11 20:28:30.330554: I tensorflow/stream_executor/cuda/cuda_gpu_executor.cc:981] successful NUMA node read from SysFS had negative value (-1), but there must be at least one NUMA node, so returning NUMA node zero\n",
      "2023-06-11 20:28:30.330879: I tensorflow/core/common_runtime/gpu/gpu_device.cc:1247] Created TensorFlow device (/job:localhost/replica:0/task:0/device:GPU:0 with 6914 MB memory) -> physical GPU (device: 0, name: NVIDIA GeForce RTX 2080 with Max-Q Design, pci bus id: 0000:01:00.0, compute capability: 7.5)\n"
     ]
    },
    {
     "name": "stdout",
     "output_type": "stream",
     "text": [
      "(None, 10, 8, 1)\n",
      "(None, 40)\n",
      "Model: \"model\"\n",
      "_________________________________________________________________\n",
      "Layer (type)                 Output Shape              Param #   \n",
      "=================================================================\n",
      "input_1 (InputLayer)         [(None, 160, 128, 3)]     0         \n",
      "_________________________________________________________________\n",
      "conv2d (Conv2D)              (None, 160, 128, 64)      1792      \n",
      "_________________________________________________________________\n",
      "max_pooling2d (MaxPooling2D) (None, 80, 64, 64)        0         \n",
      "_________________________________________________________________\n",
      "conv2d_1 (Conv2D)            (None, 80, 64, 32)        18464     \n",
      "_________________________________________________________________\n",
      "max_pooling2d_1 (MaxPooling2 (None, 40, 32, 32)        0         \n",
      "_________________________________________________________________\n",
      "conv2d_2 (Conv2D)            (None, 40, 32, 16)        4624      \n",
      "_________________________________________________________________\n",
      "max_pooling2d_2 (MaxPooling2 (None, 20, 16, 16)        0         \n",
      "_________________________________________________________________\n",
      "conv2d_3 (Conv2D)            (None, 20, 16, 4)         580       \n",
      "_________________________________________________________________\n",
      "max_pooling2d_3 (MaxPooling2 (None, 10, 8, 4)          0         \n",
      "_________________________________________________________________\n",
      "conv2d_4 (Conv2D)            (None, 10, 8, 1)          37        \n",
      "_________________________________________________________________\n",
      "flatten (Flatten)            (None, 80)                0         \n",
      "_________________________________________________________________\n",
      "dense (Dense)                (None, 80)                6480      \n",
      "_________________________________________________________________\n",
      "dense_1 (Dense)              (None, 40)                3240      \n",
      "=================================================================\n",
      "Total params: 35,217\n",
      "Trainable params: 35,217\n",
      "Non-trainable params: 0\n",
      "_________________________________________________________________\n"
     ]
    }
   ],
   "source": [
    "latent_dim = 40  # Number of latent dimension parameters\n",
    "\n",
    "input_img = Input(shape=(HEIGHT, WIDTH, 3))\n",
    "x = Conv2D(64, (3, 3), activation='relu', padding='same')(input_img)\n",
    "x = MaxPooling2D((2, 2), padding='same')(x)\n",
    "x = Conv2D(32, (3, 3), activation='relu', padding='same')(x)\n",
    "x = MaxPool2D( (2, 2), padding='same')(x)\n",
    "x = Conv2D(16, (3, 3), activation='relu', padding='same')(x)\n",
    "x = MaxPool2D( (2, 2), padding='same')(x)\n",
    "\n",
    "x = Conv2D(4, (3, 3), activation='relu', padding='same')(x)\n",
    "x = MaxPool2D( (2, 2), padding='same')(x)\n",
    "x = Conv2D(1, (3, 3), activation='relu', padding='same')(x)\n",
    "\n",
    "shape_before_flattening = K.int_shape(x)\n",
    "print(shape_before_flattening)\n",
    "x = Flatten()(x)\n",
    "x = Dense(80, activation='relu')(x)        # Activation function is supposed to be none, i.e the output is the same as the input\n",
    "\n",
    "Z = Dense(latent_dim)(x)\n",
    "print(K.int_shape(Z))\n",
    "\n",
    "encoder = Model(input_img,Z)\n",
    "encoder.summary()"
   ]
  },
  {
   "cell_type": "code",
   "execution_count": 19,
   "metadata": {},
   "outputs": [
    {
     "name": "stdout",
     "output_type": "stream",
     "text": [
      "Model: \"model_1\"\n",
      "_________________________________________________________________\n",
      "Layer (type)                 Output Shape              Param #   \n",
      "=================================================================\n",
      "input_2 (InputLayer)         [(None, 40)]              0         \n",
      "_________________________________________________________________\n",
      "intermediate_decoder (Dense) (None, 320)               13120     \n",
      "_________________________________________________________________\n",
      "original_decoder (Dense)     (None, 320)               102720    \n",
      "_________________________________________________________________\n",
      "reshape (Reshape)            (None, 10, 8, 4)          0         \n",
      "_________________________________________________________________\n",
      "conv2d_transpose (Conv2DTran (None, 10, 8, 3)          111       \n",
      "_________________________________________________________________\n",
      "up_sampling2d (UpSampling2D) (None, 20, 16, 3)         0         \n",
      "_________________________________________________________________\n",
      "conv2d_transpose_1 (Conv2DTr (None, 20, 16, 3)         84        \n",
      "_________________________________________________________________\n",
      "up_sampling2d_1 (UpSampling2 (None, 40, 32, 3)         0         \n",
      "_________________________________________________________________\n",
      "conv2d_transpose_2 (Conv2DTr (None, 40, 32, 3)         84        \n",
      "_________________________________________________________________\n",
      "up_sampling2d_2 (UpSampling2 (None, 80, 64, 3)         0         \n",
      "_________________________________________________________________\n",
      "conv2d_transpose_3 (Conv2DTr (None, 80, 64, 3)         84        \n",
      "_________________________________________________________________\n",
      "up_sampling2d_3 (UpSampling2 (None, 160, 128, 3)       0         \n",
      "=================================================================\n",
      "Total params: 116,203\n",
      "Trainable params: 116,203\n",
      "Non-trainable params: 0\n",
      "_________________________________________________________________\n"
     ]
    }
   ],
   "source": [
    "# decoder takes the latent distribution sample as input\n",
    "decoder_input = Input(K.int_shape(Z)[1:])\n",
    "x = Dense(10*8*4, activation='relu', name=\"intermediate_decoder\", input_shape=(latent_dim,))(decoder_input)\n",
    "# Expand to 784 total pixels\n",
    "x = Dense(320, activation='sigmoid', name=\"original_decoder\")(x)\n",
    "x = Reshape((10,8,4),input_shape=(320,))(x)\n",
    "\n",
    "x = Conv2DTranspose(3, (3, 3), padding='same')(x)\n",
    "x = UpSampling2D( (2, 2))(x)\n",
    "x = Conv2DTranspose(3, (3, 3), padding='same')(x)\n",
    "x = UpSampling2D( (2, 2))(x)\n",
    "x = Conv2DTranspose(3, (3, 3), padding='same')(x)\n",
    "x = UpSampling2D( (2, 2))(x)\n",
    "x = Conv2DTranspose(3, (3, 3), padding='same')(x)\n",
    "x = UpSampling2D( (2, 2))(x)\n",
    "\n",
    "# decoder model statement\n",
    "decoder = Model(decoder_input, x)\n",
    "\n",
    "# apply the decoder to the sample from the latent distribution\n",
    "z_decoded = decoder(Z)\n",
    "\n",
    "decoder.summary()"
   ]
  },
  {
   "cell_type": "code",
   "execution_count": 20,
   "metadata": {},
   "outputs": [
    {
     "name": "stdout",
     "output_type": "stream",
     "text": [
      "Model: \"model_2\"\n",
      "_________________________________________________________________\n",
      "Layer (type)                 Output Shape              Param #   \n",
      "=================================================================\n",
      "input_1 (InputLayer)         [(None, 160, 128, 3)]     0         \n",
      "_________________________________________________________________\n",
      "conv2d (Conv2D)              (None, 160, 128, 64)      1792      \n",
      "_________________________________________________________________\n",
      "max_pooling2d (MaxPooling2D) (None, 80, 64, 64)        0         \n",
      "_________________________________________________________________\n",
      "conv2d_1 (Conv2D)            (None, 80, 64, 32)        18464     \n",
      "_________________________________________________________________\n",
      "max_pooling2d_1 (MaxPooling2 (None, 40, 32, 32)        0         \n",
      "_________________________________________________________________\n",
      "conv2d_2 (Conv2D)            (None, 40, 32, 16)        4624      \n",
      "_________________________________________________________________\n",
      "max_pooling2d_2 (MaxPooling2 (None, 20, 16, 16)        0         \n",
      "_________________________________________________________________\n",
      "conv2d_3 (Conv2D)            (None, 20, 16, 4)         580       \n",
      "_________________________________________________________________\n",
      "max_pooling2d_3 (MaxPooling2 (None, 10, 8, 4)          0         \n",
      "_________________________________________________________________\n",
      "conv2d_4 (Conv2D)            (None, 10, 8, 1)          37        \n",
      "_________________________________________________________________\n",
      "flatten (Flatten)            (None, 80)                0         \n",
      "_________________________________________________________________\n",
      "dense (Dense)                (None, 80)                6480      \n",
      "_________________________________________________________________\n",
      "dense_1 (Dense)              (None, 40)                3240      \n",
      "_________________________________________________________________\n",
      "model_1 (Model)              (None, 160, 128, 3)       116203    \n",
      "=================================================================\n",
      "Total params: 151,420\n",
      "Trainable params: 151,420\n",
      "Non-trainable params: 0\n",
      "_________________________________________________________________\n"
     ]
    }
   ],
   "source": [
    "# VAE model statement\n",
    "ae = Model(input_img,z_decoded)\n",
    "ae.compile(optimizer='adam', loss='mean_squared_error')\n",
    "\n",
    "ae.summary()"
   ]
  },
  {
   "attachments": {},
   "cell_type": "markdown",
   "metadata": {},
   "source": [
    "These are the weights of a specific layer of the encoder model, before training are:"
   ]
  },
  {
   "cell_type": "code",
   "execution_count": 21,
   "metadata": {},
   "outputs": [
    {
     "name": "stdout",
     "output_type": "stream",
     "text": [
      "quantity of layers in the model:  13\n",
      "The weigths in the conv2d is:  [<tf.Variable 'conv2d/kernel:0' shape=(3, 3, 3, 64) dtype=float32, numpy=\n",
      "array([[[[-0.09577386,  0.03837003, -0.02647679, ...,  0.05807339,\n",
      "          -0.08868193,  0.09708449],\n",
      "         [-0.04281621,  0.01141868,  0.01228807, ...,  0.04211831,\n",
      "          -0.01967615, -0.09118511],\n",
      "         [ 0.05383061, -0.00597903,  0.0091318 , ..., -0.01258273,\n",
      "          -0.01540172,  0.05297151]],\n",
      "\n",
      "        [[ 0.08054695, -0.02643641,  0.07956743, ...,  0.01440505,\n",
      "           0.04170096,  0.02887261],\n",
      "         [ 0.04495174, -0.01429263,  0.00193799, ...,  0.02344103,\n",
      "          -0.08500865,  0.05532499],\n",
      "         [ 0.01854151,  0.06900185,  0.06759669, ..., -0.06611685,\n",
      "          -0.0942842 ,  0.08363771]],\n",
      "\n",
      "        [[-0.04367378,  0.06886481, -0.09028385, ..., -0.04373319,\n",
      "           0.08305429,  0.07254264],\n",
      "         [ 0.08171853,  0.07928571, -0.08867111, ...,  0.05650322,\n",
      "          -0.02889426, -0.04947678],\n",
      "         [-0.03224739,  0.08053175, -0.01299494, ..., -0.02274335,\n",
      "          -0.03574839,  0.04693967]]],\n",
      "\n",
      "\n",
      "       [[[ 0.03895827, -0.07038298, -0.02726892, ...,  0.01194515,\n",
      "          -0.00072543,  0.06095259],\n",
      "         [ 0.07572871, -0.07882398, -0.096953  , ..., -0.06599563,\n",
      "          -0.09153238,  0.07108116],\n",
      "         [-0.03892468,  0.04728848, -0.03903955, ...,  0.02482325,\n",
      "           0.09330025,  0.07607263]],\n",
      "\n",
      "        [[-0.01846036, -0.09454814, -0.03965673, ...,  0.09662011,\n",
      "           0.0022317 ,  0.08344008],\n",
      "         [ 0.07967988, -0.0793445 ,  0.06695966, ...,  0.04235476,\n",
      "          -0.00437122,  0.0664041 ],\n",
      "         [ 0.08660486,  0.05241637, -0.05539916, ..., -0.02734771,\n",
      "           0.09156287,  0.04341123]],\n",
      "\n",
      "        [[ 0.01694844, -0.07768294, -0.03030216, ...,  0.00794233,\n",
      "          -0.06763848,  0.06867637],\n",
      "         [ 0.07695173,  0.07455692, -0.0814269 , ..., -0.06692325,\n",
      "           0.06214212,  0.08404404],\n",
      "         [-0.06301883,  0.0911624 , -0.0361072 , ..., -0.08200628,\n",
      "           0.00210311,  0.07557686]]],\n",
      "\n",
      "\n",
      "       [[[-0.03943555,  0.06127685, -0.05008737, ..., -0.05773208,\n",
      "          -0.05390101, -0.06787055],\n",
      "         [ 0.09640838, -0.0113929 ,  0.06544766, ..., -0.01711556,\n",
      "           0.02330088,  0.0500885 ],\n",
      "         [ 0.03487481,  0.04915127,  0.00794967, ..., -0.02238166,\n",
      "           0.07799375,  0.05118141]],\n",
      "\n",
      "        [[-0.09880527, -0.08150625,  0.08633928, ...,  0.03780556,\n",
      "           0.07541293,  0.07221851],\n",
      "         [-0.04375177,  0.00767741,  0.0960104 , ..., -0.00485715,\n",
      "           0.09710868, -0.03604148],\n",
      "         [ 0.0902081 , -0.07919505, -0.03676735, ..., -0.0748634 ,\n",
      "           0.00603687,  0.03678629]],\n",
      "\n",
      "        [[ 0.0497939 , -0.08318758,  0.05994937, ..., -0.07787663,\n",
      "          -0.04606571, -0.07987183],\n",
      "         [-0.01824161, -0.02409191,  0.02647068, ...,  0.08706483,\n",
      "          -0.01426744,  0.00661826],\n",
      "         [-0.04854308, -0.08888908, -0.00923459, ..., -0.0494055 ,\n",
      "           0.07702635,  0.04702497]]]], dtype=float32)>, <tf.Variable 'conv2d/bias:0' shape=(64,) dtype=float32, numpy=\n",
      "array([0., 0., 0., 0., 0., 0., 0., 0., 0., 0., 0., 0., 0., 0., 0., 0., 0.,\n",
      "       0., 0., 0., 0., 0., 0., 0., 0., 0., 0., 0., 0., 0., 0., 0., 0., 0.,\n",
      "       0., 0., 0., 0., 0., 0., 0., 0., 0., 0., 0., 0., 0., 0., 0., 0., 0.,\n",
      "       0., 0., 0., 0., 0., 0., 0., 0., 0., 0., 0., 0., 0.], dtype=float32)>]\n"
     ]
    }
   ],
   "source": [
    "layer_number = 1\n",
    "print(\"quantity of layers in the model: \", len(encoder.layers))\n",
    "print(\"The weigths in the\", encoder.layers[layer_number].name, \"is: \", encoder.layers[layer_number].weights)"
   ]
  },
  {
   "attachments": {},
   "cell_type": "markdown",
   "metadata": {},
   "source": [
    "These are the weights of a specific layer of the decoder model,before training are:"
   ]
  },
  {
   "cell_type": "code",
   "execution_count": 22,
   "metadata": {},
   "outputs": [],
   "source": [
    "# layer_number = 1\n",
    "# print(\"quantity of layers in the model: \", len(decoder.layers))\n",
    "# print(\"The weigths in the\", decoder.layers[layer_number].name, \"is: \", decoder.layers[layer_number].weights)"
   ]
  },
  {
   "attachments": {},
   "cell_type": "markdown",
   "metadata": {},
   "source": [
    "These are the weights of a specific layer of the autoencoder model,before training are:"
   ]
  },
  {
   "cell_type": "code",
   "execution_count": 23,
   "metadata": {},
   "outputs": [],
   "source": [
    "# layer_number = 1\n",
    "# print(\"quantity of layers in the model: \", len(ae.layers))\n",
    "# print(\"The weigths in the\", ae.layers[layer_number].name, \"is: \", ae.layers[layer_number].weights)"
   ]
  },
  {
   "cell_type": "code",
   "execution_count": 24,
   "metadata": {},
   "outputs": [
    {
     "name": "stdout",
     "output_type": "stream",
     "text": [
      "Epoch 1/300\n"
     ]
    },
    {
     "name": "stderr",
     "output_type": "stream",
     "text": [
      "2023-06-11 20:31:18.175337: I tensorflow/stream_executor/platform/default/dso_loader.cc:44] Successfully opened dynamic library libcublas.so.10\n",
      "2023-06-11 20:31:18.371318: I tensorflow/stream_executor/platform/default/dso_loader.cc:44] Successfully opened dynamic library libcudnn.so.7\n"
     ]
    },
    {
     "name": "stdout",
     "output_type": "stream",
     "text": [
      "60/60 [==============================] - 6s 100ms/step - loss: 0.1017 - val_loss: 0.0250\n",
      "Epoch 2/300\n",
      "60/60 [==============================] - 5s 87ms/step - loss: 0.0201 - val_loss: 0.0161\n",
      "Epoch 3/300\n",
      "60/60 [==============================] - 5s 86ms/step - loss: 0.0153 - val_loss: 0.0138\n",
      "Epoch 4/300\n",
      "60/60 [==============================] - 5s 85ms/step - loss: 0.0136 - val_loss: 0.0126\n",
      "Epoch 5/300\n",
      "60/60 [==============================] - 5s 86ms/step - loss: 0.0127 - val_loss: 0.0118\n",
      "Epoch 6/300\n",
      "60/60 [==============================] - 5s 86ms/step - loss: 0.0120 - val_loss: 0.0113\n",
      "Epoch 7/300\n",
      "60/60 [==============================] - 5s 86ms/step - loss: 0.0114 - val_loss: 0.0106\n",
      "Epoch 8/300\n",
      "60/60 [==============================] - 6s 92ms/step - loss: 0.0109 - val_loss: 0.0102\n",
      "Epoch 9/300\n",
      "60/60 [==============================] - 6s 92ms/step - loss: 0.0105 - val_loss: 0.0098\n",
      "Epoch 10/300\n",
      "60/60 [==============================] - 5s 91ms/step - loss: 0.0101 - val_loss: 0.0095\n",
      "Epoch 11/300\n",
      "60/60 [==============================] - 5s 90ms/step - loss: 0.0098 - val_loss: 0.0111\n",
      "Epoch 12/300\n",
      "60/60 [==============================] - 5s 90ms/step - loss: 0.0095 - val_loss: 0.0100\n",
      "Epoch 13/300\n",
      "60/60 [==============================] - 6s 94ms/step - loss: 0.0091 - val_loss: 0.0121\n",
      "Epoch 14/300\n",
      "60/60 [==============================] - 5s 91ms/step - loss: 0.0091 - val_loss: 0.0121\n",
      "Epoch 15/300\n",
      "60/60 [==============================] - 5s 91ms/step - loss: 0.0093 - val_loss: 0.0080\n",
      "Epoch 16/300\n",
      "60/60 [==============================] - 6s 94ms/step - loss: 0.0085 - val_loss: 0.0078\n",
      "Epoch 17/300\n",
      "60/60 [==============================] - 6s 96ms/step - loss: 0.0083 - val_loss: 0.0080\n",
      "Epoch 18/300\n",
      "60/60 [==============================] - 5s 91ms/step - loss: 0.0083 - val_loss: 0.0082\n",
      "Epoch 19/300\n",
      "60/60 [==============================] - 6s 92ms/step - loss: 0.0082 - val_loss: 0.0077\n",
      "Epoch 20/300\n",
      "60/60 [==============================] - 5s 91ms/step - loss: 0.0079 - val_loss: 0.0074\n",
      "Epoch 21/300\n",
      "60/60 [==============================] - 6s 97ms/step - loss: 0.0077 - val_loss: 0.0073\n",
      "Epoch 22/300\n",
      "60/60 [==============================] - 6s 92ms/step - loss: 0.0075 - val_loss: 0.0081\n",
      "Epoch 23/300\n",
      "60/60 [==============================] - 6s 97ms/step - loss: 0.0074 - val_loss: 0.0086\n",
      "Epoch 24/300\n",
      "60/60 [==============================] - 6s 94ms/step - loss: 0.0075 - val_loss: 0.0088\n",
      "Epoch 25/300\n",
      "60/60 [==============================] - 6s 99ms/step - loss: 0.0077 - val_loss: 0.0090\n",
      "Epoch 26/300\n",
      "60/60 [==============================] - 6s 94ms/step - loss: 0.0083 - val_loss: 0.0071\n",
      "Epoch 27/300\n",
      "60/60 [==============================] - 6s 95ms/step - loss: 0.0075 - val_loss: 0.0069\n",
      "Epoch 28/300\n",
      "60/60 [==============================] - 6s 96ms/step - loss: 0.0073 - val_loss: 0.0066\n",
      "Epoch 29/300\n",
      "60/60 [==============================] - 6s 99ms/step - loss: 0.0069 - val_loss: 0.0067\n",
      "Epoch 30/300\n",
      "60/60 [==============================] - 6s 102ms/step - loss: 0.0068 - val_loss: 0.0067\n",
      "Epoch 31/300\n",
      "60/60 [==============================] - 6s 101ms/step - loss: 0.0066 - val_loss: 0.0064\n",
      "Epoch 32/300\n",
      "60/60 [==============================] - 6s 100ms/step - loss: 0.0064 - val_loss: 0.0062\n",
      "Epoch 33/300\n",
      "60/60 [==============================] - 6s 99ms/step - loss: 0.0063 - val_loss: 0.0076\n",
      "Epoch 34/300\n",
      "60/60 [==============================] - 6s 95ms/step - loss: 0.0063 - val_loss: 0.0063\n",
      "Epoch 35/300\n",
      "60/60 [==============================] - 6s 96ms/step - loss: 0.0061 - val_loss: 0.0072\n",
      "Epoch 36/300\n",
      "60/60 [==============================] - 6s 96ms/step - loss: 0.0061 - val_loss: 0.0070\n",
      "Epoch 37/300\n",
      "60/60 [==============================] - 6s 101ms/step - loss: 0.0062 - val_loss: 0.0073\n",
      "Epoch 38/300\n",
      "60/60 [==============================] - 6s 96ms/step - loss: 0.0060 - val_loss: 0.0058\n",
      "Epoch 39/300\n",
      "60/60 [==============================] - 6s 94ms/step - loss: 0.0058 - val_loss: 0.0058\n",
      "Epoch 40/300\n",
      "60/60 [==============================] - 6s 94ms/step - loss: 0.0058 - val_loss: 0.0057\n",
      "Epoch 41/300\n",
      "60/60 [==============================] - 6s 98ms/step - loss: 0.0058 - val_loss: 0.0066\n",
      "Epoch 42/300\n",
      "60/60 [==============================] - 6s 97ms/step - loss: 0.0058 - val_loss: 0.0071\n",
      "Epoch 43/300\n",
      "60/60 [==============================] - 6s 95ms/step - loss: 0.0059 - val_loss: 0.0075\n",
      "Epoch 44/300\n",
      "60/60 [==============================] - 6s 96ms/step - loss: 0.0057 - val_loss: 0.0079\n",
      "Epoch 45/300\n",
      "60/60 [==============================] - 6s 99ms/step - loss: 0.0058 - val_loss: 0.0076\n",
      "Epoch 46/300\n",
      "60/60 [==============================] - 6s 93ms/step - loss: 0.0058 - val_loss: 0.0081\n",
      "Epoch 47/300\n",
      "60/60 [==============================] - 6s 92ms/step - loss: 0.0057 - val_loss: 0.0078\n",
      "Epoch 48/300\n",
      "60/60 [==============================] - 6s 97ms/step - loss: 0.0057 - val_loss: 0.0080\n",
      "Epoch 49/300\n",
      "60/60 [==============================] - 6s 101ms/step - loss: 0.0057 - val_loss: 0.0076\n",
      "Epoch 50/300\n",
      "60/60 [==============================] - 6s 97ms/step - loss: 0.0056 - val_loss: 0.0074\n",
      "Epoch 51/300\n",
      "60/60 [==============================] - 6s 97ms/step - loss: 0.0056 - val_loss: 0.0067\n",
      "Epoch 52/300\n",
      "60/60 [==============================] - 6s 98ms/step - loss: 0.0056 - val_loss: 0.0073\n",
      "Epoch 53/300\n",
      "60/60 [==============================] - 6s 99ms/step - loss: 0.0056 - val_loss: 0.0066\n",
      "Epoch 54/300\n",
      "60/60 [==============================] - 6s 95ms/step - loss: 0.0056 - val_loss: 0.0071\n",
      "Epoch 55/300\n",
      "60/60 [==============================] - 6s 93ms/step - loss: 0.0057 - val_loss: 0.0064\n",
      "Epoch 56/300\n",
      "60/60 [==============================] - 6s 96ms/step - loss: 0.0056 - val_loss: 0.0054\n",
      "Epoch 57/300\n",
      "60/60 [==============================] - 6s 99ms/step - loss: 0.0056 - val_loss: 0.0064\n",
      "Epoch 58/300\n",
      "60/60 [==============================] - 6s 98ms/step - loss: 0.0062 - val_loss: 0.0088\n",
      "Epoch 59/300\n",
      "60/60 [==============================] - 6s 96ms/step - loss: 0.0070 - val_loss: 0.0057\n",
      "Epoch 60/300\n",
      "60/60 [==============================] - 6s 99ms/step - loss: 0.0057 - val_loss: 0.0059\n",
      "Epoch 61/300\n",
      "60/60 [==============================] - 6s 101ms/step - loss: 0.0058 - val_loss: 0.0056\n",
      "Epoch 62/300\n",
      "60/60 [==============================] - 6s 95ms/step - loss: 0.0057 - val_loss: 0.0054\n",
      "Epoch 63/300\n",
      "60/60 [==============================] - 6s 97ms/step - loss: 0.0055 - val_loss: 0.0055\n",
      "Epoch 64/300\n",
      "60/60 [==============================] - 6s 96ms/step - loss: 0.0054 - val_loss: 0.0054\n",
      "Epoch 65/300\n",
      "60/60 [==============================] - 6s 99ms/step - loss: 0.0054 - val_loss: 0.0054\n",
      "Epoch 66/300\n",
      "60/60 [==============================] - 6s 94ms/step - loss: 0.0055 - val_loss: 0.0053\n",
      "Epoch 67/300\n",
      "60/60 [==============================] - 6s 94ms/step - loss: 0.0054 - val_loss: 0.0051\n",
      "Epoch 68/300\n",
      "60/60 [==============================] - 6s 95ms/step - loss: 0.0053 - val_loss: 0.0051\n",
      "Epoch 69/300\n",
      "60/60 [==============================] - 6s 97ms/step - loss: 0.0052 - val_loss: 0.0051\n",
      "Epoch 70/300\n",
      "60/60 [==============================] - 6s 97ms/step - loss: 0.0052 - val_loss: 0.0053\n",
      "Epoch 71/300\n",
      "60/60 [==============================] - 6s 94ms/step - loss: 0.0053 - val_loss: 0.0053\n",
      "Epoch 72/300\n",
      "60/60 [==============================] - 6s 95ms/step - loss: 0.0054 - val_loss: 0.0054\n",
      "Epoch 73/300\n",
      "60/60 [==============================] - 6s 96ms/step - loss: 0.0055 - val_loss: 0.0054\n",
      "Epoch 74/300\n",
      "60/60 [==============================] - 6s 98ms/step - loss: 0.0053 - val_loss: 0.0052\n",
      "Epoch 75/300\n",
      "60/60 [==============================] - 6s 93ms/step - loss: 0.0052 - val_loss: 0.0053\n",
      "Epoch 76/300\n",
      "60/60 [==============================] - 6s 95ms/step - loss: 0.0052 - val_loss: 0.0059\n",
      "Epoch 77/300\n",
      "60/60 [==============================] - 6s 95ms/step - loss: 0.0053 - val_loss: 0.0059\n",
      "Epoch 78/300\n",
      "60/60 [==============================] - 6s 97ms/step - loss: 0.0053 - val_loss: 0.0066\n",
      "Epoch 79/300\n",
      "60/60 [==============================] - 6s 93ms/step - loss: 0.0052 - val_loss: 0.0062\n",
      "Epoch 80/300\n",
      "60/60 [==============================] - 6s 95ms/step - loss: 0.0052 - val_loss: 0.0070\n",
      "Epoch 81/300\n",
      "60/60 [==============================] - 6s 97ms/step - loss: 0.0054 - val_loss: 0.0059\n",
      "Epoch 82/300\n",
      "60/60 [==============================] - 6s 93ms/step - loss: 0.0053 - val_loss: 0.0051\n",
      "Epoch 83/300\n",
      "60/60 [==============================] - 6s 93ms/step - loss: 0.0054 - val_loss: 0.0058\n",
      "Epoch 84/300\n",
      "60/60 [==============================] - 6s 95ms/step - loss: 0.0056 - val_loss: 0.0057\n",
      "Epoch 85/300\n",
      "60/60 [==============================] - 6s 99ms/step - loss: 0.0058 - val_loss: 0.0054\n",
      "Epoch 86/300\n",
      "60/60 [==============================] - 6s 95ms/step - loss: 0.0054 - val_loss: 0.0053\n",
      "Epoch 87/300\n",
      "60/60 [==============================] - 6s 95ms/step - loss: 0.0052 - val_loss: 0.0055\n",
      "Epoch 88/300\n",
      "60/60 [==============================] - 6s 93ms/step - loss: 0.0052 - val_loss: 0.0051\n",
      "Epoch 89/300\n",
      "60/60 [==============================] - 6s 97ms/step - loss: 0.0051 - val_loss: 0.0050\n",
      "Epoch 90/300\n",
      "60/60 [==============================] - 6s 93ms/step - loss: 0.0051 - val_loss: 0.0055\n",
      "Epoch 91/300\n",
      "60/60 [==============================] - 6s 95ms/step - loss: 0.0052 - val_loss: 0.0054\n",
      "Epoch 92/300\n",
      "60/60 [==============================] - 6s 95ms/step - loss: 0.0052 - val_loss: 0.0050\n",
      "Epoch 93/300\n",
      "60/60 [==============================] - 6s 98ms/step - loss: 0.0051 - val_loss: 0.0050\n",
      "Epoch 94/300\n",
      "60/60 [==============================] - 6s 96ms/step - loss: 0.0052 - val_loss: 0.0051\n",
      "Epoch 95/300\n",
      "60/60 [==============================] - 6s 95ms/step - loss: 0.0050 - val_loss: 0.0051\n",
      "Epoch 96/300\n",
      "60/60 [==============================] - 6s 96ms/step - loss: 0.0049 - val_loss: 0.0052\n",
      "Epoch 97/300\n",
      "60/60 [==============================] - 6s 97ms/step - loss: 0.0049 - val_loss: 0.0055\n",
      "Epoch 98/300\n",
      "60/60 [==============================] - 6s 94ms/step - loss: 0.0049 - val_loss: 0.0056\n",
      "Epoch 99/300\n",
      "60/60 [==============================] - 6s 96ms/step - loss: 0.0050 - val_loss: 0.0050\n",
      "Epoch 100/300\n",
      "60/60 [==============================] - 6s 98ms/step - loss: 0.0049 - val_loss: 0.0050\n",
      "Epoch 101/300\n",
      "60/60 [==============================] - 6s 97ms/step - loss: 0.0050 - val_loss: 0.0057\n",
      "Epoch 102/300\n",
      "60/60 [==============================] - 6s 94ms/step - loss: 0.0052 - val_loss: 0.0051\n",
      "Epoch 103/300\n",
      "60/60 [==============================] - 6s 94ms/step - loss: 0.0052 - val_loss: 0.0056\n",
      "Epoch 104/300\n",
      "60/60 [==============================] - 6s 98ms/step - loss: 0.0052 - val_loss: 0.0060\n",
      "Epoch 105/300\n",
      "60/60 [==============================] - 6s 93ms/step - loss: 0.0052 - val_loss: 0.0054\n",
      "Epoch 106/300\n",
      "60/60 [==============================] - 6s 95ms/step - loss: 0.0051 - val_loss: 0.0051\n",
      "Epoch 107/300\n",
      "60/60 [==============================] - 6s 95ms/step - loss: 0.0050 - val_loss: 0.0051\n",
      "Epoch 108/300\n",
      "60/60 [==============================] - 6s 98ms/step - loss: 0.0049 - val_loss: 0.0062\n",
      "Epoch 109/300\n",
      "60/60 [==============================] - 6s 93ms/step - loss: 0.0050 - val_loss: 0.0059\n",
      "Epoch 110/300\n",
      "60/60 [==============================] - 6s 93ms/step - loss: 0.0050 - val_loss: 0.0069\n",
      "Epoch 111/300\n",
      "60/60 [==============================] - 6s 94ms/step - loss: 0.0051 - val_loss: 0.0062\n",
      "Epoch 112/300\n",
      "60/60 [==============================] - 6s 99ms/step - loss: 0.0050 - val_loss: 0.0072\n",
      "Epoch 113/300\n",
      "60/60 [==============================] - 6s 97ms/step - loss: 0.0051 - val_loss: 0.0051\n",
      "Epoch 114/300\n",
      "60/60 [==============================] - 6s 95ms/step - loss: 0.0049 - val_loss: 0.0049\n",
      "Epoch 115/300\n",
      "60/60 [==============================] - 6s 95ms/step - loss: 0.0050 - val_loss: 0.0054\n",
      "Epoch 116/300\n",
      "60/60 [==============================] - 6s 95ms/step - loss: 0.0053 - val_loss: 0.0057\n",
      "Epoch 117/300\n",
      "60/60 [==============================] - 6s 99ms/step - loss: 0.0054 - val_loss: 0.0053\n",
      "Epoch 118/300\n",
      "60/60 [==============================] - 6s 97ms/step - loss: 0.0052 - val_loss: 0.0055\n",
      "Epoch 119/300\n",
      "60/60 [==============================] - 6s 95ms/step - loss: 0.0050 - val_loss: 0.0060\n",
      "Epoch 120/300\n",
      "60/60 [==============================] - 6s 99ms/step - loss: 0.0050 - val_loss: 0.0054\n",
      "Epoch 121/300\n",
      "60/60 [==============================] - 6s 95ms/step - loss: 0.0048 - val_loss: 0.0048\n",
      "Epoch 122/300\n",
      "60/60 [==============================] - 6s 94ms/step - loss: 0.0049 - val_loss: 0.0048\n",
      "Epoch 123/300\n",
      "60/60 [==============================] - 6s 95ms/step - loss: 0.0048 - val_loss: 0.0051\n",
      "Epoch 124/300\n",
      "60/60 [==============================] - 6s 97ms/step - loss: 0.0048 - val_loss: 0.0054\n",
      "Epoch 125/300\n",
      "60/60 [==============================] - 6s 94ms/step - loss: 0.0048 - val_loss: 0.0048\n",
      "Epoch 126/300\n",
      "60/60 [==============================] - 6s 94ms/step - loss: 0.0048 - val_loss: 0.0050\n",
      "Epoch 127/300\n",
      "60/60 [==============================] - 6s 96ms/step - loss: 0.0049 - val_loss: 0.0049\n",
      "Epoch 128/300\n",
      "60/60 [==============================] - 6s 98ms/step - loss: 0.0047 - val_loss: 0.0052\n",
      "Epoch 129/300\n",
      "60/60 [==============================] - 6s 94ms/step - loss: 0.0048 - val_loss: 0.0049\n",
      "Epoch 130/300\n",
      "60/60 [==============================] - 6s 94ms/step - loss: 0.0048 - val_loss: 0.0049\n",
      "Epoch 131/300\n",
      "60/60 [==============================] - 6s 93ms/step - loss: 0.0049 - val_loss: 0.0048\n",
      "Epoch 132/300\n",
      "60/60 [==============================] - 6s 99ms/step - loss: 0.0048 - val_loss: 0.0050\n",
      "Epoch 133/300\n",
      "60/60 [==============================] - 6s 94ms/step - loss: 0.0048 - val_loss: 0.0049\n",
      "Epoch 134/300\n",
      "60/60 [==============================] - 6s 97ms/step - loss: 0.0048 - val_loss: 0.0048\n",
      "Epoch 135/300\n",
      "60/60 [==============================] - 6s 93ms/step - loss: 0.0048 - val_loss: 0.0053\n",
      "Epoch 136/300\n",
      "60/60 [==============================] - 6s 95ms/step - loss: 0.0049 - val_loss: 0.0048\n",
      "Epoch 137/300\n",
      "60/60 [==============================] - 6s 97ms/step - loss: 0.0047 - val_loss: 0.0053\n",
      "Epoch 138/300\n",
      "60/60 [==============================] - 6s 96ms/step - loss: 0.0049 - val_loss: 0.0054\n",
      "Epoch 139/300\n",
      "60/60 [==============================] - 6s 93ms/step - loss: 0.0048 - val_loss: 0.0048\n",
      "Epoch 140/300\n",
      "60/60 [==============================] - 6s 96ms/step - loss: 0.0048 - val_loss: 0.0048\n",
      "Epoch 141/300\n",
      "60/60 [==============================] - 6s 96ms/step - loss: 0.0048 - val_loss: 0.0052\n",
      "Epoch 142/300\n",
      "60/60 [==============================] - 6s 95ms/step - loss: 0.0048 - val_loss: 0.0051\n",
      "Epoch 143/300\n",
      "60/60 [==============================] - 6s 96ms/step - loss: 0.0047 - val_loss: 0.0050\n",
      "Epoch 144/300\n",
      "60/60 [==============================] - 6s 93ms/step - loss: 0.0048 - val_loss: 0.0051\n",
      "Epoch 145/300\n",
      "60/60 [==============================] - 6s 100ms/step - loss: 0.0047 - val_loss: 0.0051\n",
      "Epoch 146/300\n",
      "60/60 [==============================] - 6s 94ms/step - loss: 0.0048 - val_loss: 0.0049\n",
      "Epoch 147/300\n",
      "60/60 [==============================] - 6s 95ms/step - loss: 0.0047 - val_loss: 0.0048\n",
      "Epoch 148/300\n",
      "60/60 [==============================] - 6s 97ms/step - loss: 0.0047 - val_loss: 0.0047\n",
      "Epoch 149/300\n",
      "60/60 [==============================] - 6s 97ms/step - loss: 0.0047 - val_loss: 0.0047\n",
      "Epoch 150/300\n",
      "60/60 [==============================] - 6s 95ms/step - loss: 0.0047 - val_loss: 0.0048\n",
      "Epoch 151/300\n",
      "60/60 [==============================] - 6s 95ms/step - loss: 0.0047 - val_loss: 0.0048\n",
      "Epoch 152/300\n",
      "60/60 [==============================] - 6s 96ms/step - loss: 0.0047 - val_loss: 0.0053\n",
      "Epoch 153/300\n",
      "60/60 [==============================] - 6s 98ms/step - loss: 0.0047 - val_loss: 0.0048\n",
      "Epoch 154/300\n",
      "60/60 [==============================] - 6s 97ms/step - loss: 0.0047 - val_loss: 0.0048\n",
      "Epoch 155/300\n",
      "60/60 [==============================] - 6s 95ms/step - loss: 0.0046 - val_loss: 0.0051\n",
      "Epoch 156/300\n",
      "60/60 [==============================] - 6s 95ms/step - loss: 0.0047 - val_loss: 0.0056\n",
      "Epoch 157/300\n",
      "60/60 [==============================] - 6s 100ms/step - loss: 0.0047 - val_loss: 0.0048\n",
      "Epoch 158/300\n",
      "60/60 [==============================] - 6s 95ms/step - loss: 0.0047 - val_loss: 0.0054\n",
      "Epoch 159/300\n",
      "60/60 [==============================] - 6s 96ms/step - loss: 0.0047 - val_loss: 0.0047\n",
      "Epoch 160/300\n",
      "60/60 [==============================] - 6s 96ms/step - loss: 0.0047 - val_loss: 0.0058\n",
      "Epoch 161/300\n",
      "60/60 [==============================] - 6s 100ms/step - loss: 0.0047 - val_loss: 0.0050\n",
      "Epoch 162/300\n",
      "60/60 [==============================] - 6s 95ms/step - loss: 0.0047 - val_loss: 0.0051\n",
      "Epoch 163/300\n",
      "60/60 [==============================] - 6s 96ms/step - loss: 0.0049 - val_loss: 0.0053\n",
      "Epoch 164/300\n",
      "60/60 [==============================] - 6s 97ms/step - loss: 0.0052 - val_loss: 0.0058\n",
      "Epoch 165/300\n",
      "60/60 [==============================] - 6s 98ms/step - loss: 0.0053 - val_loss: 0.0068\n",
      "Epoch 166/300\n",
      "60/60 [==============================] - 6s 96ms/step - loss: 0.0055 - val_loss: 0.0052\n",
      "Epoch 167/300\n",
      "60/60 [==============================] - 6s 97ms/step - loss: 0.0055 - val_loss: 0.0052\n",
      "Epoch 168/300\n",
      "60/60 [==============================] - 6s 96ms/step - loss: 0.0049 - val_loss: 0.0050\n",
      "Epoch 169/300\n",
      "60/60 [==============================] - 6s 98ms/step - loss: 0.0047 - val_loss: 0.0059\n",
      "Epoch 170/300\n",
      "60/60 [==============================] - 6s 93ms/step - loss: 0.0048 - val_loss: 0.0064\n",
      "Epoch 171/300\n",
      "60/60 [==============================] - 6s 94ms/step - loss: 0.0048 - val_loss: 0.0055\n",
      "Epoch 172/300\n",
      "60/60 [==============================] - 6s 96ms/step - loss: 0.0049 - val_loss: 0.0048\n",
      "Epoch 173/300\n",
      "60/60 [==============================] - 6s 100ms/step - loss: 0.0050 - val_loss: 0.0048\n",
      "Epoch 174/300\n",
      "60/60 [==============================] - 6s 95ms/step - loss: 0.0048 - val_loss: 0.0057\n",
      "Epoch 175/300\n",
      "60/60 [==============================] - 6s 98ms/step - loss: 0.0047 - val_loss: 0.0057\n",
      "Epoch 176/300\n",
      "60/60 [==============================] - 6s 96ms/step - loss: 0.0047 - val_loss: 0.0047\n",
      "Epoch 177/300\n",
      "60/60 [==============================] - 6s 100ms/step - loss: 0.0049 - val_loss: 0.0048\n",
      "Epoch 178/300\n",
      "60/60 [==============================] - 6s 95ms/step - loss: 0.0047 - val_loss: 0.0055\n",
      "Epoch 179/300\n",
      "60/60 [==============================] - 6s 94ms/step - loss: 0.0047 - val_loss: 0.0052\n",
      "Epoch 180/300\n",
      "60/60 [==============================] - 6s 94ms/step - loss: 0.0047 - val_loss: 0.0049\n",
      "Epoch 181/300\n",
      "60/60 [==============================] - 6s 100ms/step - loss: 0.0048 - val_loss: 0.0053\n",
      "Epoch 182/300\n",
      "60/60 [==============================] - 6s 96ms/step - loss: 0.0047 - val_loss: 0.0050\n",
      "Epoch 183/300\n",
      "60/60 [==============================] - 6s 96ms/step - loss: 0.0047 - val_loss: 0.0047\n",
      "Epoch 184/300\n",
      "60/60 [==============================] - 6s 95ms/step - loss: 0.0046 - val_loss: 0.0053\n",
      "Epoch 185/300\n",
      "60/60 [==============================] - 6s 102ms/step - loss: 0.0046 - val_loss: 0.0048\n",
      "Epoch 186/300\n",
      "60/60 [==============================] - 6s 96ms/step - loss: 0.0046 - val_loss: 0.0046\n",
      "Epoch 187/300\n",
      "60/60 [==============================] - 6s 96ms/step - loss: 0.0046 - val_loss: 0.0049\n",
      "Epoch 188/300\n",
      "60/60 [==============================] - 6s 94ms/step - loss: 0.0046 - val_loss: 0.0053\n",
      "Epoch 189/300\n",
      "60/60 [==============================] - 6s 100ms/step - loss: 0.0046 - val_loss: 0.0046\n",
      "Epoch 190/300\n",
      "60/60 [==============================] - 6s 94ms/step - loss: 0.0046 - val_loss: 0.0046\n",
      "Epoch 191/300\n",
      "60/60 [==============================] - 6s 94ms/step - loss: 0.0046 - val_loss: 0.0053\n",
      "Epoch 192/300\n",
      "60/60 [==============================] - 6s 95ms/step - loss: 0.0046 - val_loss: 0.0048\n",
      "Epoch 193/300\n",
      "60/60 [==============================] - 6s 98ms/step - loss: 0.0046 - val_loss: 0.0048\n",
      "Epoch 194/300\n",
      "60/60 [==============================] - 6s 95ms/step - loss: 0.0047 - val_loss: 0.0049\n",
      "Epoch 195/300\n",
      "60/60 [==============================] - 6s 95ms/step - loss: 0.0047 - val_loss: 0.0051\n",
      "Epoch 196/300\n",
      "60/60 [==============================] - 6s 94ms/step - loss: 0.0046 - val_loss: 0.0050\n",
      "Epoch 197/300\n",
      "60/60 [==============================] - 6s 98ms/step - loss: 0.0048 - val_loss: 0.0055\n",
      "Epoch 198/300\n",
      "60/60 [==============================] - 6s 95ms/step - loss: 0.0048 - val_loss: 0.0048\n",
      "Epoch 199/300\n",
      "60/60 [==============================] - 6s 96ms/step - loss: 0.0047 - val_loss: 0.0046\n",
      "Epoch 200/300\n",
      "60/60 [==============================] - 6s 95ms/step - loss: 0.0045 - val_loss: 0.0049\n",
      "Epoch 201/300\n",
      "60/60 [==============================] - 6s 99ms/step - loss: 0.0045 - val_loss: 0.0049\n",
      "Epoch 202/300\n",
      "60/60 [==============================] - 6s 96ms/step - loss: 0.0045 - val_loss: 0.0047\n",
      "Epoch 203/300\n",
      "60/60 [==============================] - 6s 94ms/step - loss: 0.0046 - val_loss: 0.0047\n",
      "Epoch 204/300\n",
      "60/60 [==============================] - 6s 94ms/step - loss: 0.0047 - val_loss: 0.0052\n",
      "Epoch 205/300\n",
      "60/60 [==============================] - 6s 98ms/step - loss: 0.0046 - val_loss: 0.0048\n",
      "Epoch 206/300\n",
      "60/60 [==============================] - 6s 94ms/step - loss: 0.0046 - val_loss: 0.0053\n",
      "Epoch 207/300\n",
      "60/60 [==============================] - 6s 95ms/step - loss: 0.0045 - val_loss: 0.0048\n",
      "Epoch 208/300\n",
      "60/60 [==============================] - 6s 95ms/step - loss: 0.0045 - val_loss: 0.0052\n",
      "Epoch 209/300\n",
      "60/60 [==============================] - 6s 98ms/step - loss: 0.0047 - val_loss: 0.0046\n",
      "Epoch 210/300\n",
      "60/60 [==============================] - 6s 94ms/step - loss: 0.0046 - val_loss: 0.0051\n",
      "Epoch 211/300\n",
      "60/60 [==============================] - 6s 97ms/step - loss: 0.0046 - val_loss: 0.0051\n",
      "Epoch 212/300\n",
      "60/60 [==============================] - 6s 97ms/step - loss: 0.0049 - val_loss: 0.0052\n",
      "Epoch 213/300\n",
      "60/60 [==============================] - 6s 99ms/step - loss: 0.0048 - val_loss: 0.0051\n",
      "Epoch 214/300\n",
      "60/60 [==============================] - 6s 95ms/step - loss: 0.0048 - val_loss: 0.0046\n",
      "Epoch 215/300\n",
      "60/60 [==============================] - 6s 95ms/step - loss: 0.0048 - val_loss: 0.0049\n",
      "Epoch 216/300\n",
      "60/60 [==============================] - 6s 96ms/step - loss: 0.0047 - val_loss: 0.0048\n",
      "Epoch 217/300\n",
      "60/60 [==============================] - 6s 98ms/step - loss: 0.0046 - val_loss: 0.0048\n",
      "Epoch 218/300\n",
      "60/60 [==============================] - 6s 95ms/step - loss: 0.0046 - val_loss: 0.0048\n",
      "Epoch 219/300\n",
      "60/60 [==============================] - 6s 95ms/step - loss: 0.0046 - val_loss: 0.0060\n",
      "Epoch 220/300\n",
      "60/60 [==============================] - 6s 94ms/step - loss: 0.0048 - val_loss: 0.0066\n",
      "Epoch 221/300\n",
      "60/60 [==============================] - 6s 98ms/step - loss: 0.0050 - val_loss: 0.0075\n",
      "Epoch 222/300\n",
      "60/60 [==============================] - 6s 95ms/step - loss: 0.0049 - val_loss: 0.0047\n",
      "Epoch 223/300\n",
      "60/60 [==============================] - 6s 94ms/step - loss: 0.0048 - val_loss: 0.0049\n",
      "Epoch 224/300\n",
      "60/60 [==============================] - 6s 96ms/step - loss: 0.0051 - val_loss: 0.0048\n",
      "Epoch 225/300\n",
      "60/60 [==============================] - 6s 97ms/step - loss: 0.0048 - val_loss: 0.0048\n",
      "Epoch 226/300\n",
      "60/60 [==============================] - 6s 94ms/step - loss: 0.0046 - val_loss: 0.0054\n",
      "Epoch 227/300\n",
      "60/60 [==============================] - 6s 94ms/step - loss: 0.0046 - val_loss: 0.0047\n",
      "Epoch 228/300\n",
      "60/60 [==============================] - 6s 94ms/step - loss: 0.0047 - val_loss: 0.0046\n",
      "Epoch 229/300\n",
      "60/60 [==============================] - 6s 99ms/step - loss: 0.0047 - val_loss: 0.0054\n",
      "Epoch 230/300\n",
      "60/60 [==============================] - 6s 93ms/step - loss: 0.0046 - val_loss: 0.0048\n",
      "Epoch 231/300\n",
      "60/60 [==============================] - 6s 93ms/step - loss: 0.0046 - val_loss: 0.0049\n",
      "Epoch 232/300\n",
      "60/60 [==============================] - 6s 95ms/step - loss: 0.0047 - val_loss: 0.0051\n",
      "Epoch 233/300\n",
      "60/60 [==============================] - 6s 100ms/step - loss: 0.0046 - val_loss: 0.0056\n",
      "Epoch 234/300\n",
      "60/60 [==============================] - 6s 95ms/step - loss: 0.0046 - val_loss: 0.0048\n",
      "Epoch 235/300\n",
      "60/60 [==============================] - 6s 97ms/step - loss: 0.0047 - val_loss: 0.0046\n",
      "Epoch 236/300\n",
      "60/60 [==============================] - 6s 96ms/step - loss: 0.0046 - val_loss: 0.0055\n",
      "Epoch 237/300\n",
      "60/60 [==============================] - 6s 99ms/step - loss: 0.0046 - val_loss: 0.0048\n",
      "Epoch 238/300\n",
      "60/60 [==============================] - 6s 94ms/step - loss: 0.0047 - val_loss: 0.0046\n",
      "Epoch 239/300\n",
      "60/60 [==============================] - 6s 95ms/step - loss: 0.0046 - val_loss: 0.0053\n",
      "Epoch 240/300\n",
      "60/60 [==============================] - 6s 95ms/step - loss: 0.0046 - val_loss: 0.0047\n",
      "Epoch 241/300\n",
      "60/60 [==============================] - 6s 100ms/step - loss: 0.0046 - val_loss: 0.0047\n",
      "Epoch 242/300\n",
      "60/60 [==============================] - 6s 96ms/step - loss: 0.0046 - val_loss: 0.0060\n",
      "Epoch 243/300\n",
      "60/60 [==============================] - 6s 95ms/step - loss: 0.0046 - val_loss: 0.0048\n",
      "Epoch 244/300\n",
      "60/60 [==============================] - 6s 95ms/step - loss: 0.0045 - val_loss: 0.0048\n",
      "Epoch 245/300\n",
      "60/60 [==============================] - 6s 106ms/step - loss: 0.0046 - val_loss: 0.0050\n",
      "Epoch 246/300\n",
      "60/60 [==============================] - 6s 94ms/step - loss: 0.0046 - val_loss: 0.0052\n",
      "Epoch 247/300\n",
      "60/60 [==============================] - 6s 95ms/step - loss: 0.0046 - val_loss: 0.0050\n",
      "Epoch 248/300\n",
      "60/60 [==============================] - 6s 96ms/step - loss: 0.0049 - val_loss: 0.0049\n",
      "Epoch 249/300\n",
      "60/60 [==============================] - 6s 98ms/step - loss: 0.0048 - val_loss: 0.0046\n",
      "Epoch 250/300\n",
      "60/60 [==============================] - 6s 94ms/step - loss: 0.0045 - val_loss: 0.0046\n",
      "Epoch 251/300\n",
      "60/60 [==============================] - 6s 96ms/step - loss: 0.0045 - val_loss: 0.0046\n",
      "Epoch 252/300\n",
      "60/60 [==============================] - 6s 96ms/step - loss: 0.0044 - val_loss: 0.0046\n",
      "Epoch 253/300\n",
      "60/60 [==============================] - 6s 104ms/step - loss: 0.0044 - val_loss: 0.0046\n",
      "Epoch 254/300\n",
      "60/60 [==============================] - 6s 92ms/step - loss: 0.0045 - val_loss: 0.0046\n",
      "Epoch 255/300\n",
      "60/60 [==============================] - 6s 94ms/step - loss: 0.0045 - val_loss: 0.0047\n",
      "Epoch 256/300\n",
      "60/60 [==============================] - 6s 97ms/step - loss: 0.0045 - val_loss: 0.0047\n",
      "Epoch 257/300\n",
      "60/60 [==============================] - 6s 99ms/step - loss: 0.0045 - val_loss: 0.0047\n",
      "Epoch 258/300\n",
      "60/60 [==============================] - 6s 95ms/step - loss: 0.0045 - val_loss: 0.0056\n",
      "Epoch 259/300\n",
      "60/60 [==============================] - 6s 94ms/step - loss: 0.0047 - val_loss: 0.0047\n",
      "Epoch 260/300\n",
      "60/60 [==============================] - 6s 93ms/step - loss: 0.0046 - val_loss: 0.0047\n",
      "Epoch 261/300\n",
      "60/60 [==============================] - 6s 100ms/step - loss: 0.0045 - val_loss: 0.0046\n",
      "Epoch 262/300\n",
      "60/60 [==============================] - 6s 97ms/step - loss: 0.0046 - val_loss: 0.0047\n",
      "Epoch 263/300\n",
      "60/60 [==============================] - 6s 95ms/step - loss: 0.0046 - val_loss: 0.0049\n",
      "Epoch 264/300\n",
      "60/60 [==============================] - 6s 95ms/step - loss: 0.0046 - val_loss: 0.0048\n",
      "Epoch 265/300\n",
      "60/60 [==============================] - 6s 99ms/step - loss: 0.0045 - val_loss: 0.0045\n",
      "Epoch 266/300\n",
      "60/60 [==============================] - 6s 98ms/step - loss: 0.0045 - val_loss: 0.0047\n",
      "Epoch 267/300\n",
      "60/60 [==============================] - 6s 95ms/step - loss: 0.0045 - val_loss: 0.0046\n",
      "Epoch 268/300\n",
      "60/60 [==============================] - 6s 96ms/step - loss: 0.0045 - val_loss: 0.0050\n",
      "Epoch 269/300\n",
      "60/60 [==============================] - 6s 98ms/step - loss: 0.0046 - val_loss: 0.0050\n",
      "Epoch 270/300\n",
      "60/60 [==============================] - 6s 95ms/step - loss: 0.0046 - val_loss: 0.0046\n",
      "Epoch 271/300\n",
      "60/60 [==============================] - 6s 97ms/step - loss: 0.0045 - val_loss: 0.0047\n",
      "Epoch 272/300\n",
      "60/60 [==============================] - 6s 98ms/step - loss: 0.0045 - val_loss: 0.0054\n",
      "Epoch 273/300\n",
      "60/60 [==============================] - 6s 97ms/step - loss: 0.0047 - val_loss: 0.0053\n",
      "Epoch 274/300\n",
      "60/60 [==============================] - 6s 95ms/step - loss: 0.0047 - val_loss: 0.0048\n",
      "Epoch 275/300\n",
      "60/60 [==============================] - 6s 95ms/step - loss: 0.0047 - val_loss: 0.0052\n",
      "Epoch 276/300\n",
      "60/60 [==============================] - 6s 98ms/step - loss: 0.0047 - val_loss: 0.0047\n",
      "Epoch 277/300\n",
      "60/60 [==============================] - 6s 93ms/step - loss: 0.0047 - val_loss: 0.0050\n",
      "Epoch 278/300\n",
      "60/60 [==============================] - 6s 94ms/step - loss: 0.0046 - val_loss: 0.0052\n",
      "Epoch 279/300\n",
      "60/60 [==============================] - 6s 95ms/step - loss: 0.0047 - val_loss: 0.0053\n",
      "Epoch 280/300\n",
      "60/60 [==============================] - 6s 98ms/step - loss: 0.0047 - val_loss: 0.0049\n",
      "Epoch 281/300\n",
      "60/60 [==============================] - 6s 94ms/step - loss: 0.0052 - val_loss: 0.0061\n",
      "Epoch 282/300\n",
      "60/60 [==============================] - 6s 94ms/step - loss: 0.0051 - val_loss: 0.0049\n",
      "Epoch 283/300\n",
      "60/60 [==============================] - 6s 93ms/step - loss: 0.0047 - val_loss: 0.0049\n",
      "Epoch 284/300\n",
      "60/60 [==============================] - 6s 97ms/step - loss: 0.0048 - val_loss: 0.0048\n",
      "Epoch 285/300\n",
      "60/60 [==============================] - 6s 96ms/step - loss: 0.0047 - val_loss: 0.0053\n",
      "Epoch 286/300\n",
      "60/60 [==============================] - 6s 96ms/step - loss: 0.0046 - val_loss: 0.0050\n",
      "Epoch 287/300\n",
      "60/60 [==============================] - 6s 95ms/step - loss: 0.0048 - val_loss: 0.0048\n",
      "Epoch 288/300\n",
      "60/60 [==============================] - 6s 97ms/step - loss: 0.0048 - val_loss: 0.0046\n",
      "Epoch 289/300\n",
      "60/60 [==============================] - 6s 93ms/step - loss: 0.0048 - val_loss: 0.0055\n",
      "Epoch 290/300\n",
      "60/60 [==============================] - 6s 96ms/step - loss: 0.0049 - val_loss: 0.0051\n",
      "Epoch 291/300\n",
      "60/60 [==============================] - 6s 95ms/step - loss: 0.0046 - val_loss: 0.0052\n",
      "Epoch 292/300\n",
      "60/60 [==============================] - 6s 96ms/step - loss: 0.0047 - val_loss: 0.0052\n",
      "Epoch 293/300\n",
      "60/60 [==============================] - 6s 96ms/step - loss: 0.0046 - val_loss: 0.0052\n",
      "Epoch 294/300\n",
      "60/60 [==============================] - 6s 92ms/step - loss: 0.0047 - val_loss: 0.0049\n",
      "Epoch 295/300\n",
      "60/60 [==============================] - 6s 96ms/step - loss: 0.0045 - val_loss: 0.0054\n",
      "Epoch 296/300\n",
      "60/60 [==============================] - 6s 98ms/step - loss: 0.0046 - val_loss: 0.0046\n",
      "Epoch 297/300\n",
      "60/60 [==============================] - 6s 96ms/step - loss: 0.0045 - val_loss: 0.0053\n",
      "Epoch 298/300\n",
      "60/60 [==============================] - 6s 96ms/step - loss: 0.0046 - val_loss: 0.0047\n",
      "Epoch 299/300\n",
      "60/60 [==============================] - 6s 100ms/step - loss: 0.0046 - val_loss: 0.0047\n",
      "Epoch 300/300\n",
      "60/60 [==============================] - 6s 97ms/step - loss: 0.0046 - val_loss: 0.0054\n"
     ]
    }
   ],
   "source": [
    "# from tensorflow.keras.callbacks import EarlyStopping\n",
    "# run the modelvalidat\n",
    "# early_stopping = EarlyStopping(monitor='val_loss', min_delta=0, patience=20, verbose=5, mode='auto')\n",
    "history = ae.fit(train_crops, epochs=300, steps_per_epoch=len(train_generator)*2, validation_data=val_crops, validation_steps =len(validation_generator),  verbose=1, shuffle = True)"
   ]
  },
  {
   "cell_type": "code",
   "execution_count": 25,
   "metadata": {},
   "outputs": [
    {
     "data": {
      "image/png": "[encoded data removed]",
      "text/plain": [
       "<Figure size 640x480 with 1 Axes>"
      ]
     },
     "metadata": {},
     "output_type": "display_data"
    }
   ],
   "source": [
    "\n",
    "# Get the training and validation loss values from the history object\n",
    "train_loss = history.history['loss']\n",
    "val_loss = history.history['val_loss']\n",
    "\n",
    "# Plot the training and validation loss\n",
    "epochs = range(1, len(train_loss) + 1)\n",
    "plt.plot(epochs, train_loss, 'b-', label='Training Loss')\n",
    "plt.plot(epochs, val_loss, 'r-', label='Validation Loss')\n",
    "plt.title('Training and Validation Loss')\n",
    "plt.xlabel('Epochs')\n",
    "plt.ylabel('Loss')\n",
    "plt.legend()\n",
    "plt.show()\n"
   ]
  },
  {
   "cell_type": "code",
   "execution_count": 26,
   "metadata": {},
   "outputs": [
    {
     "name": "stdout",
     "output_type": "stream",
     "text": [
      "UsingValidDS1_4\n"
     ]
    }
   ],
   "source": [
    "model_version = 'UsingValidDS1_4'\n",
    "print(model_version)"
   ]
  },
  {
   "cell_type": "code",
   "execution_count": 27,
   "metadata": {},
   "outputs": [
    {
     "name": "stderr",
     "output_type": "stream",
     "text": [
      "2023-06-11 21:19:20.782105: W tensorflow/python/util/util.cc:329] Sets are not currently considered sequences, but this may change in the future, so consider avoiding using them.\n"
     ]
    },
    {
     "name": "stdout",
     "output_type": "stream",
     "text": [
      "WARNING:tensorflow:From /home/alexpc/.local/lib/python3.8/site-packages/tensorflow/python/ops/resource_variable_ops.py:1813: calling BaseResourceVariable.__init__ (from tensorflow.python.ops.resource_variable_ops) with constraint is deprecated and will be removed in a future version.\n",
      "Instructions for updating:\n",
      "If using Keras pass *_constraint arguments to layers.\n",
      "INFO:tensorflow:Assets written to: ../../BottlesAnomalies_TFM/models/UsingValidDS1_4/assets\n"
     ]
    }
   ],
   "source": [
    "ae.save(f\"../../BottlesAnomalies_TFM/models/{model_version}\")"
   ]
  },
  {
   "attachments": {},
   "cell_type": "markdown",
   "metadata": {},
   "source": [
    "Loading the model that was previously saved\n"
   ]
  },
  {
   "cell_type": "code",
   "execution_count": 28,
   "metadata": {},
   "outputs": [
    {
     "name": "stdout",
     "output_type": "stream",
     "text": [
      "<class 'tensorflow.python.keras.engine.training.Model'>\n"
     ]
    }
   ],
   "source": [
    "model = keras.models.load_model('../models/UsingValidDS1_4')\n",
    "print(type(model))"
   ]
  },
  {
   "attachments": {},
   "cell_type": "markdown",
   "metadata": {},
   "source": [
    "## See the weights after the model loading"
   ]
  },
  {
   "attachments": {},
   "cell_type": "markdown",
   "metadata": {},
   "source": [
    "These are the weights of a specific layer of the encoder model, AFTER training:"
   ]
  },
  {
   "cell_type": "code",
   "execution_count": 29,
   "metadata": {},
   "outputs": [
    {
     "name": "stdout",
     "output_type": "stream",
     "text": [
      "quantity of layers in the model:  13\n",
      "The weigths in the conv2d is:  [<tf.Variable 'conv2d/kernel:0' shape=(3, 3, 3, 64) dtype=float32, numpy=\n",
      "array([[[[-2.21542135e-01, -5.96564598e-02, -5.04024141e-03, ...,\n",
      "           6.59672022e-02, -1.54379770e-01,  6.56774193e-02],\n",
      "         [-1.68584988e-01, -8.66076648e-02,  3.37250344e-02, ...,\n",
      "           5.00119813e-02, -8.53735358e-02, -1.22592159e-01],\n",
      "         [-7.19383210e-02, -1.04005173e-01,  3.05686630e-02, ...,\n",
      "          -4.68878634e-03, -8.10991749e-02,  2.15647276e-02]],\n",
      "\n",
      "        [[ 1.06831342e-01, -7.79534727e-02,  1.72134206e-01, ...,\n",
      "          -3.81176062e-02, -2.34470645e-04, -3.17608682e-03],\n",
      "         [ 7.12358207e-02, -6.58096373e-02,  9.45042148e-02, ...,\n",
      "          -2.90815607e-02, -1.26943886e-01,  2.32764948e-02],\n",
      "         [ 4.48258519e-02,  1.74849648e-02,  1.60163105e-01, ...,\n",
      "          -1.18638702e-01, -1.36219591e-01,  5.15888147e-02]],\n",
      "\n",
      "        [[-1.47652671e-01,  2.40587085e-01, -1.10310994e-01, ...,\n",
      "           2.47903224e-02,  1.93644632e-02,  8.55053291e-02],\n",
      "         [-2.22605523e-02,  2.51007944e-01, -1.08697988e-01, ...,\n",
      "           1.25026405e-01, -9.25842226e-02, -3.65144238e-02],\n",
      "         [-1.36226550e-01,  2.52253830e-01, -3.30223814e-02, ...,\n",
      "           4.57801744e-02, -9.94384438e-02,  5.99020272e-02]]],\n",
      "\n",
      "\n",
      "       [[[ 1.77738909e-02, -1.53168425e-01, -1.50404617e-01, ...,\n",
      "           2.54400335e-02, -7.53172040e-02,  6.67145252e-02],\n",
      "         [ 5.45444153e-02, -1.61609367e-01, -2.20088094e-01, ...,\n",
      "          -5.25009185e-02, -1.66124836e-01,  7.68431500e-02],\n",
      "         [-6.01090454e-02, -3.54969613e-02, -1.62175089e-01, ...,\n",
      "           3.83179486e-02,  1.87086500e-02,  8.18346590e-02]],\n",
      "\n",
      "        [[ 6.43284200e-03, -9.88046974e-02, -1.04107343e-01, ...,\n",
      "           3.24416697e-01, -7.16704130e-02,  5.92591763e-02],\n",
      "         [ 1.04572885e-01, -8.36009085e-02,  2.50892085e-03, ...,\n",
      "           2.70152777e-01, -7.82734901e-02,  4.22231816e-02],\n",
      "         [ 1.11497909e-01,  4.81602065e-02, -1.19849980e-01, ...,\n",
      "           2.00449854e-01,  1.76608674e-02,  1.92304663e-02]],\n",
      "\n",
      "        [[-5.57075143e-02,  5.53874951e-03, -1.33874550e-01, ...,\n",
      "          -2.91367799e-01, -1.55727029e-01,  4.65077609e-02],\n",
      "         [ 4.29554703e-03,  1.57778606e-01, -1.84998959e-01, ...,\n",
      "          -3.66232514e-01, -2.59457454e-02,  6.18754365e-02],\n",
      "         [-1.35674924e-01,  1.74384713e-01, -1.39679551e-01, ...,\n",
      "          -3.81315261e-01, -8.59848186e-02,  5.34082092e-02]]],\n",
      "\n",
      "\n",
      "       [[[-2.14715704e-01, -2.95191724e-02, -8.36449265e-02, ...,\n",
      "          -2.32397005e-01, -8.77296850e-02, -7.34111965e-02],\n",
      "         [-7.88712204e-02, -1.02189206e-01,  3.18898931e-02, ...,\n",
      "          -1.91780224e-01, -1.05278948e-02,  4.45471890e-02],\n",
      "         [-1.40405431e-01, -4.16448154e-02, -2.56078988e-02, ...,\n",
      "          -1.97046474e-01,  4.41649742e-02,  4.56401631e-02]],\n",
      "\n",
      "        [[-3.13845187e-01, -6.76044747e-02,  1.56033859e-01, ...,\n",
      "          -1.20319635e-01,  7.62393400e-02,  8.57422426e-02],\n",
      "         [-2.58791834e-01,  2.15791427e-02,  1.65705264e-01, ...,\n",
      "          -1.62981778e-01,  9.79351178e-02, -2.25170888e-02],\n",
      "         [-1.24831252e-01, -6.52934015e-02,  3.29268686e-02, ...,\n",
      "          -2.32988507e-01,  6.86327415e-03,  5.03106080e-02]],\n",
      "\n",
      "        [[-1.09946571e-01, -9.08772871e-02,  3.39669734e-02, ...,\n",
      "          -1.75299227e-01, -6.23505227e-02, -4.75997664e-02],\n",
      "         [-1.77981809e-01, -3.17814387e-02,  4.88308026e-04, ...,\n",
      "          -1.03585450e-02, -3.05520408e-02,  3.88901681e-02],\n",
      "         [-2.08283052e-01, -9.65787098e-02, -3.52169909e-02, ...,\n",
      "          -1.46828353e-01,  6.07417710e-02,  7.92968571e-02]]]],\n",
      "      dtype=float32)>, <tf.Variable 'conv2d/bias:0' shape=(64,) dtype=float32, numpy=\n",
      "array([-0.04963953, -0.15841614, -0.04938693, -0.13691817,  0.00025954,\n",
      "        0.0593456 ,  0.1168277 ,  0.        , -0.23825273, -0.01527926,\n",
      "       -0.00413817,  0.20141856, -0.17590058,  0.        , -0.0054234 ,\n",
      "       -0.13170537, -0.07071617, -0.1333845 , -0.00999641, -0.00045226,\n",
      "       -0.13530815, -0.01553467, -0.11987399,  0.        , -0.01505059,\n",
      "       -0.01386123, -0.06450347, -0.00917958, -0.00720126, -0.01926991,\n",
      "       -0.08791909, -0.03566308, -0.01701459, -0.02860031, -0.03027565,\n",
      "       -0.00467707, -0.11048213, -0.03290166, -0.04906709,  0.02697431,\n",
      "       -0.06098358, -0.03485283, -0.01618827, -0.08345789, -0.02592668,\n",
      "       -0.14029975,  0.13760014,  0.20054601, -0.06231573,  0.09156725,\n",
      "       -0.23773158, -0.1118154 , -0.11481842, -0.05712566, -0.02212514,\n",
      "       -0.00550096, -0.02025099, -0.02966179, -0.1502578 , -0.01306622,\n",
      "        0.03127484,  0.10406505, -0.0185688 , -0.16328618], dtype=float32)>]\n"
     ]
    }
   ],
   "source": [
    "layer_number = 1\n",
    "print(\"quantity of layers in the model: \", len(encoder.layers))\n",
    "print(\"The weigths in the\", encoder.layers[layer_number].name, \"is: \", encoder.layers[layer_number].weights)"
   ]
  },
  {
   "attachments": {},
   "cell_type": "markdown",
   "metadata": {},
   "source": [
    "These are the weights of a specific layer of the Autoencoder model, AFTER training:"
   ]
  },
  {
   "cell_type": "code",
   "execution_count": 30,
   "metadata": {},
   "outputs": [
    {
     "name": "stdout",
     "output_type": "stream",
     "text": [
      "quantity of layers in the model:  14\n",
      "The weigths in the conv2d is:  [<tf.Variable 'conv2d/kernel:0' shape=(3, 3, 3, 64) dtype=float32, numpy=\n",
      "array([[[[-2.21542135e-01, -5.96564598e-02, -5.04024141e-03, ...,\n",
      "           6.59672022e-02, -1.54379770e-01,  6.56774193e-02],\n",
      "         [-1.68584988e-01, -8.66076648e-02,  3.37250344e-02, ...,\n",
      "           5.00119813e-02, -8.53735358e-02, -1.22592159e-01],\n",
      "         [-7.19383210e-02, -1.04005173e-01,  3.05686630e-02, ...,\n",
      "          -4.68878634e-03, -8.10991749e-02,  2.15647276e-02]],\n",
      "\n",
      "        [[ 1.06831342e-01, -7.79534727e-02,  1.72134206e-01, ...,\n",
      "          -3.81176062e-02, -2.34470645e-04, -3.17608682e-03],\n",
      "         [ 7.12358207e-02, -6.58096373e-02,  9.45042148e-02, ...,\n",
      "          -2.90815607e-02, -1.26943886e-01,  2.32764948e-02],\n",
      "         [ 4.48258519e-02,  1.74849648e-02,  1.60163105e-01, ...,\n",
      "          -1.18638702e-01, -1.36219591e-01,  5.15888147e-02]],\n",
      "\n",
      "        [[-1.47652671e-01,  2.40587085e-01, -1.10310994e-01, ...,\n",
      "           2.47903224e-02,  1.93644632e-02,  8.55053291e-02],\n",
      "         [-2.22605523e-02,  2.51007944e-01, -1.08697988e-01, ...,\n",
      "           1.25026405e-01, -9.25842226e-02, -3.65144238e-02],\n",
      "         [-1.36226550e-01,  2.52253830e-01, -3.30223814e-02, ...,\n",
      "           4.57801744e-02, -9.94384438e-02,  5.99020272e-02]]],\n",
      "\n",
      "\n",
      "       [[[ 1.77738909e-02, -1.53168425e-01, -1.50404617e-01, ...,\n",
      "           2.54400335e-02, -7.53172040e-02,  6.67145252e-02],\n",
      "         [ 5.45444153e-02, -1.61609367e-01, -2.20088094e-01, ...,\n",
      "          -5.25009185e-02, -1.66124836e-01,  7.68431500e-02],\n",
      "         [-6.01090454e-02, -3.54969613e-02, -1.62175089e-01, ...,\n",
      "           3.83179486e-02,  1.87086500e-02,  8.18346590e-02]],\n",
      "\n",
      "        [[ 6.43284200e-03, -9.88046974e-02, -1.04107343e-01, ...,\n",
      "           3.24416697e-01, -7.16704130e-02,  5.92591763e-02],\n",
      "         [ 1.04572885e-01, -8.36009085e-02,  2.50892085e-03, ...,\n",
      "           2.70152777e-01, -7.82734901e-02,  4.22231816e-02],\n",
      "         [ 1.11497909e-01,  4.81602065e-02, -1.19849980e-01, ...,\n",
      "           2.00449854e-01,  1.76608674e-02,  1.92304663e-02]],\n",
      "\n",
      "        [[-5.57075143e-02,  5.53874951e-03, -1.33874550e-01, ...,\n",
      "          -2.91367799e-01, -1.55727029e-01,  4.65077609e-02],\n",
      "         [ 4.29554703e-03,  1.57778606e-01, -1.84998959e-01, ...,\n",
      "          -3.66232514e-01, -2.59457454e-02,  6.18754365e-02],\n",
      "         [-1.35674924e-01,  1.74384713e-01, -1.39679551e-01, ...,\n",
      "          -3.81315261e-01, -8.59848186e-02,  5.34082092e-02]]],\n",
      "\n",
      "\n",
      "       [[[-2.14715704e-01, -2.95191724e-02, -8.36449265e-02, ...,\n",
      "          -2.32397005e-01, -8.77296850e-02, -7.34111965e-02],\n",
      "         [-7.88712204e-02, -1.02189206e-01,  3.18898931e-02, ...,\n",
      "          -1.91780224e-01, -1.05278948e-02,  4.45471890e-02],\n",
      "         [-1.40405431e-01, -4.16448154e-02, -2.56078988e-02, ...,\n",
      "          -1.97046474e-01,  4.41649742e-02,  4.56401631e-02]],\n",
      "\n",
      "        [[-3.13845187e-01, -6.76044747e-02,  1.56033859e-01, ...,\n",
      "          -1.20319635e-01,  7.62393400e-02,  8.57422426e-02],\n",
      "         [-2.58791834e-01,  2.15791427e-02,  1.65705264e-01, ...,\n",
      "          -1.62981778e-01,  9.79351178e-02, -2.25170888e-02],\n",
      "         [-1.24831252e-01, -6.52934015e-02,  3.29268686e-02, ...,\n",
      "          -2.32988507e-01,  6.86327415e-03,  5.03106080e-02]],\n",
      "\n",
      "        [[-1.09946571e-01, -9.08772871e-02,  3.39669734e-02, ...,\n",
      "          -1.75299227e-01, -6.23505227e-02, -4.75997664e-02],\n",
      "         [-1.77981809e-01, -3.17814387e-02,  4.88308026e-04, ...,\n",
      "          -1.03585450e-02, -3.05520408e-02,  3.88901681e-02],\n",
      "         [-2.08283052e-01, -9.65787098e-02, -3.52169909e-02, ...,\n",
      "          -1.46828353e-01,  6.07417710e-02,  7.92968571e-02]]]],\n",
      "      dtype=float32)>, <tf.Variable 'conv2d/bias:0' shape=(64,) dtype=float32, numpy=\n",
      "array([-0.04963953, -0.15841614, -0.04938693, -0.13691817,  0.00025954,\n",
      "        0.0593456 ,  0.1168277 ,  0.        , -0.23825273, -0.01527926,\n",
      "       -0.00413817,  0.20141856, -0.17590058,  0.        , -0.0054234 ,\n",
      "       -0.13170537, -0.07071617, -0.1333845 , -0.00999641, -0.00045226,\n",
      "       -0.13530815, -0.01553467, -0.11987399,  0.        , -0.01505059,\n",
      "       -0.01386123, -0.06450347, -0.00917958, -0.00720126, -0.01926991,\n",
      "       -0.08791909, -0.03566308, -0.01701459, -0.02860031, -0.03027565,\n",
      "       -0.00467707, -0.11048213, -0.03290166, -0.04906709,  0.02697431,\n",
      "       -0.06098358, -0.03485283, -0.01618827, -0.08345789, -0.02592668,\n",
      "       -0.14029975,  0.13760014,  0.20054601, -0.06231573,  0.09156725,\n",
      "       -0.23773158, -0.1118154 , -0.11481842, -0.05712566, -0.02212514,\n",
      "       -0.00550096, -0.02025099, -0.02966179, -0.1502578 , -0.01306622,\n",
      "        0.03127484,  0.10406505, -0.0185688 , -0.16328618], dtype=float32)>]\n"
     ]
    }
   ],
   "source": [
    "layer_number = 1\n",
    "print(\"quantity of layers in the model: \", len(model.layers))\n",
    "print(\"The weigths in the\", model.layers[layer_number].name, \"is: \", model.layers[layer_number].weights)"
   ]
  },
  {
   "attachments": {},
   "cell_type": "markdown",
   "metadata": {},
   "source": [
    "Indeed the weights of the \"Autoencoder\" model have been updated but the ones from the \"Encoder\" have not. This is expected, since the model that was trained was actually the \"Autoencoder\" mdoel."
   ]
  },
  {
   "attachments": {},
   "cell_type": "markdown",
   "metadata": {},
   "source": [
    "## Perform an Autoencoder reconstruction in one image"
   ]
  },
  {
   "attachments": {},
   "cell_type": "markdown",
   "metadata": {},
   "source": [
    "Get all batches generated by the datagen and pick a batch for prediction"
   ]
  },
  {
   "cell_type": "code",
   "execution_count": 31,
   "metadata": {},
   "outputs": [
    {
     "name": "stdout",
     "output_type": "stream",
     "text": [
      "number of batches are:  30\n"
     ]
    }
   ],
   "source": [
    "#Just to test the model. \n",
    "data_batch = []  #Capture all training batches as a numpy array\n",
    "img_num = 0\n",
    "# while img_num <= train_generator.batch_index:   #gets each generated batch of size batch_size\n",
    "while img_num < len(train_generator):        #I think this should be the correct while clause\n",
    "    data = next(train_crops)[0]\n",
    "    data_batch.append(data)\n",
    "    img_num = img_num + 1\n",
    "    \n",
    "print(\"number of batches are: \", img_num)\n",
    "\n"
   ]
  },
  {
   "cell_type": "code",
   "execution_count": 32,
   "metadata": {},
   "outputs": [
    {
     "name": "stdout",
     "output_type": "stream",
     "text": [
      "(10, 160, 128, 3)\n"
     ]
    }
   ],
   "source": [
    "print(data[0].shape)"
   ]
  },
  {
   "cell_type": "code",
   "execution_count": 33,
   "metadata": {},
   "outputs": [
    {
     "name": "stdout",
     "output_type": "stream",
     "text": [
      "30\n"
     ]
    }
   ],
   "source": [
    "print(len(data_batch))"
   ]
  },
  {
   "cell_type": "code",
   "execution_count": 34,
   "metadata": {},
   "outputs": [
    {
     "name": "stdout",
     "output_type": "stream",
     "text": [
      "(10, 160, 128, 3)\n"
     ]
    }
   ],
   "source": [
    "print(data_batch[1][0].shape)"
   ]
  },
  {
   "attachments": {},
   "cell_type": "markdown",
   "metadata": {},
   "source": [
    "Predict on the first batch of images. Do also notice that the prediction is being carried out over the images we used for training."
   ]
  },
  {
   "cell_type": "code",
   "execution_count": 35,
   "metadata": {},
   "outputs": [
    {
     "name": "stdout",
     "output_type": "stream",
     "text": [
      "(10, 160, 128, 3)\n",
      "(10, 160, 128, 3)\n"
     ]
    }
   ],
   "source": [
    "print(data_batch[0][0].shape)\n",
    "predicted = model.predict(data_batch[0])  \n",
    "print(predicted.shape)"
   ]
  },
  {
   "attachments": {},
   "cell_type": "markdown",
   "metadata": {},
   "source": [
    "The above is 15 length because it corresponds to the 15 predicted images of a batch. Recall that the predictions are reconstructions of the input images, since we are working with the autoencoder network."
   ]
  },
  {
   "cell_type": "code",
   "execution_count": 36,
   "metadata": {},
   "outputs": [],
   "source": [
    "single_batch = data_batch[0][0]"
   ]
  },
  {
   "cell_type": "code",
   "execution_count": 37,
   "metadata": {},
   "outputs": [
    {
     "name": "stdout",
     "output_type": "stream",
     "text": [
      "(10, 160, 128, 3)\n"
     ]
    }
   ],
   "source": [
    "print(single_batch.shape)"
   ]
  },
  {
   "cell_type": "code",
   "execution_count": 38,
   "metadata": {},
   "outputs": [
    {
     "name": "stdout",
     "output_type": "stream",
     "text": [
      "(160, 128, 3)\n"
     ]
    }
   ],
   "source": [
    "single_img = single_batch[0]\n",
    "print(single_img.shape)"
   ]
  },
  {
   "cell_type": "code",
   "execution_count": 39,
   "metadata": {},
   "outputs": [
    {
     "data": {
      "image/png": "[encoded data removed]",
      "text/plain": [
       "<Figure size 1200x600 with 2 Axes>"
      ]
     },
     "metadata": {},
     "output_type": "display_data"
    }
   ],
   "source": [
    "#Sanity check, view few images and corresponding reconstructions\n",
    "image_number = random.randint(0, predicted.shape[0]-1)\n",
    "plt.figure(figsize=(12, 6))\n",
    "plt.subplot(121)\n",
    "plt.title(\"input image\")\n",
    "plt.imshow(data_batch[0][0][image_number])\n",
    "plt.subplot(122)\n",
    "plt.title(\"reconstructed image\")\n",
    "plt.imshow(predicted[image_number])\n",
    "plt.show()"
   ]
  },
  {
   "attachments": {},
   "cell_type": "markdown",
   "metadata": {},
   "source": [
    "# Quantifying the reconstruction error using \"evaluate_generator()\" function"
   ]
  },
  {
   "attachments": {},
   "cell_type": "markdown",
   "metadata": {},
   "source": [
    "Let us examine the reconstruction error of our validation data (good/normal images) and the anomaly images"
   ]
  },
  {
   "cell_type": "code",
   "execution_count": 40,
   "metadata": {},
   "outputs": [
    {
     "name": "stdout",
     "output_type": "stream",
     "text": [
      "WARNING:tensorflow:From /tmp/ipykernel_13051/1040139700.py:1: Model.evaluate_generator (from tensorflow.python.keras.engine.training) is deprecated and will be removed in a future version.\n",
      "Instructions for updating:\n",
      "Please use Model.evaluate, which supports generators.\n",
      "Recon. error for the validation (normal) data is:  0.005358527414500713\n"
     ]
    }
   ],
   "source": [
    "validation_error = model.evaluate_generator(val_crops, steps=len(validation_generator))\n",
    "print(\"Recon. error for the validation (normal) data is: \", validation_error)\n",
    "\n",
    "\n"
   ]
  },
  {
   "attachments": {},
   "cell_type": "markdown",
   "metadata": {},
   "source": [
    "This reconstruction error above should be very low, since the validation generator is full of normal images (good images)"
   ]
  },
  {
   "attachments": {},
   "cell_type": "markdown",
   "metadata": {},
   "source": [
    "Whereas the reconstruction error here below, for the \"anomaly_generator\" should be higher, since this dataset is comprised of full anomaly images."
   ]
  },
  {
   "cell_type": "code",
   "execution_count": 41,
   "metadata": {},
   "outputs": [
    {
     "name": "stdout",
     "output_type": "stream",
     "text": [
      "Recon. error for the anomaly data is:  0.010926959104835987\n"
     ]
    }
   ],
   "source": [
    "anomaly_error = model.evaluate_generator(anomaly_crops, steps=len(anomaly_generator))\n",
    "print(\"Recon. error for the anomaly data is: \", anomaly_error)"
   ]
  },
  {
   "attachments": {},
   "cell_type": "markdown",
   "metadata": {},
   "source": [
    "See that this error is slightly higher than the error in the validation dataset. This is good, but the difference is not that significant and this could result in wrong anomaly detections. Let's see some detections."
   ]
  },
  {
   "attachments": {},
   "cell_type": "markdown",
   "metadata": {},
   "source": [
    "SIDENOTE: Additionally, we can check the train generator error according to the \"evaluate_generator()\" function."
   ]
  },
  {
   "cell_type": "code",
   "execution_count": 42,
   "metadata": {},
   "outputs": [
    {
     "name": "stdout",
     "output_type": "stream",
     "text": [
      "Recon. error for the training (non-anomaly) data is:  0.005550884176045656\n"
     ]
    }
   ],
   "source": [
    "\n",
    "training_error = model.evaluate_generator(train_crops, steps=len(train_generator)*2)\n",
    "print(\"Recon. error for the training (non-anomaly) data is: \", training_error)\n",
    "\n"
   ]
  },
  {
   "attachments": {},
   "cell_type": "markdown",
   "metadata": {},
   "source": [
    "See that the above value does not correspond with the below mean reconstruction error of the training set that will be computed. It should at least be close, I think. This is something to check."
   ]
  },
  {
   "attachments": {},
   "cell_type": "markdown",
   "metadata": {},
   "source": [
    "Also see tha the error from the anomaly images is smaller than the error of the training set, which consists of non-anomaly images. THis is not expected and means that this particular model is shit."
   ]
  },
  {
   "attachments": {},
   "cell_type": "markdown",
   "metadata": {},
   "source": [
    "# Computing the reconstruction error without using the \"evaluate_generator()\" function"
   ]
  },
  {
   "attachments": {},
   "cell_type": "markdown",
   "metadata": {},
   "source": [
    "The following function computes the reconstrution error per each batch of images. It does, for each of the batches:\n",
    "- Initialize a vector for storing the reconstruction errors.\n",
    "- A for loop that traverses all the images contained in a batch.\n",
    "    - Take the one image of the batch.\n",
    "    - Add a new size dimension to the image.\n",
    "    - Make a prediction of the selected image with the model that was built.\n",
    "    - Evaluate the performance of the prediction, i.e. compute the prediction error.\n",
    "    - Append the reconstruction error into a list.\n",
    "- Compute the mean and std deviation of the error.\n",
    " "
   ]
  },
  {
   "cell_type": "code",
   "execution_count": 43,
   "metadata": {},
   "outputs": [],
   "source": [
    "def calc_recon_error(batch_images):   \n",
    "    recon_error_list=[]\n",
    "    for im in range(0, batch_images.shape[0]):\n",
    "        img  = batch_images[im]\n",
    "        img = img[np.newaxis, :,:,:]\n",
    "        reconstruction = model.predict([[img]])\n",
    "        # reconstruction_error = model.evaluate([reconstruction],[[img]], batch_size = 1)[0]    # The batch_size parameter for the moment can be supressed. Results were seen to be the same\n",
    "        # reconstruction_error = model.evaluate([reconstruction],[[img]])[0]                    # It included the [0] subscription but with this new model, the rec error is directly a float value, so no more need for subscription\n",
    "        reconstruction_error = model.evaluate([reconstruction],[[img]])\n",
    "        recon_error_list.append(reconstruction_error)   \n",
    "    return recon_error_list"
   ]
  },
  {
   "cell_type": "code",
   "execution_count": 44,
   "metadata": {},
   "outputs": [
    {
     "name": "stdout",
     "output_type": "stream",
     "text": [
      "1/1 [==============================] - 0s 755us/step - loss: 0.0092\n",
      "1/1 [==============================] - 0s 684us/step - loss: 0.0078\n",
      "1/1 [==============================] - 0s 1ms/step - loss: 0.0158\n",
      "1/1 [==============================] - 0s 1ms/step - loss: 0.0092\n",
      "1/1 [==============================] - 0s 681us/step - loss: 0.0127\n",
      "1/1 [==============================] - 0s 685us/step - loss: 0.0193\n",
      "1/1 [==============================] - 0s 663us/step - loss: 0.0105\n",
      "1/1 [==============================] - 0s 775us/step - loss: 0.0079\n",
      "1/1 [==============================] - 0s 714us/step - loss: 0.0135\n",
      "1/1 [==============================] - 0s 656us/step - loss: 0.0148\n",
      "1/1 [==============================] - 0s 787us/step - loss: 0.0117\n",
      "1/1 [==============================] - 0s 1ms/step - loss: 0.0125\n",
      "1/1 [==============================] - 0s 802us/step - loss: 0.0137\n",
      "1/1 [==============================] - 0s 921us/step - loss: 0.0162\n",
      "1/1 [==============================] - 0s 750us/step - loss: 0.0174\n",
      "1/1 [==============================] - 0s 646us/step - loss: 0.0197\n",
      "1/1 [==============================] - 0s 713us/step - loss: 0.0175\n",
      "1/1 [==============================] - 0s 947us/step - loss: 0.0169\n",
      "1/1 [==============================] - 0s 994us/step - loss: 0.0085\n",
      "1/1 [==============================] - 0s 779us/step - loss: 0.0068\n",
      "1/1 [==============================] - 0s 809us/step - loss: 0.0066\n",
      "1/1 [==============================] - 0s 1ms/step - loss: 0.0158\n",
      "1/1 [==============================] - 0s 790us/step - loss: 0.0190\n",
      "1/1 [==============================] - 0s 957us/step - loss: 0.0206\n",
      "1/1 [==============================] - 0s 834us/step - loss: 0.0180\n",
      "1/1 [==============================] - 0s 854us/step - loss: 0.0148\n",
      "1/1 [==============================] - 0s 719us/step - loss: 0.0178\n",
      "1/1 [==============================] - 0s 1ms/step - loss: 0.0213\n",
      "1/1 [==============================] - 0s 644us/step - loss: 0.0218\n",
      "1/1 [==============================] - 0s 614us/step - loss: 0.0088\n",
      "1/1 [==============================] - 0s 885us/step - loss: 0.0135\n",
      "1/1 [==============================] - 0s 612us/step - loss: 0.0102\n",
      "1/1 [==============================] - 0s 774us/step - loss: 0.0144\n",
      "1/1 [==============================] - 0s 671us/step - loss: 0.0179\n",
      "1/1 [==============================] - 0s 898us/step - loss: 0.0188\n",
      "1/1 [==============================] - 0s 617us/step - loss: 0.0094\n",
      "1/1 [==============================] - 0s 681us/step - loss: 0.0105\n",
      "1/1 [==============================] - 0s 662us/step - loss: 0.0091\n",
      "1/1 [==============================] - 0s 965us/step - loss: 0.0109\n",
      "1/1 [==============================] - 0s 1ms/step - loss: 0.0065\n",
      "1/1 [==============================] - 0s 1ms/step - loss: 0.0129\n",
      "1/1 [==============================] - 0s 859us/step - loss: 0.0120\n",
      "1/1 [==============================] - 0s 1ms/step - loss: 0.0156\n",
      "1/1 [==============================] - 0s 942us/step - loss: 0.0096\n",
      "1/1 [==============================] - 0s 821us/step - loss: 0.0157\n",
      "1/1 [==============================] - 0s 800us/step - loss: 0.0096\n",
      "1/1 [==============================] - 0s 880us/step - loss: 0.0152\n",
      "1/1 [==============================] - 0s 837us/step - loss: 0.0108\n",
      "1/1 [==============================] - 0s 674us/step - loss: 0.0109\n",
      "1/1 [==============================] - 0s 643us/step - loss: 0.0135\n",
      "1/1 [==============================] - 0s 865us/step - loss: 0.0111\n",
      "1/1 [==============================] - 0s 688us/step - loss: 0.0100\n",
      "1/1 [==============================] - 0s 671us/step - loss: 0.0139\n",
      "1/1 [==============================] - 0s 654us/step - loss: 0.0168\n",
      "1/1 [==============================] - 0s 663us/step - loss: 0.0116\n",
      "1/1 [==============================] - 0s 693us/step - loss: 0.0108\n",
      "1/1 [==============================] - 0s 731us/step - loss: 0.0100\n",
      "1/1 [==============================] - 0s 683us/step - loss: 0.0090\n",
      "1/1 [==============================] - 0s 662us/step - loss: 0.0095\n",
      "1/1 [==============================] - 0s 660us/step - loss: 0.0147\n",
      "1/1 [==============================] - 0s 763us/step - loss: 0.0114\n",
      "1/1 [==============================] - 0s 954us/step - loss: 0.0134\n",
      "1/1 [==============================] - 0s 666us/step - loss: 0.0086\n",
      "1/1 [==============================] - 0s 840us/step - loss: 0.0087\n",
      "1/1 [==============================] - 0s 749us/step - loss: 0.0134\n",
      "1/1 [==============================] - 0s 671us/step - loss: 0.0100\n",
      "1/1 [==============================] - 0s 980us/step - loss: 0.0084\n",
      "1/1 [==============================] - 0s 825us/step - loss: 0.0076\n",
      "1/1 [==============================] - 0s 666us/step - loss: 0.0119\n",
      "1/1 [==============================] - 0s 685us/step - loss: 0.0081\n",
      "1/1 [==============================] - 0s 741us/step - loss: 0.0102\n",
      "1/1 [==============================] - 0s 664us/step - loss: 0.0109\n",
      "1/1 [==============================] - 0s 772us/step - loss: 0.0073\n",
      "1/1 [==============================] - 0s 776us/step - loss: 0.0132\n",
      "1/1 [==============================] - 0s 798us/step - loss: 0.0149\n",
      "1/1 [==============================] - 0s 736us/step - loss: 0.0098\n",
      "1/1 [==============================] - 0s 731us/step - loss: 0.0096\n",
      "1/1 [==============================] - 0s 710us/step - loss: 0.0100\n",
      "1/1 [==============================] - 0s 701us/step - loss: 0.0092\n",
      "1/1 [==============================] - 0s 821us/step - loss: 0.0130\n",
      "1/1 [==============================] - 0s 744us/step - loss: 0.0115\n",
      "1/1 [==============================] - 0s 1ms/step - loss: 0.0129\n",
      "1/1 [==============================] - 0s 738us/step - loss: 0.0137\n",
      "1/1 [==============================] - 0s 662us/step - loss: 0.0180\n",
      "1/1 [==============================] - 0s 691us/step - loss: 0.0167\n",
      "1/1 [==============================] - 0s 711us/step - loss: 0.0149\n",
      "1/1 [==============================] - 0s 673us/step - loss: 0.0179\n",
      "1/1 [==============================] - 0s 666us/step - loss: 0.0057\n",
      "1/1 [==============================] - 0s 745us/step - loss: 0.0069\n",
      "1/1 [==============================] - 0s 660us/step - loss: 0.0053\n",
      "1/1 [==============================] - 0s 720us/step - loss: 0.0068\n",
      "1/1 [==============================] - 0s 764us/step - loss: 0.0053\n",
      "1/1 [==============================] - 0s 749us/step - loss: 0.0062\n",
      "1/1 [==============================] - 0s 715us/step - loss: 0.0073\n",
      "1/1 [==============================] - 0s 726us/step - loss: 0.0111\n",
      "1/1 [==============================] - 0s 697us/step - loss: 0.0117\n",
      "1/1 [==============================] - 0s 659us/step - loss: 0.0077\n",
      "1/1 [==============================] - 0s 664us/step - loss: 0.0058\n",
      "1/1 [==============================] - 0s 705us/step - loss: 0.0071\n",
      "1/1 [==============================] - 0s 657us/step - loss: 0.0066\n",
      "1/1 [==============================] - 0s 807us/step - loss: 0.0054\n",
      "1/1 [==============================] - 0s 959us/step - loss: 0.0064\n",
      "1/1 [==============================] - 0s 671us/step - loss: 0.0054\n",
      "1/1 [==============================] - 0s 846us/step - loss: 0.0146\n",
      "1/1 [==============================] - 0s 892us/step - loss: 0.0125\n",
      "1/1 [==============================] - 0s 732us/step - loss: 0.0068\n",
      "1/1 [==============================] - 0s 1ms/step - loss: 0.0078\n",
      "1/1 [==============================] - 0s 886us/step - loss: 0.0093\n",
      "1/1 [==============================] - 0s 983us/step - loss: 0.0061\n",
      "1/1 [==============================] - 0s 756us/step - loss: 0.0051\n",
      "1/1 [==============================] - 0s 736us/step - loss: 0.0060\n",
      "1/1 [==============================] - 0s 799us/step - loss: 0.0061\n",
      "1/1 [==============================] - 0s 792us/step - loss: 0.0106\n",
      "1/1 [==============================] - 0s 630us/step - loss: 0.0227\n",
      "1/1 [==============================] - 0s 833us/step - loss: 0.0148\n",
      "1/1 [==============================] - 0s 739us/step - loss: 0.0131\n",
      "1/1 [==============================] - 0s 834us/step - loss: 0.0177\n",
      "1/1 [==============================] - 0s 737us/step - loss: 0.0065\n",
      "1/1 [==============================] - 0s 814us/step - loss: 0.0074\n",
      "1/1 [==============================] - 0s 712us/step - loss: 0.0067\n",
      "1/1 [==============================] - 0s 893us/step - loss: 0.0129\n",
      "1/1 [==============================] - 0s 678us/step - loss: 0.0173\n",
      "1/1 [==============================] - 0s 655us/step - loss: 0.0121\n",
      "1/1 [==============================] - 0s 680us/step - loss: 0.0142\n",
      "1/1 [==============================] - 0s 660us/step - loss: 0.0132\n",
      "1/1 [==============================] - 0s 764us/step - loss: 0.0166\n",
      "1/1 [==============================] - 0s 704us/step - loss: 0.0121\n",
      "1/1 [==============================] - 0s 1ms/step - loss: 0.0123\n",
      "1/1 [==============================] - 0s 703us/step - loss: 0.0169\n",
      "1/1 [==============================] - 0s 804us/step - loss: 0.0116\n",
      "1/1 [==============================] - 0s 802us/step - loss: 0.0151\n",
      "1/1 [==============================] - 0s 702us/step - loss: 0.0113\n",
      "1/1 [==============================] - 0s 772us/step - loss: 0.0159\n",
      "1/1 [==============================] - 0s 1ms/step - loss: 0.0108\n",
      "1/1 [==============================] - 0s 723us/step - loss: 0.0081\n",
      "1/1 [==============================] - 0s 840us/step - loss: 0.0066\n",
      "1/1 [==============================] - 0s 983us/step - loss: 0.0084\n",
      "1/1 [==============================] - 0s 1ms/step - loss: 0.0058\n",
      "1/1 [==============================] - 0s 655us/step - loss: 0.0086\n",
      "1/1 [==============================] - 0s 841us/step - loss: 0.0079\n",
      "1/1 [==============================] - 0s 896us/step - loss: 0.0123\n",
      "1/1 [==============================] - 0s 903us/step - loss: 0.0091\n",
      "1/1 [==============================] - 0s 865us/step - loss: 0.0102\n",
      "1/1 [==============================] - 0s 886us/step - loss: 0.0098\n",
      "1/1 [==============================] - 0s 701us/step - loss: 0.0062\n",
      "1/1 [==============================] - 0s 712us/step - loss: 0.0082\n",
      "1/1 [==============================] - 0s 804us/step - loss: 0.0075\n",
      "1/1 [==============================] - 0s 690us/step - loss: 0.0067\n",
      "1/1 [==============================] - 0s 728us/step - loss: 0.0058\n",
      "1/1 [==============================] - 0s 761us/step - loss: 0.0096\n",
      "1/1 [==============================] - 0s 682us/step - loss: 0.0128\n",
      "1/1 [==============================] - 0s 781us/step - loss: 0.0142\n",
      "1/1 [==============================] - 0s 861us/step - loss: 0.0098\n",
      "1/1 [==============================] - 0s 678us/step - loss: 0.0066\n",
      "1/1 [==============================] - 0s 689us/step - loss: 0.0096\n",
      "1/1 [==============================] - 0s 799us/step - loss: 0.0064\n",
      "1/1 [==============================] - 0s 937us/step - loss: 0.0105\n",
      "1/1 [==============================] - 0s 723us/step - loss: 0.0121\n",
      "1/1 [==============================] - 0s 909us/step - loss: 0.0177\n",
      "1/1 [==============================] - 0s 660us/step - loss: 0.0146\n",
      "1/1 [==============================] - 0s 737us/step - loss: 0.0138\n",
      "1/1 [==============================] - 0s 732us/step - loss: 0.0127\n",
      "1/1 [==============================] - 0s 986us/step - loss: 0.0080\n",
      "1/1 [==============================] - 0s 949us/step - loss: 0.0099\n",
      "1/1 [==============================] - 0s 898us/step - loss: 0.0073\n",
      "1/1 [==============================] - 0s 897us/step - loss: 0.0078\n",
      "1/1 [==============================] - 0s 835us/step - loss: 0.0061\n",
      "1/1 [==============================] - 0s 884us/step - loss: 0.0067\n",
      "1/1 [==============================] - 0s 744us/step - loss: 0.0060\n",
      "1/1 [==============================] - 0s 901us/step - loss: 0.0155\n",
      "1/1 [==============================] - 0s 878us/step - loss: 0.0163\n",
      "1/1 [==============================] - 0s 1ms/step - loss: 0.0174\n",
      "1/1 [==============================] - 0s 743us/step - loss: 0.0116\n",
      "1/1 [==============================] - 0s 666us/step - loss: 0.0106\n",
      "1/1 [==============================] - 0s 879us/step - loss: 0.0070\n",
      "1/1 [==============================] - 0s 825us/step - loss: 0.0118\n",
      "1/1 [==============================] - 0s 717us/step - loss: 0.0071\n",
      "1/1 [==============================] - 0s 632us/step - loss: 0.0148\n",
      "1/1 [==============================] - 0s 808us/step - loss: 0.0169\n",
      "1/1 [==============================] - 0s 901us/step - loss: 0.0145\n",
      "1/1 [==============================] - 0s 677us/step - loss: 0.0125\n",
      "1/1 [==============================] - 0s 765us/step - loss: 0.0160\n",
      "1/1 [==============================] - 0s 665us/step - loss: 0.0155\n",
      "1/1 [==============================] - 0s 793us/step - loss: 0.0203\n",
      "1/1 [==============================] - 0s 736us/step - loss: 0.0068\n",
      "1/1 [==============================] - 0s 658us/step - loss: 0.0153\n",
      "1/1 [==============================] - 0s 730us/step - loss: 0.0175\n",
      "1/1 [==============================] - 0s 881us/step - loss: 0.0177\n",
      "1/1 [==============================] - 0s 1ms/step - loss: 0.0205\n",
      "1/1 [==============================] - 0s 841us/step - loss: 0.0202\n",
      "1/1 [==============================] - 0s 3ms/step - loss: 0.0206\n",
      "1/1 [==============================] - 0s 690us/step - loss: 0.0066\n",
      "1/1 [==============================] - 0s 671us/step - loss: 0.0063\n",
      "1/1 [==============================] - 0s 754us/step - loss: 0.0077\n",
      "1/1 [==============================] - 0s 758us/step - loss: 0.0079\n",
      "1/1 [==============================] - 0s 841us/step - loss: 0.0077\n",
      "1/1 [==============================] - 0s 698us/step - loss: 0.0078\n",
      "1/1 [==============================] - 0s 1ms/step - loss: 0.0115\n",
      "1/1 [==============================] - 0s 703us/step - loss: 0.0071\n",
      "1/1 [==============================] - 0s 694us/step - loss: 0.0066\n",
      "1/1 [==============================] - 0s 694us/step - loss: 0.0087\n",
      "1/1 [==============================] - 0s 915us/step - loss: 0.0076\n",
      "1/1 [==============================] - 0s 659us/step - loss: 0.0080\n",
      "1/1 [==============================] - 0s 685us/step - loss: 0.0098\n",
      "1/1 [==============================] - 0s 865us/step - loss: 0.0140\n",
      "1/1 [==============================] - 0s 1ms/step - loss: 0.0075\n",
      "1/1 [==============================] - 0s 825us/step - loss: 0.0058\n",
      "1/1 [==============================] - 0s 657us/step - loss: 0.0156\n",
      "1/1 [==============================] - 0s 715us/step - loss: 0.0158\n",
      "1/1 [==============================] - 0s 724us/step - loss: 0.0258\n",
      "1/1 [==============================] - 0s 769us/step - loss: 0.0165\n",
      "1/1 [==============================] - 0s 776us/step - loss: 0.0253\n",
      "1/1 [==============================] - 0s 762us/step - loss: 0.0202\n",
      "1/1 [==============================] - 0s 1ms/step - loss: 0.0115\n",
      "1/1 [==============================] - 0s 736us/step - loss: 0.0143\n",
      "1/1 [==============================] - 0s 713us/step - loss: 0.0165\n",
      "1/1 [==============================] - 0s 689us/step - loss: 0.0121\n",
      "1/1 [==============================] - 0s 670us/step - loss: 0.0185\n",
      "1/1 [==============================] - 0s 802us/step - loss: 0.0198\n",
      "1/1 [==============================] - 0s 653us/step - loss: 0.0130\n",
      "1/1 [==============================] - 0s 813us/step - loss: 0.0198\n",
      "1/1 [==============================] - 0s 947us/step - loss: 0.0179\n",
      "1/1 [==============================] - 0s 744us/step - loss: 0.0191\n",
      "1/1 [==============================] - 0s 1ms/step - loss: 0.0217\n",
      "1/1 [==============================] - 0s 807us/step - loss: 0.0164\n",
      "1/1 [==============================] - 0s 841us/step - loss: 0.0181\n",
      "1/1 [==============================] - 0s 629us/step - loss: 0.0207\n",
      "1/1 [==============================] - 0s 1ms/step - loss: 0.0081\n",
      "1/1 [==============================] - 0s 777us/step - loss: 0.0101\n",
      "1/1 [==============================] - 0s 731us/step - loss: 0.0185\n",
      "1/1 [==============================] - 0s 623us/step - loss: 0.0153\n",
      "1/1 [==============================] - 0s 774us/step - loss: 0.0167\n",
      "1/1 [==============================] - 0s 658us/step - loss: 0.0235\n",
      "1/1 [==============================] - 0s 857us/step - loss: 0.0162\n",
      "1/1 [==============================] - 0s 710us/step - loss: 0.0203\n",
      "1/1 [==============================] - 0s 596us/step - loss: 0.0209\n",
      "1/1 [==============================] - 0s 643us/step - loss: 0.0140\n",
      "1/1 [==============================] - 0s 762us/step - loss: 0.0089\n",
      "1/1 [==============================] - 0s 661us/step - loss: 0.0100\n",
      "1/1 [==============================] - 0s 648us/step - loss: 0.0080\n",
      "1/1 [==============================] - 0s 642us/step - loss: 0.0091\n",
      "1/1 [==============================] - 0s 659us/step - loss: 0.0103\n",
      "1/1 [==============================] - 0s 672us/step - loss: 0.0059\n",
      "1/1 [==============================] - 0s 746us/step - loss: 0.0087\n",
      "1/1 [==============================] - 0s 801us/step - loss: 0.0050\n",
      "1/1 [==============================] - 0s 679us/step - loss: 0.0054\n",
      "1/1 [==============================] - 0s 660us/step - loss: 0.0078\n",
      "1/1 [==============================] - 0s 728us/step - loss: 0.0054\n",
      "1/1 [==============================] - 0s 792us/step - loss: 0.0094\n",
      "1/1 [==============================] - 0s 694us/step - loss: 0.0188\n",
      "1/1 [==============================] - 0s 782us/step - loss: 0.0222\n",
      "1/1 [==============================] - 0s 826us/step - loss: 0.0142\n",
      "1/1 [==============================] - 0s 777us/step - loss: 0.0133\n",
      "1/1 [==============================] - 0s 900us/step - loss: 0.0175\n",
      "1/1 [==============================] - 0s 808us/step - loss: 0.0272\n",
      "1/1 [==============================] - 0s 690us/step - loss: 0.0181\n",
      "1/1 [==============================] - 0s 678us/step - loss: 0.0160\n",
      "1/1 [==============================] - 0s 712us/step - loss: 0.0118\n",
      "1/1 [==============================] - 0s 883us/step - loss: 0.0132\n",
      "1/1 [==============================] - 0s 674us/step - loss: 0.0169\n",
      "1/1 [==============================] - 0s 814us/step - loss: 0.0123\n",
      "1/1 [==============================] - 0s 649us/step - loss: 0.0112\n",
      "1/1 [==============================] - 0s 685us/step - loss: 0.0099\n",
      "1/1 [==============================] - 0s 712us/step - loss: 0.0089\n",
      "1/1 [==============================] - 0s 769us/step - loss: 0.0105\n",
      "1/1 [==============================] - 0s 696us/step - loss: 0.0104\n",
      "1/1 [==============================] - 0s 666us/step - loss: 0.0093\n",
      "1/1 [==============================] - 0s 746us/step - loss: 0.0099\n",
      "1/1 [==============================] - 0s 813us/step - loss: 0.0109\n",
      "1/1 [==============================] - 0s 1ms/step - loss: 0.0250\n",
      "1/1 [==============================] - 0s 767us/step - loss: 0.0208\n",
      "1/1 [==============================] - 0s 690us/step - loss: 0.0197\n",
      "1/1 [==============================] - 0s 690us/step - loss: 0.0240\n",
      "1/1 [==============================] - 0s 730us/step - loss: 0.0261\n",
      "1/1 [==============================] - 0s 972us/step - loss: 0.0217\n",
      "1/1 [==============================] - 0s 820us/step - loss: 0.0103\n",
      "1/1 [==============================] - 0s 989us/step - loss: 0.0106\n",
      "1/1 [==============================] - 0s 628us/step - loss: 0.0106\n",
      "1/1 [==============================] - 0s 1ms/step - loss: 0.0103\n",
      "1/1 [==============================] - 0s 991us/step - loss: 0.0099\n",
      "1/1 [==============================] - 0s 761us/step - loss: 0.0103\n",
      "1/1 [==============================] - 0s 713us/step - loss: 0.0128\n",
      "1/1 [==============================] - 0s 810us/step - loss: 0.0084\n",
      "1/1 [==============================] - 0s 689us/step - loss: 0.0100\n",
      "1/1 [==============================] - 0s 743us/step - loss: 0.0105\n",
      "1/1 [==============================] - 0s 672us/step - loss: 0.0109\n",
      "1/1 [==============================] - 0s 914us/step - loss: 0.0092\n",
      "1/1 [==============================] - 0s 616us/step - loss: 0.0096\n",
      "1/1 [==============================] - 0s 676us/step - loss: 0.0098\n",
      "1/1 [==============================] - 0s 958us/step - loss: 0.0131\n",
      "1/1 [==============================] - 0s 872us/step - loss: 0.0161\n",
      "1/1 [==============================] - 0s 641us/step - loss: 0.0158\n",
      "1/1 [==============================] - 0s 864us/step - loss: 0.0126\n",
      "1/1 [==============================] - 0s 816us/step - loss: 0.0111\n",
      "1/1 [==============================] - 0s 744us/step - loss: 0.0125\n",
      "The list of rec. error contains  30 batches of rec. errors\n"
     ]
    }
   ],
   "source": [
    "total_rec_error = []\n",
    "for i in range(len(train_generator)):        #I think this should be the correct while clause\n",
    "    data = next(train_crops)\n",
    "    total_rec_error.append(calc_recon_error(data[0][0]))\n",
    "    \n",
    "print(\"The list of rec. error contains \", len(total_rec_error), \"batches of rec. errors\")\n"
   ]
  },
  {
   "cell_type": "code",
   "execution_count": 45,
   "metadata": {},
   "outputs": [
    {
     "name": "stdout",
     "output_type": "stream",
     "text": [
      "295\n"
     ]
    }
   ],
   "source": [
    "total_rec_error_list = [item for sublist in total_rec_error for item in sublist]\n",
    "print(len(total_rec_error_list))\n"
   ]
  },
  {
   "cell_type": "code",
   "execution_count": 46,
   "metadata": {},
   "outputs": [
    {
     "name": "stdout",
     "output_type": "stream",
     "text": [
      "THIS IS FOR THE TRAINING (NON-ANOMALY) IMAGES\n",
      "\n",
      "The average of the errors list is:  0.01228123733584406\n",
      "The standard deviation of the errors list is:  0.004762066584510669\n",
      "The min value of the errors list is:  0.005028668791055679\n",
      "The max value of the errors list is:  0.02719317004084587\n"
     ]
    }
   ],
   "source": [
    "na_average_recon_error = np.mean(np.array(total_rec_error_list))  \n",
    "na_stdev_recon_error = np.std(np.array(total_rec_error_list)) \n",
    "min_prob = np.min(total_rec_error_list)\n",
    "max_prob = np.max(total_rec_error_list)\n",
    "print(\"THIS IS FOR THE TRAINING (NON-ANOMALY) IMAGES\\n\")\n",
    "print(\"The average of the errors list is: \", na_average_recon_error)\n",
    "print(\"The standard deviation of the errors list is: \", na_stdev_recon_error)\n",
    "print(\"The min value of the errors list is: \", min_prob)\n",
    "print(\"The max value of the errors list is: \", max_prob)"
   ]
  },
  {
   "attachments": {},
   "cell_type": "markdown",
   "metadata": {},
   "source": [
    "Compute the average and std dev. of recon. error for positive (anomalies) samples. \n"
   ]
  },
  {
   "cell_type": "code",
   "execution_count": null,
   "metadata": {},
   "outputs": [],
   "source": [
    "# anomaly_batch = anomaly_generator.next()\n",
    "\n",
    "# train_crops\n",
    "# val_crops\n",
    "# anomaly_crops\n",
    "# test_crops"
   ]
  },
  {
   "cell_type": "code",
   "execution_count": 47,
   "metadata": {},
   "outputs": [
    {
     "name": "stdout",
     "output_type": "stream",
     "text": [
      "1/1 [==============================] - 0s 793us/step - loss: 0.0154\n",
      "1/1 [==============================] - 0s 862us/step - loss: 0.0164\n",
      "1/1 [==============================] - 0s 643us/step - loss: 0.0246\n",
      "1/1 [==============================] - 0s 916us/step - loss: 0.0240\n",
      "1/1 [==============================] - 0s 721us/step - loss: 0.0083\n",
      "1/1 [==============================] - 0s 615us/step - loss: 0.0076\n",
      "1/1 [==============================] - 0s 659us/step - loss: 0.0082\n",
      "1/1 [==============================] - 0s 640us/step - loss: 0.0059\n",
      "1/1 [==============================] - 0s 670us/step - loss: 0.0236\n",
      "1/1 [==============================] - 0s 656us/step - loss: 0.0288\n",
      "The list of rec. error for anomalies contains  1 batches of rec. errors\n"
     ]
    }
   ],
   "source": [
    "total_rec_error_anomalies = []\n",
    "for i in range(len(anomaly_generator)):        #I think this should be the correct while clause\n",
    "    data = next(anomaly_crops)\n",
    "    total_rec_error_anomalies.append(calc_recon_error(data[0]))\n",
    "    \n",
    "print(\"The list of rec. error for anomalies contains \", len(total_rec_error_anomalies), \"batches of rec. errors\")\n"
   ]
  },
  {
   "cell_type": "code",
   "execution_count": 48,
   "metadata": {},
   "outputs": [
    {
     "name": "stdout",
     "output_type": "stream",
     "text": [
      "10\n"
     ]
    }
   ],
   "source": [
    "total_rec_error_anomalies = [item for sublist in total_rec_error_anomalies for item in sublist]\n",
    "print(len(total_rec_error_anomalies))"
   ]
  },
  {
   "cell_type": "code",
   "execution_count": 49,
   "metadata": {},
   "outputs": [
    {
     "name": "stdout",
     "output_type": "stream",
     "text": [
      "THIS IS FOR THE ANOMALY IMAGES\n",
      "\n",
      "The average of the errors list is:  0.016270326310768725\n",
      "The standard deviation of the errors list is:  0.008071264307772\n",
      "The min value of the errors list is:  0.005868849344551563\n",
      "The max value of the errors list is:  0.028792232275009155\n"
     ]
    }
   ],
   "source": [
    "a_average_recon_error = np.mean(np.array(total_rec_error_anomalies))  \n",
    "a_stdev_recon_error = np.std(np.array(total_rec_error_anomalies)) \n",
    "min_prob = np.min(total_rec_error_anomalies)\n",
    "max_prob = np.max(total_rec_error_anomalies)\n",
    "print(\"THIS IS FOR THE ANOMALY IMAGES\\n\")\n",
    "print(\"The average of the errors list is: \", a_average_recon_error)\n",
    "print(\"The standard deviation of the errors list is: \", a_stdev_recon_error)\n",
    "print(\"The min value of the errors list is: \", min_prob)\n",
    "print(\"The max value of the errors list is: \", max_prob)"
   ]
  },
  {
   "attachments": {},
   "cell_type": "markdown",
   "metadata": {},
   "source": [
    "Compute the average and std dev. of recon. error for the validation (non-anomalies) samples. \n"
   ]
  },
  {
   "cell_type": "code",
   "execution_count": 50,
   "metadata": {},
   "outputs": [
    {
     "name": "stdout",
     "output_type": "stream",
     "text": [
      "1/1 [==============================] - 0s 735us/step - loss: 0.0069\n",
      "1/1 [==============================] - 0s 873us/step - loss: 0.0063\n",
      "1/1 [==============================] - 0s 945us/step - loss: 0.0065\n",
      "1/1 [==============================] - 0s 861us/step - loss: 0.0125\n",
      "1/1 [==============================] - 0s 1ms/step - loss: 0.0120\n",
      "1/1 [==============================] - 0s 1ms/step - loss: 0.0134\n",
      "1/1 [==============================] - 0s 643us/step - loss: 0.0116\n",
      "1/1 [==============================] - 0s 1ms/step - loss: 0.0135\n",
      "1/1 [==============================] - 0s 969us/step - loss: 0.0115\n",
      "1/1 [==============================] - 0s 839us/step - loss: 0.0089\n",
      "1/1 [==============================] - 0s 663us/step - loss: 0.0079\n",
      "1/1 [==============================] - 0s 723us/step - loss: 0.0069\n",
      "1/1 [==============================] - 0s 966us/step - loss: 0.0143\n",
      "1/1 [==============================] - 0s 693us/step - loss: 0.0095\n",
      "1/1 [==============================] - 0s 743us/step - loss: 0.0070\n",
      "1/1 [==============================] - 0s 714us/step - loss: 0.0072\n",
      "1/1 [==============================] - 0s 732us/step - loss: 0.0117\n",
      "1/1 [==============================] - 0s 818us/step - loss: 0.0060\n",
      "1/1 [==============================] - 0s 757us/step - loss: 0.0091\n",
      "1/1 [==============================] - 0s 641us/step - loss: 0.0062\n",
      "The list of rec. error for anomalies contains  2 batches of rec. errors\n"
     ]
    }
   ],
   "source": [
    "total_rec_error_validation = []\n",
    "for i in range(len(validation_generator)):        #I think this should be the correct while clause\n",
    "    data = next(val_crops)\n",
    "    total_rec_error_validation.append(calc_recon_error(data[0]))\n",
    "    \n",
    "print(\"The list of rec. error for anomalies contains \", len(total_rec_error_validation), \"batches of rec. errors\")\n",
    "\n",
    "# train_crops\n",
    "# val_crops\n",
    "# anomaly_crops\n",
    "# test_crops\n"
   ]
  },
  {
   "cell_type": "code",
   "execution_count": 51,
   "metadata": {},
   "outputs": [
    {
     "name": "stdout",
     "output_type": "stream",
     "text": [
      "20\n"
     ]
    }
   ],
   "source": [
    "total_rec_error_validation = [item for sublist in total_rec_error_validation for item in sublist]\n",
    "print(len(total_rec_error_validation))"
   ]
  },
  {
   "cell_type": "code",
   "execution_count": 52,
   "metadata": {},
   "outputs": [
    {
     "name": "stdout",
     "output_type": "stream",
     "text": [
      "THIS IS FOR THE VALIDATION IMAGES\n",
      "\n",
      "The average of the errors list is:  0.009444627165794372\n",
      "The standard deviation of the errors list is:  0.0027656321538927033\n",
      "The min value of the errors list is:  0.00598960742354393\n",
      "The max value of the errors list is:  0.014318968169391155\n"
     ]
    }
   ],
   "source": [
    "val_average_recon_error = np.mean(np.array(total_rec_error_validation))  \n",
    "val_stdev_recon_error = np.std(np.array(total_rec_error_validation)) \n",
    "min_prob = np.min(total_rec_error_validation)\n",
    "max_prob = np.max(total_rec_error_validation)\n",
    "print(\"THIS IS FOR THE VALIDATION IMAGES\\n\")\n",
    "print(\"The average of the errors list is: \", val_average_recon_error)\n",
    "print(\"The standard deviation of the errors list is: \", val_stdev_recon_error)\n",
    "print(\"The min value of the errors list is: \", min_prob)\n",
    "print(\"The max value of the errors list is: \", max_prob)"
   ]
  },
  {
   "attachments": {},
   "cell_type": "markdown",
   "metadata": {},
   "source": [
    "Below, we can see the plot of the reconstruction error values, of the non-anomaly list (blue) and the anomaly list (red)."
   ]
  },
  {
   "cell_type": "code",
   "execution_count": 53,
   "metadata": {},
   "outputs": [
    {
     "data": {
      "image/png": "[encoded data removed]",
      "text/plain": [
       "<Figure size 1000x1000 with 1 Axes>"
      ]
     },
     "metadata": {},
     "output_type": "display_data"
    }
   ],
   "source": [
    "plt.figure(figsize=(10, 10))\n",
    "val = 0. # this is the value where you want the data to appear on the y-axis.\n",
    "plt.plot(total_rec_error_list, np.zeros_like(total_rec_error_list) + val, 'x')\n",
    "plt.plot(total_rec_error_anomalies, np.zeros_like(total_rec_error_anomalies) + val, 'ro')\n",
    "plt.show()"
   ]
  },
  {
   "cell_type": "code",
   "execution_count": 54,
   "metadata": {},
   "outputs": [
    {
     "data": {
      "image/png": "[encoded data removed]",
      "text/plain": [
       "<Figure size 640x480 with 1 Axes>"
      ]
     },
     "metadata": {},
     "output_type": "display_data"
    }
   ],
   "source": [
    "import random\n",
    "import numpy\n",
    "from matplotlib import pyplot\n",
    "\n",
    "bins = numpy.linspace(0.002, 0.03, 50)\n",
    "\n",
    "pyplot.hist(total_rec_error_list, bins, alpha=0.5, label='errors non-anomalies')\n",
    "pyplot.hist(total_rec_error_anomalies, bins, alpha=0.5, label='errors anomalies')\n",
    "pyplot.legend(loc='upper right')\n",
    "pyplot.show()"
   ]
  },
  {
   "attachments": {},
   "cell_type": "markdown",
   "metadata": {},
   "source": [
    "## Checking the latent space"
   ]
  },
  {
   "attachments": {},
   "cell_type": "markdown",
   "metadata": {},
   "source": [
    "Let's update the weights of the encoder model."
   ]
  },
  {
   "cell_type": "code",
   "execution_count": 55,
   "metadata": {},
   "outputs": [
    {
     "name": "stdout",
     "output_type": "stream",
     "text": [
      "Layer weights are successfully copied.\n",
      "Layer weights are successfully copied.\n",
      "Layer weights are successfully copied.\n",
      "Layer weights are successfully copied.\n",
      "Layer weights are successfully copied.\n",
      "Layer weights are successfully copied.\n",
      "Layer weights are successfully copied.\n",
      "Layer weights are successfully copied.\n",
      "Layer weights are successfully copied.\n",
      "Layer weights are successfully copied.\n",
      "Layer weights are successfully copied.\n",
      "Layer weights are successfully copied.\n",
      "Layer weights are successfully copied.\n",
      "Layer weights are successfully copied.\n"
     ]
    }
   ],
   "source": [
    "# Copy the layer weights from the base model to the target model\n",
    "for i, target_layer in enumerate(encoder.layers):\n",
    "    base_layer = model.layers[i]\n",
    "    target_layer.set_weights(base_layer.get_weights())\n",
    "\n",
    "# Verify if the weights are successfully copied\n",
    "for base_layer, target_layer in zip(model.layers[:len(encoder.layers)], encoder.layers):\n",
    "    base_weights = base_layer.get_weights()\n",
    "    target_weights = target_layer.get_weights()\n",
    "    for base_weight, target_weight in zip(base_weights, target_weights):\n",
    "        if (base_weight == target_weight).all():\n",
    "            print(\"Layer weights are successfully copied.\")\n",
    "        else:\n",
    "            print(\"Error: Layer weights are not copied correctly.\")\n"
   ]
  },
  {
   "cell_type": "code",
   "execution_count": 56,
   "metadata": {},
   "outputs": [
    {
     "name": "stdout",
     "output_type": "stream",
     "text": [
      "WARNING:tensorflow:From /tmp/ipykernel_13051/4085829184.py:6: Model.predict_generator (from tensorflow.python.keras.engine.training) is deprecated and will be removed in a future version.\n",
      "Instructions for updating:\n",
      "Please use Model.predict, which supports generators.\n"
     ]
    }
   ],
   "source": [
    "########################################################\n",
    "# Calculate KDE using sklearn\n",
    "from sklearn.neighbors import KernelDensity\n",
    "\n",
    "#Get encoded output of input images = Latent space\n",
    "encoded_images = encoder.predict_generator(train_crops, steps=len(train_generator)*2)\n",
    "\n"
   ]
  },
  {
   "cell_type": "code",
   "execution_count": 57,
   "metadata": {},
   "outputs": [
    {
     "name": "stdout",
     "output_type": "stream",
     "text": [
      "(590, 40)\n"
     ]
    }
   ],
   "source": [
    "print(encoded_images.shape)"
   ]
  },
  {
   "attachments": {},
   "cell_type": "markdown",
   "metadata": {},
   "source": [
    "See that it is 179 length because it corresponds to all the images that belong to the training dataset. The second length corresponds to the output shape of the model as specified in its structure at the beginning."
   ]
  },
  {
   "cell_type": "code",
   "execution_count": 58,
   "metadata": {},
   "outputs": [
    {
     "data": {
      "text/plain": [
       "numpy.ndarray"
      ]
     },
     "execution_count": 58,
     "metadata": {},
     "output_type": "execute_result"
    }
   ],
   "source": [
    "type(encoded_images)"
   ]
  },
  {
   "cell_type": "code",
   "execution_count": 59,
   "metadata": {},
   "outputs": [
    {
     "name": "stdout",
     "output_type": "stream",
     "text": [
      "(None, 40)\n"
     ]
    }
   ],
   "source": [
    "encoder_output_shape = encoder.output_shape \n",
    "print(encoder_output_shape)"
   ]
  },
  {
   "attachments": {},
   "cell_type": "markdown",
   "metadata": {},
   "source": [
    "Now, let's fit KDE to the image latent data"
   ]
  },
  {
   "cell_type": "code",
   "execution_count": 60,
   "metadata": {},
   "outputs": [],
   "source": [
    "kde = KernelDensity(kernel='gaussian', bandwidth=0.2).fit(encoded_images)"
   ]
  },
  {
   "attachments": {},
   "cell_type": "markdown",
   "metadata": {},
   "source": [
    "The above function fits a kernel density estimation to the data that is provided, that is, the \"encoded_images\" variable. It does so using a Guassian kernel of bandwidth 0.2.\n",
    "\n",
    "The badnwidth parameter affects on how the selected kernel will fit each sample of the given data. For example for the case in which the kernel is a Gaussian distribution, the bandwidth parameter would affect in how thin or wide is the Gaussian distribution.\n",
    "\n",
    "At this point in the variable \"kde\" we have some numbers that are the result of fitting Gaussian functions to the given data points in the variable \"encoded_images\". We will use the \"kde\" variable later for scoring with it, some given data points; the scoring will be given depending on how similar are the given data points to the ones that it had estimated."
   ]
  },
  {
   "attachments": {},
   "cell_type": "markdown",
   "metadata": {},
   "source": [
    "Here below, it is shown the kde values corresponding to each encoded sample. THese are supposed to be very close to each other in value."
   ]
  },
  {
   "cell_type": "code",
   "execution_count": 61,
   "metadata": {},
   "outputs": [
    {
     "name": "stdout",
     "output_type": "stream",
     "text": [
      "[24.10445637 23.92185993 23.93677819 23.95404348 23.28262763 23.36657146\n",
      " 23.19234945 22.03303187 23.26723218 23.56839115 23.72975041 23.51110806\n",
      " 22.55629858 22.42987837 23.05118891 23.21607901 22.74745167 22.27685319\n",
      " 22.55146821 22.28648563 22.52696588 22.1442984  22.4978893  22.31018857\n",
      " 22.15884231 22.78799175 23.01002807 23.04623069 22.9612088  22.65113516\n",
      " 22.36064508 23.56739827 23.87207215 23.86148133 23.80050367 23.86803805\n",
      " 23.44767546 23.4114099  22.67864558 22.44149027 22.64351156 22.97792027\n",
      " 23.83586915 23.41556016 23.43363667 23.29327    23.4180206  23.52767875\n",
      " 23.35671664 23.20321798 22.881332   22.52499958 22.889556   23.48255739\n",
      " 23.65448056 23.56843806 23.5836277  23.52428885 21.91230649 23.50711047\n",
      " 23.52578987 23.48649583 23.19061847 22.89206886 22.91674905 22.66547876\n",
      " 22.89154613 22.88771406 21.9851002  22.22327871 22.70107777 23.24353261\n",
      " 22.97577177 22.66800207 22.38057644 22.5755785  22.26900011 22.95205918\n",
      " 22.1760792  22.0669245  22.41619765 22.80458433 22.78493874 22.32445988\n",
      " 22.16872714 22.05547036 21.8711706  22.82927491 22.95031012 23.06234396\n",
      " 22.93239643 22.78582697 22.82693679 22.80713345 22.90584309 22.90819459\n",
      " 21.95438625 21.87953436 22.31468825 22.73236524 22.70918892 22.39049994\n",
      " 22.86711225 22.76696284 23.12706615 22.98770444 22.4822276  22.87420111\n",
      " 22.90043044 23.02822407 22.94560754 23.03031328 22.47866425 22.23877349\n",
      " 22.15938133 22.32126761 22.51582068 22.09007375 22.03772042 22.89373634\n",
      " 23.88550401 23.92930332 24.16163    23.89242087 23.71114502 24.102057\n",
      " 24.16784579 24.19074593 24.20052007 24.23266256 24.1150235  24.18710819\n",
      " 24.11831867 23.26115793 22.68290515 22.72150933 22.64258932 22.74193461\n",
      " 22.47704714 22.62595276 23.18637683 22.03249032 22.01599899 22.14125807\n",
      " 22.48336876 21.68279547 22.06556363 22.68537554 22.20057148 23.23835427\n",
      " 22.96357028 23.39580876 23.54614945 23.23011917 23.09539961 23.44446807\n",
      " 23.03980494 22.10307354 22.63451609 22.52686923 22.67491101 22.06421688\n",
      " 22.57049241 23.38024619 23.48563634 23.80515595 23.48180373 21.99960481\n",
      " 23.1489005  22.76650647 23.04344476 23.23248035 23.36346903 23.5840431\n",
      " 23.78229284 23.71941424 22.53799254 23.54653087 23.64798128 23.7336407\n",
      " 23.48540919 23.40128947 23.37252302 23.55491016 22.17124619 22.33832814\n",
      " 23.03444369 23.55983397 23.68830244 23.70864785 23.61536967 23.83435318\n",
      " 23.83039517 22.73925672 23.00936747 23.17798219 22.88778561 22.97434729\n",
      " 22.09977415 23.73004403 23.35844898 23.42439953 23.29597148 23.37012133\n",
      " 23.33676923 22.47320783 22.11839859 22.10052257 24.16913815 24.00666347\n",
      " 24.12034129 24.15349278 23.74180233 23.13982226 23.59989151 23.81311986\n",
      " 23.04542689 24.05295905 24.05955598 24.08876844 24.16095879 23.52334432\n",
      " 23.62972552 23.41460006 23.59171814 23.45225126 23.57801265 23.57397931\n",
      " 23.29166763 23.08039387 23.67831174 23.71858628 23.66685271 23.73900021\n",
      " 23.5828774  23.44058553 23.39307685 22.5526601  22.67901591 22.33174544\n",
      " 22.65758106 22.44715648 22.46344411 22.68778724 22.74254315 22.33091125\n",
      " 22.25906433 21.69855403 22.41022965 23.87437899 23.76248421 23.97872157\n",
      " 22.63824204 22.37299147 22.49807872 23.93502993 23.89606426 23.75806606\n",
      " 23.94770991 23.9595782  24.019011   22.09799637 23.11339261 22.85068315\n",
      " 22.44015893 23.02528831 23.2316795  23.12882998 22.52061754 23.14376892\n",
      " 23.3642592  23.33367857 23.27432328 23.4177514  23.39276889 23.63021518\n",
      " 23.39521875 23.1103092  23.27934379 23.35964622 23.85745636 23.56909714\n",
      " 23.16235193 23.71555617 23.65781631 23.85841163 23.72870398 23.28251485\n",
      " 22.87641617 23.17790956 23.67375598 24.04368985 24.14559893 24.18019471\n",
      " 23.92441971 24.19057481 23.81112386 23.56343568 23.93328983 23.34426309\n",
      " 23.30358766 23.17973669 22.03901585 23.28542261 23.86508306 23.67555655\n",
      " 23.80768862 22.58182327 22.33591343 22.92403987 23.21103767 22.96716521\n",
      " 22.38153617 22.56595832 22.26432252 22.29613932 22.1328042  22.45461829\n",
      " 22.24108398 22.35937829 22.86311849 22.87438889 22.94000731 22.81842058\n",
      " 22.73129598 22.00428841 23.78311337 23.8626636  23.79472735 23.84051644\n",
      " 23.81428174 23.33943539 23.36146672 22.65637243 22.42620624 22.64034308\n",
      " 23.00832325 23.4181651  23.63725051 23.33471314 23.33559566 23.42972976\n",
      " 23.56359366 23.29038153 23.20356271 23.00623547 22.91726697 23.18937218\n",
      " 23.41992653 23.66398646 23.46632606 23.52577979 23.54663168 22.15386831\n",
      " 23.51211975 23.42349916 23.46488565 23.49170015 23.52901421 22.58625549\n",
      " 22.7121435  22.83370606 22.91019487 22.03976379 22.14517049 22.76937264\n",
      " 23.41109185 22.90431762 22.64465798 22.37378349 22.57865249 22.25745517\n",
      " 23.11349503 22.22805142 22.41088882 22.34433807 22.78007089 22.79497014\n",
      " 22.27580755 22.15361531 22.14840105 21.85312541 22.82415958 22.76270967\n",
      " 23.05932528 22.66501664 22.73238567 22.8041454  22.59583248 22.88532962\n",
      " 22.88720015 21.98289068 21.85023321 22.10724654 22.60002429 22.70938786\n",
      " 22.62323134 22.80186218 22.79647582 23.20495405 22.91606732 22.06393103\n",
      " 23.04859965 23.04151028 22.94642521 22.93784774 22.96366    22.78495577\n",
      " 22.09884166 22.1386423  22.10214289 22.56798148 22.04551476 22.11365872\n",
      " 22.7129744  23.95801857 23.87594667 24.1640565  23.5901322  23.55846736\n",
      " 24.12317341 24.19137818 24.15708676 24.22273311 24.21416735 24.09032058\n",
      " 24.19948391 23.86783459 23.64635386 22.68526832 22.6444234  22.78243536\n",
      " 22.68755865 22.47752751 23.11809343 23.19065    22.12936997 21.96483066\n",
      " 22.14830514 22.38155936 21.63616366 22.189782   22.69345931 22.64690772\n",
      " 23.24085544 22.99186446 23.40287594 23.51032403 23.44920398 23.1794434\n",
      " 23.44063974 23.03690109 22.10374227 22.60581011 22.58161768 22.71462448\n",
      " 22.11105419 22.61087404 23.52342034 23.4245629  23.71886019 23.23312251\n",
      " 22.0017366  22.77444313 23.028794   23.08557485 23.26488069 23.401722\n",
      " 23.57660371 23.77360413 23.59682389 22.59077163 23.54430886 23.69475022\n",
      " 23.75943381 23.45516594 23.4041351  23.30449836 23.58422119 22.14315851\n",
      " 22.37193013 22.98899958 23.55888701 23.66545983 23.63455992 23.62361084\n",
      " 23.78784231 23.83268834 22.8902124  22.55617532 23.14137553 22.82998323\n",
      " 23.10112738 22.09971579 23.74937849 22.84125507 23.39581816 23.26723327\n",
      " 23.32683109 23.24885332 22.46665572 22.01846172 22.45149827 24.1846409\n",
      " 24.06403925 24.17332107 24.10056115 23.70317898 23.00455543 23.5651461\n",
      " 23.79381918 23.28515379 24.05338981 23.99182884 24.08080674 24.13331555\n",
      " 23.37405323 23.71815282 23.37073972 23.5836528  23.16895159 23.5778442\n",
      " 23.55553231 23.19823054 22.99019042 23.70824088 23.64579812 23.69928383\n",
      " 23.76322955 23.56200809 23.43366576 23.13769021 22.6948137  22.68789959\n",
      " 22.33841234 22.49596649 22.60139433 22.42609224 22.58457898 22.67491918\n",
      " 22.30865349 22.38679077 21.7107458  22.40842568 23.82301567 23.86073146\n",
      " 23.956883   22.69500741 22.57559697 22.56504299 23.93796473 23.95949876\n",
      " 23.78448612 24.0021802  23.99292849 24.01300505 22.08463409 23.13190551\n",
      " 22.82676518 22.52609728 22.97194497 23.2329909  23.17951896 22.70059398\n",
      " 23.19083741 23.06203928 23.41708734 23.22384512 23.39910623 23.39206187\n",
      " 23.67893608 23.4082638  23.3418614  23.25944218 23.40513494 23.8533335\n",
      " 23.71597144 23.36322039 23.71145432 23.63404671 23.86040042 23.71048171\n",
      " 23.47668772 22.82906181 23.13049772 23.67536819 23.92642461 23.98617174\n",
      " 23.99904487 24.15347177]\n"
     ]
    }
   ],
   "source": [
    "density_vals = kde.score_samples(encoded_images)\n",
    "print(density_vals)"
   ]
  },
  {
   "attachments": {},
   "cell_type": "markdown",
   "metadata": {},
   "source": [
    "From here, the mean and standard deviation of these values are computed"
   ]
  },
  {
   "cell_type": "code",
   "execution_count": 62,
   "metadata": {},
   "outputs": [
    {
     "name": "stdout",
     "output_type": "stream",
     "text": [
      "The avg of the density values is:  23.10237551359879\n",
      "The stdev_density of the density values is:  0.6198002207117794\n"
     ]
    }
   ],
   "source": [
    "average_density = np.mean(density_vals)\n",
    "stdev_density = np.std(density_vals)\n",
    "print(\"The avg of the density values is: \", average_density)\n",
    "print(\"The stdev_density of the density values is: \", stdev_density)"
   ]
  },
  {
   "attachments": {},
   "cell_type": "markdown",
   "metadata": {},
   "source": [
    "based on the above data create a function that outputs a probability of a KDE value to be considered an anomaly or non-anomaly image"
   ]
  },
  {
   "cell_type": "code",
   "execution_count": 63,
   "metadata": {},
   "outputs": [],
   "source": [
    "def ranges_mapper(value, leftMin, leftMax, rightMin, rightMax):\n",
    "    # Figure out how 'wide' each range is\n",
    "    leftSpan = leftMax - leftMin\n",
    "    rightSpan = rightMax - rightMin\n",
    "\n",
    "    # Convert the left range into a 0-1 range (float)\n",
    "    valueScaled = float(value - leftMin) / float(leftSpan)\n",
    "\n",
    "    # Convert the 0-1 range into a value in the right range.\n",
    "    return rightMin + (valueScaled * rightSpan)"
   ]
  },
  {
   "cell_type": "code",
   "execution_count": 72,
   "metadata": {},
   "outputs": [],
   "source": [
    "# def map_kde2prob_list(input_list):\n",
    "#     threshold = average_density          # The mean of the kde corresponding to the non-anomaly images\n",
    "#     std_dev = stdev_density            # The std deviation of the kde corresponding to the non-anomaly images\n",
    "#     prob_score_list = []\n",
    "#     prob_score = 0              # This was changed for making threshold+std_dev be mapped to be 50% chance. Before it was directly mapped threshold value to 50% chance\n",
    "#     for i in range (len(input_list)):\n",
    "#         aux_score = input_list[i] - threshold\n",
    "#         if aux_score>=0:\n",
    "#             additional = ranges_mapper(aux_score, 0, std_dev, 0, 50)\n",
    "#             prob_score_tot = prob_score+additional\n",
    "#         else:\n",
    "#             additional = ranges_mapper(abs(aux_score), 0, std_dev, 0, 50)\n",
    "#             prob_score_tot = prob_score-additional\n",
    "#         if prob_score_tot > 100:\n",
    "#             prob_score_tot = 100\n",
    "#         if prob_score_tot < 0:\n",
    "#             prob_score_tot = 0\n",
    "#         prob_score_list.append(prob_score_tot)\n",
    "#     return prob_score_list"
   ]
  },
  {
   "cell_type": "code",
   "execution_count": 73,
   "metadata": {},
   "outputs": [],
   "source": [
    "# def map_kde2prob(value):\n",
    "#     threshold = average_density         # The mean of the kde corresponding to the non-anomaly images\n",
    "#     std_dev = stdev_density          # The std deviation of the kde corresponding to the non-anomaly images\n",
    "#     prob_score = 0              # This was changed for making threshold+std_dev be mapped to be 50% chance. Before it was directly mapped threshold value to 50% chance\n",
    "#     aux_score = value - threshold\n",
    "#     print(\"value is: \", value)\n",
    "#     print(\"aux_score is: \", aux_score)\n",
    "        \n",
    "#     if aux_score>=0:\n",
    "#         additional = ranges_mapper(aux_score, 0, std_dev, 0, 50)\n",
    "#         print(\"additional is: \", additional)\n",
    "#         prob_score_tot = prob_score+additional\n",
    "#         print(\"prob_score_tot is: \", prob_score_tot)\n",
    "        \n",
    "#     else:\n",
    "#         additional = ranges_mapper(abs(aux_score), 0, std_dev, 0, 50)\n",
    "#         prob_score_tot = prob_score-additional\n",
    "#     if prob_score_tot > 100:\n",
    "#         prob_score_tot = 100\n",
    "#     if prob_score_tot < 0:\n",
    "#         prob_score_tot = 0    \n",
    "#     return prob_score_tot"
   ]
  },
  {
   "cell_type": "code",
   "execution_count": 64,
   "metadata": {},
   "outputs": [],
   "source": [
    "def map_kde2prob_list(input_list):\n",
    "    threshold = average_density          # The mean of the kde corresponding to the non-anomaly images\n",
    "    std_dev = stdev_density            # The std deviation of the kde corresponding to the non-anomaly images\n",
    "    prob_score_list =[]\n",
    "    for i in range (len(input_list)):\n",
    "        aux_score = input_list[i] - threshold\n",
    "        prob_score = ranges_mapper(abs(aux_score), 0, std_dev, 0, 50)\n",
    "        if prob_score<0:\n",
    "            prob_score = 0\n",
    "        if prob_score>100:\n",
    "            prob_score = 100     \n",
    "        prob_score_list.append(prob_score)\n",
    "    return prob_score_list"
   ]
  },
  {
   "cell_type": "code",
   "execution_count": 65,
   "metadata": {},
   "outputs": [],
   "source": [
    "def map_kde2prob(value):\n",
    "    threshold = average_density         # The mean of the kde corresponding to the non-anomaly images\n",
    "    std_dev = stdev_density          # The std deviation of the kde corresponding to the non-anomaly images\n",
    "    \n",
    "    aux_score = value - threshold\n",
    "    prob_score = ranges_mapper(abs(aux_score), 0, std_dev, 0, 50)\n",
    "    if prob_score<0:\n",
    "            prob_score = 0\n",
    "    if prob_score>100:\n",
    "        prob_score = 100 \n",
    "    return prob_score"
   ]
  },
  {
   "cell_type": "code",
   "execution_count": 66,
   "metadata": {},
   "outputs": [],
   "source": [
    "def computePred_kde(kde_value):\n",
    "    pred = 0\n",
    "    prob_anomaly = map_kde2prob(kde_value)/100\n",
    "    if prob_anomaly > 0.5:\n",
    "        pred = 1\n",
    "    return pred"
   ]
  },
  {
   "cell_type": "code",
   "execution_count": 67,
   "metadata": {},
   "outputs": [
    {
     "name": "stdout",
     "output_type": "stream",
     "text": [
      "[50.00000000000012]\n"
     ]
    }
   ],
   "source": [
    "print(map_kde2prob_list([average_density - 1*stdev_density]))"
   ]
  },
  {
   "cell_type": "code",
   "execution_count": 68,
   "metadata": {},
   "outputs": [
    {
     "name": "stdout",
     "output_type": "stream",
     "text": [
      "[[0.0, 0.0, 0.0, 0.0, 0.0, 0.0, 0.0, 0.0, 0.0, 0.0], [0.0, 0.0, 0.0, 0.0, 0.0, 0.0, 0.0, 0.0, 0.0, 0.0], [1.0, 1.0, 1.0, 1.0, 1.0, 1.0, 1.0, 1.0, 1.0, 1.0]]\n",
      "[[0, 0, 0, 1, 0, 1, 1, 1, 0, 1], [1, 0, 1, 1, 0, 0, 1, 1, 0, 0], [1, 1, 1, 1, 1, 1, 1, 1, 1, 1]]\n",
      "[[24.689450897825534, 15.886046660507747, 43.634160672205894, 100, 27.97675873912876, 100, 100, 100, 35.98205170503264, 100], [100, 26.190644439331756, 100, 91.33833950087768, 42.905104165048115, 0.5924870907039134, 100, 79.8294035908621, 25.253820965849737, 14.614528607873496], [100, 100, 100, 100, 100, 100, 100, 100, 100, 100]]\n"
     ]
    }
   ],
   "source": [
    "y_pred_kde_final = []\n",
    "ground_truth = []\n",
    "y_prob_kde_final = []\n",
    "for i in range(len(test_set_generator)):        # Traversing all the batches of the test set\n",
    "    batch_images, labels = next(test_crops)\n",
    "    y_pred_kde = []\n",
    "    y_true = []\n",
    "    y_prob_kde = []\n",
    "    for im in range(0, batch_images.shape[0]):  #Traversing all the images in the batch\n",
    "        img  = batch_images[im]\n",
    "        img = img[np.newaxis, :,:,:]\n",
    "        encoded_image_test_set = encoder.predict([[img]])\n",
    "        densityValue_test = kde.score_samples(encoded_image_test_set)\n",
    "        prob_kde_test = map_kde2prob(densityValue_test)\n",
    "        prediction = computePred_kde(densityValue_test)  \n",
    "        y_pred_kde.append(prediction) # Save Prediction\n",
    "        y_true.append(labels[im])\n",
    "        # y_true.append(labels[im]) # Save Truth  \n",
    "        y_prob_kde.append(prob_kde_test) # Save probability  \n",
    "\n",
    "    y_pred_kde_final.append(y_pred_kde)  \n",
    "    ground_truth.append(y_true)  \n",
    "    y_prob_kde_final.append(y_prob_kde)  \n",
    "print(ground_truth)\n",
    "print(y_pred_kde_final)\n",
    "print(y_prob_kde_final)\n",
    "\n"
   ]
  },
  {
   "cell_type": "code",
   "execution_count": 69,
   "metadata": {},
   "outputs": [
    {
     "name": "stdout",
     "output_type": "stream",
     "text": [
      "[0, 0, 0, 0, 0, 0, 0, 0, 0, 0, 0, 0, 0, 0, 0, 0, 0, 0, 0, 0, 1, 1, 1, 1, 1, 1, 1, 1, 1, 1]\n",
      "[0, 0, 0, 1, 0, 1, 1, 1, 0, 1, 1, 0, 1, 1, 0, 0, 1, 1, 0, 0, 1, 1, 1, 1, 1, 1, 1, 1, 1, 1]\n",
      "[24.689450897825534, 15.886046660507747, 43.634160672205894, 100, 27.97675873912876, 100, 100, 100, 35.98205170503264, 100, 100, 26.190644439331756, 100, 91.33833950087768, 42.905104165048115, 0.5924870907039134, 100, 79.8294035908621, 25.253820965849737, 14.614528607873496, 100, 100, 100, 100, 100, 100, 100, 100, 100, 100]\n"
     ]
    }
   ],
   "source": [
    "ground_truth = [item for sublist in ground_truth for item in sublist]\n",
    "ground_truth = [int(i) for i in ground_truth]\n",
    "y_pred_kde_final = [item for sublist in y_pred_kde_final for item in sublist]\n",
    "y_prob_kde_final = [item for sublist in y_prob_kde_final for item in sublist]\n",
    "print(ground_truth)\n",
    "print(y_pred_kde_final)\n",
    "print(y_prob_kde_final)"
   ]
  },
  {
   "attachments": {},
   "cell_type": "markdown",
   "metadata": {},
   "source": [
    "Below commented section is just another way of computing the predicions and probabilitis shown above. THis approach computes separately the labels of the test set and their probabilities "
   ]
  },
  {
   "cell_type": "code",
   "execution_count": null,
   "metadata": {},
   "outputs": [],
   "source": [
    "# ground_truth = []\n",
    "# for i in range(len(test_set_generator)):        #I think this should be the correct while clause\n",
    "#     _, labels = next(test_crops)\n",
    "#     ground_truth.append(labels)\n",
    "    \n",
    "# print(\"The list of rec. error for anomalies contains \", len(ground_truth), \"batches of rec. errors\")\n",
    "\n",
    "# print(ground_truth)\n",
    "# #Get encoded output of input images = Latent space\n",
    "# encoded_images_test_set = encoder.predict_generator(test_crops, steps=len(test_set_generator))\n",
    "# print(encoded_images_test_set.shape)\n",
    "\n",
    "# density_vals_test = kde.score_samples(encoded_images_test_set)\n",
    "# print(density_vals_test)\n",
    "\n",
    "# average_density + stdev_density\n",
    "# average_density - stdev_density\n",
    "\n",
    "# prob_test = map_kde2prob_list(density_vals_test)\n",
    "# print(prob_test)\n",
    "\n",
    "# ground_truth = [item for sublist in ground_truth for item in sublist]\n",
    "# ground_truth = [int(x) for x in ground_truth]\n",
    "\n",
    "# pred_list =[]\n",
    "# for i in range(len(prob_test)):\n",
    "    \n",
    "#     if(prob_test[i]>50):\n",
    "#         pred = 1\n",
    "#     else:\n",
    "#         pred = 0\n",
    "#     pred_list.append(pred)\n",
    "# print(ground_truth)\n",
    "# print(pred_list)"
   ]
  },
  {
   "cell_type": "code",
   "execution_count": 70,
   "metadata": {},
   "outputs": [
    {
     "name": "stdout",
     "output_type": "stream",
     "text": [
      "AUC =  0.8\n"
     ]
    }
   ],
   "source": [
    "from sklearn import metrics\n",
    "print('AUC = ', metrics.roc_auc_score(ground_truth, y_prob_kde_final))"
   ]
  },
  {
   "cell_type": "code",
   "execution_count": 71,
   "metadata": {},
   "outputs": [
    {
     "data": {
      "image/png": "[encoded data removed]",
      "text/plain": [
       "<Figure size 640x480 with 1 Axes>"
      ]
     },
     "metadata": {},
     "output_type": "display_data"
    }
   ],
   "source": [
    "fpr, tpr, thresholds = metrics.roc_curve(ground_truth, y_prob_kde_final)\n",
    "plt.plot(fpr, tpr, marker='.', label='AUROC = %0.3f' % metrics.roc_auc_score(ground_truth, y_prob_kde_final))\n",
    "# Title\n",
    "plt.title('ROC Plot')\n",
    "# Axis labels\n",
    "plt.xlabel('False Positive Rate')\n",
    "plt.ylabel('True Positive Rate')\n",
    "# Show legend\n",
    "plt.legend() # \n",
    "# Show plot\n",
    "plt.show()"
   ]
  },
  {
   "cell_type": "code",
   "execution_count": 72,
   "metadata": {},
   "outputs": [
    {
     "name": "stdout",
     "output_type": "stream",
     "text": [
      "The fpr is:  [0.  0.4 1. ]\n",
      "The tpr is:  [0. 1. 1.]\n",
      "The thresholds are:  [101.         100.           0.59248709]\n"
     ]
    }
   ],
   "source": [
    "print(\"The fpr is: \", fpr)\n",
    "print(\"The tpr is: \", tpr)\n",
    "print(\"The thresholds are: \", thresholds)"
   ]
  },
  {
   "attachments": {},
   "cell_type": "markdown",
   "metadata": {},
   "source": [
    "FRom above we can see that the results are not that good; these could be improved. HOwever these results are not as bad as the previous programs. "
   ]
  },
  {
   "attachments": {},
   "cell_type": "markdown",
   "metadata": {},
   "source": [
    "FRom the above graph, it is seen that the best threshold could be: 100 - 0.59248709. Let's see if we obtain what we expect (FPR = 0.4 and TPR = 1.0).\n",
    "\n",
    "- NOTE: Notice, that it was previously accorded that the thresholds shown by the metrics.roc_auc_score(ground_truth, prob_test) functions were going to be considered as 100-x to effectively test the FPR and TPR values. However in this case, strangely, see that directly using the threshold displayed by the function is used. It is not known yet why this happens. "
   ]
  },
  {
   "cell_type": "code",
   "execution_count": 79,
   "metadata": {},
   "outputs": [],
   "source": [
    "def pred_label_onProb(probs_list, prob_threshold):\n",
    "    pred_based_onProb = []\n",
    "    for i in range (len(probs_list)):\n",
    "        if probs_list[i] > prob_threshold:\n",
    "            prediction = 1                          ## Stands for classifiaction of anomaly bottle\n",
    "        else:\n",
    "            prediction = 0\n",
    "        pred_based_onProb.append(prediction)\n",
    "    return pred_based_onProb"
   ]
  },
  {
   "cell_type": "code",
   "execution_count": 80,
   "metadata": {},
   "outputs": [],
   "source": [
    "# from tensorflow.keras.metrics import Precision, Recall, BinaryAccuracy, SpecificityAtSensitivity\n",
    "from sklearn.metrics import confusion_matrix"
   ]
  },
  {
   "cell_type": "code",
   "execution_count": 81,
   "metadata": {},
   "outputs": [
    {
     "name": "stdout",
     "output_type": "stream",
     "text": [
      "[[12  8]\n",
      " [ 0 10]]\n",
      "The FPR values are:  0.4\n",
      "The TPR values are:  1.0\n",
      "Using the threshold = 100 - 0.59248709\n"
     ]
    }
   ],
   "source": [
    "conf_matrix = confusion_matrix(ground_truth, pred_label_onProb(y_prob_kde_final, (100 - 0.59248709 )))\n",
    "print(conf_matrix)\n",
    "_tp = conf_matrix[1, 1]\n",
    "_fn = conf_matrix[1, 0]\n",
    "_fp = conf_matrix[0, 1]\n",
    "_tn = conf_matrix[0, 0]\n",
    "_tpr = _tp/(_tp+_fn)\n",
    "_fpr = _fp / (_tn + _fp)\n",
    "print(\"The FPR values are: \", _fpr)\n",
    "print(\"The TPR values are: \", _tpr)\n",
    "print(\"Using the threshold = 100 - 0.59248709\")"
   ]
  },
  {
   "attachments": {},
   "cell_type": "markdown",
   "metadata": {},
   "source": [
    "Actually, the threshold= 100 - 0.59248709 is the one that corresonds to FPR = 0.4 and TPR = 1.0"
   ]
  },
  {
   "attachments": {},
   "cell_type": "markdown",
   "metadata": {},
   "source": [
    "## Trehshold based on Gaussian distribution of the non-anomaly images"
   ]
  },
  {
   "cell_type": "code",
   "execution_count": 82,
   "metadata": {},
   "outputs": [],
   "source": [
    "def map_error2prob(value):\n",
    "    # Calculate the mean and standard deviation\n",
    "    mean = na_average_recon_error\n",
    "    std_dev = na_stdev_recon_error\n",
    "    aux_score = value - mean\n",
    "    prob_score = ranges_mapper(abs(aux_score), 0, std_dev, 0, 50)\n",
    "    if prob_score<0:\n",
    "        prob_score = 0\n",
    "    if prob_score>100:\n",
    "        prob_score = 100\n",
    "    return prob_score"
   ]
  },
  {
   "attachments": {},
   "cell_type": "markdown",
   "metadata": {},
   "source": [
    "See below test, that shows if a reconstruction error is equal to the mean of the reconstruction error plus its standard deviation has 50% chance of being predicted as anomaly image."
   ]
  },
  {
   "cell_type": "code",
   "execution_count": 83,
   "metadata": {},
   "outputs": [
    {
     "name": "stdout",
     "output_type": "stream",
     "text": [
      "50.000000000000014\n"
     ]
    }
   ],
   "source": [
    "print(map_error2prob(na_average_recon_error + na_stdev_recon_error))"
   ]
  },
  {
   "cell_type": "code",
   "execution_count": 84,
   "metadata": {},
   "outputs": [],
   "source": [
    "def map_error2prob_list(input_list):\n",
    "    # Calculate the mean and standard deviation\n",
    "    mean = na_average_recon_error\n",
    "    std_dev = na_stdev_recon_error\n",
    "    prob_score_list = []\n",
    "    for i in range (len(input_list)):\n",
    "        aux_score = input_list[i] - mean\n",
    "        prob_score = ranges_mapper(abs(aux_score), 0, std_dev, 0, 50)\n",
    "        if prob_score<0:\n",
    "            prob_score = 0\n",
    "        if prob_score>100:\n",
    "            prob_score = 100\n",
    "        prob_score_list.append(prob_score)\n",
    "    return prob_score_list"
   ]
  },
  {
   "cell_type": "code",
   "execution_count": 85,
   "metadata": {},
   "outputs": [],
   "source": [
    "def computePred(err_value):\n",
    "    pred = 0\n",
    "    prob_anomaly = map_error2prob(err_value)/100\n",
    "    if prob_anomaly > 0.5:\n",
    "        pred = 1\n",
    "    else:\n",
    "        pred =0 \n",
    "    return pred"
   ]
  },
  {
   "cell_type": "code",
   "execution_count": 86,
   "metadata": {},
   "outputs": [
    {
     "name": "stdout",
     "output_type": "stream",
     "text": [
      "1/1 [==============================] - 0s 666us/step - loss: 0.0074\n",
      "1/1 [==============================] - 0s 663us/step - loss: 0.0073\n",
      "1/1 [==============================] - 0s 659us/step - loss: 0.0073\n",
      "1/1 [==============================] - 0s 650us/step - loss: 0.0057\n",
      "1/1 [==============================] - 0s 611us/step - loss: 0.0084\n",
      "1/1 [==============================] - 0s 1ms/step - loss: 0.0082\n",
      "1/1 [==============================] - 0s 782us/step - loss: 0.0056\n",
      "1/1 [==============================] - 0s 1ms/step - loss: 0.0055\n",
      "1/1 [==============================] - 0s 724us/step - loss: 0.0054\n",
      "1/1 [==============================] - 0s 747us/step - loss: 0.0051\n",
      "1/1 [==============================] - 0s 769us/step - loss: 0.0081\n",
      "1/1 [==============================] - 0s 978us/step - loss: 0.0061\n",
      "1/1 [==============================] - 0s 974us/step - loss: 0.0055\n",
      "1/1 [==============================] - 0s 819us/step - loss: 0.0062\n",
      "1/1 [==============================] - 0s 728us/step - loss: 0.0060\n",
      "1/1 [==============================] - 0s 958us/step - loss: 0.0134\n",
      "1/1 [==============================] - 0s 699us/step - loss: 0.0053\n",
      "1/1 [==============================] - 0s 751us/step - loss: 0.0131\n",
      "1/1 [==============================] - 0s 834us/step - loss: 0.0173\n",
      "1/1 [==============================] - 0s 959us/step - loss: 0.0175\n",
      "1/1 [==============================] - 0s 908us/step - loss: 0.0157\n",
      "1/1 [==============================] - 0s 938us/step - loss: 0.0243\n",
      "1/1 [==============================] - 0s 753us/step - loss: 0.0148\n",
      "1/1 [==============================] - 0s 754us/step - loss: 0.0057\n",
      "1/1 [==============================] - 0s 807us/step - loss: 0.0197\n",
      "1/1 [==============================] - 0s 822us/step - loss: 0.0060\n",
      "1/1 [==============================] - 0s 651us/step - loss: 0.0073\n",
      "1/1 [==============================] - 0s 834us/step - loss: 0.0128\n",
      "1/1 [==============================] - 0s 1ms/step - loss: 0.0229\n",
      "1/1 [==============================] - 0s 921us/step - loss: 0.0272\n",
      "[[0.0, 0.0, 0.0, 0.0, 0.0, 0.0, 0.0, 0.0, 0.0, 0.0], [0.0, 0.0, 0.0, 0.0, 0.0, 0.0, 0.0, 0.0, 0.0, 0.0], [1.0, 1.0, 1.0, 1.0, 1.0, 1.0, 1.0, 1.0, 1.0, 1.0]]\n",
      "[[1, 1, 1, 1, 0, 0, 1, 1, 1, 1], [0, 1, 1, 1, 1, 0, 1, 0, 1, 1], [0, 1, 0, 1, 1, 1, 1, 0, 1, 1]]\n",
      "[[51.733465103349474, 51.99416137248616, 52.09893369715477, 69.50621323426188, 40.533939691260635, 43.19567206767759, 69.99885682162521, 71.09267128603732, 72.59080943147956, 75.68850400275983], [43.97248045553276, 64.54308822327668, 71.10391662397831, 64.09019446089611, 65.51567794468474, 11.575792679343607, 73.21548795410239, 8.618728392931658, 53.0540554393102, 54.70756993015557], [36.2773215576647, 100, 26.72363447095716, 69.32906493674949, 77.4469144589828, 66.00129075119627, 52.16128176212159, 5.896310305852193, 100, 100]]\n"
     ]
    }
   ],
   "source": [
    "y_pred_final = []\n",
    "y_true_final = []\n",
    "y_prob_final = []\n",
    "for i in range(len(test_set_generator)):        # Traversing all the batches of the test set\n",
    "    batch_images, labels = next(test_crops)\n",
    "    y_pred = []\n",
    "    y_true = []\n",
    "    y_prob = []\n",
    "    for im in range(0, batch_images.shape[0]):  #Traversing all the images in the batch\n",
    "        img  = batch_images[im]\n",
    "        img = img[np.newaxis, :,:,:]\n",
    "        reconstruction = model.predict([[img]])\n",
    "        reconstruction_error = model.evaluate([reconstruction],[[img]])\n",
    "        probability = map_error2prob(reconstruction_error)\n",
    "        prediction = computePred(reconstruction_error)   \n",
    "        y_pred.append(prediction) # Save Prediction\n",
    "        y_true.append(labels[im]) # Save Truth  \n",
    "        y_prob.append(probability) # Save probability  \n",
    "    y_pred_final.append(y_pred)  \n",
    "    y_true_final.append(y_true)  \n",
    "    y_prob_final.append(y_prob)  \n",
    "print(y_true_final)\n",
    "print(y_pred_final)\n",
    "print(y_prob_final)\n",
    "\n",
    "\n",
    "# train_crops\n",
    "# val_crops\n",
    "# anomaly_crops\n",
    "# test_crops\n",
    " "
   ]
  },
  {
   "cell_type": "code",
   "execution_count": 87,
   "metadata": {},
   "outputs": [
    {
     "name": "stdout",
     "output_type": "stream",
     "text": [
      "[0, 0, 0, 0, 0, 0, 0, 0, 0, 0, 0, 0, 0, 0, 0, 0, 0, 0, 0, 0, 1, 1, 1, 1, 1, 1, 1, 1, 1, 1]\n",
      "[1, 1, 1, 1, 0, 0, 1, 1, 1, 1, 0, 1, 1, 1, 1, 0, 1, 0, 1, 1, 0, 1, 0, 1, 1, 1, 1, 0, 1, 1]\n",
      "[51.733465103349474, 51.99416137248616, 52.09893369715477, 69.50621323426188, 40.533939691260635, 43.19567206767759, 69.99885682162521, 71.09267128603732, 72.59080943147956, 75.68850400275983, 43.97248045553276, 64.54308822327668, 71.10391662397831, 64.09019446089611, 65.51567794468474, 11.575792679343607, 73.21548795410239, 8.618728392931658, 53.0540554393102, 54.70756993015557, 36.2773215576647, 100, 26.72363447095716, 69.32906493674949, 77.4469144589828, 66.00129075119627, 52.16128176212159, 5.896310305852193, 100, 100]\n"
     ]
    }
   ],
   "source": [
    "y_true_final = [item for sublist in y_true_final for item in sublist]\n",
    "y_true_final = [int(i) for i in y_true_final]\n",
    "y_pred_final = [item for sublist in y_pred_final for item in sublist]\n",
    "y_prob_final = [item for sublist in y_prob_final for item in sublist]\n",
    "print(y_true_final)\n",
    "print(y_pred_final)\n",
    "print(y_prob_final)"
   ]
  },
  {
   "attachments": {},
   "cell_type": "markdown",
   "metadata": {},
   "source": [
    "Above we see the predictions based on a threshold of 50%. See that the results are not that good. There are some false positive results and more important there are a considerable number of false negatives."
   ]
  },
  {
   "cell_type": "code",
   "execution_count": 88,
   "metadata": {},
   "outputs": [
    {
     "name": "stdout",
     "output_type": "stream",
     "text": [
      "AUC =  0.59\n"
     ]
    },
    {
     "data": {
      "image/png": "[encoded data removed]",
      "text/plain": [
       "<Figure size 640x480 with 1 Axes>"
      ]
     },
     "metadata": {},
     "output_type": "display_data"
    },
    {
     "name": "stdout",
     "output_type": "stream",
     "text": [
      "The fpr is:  [0.   0.   0.   0.35 0.35 0.6  0.6  0.9  0.9  1.   1.  ]\n",
      "The tpr is:  [0.  0.3 0.4 0.4 0.6 0.6 0.7 0.7 0.9 0.9 1. ]\n",
      "The thresholds are:  [101.         100.          77.44691446  69.50621323  66.00129075\n",
      "  53.05405544  52.16128176  40.53393969  26.72363447   8.61872839\n",
      "   5.89631031]\n"
     ]
    }
   ],
   "source": [
    "print('AUC = ', metrics.roc_auc_score(y_true_final, y_prob_final))\n",
    "fpr, tpr, thresholds = metrics.roc_curve(y_true_final, y_prob_final)\n",
    "plt.plot(fpr, tpr, marker='.', label='AUROC = %0.3f' % metrics.roc_auc_score(y_true_final, y_prob_final))\n",
    "# Title\n",
    "plt.title('ROC Plot')\n",
    "# Axis labels\n",
    "plt.xlabel('False Positive Rate')\n",
    "plt.ylabel('True Positive Rate')\n",
    "# Show legend\n",
    "plt.legend() # \n",
    "# Show plot\n",
    "plt.show()\n",
    "\n",
    "print(\"The fpr is: \", fpr)\n",
    "print(\"The tpr is: \", tpr)\n",
    "print(\"The thresholds are: \", thresholds)"
   ]
  },
  {
   "attachments": {},
   "cell_type": "markdown",
   "metadata": {},
   "source": [
    "At this point, the graph above shows us that there is not any acceptable threshold to work with. The result from the reconstruction error are poor in this approach."
   ]
  },
  {
   "attachments": {},
   "cell_type": "markdown",
   "metadata": {},
   "source": [
    "## Verifying the evaluation set"
   ]
  },
  {
   "cell_type": "code",
   "execution_count": 89,
   "metadata": {},
   "outputs": [
    {
     "name": "stdout",
     "output_type": "stream",
     "text": [
      "number of batches are:  3\n"
     ]
    }
   ],
   "source": [
    "#Just to test the model. \n",
    "data_batch_test = []  #Capture all training batches as a numpy array\n",
    "labels_test = []\n",
    "img_num = 0\n",
    "# while img_num <= train_generator.batch_index:   #gets each generated batch of size batch_size\n",
    "while img_num < len(test_set_generator):        #I think this should be the correct while clause\n",
    "    data, labels = next(test_crops)\n",
    "    data_batch_test.append(data)\n",
    "    labels_test.append(labels)\n",
    "    img_num = img_num + 1\n",
    "    \n",
    "print(\"number of batches are: \", img_num)"
   ]
  },
  {
   "cell_type": "code",
   "execution_count": 90,
   "metadata": {},
   "outputs": [
    {
     "name": "stdout",
     "output_type": "stream",
     "text": [
      "(10, 160, 128, 3)\n",
      "(10, 160, 128, 3)\n"
     ]
    }
   ],
   "source": [
    "index_batch = 2\n",
    "print(data_batch_test[index_batch].shape)\n",
    "predicted_fromTestSet = model.predict(data_batch_test[index_batch])  \n",
    "print(predicted_fromTestSet.shape)"
   ]
  },
  {
   "cell_type": "code",
   "execution_count": 91,
   "metadata": {},
   "outputs": [
    {
     "name": "stdout",
     "output_type": "stream",
     "text": [
      "(160, 128, 3)\n"
     ]
    }
   ],
   "source": [
    "single_img = data_batch_test[index_batch][0]\n",
    "print(single_img.shape)"
   ]
  },
  {
   "cell_type": "code",
   "execution_count": 92,
   "metadata": {},
   "outputs": [
    {
     "data": {
      "image/png": "[encoded data removed]",
      "text/plain": [
       "<Figure size 1200x600 with 2 Axes>"
      ]
     },
     "metadata": {},
     "output_type": "display_data"
    }
   ],
   "source": [
    "#Sanity check, view few images and corresponding reconstructions\n",
    "image_number = 0\n",
    "plt.figure(figsize=(12, 6))\n",
    "plt.subplot(121)\n",
    "plt.title(\"input image\")\n",
    "plt.imshow(data_batch_test[index_batch][image_number])\n",
    "plt.subplot(122)\n",
    "plt.title(\"reconstructed image\")\n",
    "plt.imshow(predicted_fromTestSet[image_number])\n",
    "plt.show()"
   ]
  },
  {
   "attachments": {},
   "cell_type": "markdown",
   "metadata": {},
   "source": [
    "Displaying the label of this particular image."
   ]
  },
  {
   "cell_type": "code",
   "execution_count": 93,
   "metadata": {},
   "outputs": [
    {
     "name": "stdout",
     "output_type": "stream",
     "text": [
      "1.0\n"
     ]
    }
   ],
   "source": [
    "print(labels_test[index_batch][image_number])"
   ]
  },
  {
   "attachments": {},
   "cell_type": "markdown",
   "metadata": {},
   "source": [
    "## Analyzing further the results of the reconstruction images"
   ]
  },
  {
   "attachments": {},
   "cell_type": "markdown",
   "metadata": {},
   "source": [
    "See below images. THe first one is predicted to be an anomaly while the second one is predicted be a non-anomaly image."
   ]
  },
  {
   "cell_type": "code",
   "execution_count": 99,
   "metadata": {},
   "outputs": [
    {
     "name": "stdout",
     "output_type": "stream",
     "text": [
      "1/1 [==============================] - 0s 866us/step - loss: 0.0084\n"
     ]
    },
    {
     "data": {
      "image/png": "[encoded data removed]",
      "text/plain": [
       "<Figure size 1200x600 with 2 Axes>"
      ]
     },
     "metadata": {},
     "output_type": "display_data"
    },
    {
     "name": "stdout",
     "output_type": "stream",
     "text": [
      "The label image is:  0.0\n",
      "Its probability is:  40.5339299127059\n",
      "Its prediction is:  0\n",
      "Its reconstruction_error is:  0.008420731872320175\n"
     ]
    }
   ],
   "source": [
    "\n",
    "for i in range(len(test_set_generator)):        # Traversing all the batches of the test set\n",
    "    batch_images, labels = next(test_crops)\n",
    "    if i == 0:\n",
    "        for im in range(0, batch_images.shape[0]):  #Traversing all the images in the batch\n",
    "            if im == 4:\n",
    "                img  = batch_images[im]\n",
    "\n",
    "                label_img = labels[im]\n",
    "\n",
    "                img = img[np.newaxis, :,:,:]\n",
    "                reconstruction = model.predict([[img]])\n",
    "\n",
    "                reconstruction_error = model.evaluate([reconstruction],[[img]])\n",
    "                probability = map_error2prob(reconstruction_error)\n",
    "                prediction = computePred(reconstruction_error)   \n",
    "\n",
    "                \n",
    "\n",
    "to_print_original = img[0]\n",
    "to_print_reconstruction = reconstruction[0]\n",
    "#Sanity check, view few images and corresponding reconstructions\n",
    "image_number = 0\n",
    "plt.figure(figsize=(12, 6))\n",
    "plt.subplot(121)\n",
    "plt.title(\"input image\")\n",
    "plt.imshow(to_print_original)\n",
    "plt.subplot(122)\n",
    "plt.title(\"reconstructed image\")\n",
    "plt.imshow(to_print_reconstruction)\n",
    "plt.show()\n",
    "\n",
    "print(\"The label image is: \", label_img)\n",
    "print(\"Its probability is: \", probability)\n",
    "print(\"Its prediction is: \", prediction)\n",
    "print(\"Its reconstruction_error is: \", reconstruction_error)\n"
   ]
  },
  {
   "cell_type": "code",
   "execution_count": 100,
   "metadata": {},
   "outputs": [
    {
     "name": "stdout",
     "output_type": "stream",
     "text": [
      "1/1 [==============================] - 0s 735us/step - loss: 0.0057\n"
     ]
    },
    {
     "name": "stderr",
     "output_type": "stream",
     "text": [
      "Clipping input data to the valid range for imshow with RGB data ([0..1] for floats or [0..255] for integers).\n"
     ]
    },
    {
     "data": {
      "image/png": "[encoded data removed]",
      "text/plain": [
       "<Figure size 1200x600 with 2 Axes>"
      ]
     },
     "metadata": {},
     "output_type": "display_data"
    },
    {
     "name": "stdout",
     "output_type": "stream",
     "text": [
      "The label image is:  0.0\n",
      "Its probability is:  69.50621323426188\n",
      "Its prediction is:  1\n",
      "Its reconstruction_error is:  0.005661373026669025\n"
     ]
    }
   ],
   "source": [
    "\n",
    "for i in range(len(test_set_generator)):        # Traversing all the batches of the test set\n",
    "    batch_images, labels = next(test_crops)\n",
    "    if i == 0:\n",
    "        for im in range(0, batch_images.shape[0]):  #Traversing all the images in the batch\n",
    "            if im == 3:\n",
    "                img  = batch_images[im]\n",
    "\n",
    "                label_img = labels[im]\n",
    "\n",
    "                img = img[np.newaxis, :,:,:]\n",
    "                reconstruction = model.predict([[img]])\n",
    "\n",
    "                reconstruction_error = model.evaluate([reconstruction],[[img]])\n",
    "                probability = map_error2prob(reconstruction_error)\n",
    "                prediction = computePred(reconstruction_error)   \n",
    "\n",
    "                \n",
    "\n",
    "to_print_original = img[0]\n",
    "to_print_reconstruction = reconstruction[0]\n",
    "#Sanity check, view few images and corresponding reconstructions\n",
    "image_number = 0\n",
    "plt.figure(figsize=(12, 6))\n",
    "plt.subplot(121)\n",
    "plt.title(\"input image\")\n",
    "plt.imshow(to_print_original)\n",
    "plt.subplot(122)\n",
    "plt.title(\"reconstructed image\")\n",
    "plt.imshow(to_print_reconstruction)\n",
    "plt.show()\n",
    "\n",
    "print(\"The label image is: \", label_img)\n",
    "print(\"Its probability is: \", probability)\n",
    "print(\"Its prediction is: \", prediction)\n",
    "print(\"Its reconstruction_error is: \", reconstruction_error)\n"
   ]
  },
  {
   "cell_type": "code",
   "execution_count": 96,
   "metadata": {},
   "outputs": [
    {
     "data": {
      "text/plain": [
       "0.01704330392035473"
      ]
     },
     "execution_count": 96,
     "metadata": {},
     "output_type": "execute_result"
    }
   ],
   "source": [
    "na_average_recon_error + na_stdev_recon_error"
   ]
  },
  {
   "cell_type": "code",
   "execution_count": 97,
   "metadata": {},
   "outputs": [
    {
     "data": {
      "text/plain": [
       "0.007519170751333391"
      ]
     },
     "execution_count": 97,
     "metadata": {},
     "output_type": "execute_result"
    }
   ],
   "source": [
    "na_average_recon_error - na_stdev_recon_error"
   ]
  },
  {
   "cell_type": "code",
   "execution_count": 98,
   "metadata": {},
   "outputs": [
    {
     "name": "stdout",
     "output_type": "stream",
     "text": [
      "0.01228123733584406\n",
      "0.004762066584510669\n"
     ]
    }
   ],
   "source": [
    "print(na_average_recon_error)\n",
    "print(na_stdev_recon_error)"
   ]
  },
  {
   "attachments": {},
   "cell_type": "markdown",
   "metadata": {},
   "source": [
    "As seen above both images at simple look, seem to be the same. However, the first image seems to have more brightness, perhaps that's what made it to be predicted as anomaly."
   ]
  },
  {
   "attachments": {},
   "cell_type": "markdown",
   "metadata": {},
   "source": []
  }
 ],
 "metadata": {
  "kernelspec": {
   "display_name": "Python 3",
   "language": "python",
   "name": "python3"
  },
  "language_info": {
   "codemirror_mode": {
    "name": "ipython",
    "version": 3
   },
   "file_extension": ".py",
   "mimetype": "text/x-python",
   "name": "python",
   "nbconvert_exporter": "python",
   "pygments_lexer": "ipython3",
   "version": "3.8.10"
  },
  "orig_nbformat": 4,
  "vscode": {
   "interpreter": {
    "hash": "916dbcbb3f70747c44a77c7bcd40155683ae19c65e1c03b4aa3499c5328201f1"
   }
  }
 },
 "nbformat": 4,
 "nbformat_minor": 2
}
