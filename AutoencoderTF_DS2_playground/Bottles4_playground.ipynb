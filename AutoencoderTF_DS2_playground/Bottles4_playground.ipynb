{
 "cells": [
  {
   "cell_type": "markdown",
   "metadata": {},
   "source": [
    "# Importing libraries"
   ]
  },
  {
   "cell_type": "code",
   "execution_count": 1,
   "metadata": {},
   "outputs": [],
   "source": [
    "from tensorflow.keras.models import Sequential, Model\n",
    "from tensorflow.keras.layers import *\n",
    "from tensorflow.keras.preprocessing.image import ImageDataGenerator\n",
    "from tensorflow import keras\n",
    "import tensorflow as tf\n",
    "# from keras import layers\n",
    "\n",
    "\n",
    "from tensorflow.keras.optimizers import Adam, RMSprop\n",
    "from tensorflow.keras.preprocessing import image\n",
    "\n",
    "import tensorflow.keras.backend as K\n",
    "\n",
    "\n",
    "from PIL import Image\n",
    "import matplotlib.pyplot as plt\n",
    "import numpy as np\n",
    "import random\n",
    "\n"
   ]
  },
  {
   "cell_type": "code",
   "execution_count": 2,
   "metadata": {},
   "outputs": [
    {
     "name": "stdout",
     "output_type": "stream",
     "text": [
      "Num GPUs Available:  1\n"
     ]
    },
    {
     "name": "stderr",
     "output_type": "stream",
     "text": [
      "2023-08-20 01:06:40.450863: I tensorflow/stream_executor/platform/default/dso_loader.cc:44] Successfully opened dynamic library libcuda.so.1\n",
      "2023-08-20 01:06:40.491391: I tensorflow/stream_executor/cuda/cuda_gpu_executor.cc:981] successful NUMA node read from SysFS had negative value (-1), but there must be at least one NUMA node, so returning NUMA node zero\n",
      "2023-08-20 01:06:40.491945: I tensorflow/core/common_runtime/gpu/gpu_device.cc:1561] Found device 0 with properties: \n",
      "pciBusID: 0000:01:00.0 name: NVIDIA GeForce RTX 2080 with Max-Q Design computeCapability: 7.5\n",
      "coreClock: 1.23GHz coreCount: 46 deviceMemorySize: 7.79GiB deviceMemoryBandwidth: 357.69GiB/s\n",
      "2023-08-20 01:06:40.492219: I tensorflow/stream_executor/platform/default/dso_loader.cc:44] Successfully opened dynamic library libcudart.so.10.1\n",
      "2023-08-20 01:06:40.494309: I tensorflow/stream_executor/platform/default/dso_loader.cc:44] Successfully opened dynamic library libcublas.so.10\n",
      "2023-08-20 01:06:40.496039: I tensorflow/stream_executor/platform/default/dso_loader.cc:44] Successfully opened dynamic library libcufft.so.10\n",
      "2023-08-20 01:06:40.496366: I tensorflow/stream_executor/platform/default/dso_loader.cc:44] Successfully opened dynamic library libcurand.so.10\n",
      "2023-08-20 01:06:40.498584: I tensorflow/stream_executor/platform/default/dso_loader.cc:44] Successfully opened dynamic library libcusolver.so.10\n",
      "2023-08-20 01:06:40.499793: I tensorflow/stream_executor/platform/default/dso_loader.cc:44] Successfully opened dynamic library libcusparse.so.10\n",
      "2023-08-20 01:06:40.504266: I tensorflow/stream_executor/platform/default/dso_loader.cc:44] Successfully opened dynamic library libcudnn.so.7\n",
      "2023-08-20 01:06:40.504404: I tensorflow/stream_executor/cuda/cuda_gpu_executor.cc:981] successful NUMA node read from SysFS had negative value (-1), but there must be at least one NUMA node, so returning NUMA node zero\n",
      "2023-08-20 01:06:40.505092: I tensorflow/stream_executor/cuda/cuda_gpu_executor.cc:981] successful NUMA node read from SysFS had negative value (-1), but there must be at least one NUMA node, so returning NUMA node zero\n",
      "2023-08-20 01:06:40.505721: I tensorflow/core/common_runtime/gpu/gpu_device.cc:1703] Adding visible gpu devices: 0\n"
     ]
    }
   ],
   "source": [
    "physical_devices = tf.config.experimental.list_physical_devices('GPU')\n",
    "if len(physical_devices) == 0:\n",
    "    print(\"Not enough GPU hardware devices available\")\n",
    "else:\n",
    "    config = tf.config.experimental.set_memory_growth(physical_devices[0], True)\n",
    "print(\"Num GPUs Available: \", len(physical_devices))"
   ]
  },
  {
   "cell_type": "markdown",
   "metadata": {},
   "source": [
    "If uncommented it will print all the log information about where the tensorflow operations were performed, in the CPU or the GPU"
   ]
  },
  {
   "cell_type": "code",
   "execution_count": 3,
   "metadata": {},
   "outputs": [],
   "source": [
    "# tf.debugging.set_log_device_placement(True)       # Will print the log information of every execution of tensorflow, mainly about "
   ]
  },
  {
   "attachments": {},
   "cell_type": "markdown",
   "metadata": {},
   "source": [
    "# Loading the train data set"
   ]
  },
  {
   "attachments": {},
   "cell_type": "markdown",
   "metadata": {},
   "source": [
    "ImageDataGenerator.flow_from_directory: Takes the path to a directory and generates batches of augmented data."
   ]
  },
  {
   "cell_type": "code",
   "execution_count": 4,
   "metadata": {},
   "outputs": [],
   "source": [
    "def my_crop(img, start_y, start_x, desired_height, desired_width):\n",
    "  if K.image_data_format() == 'channels_last':\n",
    "    # Note: image_data_format is 'channel_last'\n",
    "    assert img.shape[2] == 3\n",
    "    dy = desired_height #input desired output size\n",
    "    dx = desired_width #input desired output size\n",
    "    # start_y = (height-dy)//2\n",
    "    # start_x = (width-dx)//2\n",
    "    return img[start_y:start_y+dy, start_x:(dx+start_x), :]\n",
    "  else:\n",
    "      assert img.shape[0] == 3\n",
    "      dy = desired_height #input desired output size\n",
    "      dx = desired_width #input desired output size\n",
    "      # start_y = (height-dy)//2\n",
    "      # start_x = (width-dx)//2\n",
    "      return img[:,start_y:start_y + dy, start_x:(dx + start_x)]\n",
    "\n",
    "def crop_augmented_generator(batches, start_y, start_x, crop_height, crop_width):\n",
    "    '''\n",
    "    Take as input a Keras ImageGen (Iterator) and generate\n",
    "    crops from the image batches generated by the original iterator\n",
    "    '''\n",
    "    # print(\"I'm in the crop_generataor function\")\n",
    "    while True:\n",
    "      batch_x, batch_y = next(batches)  # In batch_x there are the images, in batch_y there are the labels\n",
    "    #   print(\"hello\")\n",
    "    #   print('the shape of tensor batch_x is:', batch_x.shape)\n",
    "    #   print('batch_y is:', batch_y)\n",
    "    \n",
    "      if K.image_data_format() == 'channels_last':\n",
    "        # print(\"type of batch_x: \", type(batch_x))\n",
    "        # print(\"type of batch_y: \", type(batch_y))\n",
    "        # print(\"len of batch_x: \", len(batch_x))\n",
    "\n",
    "        # Either batch_x or batch_y could be augmented or original\n",
    "        batch_crops_input_x = np.zeros((batch_x[0].shape[0], crop_height, crop_width, 3))\n",
    "        batch_crops_target_x = np.zeros((batch_x[1].shape[0], crop_height, crop_width, 3))\n",
    "\n",
    "        batch_crops_input_y = np.zeros((batch_y[0].shape[0], crop_height, crop_width, 3))\n",
    "        batch_crops_target_y = np.zeros((batch_y[1].shape[0], crop_height, crop_width, 3))\n",
    "      else:\n",
    "        # Either batch_x or batch_y could be augmented or original\n",
    "        batch_crops_input_x = np.zeros((batch_x[0].shape[0], 3, crop_height, crop_width))\n",
    "        batch_crops_target_x = np.zeros((batch_x[1].shape[0], 3, crop_height, crop_width))\n",
    "\n",
    "        batch_crops_input_y = np.zeros((batch_y[0].shape[0], 3, crop_height, crop_width))\n",
    "        batch_crops_target_y = np.zeros((batch_y[1].shape[0], 3, crop_height, crop_width))\n",
    "\n",
    "      for i in range(batch_x[0].shape[0]):\n",
    "        #   print(\"THe shape of a single image before the cropping is: \", batch_x[i].shape)\n",
    "        batch_crops_input_x[i] = my_crop(batch_x[0][i], start_y, start_x, crop_height, crop_width)\n",
    "        batch_crops_target_x[i] = my_crop(batch_x[1][i], start_y, start_x, crop_height, crop_width)\n",
    "\n",
    "        batch_crops_input_y[i] = my_crop(batch_y[0][i], start_y, start_x, crop_height, crop_width)\n",
    "        batch_crops_target_y[i] = my_crop(batch_y[1][i], start_y, start_x, crop_height, crop_width)\n",
    "      \n",
    "      # print(type(batch_crops_input_x))\n",
    "      batch_crops_x = (batch_crops_input_x, batch_crops_target_x)\n",
    "      batch_crops_y = (batch_crops_input_y, batch_crops_target_y)\n",
    "\n",
    "      yield (batch_crops_x, batch_crops_y)\n",
    "\n",
    "  \n",
    "    \n",
    "def crop_generator(batches, start_y, start_x, crop_height, crop_width, flag=0):\n",
    "    '''\n",
    "    Take as input a Keras ImageGen (Iterator) and generate\n",
    "    crops from the image batches generated by the original iterator\n",
    "    '''\n",
    "    # print(\"I'm in the crop_generataor function\")\n",
    "    while True:\n",
    "      batch_x, batch_y = next(batches)  # In batch_x there are the images, in batch_y there are the labels\n",
    "    #   print(\"hello\")\n",
    "    #   print('the shape of tensor batch_x is:', batch_x.shape)\n",
    "    #   print('batch_y is:', batch_y)\n",
    "      if flag==0:\n",
    "        if K.image_data_format() == 'channels_last':\n",
    "          batch_crops = np.zeros((batch_x.shape[0], crop_height, crop_width, 3))\n",
    "          batch_crops_y = np.zeros((batch_y.shape[0], crop_height, crop_width, 3))\n",
    "        else:\n",
    "          batch_crops = np.zeros((batch_x.shape[0], 3, crop_height, crop_width))\n",
    "          batch_crops_y = np.zeros((batch_y.shape[0], 3, crop_height, crop_width))\n",
    "        for i in range(batch_x.shape[0]):\n",
    "          #   print(\"THe shape of a single image before the cropping is: \", batch_x[i].shape)\n",
    "            batch_crops[i] = my_crop(batch_x[i], start_y, start_x, crop_height, crop_width)\n",
    "            batch_crops_y[i] = my_crop(batch_x[i], start_y, start_x, crop_height, crop_width)\n",
    "        yield (batch_crops, batch_crops_y)\n",
    "      else: \n",
    "        if K.image_data_format() == 'channels_last':\n",
    "          batch_crops = np.zeros((batch_x.shape[0], crop_height, crop_width, 3))\n",
    "        else:\n",
    "          batch_crops = np.zeros((batch_x.shape[0], 3, crop_height, crop_width))\n",
    "        for i in range(batch_x.shape[0]):\n",
    "          #   print(\"THe shape of a single image before the cropping is: \", batch_x[i].shape)\n",
    "            batch_crops[i] = my_crop(batch_x[i], start_y, start_x, crop_height, crop_width)\n",
    "\n",
    "        yield (batch_crops, batch_y)\n",
    "         "
   ]
  },
  {
   "cell_type": "code",
   "execution_count": 5,
   "metadata": {},
   "outputs": [
    {
     "name": "stdout",
     "output_type": "stream",
     "text": [
      "Found 295 images belonging to 1 classes.\n"
     ]
    }
   ],
   "source": [
    "# batch_size = 64\n",
    "batch_size = 10\n",
    "datagen = ImageDataGenerator(rescale=1./255) # Typically used for data augmentation. Here it is only rescaling the image pixels value to range 0 to 1 in decimals\n",
    "\n",
    "train_generator = datagen.flow_from_directory(\n",
    "    \"../../Images/june5Night/Positive/\",         # For home laptop\n",
    "    # \"../../../BottleStoodUp_atNight/Positive/\",          # For work laptop\n",
    "    batch_size=batch_size,\n",
    "    shuffle = False,\n",
    "    class_mode='input'\n",
    "    \n",
    "    )"
   ]
  },
  {
   "cell_type": "code",
   "execution_count": 6,
   "metadata": {},
   "outputs": [
    {
     "name": "stdout",
     "output_type": "stream",
     "text": [
      "Found 20 images belonging to 1 classes.\n"
     ]
    }
   ],
   "source": [
    "validation_generator_for_training = datagen.flow_from_directory(\n",
    "    \"../../Images/june5Night/Positive_val/\",     # For home laptop\n",
    "    # \"../../../BottleStoodUp_atNight/Positive_val/\",           # For work lpatop   \n",
    "    batch_size=batch_size,\n",
    "    shuffle = False,\n",
    "    class_mode='input'\n",
    "    )\n"
   ]
  },
  {
   "cell_type": "code",
   "execution_count": 7,
   "metadata": {},
   "outputs": [
    {
     "name": "stdout",
     "output_type": "stream",
     "text": [
      "Found 30 images belonging to 2 classes.\n"
     ]
    }
   ],
   "source": [
    "validation_generator = datagen.flow_from_directory(\n",
    "    \"../../Images/june5Night/Validation/\",     # For home laptop\n",
    "    # \"../../../BottleStoodUp_atNight/Positive_val/\",           # For work lpatop   \n",
    "    batch_size=batch_size,\n",
    "    shuffle = False,\n",
    "    class_mode='binary'\n",
    "    )"
   ]
  },
  {
   "cell_type": "code",
   "execution_count": 8,
   "metadata": {},
   "outputs": [
    {
     "name": "stdout",
     "output_type": "stream",
     "text": [
      "Found 30 images belonging to 2 classes.\n"
     ]
    }
   ],
   "source": [
    "test_set_generator = datagen.flow_from_directory(\n",
    "    \"../../Images/june5Night/Evaluation/\",       # For home laptop\n",
    "    # \"../../../BottleStoodUp_atNight/Evaluation/\",             # For work laptop  \n",
    "    batch_size=batch_size,\n",
    "    shuffle = False,\n",
    "    class_mode='binary'\n",
    "    )\n"
   ]
  },
  {
   "cell_type": "markdown",
   "metadata": {},
   "source": [
    "# Showing one sample of the training set images"
   ]
  },
  {
   "attachments": {},
   "cell_type": "markdown",
   "metadata": {},
   "source": [
    "Creating the cropped images"
   ]
  },
  {
   "cell_type": "code",
   "execution_count": 9,
   "metadata": {},
   "outputs": [],
   "source": [
    "HEIGHT = 160\n",
    "WIDTH = 128"
   ]
  },
  {
   "cell_type": "code",
   "execution_count": 10,
   "metadata": {},
   "outputs": [],
   "source": [
    "train_crops = crop_generator(train_generator, 65, 69, HEIGHT,WIDTH)      # top, left, height, width\n",
    "val_crops = crop_generator(validation_generator_for_training, 65, 69, HEIGHT,WIDTH)      # top, left, height, width\n",
    "test_crops = crop_generator(test_set_generator, 65, 69, HEIGHT,WIDTH,1)      # top, left, height, width\n",
    "val_crops_for_threshold = crop_generator(validation_generator, 65, 69, HEIGHT,WIDTH,1)      # top, left, height, width"
   ]
  },
  {
   "attachments": {},
   "cell_type": "markdown",
   "metadata": {},
   "source": [
    "Here we make sure that both of the returned elements of the cropped generator, that is \"imgaes_in_batch\" and \"imgaes_in_batch2\", are indeed cropped images."
   ]
  },
  {
   "cell_type": "code",
   "execution_count": 11,
   "metadata": {},
   "outputs": [],
   "source": [
    "images_in_batch, images_in_batch2 = next(train_crops)"
   ]
  },
  {
   "cell_type": "code",
   "execution_count": 12,
   "metadata": {},
   "outputs": [
    {
     "name": "stdout",
     "output_type": "stream",
     "text": [
      "(10, 160, 128, 3)\n",
      "(10, 160, 128, 3)\n"
     ]
    }
   ],
   "source": [
    "print(images_in_batch.shape)\n",
    "print(images_in_batch2.shape)"
   ]
  },
  {
   "cell_type": "code",
   "execution_count": 13,
   "metadata": {},
   "outputs": [
    {
     "name": "stdout",
     "output_type": "stream",
     "text": [
      "(160, 128, 3)\n",
      "(160, 128, 3)\n"
     ]
    }
   ],
   "source": [
    "single_input_image = images_in_batch[0]\n",
    "single_expected_image = images_in_batch2[0]\n",
    "print(single_input_image.shape)\n",
    "print(single_expected_image.shape)"
   ]
  },
  {
   "cell_type": "code",
   "execution_count": 14,
   "metadata": {},
   "outputs": [
    {
     "data": {
      "text/plain": [
       "<matplotlib.image.AxesImage at 0x7fb8580f2d90>"
      ]
     },
     "execution_count": 14,
     "metadata": {},
     "output_type": "execute_result"
    },
    {
     "data": {
      "image/png": "[encoded data removed]",
      "text/plain": [
       "<Figure size 640x480 with 1 Axes>"
      ]
     },
     "metadata": {},
     "output_type": "display_data"
    }
   ],
   "source": [
    "plt.imshow(single_input_image)"
   ]
  },
  {
   "cell_type": "code",
   "execution_count": 15,
   "metadata": {},
   "outputs": [
    {
     "data": {
      "text/plain": [
       "<matplotlib.image.AxesImage at 0x7fb85023baf0>"
      ]
     },
     "execution_count": 15,
     "metadata": {},
     "output_type": "execute_result"
    },
    {
     "data": {
      "image/png": "[encoded data removed]",
      "text/plain": [
       "<Figure size 640x480 with 1 Axes>"
      ]
     },
     "metadata": {},
     "output_type": "display_data"
    }
   ],
   "source": [
    "plt.imshow(single_expected_image)"
   ]
  },
  {
   "cell_type": "code",
   "execution_count": 16,
   "metadata": {},
   "outputs": [
    {
     "name": "stdout",
     "output_type": "stream",
     "text": [
      "This is comparisson imgs: True\n"
     ]
    }
   ],
   "source": [
    "compareImgs = single_input_image==single_expected_image\n",
    "res1 =  np.all(compareImgs)\n",
    "print(\"This is comparisson imgs:\", res1)"
   ]
  },
  {
   "attachments": {},
   "cell_type": "markdown",
   "metadata": {},
   "source": [
    "# Building the model Autoencoder model"
   ]
  },
  {
   "cell_type": "code",
   "execution_count": 17,
   "metadata": {},
   "outputs": [
    {
     "name": "stderr",
     "output_type": "stream",
     "text": [
      "2023-08-20 01:06:41.048730: I tensorflow/core/platform/cpu_feature_guard.cc:143] Your CPU supports instructions that this TensorFlow binary was not compiled to use: AVX2 FMA\n",
      "2023-08-20 01:06:41.069560: I tensorflow/core/platform/profile_utils/cpu_utils.cc:102] CPU Frequency: 2599990000 Hz\n",
      "2023-08-20 01:06:41.070315: I tensorflow/compiler/xla/service/service.cc:168] XLA service 0x7fb7fc001050 initialized for platform Host (this does not guarantee that XLA will be used). Devices:\n",
      "2023-08-20 01:06:41.070346: I tensorflow/compiler/xla/service/service.cc:176]   StreamExecutor device (0): Host, Default Version\n",
      "2023-08-20 01:06:41.140811: I tensorflow/stream_executor/cuda/cuda_gpu_executor.cc:981] successful NUMA node read from SysFS had negative value (-1), but there must be at least one NUMA node, so returning NUMA node zero\n",
      "2023-08-20 01:06:41.141243: I tensorflow/compiler/xla/service/service.cc:168] XLA service 0x5da2b30 initialized for platform CUDA (this does not guarantee that XLA will be used). Devices:\n",
      "2023-08-20 01:06:41.141261: I tensorflow/compiler/xla/service/service.cc:176]   StreamExecutor device (0): NVIDIA GeForce RTX 2080 with Max-Q Design, Compute Capability 7.5\n",
      "2023-08-20 01:06:41.141458: I tensorflow/stream_executor/cuda/cuda_gpu_executor.cc:981] successful NUMA node read from SysFS had negative value (-1), but there must be at least one NUMA node, so returning NUMA node zero\n",
      "2023-08-20 01:06:41.141822: I tensorflow/core/common_runtime/gpu/gpu_device.cc:1561] Found device 0 with properties: \n",
      "pciBusID: 0000:01:00.0 name: NVIDIA GeForce RTX 2080 with Max-Q Design computeCapability: 7.5\n",
      "coreClock: 1.23GHz coreCount: 46 deviceMemorySize: 7.79GiB deviceMemoryBandwidth: 357.69GiB/s\n",
      "2023-08-20 01:06:41.141859: I tensorflow/stream_executor/platform/default/dso_loader.cc:44] Successfully opened dynamic library libcudart.so.10.1\n",
      "2023-08-20 01:06:41.141872: I tensorflow/stream_executor/platform/default/dso_loader.cc:44] Successfully opened dynamic library libcublas.so.10\n",
      "2023-08-20 01:06:41.141883: I tensorflow/stream_executor/platform/default/dso_loader.cc:44] Successfully opened dynamic library libcufft.so.10\n",
      "2023-08-20 01:06:41.141894: I tensorflow/stream_executor/platform/default/dso_loader.cc:44] Successfully opened dynamic library libcurand.so.10\n",
      "2023-08-20 01:06:41.141905: I tensorflow/stream_executor/platform/default/dso_loader.cc:44] Successfully opened dynamic library libcusolver.so.10\n",
      "2023-08-20 01:06:41.141916: I tensorflow/stream_executor/platform/default/dso_loader.cc:44] Successfully opened dynamic library libcusparse.so.10\n",
      "2023-08-20 01:06:41.141927: I tensorflow/stream_executor/platform/default/dso_loader.cc:44] Successfully opened dynamic library libcudnn.so.7\n",
      "2023-08-20 01:06:41.141980: I tensorflow/stream_executor/cuda/cuda_gpu_executor.cc:981] successful NUMA node read from SysFS had negative value (-1), but there must be at least one NUMA node, so returning NUMA node zero\n",
      "2023-08-20 01:06:41.142327: I tensorflow/stream_executor/cuda/cuda_gpu_executor.cc:981] successful NUMA node read from SysFS had negative value (-1), but there must be at least one NUMA node, so returning NUMA node zero\n",
      "2023-08-20 01:06:41.142647: I tensorflow/core/common_runtime/gpu/gpu_device.cc:1703] Adding visible gpu devices: 0\n",
      "2023-08-20 01:06:41.142676: I tensorflow/stream_executor/platform/default/dso_loader.cc:44] Successfully opened dynamic library libcudart.so.10.1\n",
      "2023-08-20 01:06:41.143102: I tensorflow/core/common_runtime/gpu/gpu_device.cc:1102] Device interconnect StreamExecutor with strength 1 edge matrix:\n",
      "2023-08-20 01:06:41.143112: I tensorflow/core/common_runtime/gpu/gpu_device.cc:1108]      0 \n",
      "2023-08-20 01:06:41.143117: I tensorflow/core/common_runtime/gpu/gpu_device.cc:1121] 0:   N \n",
      "2023-08-20 01:06:41.143202: I tensorflow/stream_executor/cuda/cuda_gpu_executor.cc:981] successful NUMA node read from SysFS had negative value (-1), but there must be at least one NUMA node, so returning NUMA node zero\n",
      "2023-08-20 01:06:41.143576: I tensorflow/stream_executor/cuda/cuda_gpu_executor.cc:981] successful NUMA node read from SysFS had negative value (-1), but there must be at least one NUMA node, so returning NUMA node zero\n",
      "2023-08-20 01:06:41.143913: I tensorflow/core/common_runtime/gpu/gpu_device.cc:1247] Created TensorFlow device (/job:localhost/replica:0/task:0/device:GPU:0 with 6787 MB memory) -> physical GPU (device: 0, name: NVIDIA GeForce RTX 2080 with Max-Q Design, pci bus id: 0000:01:00.0, compute capability: 7.5)\n"
     ]
    },
    {
     "name": "stdout",
     "output_type": "stream",
     "text": [
      "(None, 10, 8, 1)\n",
      "(None, 40)\n",
      "Model: \"model\"\n",
      "_________________________________________________________________\n",
      "Layer (type)                 Output Shape              Param #   \n",
      "=================================================================\n",
      "input_1 (InputLayer)         [(None, 160, 128, 3)]     0         \n",
      "_________________________________________________________________\n",
      "conv2d (Conv2D)              (None, 160, 128, 64)      1792      \n",
      "_________________________________________________________________\n",
      "max_pooling2d (MaxPooling2D) (None, 80, 64, 64)        0         \n",
      "_________________________________________________________________\n",
      "conv2d_1 (Conv2D)            (None, 80, 64, 32)        18464     \n",
      "_________________________________________________________________\n",
      "max_pooling2d_1 (MaxPooling2 (None, 40, 32, 32)        0         \n",
      "_________________________________________________________________\n",
      "conv2d_2 (Conv2D)            (None, 40, 32, 16)        4624      \n",
      "_________________________________________________________________\n",
      "max_pooling2d_2 (MaxPooling2 (None, 20, 16, 16)        0         \n",
      "_________________________________________________________________\n",
      "conv2d_3 (Conv2D)            (None, 20, 16, 4)         580       \n",
      "_________________________________________________________________\n",
      "max_pooling2d_3 (MaxPooling2 (None, 10, 8, 4)          0         \n",
      "_________________________________________________________________\n",
      "conv2d_4 (Conv2D)            (None, 10, 8, 1)          37        \n",
      "_________________________________________________________________\n",
      "flatten (Flatten)            (None, 80)                0         \n",
      "_________________________________________________________________\n",
      "dense (Dense)                (None, 80)                6480      \n",
      "_________________________________________________________________\n",
      "dense_1 (Dense)              (None, 40)                3240      \n",
      "=================================================================\n",
      "Total params: 35,217\n",
      "Trainable params: 35,217\n",
      "Non-trainable params: 0\n",
      "_________________________________________________________________\n"
     ]
    }
   ],
   "source": [
    "latent_dim = 40  # Number of latent dimension parameters\n",
    "\n",
    "input_img = Input(shape=(HEIGHT, WIDTH, 3))\n",
    "x = Conv2D(64, (3, 3), activation='relu', padding='same')(input_img)\n",
    "x = MaxPooling2D((2, 2), padding='same')(x)\n",
    "x = Conv2D(32, (3, 3), activation='relu', padding='same')(x)\n",
    "x = MaxPool2D( (2, 2), padding='same')(x)\n",
    "x = Conv2D(16, (3, 3), activation='relu', padding='same')(x)\n",
    "x = MaxPool2D( (2, 2), padding='same')(x)\n",
    "\n",
    "x = Conv2D(4, (3, 3), activation='relu', padding='same')(x)\n",
    "x = MaxPool2D( (2, 2), padding='same')(x)\n",
    "x = Conv2D(1, (3, 3), activation='relu', padding='same')(x)\n",
    "\n",
    "shape_before_flattening = K.int_shape(x)\n",
    "print(shape_before_flattening)\n",
    "x = Flatten()(x)\n",
    "x = Dense(80, activation='relu')(x)        # Activation function is supposed to be none, i.e the output is the same as the input\n",
    "\n",
    "Z = Dense(latent_dim)(x)\n",
    "print(K.int_shape(Z))\n",
    "\n",
    "encoder = Model(input_img,Z)\n",
    "encoder.summary()"
   ]
  },
  {
   "cell_type": "code",
   "execution_count": 18,
   "metadata": {},
   "outputs": [
    {
     "name": "stdout",
     "output_type": "stream",
     "text": [
      "Model: \"model_1\"\n",
      "_________________________________________________________________\n",
      "Layer (type)                 Output Shape              Param #   \n",
      "=================================================================\n",
      "input_2 (InputLayer)         [(None, 40)]              0         \n",
      "_________________________________________________________________\n",
      "intermediate_decoder (Dense) (None, 320)               13120     \n",
      "_________________________________________________________________\n",
      "original_decoder (Dense)     (None, 320)               102720    \n",
      "_________________________________________________________________\n",
      "reshape (Reshape)            (None, 10, 8, 4)          0         \n",
      "_________________________________________________________________\n",
      "conv2d_transpose (Conv2DTran (None, 10, 8, 3)          111       \n",
      "_________________________________________________________________\n",
      "up_sampling2d (UpSampling2D) (None, 20, 16, 3)         0         \n",
      "_________________________________________________________________\n",
      "conv2d_transpose_1 (Conv2DTr (None, 20, 16, 3)         84        \n",
      "_________________________________________________________________\n",
      "up_sampling2d_1 (UpSampling2 (None, 40, 32, 3)         0         \n",
      "_________________________________________________________________\n",
      "conv2d_transpose_2 (Conv2DTr (None, 40, 32, 3)         84        \n",
      "_________________________________________________________________\n",
      "up_sampling2d_2 (UpSampling2 (None, 80, 64, 3)         0         \n",
      "_________________________________________________________________\n",
      "conv2d_transpose_3 (Conv2DTr (None, 80, 64, 3)         84        \n",
      "_________________________________________________________________\n",
      "up_sampling2d_3 (UpSampling2 (None, 160, 128, 3)       0         \n",
      "=================================================================\n",
      "Total params: 116,203\n",
      "Trainable params: 116,203\n",
      "Non-trainable params: 0\n",
      "_________________________________________________________________\n"
     ]
    }
   ],
   "source": [
    "# decoder takes the latent distribution sample as input\n",
    "decoder_input = Input(K.int_shape(Z)[1:])\n",
    "x = Dense(10*8*4, activation='relu', name=\"intermediate_decoder\", input_shape=(latent_dim,))(decoder_input)\n",
    "# Expand to 784 total pixels\n",
    "x = Dense(320, activation='sigmoid', name=\"original_decoder\")(x)\n",
    "x = Reshape((10,8,4),input_shape=(320,))(x)\n",
    "\n",
    "x = Conv2DTranspose(3, (3, 3), padding='same')(x)\n",
    "x = UpSampling2D( (2, 2))(x)\n",
    "x = Conv2DTranspose(3, (3, 3), padding='same')(x)\n",
    "x = UpSampling2D( (2, 2))(x)\n",
    "x = Conv2DTranspose(3, (3, 3), padding='same')(x)\n",
    "x = UpSampling2D( (2, 2))(x)\n",
    "x = Conv2DTranspose(3, (3, 3), padding='same')(x)\n",
    "x = UpSampling2D( (2, 2))(x)\n",
    "\n",
    "# decoder model statement\n",
    "decoder = Model(decoder_input, x)\n",
    "\n",
    "# apply the decoder to the sample from the latent distribution\n",
    "z_decoded = decoder(Z)\n",
    "\n",
    "decoder.summary()"
   ]
  },
  {
   "cell_type": "code",
   "execution_count": 19,
   "metadata": {},
   "outputs": [
    {
     "name": "stdout",
     "output_type": "stream",
     "text": [
      "Model: \"model_2\"\n",
      "_________________________________________________________________\n",
      "Layer (type)                 Output Shape              Param #   \n",
      "=================================================================\n",
      "input_1 (InputLayer)         [(None, 160, 128, 3)]     0         \n",
      "_________________________________________________________________\n",
      "conv2d (Conv2D)              (None, 160, 128, 64)      1792      \n",
      "_________________________________________________________________\n",
      "max_pooling2d (MaxPooling2D) (None, 80, 64, 64)        0         \n",
      "_________________________________________________________________\n",
      "conv2d_1 (Conv2D)            (None, 80, 64, 32)        18464     \n",
      "_________________________________________________________________\n",
      "max_pooling2d_1 (MaxPooling2 (None, 40, 32, 32)        0         \n",
      "_________________________________________________________________\n",
      "conv2d_2 (Conv2D)            (None, 40, 32, 16)        4624      \n",
      "_________________________________________________________________\n",
      "max_pooling2d_2 (MaxPooling2 (None, 20, 16, 16)        0         \n",
      "_________________________________________________________________\n",
      "conv2d_3 (Conv2D)            (None, 20, 16, 4)         580       \n",
      "_________________________________________________________________\n",
      "max_pooling2d_3 (MaxPooling2 (None, 10, 8, 4)          0         \n",
      "_________________________________________________________________\n",
      "conv2d_4 (Conv2D)            (None, 10, 8, 1)          37        \n",
      "_________________________________________________________________\n",
      "flatten (Flatten)            (None, 80)                0         \n",
      "_________________________________________________________________\n",
      "dense (Dense)                (None, 80)                6480      \n",
      "_________________________________________________________________\n",
      "dense_1 (Dense)              (None, 40)                3240      \n",
      "_________________________________________________________________\n",
      "model_1 (Model)              (None, 160, 128, 3)       116203    \n",
      "=================================================================\n",
      "Total params: 151,420\n",
      "Trainable params: 151,420\n",
      "Non-trainable params: 0\n",
      "_________________________________________________________________\n"
     ]
    }
   ],
   "source": [
    "# VAE model statement\n",
    "ae = Model(input_img,z_decoded)\n",
    "ae.compile(optimizer='adam', loss='mean_squared_error')\n",
    "\n",
    "ae.summary()"
   ]
  },
  {
   "cell_type": "markdown",
   "metadata": {},
   "source": [
    "# Training the model"
   ]
  },
  {
   "cell_type": "code",
   "execution_count": 20,
   "metadata": {},
   "outputs": [],
   "source": [
    "# # from tensorflow.keras.callbacks import EarlyStopping\n",
    "# # run the modelvalidat\n",
    "# # early_stopping = EarlyStopping(monitor='val_loss', min_delta=0, patience=20, verbose=5, mode='auto')\n",
    "# history = ae.fit(train_crops, epochs=400, steps_per_epoch=len(train_generator), validation_data=val_crops, validation_steps =len(validation_generator_for_training),  verbose=1, shuffle = True)"
   ]
  },
  {
   "cell_type": "code",
   "execution_count": 21,
   "metadata": {},
   "outputs": [],
   "source": [
    "\n",
    "# # Get the training and validation loss values from the history object\n",
    "# train_loss = history.history['loss']\n",
    "# val_loss = history.history['val_loss']\n",
    "\n",
    "# # Plot the training and validation loss\n",
    "# epochs = range(1, len(train_loss) + 1)\n",
    "# plt.plot(epochs, train_loss, 'b-', label='Training Loss')\n",
    "# plt.plot(epochs, val_loss, 'r-', label='Validation Loss')\n",
    "# plt.title('Training and Validation Loss')\n",
    "# plt.xlabel('Epochs')\n",
    "# plt.ylabel('Loss')\n",
    "# plt.legend()\n",
    "# plt.show()\n"
   ]
  },
  {
   "cell_type": "markdown",
   "metadata": {},
   "source": [
    "Saving the train and validation history data"
   ]
  },
  {
   "cell_type": "code",
   "execution_count": 22,
   "metadata": {},
   "outputs": [],
   "source": [
    "# # open file\n",
    "# with open('txtFilesAutoencoderBottles4/TrainingLoss.txt', 'w+') as g:\n",
    "#     # write elements of list\n",
    "#     for items in train_loss:\n",
    "#         g.write('%s\\n' %items)\n",
    "#     print(\"train_loss written successfully\")\n",
    "# # close the file\n",
    "# g.close() \n",
    "\n",
    "# # open file\n",
    "# with open('txtFilesAutoencoderBottles4/ValidationLoss.txt', 'w+') as g:\n",
    "#     # write elements of list\n",
    "#     for items in val_loss:\n",
    "#         g.write('%s\\n' %items)\n",
    "#     print(\"val_loss written successfully\")\n",
    "# # close the file\n",
    "# g.close()\n"
   ]
  },
  {
   "cell_type": "markdown",
   "metadata": {},
   "source": [
    "LOading the train and validation history data"
   ]
  },
  {
   "cell_type": "code",
   "execution_count": 23,
   "metadata": {},
   "outputs": [
    {
     "data": {
      "image/png": "[encoded data removed]",
      "text/plain": [
       "<Figure size 640x480 with 1 Axes>"
      ]
     },
     "metadata": {},
     "output_type": "display_data"
    }
   ],
   "source": [
    "# Load data from the text file\n",
    "with open(\"txtFilesAutoencoderBottles4/TrainingLoss.txt\", \"r\") as file:\n",
    "    train_loss_data = [float(line.strip()) for line in file]\n",
    "\n",
    "# Load data from the text file\n",
    "with open(\"txtFilesAutoencoderBottles4/ValidationLoss.txt\", \"r\") as file:\n",
    "    val_loss_data = [float(line.strip()) for line in file]\n",
    "\n",
    "# Plot the training and validation loss\n",
    "epochs = range(1, len(train_loss_data) + 1)\n",
    "plt.plot(epochs, train_loss_data, 'b-', label='Training Loss')\n",
    "plt.plot(epochs, val_loss_data, 'r-', label='Validation Loss')\n",
    "plt.title('Training and Validation Loss')\n",
    "plt.xlabel('Epochs')\n",
    "plt.ylabel('Loss')\n",
    "plt.legend()\n",
    "plt.show()"
   ]
  },
  {
   "cell_type": "code",
   "execution_count": 24,
   "metadata": {},
   "outputs": [],
   "source": [
    "filepath = \"models/Bottles4_playground\""
   ]
  },
  {
   "cell_type": "code",
   "execution_count": 25,
   "metadata": {},
   "outputs": [],
   "source": [
    "# ae.save(f\"{filepath}\")"
   ]
  },
  {
   "attachments": {},
   "cell_type": "markdown",
   "metadata": {},
   "source": [
    "Loading the model that was previously saved\n"
   ]
  },
  {
   "cell_type": "code",
   "execution_count": 26,
   "metadata": {},
   "outputs": [
    {
     "name": "stdout",
     "output_type": "stream",
     "text": [
      "Model: \"model_3\"\n",
      "_________________________________________________________________\n",
      "Layer (type)                 Output Shape              Param #   \n",
      "=================================================================\n",
      "input_1 (InputLayer)         [(None, 160, 128, 3)]     0         \n",
      "_________________________________________________________________\n",
      "conv2d (Conv2D)              (None, 160, 128, 64)      1792      \n",
      "_________________________________________________________________\n",
      "max_pooling2d (MaxPooling2D) (None, 80, 64, 64)        0         \n",
      "_________________________________________________________________\n",
      "conv2d_1 (Conv2D)            (None, 80, 64, 32)        18464     \n",
      "_________________________________________________________________\n",
      "max_pooling2d_1 (MaxPooling2 (None, 40, 32, 32)        0         \n",
      "_________________________________________________________________\n",
      "conv2d_2 (Conv2D)            (None, 40, 32, 16)        4624      \n",
      "_________________________________________________________________\n",
      "max_pooling2d_2 (MaxPooling2 (None, 20, 16, 16)        0         \n",
      "_________________________________________________________________\n",
      "conv2d_3 (Conv2D)            (None, 20, 16, 4)         580       \n",
      "_________________________________________________________________\n",
      "max_pooling2d_3 (MaxPooling2 (None, 10, 8, 4)          0         \n",
      "_________________________________________________________________\n",
      "conv2d_4 (Conv2D)            (None, 10, 8, 1)          37        \n",
      "_________________________________________________________________\n",
      "flatten (Flatten)            (None, 80)                0         \n",
      "_________________________________________________________________\n",
      "dense (Dense)                (None, 80)                6480      \n",
      "_________________________________________________________________\n",
      "dense_1 (Dense)              (None, 40)                3240      \n",
      "_________________________________________________________________\n",
      "model_1 (Model)              (None, 160, 128, 3)       116203    \n",
      "=================================================================\n",
      "Total params: 151,420\n",
      "Trainable params: 151,420\n",
      "Non-trainable params: 0\n",
      "_________________________________________________________________\n"
     ]
    }
   ],
   "source": [
    "# VAE model statement\n",
    "model = Model(input_img,z_decoded)\n",
    "model.compile(optimizer='adam', loss='mean_squared_error')\n",
    "\n",
    "model.summary()"
   ]
  },
  {
   "cell_type": "code",
   "execution_count": 27,
   "metadata": {},
   "outputs": [
    {
     "name": "stdout",
     "output_type": "stream",
     "text": [
      "<class 'tensorflow.python.keras.engine.training.Model'>\n"
     ]
    }
   ],
   "source": [
    "model = keras.models.load_model(f'{filepath}')\n",
    "print(type(model))"
   ]
  },
  {
   "attachments": {},
   "cell_type": "markdown",
   "metadata": {},
   "source": [
    "# Quantifying the reconstruction error using \"evaluate_generator()\" function"
   ]
  },
  {
   "attachments": {},
   "cell_type": "markdown",
   "metadata": {},
   "source": [
    "Performing the computation of the reconstruction error of all the images in the training dataset. Computing the MSE of each image with its reconstructed version."
   ]
  },
  {
   "cell_type": "code",
   "execution_count": 28,
   "metadata": {},
   "outputs": [
    {
     "name": "stdout",
     "output_type": "stream",
     "text": [
      "WARNING:tensorflow:From /tmp/ipykernel_135131/3610959545.py:1: Model.evaluate_generator (from tensorflow.python.keras.engine.training) is deprecated and will be removed in a future version.\n",
      "Instructions for updating:\n",
      "Please use Model.evaluate, which supports generators.\n"
     ]
    },
    {
     "name": "stderr",
     "output_type": "stream",
     "text": [
      "2023-08-20 01:06:45.615904: I tensorflow/stream_executor/platform/default/dso_loader.cc:44] Successfully opened dynamic library libcublas.so.10\n",
      "2023-08-20 01:06:45.828393: I tensorflow/stream_executor/platform/default/dso_loader.cc:44] Successfully opened dynamic library libcudnn.so.7\n"
     ]
    },
    {
     "name": "stdout",
     "output_type": "stream",
     "text": [
      "Recon. error for the training (non-anomaly) data is:  0.0055963024497032166\n"
     ]
    }
   ],
   "source": [
    "training_error = model.evaluate_generator(train_crops, steps=len(train_generator))\n",
    "print(\"Recon. error for the training (non-anomaly) data is: \", training_error)"
   ]
  },
  {
   "attachments": {},
   "cell_type": "markdown",
   "metadata": {},
   "source": [
    "# Computing the reconstruction error without using the \"evaluate_generator()\" function"
   ]
  },
  {
   "attachments": {},
   "cell_type": "markdown",
   "metadata": {},
   "source": [
    "The following function computes the reconstrution error per each batch of images. It does, for each of the batches:\n",
    "- Initialize a vector for storing the reconstruction errors.\n",
    "- A for loop that traverses all the images contained in a batch.\n",
    "    - Take the one image of the batch.\n",
    "    - Add a new size dimension to the image.\n",
    "    - Make a prediction of the selected image with the model that was built.\n",
    "    - Evaluate the performance of the prediction, i.e. compute the prediction error.\n",
    "    - Append the reconstruction error into a list.\n",
    "- Compute the mean and std deviation of the error.\n",
    " "
   ]
  },
  {
   "cell_type": "code",
   "execution_count": 29,
   "metadata": {},
   "outputs": [],
   "source": [
    "def calc_recon_error(batch_images):   \n",
    "    recon_error_list=[]\n",
    "    for im in range(0, batch_images.shape[0]):\n",
    "        img  = batch_images[im]\n",
    "        img = img[np.newaxis, :,:,:]\n",
    "        reconstruction = model.predict([[img]])\n",
    "        # reconstruction_error = model.evaluate([reconstruction],[[img]], batch_size = 1)[0]    # The batch_size parameter for the moment can be supressed. Results were seen to be the same\n",
    "        # reconstruction_error = model.evaluate([reconstruction],[[img]])[0]                    # It included the [0] subscription but with this new model, the rec error is directly a float value, so no more need for subscription\n",
    "        reconstruction_error = model.evaluate([reconstruction],[[img]])\n",
    "        recon_error_list.append(reconstruction_error)   \n",
    "    return recon_error_list"
   ]
  },
  {
   "cell_type": "code",
   "execution_count": 31,
   "metadata": {},
   "outputs": [
    {
     "name": "stdout",
     "output_type": "stream",
     "text": [
      "1/1 [==============================] - 0s 1ms/step - loss: 0.0056\n",
      "1/1 [==============================] - 0s 836us/step - loss: 0.0056\n",
      "1/1 [==============================] - 0s 643us/step - loss: 0.0049\n",
      "1/1 [==============================] - 0s 629us/step - loss: 0.0049\n",
      "1/1 [==============================] - 0s 656us/step - loss: 0.0067\n",
      "1/1 [==============================] - 0s 624us/step - loss: 0.0067\n",
      "1/1 [==============================] - 0s 628us/step - loss: 0.0067\n",
      "1/1 [==============================] - 0s 696us/step - loss: 0.0049\n",
      "1/1 [==============================] - 0s 778us/step - loss: 0.0049\n",
      "1/1 [==============================] - 0s 604us/step - loss: 0.0055\n",
      "1/1 [==============================] - 0s 608us/step - loss: 0.0059\n",
      "1/1 [==============================] - 0s 684us/step - loss: 0.0051\n",
      "1/1 [==============================] - 0s 918us/step - loss: 0.0055\n",
      "1/1 [==============================] - 0s 650us/step - loss: 0.0059\n",
      "1/1 [==============================] - 0s 630us/step - loss: 0.0062\n",
      "1/1 [==============================] - 0s 603us/step - loss: 0.0063\n",
      "1/1 [==============================] - 0s 1ms/step - loss: 0.0064\n",
      "1/1 [==============================] - 0s 745us/step - loss: 0.0066\n",
      "1/1 [==============================] - 0s 704us/step - loss: 0.0067\n",
      "1/1 [==============================] - 0s 779us/step - loss: 0.0055\n",
      "1/1 [==============================] - 0s 925us/step - loss: 0.0056\n",
      "1/1 [==============================] - 0s 607us/step - loss: 0.0054\n",
      "1/1 [==============================] - 0s 617us/step - loss: 0.0054\n",
      "1/1 [==============================] - 0s 594us/step - loss: 0.0054\n",
      "1/1 [==============================] - 0s 865us/step - loss: 0.0054\n",
      "1/1 [==============================] - 0s 592us/step - loss: 0.0054\n",
      "1/1 [==============================] - 0s 1ms/step - loss: 0.0054\n",
      "1/1 [==============================] - 0s 711us/step - loss: 0.0054\n",
      "1/1 [==============================] - 0s 700us/step - loss: 0.0053\n",
      "1/1 [==============================] - 0s 608us/step - loss: 0.0057\n",
      "1/1 [==============================] - 0s 828us/step - loss: 0.0055\n",
      "1/1 [==============================] - 0s 658us/step - loss: 0.0052\n",
      "1/1 [==============================] - 0s 573us/step - loss: 0.0054\n",
      "1/1 [==============================] - 0s 834us/step - loss: 0.0053\n",
      "1/1 [==============================] - 0s 617us/step - loss: 0.0054\n",
      "1/1 [==============================] - 0s 593us/step - loss: 0.0055\n",
      "1/1 [==============================] - 0s 628us/step - loss: 0.0053\n",
      "1/1 [==============================] - 0s 839us/step - loss: 0.0053\n",
      "1/1 [==============================] - 0s 685us/step - loss: 0.0053\n",
      "1/1 [==============================] - 0s 666us/step - loss: 0.0055\n",
      "1/1 [==============================] - 0s 805us/step - loss: 0.0055\n",
      "1/1 [==============================] - 0s 755us/step - loss: 0.0054\n",
      "1/1 [==============================] - 0s 726us/step - loss: 0.0053\n",
      "1/1 [==============================] - 0s 638us/step - loss: 0.0053\n",
      "1/1 [==============================] - 0s 705us/step - loss: 0.0052\n",
      "1/1 [==============================] - 0s 625us/step - loss: 0.0052\n",
      "1/1 [==============================] - 0s 642us/step - loss: 0.0052\n",
      "1/1 [==============================] - 0s 671us/step - loss: 0.0053\n",
      "1/1 [==============================] - 0s 771us/step - loss: 0.0063\n",
      "1/1 [==============================] - 0s 642us/step - loss: 0.0054\n",
      "1/1 [==============================] - 0s 622us/step - loss: 0.0054\n",
      "1/1 [==============================] - 0s 697us/step - loss: 0.0054\n",
      "1/1 [==============================] - 0s 708us/step - loss: 0.0054\n",
      "1/1 [==============================] - 0s 1ms/step - loss: 0.0054\n",
      "1/1 [==============================] - 0s 620us/step - loss: 0.0056\n",
      "1/1 [==============================] - 0s 598us/step - loss: 0.0064\n",
      "1/1 [==============================] - 0s 597us/step - loss: 0.0067\n",
      "1/1 [==============================] - 0s 659us/step - loss: 0.0066\n",
      "1/1 [==============================] - 0s 870us/step - loss: 0.0057\n",
      "1/1 [==============================] - 0s 1ms/step - loss: 0.0054\n",
      "1/1 [==============================] - 0s 748us/step - loss: 0.0053\n",
      "1/1 [==============================] - 0s 615us/step - loss: 0.0053\n",
      "1/1 [==============================] - 0s 697us/step - loss: 0.0065\n",
      "1/1 [==============================] - 0s 632us/step - loss: 0.0064\n",
      "1/1 [==============================] - 0s 818us/step - loss: 0.0056\n",
      "1/1 [==============================] - 0s 697us/step - loss: 0.0056\n",
      "1/1 [==============================] - 0s 793us/step - loss: 0.0056\n",
      "1/1 [==============================] - 0s 684us/step - loss: 0.0061\n",
      "1/1 [==============================] - 0s 756us/step - loss: 0.0075\n",
      "1/1 [==============================] - 0s 707us/step - loss: 0.0068\n",
      "1/1 [==============================] - 0s 799us/step - loss: 0.0066\n",
      "1/1 [==============================] - 0s 772us/step - loss: 0.0068\n",
      "1/1 [==============================] - 0s 1ms/step - loss: 0.0068\n",
      "1/1 [==============================] - 0s 714us/step - loss: 0.0071\n",
      "1/1 [==============================] - 0s 645us/step - loss: 0.0078\n",
      "1/1 [==============================] - 0s 702us/step - loss: 0.0076\n",
      "1/1 [==============================] - 0s 623us/step - loss: 0.0092\n",
      "1/1 [==============================] - 0s 674us/step - loss: 0.0092\n",
      "1/1 [==============================] - 0s 805us/step - loss: 0.0092\n",
      "1/1 [==============================] - 0s 662us/step - loss: 0.0092\n",
      "1/1 [==============================] - 0s 613us/step - loss: 0.0093\n",
      "1/1 [==============================] - 0s 662us/step - loss: 0.0091\n",
      "1/1 [==============================] - 0s 693us/step - loss: 0.0096\n",
      "1/1 [==============================] - 0s 738us/step - loss: 0.0052\n",
      "1/1 [==============================] - 0s 829us/step - loss: 0.0049\n",
      "1/1 [==============================] - 0s 663us/step - loss: 0.0050\n",
      "1/1 [==============================] - 0s 1ms/step - loss: 0.0082\n",
      "1/1 [==============================] - 0s 600us/step - loss: 0.0143\n",
      "1/1 [==============================] - 0s 627us/step - loss: 0.0099\n",
      "1/1 [==============================] - 0s 721us/step - loss: 0.0095\n",
      "1/1 [==============================] - 0s 605us/step - loss: 0.0095\n",
      "1/1 [==============================] - 0s 608us/step - loss: 0.0092\n",
      "1/1 [==============================] - 0s 885us/step - loss: 0.0091\n",
      "1/1 [==============================] - 0s 605us/step - loss: 0.0054\n",
      "1/1 [==============================] - 0s 618us/step - loss: 0.0053\n",
      "1/1 [==============================] - 0s 599us/step - loss: 0.0082\n",
      "1/1 [==============================] - 0s 668us/step - loss: 0.0082\n",
      "1/1 [==============================] - 0s 728us/step - loss: 0.0081\n",
      "1/1 [==============================] - 0s 621us/step - loss: 0.0077\n",
      "1/1 [==============================] - 0s 598us/step - loss: 0.0077\n",
      "1/1 [==============================] - 0s 692us/step - loss: 0.0079\n",
      "1/1 [==============================] - 0s 680us/step - loss: 0.0077\n",
      "1/1 [==============================] - 0s 619us/step - loss: 0.0053\n",
      "1/1 [==============================] - 0s 638us/step - loss: 0.0058\n",
      "1/1 [==============================] - 0s 617us/step - loss: 0.0061\n",
      "1/1 [==============================] - 0s 620us/step - loss: 0.0064\n",
      "1/1 [==============================] - 0s 825us/step - loss: 0.0057\n",
      "1/1 [==============================] - 0s 612us/step - loss: 0.0061\n",
      "1/1 [==============================] - 0s 774us/step - loss: 0.0067\n",
      "1/1 [==============================] - 0s 604us/step - loss: 0.0079\n",
      "1/1 [==============================] - 0s 639us/step - loss: 0.0050\n",
      "1/1 [==============================] - 0s 730us/step - loss: 0.0050\n",
      "1/1 [==============================] - 0s 681us/step - loss: 0.0050\n",
      "1/1 [==============================] - 0s 629us/step - loss: 0.0050\n",
      "1/1 [==============================] - 0s 730us/step - loss: 0.0051\n",
      "1/1 [==============================] - 0s 892us/step - loss: 0.0050\n",
      "1/1 [==============================] - 0s 701us/step - loss: 0.0049\n",
      "1/1 [==============================] - 0s 628us/step - loss: 0.0049\n",
      "1/1 [==============================] - 0s 714us/step - loss: 0.0049\n",
      "1/1 [==============================] - 0s 944us/step - loss: 0.0049\n",
      "1/1 [==============================] - 0s 616us/step - loss: 0.0049\n",
      "1/1 [==============================] - 0s 666us/step - loss: 0.0049\n",
      "1/1 [==============================] - 0s 596us/step - loss: 0.0050\n",
      "1/1 [==============================] - 0s 660us/step - loss: 0.0051\n",
      "1/1 [==============================] - 0s 690us/step - loss: 0.0095\n",
      "1/1 [==============================] - 0s 690us/step - loss: 0.0085\n",
      "1/1 [==============================] - 0s 904us/step - loss: 0.0081\n",
      "1/1 [==============================] - 0s 753us/step - loss: 0.0083\n",
      "1/1 [==============================] - 0s 769us/step - loss: 0.0074\n",
      "1/1 [==============================] - 0s 640us/step - loss: 0.0070\n",
      "1/1 [==============================] - 0s 780us/step - loss: 0.0069\n",
      "1/1 [==============================] - 0s 705us/step - loss: 0.0056\n",
      "1/1 [==============================] - 0s 774us/step - loss: 0.0062\n",
      "1/1 [==============================] - 0s 695us/step - loss: 0.0059\n",
      "1/1 [==============================] - 0s 1ms/step - loss: 0.0066\n",
      "1/1 [==============================] - 0s 629us/step - loss: 0.0098\n",
      "1/1 [==============================] - 0s 633us/step - loss: 0.0105\n",
      "1/1 [==============================] - 0s 689us/step - loss: 0.0106\n",
      "1/1 [==============================] - 0s 635us/step - loss: 0.0105\n",
      "1/1 [==============================] - 0s 786us/step - loss: 0.0069\n",
      "1/1 [==============================] - 0s 684us/step - loss: 0.0069\n",
      "1/1 [==============================] - 0s 978us/step - loss: 0.0057\n",
      "1/1 [==============================] - 0s 954us/step - loss: 0.0062\n",
      "1/1 [==============================] - 0s 703us/step - loss: 0.0064\n",
      "1/1 [==============================] - 0s 636us/step - loss: 0.0063\n",
      "1/1 [==============================] - 0s 723us/step - loss: 0.0066\n",
      "1/1 [==============================] - 0s 695us/step - loss: 0.0070\n",
      "1/1 [==============================] - 0s 646us/step - loss: 0.0056\n",
      "1/1 [==============================] - 0s 663us/step - loss: 0.0051\n",
      "1/1 [==============================] - 0s 679us/step - loss: 0.0056\n",
      "1/1 [==============================] - 0s 642us/step - loss: 0.0048\n",
      "1/1 [==============================] - 0s 607us/step - loss: 0.0053\n",
      "1/1 [==============================] - 0s 734us/step - loss: 0.0057\n",
      "1/1 [==============================] - 0s 621us/step - loss: 0.0061\n",
      "1/1 [==============================] - 0s 747us/step - loss: 0.0061\n",
      "1/1 [==============================] - 0s 741us/step - loss: 0.0064\n",
      "1/1 [==============================] - 0s 650us/step - loss: 0.0065\n",
      "1/1 [==============================] - 0s 1ms/step - loss: 0.0089\n",
      "1/1 [==============================] - 0s 646us/step - loss: 0.0072\n",
      "1/1 [==============================] - 0s 683us/step - loss: 0.0063\n",
      "1/1 [==============================] - 0s 627us/step - loss: 0.0060\n",
      "1/1 [==============================] - 0s 756us/step - loss: 0.0060\n",
      "1/1 [==============================] - 0s 639us/step - loss: 0.0061\n",
      "1/1 [==============================] - 0s 817us/step - loss: 0.0061\n",
      "1/1 [==============================] - 0s 597us/step - loss: 0.0062\n",
      "1/1 [==============================] - 0s 774us/step - loss: 0.0063\n",
      "1/1 [==============================] - 0s 607us/step - loss: 0.0052\n",
      "1/1 [==============================] - 0s 861us/step - loss: 0.0061\n",
      "1/1 [==============================] - 0s 884us/step - loss: 0.0057\n",
      "1/1 [==============================] - 0s 616us/step - loss: 0.0057\n",
      "1/1 [==============================] - 0s 798us/step - loss: 0.0057\n",
      "1/1 [==============================] - 0s 751us/step - loss: 0.0054\n",
      "1/1 [==============================] - 0s 647us/step - loss: 0.0052\n",
      "1/1 [==============================] - 0s 774us/step - loss: 0.0052\n",
      "1/1 [==============================] - 0s 761us/step - loss: 0.0057\n",
      "1/1 [==============================] - 0s 629us/step - loss: 0.0050\n",
      "1/1 [==============================] - 0s 582us/step - loss: 0.0063\n",
      "1/1 [==============================] - 0s 1ms/step - loss: 0.0059\n",
      "1/1 [==============================] - 0s 1ms/step - loss: 0.0065\n",
      "1/1 [==============================] - 0s 747us/step - loss: 0.0063\n",
      "1/1 [==============================] - 0s 1ms/step - loss: 0.0061\n",
      "1/1 [==============================] - 0s 705us/step - loss: 0.0066\n",
      "1/1 [==============================] - 0s 669us/step - loss: 0.0066\n",
      "1/1 [==============================] - 0s 700us/step - loss: 0.0088\n",
      "1/1 [==============================] - 0s 649us/step - loss: 0.0083\n",
      "1/1 [==============================] - 0s 726us/step - loss: 0.0077\n",
      "1/1 [==============================] - 0s 669us/step - loss: 0.0068\n",
      "1/1 [==============================] - 0s 741us/step - loss: 0.0065\n",
      "1/1 [==============================] - 0s 799us/step - loss: 0.0057\n",
      "1/1 [==============================] - 0s 971us/step - loss: 0.0067\n",
      "1/1 [==============================] - 0s 873us/step - loss: 0.0064\n",
      "1/1 [==============================] - 0s 768us/step - loss: 0.0059\n",
      "1/1 [==============================] - 0s 604us/step - loss: 0.0059\n",
      "1/1 [==============================] - 0s 1ms/step - loss: 0.0060\n",
      "1/1 [==============================] - 0s 843us/step - loss: 0.0055\n",
      "1/1 [==============================] - 0s 638us/step - loss: 0.0059\n",
      "1/1 [==============================] - 0s 722us/step - loss: 0.0093\n",
      "1/1 [==============================] - 0s 704us/step - loss: 0.0050\n",
      "1/1 [==============================] - 0s 678us/step - loss: 0.0062\n",
      "1/1 [==============================] - 0s 694us/step - loss: 0.0064\n",
      "1/1 [==============================] - 0s 691us/step - loss: 0.0066\n",
      "1/1 [==============================] - 0s 785us/step - loss: 0.0066\n",
      "1/1 [==============================] - 0s 644us/step - loss: 0.0065\n",
      "1/1 [==============================] - 0s 832us/step - loss: 0.0050\n",
      "1/1 [==============================] - 0s 801us/step - loss: 0.0054\n",
      "1/1 [==============================] - 0s 2ms/step - loss: 0.0053\n",
      "1/1 [==============================] - 0s 673us/step - loss: 0.0053\n",
      "1/1 [==============================] - 0s 672us/step - loss: 0.0056\n",
      "1/1 [==============================] - 0s 611us/step - loss: 0.0056\n",
      "1/1 [==============================] - 0s 781us/step - loss: 0.0057\n",
      "1/1 [==============================] - 0s 607us/step - loss: 0.0058\n",
      "1/1 [==============================] - 0s 613us/step - loss: 0.0078\n",
      "1/1 [==============================] - 0s 636us/step - loss: 0.0070\n",
      "1/1 [==============================] - 0s 730us/step - loss: 0.0062\n",
      "1/1 [==============================] - 0s 618us/step - loss: 0.0066\n",
      "1/1 [==============================] - 0s 1ms/step - loss: 0.0070\n",
      "1/1 [==============================] - 0s 625us/step - loss: 0.0067\n",
      "1/1 [==============================] - 0s 611us/step - loss: 0.0064\n",
      "1/1 [==============================] - 0s 635us/step - loss: 0.0065\n",
      "1/1 [==============================] - 0s 689us/step - loss: 0.0053\n",
      "1/1 [==============================] - 0s 888us/step - loss: 0.0071\n",
      "1/1 [==============================] - 0s 680us/step - loss: 0.0071\n",
      "1/1 [==============================] - 0s 593us/step - loss: 0.0072\n",
      "1/1 [==============================] - 0s 620us/step - loss: 0.0072\n",
      "1/1 [==============================] - 0s 832us/step - loss: 0.0067\n",
      "1/1 [==============================] - 0s 1ms/step - loss: 0.0060\n",
      "1/1 [==============================] - 0s 1ms/step - loss: 0.0061\n",
      "1/1 [==============================] - 0s 798us/step - loss: 0.0072\n",
      "1/1 [==============================] - 0s 678us/step - loss: 0.0072\n",
      "1/1 [==============================] - 0s 756us/step - loss: 0.0070\n",
      "1/1 [==============================] - 0s 950us/step - loss: 0.0072\n",
      "1/1 [==============================] - 0s 672us/step - loss: 0.0069\n",
      "1/1 [==============================] - 0s 786us/step - loss: 0.0080\n",
      "1/1 [==============================] - 0s 715us/step - loss: 0.0083\n",
      "1/1 [==============================] - 0s 712us/step - loss: 0.0084\n",
      "1/1 [==============================] - 0s 818us/step - loss: 0.0068\n",
      "1/1 [==============================] - 0s 701us/step - loss: 0.0060\n",
      "1/1 [==============================] - 0s 651us/step - loss: 0.0099\n",
      "1/1 [==============================] - 0s 712us/step - loss: 0.0069\n",
      "1/1 [==============================] - 0s 727us/step - loss: 0.0064\n",
      "1/1 [==============================] - 0s 784us/step - loss: 0.0064\n",
      "1/1 [==============================] - 0s 630us/step - loss: 0.0062\n",
      "1/1 [==============================] - 0s 620us/step - loss: 0.0064\n",
      "1/1 [==============================] - 0s 818us/step - loss: 0.0080\n",
      "1/1 [==============================] - 0s 675us/step - loss: 0.0084\n",
      "1/1 [==============================] - 0s 639us/step - loss: 0.0060\n",
      "1/1 [==============================] - 0s 721us/step - loss: 0.0061\n",
      "1/1 [==============================] - 0s 733us/step - loss: 0.0061\n",
      "1/1 [==============================] - 0s 652us/step - loss: 0.0061\n",
      "1/1 [==============================] - 0s 693us/step - loss: 0.0061\n",
      "1/1 [==============================] - 0s 639us/step - loss: 0.0061\n",
      "1/1 [==============================] - 0s 647us/step - loss: 0.0062\n",
      "1/1 [==============================] - 0s 602us/step - loss: 0.0080\n",
      "1/1 [==============================] - 0s 647us/step - loss: 0.0078\n",
      "1/1 [==============================] - 0s 649us/step - loss: 0.0110\n",
      "1/1 [==============================] - 0s 969us/step - loss: 0.0093\n",
      "1/1 [==============================] - 0s 761us/step - loss: 0.0093\n",
      "1/1 [==============================] - 0s 834us/step - loss: 0.0091\n",
      "1/1 [==============================] - 0s 622us/step - loss: 0.0072\n",
      "1/1 [==============================] - 0s 626us/step - loss: 0.0095\n",
      "1/1 [==============================] - 0s 711us/step - loss: 0.0103\n",
      "1/1 [==============================] - 0s 781us/step - loss: 0.0098\n",
      "1/1 [==============================] - 0s 940us/step - loss: 0.0094\n",
      "1/1 [==============================] - 0s 669us/step - loss: 0.0098\n",
      "1/1 [==============================] - 0s 683us/step - loss: 0.0098\n",
      "1/1 [==============================] - 0s 710us/step - loss: 0.0049\n",
      "1/1 [==============================] - 0s 1ms/step - loss: 0.0052\n",
      "1/1 [==============================] - 0s 659us/step - loss: 0.0053\n",
      "1/1 [==============================] - 0s 649us/step - loss: 0.0053\n",
      "1/1 [==============================] - 0s 707us/step - loss: 0.0052\n",
      "1/1 [==============================] - 0s 724us/step - loss: 0.0048\n",
      "1/1 [==============================] - 0s 787us/step - loss: 0.0048\n",
      "1/1 [==============================] - 0s 857us/step - loss: 0.0048\n",
      "1/1 [==============================] - 0s 976us/step - loss: 0.0048\n",
      "1/1 [==============================] - 0s 648us/step - loss: 0.0047\n",
      "1/1 [==============================] - 0s 940us/step - loss: 0.0047\n",
      "1/1 [==============================] - 0s 717us/step - loss: 0.0048\n",
      "1/1 [==============================] - 0s 859us/step - loss: 0.0051\n",
      "1/1 [==============================] - 0s 1ms/step - loss: 0.0055\n",
      "1/1 [==============================] - 0s 900us/step - loss: 0.0054\n",
      "1/1 [==============================] - 0s 828us/step - loss: 0.0048\n",
      "1/1 [==============================] - 0s 732us/step - loss: 0.0055\n",
      "1/1 [==============================] - 0s 660us/step - loss: 0.0055\n",
      "1/1 [==============================] - 0s 648us/step - loss: 0.0054\n",
      "1/1 [==============================] - 0s 645us/step - loss: 0.0054\n",
      "1/1 [==============================] - 0s 654us/step - loss: 0.0054\n",
      "1/1 [==============================] - 0s 607us/step - loss: 0.0055\n",
      "1/1 [==============================] - 0s 657us/step - loss: 0.0055\n",
      "1/1 [==============================] - 0s 718us/step - loss: 0.0055\n",
      "1/1 [==============================] - 0s 660us/step - loss: 0.0049\n",
      "1/1 [==============================] - 0s 695us/step - loss: 0.0049\n",
      "1/1 [==============================] - 0s 617us/step - loss: 0.0048\n",
      "1/1 [==============================] - 0s 747us/step - loss: 0.0050\n",
      "1/1 [==============================] - 0s 621us/step - loss: 0.0056\n",
      "1/1 [==============================] - 0s 806us/step - loss: 0.0055\n",
      "The list of rec. error contains  30 batches of rec. errors\n"
     ]
    }
   ],
   "source": [
    "total_rec_error = []\n",
    "for i in range(len(train_generator)):                               #This will traverse the train generator the number of batches it contains\n",
    "    images_in_batch, images_in_batch2 = next(train_crops)           #As for each next step of the \"train_crops\" generator it exists one batch of the augmented and one batch of the orignial images, we perform twice the calc_recon_error() function\n",
    "    total_rec_error.append(calc_recon_error(images_in_batch))\n",
    "    \n",
    "print(\"The list of rec. error contains \", len(total_rec_error), \"batches of rec. errors\")\n"
   ]
  },
  {
   "cell_type": "markdown",
   "metadata": {},
   "source": [
    "Above we can see, that it contains 30 batches and almost all of them includes 10 elements. Recall that the total number of images of the training dataset was 295. Hence in total we should have 295 error values. Let's convert it into a 295-length list."
   ]
  },
  {
   "cell_type": "code",
   "execution_count": 33,
   "metadata": {},
   "outputs": [
    {
     "name": "stdout",
     "output_type": "stream",
     "text": [
      "295\n"
     ]
    }
   ],
   "source": [
    "total_rec_error_list = [item for sublist in total_rec_error for item in sublist]\n",
    "print(len(total_rec_error_list))"
   ]
  },
  {
   "cell_type": "code",
   "execution_count": 34,
   "metadata": {},
   "outputs": [
    {
     "name": "stdout",
     "output_type": "stream",
     "text": [
      "THIS IS FOR THE TRAINING (NON-ANOMALY) IMAGES\n",
      "\n",
      "The average of the errors list is:  0.0064290867439644826\n",
      "The standard deviation of the errors list is:  0.0014733424917164725\n",
      "The min value of the errors list is:  0.0047065624967217445\n",
      "The max value of the errors list is:  0.014250707812607288\n"
     ]
    }
   ],
   "source": [
    "na_average_recon_error = np.mean(np.array(total_rec_error_list))  \n",
    "na_stdev_recon_error = np.std(np.array(total_rec_error_list)) \n",
    "min_prob = np.min(total_rec_error_list)\n",
    "max_prob = np.max(total_rec_error_list)\n",
    "print(\"THIS IS FOR THE TRAINING (NON-ANOMALY) IMAGES\\n\")\n",
    "print(\"The average of the errors list is: \", na_average_recon_error)\n",
    "print(\"The standard deviation of the errors list is: \", na_stdev_recon_error)\n",
    "print(\"The min value of the errors list is: \", min_prob)\n",
    "print(\"The max value of the errors list is: \", max_prob)"
   ]
  },
  {
   "cell_type": "markdown",
   "metadata": {},
   "source": [
    "Above it can be seen that computing the model.evaluate_generator() function does NOT output the same as computing the error of each image one by one. We will use this last approach, the one by one error computation."
   ]
  },
  {
   "cell_type": "markdown",
   "metadata": {},
   "source": [
    "Gaphically, the distribution of the reconstruction error values is shown below:"
   ]
  },
  {
   "cell_type": "code",
   "execution_count": 35,
   "metadata": {},
   "outputs": [
    {
     "data": {
      "image/png": "[encoded data removed]",
      "text/plain": [
       "<Figure size 640x480 with 1 Axes>"
      ]
     },
     "metadata": {},
     "output_type": "display_data"
    }
   ],
   "source": [
    "val = 0. # this is the value where you want the data to appear on the y-axis.\n",
    "plt.plot(total_rec_error_list, np.zeros_like(total_rec_error_list) + val, 'x')\n",
    "plt.show()"
   ]
  },
  {
   "cell_type": "markdown",
   "metadata": {},
   "source": [
    "Or displying in a histogram way:"
   ]
  },
  {
   "cell_type": "code",
   "execution_count": 36,
   "metadata": {},
   "outputs": [
    {
     "data": {
      "image/png": "[encoded data removed]",
      "text/plain": [
       "<Figure size 640x480 with 1 Axes>"
      ]
     },
     "metadata": {},
     "output_type": "display_data"
    }
   ],
   "source": [
    "bins = np.linspace(0.005, 0.015, 50)\n",
    "plt.hist(total_rec_error_list, bins, alpha=0.5, label='errors non-anomalies')\n",
    "plt.legend(loc='upper right')\n",
    "\n",
    "# Calculate average and standard deviation\n",
    "average = np.mean(total_rec_error_list)\n",
    "std = np.std(total_rec_error_list)\n",
    "\n",
    "# Plot average line\n",
    "plt.axvline(x=average, color='red', linestyle='--', label='Average')\n",
    "\n",
    "# Plot lines for standard deviation\n",
    "plt.axvline(x=average + std, color='black', linestyle=':', label='Average + Std')\n",
    "plt.axvline(x=average - std, color='black', linestyle=':', label='Average - Std')\n",
    "\n",
    "plt.legend()\n",
    "\n",
    "plt.show()"
   ]
  },
  {
   "cell_type": "markdown",
   "metadata": {},
   "source": [
    "# Checking the reconstruction of one sample"
   ]
  },
  {
   "cell_type": "code",
   "execution_count": 37,
   "metadata": {},
   "outputs": [
    {
     "data": {
      "image/png": "[encoded data removed]",
      "text/plain": [
       "<Figure size 1200x600 with 2 Axes>"
      ]
     },
     "metadata": {},
     "output_type": "display_data"
    }
   ],
   "source": [
    "images_in_batch, images_in_batch2 = next(train_crops)           #As for each next step of the \"train_crops\" generator it exists one batch of the augmented and one batch of the orignial images, we perform twice the calc_recon_error() function\n",
    "\n",
    "single_img  = images_in_batch[0]\n",
    "single_img = single_img[np.newaxis, :,:,:]\n",
    "reconstruction = model.predict([[single_img]])\n",
    "\n",
    "plt.figure(figsize=(12, 6))\n",
    "plt.subplot(121)\n",
    "plt.title(\"input image\")\n",
    "plt.imshow(single_img[0])\n",
    "plt.subplot(122)\n",
    "plt.title(\"reconstructed image\")\n",
    "plt.imshow(reconstruction[0])\n",
    "plt.show()"
   ]
  },
  {
   "cell_type": "markdown",
   "metadata": {},
   "source": [
    "# Function to check if an image contains anomalies"
   ]
  },
  {
   "cell_type": "markdown",
   "metadata": {},
   "source": [
    "Based on the previously found histogram, its average and its standard deviation values, it can be built a function that maps the reconstruction error to a probability value of an image being considered as an anomaly or not.\n",
    "\n",
    "If the a given reconstruction value is outside the range of the standard deviation sum and subtraction to the average values, shown in the plot above, then that reconstruction error has more than 50% chance to be considered as an anomaly image."
   ]
  },
  {
   "cell_type": "code",
   "execution_count": 38,
   "metadata": {},
   "outputs": [],
   "source": [
    "def ranges_mapper(value, leftMin, leftMax, rightMin, rightMax):\n",
    "    # Figure out how 'wide' each range is\n",
    "    leftSpan = leftMax - leftMin\n",
    "    rightSpan = rightMax - rightMin\n",
    "\n",
    "    # Convert the left range into a 0-1 range (float)\n",
    "    valueScaled = float(value - leftMin) / float(leftSpan)\n",
    "\n",
    "    # Convert the 0-1 range into a value in the right range.\n",
    "    return rightMin + (valueScaled * rightSpan)"
   ]
  },
  {
   "cell_type": "code",
   "execution_count": 40,
   "metadata": {},
   "outputs": [],
   "source": [
    "def map_error2prob(value):\n",
    "    # Calculate the mean and standard deviation\n",
    "    mean = na_average_recon_error\n",
    "    std_dev = na_stdev_recon_error\n",
    "    aux_score = value - mean\n",
    "    prob_score = ranges_mapper(abs(aux_score), 0, std_dev, 0, 50)\n",
    "    if prob_score<0:\n",
    "        prob_score = 0\n",
    "    if prob_score>100:\n",
    "        prob_score = 100\n",
    "    return prob_score"
   ]
  },
  {
   "cell_type": "markdown",
   "metadata": {},
   "source": [
    "Testing a reconstruction error. Verifying that given some reconstruction error, the probability value is the one we expect. "
   ]
  },
  {
   "cell_type": "code",
   "execution_count": 41,
   "metadata": {},
   "outputs": [
    {
     "name": "stdout",
     "output_type": "stream",
     "text": [
      "49.999999999999986\n"
     ]
    }
   ],
   "source": [
    "print(map_error2prob(na_average_recon_error + na_stdev_recon_error))"
   ]
  },
  {
   "cell_type": "code",
   "execution_count": 42,
   "metadata": {},
   "outputs": [],
   "source": [
    "def map_error2prob_list(input_list):\n",
    "    # Calculate the mean and standard deviation\n",
    "    mean = na_average_recon_error\n",
    "    std_dev = na_stdev_recon_error\n",
    "    prob_score_list = []\n",
    "    for i in range (len(input_list)):\n",
    "        aux_score = input_list[i] - mean\n",
    "        prob_score = ranges_mapper(abs(aux_score), 0, std_dev, 0, 50)\n",
    "        if prob_score<0:\n",
    "            prob_score = 0\n",
    "        if prob_score>100:\n",
    "            prob_score = 100\n",
    "        prob_score_list.append(prob_score)\n",
    "    return prob_score_list"
   ]
  },
  {
   "cell_type": "markdown",
   "metadata": {},
   "source": [
    "# Validating the performance of the model with reconstruction error directly"
   ]
  },
  {
   "cell_type": "markdown",
   "metadata": {},
   "source": [
    "We will use the validation data set to find the best threshold value for predicting an image as anomaly or non-anomaly."
   ]
  },
  {
   "cell_type": "code",
   "execution_count": 43,
   "metadata": {},
   "outputs": [],
   "source": [
    "def calc_recon_error_for_val_eval(batch_images,batch_labels):   \n",
    "    recon_error_list=[]\n",
    "    labels_list = []\n",
    "    for im in range(0, batch_images.shape[0]):\n",
    "        label = batch_labels[im]\n",
    "        img  = batch_images[im]\n",
    "        img = img[np.newaxis, :,:,:]\n",
    "        reconstruction = model.predict([[img]])\n",
    "        # reconstruction_error = model.evaluate([reconstruction],[[img]], batch_size = 1)[0]    # The batch_size parameter for the moment can be supressed. Results were seen to be the same\n",
    "        # reconstruction_error = model.evaluate([reconstruction],[[img]])[0]                    # It included the [0] subscription but with this new model, the rec error is directly a float value, so no more need for subscription\n",
    "        reconstruction_error = model.evaluate([reconstruction],[[img]])\n",
    "        recon_error_list.append(reconstruction_error)   \n",
    "        labels_list.append(label)\n",
    "    return recon_error_list, labels_list"
   ]
  },
  {
   "cell_type": "code",
   "execution_count": 44,
   "metadata": {},
   "outputs": [
    {
     "name": "stdout",
     "output_type": "stream",
     "text": [
      "1/1 [==============================] - 0s 678us/step - loss: 0.0055\n",
      "1/1 [==============================] - 0s 627us/step - loss: 0.0053\n",
      "1/1 [==============================] - 0s 1ms/step - loss: 0.0049\n",
      "1/1 [==============================] - 0s 584us/step - loss: 0.0056\n",
      "1/1 [==============================] - 0s 724us/step - loss: 0.0054\n",
      "1/1 [==============================] - 0s 927us/step - loss: 0.0054\n",
      "1/1 [==============================] - 0s 598us/step - loss: 0.0054\n",
      "1/1 [==============================] - 0s 620us/step - loss: 0.0054\n",
      "1/1 [==============================] - 0s 713us/step - loss: 0.0088\n",
      "1/1 [==============================] - 0s 816us/step - loss: 0.0058\n",
      "1/1 [==============================] - 0s 767us/step - loss: 0.0061\n",
      "1/1 [==============================] - 0s 701us/step - loss: 0.0059\n",
      "1/1 [==============================] - 0s 664us/step - loss: 0.0055\n",
      "1/1 [==============================] - 0s 679us/step - loss: 0.0061\n",
      "1/1 [==============================] - 0s 601us/step - loss: 0.0073\n",
      "1/1 [==============================] - 0s 661us/step - loss: 0.0051\n",
      "1/1 [==============================] - 0s 668us/step - loss: 0.0054\n",
      "1/1 [==============================] - 0s 1ms/step - loss: 0.0077\n",
      "1/1 [==============================] - 0s 581us/step - loss: 0.0061\n",
      "1/1 [==============================] - 0s 711us/step - loss: 0.0095\n",
      "1/1 [==============================] - 0s 684us/step - loss: 0.0123\n",
      "1/1 [==============================] - 0s 641us/step - loss: 0.0083\n",
      "1/1 [==============================] - 0s 696us/step - loss: 0.0226\n",
      "1/1 [==============================] - 0s 878us/step - loss: 0.0097\n",
      "1/1 [==============================] - 0s 655us/step - loss: 0.0114\n",
      "1/1 [==============================] - 0s 722us/step - loss: 0.0113\n",
      "1/1 [==============================] - 0s 937us/step - loss: 0.0062\n",
      "1/1 [==============================] - 0s 1ms/step - loss: 0.0141\n",
      "1/1 [==============================] - 0s 631us/step - loss: 0.0151\n",
      "1/1 [==============================] - 0s 754us/step - loss: 0.0229\n",
      "The list of rec. error contains  3 batches of rec. errors\n"
     ]
    }
   ],
   "source": [
    "total_rec_error_val = []\n",
    "labels_list = []\n",
    "for i in range(len(validation_generator)):                               #This will traverse the train generator the number of batches it contains\n",
    "    images_in_batch, images_labels = next(val_crops_for_threshold)           #As for each next step of the \"train_crops\" generator it exists one batch of the augmented and one batch of the orignial images, we perform twice the calc_recon_error() function\n",
    "    rec_errors, labels = calc_recon_error_for_val_eval(images_in_batch,images_labels)\n",
    "    total_rec_error_val.append(rec_errors)\n",
    "    labels_list.append(labels)\n",
    "    \n",
    "print(\"The list of rec. error contains \", len(total_rec_error_val), \"batches of rec. errors\")"
   ]
  },
  {
   "cell_type": "code",
   "execution_count": 45,
   "metadata": {},
   "outputs": [
    {
     "name": "stdout",
     "output_type": "stream",
     "text": [
      "The reconstruction error list is:  [0.005474373698234558, 0.005269485525786877, 0.00485263392329216, 0.005597015377134085, 0.0053968774154782295, 0.005397987551987171, 0.005361462011933327, 0.005353440064936876, 0.008814473636448383, 0.005842001177370548, 0.006129695102572441, 0.005907914135605097, 0.005509662441909313, 0.006107154302299023, 0.007279188372194767, 0.005093549378216267, 0.005383842624723911, 0.007716386113315821, 0.006068387534469366, 0.009502808563411236, 0.012252893298864365, 0.008266991935670376, 0.022627079859375954, 0.009736644104123116, 0.01139243133366108, 0.011347765102982521, 0.0061588711105287075, 0.014054951258003712, 0.01506799180060625, 0.022867102175951004]\n",
      "The ground truth labels are:  [0.0, 0.0, 0.0, 0.0, 0.0, 0.0, 0.0, 0.0, 0.0, 0.0, 0.0, 0.0, 0.0, 0.0, 0.0, 0.0, 0.0, 0.0, 0.0, 0.0, 1.0, 1.0, 1.0, 1.0, 1.0, 1.0, 1.0, 1.0, 1.0, 1.0]\n"
     ]
    }
   ],
   "source": [
    "total_rec_error_val_list = [item for sublist in total_rec_error_val for item in sublist]\n",
    "y_true = [item for sublist in labels_list for item in sublist]\n",
    "print(\"The reconstruction error list is: \", total_rec_error_val_list)\n",
    "print(\"The ground truth labels are: \", y_true)"
   ]
  },
  {
   "cell_type": "code",
   "execution_count": 46,
   "metadata": {},
   "outputs": [
    {
     "name": "stdout",
     "output_type": "stream",
     "text": [
      "AUC =  0.9700000000000001\n"
     ]
    }
   ],
   "source": [
    "from sklearn import metrics\n",
    "print('AUC = ', metrics.roc_auc_score(y_true, total_rec_error_val_list))"
   ]
  },
  {
   "cell_type": "code",
   "execution_count": 47,
   "metadata": {},
   "outputs": [
    {
     "data": {
      "image/png": "[encoded data removed]",
      "text/plain": [
       "<Figure size 640x480 with 1 Axes>"
      ]
     },
     "metadata": {},
     "output_type": "display_data"
    }
   ],
   "source": [
    "fpr, tpr, thresholds = metrics.roc_curve(y_true, total_rec_error_val_list)\n",
    "plt.plot(fpr, tpr, marker='.', label='AUROC = %0.3f' % metrics.roc_auc_score(y_true, total_rec_error_val_list))\n",
    "# Title\n",
    "plt.title('ROC Plot')\n",
    "# Axis labels\n",
    "plt.xlabel('False Positive Rate')\n",
    "plt.ylabel('True Positive Rate')\n",
    "# Show legend\n",
    "plt.legend() # \n",
    "# Show plot\n",
    "plt.show()"
   ]
  },
  {
   "cell_type": "code",
   "execution_count": 48,
   "metadata": {},
   "outputs": [
    {
     "name": "stdout",
     "output_type": "stream",
     "text": [
      "The fpr is:  [0.  0.  0.  0.1 0.1 0.2 0.2 1. ]\n",
      "The tpr is:  [0.  0.1 0.8 0.8 0.9 0.9 1.  1. ]\n",
      "The thresholds are:  [1.0228671  0.0228671  0.00973664 0.00881447 0.00826699 0.00727919\n",
      " 0.00615887 0.00485263]\n"
     ]
    }
   ],
   "source": [
    "print(\"The fpr is: \", fpr)\n",
    "print(\"The tpr is: \", tpr)\n",
    "print(\"The thresholds are: \", thresholds)"
   ]
  },
  {
   "cell_type": "markdown",
   "metadata": {},
   "source": [
    "The best threshold value for this is: 0.00826699 , let's asses this."
   ]
  },
  {
   "cell_type": "code",
   "execution_count": 49,
   "metadata": {},
   "outputs": [],
   "source": [
    "def pred_label_onProb(probs_list, prob_threshold):\n",
    "    pred_based_onProb = []\n",
    "    for i in range (len(probs_list)):\n",
    "        if probs_list[i] > prob_threshold:\n",
    "            prediction = 1                          ## Stands for classifiaction of anomaly bottle\n",
    "        else:\n",
    "            prediction = 0\n",
    "        pred_based_onProb.append(prediction)\n",
    "    return pred_based_onProb"
   ]
  },
  {
   "cell_type": "code",
   "execution_count": 50,
   "metadata": {},
   "outputs": [],
   "source": [
    "# from tensorflow.keras.metrics import Precision, Recall, BinaryAccuracy, SpecificityAtSensitivity\n",
    "from sklearn.metrics import confusion_matrix"
   ]
  },
  {
   "cell_type": "code",
   "execution_count": 51,
   "metadata": {},
   "outputs": [],
   "source": [
    "best_threshold_approach1 = 0.00826699"
   ]
  },
  {
   "cell_type": "code",
   "execution_count": 52,
   "metadata": {},
   "outputs": [
    {
     "name": "stdout",
     "output_type": "stream",
     "text": [
      "[[18  2]\n",
      " [ 1  9]]\n",
      "The FPR values are:  0.1\n",
      "The TPR values are:  0.9\n",
      "Using the threshold =  0.00826699\n"
     ]
    }
   ],
   "source": [
    "conf_matrix = confusion_matrix(y_true, pred_label_onProb(total_rec_error_val_list, best_threshold_approach1))\n",
    "print(conf_matrix)\n",
    "_tp = conf_matrix[1, 1]\n",
    "_fn = conf_matrix[1, 0]\n",
    "_fp = conf_matrix[0, 1]\n",
    "_tn = conf_matrix[0, 0]\n",
    "_tpr = _tp/(_tp+_fn)\n",
    "_fpr = _fp / (_tn + _fp)\n",
    "print(\"The FPR values are: \", _fpr)\n",
    "print(\"The TPR values are: \", _tpr)\n",
    "print(\"Using the threshold = \", best_threshold_approach1)"
   ]
  },
  {
   "cell_type": "markdown",
   "metadata": {},
   "source": [
    "# Validating the performance of the model with the mapping of the reconstruction error to a probability value"
   ]
  },
  {
   "cell_type": "code",
   "execution_count": 53,
   "metadata": {},
   "outputs": [
    {
     "name": "stdout",
     "output_type": "stream",
     "text": [
      "The probability list is:  [32.3995625965306, 39.35273789689755, 53.49919755710447, 28.23754054160953, 35.029510595452564, 34.991836513724, 36.231383335294716, 36.50361966328878, 80.95154065993437, 19.923594476324656, 10.160286663667875, 17.686743282351465, 31.201988241852114, 10.925241193933202, 28.849423437177173, 45.323384523862096, 35.47186499803048, 43.68635862295702, 12.240847308859426, 100, 100, 62.37196042464974, 100, 100, 100, 100, 9.170156801795915, 100, 100, 100]\n",
      "The ground truth labels are:  [0.0, 0.0, 0.0, 0.0, 0.0, 0.0, 0.0, 0.0, 0.0, 0.0, 0.0, 0.0, 0.0, 0.0, 0.0, 0.0, 0.0, 0.0, 0.0, 0.0, 1.0, 1.0, 1.0, 1.0, 1.0, 1.0, 1.0, 1.0, 1.0, 1.0]\n"
     ]
    }
   ],
   "source": [
    "probs_list = map_error2prob_list(total_rec_error_val_list)\n",
    "print(\"The probability list is: \", probs_list)\n",
    "print(\"The ground truth labels are: \", y_true)"
   ]
  },
  {
   "cell_type": "code",
   "execution_count": 54,
   "metadata": {},
   "outputs": [
    {
     "name": "stdout",
     "output_type": "stream",
     "text": [
      "AUC =  0.8700000000000001\n"
     ]
    }
   ],
   "source": [
    "from sklearn import metrics\n",
    "print('AUC = ', metrics.roc_auc_score(y_true, probs_list))"
   ]
  },
  {
   "cell_type": "code",
   "execution_count": 55,
   "metadata": {},
   "outputs": [
    {
     "data": {
      "image/png": "[encoded data removed]",
      "text/plain": [
       "<Figure size 640x480 with 1 Axes>"
      ]
     },
     "metadata": {},
     "output_type": "display_data"
    }
   ],
   "source": [
    "fpr, tpr, thresholds = metrics.roc_curve(y_true, probs_list)\n",
    "plt.plot(fpr, tpr, marker='.', label='AUROC = %0.3f' % metrics.roc_auc_score(y_true, probs_list))\n",
    "# Title\n",
    "plt.title('ROC Plot')\n",
    "# Axis labels\n",
    "plt.xlabel('False Positive Rate')\n",
    "plt.ylabel('True Positive Rate')\n",
    "# Show legend\n",
    "plt.legend() # \n",
    "# Show plot\n",
    "plt.show()"
   ]
  },
  {
   "cell_type": "code",
   "execution_count": 56,
   "metadata": {},
   "outputs": [
    {
     "name": "stdout",
     "output_type": "stream",
     "text": [
      "The fpr is:  [0.   0.05 0.1  0.1  1.   1.  ]\n",
      "The tpr is:  [0.  0.8 0.8 0.9 0.9 1. ]\n",
      "The thresholds are:  [101.         100.          80.95154066  62.37196042  10.16028666\n",
      "   9.1701568 ]\n"
     ]
    }
   ],
   "source": [
    "print(\"The fpr is: \", fpr)\n",
    "print(\"The tpr is: \", tpr)\n",
    "print(\"The thresholds are: \", thresholds)"
   ]
  },
  {
   "cell_type": "markdown",
   "metadata": {},
   "source": [
    "The best threshold in terms of FPR and TPR is 62.3719604. Let's asses that."
   ]
  },
  {
   "cell_type": "code",
   "execution_count": 57,
   "metadata": {},
   "outputs": [],
   "source": [
    "best_threshold_approach2 = 62.3719604"
   ]
  },
  {
   "cell_type": "code",
   "execution_count": 58,
   "metadata": {},
   "outputs": [
    {
     "name": "stdout",
     "output_type": "stream",
     "text": [
      "[[18  2]\n",
      " [ 1  9]]\n",
      "The FPR values are:  0.1\n",
      "The TPR values are:  0.9\n",
      "Using the threshold =   62.3719604\n"
     ]
    }
   ],
   "source": [
    "conf_matrix = confusion_matrix(y_true, pred_label_onProb(probs_list,  best_threshold_approach2))\n",
    "print(conf_matrix)\n",
    "_tp = conf_matrix[1, 1]\n",
    "_fn = conf_matrix[1, 0]\n",
    "_fp = conf_matrix[0, 1]\n",
    "_tn = conf_matrix[0, 0]\n",
    "_tpr = _tp/(_tp+_fn)\n",
    "_fpr = _fp / (_tn + _fp)\n",
    "print(\"The FPR values are: \", _fpr)\n",
    "print(\"The TPR values are: \", _tpr)\n",
    "print(\"Using the threshold =  \", best_threshold_approach2)"
   ]
  },
  {
   "cell_type": "markdown",
   "metadata": {},
   "source": [
    "# Evaluating the model. With the threhsold value of the direct reconstruction error"
   ]
  },
  {
   "cell_type": "code",
   "execution_count": 59,
   "metadata": {},
   "outputs": [
    {
     "name": "stdout",
     "output_type": "stream",
     "text": [
      "1/1 [==============================] - 0s 601us/step - loss: 0.0053\n",
      "1/1 [==============================] - 0s 643us/step - loss: 0.0056\n",
      "1/1 [==============================] - 0s 584us/step - loss: 0.0055\n",
      "1/1 [==============================] - 0s 861us/step - loss: 0.0060\n",
      "1/1 [==============================] - 0s 617us/step - loss: 0.0055\n",
      "1/1 [==============================] - 0s 673us/step - loss: 0.0051\n",
      "1/1 [==============================] - 0s 632us/step - loss: 0.0061\n",
      "1/1 [==============================] - 0s 707us/step - loss: 0.0071\n",
      "1/1 [==============================] - 0s 967us/step - loss: 0.0093\n",
      "1/1 [==============================] - 0s 892us/step - loss: 0.0088\n",
      "1/1 [==============================] - 0s 591us/step - loss: 0.0167\n",
      "1/1 [==============================] - 0s 721us/step - loss: 0.0063\n",
      "1/1 [==============================] - 0s 698us/step - loss: 0.0079\n",
      "1/1 [==============================] - 0s 666us/step - loss: 0.0057\n",
      "1/1 [==============================] - 0s 752us/step - loss: 0.0060\n",
      "1/1 [==============================] - 0s 605us/step - loss: 0.0063\n",
      "1/1 [==============================] - 0s 961us/step - loss: 0.0083\n",
      "1/1 [==============================] - 0s 613us/step - loss: 0.0067\n",
      "1/1 [==============================] - 0s 876us/step - loss: 0.0096\n",
      "1/1 [==============================] - 0s 705us/step - loss: 0.0097\n",
      "1/1 [==============================] - 0s 621us/step - loss: 0.0080\n",
      "1/1 [==============================] - 0s 744us/step - loss: 0.0124\n",
      "1/1 [==============================] - 0s 648us/step - loss: 0.0079\n",
      "1/1 [==============================] - 0s 669us/step - loss: 0.0072\n",
      "1/1 [==============================] - 0s 848us/step - loss: 0.0093\n",
      "1/1 [==============================] - 0s 589us/step - loss: 0.0095\n",
      "1/1 [==============================] - 0s 657us/step - loss: 0.0062\n",
      "1/1 [==============================] - 0s 609us/step - loss: 0.0073\n",
      "1/1 [==============================] - 0s 649us/step - loss: 0.0114\n",
      "1/1 [==============================] - 0s 693us/step - loss: 0.0150\n",
      "The list of rec. error contains  3 batches of rec. errors\n"
     ]
    }
   ],
   "source": [
    "total_rec_error_eval = []\n",
    "labels_list_eval = []\n",
    "for i in range(len(test_set_generator)):                               #This will traverse the train generator the number of batches it contains\n",
    "    images_in_batch, images_labels = next(test_crops)           #As for each next step of the \"train_crops\" generator it exists one batch of the augmented and one batch of the orignial images, we perform twice the calc_recon_error() function\n",
    "    rec_errors, labels = calc_recon_error_for_val_eval(images_in_batch,images_labels)\n",
    "    total_rec_error_eval.append(rec_errors)\n",
    "    labels_list_eval.append(labels)\n",
    "    \n",
    "print(\"The list of rec. error contains \", len(total_rec_error_eval), \"batches of rec. errors\")"
   ]
  },
  {
   "cell_type": "code",
   "execution_count": 60,
   "metadata": {},
   "outputs": [
    {
     "name": "stdout",
     "output_type": "stream",
     "text": [
      "The reconstruction error list is:  [0.005310704465955496, 0.005583964288234711, 0.0055231973528862, 0.006038782186806202, 0.005456531886011362, 0.005086749326437712, 0.006087243091315031, 0.007102906703948975, 0.009337889030575752, 0.008769339881837368, 0.016673004254698753, 0.006332910154014826, 0.007888014428317547, 0.005660177208483219, 0.006002979353070259, 0.006280900444835424, 0.00830625370144844, 0.006659375969320536, 0.00960163027048111, 0.009716713801026344, 0.007961375638842583, 0.01237399596720934, 0.0078722620382905, 0.007165639661252499, 0.009290648624300957, 0.009538533166050911, 0.006197731010615826, 0.0073442356660962105, 0.01142093911767006, 0.014984235167503357]\n",
      "The ground truth labels are:  [0.0, 0.0, 0.0, 0.0, 0.0, 0.0, 0.0, 0.0, 0.0, 0.0, 0.0, 0.0, 0.0, 0.0, 0.0, 0.0, 0.0, 0.0, 0.0, 0.0, 1.0, 1.0, 1.0, 1.0, 1.0, 1.0, 1.0, 1.0, 1.0, 1.0]\n"
     ]
    }
   ],
   "source": [
    "total_rec_error_eval_list = [item for sublist in total_rec_error_eval for item in sublist]\n",
    "y_true = [item for sublist in labels_list_eval for item in sublist]\n",
    "print(\"The reconstruction error list is: \", total_rec_error_eval_list)\n",
    "print(\"The ground truth labels are: \", y_true)"
   ]
  },
  {
   "cell_type": "code",
   "execution_count": 61,
   "metadata": {},
   "outputs": [
    {
     "name": "stdout",
     "output_type": "stream",
     "text": [
      "[[14  6]\n",
      " [ 5  5]]\n",
      "The FPR values are:  0.3\n",
      "The TPR values are:  0.5\n",
      "Using the threshold =  0.00826699\n"
     ]
    }
   ],
   "source": [
    "conf_matrix = confusion_matrix(y_true, pred_label_onProb(total_rec_error_eval_list, best_threshold_approach1))\n",
    "print(conf_matrix)\n",
    "_tp = conf_matrix[1, 1]\n",
    "_fn = conf_matrix[1, 0]\n",
    "_fp = conf_matrix[0, 1]\n",
    "_tn = conf_matrix[0, 0]\n",
    "_tpr = _tp/(_tp+_fn)\n",
    "_fpr = _fp / (_tn + _fp)\n",
    "print(\"The FPR values are: \", _fpr)\n",
    "print(\"The TPR values are: \", _tpr)\n",
    "print(\"Using the threshold = \", best_threshold_approach1)"
   ]
  },
  {
   "cell_type": "code",
   "execution_count": 62,
   "metadata": {},
   "outputs": [],
   "source": [
    "def computePredList(probs_list, threshold_value):\n",
    "    pred = 0\n",
    "    pred_list =[]\n",
    "    for i in range (len(probs_list)):\n",
    "        if probs_list[i] > threshold_value:              # Working with a threshold of 50%\n",
    "            pred = 1\n",
    "        else:\n",
    "            pred = 0\n",
    "        pred_list.append(pred)\n",
    "    return pred_list"
   ]
  },
  {
   "cell_type": "code",
   "execution_count": 63,
   "metadata": {},
   "outputs": [
    {
     "name": "stdout",
     "output_type": "stream",
     "text": [
      "The groudn truth is:  [0. 0. 0. 0. 0. 0. 0. 0. 0. 0. 0. 0. 0. 0. 0. 0. 0. 0. 0. 0. 1. 1. 1. 1.\n",
      " 1. 1. 1. 1. 1. 1.]\n",
      "The predicted label is:  [0, 0, 0, 0, 0, 0, 0, 0, 1, 1, 1, 0, 0, 0, 0, 0, 1, 0, 1, 1, 0, 1, 0, 0, 1, 1, 0, 0, 1, 1]\n"
     ]
    }
   ],
   "source": [
    "y_pred = computePredList(total_rec_error_eval_list, best_threshold_approach1)\n",
    "print(\"The groudn truth is: \", np.array(y_true))\n",
    "print(\"The predicted label is: \", y_pred)"
   ]
  },
  {
   "cell_type": "markdown",
   "metadata": {},
   "source": [
    "# Applying evaluation metrics to these results"
   ]
  },
  {
   "cell_type": "markdown",
   "metadata": {},
   "source": [
    "## Computing the confusion matrix"
   ]
  },
  {
   "cell_type": "code",
   "execution_count": 64,
   "metadata": {},
   "outputs": [],
   "source": [
    "from sklearn.metrics import confusion_matrix\n",
    "import pandas as pd\n",
    "import seaborn as sn"
   ]
  },
  {
   "cell_type": "code",
   "execution_count": 65,
   "metadata": {},
   "outputs": [
    {
     "name": "stdout",
     "output_type": "stream",
     "text": [
      "[[14  6]\n",
      " [ 5  5]]\n"
     ]
    }
   ],
   "source": [
    "conf_matrix = confusion_matrix(y_true, y_pred)\n",
    "print(conf_matrix)"
   ]
  },
  {
   "cell_type": "code",
   "execution_count": 66,
   "metadata": {},
   "outputs": [
    {
     "data": {
      "text/plain": [
       "Text(0.5, 23.52222222222222, 'Predicted label')"
      ]
     },
     "execution_count": 66,
     "metadata": {},
     "output_type": "execute_result"
    },
    {
     "data": {
      "image/png": "[encoded data removed]",
      "text/plain": [
       "<Figure size 640x480 with 2 Axes>"
      ]
     },
     "metadata": {},
     "output_type": "display_data"
    }
   ],
   "source": [
    "group_names = ['True Neg','False Pos','False Neg','True Pos']\n",
    "group_counts = [\"{0:0.0f}\".format(value) for value in\n",
    "                conf_matrix.flatten()]\n",
    "group_percentages = [\"{0:.2%}\".format(value) for value in\n",
    "                     conf_matrix.flatten()/np.sum(conf_matrix)]\n",
    "labels = [f\"{v1}\\n{v2}\\n{v3}\" for v1, v2, v3 in\n",
    "          zip(group_names,group_counts,group_percentages)]        #To print the group names as well \n",
    "\n",
    "labels = np.asarray(labels).reshape(2,2)\n",
    "categories = ['Positive bottles', 'Anomaly bottles']\n",
    "sn.heatmap(conf_matrix, annot=labels, fmt='', xticklabels=categories,yticklabels=categories, cmap='Blues')\n",
    "plt.ylabel('True label')\n",
    "plt.xlabel('Predicted label')"
   ]
  },
  {
   "cell_type": "code",
   "execution_count": 67,
   "metadata": {},
   "outputs": [
    {
     "name": "stdout",
     "output_type": "stream",
     "text": [
      "The FPR values are:  0.3\n",
      "The TPR values are:  0.5\n"
     ]
    }
   ],
   "source": [
    "_tp = conf_matrix[1, 1]\n",
    "_fn = conf_matrix[1, 0]\n",
    "_fp = conf_matrix[0, 1]\n",
    "_tn = conf_matrix[0, 0]\n",
    "_tpr = _tp/(_tp+_fn)\n",
    "_fpr = _fp / (_tn + _fp)\n",
    "print(\"The FPR values are: \", _fpr)\n",
    "print(\"The TPR values are: \", _tpr)"
   ]
  },
  {
   "cell_type": "markdown",
   "metadata": {},
   "source": [
    "## Precision metric"
   ]
  },
  {
   "cell_type": "markdown",
   "metadata": {},
   "source": [
    "Precision = True positives / (True positives + False positives).\n",
    "\n",
    "Answers the question: Which proportion of positive predictions is actually right?"
   ]
  },
  {
   "cell_type": "code",
   "execution_count": 68,
   "metadata": {},
   "outputs": [
    {
     "name": "stdout",
     "output_type": "stream",
     "text": [
      "The precision is:  0.45454545454545453\n"
     ]
    }
   ],
   "source": [
    "precision = _tp/(_tp+_fp)\n",
    "print(\"The precision is: \", precision)\n"
   ]
  },
  {
   "cell_type": "markdown",
   "metadata": {},
   "source": [
    "## Recall metric"
   ]
  },
  {
   "cell_type": "markdown",
   "metadata": {},
   "source": [
    "Recall = TruePositives / (TruePositives + FalseNegatives)\n",
    "\n",
    "This metric is also called \"sensitiviy\" and TPR \"True Positive Rate\". It responds how good is the model at catching YESes?"
   ]
  },
  {
   "cell_type": "code",
   "execution_count": 69,
   "metadata": {},
   "outputs": [
    {
     "name": "stdout",
     "output_type": "stream",
     "text": [
      "The recall is:  0.5\n"
     ]
    }
   ],
   "source": [
    "recall = _tp/(_tp+_fn)\n",
    "print(\"The recall is: \", recall)"
   ]
  },
  {
   "cell_type": "markdown",
   "metadata": {},
   "source": [
    "## Specificity"
   ]
  },
  {
   "cell_type": "markdown",
   "metadata": {},
   "source": [
    "Specificity = True negatives / (True negatives + false positives)\n",
    "\n",
    "The specificity metric is the opposite as sensitivity, it tells us how good is the model at catching NOes. It measures the proportion of actual negatives that are correctly identified as such."
   ]
  },
  {
   "cell_type": "code",
   "execution_count": 70,
   "metadata": {},
   "outputs": [
    {
     "name": "stdout",
     "output_type": "stream",
     "text": [
      "The specificity is:  0.7\n"
     ]
    }
   ],
   "source": [
    "spec = _tn/(_tn+_fp)\n",
    "print(\"The specificity is: \", spec)"
   ]
  },
  {
   "cell_type": "markdown",
   "metadata": {},
   "source": [
    "## Accuracy"
   ]
  },
  {
   "cell_type": "markdown",
   "metadata": {},
   "source": [
    "Accuracy = (True negatives + True positives) / (True positives + True negatives + False positives + False negatives)"
   ]
  },
  {
   "cell_type": "code",
   "execution_count": 71,
   "metadata": {},
   "outputs": [
    {
     "name": "stdout",
     "output_type": "stream",
     "text": [
      "The accuracy is:  0.6333333333333333\n"
     ]
    }
   ],
   "source": [
    "acc = (_tn+_tp)/(_tn+_tp +_fp + _fn)\n",
    "print(\"The accuracy is: \", acc)"
   ]
  },
  {
   "cell_type": "markdown",
   "metadata": {},
   "source": [
    "## The ROC curve"
   ]
  },
  {
   "cell_type": "code",
   "execution_count": 72,
   "metadata": {},
   "outputs": [],
   "source": [
    "from sklearn.metrics import roc_curve, roc_auc_score\n"
   ]
  },
  {
   "cell_type": "markdown",
   "metadata": {},
   "source": [
    "Rather than the prediction of each sample (0 or 1 values) we need the probability of the samples to be predicted as an anomaly image. Hence, we compute this probability"
   ]
  },
  {
   "cell_type": "code",
   "execution_count": 73,
   "metadata": {},
   "outputs": [
    {
     "name": "stdout",
     "output_type": "stream",
     "text": [
      "AUROC = 0.760\n",
      "The fpr is:  [0.   0.05 0.05 0.15 0.15 0.2  0.2  0.3  0.3  0.35 0.35 0.55 0.55 1.  ]\n",
      "The tpr is:  [0.  0.  0.3 0.3 0.4 0.4 0.5 0.5 0.6 0.6 0.9 0.9 1.  1. ]\n",
      "The thresholds are:  [1.016673   0.016673   0.01142094 0.00960163 0.00953853 0.00933789\n",
      " 0.00929065 0.00830625 0.00796138 0.00788801 0.00716564 0.0062809\n",
      " 0.00619773 0.00508675]\n"
     ]
    }
   ],
   "source": [
    "auc_score = roc_auc_score(y_true, total_rec_error_eval_list)\n",
    "print('AUROC = %.3f' % (auc_score))\n",
    "fpr, tpr, thresholds = roc_curve(y_true, total_rec_error_eval_list)\n",
    "print(\"The fpr is: \", fpr)\n",
    "print(\"The tpr is: \", tpr)\n",
    "print(\"The thresholds are: \", thresholds)"
   ]
  },
  {
   "cell_type": "code",
   "execution_count": 74,
   "metadata": {},
   "outputs": [
    {
     "data": {
      "image/png": "[encoded data removed]",
      "text/plain": [
       "<Figure size 640x480 with 1 Axes>"
      ]
     },
     "metadata": {},
     "output_type": "display_data"
    }
   ],
   "source": [
    "plt.plot(fpr, tpr, marker='.', label='AUROC = %0.3f' % auc_score)\n",
    "# Title\n",
    "plt.title('ROC Plot')\n",
    "# Axis labels\n",
    "plt.xlabel('False Positive Rate')\n",
    "plt.ylabel('True Positive Rate')\n",
    "# Show legend\n",
    "plt.legend() # \n",
    "# Show plot\n",
    "plt.show()"
   ]
  },
  {
   "cell_type": "markdown",
   "metadata": {},
   "source": [
    "# Evaluating the model. With the threhsold value computed from a probability value upon the reconstruction errors"
   ]
  },
  {
   "cell_type": "code",
   "execution_count": 75,
   "metadata": {},
   "outputs": [
    {
     "name": "stdout",
     "output_type": "stream",
     "text": [
      "The probability list is:  [37.953913780971924, 28.680448045219542, 30.74266153903238, 13.245547432205266, 33.00505019780144, 45.55415407733614, 11.600956823392673, 22.867051068332344, 98.71439610835016, 79.41986167610102, 100, 3.2638911349664923, 49.51081274569721, 26.094052801852914, 14.460568173724496, 5.028915542794745, 63.70436500806483, 7.815196624369452, 100, 100, 52.00043111133495, 100, 48.97623269674015, 24.99598434950171, 97.11122486539769, 100, 7.85139010954347, 31.05689706490314, 100, 100]\n",
      "The ground truth labels are:  [0.0, 0.0, 0.0, 0.0, 0.0, 0.0, 0.0, 0.0, 0.0, 0.0, 0.0, 0.0, 0.0, 0.0, 0.0, 0.0, 0.0, 0.0, 0.0, 0.0, 1.0, 1.0, 1.0, 1.0, 1.0, 1.0, 1.0, 1.0, 1.0, 1.0]\n"
     ]
    }
   ],
   "source": [
    "probs_list = map_error2prob_list(total_rec_error_eval_list)\n",
    "print(\"The probability list is: \", probs_list)\n",
    "print(\"The ground truth labels are: \", y_true)"
   ]
  },
  {
   "cell_type": "code",
   "execution_count": 76,
   "metadata": {},
   "outputs": [
    {
     "name": "stdout",
     "output_type": "stream",
     "text": [
      "[[14  6]\n",
      " [ 5  5]]\n",
      "The FPR values are:  0.3\n",
      "The TPR values are:  0.5\n",
      "Using the threshold =  62.3719604\n"
     ]
    }
   ],
   "source": [
    "conf_matrix = confusion_matrix(y_true, pred_label_onProb(probs_list, best_threshold_approach2))\n",
    "print(conf_matrix)\n",
    "_tp = conf_matrix[1, 1]\n",
    "_fn = conf_matrix[1, 0]\n",
    "_fp = conf_matrix[0, 1]\n",
    "_tn = conf_matrix[0, 0]\n",
    "_tpr = _tp/(_tp+_fn)\n",
    "_fpr = _fp / (_tn + _fp)\n",
    "print(\"The FPR values are: \", _fpr)\n",
    "print(\"The TPR values are: \", _tpr)\n",
    "print(\"Using the threshold = \", best_threshold_approach2)"
   ]
  },
  {
   "cell_type": "code",
   "execution_count": 77,
   "metadata": {},
   "outputs": [
    {
     "name": "stdout",
     "output_type": "stream",
     "text": [
      "The groudn truth is:  [0. 0. 0. 0. 0. 0. 0. 0. 0. 0. 0. 0. 0. 0. 0. 0. 0. 0. 0. 0. 1. 1. 1. 1.\n",
      " 1. 1. 1. 1. 1. 1.]\n",
      "The predicted label is:  [0, 0, 0, 0, 0, 0, 0, 0, 1, 1, 1, 0, 0, 0, 0, 0, 1, 0, 1, 1, 0, 1, 0, 0, 1, 1, 0, 0, 1, 1]\n"
     ]
    }
   ],
   "source": [
    "y_pred = computePredList(probs_list, best_threshold_approach2)\n",
    "print(\"The groudn truth is: \", np.array(y_true))\n",
    "print(\"The predicted label is: \", y_pred)"
   ]
  },
  {
   "cell_type": "markdown",
   "metadata": {},
   "source": [
    "# Applying evaluation metrics to these results"
   ]
  },
  {
   "cell_type": "markdown",
   "metadata": {},
   "source": [
    "## Computing the confusion matrix"
   ]
  },
  {
   "cell_type": "code",
   "execution_count": 78,
   "metadata": {},
   "outputs": [],
   "source": [
    "from sklearn.metrics import confusion_matrix\n",
    "import pandas as pd\n",
    "import seaborn as sn"
   ]
  },
  {
   "cell_type": "code",
   "execution_count": 79,
   "metadata": {},
   "outputs": [
    {
     "name": "stdout",
     "output_type": "stream",
     "text": [
      "[[14  6]\n",
      " [ 5  5]]\n"
     ]
    }
   ],
   "source": [
    "conf_matrix = confusion_matrix(y_true, y_pred)\n",
    "print(conf_matrix)"
   ]
  },
  {
   "cell_type": "code",
   "execution_count": 80,
   "metadata": {},
   "outputs": [
    {
     "data": {
      "text/plain": [
       "Text(0.5, 23.52222222222222, 'Predicted label')"
      ]
     },
     "execution_count": 80,
     "metadata": {},
     "output_type": "execute_result"
    },
    {
     "data": {
      "image/png": "[encoded data removed]",
      "text/plain": [
       "<Figure size 640x480 with 2 Axes>"
      ]
     },
     "metadata": {},
     "output_type": "display_data"
    }
   ],
   "source": [
    "group_names = ['True Neg','False Pos','False Neg','True Pos']\n",
    "group_counts = [\"{0:0.0f}\".format(value) for value in\n",
    "                conf_matrix.flatten()]\n",
    "group_percentages = [\"{0:.2%}\".format(value) for value in\n",
    "                     conf_matrix.flatten()/np.sum(conf_matrix)]\n",
    "labels = [f\"{v1}\\n{v2}\\n{v3}\" for v1, v2, v3 in\n",
    "          zip(group_names,group_counts,group_percentages)]        #To print the group names as well \n",
    "\n",
    "labels = np.asarray(labels).reshape(2,2)\n",
    "categories = ['Positive bottles', 'Anomaly bottles']\n",
    "sn.heatmap(conf_matrix, annot=labels, fmt='', xticklabels=categories,yticklabels=categories, cmap='Blues')\n",
    "plt.ylabel('True label')\n",
    "plt.xlabel('Predicted label')"
   ]
  },
  {
   "cell_type": "code",
   "execution_count": 81,
   "metadata": {},
   "outputs": [
    {
     "name": "stdout",
     "output_type": "stream",
     "text": [
      "The FPR values are:  0.3\n",
      "The TPR values are:  0.5\n"
     ]
    }
   ],
   "source": [
    "_tp = conf_matrix[1, 1]\n",
    "_fn = conf_matrix[1, 0]\n",
    "_fp = conf_matrix[0, 1]\n",
    "_tn = conf_matrix[0, 0]\n",
    "_tpr = _tp/(_tp+_fn)\n",
    "_fpr = _fp / (_tn + _fp)\n",
    "print(\"The FPR values are: \", _fpr)\n",
    "print(\"The TPR values are: \", _tpr)"
   ]
  },
  {
   "cell_type": "markdown",
   "metadata": {},
   "source": [
    "## Precision metric"
   ]
  },
  {
   "cell_type": "markdown",
   "metadata": {},
   "source": [
    "Precision = True positives / (True positives + False positives).\n",
    "\n",
    "Answers the question: Which proportion of positive predictions is actually right?"
   ]
  },
  {
   "cell_type": "code",
   "execution_count": 82,
   "metadata": {},
   "outputs": [
    {
     "name": "stdout",
     "output_type": "stream",
     "text": [
      "The precision is:  0.45454545454545453\n"
     ]
    }
   ],
   "source": [
    "precision = _tp/(_tp+_fp)\n",
    "print(\"The precision is: \", precision)\n"
   ]
  },
  {
   "cell_type": "markdown",
   "metadata": {},
   "source": [
    "## Recall metric"
   ]
  },
  {
   "cell_type": "markdown",
   "metadata": {},
   "source": [
    "Recall = TruePositives / (TruePositives + FalseNegatives)\n",
    "\n",
    "This metric is also called \"sensitiviy\" and TPR \"True Positive Rate\". It responds how good is the model at catching YESes?"
   ]
  },
  {
   "cell_type": "code",
   "execution_count": 83,
   "metadata": {},
   "outputs": [
    {
     "name": "stdout",
     "output_type": "stream",
     "text": [
      "The recall is:  0.5\n"
     ]
    }
   ],
   "source": [
    "recall = _tp/(_tp+_fn)\n",
    "print(\"The recall is: \", recall)"
   ]
  },
  {
   "cell_type": "markdown",
   "metadata": {},
   "source": [
    "## Specificity"
   ]
  },
  {
   "cell_type": "markdown",
   "metadata": {},
   "source": [
    "Specificity = True negatives / (True negatives + false positives)\n",
    "\n",
    "The specificity metric is the opposite as sensitivity, it tells us how good is the model at catching NOes. It measures the proportion of actual negatives that are correctly identified as such."
   ]
  },
  {
   "cell_type": "code",
   "execution_count": 84,
   "metadata": {},
   "outputs": [
    {
     "name": "stdout",
     "output_type": "stream",
     "text": [
      "The specificity is:  0.7\n"
     ]
    }
   ],
   "source": [
    "spec = _tn/(_tn+_fp)\n",
    "print(\"The specificity is: \", spec)"
   ]
  },
  {
   "cell_type": "markdown",
   "metadata": {},
   "source": [
    "## Accuracy"
   ]
  },
  {
   "cell_type": "markdown",
   "metadata": {},
   "source": [
    "Accuracy = (True negatives + True positives) / (True positives + True negatives + False positives + False negatives)"
   ]
  },
  {
   "cell_type": "code",
   "execution_count": 85,
   "metadata": {},
   "outputs": [
    {
     "name": "stdout",
     "output_type": "stream",
     "text": [
      "The accuracy is:  0.6333333333333333\n"
     ]
    }
   ],
   "source": [
    "acc = (_tn+_tp)/(_tn+_tp +_fp + _fn)\n",
    "print(\"The accuracy is: \", acc)"
   ]
  },
  {
   "cell_type": "markdown",
   "metadata": {},
   "source": [
    "## The ROC curve"
   ]
  },
  {
   "cell_type": "code",
   "execution_count": 86,
   "metadata": {},
   "outputs": [],
   "source": [
    "from sklearn.metrics import roc_curve, roc_auc_score\n"
   ]
  },
  {
   "cell_type": "markdown",
   "metadata": {},
   "source": [
    "Rather than the prediction of each sample (0 or 1 values) we need the probability of the samples to be predicted as an anomaly image. Hence, we compute this probability"
   ]
  },
  {
   "cell_type": "code",
   "execution_count": 87,
   "metadata": {},
   "outputs": [
    {
     "name": "stdout",
     "output_type": "stream",
     "text": [
      "AUROC = 0.685\n",
      "The fpr is:  [0.   0.15 0.2  0.2  0.3  0.3  0.35 0.35 0.5  0.5  0.65 0.65 0.85 0.85\n",
      " 1.  ]\n",
      "The tpr is:  [0.  0.4 0.4 0.5 0.5 0.6 0.6 0.7 0.7 0.8 0.8 0.9 0.9 1.  1. ]\n",
      "The thresholds are:  [101.         100.          98.71439611  97.11122487  63.70436501\n",
      "  52.00043111  49.51081275  48.9762327   33.0050502   31.05689706\n",
      "  26.0940528   24.99598435  11.60095682   7.85139011   3.26389113]\n"
     ]
    }
   ],
   "source": [
    "auc_score = roc_auc_score(y_true, probs_list)\n",
    "print('AUROC = %.3f' % (auc_score))\n",
    "fpr, tpr, thresholds = roc_curve(y_true, probs_list)\n",
    "print(\"The fpr is: \", fpr)\n",
    "print(\"The tpr is: \", tpr)\n",
    "print(\"The thresholds are: \", thresholds)"
   ]
  },
  {
   "cell_type": "code",
   "execution_count": 88,
   "metadata": {},
   "outputs": [
    {
     "data": {
      "image/png": "[encoded data removed]",
      "text/plain": [
       "<Figure size 640x480 with 1 Axes>"
      ]
     },
     "metadata": {},
     "output_type": "display_data"
    }
   ],
   "source": [
    "plt.plot(fpr, tpr, marker='.', label='AUROC = %0.3f' % auc_score)\n",
    "# Title\n",
    "plt.title('ROC Plot')\n",
    "# Axis labels\n",
    "plt.xlabel('False Positive Rate')\n",
    "plt.ylabel('True Positive Rate')\n",
    "# Show legend\n",
    "plt.legend() # \n",
    "# Show plot\n",
    "plt.show()"
   ]
  }
 ],
 "metadata": {
  "kernelspec": {
   "display_name": "Python 3",
   "language": "python",
   "name": "python3"
  },
  "language_info": {
   "codemirror_mode": {
    "name": "ipython",
    "version": 3
   },
   "file_extension": ".py",
   "mimetype": "text/x-python",
   "name": "python",
   "nbconvert_exporter": "python",
   "pygments_lexer": "ipython3",
   "version": "3.8.10"
  },
  "orig_nbformat": 4,
  "vscode": {
   "interpreter": {
    "hash": "916dbcbb3f70747c44a77c7bcd40155683ae19c65e1c03b4aa3499c5328201f1"
   }
  }
 },
 "nbformat": 4,
 "nbformat_minor": 2
}
