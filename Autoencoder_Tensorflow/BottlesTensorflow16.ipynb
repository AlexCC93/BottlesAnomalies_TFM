{
 "cells": [
  {
   "cell_type": "code",
   "execution_count": 1,
   "metadata": {},
   "outputs": [],
   "source": [
    "from tensorflow.keras.models import Sequential, Model\n",
    "from tensorflow.keras.layers import *\n",
    "from tensorflow.keras.preprocessing.image import ImageDataGenerator\n",
    "from tensorflow import keras\n",
    "import tensorflow as tf\n",
    "# from keras import layers\n",
    "\n",
    "\n",
    "from tensorflow.keras.optimizers import Adam, RMSprop\n",
    "from tensorflow.keras.preprocessing import image\n",
    "\n",
    "import tensorflow.keras.backend as K\n",
    "\n",
    "\n",
    "from PIL import Image\n",
    "import matplotlib.pyplot as plt\n",
    "import numpy as np\n",
    "import random\n",
    "\n"
   ]
  },
  {
   "cell_type": "code",
   "execution_count": 2,
   "metadata": {},
   "outputs": [
    {
     "name": "stdout",
     "output_type": "stream",
     "text": [
      "Num GPUs Available:  1\n"
     ]
    },
    {
     "name": "stderr",
     "output_type": "stream",
     "text": [
      "2023-06-10 16:52:11.891080: I tensorflow/stream_executor/platform/default/dso_loader.cc:44] Successfully opened dynamic library libcuda.so.1\n",
      "2023-06-10 16:52:11.923542: I tensorflow/stream_executor/cuda/cuda_gpu_executor.cc:981] successful NUMA node read from SysFS had negative value (-1), but there must be at least one NUMA node, so returning NUMA node zero\n",
      "2023-06-10 16:52:11.923894: I tensorflow/core/common_runtime/gpu/gpu_device.cc:1561] Found device 0 with properties: \n",
      "pciBusID: 0000:01:00.0 name: NVIDIA GeForce RTX 2080 with Max-Q Design computeCapability: 7.5\n",
      "coreClock: 1.23GHz coreCount: 46 deviceMemorySize: 7.79GiB deviceMemoryBandwidth: 357.69GiB/s\n",
      "2023-06-10 16:52:11.924077: I tensorflow/stream_executor/platform/default/dso_loader.cc:44] Successfully opened dynamic library libcudart.so.10.1\n",
      "2023-06-10 16:52:11.925459: I tensorflow/stream_executor/platform/default/dso_loader.cc:44] Successfully opened dynamic library libcublas.so.10\n",
      "2023-06-10 16:52:11.926784: I tensorflow/stream_executor/platform/default/dso_loader.cc:44] Successfully opened dynamic library libcufft.so.10\n",
      "2023-06-10 16:52:11.927039: I tensorflow/stream_executor/platform/default/dso_loader.cc:44] Successfully opened dynamic library libcurand.so.10\n",
      "2023-06-10 16:52:11.928534: I tensorflow/stream_executor/platform/default/dso_loader.cc:44] Successfully opened dynamic library libcusolver.so.10\n",
      "2023-06-10 16:52:11.929285: I tensorflow/stream_executor/platform/default/dso_loader.cc:44] Successfully opened dynamic library libcusparse.so.10\n",
      "2023-06-10 16:52:11.932244: I tensorflow/stream_executor/platform/default/dso_loader.cc:44] Successfully opened dynamic library libcudnn.so.7\n",
      "2023-06-10 16:52:11.932366: I tensorflow/stream_executor/cuda/cuda_gpu_executor.cc:981] successful NUMA node read from SysFS had negative value (-1), but there must be at least one NUMA node, so returning NUMA node zero\n",
      "2023-06-10 16:52:11.932723: I tensorflow/stream_executor/cuda/cuda_gpu_executor.cc:981] successful NUMA node read from SysFS had negative value (-1), but there must be at least one NUMA node, so returning NUMA node zero\n",
      "2023-06-10 16:52:11.933353: I tensorflow/core/common_runtime/gpu/gpu_device.cc:1703] Adding visible gpu devices: 0\n"
     ]
    }
   ],
   "source": [
    "physical_devices = tf.config.experimental.list_physical_devices('GPU')\n",
    "if len(physical_devices) == 0:\n",
    "    print(\"Not enough GPU hardware devices available\")\n",
    "else:\n",
    "    config = tf.config.experimental.set_memory_growth(physical_devices[0], True)\n",
    "print(\"Num GPUs Available: \", len(physical_devices))"
   ]
  },
  {
   "cell_type": "code",
   "execution_count": 3,
   "metadata": {},
   "outputs": [],
   "source": [
    "# tf.debugging.set_log_device_placement(True)       # Will print the log information of every execution of tensorflow, mainly about "
   ]
  },
  {
   "cell_type": "code",
   "execution_count": 4,
   "metadata": {},
   "outputs": [],
   "source": [
    "#Size of our input images\n",
    "# SIZE = 128        # It was this value at the beginning, but the image display was poor. \n",
    "SIZE = 224\n",
    "# SIZE = 228          # It was 224, but in order for the current autoencoder model configuration work adequately, we changed it 228"
   ]
  },
  {
   "attachments": {},
   "cell_type": "markdown",
   "metadata": {},
   "source": [
    "# Setting the training and testing datasets "
   ]
  },
  {
   "attachments": {},
   "cell_type": "markdown",
   "metadata": {},
   "source": [
    "ImageDataGenerator.flow_from_directory: Takes the path to a directory and generates batches of augmented data."
   ]
  },
  {
   "cell_type": "code",
   "execution_count": 5,
   "metadata": {},
   "outputs": [
    {
     "name": "stdout",
     "output_type": "stream",
     "text": [
      "Found 179 images belonging to 1 classes.\n"
     ]
    }
   ],
   "source": [
    "# batch_size = 64\n",
    "batch_size = 15\n",
    "datagen = ImageDataGenerator(rescale=1./255) # Typically used for data augmentation. Here it is only rescaling the image pixels value to range 0 to 1 in decimals\n",
    "\n",
    "train_generator = datagen.flow_from_directory(\n",
    "    \"../../Images/BottleStoodUp_atNight/Positive/\",         # For home laptop\n",
    "    # \"../../../BottleStoodUp_atNight/Positive/\",          # For work laptop\n",
    "    target_size=(SIZE, SIZE),\n",
    "    batch_size=batch_size,\n",
    "    shuffle = False,\n",
    "    class_mode='input'          # Class used for working with Autoencoders\n",
    "    \n",
    "    )"
   ]
  },
  {
   "cell_type": "code",
   "execution_count": 6,
   "metadata": {},
   "outputs": [
    {
     "name": "stdout",
     "output_type": "stream",
     "text": [
      "Found 30 images belonging to 1 classes.\n"
     ]
    }
   ],
   "source": [
    "validation_generator = datagen.flow_from_directory(\n",
    "    \"../../Images/BottleStoodUp_atNight/Positive_val/\",     # For home laptop\n",
    "    # \"../../../BottleStoodUp_atNight/Positive_val/\",           # For work lpatop   \n",
    "    target_size=(SIZE, SIZE),\n",
    "    batch_size=batch_size,\n",
    "    shuffle = False,\n",
    "    class_mode='input'\n",
    "    )\n"
   ]
  },
  {
   "cell_type": "code",
   "execution_count": 7,
   "metadata": {},
   "outputs": [
    {
     "name": "stdout",
     "output_type": "stream",
     "text": [
      "Found 6 images belonging to 1 classes.\n"
     ]
    }
   ],
   "source": [
    "anomaly_generator = datagen.flow_from_directory(\n",
    "    \"../../Images/BottleStoodUp_atNight/Anomalies2.0/\",         # For home laptop\n",
    "    # \"../../../BottleStoodUp_atNight/Anomalies2.0/\",           # For work lpatpo\n",
    "    target_size=(SIZE, SIZE),\n",
    "    batch_size=batch_size,\n",
    "    shuffle = False,\n",
    "    class_mode='input'\n",
    "    )\n"
   ]
  },
  {
   "cell_type": "code",
   "execution_count": 8,
   "metadata": {},
   "outputs": [
    {
     "name": "stdout",
     "output_type": "stream",
     "text": [
      "Found 30 images belonging to 2 classes.\n"
     ]
    }
   ],
   "source": [
    "test_set_generator = datagen.flow_from_directory(\n",
    "    \"../../Images/BottleStoodUp_atNight/Evaluation/\",       # For home laptop\n",
    "    # \"../../../BottleStoodUp_atNight/Evaluation/\",             # For work laptop  \n",
    "    target_size=(SIZE, SIZE),\n",
    "    batch_size=batch_size,\n",
    "    shuffle = False,\n",
    "    class_mode='binary'\n",
    "    )\n"
   ]
  },
  {
   "attachments": {},
   "cell_type": "markdown",
   "metadata": {},
   "source": [
    "# Showing one sample of the training set images"
   ]
  },
  {
   "attachments": {},
   "cell_type": "markdown",
   "metadata": {},
   "source": [
    "Grabbing only one image of one batch of the training set."
   ]
  },
  {
   "cell_type": "code",
   "execution_count": 9,
   "metadata": {},
   "outputs": [
    {
     "name": "stdout",
     "output_type": "stream",
     "text": [
      "<class 'numpy.ndarray'>\n",
      "15\n"
     ]
    },
    {
     "name": "stderr",
     "output_type": "stream",
     "text": [
      "2023-06-10 16:52:12.458678: I tensorflow/core/platform/cpu_feature_guard.cc:143] Your CPU supports instructions that this TensorFlow binary was not compiled to use: AVX2 FMA\n",
      "2023-06-10 16:52:12.463228: I tensorflow/core/platform/profile_utils/cpu_utils.cc:102] CPU Frequency: 2599990000 Hz\n",
      "2023-06-10 16:52:12.463539: I tensorflow/compiler/xla/service/service.cc:168] XLA service 0x7f817c001040 initialized for platform Host (this does not guarantee that XLA will be used). Devices:\n",
      "2023-06-10 16:52:12.463551: I tensorflow/compiler/xla/service/service.cc:176]   StreamExecutor device (0): Host, Default Version\n",
      "2023-06-10 16:52:12.532610: I tensorflow/stream_executor/cuda/cuda_gpu_executor.cc:981] successful NUMA node read from SysFS had negative value (-1), but there must be at least one NUMA node, so returning NUMA node zero\n",
      "2023-06-10 16:52:12.533004: I tensorflow/compiler/xla/service/service.cc:168] XLA service 0x4244720 initialized for platform CUDA (this does not guarantee that XLA will be used). Devices:\n",
      "2023-06-10 16:52:12.533017: I tensorflow/compiler/xla/service/service.cc:176]   StreamExecutor device (0): NVIDIA GeForce RTX 2080 with Max-Q Design, Compute Capability 7.5\n",
      "2023-06-10 16:52:12.533151: I tensorflow/stream_executor/cuda/cuda_gpu_executor.cc:981] successful NUMA node read from SysFS had negative value (-1), but there must be at least one NUMA node, so returning NUMA node zero\n",
      "2023-06-10 16:52:12.533461: I tensorflow/core/common_runtime/gpu/gpu_device.cc:1561] Found device 0 with properties: \n",
      "pciBusID: 0000:01:00.0 name: NVIDIA GeForce RTX 2080 with Max-Q Design computeCapability: 7.5\n",
      "coreClock: 1.23GHz coreCount: 46 deviceMemorySize: 7.79GiB deviceMemoryBandwidth: 357.69GiB/s\n",
      "2023-06-10 16:52:12.533492: I tensorflow/stream_executor/platform/default/dso_loader.cc:44] Successfully opened dynamic library libcudart.so.10.1\n",
      "2023-06-10 16:52:12.533504: I tensorflow/stream_executor/platform/default/dso_loader.cc:44] Successfully opened dynamic library libcublas.so.10\n",
      "2023-06-10 16:52:12.533514: I tensorflow/stream_executor/platform/default/dso_loader.cc:44] Successfully opened dynamic library libcufft.so.10\n",
      "2023-06-10 16:52:12.533524: I tensorflow/stream_executor/platform/default/dso_loader.cc:44] Successfully opened dynamic library libcurand.so.10\n",
      "2023-06-10 16:52:12.533533: I tensorflow/stream_executor/platform/default/dso_loader.cc:44] Successfully opened dynamic library libcusolver.so.10\n",
      "2023-06-10 16:52:12.533543: I tensorflow/stream_executor/platform/default/dso_loader.cc:44] Successfully opened dynamic library libcusparse.so.10\n",
      "2023-06-10 16:52:12.533553: I tensorflow/stream_executor/platform/default/dso_loader.cc:44] Successfully opened dynamic library libcudnn.so.7\n",
      "2023-06-10 16:52:12.533603: I tensorflow/stream_executor/cuda/cuda_gpu_executor.cc:981] successful NUMA node read from SysFS had negative value (-1), but there must be at least one NUMA node, so returning NUMA node zero\n",
      "2023-06-10 16:52:12.533967: I tensorflow/stream_executor/cuda/cuda_gpu_executor.cc:981] successful NUMA node read from SysFS had negative value (-1), but there must be at least one NUMA node, so returning NUMA node zero\n",
      "2023-06-10 16:52:12.534259: I tensorflow/core/common_runtime/gpu/gpu_device.cc:1703] Adding visible gpu devices: 0\n",
      "2023-06-10 16:52:12.534288: I tensorflow/stream_executor/platform/default/dso_loader.cc:44] Successfully opened dynamic library libcudart.so.10.1\n",
      "2023-06-10 16:52:12.534695: I tensorflow/core/common_runtime/gpu/gpu_device.cc:1102] Device interconnect StreamExecutor with strength 1 edge matrix:\n",
      "2023-06-10 16:52:12.534704: I tensorflow/core/common_runtime/gpu/gpu_device.cc:1108]      0 \n",
      "2023-06-10 16:52:12.534709: I tensorflow/core/common_runtime/gpu/gpu_device.cc:1121] 0:   N \n",
      "2023-06-10 16:52:12.534794: I tensorflow/stream_executor/cuda/cuda_gpu_executor.cc:981] successful NUMA node read from SysFS had negative value (-1), but there must be at least one NUMA node, so returning NUMA node zero\n",
      "2023-06-10 16:52:12.535129: I tensorflow/stream_executor/cuda/cuda_gpu_executor.cc:981] successful NUMA node read from SysFS had negative value (-1), but there must be at least one NUMA node, so returning NUMA node zero\n",
      "2023-06-10 16:52:12.535441: I tensorflow/core/common_runtime/gpu/gpu_device.cc:1247] Created TensorFlow device (/job:localhost/replica:0/task:0/device:GPU:0 with 6953 MB memory) -> physical GPU (device: 0, name: NVIDIA GeForce RTX 2080 with Max-Q Design, pci bus id: 0000:01:00.0, compute capability: 7.5)\n"
     ]
    },
    {
     "name": "stdout",
     "output_type": "stream",
     "text": [
      "tf.Tensor(0.0, shape=(), dtype=float32) tf.Tensor(1.0, shape=(), dtype=float32)\n"
     ]
    }
   ],
   "source": [
    "images_in_batch = next(train_generator)[0]\n",
    "print(type(images_in_batch))\n",
    "print(len(images_in_batch))\n",
    "print(tf.reduce_min(images_in_batch), tf.reduce_max(images_in_batch))"
   ]
  },
  {
   "cell_type": "code",
   "execution_count": 10,
   "metadata": {},
   "outputs": [
    {
     "data": {
      "text/plain": [
       "<matplotlib.image.AxesImage at 0x7f8208092d00>"
      ]
     },
     "execution_count": 10,
     "metadata": {},
     "output_type": "execute_result"
    },
    {
     "data": {
      "image/png": "[encoded data removed]",
      "text/plain": [
       "<Figure size 640x480 with 1 Axes>"
      ]
     },
     "metadata": {},
     "output_type": "display_data"
    }
   ],
   "source": [
    "single_img = images_in_batch[0]\n",
    "plt.imshow(single_img)"
   ]
  },
  {
   "attachments": {},
   "cell_type": "markdown",
   "metadata": {},
   "source": [
    "# Configuring the Autoencoder netwrok"
   ]
  },
  {
   "cell_type": "code",
   "execution_count": 11,
   "metadata": {},
   "outputs": [
    {
     "name": "stdout",
     "output_type": "stream",
     "text": [
      "(None, 7, 7, 1)\n",
      "(None, 24)\n",
      "Model: \"model\"\n",
      "_________________________________________________________________\n",
      "Layer (type)                 Output Shape              Param #   \n",
      "=================================================================\n",
      "input_1 (InputLayer)         [(None, 224, 224, 3)]     0         \n",
      "_________________________________________________________________\n",
      "conv2d (Conv2D)              (None, 224, 224, 128)     3584      \n",
      "_________________________________________________________________\n",
      "max_pooling2d (MaxPooling2D) (None, 112, 112, 128)     0         \n",
      "_________________________________________________________________\n",
      "conv2d_1 (Conv2D)            (None, 112, 112, 64)      73792     \n",
      "_________________________________________________________________\n",
      "max_pooling2d_1 (MaxPooling2 (None, 56, 56, 64)        0         \n",
      "_________________________________________________________________\n",
      "conv2d_2 (Conv2D)            (None, 56, 56, 32)        18464     \n",
      "_________________________________________________________________\n",
      "max_pooling2d_2 (MaxPooling2 (None, 28, 28, 32)        0         \n",
      "_________________________________________________________________\n",
      "conv2d_3 (Conv2D)            (None, 28, 28, 16)        4624      \n",
      "_________________________________________________________________\n",
      "max_pooling2d_3 (MaxPooling2 (None, 14, 14, 16)        0         \n",
      "_________________________________________________________________\n",
      "conv2d_4 (Conv2D)            (None, 14, 14, 4)         580       \n",
      "_________________________________________________________________\n",
      "max_pooling2d_4 (MaxPooling2 (None, 7, 7, 4)           0         \n",
      "_________________________________________________________________\n",
      "conv2d_5 (Conv2D)            (None, 7, 7, 1)           37        \n",
      "_________________________________________________________________\n",
      "flatten (Flatten)            (None, 49)                0         \n",
      "_________________________________________________________________\n",
      "dense (Dense)                (None, 49)                2450      \n",
      "_________________________________________________________________\n",
      "dense_1 (Dense)              (None, 24)                1200      \n",
      "=================================================================\n",
      "Total params: 104,731\n",
      "Trainable params: 104,731\n",
      "Non-trainable params: 0\n",
      "_________________________________________________________________\n"
     ]
    }
   ],
   "source": [
    "latent_dim = 24  # Number of latent dimension parameters\n",
    "\n",
    "input_img = Input(shape=(SIZE, SIZE, 3))\n",
    "x = Conv2D(128, (3, 3), activation='relu', padding='same') (input_img)\n",
    "x = MaxPooling2D((2, 2), padding='same')(x)\n",
    "x = Conv2D(64, (3, 3), activation='relu', padding='same')(x)\n",
    "x = MaxPooling2D((2, 2), padding='same')(x)\n",
    "x = Conv2D(32, (3, 3), activation='relu', padding='same')(x)\n",
    "x = MaxPool2D( (2, 2), padding='same')(x)\n",
    "x = Conv2D(16, (3, 3), activation='relu', padding='same')(x)\n",
    "x = MaxPool2D( (2, 2), padding='same')(x)\n",
    "\n",
    "x = Conv2D(4, (3, 3), activation='relu', padding='same')(x)\n",
    "x = MaxPool2D( (2, 2), padding='same')(x)\n",
    "x = Conv2D(1, (3, 3), activation='relu', padding='same')(x)\n",
    "\n",
    "shape_before_flattening = K.int_shape(x)\n",
    "print(shape_before_flattening)\n",
    "x = Flatten()(x)\n",
    "x = Dense(49, activation='relu')(x)\n",
    "\n",
    "Z = Dense(latent_dim)(x)\n",
    "print(K.int_shape(Z))\n",
    "\n",
    "encoder = Model(input_img,Z)\n",
    "encoder.summary()"
   ]
  },
  {
   "cell_type": "code",
   "execution_count": 12,
   "metadata": {},
   "outputs": [
    {
     "name": "stdout",
     "output_type": "stream",
     "text": [
      "Model: \"model_1\"\n",
      "_________________________________________________________________\n",
      "Layer (type)                 Output Shape              Param #   \n",
      "=================================================================\n",
      "input_2 (InputLayer)         [(None, 24)]              0         \n",
      "_________________________________________________________________\n",
      "intermediate_decoder (Dense) (None, 784)               19600     \n",
      "_________________________________________________________________\n",
      "original_decoder (Dense)     (None, 784)               615440    \n",
      "_________________________________________________________________\n",
      "reshape (Reshape)            (None, 14, 14, 4)         0         \n",
      "_________________________________________________________________\n",
      "conv2d_transpose (Conv2DTran (None, 14, 14, 3)         111       \n",
      "_________________________________________________________________\n",
      "up_sampling2d (UpSampling2D) (None, 28, 28, 3)         0         \n",
      "_________________________________________________________________\n",
      "conv2d_transpose_1 (Conv2DTr (None, 28, 28, 3)         84        \n",
      "_________________________________________________________________\n",
      "up_sampling2d_1 (UpSampling2 (None, 56, 56, 3)         0         \n",
      "_________________________________________________________________\n",
      "conv2d_transpose_2 (Conv2DTr (None, 56, 56, 3)         84        \n",
      "_________________________________________________________________\n",
      "up_sampling2d_2 (UpSampling2 (None, 112, 112, 3)       0         \n",
      "_________________________________________________________________\n",
      "conv2d_transpose_3 (Conv2DTr (None, 112, 112, 3)       84        \n",
      "_________________________________________________________________\n",
      "up_sampling2d_3 (UpSampling2 (None, 224, 224, 3)       0         \n",
      "=================================================================\n",
      "Total params: 635,403\n",
      "Trainable params: 635,403\n",
      "Non-trainable params: 0\n",
      "_________________________________________________________________\n"
     ]
    }
   ],
   "source": [
    "# decoder takes the latent distribution sample as input\n",
    "decoder_input = Input(K.int_shape(Z)[1:])\n",
    "x = Dense(14*14*4, activation='relu', name=\"intermediate_decoder\", input_shape=(latent_dim,))(decoder_input)\n",
    "# Expand to 784 total pixels\n",
    "x = Dense(784, activation='sigmoid', name=\"original_decoder\")(x)\n",
    "x = Reshape((14,14,4),input_shape=(784,))(x)\n",
    "\n",
    "x = Conv2DTranspose(3, (3, 3), padding='same')(x)\n",
    "x = UpSampling2D( (2, 2))(x)\n",
    "x = Conv2DTranspose(3, (3, 3), padding='same')(x)\n",
    "x = UpSampling2D( (2, 2))(x)\n",
    "x = Conv2DTranspose(3, (3, 3), padding='same')(x)\n",
    "x = UpSampling2D( (2, 2))(x)\n",
    "x = Conv2DTranspose(3, (3, 3), padding='same')(x)\n",
    "x = UpSampling2D( (2, 2))(x)\n",
    "\n",
    "\n",
    "# decoder model statement\n",
    "decoder = Model(decoder_input, x)\n",
    "\n",
    "# apply the decoder to the sample from the latent distribution\n",
    "z_decoded = decoder(Z)\n",
    "\n",
    "decoder.summary()"
   ]
  },
  {
   "cell_type": "code",
   "execution_count": 13,
   "metadata": {},
   "outputs": [
    {
     "name": "stdout",
     "output_type": "stream",
     "text": [
      "Model: \"model_2\"\n",
      "_________________________________________________________________\n",
      "Layer (type)                 Output Shape              Param #   \n",
      "=================================================================\n",
      "input_1 (InputLayer)         [(None, 224, 224, 3)]     0         \n",
      "_________________________________________________________________\n",
      "conv2d (Conv2D)              (None, 224, 224, 128)     3584      \n",
      "_________________________________________________________________\n",
      "max_pooling2d (MaxPooling2D) (None, 112, 112, 128)     0         \n",
      "_________________________________________________________________\n",
      "conv2d_1 (Conv2D)            (None, 112, 112, 64)      73792     \n",
      "_________________________________________________________________\n",
      "max_pooling2d_1 (MaxPooling2 (None, 56, 56, 64)        0         \n",
      "_________________________________________________________________\n",
      "conv2d_2 (Conv2D)            (None, 56, 56, 32)        18464     \n",
      "_________________________________________________________________\n",
      "max_pooling2d_2 (MaxPooling2 (None, 28, 28, 32)        0         \n",
      "_________________________________________________________________\n",
      "conv2d_3 (Conv2D)            (None, 28, 28, 16)        4624      \n",
      "_________________________________________________________________\n",
      "max_pooling2d_3 (MaxPooling2 (None, 14, 14, 16)        0         \n",
      "_________________________________________________________________\n",
      "conv2d_4 (Conv2D)            (None, 14, 14, 4)         580       \n",
      "_________________________________________________________________\n",
      "max_pooling2d_4 (MaxPooling2 (None, 7, 7, 4)           0         \n",
      "_________________________________________________________________\n",
      "conv2d_5 (Conv2D)            (None, 7, 7, 1)           37        \n",
      "_________________________________________________________________\n",
      "flatten (Flatten)            (None, 49)                0         \n",
      "_________________________________________________________________\n",
      "dense (Dense)                (None, 49)                2450      \n",
      "_________________________________________________________________\n",
      "dense_1 (Dense)              (None, 24)                1200      \n",
      "_________________________________________________________________\n",
      "model_1 (Model)              (None, 224, 224, 3)       635403    \n",
      "=================================================================\n",
      "Total params: 740,134\n",
      "Trainable params: 740,134\n",
      "Non-trainable params: 0\n",
      "_________________________________________________________________\n"
     ]
    }
   ],
   "source": [
    "# VAE model statement\n",
    "ae = Model(input_img,z_decoded)\n",
    "ae.compile(optimizer='adam', loss='mean_squared_error')\n",
    "\n",
    "ae.summary()"
   ]
  },
  {
   "attachments": {},
   "cell_type": "markdown",
   "metadata": {},
   "source": [
    "These are the weights of a specific layer of the encoder model, before training are:"
   ]
  },
  {
   "cell_type": "code",
   "execution_count": 14,
   "metadata": {},
   "outputs": [
    {
     "name": "stdout",
     "output_type": "stream",
     "text": [
      "quantity of layers in the model:  15\n",
      "The weigths in the conv2d is:  [<tf.Variable 'conv2d/kernel:0' shape=(3, 3, 3, 128) dtype=float32, numpy=\n",
      "array([[[[ 0.06901142, -0.03655398, -0.04543285, ..., -0.01330999,\n",
      "          -0.05845601,  0.02424432],\n",
      "         [ 0.01006145, -0.04351597,  0.03533997, ..., -0.01143959,\n",
      "          -0.05150453, -0.01097959],\n",
      "         [ 0.00067984, -0.0670474 ,  0.04670899, ..., -0.04317734,\n",
      "          -0.02967387, -0.06577711]],\n",
      "\n",
      "        [[ 0.06423564, -0.01281948,  0.02186076, ...,  0.03965915,\n",
      "          -0.04654644, -0.02625135],\n",
      "         [ 0.01458634, -0.02553102, -0.02019916, ..., -0.01834491,\n",
      "          -0.07038596, -0.00244235],\n",
      "         [ 0.01411951,  0.00974409, -0.01864441, ..., -0.02156108,\n",
      "           0.04225875,  0.00388213]],\n",
      "\n",
      "        [[-0.05801728, -0.05286673,  0.00558851, ...,  0.03087726,\n",
      "           0.06404078,  0.06149139],\n",
      "         [-0.04081088,  0.02757003,  0.00101133, ...,  0.00557492,\n",
      "          -0.00842541, -0.04108029],\n",
      "         [-0.03424295, -0.0173733 , -0.05212713, ..., -0.00327711,\n",
      "          -0.05535051,  0.01087895]]],\n",
      "\n",
      "\n",
      "       [[[-0.03362387,  0.03018027,  0.0654166 , ...,  0.07115817,\n",
      "           0.03426088, -0.03150686],\n",
      "         [ 0.06318398,  0.01204645,  0.02888477, ..., -0.04713447,\n",
      "           0.03925852, -0.01970724],\n",
      "         [ 0.02289085, -0.00970127,  0.04843117, ...,  0.04386637,\n",
      "           0.0631731 , -0.06367392]],\n",
      "\n",
      "        [[-0.01490403, -0.0249746 , -0.00032926, ...,  0.01600994,\n",
      "           0.02400149, -0.02010724],\n",
      "         [ 0.06893778,  0.03778247, -0.05126736, ...,  0.06687975,\n",
      "           0.01056187, -0.01540984],\n",
      "         [ 0.00802696, -0.06682041, -0.06887213, ...,  0.00776323,\n",
      "           0.06000923,  0.00113399]],\n",
      "\n",
      "        [[-0.0151332 ,  0.0394234 , -0.02720106, ...,  0.01305255,\n",
      "          -0.03465872, -0.00051559],\n",
      "         [ 0.05726449,  0.00642376, -0.02786678, ...,  0.05359628,\n",
      "           0.06644194,  0.03991763],\n",
      "         [ 0.06018551, -0.04219516,  0.02390487, ..., -0.06241659,\n",
      "           0.01454706,  0.0291677 ]]],\n",
      "\n",
      "\n",
      "       [[[ 0.01252761, -0.00225211, -0.02630631, ...,  0.01520838,\n",
      "          -0.04267478,  0.03961693],\n",
      "         [ 0.0066547 ,  0.06369117, -0.02004313, ...,  0.03823175,\n",
      "           0.02101503,  0.02554499],\n",
      "         [ 0.01730461,  0.06127621, -0.00018879, ...,  0.00239321,\n",
      "           0.0547998 ,  0.00322996]],\n",
      "\n",
      "        [[-0.05580427, -0.04197617, -0.01983691, ...,  0.03951603,\n",
      "           0.06335914,  0.05408515],\n",
      "         [ 0.03219651,  0.00849445,  0.05075465, ..., -0.04182603,\n",
      "           0.00693285, -0.00048476],\n",
      "         [ 0.0548978 ,  0.02781322,  0.02970297, ..., -0.04321105,\n",
      "          -0.05536946, -0.03449923]],\n",
      "\n",
      "        [[-0.03840828,  0.03944583, -0.02901771, ..., -0.00307354,\n",
      "           0.06807521,  0.03992943],\n",
      "         [-0.00713075,  0.05774736, -0.00397887, ...,  0.03010943,\n",
      "           0.04294385,  0.06534021],\n",
      "         [ 0.06315513,  0.04949756,  0.02257035, ..., -0.00946863,\n",
      "           0.05010194,  0.00520515]]]], dtype=float32)>, <tf.Variable 'conv2d/bias:0' shape=(128,) dtype=float32, numpy=\n",
      "array([0., 0., 0., 0., 0., 0., 0., 0., 0., 0., 0., 0., 0., 0., 0., 0., 0.,\n",
      "       0., 0., 0., 0., 0., 0., 0., 0., 0., 0., 0., 0., 0., 0., 0., 0., 0.,\n",
      "       0., 0., 0., 0., 0., 0., 0., 0., 0., 0., 0., 0., 0., 0., 0., 0., 0.,\n",
      "       0., 0., 0., 0., 0., 0., 0., 0., 0., 0., 0., 0., 0., 0., 0., 0., 0.,\n",
      "       0., 0., 0., 0., 0., 0., 0., 0., 0., 0., 0., 0., 0., 0., 0., 0., 0.,\n",
      "       0., 0., 0., 0., 0., 0., 0., 0., 0., 0., 0., 0., 0., 0., 0., 0., 0.,\n",
      "       0., 0., 0., 0., 0., 0., 0., 0., 0., 0., 0., 0., 0., 0., 0., 0., 0.,\n",
      "       0., 0., 0., 0., 0., 0., 0., 0., 0.], dtype=float32)>]\n"
     ]
    }
   ],
   "source": [
    "layer_number = 1\n",
    "print(\"quantity of layers in the model: \", len(encoder.layers))\n",
    "print(\"The weigths in the\", encoder.layers[layer_number].name, \"is: \", encoder.layers[layer_number].weights)"
   ]
  },
  {
   "attachments": {},
   "cell_type": "markdown",
   "metadata": {},
   "source": [
    "These are the weights of a specific layer of the decoder model,before training are:"
   ]
  },
  {
   "cell_type": "code",
   "execution_count": 15,
   "metadata": {},
   "outputs": [],
   "source": [
    "# layer_number = 1\n",
    "# print(\"quantity of layers in the model: \", len(decoder.layers))\n",
    "# print(\"The weigths in the\", decoder.layers[layer_number].name, \"is: \", decoder.layers[layer_number].weights)"
   ]
  },
  {
   "attachments": {},
   "cell_type": "markdown",
   "metadata": {},
   "source": [
    "These are the weights of a specific layer of the autoencoder model,before training are:"
   ]
  },
  {
   "cell_type": "code",
   "execution_count": 16,
   "metadata": {},
   "outputs": [],
   "source": [
    "# layer_number = 1\n",
    "# print(\"quantity of layers in the model: \", len(ae.layers))\n",
    "# print(\"The weigths in the\", ae.layers[layer_number].name, \"is: \", ae.layers[layer_number].weights)"
   ]
  },
  {
   "cell_type": "code",
   "execution_count": 17,
   "metadata": {},
   "outputs": [],
   "source": [
    "# # from tensorflow.keras.callbacks import EarlyStopping\n",
    "# # # run the model\n",
    "# # early_stopping = EarlyStopping(monitor='val_loss', min_delta=0, patience=20, verbose=5, mode='auto')\n",
    "# history = ae.fit(train_generator, epochs=200, validation_data=validation_generator, verbose=1, shuffle = True)"
   ]
  },
  {
   "cell_type": "code",
   "execution_count": 18,
   "metadata": {},
   "outputs": [],
   "source": [
    "\n",
    "# # Get the training and validation loss values from the history object\n",
    "# train_loss = history.history['loss']\n",
    "# val_loss = history.history['val_loss']\n",
    "\n",
    "# # Plot the training and validation loss\n",
    "# epochs = range(1, len(train_loss) + 1)\n",
    "# plt.plot(epochs, train_loss, 'b-', label='Training Loss')\n",
    "# plt.plot(epochs, val_loss, 'r-', label='Validation Loss')\n",
    "# plt.title('Training and Validation Loss')\n",
    "# plt.xlabel('Epochs')\n",
    "# plt.ylabel('Loss')\n",
    "# plt.legend()\n",
    "# plt.show()\n"
   ]
  },
  {
   "cell_type": "code",
   "execution_count": 19,
   "metadata": {},
   "outputs": [
    {
     "name": "stdout",
     "output_type": "stream",
     "text": [
      "ResemblingGoodAutoModel3\n"
     ]
    }
   ],
   "source": [
    "model_version = 'ResemblingGoodAutoModel3'\n",
    "print(model_version)"
   ]
  },
  {
   "cell_type": "code",
   "execution_count": 20,
   "metadata": {},
   "outputs": [],
   "source": [
    "# ae.save(f\"../../BottlesAnomalies_TFM/models/{model_version}\")"
   ]
  },
  {
   "cell_type": "code",
   "execution_count": 21,
   "metadata": {},
   "outputs": [
    {
     "name": "stdout",
     "output_type": "stream",
     "text": [
      "<class 'tensorflow.python.keras.engine.training.Model'>\n"
     ]
    }
   ],
   "source": [
    "print(type(ae))"
   ]
  },
  {
   "attachments": {},
   "cell_type": "markdown",
   "metadata": {},
   "source": [
    "Loading the model that was previously saved\n"
   ]
  },
  {
   "cell_type": "code",
   "execution_count": 22,
   "metadata": {},
   "outputs": [
    {
     "name": "stdout",
     "output_type": "stream",
     "text": [
      "<class 'tensorflow.python.keras.engine.training.Model'>\n"
     ]
    }
   ],
   "source": [
    "model = keras.models.load_model('../models/ResemblingGoodAutoModel3')\n",
    "print(type(model))"
   ]
  },
  {
   "attachments": {},
   "cell_type": "markdown",
   "metadata": {},
   "source": [
    "## See the weights after the model loading"
   ]
  },
  {
   "attachments": {},
   "cell_type": "markdown",
   "metadata": {},
   "source": [
    "These are the weights of a specific layer of the encoder model, AFTER training:"
   ]
  },
  {
   "cell_type": "code",
   "execution_count": 23,
   "metadata": {},
   "outputs": [
    {
     "name": "stdout",
     "output_type": "stream",
     "text": [
      "quantity of layers in the model:  15\n",
      "The weigths in the conv2d is:  [<tf.Variable 'conv2d/kernel:0' shape=(3, 3, 3, 128) dtype=float32, numpy=\n",
      "array([[[[ 0.06901142, -0.03655398, -0.04543285, ..., -0.01330999,\n",
      "          -0.05845601,  0.02424432],\n",
      "         [ 0.01006145, -0.04351597,  0.03533997, ..., -0.01143959,\n",
      "          -0.05150453, -0.01097959],\n",
      "         [ 0.00067984, -0.0670474 ,  0.04670899, ..., -0.04317734,\n",
      "          -0.02967387, -0.06577711]],\n",
      "\n",
      "        [[ 0.06423564, -0.01281948,  0.02186076, ...,  0.03965915,\n",
      "          -0.04654644, -0.02625135],\n",
      "         [ 0.01458634, -0.02553102, -0.02019916, ..., -0.01834491,\n",
      "          -0.07038596, -0.00244235],\n",
      "         [ 0.01411951,  0.00974409, -0.01864441, ..., -0.02156108,\n",
      "           0.04225875,  0.00388213]],\n",
      "\n",
      "        [[-0.05801728, -0.05286673,  0.00558851, ...,  0.03087726,\n",
      "           0.06404078,  0.06149139],\n",
      "         [-0.04081088,  0.02757003,  0.00101133, ...,  0.00557492,\n",
      "          -0.00842541, -0.04108029],\n",
      "         [-0.03424295, -0.0173733 , -0.05212713, ..., -0.00327711,\n",
      "          -0.05535051,  0.01087895]]],\n",
      "\n",
      "\n",
      "       [[[-0.03362387,  0.03018027,  0.0654166 , ...,  0.07115817,\n",
      "           0.03426088, -0.03150686],\n",
      "         [ 0.06318398,  0.01204645,  0.02888477, ..., -0.04713447,\n",
      "           0.03925852, -0.01970724],\n",
      "         [ 0.02289085, -0.00970127,  0.04843117, ...,  0.04386637,\n",
      "           0.0631731 , -0.06367392]],\n",
      "\n",
      "        [[-0.01490403, -0.0249746 , -0.00032926, ...,  0.01600994,\n",
      "           0.02400149, -0.02010724],\n",
      "         [ 0.06893778,  0.03778247, -0.05126736, ...,  0.06687975,\n",
      "           0.01056187, -0.01540984],\n",
      "         [ 0.00802696, -0.06682041, -0.06887213, ...,  0.00776323,\n",
      "           0.06000923,  0.00113399]],\n",
      "\n",
      "        [[-0.0151332 ,  0.0394234 , -0.02720106, ...,  0.01305255,\n",
      "          -0.03465872, -0.00051559],\n",
      "         [ 0.05726449,  0.00642376, -0.02786678, ...,  0.05359628,\n",
      "           0.06644194,  0.03991763],\n",
      "         [ 0.06018551, -0.04219516,  0.02390487, ..., -0.06241659,\n",
      "           0.01454706,  0.0291677 ]]],\n",
      "\n",
      "\n",
      "       [[[ 0.01252761, -0.00225211, -0.02630631, ...,  0.01520838,\n",
      "          -0.04267478,  0.03961693],\n",
      "         [ 0.0066547 ,  0.06369117, -0.02004313, ...,  0.03823175,\n",
      "           0.02101503,  0.02554499],\n",
      "         [ 0.01730461,  0.06127621, -0.00018879, ...,  0.00239321,\n",
      "           0.0547998 ,  0.00322996]],\n",
      "\n",
      "        [[-0.05580427, -0.04197617, -0.01983691, ...,  0.03951603,\n",
      "           0.06335914,  0.05408515],\n",
      "         [ 0.03219651,  0.00849445,  0.05075465, ..., -0.04182603,\n",
      "           0.00693285, -0.00048476],\n",
      "         [ 0.0548978 ,  0.02781322,  0.02970297, ..., -0.04321105,\n",
      "          -0.05536946, -0.03449923]],\n",
      "\n",
      "        [[-0.03840828,  0.03944583, -0.02901771, ..., -0.00307354,\n",
      "           0.06807521,  0.03992943],\n",
      "         [-0.00713075,  0.05774736, -0.00397887, ...,  0.03010943,\n",
      "           0.04294385,  0.06534021],\n",
      "         [ 0.06315513,  0.04949756,  0.02257035, ..., -0.00946863,\n",
      "           0.05010194,  0.00520515]]]], dtype=float32)>, <tf.Variable 'conv2d/bias:0' shape=(128,) dtype=float32, numpy=\n",
      "array([0., 0., 0., 0., 0., 0., 0., 0., 0., 0., 0., 0., 0., 0., 0., 0., 0.,\n",
      "       0., 0., 0., 0., 0., 0., 0., 0., 0., 0., 0., 0., 0., 0., 0., 0., 0.,\n",
      "       0., 0., 0., 0., 0., 0., 0., 0., 0., 0., 0., 0., 0., 0., 0., 0., 0.,\n",
      "       0., 0., 0., 0., 0., 0., 0., 0., 0., 0., 0., 0., 0., 0., 0., 0., 0.,\n",
      "       0., 0., 0., 0., 0., 0., 0., 0., 0., 0., 0., 0., 0., 0., 0., 0., 0.,\n",
      "       0., 0., 0., 0., 0., 0., 0., 0., 0., 0., 0., 0., 0., 0., 0., 0., 0.,\n",
      "       0., 0., 0., 0., 0., 0., 0., 0., 0., 0., 0., 0., 0., 0., 0., 0., 0.,\n",
      "       0., 0., 0., 0., 0., 0., 0., 0., 0.], dtype=float32)>]\n"
     ]
    }
   ],
   "source": [
    "layer_number = 1\n",
    "print(\"quantity of layers in the model: \", len(encoder.layers))\n",
    "print(\"The weigths in the\", encoder.layers[layer_number].name, \"is: \", encoder.layers[layer_number].weights)"
   ]
  },
  {
   "attachments": {},
   "cell_type": "markdown",
   "metadata": {},
   "source": [
    "These are the weights of a specific layer of the Autoencoder model, AFTER training:"
   ]
  },
  {
   "cell_type": "code",
   "execution_count": 24,
   "metadata": {},
   "outputs": [
    {
     "name": "stdout",
     "output_type": "stream",
     "text": [
      "quantity of layers in the model:  16\n",
      "The weigths in the conv2d is:  [<tf.Variable 'conv2d/kernel:0' shape=(3, 3, 3, 128) dtype=float32, numpy=\n",
      "array([[[[-7.13293394e-03,  8.24042559e-02,  3.44389230e-02, ...,\n",
      "          -7.36624226e-02, -2.44387183e-02,  5.29763252e-02],\n",
      "         [-2.88722049e-02,  4.07046154e-02,  4.88731936e-02, ...,\n",
      "          -3.91994156e-02,  5.30144311e-02,  1.14909723e-01],\n",
      "         [ 3.28725725e-02,  2.81612333e-02, -1.73458946e-03, ...,\n",
      "           2.94835474e-02, -5.42051904e-02,  1.39015242e-01]],\n",
      "\n",
      "        [[ 9.32509452e-03, -7.70046099e-05, -4.32104655e-02, ...,\n",
      "          -5.05559109e-02, -2.28999127e-02, -6.65137023e-02],\n",
      "         [ 5.03277741e-02,  1.43351909e-02,  6.64972216e-02, ...,\n",
      "          -1.18463971e-02,  6.59165233e-02, -9.59516466e-02],\n",
      "         [ 6.68021291e-02, -4.90201786e-02, -9.02428478e-03, ...,\n",
      "           2.56796069e-02, -1.26518635e-02, -4.64316867e-02]],\n",
      "\n",
      "        [[ 4.60277572e-02, -4.33564670e-02,  6.02726676e-02, ...,\n",
      "          -7.09941834e-02, -7.03624189e-02, -3.62108834e-02],\n",
      "         [-1.86967831e-02, -8.67077895e-03,  7.35027567e-02, ...,\n",
      "          -5.47120236e-02,  2.50150785e-02, -9.41778496e-02],\n",
      "         [ 9.86156985e-03, -5.61495535e-02,  6.61393180e-02, ...,\n",
      "          -6.84766620e-02,  7.42461579e-03, -4.95082773e-02]]],\n",
      "\n",
      "\n",
      "       [[[ 7.56476298e-02,  4.94369306e-02,  2.97200941e-02, ...,\n",
      "           8.46016034e-03, -6.71137497e-02,  2.04765936e-03],\n",
      "         [-3.99516001e-02,  6.25798479e-02,  1.92104019e-02, ...,\n",
      "           4.24370095e-02,  6.14796206e-02,  1.21187500e-03],\n",
      "         [-4.91419062e-02,  8.55755284e-02,  1.70259364e-02, ...,\n",
      "           2.45045386e-02, -3.01579777e-02,  9.15016513e-03]],\n",
      "\n",
      "        [[-4.21861606e-03,  3.61049344e-04,  2.28154603e-02, ...,\n",
      "          -4.77107540e-02, -5.86876795e-02, -1.51673012e-05],\n",
      "         [ 4.41425554e-02,  4.45062481e-02,  4.36283648e-02, ...,\n",
      "          -5.87679148e-02,  4.53353040e-02, -2.55613029e-02],\n",
      "         [-2.07804367e-02, -5.69503345e-02,  2.29550768e-02, ...,\n",
      "           1.51116000e-02, -9.09073278e-03, -5.85453166e-03]],\n",
      "\n",
      "        [[ 2.20912918e-02, -5.79697154e-02,  3.55515555e-02, ...,\n",
      "          -2.30509676e-02, -5.79516590e-02,  6.05065338e-02],\n",
      "         [ 5.38332807e-03,  5.11271367e-03,  8.87509342e-03, ...,\n",
      "          -7.19475327e-03, -4.10761200e-02, -3.15868333e-02],\n",
      "         [ 1.44702457e-02,  1.02060623e-02,  8.27459246e-02, ...,\n",
      "          -1.76658407e-02,  6.18781075e-02, -5.01609966e-02]]],\n",
      "\n",
      "\n",
      "       [[[-2.30360236e-02, -6.39670566e-02,  5.33712208e-02, ...,\n",
      "          -2.74750292e-02, -6.56079799e-02,  4.00001071e-02],\n",
      "         [-4.70096730e-02,  4.06123511e-02, -6.53242460e-03, ...,\n",
      "           5.73723428e-02, -1.58589818e-02,  1.01724237e-01],\n",
      "         [-3.94196697e-02, -6.36119246e-02,  7.88465440e-02, ...,\n",
      "          -4.36863210e-03,  5.64813167e-02,  3.50236165e-04]],\n",
      "\n",
      "        [[ 1.23682013e-02, -2.49672197e-02, -1.04311313e-02, ...,\n",
      "           3.03015020e-02, -6.15125187e-02, -9.30471048e-02],\n",
      "         [ 7.24016353e-02,  2.80200578e-02, -4.16186042e-02, ...,\n",
      "          -9.40635707e-03,  3.30285542e-02, -6.63073435e-02],\n",
      "         [-2.26939041e-02,  3.74908783e-02, -3.50451134e-02, ...,\n",
      "          -3.28800008e-02, -5.18882833e-03,  1.80034991e-02]],\n",
      "\n",
      "        [[ 4.22995612e-02, -3.05461064e-02, -2.49437634e-02, ...,\n",
      "          -5.86192198e-02, -3.24061215e-02, -6.01996742e-02],\n",
      "         [ 3.17324325e-02, -8.50930661e-02, -3.39183919e-02, ...,\n",
      "          -4.02880162e-02,  8.86576157e-03, -7.84509107e-02],\n",
      "         [ 4.51418012e-02, -5.13663553e-02,  3.84882353e-02, ...,\n",
      "           3.86592187e-02, -2.23522391e-02, -7.04700919e-03]]]],\n",
      "      dtype=float32)>, <tf.Variable 'conv2d/bias:0' shape=(128,) dtype=float32, numpy=\n",
      "array([-0.03514813, -0.03395956, -0.02926457, -0.03941231,  0.05443471,\n",
      "       -0.03712423, -0.05167599, -0.0001114 , -0.02079171, -0.03237516,\n",
      "        0.        , -0.00589837, -0.03630771,  0.01945089, -0.03150274,\n",
      "        0.01541098, -0.00934156,  0.04223122,  0.03030738,  0.02049579,\n",
      "        0.04433791, -0.00122877, -0.03204841, -0.00506725, -0.03392863,\n",
      "       -0.04656928, -0.0365811 , -0.04294257, -0.01040596, -0.03635534,\n",
      "       -0.01015109,  0.05225704, -0.01881096,  0.04670848, -0.0305955 ,\n",
      "       -0.03192326,  0.0352348 , -0.00560245,  0.03280229,  0.02511181,\n",
      "       -0.04419622,  0.04950716, -0.03611641, -0.02021694,  0.03499545,\n",
      "       -0.00667692, -0.03265031, -0.03491537, -0.04759534, -0.03396546,\n",
      "       -0.03558988,  0.02151007, -0.04542259, -0.06127853, -0.0446135 ,\n",
      "       -0.05872855, -0.01030309, -0.01508856,  0.0094272 ,  0.03420779,\n",
      "        0.05039342, -0.04347216, -0.00314728, -0.02612354, -0.00905721,\n",
      "        0.01901743,  0.01667898, -0.03663877, -0.03621953, -0.0032679 ,\n",
      "       -0.03781197, -0.041204  , -0.04022231, -0.06118327,  0.01338189,\n",
      "        0.02587967, -0.03927169, -0.09209546,  0.03605005, -0.04965452,\n",
      "        0.01024661,  0.00754139, -0.02136224, -0.03486742, -0.03910691,\n",
      "       -0.07601275,  0.04394168,  0.01517179, -0.00087061, -0.04170923,\n",
      "       -0.04367737,  0.02364443,  0.00072144, -0.03930306,  0.04355009,\n",
      "       -0.00495164,  0.04225701, -0.02375079, -0.03599495, -0.03355114,\n",
      "       -0.03768747, -0.03401538, -0.03838973, -0.00404677,  0.008593  ,\n",
      "       -0.06259929,  0.09397105, -0.03356353, -0.03326878, -0.0353874 ,\n",
      "       -0.00098899, -0.00462847, -0.00592353,  0.        ,  0.01603865,\n",
      "        0.04580308, -0.0336414 , -0.01404539, -0.01549369, -0.00416701,\n",
      "        0.04754104, -0.0404469 , -0.04591596, -0.01558015, -0.02387079,\n",
      "       -0.00990504, -0.00074804,  0.03919921], dtype=float32)>]\n"
     ]
    }
   ],
   "source": [
    "layer_number = 1\n",
    "print(\"quantity of layers in the model: \", len(model.layers))\n",
    "print(\"The weigths in the\", model.layers[layer_number].name, \"is: \", model.layers[layer_number].weights)"
   ]
  },
  {
   "attachments": {},
   "cell_type": "markdown",
   "metadata": {},
   "source": [
    "Indeed the weights of the \"Autoencoder\" model have been updated but the ones from the \"Encoder\" have not. This is expected, since the model that was trained was actually the \"Autoencoder\" mdoel."
   ]
  },
  {
   "attachments": {},
   "cell_type": "markdown",
   "metadata": {},
   "source": [
    "## Perform an Autoencoder reconstruction in one image"
   ]
  },
  {
   "attachments": {},
   "cell_type": "markdown",
   "metadata": {},
   "source": [
    "Get all batches generated by the datagen and pick a batch for prediction"
   ]
  },
  {
   "cell_type": "code",
   "execution_count": 25,
   "metadata": {},
   "outputs": [
    {
     "name": "stdout",
     "output_type": "stream",
     "text": [
      "number of batches are:  12\n"
     ]
    }
   ],
   "source": [
    "#Just to test the model. \n",
    "data_batch = []  #Capture all training batches as a numpy array\n",
    "img_num = 0\n",
    "# while img_num <= train_generator.batch_index:   #gets each generated batch of size batch_size\n",
    "while img_num < len(train_generator):        #I think this should be the correct while clause\n",
    "    data = train_generator.next()\n",
    "    data_batch.append(data[0])\n",
    "    img_num = img_num + 1\n",
    "    \n",
    "print(\"number of batches are: \", img_num)\n"
   ]
  },
  {
   "cell_type": "code",
   "execution_count": 26,
   "metadata": {},
   "outputs": [
    {
     "name": "stdout",
     "output_type": "stream",
     "text": [
      "12\n"
     ]
    }
   ],
   "source": [
    "print(len(data_batch))"
   ]
  },
  {
   "attachments": {},
   "cell_type": "markdown",
   "metadata": {},
   "source": [
    "Predict on the first batch of images. Do also notice that the prediction is being carried out over the images we used for training."
   ]
  },
  {
   "cell_type": "code",
   "execution_count": 27,
   "metadata": {},
   "outputs": [
    {
     "name": "stdout",
     "output_type": "stream",
     "text": [
      "(15, 224, 224, 3)\n"
     ]
    },
    {
     "name": "stderr",
     "output_type": "stream",
     "text": [
      "2023-06-10 16:52:16.170844: I tensorflow/stream_executor/platform/default/dso_loader.cc:44] Successfully opened dynamic library libcublas.so.10\n",
      "2023-06-10 16:52:16.429173: I tensorflow/stream_executor/platform/default/dso_loader.cc:44] Successfully opened dynamic library libcudnn.so.7\n"
     ]
    },
    {
     "name": "stdout",
     "output_type": "stream",
     "text": [
      "(15, 224, 224, 3)\n"
     ]
    }
   ],
   "source": [
    "print(data_batch[0].shape)\n",
    "predicted = model.predict(data_batch[0])  \n",
    "print(predicted.shape)"
   ]
  },
  {
   "attachments": {},
   "cell_type": "markdown",
   "metadata": {},
   "source": [
    "The above is 15 length because it corresponds to the 15 predicted images of a batch. Recall that the predictions are reconstructions of the input images, since we are working with the autoencoder network."
   ]
  },
  {
   "cell_type": "code",
   "execution_count": 28,
   "metadata": {},
   "outputs": [],
   "source": [
    "single_img = data_batch[0][0]"
   ]
  },
  {
   "cell_type": "code",
   "execution_count": 29,
   "metadata": {},
   "outputs": [
    {
     "name": "stdout",
     "output_type": "stream",
     "text": [
      "(224, 224, 3)\n"
     ]
    }
   ],
   "source": [
    "print(single_img.shape)"
   ]
  },
  {
   "cell_type": "code",
   "execution_count": 30,
   "metadata": {},
   "outputs": [
    {
     "name": "stderr",
     "output_type": "stream",
     "text": [
      "Clipping input data to the valid range for imshow with RGB data ([0..1] for floats or [0..255] for integers).\n"
     ]
    },
    {
     "data": {
      "image/png": "[encoded data removed]",
      "text/plain": [
       "<Figure size 1200x600 with 2 Axes>"
      ]
     },
     "metadata": {},
     "output_type": "display_data"
    }
   ],
   "source": [
    "#Sanity check, view few images and corresponding reconstructions\n",
    "image_number = random.randint(0, predicted.shape[0]-1)\n",
    "plt.figure(figsize=(12, 6))\n",
    "plt.subplot(121)\n",
    "plt.title(\"input image\")\n",
    "plt.imshow(data_batch[0][image_number])\n",
    "plt.subplot(122)\n",
    "plt.title(\"reconstructed image\")\n",
    "plt.imshow(predicted[image_number])\n",
    "plt.show()"
   ]
  },
  {
   "attachments": {},
   "cell_type": "markdown",
   "metadata": {},
   "source": [
    "# Quantifying the reconstruction error using \"evaluate_generator()\" function"
   ]
  },
  {
   "attachments": {},
   "cell_type": "markdown",
   "metadata": {},
   "source": [
    "Let us examine the reconstruction error of our validation data (good/normal images) and the anomaly images"
   ]
  },
  {
   "cell_type": "code",
   "execution_count": 31,
   "metadata": {},
   "outputs": [
    {
     "name": "stdout",
     "output_type": "stream",
     "text": [
      "WARNING:tensorflow:From /tmp/ipykernel_38475/2207300971.py:1: Model.evaluate_generator (from tensorflow.python.keras.engine.training) is deprecated and will be removed in a future version.\n",
      "Instructions for updating:\n",
      "Please use Model.evaluate, which supports generators.\n",
      "Recon. error for the validation (normal) data is:  0.0034240693785250187\n"
     ]
    }
   ],
   "source": [
    "validation_error = model.evaluate_generator(validation_generator)\n",
    "print(\"Recon. error for the validation (normal) data is: \", validation_error)"
   ]
  },
  {
   "attachments": {},
   "cell_type": "markdown",
   "metadata": {},
   "source": [
    "This reconstruction error above should be very low, since the validation generator is full of normal images (good images)"
   ]
  },
  {
   "attachments": {},
   "cell_type": "markdown",
   "metadata": {},
   "source": [
    "Whereas the reconstruction error here below, for the \"anomaly_generator\" should be higher, since this dataset is comprised of full anomaly images."
   ]
  },
  {
   "cell_type": "code",
   "execution_count": 32,
   "metadata": {},
   "outputs": [
    {
     "name": "stdout",
     "output_type": "stream",
     "text": [
      "Recon. error for the anomaly data is:  0.0037127940449863672\n"
     ]
    }
   ],
   "source": [
    "anomaly_error = model.evaluate_generator(anomaly_generator)\n",
    "print(\"Recon. error for the anomaly data is: \", anomaly_error)"
   ]
  },
  {
   "attachments": {},
   "cell_type": "markdown",
   "metadata": {},
   "source": [
    "See that this error is slightly higher than the error in the validation dataset. This is good, but the difference is not that significant and this could result in wrong anomaly detections. Let's see some detections."
   ]
  },
  {
   "attachments": {},
   "cell_type": "markdown",
   "metadata": {},
   "source": [
    "SIDENOTE: Additionally, we can check the train generator error according to the \"evaluate_generator()\" function."
   ]
  },
  {
   "cell_type": "code",
   "execution_count": 33,
   "metadata": {},
   "outputs": [
    {
     "name": "stdout",
     "output_type": "stream",
     "text": [
      "Recon. error for the training (non-anomaly) data is:  0.003352927742525935\n"
     ]
    }
   ],
   "source": [
    "training_error = model.evaluate_generator(train_generator)\n",
    "print(\"Recon. error for the training (non-anomaly) data is: \", training_error)"
   ]
  },
  {
   "attachments": {},
   "cell_type": "markdown",
   "metadata": {},
   "source": [
    "See that the above value does not correspond with the below mean reconstruction error of the training set that will be computed. It should at least be close, I think. This is something to check."
   ]
  },
  {
   "attachments": {},
   "cell_type": "markdown",
   "metadata": {},
   "source": [
    "Also see tha the error from the anomaly images is smaller than the error of the training set, which consists of non-anomaly images. THis is not expected and means that this particular model is shit."
   ]
  },
  {
   "attachments": {},
   "cell_type": "markdown",
   "metadata": {},
   "source": [
    "# Computing the reconstruction error without using the \"evaluate_generator()\" function"
   ]
  },
  {
   "attachments": {},
   "cell_type": "markdown",
   "metadata": {},
   "source": [
    "The following function computes the reconstrution error per each batch of images. It does, for each of the batches:\n",
    "- Initialize a vector for storing the reconstruction errors.\n",
    "- A for loop that traverses all the images contained in a batch.\n",
    "    - Take the one image of the batch.\n",
    "    - Add a new size dimension to the image.\n",
    "    - Make a prediction of the selected image with the model that was built.\n",
    "    - Evaluate the performance of the prediction, i.e. compute the prediction error.\n",
    "    - Append the reconstruction error into a list.\n",
    "- Compute the mean and std deviation of the error.\n",
    " "
   ]
  },
  {
   "cell_type": "code",
   "execution_count": 34,
   "metadata": {},
   "outputs": [],
   "source": [
    "def calc_recon_error(batch_images):   \n",
    "    recon_error_list=[]\n",
    "    for im in range(0, batch_images.shape[0]):\n",
    "        img  = batch_images[im]\n",
    "        img = img[np.newaxis, :,:,:]\n",
    "        reconstruction = model.predict([[img]])\n",
    "        # reconstruction_error = model.evaluate([reconstruction],[[img]], batch_size = 1)[0]    # The batch_size parameter for the moment can be supressed. Results were seen to be the same\n",
    "        # reconstruction_error = model.evaluate([reconstruction],[[img]])[0]                    # It included the [0] subscription but with this new model, the rec error is directly a float value, so no more need for subscription\n",
    "        reconstruction_error = model.evaluate([reconstruction],[[img]])\n",
    "        recon_error_list.append(reconstruction_error)   \n",
    "    return recon_error_list"
   ]
  },
  {
   "cell_type": "code",
   "execution_count": 35,
   "metadata": {},
   "outputs": [
    {
     "name": "stdout",
     "output_type": "stream",
     "text": [
      "1/1 [==============================] - 0s 656us/step - loss: 0.0038\n",
      "1/1 [==============================] - 0s 774us/step - loss: 0.0035\n",
      "1/1 [==============================] - 0s 1ms/step - loss: 0.0042\n",
      "1/1 [==============================] - 0s 669us/step - loss: 0.0039\n",
      "1/1 [==============================] - 0s 687us/step - loss: 0.0050\n",
      "1/1 [==============================] - 0s 666us/step - loss: 0.0054\n",
      "1/1 [==============================] - 0s 669us/step - loss: 0.0053\n",
      "1/1 [==============================] - 0s 646us/step - loss: 0.0044\n",
      "1/1 [==============================] - 0s 654us/step - loss: 0.0040\n",
      "1/1 [==============================] - 0s 943us/step - loss: 0.0035\n",
      "1/1 [==============================] - 0s 734us/step - loss: 0.0039\n",
      "1/1 [==============================] - 0s 747us/step - loss: 0.0043\n",
      "1/1 [==============================] - 0s 770us/step - loss: 0.0043\n",
      "1/1 [==============================] - 0s 728us/step - loss: 0.0048\n",
      "1/1 [==============================] - 0s 637us/step - loss: 0.0046\n",
      "1/1 [==============================] - 0s 664us/step - loss: 0.0038\n",
      "1/1 [==============================] - 0s 875us/step - loss: 0.0038\n",
      "1/1 [==============================] - 0s 910us/step - loss: 0.0043\n",
      "1/1 [==============================] - 0s 692us/step - loss: 0.0043\n",
      "1/1 [==============================] - 0s 649us/step - loss: 0.0042\n",
      "1/1 [==============================] - 0s 733us/step - loss: 0.0040\n",
      "1/1 [==============================] - 0s 600us/step - loss: 0.0043\n",
      "1/1 [==============================] - 0s 787us/step - loss: 0.0047\n",
      "1/1 [==============================] - 0s 922us/step - loss: 0.0050\n",
      "1/1 [==============================] - 0s 619us/step - loss: 0.0054\n",
      "1/1 [==============================] - 0s 613us/step - loss: 0.0038\n",
      "1/1 [==============================] - 0s 628us/step - loss: 0.0037\n",
      "1/1 [==============================] - 0s 797us/step - loss: 0.0036\n",
      "1/1 [==============================] - 0s 760us/step - loss: 0.0036\n",
      "1/1 [==============================] - 0s 628us/step - loss: 0.0035\n",
      "1/1 [==============================] - 0s 627us/step - loss: 0.0038\n",
      "1/1 [==============================] - 0s 718us/step - loss: 0.0038\n",
      "1/1 [==============================] - 0s 731us/step - loss: 0.0039\n",
      "1/1 [==============================] - 0s 781us/step - loss: 0.0040\n",
      "1/1 [==============================] - 0s 623us/step - loss: 0.0041\n",
      "1/1 [==============================] - 0s 603us/step - loss: 0.0037\n",
      "1/1 [==============================] - 0s 633us/step - loss: 0.0038\n",
      "1/1 [==============================] - 0s 624us/step - loss: 0.0038\n",
      "1/1 [==============================] - 0s 728us/step - loss: 0.0038\n",
      "1/1 [==============================] - 0s 642us/step - loss: 0.0035\n",
      "1/1 [==============================] - 0s 883us/step - loss: 0.0036\n",
      "1/1 [==============================] - 0s 660us/step - loss: 0.0035\n",
      "1/1 [==============================] - 0s 686us/step - loss: 0.0035\n",
      "1/1 [==============================] - 0s 649us/step - loss: 0.0035\n",
      "1/1 [==============================] - 0s 679us/step - loss: 0.0035\n",
      "1/1 [==============================] - 0s 630us/step - loss: 0.0046\n",
      "1/1 [==============================] - 0s 686us/step - loss: 0.0041\n",
      "1/1 [==============================] - 0s 646us/step - loss: 0.0039\n",
      "1/1 [==============================] - 0s 683us/step - loss: 0.0034\n",
      "1/1 [==============================] - 0s 642us/step - loss: 0.0034\n",
      "1/1 [==============================] - 0s 641us/step - loss: 0.0034\n",
      "1/1 [==============================] - 0s 864us/step - loss: 0.0034\n",
      "1/1 [==============================] - 0s 602us/step - loss: 0.0035\n",
      "1/1 [==============================] - 0s 615us/step - loss: 0.0035\n",
      "1/1 [==============================] - 0s 669us/step - loss: 0.0035\n",
      "1/1 [==============================] - 0s 664us/step - loss: 0.0034\n",
      "1/1 [==============================] - 0s 616us/step - loss: 0.0035\n",
      "1/1 [==============================] - 0s 628us/step - loss: 0.0044\n",
      "1/1 [==============================] - 0s 590us/step - loss: 0.0036\n",
      "1/1 [==============================] - 0s 875us/step - loss: 0.0044\n",
      "1/1 [==============================] - 0s 601us/step - loss: 0.0042\n",
      "1/1 [==============================] - 0s 641us/step - loss: 0.0043\n",
      "1/1 [==============================] - 0s 731us/step - loss: 0.0043\n",
      "1/1 [==============================] - 0s 683us/step - loss: 0.0045\n",
      "1/1 [==============================] - 0s 639us/step - loss: 0.0040\n",
      "1/1 [==============================] - 0s 644us/step - loss: 0.0046\n",
      "1/1 [==============================] - 0s 600us/step - loss: 0.0041\n",
      "1/1 [==============================] - 0s 767us/step - loss: 0.0039\n",
      "1/1 [==============================] - 0s 631us/step - loss: 0.0034\n",
      "1/1 [==============================] - 0s 811us/step - loss: 0.0034\n",
      "1/1 [==============================] - 0s 611us/step - loss: 0.0034\n",
      "1/1 [==============================] - 0s 706us/step - loss: 0.0034\n",
      "1/1 [==============================] - 0s 918us/step - loss: 0.0035\n",
      "1/1 [==============================] - 0s 761us/step - loss: 0.0035\n",
      "1/1 [==============================] - 0s 687us/step - loss: 0.0035\n",
      "1/1 [==============================] - 0s 1ms/step - loss: 0.0034\n",
      "1/1 [==============================] - 0s 653us/step - loss: 0.0035\n",
      "1/1 [==============================] - 0s 646us/step - loss: 0.0044\n",
      "1/1 [==============================] - 0s 638us/step - loss: 0.0036\n",
      "1/1 [==============================] - 0s 912us/step - loss: 0.0044\n",
      "1/1 [==============================] - 0s 1ms/step - loss: 0.0042\n",
      "1/1 [==============================] - 0s 921us/step - loss: 0.0043\n",
      "1/1 [==============================] - 0s 693us/step - loss: 0.0043\n",
      "1/1 [==============================] - 0s 636us/step - loss: 0.0045\n",
      "1/1 [==============================] - 0s 678us/step - loss: 0.0040\n",
      "1/1 [==============================] - 0s 628us/step - loss: 0.0034\n",
      "1/1 [==============================] - 0s 798us/step - loss: 0.0036\n",
      "1/1 [==============================] - 0s 722us/step - loss: 0.0048\n",
      "1/1 [==============================] - 0s 734us/step - loss: 0.0036\n",
      "1/1 [==============================] - 0s 665us/step - loss: 0.0035\n",
      "1/1 [==============================] - 0s 689us/step - loss: 0.0035\n",
      "1/1 [==============================] - 0s 620us/step - loss: 0.0035\n",
      "1/1 [==============================] - 0s 824us/step - loss: 0.0035\n",
      "1/1 [==============================] - 0s 656us/step - loss: 0.0035\n",
      "1/1 [==============================] - 0s 653us/step - loss: 0.0036\n",
      "1/1 [==============================] - 0s 674us/step - loss: 0.0036\n",
      "1/1 [==============================] - 0s 758us/step - loss: 0.0035\n",
      "1/1 [==============================] - 0s 679us/step - loss: 0.0037\n",
      "1/1 [==============================] - 0s 871us/step - loss: 0.0038\n",
      "1/1 [==============================] - 0s 710us/step - loss: 0.0037\n",
      "1/1 [==============================] - 0s 736us/step - loss: 0.0039\n",
      "1/1 [==============================] - 0s 889us/step - loss: 0.0042\n",
      "1/1 [==============================] - 0s 637us/step - loss: 0.0041\n",
      "1/1 [==============================] - 0s 619us/step - loss: 0.0036\n",
      "1/1 [==============================] - 0s 674us/step - loss: 0.0039\n",
      "1/1 [==============================] - 0s 681us/step - loss: 0.0050\n",
      "1/1 [==============================] - 0s 637us/step - loss: 0.0036\n",
      "1/1 [==============================] - 0s 935us/step - loss: 0.0036\n",
      "1/1 [==============================] - 0s 693us/step - loss: 0.0036\n",
      "1/1 [==============================] - 0s 1ms/step - loss: 0.0036\n",
      "1/1 [==============================] - 0s 655us/step - loss: 0.0036\n",
      "1/1 [==============================] - 0s 704us/step - loss: 0.0037\n",
      "1/1 [==============================] - 0s 1ms/step - loss: 0.0034\n",
      "1/1 [==============================] - 0s 641us/step - loss: 0.0034\n",
      "1/1 [==============================] - 0s 696us/step - loss: 0.0037\n",
      "1/1 [==============================] - 0s 658us/step - loss: 0.0034\n",
      "1/1 [==============================] - 0s 637us/step - loss: 0.0039\n",
      "1/1 [==============================] - 0s 686us/step - loss: 0.0036\n",
      "1/1 [==============================] - 0s 659us/step - loss: 0.0036\n",
      "1/1 [==============================] - 0s 665us/step - loss: 0.0036\n",
      "1/1 [==============================] - 0s 846us/step - loss: 0.0036\n",
      "1/1 [==============================] - 0s 660us/step - loss: 0.0036\n",
      "1/1 [==============================] - 0s 633us/step - loss: 0.0040\n",
      "1/1 [==============================] - 0s 701us/step - loss: 0.0035\n",
      "1/1 [==============================] - 0s 756us/step - loss: 0.0036\n",
      "1/1 [==============================] - 0s 943us/step - loss: 0.0036\n",
      "1/1 [==============================] - 0s 675us/step - loss: 0.0036\n",
      "1/1 [==============================] - 0s 661us/step - loss: 0.0036\n",
      "1/1 [==============================] - 0s 708us/step - loss: 0.0036\n",
      "1/1 [==============================] - 0s 698us/step - loss: 0.0037\n",
      "1/1 [==============================] - 0s 829us/step - loss: 0.0036\n",
      "1/1 [==============================] - 0s 918us/step - loss: 0.0043\n",
      "1/1 [==============================] - 0s 1ms/step - loss: 0.0037\n",
      "1/1 [==============================] - 0s 659us/step - loss: 0.0036\n",
      "1/1 [==============================] - 0s 693us/step - loss: 0.0037\n",
      "1/1 [==============================] - 0s 944us/step - loss: 0.0036\n",
      "1/1 [==============================] - 0s 866us/step - loss: 0.0036\n",
      "1/1 [==============================] - 0s 692us/step - loss: 0.0037\n",
      "1/1 [==============================] - 0s 872us/step - loss: 0.0036\n",
      "1/1 [==============================] - 0s 661us/step - loss: 0.0036\n",
      "1/1 [==============================] - 0s 678us/step - loss: 0.0051\n",
      "1/1 [==============================] - 0s 1ms/step - loss: 0.0042\n",
      "1/1 [==============================] - 0s 797us/step - loss: 0.0042\n",
      "1/1 [==============================] - 0s 642us/step - loss: 0.0042\n",
      "1/1 [==============================] - 0s 705us/step - loss: 0.0043\n",
      "1/1 [==============================] - 0s 1ms/step - loss: 0.0042\n",
      "1/1 [==============================] - 0s 808us/step - loss: 0.0042\n",
      "1/1 [==============================] - 0s 619us/step - loss: 0.0041\n",
      "1/1 [==============================] - 0s 686us/step - loss: 0.0043\n",
      "1/1 [==============================] - 0s 617us/step - loss: 0.0042\n",
      "1/1 [==============================] - 0s 677us/step - loss: 0.0045\n",
      "1/1 [==============================] - 0s 631us/step - loss: 0.0038\n",
      "1/1 [==============================] - 0s 872us/step - loss: 0.0049\n",
      "1/1 [==============================] - 0s 738us/step - loss: 0.0048\n",
      "1/1 [==============================] - 0s 800us/step - loss: 0.0043\n",
      "1/1 [==============================] - 0s 639us/step - loss: 0.0043\n",
      "1/1 [==============================] - 0s 632us/step - loss: 0.0042\n",
      "1/1 [==============================] - 0s 798us/step - loss: 0.0042\n",
      "1/1 [==============================] - 0s 661us/step - loss: 0.0042\n",
      "1/1 [==============================] - 0s 703us/step - loss: 0.0042\n",
      "1/1 [==============================] - 0s 618us/step - loss: 0.0042\n",
      "1/1 [==============================] - 0s 662us/step - loss: 0.0045\n",
      "1/1 [==============================] - 0s 866us/step - loss: 0.0047\n",
      "1/1 [==============================] - 0s 883us/step - loss: 0.0044\n",
      "1/1 [==============================] - 0s 621us/step - loss: 0.0071\n",
      "1/1 [==============================] - 0s 614us/step - loss: 0.0046\n",
      "1/1 [==============================] - 0s 640us/step - loss: 0.0048\n",
      "1/1 [==============================] - 0s 650us/step - loss: 0.0040\n",
      "1/1 [==============================] - 0s 660us/step - loss: 0.0037\n",
      "1/1 [==============================] - 0s 708us/step - loss: 0.0039\n",
      "1/1 [==============================] - 0s 630us/step - loss: 0.0035\n",
      "1/1 [==============================] - 0s 869us/step - loss: 0.0035\n",
      "1/1 [==============================] - 0s 722us/step - loss: 0.0035\n",
      "1/1 [==============================] - 0s 673us/step - loss: 0.0035\n",
      "1/1 [==============================] - 0s 762us/step - loss: 0.0036\n",
      "1/1 [==============================] - 0s 1ms/step - loss: 0.0036\n",
      "1/1 [==============================] - 0s 673us/step - loss: 0.0046\n",
      "1/1 [==============================] - 0s 655us/step - loss: 0.0045\n",
      "1/1 [==============================] - 0s 805us/step - loss: 0.0041\n",
      "The list of rec. error contains  12 batches of rec. errors\n"
     ]
    }
   ],
   "source": [
    "total_rec_error = []\n",
    "for i in range(len(train_generator)):        #I think this should be the correct while clause\n",
    "    data = train_generator.next()\n",
    "    total_rec_error.append(calc_recon_error(data[0]))\n",
    "    \n",
    "print(\"The list of rec. error contains \", len(total_rec_error), \"batches of rec. errors\")"
   ]
  },
  {
   "cell_type": "code",
   "execution_count": 37,
   "metadata": {},
   "outputs": [
    {
     "name": "stdout",
     "output_type": "stream",
     "text": [
      "179\n"
     ]
    }
   ],
   "source": [
    "total_rec_error_list = [item for sublist in total_rec_error for item in sublist]\n",
    "print(len(total_rec_error_list))"
   ]
  },
  {
   "cell_type": "code",
   "execution_count": 38,
   "metadata": {},
   "outputs": [
    {
     "name": "stdout",
     "output_type": "stream",
     "text": [
      "THIS IS FOR THE TRAINING (NON-ANOMALY) IMAGES\n",
      "\n",
      "The average of the errors list is:  0.003953405120019806\n",
      "The standard deviation of the errors list is:  0.0005144655849014008\n",
      "The min value of the errors list is:  0.0033661010675132275\n",
      "The max value of the errors list is:  0.00713358074426651\n"
     ]
    }
   ],
   "source": [
    "na_average_recon_error = np.mean(np.array(total_rec_error_list))  \n",
    "na_stdev_recon_error = np.std(np.array(total_rec_error_list)) \n",
    "min_prob = np.min(total_rec_error_list)\n",
    "max_prob = np.max(total_rec_error_list)\n",
    "print(\"THIS IS FOR THE TRAINING (NON-ANOMALY) IMAGES\\n\")\n",
    "print(\"The average of the errors list is: \", na_average_recon_error)\n",
    "print(\"The standard deviation of the errors list is: \", na_stdev_recon_error)\n",
    "print(\"The min value of the errors list is: \", min_prob)\n",
    "print(\"The max value of the errors list is: \", max_prob)"
   ]
  },
  {
   "attachments": {},
   "cell_type": "markdown",
   "metadata": {},
   "source": [
    "Compute the average and std dev. of recon. error for positive (anomalies) samples. \n"
   ]
  },
  {
   "cell_type": "code",
   "execution_count": 39,
   "metadata": {},
   "outputs": [],
   "source": [
    "anomaly_batch = anomaly_generator.next()"
   ]
  },
  {
   "cell_type": "code",
   "execution_count": 40,
   "metadata": {},
   "outputs": [
    {
     "name": "stdout",
     "output_type": "stream",
     "text": [
      "1/1 [==============================] - 0s 744us/step - loss: 0.0036\n",
      "1/1 [==============================] - 0s 815us/step - loss: 0.0037\n",
      "1/1 [==============================] - 0s 706us/step - loss: 0.0043\n",
      "1/1 [==============================] - 0s 867us/step - loss: 0.0071\n",
      "1/1 [==============================] - 0s 618us/step - loss: 0.0045\n",
      "1/1 [==============================] - 0s 869us/step - loss: 0.0038\n",
      "The list of rec. error for anomalies contains  1 batches of rec. errors\n"
     ]
    }
   ],
   "source": [
    "total_rec_error_anomalies = []\n",
    "for i in range(len(anomaly_generator)):        #I think this should be the correct while clause\n",
    "    data = anomaly_generator.next()\n",
    "    total_rec_error_anomalies.append(calc_recon_error(data[0]))\n",
    "    \n",
    "print(\"The list of rec. error for anomalies contains \", len(total_rec_error_anomalies), \"batches of rec. errors\")"
   ]
  },
  {
   "cell_type": "code",
   "execution_count": 41,
   "metadata": {},
   "outputs": [
    {
     "name": "stdout",
     "output_type": "stream",
     "text": [
      "6\n"
     ]
    }
   ],
   "source": [
    "total_rec_error_anomalies = [item for sublist in total_rec_error_anomalies for item in sublist]\n",
    "print(len(total_rec_error_anomalies))"
   ]
  },
  {
   "cell_type": "code",
   "execution_count": 42,
   "metadata": {},
   "outputs": [
    {
     "name": "stdout",
     "output_type": "stream",
     "text": [
      "THIS IS FOR THE ANOMALY IMAGES\n",
      "\n",
      "The average of the errors list is:  0.0045116598485037684\n",
      "The standard deviation of the errors list is:  0.0012088108705086825\n",
      "The min value of the errors list is:  0.0036004690919071436\n",
      "The max value of the errors list is:  0.007110084407031536\n"
     ]
    }
   ],
   "source": [
    "a_average_recon_error = np.mean(np.array(total_rec_error_anomalies))  \n",
    "a_stdev_recon_error = np.std(np.array(total_rec_error_anomalies)) \n",
    "min_prob = np.min(total_rec_error_anomalies)\n",
    "max_prob = np.max(total_rec_error_anomalies)\n",
    "print(\"THIS IS FOR THE ANOMALY IMAGES\\n\")\n",
    "print(\"The average of the errors list is: \", a_average_recon_error)\n",
    "print(\"The standard deviation of the errors list is: \", a_stdev_recon_error)\n",
    "print(\"The min value of the errors list is: \", min_prob)\n",
    "print(\"The max value of the errors list is: \", max_prob)"
   ]
  },
  {
   "attachments": {},
   "cell_type": "markdown",
   "metadata": {},
   "source": [
    "Compute the average and std dev. of recon. error for the validation (non-anomalies) samples. \n"
   ]
  },
  {
   "cell_type": "code",
   "execution_count": 43,
   "metadata": {},
   "outputs": [
    {
     "name": "stdout",
     "output_type": "stream",
     "text": [
      "1/1 [==============================] - 0s 799us/step - loss: 0.0047\n",
      "1/1 [==============================] - 0s 671us/step - loss: 0.0046\n",
      "1/1 [==============================] - 0s 780us/step - loss: 0.0045\n",
      "1/1 [==============================] - 0s 780us/step - loss: 0.0046\n",
      "1/1 [==============================] - 0s 820us/step - loss: 0.0045\n",
      "1/1 [==============================] - 0s 772us/step - loss: 0.0045\n",
      "1/1 [==============================] - 0s 663us/step - loss: 0.0042\n",
      "1/1 [==============================] - 0s 628us/step - loss: 0.0041\n",
      "1/1 [==============================] - 0s 668us/step - loss: 0.0046\n",
      "1/1 [==============================] - 0s 1ms/step - loss: 0.0043\n",
      "1/1 [==============================] - 0s 858us/step - loss: 0.0045\n",
      "1/1 [==============================] - 0s 838us/step - loss: 0.0043\n",
      "1/1 [==============================] - 0s 1ms/step - loss: 0.0045\n",
      "1/1 [==============================] - 0s 957us/step - loss: 0.0044\n",
      "1/1 [==============================] - 0s 686us/step - loss: 0.0042\n",
      "1/1 [==============================] - 0s 708us/step - loss: 0.0046\n",
      "1/1 [==============================] - 0s 784us/step - loss: 0.0046\n",
      "1/1 [==============================] - 0s 685us/step - loss: 0.0042\n",
      "1/1 [==============================] - 0s 843us/step - loss: 0.0045\n",
      "1/1 [==============================] - 0s 769us/step - loss: 0.0045\n",
      "1/1 [==============================] - 0s 733us/step - loss: 0.0045\n",
      "1/1 [==============================] - 0s 751us/step - loss: 0.0043\n",
      "1/1 [==============================] - 0s 669us/step - loss: 0.0040\n",
      "1/1 [==============================] - 0s 726us/step - loss: 0.0049\n",
      "1/1 [==============================] - 0s 925us/step - loss: 0.0049\n",
      "1/1 [==============================] - 0s 642us/step - loss: 0.0051\n",
      "1/1 [==============================] - 0s 901us/step - loss: 0.0054\n",
      "1/1 [==============================] - 0s 877us/step - loss: 0.0054\n",
      "1/1 [==============================] - 0s 651us/step - loss: 0.0048\n",
      "1/1 [==============================] - 0s 612us/step - loss: 0.0046\n",
      "The list of rec. error for anomalies contains  2 batches of rec. errors\n"
     ]
    }
   ],
   "source": [
    "total_rec_error_validation = []\n",
    "for i in range(len(validation_generator)):        #I think this should be the correct while clause\n",
    "    data = validation_generator.next()\n",
    "    total_rec_error_validation.append(calc_recon_error(data[0]))\n",
    "    \n",
    "print(\"The list of rec. error for anomalies contains \", len(total_rec_error_validation), \"batches of rec. errors\")"
   ]
  },
  {
   "cell_type": "code",
   "execution_count": 44,
   "metadata": {},
   "outputs": [
    {
     "name": "stdout",
     "output_type": "stream",
     "text": [
      "30\n"
     ]
    }
   ],
   "source": [
    "total_rec_error_validation = [item for sublist in total_rec_error_validation for item in sublist]\n",
    "print(len(total_rec_error_validation))"
   ]
  },
  {
   "cell_type": "code",
   "execution_count": 45,
   "metadata": {},
   "outputs": [
    {
     "name": "stdout",
     "output_type": "stream",
     "text": [
      "THIS IS FOR THE VALIDATION IMAGES\n",
      "\n",
      "The average of the errors list is:  0.004568276694044471\n",
      "The standard deviation of the errors list is:  0.00032553381149278505\n",
      "The min value of the errors list is:  0.0040300143882632256\n",
      "The max value of the errors list is:  0.00541169848293066\n"
     ]
    }
   ],
   "source": [
    "val_average_recon_error = np.mean(np.array(total_rec_error_validation))  \n",
    "val_stdev_recon_error = np.std(np.array(total_rec_error_validation)) \n",
    "min_prob = np.min(total_rec_error_validation)\n",
    "max_prob = np.max(total_rec_error_validation)\n",
    "print(\"THIS IS FOR THE VALIDATION IMAGES\\n\")\n",
    "print(\"The average of the errors list is: \", val_average_recon_error)\n",
    "print(\"The standard deviation of the errors list is: \", val_stdev_recon_error)\n",
    "print(\"The min value of the errors list is: \", min_prob)\n",
    "print(\"The max value of the errors list is: \", max_prob)"
   ]
  },
  {
   "attachments": {},
   "cell_type": "markdown",
   "metadata": {},
   "source": [
    "Below, we can see the plot of the reconstruction error values, of the non-anomaly list (blue) and the anomaly list (red)."
   ]
  },
  {
   "cell_type": "code",
   "execution_count": 46,
   "metadata": {},
   "outputs": [
    {
     "data": {
      "image/png": "[encoded data removed]",
      "text/plain": [
       "<Figure size 1000x1000 with 1 Axes>"
      ]
     },
     "metadata": {},
     "output_type": "display_data"
    }
   ],
   "source": [
    "plt.figure(figsize=(10, 10))\n",
    "val = 0. # this is the value where you want the data to appear on the y-axis.\n",
    "plt.plot(total_rec_error_list, np.zeros_like(total_rec_error_list) + val, 'x')\n",
    "plt.plot(total_rec_error_anomalies, np.zeros_like(total_rec_error_anomalies) + val, 'ro')\n",
    "plt.show()"
   ]
  },
  {
   "cell_type": "code",
   "execution_count": 47,
   "metadata": {},
   "outputs": [
    {
     "data": {
      "image/png": "[encoded data removed]",
      "text/plain": [
       "<Figure size 640x480 with 1 Axes>"
      ]
     },
     "metadata": {},
     "output_type": "display_data"
    }
   ],
   "source": [
    "import random\n",
    "import numpy\n",
    "from matplotlib import pyplot\n",
    "\n",
    "bins = numpy.linspace(0.002, 0.008, 50)\n",
    "\n",
    "pyplot.hist(total_rec_error_list, bins, alpha=0.5, label='errors non-anomalies')\n",
    "pyplot.hist(total_rec_error_anomalies, bins, alpha=0.5, label='errors anomalies')\n",
    "pyplot.legend(loc='upper right')\n",
    "pyplot.show()"
   ]
  },
  {
   "attachments": {},
   "cell_type": "markdown",
   "metadata": {},
   "source": [
    "## Checking the latent space"
   ]
  },
  {
   "attachments": {},
   "cell_type": "markdown",
   "metadata": {},
   "source": [
    "Let's update the weights of the encoder model."
   ]
  },
  {
   "cell_type": "code",
   "execution_count": 48,
   "metadata": {},
   "outputs": [
    {
     "name": "stdout",
     "output_type": "stream",
     "text": [
      "Layer weights are successfully copied.\n",
      "Layer weights are successfully copied.\n",
      "Layer weights are successfully copied.\n",
      "Layer weights are successfully copied.\n",
      "Layer weights are successfully copied.\n",
      "Layer weights are successfully copied.\n",
      "Layer weights are successfully copied.\n",
      "Layer weights are successfully copied.\n",
      "Layer weights are successfully copied.\n",
      "Layer weights are successfully copied.\n",
      "Layer weights are successfully copied.\n",
      "Layer weights are successfully copied.\n",
      "Layer weights are successfully copied.\n",
      "Layer weights are successfully copied.\n",
      "Layer weights are successfully copied.\n",
      "Layer weights are successfully copied.\n"
     ]
    }
   ],
   "source": [
    "# Copy the layer weights from the base model to the target model\n",
    "for i, target_layer in enumerate(encoder.layers):\n",
    "    base_layer = model.layers[i]\n",
    "    target_layer.set_weights(base_layer.get_weights())\n",
    "\n",
    "# Verify if the weights are successfully copied\n",
    "for base_layer, target_layer in zip(model.layers[:len(encoder.layers)], encoder.layers):\n",
    "    base_weights = base_layer.get_weights()\n",
    "    target_weights = target_layer.get_weights()\n",
    "    for base_weight, target_weight in zip(base_weights, target_weights):\n",
    "        if (base_weight == target_weight).all():\n",
    "            print(\"Layer weights are successfully copied.\")\n",
    "        else:\n",
    "            print(\"Error: Layer weights are not copied correctly.\")\n"
   ]
  },
  {
   "cell_type": "code",
   "execution_count": 49,
   "metadata": {},
   "outputs": [
    {
     "name": "stdout",
     "output_type": "stream",
     "text": [
      "WARNING:tensorflow:From /tmp/ipykernel_38475/402064861.py:6: Model.predict_generator (from tensorflow.python.keras.engine.training) is deprecated and will be removed in a future version.\n",
      "Instructions for updating:\n",
      "Please use Model.predict, which supports generators.\n"
     ]
    }
   ],
   "source": [
    "########################################################\n",
    "# Calculate KDE using sklearn\n",
    "from sklearn.neighbors import KernelDensity\n",
    "\n",
    "#Get encoded output of input images = Latent space\n",
    "encoded_images = encoder.predict_generator(train_generator)"
   ]
  },
  {
   "cell_type": "code",
   "execution_count": 50,
   "metadata": {},
   "outputs": [
    {
     "name": "stdout",
     "output_type": "stream",
     "text": [
      "(179, 24)\n"
     ]
    }
   ],
   "source": [
    "print(encoded_images.shape)"
   ]
  },
  {
   "attachments": {},
   "cell_type": "markdown",
   "metadata": {},
   "source": [
    "See that it is 179 length because it corresponds to all the images that belong to the training dataset. The second length corresponds to the output shape of the model as specified in its structure at the beginning."
   ]
  },
  {
   "cell_type": "code",
   "execution_count": 51,
   "metadata": {},
   "outputs": [
    {
     "data": {
      "text/plain": [
       "numpy.ndarray"
      ]
     },
     "execution_count": 51,
     "metadata": {},
     "output_type": "execute_result"
    }
   ],
   "source": [
    "type(encoded_images)"
   ]
  },
  {
   "cell_type": "code",
   "execution_count": 52,
   "metadata": {},
   "outputs": [
    {
     "name": "stdout",
     "output_type": "stream",
     "text": [
      "(None, 24)\n"
     ]
    }
   ],
   "source": [
    "encoder_output_shape = encoder.output_shape \n",
    "print(encoder_output_shape)"
   ]
  },
  {
   "attachments": {},
   "cell_type": "markdown",
   "metadata": {},
   "source": [
    "Now, let's fit KDE to the image latent data"
   ]
  },
  {
   "cell_type": "code",
   "execution_count": 53,
   "metadata": {},
   "outputs": [],
   "source": [
    "kde = KernelDensity(kernel='gaussian', bandwidth=0.2).fit(encoded_images)"
   ]
  },
  {
   "attachments": {},
   "cell_type": "markdown",
   "metadata": {},
   "source": [
    "The above function fits a kernel density estimation to the data that is provided, that is, the \"encoded_images\" variable. It does so using a Guassian kernel of bandwidth 0.2.\n",
    "\n",
    "The badnwidth parameter affects on how the selected kernel will fit each sample of the given data. For example for the case in which the kernel is a Gaussian distribution, the bandwidth parameter would affect in how thin or wide is the Gaussian distribution.\n",
    "\n",
    "At this point in the variable \"kde\" we have some numbers that are the result of fitting Gaussian functions to the given data points in the variable \"encoded_images\". We will use the \"kde\" variable later for scoring with it, some given data points; the scoring will be given depending on how similar are the given data points to the ones that it had estimated."
   ]
  },
  {
   "attachments": {},
   "cell_type": "markdown",
   "metadata": {},
   "source": [
    "Here below, it is shown the kde values corresponding to each encoded sample. THese are supposed to be very close to each other in value."
   ]
  },
  {
   "cell_type": "code",
   "execution_count": 54,
   "metadata": {},
   "outputs": [
    {
     "name": "stdout",
     "output_type": "stream",
     "text": [
      "[11.60238689 12.33289009 12.04228107 12.94607689 14.17843702 13.46331629\n",
      " 13.88335783 13.83728385 13.90164876 13.75317095 14.28337833 14.26173695\n",
      " 12.33547735 12.34712946 12.51740292 13.80793885 14.31379002 13.52485563\n",
      " 13.94628337 11.84990414 12.6896346  12.75462517 13.1326901  13.2183233\n",
      " 13.65671652 11.74566004 12.62805096 12.40995889 12.73241596 13.02471104\n",
      " 12.92984219 13.82003509 12.92594796 12.9769961  12.78832175 13.21394695\n",
      " 13.30810109 13.13693866 12.92966098 12.65524139 12.15015619 13.11608193\n",
      " 14.10076031 13.88934129 13.80084309 13.07582471 13.16807053 13.29673207\n",
      " 13.33144203 13.32999167 13.21114044 13.7395575  13.73172859 13.7445209\n",
      " 13.82785917 13.48677885 14.11653502 14.11801484 14.14959126 14.12146459\n",
      " 12.78935442 13.30031183 12.84548655 14.04684576 14.37820038 14.3942462\n",
      " 14.36347182 14.19296776 14.11795418 14.19982742 13.8319067  13.50505548\n",
      " 13.25617236 14.21884153 13.48322778 13.88420589 13.8966712  13.85811399\n",
      " 13.78692173 13.84007039 12.78935442 13.30031183 12.84548655 14.04684576\n",
      " 14.37820038 14.3942462  14.36347182 14.19296776 14.11795418 14.19982742\n",
      " 13.8319067  13.50505548 13.25617236 14.21884153 13.48322778 13.88420589\n",
      " 13.8966712  13.85811399 13.78692173 13.84007039 13.9924035  13.44937039\n",
      " 11.79438624 14.19858607 14.35442984 14.32637664 14.38446412 14.24177652\n",
      " 14.29791091 13.55557603 13.94170363 13.80901745 13.62299788 13.50299726\n",
      " 13.54406941 12.57127132 12.6732025  12.64184046 13.92989988 12.75814895\n",
      " 12.03448347 13.12066581 13.71386392 13.82650601 13.80222464 13.78706481\n",
      " 13.48686256 13.35900187 12.53865711 13.57534407 13.32349772 12.81470236\n",
      " 13.59676058 13.69289006 13.76710804 13.80527865 13.73459418 12.76657783\n",
      " 13.51638107 13.725267   13.75292411 13.69431307 13.73001951 13.74350538\n",
      " 13.74667638 13.5217387  12.39627387 13.63615143 13.45644442 13.59851031\n",
      " 13.58978633 13.614712   13.56129434 13.75595101 13.8148916  11.40417238\n",
      " 13.79652117 13.94510103 13.94264855 13.93236236 13.9529781  13.81128812\n",
      " 13.85970217 13.58671682 13.71401229 13.44490662 12.96248089 13.51866664\n",
      " 13.41193772 13.89743569 13.89176631 13.74405436 13.59955735 13.66913398\n",
      " 13.79996962 12.29106664 12.51187562 12.57847981 12.5512966 ]\n"
     ]
    }
   ],
   "source": [
    "density_vals = kde.score_samples(encoded_images)\n",
    "print(density_vals)"
   ]
  },
  {
   "attachments": {},
   "cell_type": "markdown",
   "metadata": {},
   "source": [
    "From here, the mean and standard deviation of these values are computed"
   ]
  },
  {
   "cell_type": "code",
   "execution_count": 55,
   "metadata": {},
   "outputs": [
    {
     "name": "stdout",
     "output_type": "stream",
     "text": [
      "The avg of the density values is:  13.47878319093863\n",
      "The stdev_density of the density values is:  0.6335057744637637\n"
     ]
    }
   ],
   "source": [
    "average_density = np.mean(density_vals)\n",
    "stdev_density = np.std(density_vals)\n",
    "print(\"The avg of the density values is: \", average_density)\n",
    "print(\"The stdev_density of the density values is: \", stdev_density)"
   ]
  },
  {
   "attachments": {},
   "cell_type": "markdown",
   "metadata": {},
   "source": [
    "based on the above data create a function that outputs a probability of a KDE value to be considered an anomaly or non-anomaly image"
   ]
  },
  {
   "cell_type": "code",
   "execution_count": 56,
   "metadata": {},
   "outputs": [],
   "source": [
    "def ranges_mapper(value, leftMin, leftMax, rightMin, rightMax):\n",
    "    # Figure out how 'wide' each range is\n",
    "    leftSpan = leftMax - leftMin\n",
    "    rightSpan = rightMax - rightMin\n",
    "\n",
    "    # Convert the left range into a 0-1 range (float)\n",
    "    valueScaled = float(value - leftMin) / float(leftSpan)\n",
    "\n",
    "    # Convert the 0-1 range into a value in the right range.\n",
    "    return rightMin + (valueScaled * rightSpan)"
   ]
  },
  {
   "cell_type": "code",
   "execution_count": 57,
   "metadata": {},
   "outputs": [],
   "source": [
    "# def map_kde2prob_list(input_list):\n",
    "#     threshold = average_density          # The mean of the kde corresponding to the non-anomaly images\n",
    "#     std_dev = stdev_density            # The std deviation of the kde corresponding to the non-anomaly images\n",
    "#     prob_score_list = []\n",
    "#     prob_score = 0              # This was changed for making threshold+std_dev be mapped to be 50% chance. Before it was directly mapped threshold value to 50% chance\n",
    "#     for i in range (len(input_list)):\n",
    "#         aux_score = input_list[i] - threshold\n",
    "#         if aux_score>=0:\n",
    "#             additional = ranges_mapper(aux_score, 0, std_dev, 0, 50)\n",
    "#             prob_score_tot = prob_score+additional\n",
    "#         else:\n",
    "#             additional = ranges_mapper(abs(aux_score), 0, std_dev, 0, 50)\n",
    "#             prob_score_tot = prob_score-additional\n",
    "#         if prob_score_tot > 100:\n",
    "#             prob_score_tot = 100\n",
    "#         if prob_score_tot < 0:\n",
    "#             prob_score_tot = 0\n",
    "#         prob_score_list.append(prob_score_tot)\n",
    "#     return prob_score_list"
   ]
  },
  {
   "cell_type": "code",
   "execution_count": 58,
   "metadata": {},
   "outputs": [],
   "source": [
    "# def map_kde2prob(value):\n",
    "#     threshold = average_density         # The mean of the kde corresponding to the non-anomaly images\n",
    "#     std_dev = stdev_density          # The std deviation of the kde corresponding to the non-anomaly images\n",
    "#     prob_score = 0              # This was changed for making threshold+std_dev be mapped to be 50% chance. Before it was directly mapped threshold value to 50% chance\n",
    "#     aux_score = value - threshold\n",
    "#     print(\"value is: \", value)\n",
    "#     print(\"aux_score is: \", aux_score)\n",
    "        \n",
    "#     if aux_score>=0:\n",
    "#         additional = ranges_mapper(aux_score, 0, std_dev, 0, 50)\n",
    "#         print(\"additional is: \", additional)\n",
    "#         prob_score_tot = prob_score+additional\n",
    "#         print(\"prob_score_tot is: \", prob_score_tot)\n",
    "        \n",
    "#     else:\n",
    "#         additional = ranges_mapper(abs(aux_score), 0, std_dev, 0, 50)\n",
    "#         prob_score_tot = prob_score-additional\n",
    "#     if prob_score_tot > 100:\n",
    "#         prob_score_tot = 100\n",
    "#     if prob_score_tot < 0:\n",
    "#         prob_score_tot = 0    \n",
    "#     return prob_score_tot"
   ]
  },
  {
   "cell_type": "code",
   "execution_count": 59,
   "metadata": {},
   "outputs": [],
   "source": [
    "def map_kde2prob_list(input_list):\n",
    "    threshold = average_density          # The mean of the kde corresponding to the non-anomaly images\n",
    "    std_dev = stdev_density            # The std deviation of the kde corresponding to the non-anomaly images\n",
    "    prob_score_list =[]\n",
    "    for i in range (len(input_list)):\n",
    "        aux_score = input_list[i] - threshold\n",
    "        prob_score = ranges_mapper(abs(aux_score), 0, std_dev, 0, 50)\n",
    "        if prob_score<0:\n",
    "            prob_score = 0\n",
    "        if prob_score>100:\n",
    "            prob_score = 100     \n",
    "        prob_score_list.append(prob_score)\n",
    "    return prob_score_list"
   ]
  },
  {
   "cell_type": "code",
   "execution_count": 60,
   "metadata": {},
   "outputs": [],
   "source": [
    "def map_kde2prob(value):\n",
    "    threshold = average_density         # The mean of the kde corresponding to the non-anomaly images\n",
    "    std_dev = stdev_density          # The std deviation of the kde corresponding to the non-anomaly images\n",
    "    \n",
    "    aux_score = value - threshold\n",
    "    prob_score = ranges_mapper(abs(aux_score), 0, std_dev, 0, 50)\n",
    "    if prob_score<0:\n",
    "            prob_score = 0\n",
    "    if prob_score>100:\n",
    "        prob_score = 100 \n",
    "    return prob_score"
   ]
  },
  {
   "cell_type": "code",
   "execution_count": 61,
   "metadata": {},
   "outputs": [],
   "source": [
    "def computePred(kde_value):\n",
    "    pred = 0\n",
    "    prob_anomaly = map_kde2prob(kde_value)/100\n",
    "    if prob_anomaly > 0.5:\n",
    "        pred = 1\n",
    "    return pred"
   ]
  },
  {
   "cell_type": "code",
   "execution_count": 62,
   "metadata": {},
   "outputs": [
    {
     "name": "stdout",
     "output_type": "stream",
     "text": [
      "[50.000000000000014]\n"
     ]
    }
   ],
   "source": [
    "print(map_kde2prob_list([average_density - 1*stdev_density]))"
   ]
  },
  {
   "cell_type": "code",
   "execution_count": 63,
   "metadata": {},
   "outputs": [],
   "source": [
    "#Get encoded output of input images = Latent space\n",
    "encoded_images_test_set = encoder.predict_generator(test_set_generator)"
   ]
  },
  {
   "cell_type": "code",
   "execution_count": 64,
   "metadata": {},
   "outputs": [
    {
     "name": "stdout",
     "output_type": "stream",
     "text": [
      "(30, 24)\n"
     ]
    }
   ],
   "source": [
    "print(encoded_images_test_set.shape)"
   ]
  },
  {
   "cell_type": "code",
   "execution_count": 65,
   "metadata": {},
   "outputs": [
    {
     "name": "stdout",
     "output_type": "stream",
     "text": [
      "[12.82740601 13.10425084 13.32903949 13.41552596 13.42324581 13.47652501\n",
      " 12.82736743 12.80796898 12.36919885 12.57485747 12.55457261 12.59323967\n",
      " 12.54387059 12.64278394 12.91955027 12.61598688  9.81014647 10.88603516\n",
      " 12.11466402 12.03678128 12.04376504 12.18148313 12.10051742 12.23779127\n",
      " 12.29340996 11.75665576 12.00574532 11.24410198 11.85772346 11.68392146]\n"
     ]
    }
   ],
   "source": [
    "density_vals_test = kde.score_samples(encoded_images_test_set)\n",
    "print(density_vals_test)"
   ]
  },
  {
   "cell_type": "code",
   "execution_count": 66,
   "metadata": {},
   "outputs": [
    {
     "data": {
      "text/plain": [
       "14.112288965402394"
      ]
     },
     "execution_count": 66,
     "metadata": {},
     "output_type": "execute_result"
    }
   ],
   "source": [
    "average_density + stdev_density"
   ]
  },
  {
   "cell_type": "code",
   "execution_count": 67,
   "metadata": {},
   "outputs": [
    {
     "data": {
      "text/plain": [
       "12.845277416474866"
      ]
     },
     "execution_count": 67,
     "metadata": {},
     "output_type": "execute_result"
    }
   ],
   "source": [
    "average_density - stdev_density"
   ]
  },
  {
   "cell_type": "code",
   "execution_count": 68,
   "metadata": {},
   "outputs": [
    {
     "name": "stdout",
     "output_type": "stream",
     "text": [
      "[51.4105167062246, 29.560295178692126, 11.81865291438597, 4.992632510555373, 4.383336629405955, 0.1782286339017885, 51.41356134496441, 52.94460082863467, 87.57491917383031, 71.3431319636687, 72.9441320376067, 69.89230041235186, 73.78879891058865, 65.98197527989342, 44.137949612831356, 68.09695715025298, 100, 100, 100, 100, 100, 100, 100, 97.94637800343725, 93.5566242830613, 100, 100, 100, 100, 100]\n"
     ]
    }
   ],
   "source": [
    "prob_test = map_kde2prob_list(density_vals_test)\n",
    "print(prob_test)"
   ]
  },
  {
   "attachments": {},
   "cell_type": "markdown",
   "metadata": {},
   "source": [
    "See the final predictions based on the KDE average values that was computed before."
   ]
  },
  {
   "cell_type": "code",
   "execution_count": 69,
   "metadata": {},
   "outputs": [
    {
     "name": "stdout",
     "output_type": "stream",
     "text": [
      "The list of rec. error for anomalies contains  2 batches of rec. errors\n"
     ]
    }
   ],
   "source": [
    "ground_truth = []\n",
    "for i in range(len(test_set_generator)):        #I think this should be the correct while clause\n",
    "    _, labels = test_set_generator.next()\n",
    "    ground_truth.append(labels)\n",
    "    \n",
    "print(\"The list of rec. error for anomalies contains \", len(ground_truth), \"batches of rec. errors\")"
   ]
  },
  {
   "cell_type": "code",
   "execution_count": 70,
   "metadata": {},
   "outputs": [],
   "source": [
    "ground_truth = [item for sublist in ground_truth for item in sublist]\n",
    "ground_truth = [int(x) for x in ground_truth]\n"
   ]
  },
  {
   "cell_type": "code",
   "execution_count": 71,
   "metadata": {},
   "outputs": [
    {
     "name": "stdout",
     "output_type": "stream",
     "text": [
      "[0, 0, 0, 0, 0, 0, 0, 0, 0, 0, 0, 0, 0, 0, 0, 0, 0, 0, 0, 0, 0, 0, 0, 0, 0, 1, 1, 1, 1, 1]\n",
      "[1, 0, 0, 0, 0, 0, 1, 1, 1, 1, 1, 1, 1, 1, 0, 1, 1, 1, 1, 1, 1, 1, 1, 1, 1, 1, 1, 1, 1, 1]\n"
     ]
    }
   ],
   "source": [
    "pred_list =[]\n",
    "for i in range(len(prob_test)):\n",
    "    \n",
    "    if(prob_test[i]>50):\n",
    "        pred = 1\n",
    "    else:\n",
    "        pred = 0\n",
    "    pred_list.append(pred)\n",
    "print(ground_truth)\n",
    "print(pred_list)"
   ]
  },
  {
   "cell_type": "code",
   "execution_count": 72,
   "metadata": {},
   "outputs": [
    {
     "name": "stdout",
     "output_type": "stream",
     "text": [
      "AUC =  0.86\n"
     ]
    }
   ],
   "source": [
    "from sklearn import metrics\n",
    "print('AUC = ', metrics.roc_auc_score(ground_truth, prob_test))"
   ]
  },
  {
   "cell_type": "code",
   "execution_count": 73,
   "metadata": {},
   "outputs": [
    {
     "data": {
      "image/png": "[encoded data removed]",
      "text/plain": [
       "<Figure size 640x480 with 1 Axes>"
      ]
     },
     "metadata": {},
     "output_type": "display_data"
    }
   ],
   "source": [
    "fpr, tpr, thresholds = metrics.roc_curve(ground_truth, prob_test)\n",
    "plt.plot(fpr, tpr, marker='.', label='AUROC = %0.3f' % metrics.roc_auc_score(ground_truth, prob_test))\n",
    "# Title\n",
    "plt.title('ROC Plot')\n",
    "# Axis labels\n",
    "plt.xlabel('False Positive Rate')\n",
    "plt.ylabel('True Positive Rate')\n",
    "# Show legend\n",
    "plt.legend() # \n",
    "# Show plot\n",
    "plt.show()"
   ]
  },
  {
   "cell_type": "code",
   "execution_count": 74,
   "metadata": {},
   "outputs": [
    {
     "name": "stdout",
     "output_type": "stream",
     "text": [
      "The fpr is:  [0.   0.28 1.  ]\n",
      "The tpr is:  [0. 1. 1.]\n",
      "The thresholds are:  [101.         100.           0.17822863]\n"
     ]
    }
   ],
   "source": [
    "print(\"The fpr is: \", fpr)\n",
    "print(\"The tpr is: \", tpr)\n",
    "print(\"The thresholds are: \", thresholds)"
   ]
  },
  {
   "attachments": {},
   "cell_type": "markdown",
   "metadata": {},
   "source": [
    "## Trehshold based on Gaussian distribution of the non-anomaly images"
   ]
  },
  {
   "cell_type": "code",
   "execution_count": 75,
   "metadata": {},
   "outputs": [],
   "source": [
    "def map_error2prob(value):\n",
    "    # Calculate the mean and standard deviation\n",
    "    mean = na_average_recon_error\n",
    "    std_dev = na_stdev_recon_error\n",
    "    aux_score = value - mean\n",
    "    prob_score = ranges_mapper(abs(aux_score), 0, std_dev, 0, 50)\n",
    "    if prob_score<0:\n",
    "        prob_score = 0\n",
    "    if prob_score>100:\n",
    "        prob_score = 100\n",
    "    return prob_score"
   ]
  },
  {
   "attachments": {},
   "cell_type": "markdown",
   "metadata": {},
   "source": [
    "See below test, that shows if a reconstruction error is equal to the mean of the reconstruction error plus its standard deviation has 50% chance of being predicted as anomaly image."
   ]
  },
  {
   "cell_type": "code",
   "execution_count": 76,
   "metadata": {},
   "outputs": [
    {
     "name": "stdout",
     "output_type": "stream",
     "text": [
      "49.999999999999986\n"
     ]
    }
   ],
   "source": [
    "print(map_error2prob(na_average_recon_error - na_stdev_recon_error))"
   ]
  },
  {
   "cell_type": "code",
   "execution_count": 77,
   "metadata": {},
   "outputs": [],
   "source": [
    "def map_error2prob_list(input_list):\n",
    "    # Calculate the mean and standard deviation\n",
    "    mean = na_average_recon_error\n",
    "    std_dev = na_stdev_recon_error\n",
    "    prob_score_list = []\n",
    "    for i in range (len(input_list)):\n",
    "        aux_score = input_list[i] - mean\n",
    "        prob_score = ranges_mapper(abs(aux_score), 0, std_dev, 0, 50)\n",
    "        if prob_score<0:\n",
    "            prob_score = 0\n",
    "        if prob_score>100:\n",
    "            prob_score = 100\n",
    "        prob_score_list.append(prob_score)\n",
    "    return prob_score_list"
   ]
  },
  {
   "cell_type": "code",
   "execution_count": 78,
   "metadata": {},
   "outputs": [],
   "source": [
    "def computePred(err_value):\n",
    "    pred = 0\n",
    "    prob_anomaly = map_error2prob(err_value)/100\n",
    "    if prob_anomaly > 0.5:\n",
    "        pred = 1\n",
    "    return pred"
   ]
  },
  {
   "cell_type": "code",
   "execution_count": 79,
   "metadata": {},
   "outputs": [
    {
     "name": "stdout",
     "output_type": "stream",
     "text": [
      "1/1 [==============================] - 0s 728us/step - loss: 0.0047\n",
      "1/1 [==============================] - 0s 712us/step - loss: 0.0046\n",
      "1/1 [==============================] - 0s 662us/step - loss: 0.0045\n",
      "1/1 [==============================] - 0s 721us/step - loss: 0.0046\n",
      "1/1 [==============================] - 0s 640us/step - loss: 0.0045\n",
      "1/1 [==============================] - 0s 664us/step - loss: 0.0045\n",
      "1/1 [==============================] - 0s 622us/step - loss: 0.0042\n",
      "1/1 [==============================] - 0s 841us/step - loss: 0.0041\n",
      "1/1 [==============================] - 0s 670us/step - loss: 0.0046\n",
      "1/1 [==============================] - 0s 748us/step - loss: 0.0043\n",
      "1/1 [==============================] - 0s 699us/step - loss: 0.0045\n",
      "1/1 [==============================] - 0s 649us/step - loss: 0.0043\n",
      "1/1 [==============================] - 0s 762us/step - loss: 0.0045\n",
      "1/1 [==============================] - 0s 681us/step - loss: 0.0044\n",
      "1/1 [==============================] - 0s 754us/step - loss: 0.0042\n",
      "1/1 [==============================] - 0s 890us/step - loss: 0.0046\n",
      "1/1 [==============================] - 0s 848us/step - loss: 0.0046\n",
      "1/1 [==============================] - 0s 798us/step - loss: 0.0042\n",
      "1/1 [==============================] - 0s 959us/step - loss: 0.0040\n",
      "1/1 [==============================] - 0s 1ms/step - loss: 0.0049\n",
      "1/1 [==============================] - 0s 848us/step - loss: 0.0049\n",
      "1/1 [==============================] - 0s 968us/step - loss: 0.0051\n",
      "1/1 [==============================] - 0s 908us/step - loss: 0.0054\n",
      "1/1 [==============================] - 0s 799us/step - loss: 0.0054\n",
      "1/1 [==============================] - 0s 926us/step - loss: 0.0048\n",
      "1/1 [==============================] - 0s 668us/step - loss: 0.0067\n",
      "1/1 [==============================] - 0s 967us/step - loss: 0.0067\n",
      "1/1 [==============================] - 0s 837us/step - loss: 0.0064\n",
      "1/1 [==============================] - 0s 712us/step - loss: 0.0065\n",
      "1/1 [==============================] - 0s 695us/step - loss: 0.0068\n",
      "[[0.0, 0.0, 0.0, 0.0, 0.0, 0.0, 0.0, 0.0, 0.0, 0.0, 0.0, 0.0, 0.0, 0.0, 0.0], [0.0, 0.0, 0.0, 0.0, 0.0, 0.0, 0.0, 0.0, 0.0, 0.0, 1.0, 1.0, 1.0, 1.0, 1.0]]\n",
      "[[1, 1, 1, 1, 1, 1, 0, 0, 1, 0, 1, 0, 1, 0, 0], [1, 1, 0, 0, 1, 1, 1, 1, 1, 1, 1, 1, 1, 1, 1]]\n",
      "[[73.84153934142958, 64.35331615088906, 55.24719609456425, 62.44651153713659, 56.943104035872636, 51.25894088874138, 23.329613964832433, 18.74577931494, 61.053824133462406, 30.00834047540385, 50.8839883283982, 38.25163970337104, 54.95958915177839, 39.789737194719656, 22.270831206929152], [67.52880454546231, 62.18709957867104, 28.3525753127345, 7.445519242856853, 91.84098199617529, 95.2351059754218, 100, 100, 100, 82.51876073579031, 100, 100, 100, 100, 100]]\n"
     ]
    }
   ],
   "source": [
    "y_pred_final = []\n",
    "y_true_final = []\n",
    "y_prob_final = []\n",
    "for i in range(len(test_set_generator)):        # Traversing all the batches of the test set\n",
    "    batch_images, labels = next(test_set_generator)\n",
    "    y_pred = []\n",
    "    y_true = []\n",
    "    y_prob = []\n",
    "    for im in range(0, batch_images.shape[0]):  #Traversing all the images in the batch\n",
    "        img  = batch_images[im]\n",
    "        img = img[np.newaxis, :,:,:]\n",
    "        reconstruction = model.predict([[img]])\n",
    "        reconstruction_error = model.evaluate([reconstruction],[[img]])\n",
    "        probability = map_error2prob(reconstruction_error)\n",
    "        prediction = computePred(reconstruction_error)   \n",
    "        y_pred.append(prediction) # Save Prediction\n",
    "        y_true.append(labels[im]) # Save Truth  \n",
    "        y_prob.append(probability) # Save probability  \n",
    "    y_pred_final.append(y_pred)  \n",
    "    y_true_final.append(y_true)  \n",
    "    y_prob_final.append(y_prob)  \n",
    "print(y_true_final)\n",
    "print(y_pred_final)\n",
    "print(y_prob_final)\n",
    " "
   ]
  },
  {
   "cell_type": "code",
   "execution_count": 80,
   "metadata": {},
   "outputs": [
    {
     "name": "stdout",
     "output_type": "stream",
     "text": [
      "[0, 0, 0, 0, 0, 0, 0, 0, 0, 0, 0, 0, 0, 0, 0, 0, 0, 0, 0, 0, 0, 0, 0, 0, 0, 1, 1, 1, 1, 1]\n",
      "[1, 1, 1, 1, 1, 1, 0, 0, 1, 0, 1, 0, 1, 0, 0, 1, 1, 0, 0, 1, 1, 1, 1, 1, 1, 1, 1, 1, 1, 1]\n",
      "[73.84153934142958, 64.35331615088906, 55.24719609456425, 62.44651153713659, 56.943104035872636, 51.25894088874138, 23.329613964832433, 18.74577931494, 61.053824133462406, 30.00834047540385, 50.8839883283982, 38.25163970337104, 54.95958915177839, 39.789737194719656, 22.270831206929152, 67.52880454546231, 62.18709957867104, 28.3525753127345, 7.445519242856853, 91.84098199617529, 95.2351059754218, 100, 100, 100, 82.51876073579031, 100, 100, 100, 100, 100]\n"
     ]
    }
   ],
   "source": [
    "y_true_final = [item for sublist in y_true_final for item in sublist]\n",
    "y_true_final = [int(i) for i in y_true_final]\n",
    "y_pred_final = [item for sublist in y_pred_final for item in sublist]\n",
    "y_prob_final = [item for sublist in y_prob_final for item in sublist]\n",
    "print(y_true_final)\n",
    "print(y_pred_final)\n",
    "print(y_prob_final)"
   ]
  },
  {
   "attachments": {},
   "cell_type": "markdown",
   "metadata": {},
   "source": [
    "Above we see the predictions based on a threshold of 50%. See that the results are not that good. There is a high rate of false positives. "
   ]
  },
  {
   "cell_type": "code",
   "execution_count": 81,
   "metadata": {},
   "outputs": [
    {
     "name": "stdout",
     "output_type": "stream",
     "text": [
      "AUC =  0.94\n"
     ]
    },
    {
     "data": {
      "image/png": "[encoded data removed]",
      "text/plain": [
       "<Figure size 640x480 with 1 Axes>"
      ]
     },
     "metadata": {},
     "output_type": "display_data"
    },
    {
     "name": "stdout",
     "output_type": "stream",
     "text": [
      "The fpr is:  [0.   0.12 1.  ]\n",
      "The tpr is:  [0. 1. 1.]\n",
      "The thresholds are:  [101.         100.           7.44551924]\n"
     ]
    }
   ],
   "source": [
    "print('AUC = ', metrics.roc_auc_score(y_true_final, y_prob_final))\n",
    "fpr, tpr, thresholds = metrics.roc_curve(y_true_final, y_prob_final)\n",
    "plt.plot(fpr, tpr, marker='.', label='AUROC = %0.3f' % metrics.roc_auc_score(y_true_final, y_prob_final))\n",
    "# Title\n",
    "plt.title('ROC Plot')\n",
    "# Axis labels\n",
    "plt.xlabel('False Positive Rate')\n",
    "plt.ylabel('True Positive Rate')\n",
    "# Show legend\n",
    "plt.legend() # \n",
    "# Show plot\n",
    "plt.show()\n",
    "\n",
    "print(\"The fpr is: \", fpr)\n",
    "print(\"The tpr is: \", tpr)\n",
    "print(\"The thresholds are: \", thresholds)"
   ]
  },
  {
   "attachments": {},
   "cell_type": "markdown",
   "metadata": {},
   "source": [
    "Here it is seen that if the threshold were to change from being 50% to (100-7.4455)%, then the FPR would get better; it wouldn't be so high, in fact, it would be of 0.12. Let's asses this statement."
   ]
  },
  {
   "cell_type": "code",
   "execution_count": 82,
   "metadata": {},
   "outputs": [],
   "source": [
    "def pred_label_onProb(probs_list, prob_threshold):\n",
    "    pred_based_onProb = []\n",
    "    for i in range (len(probs_list)):\n",
    "        if probs_list[i] > prob_threshold:\n",
    "            prediction = 1                          ## Stands for classifiaction of anomaly bottle\n",
    "        else:\n",
    "            prediction = 0\n",
    "        pred_based_onProb.append(prediction)\n",
    "    return pred_based_onProb"
   ]
  },
  {
   "cell_type": "code",
   "execution_count": 83,
   "metadata": {},
   "outputs": [],
   "source": [
    "# from tensorflow.keras.metrics import Precision, Recall, BinaryAccuracy, SpecificityAtSensitivity\n",
    "from sklearn.metrics import confusion_matrix"
   ]
  },
  {
   "cell_type": "code",
   "execution_count": 86,
   "metadata": {},
   "outputs": [
    {
     "name": "stdout",
     "output_type": "stream",
     "text": [
      "[[21  4]\n",
      " [ 0  5]]\n",
      "The FPR values are:  0.16\n",
      "The TPR values are:  1.0\n",
      "Using the threshold = 100-7.4455\n"
     ]
    }
   ],
   "source": [
    "conf_matrix = confusion_matrix(y_true_final, pred_label_onProb(y_prob_final, (100-7.4455)))\n",
    "print(conf_matrix)\n",
    "_tp = conf_matrix[1, 1]\n",
    "_fn = conf_matrix[1, 0]\n",
    "_fp = conf_matrix[0, 1]\n",
    "_tn = conf_matrix[0, 0]\n",
    "_tpr = _tp/(_tp+_fn)\n",
    "_fpr = _fp / (_tn + _fp)\n",
    "print(\"The FPR values are: \", _fpr)\n",
    "print(\"The TPR values are: \", _tpr)\n",
    "print(\"Using the threshold = 100-7.4455\")"
   ]
  },
  {
   "attachments": {},
   "cell_type": "markdown",
   "metadata": {},
   "source": [
    "The FPR is not exactly 0.12 but close to it. It might be due to decimals. "
   ]
  },
  {
   "attachments": {},
   "cell_type": "markdown",
   "metadata": {},
   "source": [
    "Updated NOTE: IT seems like in the metrics.roc_auc_score(y_true_final, y_prob_final) function, the threshold values that are displayed, are ALWYAS to be subtracted from 100, but subrtacted the indicated quantity directly. IN this way, we can obtain the closer result to FPR = 0.12."
   ]
  },
  {
   "attachments": {},
   "cell_type": "markdown",
   "metadata": {},
   "source": []
  }
 ],
 "metadata": {
  "kernelspec": {
   "display_name": "Python 3",
   "language": "python",
   "name": "python3"
  },
  "language_info": {
   "codemirror_mode": {
    "name": "ipython",
    "version": 3
   },
   "file_extension": ".py",
   "mimetype": "text/x-python",
   "name": "python",
   "nbconvert_exporter": "python",
   "pygments_lexer": "ipython3",
   "version": "3.8.10"
  },
  "orig_nbformat": 4,
  "vscode": {
   "interpreter": {
    "hash": "916dbcbb3f70747c44a77c7bcd40155683ae19c65e1c03b4aa3499c5328201f1"
   }
  }
 },
 "nbformat": 4,
 "nbformat_minor": 2
}
