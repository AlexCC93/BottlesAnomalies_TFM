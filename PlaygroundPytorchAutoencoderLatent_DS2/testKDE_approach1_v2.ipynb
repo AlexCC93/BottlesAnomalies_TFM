{
 "cells": [
  {
   "cell_type": "code",
   "execution_count": 1,
   "metadata": {},
   "outputs": [],
   "source": [
    "import numpy as np\n",
    "import matplotlib.pyplot as plt\n",
    "from sklearn.neighbors import KernelDensity\n",
    "from scipy.stats import norm\n"
   ]
  },
  {
   "cell_type": "code",
   "execution_count": 2,
   "metadata": {},
   "outputs": [
    {
     "data": {
      "image/png": "[encoded data removed]",
      "text/plain": [
       "<Figure size 432x288 with 1 Axes>"
      ]
     },
     "metadata": {
      "needs_background": "light"
     },
     "output_type": "display_data"
    }
   ],
   "source": [
    "# Plot the 1D density curve for the gaussian kernel\n",
    "\n",
    "# Create a sample distribution\n",
    "N = 100\n",
    "X = np.concatenate((np.random.normal(0, 1, int(0.6 * N)),\n",
    "\t\t\t\t\tnp.random.normal(10, 1, int(0.4 * N)))\n",
    "\t\t\t\t)[:, np.newaxis]\n",
    "X_plot = np.linspace(-5, 15, 1000)[:, np.newaxis]\n",
    "\n",
    "# Calculate the true density\n",
    "true_density = 0.6 * norm(0, 1).pdf(X_plot[:, 0]) + \\\n",
    "\t\t\t0.4 * norm(10, 1).pdf(X_plot[:, 0])\n",
    "\n",
    "# Creating a figure\n",
    "fig, ax = plt.subplots()\n",
    "\n",
    "# Plotting the true density\n",
    "ax.fill(\n",
    "\tX_plot[:, 0], true_density,\n",
    "\tfc='black', alpha=0.2,\n",
    "\tlabel='Sample distribution'\n",
    ")\n",
    "\n",
    "# Calculating the density using the gaussian kernel with bandwidth 0.5\n",
    "kde = KernelDensity(kernel='gaussian', bandwidth=0.5).fit(X)\n",
    "\n",
    "# Calculating the log of the probability density function\n",
    "log_dens = kde.score_samples(X_plot)\n",
    "\n",
    "# Plotting the density curve\n",
    "ax.plot(\n",
    "\tX_plot[:, 0],\n",
    "\tnp.exp(log_dens),\n",
    "\tcolor=\"cornflowerblue\",\n",
    "\tlinestyle=\"-\",\n",
    "\tlabel=\"Gaussian kernel density\"\n",
    ")\n",
    "\n",
    "# Set the title, x and y labels of the plot\n",
    "ax.set_title(\"Gaussian Kernel Density\")\n",
    "ax.set_xlim(-4, 15)\n",
    "ax.set_ylim(0, 0.3)\n",
    "ax.grid(True)\n",
    "ax.legend(loc='upper right')\n",
    "\n",
    "# Display the plot\n",
    "plt.show()\n"
   ]
  },
  {
   "cell_type": "code",
   "execution_count": 3,
   "metadata": {},
   "outputs": [
    {
     "name": "stdout",
     "output_type": "stream",
     "text": [
      "(1000,)\n",
      "The avg of the density values is:  0.049949999996414834\n",
      "The stdev_density of the density values is:  0.06777862866645769\n"
     ]
    }
   ],
   "source": [
    "densities = np.exp(log_dens)\n",
    "average_density = np.mean(densities)\n",
    "stdev_density = np.std(densities)\n",
    "print(densities.shape)\n",
    "print(\"The avg of the density values is: \", average_density)\n",
    "print(\"The stdev_density of the density values is: \", stdev_density)"
   ]
  },
  {
   "cell_type": "code",
   "execution_count": 4,
   "metadata": {},
   "outputs": [
    {
     "name": "stdout",
     "output_type": "stream",
     "text": [
      "(100,)\n"
     ]
    }
   ],
   "source": [
    "log_density_vals = kde.score_samples(X)\n",
    "density_validation = np.exp(log_density_vals)\n",
    "print(density_validation.shape)\n"
   ]
  },
  {
   "cell_type": "code",
   "execution_count": 6,
   "metadata": {},
   "outputs": [
    {
     "name": "stdout",
     "output_type": "stream",
     "text": [
      "The avg of the density values is:  0.15352308483717036\n",
      "The stdev_density of the density values is:  0.0528225081332941\n"
     ]
    }
   ],
   "source": [
    "average_density = np.mean(density_validation)\n",
    "stdev_density = np.std(density_validation)\n",
    "\n",
    "print(\"The avg of the density values is: \", average_density)\n",
    "print(\"The stdev_density of the density values is: \", stdev_density)"
   ]
  },
  {
   "cell_type": "code",
   "execution_count": 7,
   "metadata": {},
   "outputs": [
    {
     "data": {
      "text/plain": [
       "(array([2., 2., 0., 0., 1., 1., 0., 1., 0., 2., 0., 1., 1., 1., 2., 0., 0.,\n",
       "        0., 1., 1., 1., 2., 0., 0., 1., 1., 0., 1., 3., 0., 3., 2., 1., 3.,\n",
       "        2., 6., 7., 4., 8., 6., 5., 1., 1., 2., 2., 3., 4., 2., 5., 8.]),\n",
       " array([0.0158619 , 0.01990532, 0.02394874, 0.02799216, 0.03203558,\n",
       "        0.036079  , 0.04012242, 0.04416584, 0.04820926, 0.05225268,\n",
       "        0.0562961 , 0.06033952, 0.06438293, 0.06842635, 0.07246977,\n",
       "        0.07651319, 0.08055661, 0.08460003, 0.08864345, 0.09268687,\n",
       "        0.09673029, 0.10077371, 0.10481713, 0.10886055, 0.11290397,\n",
       "        0.11694739, 0.12099081, 0.12503422, 0.12907764, 0.13312106,\n",
       "        0.13716448, 0.1412079 , 0.14525132, 0.14929474, 0.15333816,\n",
       "        0.15738158, 0.161425  , 0.16546842, 0.16951184, 0.17355526,\n",
       "        0.17759868, 0.1816421 , 0.18568552, 0.18972893, 0.19377235,\n",
       "        0.19781577, 0.20185919, 0.20590261, 0.20994603, 0.21398945,\n",
       "        0.21803287]),\n",
       " <BarContainer object of 50 artists>)"
      ]
     },
     "execution_count": 7,
     "metadata": {},
     "output_type": "execute_result"
    },
    {
     "data": {
      "image/png": "[encoded data removed]",
      "text/plain": [
       "<Figure size 432x288 with 1 Axes>"
      ]
     },
     "metadata": {
      "needs_background": "light"
     },
     "output_type": "display_data"
    }
   ],
   "source": [
    "plt.hist(density_validation, bins=50)"
   ]
  }
 ],
 "metadata": {
  "kernelspec": {
   "display_name": "tfm",
   "language": "python",
   "name": "python3"
  },
  "language_info": {
   "codemirror_mode": {
    "name": "ipython",
    "version": 3
   },
   "file_extension": ".py",
   "mimetype": "text/x-python",
   "name": "python",
   "nbconvert_exporter": "python",
   "pygments_lexer": "ipython3",
   "version": "3.9.16"
  },
  "orig_nbformat": 4
 },
 "nbformat": 4,
 "nbformat_minor": 2
}
