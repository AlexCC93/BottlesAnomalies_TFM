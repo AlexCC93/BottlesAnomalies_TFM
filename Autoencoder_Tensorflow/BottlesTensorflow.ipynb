{
 "cells": [
  {
   "cell_type": "code",
   "execution_count": 1,
   "metadata": {},
   "outputs": [],
   "source": [
    "from tensorflow.keras.models import Sequential\n",
    "from tensorflow.keras.layers import Conv2D, MaxPooling2D, UpSampling2D\n",
    "from tensorflow.keras.preprocessing.image import ImageDataGenerator\n",
    "from tensorflow import keras\n",
    "import tensorflow as tf\n",
    "from keras import layers\n",
    "\n",
    "from PIL import Image\n",
    "import matplotlib.pyplot as plt\n",
    "import numpy as np\n",
    "import random\n",
    "\n"
   ]
  },
  {
   "cell_type": "code",
   "execution_count": 2,
   "metadata": {},
   "outputs": [
    {
     "name": "stdout",
     "output_type": "stream",
     "text": [
      "Not enough GPU hardware devices available\n",
      "Num GPUs Available:  0\n"
     ]
    }
   ],
   "source": [
    "physical_devices = tf.config.experimental.list_physical_devices('GPU')\n",
    "if len(physical_devices) == 0:\n",
    "    print(\"Not enough GPU hardware devices available\")\n",
    "else:\n",
    "    config = tf.config.experimental.set_memory_growth(physical_devices[0], True)\n",
    "print(\"Num GPUs Available: \", len(physical_devices))"
   ]
  },
  {
   "cell_type": "code",
   "execution_count": 3,
   "metadata": {},
   "outputs": [],
   "source": [
    "# tf.debugging.set_log_device_placement(True)       # Will print the log information of every execution of tensorflow, mainly about "
   ]
  },
  {
   "cell_type": "code",
   "execution_count": 4,
   "metadata": {},
   "outputs": [],
   "source": [
    "#Size of our input images\n",
    "# SIZE = 128        # It was this value at the beginning, but the image display was poor. \n",
    "# SIZE = 224\n",
    "SIZE = 228          # It was 224, but in order for the current autoencoder model configuration work adequately, we changed it 228"
   ]
  },
  {
   "attachments": {},
   "cell_type": "markdown",
   "metadata": {},
   "source": [
    "# Setting the training and testing datasets "
   ]
  },
  {
   "attachments": {},
   "cell_type": "markdown",
   "metadata": {},
   "source": [
    "ImageDataGenerator.flow_from_directory: Takes the path to a directory and generates batches of augmented data."
   ]
  },
  {
   "cell_type": "code",
   "execution_count": 5,
   "metadata": {},
   "outputs": [
    {
     "name": "stdout",
     "output_type": "stream",
     "text": [
      "Found 179 images belonging to 1 classes.\n"
     ]
    }
   ],
   "source": [
    "batch_size = 15\n",
    "datagen = ImageDataGenerator(rescale=1./255) # Typically used for data augmentation. Here it is only rescaling the image pixels value to range 0 to 1 in decimals\n",
    "\n",
    "train_generator = datagen.flow_from_directory(\n",
    "    \"../../Images/BottleStoodUp_atNight/Positive/\",     # For home laptop\n",
    "    # \"../../../BottleStoodUp_atNight/Positive/\",           # For work laptop\n",
    "    target_size=(SIZE, SIZE),\n",
    "    batch_size=batch_size,\n",
    "    shuffle = False,\n",
    "    class_mode='input'          # Class used for working with Autoencoders\n",
    "    \n",
    "    )"
   ]
  },
  {
   "cell_type": "code",
   "execution_count": 6,
   "metadata": {},
   "outputs": [
    {
     "name": "stdout",
     "output_type": "stream",
     "text": [
      "Found 30 images belonging to 1 classes.\n"
     ]
    }
   ],
   "source": [
    "validation_generator = datagen.flow_from_directory(\n",
    "    \"../../Images/BottleStoodUp_atNight/Positive_val/\",     # For home laptop\n",
    "    # \"../../../BottleStoodUp_atNight/Positive_val/\",           # For work lpatop   \n",
    "    target_size=(SIZE, SIZE),\n",
    "    batch_size=batch_size,\n",
    "    shuffle = False,\n",
    "    class_mode='input'\n",
    "    )\n"
   ]
  },
  {
   "cell_type": "code",
   "execution_count": 7,
   "metadata": {},
   "outputs": [
    {
     "name": "stdout",
     "output_type": "stream",
     "text": [
      "Found 6 images belonging to 1 classes.\n"
     ]
    }
   ],
   "source": [
    "anomaly_generator = datagen.flow_from_directory(\n",
    "    \"../../Images/BottleStoodUp_atNight/Anomalies2.0/\",         # For home laptop\n",
    "    # \"../../../BottleStoodUp_atNight/Anomalies2.0/\",           # For work lpatpo\n",
    "    target_size=(SIZE, SIZE),\n",
    "    batch_size=batch_size,\n",
    "    shuffle = False,\n",
    "    class_mode='input'\n",
    "    )\n"
   ]
  },
  {
   "cell_type": "code",
   "execution_count": 8,
   "metadata": {},
   "outputs": [
    {
     "name": "stdout",
     "output_type": "stream",
     "text": [
      "Found 30 images belonging to 2 classes.\n"
     ]
    }
   ],
   "source": [
    "test_set_generator = datagen.flow_from_directory(\n",
    "    \"../../Images/BottleStoodUp_atNight/Evaluation/\",       # For home laptop\n",
    "    # \"../../../BottleStoodUp_atNight/Evaluation/\",             # For work laptop  \n",
    "    target_size=(SIZE, SIZE),\n",
    "    batch_size=batch_size,\n",
    "    shuffle = False,\n",
    "    class_mode='input'\n",
    "    )\n"
   ]
  },
  {
   "attachments": {},
   "cell_type": "markdown",
   "metadata": {},
   "source": [
    "# Showing one sample of the training set images"
   ]
  },
  {
   "attachments": {},
   "cell_type": "markdown",
   "metadata": {},
   "source": [
    "Grabbing only one image of one batch of the training set."
   ]
  },
  {
   "cell_type": "code",
   "execution_count": 9,
   "metadata": {},
   "outputs": [
    {
     "name": "stdout",
     "output_type": "stream",
     "text": [
      "<class 'numpy.ndarray'>\n",
      "15\n",
      "tf.Tensor(0.0, shape=(), dtype=float32) tf.Tensor(1.0, shape=(), dtype=float32)\n"
     ]
    }
   ],
   "source": [
    "images_in_batch = next(train_generator)[0]\n",
    "print(type(images_in_batch))\n",
    "print(len(images_in_batch))\n",
    "print(tf.reduce_min(images_in_batch), tf.reduce_max(images_in_batch))"
   ]
  },
  {
   "cell_type": "code",
   "execution_count": 10,
   "metadata": {},
   "outputs": [
    {
     "name": "stdout",
     "output_type": "stream",
     "text": [
      "(15, 228, 228, 3)\n"
     ]
    }
   ],
   "source": [
    "print(images_in_batch.shape)"
   ]
  },
  {
   "cell_type": "code",
   "execution_count": 11,
   "metadata": {},
   "outputs": [
    {
     "data": {
      "text/plain": [
       "<matplotlib.image.AxesImage at 0x24ea4584850>"
      ]
     },
     "execution_count": 11,
     "metadata": {},
     "output_type": "execute_result"
    },
    {
     "data": {
      "image/png": "[encoded data removed]",
      "text/plain": [
       "<Figure size 640x480 with 1 Axes>"
      ]
     },
     "metadata": {},
     "output_type": "display_data"
    }
   ],
   "source": [
    "single_img = images_in_batch[0]\n",
    "plt.imshow(single_img)"
   ]
  },
  {
   "attachments": {},
   "cell_type": "markdown",
   "metadata": {},
   "source": [
    "# Configuring the Autoencoder netwrok"
   ]
  },
  {
   "cell_type": "code",
   "execution_count": 12,
   "metadata": {},
   "outputs": [
    {
     "name": "stdout",
     "output_type": "stream",
     "text": [
      "Model: \"model\"\n",
      "_________________________________________________________________\n",
      " Layer (type)                Output Shape              Param #   \n",
      "=================================================================\n",
      " input_1 (InputLayer)        [(None, 228, 228, 3)]     0         \n",
      "                                                                 \n",
      " conv2d (Conv2D)             (None, 228, 228, 16)      448       \n",
      "                                                                 \n",
      " max_pooling2d (MaxPooling2D  (None, 114, 114, 16)     0         \n",
      " )                                                               \n",
      "                                                                 \n",
      " conv2d_1 (Conv2D)           (None, 114, 114, 8)       1160      \n",
      "                                                                 \n",
      " max_pooling2d_1 (MaxPooling  (None, 57, 57, 8)        0         \n",
      " 2D)                                                             \n",
      "                                                                 \n",
      " conv2d_2 (Conv2D)           (None, 57, 57, 8)         584       \n",
      "                                                                 \n",
      " max_pooling2d_2 (MaxPooling  (None, 29, 29, 8)        0         \n",
      " 2D)                                                             \n",
      "                                                                 \n",
      " conv2d_3 (Conv2D)           (None, 29, 29, 8)         584       \n",
      "                                                                 \n",
      " up_sampling2d (UpSampling2D  (None, 58, 58, 8)        0         \n",
      " )                                                               \n",
      "                                                                 \n",
      " conv2d_4 (Conv2D)           (None, 58, 58, 8)         584       \n",
      "                                                                 \n",
      " up_sampling2d_1 (UpSampling  (None, 116, 116, 8)      0         \n",
      " 2D)                                                             \n",
      "                                                                 \n",
      " conv2d_5 (Conv2D)           (None, 114, 114, 16)      1168      \n",
      "                                                                 \n",
      " up_sampling2d_2 (UpSampling  (None, 228, 228, 16)     0         \n",
      " 2D)                                                             \n",
      "                                                                 \n",
      " conv2d_6 (Conv2D)           (None, 228, 228, 3)       435       \n",
      "                                                                 \n",
      "=================================================================\n",
      "Total params: 4,963\n",
      "Trainable params: 4,963\n",
      "Non-trainable params: 0\n",
      "_________________________________________________________________\n"
     ]
    }
   ],
   "source": [
    "# input_img = keras.Input(shape=(28, 28, 1))\n",
    "input_img = keras.Input(shape=(SIZE, SIZE, 3))\n",
    "\n",
    "# print(\"ENCODER PART\")\n",
    "# print(\"input img shape is: \", input_shape)\n",
    "x = layers.Conv2D(16, (3, 3), activation='relu', padding='same')(input_img)\n",
    "# print(\"after Conv2D, the shape is: \", x.shape)\n",
    "x = layers.MaxPooling2D((2, 2), padding='same')(x)\n",
    "# print(\"after MaxPooling2D, the shape is: \", x.shape)\n",
    "x = layers.Conv2D(8, (3, 3), activation='relu', padding='same')(x)\n",
    "# print(\"after Conv2D, the shape is: \", x.shape)\n",
    "x = layers.MaxPooling2D((2, 2), padding='same')(x)\n",
    "# print(\"after MaxPooling2D, the shape is: \", x.shape)\n",
    "x = layers.Conv2D(8, (3, 3), activation='relu', padding='same')(x)\n",
    "# print(\"after Conv2D, the shape is: \", x.shape)\n",
    "encoded = layers.MaxPooling2D((2, 2), padding='same')(x)\n",
    "# print(\"after MaxPooling2D, the shape is: \", encoded.shape)\n",
    "\n",
    "# at this point the representation is (4, 4, 8) i.e. 128-dimensional\n",
    "\n",
    "# print(\"DECODER PART\")\n",
    "x = layers.Conv2D(8, (3, 3), activation='relu', padding='same')(encoded)\n",
    "# print(\"after Conv2D, the shape is: \", x.shape)\n",
    "x = layers.UpSampling2D((2, 2))(x)\n",
    "# print(\"after UpSampling2D, the shape is: \", x.shape)\n",
    "x = layers.Conv2D(8, (3, 3), activation='relu', padding='same')(x)\n",
    "# print(\"after Conv2D, the shape is: \", x.shape)\n",
    "x = layers.UpSampling2D((2, 2))(x)\n",
    "# print(\"after UpSampling2D, the shape is: \", x.shape)\n",
    "x = layers.Conv2D(16, (3, 3), activation='relu')(x)\n",
    "# print(\"after Conv2D, the shape is: \", x.shape)\n",
    "x = layers.UpSampling2D((2, 2))(x)\n",
    "# print(\"after UpSampling2D, the shape is: \", x.shape)\n",
    "# decoded = layers.Conv2D(1, (3, 3), activation='sigmoid', padding='same')(x)\n",
    "decoded = layers.Conv2D(3, (3, 3), activation='sigmoid', padding='same')(x)\n",
    "# print(\"after Conv2D, the shape is: \", decoded.shape)\n",
    "\n",
    "\n",
    "autoencoder = keras.Model(input_img, decoded)\n",
    "autoencoder.compile(optimizer='adam', loss='binary_crossentropy')\n",
    "autoencoder.summary()"
   ]
  },
  {
   "cell_type": "code",
   "execution_count": null,
   "metadata": {},
   "outputs": [],
   "source": [
    "# #Fit the model. \n",
    "# history = model.fit(\n",
    "#         train_generator,\n",
    "#         epochs=600,\n",
    "#         validation_data=validation_generator,\n",
    "#         shuffle = True)"
   ]
  },
  {
   "cell_type": "code",
   "execution_count": null,
   "metadata": {},
   "outputs": [],
   "source": [
    "# model_version = 'BottlesModel_TF_GPU'\n",
    "# model.save(f\"../../BottlesAnomalies_TFM/models/{model_version}\")"
   ]
  },
  {
   "attachments": {},
   "cell_type": "markdown",
   "metadata": {},
   "source": [
    "Loading the model that was previously saved\n"
   ]
  },
  {
   "cell_type": "code",
   "execution_count": null,
   "metadata": {},
   "outputs": [],
   "source": [
    "model = keras.models.load_model('../models/BottlesModel_TF_GPU')\n",
    "print(type(model))"
   ]
  },
  {
   "attachments": {},
   "cell_type": "markdown",
   "metadata": {},
   "source": [
    "Get all batches generated by the datagen and pick a batch for prediction"
   ]
  },
  {
   "cell_type": "code",
   "execution_count": null,
   "metadata": {},
   "outputs": [],
   "source": [
    "#Just to test the model. \n",
    "data_batch = []  #Capture all training batches as a numpy array\n",
    "img_num = 0\n",
    "# while img_num <= train_generator.batch_index:   #gets each generated batch of size batch_size\n",
    "while img_num < len(train_generator):        #I think this should be the correct while clause\n",
    "    data = train_generator.next()\n",
    "    data_batch.append(data[0])\n",
    "    img_num = img_num + 1\n",
    "    \n",
    "print(\"number of batches are: \", img_num)\n"
   ]
  },
  {
   "cell_type": "code",
   "execution_count": null,
   "metadata": {},
   "outputs": [],
   "source": [
    "print(len(data_batch))"
   ]
  },
  {
   "attachments": {},
   "cell_type": "markdown",
   "metadata": {},
   "source": [
    "Predict on the first batch of images. Do also notice that the prediction is being carried out over the images we used for training."
   ]
  },
  {
   "cell_type": "code",
   "execution_count": null,
   "metadata": {},
   "outputs": [],
   "source": [
    "print(data_batch[0].shape)\n",
    "predicted = model.predict(data_batch[0])  \n",
    "print(predicted.shape)"
   ]
  },
  {
   "attachments": {},
   "cell_type": "markdown",
   "metadata": {},
   "source": [
    "The above is 64 length because it corresponds to the 64 predicted images of a batch. Recall that the predictions are reconstructions of the input images, since we are working with the autoencoder network."
   ]
  },
  {
   "cell_type": "code",
   "execution_count": null,
   "metadata": {},
   "outputs": [],
   "source": [
    "#Sanity check, view few images and corresponding reconstructions\n",
    "image_number = random.randint(0, predicted.shape[0])\n",
    "plt.figure(figsize=(12, 6))\n",
    "plt.subplot(121)\n",
    "plt.title(\"input image\")\n",
    "plt.imshow(data_batch[0][image_number])\n",
    "plt.subplot(122)\n",
    "plt.title(\"reconstructed image\")\n",
    "plt.imshow(predicted[image_number])\n",
    "plt.show()"
   ]
  },
  {
   "attachments": {},
   "cell_type": "markdown",
   "metadata": {},
   "source": [
    "THe reconstructed image is way much better now.\n"
   ]
  },
  {
   "attachments": {},
   "cell_type": "markdown",
   "metadata": {},
   "source": [
    "# Quantifying the reconstruction error"
   ]
  },
  {
   "attachments": {},
   "cell_type": "markdown",
   "metadata": {},
   "source": [
    "Let us examine the reconstruction error of our validation data (good/normal images) and the anomaly images"
   ]
  },
  {
   "cell_type": "code",
   "execution_count": null,
   "metadata": {},
   "outputs": [],
   "source": [
    "validation_error = model.evaluate_generator(validation_generator)\n",
    "print(\"Recon. error for the validation (normal) data is: \", validation_error)"
   ]
  },
  {
   "attachments": {},
   "cell_type": "markdown",
   "metadata": {},
   "source": [
    "Here above we see a vector with two components which happen to be the same between them. This is because in the model, when we define the outputs, the loss function type and the metric are the same parameter, the mse (mean square error)."
   ]
  },
  {
   "attachments": {},
   "cell_type": "markdown",
   "metadata": {},
   "source": [
    "This reconstruction error above should be very low, since the validation generator is full of normal images (good images)"
   ]
  },
  {
   "attachments": {},
   "cell_type": "markdown",
   "metadata": {},
   "source": [
    "Whereas the reconstruction error here below, for the \"anomaly_generator\" should be higher, since this dataset is comprised of full anomaly images."
   ]
  },
  {
   "cell_type": "code",
   "execution_count": null,
   "metadata": {},
   "outputs": [],
   "source": [
    "anomaly_error = model.evaluate_generator(anomaly_generator)\n",
    "print(\"Recon. error for the anomaly data is: \", anomaly_error)"
   ]
  },
  {
   "attachments": {},
   "cell_type": "markdown",
   "metadata": {},
   "source": [
    "See that this error is slightly higher than the error in the validation dataset. This is good, but the difference is not that significant and this could result in wrong anomaly detections. Let's see some detections."
   ]
  },
  {
   "attachments": {},
   "cell_type": "markdown",
   "metadata": {},
   "source": [
    "SIDENOTE: Additionally, we can check the train generator error according to the \"evaluate_generator()\" function."
   ]
  },
  {
   "cell_type": "code",
   "execution_count": null,
   "metadata": {},
   "outputs": [],
   "source": [
    "training_error = model.evaluate_generator(train_generator)\n",
    "print(\"Recon. error for the training (non-anomaly) data is: \", training_error)"
   ]
  },
  {
   "attachments": {},
   "cell_type": "markdown",
   "metadata": {},
   "source": [
    "See that the above value does not correspond with the below mean reconstruction error of the training set that will be computed. It should at least be close, I think. This is something to check."
   ]
  },
  {
   "attachments": {},
   "cell_type": "markdown",
   "metadata": {},
   "source": [
    "# Computing the reconstruction error without using the \"evaluate_generator()\" function"
   ]
  },
  {
   "attachments": {},
   "cell_type": "markdown",
   "metadata": {},
   "source": [
    "The following function computes the reconstrution error per each batch of images. It does, for each of the batches:\n",
    "- Initialize a vector for storing the reconstruction errors.\n",
    "- A for loop that traverses all the images contained in a batch.\n",
    "    - Take the one image of the batch.\n",
    "    - Add a new size dimension to the image.\n",
    "    - Make a prediction of the selected image with the model that was built.\n",
    "    - Evaluate the performance of the prediction, i.e. compute the prediction error.\n",
    "    - Append the reconstruction error into a list.\n",
    "- Compute the mean and std deviation of the error.\n",
    " "
   ]
  },
  {
   "cell_type": "code",
   "execution_count": null,
   "metadata": {},
   "outputs": [],
   "source": [
    "def calc_recon_error(batch_images):   \n",
    "    recon_error_list=[]\n",
    "    for im in range(0, batch_images.shape[0]):\n",
    "        img  = batch_images[im]\n",
    "        img = img[np.newaxis, :,:,:]\n",
    "        reconstruction = model.predict([[img]])\n",
    "        # reconstruction_error = model.evaluate([reconstruction],[[img]], batch_size = 1)[0]    # The batch_size parameter for the moment can be supressed. Results were seen to be the same\n",
    "        reconstruction_error = model.evaluate([reconstruction],[[img]])[0]\n",
    "        recon_error_list.append(reconstruction_error)   \n",
    "    return recon_error_list"
   ]
  },
  {
   "cell_type": "code",
   "execution_count": null,
   "metadata": {},
   "outputs": [],
   "source": [
    "total_rec_error = []\n",
    "for i in range(len(train_generator)):        #I think this should be the correct while clause\n",
    "    data = train_generator.next()\n",
    "    total_rec_error.append(calc_recon_error(data[0]))\n",
    "    \n",
    "print(\"The list of rec. error contains \", len(total_rec_error), \"batches of rec. errors\")"
   ]
  },
  {
   "cell_type": "code",
   "execution_count": null,
   "metadata": {},
   "outputs": [],
   "source": [
    "print(type(total_rec_error[0]))"
   ]
  },
  {
   "cell_type": "code",
   "execution_count": null,
   "metadata": {},
   "outputs": [],
   "source": [
    "total_rec_error_list = [item for sublist in total_rec_error for item in sublist]\n",
    "print(len(total_rec_error_list))"
   ]
  },
  {
   "cell_type": "code",
   "execution_count": null,
   "metadata": {},
   "outputs": [],
   "source": [
    "na_average_recon_error = np.mean(np.array(total_rec_error_list))  \n",
    "na_stdev_recon_error = np.std(np.array(total_rec_error_list)) \n",
    "min_prob = np.min(total_rec_error_list)\n",
    "max_prob = np.max(total_rec_error_list)\n",
    "print(\"THIS IS FOR THE TRAINING (NON-ANOMALY) IMAGES\\n\")\n",
    "print(\"The average of the errors list is: \", na_average_recon_error)\n",
    "print(\"The standard deviation of the errors list is: \", na_stdev_recon_error)\n",
    "print(\"The min value of the errors list is: \", min_prob)\n",
    "print(\"The max value of the errors list is: \", max_prob)"
   ]
  },
  {
   "attachments": {},
   "cell_type": "markdown",
   "metadata": {},
   "source": [
    "Compute the average and std dev. of recon. error for positive (anomalies) samples. \n"
   ]
  },
  {
   "cell_type": "code",
   "execution_count": null,
   "metadata": {},
   "outputs": [],
   "source": [
    "anomaly_batch = anomaly_generator.next()"
   ]
  },
  {
   "cell_type": "code",
   "execution_count": null,
   "metadata": {},
   "outputs": [],
   "source": [
    "total_rec_error_anomalies = []\n",
    "data = anomaly_generator.next()\n",
    "total_rec_error_anomalies=calc_recon_error(data[0])\n",
    "print(len(total_rec_error_anomalies))"
   ]
  },
  {
   "cell_type": "code",
   "execution_count": null,
   "metadata": {},
   "outputs": [],
   "source": [
    "a_average_recon_error = np.mean(np.array(total_rec_error_anomalies))  \n",
    "a_stdev_recon_error = np.std(np.array(total_rec_error_anomalies)) \n",
    "min_prob = np.min(total_rec_error_anomalies)\n",
    "max_prob = np.max(total_rec_error_anomalies)\n",
    "print(\"THIS IS FOR THE ANOMALY IMAGES\\n\")\n",
    "print(\"The average of the errors list is: \", a_average_recon_error)\n",
    "print(\"The standard deviation of the errors list is: \", a_stdev_recon_error)\n",
    "print(\"The min value of the errors list is: \", min_prob)\n",
    "print(\"The max value of the errors list is: \", max_prob)"
   ]
  },
  {
   "attachments": {},
   "cell_type": "markdown",
   "metadata": {},
   "source": [
    "Below, we can see the plot of the reconstruction error values, of the non-anomaly list (blue) and the anomaly list (red)."
   ]
  },
  {
   "cell_type": "code",
   "execution_count": null,
   "metadata": {},
   "outputs": [],
   "source": [
    "plt.figure(figsize=(10, 10))\n",
    "val = 0. # this is the value where you want the data to appear on the y-axis.\n",
    "plt.plot(total_rec_error_list, np.zeros_like(total_rec_error_list) + val, 'x')\n",
    "plt.plot(total_rec_error_anomalies, np.zeros_like(total_rec_error_anomalies) + val, 'ro')\n",
    "plt.show()"
   ]
  },
  {
   "attachments": {},
   "cell_type": "markdown",
   "metadata": {},
   "source": [
    "# Coding a function to check if an image contains anomalies"
   ]
  },
  {
   "attachments": {},
   "cell_type": "markdown",
   "metadata": {},
   "source": [
    "Based on the information shown above, we can set a threshold for discriminating good samples from anomalies ones. The threshold will be a simple one; it will only be based on a min reconstruction error value for them to be considered as non-anomaly images. "
   ]
  },
  {
   "attachments": {},
   "cell_type": "markdown",
   "metadata": {},
   "source": [
    "The following function does:\n",
    "- Sets the reconstruction error threshold.\n",
    "- Opens the given image path.\n",
    "- Resizes the image \n",
    "- Depending on the image size it adds a dimension to it. The image must be at the end of this of 3 dimensions in size.\n",
    "- Converts the image pixel values to float numbers, ranging from 0 to 1. \n",
    "- Adds a fourth dimension to the image.\n",
    "- Performs a prediction using the model and a given image.\n",
    "- Computes the prediction error.\n",
    "- Depending on the prediction error it prints the message to whether the image is an anomaly or not. "
   ]
  },
  {
   "cell_type": "code",
   "execution_count": null,
   "metadata": {},
   "outputs": [],
   "source": [
    "#Now, input unknown images and sort as Good or Anomaly\n",
    "def check_anomaly(img_path):\n",
    "    reconstruction_error_threshold = 0.00133 # Set this value based on the above exercise\n",
    "    img  = Image.open(img_path)\n",
    "    img = np.array(img.resize((SIZE,SIZE), Image.ANTIALIAS))\n",
    "    image_shape = img.shape\n",
    "    if(len(image_shape)==2):\n",
    "        img = np.dstack((img, img, img))\n",
    "    plt.imshow(img)\n",
    "    img = img / 255.\n",
    "    print(img.shape)\n",
    "    img = img[np.newaxis, :,:,:]\n",
    "    \n",
    "    reconstruction = model.predict([[img]])\n",
    "    reconstruction_error = model.evaluate([reconstruction],[[img]], batch_size = 1)[0]\n",
    "\n",
    "    if reconstruction_error > reconstruction_error_threshold:\n",
    "        print(\"The image IS an anomaly\") \n",
    "    else:\n",
    "        print(\"The image is NOT an anomaly\")"
   ]
  },
  {
   "cell_type": "code",
   "execution_count": null,
   "metadata": {},
   "outputs": [],
   "source": [
    "#Load a couple of test images and verify whether they are reported as anomalies.\n",
    "import glob\n",
    "anomaly_file_paths = glob.glob(r'D:\\Alex2023\\TFM\\Images\\BottleStoodUp_atNight\\Anomalies2.0\\Anomalies_samples\\*')\n",
    "positive_file_paths = glob.glob(r'D:\\Alex2023\\TFM\\Images\\BottleStoodUp_atNight\\Positive\\Positive_samples\\*')\n",
    "\n",
    "# #  FOR work LAPTOP:\n",
    "# anomaly_file_paths = glob.glob(r'C:\\Users\\Alex\\Documents\\BottleStoodUp_atNight\\Anomalies2.0\\Anomalies_samples\\*')\n",
    "# positive_file_paths = glob.glob(r'C:\\Users\\Alex\\Documents\\BottleStoodUp_atNight\\Positive\\Positive_samples\\*')\n",
    "\n",
    "# #  FOR UBUNTU LAPTOP:\n",
    "# anomaly_file_paths = glob.glob(r'home\\alexpc\\Images\\BottleStoodUp_atNight\\Anomalies2.0\\Anomalies_samples\\*')\n",
    "# positive_file_paths = glob.glob(r'home\\alexpc\\Images\\BottleStoodUp_atNight\\Positive\\Positive_samples\\*')"
   ]
  },
  {
   "attachments": {},
   "cell_type": "markdown",
   "metadata": {},
   "source": [
    "Checking the anomalies"
   ]
  },
  {
   "cell_type": "code",
   "execution_count": null,
   "metadata": {},
   "outputs": [],
   "source": [
    "num=random.randint(0,len(anomaly_file_paths)-1)\n",
    "check_anomaly(anomaly_file_paths[num])\n",
    "print(\"This image directory is: \", anomaly_file_paths[num])"
   ]
  },
  {
   "attachments": {},
   "cell_type": "markdown",
   "metadata": {},
   "source": [
    "Checking the positive samples, these are NOT supposed to be anomalies."
   ]
  },
  {
   "cell_type": "code",
   "execution_count": null,
   "metadata": {},
   "outputs": [],
   "source": [
    "num=random.randint(0,len(positive_file_paths)-1)\n",
    "check_anomaly(positive_file_paths[num])\n",
    "print(\"This image directory is: \", positive_file_paths[num])"
   ]
  },
  {
   "attachments": {},
   "cell_type": "markdown",
   "metadata": {},
   "source": [
    "From the specific tests above, the model has succesfully discriminated negative samples from the positive ones. However, varifying various images, it was seen that the performance is poor. Next we will label the images so that we can better analyze the results of all of them."
   ]
  },
  {
   "attachments": {},
   "cell_type": "markdown",
   "metadata": {},
   "source": [
    "## Trehshold based on Gaussian distribution of the non-anomaly images"
   ]
  },
  {
   "attachments": {},
   "cell_type": "markdown",
   "metadata": {},
   "source": [
    "Above calculated threshold was computed in a simpler way; every reconstruction error above certain value is considered anomaly image. In this section, a more sophisticated threshold is calculated, one that is based on the Gaussian distribution of the non-anomaly images. "
   ]
  },
  {
   "cell_type": "code",
   "execution_count": null,
   "metadata": {},
   "outputs": [],
   "source": [
    "def ranges_mapper(value, leftMin, leftMax, rightMin, rightMax):\n",
    "    # Figure out how 'wide' each range is\n",
    "    leftSpan = leftMax - leftMin\n",
    "    rightSpan = rightMax - rightMin\n",
    "\n",
    "    # Convert the left range into a 0-1 range (float)\n",
    "    valueScaled = float(value - leftMin) / float(leftSpan)\n",
    "\n",
    "    # Convert the 0-1 range into a value in the right range.\n",
    "    return rightMin + (valueScaled * rightSpan)"
   ]
  },
  {
   "cell_type": "code",
   "execution_count": null,
   "metadata": {},
   "outputs": [],
   "source": [
    "def map_error2prob(value):\n",
    "    # Calculate the mean and standard deviation\n",
    "    mean = na_average_recon_error\n",
    "    std_dev = na_stdev_recon_error\n",
    "    aux_score = value - mean\n",
    "    prob_score = ranges_mapper(abs(aux_score), 0, std_dev, 0, 50)\n",
    "    if prob_score<0:\n",
    "        prob_score = 0\n",
    "    if prob_score>100:\n",
    "        prob_score = 100\n",
    "    return prob_score"
   ]
  },
  {
   "attachments": {},
   "cell_type": "markdown",
   "metadata": {},
   "source": [
    "See below test, that shows if a reconstruction error is equal to the mean of the reconstruction error plus its standard deviation has 50% chance of being predicted as anomaly image."
   ]
  },
  {
   "cell_type": "code",
   "execution_count": null,
   "metadata": {},
   "outputs": [],
   "source": [
    "print(map_error2prob(na_average_recon_error + na_stdev_recon_error))"
   ]
  },
  {
   "cell_type": "code",
   "execution_count": null,
   "metadata": {},
   "outputs": [],
   "source": [
    "def map_error2prob_list(input_list):\n",
    "    # Calculate the mean and standard deviation\n",
    "    mean = na_average_recon_error\n",
    "    std_dev = na_stdev_recon_error\n",
    "    prob_score_list = []\n",
    "    for i in range (len(input_list)):\n",
    "        aux_score = input_list[i] - mean\n",
    "        prob_score = ranges_mapper(abs(aux_score), 0, std_dev, 0, 50)\n",
    "        if prob_score<0:\n",
    "            prob_score = 0\n",
    "        if prob_score>100:\n",
    "            prob_score = 100\n",
    "        prob_score_list.append(prob_score)\n",
    "    return prob_score_list"
   ]
  },
  {
   "attachments": {},
   "cell_type": "markdown",
   "metadata": {},
   "source": [
    "Checking the probability of being detected as anomaly images of the set of non-anomaly images. Ideally, all these images should output a probability of around 0%, because these are not anomaly images."
   ]
  },
  {
   "cell_type": "code",
   "execution_count": null,
   "metadata": {},
   "outputs": [],
   "source": [
    "print(\"Considering the non-anomaly dataset. The number of images to be cheked is: \", len(total_rec_error_list))\n",
    "preds_probs = np.array(map_error2prob_list(total_rec_error_list))\n",
    "preds_probs = preds_probs/100\n",
    "print(\"The prediction probabilities list for the non-anomaly images is: \")\n",
    "print(preds_probs)"
   ]
  },
  {
   "attachments": {},
   "cell_type": "markdown",
   "metadata": {},
   "source": [
    "# Evaluating the performance of the model"
   ]
  },
  {
   "cell_type": "code",
   "execution_count": null,
   "metadata": {},
   "outputs": [],
   "source": [
    "def computePred(err_value):\n",
    "    pred = 0\n",
    "    prob_anomaly = map_error2prob(err_value)/100\n",
    "    if prob_anomaly > 0.5:\n",
    "        pred = 1\n",
    "    return pred"
   ]
  },
  {
   "attachments": {},
   "cell_type": "markdown",
   "metadata": {},
   "source": [
    "Saving the labels of the evaluation set"
   ]
  },
  {
   "cell_type": "code",
   "execution_count": null,
   "metadata": {},
   "outputs": [],
   "source": [
    "labels_test = test_set_generator.labels"
   ]
  },
  {
   "cell_type": "code",
   "execution_count": null,
   "metadata": {},
   "outputs": [],
   "source": [
    "print(labels_test)"
   ]
  },
  {
   "attachments": {},
   "cell_type": "markdown",
   "metadata": {},
   "source": [
    "Displaying all the images in the test set"
   ]
  },
  {
   "cell_type": "code",
   "execution_count": null,
   "metadata": {},
   "outputs": [],
   "source": [
    "\n",
    "fig, axes = plt.subplots(nrows=6, ncols=5, sharex=True, sharey=True, figsize=(300,200))\n",
    "index = 0\n",
    "for i in range(len(test_set_generator)):        # Traversing all the batches of the test set\n",
    "    images_in_batch = next(test_set_generator)[0]\n",
    "    for i in range(images_in_batch.shape[0]):        #I think this should be the correct while clause\n",
    "        single_img = images_in_batch[i]\n",
    "        ax = fig.add_subplot(6, 5, index+1, xticks=[], yticks=[])\n",
    "        index = index+1\n",
    "        plt.imshow(single_img)\n",
    "plt.show()\n"
   ]
  },
  {
   "attachments": {},
   "cell_type": "markdown",
   "metadata": {},
   "source": [
    "Testing a nested for loop that traverses all the images in the test set. It is expected that the list of numbers go until 14, twice."
   ]
  },
  {
   "cell_type": "code",
   "execution_count": null,
   "metadata": {},
   "outputs": [],
   "source": [
    "for i in range(len(test_set_generator)):        \n",
    "    batch_images = next(test_set_generator)[0]\n",
    "    for im in range(0, batch_images.shape[0]):\n",
    "        print(im)"
   ]
  },
  {
   "attachments": {},
   "cell_type": "markdown",
   "metadata": {},
   "source": [
    "Computing the prediction for each image of the test set and printing it next to the groudn truth labels list."
   ]
  },
  {
   "cell_type": "code",
   "execution_count": null,
   "metadata": {},
   "outputs": [],
   "source": [
    "y_pred_final = []\n",
    "y_true_final = []\n",
    "\n",
    "errors_list = []\n",
    "for i in range(len(test_set_generator)):        # Traversing all the batches of the test set\n",
    "    batch_images = next(test_set_generator)[0]\n",
    "    y_pred = []\n",
    "    y_true = []\n",
    "    if(i>0):\n",
    "        index = batch_images.shape[0]*i\n",
    "    else:\n",
    "        index = 0\n",
    "        \n",
    "    for im in range(0, batch_images.shape[0]):  #Traversing all the images in the batch\n",
    "        img  = batch_images[im]\n",
    "        img = img[np.newaxis, :,:,:]\n",
    "        reconstruction = model.predict([[img]])\n",
    "        reconstruction_error = model.evaluate([reconstruction],[[img]])[0]\n",
    "        errors_list.append(reconstruction_error)\n",
    "        prediction = computePred(reconstruction_error)   \n",
    "        y_pred.append(prediction) # Save Prediction\n",
    "        y_true.append(labels_test[index]) # Save Truth \n",
    "        index = index+1\n",
    "\n",
    "    y_pred_final.append(y_pred)  \n",
    "    y_true_final.append(y_true)  \n",
    "print(y_true_final)\n",
    "print(y_pred_final)"
   ]
  },
  {
   "cell_type": "code",
   "execution_count": null,
   "metadata": {},
   "outputs": [],
   "source": [
    "print(errors_list) "
   ]
  },
  {
   "cell_type": "code",
   "execution_count": null,
   "metadata": {},
   "outputs": [],
   "source": [
    "print(len(errors_list))"
   ]
  },
  {
   "cell_type": "code",
   "execution_count": null,
   "metadata": {},
   "outputs": [],
   "source": [
    "na_average_recon_error - na_stdev_recon_error"
   ]
  },
  {
   "cell_type": "code",
   "execution_count": null,
   "metadata": {},
   "outputs": [],
   "source": [
    "na_average_recon_error + na_stdev_recon_error"
   ]
  },
  {
   "cell_type": "code",
   "execution_count": null,
   "metadata": {},
   "outputs": [],
   "source": [
    "y_true_final = [item for sublist in y_true_final for item in sublist]\n",
    "y_pred_final = [item for sublist in y_pred_final for item in sublist]\n",
    "print(y_true_final)\n",
    "print(y_pred_final)"
   ]
  },
  {
   "attachments": {},
   "cell_type": "markdown",
   "metadata": {},
   "source": [
    "Results shown above are surprisingly shit!!"
   ]
  },
  {
   "attachments": {},
   "cell_type": "markdown",
   "metadata": {},
   "source": [
    "# Using some metrics for evaluating model predictions"
   ]
  },
  {
   "cell_type": "code",
   "execution_count": null,
   "metadata": {},
   "outputs": [],
   "source": [
    "from tensorflow.keras.metrics import Precision, Recall, BinaryAccuracy, SpecificityAtSensitivity\n",
    "from sklearn.metrics import f1_score"
   ]
  },
  {
   "attachments": {},
   "cell_type": "markdown",
   "metadata": {},
   "source": [
    "### The Precision metric"
   ]
  },
  {
   "attachments": {},
   "cell_type": "markdown",
   "metadata": {},
   "source": [
    "Precision = True positives / (True positives + False positives).\n",
    "\n",
    "Answers the question: Which proportion of positive predictions is actually right?"
   ]
  },
  {
   "cell_type": "code",
   "execution_count": null,
   "metadata": {},
   "outputs": [],
   "source": [
    "pre = Precision()"
   ]
  },
  {
   "cell_type": "code",
   "execution_count": null,
   "metadata": {},
   "outputs": [],
   "source": [
    "pre.reset_state()\n",
    "pre.update_state(y_true_final, y_pred_final)\n",
    "pre.result().numpy()"
   ]
  },
  {
   "attachments": {},
   "cell_type": "markdown",
   "metadata": {},
   "source": [
    "### The Recall metric"
   ]
  },
  {
   "attachments": {},
   "cell_type": "markdown",
   "metadata": {},
   "source": [
    "Recall = TruePositives / (TruePositives + FalseNegatives)\n",
    "\n",
    "This metric is also called \"sensitiviy\" and TPR \"True Positive Rate\". It responds how good is the model at catching YESes?"
   ]
  },
  {
   "cell_type": "code",
   "execution_count": null,
   "metadata": {},
   "outputs": [],
   "source": [
    "re = Recall()"
   ]
  },
  {
   "cell_type": "code",
   "execution_count": null,
   "metadata": {},
   "outputs": [],
   "source": [
    "re.reset_state()\n",
    "re.update_state(y_true_final, y_pred_final)\n",
    "re.result().numpy()"
   ]
  },
  {
   "attachments": {},
   "cell_type": "markdown",
   "metadata": {},
   "source": [
    "### The Specificity metric"
   ]
  },
  {
   "attachments": {},
   "cell_type": "markdown",
   "metadata": {},
   "source": [
    "The specificity metric is the opposite as sensitivity, it tells us how good is the model at catching NOes. It measures the proportion of actual negatives that are correctly identified as such.\n",
    "\n",
    "Specificity = (tn / (tn + fp))\n",
    "\n",
    "As we are working in here with full NOes, that is bottles WITHOUT anomalies, perhaps this would be a good metric for this case."
   ]
  },
  {
   "cell_type": "code",
   "execution_count": null,
   "metadata": {},
   "outputs": [],
   "source": [
    "from sklearn.metrics import confusion_matrix\n",
    "import math\n"
   ]
  },
  {
   "cell_type": "code",
   "execution_count": null,
   "metadata": {},
   "outputs": [],
   "source": [
    "tn, fp, fn, tp = confusion_matrix(y_true_final, y_pred_final).ravel()\n",
    "specificity_val = tn/(tn+fp)\n",
    "if(math.isnan(specificity_val)):\n",
    "    specificity_val = 0\n",
    "print(\"The specificity value is: \", specificity_val)"
   ]
  },
  {
   "attachments": {},
   "cell_type": "markdown",
   "metadata": {},
   "source": [
    "### The Accuracy metric"
   ]
  },
  {
   "attachments": {},
   "cell_type": "markdown",
   "metadata": {},
   "source": [
    "Accuracy = (True negatives + True positives) / (True positives + True negatives + False positives + False negatives)"
   ]
  },
  {
   "cell_type": "code",
   "execution_count": null,
   "metadata": {},
   "outputs": [],
   "source": [
    "acc = BinaryAccuracy()"
   ]
  },
  {
   "cell_type": "code",
   "execution_count": null,
   "metadata": {},
   "outputs": [],
   "source": [
    "acc.reset_state()\n",
    "acc.update_state(y_true_final, y_pred_final)\n",
    "acc.result().numpy()"
   ]
  },
  {
   "attachments": {},
   "cell_type": "markdown",
   "metadata": {},
   "source": [
    "### The Confusion Matrix"
   ]
  },
  {
   "attachments": {},
   "cell_type": "markdown",
   "metadata": {},
   "source": [
    "Having the predicted and true labels we can generate the confustion matrix. "
   ]
  },
  {
   "cell_type": "code",
   "execution_count": null,
   "metadata": {},
   "outputs": [],
   "source": [
    "from sklearn.metrics import confusion_matrix\n",
    "import pandas as pd\n",
    "import seaborn as sn"
   ]
  },
  {
   "cell_type": "code",
   "execution_count": null,
   "metadata": {},
   "outputs": [],
   "source": [
    "conf_matrix = confusion_matrix(y_true_final, y_pred_final)\n",
    "print(conf_matrix)"
   ]
  },
  {
   "cell_type": "code",
   "execution_count": null,
   "metadata": {},
   "outputs": [],
   "source": [
    "group_names = ['True Neg','False Pos','False Neg','True Pos']\n",
    "group_counts = [\"{0:0.0f}\".format(value) for value in\n",
    "                conf_matrix.flatten()]\n",
    "group_percentages = [\"{0:.2%}\".format(value) for value in\n",
    "                     conf_matrix.flatten()/np.sum(conf_matrix)]\n",
    "labels = [f\"{v1}\\n{v2}\\n{v3}\" for v1, v2, v3 in\n",
    "          zip(group_names,group_counts,group_percentages)]        #To print the group names as well \n",
    "\n",
    "labels = np.asarray(labels).reshape(2,2)\n",
    "categories = ['Positive bottles', 'Anomaly bottles']\n",
    "sn.heatmap(conf_matrix, annot=labels, fmt='', xticklabels=categories,yticklabels=categories, cmap='Blues')\n",
    "plt.ylabel('True label')\n",
    "plt.xlabel('Predicted label')"
   ]
  },
  {
   "cell_type": "code",
   "execution_count": null,
   "metadata": {},
   "outputs": [],
   "source": [
    "_tp = conf_matrix[1, 1]\n",
    "_fn = conf_matrix[1, 0]\n",
    "_fp = conf_matrix[0, 1]\n",
    "_tn = conf_matrix[0, 0]"
   ]
  },
  {
   "attachments": {},
   "cell_type": "markdown",
   "metadata": {},
   "source": [
    "Additionally we can compute the TPR:"
   ]
  },
  {
   "cell_type": "code",
   "execution_count": null,
   "metadata": {},
   "outputs": [],
   "source": [
    "_tpr = _tp/(_tp+_fn)\n",
    "print(\"The TPR values are: \", _tpr)"
   ]
  },
  {
   "attachments": {},
   "cell_type": "markdown",
   "metadata": {},
   "source": [
    "And the FPR:"
   ]
  },
  {
   "cell_type": "code",
   "execution_count": null,
   "metadata": {},
   "outputs": [],
   "source": [
    "_fpr = _fp / (_tn + _fp)\n",
    "print(\"The FPR value is: \", _fpr)"
   ]
  },
  {
   "attachments": {},
   "cell_type": "markdown",
   "metadata": {},
   "source": [
    "### The ROC curve"
   ]
  },
  {
   "cell_type": "code",
   "execution_count": null,
   "metadata": {},
   "outputs": [],
   "source": [
    "from sklearn.metrics import roc_curve, roc_auc_score"
   ]
  },
  {
   "cell_type": "code",
   "execution_count": null,
   "metadata": {},
   "outputs": [],
   "source": [
    "rec_error_test_set_final = []\n",
    "for i in range(len(test_set_generator)):        #I think this should be the correct while clause\n",
    "    batch_images = next(test_set_generator)[0]\n",
    "    rec_error_test_set = []\n",
    "    for im in range(0, batch_images.shape[0]):\n",
    "        img  = batch_images[im]\n",
    "        img = img[np.newaxis, :,:,:]\n",
    "        reconstruction = model.predict([[img]])\n",
    "        reconstruction_error = model.evaluate([reconstruction],[[img]])[0]\n",
    "          \n",
    "        rec_error_test_set.append(reconstruction_error) # Save Prediction\n",
    "    rec_error_test_set_final.append(rec_error_test_set)  \n",
    "print(rec_error_test_set_final)"
   ]
  },
  {
   "cell_type": "code",
   "execution_count": null,
   "metadata": {},
   "outputs": [],
   "source": [
    "rec_error_test_set_final = [item for sublist in rec_error_test_set_final for item in sublist]\n",
    "print(rec_error_test_set_final)"
   ]
  },
  {
   "cell_type": "code",
   "execution_count": null,
   "metadata": {},
   "outputs": [],
   "source": [
    "y_prob = map_error2prob_list(rec_error_test_set_final)\n",
    "print(y_prob)"
   ]
  },
  {
   "cell_type": "code",
   "execution_count": null,
   "metadata": {},
   "outputs": [],
   "source": [
    "auc_score = roc_auc_score(y_true_final, y_prob)\n",
    "print('AUROC = %.3f' % (auc_score))\n",
    "fpr, tpr, thresholds = roc_curve(y_true_final, y_prob)\n",
    "print(\"The fpr is: \", fpr)\n",
    "print(\"The tpr is: \", tpr)\n",
    "print(\"The thresholds are: \", thresholds)"
   ]
  },
  {
   "cell_type": "code",
   "execution_count": null,
   "metadata": {},
   "outputs": [],
   "source": [
    "plt.plot(fpr, tpr, marker='.', label='AUROC = %0.3f' % auc_score)\n",
    "# Title\n",
    "plt.title('ROC Plot')\n",
    "# Axis labels\n",
    "plt.xlabel('False Positive Rate')\n",
    "plt.ylabel('True Positive Rate')\n",
    "# Show legend\n",
    "plt.legend() # \n",
    "# Show plot\n",
    "plt.show()"
   ]
  },
  {
   "attachments": {},
   "cell_type": "markdown",
   "metadata": {},
   "source": [
    "Above we can see that the results are quite poor."
   ]
  },
  {
   "attachments": {},
   "cell_type": "markdown",
   "metadata": {},
   "source": [
    "## Testing the results of the roc_curve function"
   ]
  },
  {
   "attachments": {},
   "cell_type": "markdown",
   "metadata": {},
   "source": [
    "According to the above, with a threshold of 0.17489895 we will have:\n",
    "- TPR = 1\n",
    "- FPR = 0\n",
    "\n",
    "This is for the UBUNTU laptop\n"
   ]
  },
  {
   "attachments": {},
   "cell_type": "markdown",
   "metadata": {},
   "source": [
    "According to the above, with a threshold of 0.17489895 we will have:\n",
    "- TPR = 1.0\n",
    "- FPR = 1.0\n",
    "\n",
    "This is for the work laptop\n"
   ]
  },
  {
   "attachments": {},
   "cell_type": "markdown",
   "metadata": {},
   "source": [
    "We already have:\n",
    "- TPR = 1\n",
    "- FPR = 0.08\n",
    "\n",
    "With a threshodl of 0.5. So let's validate if with 0.17489895 we obtain what is expected\n",
    "\n",
    "This is for the UBUNTU laptop"
   ]
  },
  {
   "cell_type": "code",
   "execution_count": null,
   "metadata": {},
   "outputs": [],
   "source": [
    "def computePred_v2(err_value):\n",
    "    pred = 0\n",
    "    prob_anomaly = map_error2prob(err_value)/100\n",
    "    if prob_anomaly > 0.74328539:\n",
    "        pred = 1\n",
    "    return pred"
   ]
  },
  {
   "cell_type": "code",
   "execution_count": null,
   "metadata": {},
   "outputs": [],
   "source": [
    "y_pred_final = []\n",
    "y_true_final = []\n",
    "\n",
    "errors_list = []\n",
    "for i in range(len(test_set_generator)):        # Traversing all the batches of the test set\n",
    "    batch_images = next(test_set_generator)[0]\n",
    "    y_pred = []\n",
    "    y_true = []\n",
    "    if(i>0):\n",
    "        index = batch_images.shape[0]*i\n",
    "    else:\n",
    "        index = 0\n",
    "        \n",
    "    for im in range(0, batch_images.shape[0]):  #Traversing all the images in the batch\n",
    "        img  = batch_images[im]\n",
    "        img = img[np.newaxis, :,:,:]\n",
    "        reconstruction = model.predict([[img]])\n",
    "        reconstruction_error = model.evaluate([reconstruction],[[img]])[0]\n",
    "        errors_list.append(reconstruction_error)\n",
    "        prediction = computePred_v2(reconstruction_error)   \n",
    "        y_pred.append(prediction) # Save Prediction\n",
    "        y_true.append(labels_test[index]) # Save Truth \n",
    "        index = index+1\n",
    "\n",
    "    y_pred_final.append(y_pred)  \n",
    "    y_true_final.append(y_true)  \n",
    "print(y_true_final)\n",
    "print(y_pred_final)"
   ]
  },
  {
   "cell_type": "code",
   "execution_count": null,
   "metadata": {},
   "outputs": [],
   "source": [
    "y_true_final = [item for sublist in y_true_final for item in sublist]\n",
    "y_pred_final = [item for sublist in y_pred_final for item in sublist]\n",
    "print(y_true_final)\n",
    "print(y_pred_final)"
   ]
  },
  {
   "cell_type": "code",
   "execution_count": null,
   "metadata": {},
   "outputs": [],
   "source": [
    "conf_matrix = confusion_matrix(y_true_final, y_pred_final)\n",
    "print(conf_matrix)"
   ]
  },
  {
   "cell_type": "code",
   "execution_count": null,
   "metadata": {},
   "outputs": [],
   "source": [
    "group_names = ['True Neg','False Pos','False Neg','True Pos']\n",
    "group_counts = [\"{0:0.0f}\".format(value) for value in\n",
    "                conf_matrix.flatten()]\n",
    "group_percentages = [\"{0:.2%}\".format(value) for value in\n",
    "                     conf_matrix.flatten()/np.sum(conf_matrix)]\n",
    "labels = [f\"{v1}\\n{v2}\\n{v3}\" for v1, v2, v3 in\n",
    "          zip(group_names,group_counts,group_percentages)]        #To print the group names as well \n",
    "\n",
    "labels = np.asarray(labels).reshape(2,2)\n",
    "categories = ['Positive bottles', 'Anomaly bottles']\n",
    "sn.heatmap(conf_matrix, annot=labels, fmt='', xticklabels=categories,yticklabels=categories, cmap='Blues')\n",
    "plt.ylabel('True label')\n",
    "plt.xlabel('Predicted label')"
   ]
  },
  {
   "cell_type": "code",
   "execution_count": null,
   "metadata": {},
   "outputs": [],
   "source": [
    "_tp = conf_matrix[1, 1]\n",
    "_fn = conf_matrix[1, 0]\n",
    "_fp = conf_matrix[0, 1]\n",
    "_tn = conf_matrix[0, 0]\n",
    "_tpr = _tp/(_tp+_fn)\n",
    "print(\"The TPR values are: \", _tpr)\n",
    "_fpr = _fp / (_tn + _fp)\n",
    "print(\"The FPR value is: \", _fpr)"
   ]
  },
  {
   "attachments": {},
   "cell_type": "markdown",
   "metadata": {},
   "source": [
    "But nop, the FPR is even higher than with the trheshold = 50%. We conclude that the ROC curve analysis using the \"roc_curve()\" function does not work that well when there is only three possible threshold values."
   ]
  },
  {
   "cell_type": "code",
   "execution_count": null,
   "metadata": {},
   "outputs": [],
   "source": []
  }
 ],
 "metadata": {
  "kernelspec": {
   "display_name": "tfm",
   "language": "python",
   "name": "python3"
  },
  "language_info": {
   "codemirror_mode": {
    "name": "ipython",
    "version": 3
   },
   "file_extension": ".py",
   "mimetype": "text/x-python",
   "name": "python",
   "nbconvert_exporter": "python",
   "pygments_lexer": "ipython3",
   "version": "3.8.16"
  },
  "orig_nbformat": 4
 },
 "nbformat": 4,
 "nbformat_minor": 2
}
