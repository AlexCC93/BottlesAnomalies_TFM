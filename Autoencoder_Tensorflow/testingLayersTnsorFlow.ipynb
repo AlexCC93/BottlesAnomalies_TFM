{
 "cells": [
  {
   "cell_type": "code",
   "execution_count": 1,
   "metadata": {},
   "outputs": [],
   "source": [
    "from tensorflow.keras.models import Sequential\n",
    "from tensorflow.keras.layers import Conv2D, MaxPooling2D, UpSampling2D\n",
    "from tensorflow.keras.preprocessing.image import ImageDataGenerator\n",
    "from tensorflow import keras\n",
    "import tensorflow as tf\n",
    "from keras import layers\n",
    "\n",
    "from PIL import Image\n",
    "import matplotlib.pyplot as plt\n",
    "import numpy as np\n",
    "import random\n",
    "\n"
   ]
  },
  {
   "cell_type": "code",
   "execution_count": 2,
   "metadata": {},
   "outputs": [],
   "source": [
    "batch_size = 15\n",
    "SIZE = 224"
   ]
  },
  {
   "attachments": {},
   "cell_type": "markdown",
   "metadata": {},
   "source": [
    "General example"
   ]
  },
  {
   "cell_type": "code",
   "execution_count": 3,
   "metadata": {},
   "outputs": [
    {
     "name": "stdout",
     "output_type": "stream",
     "text": [
      "The input shape is:  (15, 224, 224, 3)\n",
      "The output shape, after applying Conv2D, is:  (15, 222, 222, 2)\n"
     ]
    }
   ],
   "source": [
    "input_shape = (batch_size, SIZE, SIZE, 3)\n",
    "x = tf.random.normal(input_shape)\n",
    "print(\"The input shape is: \", x.shape)\n",
    "y = tf.keras.layers.Conv2D(2, 3, activation='relu', input_shape=input_shape[1:])(x) # Conv2D(filters, kernel size, ...)\n",
    "print(\"The output shape, after applying Conv2D, is: \", y.shape)"
   ]
  },
  {
   "cell_type": "code",
   "execution_count": 4,
   "metadata": {},
   "outputs": [
    {
     "name": "stdout",
     "output_type": "stream",
     "text": [
      "(224, 224, 3)\n"
     ]
    }
   ],
   "source": [
    "print(input_shape[1:])"
   ]
  },
  {
   "attachments": {},
   "cell_type": "markdown",
   "metadata": {},
   "source": [
    "# For the layers in program \"BottlesTensorflow\""
   ]
  },
  {
   "cell_type": "code",
   "execution_count": 5,
   "metadata": {},
   "outputs": [
    {
     "name": "stdout",
     "output_type": "stream",
     "text": [
      "after Conv2D, the shape is:  (None, 224, 224, 16)\n"
     ]
    }
   ],
   "source": [
    "input_img = keras.Input(shape=(SIZE, SIZE, 3))\n",
    "x = layers.Conv2D(16, (3, 3), activation='relu', padding='same')(input_img) #Conv2D(filters, kernel_size, ...)\n",
    "print(\"after Conv2D, the shape is: \", x.shape)\n",
    "autoencoder = keras.Model(input_img, x)"
   ]
  },
  {
   "cell_type": "code",
   "execution_count": 6,
   "metadata": {},
   "outputs": [
    {
     "name": "stdout",
     "output_type": "stream",
     "text": [
      "The input shape is:  (15, 224, 224, 3)\n",
      "1/1 [==============================] - 0s 99ms/step\n",
      "The output shape, after feeding to the autoencoder, is:  (15, 224, 224, 16)\n"
     ]
    }
   ],
   "source": [
    "input_shape = (batch_size, SIZE, SIZE, 3)\n",
    "x = tf.random.normal(input_shape)\n",
    "print(\"The input shape is: \", x.shape)\n",
    "decoded_imgs = autoencoder.predict(x)\n",
    "print(\"The output shape, after feeding to the autoencoder, is: \", decoded_imgs.shape)"
   ]
  },
  {
   "cell_type": "code",
   "execution_count": null,
   "metadata": {},
   "outputs": [],
   "source": []
  }
 ],
 "metadata": {
  "kernelspec": {
   "display_name": "tfm",
   "language": "python",
   "name": "python3"
  },
  "language_info": {
   "codemirror_mode": {
    "name": "ipython",
    "version": 3
   },
   "file_extension": ".py",
   "mimetype": "text/x-python",
   "name": "python",
   "nbconvert_exporter": "python",
   "pygments_lexer": "ipython3",
   "version": "3.9.16"
  },
  "orig_nbformat": 4
 },
 "nbformat": 4,
 "nbformat_minor": 2
}
