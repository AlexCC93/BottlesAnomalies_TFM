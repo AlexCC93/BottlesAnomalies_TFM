{
 "cells": [
  {
   "cell_type": "markdown",
   "metadata": {},
   "source": [
    "# Importing libraries"
   ]
  },
  {
   "cell_type": "code",
   "execution_count": 2,
   "metadata": {},
   "outputs": [],
   "source": [
    "from tensorflow.keras.models import Sequential, Model\n",
    "from tensorflow.keras.layers import *\n",
    "from tensorflow.keras.preprocessing.image import ImageDataGenerator\n",
    "from tensorflow import keras\n",
    "import tensorflow as tf\n",
    "# from keras import layers\n",
    "\n",
    "\n",
    "from tensorflow.keras.optimizers import Adam, RMSprop\n",
    "from tensorflow.keras.preprocessing import image\n",
    "\n",
    "import tensorflow.keras.backend as K\n",
    "\n",
    "\n",
    "from PIL import Image\n",
    "import matplotlib.pyplot as plt\n",
    "import numpy as np\n",
    "import random\n",
    "\n"
   ]
  },
  {
   "cell_type": "code",
   "execution_count": 3,
   "metadata": {},
   "outputs": [
    {
     "name": "stdout",
     "output_type": "stream",
     "text": [
      "Num GPUs Available:  1\n"
     ]
    },
    {
     "name": "stderr",
     "output_type": "stream",
     "text": [
      "2023-08-19 23:42:48.416881: I tensorflow/stream_executor/platform/default/dso_loader.cc:44] Successfully opened dynamic library libcuda.so.1\n",
      "2023-08-19 23:42:48.443597: I tensorflow/stream_executor/cuda/cuda_gpu_executor.cc:981] successful NUMA node read from SysFS had negative value (-1), but there must be at least one NUMA node, so returning NUMA node zero\n",
      "2023-08-19 23:42:48.443905: I tensorflow/core/common_runtime/gpu/gpu_device.cc:1561] Found device 0 with properties: \n",
      "pciBusID: 0000:01:00.0 name: NVIDIA GeForce RTX 2080 with Max-Q Design computeCapability: 7.5\n",
      "coreClock: 1.23GHz coreCount: 46 deviceMemorySize: 7.79GiB deviceMemoryBandwidth: 357.69GiB/s\n",
      "2023-08-19 23:42:48.444087: I tensorflow/stream_executor/platform/default/dso_loader.cc:44] Successfully opened dynamic library libcudart.so.10.1\n",
      "2023-08-19 23:42:48.445338: I tensorflow/stream_executor/platform/default/dso_loader.cc:44] Successfully opened dynamic library libcublas.so.10\n",
      "2023-08-19 23:42:48.446549: I tensorflow/stream_executor/platform/default/dso_loader.cc:44] Successfully opened dynamic library libcufft.so.10\n",
      "2023-08-19 23:42:48.446752: I tensorflow/stream_executor/platform/default/dso_loader.cc:44] Successfully opened dynamic library libcurand.so.10\n",
      "2023-08-19 23:42:48.448070: I tensorflow/stream_executor/platform/default/dso_loader.cc:44] Successfully opened dynamic library libcusolver.so.10\n",
      "2023-08-19 23:42:48.448857: I tensorflow/stream_executor/platform/default/dso_loader.cc:44] Successfully opened dynamic library libcusparse.so.10\n",
      "2023-08-19 23:42:48.451641: I tensorflow/stream_executor/platform/default/dso_loader.cc:44] Successfully opened dynamic library libcudnn.so.7\n",
      "2023-08-19 23:42:48.451728: I tensorflow/stream_executor/cuda/cuda_gpu_executor.cc:981] successful NUMA node read from SysFS had negative value (-1), but there must be at least one NUMA node, so returning NUMA node zero\n",
      "2023-08-19 23:42:48.452074: I tensorflow/stream_executor/cuda/cuda_gpu_executor.cc:981] successful NUMA node read from SysFS had negative value (-1), but there must be at least one NUMA node, so returning NUMA node zero\n",
      "2023-08-19 23:42:48.452345: I tensorflow/core/common_runtime/gpu/gpu_device.cc:1703] Adding visible gpu devices: 0\n"
     ]
    }
   ],
   "source": [
    "physical_devices = tf.config.experimental.list_physical_devices('GPU')\n",
    "if len(physical_devices) == 0:\n",
    "    print(\"Not enough GPU hardware devices available\")\n",
    "else:\n",
    "    config = tf.config.experimental.set_memory_growth(physical_devices[0], True)\n",
    "print(\"Num GPUs Available: \", len(physical_devices))"
   ]
  },
  {
   "cell_type": "markdown",
   "metadata": {},
   "source": [
    "If uncommented it will print all the log information about where the tensorflow operations were performed, in the CPU or the GPU"
   ]
  },
  {
   "cell_type": "code",
   "execution_count": 4,
   "metadata": {},
   "outputs": [],
   "source": [
    "# tf.debugging.set_log_device_placement(True)       # Will print the log information of every execution of tensorflow, mainly about "
   ]
  },
  {
   "attachments": {},
   "cell_type": "markdown",
   "metadata": {},
   "source": [
    "# Loading the train data set"
   ]
  },
  {
   "attachments": {},
   "cell_type": "markdown",
   "metadata": {},
   "source": [
    "ImageDataGenerator.flow_from_directory: Takes the path to a directory and generates batches of augmented data."
   ]
  },
  {
   "cell_type": "code",
   "execution_count": 5,
   "metadata": {},
   "outputs": [],
   "source": [
    "def my_crop(img, start_y, start_x, desired_height, desired_width):\n",
    "  if K.image_data_format() == 'channels_last':\n",
    "    # Note: image_data_format is 'channel_last'\n",
    "    assert img.shape[2] == 3\n",
    "    dy = desired_height #input desired output size\n",
    "    dx = desired_width #input desired output size\n",
    "    # start_y = (height-dy)//2\n",
    "    # start_x = (width-dx)//2\n",
    "    return img[start_y:start_y+dy, start_x:(dx+start_x), :]\n",
    "  else:\n",
    "      assert img.shape[0] == 3\n",
    "      dy = desired_height #input desired output size\n",
    "      dx = desired_width #input desired output size\n",
    "      # start_y = (height-dy)//2\n",
    "      # start_x = (width-dx)//2\n",
    "      return img[:,start_y:start_y + dy, start_x:(dx + start_x)]\n",
    "\n",
    "def crop_augmented_generator(batches, start_y, start_x, crop_height, crop_width):\n",
    "    '''\n",
    "    Take as input a Keras ImageGen (Iterator) and generate\n",
    "    crops from the image batches generated by the original iterator\n",
    "    '''\n",
    "    # print(\"I'm in the crop_generataor function\")\n",
    "    while True:\n",
    "      batch_x, batch_y = next(batches)  # In batch_x there are the images, in batch_y there are the labels\n",
    "    #   print(\"hello\")\n",
    "    #   print('the shape of tensor batch_x is:', batch_x.shape)\n",
    "    #   print('batch_y is:', batch_y)\n",
    "    \n",
    "      if K.image_data_format() == 'channels_last':\n",
    "        # print(\"type of batch_x: \", type(batch_x))\n",
    "        # print(\"type of batch_y: \", type(batch_y))\n",
    "        # print(\"len of batch_x: \", len(batch_x))\n",
    "\n",
    "        # Either batch_x or batch_y could be augmented or original\n",
    "        batch_crops_input_x = np.zeros((batch_x[0].shape[0], crop_height, crop_width, 3))\n",
    "        batch_crops_target_x = np.zeros((batch_x[1].shape[0], crop_height, crop_width, 3))\n",
    "\n",
    "        batch_crops_input_y = np.zeros((batch_y[0].shape[0], crop_height, crop_width, 3))\n",
    "        batch_crops_target_y = np.zeros((batch_y[1].shape[0], crop_height, crop_width, 3))\n",
    "      else:\n",
    "        # Either batch_x or batch_y could be augmented or original\n",
    "        batch_crops_input_x = np.zeros((batch_x[0].shape[0], 3, crop_height, crop_width))\n",
    "        batch_crops_target_x = np.zeros((batch_x[1].shape[0], 3, crop_height, crop_width))\n",
    "\n",
    "        batch_crops_input_y = np.zeros((batch_y[0].shape[0], 3, crop_height, crop_width))\n",
    "        batch_crops_target_y = np.zeros((batch_y[1].shape[0], 3, crop_height, crop_width))\n",
    "\n",
    "      for i in range(batch_x[0].shape[0]):\n",
    "        #   print(\"THe shape of a single image before the cropping is: \", batch_x[i].shape)\n",
    "        batch_crops_input_x[i] = my_crop(batch_x[0][i], start_y, start_x, crop_height, crop_width)\n",
    "        batch_crops_target_x[i] = my_crop(batch_x[1][i], start_y, start_x, crop_height, crop_width)\n",
    "\n",
    "        batch_crops_input_y[i] = my_crop(batch_y[0][i], start_y, start_x, crop_height, crop_width)\n",
    "        batch_crops_target_y[i] = my_crop(batch_y[1][i], start_y, start_x, crop_height, crop_width)\n",
    "      \n",
    "      # print(type(batch_crops_input_x))\n",
    "      batch_crops_x = (batch_crops_input_x, batch_crops_target_x)\n",
    "      batch_crops_y = (batch_crops_input_y, batch_crops_target_y)\n",
    "\n",
    "      yield (batch_crops_x, batch_crops_y)\n",
    "\n",
    "  \n",
    "    \n",
    "def crop_generator(batches, start_y, start_x, crop_height, crop_width, flag=0):\n",
    "    '''\n",
    "    Take as input a Keras ImageGen (Iterator) and generate\n",
    "    crops from the image batches generated by the original iterator\n",
    "    '''\n",
    "    # print(\"I'm in the crop_generataor function\")\n",
    "    while True:\n",
    "      batch_x, batch_y = next(batches)  # In batch_x there are the images, in batch_y there are the labels\n",
    "    #   print(\"hello\")\n",
    "    #   print('the shape of tensor batch_x is:', batch_x.shape)\n",
    "    #   print('batch_y is:', batch_y)\n",
    "      if flag==0:\n",
    "        if K.image_data_format() == 'channels_last':\n",
    "          batch_crops = np.zeros((batch_x.shape[0], crop_height, crop_width, 3))\n",
    "          batch_crops_y = np.zeros((batch_y.shape[0], crop_height, crop_width, 3))\n",
    "        else:\n",
    "          batch_crops = np.zeros((batch_x.shape[0], 3, crop_height, crop_width))\n",
    "          batch_crops_y = np.zeros((batch_y.shape[0], 3, crop_height, crop_width))\n",
    "        for i in range(batch_x.shape[0]):\n",
    "          #   print(\"THe shape of a single image before the cropping is: \", batch_x[i].shape)\n",
    "            batch_crops[i] = my_crop(batch_x[i], start_y, start_x, crop_height, crop_width)\n",
    "            batch_crops_y[i] = my_crop(batch_x[i], start_y, start_x, crop_height, crop_width)\n",
    "        yield (batch_crops, batch_crops_y)\n",
    "      else: \n",
    "        if K.image_data_format() == 'channels_last':\n",
    "          batch_crops = np.zeros((batch_x.shape[0], crop_height, crop_width, 3))\n",
    "        else:\n",
    "          batch_crops = np.zeros((batch_x.shape[0], 3, crop_height, crop_width))\n",
    "        for i in range(batch_x.shape[0]):\n",
    "          #   print(\"THe shape of a single image before the cropping is: \", batch_x[i].shape)\n",
    "            batch_crops[i] = my_crop(batch_x[i], start_y, start_x, crop_height, crop_width)\n",
    "\n",
    "        yield (batch_crops, batch_y)\n",
    "         "
   ]
  },
  {
   "cell_type": "code",
   "execution_count": 6,
   "metadata": {},
   "outputs": [
    {
     "name": "stdout",
     "output_type": "stream",
     "text": [
      "Found 295 images belonging to 1 classes.\n",
      "Found 295 images belonging to 1 classes.\n"
     ]
    }
   ],
   "source": [
    "# batch_size = 64\n",
    "batch_size = 10\n",
    "train_datagen = ImageDataGenerator(rescale=1./255,\n",
    "                                    brightness_range=[0.88,1.0]) # Typically used for data augmentation. Here it is only rescaling the image pixels value to range 0 to 1 in decimals and changing the brightness\n",
    "\n",
    "\n",
    "original_datagen = ImageDataGenerator(rescale=1./255)\n",
    "\n",
    "\n",
    "train_generator = train_datagen.flow_from_directory(\n",
    "    \"../../Images/june5Night/Positive/\",         # For home laptop\n",
    "    # \"../../../BottleStoodUp_atNight/Positive/\",          # For work laptop\n",
    "    batch_size=batch_size,\n",
    "    shuffle = False,\n",
    "    class_mode='input'\n",
    "    )\n",
    "\n",
    "# Generate original images from the original data directory\n",
    "original_generator = original_datagen.flow_from_directory(\n",
    "    \"../../Images/june5Night/Positive/\",\n",
    "    batch_size=batch_size,\n",
    "    shuffle = False,\n",
    "    class_mode='input')\n",
    "\n",
    "# Combine the generators using the `keras.preprocessing.image.Iterator` class\n",
    "combined_generator = zip(train_generator, original_generator)"
   ]
  },
  {
   "cell_type": "code",
   "execution_count": 7,
   "metadata": {},
   "outputs": [
    {
     "name": "stdout",
     "output_type": "stream",
     "text": [
      "Found 20 images belonging to 1 classes.\n"
     ]
    }
   ],
   "source": [
    "validation_generator = original_datagen.flow_from_directory(\n",
    "    \"../../Images/june5Night/Positive_val/\",     # For home laptop\n",
    "    # \"../../../BottleStoodUp_atNight/Positive_val/\",           # For work lpatop   \n",
    "    batch_size=batch_size,\n",
    "    shuffle = False,\n",
    "    class_mode='input'\n",
    "    )\n"
   ]
  },
  {
   "cell_type": "code",
   "execution_count": 9,
   "metadata": {},
   "outputs": [
    {
     "name": "stdout",
     "output_type": "stream",
     "text": [
      "Found 30 images belonging to 2 classes.\n"
     ]
    }
   ],
   "source": [
    "validation_generator_for_threshold = original_datagen.flow_from_directory(\n",
    "    \"../../Images/june5Night/Validation/\",     # For home laptop\n",
    "    # \"../../../BottleStoodUp_atNight/Positive_val/\",           # For work lpatop   \n",
    "    batch_size=batch_size,\n",
    "    shuffle = False,\n",
    "    class_mode='binary'\n",
    "    )"
   ]
  },
  {
   "cell_type": "code",
   "execution_count": 10,
   "metadata": {},
   "outputs": [
    {
     "name": "stdout",
     "output_type": "stream",
     "text": [
      "Found 30 images belonging to 2 classes.\n"
     ]
    }
   ],
   "source": [
    "test_set_generator = original_datagen.flow_from_directory(\n",
    "    \"../../Images/june5Night/Evaluation/\",       # For home laptop\n",
    "    # \"../../../BottleStoodUp_atNight/Evaluation/\",             # For work laptop  \n",
    "    batch_size=batch_size,\n",
    "    shuffle = False,\n",
    "    class_mode='binary'\n",
    "    )\n"
   ]
  },
  {
   "cell_type": "markdown",
   "metadata": {},
   "source": [
    "# Showing one sample of the training set images"
   ]
  },
  {
   "attachments": {},
   "cell_type": "markdown",
   "metadata": {},
   "source": [
    "Creating the cropped images"
   ]
  },
  {
   "cell_type": "code",
   "execution_count": 11,
   "metadata": {},
   "outputs": [],
   "source": [
    "HEIGHT = 160\n",
    "WIDTH = 128"
   ]
  },
  {
   "cell_type": "code",
   "execution_count": 12,
   "metadata": {},
   "outputs": [],
   "source": [
    "train_crops = crop_augmented_generator(combined_generator, 65, 69, HEIGHT,WIDTH)      # top, left, height, width\n",
    "val_crops = crop_generator(validation_generator, 65, 69, HEIGHT,WIDTH)      # top, left, height, width\n",
    "test_crops = crop_generator(test_set_generator, 65, 69, HEIGHT,WIDTH,1)      # top, left, height, width\n",
    "val_crops_for_threshold = crop_generator(validation_generator_for_threshold, 65, 69, HEIGHT,WIDTH,1)      # top, left, height, width"
   ]
  },
  {
   "attachments": {},
   "cell_type": "markdown",
   "metadata": {},
   "source": [
    "Here we make sure that both of the returned elements of the cropped generator, that is \"imgaes_in_batch\" and \"imgaes_in_batch2\", are indeed cropped images."
   ]
  },
  {
   "cell_type": "code",
   "execution_count": 13,
   "metadata": {},
   "outputs": [],
   "source": [
    "images_in_batch, images_in_batch2 = next(train_crops)"
   ]
  },
  {
   "cell_type": "code",
   "execution_count": 14,
   "metadata": {},
   "outputs": [
    {
     "name": "stdout",
     "output_type": "stream",
     "text": [
      "(10, 160, 128, 3)\n",
      "(10, 160, 128, 3)\n"
     ]
    }
   ],
   "source": [
    "batch_input_images1 = images_in_batch[0]\n",
    "batch_expected_images1 = images_in_batch[1]\n",
    "print(batch_input_images1.shape)\n",
    "print(batch_expected_images1.shape)"
   ]
  },
  {
   "cell_type": "code",
   "execution_count": 15,
   "metadata": {},
   "outputs": [
    {
     "name": "stdout",
     "output_type": "stream",
     "text": [
      "(10, 160, 128, 3)\n",
      "(10, 160, 128, 3)\n"
     ]
    }
   ],
   "source": [
    "batch_input_images2 = images_in_batch2[0]\n",
    "batch_expected_images2 = images_in_batch2[1]\n",
    "print(batch_input_images2.shape)\n",
    "print(batch_expected_images2.shape)"
   ]
  },
  {
   "cell_type": "code",
   "execution_count": 16,
   "metadata": {},
   "outputs": [
    {
     "data": {
      "text/plain": [
       "<matplotlib.image.AxesImage at 0x7f45b00b67c0>"
      ]
     },
     "execution_count": 16,
     "metadata": {},
     "output_type": "execute_result"
    },
    {
     "data": {
      "image/png": "[encoded data removed]",
      "text/plain": [
       "<Figure size 640x480 with 1 Axes>"
      ]
     },
     "metadata": {},
     "output_type": "display_data"
    }
   ],
   "source": [
    "single_img_batch1 = batch_input_images1[0]\n",
    "plt.imshow(single_img_batch1)"
   ]
  },
  {
   "cell_type": "code",
   "execution_count": 17,
   "metadata": {},
   "outputs": [
    {
     "data": {
      "text/plain": [
       "<matplotlib.image.AxesImage at 0x7f45b0051430>"
      ]
     },
     "execution_count": 17,
     "metadata": {},
     "output_type": "execute_result"
    },
    {
     "data": {
      "image/png": "[encoded data removed]",
      "text/plain": [
       "<Figure size 640x480 with 1 Axes>"
      ]
     },
     "metadata": {},
     "output_type": "display_data"
    }
   ],
   "source": [
    "single_img_batch2 = batch_input_images2[0]\n",
    "plt.imshow(single_img_batch2)"
   ]
  },
  {
   "attachments": {},
   "cell_type": "markdown",
   "metadata": {},
   "source": [
    "# Building the model Autoencoder model"
   ]
  },
  {
   "cell_type": "code",
   "execution_count": 18,
   "metadata": {},
   "outputs": [
    {
     "name": "stderr",
     "output_type": "stream",
     "text": [
      "2023-08-19 23:44:03.598553: I tensorflow/core/platform/cpu_feature_guard.cc:143] Your CPU supports instructions that this TensorFlow binary was not compiled to use: AVX2 FMA\n",
      "2023-08-19 23:44:03.621639: I tensorflow/core/platform/profile_utils/cpu_utils.cc:102] CPU Frequency: 2599990000 Hz\n",
      "2023-08-19 23:44:03.622224: I tensorflow/compiler/xla/service/service.cc:168] XLA service 0x7f4520000b90 initialized for platform Host (this does not guarantee that XLA will be used). Devices:\n",
      "2023-08-19 23:44:03.622251: I tensorflow/compiler/xla/service/service.cc:176]   StreamExecutor device (0): Host, Default Version\n",
      "2023-08-19 23:44:03.690870: I tensorflow/stream_executor/cuda/cuda_gpu_executor.cc:981] successful NUMA node read from SysFS had negative value (-1), but there must be at least one NUMA node, so returning NUMA node zero\n",
      "2023-08-19 23:44:03.691263: I tensorflow/compiler/xla/service/service.cc:168] XLA service 0x5a3b5b0 initialized for platform CUDA (this does not guarantee that XLA will be used). Devices:\n",
      "2023-08-19 23:44:03.691278: I tensorflow/compiler/xla/service/service.cc:176]   StreamExecutor device (0): NVIDIA GeForce RTX 2080 with Max-Q Design, Compute Capability 7.5\n",
      "2023-08-19 23:44:03.691425: I tensorflow/stream_executor/cuda/cuda_gpu_executor.cc:981] successful NUMA node read from SysFS had negative value (-1), but there must be at least one NUMA node, so returning NUMA node zero\n",
      "2023-08-19 23:44:03.691720: I tensorflow/core/common_runtime/gpu/gpu_device.cc:1561] Found device 0 with properties: \n",
      "pciBusID: 0000:01:00.0 name: NVIDIA GeForce RTX 2080 with Max-Q Design computeCapability: 7.5\n",
      "coreClock: 1.23GHz coreCount: 46 deviceMemorySize: 7.79GiB deviceMemoryBandwidth: 357.69GiB/s\n",
      "2023-08-19 23:44:03.691749: I tensorflow/stream_executor/platform/default/dso_loader.cc:44] Successfully opened dynamic library libcudart.so.10.1\n",
      "2023-08-19 23:44:03.691761: I tensorflow/stream_executor/platform/default/dso_loader.cc:44] Successfully opened dynamic library libcublas.so.10\n",
      "2023-08-19 23:44:03.691772: I tensorflow/stream_executor/platform/default/dso_loader.cc:44] Successfully opened dynamic library libcufft.so.10\n",
      "2023-08-19 23:44:03.691783: I tensorflow/stream_executor/platform/default/dso_loader.cc:44] Successfully opened dynamic library libcurand.so.10\n",
      "2023-08-19 23:44:03.691793: I tensorflow/stream_executor/platform/default/dso_loader.cc:44] Successfully opened dynamic library libcusolver.so.10\n",
      "2023-08-19 23:44:03.691803: I tensorflow/stream_executor/platform/default/dso_loader.cc:44] Successfully opened dynamic library libcusparse.so.10\n",
      "2023-08-19 23:44:03.691814: I tensorflow/stream_executor/platform/default/dso_loader.cc:44] Successfully opened dynamic library libcudnn.so.7\n",
      "2023-08-19 23:44:03.691861: I tensorflow/stream_executor/cuda/cuda_gpu_executor.cc:981] successful NUMA node read from SysFS had negative value (-1), but there must be at least one NUMA node, so returning NUMA node zero\n",
      "2023-08-19 23:44:03.692170: I tensorflow/stream_executor/cuda/cuda_gpu_executor.cc:981] successful NUMA node read from SysFS had negative value (-1), but there must be at least one NUMA node, so returning NUMA node zero\n",
      "2023-08-19 23:44:03.692439: I tensorflow/core/common_runtime/gpu/gpu_device.cc:1703] Adding visible gpu devices: 0\n",
      "2023-08-19 23:44:03.692466: I tensorflow/stream_executor/platform/default/dso_loader.cc:44] Successfully opened dynamic library libcudart.so.10.1\n",
      "2023-08-19 23:44:03.692852: I tensorflow/core/common_runtime/gpu/gpu_device.cc:1102] Device interconnect StreamExecutor with strength 1 edge matrix:\n",
      "2023-08-19 23:44:03.692861: I tensorflow/core/common_runtime/gpu/gpu_device.cc:1108]      0 \n",
      "2023-08-19 23:44:03.692866: I tensorflow/core/common_runtime/gpu/gpu_device.cc:1121] 0:   N \n",
      "2023-08-19 23:44:03.692946: I tensorflow/stream_executor/cuda/cuda_gpu_executor.cc:981] successful NUMA node read from SysFS had negative value (-1), but there must be at least one NUMA node, so returning NUMA node zero\n",
      "2023-08-19 23:44:03.693263: I tensorflow/stream_executor/cuda/cuda_gpu_executor.cc:981] successful NUMA node read from SysFS had negative value (-1), but there must be at least one NUMA node, so returning NUMA node zero\n",
      "2023-08-19 23:44:03.693569: I tensorflow/core/common_runtime/gpu/gpu_device.cc:1247] Created TensorFlow device (/job:localhost/replica:0/task:0/device:GPU:0 with 5379 MB memory) -> physical GPU (device: 0, name: NVIDIA GeForce RTX 2080 with Max-Q Design, pci bus id: 0000:01:00.0, compute capability: 7.5)\n"
     ]
    },
    {
     "name": "stdout",
     "output_type": "stream",
     "text": [
      "(None, 10, 8, 1)\n",
      "(None, 40)\n",
      "Model: \"model\"\n",
      "_________________________________________________________________\n",
      "Layer (type)                 Output Shape              Param #   \n",
      "=================================================================\n",
      "input_1 (InputLayer)         [(None, 160, 128, 3)]     0         \n",
      "_________________________________________________________________\n",
      "conv2d (Conv2D)              (None, 160, 128, 64)      1792      \n",
      "_________________________________________________________________\n",
      "max_pooling2d (MaxPooling2D) (None, 80, 64, 64)        0         \n",
      "_________________________________________________________________\n",
      "conv2d_1 (Conv2D)            (None, 80, 64, 32)        18464     \n",
      "_________________________________________________________________\n",
      "max_pooling2d_1 (MaxPooling2 (None, 40, 32, 32)        0         \n",
      "_________________________________________________________________\n",
      "conv2d_2 (Conv2D)            (None, 40, 32, 16)        4624      \n",
      "_________________________________________________________________\n",
      "max_pooling2d_2 (MaxPooling2 (None, 20, 16, 16)        0         \n",
      "_________________________________________________________________\n",
      "conv2d_3 (Conv2D)            (None, 20, 16, 4)         580       \n",
      "_________________________________________________________________\n",
      "max_pooling2d_3 (MaxPooling2 (None, 10, 8, 4)          0         \n",
      "_________________________________________________________________\n",
      "conv2d_4 (Conv2D)            (None, 10, 8, 1)          37        \n",
      "_________________________________________________________________\n",
      "flatten (Flatten)            (None, 80)                0         \n",
      "_________________________________________________________________\n",
      "dense (Dense)                (None, 80)                6480      \n",
      "_________________________________________________________________\n",
      "dense_1 (Dense)              (None, 40)                3240      \n",
      "=================================================================\n",
      "Total params: 35,217\n",
      "Trainable params: 35,217\n",
      "Non-trainable params: 0\n",
      "_________________________________________________________________\n"
     ]
    }
   ],
   "source": [
    "latent_dim = 40  # Number of latent dimension parameters\n",
    "\n",
    "input_img = Input(shape=(HEIGHT, WIDTH, 3))\n",
    "x = Conv2D(64, (3, 3), activation='relu', padding='same')(input_img)\n",
    "x = MaxPooling2D((2, 2), padding='same')(x)\n",
    "x = Conv2D(32, (3, 3), activation='relu', padding='same')(x)\n",
    "x = MaxPool2D( (2, 2), padding='same')(x)\n",
    "x = Conv2D(16, (3, 3), activation='relu', padding='same')(x)\n",
    "x = MaxPool2D( (2, 2), padding='same')(x)\n",
    "\n",
    "x = Conv2D(4, (3, 3), activation='relu', padding='same')(x)\n",
    "x = MaxPool2D( (2, 2), padding='same')(x)\n",
    "x = Conv2D(1, (3, 3), activation='relu', padding='same')(x)\n",
    "\n",
    "shape_before_flattening = K.int_shape(x)\n",
    "print(shape_before_flattening)\n",
    "x = Flatten()(x)\n",
    "x = Dense(80, activation='relu')(x)        # Activation function is supposed to be none, i.e the output is the same as the input\n",
    "\n",
    "Z = Dense(latent_dim)(x)\n",
    "print(K.int_shape(Z))\n",
    "\n",
    "encoder = Model(input_img,Z)\n",
    "encoder.summary()"
   ]
  },
  {
   "cell_type": "code",
   "execution_count": 19,
   "metadata": {},
   "outputs": [
    {
     "name": "stdout",
     "output_type": "stream",
     "text": [
      "Model: \"model_1\"\n",
      "_________________________________________________________________\n",
      "Layer (type)                 Output Shape              Param #   \n",
      "=================================================================\n",
      "input_2 (InputLayer)         [(None, 40)]              0         \n",
      "_________________________________________________________________\n",
      "intermediate_decoder (Dense) (None, 320)               13120     \n",
      "_________________________________________________________________\n",
      "original_decoder (Dense)     (None, 320)               102720    \n",
      "_________________________________________________________________\n",
      "reshape (Reshape)            (None, 10, 8, 4)          0         \n",
      "_________________________________________________________________\n",
      "conv2d_transpose (Conv2DTran (None, 10, 8, 3)          111       \n",
      "_________________________________________________________________\n",
      "up_sampling2d (UpSampling2D) (None, 20, 16, 3)         0         \n",
      "_________________________________________________________________\n",
      "conv2d_transpose_1 (Conv2DTr (None, 20, 16, 3)         84        \n",
      "_________________________________________________________________\n",
      "up_sampling2d_1 (UpSampling2 (None, 40, 32, 3)         0         \n",
      "_________________________________________________________________\n",
      "conv2d_transpose_2 (Conv2DTr (None, 40, 32, 3)         84        \n",
      "_________________________________________________________________\n",
      "up_sampling2d_2 (UpSampling2 (None, 80, 64, 3)         0         \n",
      "_________________________________________________________________\n",
      "conv2d_transpose_3 (Conv2DTr (None, 80, 64, 3)         84        \n",
      "_________________________________________________________________\n",
      "up_sampling2d_3 (UpSampling2 (None, 160, 128, 3)       0         \n",
      "=================================================================\n",
      "Total params: 116,203\n",
      "Trainable params: 116,203\n",
      "Non-trainable params: 0\n",
      "_________________________________________________________________\n"
     ]
    }
   ],
   "source": [
    "# decoder takes the latent distribution sample as input\n",
    "decoder_input = Input(K.int_shape(Z)[1:])\n",
    "x = Dense(10*8*4, activation='relu', name=\"intermediate_decoder\", input_shape=(latent_dim,))(decoder_input)\n",
    "# Expand to 784 total pixels\n",
    "x = Dense(320, activation='sigmoid', name=\"original_decoder\")(x)\n",
    "x = Reshape((10,8,4),input_shape=(320,))(x)\n",
    "\n",
    "x = Conv2DTranspose(3, (3, 3), padding='same')(x)\n",
    "x = UpSampling2D( (2, 2))(x)\n",
    "x = Conv2DTranspose(3, (3, 3), padding='same')(x)\n",
    "x = UpSampling2D( (2, 2))(x)\n",
    "x = Conv2DTranspose(3, (3, 3), padding='same')(x)\n",
    "x = UpSampling2D( (2, 2))(x)\n",
    "x = Conv2DTranspose(3, (3, 3), padding='same')(x)\n",
    "x = UpSampling2D( (2, 2))(x)\n",
    "\n",
    "# decoder model statement\n",
    "decoder = Model(decoder_input, x)\n",
    "\n",
    "# apply the decoder to the sample from the latent distribution\n",
    "z_decoded = decoder(Z)\n",
    "\n",
    "decoder.summary()"
   ]
  },
  {
   "cell_type": "code",
   "execution_count": 20,
   "metadata": {},
   "outputs": [
    {
     "name": "stdout",
     "output_type": "stream",
     "text": [
      "Model: \"model_2\"\n",
      "_________________________________________________________________\n",
      "Layer (type)                 Output Shape              Param #   \n",
      "=================================================================\n",
      "input_1 (InputLayer)         [(None, 160, 128, 3)]     0         \n",
      "_________________________________________________________________\n",
      "conv2d (Conv2D)              (None, 160, 128, 64)      1792      \n",
      "_________________________________________________________________\n",
      "max_pooling2d (MaxPooling2D) (None, 80, 64, 64)        0         \n",
      "_________________________________________________________________\n",
      "conv2d_1 (Conv2D)            (None, 80, 64, 32)        18464     \n",
      "_________________________________________________________________\n",
      "max_pooling2d_1 (MaxPooling2 (None, 40, 32, 32)        0         \n",
      "_________________________________________________________________\n",
      "conv2d_2 (Conv2D)            (None, 40, 32, 16)        4624      \n",
      "_________________________________________________________________\n",
      "max_pooling2d_2 (MaxPooling2 (None, 20, 16, 16)        0         \n",
      "_________________________________________________________________\n",
      "conv2d_3 (Conv2D)            (None, 20, 16, 4)         580       \n",
      "_________________________________________________________________\n",
      "max_pooling2d_3 (MaxPooling2 (None, 10, 8, 4)          0         \n",
      "_________________________________________________________________\n",
      "conv2d_4 (Conv2D)            (None, 10, 8, 1)          37        \n",
      "_________________________________________________________________\n",
      "flatten (Flatten)            (None, 80)                0         \n",
      "_________________________________________________________________\n",
      "dense (Dense)                (None, 80)                6480      \n",
      "_________________________________________________________________\n",
      "dense_1 (Dense)              (None, 40)                3240      \n",
      "_________________________________________________________________\n",
      "model_1 (Model)              (None, 160, 128, 3)       116203    \n",
      "=================================================================\n",
      "Total params: 151,420\n",
      "Trainable params: 151,420\n",
      "Non-trainable params: 0\n",
      "_________________________________________________________________\n"
     ]
    }
   ],
   "source": [
    "# VAE model statement\n",
    "ae = Model(input_img,z_decoded)\n",
    "ae.compile(optimizer='adam', loss='mean_squared_error')\n",
    "\n",
    "ae.summary()"
   ]
  },
  {
   "cell_type": "markdown",
   "metadata": {},
   "source": [
    "# Training the model"
   ]
  },
  {
   "cell_type": "code",
   "execution_count": 21,
   "metadata": {},
   "outputs": [],
   "source": [
    "# # from tensorflow.keras.callbacks import EarlyStopping\n",
    "# # run the modelvalidat\n",
    "# # early_stopping = EarlyStopping(monitor='val_loss', min_delta=0, patience=20, verbose=5, mode='auto')\n",
    "# history = ae.fit(train_crops, epochs=300, steps_per_epoch=len(train_generator)*2, validation_data=val_crops, validation_steps =len(validation_generator),  verbose=1, shuffle = True)"
   ]
  },
  {
   "cell_type": "code",
   "execution_count": 22,
   "metadata": {},
   "outputs": [],
   "source": [
    "\n",
    "# # Get the training and validation loss values from the history object\n",
    "# train_loss = history.history['loss']\n",
    "# val_loss = history.history['val_loss']\n",
    "\n",
    "# # Plot the training and validation loss\n",
    "# epochs = range(1, len(train_loss) + 1)\n",
    "# plt.plot(epochs, train_loss, 'b-', label='Training Loss')\n",
    "# plt.plot(epochs, val_loss, 'r-', label='Validation Loss')\n",
    "# plt.title('Training and Validation Loss')\n",
    "# plt.xlabel('Epochs')\n",
    "# plt.ylabel('Loss')\n",
    "# plt.legend()\n",
    "# plt.show()\n"
   ]
  },
  {
   "cell_type": "markdown",
   "metadata": {},
   "source": [
    "Saving the train and validation history data"
   ]
  },
  {
   "cell_type": "code",
   "execution_count": 23,
   "metadata": {},
   "outputs": [],
   "source": [
    "# # open file\n",
    "# with open('txtFilesAutoencoderBottles6/TrainingLoss.txt', 'w+') as g:\n",
    "#     # write elements of list\n",
    "#     for items in train_loss:\n",
    "#         g.write('%s\\n' %items)\n",
    "#     print(\"train_loss written successfully\")\n",
    "# # close the file\n",
    "# g.close() \n",
    "\n",
    "# # open file\n",
    "# with open('txtFilesAutoencoderBottles6/ValidationLoss.txt', 'w+') as g:\n",
    "#     # write elements of list\n",
    "#     for items in val_loss:\n",
    "#         g.write('%s\\n' %items)\n",
    "#     print(\"val_loss written successfully\")\n",
    "# # close the file\n",
    "# g.close()\n"
   ]
  },
  {
   "cell_type": "markdown",
   "metadata": {},
   "source": [
    "LOading the train and validation history data"
   ]
  },
  {
   "cell_type": "code",
   "execution_count": 24,
   "metadata": {},
   "outputs": [
    {
     "data": {
      "image/png": "[encoded data removed]",
      "text/plain": [
       "<Figure size 640x480 with 1 Axes>"
      ]
     },
     "metadata": {},
     "output_type": "display_data"
    }
   ],
   "source": [
    "# Load data from the text file\n",
    "with open(\"txtFilesAutoencoderBottles6/TrainingLoss.txt\", \"r\") as file:\n",
    "    train_loss_data = [float(line.strip()) for line in file]\n",
    "\n",
    "# Load data from the text file\n",
    "with open(\"txtFilesAutoencoderBottles6/ValidationLoss.txt\", \"r\") as file:\n",
    "    val_loss_data = [float(line.strip()) for line in file]\n",
    "\n",
    "# Plot the training and validation loss\n",
    "epochs = range(1, len(train_loss_data) + 1)\n",
    "plt.plot(epochs, train_loss_data, 'b-', label='Training Loss')\n",
    "plt.plot(epochs, val_loss_data, 'r-', label='Validation Loss')\n",
    "plt.title('Training and Validation Loss')\n",
    "plt.xlabel('Epochs')\n",
    "plt.ylabel('Loss')\n",
    "plt.legend()\n",
    "plt.show()"
   ]
  },
  {
   "cell_type": "code",
   "execution_count": 25,
   "metadata": {},
   "outputs": [],
   "source": [
    "filepath = \"models/Bottles6_playground\""
   ]
  },
  {
   "cell_type": "code",
   "execution_count": 26,
   "metadata": {},
   "outputs": [],
   "source": [
    "# ae.save(f\"{filepath}\")"
   ]
  },
  {
   "attachments": {},
   "cell_type": "markdown",
   "metadata": {},
   "source": [
    "Loading the model that was previously saved\n"
   ]
  },
  {
   "cell_type": "code",
   "execution_count": 27,
   "metadata": {},
   "outputs": [
    {
     "name": "stdout",
     "output_type": "stream",
     "text": [
      "Model: \"model_3\"\n",
      "_________________________________________________________________\n",
      "Layer (type)                 Output Shape              Param #   \n",
      "=================================================================\n",
      "input_1 (InputLayer)         [(None, 160, 128, 3)]     0         \n",
      "_________________________________________________________________\n",
      "conv2d (Conv2D)              (None, 160, 128, 64)      1792      \n",
      "_________________________________________________________________\n",
      "max_pooling2d (MaxPooling2D) (None, 80, 64, 64)        0         \n",
      "_________________________________________________________________\n",
      "conv2d_1 (Conv2D)            (None, 80, 64, 32)        18464     \n",
      "_________________________________________________________________\n",
      "max_pooling2d_1 (MaxPooling2 (None, 40, 32, 32)        0         \n",
      "_________________________________________________________________\n",
      "conv2d_2 (Conv2D)            (None, 40, 32, 16)        4624      \n",
      "_________________________________________________________________\n",
      "max_pooling2d_2 (MaxPooling2 (None, 20, 16, 16)        0         \n",
      "_________________________________________________________________\n",
      "conv2d_3 (Conv2D)            (None, 20, 16, 4)         580       \n",
      "_________________________________________________________________\n",
      "max_pooling2d_3 (MaxPooling2 (None, 10, 8, 4)          0         \n",
      "_________________________________________________________________\n",
      "conv2d_4 (Conv2D)            (None, 10, 8, 1)          37        \n",
      "_________________________________________________________________\n",
      "flatten (Flatten)            (None, 80)                0         \n",
      "_________________________________________________________________\n",
      "dense (Dense)                (None, 80)                6480      \n",
      "_________________________________________________________________\n",
      "dense_1 (Dense)              (None, 40)                3240      \n",
      "_________________________________________________________________\n",
      "model_1 (Model)              (None, 160, 128, 3)       116203    \n",
      "=================================================================\n",
      "Total params: 151,420\n",
      "Trainable params: 151,420\n",
      "Non-trainable params: 0\n",
      "_________________________________________________________________\n"
     ]
    }
   ],
   "source": [
    "# VAE model statement\n",
    "model = Model(input_img,z_decoded)\n",
    "model.compile(optimizer='adam', loss='mean_squared_error')\n",
    "\n",
    "model.summary()"
   ]
  },
  {
   "cell_type": "code",
   "execution_count": 28,
   "metadata": {},
   "outputs": [
    {
     "name": "stdout",
     "output_type": "stream",
     "text": [
      "<class 'tensorflow.python.keras.engine.training.Model'>\n"
     ]
    }
   ],
   "source": [
    "model = keras.models.load_model(f'{filepath}')\n",
    "print(type(model))"
   ]
  },
  {
   "attachments": {},
   "cell_type": "markdown",
   "metadata": {},
   "source": [
    "# Quantifying the reconstruction error using \"evaluate_generator()\" function"
   ]
  },
  {
   "attachments": {},
   "cell_type": "markdown",
   "metadata": {},
   "source": [
    "Performing the computation of the reconstruction error of all the images in the training dataset. Computing the MSE of each image with its reconstructed version."
   ]
  },
  {
   "cell_type": "code",
   "execution_count": 29,
   "metadata": {},
   "outputs": [
    {
     "name": "stdout",
     "output_type": "stream",
     "text": [
      "WARNING:tensorflow:From /tmp/ipykernel_117187/1524259704.py:1: Model.evaluate_generator (from tensorflow.python.keras.engine.training) is deprecated and will be removed in a future version.\n",
      "Instructions for updating:\n",
      "Please use Model.evaluate, which supports generators.\n"
     ]
    },
    {
     "name": "stderr",
     "output_type": "stream",
     "text": [
      "2023-08-19 23:44:48.474172: I tensorflow/stream_executor/platform/default/dso_loader.cc:44] Successfully opened dynamic library libcublas.so.10\n",
      "2023-08-19 23:44:48.669483: I tensorflow/stream_executor/platform/default/dso_loader.cc:44] Successfully opened dynamic library libcudnn.so.7\n"
     ]
    },
    {
     "name": "stdout",
     "output_type": "stream",
     "text": [
      "Recon. error for the training (non-anomaly) data is:  0.004599954001605511\n"
     ]
    }
   ],
   "source": [
    "\n",
    "training_error = model.evaluate_generator(train_crops, steps=len(train_generator)*2)\n",
    "print(\"Recon. error for the training (non-anomaly) data is: \", training_error)"
   ]
  },
  {
   "attachments": {},
   "cell_type": "markdown",
   "metadata": {},
   "source": [
    "# Computing the reconstruction error without using the \"evaluate_generator()\" function"
   ]
  },
  {
   "attachments": {},
   "cell_type": "markdown",
   "metadata": {},
   "source": [
    "The following function computes the reconstrution error per each batch of images. It does, for each of the batches:\n",
    "- Initialize a vector for storing the reconstruction errors.\n",
    "- A for loop that traverses all the images contained in a batch.\n",
    "    - Take the one image of the batch.\n",
    "    - Add a new size dimension to the image.\n",
    "    - Make a prediction of the selected image with the model that was built.\n",
    "    - Evaluate the performance of the prediction, i.e. compute the prediction error.\n",
    "    - Append the reconstruction error into a list.\n",
    "- Compute the mean and std deviation of the error.\n",
    " "
   ]
  },
  {
   "cell_type": "code",
   "execution_count": 30,
   "metadata": {},
   "outputs": [],
   "source": [
    "def calc_recon_error(batch_images):   \n",
    "    recon_error_list=[]\n",
    "    for im in range(0, batch_images.shape[0]):\n",
    "        img  = batch_images[im]\n",
    "        img = img[np.newaxis, :,:,:]\n",
    "        reconstruction = model.predict([[img]])\n",
    "        # reconstruction_error = model.evaluate([reconstruction],[[img]], batch_size = 1)[0]    # The batch_size parameter for the moment can be supressed. Results were seen to be the same\n",
    "        # reconstruction_error = model.evaluate([reconstruction],[[img]])[0]                    # It included the [0] subscription but with this new model, the rec error is directly a float value, so no more need for subscription\n",
    "        reconstruction_error = model.evaluate([reconstruction],[[img]])\n",
    "        recon_error_list.append(reconstruction_error)   \n",
    "    return recon_error_list"
   ]
  },
  {
   "cell_type": "code",
   "execution_count": 31,
   "metadata": {},
   "outputs": [
    {
     "name": "stdout",
     "output_type": "stream",
     "text": [
      "1/1 [==============================] - 0s 940us/step - loss: 0.0064\n",
      "1/1 [==============================] - 0s 968us/step - loss: 0.0068\n",
      "1/1 [==============================] - 0s 995us/step - loss: 0.0060\n",
      "1/1 [==============================] - 0s 778us/step - loss: 0.0069\n",
      "1/1 [==============================] - 0s 854us/step - loss: 0.0074\n",
      "1/1 [==============================] - 0s 783us/step - loss: 0.0057\n",
      "1/1 [==============================] - 0s 671us/step - loss: 0.0079\n",
      "1/1 [==============================] - 0s 741us/step - loss: 0.0074\n",
      "1/1 [==============================] - 0s 634us/step - loss: 0.0066\n",
      "1/1 [==============================] - 0s 680us/step - loss: 0.0056\n",
      "1/1 [==============================] - 0s 1ms/step - loss: 0.0055\n",
      "1/1 [==============================] - 0s 626us/step - loss: 0.0056\n",
      "1/1 [==============================] - 0s 768us/step - loss: 0.0056\n",
      "1/1 [==============================] - 0s 756us/step - loss: 0.0056\n",
      "1/1 [==============================] - 0s 769us/step - loss: 0.0052\n",
      "1/1 [==============================] - 0s 663us/step - loss: 0.0051\n",
      "1/1 [==============================] - 0s 610us/step - loss: 0.0049\n",
      "1/1 [==============================] - 0s 674us/step - loss: 0.0050\n",
      "1/1 [==============================] - 0s 740us/step - loss: 0.0055\n",
      "1/1 [==============================] - 0s 769us/step - loss: 0.0056\n",
      "1/1 [==============================] - 0s 676us/step - loss: 0.0056\n",
      "1/1 [==============================] - 0s 862us/step - loss: 0.0062\n",
      "1/1 [==============================] - 0s 676us/step - loss: 0.0050\n",
      "1/1 [==============================] - 0s 1ms/step - loss: 0.0058\n",
      "1/1 [==============================] - 0s 855us/step - loss: 0.0082\n",
      "1/1 [==============================] - 0s 629us/step - loss: 0.0119\n",
      "1/1 [==============================] - 0s 1ms/step - loss: 0.0107\n",
      "1/1 [==============================] - 0s 724us/step - loss: 0.0073\n",
      "1/1 [==============================] - 0s 726us/step - loss: 0.0050\n",
      "1/1 [==============================] - 0s 650us/step - loss: 0.0051\n",
      "1/1 [==============================] - 0s 732us/step - loss: 0.0056\n",
      "1/1 [==============================] - 0s 703us/step - loss: 0.0056\n",
      "1/1 [==============================] - 0s 857us/step - loss: 0.0049\n",
      "1/1 [==============================] - 0s 1ms/step - loss: 0.0052\n",
      "1/1 [==============================] - 0s 1ms/step - loss: 0.0073\n",
      "1/1 [==============================] - 0s 671us/step - loss: 0.0073\n",
      "1/1 [==============================] - 0s 657us/step - loss: 0.0075\n",
      "1/1 [==============================] - 0s 630us/step - loss: 0.0051\n",
      "1/1 [==============================] - 0s 908us/step - loss: 0.0049\n",
      "1/1 [==============================] - 0s 899us/step - loss: 0.0052\n",
      "1/1 [==============================] - 0s 659us/step - loss: 0.0050\n",
      "1/1 [==============================] - 0s 713us/step - loss: 0.0063\n",
      "1/1 [==============================] - 0s 773us/step - loss: 0.0072\n",
      "1/1 [==============================] - 0s 646us/step - loss: 0.0120\n",
      "1/1 [==============================] - 0s 635us/step - loss: 0.0101\n",
      "1/1 [==============================] - 0s 1ms/step - loss: 0.0109\n",
      "1/1 [==============================] - 0s 710us/step - loss: 0.0104\n",
      "1/1 [==============================] - 0s 978us/step - loss: 0.0136\n",
      "1/1 [==============================] - 0s 901us/step - loss: 0.0102\n",
      "1/1 [==============================] - 0s 843us/step - loss: 0.0059\n",
      "1/1 [==============================] - 0s 669us/step - loss: 0.0055\n",
      "1/1 [==============================] - 0s 738us/step - loss: 0.0053\n",
      "1/1 [==============================] - 0s 610us/step - loss: 0.0058\n",
      "1/1 [==============================] - 0s 590us/step - loss: 0.0061\n",
      "1/1 [==============================] - 0s 621us/step - loss: 0.0063\n",
      "1/1 [==============================] - 0s 940us/step - loss: 0.0069\n",
      "1/1 [==============================] - 0s 656us/step - loss: 0.0069\n",
      "1/1 [==============================] - 0s 709us/step - loss: 0.0073\n",
      "1/1 [==============================] - 0s 616us/step - loss: 0.0073\n",
      "1/1 [==============================] - 0s 668us/step - loss: 0.0052\n",
      "1/1 [==============================] - 0s 623us/step - loss: 0.0050\n",
      "1/1 [==============================] - 0s 679us/step - loss: 0.0059\n",
      "1/1 [==============================] - 0s 619us/step - loss: 0.0058\n",
      "1/1 [==============================] - 0s 659us/step - loss: 0.0058\n",
      "1/1 [==============================] - 0s 679us/step - loss: 0.0062\n",
      "1/1 [==============================] - 0s 726us/step - loss: 0.0058\n",
      "1/1 [==============================] - 0s 665us/step - loss: 0.0079\n",
      "1/1 [==============================] - 0s 861us/step - loss: 0.0059\n",
      "1/1 [==============================] - 0s 984us/step - loss: 0.0050\n",
      "1/1 [==============================] - 0s 913us/step - loss: 0.0048\n",
      "1/1 [==============================] - 0s 614us/step - loss: 0.0054\n",
      "1/1 [==============================] - 0s 730us/step - loss: 0.0057\n",
      "1/1 [==============================] - 0s 654us/step - loss: 0.0057\n",
      "1/1 [==============================] - 0s 649us/step - loss: 0.0057\n",
      "1/1 [==============================] - 0s 635us/step - loss: 0.0057\n",
      "1/1 [==============================] - 0s 605us/step - loss: 0.0057\n",
      "1/1 [==============================] - 0s 563us/step - loss: 0.0058\n",
      "1/1 [==============================] - 0s 612us/step - loss: 0.0058\n",
      "1/1 [==============================] - 0s 736us/step - loss: 0.0051\n",
      "1/1 [==============================] - 0s 614us/step - loss: 0.0055\n",
      "1/1 [==============================] - 0s 1ms/step - loss: 0.0058\n",
      "1/1 [==============================] - 0s 641us/step - loss: 0.0059\n",
      "1/1 [==============================] - 0s 846us/step - loss: 0.0067\n",
      "1/1 [==============================] - 0s 684us/step - loss: 0.0070\n",
      "1/1 [==============================] - 0s 627us/step - loss: 0.0059\n",
      "1/1 [==============================] - 0s 857us/step - loss: 0.0083\n",
      "1/1 [==============================] - 0s 677us/step - loss: 0.0069\n",
      "1/1 [==============================] - 0s 622us/step - loss: 0.0049\n",
      "1/1 [==============================] - 0s 716us/step - loss: 0.0051\n",
      "1/1 [==============================] - 0s 654us/step - loss: 0.0055\n",
      "1/1 [==============================] - 0s 780us/step - loss: 0.0053\n",
      "1/1 [==============================] - 0s 782us/step - loss: 0.0053\n",
      "1/1 [==============================] - 0s 770us/step - loss: 0.0056\n",
      "1/1 [==============================] - 0s 722us/step - loss: 0.0056\n",
      "1/1 [==============================] - 0s 741us/step - loss: 0.0058\n",
      "1/1 [==============================] - 0s 654us/step - loss: 0.0059\n",
      "1/1 [==============================] - 0s 959us/step - loss: 0.0052\n",
      "1/1 [==============================] - 0s 1ms/step - loss: 0.0052\n",
      "1/1 [==============================] - 0s 1ms/step - loss: 0.0054\n",
      "1/1 [==============================] - 0s 624us/step - loss: 0.0055\n",
      "1/1 [==============================] - 0s 756us/step - loss: 0.0050\n",
      "1/1 [==============================] - 0s 647us/step - loss: 0.0066\n",
      "1/1 [==============================] - 0s 663us/step - loss: 0.0068\n",
      "1/1 [==============================] - 0s 763us/step - loss: 0.0064\n",
      "1/1 [==============================] - 0s 664us/step - loss: 0.0055\n",
      "1/1 [==============================] - 0s 654us/step - loss: 0.0054\n",
      "1/1 [==============================] - 0s 604us/step - loss: 0.0060\n",
      "1/1 [==============================] - 0s 808us/step - loss: 0.0075\n",
      "1/1 [==============================] - 0s 638us/step - loss: 0.0050\n",
      "1/1 [==============================] - 0s 688us/step - loss: 0.0069\n",
      "1/1 [==============================] - 0s 637us/step - loss: 0.0056\n",
      "1/1 [==============================] - 0s 675us/step - loss: 0.0055\n",
      "1/1 [==============================] - 0s 642us/step - loss: 0.0054\n",
      "1/1 [==============================] - 0s 711us/step - loss: 0.0052\n",
      "1/1 [==============================] - 0s 973us/step - loss: 0.0052\n",
      "1/1 [==============================] - 0s 662us/step - loss: 0.0052\n",
      "1/1 [==============================] - 0s 901us/step - loss: 0.0052\n",
      "1/1 [==============================] - 0s 898us/step - loss: 0.0052\n",
      "1/1 [==============================] - 0s 651us/step - loss: 0.0059\n",
      "1/1 [==============================] - 0s 701us/step - loss: 0.0055\n",
      "1/1 [==============================] - 0s 840us/step - loss: 0.0058\n",
      "1/1 [==============================] - 0s 606us/step - loss: 0.0054\n",
      "1/1 [==============================] - 0s 1ms/step - loss: 0.0069\n",
      "1/1 [==============================] - 0s 926us/step - loss: 0.0062\n",
      "1/1 [==============================] - 0s 603us/step - loss: 0.0061\n",
      "1/1 [==============================] - 0s 614us/step - loss: 0.0054\n",
      "1/1 [==============================] - 0s 695us/step - loss: 0.0055\n",
      "1/1 [==============================] - 0s 1ms/step - loss: 0.0054\n",
      "1/1 [==============================] - 0s 671us/step - loss: 0.0050\n",
      "1/1 [==============================] - 0s 934us/step - loss: 0.0052\n",
      "1/1 [==============================] - 0s 726us/step - loss: 0.0056\n",
      "1/1 [==============================] - 0s 683us/step - loss: 0.0056\n",
      "1/1 [==============================] - 0s 614us/step - loss: 0.0056\n",
      "1/1 [==============================] - 0s 677us/step - loss: 0.0056\n",
      "1/1 [==============================] - 0s 755us/step - loss: 0.0056\n",
      "1/1 [==============================] - 0s 1ms/step - loss: 0.0062\n",
      "1/1 [==============================] - 0s 740us/step - loss: 0.0065\n",
      "1/1 [==============================] - 0s 727us/step - loss: 0.0064\n",
      "1/1 [==============================] - 0s 777us/step - loss: 0.0056\n",
      "1/1 [==============================] - 0s 635us/step - loss: 0.0055\n",
      "1/1 [==============================] - 0s 917us/step - loss: 0.0057\n",
      "1/1 [==============================] - 0s 609us/step - loss: 0.0072\n",
      "1/1 [==============================] - 0s 858us/step - loss: 0.0061\n",
      "1/1 [==============================] - 0s 880us/step - loss: 0.0059\n",
      "1/1 [==============================] - 0s 741us/step - loss: 0.0071\n",
      "1/1 [==============================] - 0s 850us/step - loss: 0.0081\n",
      "1/1 [==============================] - 0s 1ms/step - loss: 0.0072\n",
      "1/1 [==============================] - 0s 989us/step - loss: 0.0052\n",
      "1/1 [==============================] - 0s 863us/step - loss: 0.0056\n",
      "1/1 [==============================] - 0s 612us/step - loss: 0.0063\n",
      "1/1 [==============================] - 0s 715us/step - loss: 0.0055\n",
      "1/1 [==============================] - 0s 624us/step - loss: 0.0055\n",
      "1/1 [==============================] - 0s 704us/step - loss: 0.0064\n",
      "1/1 [==============================] - 0s 587us/step - loss: 0.0059\n",
      "1/1 [==============================] - 0s 734us/step - loss: 0.0056\n",
      "1/1 [==============================] - 0s 733us/step - loss: 0.0054\n",
      "1/1 [==============================] - 0s 610us/step - loss: 0.0054\n",
      "1/1 [==============================] - 0s 1ms/step - loss: 0.0058\n",
      "1/1 [==============================] - 0s 746us/step - loss: 0.0068\n",
      "1/1 [==============================] - 0s 676us/step - loss: 0.0063\n",
      "1/1 [==============================] - 0s 1ms/step - loss: 0.0086\n",
      "1/1 [==============================] - 0s 656us/step - loss: 0.0065\n",
      "1/1 [==============================] - 0s 605us/step - loss: 0.0089\n",
      "1/1 [==============================] - 0s 660us/step - loss: 0.0093\n",
      "1/1 [==============================] - 0s 709us/step - loss: 0.0101\n",
      "1/1 [==============================] - 0s 661us/step - loss: 0.0108\n",
      "1/1 [==============================] - 0s 696us/step - loss: 0.0095\n",
      "1/1 [==============================] - 0s 1ms/step - loss: 0.0052\n",
      "1/1 [==============================] - 0s 704us/step - loss: 0.0058\n",
      "1/1 [==============================] - 0s 692us/step - loss: 0.0082\n",
      "1/1 [==============================] - 0s 1ms/step - loss: 0.0062\n",
      "1/1 [==============================] - 0s 1ms/step - loss: 0.0064\n",
      "1/1 [==============================] - 0s 665us/step - loss: 0.0065\n",
      "1/1 [==============================] - 0s 725us/step - loss: 0.0066\n",
      "1/1 [==============================] - 0s 728us/step - loss: 0.0070\n",
      "1/1 [==============================] - 0s 867us/step - loss: 0.0066\n",
      "1/1 [==============================] - 0s 1ms/step - loss: 0.0077\n",
      "1/1 [==============================] - 0s 615us/step - loss: 0.0086\n",
      "1/1 [==============================] - 0s 759us/step - loss: 0.0085\n",
      "1/1 [==============================] - 0s 846us/step - loss: 0.0085\n",
      "1/1 [==============================] - 0s 650us/step - loss: 0.0071\n",
      "1/1 [==============================] - 0s 726us/step - loss: 0.0073\n",
      "1/1 [==============================] - 0s 891us/step - loss: 0.0077\n",
      "1/1 [==============================] - 0s 633us/step - loss: 0.0049\n",
      "1/1 [==============================] - 0s 705us/step - loss: 0.0048\n",
      "1/1 [==============================] - 0s 691us/step - loss: 0.0051\n",
      "1/1 [==============================] - 0s 950us/step - loss: 0.0059\n",
      "1/1 [==============================] - 0s 664us/step - loss: 0.0057\n",
      "1/1 [==============================] - 0s 707us/step - loss: 0.0088\n",
      "1/1 [==============================] - 0s 692us/step - loss: 0.0071\n",
      "1/1 [==============================] - 0s 636us/step - loss: 0.0086\n",
      "1/1 [==============================] - 0s 997us/step - loss: 0.0084\n",
      "1/1 [==============================] - 0s 620us/step - loss: 0.0090\n",
      "1/1 [==============================] - 0s 863us/step - loss: 0.0050\n",
      "1/1 [==============================] - 0s 620us/step - loss: 0.0048\n",
      "1/1 [==============================] - 0s 627us/step - loss: 0.0048\n",
      "1/1 [==============================] - 0s 617us/step - loss: 0.0075\n",
      "1/1 [==============================] - 0s 635us/step - loss: 0.0137\n",
      "1/1 [==============================] - 0s 609us/step - loss: 0.0094\n",
      "1/1 [==============================] - 0s 685us/step - loss: 0.0088\n",
      "1/1 [==============================] - 0s 728us/step - loss: 0.0066\n",
      "1/1 [==============================] - 0s 591us/step - loss: 0.0061\n",
      "1/1 [==============================] - 0s 721us/step - loss: 0.0051\n",
      "1/1 [==============================] - 0s 605us/step - loss: 0.0057\n",
      "1/1 [==============================] - 0s 809us/step - loss: 0.0053\n",
      "1/1 [==============================] - 0s 901us/step - loss: 0.0056\n",
      "1/1 [==============================] - 0s 651us/step - loss: 0.0055\n",
      "1/1 [==============================] - 0s 875us/step - loss: 0.0072\n",
      "1/1 [==============================] - 0s 1ms/step - loss: 0.0052\n",
      "1/1 [==============================] - 0s 626us/step - loss: 0.0059\n",
      "1/1 [==============================] - 0s 670us/step - loss: 0.0085\n",
      "1/1 [==============================] - 0s 1ms/step - loss: 0.0084\n",
      "1/1 [==============================] - 0s 866us/step - loss: 0.0084\n",
      "1/1 [==============================] - 0s 690us/step - loss: 0.0053\n",
      "1/1 [==============================] - 0s 659us/step - loss: 0.0052\n",
      "1/1 [==============================] - 0s 784us/step - loss: 0.0074\n",
      "1/1 [==============================] - 0s 600us/step - loss: 0.0075\n",
      "1/1 [==============================] - 0s 657us/step - loss: 0.0074\n",
      "1/1 [==============================] - 0s 598us/step - loss: 0.0070\n",
      "1/1 [==============================] - 0s 765us/step - loss: 0.0072\n",
      "1/1 [==============================] - 0s 882us/step - loss: 0.0048\n",
      "1/1 [==============================] - 0s 828us/step - loss: 0.0049\n",
      "1/1 [==============================] - 0s 708us/step - loss: 0.0061\n",
      "1/1 [==============================] - 0s 784us/step - loss: 0.0085\n",
      "1/1 [==============================] - 0s 635us/step - loss: 0.0079\n",
      "1/1 [==============================] - 0s 950us/step - loss: 0.0082\n",
      "1/1 [==============================] - 0s 628us/step - loss: 0.0068\n",
      "1/1 [==============================] - 0s 605us/step - loss: 0.0056\n",
      "1/1 [==============================] - 0s 714us/step - loss: 0.0057\n",
      "1/1 [==============================] - 0s 622us/step - loss: 0.0054\n",
      "1/1 [==============================] - 0s 744us/step - loss: 0.0073\n",
      "1/1 [==============================] - 0s 612us/step - loss: 0.0071\n",
      "1/1 [==============================] - 0s 816us/step - loss: 0.0053\n",
      "1/1 [==============================] - 0s 626us/step - loss: 0.0056\n",
      "1/1 [==============================] - 0s 638us/step - loss: 0.0059\n",
      "1/1 [==============================] - 0s 617us/step - loss: 0.0058\n",
      "1/1 [==============================] - 0s 698us/step - loss: 0.0052\n",
      "1/1 [==============================] - 0s 781us/step - loss: 0.0058\n",
      "1/1 [==============================] - 0s 703us/step - loss: 0.0062\n",
      "1/1 [==============================] - 0s 629us/step - loss: 0.0072\n",
      "1/1 [==============================] - 0s 601us/step - loss: 0.0060\n",
      "1/1 [==============================] - 0s 641us/step - loss: 0.0062\n",
      "1/1 [==============================] - 0s 694us/step - loss: 0.0054\n",
      "1/1 [==============================] - 0s 1ms/step - loss: 0.0058\n",
      "1/1 [==============================] - 0s 652us/step - loss: 0.0053\n",
      "1/1 [==============================] - 0s 672us/step - loss: 0.0071\n",
      "1/1 [==============================] - 0s 661us/step - loss: 0.0065\n",
      "1/1 [==============================] - 0s 616us/step - loss: 0.0083\n",
      "1/1 [==============================] - 0s 707us/step - loss: 0.0069\n",
      "1/1 [==============================] - 0s 604us/step - loss: 0.0052\n",
      "1/1 [==============================] - 0s 735us/step - loss: 0.0052\n",
      "1/1 [==============================] - 0s 683us/step - loss: 0.0053\n",
      "1/1 [==============================] - 0s 873us/step - loss: 0.0051\n",
      "1/1 [==============================] - 0s 643us/step - loss: 0.0052\n",
      "1/1 [==============================] - 0s 661us/step - loss: 0.0052\n",
      "1/1 [==============================] - 0s 624us/step - loss: 0.0052\n",
      "1/1 [==============================] - 0s 649us/step - loss: 0.0050\n",
      "1/1 [==============================] - 0s 679us/step - loss: 0.0051\n",
      "1/1 [==============================] - 0s 966us/step - loss: 0.0051\n",
      "1/1 [==============================] - 0s 1ms/step - loss: 0.0051\n",
      "1/1 [==============================] - 0s 746us/step - loss: 0.0060\n",
      "1/1 [==============================] - 0s 665us/step - loss: 0.0068\n",
      "1/1 [==============================] - 0s 606us/step - loss: 0.0071\n",
      "1/1 [==============================] - 0s 799us/step - loss: 0.0070\n",
      "1/1 [==============================] - 0s 760us/step - loss: 0.0077\n",
      "1/1 [==============================] - 0s 623us/step - loss: 0.0059\n",
      "1/1 [==============================] - 0s 835us/step - loss: 0.0059\n",
      "1/1 [==============================] - 0s 673us/step - loss: 0.0056\n",
      "1/1 [==============================] - 0s 607us/step - loss: 0.0057\n",
      "1/1 [==============================] - 0s 812us/step - loss: 0.0057\n",
      "1/1 [==============================] - 0s 602us/step - loss: 0.0051\n",
      "1/1 [==============================] - 0s 626us/step - loss: 0.0051\n",
      "1/1 [==============================] - 0s 622us/step - loss: 0.0052\n",
      "1/1 [==============================] - 0s 640us/step - loss: 0.0051\n",
      "1/1 [==============================] - 0s 662us/step - loss: 0.0090\n",
      "1/1 [==============================] - 0s 787us/step - loss: 0.0077\n",
      "1/1 [==============================] - 0s 616us/step - loss: 0.0074\n",
      "1/1 [==============================] - 0s 878us/step - loss: 0.0076\n",
      "1/1 [==============================] - 0s 667us/step - loss: 0.0066\n",
      "1/1 [==============================] - 0s 668us/step - loss: 0.0062\n",
      "1/1 [==============================] - 0s 650us/step - loss: 0.0061\n",
      "1/1 [==============================] - 0s 645us/step - loss: 0.0063\n",
      "1/1 [==============================] - 0s 676us/step - loss: 0.0055\n",
      "1/1 [==============================] - 0s 631us/step - loss: 0.0061\n",
      "1/1 [==============================] - 0s 691us/step - loss: 0.0055\n",
      "1/1 [==============================] - 0s 841us/step - loss: 0.0061\n",
      "1/1 [==============================] - 0s 837us/step - loss: 0.0056\n",
      "1/1 [==============================] - 0s 818us/step - loss: 0.0056\n",
      "1/1 [==============================] - 0s 737us/step - loss: 0.0060\n",
      "1/1 [==============================] - 0s 1ms/step - loss: 0.0058\n",
      "1/1 [==============================] - 0s 2ms/step - loss: 0.0062\n",
      "1/1 [==============================] - 0s 887us/step - loss: 0.0053\n",
      "1/1 [==============================] - 0s 806us/step - loss: 0.0058\n",
      "1/1 [==============================] - 0s 661us/step - loss: 0.0055\n",
      "1/1 [==============================] - 0s 700us/step - loss: 0.0059\n",
      "1/1 [==============================] - 0s 725us/step - loss: 0.0091\n",
      "1/1 [==============================] - 0s 722us/step - loss: 0.0098\n",
      "1/1 [==============================] - 0s 833us/step - loss: 0.0100\n",
      "1/1 [==============================] - 0s 808us/step - loss: 0.0098\n",
      "1/1 [==============================] - 0s 731us/step - loss: 0.0062\n",
      "1/1 [==============================] - 0s 842us/step - loss: 0.0064\n",
      "1/1 [==============================] - 0s 621us/step - loss: 0.0054\n",
      "1/1 [==============================] - 0s 857us/step - loss: 0.0053\n",
      "1/1 [==============================] - 0s 858us/step - loss: 0.0053\n",
      "1/1 [==============================] - 0s 625us/step - loss: 0.0053\n",
      "1/1 [==============================] - 0s 658us/step - loss: 0.0054\n",
      "1/1 [==============================] - 0s 880us/step - loss: 0.0059\n",
      "1/1 [==============================] - 0s 636us/step - loss: 0.0077\n",
      "1/1 [==============================] - 0s 687us/step - loss: 0.0066\n",
      "1/1 [==============================] - 0s 934us/step - loss: 0.0115\n",
      "1/1 [==============================] - 0s 726us/step - loss: 0.0062\n",
      "1/1 [==============================] - 0s 685us/step - loss: 0.0054\n",
      "1/1 [==============================] - 0s 639us/step - loss: 0.0058\n",
      "1/1 [==============================] - 0s 638us/step - loss: 0.0059\n",
      "1/1 [==============================] - 0s 664us/step - loss: 0.0058\n",
      "1/1 [==============================] - 0s 943us/step - loss: 0.0061\n",
      "1/1 [==============================] - 0s 685us/step - loss: 0.0062\n",
      "1/1 [==============================] - 0s 741us/step - loss: 0.0053\n",
      "1/1 [==============================] - 0s 649us/step - loss: 0.0054\n",
      "1/1 [==============================] - 0s 657us/step - loss: 0.0060\n",
      "1/1 [==============================] - 0s 737us/step - loss: 0.0068\n",
      "1/1 [==============================] - 0s 1ms/step - loss: 0.0052\n",
      "1/1 [==============================] - 0s 958us/step - loss: 0.0060\n",
      "1/1 [==============================] - 0s 735us/step - loss: 0.0055\n",
      "1/1 [==============================] - 0s 836us/step - loss: 0.0059\n",
      "1/1 [==============================] - 0s 677us/step - loss: 0.0060\n",
      "1/1 [==============================] - 0s 725us/step - loss: 0.0057\n",
      "1/1 [==============================] - 0s 704us/step - loss: 0.0075\n",
      "1/1 [==============================] - 0s 612us/step - loss: 0.0053\n",
      "1/1 [==============================] - 0s 720us/step - loss: 0.0066\n",
      "1/1 [==============================] - 0s 713us/step - loss: 0.0051\n",
      "1/1 [==============================] - 0s 782us/step - loss: 0.0050\n",
      "1/1 [==============================] - 0s 676us/step - loss: 0.0052\n",
      "1/1 [==============================] - 0s 748us/step - loss: 0.0057\n",
      "1/1 [==============================] - 0s 655us/step - loss: 0.0056\n",
      "1/1 [==============================] - 0s 749us/step - loss: 0.0058\n",
      "1/1 [==============================] - 0s 673us/step - loss: 0.0060\n",
      "1/1 [==============================] - 0s 717us/step - loss: 0.0081\n",
      "1/1 [==============================] - 0s 647us/step - loss: 0.0066\n",
      "1/1 [==============================] - 0s 658us/step - loss: 0.0059\n",
      "1/1 [==============================] - 0s 656us/step - loss: 0.0069\n",
      "1/1 [==============================] - 0s 753us/step - loss: 0.0059\n",
      "1/1 [==============================] - 0s 654us/step - loss: 0.0064\n",
      "1/1 [==============================] - 0s 884us/step - loss: 0.0089\n",
      "1/1 [==============================] - 0s 622us/step - loss: 0.0055\n",
      "1/1 [==============================] - 0s 797us/step - loss: 0.0054\n",
      "1/1 [==============================] - 0s 638us/step - loss: 0.0048\n",
      "1/1 [==============================] - 0s 648us/step - loss: 0.0062\n",
      "1/1 [==============================] - 0s 817us/step - loss: 0.0056\n",
      "1/1 [==============================] - 0s 600us/step - loss: 0.0064\n",
      "1/1 [==============================] - 0s 694us/step - loss: 0.0056\n",
      "1/1 [==============================] - 0s 679us/step - loss: 0.0057\n",
      "1/1 [==============================] - 0s 601us/step - loss: 0.0057\n",
      "1/1 [==============================] - 0s 708us/step - loss: 0.0057\n",
      "1/1 [==============================] - 0s 732us/step - loss: 0.0056\n",
      "1/1 [==============================] - 0s 648us/step - loss: 0.0057\n",
      "1/1 [==============================] - 0s 1ms/step - loss: 0.0050\n",
      "1/1 [==============================] - 0s 1ms/step - loss: 0.0057\n",
      "1/1 [==============================] - 0s 621us/step - loss: 0.0054\n",
      "1/1 [==============================] - 0s 743us/step - loss: 0.0054\n",
      "1/1 [==============================] - 0s 659us/step - loss: 0.0056\n",
      "1/1 [==============================] - 0s 662us/step - loss: 0.0072\n",
      "1/1 [==============================] - 0s 719us/step - loss: 0.0095\n",
      "1/1 [==============================] - 0s 652us/step - loss: 0.0091\n",
      "1/1 [==============================] - 0s 648us/step - loss: 0.0060\n",
      "1/1 [==============================] - 0s 611us/step - loss: 0.0055\n",
      "1/1 [==============================] - 0s 851us/step - loss: 0.0078\n",
      "1/1 [==============================] - 0s 616us/step - loss: 0.0097\n",
      "1/1 [==============================] - 0s 687us/step - loss: 0.0087\n",
      "1/1 [==============================] - 0s 653us/step - loss: 0.0070\n",
      "1/1 [==============================] - 0s 613us/step - loss: 0.0054\n",
      "1/1 [==============================] - 0s 628us/step - loss: 0.0052\n",
      "1/1 [==============================] - 0s 808us/step - loss: 0.0053\n",
      "1/1 [==============================] - 0s 665us/step - loss: 0.0054\n",
      "1/1 [==============================] - 0s 679us/step - loss: 0.0052\n",
      "1/1 [==============================] - 0s 620us/step - loss: 0.0048\n",
      "1/1 [==============================] - 0s 726us/step - loss: 0.0059\n",
      "1/1 [==============================] - 0s 673us/step - loss: 0.0056\n",
      "1/1 [==============================] - 0s 656us/step - loss: 0.0060\n",
      "1/1 [==============================] - 0s 639us/step - loss: 0.0058\n",
      "1/1 [==============================] - 0s 623us/step - loss: 0.0072\n",
      "1/1 [==============================] - 0s 643us/step - loss: 0.0059\n",
      "1/1 [==============================] - 0s 657us/step - loss: 0.0063\n",
      "1/1 [==============================] - 0s 853us/step - loss: 0.0050\n",
      "1/1 [==============================] - 0s 621us/step - loss: 0.0062\n",
      "1/1 [==============================] - 0s 975us/step - loss: 0.0062\n",
      "1/1 [==============================] - 0s 972us/step - loss: 0.0050\n",
      "1/1 [==============================] - 0s 950us/step - loss: 0.0055\n",
      "1/1 [==============================] - 0s 1ms/step - loss: 0.0051\n",
      "1/1 [==============================] - 0s 883us/step - loss: 0.0063\n",
      "1/1 [==============================] - 0s 1ms/step - loss: 0.0057\n",
      "1/1 [==============================] - 0s 1ms/step - loss: 0.0059\n",
      "1/1 [==============================] - 0s 1ms/step - loss: 0.0060\n",
      "1/1 [==============================] - 0s 1ms/step - loss: 0.0078\n",
      "1/1 [==============================] - 0s 1ms/step - loss: 0.0072\n",
      "1/1 [==============================] - 0s 894us/step - loss: 0.0068\n",
      "1/1 [==============================] - 0s 1ms/step - loss: 0.0061\n",
      "1/1 [==============================] - 0s 1ms/step - loss: 0.0059\n",
      "1/1 [==============================] - 0s 884us/step - loss: 0.0052\n",
      "1/1 [==============================] - 0s 1ms/step - loss: 0.0060\n",
      "1/1 [==============================] - 0s 680us/step - loss: 0.0072\n",
      "1/1 [==============================] - 0s 651us/step - loss: 0.0054\n",
      "1/1 [==============================] - 0s 627us/step - loss: 0.0055\n",
      "1/1 [==============================] - 0s 651us/step - loss: 0.0054\n",
      "1/1 [==============================] - 0s 585us/step - loss: 0.0052\n",
      "1/1 [==============================] - 0s 617us/step - loss: 0.0050\n",
      "1/1 [==============================] - 0s 1ms/step - loss: 0.0054\n",
      "1/1 [==============================] - 0s 725us/step - loss: 0.0054\n",
      "1/1 [==============================] - 0s 615us/step - loss: 0.0099\n",
      "1/1 [==============================] - 0s 639us/step - loss: 0.0125\n",
      "1/1 [==============================] - 0s 652us/step - loss: 0.0058\n",
      "1/1 [==============================] - 0s 602us/step - loss: 0.0054\n",
      "1/1 [==============================] - 0s 614us/step - loss: 0.0054\n",
      "1/1 [==============================] - 0s 1ms/step - loss: 0.0054\n",
      "1/1 [==============================] - 0s 677us/step - loss: 0.0051\n",
      "1/1 [==============================] - 0s 767us/step - loss: 0.0053\n",
      "1/1 [==============================] - 0s 604us/step - loss: 0.0082\n",
      "1/1 [==============================] - 0s 669us/step - loss: 0.0049\n",
      "1/1 [==============================] - 0s 592us/step - loss: 0.0070\n",
      "1/1 [==============================] - 0s 838us/step - loss: 0.0072\n",
      "1/1 [==============================] - 0s 782us/step - loss: 0.0084\n",
      "1/1 [==============================] - 0s 721us/step - loss: 0.0149\n",
      "1/1 [==============================] - 0s 867us/step - loss: 0.0094\n",
      "1/1 [==============================] - 0s 681us/step - loss: 0.0067\n",
      "1/1 [==============================] - 0s 609us/step - loss: 0.0120\n",
      "1/1 [==============================] - 0s 1ms/step - loss: 0.0108\n",
      "1/1 [==============================] - 0s 941us/step - loss: 0.0076\n",
      "1/1 [==============================] - 0s 644us/step - loss: 0.0087\n",
      "1/1 [==============================] - 0s 793us/step - loss: 0.0106\n",
      "1/1 [==============================] - 0s 615us/step - loss: 0.0128\n",
      "1/1 [==============================] - 0s 616us/step - loss: 0.0075\n",
      "1/1 [==============================] - 0s 751us/step - loss: 0.0076\n",
      "1/1 [==============================] - 0s 878us/step - loss: 0.0073\n",
      "1/1 [==============================] - 0s 667us/step - loss: 0.0053\n",
      "1/1 [==============================] - 0s 656us/step - loss: 0.0060\n",
      "1/1 [==============================] - 0s 767us/step - loss: 0.0059\n",
      "1/1 [==============================] - 0s 657us/step - loss: 0.0057\n",
      "1/1 [==============================] - 0s 664us/step - loss: 0.0063\n",
      "1/1 [==============================] - 0s 669us/step - loss: 0.0060\n",
      "1/1 [==============================] - 0s 713us/step - loss: 0.0063\n",
      "1/1 [==============================] - 0s 786us/step - loss: 0.0080\n",
      "1/1 [==============================] - 0s 589us/step - loss: 0.0168\n",
      "1/1 [==============================] - 0s 600us/step - loss: 0.0085\n",
      "1/1 [==============================] - 0s 747us/step - loss: 0.0078\n",
      "1/1 [==============================] - 0s 602us/step - loss: 0.0115\n",
      "1/1 [==============================] - 0s 647us/step - loss: 0.0136\n",
      "1/1 [==============================] - 0s 683us/step - loss: 0.0081\n",
      "1/1 [==============================] - 0s 646us/step - loss: 0.0057\n",
      "1/1 [==============================] - 0s 656us/step - loss: 0.0054\n",
      "1/1 [==============================] - 0s 610us/step - loss: 0.0069\n",
      "1/1 [==============================] - 0s 678us/step - loss: 0.0066\n",
      "1/1 [==============================] - 0s 713us/step - loss: 0.0085\n",
      "1/1 [==============================] - 0s 599us/step - loss: 0.0076\n",
      "1/1 [==============================] - 0s 613us/step - loss: 0.0067\n",
      "1/1 [==============================] - 0s 748us/step - loss: 0.0072\n",
      "1/1 [==============================] - 0s 578us/step - loss: 0.0075\n",
      "1/1 [==============================] - 0s 747us/step - loss: 0.0073\n",
      "1/1 [==============================] - 0s 1ms/step - loss: 0.0058\n",
      "1/1 [==============================] - 0s 932us/step - loss: 0.0059\n",
      "1/1 [==============================] - 0s 836us/step - loss: 0.0055\n",
      "1/1 [==============================] - 0s 754us/step - loss: 0.0145\n",
      "1/1 [==============================] - 0s 668us/step - loss: 0.0085\n",
      "1/1 [==============================] - 0s 605us/step - loss: 0.0140\n",
      "1/1 [==============================] - 0s 668us/step - loss: 0.0108\n",
      "1/1 [==============================] - 0s 827us/step - loss: 0.0081\n",
      "1/1 [==============================] - 0s 582us/step - loss: 0.0071\n",
      "1/1 [==============================] - 0s 605us/step - loss: 0.0071\n",
      "1/1 [==============================] - 0s 826us/step - loss: 0.0050\n",
      "1/1 [==============================] - 0s 635us/step - loss: 0.0049\n",
      "1/1 [==============================] - 0s 629us/step - loss: 0.0054\n",
      "1/1 [==============================] - 0s 780us/step - loss: 0.0078\n",
      "1/1 [==============================] - 0s 603us/step - loss: 0.0078\n",
      "1/1 [==============================] - 0s 657us/step - loss: 0.0078\n",
      "1/1 [==============================] - 0s 778us/step - loss: 0.0073\n",
      "1/1 [==============================] - 0s 884us/step - loss: 0.0069\n",
      "1/1 [==============================] - 0s 642us/step - loss: 0.0067\n",
      "1/1 [==============================] - 0s 725us/step - loss: 0.0067\n",
      "1/1 [==============================] - 0s 661us/step - loss: 0.0064\n",
      "1/1 [==============================] - 0s 762us/step - loss: 0.0064\n",
      "1/1 [==============================] - 0s 659us/step - loss: 0.0066\n",
      "1/1 [==============================] - 0s 678us/step - loss: 0.0052\n",
      "1/1 [==============================] - 0s 598us/step - loss: 0.0055\n",
      "1/1 [==============================] - 0s 887us/step - loss: 0.0065\n",
      "1/1 [==============================] - 0s 692us/step - loss: 0.0064\n",
      "1/1 [==============================] - 0s 609us/step - loss: 0.0049\n",
      "1/1 [==============================] - 0s 673us/step - loss: 0.0049\n",
      "1/1 [==============================] - 0s 608us/step - loss: 0.0055\n",
      "1/1 [==============================] - 0s 732us/step - loss: 0.0051\n",
      "1/1 [==============================] - 0s 1ms/step - loss: 0.0054\n",
      "1/1 [==============================] - 0s 889us/step - loss: 0.0118\n",
      "1/1 [==============================] - 0s 1ms/step - loss: 0.0068\n",
      "1/1 [==============================] - 0s 666us/step - loss: 0.0065\n",
      "1/1 [==============================] - 0s 712us/step - loss: 0.0071\n",
      "1/1 [==============================] - 0s 642us/step - loss: 0.0074\n",
      "1/1 [==============================] - 0s 811us/step - loss: 0.0076\n",
      "1/1 [==============================] - 0s 600us/step - loss: 0.0062\n",
      "1/1 [==============================] - 0s 651us/step - loss: 0.0056\n",
      "1/1 [==============================] - 0s 679us/step - loss: 0.0091\n",
      "1/1 [==============================] - 0s 574us/step - loss: 0.0064\n",
      "1/1 [==============================] - 0s 650us/step - loss: 0.0091\n",
      "1/1 [==============================] - 0s 632us/step - loss: 0.0117\n",
      "1/1 [==============================] - 0s 640us/step - loss: 0.0140\n",
      "1/1 [==============================] - 0s 644us/step - loss: 0.0141\n",
      "1/1 [==============================] - 0s 606us/step - loss: 0.0116\n",
      "1/1 [==============================] - 0s 642us/step - loss: 0.0133\n",
      "1/1 [==============================] - 0s 639us/step - loss: 0.0094\n",
      "1/1 [==============================] - 0s 676us/step - loss: 0.0137\n",
      "1/1 [==============================] - 0s 701us/step - loss: 0.0117\n",
      "1/1 [==============================] - 0s 699us/step - loss: 0.0086\n",
      "1/1 [==============================] - 0s 646us/step - loss: 0.0119\n",
      "1/1 [==============================] - 0s 658us/step - loss: 0.0090\n",
      "1/1 [==============================] - 0s 704us/step - loss: 0.0088\n",
      "1/1 [==============================] - 0s 682us/step - loss: 0.0087\n",
      "1/1 [==============================] - 0s 638us/step - loss: 0.0101\n",
      "1/1 [==============================] - 0s 799us/step - loss: 0.0107\n",
      "1/1 [==============================] - 0s 822us/step - loss: 0.0081\n",
      "1/1 [==============================] - 0s 624us/step - loss: 0.0081\n",
      "1/1 [==============================] - 0s 822us/step - loss: 0.0083\n",
      "1/1 [==============================] - 0s 609us/step - loss: 0.0083\n",
      "1/1 [==============================] - 0s 658us/step - loss: 0.0084\n",
      "1/1 [==============================] - 0s 627us/step - loss: 0.0090\n",
      "1/1 [==============================] - 0s 634us/step - loss: 0.0102\n",
      "1/1 [==============================] - 0s 647us/step - loss: 0.0067\n",
      "1/1 [==============================] - 0s 668us/step - loss: 0.0066\n",
      "1/1 [==============================] - 0s 654us/step - loss: 0.0075\n",
      "1/1 [==============================] - 0s 588us/step - loss: 0.0073\n",
      "1/1 [==============================] - 0s 814us/step - loss: 0.0073\n",
      "1/1 [==============================] - 0s 641us/step - loss: 0.0074\n",
      "1/1 [==============================] - 0s 665us/step - loss: 0.0069\n",
      "1/1 [==============================] - 0s 637us/step - loss: 0.0122\n",
      "1/1 [==============================] - 0s 734us/step - loss: 0.0085\n",
      "1/1 [==============================] - 0s 730us/step - loss: 0.0068\n",
      "1/1 [==============================] - 0s 638us/step - loss: 0.0073\n",
      "1/1 [==============================] - 0s 610us/step - loss: 0.0071\n",
      "1/1 [==============================] - 0s 1ms/step - loss: 0.0089\n",
      "1/1 [==============================] - 0s 606us/step - loss: 0.0081\n",
      "1/1 [==============================] - 0s 657us/step - loss: 0.0081\n",
      "1/1 [==============================] - 0s 586us/step - loss: 0.0080\n",
      "1/1 [==============================] - 0s 787us/step - loss: 0.0070\n",
      "1/1 [==============================] - 0s 618us/step - loss: 0.0117\n",
      "1/1 [==============================] - 0s 665us/step - loss: 0.0198\n",
      "1/1 [==============================] - 0s 634us/step - loss: 0.0144\n",
      "1/1 [==============================] - 0s 588us/step - loss: 0.0154\n",
      "1/1 [==============================] - 0s 607us/step - loss: 0.0170\n",
      "1/1 [==============================] - 0s 627us/step - loss: 0.0156\n",
      "1/1 [==============================] - 0s 840us/step - loss: 0.0128\n",
      "1/1 [==============================] - 0s 1ms/step - loss: 0.0122\n",
      "1/1 [==============================] - 0s 660us/step - loss: 0.0117\n",
      "1/1 [==============================] - 0s 619us/step - loss: 0.0120\n",
      "1/1 [==============================] - 0s 642us/step - loss: 0.0120\n",
      "1/1 [==============================] - 0s 774us/step - loss: 0.0055\n",
      "1/1 [==============================] - 0s 633us/step - loss: 0.0059\n",
      "1/1 [==============================] - 0s 735us/step - loss: 0.0052\n",
      "1/1 [==============================] - 0s 605us/step - loss: 0.0054\n",
      "1/1 [==============================] - 0s 684us/step - loss: 0.0051\n",
      "1/1 [==============================] - 0s 728us/step - loss: 0.0065\n",
      "1/1 [==============================] - 0s 631us/step - loss: 0.0083\n",
      "1/1 [==============================] - 0s 741us/step - loss: 0.0082\n",
      "1/1 [==============================] - 0s 659us/step - loss: 0.0074\n",
      "1/1 [==============================] - 0s 724us/step - loss: 0.0053\n",
      "1/1 [==============================] - 0s 621us/step - loss: 0.0049\n",
      "1/1 [==============================] - 0s 859us/step - loss: 0.0051\n",
      "1/1 [==============================] - 0s 722us/step - loss: 0.0053\n",
      "1/1 [==============================] - 0s 752us/step - loss: 0.0052\n",
      "1/1 [==============================] - 0s 607us/step - loss: 0.0051\n",
      "1/1 [==============================] - 0s 669us/step - loss: 0.0048\n",
      "1/1 [==============================] - 0s 630us/step - loss: 0.0049\n",
      "1/1 [==============================] - 0s 765us/step - loss: 0.0049\n",
      "1/1 [==============================] - 0s 610us/step - loss: 0.0049\n",
      "1/1 [==============================] - 0s 662us/step - loss: 0.0048\n",
      "1/1 [==============================] - 0s 958us/step - loss: 0.0061\n",
      "1/1 [==============================] - 0s 597us/step - loss: 0.0070\n",
      "1/1 [==============================] - 0s 607us/step - loss: 0.0048\n",
      "1/1 [==============================] - 0s 839us/step - loss: 0.0050\n",
      "1/1 [==============================] - 0s 586us/step - loss: 0.0050\n",
      "1/1 [==============================] - 0s 686us/step - loss: 0.0051\n",
      "1/1 [==============================] - 0s 1ms/step - loss: 0.0067\n",
      "1/1 [==============================] - 0s 788us/step - loss: 0.0070\n",
      "1/1 [==============================] - 0s 577us/step - loss: 0.0057\n",
      "1/1 [==============================] - 0s 678us/step - loss: 0.0058\n",
      "1/1 [==============================] - 0s 729us/step - loss: 0.0047\n",
      "1/1 [==============================] - 0s 602us/step - loss: 0.0048\n",
      "1/1 [==============================] - 0s 637us/step - loss: 0.0050\n",
      "1/1 [==============================] - 0s 755us/step - loss: 0.0053\n",
      "1/1 [==============================] - 0s 798us/step - loss: 0.0052\n",
      "1/1 [==============================] - 0s 665us/step - loss: 0.0049\n",
      "1/1 [==============================] - 0s 652us/step - loss: 0.0056\n",
      "1/1 [==============================] - 0s 735us/step - loss: 0.0056\n",
      "1/1 [==============================] - 0s 610us/step - loss: 0.0056\n",
      "1/1 [==============================] - 0s 587us/step - loss: 0.0056\n",
      "The list of rec. error contains  60 batches of rec. errors\n"
     ]
    }
   ],
   "source": [
    "total_rec_error = []\n",
    "for i in range(len(train_generator)):                               #This will traverse the train generator the number of batches it contains\n",
    "    images_in_batch, images_in_batch2 = next(train_crops)           #As for each next step of the \"train_crops\" generator it exists one batch of the augmented and one batch of the orignial images, we perform twice the calc_recon_error() function\n",
    "    batch_input_images1 = images_in_batch[0]\n",
    "    total_rec_error.append(calc_recon_error(batch_input_images1))\n",
    "    batch_input_images2 = images_in_batch2[0]\n",
    "    total_rec_error.append(calc_recon_error(batch_input_images2))\n",
    "    \n",
    "print(\"The list of rec. error contains \", len(total_rec_error), \"batches of rec. errors\")\n"
   ]
  },
  {
   "cell_type": "markdown",
   "metadata": {},
   "source": [
    "Above we can see, that it contains 60 batches and almost all of them includes 10 elements. Recall that the total number of images of the training dataset was 295. Hence in total we should have 295*2=590 error values. Let's convert it into a 590-length list."
   ]
  },
  {
   "cell_type": "code",
   "execution_count": 32,
   "metadata": {},
   "outputs": [
    {
     "name": "stdout",
     "output_type": "stream",
     "text": [
      "590\n"
     ]
    }
   ],
   "source": [
    "total_rec_error_list = [item for sublist in total_rec_error for item in sublist]\n",
    "print(len(total_rec_error_list))"
   ]
  },
  {
   "cell_type": "code",
   "execution_count": 33,
   "metadata": {},
   "outputs": [
    {
     "name": "stdout",
     "output_type": "stream",
     "text": [
      "THIS IS FOR THE TRAINING (NON-ANOMALY) IMAGES\n",
      "\n",
      "The average of the errors list is:  0.006794260843988445\n",
      "The standard deviation of the errors list is:  0.002131365277476888\n",
      "The min value of the errors list is:  0.004745645448565483\n",
      "The max value of the errors list is:  0.01980428397655487\n"
     ]
    }
   ],
   "source": [
    "na_average_recon_error = np.mean(np.array(total_rec_error_list))  \n",
    "na_stdev_recon_error = np.std(np.array(total_rec_error_list)) \n",
    "min_prob = np.min(total_rec_error_list)\n",
    "max_prob = np.max(total_rec_error_list)\n",
    "print(\"THIS IS FOR THE TRAINING (NON-ANOMALY) IMAGES\\n\")\n",
    "print(\"The average of the errors list is: \", na_average_recon_error)\n",
    "print(\"The standard deviation of the errors list is: \", na_stdev_recon_error)\n",
    "print(\"The min value of the errors list is: \", min_prob)\n",
    "print(\"The max value of the errors list is: \", max_prob)"
   ]
  },
  {
   "cell_type": "markdown",
   "metadata": {},
   "source": [
    "Above it can be seen that computing the model.evaluate_generator() function does NOT output the same as computing the error of each image one by one. We will use this last approach, the one by one error computation."
   ]
  },
  {
   "cell_type": "markdown",
   "metadata": {},
   "source": [
    "Gaphically, the distribution of the reconstruction error values is shown below:"
   ]
  },
  {
   "cell_type": "code",
   "execution_count": 34,
   "metadata": {},
   "outputs": [
    {
     "data": {
      "image/png": "[encoded data removed]",
      "text/plain": [
       "<Figure size 640x480 with 1 Axes>"
      ]
     },
     "metadata": {},
     "output_type": "display_data"
    }
   ],
   "source": [
    "val = 0. # this is the value where you want the data to appear on the y-axis.\n",
    "plt.plot(total_rec_error_list, np.zeros_like(total_rec_error_list) + val, 'x')\n",
    "plt.show()"
   ]
  },
  {
   "cell_type": "markdown",
   "metadata": {},
   "source": [
    "Or displying in a histogram way:"
   ]
  },
  {
   "cell_type": "code",
   "execution_count": 36,
   "metadata": {},
   "outputs": [
    {
     "data": {
      "image/png": "[encoded data removed]",
      "text/plain": [
       "<Figure size 640x480 with 1 Axes>"
      ]
     },
     "metadata": {},
     "output_type": "display_data"
    }
   ],
   "source": [
    "bins = np.linspace(0.003, 0.025, 50)\n",
    "plt.hist(total_rec_error_list, bins, alpha=0.5, label='errors non-anomalies')\n",
    "plt.legend(loc='upper right')\n",
    "\n",
    "# Calculate average and standard deviation\n",
    "average = np.mean(total_rec_error_list)\n",
    "std = np.std(total_rec_error_list)\n",
    "\n",
    "# Plot average line\n",
    "plt.axvline(x=average, color='red', linestyle='--', label='Average')\n",
    "\n",
    "# Plot lines for standard deviation\n",
    "plt.axvline(x=average + std, color='black', linestyle=':', label='Average + Std')\n",
    "plt.axvline(x=average - std, color='black', linestyle=':', label='Average - Std')\n",
    "\n",
    "plt.legend()\n",
    "\n",
    "plt.show()"
   ]
  },
  {
   "cell_type": "markdown",
   "metadata": {},
   "source": [
    "# Checking the reconstruction of one sample"
   ]
  },
  {
   "cell_type": "code",
   "execution_count": 37,
   "metadata": {},
   "outputs": [
    {
     "data": {
      "image/png": "[encoded data removed]",
      "text/plain": [
       "<Figure size 1200x600 with 2 Axes>"
      ]
     },
     "metadata": {},
     "output_type": "display_data"
    }
   ],
   "source": [
    "images_in_batch, images_in_batch2 = next(train_crops)           #As for each next step of the \"train_crops\" generator it exists one batch of the augmented and one batch of the orignial images, we perform twice the calc_recon_error() function\n",
    "batch_input_images1 = images_in_batch[0]\n",
    "single_img  = batch_input_images1[0]\n",
    "single_img = single_img[np.newaxis, :,:,:]\n",
    "reconstruction = model.predict([[single_img]])\n",
    "\n",
    "plt.figure(figsize=(12, 6))\n",
    "plt.subplot(121)\n",
    "plt.title(\"input image\")\n",
    "plt.imshow(single_img[0])\n",
    "plt.subplot(122)\n",
    "plt.title(\"reconstructed image\")\n",
    "plt.imshow(reconstruction[0])\n",
    "plt.show()"
   ]
  },
  {
   "cell_type": "markdown",
   "metadata": {},
   "source": [
    "# Function to check if an image contains anomalies"
   ]
  },
  {
   "cell_type": "markdown",
   "metadata": {},
   "source": [
    "Based on the previously found histogram, its average and its standard deviation values, it can be built a function that maps the reconstruction error to a probability value of an image being considered as an anomaly or not.\n",
    "\n",
    "If the a given reconstruction value is outside the range of the standard deviation sum and subtraction to the average values, shown in the plot above, then that reconstruction error has more than 50% chance to be considered as an anomaly image."
   ]
  },
  {
   "cell_type": "code",
   "execution_count": 38,
   "metadata": {},
   "outputs": [],
   "source": [
    "def ranges_mapper(value, leftMin, leftMax, rightMin, rightMax):\n",
    "    # Figure out how 'wide' each range is\n",
    "    leftSpan = leftMax - leftMin\n",
    "    rightSpan = rightMax - rightMin\n",
    "\n",
    "    # Convert the left range into a 0-1 range (float)\n",
    "    valueScaled = float(value - leftMin) / float(leftSpan)\n",
    "\n",
    "    # Convert the 0-1 range into a value in the right range.\n",
    "    return rightMin + (valueScaled * rightSpan)"
   ]
  },
  {
   "cell_type": "code",
   "execution_count": 39,
   "metadata": {},
   "outputs": [],
   "source": [
    "def map_error2prob(value):\n",
    "    # Calculate the mean and standard deviation\n",
    "    mean = na_average_recon_error\n",
    "    std_dev = na_stdev_recon_error\n",
    "    aux_score = value - mean\n",
    "    prob_score = ranges_mapper(abs(aux_score), 0, std_dev, 0, 50)\n",
    "    if prob_score<0:\n",
    "        prob_score = 0\n",
    "    if prob_score>100:\n",
    "        prob_score = 100\n",
    "    return prob_score"
   ]
  },
  {
   "cell_type": "markdown",
   "metadata": {},
   "source": [
    "Testing a reconstruction error. Verifying that given some reconstruction error, the probability value is the one we expect. "
   ]
  },
  {
   "cell_type": "code",
   "execution_count": 40,
   "metadata": {},
   "outputs": [
    {
     "name": "stdout",
     "output_type": "stream",
     "text": [
      "50.000000000000014\n"
     ]
    }
   ],
   "source": [
    "print(map_error2prob(na_average_recon_error + na_stdev_recon_error))"
   ]
  },
  {
   "cell_type": "code",
   "execution_count": 41,
   "metadata": {},
   "outputs": [],
   "source": [
    "def map_error2prob_list(input_list):\n",
    "    # Calculate the mean and standard deviation\n",
    "    mean = na_average_recon_error\n",
    "    std_dev = na_stdev_recon_error\n",
    "    prob_score_list = []\n",
    "    for i in range (len(input_list)):\n",
    "        aux_score = input_list[i] - mean\n",
    "        prob_score = ranges_mapper(abs(aux_score), 0, std_dev, 0, 50)\n",
    "        if prob_score<0:\n",
    "            prob_score = 0\n",
    "        if prob_score>100:\n",
    "            prob_score = 100\n",
    "        prob_score_list.append(prob_score)\n",
    "    return prob_score_list"
   ]
  },
  {
   "cell_type": "markdown",
   "metadata": {},
   "source": [
    "# Validating the performance of the model with reconstruction error directly"
   ]
  },
  {
   "cell_type": "markdown",
   "metadata": {},
   "source": [
    "We will use the validation data set to find the best threshold value for predicting an image as anomaly or non-anomaly."
   ]
  },
  {
   "cell_type": "code",
   "execution_count": 42,
   "metadata": {},
   "outputs": [],
   "source": [
    "def calc_recon_error_for_val_eval(batch_images,batch_labels):   \n",
    "    recon_error_list=[]\n",
    "    labels_list = []\n",
    "    for im in range(0, batch_images.shape[0]):\n",
    "        label = batch_labels[im]\n",
    "        img  = batch_images[im]\n",
    "        img = img[np.newaxis, :,:,:]\n",
    "        reconstruction = model.predict([[img]])\n",
    "        # reconstruction_error = model.evaluate([reconstruction],[[img]], batch_size = 1)[0]    # The batch_size parameter for the moment can be supressed. Results were seen to be the same\n",
    "        # reconstruction_error = model.evaluate([reconstruction],[[img]])[0]                    # It included the [0] subscription but with this new model, the rec error is directly a float value, so no more need for subscription\n",
    "        reconstruction_error = model.evaluate([reconstruction],[[img]])\n",
    "        recon_error_list.append(reconstruction_error)   \n",
    "        labels_list.append(label)\n",
    "    return recon_error_list, labels_list"
   ]
  },
  {
   "cell_type": "code",
   "execution_count": 43,
   "metadata": {},
   "outputs": [
    {
     "name": "stdout",
     "output_type": "stream",
     "text": [
      "1/1 [==============================] - 0s 629us/step - loss: 0.0053\n",
      "1/1 [==============================] - 0s 844us/step - loss: 0.0052\n",
      "1/1 [==============================] - 0s 673us/step - loss: 0.0050\n",
      "1/1 [==============================] - 0s 648us/step - loss: 0.0053\n",
      "1/1 [==============================] - 0s 818us/step - loss: 0.0057\n",
      "1/1 [==============================] - 0s 915us/step - loss: 0.0055\n",
      "1/1 [==============================] - 0s 673us/step - loss: 0.0055\n",
      "1/1 [==============================] - 0s 1ms/step - loss: 0.0056\n",
      "1/1 [==============================] - 0s 1ms/step - loss: 0.0076\n",
      "1/1 [==============================] - 0s 835us/step - loss: 0.0053\n",
      "1/1 [==============================] - 0s 828us/step - loss: 0.0057\n",
      "1/1 [==============================] - 0s 767us/step - loss: 0.0056\n",
      "1/1 [==============================] - 0s 690us/step - loss: 0.0055\n",
      "1/1 [==============================] - 0s 619us/step - loss: 0.0057\n",
      "1/1 [==============================] - 0s 863us/step - loss: 0.0064\n",
      "1/1 [==============================] - 0s 717us/step - loss: 0.0048\n",
      "1/1 [==============================] - 0s 617us/step - loss: 0.0054\n",
      "1/1 [==============================] - 0s 990us/step - loss: 0.0099\n",
      "1/1 [==============================] - 0s 678us/step - loss: 0.0083\n",
      "1/1 [==============================] - 0s 717us/step - loss: 0.0081\n",
      "1/1 [==============================] - 0s 629us/step - loss: 0.0123\n",
      "1/1 [==============================] - 0s 664us/step - loss: 0.0085\n",
      "1/1 [==============================] - 0s 638us/step - loss: 0.0218\n",
      "1/1 [==============================] - 0s 748us/step - loss: 0.0107\n",
      "1/1 [==============================] - 0s 838us/step - loss: 0.0120\n",
      "1/1 [==============================] - 0s 687us/step - loss: 0.0100\n",
      "1/1 [==============================] - 0s 769us/step - loss: 0.0061\n",
      "1/1 [==============================] - 0s 726us/step - loss: 0.0146\n",
      "1/1 [==============================] - 0s 722us/step - loss: 0.0145\n",
      "1/1 [==============================] - 0s 670us/step - loss: 0.0233\n",
      "The list of rec. error contains  3 batches of rec. errors\n"
     ]
    }
   ],
   "source": [
    "total_rec_error_val = []\n",
    "labels_list = []\n",
    "for i in range(len(validation_generator_for_threshold)):                               #This will traverse the train generator the number of batches it contains\n",
    "    images_in_batch, images_labels = next(val_crops_for_threshold)           #As for each next step of the \"train_crops\" generator it exists one batch of the augmented and one batch of the orignial images, we perform twice the calc_recon_error() function\n",
    "    rec_errors, labels = calc_recon_error_for_val_eval(images_in_batch,images_labels)\n",
    "    total_rec_error_val.append(rec_errors)\n",
    "    labels_list.append(labels)\n",
    "    \n",
    "print(\"The list of rec. error contains \", len(total_rec_error_val), \"batches of rec. errors\")"
   ]
  },
  {
   "cell_type": "code",
   "execution_count": 44,
   "metadata": {},
   "outputs": [
    {
     "name": "stdout",
     "output_type": "stream",
     "text": [
      "The reconstruction error list is:  [0.005289292894303799, 0.005194567143917084, 0.005024369340389967, 0.005313658621162176, 0.00574846426025033, 0.005544331390410662, 0.005499253049492836, 0.005563697777688503, 0.007607237435877323, 0.00528715131804347, 0.005713830702006817, 0.005552476737648249, 0.005458547733724117, 0.005686171818524599, 0.006446361541748047, 0.004849561490118504, 0.005439168307930231, 0.009873868897557259, 0.008263635449111462, 0.008119824342429638, 0.012344785034656525, 0.008456902578473091, 0.02175484225153923, 0.01074717566370964, 0.012041740119457245, 0.010011092759668827, 0.006125518120825291, 0.014644223265349865, 0.014489611610770226, 0.023309513926506042]\n",
      "The ground truth labels are:  [0.0, 0.0, 0.0, 0.0, 0.0, 0.0, 0.0, 0.0, 0.0, 0.0, 0.0, 0.0, 0.0, 0.0, 0.0, 0.0, 0.0, 0.0, 0.0, 0.0, 1.0, 1.0, 1.0, 1.0, 1.0, 1.0, 1.0, 1.0, 1.0, 1.0]\n"
     ]
    }
   ],
   "source": [
    "total_rec_error_val_list = [item for sublist in total_rec_error_val for item in sublist]\n",
    "y_true = [item for sublist in labels_list for item in sublist]\n",
    "print(\"The reconstruction error list is: \", total_rec_error_val_list)\n",
    "print(\"The ground truth labels are: \", y_true)"
   ]
  },
  {
   "cell_type": "code",
   "execution_count": 45,
   "metadata": {},
   "outputs": [
    {
     "name": "stdout",
     "output_type": "stream",
     "text": [
      "AUC =  0.97\n"
     ]
    }
   ],
   "source": [
    "from sklearn import metrics\n",
    "print('AUC = ', metrics.roc_auc_score(y_true, total_rec_error_val_list))"
   ]
  },
  {
   "cell_type": "code",
   "execution_count": 46,
   "metadata": {},
   "outputs": [
    {
     "data": {
      "image/png": "[encoded data removed]",
      "text/plain": [
       "<Figure size 640x480 with 1 Axes>"
      ]
     },
     "metadata": {},
     "output_type": "display_data"
    }
   ],
   "source": [
    "fpr, tpr, thresholds = metrics.roc_curve(y_true, total_rec_error_val_list)\n",
    "plt.plot(fpr, tpr, marker='.', label='AUROC = %0.3f' % metrics.roc_auc_score(y_true, total_rec_error_val_list))\n",
    "# Title\n",
    "plt.title('ROC Plot')\n",
    "# Axis labels\n",
    "plt.xlabel('False Positive Rate')\n",
    "plt.ylabel('True Positive Rate')\n",
    "# Show legend\n",
    "plt.legend() # \n",
    "# Show plot\n",
    "plt.show()"
   ]
  },
  {
   "cell_type": "code",
   "execution_count": 47,
   "metadata": {},
   "outputs": [
    {
     "name": "stdout",
     "output_type": "stream",
     "text": [
      "The fpr is:  [0.   0.   0.   0.05 0.05 0.25 0.25 1.  ]\n",
      "The tpr is:  [0.  0.1 0.8 0.8 0.9 0.9 1.  1. ]\n",
      "The thresholds are:  [1.02330951 0.02330951 0.01001109 0.00987387 0.0084569  0.00644636\n",
      " 0.00612552 0.00484956]\n"
     ]
    }
   ],
   "source": [
    "print(\"The fpr is: \", fpr)\n",
    "print(\"The tpr is: \", tpr)\n",
    "print(\"The thresholds are: \", thresholds)"
   ]
  },
  {
   "cell_type": "markdown",
   "metadata": {},
   "source": [
    "The best threshold value for this is: 0.0084569 , let's asses this."
   ]
  },
  {
   "cell_type": "code",
   "execution_count": 48,
   "metadata": {},
   "outputs": [],
   "source": [
    "def pred_label_onProb(probs_list, prob_threshold):\n",
    "    pred_based_onProb = []\n",
    "    for i in range (len(probs_list)):\n",
    "        if probs_list[i] > prob_threshold:\n",
    "            prediction = 1                          ## Stands for classifiaction of anomaly bottle\n",
    "        else:\n",
    "            prediction = 0\n",
    "        pred_based_onProb.append(prediction)\n",
    "    return pred_based_onProb"
   ]
  },
  {
   "cell_type": "code",
   "execution_count": 49,
   "metadata": {},
   "outputs": [],
   "source": [
    "# from tensorflow.keras.metrics import Precision, Recall, BinaryAccuracy, SpecificityAtSensitivity\n",
    "from sklearn.metrics import confusion_matrix"
   ]
  },
  {
   "cell_type": "code",
   "execution_count": 50,
   "metadata": {},
   "outputs": [],
   "source": [
    "best_threshold_approach1 = 0.0084569"
   ]
  },
  {
   "cell_type": "code",
   "execution_count": 51,
   "metadata": {},
   "outputs": [
    {
     "name": "stdout",
     "output_type": "stream",
     "text": [
      "[[19  1]\n",
      " [ 1  9]]\n",
      "The FPR values are:  0.05\n",
      "The TPR values are:  0.9\n",
      "Using the threshold =  0.0084569\n"
     ]
    }
   ],
   "source": [
    "conf_matrix = confusion_matrix(y_true, pred_label_onProb(total_rec_error_val_list, best_threshold_approach1))\n",
    "print(conf_matrix)\n",
    "_tp = conf_matrix[1, 1]\n",
    "_fn = conf_matrix[1, 0]\n",
    "_fp = conf_matrix[0, 1]\n",
    "_tn = conf_matrix[0, 0]\n",
    "_tpr = _tp/(_tp+_fn)\n",
    "_fpr = _fp / (_tn + _fp)\n",
    "print(\"The FPR values are: \", _fpr)\n",
    "print(\"The TPR values are: \", _tpr)\n",
    "print(\"Using the threshold = \", best_threshold_approach1)"
   ]
  },
  {
   "cell_type": "markdown",
   "metadata": {},
   "source": [
    "# Validating the performance of the model with the mapping of the reconstruction error to a probability value"
   ]
  },
  {
   "cell_type": "code",
   "execution_count": 52,
   "metadata": {},
   "outputs": [
    {
     "name": "stdout",
     "output_type": "stream",
     "text": [
      "The probability list is:  [35.305256344098574, 37.5274411424465, 41.520135527723276, 34.73365730577649, 24.533490218441813, 29.322272132007587, 30.379771317956354, 28.86795330917381, 19.071733045479668, 35.3554958849919, 25.345963767896286, 29.131189277190007, 31.334683087395188, 25.994817434006496, 8.16141901899241, 45.62097765269213, 31.78930778262405, 72.24496162418617, 34.47026703143216, 31.09658190571623, 100, 39.004147999747914, 100, 92.73198877483496, 100, 75.46411564629763, 15.688130285082163, 100, 100, 100]\n",
      "The ground truth labels are:  [0.0, 0.0, 0.0, 0.0, 0.0, 0.0, 0.0, 0.0, 0.0, 0.0, 0.0, 0.0, 0.0, 0.0, 0.0, 0.0, 0.0, 0.0, 0.0, 0.0, 1.0, 1.0, 1.0, 1.0, 1.0, 1.0, 1.0, 1.0, 1.0, 1.0]\n"
     ]
    }
   ],
   "source": [
    "probs_list = map_error2prob_list(total_rec_error_val_list)\n",
    "print(\"The probability list is: \", probs_list)\n",
    "print(\"The ground truth labels are: \", y_true)"
   ]
  },
  {
   "cell_type": "code",
   "execution_count": 53,
   "metadata": {},
   "outputs": [
    {
     "name": "stdout",
     "output_type": "stream",
     "text": [
      "AUC =  0.89\n"
     ]
    }
   ],
   "source": [
    "from sklearn import metrics\n",
    "print('AUC = ', metrics.roc_auc_score(y_true, probs_list))"
   ]
  },
  {
   "cell_type": "code",
   "execution_count": 54,
   "metadata": {},
   "outputs": [
    {
     "data": {
      "image/png": "[encoded data removed]",
      "text/plain": [
       "<Figure size 640x480 with 1 Axes>"
      ]
     },
     "metadata": {},
     "output_type": "display_data"
    }
   ],
   "source": [
    "fpr, tpr, thresholds = metrics.roc_curve(y_true, probs_list)\n",
    "plt.plot(fpr, tpr, marker='.', label='AUROC = %0.3f' % metrics.roc_auc_score(y_true, probs_list))\n",
    "# Title\n",
    "plt.title('ROC Plot')\n",
    "# Axis labels\n",
    "plt.xlabel('False Positive Rate')\n",
    "plt.ylabel('True Positive Rate')\n",
    "# Show legend\n",
    "plt.legend() # \n",
    "# Show plot\n",
    "plt.show()"
   ]
  },
  {
   "cell_type": "code",
   "execution_count": 55,
   "metadata": {},
   "outputs": [
    {
     "name": "stdout",
     "output_type": "stream",
     "text": [
      "The fpr is:  [0.   0.   0.   0.15 0.15 0.95 0.95 1.  ]\n",
      "The tpr is:  [0.  0.6 0.8 0.8 0.9 0.9 1.  1. ]\n",
      "The thresholds are:  [101.         100.          75.46411565  41.52013553  39.004148\n",
      "  19.07173305  15.68813029   8.16141902]\n"
     ]
    }
   ],
   "source": [
    "print(\"The fpr is: \", fpr)\n",
    "print(\"The tpr is: \", tpr)\n",
    "print(\"The thresholds are: \", thresholds)"
   ]
  },
  {
   "cell_type": "markdown",
   "metadata": {},
   "source": [
    "The best threshold in terms of FPR and TPR is 35.93423223. Let's asses that."
   ]
  },
  {
   "cell_type": "code",
   "execution_count": 56,
   "metadata": {},
   "outputs": [],
   "source": [
    "best_threshold_approach2 = 35.93423223"
   ]
  },
  {
   "cell_type": "code",
   "execution_count": 57,
   "metadata": {},
   "outputs": [
    {
     "name": "stdout",
     "output_type": "stream",
     "text": [
      "[[16  4]\n",
      " [ 1  9]]\n",
      "The FPR values are:  0.2\n",
      "The TPR values are:  0.9\n",
      "Using the threshold =   35.93423223\n"
     ]
    }
   ],
   "source": [
    "conf_matrix = confusion_matrix(y_true, pred_label_onProb(probs_list,  best_threshold_approach2))\n",
    "print(conf_matrix)\n",
    "_tp = conf_matrix[1, 1]\n",
    "_fn = conf_matrix[1, 0]\n",
    "_fp = conf_matrix[0, 1]\n",
    "_tn = conf_matrix[0, 0]\n",
    "_tpr = _tp/(_tp+_fn)\n",
    "_fpr = _fp / (_tn + _fp)\n",
    "print(\"The FPR values are: \", _fpr)\n",
    "print(\"The TPR values are: \", _tpr)\n",
    "print(\"Using the threshold =  \", best_threshold_approach2)"
   ]
  },
  {
   "cell_type": "markdown",
   "metadata": {},
   "source": [
    "# Evaluating the model. With the threhsold value of the direct reconstruction error"
   ]
  },
  {
   "cell_type": "code",
   "execution_count": 58,
   "metadata": {},
   "outputs": [
    {
     "name": "stdout",
     "output_type": "stream",
     "text": [
      "1/1 [==============================] - 0s 669us/step - loss: 0.0052\n",
      "1/1 [==============================] - 0s 683us/step - loss: 0.0057\n",
      "1/1 [==============================] - 0s 644us/step - loss: 0.0056\n",
      "1/1 [==============================] - 0s 688us/step - loss: 0.0056\n",
      "1/1 [==============================] - 0s 969us/step - loss: 0.0058\n",
      "1/1 [==============================] - 0s 655us/step - loss: 0.0050\n",
      "1/1 [==============================] - 0s 696us/step - loss: 0.0057\n",
      "1/1 [==============================] - 0s 673us/step - loss: 0.0065\n",
      "1/1 [==============================] - 0s 745us/step - loss: 0.0085\n",
      "1/1 [==============================] - 0s 605us/step - loss: 0.0081\n",
      "1/1 [==============================] - 0s 1ms/step - loss: 0.0143\n",
      "1/1 [==============================] - 0s 612us/step - loss: 0.0058\n",
      "1/1 [==============================] - 0s 968us/step - loss: 0.0072\n",
      "1/1 [==============================] - 0s 750us/step - loss: 0.0052\n",
      "1/1 [==============================] - 0s 732us/step - loss: 0.0054\n",
      "1/1 [==============================] - 0s 732us/step - loss: 0.0069\n",
      "1/1 [==============================] - 0s 702us/step - loss: 0.0079\n",
      "1/1 [==============================] - 0s 689us/step - loss: 0.0090\n",
      "1/1 [==============================] - 0s 846us/step - loss: 0.0120\n",
      "1/1 [==============================] - 0s 638us/step - loss: 0.0121\n",
      "1/1 [==============================] - 0s 729us/step - loss: 0.0080\n",
      "1/1 [==============================] - 0s 658us/step - loss: 0.0128\n",
      "1/1 [==============================] - 0s 685us/step - loss: 0.0080\n",
      "1/1 [==============================] - 0s 1ms/step - loss: 0.0067\n",
      "1/1 [==============================] - 0s 827us/step - loss: 0.0103\n",
      "1/1 [==============================] - 0s 970us/step - loss: 0.0085\n",
      "1/1 [==============================] - 0s 1ms/step - loss: 0.0061\n",
      "1/1 [==============================] - 0s 989us/step - loss: 0.0075\n",
      "1/1 [==============================] - 0s 674us/step - loss: 0.0115\n",
      "1/1 [==============================] - 0s 755us/step - loss: 0.0151\n",
      "The list of rec. error contains  3 batches of rec. errors\n"
     ]
    }
   ],
   "source": [
    "total_rec_error_eval = []\n",
    "labels_list_eval = []\n",
    "for i in range(len(test_set_generator)):                               #This will traverse the train generator the number of batches it contains\n",
    "    images_in_batch, images_labels = next(test_crops)           #As for each next step of the \"train_crops\" generator it exists one batch of the augmented and one batch of the orignial images, we perform twice the calc_recon_error() function\n",
    "    rec_errors, labels = calc_recon_error_for_val_eval(images_in_batch,images_labels)\n",
    "    total_rec_error_eval.append(rec_errors)\n",
    "    labels_list_eval.append(labels)\n",
    "    \n",
    "print(\"The list of rec. error contains \", len(total_rec_error_eval), \"batches of rec. errors\")"
   ]
  },
  {
   "cell_type": "code",
   "execution_count": 59,
   "metadata": {},
   "outputs": [
    {
     "name": "stdout",
     "output_type": "stream",
     "text": [
      "The reconstruction error list is:  [0.0052462066523730755, 0.005653529427945614, 0.005642793141305447, 0.005627187434583902, 0.005801469087600708, 0.005047261714935303, 0.005732020828872919, 0.0065484121441841125, 0.008506963029503822, 0.008127456530928612, 0.014339255169034004, 0.0058280108496546745, 0.007152150385081768, 0.005209452006965876, 0.005448882468044758, 0.006896934472024441, 0.007872147485613823, 0.00904170610010624, 0.012030074372887611, 0.012133399955928326, 0.007951917126774788, 0.01276673935353756, 0.008011972531676292, 0.006669302470982075, 0.01028691790997982, 0.00853929203003645, 0.006131578236818314, 0.007501786109060049, 0.011504996567964554, 0.015082478523254395]\n",
      "The ground truth labels are:  [0.0, 0.0, 0.0, 0.0, 0.0, 0.0, 0.0, 0.0, 0.0, 0.0, 0.0, 0.0, 0.0, 0.0, 0.0, 0.0, 0.0, 0.0, 0.0, 0.0, 1.0, 1.0, 1.0, 1.0, 1.0, 1.0, 1.0, 1.0, 1.0, 1.0]\n"
     ]
    }
   ],
   "source": [
    "total_rec_error_eval_list = [item for sublist in total_rec_error_eval for item in sublist]\n",
    "y_true = [item for sublist in labels_list_eval for item in sublist]\n",
    "print(\"The reconstruction error list is: \", total_rec_error_eval_list)\n",
    "print(\"The ground truth labels are: \", y_true)"
   ]
  },
  {
   "cell_type": "code",
   "execution_count": 60,
   "metadata": {},
   "outputs": [
    {
     "name": "stdout",
     "output_type": "stream",
     "text": [
      "[[15  5]\n",
      " [ 5  5]]\n",
      "The FPR values are:  0.25\n",
      "The TPR values are:  0.5\n",
      "Using the threshold =  0.0084569\n"
     ]
    }
   ],
   "source": [
    "conf_matrix = confusion_matrix(y_true, pred_label_onProb(total_rec_error_eval_list, best_threshold_approach1))\n",
    "print(conf_matrix)\n",
    "_tp = conf_matrix[1, 1]\n",
    "_fn = conf_matrix[1, 0]\n",
    "_fp = conf_matrix[0, 1]\n",
    "_tn = conf_matrix[0, 0]\n",
    "_tpr = _tp/(_tp+_fn)\n",
    "_fpr = _fp / (_tn + _fp)\n",
    "print(\"The FPR values are: \", _fpr)\n",
    "print(\"The TPR values are: \", _tpr)\n",
    "print(\"Using the threshold = \", best_threshold_approach1)"
   ]
  },
  {
   "cell_type": "code",
   "execution_count": 61,
   "metadata": {},
   "outputs": [],
   "source": [
    "def computePredList(probs_list, threshold_value):\n",
    "    pred = 0\n",
    "    pred_list =[]\n",
    "    for i in range (len(probs_list)):\n",
    "        if probs_list[i] > threshold_value:              # Working with a threshold of 50%\n",
    "            pred = 1\n",
    "        else:\n",
    "            pred = 0\n",
    "        pred_list.append(pred)\n",
    "    return pred_list"
   ]
  },
  {
   "cell_type": "code",
   "execution_count": 62,
   "metadata": {},
   "outputs": [
    {
     "name": "stdout",
     "output_type": "stream",
     "text": [
      "The groudn truth is:  [0. 0. 0. 0. 0. 0. 0. 0. 0. 0. 0. 0. 0. 0. 0. 0. 0. 0. 0. 0. 1. 1. 1. 1.\n",
      " 1. 1. 1. 1. 1. 1.]\n",
      "The predicted label is:  [0, 0, 0, 0, 0, 0, 0, 0, 1, 0, 1, 0, 0, 0, 0, 0, 0, 1, 1, 1, 0, 1, 0, 0, 1, 1, 0, 0, 1, 1]\n"
     ]
    }
   ],
   "source": [
    "y_pred = computePredList(total_rec_error_eval_list, best_threshold_approach1)\n",
    "print(\"The groudn truth is: \", np.array(y_true))\n",
    "print(\"The predicted label is: \", y_pred)"
   ]
  },
  {
   "cell_type": "markdown",
   "metadata": {},
   "source": [
    "# Applying evaluation metrics to these results"
   ]
  },
  {
   "cell_type": "markdown",
   "metadata": {},
   "source": [
    "## Computing the confusion matrix"
   ]
  },
  {
   "cell_type": "code",
   "execution_count": 63,
   "metadata": {},
   "outputs": [],
   "source": [
    "from sklearn.metrics import confusion_matrix\n",
    "import pandas as pd\n",
    "import seaborn as sn"
   ]
  },
  {
   "cell_type": "code",
   "execution_count": 64,
   "metadata": {},
   "outputs": [
    {
     "name": "stdout",
     "output_type": "stream",
     "text": [
      "[[15  5]\n",
      " [ 5  5]]\n"
     ]
    }
   ],
   "source": [
    "conf_matrix = confusion_matrix(y_true, y_pred)\n",
    "print(conf_matrix)"
   ]
  },
  {
   "cell_type": "code",
   "execution_count": 65,
   "metadata": {},
   "outputs": [
    {
     "data": {
      "text/plain": [
       "Text(0.5, 23.52222222222222, 'Predicted label')"
      ]
     },
     "execution_count": 65,
     "metadata": {},
     "output_type": "execute_result"
    },
    {
     "data": {
      "image/png": "[encoded data removed]",
      "text/plain": [
       "<Figure size 640x480 with 2 Axes>"
      ]
     },
     "metadata": {},
     "output_type": "display_data"
    }
   ],
   "source": [
    "group_names = ['True Neg','False Pos','False Neg','True Pos']\n",
    "group_counts = [\"{0:0.0f}\".format(value) for value in\n",
    "                conf_matrix.flatten()]\n",
    "group_percentages = [\"{0:.2%}\".format(value) for value in\n",
    "                     conf_matrix.flatten()/np.sum(conf_matrix)]\n",
    "labels = [f\"{v1}\\n{v2}\\n{v3}\" for v1, v2, v3 in\n",
    "          zip(group_names,group_counts,group_percentages)]        #To print the group names as well \n",
    "\n",
    "labels = np.asarray(labels).reshape(2,2)\n",
    "categories = ['Positive bottles', 'Anomaly bottles']\n",
    "sn.heatmap(conf_matrix, annot=labels, fmt='', xticklabels=categories,yticklabels=categories, cmap='Blues')\n",
    "plt.ylabel('True label')\n",
    "plt.xlabel('Predicted label')"
   ]
  },
  {
   "cell_type": "code",
   "execution_count": 66,
   "metadata": {},
   "outputs": [
    {
     "name": "stdout",
     "output_type": "stream",
     "text": [
      "The FPR values are:  0.25\n",
      "The TPR values are:  0.5\n"
     ]
    }
   ],
   "source": [
    "_tp = conf_matrix[1, 1]\n",
    "_fn = conf_matrix[1, 0]\n",
    "_fp = conf_matrix[0, 1]\n",
    "_tn = conf_matrix[0, 0]\n",
    "_tpr = _tp/(_tp+_fn)\n",
    "_fpr = _fp / (_tn + _fp)\n",
    "print(\"The FPR values are: \", _fpr)\n",
    "print(\"The TPR values are: \", _tpr)"
   ]
  },
  {
   "cell_type": "markdown",
   "metadata": {},
   "source": [
    "## Precision metric"
   ]
  },
  {
   "cell_type": "markdown",
   "metadata": {},
   "source": [
    "Precision = True positives / (True positives + False positives).\n",
    "\n",
    "Answers the question: Which proportion of positive predictions is actually right?"
   ]
  },
  {
   "cell_type": "code",
   "execution_count": 67,
   "metadata": {},
   "outputs": [
    {
     "name": "stdout",
     "output_type": "stream",
     "text": [
      "The precision is:  0.5\n"
     ]
    }
   ],
   "source": [
    "precision = _tp/(_tp+_fp)\n",
    "print(\"The precision is: \", precision)\n"
   ]
  },
  {
   "cell_type": "markdown",
   "metadata": {},
   "source": [
    "## Recall metric"
   ]
  },
  {
   "cell_type": "markdown",
   "metadata": {},
   "source": [
    "Recall = TruePositives / (TruePositives + FalseNegatives)\n",
    "\n",
    "This metric is also called \"sensitiviy\" and TPR \"True Positive Rate\". It responds how good is the model at catching YESes?"
   ]
  },
  {
   "cell_type": "code",
   "execution_count": 68,
   "metadata": {},
   "outputs": [
    {
     "name": "stdout",
     "output_type": "stream",
     "text": [
      "The recall is:  0.5\n"
     ]
    }
   ],
   "source": [
    "recall = _tp/(_tp+_fn)\n",
    "print(\"The recall is: \", recall)"
   ]
  },
  {
   "cell_type": "markdown",
   "metadata": {},
   "source": [
    "## Specificity"
   ]
  },
  {
   "cell_type": "markdown",
   "metadata": {},
   "source": [
    "Specificity = True negatives / (True negatives + false positives)\n",
    "\n",
    "The specificity metric is the opposite as sensitivity, it tells us how good is the model at catching NOes. It measures the proportion of actual negatives that are correctly identified as such."
   ]
  },
  {
   "cell_type": "code",
   "execution_count": 69,
   "metadata": {},
   "outputs": [
    {
     "name": "stdout",
     "output_type": "stream",
     "text": [
      "The specificity is:  0.75\n"
     ]
    }
   ],
   "source": [
    "spec = _tn/(_tn+_fp)\n",
    "print(\"The specificity is: \", spec)"
   ]
  },
  {
   "cell_type": "markdown",
   "metadata": {},
   "source": [
    "## Accuracy"
   ]
  },
  {
   "cell_type": "markdown",
   "metadata": {},
   "source": [
    "Accuracy = (True negatives + True positives) / (True positives + True negatives + False positives + False negatives)"
   ]
  },
  {
   "cell_type": "code",
   "execution_count": 70,
   "metadata": {},
   "outputs": [
    {
     "name": "stdout",
     "output_type": "stream",
     "text": [
      "The accuracy is:  0.6666666666666666\n"
     ]
    }
   ],
   "source": [
    "acc = (_tn+_tp)/(_tn+_tp +_fp + _fn)\n",
    "print(\"The accuracy is: \", acc)"
   ]
  },
  {
   "cell_type": "markdown",
   "metadata": {},
   "source": [
    "## The ROC curve"
   ]
  },
  {
   "cell_type": "code",
   "execution_count": 71,
   "metadata": {},
   "outputs": [],
   "source": [
    "from sklearn.metrics import roc_curve, roc_auc_score\n"
   ]
  },
  {
   "cell_type": "markdown",
   "metadata": {},
   "source": [
    "Rather than the prediction of each sample (0 or 1 values) we need the probability of the samples to be predicted as an anomaly image. Hence, we compute this probability"
   ]
  },
  {
   "cell_type": "code",
   "execution_count": 72,
   "metadata": {},
   "outputs": [
    {
     "name": "stdout",
     "output_type": "stream",
     "text": [
      "AUROC = 0.755\n",
      "The fpr is:  [0.   0.   0.05 0.05 0.15 0.15 0.2  0.2  0.3  0.3  0.35 0.35 0.45 0.45\n",
      " 0.5  0.5  1.  ]\n",
      "The tpr is:  [0.  0.1 0.1 0.2 0.2 0.4 0.4 0.5 0.5 0.7 0.7 0.8 0.8 0.9 0.9 1.  1. ]\n",
      "The thresholds are:  [1.01508248 0.01508248 0.01433926 0.01276674 0.01203007 0.01028692\n",
      " 0.00904171 0.00853929 0.00812746 0.00795192 0.00787215 0.00750179\n",
      " 0.00689693 0.0066693  0.00654841 0.00613158 0.00504726]\n"
     ]
    }
   ],
   "source": [
    "auc_score = roc_auc_score(y_true, total_rec_error_eval_list)\n",
    "print('AUROC = %.3f' % (auc_score))\n",
    "fpr, tpr, thresholds = roc_curve(y_true, total_rec_error_eval_list)\n",
    "print(\"The fpr is: \", fpr)\n",
    "print(\"The tpr is: \", tpr)\n",
    "print(\"The thresholds are: \", thresholds)"
   ]
  },
  {
   "cell_type": "code",
   "execution_count": 73,
   "metadata": {},
   "outputs": [
    {
     "data": {
      "image/png": "[encoded data removed]",
      "text/plain": [
       "<Figure size 640x480 with 1 Axes>"
      ]
     },
     "metadata": {},
     "output_type": "display_data"
    }
   ],
   "source": [
    "plt.plot(fpr, tpr, marker='.', label='AUROC = %0.3f' % auc_score)\n",
    "# Title\n",
    "plt.title('ROC Plot')\n",
    "# Axis labels\n",
    "plt.xlabel('False Positive Rate')\n",
    "plt.ylabel('True Positive Rate')\n",
    "# Show legend\n",
    "plt.legend() # \n",
    "# Show plot\n",
    "plt.show()"
   ]
  },
  {
   "cell_type": "markdown",
   "metadata": {},
   "source": [
    "# Evaluating the model. With the threhsold value computed from a probability value upon the reconstruction errors"
   ]
  },
  {
   "cell_type": "code",
   "execution_count": 74,
   "metadata": {},
   "outputs": [
    {
     "name": "stdout",
     "output_type": "stream",
     "text": [
      "The probability list is:  [36.31602259768343, 26.76057989912527, 27.012443968452626, 27.378540453331517, 23.29004246430731, 40.98310007004621, 24.919239004705158, 5.767399478689273, 40.17852321266291, 31.27562649698425, 100, 22.667395508047736, 8.395781447584456, 37.17825503141037, 31.561421924268824, 2.408635186117438, 25.286295432695166, 52.723136664268125, 100, 100, 27.157622745848087, 100, 28.566470997626826, 2.931416175511128, 81.93473692425884, 40.93693381628544, 15.545965165450562, 16.597935430128924, 100, 100]\n",
      "The ground truth labels are:  [0.0, 0.0, 0.0, 0.0, 0.0, 0.0, 0.0, 0.0, 0.0, 0.0, 0.0, 0.0, 0.0, 0.0, 0.0, 0.0, 0.0, 0.0, 0.0, 0.0, 1.0, 1.0, 1.0, 1.0, 1.0, 1.0, 1.0, 1.0, 1.0, 1.0]\n"
     ]
    }
   ],
   "source": [
    "probs_list = map_error2prob_list(total_rec_error_eval_list)\n",
    "print(\"The probability list is: \", probs_list)\n",
    "print(\"The ground truth labels are: \", y_true)"
   ]
  },
  {
   "cell_type": "code",
   "execution_count": 75,
   "metadata": {},
   "outputs": [
    {
     "name": "stdout",
     "output_type": "stream",
     "text": [
      "[[12  8]\n",
      " [ 5  5]]\n",
      "The FPR values are:  0.4\n",
      "The TPR values are:  0.5\n",
      "Using the threshold =  35.93423223\n"
     ]
    }
   ],
   "source": [
    "conf_matrix = confusion_matrix(y_true, pred_label_onProb(probs_list, best_threshold_approach2))\n",
    "print(conf_matrix)\n",
    "_tp = conf_matrix[1, 1]\n",
    "_fn = conf_matrix[1, 0]\n",
    "_fp = conf_matrix[0, 1]\n",
    "_tn = conf_matrix[0, 0]\n",
    "_tpr = _tp/(_tp+_fn)\n",
    "_fpr = _fp / (_tn + _fp)\n",
    "print(\"The FPR values are: \", _fpr)\n",
    "print(\"The TPR values are: \", _tpr)\n",
    "print(\"Using the threshold = \", best_threshold_approach2)"
   ]
  },
  {
   "cell_type": "code",
   "execution_count": 76,
   "metadata": {},
   "outputs": [
    {
     "name": "stdout",
     "output_type": "stream",
     "text": [
      "The groudn truth is:  [0. 0. 0. 0. 0. 0. 0. 0. 0. 0. 0. 0. 0. 0. 0. 0. 0. 0. 0. 0. 1. 1. 1. 1.\n",
      " 1. 1. 1. 1. 1. 1.]\n",
      "The predicted label is:  [1, 0, 0, 0, 0, 1, 0, 0, 1, 0, 1, 0, 0, 1, 0, 0, 0, 1, 1, 1, 0, 1, 0, 0, 1, 1, 0, 0, 1, 1]\n"
     ]
    }
   ],
   "source": [
    "y_pred = computePredList(probs_list, best_threshold_approach2)\n",
    "print(\"The groudn truth is: \", np.array(y_true))\n",
    "print(\"The predicted label is: \", y_pred)"
   ]
  },
  {
   "cell_type": "markdown",
   "metadata": {},
   "source": [
    "# Applying evaluation metrics to these results"
   ]
  },
  {
   "cell_type": "markdown",
   "metadata": {},
   "source": [
    "## Computing the confusion matrix"
   ]
  },
  {
   "cell_type": "code",
   "execution_count": 77,
   "metadata": {},
   "outputs": [],
   "source": [
    "from sklearn.metrics import confusion_matrix\n",
    "import pandas as pd\n",
    "import seaborn as sn"
   ]
  },
  {
   "cell_type": "code",
   "execution_count": 78,
   "metadata": {},
   "outputs": [
    {
     "name": "stdout",
     "output_type": "stream",
     "text": [
      "[[12  8]\n",
      " [ 5  5]]\n"
     ]
    }
   ],
   "source": [
    "conf_matrix = confusion_matrix(y_true, y_pred)\n",
    "print(conf_matrix)"
   ]
  },
  {
   "cell_type": "code",
   "execution_count": 79,
   "metadata": {},
   "outputs": [
    {
     "data": {
      "text/plain": [
       "Text(0.5, 23.52222222222222, 'Predicted label')"
      ]
     },
     "execution_count": 79,
     "metadata": {},
     "output_type": "execute_result"
    },
    {
     "data": {
      "image/png": "[encoded data removed]",
      "text/plain": [
       "<Figure size 640x480 with 2 Axes>"
      ]
     },
     "metadata": {},
     "output_type": "display_data"
    }
   ],
   "source": [
    "group_names = ['True Neg','False Pos','False Neg','True Pos']\n",
    "group_counts = [\"{0:0.0f}\".format(value) for value in\n",
    "                conf_matrix.flatten()]\n",
    "group_percentages = [\"{0:.2%}\".format(value) for value in\n",
    "                     conf_matrix.flatten()/np.sum(conf_matrix)]\n",
    "labels = [f\"{v1}\\n{v2}\\n{v3}\" for v1, v2, v3 in\n",
    "          zip(group_names,group_counts,group_percentages)]        #To print the group names as well \n",
    "\n",
    "labels = np.asarray(labels).reshape(2,2)\n",
    "categories = ['Positive bottles', 'Anomaly bottles']\n",
    "sn.heatmap(conf_matrix, annot=labels, fmt='', xticklabels=categories,yticklabels=categories, cmap='Blues')\n",
    "plt.ylabel('True label')\n",
    "plt.xlabel('Predicted label')"
   ]
  },
  {
   "cell_type": "code",
   "execution_count": 80,
   "metadata": {},
   "outputs": [
    {
     "name": "stdout",
     "output_type": "stream",
     "text": [
      "The FPR values are:  0.4\n",
      "The TPR values are:  0.5\n"
     ]
    }
   ],
   "source": [
    "_tp = conf_matrix[1, 1]\n",
    "_fn = conf_matrix[1, 0]\n",
    "_fp = conf_matrix[0, 1]\n",
    "_tn = conf_matrix[0, 0]\n",
    "_tpr = _tp/(_tp+_fn)\n",
    "_fpr = _fp / (_tn + _fp)\n",
    "print(\"The FPR values are: \", _fpr)\n",
    "print(\"The TPR values are: \", _tpr)"
   ]
  },
  {
   "cell_type": "markdown",
   "metadata": {},
   "source": [
    "## Precision metric"
   ]
  },
  {
   "cell_type": "markdown",
   "metadata": {},
   "source": [
    "Precision = True positives / (True positives + False positives).\n",
    "\n",
    "Answers the question: Which proportion of positive predictions is actually right?"
   ]
  },
  {
   "cell_type": "code",
   "execution_count": 81,
   "metadata": {},
   "outputs": [
    {
     "name": "stdout",
     "output_type": "stream",
     "text": [
      "The precision is:  0.38461538461538464\n"
     ]
    }
   ],
   "source": [
    "precision = _tp/(_tp+_fp)\n",
    "print(\"The precision is: \", precision)\n"
   ]
  },
  {
   "cell_type": "markdown",
   "metadata": {},
   "source": [
    "## Recall metric"
   ]
  },
  {
   "cell_type": "markdown",
   "metadata": {},
   "source": [
    "Recall = TruePositives / (TruePositives + FalseNegatives)\n",
    "\n",
    "This metric is also called \"sensitiviy\" and TPR \"True Positive Rate\". It responds how good is the model at catching YESes?"
   ]
  },
  {
   "cell_type": "code",
   "execution_count": 82,
   "metadata": {},
   "outputs": [
    {
     "name": "stdout",
     "output_type": "stream",
     "text": [
      "The recall is:  0.5\n"
     ]
    }
   ],
   "source": [
    "recall = _tp/(_tp+_fn)\n",
    "print(\"The recall is: \", recall)"
   ]
  },
  {
   "cell_type": "markdown",
   "metadata": {},
   "source": [
    "## Specificity"
   ]
  },
  {
   "cell_type": "markdown",
   "metadata": {},
   "source": [
    "Specificity = True negatives / (True negatives + false positives)\n",
    "\n",
    "The specificity metric is the opposite as sensitivity, it tells us how good is the model at catching NOes. It measures the proportion of actual negatives that are correctly identified as such."
   ]
  },
  {
   "cell_type": "code",
   "execution_count": 83,
   "metadata": {},
   "outputs": [
    {
     "name": "stdout",
     "output_type": "stream",
     "text": [
      "The specificity is:  0.6\n"
     ]
    }
   ],
   "source": [
    "spec = _tn/(_tn+_fp)\n",
    "print(\"The specificity is: \", spec)"
   ]
  },
  {
   "cell_type": "markdown",
   "metadata": {},
   "source": [
    "## Accuracy"
   ]
  },
  {
   "cell_type": "markdown",
   "metadata": {},
   "source": [
    "Accuracy = (True negatives + True positives) / (True positives + True negatives + False positives + False negatives)"
   ]
  },
  {
   "cell_type": "code",
   "execution_count": 84,
   "metadata": {},
   "outputs": [
    {
     "name": "stdout",
     "output_type": "stream",
     "text": [
      "The accuracy is:  0.5666666666666667\n"
     ]
    }
   ],
   "source": [
    "acc = (_tn+_tp)/(_tn+_tp +_fp + _fn)\n",
    "print(\"The accuracy is: \", acc)"
   ]
  },
  {
   "cell_type": "markdown",
   "metadata": {},
   "source": [
    "## The ROC curve"
   ]
  },
  {
   "cell_type": "code",
   "execution_count": 85,
   "metadata": {},
   "outputs": [],
   "source": [
    "from sklearn.metrics import roc_curve, roc_auc_score\n"
   ]
  },
  {
   "cell_type": "markdown",
   "metadata": {},
   "source": [
    "Rather than the prediction of each sample (0 or 1 values) we need the probability of the samples to be predicted as an anomaly image. Hence, we compute this probability"
   ]
  },
  {
   "cell_type": "code",
   "execution_count": 86,
   "metadata": {},
   "outputs": [
    {
     "name": "stdout",
     "output_type": "stream",
     "text": [
      "AUROC = 0.568\n",
      "The fpr is:  [0.   0.15 0.15 0.25 0.25 0.5  0.5  0.55 0.55 0.85 0.85 0.95 0.95 1.  ]\n",
      "The tpr is:  [0.  0.3 0.4 0.4 0.5 0.5 0.6 0.6 0.7 0.7 0.9 0.9 1.  1. ]\n",
      "The thresholds are:  [101.         100.          81.93473692  40.98310007  40.93693382\n",
      "  31.2756265   28.566471    27.37854045  27.15762275  22.66739551\n",
      "  15.54596517   5.76739948   2.93141618   2.40863519]\n"
     ]
    }
   ],
   "source": [
    "auc_score = roc_auc_score(y_true, probs_list)\n",
    "print('AUROC = %.3f' % (auc_score))\n",
    "fpr, tpr, thresholds = roc_curve(y_true, probs_list)\n",
    "print(\"The fpr is: \", fpr)\n",
    "print(\"The tpr is: \", tpr)\n",
    "print(\"The thresholds are: \", thresholds)"
   ]
  },
  {
   "cell_type": "code",
   "execution_count": 87,
   "metadata": {},
   "outputs": [
    {
     "data": {
      "image/png": "[encoded data removed]",
      "text/plain": [
       "<Figure size 640x480 with 1 Axes>"
      ]
     },
     "metadata": {},
     "output_type": "display_data"
    }
   ],
   "source": [
    "plt.plot(fpr, tpr, marker='.', label='AUROC = %0.3f' % auc_score)\n",
    "# Title\n",
    "plt.title('ROC Plot')\n",
    "# Axis labels\n",
    "plt.xlabel('False Positive Rate')\n",
    "plt.ylabel('True Positive Rate')\n",
    "# Show legend\n",
    "plt.legend() # \n",
    "# Show plot\n",
    "plt.show()"
   ]
  }
 ],
 "metadata": {
  "kernelspec": {
   "display_name": "Python 3",
   "language": "python",
   "name": "python3"
  },
  "language_info": {
   "codemirror_mode": {
    "name": "ipython",
    "version": 3
   },
   "file_extension": ".py",
   "mimetype": "text/x-python",
   "name": "python",
   "nbconvert_exporter": "python",
   "pygments_lexer": "ipython3",
   "version": "3.8.10"
  },
  "orig_nbformat": 4,
  "vscode": {
   "interpreter": {
    "hash": "916dbcbb3f70747c44a77c7bcd40155683ae19c65e1c03b4aa3499c5328201f1"
   }
  }
 },
 "nbformat": 4,
 "nbformat_minor": 2
}
