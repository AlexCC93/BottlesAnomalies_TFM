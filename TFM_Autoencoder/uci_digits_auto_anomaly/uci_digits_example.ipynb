{
 "cells": [
  {
   "cell_type": "code",
   "execution_count": 1,
   "metadata": {},
   "outputs": [],
   "source": [
    "# uci_digits_auto_anomaly.py\n",
    "\n",
    "# autoencoder reconstruction error anomaly detection\n",
    "# uses an encoder-decoder architecture\n",
    "# PyTorch 1.8.0-CPU Anaconda3-2020.02  Python 3.7.6\n",
    "# Windows 10 \n",
    "\n",
    "import numpy as np\n",
    "import matplotlib.pyplot as plt\n",
    "import torch as T\n",
    "\n",
    "device = T.device(\"cpu\") "
   ]
  },
  {
   "cell_type": "code",
   "execution_count": 2,
   "metadata": {},
   "outputs": [],
   "source": [
    "# -----------------------------------------------------------\n",
    "\n",
    "class UCI_Digits_Dataset(T.utils.data.Dataset):\n",
    "  # 8,12,0,16, . . 15,7\n",
    "  # 64 pixel values [0-16], digit [0-9]\n",
    "\n",
    "  def __init__(self, src_file, n_rows=None):\n",
    "    all_xy = np.loadtxt(src_file, max_rows=n_rows,\n",
    "      usecols=range(0,65), delimiter=\",\", comments=\"#\",\n",
    "      dtype=np.float32)\n",
    "    self.xy_data = T.tensor(all_xy, dtype=T.float32).to(device) \n",
    "    self.xy_data[:, 0:64] /= 16.0   # normalize pixels\n",
    "    self.xy_data[:, 64] /= 9.0      # normalize digit/label\n",
    "\n",
    "  def __len__(self):\n",
    "    return len(self.xy_data)\n",
    "\n",
    "  def __getitem__(self, idx):\n",
    "    xy = self.xy_data[idx]\n",
    "    return xy\n",
    "\n",
    "# -----------------------------------------------------------"
   ]
  },
  {
   "cell_type": "code",
   "execution_count": 3,
   "metadata": {},
   "outputs": [],
   "source": [
    "# -----------------------------------------------------------\n",
    "\n",
    "class Autoencoder(T.nn.Module):  # 65-32-8-32-65\n",
    "  def __init__(self):\n",
    "    super(Autoencoder, self).__init__()\n",
    "    self.fc1 = T.nn.Linear(65, 32)\n",
    "    self.fc2 = T.nn.Linear(32, 8)\n",
    "    self.fc3 = T.nn.Linear(8, 32)\n",
    "    self.fc4 = T.nn.Linear(32, 65)\n",
    "\n",
    "  def encode(self, x):  # 65-32-8\n",
    "    z = T.tanh(self.fc1(x))\n",
    "    z = T.tanh(self.fc2(z))  # latent in [-1,+1]\n",
    "    return z  \n",
    "\n",
    "  def decode(self, x):  # 8-32-65\n",
    "    z = T.tanh(self.fc3(x))\n",
    "    z = T.sigmoid(self.fc4(z))  # [0.0, 1.0]\n",
    "    return z\n",
    "    \n",
    "  def forward(self, x):\n",
    "    z = self.encode(x) \n",
    "    z = self.decode(z) \n",
    "    return z  # in [0.0, 1.0]\n",
    "\n",
    "# -----------------------------------------------------------\n"
   ]
  },
  {
   "cell_type": "code",
   "execution_count": 4,
   "metadata": {},
   "outputs": [],
   "source": [
    "# -----------------------------------------------------------\n",
    "\n",
    "def display_digit(ds, idx, save=False):\n",
    "  # ds is a PyTorch Dataset\n",
    "  line = ds[idx]  # tensor\n",
    "  pixels = np.array(line[0:64])  # numpy row of pixels\n",
    "  label = np.int(line[64] * 9.0)  # denormalize; like '5'\n",
    "  print(\"\\ndigit = \", str(label), \"\\n\")\n",
    "\n",
    "  pixels = pixels.reshape((8,8))\n",
    "  for i in range(8):\n",
    "    for j in range(8):\n",
    "      pxl = pixels[i,j]  # or [i][j] syntax\n",
    "      pxl = np.int(pxl * 16.0)  # denormalize\n",
    "      print(\"%.2X\" % pxl, end=\"\")\n",
    "      print(\" \", end=\"\")\n",
    "    print(\"\")\n",
    "\n",
    "  plt.imshow(pixels, cmap=plt.get_cmap('gray_r'))\n",
    "  if save == True:\n",
    "    plt.savefig(\".\\\\idx_\" + str(idx) + \"_digit_\" + \\\n",
    "    str(label) + \".jpg\", bbox_inches='tight')\n",
    "  plt.show() \n",
    "  plt.close() \n",
    "\n",
    "# -----------------------------------------------------------\n",
    "\n"
   ]
  },
  {
   "cell_type": "code",
   "execution_count": 5,
   "metadata": {},
   "outputs": [],
   "source": [
    "\n",
    "def display_digits(ds, idxs, save=False):\n",
    "  # idxs is a list of indices\n",
    "  for idx in idxs:\n",
    "    display_digit(ds, idx, save)\n",
    "\n",
    "# -----------------------------------------------------------"
   ]
  },
  {
   "cell_type": "code",
   "execution_count": 6,
   "metadata": {},
   "outputs": [],
   "source": [
    "\n",
    "def train(ae, ds, bs, me, le, lr):\n",
    "  # autoencoder, dataset, batch_size, max_epochs,\n",
    "  # log_every, learn_rate\n",
    "  # assumes ae.train() has been set\n",
    "  data_ldr = T.utils.data.DataLoader(ds, batch_size=bs,\n",
    "    shuffle=True)\n",
    "  loss_func = T.nn.MSELoss()\n",
    "  opt = T.optim.SGD(ae.parameters(), lr=lr)\n",
    "  print(\"\\nStarting training\")\n",
    "  for epoch in range(0, me):\n",
    "    epoch_loss = 0.0\n",
    "    for (batch_idx, batch) in enumerate(data_ldr):\n",
    "      X = batch  # inputs\n",
    "      Y = batch  # targets (same as inputs)\n",
    "\n",
    "      opt.zero_grad()                # prepare gradients\n",
    "      oupt = ae(X)                   # compute output/target\n",
    "      loss_val = loss_func(oupt, Y)  # a tensor\n",
    "      epoch_loss += loss_val.item()  # accumulate for display\n",
    "      loss_val.backward()            # compute gradients\n",
    "      opt.step()                     # update weights\n",
    "\n",
    "    if epoch % le == 0:\n",
    "      print(\"epoch = %4d   loss = %0.4f\" % (epoch, epoch_loss))\n",
    "  print(\"Done \")\n",
    "\n",
    "# -----------------------------------------------------------\n"
   ]
  },
  {
   "cell_type": "code",
   "execution_count": 7,
   "metadata": {},
   "outputs": [],
   "source": [
    "\n",
    "def make_err_list(model, ds):\n",
    "  # assumes model.eval()\n",
    "  result_lst = []\n",
    "  n_features = len(ds[0])  # 65\n",
    "  for i in range(len(ds)):\n",
    "    X = ds[i]\n",
    "    with T.no_grad():\n",
    "      Y = model(X)  # should be same as X\n",
    "    err = T.sum((X-Y)*(X-Y)).item()  # SSE all features\n",
    "    err = err / n_features           # sort of norm'ed SSE \n",
    "    result_lst.append( (i,err) )     # idx of data item, err\n",
    "  return result_lst \n",
    "\n",
    "# -----------------------------------------------------------"
   ]
  },
  {
   "cell_type": "code",
   "execution_count": 8,
   "metadata": {},
   "outputs": [
    {
     "name": "stdout",
     "output_type": "stream",
     "text": [
      "\n",
      "Begin UCI Digits autoencoder anomaly demo \n",
      "\n",
      "Loading data as normalized tensors \n"
     ]
    }
   ],
   "source": [
    "# 0. get started\n",
    "print(\"\\nBegin UCI Digits autoencoder anomaly demo \")\n",
    "T.manual_seed(1)\n",
    "np.random.seed(1)\n",
    "\n",
    "# 1. create Dataset object\n",
    "print(\"\\nLoading data as normalized tensors \")\n",
    "fn = \".\\\\Data\\\\optdigits_train_3823.txt\"\n",
    "data_ds = UCI_Digits_Dataset(fn)  # all rows\n"
   ]
  },
  {
   "cell_type": "code",
   "execution_count": 9,
   "metadata": {},
   "outputs": [
    {
     "name": "stdout",
     "output_type": "stream",
     "text": [
      "<class 'torch.Tensor'>\n",
      "3823\n"
     ]
    }
   ],
   "source": [
    "print(type(data_ds.__getitem__(1125)))\n",
    "print(len(data_ds))"
   ]
  },
  {
   "cell_type": "code",
   "execution_count": 10,
   "metadata": {},
   "outputs": [],
   "source": [
    "def train(ae, ds, bs, me, le, lr):\n",
    "  # autoencoder, dataset, batch_size, max_epochs,\n",
    "  # log_every, learn_rate\n",
    "  # assumes ae.train() has been set\n",
    "  data_ldr = T.utils.data.DataLoader(ds, batch_size=bs,\n",
    "    shuffle=True)\n",
    "  loss_func = T.nn.MSELoss()\n",
    "  opt = T.optim.SGD(ae.parameters(), lr=lr)\n",
    "  print(\"\\nStarting training\")\n",
    "  for epoch in range(0, me):\n",
    "    epoch_loss = 0.0\n",
    "    for (batch_idx, batch) in enumerate(data_ldr):\n",
    "      X = batch  # inputs\n",
    "      Y = batch  # targets (same as inputs)\n",
    "\n",
    "      opt.zero_grad()                # prepare gradients\n",
    "      oupt = ae(X)                   # compute output/target\n",
    "      loss_val = loss_func(oupt, Y)  # a tensor\n",
    "      epoch_loss += loss_val.item()  # accumulate for display\n",
    "      loss_val.backward()            # compute gradients\n",
    "      opt.step()                     # update weights\n",
    "\n",
    "    if epoch % le == 0:\n",
    "      print(\"epoch = %4d   loss = %0.4f\" % (epoch, epoch_loss))\n",
    "  print(\"Done \")\n"
   ]
  },
  {
   "cell_type": "code",
   "execution_count": 11,
   "metadata": {},
   "outputs": [
    {
     "name": "stdout",
     "output_type": "stream",
     "text": [
      "\n",
      "Creating a 65-32-8-32-65 autoencoder \n"
     ]
    },
    {
     "data": {
      "text/plain": [
       "Autoencoder(\n",
       "  (fc1): Linear(in_features=65, out_features=32, bias=True)\n",
       "  (fc2): Linear(in_features=32, out_features=8, bias=True)\n",
       "  (fc3): Linear(in_features=8, out_features=32, bias=True)\n",
       "  (fc4): Linear(in_features=32, out_features=65, bias=True)\n",
       ")"
      ]
     },
     "execution_count": 11,
     "metadata": {},
     "output_type": "execute_result"
    }
   ],
   "source": [
    "\n",
    "# 2. create autoencoder net\n",
    "print(\"\\nCreating a 65-32-8-32-65 autoencoder \")\n",
    "autoenc = Autoencoder().to(device)\n",
    "autoenc.train()   # set mode\n",
    "\n"
   ]
  },
  {
   "cell_type": "code",
   "execution_count": 12,
   "metadata": {},
   "outputs": [],
   "source": [
    "bat_size = 10\n",
    "\n",
    "data_ldr = T.utils.data.DataLoader(data_ds, batch_size=bat_size, shuffle=True)"
   ]
  },
  {
   "cell_type": "code",
   "execution_count": 13,
   "metadata": {},
   "outputs": [
    {
     "name": "stdout",
     "output_type": "stream",
     "text": [
      "383\n"
     ]
    }
   ],
   "source": [
    "print(len(data_ldr)) "
   ]
  },
  {
   "attachments": {},
   "cell_type": "markdown",
   "metadata": {},
   "source": [
    "Above is 383 because there were in total 3823 elements in the dataset (see \"len(data_ds)\"). And as this variable (data_ldr) is storing batches of data; each one of them of length 10, it only has the size of 383. Meaning that the last batch might contain only 3 elements instead of 10."
   ]
  },
  {
   "cell_type": "code",
   "execution_count": null,
   "metadata": {},
   "outputs": [],
   "source": [
    "# bat_size = 10\n",
    "# lrn_rate = 0.005\n",
    "# max_epochs = 100\n",
    "# log_interval = 10\n",
    "\n",
    "\n",
    "# data_ldr = T.utils.data.DataLoader(data_ds, batch_size=bat_size, shuffle=True)\n",
    "\n",
    "\n",
    "\n",
    "\n",
    "# loss_func = T.nn.MSELoss()\n",
    "# opt = T.optim.SGD(autoenc.parameters(), lr=lrn_rate)\n",
    "# print(\"\\nStarting training\")\n",
    "# for epoch in range(0, max_epochs):\n",
    "#     epoch_loss = 0.0\n",
    "#     for (batch_idx, batch) in enumerate(data_ldr):\n",
    "#         X = batch  # inputs\n",
    "#         Y = batch  # targets (same as inputs)\n",
    "\n",
    "#         opt.zero_grad()                # prepare gradients\n",
    "#         oupt = autoenc(X)                   # compute output/target\n",
    "#         loss_val = loss_func(oupt, Y)  # a tensor\n",
    "#         epoch_loss += loss_val.item()  # accumulate for display\n",
    "#         loss_val.backward()            # compute gradients\n",
    "#         opt.step()                     # update weights\n",
    "\n",
    "#     if epoch % log_interval == 0:\n",
    "#         print(\"epoch = %4d   loss = %0.4f\" % (epoch, epoch_loss))\n",
    "# print(\"Done \")\n"
   ]
  },
  {
   "cell_type": "code",
   "execution_count": 14,
   "metadata": {},
   "outputs": [
    {
     "name": "stdout",
     "output_type": "stream",
     "text": [
      "\n",
      "bat_size =  10 \n",
      "max epochs = 100\n",
      "loss = MSELoss\n",
      "optimizer = SGD\n",
      "lrn_rate = 0.005 \n",
      "\n",
      "Starting training\n",
      "epoch =    0   loss = 69.7865\n",
      "epoch =   10   loss = 59.2447\n",
      "epoch =   20   loss = 45.8365\n",
      "epoch =   30   loss = 36.6743\n",
      "epoch =   40   loss = 32.6010\n",
      "epoch =   50   loss = 30.8375\n",
      "epoch =   60   loss = 29.9937\n",
      "epoch =   70   loss = 29.5430\n",
      "epoch =   80   loss = 29.2588\n",
      "epoch =   90   loss = 29.0767\n",
      "Done \n"
     ]
    }
   ],
   "source": [
    "# 3. train autoencoder model\n",
    "bat_size = 10\n",
    "max_epochs = 100\n",
    "log_interval = 10\n",
    "lrn_rate = 0.005\n",
    "\n",
    "print(\"\\nbat_size = %3d \" % bat_size)\n",
    "print(\"max epochs = \" + str(max_epochs))\n",
    "print(\"loss = MSELoss\")\n",
    "print(\"optimizer = SGD\")\n",
    "print(\"lrn_rate = %0.3f \" % lrn_rate)\n",
    "\n",
    "train(autoenc, data_ds, bat_size, max_epochs, \\\n",
    "log_interval, lrn_rate) \n",
    "\n"
   ]
  },
  {
   "cell_type": "code",
   "execution_count": 16,
   "metadata": {},
   "outputs": [],
   "source": [
    "filepath = \"../../../BottlesAnomalies_TFM/models/UCI_digitsModel1\"\n"
   ]
  },
  {
   "cell_type": "code",
   "execution_count": 17,
   "metadata": {},
   "outputs": [],
   "source": [
    "T.save(autoenc.state_dict(), filepath)"
   ]
  },
  {
   "cell_type": "code",
   "execution_count": null,
   "metadata": {},
   "outputs": [
    {
     "data": {
      "text/plain": [
       "Autoencoder(\n",
       "  (encoder): Sequential(\n",
       "    (0): Conv2d(3, 110, kernel_size=(9, 9), stride=(5, 5), padding=(1, 1))\n",
       "    (1): ReLU()\n",
       "    (2): Conv2d(110, 225, kernel_size=(9, 9), stride=(5, 5), padding=(1, 1))\n",
       "    (3): ReLU()\n",
       "    (4): Conv2d(225, 450, kernel_size=(8, 8), stride=(1, 1))\n",
       "  )\n",
       "  (decoder): Sequential(\n",
       "    (0): ConvTranspose2d(450, 225, kernel_size=(8, 8), stride=(1, 1))\n",
       "    (1): ReLU()\n",
       "    (2): ConvTranspose2d(225, 110, kernel_size=(9, 9), stride=(5, 5), padding=(1, 1), output_padding=(2, 2))\n",
       "    (3): ReLU()\n",
       "    (4): ConvTranspose2d(110, 3, kernel_size=(9, 9), stride=(5, 5), padding=(1, 1), output_padding=(2, 2))\n",
       "    (5): Sigmoid()\n",
       "  )\n",
       ")"
      ]
     },
     "metadata": {},
     "output_type": "display_data"
    }
   ],
   "source": [
    "# For loading the model \n",
    "autoenc.load_state_dict(T.load(filepath))\n",
    "autoenc.eval()"
   ]
  },
  {
   "attachments": {},
   "cell_type": "markdown",
   "metadata": {},
   "source": [
    "After training we will see the tensor max and min values of both, the input data and the reconstructed one.\n"
   ]
  },
  {
   "cell_type": "code",
   "execution_count": 19,
   "metadata": {},
   "outputs": [
    {
     "name": "stdout",
     "output_type": "stream",
     "text": [
      "The input data treated through batches\n",
      "The len of each batch is:  10\n",
      "The images are stored in a variable of type:  <class 'torch.Tensor'>\n",
      "The min and max tensor values of the input is:  tensor(0.) tensor(1.)\n",
      "\n",
      "\n",
      "The reconstructed data treated through batches\n",
      "The recontructed images are stored in a variable of type:  <class 'torch.Tensor'>\n",
      "The min and max tensor values of the reconstruction is:  tensor(0.0677, grad_fn=<MinBackward1>) tensor(0.7495, grad_fn=<MaxBackward1>)\n"
     ]
    }
   ],
   "source": [
    "print(\"The input data treated through batches\")\n",
    "images = next(iter(data_ldr))\n",
    "print(\"The len of each batch is: \", len(images))\n",
    "print(\"The images are stored in a variable of type: \", type(images))\n",
    "print(\"The min and max tensor values of the input is: \", T.min(images), T.max(images))\n",
    "print(\"\\n\")\n",
    "print(\"The reconstructed data treated through batches\")\n",
    "recon_output = autoenc(images)\n",
    "print(\"The recontructed images are stored in a variable of type: \", type(recon_output))\n",
    "print(\"The min and max tensor values of the reconstruction is: \", T.min(recon_output), T.max(recon_output))"
   ]
  },
  {
   "attachments": {},
   "cell_type": "markdown",
   "metadata": {},
   "source": [
    "The tensor dimensions of both, the input and reconstruction data don't match. Try this:"
   ]
  },
  {
   "cell_type": "code",
   "execution_count": 20,
   "metadata": {},
   "outputs": [
    {
     "name": "stdout",
     "output_type": "stream",
     "text": [
      "The input data treated through batches\n",
      "The len of each batch is:  10\n",
      "The images are stored in a variable of type:  <class 'torch.Tensor'>\n",
      "The min and max tensor values of the input is:  tensor(0.) tensor(1.)\n",
      "\n",
      "\n",
      "The reconstructed data treated through batches\n",
      "The recontructed images are stored in a variable of type:  <class 'torch.Tensor'>\n",
      "The min and max tensor values of the reconstruction is:  tensor(0.0665) tensor(0.7512)\n"
     ]
    }
   ],
   "source": [
    "print(\"The input data treated through batches\")\n",
    "images = next(iter(data_ldr))\n",
    "print(\"The len of each batch is: \", len(images))\n",
    "print(\"The images are stored in a variable of type: \", type(images))\n",
    "print(\"The min and max tensor values of the input is: \", T.min(images), T.max(images))\n",
    "print(\"\\n\")\n",
    "print(\"The reconstructed data treated through batches\")\n",
    "with T.no_grad():       # Because gradients will not be computed\n",
    "    recon_output = autoenc(images)\n",
    "print(\"The recontructed images are stored in a variable of type: \", type(recon_output))\n",
    "print(\"The min and max tensor values of the reconstruction is: \", T.min(recon_output), T.max(recon_output))"
   ]
  },
  {
   "attachments": {},
   "cell_type": "markdown",
   "metadata": {},
   "source": [
    "Now, the dimensions match. Using the \"T.no_grad()\" is imporant for this."
   ]
  },
  {
   "attachments": {},
   "cell_type": "markdown",
   "metadata": {},
   "source": [
    "Finally, this example uses not all the batch for computing the error of the reconstructed data but only one sample of the input data. See the following:"
   ]
  },
  {
   "cell_type": "code",
   "execution_count": 21,
   "metadata": {},
   "outputs": [
    {
     "name": "stdout",
     "output_type": "stream",
     "text": [
      "The input data considering only one sample. Not a batch of samples\n",
      "The images are stored in a variable of type:  <class 'torch.Tensor'>\n",
      "The min and max tensor values of the input is:  tensor(0.) tensor(1.)\n",
      "\n",
      "\n",
      "The reconstructed data onsidering only one sample. Not a batch of samples\n",
      "The recontructed images are stored in a variable of type:  <class 'torch.Tensor'>\n",
      "The min and max tensor values of the reconstruction is:  tensor(0.0707) tensor(0.7461)\n"
     ]
    }
   ],
   "source": [
    "print(\"The input data considering only one sample. Not a batch of samples\")\n",
    "X = data_ds[0]\n",
    "print(\"The images are stored in a variable of type: \", type(X))\n",
    "print(\"The min and max tensor values of the input is: \", T.min(X), T.max(X))\n",
    "print(\"\\n\")\n",
    "print(\"The reconstructed data onsidering only one sample. Not a batch of samples\")\n",
    "with T.no_grad():       # Because gradients will not be computed\n",
    "    Y = autoenc(X)\n",
    "print(\"The recontructed images are stored in a variable of type: \", type(Y))\n",
    "print(\"The min and max tensor values of the reconstruction is: \", T.min(Y), T.max(Y))"
   ]
  },
  {
   "attachments": {},
   "cell_type": "markdown",
   "metadata": {},
   "source": [
    "See above that the tnesor max and min values of the input and reconstruction data are not the same, but somehow close to each other. This is expected as the reconstruction is not 100% the same as the input data."
   ]
  },
  {
   "cell_type": "code",
   "execution_count": null,
   "metadata": {},
   "outputs": [],
   "source": [
    "\n",
    "# result_lst = []\n",
    "# n_features = len(data_ds[0])  # 65\n",
    "# for i in range(len(data_ds)):\n",
    "#     X = data_ds[i]\n",
    "#     with T.no_grad():\n",
    "#         Y = autoenc(X)  # should be same as X\n",
    "#     err = T.sum((X-Y)*(X-Y)).item()  # SSE all features\n",
    "#     err = err / n_features           # sort of norm'ed SSE \n",
    "# result_lst.append( (i,err) )     # idx of data item, err\n"
   ]
  },
  {
   "cell_type": "code",
   "execution_count": 11,
   "metadata": {},
   "outputs": [
    {
     "name": "stdout",
     "output_type": "stream",
     "text": [
      "\n",
      "Computing reconstruction errors \n"
     ]
    }
   ],
   "source": [
    "# 4. compute and store reconstruction errors\n",
    "print(\"\\nComputing reconstruction errors \")\n",
    "autoenc.eval()  # set mode\n",
    "err_list = make_err_list(autoenc, data_ds)\n",
    "err_list.sort(key=lambda x: x[1], \\\n",
    "reverse=True)  # high error to low\n",
    "\n"
   ]
  },
  {
   "cell_type": "code",
   "execution_count": 12,
   "metadata": {},
   "outputs": [
    {
     "name": "stdout",
     "output_type": "stream",
     "text": [
      "Largest reconstruction item / error: \n",
      " [ 486]  0.1352\n",
      "\n",
      "digit =  7 \n",
      "\n",
      "00 00 00 0A 10 10 10 09 \n",
      "00 00 00 02 05 0A 10 0C \n",
      "00 00 00 00 00 06 10 02 \n",
      "00 00 00 00 00 0E 0A 00 \n",
      "00 01 08 0E 10 10 05 00 \n",
      "00 05 0A 08 10 0A 01 00 \n",
      "00 00 00 05 0E 01 00 00 \n",
      "00 00 00 0D 09 00 00 00 \n"
     ]
    },
    {
     "name": "stderr",
     "output_type": "stream",
     "text": [
      "C:\\Users\\Alex\\AppData\\Local\\Temp\\ipykernel_21096\\2622526565.py:7: DeprecationWarning: `np.int` is a deprecated alias for the builtin `int`. To silence this warning, use `int` by itself. Doing this will not modify any behavior and is safe. When replacing `np.int`, you may wish to use e.g. `np.int64` or `np.int32` to specify the precision. If you wish to review your current use, check the release note link for additional information.\n",
      "Deprecated in NumPy 1.20; for more details and guidance: https://numpy.org/devdocs/release/1.20.0-notes.html#deprecations\n",
      "  label = np.int(line[64] * 9.0)  # denormalize; like '5'\n",
      "C:\\Users\\Alex\\AppData\\Local\\Temp\\ipykernel_21096\\2622526565.py:14: DeprecationWarning: `np.int` is a deprecated alias for the builtin `int`. To silence this warning, use `int` by itself. Doing this will not modify any behavior and is safe. When replacing `np.int`, you may wish to use e.g. `np.int64` or `np.int32` to specify the precision. If you wish to review your current use, check the release note link for additional information.\n",
      "Deprecated in NumPy 1.20; for more details and guidance: https://numpy.org/devdocs/release/1.20.0-notes.html#deprecations\n",
      "  pxl = np.int(pxl * 16.0)  # denormalize\n"
     ]
    },
    {
     "data": {
      "image/png": "[encoded data removed]",
      "text/plain": [
       "<Figure size 640x480 with 1 Axes>"
      ]
     },
     "metadata": {},
     "output_type": "display_data"
    },
    {
     "name": "stdout",
     "output_type": "stream",
     "text": [
      "\n",
      "End autoencoder anomaly detection demo \n",
      "\n"
     ]
    }
   ],
   "source": [
    "# 5. show most anomalous item\n",
    "print(\"Largest reconstruction item / error: \")\n",
    "(idx,err) = err_list[0]\n",
    "print(\" [%4d]  %0.4f\" % (idx, err)) \n",
    "display_digit(data_ds, idx)\n",
    "\n",
    "print(\"\\nEnd autoencoder anomaly detection demo \\n\")"
   ]
  }
 ],
 "metadata": {
  "kernelspec": {
   "display_name": "tfm",
   "language": "python",
   "name": "python3"
  },
  "language_info": {
   "codemirror_mode": {
    "name": "ipython",
    "version": 3
   },
   "file_extension": ".py",
   "mimetype": "text/x-python",
   "name": "python",
   "nbconvert_exporter": "python",
   "pygments_lexer": "ipython3",
   "version": "3.9.16"
  },
  "orig_nbformat": 4
 },
 "nbformat": 4,
 "nbformat_minor": 2
}
