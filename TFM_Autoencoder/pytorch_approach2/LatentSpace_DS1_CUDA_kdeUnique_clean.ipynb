{
 "cells": [
  {
   "cell_type": "code",
   "execution_count": 1,
   "metadata": {},
   "outputs": [],
   "source": [
    "import numpy as np\n",
    "import torch\n",
    "import torch.nn as nn\n",
    "import torch.nn.functional as F\n",
    "import torch.optim as optim\n",
    "import matplotlib.pyplot as plt\n",
    "from torch.utils.data.sampler import SubsetRandomSampler\n",
    "from torch.utils.data import DataLoader\n",
    "from torchvision import datasets, transforms\n",
    "import matplotlib.pyplot as plt\n",
    "%matplotlib inline\n",
    "import torch.nn as nn\n",
    "import torch.nn.functional as F\n"
   ]
  },
  {
   "cell_type": "code",
   "execution_count": 2,
   "metadata": {},
   "outputs": [
    {
     "name": "stdout",
     "output_type": "stream",
     "text": [
      "True\n",
      "1\n",
      "0\n",
      "<torch.cuda.device object at 0x0000021152584F10>\n",
      "GeForce RTX 2080 with Max-Q Design\n"
     ]
    }
   ],
   "source": [
    "print(torch.cuda.is_available())\n",
    "print(torch.cuda.device_count())\n",
    "print(torch.cuda.current_device())\n",
    "print(torch.cuda.device(0))\n",
    "print(torch.cuda.get_device_name(0))"
   ]
  },
  {
   "cell_type": "code",
   "execution_count": 3,
   "metadata": {},
   "outputs": [],
   "source": [
    "# data_dir = '../../../../BottleStoodUp_atNight/Positive/'        #For the work laptop\n",
    "data_dir = '../../../Images/BottleStoodUp_atNight/Positive'        #For the home laptop"
   ]
  },
  {
   "cell_type": "code",
   "execution_count": 4,
   "metadata": {},
   "outputs": [],
   "source": [
    "# transform_characteristics = transforms.Compose([transforms.Resize(255),\n",
    "#                                 transforms.CenterCrop(224),\n",
    "#                                 transforms.ToTensor()])\n",
    "\n",
    "transform_characteristics = transforms.Compose([transforms.ToTensor(),\n",
    "                                                transforms.Resize(255),\n",
    "                                                transforms.CenterCrop(224)])\n",
    "dataset = datasets.ImageFolder(data_dir, transform=transform_characteristics)\n",
    "dataloader = torch.utils.data.DataLoader(dataset, batch_size=32, shuffle=True)"
   ]
  },
  {
   "attachments": {},
   "cell_type": "markdown",
   "metadata": {},
   "source": [
    "Building the network in which the pre-trained model will be loaded."
   ]
  },
  {
   "cell_type": "code",
   "execution_count": 16,
   "metadata": {},
   "outputs": [],
   "source": [
    "class Autoencoder(nn.Module):\n",
    "    def __init__(self):\n",
    "        super().__init__()        \n",
    "        # 32, 1, 224, 224.  Batch size, input channels, shape of the image.\n",
    "        input_channels = 3              # number of channels of the input image\n",
    "        output_channels = 110           # ~= 224/2. Shape of the input image divided by 2 approximately.   \n",
    "        kernel_size = 9\n",
    "        padding_val = 1\n",
    "        stride_val = 5\n",
    "\n",
    "        \n",
    "        output_channels_layer2 = output_channels*2+5\n",
    "\n",
    "        output_channels_layer3 = output_channels_layer2*2\n",
    "        \n",
    "        self.encoder = nn.Sequential(\n",
    "            nn.Conv2d(input_channels, output_channels, kernel_size, stride=stride_val, padding=padding_val),         # input image channels, output channels, kernel size (filter). Dimension rseult: -> 15, 110, 44, 44. Batch size, channel output, output image shape.\n",
    "            nn.ReLU(),\n",
    "            nn.Conv2d(output_channels, output_channels_layer2, kernel_size, stride=stride_val, padding=padding_val), # Dimension rseult: -> 15, 225, 8, 8\n",
    "            nn.ReLU(),\n",
    "            nn.Conv2d(output_channels_layer2, output_channels_layer3, 8) # Dimension rseult: -> 15, 450, 1, 1\n",
    "        )\n",
    "        \n",
    "        # Initial dimension for this part of the model: 15 , 450, 1, 1\n",
    "        self.decoder = nn.Sequential(\n",
    "            nn.ConvTranspose2d(output_channels_layer3, output_channels_layer2, 8),  # Dimension rseult: -> 15, 225, 8, 8\n",
    "            nn.ReLU(),\n",
    "            nn.ConvTranspose2d(output_channels_layer2, output_channels, kernel_size, stride=stride_val, padding=padding_val, output_padding=2), # Dimension rseult: -> 15, 110, 44, 44\n",
    "            nn.ReLU(),\n",
    "            nn.ConvTranspose2d(output_channels, input_channels, kernel_size, stride=stride_val, padding=padding_val, output_padding=2), # Dimension rseult: -> 15, 1, 224, 224\n",
    "            nn.Sigmoid()\n",
    "        )\n",
    "\n",
    "    def forward(self, x):\n",
    "        encoded = self.encoder(x)\n",
    "        decoded = self.decoder(encoded)\n",
    "        return decoded\n",
    "    \n",
    " \n",
    "# Note: nn.MaxPool2d -> use nn.MaxUnpool2d, or use different kernelsize, stride etc to compensate...\n",
    "# Input [-1, +1] -> use nn.Tanh"
   ]
  },
  {
   "cell_type": "code",
   "execution_count": 17,
   "metadata": {},
   "outputs": [
    {
     "name": "stdout",
     "output_type": "stream",
     "text": [
      "cuda:0\n"
     ]
    }
   ],
   "source": [
    "def get_device():\n",
    "    if torch.cuda.is_available():\n",
    "        device = 'cuda:0'\n",
    "    else:\n",
    "        device = 'cpu'\n",
    "    return device\n",
    "\n",
    "device = get_device()\n",
    "print(device)"
   ]
  },
  {
   "cell_type": "code",
   "execution_count": 18,
   "metadata": {},
   "outputs": [],
   "source": [
    "model = Autoencoder()\n",
    "\n",
    "criterion = nn.MSELoss()\n",
    "optimizer = torch.optim.Adam(model.parameters(),\n",
    "                             lr=1e-3, \n",
    "                             weight_decay=1e-5)"
   ]
  },
  {
   "cell_type": "code",
   "execution_count": 19,
   "metadata": {},
   "outputs": [
    {
     "data": {
      "text/plain": [
       "Autoencoder(\n",
       "  (encoder): Sequential(\n",
       "    (0): Conv2d(3, 110, kernel_size=(9, 9), stride=(5, 5), padding=(1, 1))\n",
       "    (1): ReLU()\n",
       "    (2): Conv2d(110, 225, kernel_size=(9, 9), stride=(5, 5), padding=(1, 1))\n",
       "    (3): ReLU()\n",
       "    (4): Conv2d(225, 450, kernel_size=(8, 8), stride=(1, 1))\n",
       "  )\n",
       "  (decoder): Sequential(\n",
       "    (0): ConvTranspose2d(450, 225, kernel_size=(8, 8), stride=(1, 1))\n",
       "    (1): ReLU()\n",
       "    (2): ConvTranspose2d(225, 110, kernel_size=(9, 9), stride=(5, 5), padding=(1, 1), output_padding=(2, 2))\n",
       "    (3): ReLU()\n",
       "    (4): ConvTranspose2d(110, 3, kernel_size=(9, 9), stride=(5, 5), padding=(1, 1), output_padding=(2, 2))\n",
       "    (5): Sigmoid()\n",
       "  )\n",
       ")"
      ]
     },
     "execution_count": 19,
     "metadata": {},
     "output_type": "execute_result"
    }
   ],
   "source": [
    "model.to(device)"
   ]
  },
  {
   "attachments": {},
   "cell_type": "markdown",
   "metadata": {},
   "source": [
    "Loading the model"
   ]
  },
  {
   "cell_type": "code",
   "execution_count": 20,
   "metadata": {},
   "outputs": [
    {
     "data": {
      "text/plain": [
       "Autoencoder(\n",
       "  (encoder): Sequential(\n",
       "    (0): Conv2d(3, 110, kernel_size=(9, 9), stride=(5, 5), padding=(1, 1))\n",
       "    (1): ReLU()\n",
       "    (2): Conv2d(110, 225, kernel_size=(9, 9), stride=(5, 5), padding=(1, 1))\n",
       "    (3): ReLU()\n",
       "    (4): Conv2d(225, 450, kernel_size=(8, 8), stride=(1, 1))\n",
       "  )\n",
       "  (decoder): Sequential(\n",
       "    (0): ConvTranspose2d(450, 225, kernel_size=(8, 8), stride=(1, 1))\n",
       "    (1): ReLU()\n",
       "    (2): ConvTranspose2d(225, 110, kernel_size=(9, 9), stride=(5, 5), padding=(1, 1), output_padding=(2, 2))\n",
       "    (3): ReLU()\n",
       "    (4): ConvTranspose2d(110, 3, kernel_size=(9, 9), stride=(5, 5), padding=(1, 1), output_padding=(2, 2))\n",
       "    (5): Sigmoid()\n",
       "  )\n",
       ")"
      ]
     },
     "execution_count": 20,
     "metadata": {},
     "output_type": "execute_result"
    }
   ],
   "source": [
    "filepath = \"../../../BottlesAnomalies_TFM/models/pytorchModels/PytorchModel_withCUDA\"\n",
    "# For loading the model \n",
    "model.load_state_dict(torch.load(filepath))\n",
    "model.eval()"
   ]
  },
  {
   "attachments": {},
   "cell_type": "markdown",
   "metadata": {},
   "source": [
    "Extracting the layers' weights of the model that has been loaded."
   ]
  },
  {
   "cell_type": "code",
   "execution_count": 21,
   "metadata": {},
   "outputs": [
    {
     "name": "stdout",
     "output_type": "stream",
     "text": [
      "The number of layers that the loaded model has, is:  3\n"
     ]
    }
   ],
   "source": [
    "layers_weights_list = []\n",
    "for m in model.modules():\n",
    "    if isinstance(m, nn.Conv2d):\n",
    "        weights = m.weight\n",
    "        layers_weights_list.append(weights)\n",
    "print(\"The number of layers that the loaded model has, is: \", len(layers_weights_list))"
   ]
  },
  {
   "attachments": {},
   "cell_type": "markdown",
   "metadata": {},
   "source": [
    "Copying the model layers' weights from one model to another. "
   ]
  },
  {
   "cell_type": "code",
   "execution_count": 22,
   "metadata": {},
   "outputs": [],
   "source": [
    "class Autoencoder_latentSpace(nn.Module):\n",
    "    def __init__(self):\n",
    "        super().__init__()        \n",
    "        # 32, 1, 224, 224.  Batch size, input channels, shape of the image.\n",
    "        input_channels = 3              # number of channels of the input image\n",
    "        output_channels = 110           # ~= 224/2. Shape of the input image divided by 2 approximately. \n",
    "        kernel_size = 9\n",
    "        padding_val = 1\n",
    "        stride_val = 5\n",
    "\n",
    "        output_channels_layer2 = output_channels*2+5\n",
    "\n",
    "        output_channels_layer3 = output_channels_layer2*2\n",
    "        \n",
    "        self.encoder = nn.Sequential(\n",
    "            nn.Conv2d(input_channels, output_channels, kernel_size, stride=stride_val, padding=padding_val),         # input image channels, output channels, kernel size (filter). Dimension rseult: -> 15, 110, 44, 44. Batch size, channel output, output image shape.\n",
    "            nn.ReLU(),\n",
    "            nn.Conv2d(output_channels, output_channels_layer2, kernel_size, stride=stride_val, padding=padding_val), # Dimension rseult: -> 15, 225, 8, 8\n",
    "            nn.ReLU(),\n",
    "            nn.Conv2d(output_channels_layer2, output_channels_layer3, 8) # Dimension rseult: -> 15, 450, 1, 1\n",
    "        )\n",
    "\n",
    "    def forward(self, x):\n",
    "        # print(\"This is the forward function\")\n",
    "        encoded = self.encoder(x)\n",
    "        return encoded\n",
    "    \n",
    "    def show_modules(self):\n",
    "        print(\"This is the show modules function\")\n",
    "        i = 0\n",
    "        for m in self.modules():\n",
    "            print(m)\n",
    "            print(\"i is: \", i)\n",
    "            print(\"print the next module\")\n",
    "            i = i +1\n",
    "            \n",
    "    def show_one_layer_weights(self, index):\n",
    "        print(\"This is the one layer show function\")\n",
    "        i = 0\n",
    "        for m in self.modules():\n",
    "            if isinstance(m, nn.Conv2d):\n",
    "                if i == index:\n",
    "                    print(\"i is: \", i)\n",
    "                    print(\"The weights are: \", m.weight)\n",
    "                i = i +1\n",
    "    \n",
    "    def update_weights(self):\n",
    "        print(\"updating weights function\")\n",
    "        i = 0\n",
    "        for m in self.modules():\n",
    "            if isinstance(m, nn.Conv2d):\n",
    "                m.weight = layers_weights_list[i]\n",
    "                i = i +1\n",
    "\n",
    "                                        \n",
    " "
   ]
  },
  {
   "cell_type": "code",
   "execution_count": 23,
   "metadata": {},
   "outputs": [
    {
     "data": {
      "text/plain": [
       "Autoencoder_latentSpace(\n",
       "  (encoder): Sequential(\n",
       "    (0): Conv2d(3, 110, kernel_size=(9, 9), stride=(5, 5), padding=(1, 1))\n",
       "    (1): ReLU()\n",
       "    (2): Conv2d(110, 225, kernel_size=(9, 9), stride=(5, 5), padding=(1, 1))\n",
       "    (3): ReLU()\n",
       "    (4): Conv2d(225, 450, kernel_size=(8, 8), stride=(1, 1))\n",
       "  )\n",
       ")"
      ]
     },
     "execution_count": 23,
     "metadata": {},
     "output_type": "execute_result"
    }
   ],
   "source": [
    "model_encoder = Autoencoder_latentSpace()\n",
    "model_encoder.to(device)\n",
    "# model.eval()"
   ]
  },
  {
   "cell_type": "code",
   "execution_count": 25,
   "metadata": {},
   "outputs": [
    {
     "name": "stdout",
     "output_type": "stream",
     "text": [
      "updating weights function\n"
     ]
    }
   ],
   "source": [
    "model_encoder.update_weights()"
   ]
  },
  {
   "cell_type": "code",
   "execution_count": 26,
   "metadata": {},
   "outputs": [
    {
     "name": "stdout",
     "output_type": "stream",
     "text": [
      "This is the one layer show function\n",
      "i is:  0\n",
      "The weights are:  Parameter containing:\n",
      "tensor([[[[-1.6085e-25, -1.6363e-25, -1.6663e-25,  ..., -1.7430e-25,\n",
      "           -1.7557e-25, -1.7903e-25],\n",
      "          [-2.2771e-25, -2.5256e-25, -2.5323e-25,  ..., -2.6019e-25,\n",
      "           -2.5946e-25, -2.5337e-25],\n",
      "          [-2.5053e-25, -2.6664e-25, -2.5478e-25,  ..., -2.7490e-25,\n",
      "           -2.6799e-25, -2.6038e-25],\n",
      "          ...,\n",
      "          [-2.6943e-25, -2.8397e-25, -2.8483e-25,  ..., -3.0378e-25,\n",
      "           -2.9532e-25, -2.8298e-25],\n",
      "          [-2.8312e-25, -2.8671e-25, -2.8712e-25,  ..., -2.9985e-25,\n",
      "           -2.9239e-25, -2.9911e-25],\n",
      "          [-2.9684e-25, -2.9257e-25, -2.9676e-25,  ..., -3.0312e-25,\n",
      "           -3.0702e-25, -3.0488e-25]],\n",
      "\n",
      "         [[-1.6082e-25, -1.6399e-25, -1.6598e-25,  ..., -1.7378e-25,\n",
      "           -1.7550e-25, -1.7926e-25],\n",
      "          [-2.2830e-25, -2.5180e-25, -2.5322e-25,  ..., -2.6058e-25,\n",
      "           -2.5928e-25, -2.5301e-25],\n",
      "          [-2.5050e-25, -2.6661e-25, -2.5564e-25,  ..., -2.7503e-25,\n",
      "           -2.6771e-25, -2.5857e-25],\n",
      "          ...,\n",
      "          [-2.6872e-25, -2.8534e-25, -2.8414e-25,  ..., -3.0381e-25,\n",
      "           -2.9534e-25, -2.8295e-25],\n",
      "          [-2.8099e-25, -2.8834e-25, -2.8683e-25,  ..., -2.9919e-25,\n",
      "           -2.9242e-25, -2.9741e-25],\n",
      "          [-2.9452e-25, -2.9257e-25, -2.9678e-25,  ..., -3.0313e-25,\n",
      "           -3.0708e-25, -3.0669e-25]],\n",
      "\n",
      "         [[-1.6087e-25, -1.6460e-25, -1.6687e-25,  ..., -1.7385e-25,\n",
      "           -1.7635e-25, -1.7635e-25],\n",
      "          [-2.2634e-25, -2.5031e-25, -2.5209e-25,  ..., -2.5893e-25,\n",
      "           -2.5896e-25, -2.5337e-25],\n",
      "          [-2.5050e-25, -2.6661e-25, -2.5441e-25,  ..., -2.7445e-25,\n",
      "           -2.6501e-25, -2.6041e-25],\n",
      "          ...,\n",
      "          [-2.6946e-25, -2.8447e-25, -2.8356e-25,  ..., -3.0337e-25,\n",
      "           -2.9386e-25, -2.8199e-25],\n",
      "          [-2.8318e-25, -2.8844e-25, -2.8712e-25,  ..., -2.9845e-25,\n",
      "           -2.8878e-25, -2.9910e-25],\n",
      "          [-2.9603e-25, -2.9085e-25, -2.9577e-25,  ..., -3.0305e-25,\n",
      "           -3.0709e-25, -3.0806e-25]]],\n",
      "\n",
      "\n",
      "        [[[-1.0727e-09, -1.2467e-09, -1.2752e-09,  ..., -1.3815e-09,\n",
      "           -1.3804e-09, -1.4093e-09],\n",
      "          [-4.8281e-09, -5.7444e-09, -5.5169e-09,  ..., -6.1804e-09,\n",
      "           -5.9607e-09, -5.9956e-09],\n",
      "          [-4.8653e-09, -5.8955e-09, -5.7366e-09,  ..., -6.5313e-09,\n",
      "           -6.3610e-09, -6.3550e-09],\n",
      "          ...,\n",
      "          [-6.5471e-09, -7.7374e-09, -7.6077e-09,  ..., -8.3837e-09,\n",
      "           -8.0526e-09, -8.0958e-09],\n",
      "          [-6.6398e-09, -7.9600e-09, -7.7515e-09,  ..., -8.6601e-09,\n",
      "           -8.5860e-09, -8.3701e-09],\n",
      "          [-5.9810e-09, -6.8377e-09, -7.0700e-09,  ..., -7.4223e-09,\n",
      "           -7.6548e-09, -7.9500e-09]],\n",
      "\n",
      "         [[-1.0509e-09, -1.2568e-09, -1.2899e-09,  ..., -1.3348e-09,\n",
      "           -1.4215e-09, -1.3866e-09],\n",
      "          [-4.8179e-09, -5.6788e-09, -5.5128e-09,  ..., -6.1494e-09,\n",
      "           -6.0008e-09, -5.9550e-09],\n",
      "          [-4.8721e-09, -5.9222e-09, -5.7540e-09,  ..., -6.5813e-09,\n",
      "           -6.3536e-09, -6.3902e-09],\n",
      "          ...,\n",
      "          [-6.4751e-09, -7.8155e-09, -7.5744e-09,  ..., -8.1879e-09,\n",
      "           -8.0351e-09, -8.1304e-09],\n",
      "          [-6.6994e-09, -7.9453e-09, -7.7833e-09,  ..., -8.6029e-09,\n",
      "           -8.5038e-09, -8.3584e-09],\n",
      "          [-5.9722e-09, -6.8607e-09, -7.0555e-09,  ..., -7.4304e-09,\n",
      "           -7.5727e-09, -8.0404e-09]],\n",
      "\n",
      "         [[-1.0659e-09, -1.2485e-09, -1.2510e-09,  ..., -1.3357e-09,\n",
      "           -1.4051e-09, -1.4058e-09],\n",
      "          [-4.8855e-09, -5.7471e-09, -5.5161e-09,  ..., -6.1354e-09,\n",
      "           -5.9259e-09, -5.9551e-09],\n",
      "          [-4.8592e-09, -5.9811e-09, -5.8038e-09,  ..., -6.5657e-09,\n",
      "           -6.4136e-09, -6.4005e-09],\n",
      "          ...,\n",
      "          [-6.5056e-09, -7.7086e-09, -7.5397e-09,  ..., -8.4107e-09,\n",
      "           -8.0907e-09, -8.0406e-09],\n",
      "          [-6.5938e-09, -7.9014e-09, -7.7055e-09,  ..., -8.7724e-09,\n",
      "           -8.3818e-09, -8.4589e-09],\n",
      "          [-6.0150e-09, -6.8437e-09, -7.0120e-09,  ..., -7.4443e-09,\n",
      "           -7.6710e-09, -8.0442e-09]]],\n",
      "\n",
      "\n",
      "        [[[-2.6066e-27, -2.6440e-27, -4.9623e-27,  ..., -2.9732e-26,\n",
      "           -6.4868e-26, -1.0348e-25],\n",
      "          [-1.2778e-26, -1.9173e-26, -1.7339e-26,  ..., -1.7092e-25,\n",
      "           -1.4028e-25, -3.3008e-25],\n",
      "          [-4.4636e-26, -5.2706e-26, -5.7231e-26,  ..., -5.8360e-25,\n",
      "           -5.6028e-25, -7.4895e-25],\n",
      "          ...,\n",
      "          [-7.8231e-24, -1.2416e-23, -1.1949e-23,  ..., -5.6591e-23,\n",
      "           -5.4827e-23, -9.1408e-23],\n",
      "          [-1.9654e-23, -2.4449e-23, -2.4558e-23,  ..., -1.2964e-22,\n",
      "           -1.1230e-22, -1.4785e-22],\n",
      "          [-5.7975e-23, -5.4478e-23, -6.5906e-23,  ..., -2.1614e-22,\n",
      "           -2.4514e-22, -3.7824e-22]],\n",
      "\n",
      "         [[-2.5950e-27, -2.7446e-27, -4.9581e-27,  ..., -2.9773e-26,\n",
      "           -6.5088e-26, -1.0299e-25],\n",
      "          [-1.2759e-26, -2.1130e-26, -1.9126e-26,  ..., -1.6566e-25,\n",
      "           -1.4725e-25, -3.1577e-25],\n",
      "          [-4.8367e-26, -5.0795e-26, -5.7363e-26,  ..., -5.7905e-25,\n",
      "           -5.5476e-25, -7.7029e-25],\n",
      "          ...,\n",
      "          [-7.4026e-24, -1.2841e-23, -1.1904e-23,  ..., -5.7266e-23,\n",
      "           -5.4594e-23, -9.4092e-23],\n",
      "          [-2.0808e-23, -2.4563e-23, -2.4248e-23,  ..., -1.2943e-22,\n",
      "           -1.1207e-22, -1.4847e-22],\n",
      "          [-5.6620e-23, -5.4047e-23, -6.6297e-23,  ..., -2.1606e-22,\n",
      "           -2.3991e-22, -3.9226e-22]],\n",
      "\n",
      "         [[-2.5946e-27, -2.5487e-27, -4.9748e-27,  ..., -2.9873e-26,\n",
      "           -6.3779e-26, -1.0315e-25],\n",
      "          [-1.3256e-26, -2.0755e-26, -1.7552e-26,  ..., -1.6917e-25,\n",
      "           -1.4074e-25, -3.0949e-25],\n",
      "          [-4.4654e-26, -5.0879e-26, -5.3299e-26,  ..., -5.9428e-25,\n",
      "           -5.4137e-25, -7.4841e-25],\n",
      "          ...,\n",
      "          [-7.4026e-24, -1.2751e-23, -1.1883e-23,  ..., -5.6067e-23,\n",
      "           -5.7030e-23, -9.3715e-23],\n",
      "          [-2.0306e-23, -2.4804e-23, -2.5719e-23,  ..., -1.3773e-22,\n",
      "           -1.1201e-22, -1.4915e-22],\n",
      "          [-5.7827e-23, -5.5108e-23, -6.9021e-23,  ..., -2.2170e-22,\n",
      "           -2.3665e-22, -3.7539e-22]]],\n",
      "\n",
      "\n",
      "        ...,\n",
      "\n",
      "\n",
      "        [[[-1.0892e-15, -1.0755e-15, -1.1745e-15,  ..., -1.6665e-15,\n",
      "           -1.9733e-15, -2.0502e-15],\n",
      "          [-1.9186e-15, -2.4382e-15, -2.2253e-15,  ..., -3.7527e-15,\n",
      "           -3.3366e-15, -3.9453e-15],\n",
      "          [-2.5877e-15, -3.3475e-15, -3.1562e-15,  ..., -5.7012e-15,\n",
      "           -5.2689e-15, -6.4900e-15],\n",
      "          ...,\n",
      "          [-1.3207e-14, -1.7622e-14, -1.5809e-14,  ..., -2.8195e-14,\n",
      "           -2.7347e-14, -3.0253e-14],\n",
      "          [-1.6497e-14, -2.0825e-14, -2.1442e-14,  ..., -3.4082e-14,\n",
      "           -3.0572e-14, -3.7111e-14],\n",
      "          [-2.0667e-14, -2.2141e-14, -2.5486e-14,  ..., -3.2622e-14,\n",
      "           -3.3609e-14, -4.5112e-14]],\n",
      "\n",
      "         [[-1.0704e-15, -1.1032e-15, -1.2795e-15,  ..., -1.7938e-15,\n",
      "           -2.0689e-15, -2.2529e-15],\n",
      "          [-2.0834e-15, -2.4744e-15, -2.1400e-15,  ..., -4.0476e-15,\n",
      "           -3.5665e-15, -3.8881e-15],\n",
      "          [-2.7400e-15, -3.3307e-15, -3.2788e-15,  ..., -5.3991e-15,\n",
      "           -5.0400e-15, -5.9682e-15],\n",
      "          ...,\n",
      "          [-1.3981e-14, -1.6756e-14, -1.5794e-14,  ..., -2.7355e-14,\n",
      "           -2.5654e-14, -3.2614e-14],\n",
      "          [-1.7907e-14, -2.0794e-14, -2.0192e-14,  ..., -3.7257e-14,\n",
      "           -3.1322e-14, -4.0265e-14],\n",
      "          [-2.0721e-14, -2.2071e-14, -2.4578e-14,  ..., -3.1260e-14,\n",
      "           -3.4042e-14, -4.4122e-14]],\n",
      "\n",
      "         [[-1.0786e-15, -1.1027e-15, -1.2469e-15,  ..., -1.6288e-15,\n",
      "           -2.0097e-15, -2.1589e-15],\n",
      "          [-2.0894e-15, -2.4421e-15, -2.1969e-15,  ..., -4.0649e-15,\n",
      "           -3.6823e-15, -4.0193e-15],\n",
      "          [-2.7608e-15, -3.1727e-15, -3.3105e-15,  ..., -5.5460e-15,\n",
      "           -5.0488e-15, -5.9713e-15],\n",
      "          ...,\n",
      "          [-1.4092e-14, -1.7128e-14, -1.5707e-14,  ..., -2.7449e-14,\n",
      "           -2.5677e-14, -3.0583e-14],\n",
      "          [-1.6742e-14, -2.1301e-14, -2.0304e-14,  ..., -3.4113e-14,\n",
      "           -3.0600e-14, -3.8048e-14],\n",
      "          [-2.1367e-14, -2.3545e-14, -2.4599e-14,  ..., -3.2266e-14,\n",
      "           -3.5968e-14, -4.3812e-14]]],\n",
      "\n",
      "\n",
      "        [[[-5.8022e-18, -4.4677e-18, -1.2542e-18,  ..., -1.4901e-17,\n",
      "            6.1056e-19, -1.3658e-17],\n",
      "          [-1.1210e-17, -1.4656e-17, -1.6481e-17,  ...,  2.5842e-17,\n",
      "            4.0384e-17, -4.1534e-17],\n",
      "          [-9.4559e-18,  3.5878e-18, -2.9488e-17,  ..., -2.9329e-17,\n",
      "           -4.1060e-17,  1.2622e-17],\n",
      "          ...,\n",
      "          [ 1.8748e-17,  1.0423e-17, -1.0530e-17,  ...,  6.2136e-18,\n",
      "            4.7048e-17,  3.4976e-17],\n",
      "          [ 4.2745e-17, -1.0426e-17, -2.8715e-17,  ...,  6.9697e-18,\n",
      "            2.6408e-17,  3.6244e-17],\n",
      "          [-1.7846e-17, -5.9400e-18,  9.7196e-18,  ..., -4.6297e-17,\n",
      "            2.3538e-17, -5.7339e-17]],\n",
      "\n",
      "         [[-2.2320e-18, -1.1382e-17,  4.2988e-20,  ..., -4.1990e-18,\n",
      "           -3.6122e-18, -9.0522e-18],\n",
      "          [-4.3768e-18,  1.9451e-17, -2.2040e-17,  ..., -3.1115e-18,\n",
      "           -1.2360e-17, -6.2767e-18],\n",
      "          [-2.4579e-18, -3.2304e-18,  6.6907e-19,  ...,  2.7848e-17,\n",
      "           -7.1587e-18, -1.7974e-19],\n",
      "          ...,\n",
      "          [ 2.3492e-17, -2.7479e-17,  2.1706e-17,  ...,  1.7218e-17,\n",
      "            2.9264e-17, -5.8105e-17],\n",
      "          [-2.7788e-17, -4.0736e-17, -2.0841e-17,  ..., -1.4975e-17,\n",
      "            8.8980e-17,  2.0083e-17],\n",
      "          [ 5.6872e-18,  2.9835e-17,  7.6219e-18,  ..., -3.7881e-17,\n",
      "            1.4488e-17,  1.3103e-17]],\n",
      "\n",
      "         [[-1.3909e-18, -9.4286e-18, -1.3700e-18,  ..., -2.5793e-18,\n",
      "           -1.8565e-17, -2.2894e-18],\n",
      "          [-1.4254e-17,  1.8022e-18, -8.1017e-18,  ..., -1.7627e-17,\n",
      "            1.8601e-17,  4.0351e-18],\n",
      "          [ 4.8563e-18, -2.1903e-17,  1.6503e-17,  ...,  1.7239e-17,\n",
      "            9.7816e-18,  2.5088e-17],\n",
      "          ...,\n",
      "          [-2.4515e-17, -1.0033e-17,  3.1701e-17,  ...,  1.7329e-17,\n",
      "           -1.0639e-17,  1.0607e-17],\n",
      "          [-3.8673e-18, -3.4532e-17,  2.2965e-17,  ...,  1.8086e-17,\n",
      "            5.9549e-17, -3.9527e-17],\n",
      "          [-8.3614e-18, -2.4074e-17, -2.0948e-17,  ..., -4.6452e-18,\n",
      "           -4.8435e-17,  2.4690e-17]]],\n",
      "\n",
      "\n",
      "        [[[ 9.0718e-05, -8.3037e-07, -5.1335e-04,  ...,  1.8310e-04,\n",
      "            3.3631e-04, -4.8450e-04],\n",
      "          [-3.4495e-04, -2.4594e-04,  3.5630e-05,  ..., -5.2527e-05,\n",
      "            1.7967e-04, -1.6849e-04],\n",
      "          [ 3.0651e-04,  1.5168e-04, -4.7015e-04,  ..., -4.3360e-04,\n",
      "            4.1539e-04,  3.6103e-04],\n",
      "          ...,\n",
      "          [ 2.0312e-05,  3.1917e-04, -1.7852e-04,  ..., -9.2287e-05,\n",
      "            3.7217e-04, -4.1951e-04],\n",
      "          [ 3.0430e-04,  1.8958e-04,  1.5201e-04,  ..., -3.7113e-04,\n",
      "            1.4041e-04, -3.7126e-04],\n",
      "          [ 3.6718e-04,  3.4368e-04,  3.8236e-04,  ..., -3.8414e-04,\n",
      "            3.3926e-04, -4.0066e-04]],\n",
      "\n",
      "         [[ 5.6445e-05, -3.2983e-04, -1.7767e-04,  ...,  4.5748e-04,\n",
      "           -2.4202e-05,  3.6023e-04],\n",
      "          [-9.5743e-05, -2.9503e-04,  2.6095e-04,  ..., -4.3510e-04,\n",
      "            3.4200e-04,  2.5826e-04],\n",
      "          [ 4.2053e-04,  3.8670e-04, -4.1432e-04,  ...,  2.3891e-05,\n",
      "           -4.4327e-04,  3.9357e-04],\n",
      "          ...,\n",
      "          [-3.6729e-04, -2.7417e-04,  3.9562e-04,  ...,  6.7195e-05,\n",
      "           -6.1869e-05,  2.4896e-04],\n",
      "          [-1.7703e-04,  4.8066e-04, -3.6675e-04,  ...,  1.7645e-04,\n",
      "           -2.6430e-04,  1.5876e-04],\n",
      "          [ 1.1486e-05, -4.6011e-04,  2.9508e-05,  ...,  2.1002e-04,\n",
      "           -2.4195e-04, -6.4697e-05]],\n",
      "\n",
      "         [[ 4.9076e-04, -3.0006e-04, -6.0800e-05,  ...,  4.5619e-04,\n",
      "            9.6466e-05, -2.8134e-04],\n",
      "          [ 6.4173e-05, -4.5140e-04,  3.4104e-04,  ...,  5.1249e-05,\n",
      "            2.4474e-04,  5.7795e-05],\n",
      "          [ 2.6079e-04, -1.5957e-04, -4.1118e-04,  ...,  3.2108e-04,\n",
      "            4.3956e-04,  2.6250e-04],\n",
      "          ...,\n",
      "          [ 1.0539e-04,  4.1401e-04,  3.0641e-05,  ..., -1.5906e-04,\n",
      "           -2.0489e-04, -2.5976e-04],\n",
      "          [ 2.6158e-04, -2.1948e-05,  2.8889e-04,  ..., -9.8925e-05,\n",
      "           -1.8603e-04,  9.2031e-05],\n",
      "          [ 1.0292e-04,  1.9290e-04,  1.8561e-04,  ...,  5.1059e-05,\n",
      "           -4.2191e-04,  2.9483e-04]]]], device='cuda:0', requires_grad=True)\n"
     ]
    }
   ],
   "source": [
    "model_encoder.show_one_layer_weights(0)"
   ]
  },
  {
   "attachments": {},
   "cell_type": "markdown",
   "metadata": {},
   "source": [
    "At this point, the created \"model_encoder\" model contains the weights of the encoder part of the pre-trained Autoencoder model. "
   ]
  },
  {
   "attachments": {},
   "cell_type": "markdown",
   "metadata": {},
   "source": [
    "## Obtaining the KDE representation of the training set images"
   ]
  },
  {
   "cell_type": "code",
   "execution_count": 27,
   "metadata": {},
   "outputs": [
    {
     "name": "stderr",
     "output_type": "stream",
     "text": [
      "c:\\Users\\alexj\\.conda\\envs\\tfm_3\\lib\\site-packages\\torchvision\\transforms\\functional.py:1603: UserWarning: The default value of the antialias parameter of all the resizing transforms (Resize(), RandomResizedCrop(), etc.) will change from None to True in v0.17, in order to be consistent across the PIL and Tensor backends. To suppress this warning, directly pass antialias=True (recommended, future default), antialias=None (current default, which means False for Tensors and True for PIL), or antialias=False (only works on Tensors - PIL will still use antialiasing). This also applies if you are using the inference transforms from the models weights: update the call to weights.transforms(antialias=True).\n",
      "  warnings.warn(\n"
     ]
    }
   ],
   "source": [
    "########################################################\n",
    "# Calculate KDE using sklearn\n",
    "from sklearn.neighbors import KernelDensity\n",
    "\n",
    "#Get encoded output of input images = Latent space\n",
    "# encoded_images = model_encoder(images)\n",
    "encoded_images = []\n",
    "\n",
    "for i in range(len(dataset)):\n",
    "    X = dataset[i]\n",
    "    image_in_tensor = X[0]\n",
    "    image_in_tensor = image_in_tensor.cuda()            # Because GPU is being used\n",
    "    with torch.no_grad():\n",
    "        Y = model_encoder(image_in_tensor)  # should be same as X\n",
    "    encoded_images.append(Y)\n"
   ]
  },
  {
   "attachments": {},
   "cell_type": "markdown",
   "metadata": {},
   "source": [
    "Convert \"encoded_images\" to a np array"
   ]
  },
  {
   "cell_type": "code",
   "execution_count": 29,
   "metadata": {},
   "outputs": [
    {
     "name": "stdout",
     "output_type": "stream",
     "text": [
      "<class 'numpy.ndarray'>\n"
     ]
    }
   ],
   "source": [
    "np_encoded_images = []\n",
    "for i in range (len(encoded_images)):\n",
    "    # np_conversion = encoded_images[i].detach().numpy()        # If not using GPU\n",
    "    np_conversion = encoded_images[i].cpu().detach().numpy()    # If using GPU\n",
    "    np_encoded_images.append(np_conversion)\n",
    "np_encoded_images = np.array(np_encoded_images)\n",
    "print(type(np_encoded_images))"
   ]
  },
  {
   "cell_type": "code",
   "execution_count": 30,
   "metadata": {},
   "outputs": [
    {
     "name": "stdout",
     "output_type": "stream",
     "text": [
      "(179, 450, 1, 1)\n"
     ]
    }
   ],
   "source": [
    "print(np_encoded_images.shape)"
   ]
  },
  {
   "attachments": {},
   "cell_type": "markdown",
   "metadata": {},
   "source": [
    "Also, see above the shape of the representation of the original images has been lowered to (1, 1) as specified in the model structure. The number 450, on the other hand, corresponds to the channels of the image; this value started at 3 and layer by layer it incremented until reaching 450."
   ]
  },
  {
   "attachments": {},
   "cell_type": "markdown",
   "metadata": {},
   "source": [
    "Now, we have to flatten the data in order to apply kernel density on it."
   ]
  },
  {
   "cell_type": "code",
   "execution_count": 31,
   "metadata": {},
   "outputs": [
    {
     "name": "stdout",
     "output_type": "stream",
     "text": [
      "(450, 1, 1)\n"
     ]
    }
   ],
   "source": [
    "model_encoder_output_shape = (450,1,1)\n",
    "print(model_encoder_output_shape)"
   ]
  },
  {
   "cell_type": "code",
   "execution_count": 32,
   "metadata": {},
   "outputs": [],
   "source": [
    "out_vector_shape = model_encoder_output_shape[0]*model_encoder_output_shape[1]*model_encoder_output_shape[2]\n",
    "encoded_images_vector = [np.reshape(img, (out_vector_shape)) for img in np_encoded_images]\n"
   ]
  },
  {
   "cell_type": "code",
   "execution_count": 35,
   "metadata": {},
   "outputs": [],
   "source": [
    "kde = KernelDensity(kernel='gaussian', bandwidth=0.2).fit(encoded_images_vector)"
   ]
  },
  {
   "attachments": {},
   "cell_type": "markdown",
   "metadata": {},
   "source": [
    "The above function fits a kernel density estimation to the data that is provided, that is, to the \"encoded_images_vector\" variable. It does so using a Guassian kernel of bandwidth 0.2.\n",
    "\n",
    "The badnwidth parameter affects on how the selected kernel will fit each sample of the given data. For example for the case in which the kernel is a Gaussian distribution, the bandwidth parameter would affect in how thin or wide is the Gaussian distribution."
   ]
  },
  {
   "attachments": {},
   "cell_type": "markdown",
   "metadata": {},
   "source": [
    "At this point in the variable \"kde\" we have some numbers that are the result of fitting Gaussian functions to the given data points in the variable \"encoded_images_vecotr\". We will use the \"kde\" variable later for scoring with it, some given data points; the scoring will be given depending on how similar are the given data points to the ones that it had estimated."
   ]
  },
  {
   "attachments": {},
   "cell_type": "markdown",
   "metadata": {},
   "source": [
    "Here below, it is shown the kde values corresponding to each encoded sample:"
   ]
  },
  {
   "cell_type": "code",
   "execution_count": 36,
   "metadata": {},
   "outputs": [
    {
     "name": "stdout",
     "output_type": "stream",
     "text": [
      "[305.53733485 305.53733485 305.53733485 305.53733485 305.53733485\n",
      " 305.53733485 305.53733485 305.53733485 305.53733485 305.53733485\n",
      " 305.53733485 305.53733485 305.53733485 305.53733485 305.53733485\n",
      " 305.53733485 305.53733485 305.53733485 305.53733485 305.53733485\n",
      " 305.53733485 305.53733485 305.53733485 305.53733485 305.53733485\n",
      " 305.53733485 305.53733485 305.53733485 305.53733485 305.53733485\n",
      " 305.53733485 305.53733485 305.53733485 305.53733485 305.53733485\n",
      " 305.53733485 305.53733485 305.53733485 305.53733485 305.53733485\n",
      " 305.53733485 305.53733485 305.53733485 305.53733485 305.53733485\n",
      " 305.53733485 305.53733485 305.53733485 305.53733485 305.53733485\n",
      " 305.53733485 305.53733485 305.53733485 305.53733485 305.53733485\n",
      " 305.53733485 305.53733485 305.53733485 305.53733485 305.53733485\n",
      " 306.23048203 306.23048203 306.23048203 306.23048203 306.23048203\n",
      " 306.23048203 306.23048203 306.2304823  306.2304823  306.23048203\n",
      " 306.23048203 306.23048203 306.23048203 306.23048203 306.23048203\n",
      " 306.23048203 306.23048215 306.23048215 306.23048203 306.23048203\n",
      " 306.23048203 306.23048203 306.23048203 306.23048203 306.23048203\n",
      " 306.23048203 306.23048203 306.2304823  306.2304823  306.23048203\n",
      " 306.23048203 306.23048203 306.23048203 306.23048203 306.23048203\n",
      " 306.23048203 306.23048215 306.23048215 306.23048203 306.23048203\n",
      " 305.53733485 305.53733485 305.53733485 305.53733485 305.53733485\n",
      " 305.53733485 305.53733485 305.53733485 305.53733485 305.53733485\n",
      " 305.53733485 305.53733485 305.53733485 305.53733485 305.53733485\n",
      " 305.53733485 305.53733485 305.53733485 305.53733485 305.53733485\n",
      " 305.53733485 305.53733485 305.53733486 305.53733485 305.53733485\n",
      " 305.53733485 305.53733485 305.53733485 305.53733485 305.53733485\n",
      " 305.53733485 305.53733485 305.53733485 305.53733485 305.53733485\n",
      " 305.53733485 305.53733486 305.53733485 305.53733485 305.53733485\n",
      " 305.53733485 305.53733485 305.56117018 305.53733923 305.56117446\n",
      " 305.53733485 305.53733485 305.53733485 305.53733485 305.53733485\n",
      " 305.53739791 305.53739791 305.53733485 305.53733485 305.53733485\n",
      " 305.53733485 305.53733485 305.53733496 305.53733485 305.53733496\n",
      " 305.53733485 305.53733485 305.53733485 305.53733485 305.53733485\n",
      " 305.53733485 305.53733485 305.53733485 305.53733485 305.53733485\n",
      " 305.53733485 305.53733485 305.53733485 305.53733485 305.53733485\n",
      " 305.53733485 305.53733485 305.53733485 305.53733485]\n"
     ]
    }
   ],
   "source": [
    "density_vals = kde.score_samples(encoded_images_vector)\n",
    "print(density_vals)"
   ]
  },
  {
   "attachments": {},
   "cell_type": "markdown",
   "metadata": {},
   "source": [
    "Notice that the above density values are pretty much the same among them. This has to do with the new model that was trained. The previous model from the \"Pt_latentSpace_DS1\" program, makes these value to be more different among them."
   ]
  },
  {
   "attachments": {},
   "cell_type": "markdown",
   "metadata": {},
   "source": [
    "From here, the mean and standard deviation of these values are computed"
   ]
  },
  {
   "cell_type": "code",
   "execution_count": 37,
   "metadata": {},
   "outputs": [
    {
     "name": "stdout",
     "output_type": "stream",
     "text": [
      "The avg of the density values is:  305.6924951518362\n",
      "The stdev_density of the density values is:  0.28860949910524847\n"
     ]
    }
   ],
   "source": [
    "average_density = np.mean(density_vals)\n",
    "stdev_density = np.std(density_vals)\n",
    "print(\"The avg of the density values is: \", average_density)\n",
    "print(\"The stdev_density of the density values is: \", stdev_density)"
   ]
  },
  {
   "attachments": {},
   "cell_type": "markdown",
   "metadata": {},
   "source": [
    "Now, it will be shown the density mean and std deviation of the set of anomalies samples"
   ]
  },
  {
   "cell_type": "code",
   "execution_count": 38,
   "metadata": {},
   "outputs": [],
   "source": [
    "data_anomalies = '../../../Images/BottleStoodUp_atNight/Anomalies2.0'      #This is for the home laptop\n",
    "# data_anomalies = '../../../Images/BottleStoodUp_atNight/Anomalies2.0'      #This is for the work laptop\n",
    "transform_characteristics = transforms.Compose([transforms.ToTensor(),\n",
    "                                                transforms.Resize(255),\n",
    "                                                transforms.CenterCrop(224)])\n",
    "dataset_anomalies = datasets.ImageFolder(data_anomalies, transform=transform_characteristics)\n",
    "dataloader_anomalies = torch.utils.data.DataLoader(dataset_anomalies, batch_size=32, shuffle=True)"
   ]
  },
  {
   "cell_type": "code",
   "execution_count": 39,
   "metadata": {},
   "outputs": [
    {
     "name": "stderr",
     "output_type": "stream",
     "text": [
      "c:\\Users\\alexj\\.conda\\envs\\tfm_3\\lib\\site-packages\\torchvision\\transforms\\functional.py:1603: UserWarning: The default value of the antialias parameter of all the resizing transforms (Resize(), RandomResizedCrop(), etc.) will change from None to True in v0.17, in order to be consistent across the PIL and Tensor backends. To suppress this warning, directly pass antialias=True (recommended, future default), antialias=None (current default, which means False for Tensors and True for PIL), or antialias=False (only works on Tensors - PIL will still use antialiasing). This also applies if you are using the inference transforms from the models weights: update the call to weights.transforms(antialias=True).\n",
      "  warnings.warn(\n"
     ]
    }
   ],
   "source": [
    "#Get encoded output of input images = Latent space\n",
    "encoded_anomalies_images = []\n",
    "\n",
    "for i in range(len(dataset_anomalies)):\n",
    "    X = dataset_anomalies[i]\n",
    "    image_in_tensor = X[0]\n",
    "    image_in_tensor = image_in_tensor.cuda()            # Because GPU is being used\n",
    "    with torch.no_grad():\n",
    "        Y = model_encoder(image_in_tensor)  # should be same as X\n",
    "    encoded_anomalies_images.append(Y)\n"
   ]
  },
  {
   "cell_type": "code",
   "execution_count": 40,
   "metadata": {},
   "outputs": [
    {
     "name": "stdout",
     "output_type": "stream",
     "text": [
      "<class 'numpy.ndarray'>\n"
     ]
    }
   ],
   "source": [
    "np_encoded_anomaly_images = []\n",
    "for i in range (len(encoded_anomalies_images)):\n",
    "    # np_conversion = encoded_anomalies_images[i].detach().numpy()      # If GPU is not used\n",
    "    np_conversion = encoded_anomalies_images[i].cpu().detach().numpy()    # If GPU is used\n",
    "    np_encoded_anomaly_images.append(np_conversion)\n",
    "np_encoded_anomaly_images = np.array(np_encoded_anomaly_images)\n",
    "print(type(np_encoded_anomaly_images))"
   ]
  },
  {
   "cell_type": "code",
   "execution_count": 41,
   "metadata": {},
   "outputs": [],
   "source": [
    "encoded_anomaly_images_vector = [np.reshape(img_encoded, (out_vector_shape)) for img_encoded in np_encoded_anomaly_images]\n"
   ]
  },
  {
   "cell_type": "code",
   "execution_count": 42,
   "metadata": {},
   "outputs": [
    {
     "name": "stdout",
     "output_type": "stream",
     "text": [
      "[298.71892374  62.53676635 224.54893745 283.88478455 280.10385174\n",
      " 238.14052316]\n"
     ]
    }
   ],
   "source": [
    "density_vals_anomalies = kde.score_samples(encoded_anomaly_images_vector)\n",
    "print(density_vals_anomalies)"
   ]
  },
  {
   "cell_type": "code",
   "execution_count": 43,
   "metadata": {},
   "outputs": [
    {
     "name": "stdout",
     "output_type": "stream",
     "text": [
      "The avg of the density values is:  231.3222978307193\n",
      "The stdev_density of the density values is:  79.85996331218182\n"
     ]
    }
   ],
   "source": [
    "average_density_anomalies = np.mean(density_vals_anomalies)\n",
    "stdev_density_anomalies = np.std(density_vals_anomalies)\n",
    "print(\"The avg of the density values is: \", average_density_anomalies)\n",
    "print(\"The stdev_density of the density values is: \", stdev_density_anomalies)"
   ]
  },
  {
   "attachments": {},
   "cell_type": "markdown",
   "metadata": {},
   "source": [
    "See that the std deviation along with the mean of these density values will overlap the mean of the non-anomaly images. "
   ]
  },
  {
   "attachments": {},
   "cell_type": "markdown",
   "metadata": {},
   "source": [
    "Considering the situation of the overlapping commented above, given a density value, it will be built a function that:\n",
    "- Assigns a percentage value according to the proximity to the mean of the non-anomaly images. For example: \n",
    "    - If the densitiy value is 305.69 (the mean of the density values of the non-anomaly images), then this density value should have 100% chance to be considered as non-anomaly.\n",
    "    - If the densitiy value is 305.4014 (the mean of the density values of the non-anomaly minus the std deviation of the same set), then this density value should have 50% chance to be considered as non-anomaly.\n",
    "- Assigns a percentage value according to the proximity to the mean of the anomaly images. For example: \n",
    "    - If the densitiy value is 231.6065 (the mean of the density values of the anomaly images), then this density value should have 100% chance to be considered as an anomaly image.\n",
    "    - If the densitiy value is 311.0713 (the mean of the density values of the anomaly plus the std deviation of the same set), then this density value should have 50% chance to be considered as an anomaly.\n",
    "- The two percentage values from above will be summed up assigning the following weights to the equation:\n",
    "\n",
    "        = perc_NOanomaly*0.75 + perc_anomaly*0.25\n",
    "        \n",
    "    More weight is assigned to the non-anomaly images because there are more samples of this kind of images.\n",
    "- After the weighted sum, the result will be subtracted from 100, to finally output the probability of an image to be an anomaly image. "
   ]
  },
  {
   "cell_type": "code",
   "execution_count": 54,
   "metadata": {},
   "outputs": [],
   "source": [
    "def ranges_mapper(value, leftMin, leftMax, rightMin, rightMax):\n",
    "    # if(value>leftMax):\n",
    "    #     return rightMax\n",
    "    # Figure out how 'wide' each range is\n",
    "    leftSpan = leftMax - leftMin\n",
    "    rightSpan = rightMax - rightMin\n",
    "\n",
    "    # Convert the left range into a 0-1 range (float)\n",
    "    valueScaled = float(value - leftMin) / float(leftSpan)\n",
    "\n",
    "    # Convert the 0-1 range into a value in the right range.\n",
    "    return rightMin + (valueScaled * rightSpan)"
   ]
  },
  {
   "cell_type": "code",
   "execution_count": 70,
   "metadata": {},
   "outputs": [],
   "source": [
    "def map_kde2prob_list(input_list):\n",
    "    threshold_NOanomaly = average_density          # The mean of the density values corresponding to the non-anomaly images\n",
    "    std_dev_NOanomaly = stdev_density            # The std deviation of the density values corresponding to the non-anomaly images\n",
    "\n",
    "    threshold_anomaly = average_density_anomalies          # The mean of the density values corresponding to the anomaly images\n",
    "    std_dev_anomaly = stdev_density_anomalies            # The std deviation of the density values corresponding to the anomaly images\n",
    "    prob_score_list = []\n",
    "\n",
    "    for i in range (len(input_list)):\n",
    "        score_NOanomaly = input_list[i] - threshold_NOanomaly\n",
    "\n",
    "        perc_NOanomaly = ranges_mapper(abs(score_NOanomaly), 0, std_dev_NOanomaly, 100, 50)\n",
    "        if perc_NOanomaly<0:\n",
    "            perc_NOanomaly = 0\n",
    "        if perc_NOanomaly>100:\n",
    "            perc_NOanomaly = 100\n",
    "        \n",
    "\n",
    "        score_anomaly = input_list[i] - threshold_anomaly\n",
    "\n",
    "        perc_anomaly = ranges_mapper(abs(score_anomaly), 0, std_dev_anomaly, 100, 50)\n",
    "        if perc_anomaly<0:\n",
    "            perc_anomaly = 0\n",
    "        if perc_anomaly>100:\n",
    "            perc_anomaly = 100\n",
    "        \n",
    "        prob_score = 100 - (perc_NOanomaly*0.75+perc_anomaly*0.25)\n",
    "        prob_score_list.append(prob_score)\n",
    "    return prob_score_list"
   ]
  },
  {
   "cell_type": "code",
   "execution_count": 71,
   "metadata": {},
   "outputs": [],
   "source": [
    "def map_kde2prob(value):\n",
    "    threshold_NOanomaly = average_density          # The mean of the density values corresponding to the non-anomaly images\n",
    "    std_dev_NOanomaly = stdev_density            # The std deviation of the density values corresponding to the non-anomaly images\n",
    "\n",
    "    threshold_anomaly = average_density_anomalies          # The mean of the density values corresponding to the anomaly images\n",
    "    std_dev_anomaly = stdev_density_anomalies            # The std deviation of the density values corresponding to the anomaly images          # The std deviation of the density values corresponding to the anomaly images\n",
    "\n",
    "    score_NOanomaly = value - threshold_NOanomaly\n",
    "\n",
    "    perc_NOanomaly = ranges_mapper(abs(score_NOanomaly), 0, std_dev_NOanomaly, 100, 50)\n",
    "    if perc_NOanomaly<0:\n",
    "        perc_NOanomaly = 0\n",
    "    if perc_NOanomaly>100:\n",
    "        perc_NOanomaly = 100\n",
    "    # print(perc_NOanomaly)\n",
    "\n",
    "    score_anomaly = value - threshold_anomaly\n",
    "\n",
    "    perc_anomaly = ranges_mapper(abs(score_anomaly), 0, std_dev_anomaly, 100, 50)\n",
    "    if perc_anomaly<0:\n",
    "        perc_anomaly = 0\n",
    "    if perc_anomaly>100:\n",
    "        perc_anomaly = 100\n",
    "    # print(perc_anomaly)\n",
    "    prob_score = 100 - (perc_NOanomaly*0.75+perc_anomaly*0.25)\n",
    "  \n",
    "    return prob_score"
   ]
  },
  {
   "cell_type": "code",
   "execution_count": 72,
   "metadata": {},
   "outputs": [],
   "source": [
    "def computePred(kde_value):\n",
    "    pred = 0\n",
    "    prob_anomaly = map_kde2prob(kde_value)/100\n",
    "    if prob_anomaly > 0.5:\n",
    "        pred = 1\n",
    "    return pred"
   ]
  },
  {
   "cell_type": "code",
   "execution_count": 74,
   "metadata": {},
   "outputs": [
    {
     "name": "stdout",
     "output_type": "stream",
     "text": [
      "The prob of the kde value of being anomaly image is:  49.18589423970193\n",
      "Given the probability, it is actually predicted as: 0\n"
     ]
    }
   ],
   "source": [
    "print(\"The prob of the kde value of being anomaly image is: \", map_kde2prob(average_density+stdev_density))\n",
    "print(\"Given the probability, it is actually predicted as:\", computePred(average_density+stdev_density))"
   ]
  },
  {
   "attachments": {},
   "cell_type": "markdown",
   "metadata": {},
   "source": [
    "Testing the kde thresholds "
   ]
  },
  {
   "cell_type": "code",
   "execution_count": 75,
   "metadata": {},
   "outputs": [],
   "source": [
    "test_dir = '../../../Images/BottleStoodUp_atNight/Evaluation'      #This is for the home laptop\n",
    "transform_characteristics = transforms.Compose([transforms.ToTensor(),\n",
    "                                                transforms.Resize(255),\n",
    "                                                transforms.CenterCrop(224)])\n",
    "\n",
    "dataset_test = datasets.ImageFolder(test_dir, transform=transform_characteristics)\n",
    "dataloader_test = torch.utils.data.DataLoader(dataset_test, batch_size=32, shuffle=True)\n",
    "classes = ('non-anomaly','anomaly')"
   ]
  },
  {
   "cell_type": "code",
   "execution_count": 76,
   "metadata": {},
   "outputs": [
    {
     "name": "stderr",
     "output_type": "stream",
     "text": [
      "c:\\Users\\alexj\\.conda\\envs\\tfm_3\\lib\\site-packages\\torchvision\\transforms\\functional.py:1603: UserWarning: The default value of the antialias parameter of all the resizing transforms (Resize(), RandomResizedCrop(), etc.) will change from None to True in v0.17, in order to be consistent across the PIL and Tensor backends. To suppress this warning, directly pass antialias=True (recommended, future default), antialias=None (current default, which means False for Tensors and True for PIL), or antialias=False (only works on Tensors - PIL will still use antialiasing). This also applies if you are using the inference transforms from the models weights: update the call to weights.transforms(antialias=True).\n",
      "  warnings.warn(\n"
     ]
    },
    {
     "name": "stdout",
     "output_type": "stream",
     "text": [
      "<class 'numpy.ndarray'>\n"
     ]
    }
   ],
   "source": [
    "#Get encoded output of input images = Latent space\n",
    "encoded_test_imgs = []\n",
    "\n",
    "\n",
    "for i in range(len(dataset_test)):\n",
    "    X = dataset_test[i]\n",
    "    image_in_tensor = X[0]\n",
    "    image_in_tensor = image_in_tensor.cuda()     \n",
    "    with torch.no_grad():\n",
    "        Y = model_encoder(image_in_tensor)  # should be same as X\n",
    "    # np_conversion = Y.detach().numpy()\n",
    "    np_conversion = Y.cpu().detach().numpy()\n",
    "    encoded_test_imgs.append(np_conversion)\n",
    "np_encoded_test_images = np.array(encoded_test_imgs)\n",
    "print(type(np_encoded_test_images))"
   ]
  },
  {
   "cell_type": "code",
   "execution_count": 77,
   "metadata": {},
   "outputs": [
    {
     "name": "stdout",
     "output_type": "stream",
     "text": [
      "30\n"
     ]
    }
   ],
   "source": [
    "encoded_test_images_vector = [np.reshape(img, (out_vector_shape)) for img in np_encoded_test_images]\n",
    "print(len(encoded_test_images_vector))"
   ]
  },
  {
   "cell_type": "code",
   "execution_count": 78,
   "metadata": {},
   "outputs": [
    {
     "name": "stdout",
     "output_type": "stream",
     "text": [
      "[  -350.41798728   -692.88343352  -2021.30365965  -2182.68227401\n",
      "  -2798.86127057  -3264.94163834  -5160.29215237  -2769.45912666\n",
      "  -1146.9199288   -2419.104461      117.12551799    146.73382904\n",
      "    269.89463124    -79.90776409   -564.56551367     74.16671941\n",
      " -20734.51477073 -16402.92998568  -2100.0954696    -265.96934953\n",
      "   -235.60839811   -541.94455948   -659.56090768   -559.52017019\n",
      "   -613.11101841   -952.02201969   -920.03061571  -1473.07419319\n",
      "  -1754.96438068  -1134.19929984]\n"
     ]
    }
   ],
   "source": [
    "density_vals_test = kde.score_samples(encoded_test_images_vector)\n",
    "print(density_vals_test)"
   ]
  },
  {
   "attachments": {},
   "cell_type": "markdown",
   "metadata": {},
   "source": [
    "The above shown values are REALLY strange. It was not expected to have negative values in the density numbers!"
   ]
  },
  {
   "cell_type": "code",
   "execution_count": 79,
   "metadata": {},
   "outputs": [],
   "source": [
    "prob_test = map_kde2prob_list(density_vals_test)"
   ]
  },
  {
   "cell_type": "code",
   "execution_count": 80,
   "metadata": {},
   "outputs": [
    {
     "name": "stdout",
     "output_type": "stream",
     "text": [
      "[100.0, 100.0, 100.0, 100.0, 100.0, 100.0, 100.0, 100.0, 100.0, 100.0, 92.87453548429325, 88.24012453805074, 81.03749548097213, 100.0, 100.0, 99.59861799061724, 100.0, 100.0, 100.0, 100.0, 100.0, 100.0, 100.0, 100.0, 100.0, 100.0, 100.0, 100.0, 100.0, 100.0]\n"
     ]
    }
   ],
   "source": [
    "print(prob_test)"
   ]
  },
  {
   "cell_type": "code",
   "execution_count": 81,
   "metadata": {},
   "outputs": [
    {
     "name": "stderr",
     "output_type": "stream",
     "text": [
      "c:\\Users\\alexj\\.conda\\envs\\tfm_3\\lib\\site-packages\\torchvision\\transforms\\functional.py:1603: UserWarning: The default value of the antialias parameter of all the resizing transforms (Resize(), RandomResizedCrop(), etc.) will change from None to True in v0.17, in order to be consistent across the PIL and Tensor backends. To suppress this warning, directly pass antialias=True (recommended, future default), antialias=None (current default, which means False for Tensors and True for PIL), or antialias=False (only works on Tensors - PIL will still use antialiasing). This also applies if you are using the inference transforms from the models weights: update the call to weights.transforms(antialias=True).\n",
      "  warnings.warn(\n",
      "c:\\Users\\alexj\\.conda\\envs\\tfm_3\\lib\\site-packages\\torchvision\\transforms\\functional.py:1603: UserWarning: The default value of the antialias parameter of all the resizing transforms (Resize(), RandomResizedCrop(), etc.) will change from None to True in v0.17, in order to be consistent across the PIL and Tensor backends. To suppress this warning, directly pass antialias=True (recommended, future default), antialias=None (current default, which means False for Tensors and True for PIL), or antialias=False (only works on Tensors - PIL will still use antialiasing). This also applies if you are using the inference transforms from the models weights: update the call to weights.transforms(antialias=True).\n",
      "  warnings.warn(\n",
      "c:\\Users\\alexj\\.conda\\envs\\tfm_3\\lib\\site-packages\\torchvision\\transforms\\functional.py:1603: UserWarning: The default value of the antialias parameter of all the resizing transforms (Resize(), RandomResizedCrop(), etc.) will change from None to True in v0.17, in order to be consistent across the PIL and Tensor backends. To suppress this warning, directly pass antialias=True (recommended, future default), antialias=None (current default, which means False for Tensors and True for PIL), or antialias=False (only works on Tensors - PIL will still use antialiasing). This also applies if you are using the inference transforms from the models weights: update the call to weights.transforms(antialias=True).\n",
      "  warnings.warn(\n",
      "c:\\Users\\alexj\\.conda\\envs\\tfm_3\\lib\\site-packages\\torchvision\\transforms\\functional.py:1603: UserWarning: The default value of the antialias parameter of all the resizing transforms (Resize(), RandomResizedCrop(), etc.) will change from None to True in v0.17, in order to be consistent across the PIL and Tensor backends. To suppress this warning, directly pass antialias=True (recommended, future default), antialias=None (current default, which means False for Tensors and True for PIL), or antialias=False (only works on Tensors - PIL will still use antialiasing). This also applies if you are using the inference transforms from the models weights: update the call to weights.transforms(antialias=True).\n",
      "  warnings.warn(\n",
      "c:\\Users\\alexj\\.conda\\envs\\tfm_3\\lib\\site-packages\\torchvision\\transforms\\functional.py:1603: UserWarning: The default value of the antialias parameter of all the resizing transforms (Resize(), RandomResizedCrop(), etc.) will change from None to True in v0.17, in order to be consistent across the PIL and Tensor backends. To suppress this warning, directly pass antialias=True (recommended, future default), antialias=None (current default, which means False for Tensors and True for PIL), or antialias=False (only works on Tensors - PIL will still use antialiasing). This also applies if you are using the inference transforms from the models weights: update the call to weights.transforms(antialias=True).\n",
      "  warnings.warn(\n",
      "c:\\Users\\alexj\\.conda\\envs\\tfm_3\\lib\\site-packages\\torchvision\\transforms\\functional.py:1603: UserWarning: The default value of the antialias parameter of all the resizing transforms (Resize(), RandomResizedCrop(), etc.) will change from None to True in v0.17, in order to be consistent across the PIL and Tensor backends. To suppress this warning, directly pass antialias=True (recommended, future default), antialias=None (current default, which means False for Tensors and True for PIL), or antialias=False (only works on Tensors - PIL will still use antialiasing). This also applies if you are using the inference transforms from the models weights: update the call to weights.transforms(antialias=True).\n",
      "  warnings.warn(\n",
      "c:\\Users\\alexj\\.conda\\envs\\tfm_3\\lib\\site-packages\\torchvision\\transforms\\functional.py:1603: UserWarning: The default value of the antialias parameter of all the resizing transforms (Resize(), RandomResizedCrop(), etc.) will change from None to True in v0.17, in order to be consistent across the PIL and Tensor backends. To suppress this warning, directly pass antialias=True (recommended, future default), antialias=None (current default, which means False for Tensors and True for PIL), or antialias=False (only works on Tensors - PIL will still use antialiasing). This also applies if you are using the inference transforms from the models weights: update the call to weights.transforms(antialias=True).\n",
      "  warnings.warn(\n",
      "c:\\Users\\alexj\\.conda\\envs\\tfm_3\\lib\\site-packages\\torchvision\\transforms\\functional.py:1603: UserWarning: The default value of the antialias parameter of all the resizing transforms (Resize(), RandomResizedCrop(), etc.) will change from None to True in v0.17, in order to be consistent across the PIL and Tensor backends. To suppress this warning, directly pass antialias=True (recommended, future default), antialias=None (current default, which means False for Tensors and True for PIL), or antialias=False (only works on Tensors - PIL will still use antialiasing). This also applies if you are using the inference transforms from the models weights: update the call to weights.transforms(antialias=True).\n",
      "  warnings.warn(\n",
      "c:\\Users\\alexj\\.conda\\envs\\tfm_3\\lib\\site-packages\\torchvision\\transforms\\functional.py:1603: UserWarning: The default value of the antialias parameter of all the resizing transforms (Resize(), RandomResizedCrop(), etc.) will change from None to True in v0.17, in order to be consistent across the PIL and Tensor backends. To suppress this warning, directly pass antialias=True (recommended, future default), antialias=None (current default, which means False for Tensors and True for PIL), or antialias=False (only works on Tensors - PIL will still use antialiasing). This also applies if you are using the inference transforms from the models weights: update the call to weights.transforms(antialias=True).\n",
      "  warnings.warn(\n",
      "c:\\Users\\alexj\\.conda\\envs\\tfm_3\\lib\\site-packages\\torchvision\\transforms\\functional.py:1603: UserWarning: The default value of the antialias parameter of all the resizing transforms (Resize(), RandomResizedCrop(), etc.) will change from None to True in v0.17, in order to be consistent across the PIL and Tensor backends. To suppress this warning, directly pass antialias=True (recommended, future default), antialias=None (current default, which means False for Tensors and True for PIL), or antialias=False (only works on Tensors - PIL will still use antialiasing). This also applies if you are using the inference transforms from the models weights: update the call to weights.transforms(antialias=True).\n",
      "  warnings.warn(\n",
      "c:\\Users\\alexj\\.conda\\envs\\tfm_3\\lib\\site-packages\\torchvision\\transforms\\functional.py:1603: UserWarning: The default value of the antialias parameter of all the resizing transforms (Resize(), RandomResizedCrop(), etc.) will change from None to True in v0.17, in order to be consistent across the PIL and Tensor backends. To suppress this warning, directly pass antialias=True (recommended, future default), antialias=None (current default, which means False for Tensors and True for PIL), or antialias=False (only works on Tensors - PIL will still use antialiasing). This also applies if you are using the inference transforms from the models weights: update the call to weights.transforms(antialias=True).\n",
      "  warnings.warn(\n",
      "c:\\Users\\alexj\\.conda\\envs\\tfm_3\\lib\\site-packages\\torchvision\\transforms\\functional.py:1603: UserWarning: The default value of the antialias parameter of all the resizing transforms (Resize(), RandomResizedCrop(), etc.) will change from None to True in v0.17, in order to be consistent across the PIL and Tensor backends. To suppress this warning, directly pass antialias=True (recommended, future default), antialias=None (current default, which means False for Tensors and True for PIL), or antialias=False (only works on Tensors - PIL will still use antialiasing). This also applies if you are using the inference transforms from the models weights: update the call to weights.transforms(antialias=True).\n",
      "  warnings.warn(\n",
      "c:\\Users\\alexj\\.conda\\envs\\tfm_3\\lib\\site-packages\\torchvision\\transforms\\functional.py:1603: UserWarning: The default value of the antialias parameter of all the resizing transforms (Resize(), RandomResizedCrop(), etc.) will change from None to True in v0.17, in order to be consistent across the PIL and Tensor backends. To suppress this warning, directly pass antialias=True (recommended, future default), antialias=None (current default, which means False for Tensors and True for PIL), or antialias=False (only works on Tensors - PIL will still use antialiasing). This also applies if you are using the inference transforms from the models weights: update the call to weights.transforms(antialias=True).\n",
      "  warnings.warn(\n",
      "c:\\Users\\alexj\\.conda\\envs\\tfm_3\\lib\\site-packages\\torchvision\\transforms\\functional.py:1603: UserWarning: The default value of the antialias parameter of all the resizing transforms (Resize(), RandomResizedCrop(), etc.) will change from None to True in v0.17, in order to be consistent across the PIL and Tensor backends. To suppress this warning, directly pass antialias=True (recommended, future default), antialias=None (current default, which means False for Tensors and True for PIL), or antialias=False (only works on Tensors - PIL will still use antialiasing). This also applies if you are using the inference transforms from the models weights: update the call to weights.transforms(antialias=True).\n",
      "  warnings.warn(\n",
      "c:\\Users\\alexj\\.conda\\envs\\tfm_3\\lib\\site-packages\\torchvision\\transforms\\functional.py:1603: UserWarning: The default value of the antialias parameter of all the resizing transforms (Resize(), RandomResizedCrop(), etc.) will change from None to True in v0.17, in order to be consistent across the PIL and Tensor backends. To suppress this warning, directly pass antialias=True (recommended, future default), antialias=None (current default, which means False for Tensors and True for PIL), or antialias=False (only works on Tensors - PIL will still use antialiasing). This also applies if you are using the inference transforms from the models weights: update the call to weights.transforms(antialias=True).\n",
      "  warnings.warn(\n",
      "c:\\Users\\alexj\\.conda\\envs\\tfm_3\\lib\\site-packages\\torchvision\\transforms\\functional.py:1603: UserWarning: The default value of the antialias parameter of all the resizing transforms (Resize(), RandomResizedCrop(), etc.) will change from None to True in v0.17, in order to be consistent across the PIL and Tensor backends. To suppress this warning, directly pass antialias=True (recommended, future default), antialias=None (current default, which means False for Tensors and True for PIL), or antialias=False (only works on Tensors - PIL will still use antialiasing). This also applies if you are using the inference transforms from the models weights: update the call to weights.transforms(antialias=True).\n",
      "  warnings.warn(\n",
      "c:\\Users\\alexj\\.conda\\envs\\tfm_3\\lib\\site-packages\\torchvision\\transforms\\functional.py:1603: UserWarning: The default value of the antialias parameter of all the resizing transforms (Resize(), RandomResizedCrop(), etc.) will change from None to True in v0.17, in order to be consistent across the PIL and Tensor backends. To suppress this warning, directly pass antialias=True (recommended, future default), antialias=None (current default, which means False for Tensors and True for PIL), or antialias=False (only works on Tensors - PIL will still use antialiasing). This also applies if you are using the inference transforms from the models weights: update the call to weights.transforms(antialias=True).\n",
      "  warnings.warn(\n",
      "c:\\Users\\alexj\\.conda\\envs\\tfm_3\\lib\\site-packages\\torchvision\\transforms\\functional.py:1603: UserWarning: The default value of the antialias parameter of all the resizing transforms (Resize(), RandomResizedCrop(), etc.) will change from None to True in v0.17, in order to be consistent across the PIL and Tensor backends. To suppress this warning, directly pass antialias=True (recommended, future default), antialias=None (current default, which means False for Tensors and True for PIL), or antialias=False (only works on Tensors - PIL will still use antialiasing). This also applies if you are using the inference transforms from the models weights: update the call to weights.transforms(antialias=True).\n",
      "  warnings.warn(\n",
      "c:\\Users\\alexj\\.conda\\envs\\tfm_3\\lib\\site-packages\\torchvision\\transforms\\functional.py:1603: UserWarning: The default value of the antialias parameter of all the resizing transforms (Resize(), RandomResizedCrop(), etc.) will change from None to True in v0.17, in order to be consistent across the PIL and Tensor backends. To suppress this warning, directly pass antialias=True (recommended, future default), antialias=None (current default, which means False for Tensors and True for PIL), or antialias=False (only works on Tensors - PIL will still use antialiasing). This also applies if you are using the inference transforms from the models weights: update the call to weights.transforms(antialias=True).\n",
      "  warnings.warn(\n",
      "c:\\Users\\alexj\\.conda\\envs\\tfm_3\\lib\\site-packages\\torchvision\\transforms\\functional.py:1603: UserWarning: The default value of the antialias parameter of all the resizing transforms (Resize(), RandomResizedCrop(), etc.) will change from None to True in v0.17, in order to be consistent across the PIL and Tensor backends. To suppress this warning, directly pass antialias=True (recommended, future default), antialias=None (current default, which means False for Tensors and True for PIL), or antialias=False (only works on Tensors - PIL will still use antialiasing). This also applies if you are using the inference transforms from the models weights: update the call to weights.transforms(antialias=True).\n",
      "  warnings.warn(\n",
      "c:\\Users\\alexj\\.conda\\envs\\tfm_3\\lib\\site-packages\\torchvision\\transforms\\functional.py:1603: UserWarning: The default value of the antialias parameter of all the resizing transforms (Resize(), RandomResizedCrop(), etc.) will change from None to True in v0.17, in order to be consistent across the PIL and Tensor backends. To suppress this warning, directly pass antialias=True (recommended, future default), antialias=None (current default, which means False for Tensors and True for PIL), or antialias=False (only works on Tensors - PIL will still use antialiasing). This also applies if you are using the inference transforms from the models weights: update the call to weights.transforms(antialias=True).\n",
      "  warnings.warn(\n",
      "c:\\Users\\alexj\\.conda\\envs\\tfm_3\\lib\\site-packages\\torchvision\\transforms\\functional.py:1603: UserWarning: The default value of the antialias parameter of all the resizing transforms (Resize(), RandomResizedCrop(), etc.) will change from None to True in v0.17, in order to be consistent across the PIL and Tensor backends. To suppress this warning, directly pass antialias=True (recommended, future default), antialias=None (current default, which means False for Tensors and True for PIL), or antialias=False (only works on Tensors - PIL will still use antialiasing). This also applies if you are using the inference transforms from the models weights: update the call to weights.transforms(antialias=True).\n",
      "  warnings.warn(\n",
      "c:\\Users\\alexj\\.conda\\envs\\tfm_3\\lib\\site-packages\\torchvision\\transforms\\functional.py:1603: UserWarning: The default value of the antialias parameter of all the resizing transforms (Resize(), RandomResizedCrop(), etc.) will change from None to True in v0.17, in order to be consistent across the PIL and Tensor backends. To suppress this warning, directly pass antialias=True (recommended, future default), antialias=None (current default, which means False for Tensors and True for PIL), or antialias=False (only works on Tensors - PIL will still use antialiasing). This also applies if you are using the inference transforms from the models weights: update the call to weights.transforms(antialias=True).\n",
      "  warnings.warn(\n",
      "c:\\Users\\alexj\\.conda\\envs\\tfm_3\\lib\\site-packages\\torchvision\\transforms\\functional.py:1603: UserWarning: The default value of the antialias parameter of all the resizing transforms (Resize(), RandomResizedCrop(), etc.) will change from None to True in v0.17, in order to be consistent across the PIL and Tensor backends. To suppress this warning, directly pass antialias=True (recommended, future default), antialias=None (current default, which means False for Tensors and True for PIL), or antialias=False (only works on Tensors - PIL will still use antialiasing). This also applies if you are using the inference transforms from the models weights: update the call to weights.transforms(antialias=True).\n",
      "  warnings.warn(\n",
      "c:\\Users\\alexj\\.conda\\envs\\tfm_3\\lib\\site-packages\\torchvision\\transforms\\functional.py:1603: UserWarning: The default value of the antialias parameter of all the resizing transforms (Resize(), RandomResizedCrop(), etc.) will change from None to True in v0.17, in order to be consistent across the PIL and Tensor backends. To suppress this warning, directly pass antialias=True (recommended, future default), antialias=None (current default, which means False for Tensors and True for PIL), or antialias=False (only works on Tensors - PIL will still use antialiasing). This also applies if you are using the inference transforms from the models weights: update the call to weights.transforms(antialias=True).\n",
      "  warnings.warn(\n",
      "c:\\Users\\alexj\\.conda\\envs\\tfm_3\\lib\\site-packages\\torchvision\\transforms\\functional.py:1603: UserWarning: The default value of the antialias parameter of all the resizing transforms (Resize(), RandomResizedCrop(), etc.) will change from None to True in v0.17, in order to be consistent across the PIL and Tensor backends. To suppress this warning, directly pass antialias=True (recommended, future default), antialias=None (current default, which means False for Tensors and True for PIL), or antialias=False (only works on Tensors - PIL will still use antialiasing). This also applies if you are using the inference transforms from the models weights: update the call to weights.transforms(antialias=True).\n",
      "  warnings.warn(\n",
      "c:\\Users\\alexj\\.conda\\envs\\tfm_3\\lib\\site-packages\\torchvision\\transforms\\functional.py:1603: UserWarning: The default value of the antialias parameter of all the resizing transforms (Resize(), RandomResizedCrop(), etc.) will change from None to True in v0.17, in order to be consistent across the PIL and Tensor backends. To suppress this warning, directly pass antialias=True (recommended, future default), antialias=None (current default, which means False for Tensors and True for PIL), or antialias=False (only works on Tensors - PIL will still use antialiasing). This also applies if you are using the inference transforms from the models weights: update the call to weights.transforms(antialias=True).\n",
      "  warnings.warn(\n",
      "c:\\Users\\alexj\\.conda\\envs\\tfm_3\\lib\\site-packages\\torchvision\\transforms\\functional.py:1603: UserWarning: The default value of the antialias parameter of all the resizing transforms (Resize(), RandomResizedCrop(), etc.) will change from None to True in v0.17, in order to be consistent across the PIL and Tensor backends. To suppress this warning, directly pass antialias=True (recommended, future default), antialias=None (current default, which means False for Tensors and True for PIL), or antialias=False (only works on Tensors - PIL will still use antialiasing). This also applies if you are using the inference transforms from the models weights: update the call to weights.transforms(antialias=True).\n",
      "  warnings.warn(\n",
      "c:\\Users\\alexj\\.conda\\envs\\tfm_3\\lib\\site-packages\\torchvision\\transforms\\functional.py:1603: UserWarning: The default value of the antialias parameter of all the resizing transforms (Resize(), RandomResizedCrop(), etc.) will change from None to True in v0.17, in order to be consistent across the PIL and Tensor backends. To suppress this warning, directly pass antialias=True (recommended, future default), antialias=None (current default, which means False for Tensors and True for PIL), or antialias=False (only works on Tensors - PIL will still use antialiasing). This also applies if you are using the inference transforms from the models weights: update the call to weights.transforms(antialias=True).\n",
      "  warnings.warn(\n",
      "c:\\Users\\alexj\\.conda\\envs\\tfm_3\\lib\\site-packages\\torchvision\\transforms\\functional.py:1603: UserWarning: The default value of the antialias parameter of all the resizing transforms (Resize(), RandomResizedCrop(), etc.) will change from None to True in v0.17, in order to be consistent across the PIL and Tensor backends. To suppress this warning, directly pass antialias=True (recommended, future default), antialias=None (current default, which means False for Tensors and True for PIL), or antialias=False (only works on Tensors - PIL will still use antialiasing). This also applies if you are using the inference transforms from the models weights: update the call to weights.transforms(antialias=True).\n",
      "  warnings.warn(\n"
     ]
    },
    {
     "name": "stdout",
     "output_type": "stream",
     "text": [
      "[0, 0, 0, 0, 0, 0, 0, 0, 0, 0, 0, 0, 0, 0, 0, 0, 0, 0, 0, 0, 0, 0, 0, 0, 0, 1, 1, 1, 1, 1]\n",
      "[1, 1, 1, 1, 1, 1, 1, 1, 1, 1, 1, 1, 1, 1, 1, 1, 1, 1, 1, 1, 1, 1, 1, 1, 1, 1, 1, 1, 1, 1]\n"
     ]
    }
   ],
   "source": [
    "y_pred = []\n",
    "y_true = []\n",
    "\n",
    "# Grabbing only the first image of the anomalies dataset\n",
    "X = dataset_test[0]\n",
    "image_in_tensor = X[0]\n",
    " \n",
    "n_features = len(image_in_tensor[0])  # Get the size of one image of the anomaly images dataset. This is supposed to be 224\n",
    "for i in range(len(dataset_test)):\n",
    "    X = dataset_test[i]\n",
    "    image_in_tensor = X[0]\n",
    "    image_in_tensor = image_in_tensor.cuda() \n",
    "    ground_truth = X[1]\n",
    "\n",
    "    with torch.no_grad():\n",
    "        Y = model_encoder(image_in_tensor)  # should be same as X\n",
    "    np_converted_encoded_img = Y.cpu().detach().numpy()\n",
    "    flattened = np.reshape(np_converted_encoded_img, (out_vector_shape))\n",
    "    density = kde.score_samples([flattened])[0]\n",
    "    prediction = computePred(density)\n",
    "    y_pred.append(prediction) # Save Prediction\n",
    "    y_true.append(ground_truth) # Save Truth\n",
    "print(y_true)\n",
    "print(y_pred)"
   ]
  },
  {
   "attachments": {},
   "cell_type": "markdown",
   "metadata": {},
   "source": [
    "Above, it can be seen that all the images are predicted to be anomaly images. This is good for the TPR but it is terrible for the FPR metric."
   ]
  },
  {
   "attachments": {},
   "cell_type": "markdown",
   "metadata": {},
   "source": []
  }
 ],
 "metadata": {
  "kernelspec": {
   "display_name": "tfm",
   "language": "python",
   "name": "python3"
  },
  "language_info": {
   "codemirror_mode": {
    "name": "ipython",
    "version": 3
   },
   "file_extension": ".py",
   "mimetype": "text/x-python",
   "name": "python",
   "nbconvert_exporter": "python",
   "pygments_lexer": "ipython3",
   "version": "3.9.16"
  },
  "orig_nbformat": 4
 },
 "nbformat": 4,
 "nbformat_minor": 2
}
