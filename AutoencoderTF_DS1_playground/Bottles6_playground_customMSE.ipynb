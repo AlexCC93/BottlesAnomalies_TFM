{
 "cells": [
  {
   "cell_type": "markdown",
   "metadata": {},
   "source": [
    "# Importing libraries"
   ]
  },
  {
   "cell_type": "code",
   "execution_count": 1,
   "metadata": {},
   "outputs": [],
   "source": [
    "from tensorflow.keras.models import Sequential, Model\n",
    "from tensorflow.keras.layers import *\n",
    "from tensorflow.keras.preprocessing.image import ImageDataGenerator\n",
    "from tensorflow import keras\n",
    "import tensorflow as tf\n",
    "# from keras import layers\n",
    "\n",
    "\n",
    "from tensorflow.keras.optimizers import Adam, RMSprop\n",
    "from tensorflow.keras.preprocessing import image\n",
    "\n",
    "import tensorflow.keras.backend as K\n",
    "\n",
    "\n",
    "from PIL import Image\n",
    "import matplotlib.pyplot as plt\n",
    "import numpy as np\n",
    "import random\n",
    "\n"
   ]
  },
  {
   "cell_type": "code",
   "execution_count": 2,
   "metadata": {},
   "outputs": [
    {
     "name": "stdout",
     "output_type": "stream",
     "text": [
      "Num GPUs Available:  1\n"
     ]
    },
    {
     "name": "stderr",
     "output_type": "stream",
     "text": [
      "2023-09-10 22:17:39.396939: I tensorflow/stream_executor/platform/default/dso_loader.cc:44] Successfully opened dynamic library libcuda.so.1\n",
      "2023-09-10 22:17:39.421959: I tensorflow/stream_executor/cuda/cuda_gpu_executor.cc:981] successful NUMA node read from SysFS had negative value (-1), but there must be at least one NUMA node, so returning NUMA node zero\n",
      "2023-09-10 22:17:39.422206: I tensorflow/core/common_runtime/gpu/gpu_device.cc:1561] Found device 0 with properties: \n",
      "pciBusID: 0000:01:00.0 name: NVIDIA GeForce RTX 2080 with Max-Q Design computeCapability: 7.5\n",
      "coreClock: 1.23GHz coreCount: 46 deviceMemorySize: 7.79GiB deviceMemoryBandwidth: 357.69GiB/s\n",
      "2023-09-10 22:17:39.422380: I tensorflow/stream_executor/platform/default/dso_loader.cc:44] Successfully opened dynamic library libcudart.so.10.1\n",
      "2023-09-10 22:17:39.423615: I tensorflow/stream_executor/platform/default/dso_loader.cc:44] Successfully opened dynamic library libcublas.so.10\n",
      "2023-09-10 22:17:39.424773: I tensorflow/stream_executor/platform/default/dso_loader.cc:44] Successfully opened dynamic library libcufft.so.10\n",
      "2023-09-10 22:17:39.425041: I tensorflow/stream_executor/platform/default/dso_loader.cc:44] Successfully opened dynamic library libcurand.so.10\n",
      "2023-09-10 22:17:39.426379: I tensorflow/stream_executor/platform/default/dso_loader.cc:44] Successfully opened dynamic library libcusolver.so.10\n",
      "2023-09-10 22:17:39.427124: I tensorflow/stream_executor/platform/default/dso_loader.cc:44] Successfully opened dynamic library libcusparse.so.10\n",
      "2023-09-10 22:17:39.429888: I tensorflow/stream_executor/platform/default/dso_loader.cc:44] Successfully opened dynamic library libcudnn.so.7\n",
      "2023-09-10 22:17:39.429981: I tensorflow/stream_executor/cuda/cuda_gpu_executor.cc:981] successful NUMA node read from SysFS had negative value (-1), but there must be at least one NUMA node, so returning NUMA node zero\n",
      "2023-09-10 22:17:39.430279: I tensorflow/stream_executor/cuda/cuda_gpu_executor.cc:981] successful NUMA node read from SysFS had negative value (-1), but there must be at least one NUMA node, so returning NUMA node zero\n",
      "2023-09-10 22:17:39.430495: I tensorflow/core/common_runtime/gpu/gpu_device.cc:1703] Adding visible gpu devices: 0\n"
     ]
    }
   ],
   "source": [
    "physical_devices = tf.config.experimental.list_physical_devices('GPU')\n",
    "if len(physical_devices) == 0:\n",
    "    print(\"Not enough GPU hardware devices available\")\n",
    "else:\n",
    "    config = tf.config.experimental.set_memory_growth(physical_devices[0], True)\n",
    "print(\"Num GPUs Available: \", len(physical_devices))"
   ]
  },
  {
   "cell_type": "markdown",
   "metadata": {},
   "source": [
    "If uncommented it will print all the log information about where the tensorflow operations were performed, in the CPU or the GPU"
   ]
  },
  {
   "cell_type": "code",
   "execution_count": 3,
   "metadata": {},
   "outputs": [],
   "source": [
    "# tf.debugging.set_log_device_placement(True)       # Will print the log information of every execution of tensorflow, mainly about "
   ]
  },
  {
   "attachments": {},
   "cell_type": "markdown",
   "metadata": {},
   "source": [
    "# Loading the train data set"
   ]
  },
  {
   "attachments": {},
   "cell_type": "markdown",
   "metadata": {},
   "source": [
    "ImageDataGenerator.flow_from_directory: Takes the path to a directory and generates batches of augmented data."
   ]
  },
  {
   "cell_type": "code",
   "execution_count": 4,
   "metadata": {},
   "outputs": [],
   "source": [
    "def my_crop(img, start_y, start_x, desired_height, desired_width):\n",
    "  if K.image_data_format() == 'channels_last':\n",
    "    # Note: image_data_format is 'channel_last'\n",
    "    assert img.shape[2] == 3\n",
    "    dy = desired_height #input desired output size\n",
    "    dx = desired_width #input desired output size\n",
    "    # start_y = (height-dy)//2\n",
    "    # start_x = (width-dx)//2\n",
    "    return img[start_y:start_y+dy, start_x:(dx+start_x), :]\n",
    "  else:\n",
    "      assert img.shape[0] == 3\n",
    "      dy = desired_height #input desired output size\n",
    "      dx = desired_width #input desired output size\n",
    "      # start_y = (height-dy)//2\n",
    "      # start_x = (width-dx)//2\n",
    "      return img[:,start_y:start_y + dy, start_x:(dx + start_x)]\n",
    "\n",
    "def crop_augmented_generator(batches, start_y, start_x, crop_height, crop_width):\n",
    "    '''\n",
    "    Take as input a Keras ImageGen (Iterator) and generate\n",
    "    crops from the image batches generated by the original iterator\n",
    "    '''\n",
    "    # print(\"I'm in the crop_generataor function\")\n",
    "    while True:\n",
    "      batch_x, batch_y = next(batches)  # In batch_x there are the images, in batch_y there are the labels\n",
    "    #   print(\"hello\")\n",
    "    #   print('the shape of tensor batch_x is:', batch_x.shape)\n",
    "    #   print('batch_y is:', batch_y)\n",
    "    \n",
    "      if K.image_data_format() == 'channels_last':\n",
    "        # print(\"type of batch_x: \", type(batch_x))\n",
    "        # print(\"type of batch_y: \", type(batch_y))\n",
    "        # print(\"len of batch_x: \", len(batch_x))\n",
    "\n",
    "        # Either batch_x or batch_y could be augmented or original\n",
    "        batch_crops_input_x = np.zeros((batch_x[0].shape[0], crop_height, crop_width, 3))\n",
    "        batch_crops_target_x = np.zeros((batch_x[1].shape[0], crop_height, crop_width, 3))\n",
    "\n",
    "        batch_crops_input_y = np.zeros((batch_y[0].shape[0], crop_height, crop_width, 3))\n",
    "        batch_crops_target_y = np.zeros((batch_y[1].shape[0], crop_height, crop_width, 3))\n",
    "      else:\n",
    "        # Either batch_x or batch_y could be augmented or original\n",
    "        batch_crops_input_x = np.zeros((batch_x[0].shape[0], 3, crop_height, crop_width))\n",
    "        batch_crops_target_x = np.zeros((batch_x[1].shape[0], 3, crop_height, crop_width))\n",
    "\n",
    "        batch_crops_input_y = np.zeros((batch_y[0].shape[0], 3, crop_height, crop_width))\n",
    "        batch_crops_target_y = np.zeros((batch_y[1].shape[0], 3, crop_height, crop_width))\n",
    "\n",
    "      for i in range(batch_x[0].shape[0]):\n",
    "        #   print(\"THe shape of a single image before the cropping is: \", batch_x[i].shape)\n",
    "        batch_crops_input_x[i] = my_crop(batch_x[0][i], start_y, start_x, crop_height, crop_width)\n",
    "        batch_crops_target_x[i] = my_crop(batch_x[1][i], start_y, start_x, crop_height, crop_width)\n",
    "\n",
    "        batch_crops_input_y[i] = my_crop(batch_y[0][i], start_y, start_x, crop_height, crop_width)\n",
    "        batch_crops_target_y[i] = my_crop(batch_y[1][i], start_y, start_x, crop_height, crop_width)\n",
    "      \n",
    "      # print(type(batch_crops_input_x))\n",
    "      batch_crops_x = (batch_crops_input_x, batch_crops_target_x)\n",
    "      batch_crops_y = (batch_crops_input_y, batch_crops_target_y)\n",
    "\n",
    "      yield (batch_crops_x, batch_crops_y)\n",
    "\n",
    "  \n",
    "    \n",
    "def crop_generator(batches, start_y, start_x, crop_height, crop_width, flag=0):\n",
    "    '''\n",
    "    Take as input a Keras ImageGen (Iterator) and generate\n",
    "    crops from the image batches generated by the original iterator\n",
    "    '''\n",
    "    # print(\"I'm in the crop_generataor function\")\n",
    "    while True:\n",
    "      batch_x, batch_y = next(batches)  # In batch_x there are the images, in batch_y there are the labels\n",
    "    #   print(\"hello\")\n",
    "    #   print('the shape of tensor batch_x is:', batch_x.shape)\n",
    "    #   print('batch_y is:', batch_y)\n",
    "      if flag==0:\n",
    "        if K.image_data_format() == 'channels_last':\n",
    "          batch_crops = np.zeros((batch_x.shape[0], crop_height, crop_width, 3))\n",
    "          batch_crops_y = np.zeros((batch_y.shape[0], crop_height, crop_width, 3))\n",
    "        else:\n",
    "          batch_crops = np.zeros((batch_x.shape[0], 3, crop_height, crop_width))\n",
    "          batch_crops_y = np.zeros((batch_y.shape[0], 3, crop_height, crop_width))\n",
    "        for i in range(batch_x.shape[0]):\n",
    "          #   print(\"THe shape of a single image before the cropping is: \", batch_x[i].shape)\n",
    "            batch_crops[i] = my_crop(batch_x[i], start_y, start_x, crop_height, crop_width)\n",
    "            batch_crops_y[i] = my_crop(batch_x[i], start_y, start_x, crop_height, crop_width)\n",
    "        yield (batch_crops, batch_crops_y)\n",
    "      else: \n",
    "        if K.image_data_format() == 'channels_last':\n",
    "          batch_crops = np.zeros((batch_x.shape[0], crop_height, crop_width, 3))\n",
    "        else:\n",
    "          batch_crops = np.zeros((batch_x.shape[0], 3, crop_height, crop_width))\n",
    "        for i in range(batch_x.shape[0]):\n",
    "          #   print(\"THe shape of a single image before the cropping is: \", batch_x[i].shape)\n",
    "            batch_crops[i] = my_crop(batch_x[i], start_y, start_x, crop_height, crop_width)\n",
    "\n",
    "        yield (batch_crops, batch_y)\n",
    "         "
   ]
  },
  {
   "cell_type": "code",
   "execution_count": 5,
   "metadata": {},
   "outputs": [
    {
     "name": "stdout",
     "output_type": "stream",
     "text": [
      "Found 295 images belonging to 1 classes.\n",
      "Found 295 images belonging to 1 classes.\n"
     ]
    }
   ],
   "source": [
    "# batch_size = 64\n",
    "batch_size = 10\n",
    "train_datagen = ImageDataGenerator(rescale=1./255,\n",
    "                                    brightness_range=[0.88,1.0]) # Typically used for data augmentation. Here it is only rescaling the image pixels value to range 0 to 1 in decimals and changing the brightness\n",
    "\n",
    "\n",
    "original_datagen = ImageDataGenerator(rescale=1./255)\n",
    "\n",
    "\n",
    "train_generator = train_datagen.flow_from_directory(\n",
    "    \"../../Images/SyntheticImages/Positive/\",         # For home laptop\n",
    "    # \"../../../BottleStoodUp_atNight/Positive/\",          # For work laptop\n",
    "    batch_size=batch_size,\n",
    "    shuffle = False,\n",
    "    class_mode='input'\n",
    "    )\n",
    "\n",
    "# Generate original images from the original data directory\n",
    "original_generator = original_datagen.flow_from_directory(\n",
    "    \"../../Images/SyntheticImages/Positive/\",\n",
    "    batch_size=batch_size,\n",
    "    shuffle = False,\n",
    "    class_mode='input')\n",
    "\n",
    "# Combine the generators using the `keras.preprocessing.image.Iterator` class\n",
    "combined_generator = zip(train_generator, original_generator)"
   ]
  },
  {
   "cell_type": "code",
   "execution_count": 6,
   "metadata": {},
   "outputs": [
    {
     "name": "stdout",
     "output_type": "stream",
     "text": [
      "Found 20 images belonging to 1 classes.\n"
     ]
    }
   ],
   "source": [
    "validation_generator = original_datagen.flow_from_directory(\n",
    "    \"../../Images/SyntheticImages/Positive_val/\",     # For home laptop\n",
    "    # \"../../../BottleStoodUp_atNight/Positive_val/\",           # For work lpatop   \n",
    "    batch_size=batch_size,\n",
    "    shuffle = False,\n",
    "    class_mode='input'\n",
    "    )\n"
   ]
  },
  {
   "cell_type": "code",
   "execution_count": 7,
   "metadata": {},
   "outputs": [
    {
     "name": "stdout",
     "output_type": "stream",
     "text": [
      "Found 30 images belonging to 2 classes.\n"
     ]
    }
   ],
   "source": [
    "validation_generator_for_threshold = original_datagen.flow_from_directory(\n",
    "    \"../../Images/SyntheticImages/Validation/\",     # For home laptop\n",
    "    # \"../../../BottleStoodUp_atNight/Positive_val/\",           # For work lpatop   \n",
    "    batch_size=batch_size,\n",
    "    shuffle = False,\n",
    "    class_mode='binary'\n",
    "    )"
   ]
  },
  {
   "cell_type": "code",
   "execution_count": 8,
   "metadata": {},
   "outputs": [
    {
     "name": "stdout",
     "output_type": "stream",
     "text": [
      "Found 30 images belonging to 2 classes.\n"
     ]
    }
   ],
   "source": [
    "test_set_generator = original_datagen.flow_from_directory(\n",
    "    \"../../Images/SyntheticImages/Evaluation/\",       # For home laptop\n",
    "    # \"../../../BottleStoodUp_atNight/Evaluation/\",             # For work laptop  \n",
    "    batch_size=batch_size,\n",
    "    shuffle = False,\n",
    "    class_mode='binary'\n",
    "    )\n"
   ]
  },
  {
   "cell_type": "markdown",
   "metadata": {},
   "source": [
    "# Showing one sample of the training set images"
   ]
  },
  {
   "attachments": {},
   "cell_type": "markdown",
   "metadata": {},
   "source": [
    "Creating the cropped images"
   ]
  },
  {
   "cell_type": "code",
   "execution_count": 9,
   "metadata": {},
   "outputs": [],
   "source": [
    "HEIGHT = 160\n",
    "WIDTH = 128"
   ]
  },
  {
   "cell_type": "code",
   "execution_count": 10,
   "metadata": {},
   "outputs": [],
   "source": [
    "train_crops = crop_augmented_generator(combined_generator, 75, 59, HEIGHT,WIDTH)      # top, left, height, width\n",
    "val_crops = crop_generator(validation_generator, 75, 59, HEIGHT,WIDTH)      # top, left, height, width\n",
    "test_crops = crop_generator(test_set_generator, 75, 59, HEIGHT,WIDTH,1)      # top, left, height, width\n",
    "val_crops_for_threshold = crop_generator(validation_generator_for_threshold, 75, 59, HEIGHT,WIDTH,1)      # top, left, height, width"
   ]
  },
  {
   "attachments": {},
   "cell_type": "markdown",
   "metadata": {},
   "source": [
    "Here we make sure that both of the returned elements of the cropped generator, that is \"imgaes_in_batch\" and \"imgaes_in_batch2\", are indeed cropped images."
   ]
  },
  {
   "cell_type": "code",
   "execution_count": 11,
   "metadata": {},
   "outputs": [],
   "source": [
    "images_in_batch, images_in_batch2 = next(train_crops)"
   ]
  },
  {
   "cell_type": "code",
   "execution_count": 12,
   "metadata": {},
   "outputs": [
    {
     "name": "stdout",
     "output_type": "stream",
     "text": [
      "(10, 160, 128, 3)\n",
      "(10, 160, 128, 3)\n"
     ]
    }
   ],
   "source": [
    "batch_input_images1 = images_in_batch[0]\n",
    "batch_expected_images1 = images_in_batch[1]\n",
    "print(batch_input_images1.shape)\n",
    "print(batch_expected_images1.shape)"
   ]
  },
  {
   "cell_type": "code",
   "execution_count": 13,
   "metadata": {},
   "outputs": [
    {
     "name": "stdout",
     "output_type": "stream",
     "text": [
      "(10, 160, 128, 3)\n",
      "(10, 160, 128, 3)\n"
     ]
    }
   ],
   "source": [
    "batch_input_images2 = images_in_batch2[0]\n",
    "batch_expected_images2 = images_in_batch2[1]\n",
    "print(batch_input_images2.shape)\n",
    "print(batch_expected_images2.shape)"
   ]
  },
  {
   "cell_type": "code",
   "execution_count": 14,
   "metadata": {},
   "outputs": [
    {
     "data": {
      "text/plain": [
       "<matplotlib.image.AxesImage at 0x7ffa30585970>"
      ]
     },
     "execution_count": 14,
     "metadata": {},
     "output_type": "execute_result"
    },
    {
     "data": {
      "image/png": "[encoded data removed]",
      "text/plain": [
       "<Figure size 640x480 with 1 Axes>"
      ]
     },
     "metadata": {},
     "output_type": "display_data"
    }
   ],
   "source": [
    "single_img_batch1 = batch_input_images1[0]\n",
    "plt.imshow(single_img_batch1)"
   ]
  },
  {
   "cell_type": "code",
   "execution_count": 15,
   "metadata": {},
   "outputs": [
    {
     "data": {
      "text/plain": [
       "<matplotlib.image.AxesImage at 0x7ffa30521370>"
      ]
     },
     "execution_count": 15,
     "metadata": {},
     "output_type": "execute_result"
    },
    {
     "data": {
      "image/png": "[encoded data removed]",
      "text/plain": [
       "<Figure size 640x480 with 1 Axes>"
      ]
     },
     "metadata": {},
     "output_type": "display_data"
    }
   ],
   "source": [
    "single_img_batch2 = batch_input_images2[0]\n",
    "plt.imshow(single_img_batch2)"
   ]
  },
  {
   "attachments": {},
   "cell_type": "markdown",
   "metadata": {},
   "source": [
    "# Building the model Autoencoder model"
   ]
  },
  {
   "cell_type": "code",
   "execution_count": 16,
   "metadata": {},
   "outputs": [
    {
     "name": "stderr",
     "output_type": "stream",
     "text": [
      "2023-09-10 22:17:49.815688: I tensorflow/core/platform/cpu_feature_guard.cc:143] Your CPU supports instructions that this TensorFlow binary was not compiled to use: AVX2 FMA\n",
      "2023-09-10 22:17:49.836936: I tensorflow/core/platform/profile_utils/cpu_utils.cc:102] CPU Frequency: 2599990000 Hz\n",
      "2023-09-10 22:17:49.837484: I tensorflow/compiler/xla/service/service.cc:168] XLA service 0x7ff9ac001750 initialized for platform Host (this does not guarantee that XLA will be used). Devices:\n",
      "2023-09-10 22:17:49.837515: I tensorflow/compiler/xla/service/service.cc:176]   StreamExecutor device (0): Host, Default Version\n",
      "2023-09-10 22:17:49.906916: I tensorflow/stream_executor/cuda/cuda_gpu_executor.cc:981] successful NUMA node read from SysFS had negative value (-1), but there must be at least one NUMA node, so returning NUMA node zero\n",
      "2023-09-10 22:17:49.907236: I tensorflow/compiler/xla/service/service.cc:168] XLA service 0x5a9b050 initialized for platform CUDA (this does not guarantee that XLA will be used). Devices:\n",
      "2023-09-10 22:17:49.907251: I tensorflow/compiler/xla/service/service.cc:176]   StreamExecutor device (0): NVIDIA GeForce RTX 2080 with Max-Q Design, Compute Capability 7.5\n",
      "2023-09-10 22:17:49.907403: I tensorflow/stream_executor/cuda/cuda_gpu_executor.cc:981] successful NUMA node read from SysFS had negative value (-1), but there must be at least one NUMA node, so returning NUMA node zero\n",
      "2023-09-10 22:17:49.907636: I tensorflow/core/common_runtime/gpu/gpu_device.cc:1561] Found device 0 with properties: \n",
      "pciBusID: 0000:01:00.0 name: NVIDIA GeForce RTX 2080 with Max-Q Design computeCapability: 7.5\n",
      "coreClock: 1.23GHz coreCount: 46 deviceMemorySize: 7.79GiB deviceMemoryBandwidth: 357.69GiB/s\n",
      "2023-09-10 22:17:49.907667: I tensorflow/stream_executor/platform/default/dso_loader.cc:44] Successfully opened dynamic library libcudart.so.10.1\n",
      "2023-09-10 22:17:49.907679: I tensorflow/stream_executor/platform/default/dso_loader.cc:44] Successfully opened dynamic library libcublas.so.10\n",
      "2023-09-10 22:17:49.907690: I tensorflow/stream_executor/platform/default/dso_loader.cc:44] Successfully opened dynamic library libcufft.so.10\n",
      "2023-09-10 22:17:49.907701: I tensorflow/stream_executor/platform/default/dso_loader.cc:44] Successfully opened dynamic library libcurand.so.10\n",
      "2023-09-10 22:17:49.907711: I tensorflow/stream_executor/platform/default/dso_loader.cc:44] Successfully opened dynamic library libcusolver.so.10\n",
      "2023-09-10 22:17:49.907721: I tensorflow/stream_executor/platform/default/dso_loader.cc:44] Successfully opened dynamic library libcusparse.so.10\n",
      "2023-09-10 22:17:49.907732: I tensorflow/stream_executor/platform/default/dso_loader.cc:44] Successfully opened dynamic library libcudnn.so.7\n",
      "2023-09-10 22:17:49.907781: I tensorflow/stream_executor/cuda/cuda_gpu_executor.cc:981] successful NUMA node read from SysFS had negative value (-1), but there must be at least one NUMA node, so returning NUMA node zero\n",
      "2023-09-10 22:17:49.908032: I tensorflow/stream_executor/cuda/cuda_gpu_executor.cc:981] successful NUMA node read from SysFS had negative value (-1), but there must be at least one NUMA node, so returning NUMA node zero\n",
      "2023-09-10 22:17:49.908241: I tensorflow/core/common_runtime/gpu/gpu_device.cc:1703] Adding visible gpu devices: 0\n",
      "2023-09-10 22:17:49.908268: I tensorflow/stream_executor/platform/default/dso_loader.cc:44] Successfully opened dynamic library libcudart.so.10.1\n",
      "2023-09-10 22:17:49.908711: I tensorflow/core/common_runtime/gpu/gpu_device.cc:1102] Device interconnect StreamExecutor with strength 1 edge matrix:\n",
      "2023-09-10 22:17:49.908723: I tensorflow/core/common_runtime/gpu/gpu_device.cc:1108]      0 \n",
      "2023-09-10 22:17:49.908729: I tensorflow/core/common_runtime/gpu/gpu_device.cc:1121] 0:   N \n",
      "2023-09-10 22:17:49.908828: I tensorflow/stream_executor/cuda/cuda_gpu_executor.cc:981] successful NUMA node read from SysFS had negative value (-1), but there must be at least one NUMA node, so returning NUMA node zero\n",
      "2023-09-10 22:17:49.909096: I tensorflow/stream_executor/cuda/cuda_gpu_executor.cc:981] successful NUMA node read from SysFS had negative value (-1), but there must be at least one NUMA node, so returning NUMA node zero\n",
      "2023-09-10 22:17:49.909344: I tensorflow/core/common_runtime/gpu/gpu_device.cc:1247] Created TensorFlow device (/job:localhost/replica:0/task:0/device:GPU:0 with 2210 MB memory) -> physical GPU (device: 0, name: NVIDIA GeForce RTX 2080 with Max-Q Design, pci bus id: 0000:01:00.0, compute capability: 7.5)\n"
     ]
    },
    {
     "name": "stdout",
     "output_type": "stream",
     "text": [
      "(None, 10, 8, 1)\n",
      "(None, 40)\n",
      "Model: \"model\"\n",
      "_________________________________________________________________\n",
      "Layer (type)                 Output Shape              Param #   \n",
      "=================================================================\n",
      "input_1 (InputLayer)         [(None, 160, 128, 3)]     0         \n",
      "_________________________________________________________________\n",
      "conv2d (Conv2D)              (None, 160, 128, 64)      1792      \n",
      "_________________________________________________________________\n",
      "max_pooling2d (MaxPooling2D) (None, 80, 64, 64)        0         \n",
      "_________________________________________________________________\n",
      "conv2d_1 (Conv2D)            (None, 80, 64, 32)        18464     \n",
      "_________________________________________________________________\n",
      "max_pooling2d_1 (MaxPooling2 (None, 40, 32, 32)        0         \n",
      "_________________________________________________________________\n",
      "conv2d_2 (Conv2D)            (None, 40, 32, 16)        4624      \n",
      "_________________________________________________________________\n",
      "max_pooling2d_2 (MaxPooling2 (None, 20, 16, 16)        0         \n",
      "_________________________________________________________________\n",
      "conv2d_3 (Conv2D)            (None, 20, 16, 4)         580       \n",
      "_________________________________________________________________\n",
      "max_pooling2d_3 (MaxPooling2 (None, 10, 8, 4)          0         \n",
      "_________________________________________________________________\n",
      "conv2d_4 (Conv2D)            (None, 10, 8, 1)          37        \n",
      "_________________________________________________________________\n",
      "flatten (Flatten)            (None, 80)                0         \n",
      "_________________________________________________________________\n",
      "dense (Dense)                (None, 80)                6480      \n",
      "_________________________________________________________________\n",
      "dense_1 (Dense)              (None, 40)                3240      \n",
      "=================================================================\n",
      "Total params: 35,217\n",
      "Trainable params: 35,217\n",
      "Non-trainable params: 0\n",
      "_________________________________________________________________\n"
     ]
    }
   ],
   "source": [
    "latent_dim = 40  # Number of latent dimension parameters\n",
    "\n",
    "input_img = Input(shape=(HEIGHT, WIDTH, 3))\n",
    "x = Conv2D(64, (3, 3), activation='relu', padding='same')(input_img)\n",
    "x = MaxPooling2D((2, 2), padding='same')(x)\n",
    "x = Conv2D(32, (3, 3), activation='relu', padding='same')(x)\n",
    "x = MaxPool2D( (2, 2), padding='same')(x)\n",
    "x = Conv2D(16, (3, 3), activation='relu', padding='same')(x)\n",
    "x = MaxPool2D( (2, 2), padding='same')(x)\n",
    "\n",
    "x = Conv2D(4, (3, 3), activation='relu', padding='same')(x)\n",
    "x = MaxPool2D( (2, 2), padding='same')(x)\n",
    "x = Conv2D(1, (3, 3), activation='relu', padding='same')(x)\n",
    "\n",
    "shape_before_flattening = K.int_shape(x)\n",
    "print(shape_before_flattening)\n",
    "x = Flatten()(x)\n",
    "x = Dense(80, activation='relu')(x)        # Activation function is supposed to be none, i.e the output is the same as the input\n",
    "\n",
    "Z = Dense(latent_dim)(x)\n",
    "print(K.int_shape(Z))\n",
    "\n",
    "encoder = Model(input_img,Z)\n",
    "encoder.summary()"
   ]
  },
  {
   "cell_type": "code",
   "execution_count": 17,
   "metadata": {},
   "outputs": [
    {
     "name": "stdout",
     "output_type": "stream",
     "text": [
      "Model: \"model_1\"\n",
      "_________________________________________________________________\n",
      "Layer (type)                 Output Shape              Param #   \n",
      "=================================================================\n",
      "input_2 (InputLayer)         [(None, 40)]              0         \n",
      "_________________________________________________________________\n",
      "intermediate_decoder (Dense) (None, 320)               13120     \n",
      "_________________________________________________________________\n",
      "original_decoder (Dense)     (None, 320)               102720    \n",
      "_________________________________________________________________\n",
      "reshape (Reshape)            (None, 10, 8, 4)          0         \n",
      "_________________________________________________________________\n",
      "conv2d_transpose (Conv2DTran (None, 10, 8, 3)          111       \n",
      "_________________________________________________________________\n",
      "up_sampling2d (UpSampling2D) (None, 20, 16, 3)         0         \n",
      "_________________________________________________________________\n",
      "conv2d_transpose_1 (Conv2DTr (None, 20, 16, 3)         84        \n",
      "_________________________________________________________________\n",
      "up_sampling2d_1 (UpSampling2 (None, 40, 32, 3)         0         \n",
      "_________________________________________________________________\n",
      "conv2d_transpose_2 (Conv2DTr (None, 40, 32, 3)         84        \n",
      "_________________________________________________________________\n",
      "up_sampling2d_2 (UpSampling2 (None, 80, 64, 3)         0         \n",
      "_________________________________________________________________\n",
      "conv2d_transpose_3 (Conv2DTr (None, 80, 64, 3)         84        \n",
      "_________________________________________________________________\n",
      "up_sampling2d_3 (UpSampling2 (None, 160, 128, 3)       0         \n",
      "=================================================================\n",
      "Total params: 116,203\n",
      "Trainable params: 116,203\n",
      "Non-trainable params: 0\n",
      "_________________________________________________________________\n"
     ]
    }
   ],
   "source": [
    "# decoder takes the latent distribution sample as input\n",
    "decoder_input = Input(K.int_shape(Z)[1:])\n",
    "x = Dense(10*8*4, activation='relu', name=\"intermediate_decoder\", input_shape=(latent_dim,))(decoder_input)\n",
    "# Expand to 784 total pixels\n",
    "x = Dense(320, activation='sigmoid', name=\"original_decoder\")(x)\n",
    "x = Reshape((10,8,4),input_shape=(320,))(x)\n",
    "\n",
    "x = Conv2DTranspose(3, (3, 3), padding='same')(x)\n",
    "x = UpSampling2D( (2, 2))(x)\n",
    "x = Conv2DTranspose(3, (3, 3), padding='same')(x)\n",
    "x = UpSampling2D( (2, 2))(x)\n",
    "x = Conv2DTranspose(3, (3, 3), padding='same')(x)\n",
    "x = UpSampling2D( (2, 2))(x)\n",
    "x = Conv2DTranspose(3, (3, 3), padding='same')(x)\n",
    "x = UpSampling2D( (2, 2))(x)\n",
    "\n",
    "# decoder model statement\n",
    "decoder = Model(decoder_input, x)\n",
    "\n",
    "# apply the decoder to the sample from the latent distribution\n",
    "z_decoded = decoder(Z)\n",
    "\n",
    "decoder.summary()"
   ]
  },
  {
   "cell_type": "code",
   "execution_count": 18,
   "metadata": {},
   "outputs": [
    {
     "name": "stdout",
     "output_type": "stream",
     "text": [
      "Model: \"model_2\"\n",
      "_________________________________________________________________\n",
      "Layer (type)                 Output Shape              Param #   \n",
      "=================================================================\n",
      "input_1 (InputLayer)         [(None, 160, 128, 3)]     0         \n",
      "_________________________________________________________________\n",
      "conv2d (Conv2D)              (None, 160, 128, 64)      1792      \n",
      "_________________________________________________________________\n",
      "max_pooling2d (MaxPooling2D) (None, 80, 64, 64)        0         \n",
      "_________________________________________________________________\n",
      "conv2d_1 (Conv2D)            (None, 80, 64, 32)        18464     \n",
      "_________________________________________________________________\n",
      "max_pooling2d_1 (MaxPooling2 (None, 40, 32, 32)        0         \n",
      "_________________________________________________________________\n",
      "conv2d_2 (Conv2D)            (None, 40, 32, 16)        4624      \n",
      "_________________________________________________________________\n",
      "max_pooling2d_2 (MaxPooling2 (None, 20, 16, 16)        0         \n",
      "_________________________________________________________________\n",
      "conv2d_3 (Conv2D)            (None, 20, 16, 4)         580       \n",
      "_________________________________________________________________\n",
      "max_pooling2d_3 (MaxPooling2 (None, 10, 8, 4)          0         \n",
      "_________________________________________________________________\n",
      "conv2d_4 (Conv2D)            (None, 10, 8, 1)          37        \n",
      "_________________________________________________________________\n",
      "flatten (Flatten)            (None, 80)                0         \n",
      "_________________________________________________________________\n",
      "dense (Dense)                (None, 80)                6480      \n",
      "_________________________________________________________________\n",
      "dense_1 (Dense)              (None, 40)                3240      \n",
      "_________________________________________________________________\n",
      "model_1 (Model)              (None, 160, 128, 3)       116203    \n",
      "=================================================================\n",
      "Total params: 151,420\n",
      "Trainable params: 151,420\n",
      "Non-trainable params: 0\n",
      "_________________________________________________________________\n"
     ]
    }
   ],
   "source": [
    "# VAE model statement\n",
    "ae = Model(input_img,z_decoded)\n",
    "ae.compile(optimizer='adam', loss='mean_squared_error')\n",
    "\n",
    "ae.summary()"
   ]
  },
  {
   "cell_type": "markdown",
   "metadata": {},
   "source": [
    "# Training the model"
   ]
  },
  {
   "cell_type": "code",
   "execution_count": 19,
   "metadata": {},
   "outputs": [
    {
     "name": "stdout",
     "output_type": "stream",
     "text": [
      "Epoch 1/300\n"
     ]
    },
    {
     "name": "stderr",
     "output_type": "stream",
     "text": [
      "2023-09-10 22:18:02.447058: I tensorflow/stream_executor/platform/default/dso_loader.cc:44] Successfully opened dynamic library libcublas.so.10\n",
      "2023-09-10 22:18:02.621740: I tensorflow/stream_executor/platform/default/dso_loader.cc:44] Successfully opened dynamic library libcudnn.so.7\n"
     ]
    },
    {
     "name": "stdout",
     "output_type": "stream",
     "text": [
      "60/60 [==============================] - 6s 94ms/step - loss: 0.0990 - val_loss: 0.0404\n",
      "Epoch 2/300\n",
      "60/60 [==============================] - 5s 85ms/step - loss: 0.0257 - val_loss: 0.0401\n",
      "Epoch 3/300\n",
      "60/60 [==============================] - 5s 83ms/step - loss: 0.0202 - val_loss: 0.0257\n",
      "Epoch 4/300\n",
      "60/60 [==============================] - 5s 86ms/step - loss: 0.0167 - val_loss: 0.0243\n",
      "Epoch 5/300\n",
      "60/60 [==============================] - 5s 88ms/step - loss: 0.0152 - val_loss: 0.0234\n",
      "Epoch 6/300\n",
      "60/60 [==============================] - 5s 88ms/step - loss: 0.0143 - val_loss: 0.0227\n",
      "Epoch 7/300\n",
      "60/60 [==============================] - 5s 88ms/step - loss: 0.0137 - val_loss: 0.0221\n",
      "Epoch 8/300\n",
      "60/60 [==============================] - 5s 83ms/step - loss: 0.0133 - val_loss: 0.0218\n",
      "Epoch 9/300\n",
      "60/60 [==============================] - 6s 92ms/step - loss: 0.0128 - val_loss: 0.0211\n",
      "Epoch 10/300\n",
      "60/60 [==============================] - 5s 84ms/step - loss: 0.0123 - val_loss: 0.0190\n",
      "Epoch 11/300\n",
      "60/60 [==============================] - 5s 86ms/step - loss: 0.0112 - val_loss: 0.0137\n",
      "Epoch 12/300\n",
      "60/60 [==============================] - 5s 85ms/step - loss: 0.0104 - val_loss: 0.0114\n",
      "Epoch 13/300\n",
      "60/60 [==============================] - 6s 94ms/step - loss: 0.0103 - val_loss: 0.0091\n",
      "Epoch 14/300\n",
      "60/60 [==============================] - 5s 91ms/step - loss: 0.0119 - val_loss: 0.0145\n",
      "Epoch 15/300\n",
      "60/60 [==============================] - 5s 84ms/step - loss: 0.0120 - val_loss: 0.0116\n",
      "Epoch 16/300\n",
      "60/60 [==============================] - 5s 85ms/step - loss: 0.0136 - val_loss: 0.0110\n",
      "Epoch 17/300\n",
      "60/60 [==============================] - 5s 84ms/step - loss: 0.0132 - val_loss: 0.0149\n",
      "Epoch 18/300\n",
      "60/60 [==============================] - 5s 90ms/step - loss: 0.0141 - val_loss: 0.0140\n",
      "Epoch 19/300\n",
      "60/60 [==============================] - 5s 89ms/step - loss: 0.0146 - val_loss: 0.0160\n",
      "Epoch 20/300\n",
      "60/60 [==============================] - 5s 84ms/step - loss: 0.0118 - val_loss: 0.0084\n",
      "Epoch 21/300\n",
      "60/60 [==============================] - 5s 85ms/step - loss: 0.0099 - val_loss: 0.0117\n",
      "Epoch 22/300\n",
      "60/60 [==============================] - 5s 84ms/step - loss: 0.0091 - val_loss: 0.0092\n",
      "Epoch 23/300\n",
      "60/60 [==============================] - 6s 92ms/step - loss: 0.0094 - val_loss: 0.0082\n",
      "Epoch 24/300\n",
      "60/60 [==============================] - 5s 87ms/step - loss: 0.0095 - val_loss: 0.0139\n",
      "Epoch 25/300\n",
      "60/60 [==============================] - 5s 86ms/step - loss: 0.0106 - val_loss: 0.0088\n",
      "Epoch 26/300\n",
      "60/60 [==============================] - 5s 88ms/step - loss: 0.0101 - val_loss: 0.0152\n",
      "Epoch 27/300\n",
      "60/60 [==============================] - 5s 84ms/step - loss: 0.0093 - val_loss: 0.0077\n",
      "Epoch 28/300\n",
      "60/60 [==============================] - 6s 94ms/step - loss: 0.0095 - val_loss: 0.0091\n",
      "Epoch 29/300\n",
      "60/60 [==============================] - 5s 86ms/step - loss: 0.0097 - val_loss: 0.0116\n",
      "Epoch 30/300\n",
      "60/60 [==============================] - 5s 88ms/step - loss: 0.0091 - val_loss: 0.0080\n",
      "Epoch 31/300\n",
      "60/60 [==============================] - 5s 86ms/step - loss: 0.0086 - val_loss: 0.0083\n",
      "Epoch 32/300\n",
      "60/60 [==============================] - 5s 85ms/step - loss: 0.0090 - val_loss: 0.0098\n",
      "Epoch 33/300\n",
      "60/60 [==============================] - 6s 92ms/step - loss: 0.0082 - val_loss: 0.0073\n",
      "Epoch 34/300\n",
      "60/60 [==============================] - 6s 99ms/step - loss: 0.0082 - val_loss: 0.0082\n",
      "Epoch 35/300\n",
      "60/60 [==============================] - 6s 94ms/step - loss: 0.0084 - val_loss: 0.0097\n",
      "Epoch 36/300\n",
      "60/60 [==============================] - 5s 89ms/step - loss: 0.0086 - val_loss: 0.0073\n",
      "Epoch 37/300\n",
      "60/60 [==============================] - 6s 98ms/step - loss: 0.0082 - val_loss: 0.0103\n",
      "Epoch 38/300\n",
      "60/60 [==============================] - 6s 97ms/step - loss: 0.0080 - val_loss: 0.0078\n",
      "Epoch 39/300\n",
      "60/60 [==============================] - 6s 95ms/step - loss: 0.0081 - val_loss: 0.0074\n",
      "Epoch 40/300\n",
      "60/60 [==============================] - 5s 90ms/step - loss: 0.0084 - val_loss: 0.0137\n",
      "Epoch 41/300\n",
      "60/60 [==============================] - 6s 96ms/step - loss: 0.0085 - val_loss: 0.0136\n",
      "Epoch 42/300\n",
      "60/60 [==============================] - 5s 89ms/step - loss: 0.0096 - val_loss: 0.0103\n",
      "Epoch 43/300\n",
      "60/60 [==============================] - 5s 88ms/step - loss: 0.0081 - val_loss: 0.0067\n",
      "Epoch 44/300\n",
      "60/60 [==============================] - 5s 89ms/step - loss: 0.0088 - val_loss: 0.0074\n",
      "Epoch 45/300\n",
      "60/60 [==============================] - 5s 91ms/step - loss: 0.0095 - val_loss: 0.0136\n",
      "Epoch 46/300\n",
      "60/60 [==============================] - 5s 87ms/step - loss: 0.0092 - val_loss: 0.0091\n",
      "Epoch 47/300\n",
      "60/60 [==============================] - 5s 86ms/step - loss: 0.0085 - val_loss: 0.0114\n",
      "Epoch 48/300\n",
      "60/60 [==============================] - 5s 88ms/step - loss: 0.0081 - val_loss: 0.0071\n",
      "Epoch 49/300\n",
      "60/60 [==============================] - 5s 86ms/step - loss: 0.0083 - val_loss: 0.0092\n",
      "Epoch 50/300\n",
      "60/60 [==============================] - 6s 92ms/step - loss: 0.0083 - val_loss: 0.0072\n",
      "Epoch 51/300\n",
      "60/60 [==============================] - 5s 86ms/step - loss: 0.0089 - val_loss: 0.0128\n",
      "Epoch 52/300\n",
      "60/60 [==============================] - 6s 94ms/step - loss: 0.0080 - val_loss: 0.0069\n",
      "Epoch 53/300\n",
      "60/60 [==============================] - 5s 86ms/step - loss: 0.0079 - val_loss: 0.0078\n",
      "Epoch 54/300\n",
      "60/60 [==============================] - 5s 91ms/step - loss: 0.0081 - val_loss: 0.0086\n",
      "Epoch 55/300\n",
      "60/60 [==============================] - 5s 87ms/step - loss: 0.0081 - val_loss: 0.0072\n",
      "Epoch 56/300\n",
      "60/60 [==============================] - 5s 89ms/step - loss: 0.0090 - val_loss: 0.0121\n",
      "Epoch 57/300\n",
      "60/60 [==============================] - 5s 85ms/step - loss: 0.0081 - val_loss: 0.0068\n",
      "Epoch 58/300\n",
      "60/60 [==============================] - 6s 94ms/step - loss: 0.0086 - val_loss: 0.0086\n",
      "Epoch 59/300\n",
      "60/60 [==============================] - 5s 85ms/step - loss: 0.0077 - val_loss: 0.0099\n",
      "Epoch 60/300\n",
      "60/60 [==============================] - 5s 87ms/step - loss: 0.0087 - val_loss: 0.0141\n",
      "Epoch 61/300\n",
      "60/60 [==============================] - 5s 87ms/step - loss: 0.0082 - val_loss: 0.0067\n",
      "Epoch 62/300\n",
      "60/60 [==============================] - 6s 94ms/step - loss: 0.0084 - val_loss: 0.0112\n",
      "Epoch 63/300\n",
      "60/60 [==============================] - 5s 89ms/step - loss: 0.0081 - val_loss: 0.0094\n",
      "Epoch 64/300\n",
      "60/60 [==============================] - 5s 86ms/step - loss: 0.0080 - val_loss: 0.0187\n",
      "Epoch 65/300\n",
      "60/60 [==============================] - 5s 84ms/step - loss: 0.0093 - val_loss: 0.0072\n",
      "Epoch 66/300\n",
      "60/60 [==============================] - 5s 85ms/step - loss: 0.0095 - val_loss: 0.0110\n",
      "Epoch 67/300\n",
      "60/60 [==============================] - 5s 90ms/step - loss: 0.0084 - val_loss: 0.0068\n",
      "Epoch 68/300\n",
      "60/60 [==============================] - 5s 84ms/step - loss: 0.0074 - val_loss: 0.0072\n",
      "Epoch 69/300\n",
      "60/60 [==============================] - 5s 84ms/step - loss: 0.0073 - val_loss: 0.0069\n",
      "Epoch 70/300\n",
      "60/60 [==============================] - 5s 91ms/step - loss: 0.0075 - val_loss: 0.0120\n",
      "Epoch 71/300\n",
      "60/60 [==============================] - 5s 87ms/step - loss: 0.0077 - val_loss: 0.0065\n",
      "Epoch 72/300\n",
      "60/60 [==============================] - 5s 87ms/step - loss: 0.0074 - val_loss: 0.0074\n",
      "Epoch 73/300\n",
      "60/60 [==============================] - 5s 86ms/step - loss: 0.0073 - val_loss: 0.0079\n",
      "Epoch 74/300\n",
      "60/60 [==============================] - 5s 85ms/step - loss: 0.0074 - val_loss: 0.0107\n",
      "Epoch 75/300\n",
      "60/60 [==============================] - 5s 84ms/step - loss: 0.0074 - val_loss: 0.0129\n",
      "Epoch 76/300\n",
      "60/60 [==============================] - 5s 89ms/step - loss: 0.0079 - val_loss: 0.0071\n",
      "Epoch 77/300\n",
      "60/60 [==============================] - 5s 84ms/step - loss: 0.0076 - val_loss: 0.0097\n",
      "Epoch 78/300\n",
      "60/60 [==============================] - 5s 84ms/step - loss: 0.0075 - val_loss: 0.0101\n",
      "Epoch 79/300\n",
      "60/60 [==============================] - 5s 84ms/step - loss: 0.0077 - val_loss: 0.0073\n",
      "Epoch 80/300\n",
      "60/60 [==============================] - 5s 86ms/step - loss: 0.0070 - val_loss: 0.0062\n",
      "Epoch 81/300\n",
      "60/60 [==============================] - 5s 86ms/step - loss: 0.0072 - val_loss: 0.0077\n",
      "Epoch 82/300\n",
      "60/60 [==============================] - 5s 90ms/step - loss: 0.0070 - val_loss: 0.0067\n",
      "Epoch 83/300\n",
      "60/60 [==============================] - 5s 84ms/step - loss: 0.0080 - val_loss: 0.0097\n",
      "Epoch 84/300\n",
      "60/60 [==============================] - 5s 84ms/step - loss: 0.0076 - val_loss: 0.0068\n",
      "Epoch 85/300\n",
      "60/60 [==============================] - 5s 84ms/step - loss: 0.0073 - val_loss: 0.0119\n",
      "Epoch 86/300\n",
      "60/60 [==============================] - 5s 89ms/step - loss: 0.0073 - val_loss: 0.0100\n",
      "Epoch 87/300\n",
      "60/60 [==============================] - 5s 85ms/step - loss: 0.0078 - val_loss: 0.0086\n",
      "Epoch 88/300\n",
      "60/60 [==============================] - 5s 84ms/step - loss: 0.0073 - val_loss: 0.0068\n",
      "Epoch 89/300\n",
      "60/60 [==============================] - 5s 85ms/step - loss: 0.0075 - val_loss: 0.0076\n",
      "Epoch 90/300\n",
      "60/60 [==============================] - 5s 85ms/step - loss: 0.0077 - val_loss: 0.0067\n",
      "Epoch 91/300\n",
      "60/60 [==============================] - 5s 89ms/step - loss: 0.0071 - val_loss: 0.0064\n",
      "Epoch 92/300\n",
      "60/60 [==============================] - 5s 84ms/step - loss: 0.0073 - val_loss: 0.0068\n",
      "Epoch 93/300\n",
      "60/60 [==============================] - 5s 85ms/step - loss: 0.0073 - val_loss: 0.0093\n",
      "Epoch 94/300\n",
      "60/60 [==============================] - 5s 84ms/step - loss: 0.0076 - val_loss: 0.0078\n",
      "Epoch 95/300\n",
      "60/60 [==============================] - 5s 89ms/step - loss: 0.0074 - val_loss: 0.0106\n",
      "Epoch 96/300\n",
      "60/60 [==============================] - 5s 84ms/step - loss: 0.0075 - val_loss: 0.0065\n",
      "Epoch 97/300\n",
      "60/60 [==============================] - 5s 84ms/step - loss: 0.0073 - val_loss: 0.0118\n",
      "Epoch 98/300\n",
      "60/60 [==============================] - 5s 85ms/step - loss: 0.0074 - val_loss: 0.0072\n",
      "Epoch 99/300\n",
      "60/60 [==============================] - 5s 85ms/step - loss: 0.0072 - val_loss: 0.0100\n",
      "Epoch 100/300\n",
      "60/60 [==============================] - 5s 89ms/step - loss: 0.0072 - val_loss: 0.0065\n",
      "Epoch 101/300\n",
      "60/60 [==============================] - 5s 85ms/step - loss: 0.0080 - val_loss: 0.0179\n",
      "Epoch 102/300\n",
      "60/60 [==============================] - 5s 84ms/step - loss: 0.0079 - val_loss: 0.0067\n",
      "Epoch 103/300\n",
      "60/60 [==============================] - 5s 84ms/step - loss: 0.0070 - val_loss: 0.0065\n",
      "Epoch 104/300\n",
      "60/60 [==============================] - 5s 84ms/step - loss: 0.0068 - val_loss: 0.0082\n",
      "Epoch 105/300\n",
      "60/60 [==============================] - 5s 89ms/step - loss: 0.0070 - val_loss: 0.0086\n",
      "Epoch 106/300\n",
      "60/60 [==============================] - 5s 84ms/step - loss: 0.0076 - val_loss: 0.0068\n",
      "Epoch 107/300\n",
      "60/60 [==============================] - 5s 84ms/step - loss: 0.0075 - val_loss: 0.0089\n",
      "Epoch 108/300\n",
      "60/60 [==============================] - 5s 84ms/step - loss: 0.0072 - val_loss: 0.0075\n",
      "Epoch 109/300\n",
      "60/60 [==============================] - 5s 85ms/step - loss: 0.0068 - val_loss: 0.0104\n",
      "Epoch 110/300\n",
      "60/60 [==============================] - 5s 87ms/step - loss: 0.0075 - val_loss: 0.0091\n",
      "Epoch 111/300\n",
      "60/60 [==============================] - 5s 84ms/step - loss: 0.0076 - val_loss: 0.0062\n",
      "Epoch 112/300\n",
      "60/60 [==============================] - 5s 87ms/step - loss: 0.0069 - val_loss: 0.0064\n",
      "Epoch 113/300\n",
      "60/60 [==============================] - 5s 84ms/step - loss: 0.0067 - val_loss: 0.0080\n",
      "Epoch 114/300\n",
      "60/60 [==============================] - 5s 86ms/step - loss: 0.0067 - val_loss: 0.0059\n",
      "Epoch 115/300\n",
      "60/60 [==============================] - 5s 89ms/step - loss: 0.0063 - val_loss: 0.0062\n",
      "Epoch 116/300\n",
      "60/60 [==============================] - 5s 84ms/step - loss: 0.0063 - val_loss: 0.0075\n",
      "Epoch 117/300\n",
      "60/60 [==============================] - 5s 84ms/step - loss: 0.0063 - val_loss: 0.0069\n",
      "Epoch 118/300\n",
      "60/60 [==============================] - 5s 85ms/step - loss: 0.0070 - val_loss: 0.0143\n",
      "Epoch 119/300\n",
      "60/60 [==============================] - 5s 90ms/step - loss: 0.0077 - val_loss: 0.0062\n",
      "Epoch 120/300\n",
      "60/60 [==============================] - 5s 85ms/step - loss: 0.0071 - val_loss: 0.0111\n",
      "Epoch 121/300\n",
      "60/60 [==============================] - 5s 84ms/step - loss: 0.0074 - val_loss: 0.0066\n",
      "Epoch 122/300\n",
      "60/60 [==============================] - 5s 88ms/step - loss: 0.0077 - val_loss: 0.0092\n",
      "Epoch 123/300\n",
      "60/60 [==============================] - 5s 87ms/step - loss: 0.0070 - val_loss: 0.0065\n",
      "Epoch 124/300\n",
      "60/60 [==============================] - 5s 90ms/step - loss: 0.0072 - val_loss: 0.0117\n",
      "Epoch 125/300\n",
      "60/60 [==============================] - 5s 84ms/step - loss: 0.0070 - val_loss: 0.0066\n",
      "Epoch 126/300\n",
      "60/60 [==============================] - 5s 86ms/step - loss: 0.0068 - val_loss: 0.0072\n",
      "Epoch 127/300\n",
      "60/60 [==============================] - 5s 86ms/step - loss: 0.0065 - val_loss: 0.0066\n",
      "Epoch 128/300\n",
      "60/60 [==============================] - 5s 85ms/step - loss: 0.0065 - val_loss: 0.0088\n",
      "Epoch 129/300\n",
      "60/60 [==============================] - 5s 89ms/step - loss: 0.0069 - val_loss: 0.0074\n",
      "Epoch 130/300\n",
      "60/60 [==============================] - 5s 84ms/step - loss: 0.0069 - val_loss: 0.0063\n",
      "Epoch 131/300\n",
      "60/60 [==============================] - 5s 84ms/step - loss: 0.0069 - val_loss: 0.0077\n",
      "Epoch 132/300\n",
      "60/60 [==============================] - 5s 84ms/step - loss: 0.0069 - val_loss: 0.0144\n",
      "Epoch 133/300\n",
      "60/60 [==============================] - 5s 90ms/step - loss: 0.0071 - val_loss: 0.0059\n",
      "Epoch 134/300\n",
      "60/60 [==============================] - 5s 84ms/step - loss: 0.0070 - val_loss: 0.0082\n",
      "Epoch 135/300\n",
      "60/60 [==============================] - 5s 84ms/step - loss: 0.0068 - val_loss: 0.0072\n",
      "Epoch 136/300\n",
      "60/60 [==============================] - 5s 84ms/step - loss: 0.0071 - val_loss: 0.0112\n",
      "Epoch 137/300\n",
      "60/60 [==============================] - 5s 90ms/step - loss: 0.0073 - val_loss: 0.0151\n",
      "Epoch 138/300\n",
      "60/60 [==============================] - 5s 83ms/step - loss: 0.0081 - val_loss: 0.0083\n",
      "Epoch 139/300\n",
      "60/60 [==============================] - 5s 83ms/step - loss: 0.0076 - val_loss: 0.0065\n",
      "Epoch 140/300\n",
      "60/60 [==============================] - 5s 83ms/step - loss: 0.0083 - val_loss: 0.0104\n",
      "Epoch 141/300\n",
      "60/60 [==============================] - 5s 84ms/step - loss: 0.0076 - val_loss: 0.0064\n",
      "Epoch 142/300\n",
      "60/60 [==============================] - 5s 89ms/step - loss: 0.0070 - val_loss: 0.0076\n",
      "Epoch 143/300\n",
      "60/60 [==============================] - 5s 85ms/step - loss: 0.0070 - val_loss: 0.0092\n",
      "Epoch 144/300\n",
      "60/60 [==============================] - 5s 84ms/step - loss: 0.0068 - val_loss: 0.0067\n",
      "Epoch 145/300\n",
      "60/60 [==============================] - 5s 84ms/step - loss: 0.0075 - val_loss: 0.0065\n",
      "Epoch 146/300\n",
      "60/60 [==============================] - 5s 89ms/step - loss: 0.0072 - val_loss: 0.0083\n",
      "Epoch 147/300\n",
      "60/60 [==============================] - 5s 84ms/step - loss: 0.0067 - val_loss: 0.0075\n",
      "Epoch 148/300\n",
      "60/60 [==============================] - 5s 84ms/step - loss: 0.0068 - val_loss: 0.0063\n",
      "Epoch 149/300\n",
      "60/60 [==============================] - 5s 84ms/step - loss: 0.0065 - val_loss: 0.0065\n",
      "Epoch 150/300\n",
      "60/60 [==============================] - 5s 85ms/step - loss: 0.0065 - val_loss: 0.0066\n",
      "Epoch 151/300\n",
      "60/60 [==============================] - 5s 86ms/step - loss: 0.0066 - val_loss: 0.0075\n",
      "Epoch 152/300\n",
      "60/60 [==============================] - 5s 87ms/step - loss: 0.0063 - val_loss: 0.0057\n",
      "Epoch 153/300\n",
      "60/60 [==============================] - 5s 84ms/step - loss: 0.0063 - val_loss: 0.0057\n",
      "Epoch 154/300\n",
      "60/60 [==============================] - 6s 94ms/step - loss: 0.0064 - val_loss: 0.0067\n",
      "Epoch 155/300\n",
      "60/60 [==============================] - 6s 99ms/step - loss: 0.0061 - val_loss: 0.0065\n",
      "Epoch 156/300\n",
      "60/60 [==============================] - 6s 92ms/step - loss: 0.0065 - val_loss: 0.0063\n",
      "Epoch 157/300\n",
      "60/60 [==============================] - 5s 87ms/step - loss: 0.0063 - val_loss: 0.0066\n",
      "Epoch 158/300\n",
      "60/60 [==============================] - 5s 86ms/step - loss: 0.0062 - val_loss: 0.0072\n",
      "Epoch 159/300\n",
      "60/60 [==============================] - 5s 88ms/step - loss: 0.0063 - val_loss: 0.0062\n",
      "Epoch 160/300\n",
      "60/60 [==============================] - 5s 90ms/step - loss: 0.0064 - val_loss: 0.0065\n",
      "Epoch 161/300\n",
      "60/60 [==============================] - 5s 86ms/step - loss: 0.0063 - val_loss: 0.0058\n",
      "Epoch 162/300\n",
      "60/60 [==============================] - 5s 87ms/step - loss: 0.0064 - val_loss: 0.0077\n",
      "Epoch 163/300\n",
      "60/60 [==============================] - 5s 85ms/step - loss: 0.0068 - val_loss: 0.0094\n",
      "Epoch 164/300\n",
      "60/60 [==============================] - 5s 86ms/step - loss: 0.0070 - val_loss: 0.0086\n",
      "Epoch 165/300\n",
      "60/60 [==============================] - 5s 87ms/step - loss: 0.0088 - val_loss: 0.0123\n",
      "Epoch 166/300\n",
      "60/60 [==============================] - 5s 85ms/step - loss: 0.0075 - val_loss: 0.0064\n",
      "Epoch 167/300\n",
      "60/60 [==============================] - 5s 84ms/step - loss: 0.0070 - val_loss: 0.0090\n",
      "Epoch 168/300\n",
      "60/60 [==============================] - 5s 84ms/step - loss: 0.0072 - val_loss: 0.0061\n",
      "Epoch 169/300\n",
      "60/60 [==============================] - 5s 89ms/step - loss: 0.0064 - val_loss: 0.0069\n",
      "Epoch 170/300\n",
      "60/60 [==============================] - 5s 84ms/step - loss: 0.0065 - val_loss: 0.0066\n",
      "Epoch 171/300\n",
      "60/60 [==============================] - 5s 85ms/step - loss: 0.0070 - val_loss: 0.0070\n",
      "Epoch 172/300\n",
      "60/60 [==============================] - 5s 84ms/step - loss: 0.0072 - val_loss: 0.0086\n",
      "Epoch 173/300\n",
      "60/60 [==============================] - 5s 84ms/step - loss: 0.0070 - val_loss: 0.0082\n",
      "Epoch 174/300\n",
      "60/60 [==============================] - 5s 89ms/step - loss: 0.0071 - val_loss: 0.0066\n",
      "Epoch 175/300\n",
      "60/60 [==============================] - 5s 84ms/step - loss: 0.0066 - val_loss: 0.0087\n",
      "Epoch 176/300\n",
      "60/60 [==============================] - 5s 85ms/step - loss: 0.0067 - val_loss: 0.0064\n",
      "Epoch 177/300\n",
      "60/60 [==============================] - 5s 84ms/step - loss: 0.0067 - val_loss: 0.0061\n",
      "Epoch 178/300\n",
      "60/60 [==============================] - 5s 86ms/step - loss: 0.0065 - val_loss: 0.0060\n",
      "Epoch 179/300\n",
      "60/60 [==============================] - 5s 88ms/step - loss: 0.0063 - val_loss: 0.0076\n",
      "Epoch 180/300\n",
      "60/60 [==============================] - 5s 88ms/step - loss: 0.0063 - val_loss: 0.0062\n",
      "Epoch 181/300\n",
      "60/60 [==============================] - 5s 84ms/step - loss: 0.0068 - val_loss: 0.0056\n",
      "Epoch 182/300\n",
      "60/60 [==============================] - 5s 84ms/step - loss: 0.0066 - val_loss: 0.0074\n",
      "Epoch 183/300\n",
      "60/60 [==============================] - 5s 84ms/step - loss: 0.0065 - val_loss: 0.0064\n",
      "Epoch 184/300\n",
      "60/60 [==============================] - 5s 83ms/step - loss: 0.0063 - val_loss: 0.0066\n",
      "Epoch 185/300\n",
      "60/60 [==============================] - 5s 89ms/step - loss: 0.0063 - val_loss: 0.0058\n",
      "Epoch 186/300\n",
      "60/60 [==============================] - 5s 84ms/step - loss: 0.0065 - val_loss: 0.0060\n",
      "Epoch 187/300\n",
      "60/60 [==============================] - 5s 84ms/step - loss: 0.0064 - val_loss: 0.0081\n",
      "Epoch 188/300\n",
      "60/60 [==============================] - 5s 85ms/step - loss: 0.0064 - val_loss: 0.0059\n",
      "Epoch 189/300\n",
      "60/60 [==============================] - 5s 89ms/step - loss: 0.0064 - val_loss: 0.0061\n",
      "Epoch 190/300\n",
      "60/60 [==============================] - 5s 84ms/step - loss: 0.0063 - val_loss: 0.0076\n",
      "Epoch 191/300\n",
      "60/60 [==============================] - 5s 84ms/step - loss: 0.0063 - val_loss: 0.0062\n",
      "Epoch 192/300\n",
      "60/60 [==============================] - 5s 84ms/step - loss: 0.0061 - val_loss: 0.0067\n",
      "Epoch 193/300\n",
      "60/60 [==============================] - 5s 84ms/step - loss: 0.0063 - val_loss: 0.0059\n",
      "Epoch 194/300\n",
      "60/60 [==============================] - 5s 90ms/step - loss: 0.0065 - val_loss: 0.0065\n",
      "Epoch 195/300\n",
      "60/60 [==============================] - 5s 84ms/step - loss: 0.0064 - val_loss: 0.0066\n",
      "Epoch 196/300\n",
      "60/60 [==============================] - 5s 85ms/step - loss: 0.0064 - val_loss: 0.0056\n",
      "Epoch 197/300\n",
      "60/60 [==============================] - 5s 84ms/step - loss: 0.0064 - val_loss: 0.0056\n",
      "Epoch 198/300\n",
      "60/60 [==============================] - 5s 85ms/step - loss: 0.0063 - val_loss: 0.0085\n",
      "Epoch 199/300\n",
      "60/60 [==============================] - 5s 84ms/step - loss: 0.0063 - val_loss: 0.0061\n",
      "Epoch 200/300\n",
      "60/60 [==============================] - 5s 90ms/step - loss: 0.0063 - val_loss: 0.0060\n",
      "Epoch 201/300\n",
      "60/60 [==============================] - 5s 85ms/step - loss: 0.0062 - val_loss: 0.0085\n",
      "Epoch 202/300\n",
      "60/60 [==============================] - 5s 85ms/step - loss: 0.0065 - val_loss: 0.0066\n",
      "Epoch 203/300\n",
      "60/60 [==============================] - 5s 85ms/step - loss: 0.0065 - val_loss: 0.0058\n",
      "Epoch 204/300\n",
      "60/60 [==============================] - 5s 90ms/step - loss: 0.0064 - val_loss: 0.0067\n",
      "Epoch 205/300\n",
      "60/60 [==============================] - 5s 85ms/step - loss: 0.0064 - val_loss: 0.0060\n",
      "Epoch 206/300\n",
      "60/60 [==============================] - 5s 84ms/step - loss: 0.0062 - val_loss: 0.0059\n",
      "Epoch 207/300\n",
      "60/60 [==============================] - 5s 86ms/step - loss: 0.0061 - val_loss: 0.0061\n",
      "Epoch 208/300\n",
      "60/60 [==============================] - 5s 86ms/step - loss: 0.0060 - val_loss: 0.0061\n",
      "Epoch 209/300\n",
      "60/60 [==============================] - 5s 89ms/step - loss: 0.0061 - val_loss: 0.0065\n",
      "Epoch 210/300\n",
      "60/60 [==============================] - 5s 85ms/step - loss: 0.0062 - val_loss: 0.0063\n",
      "Epoch 211/300\n",
      "60/60 [==============================] - 5s 85ms/step - loss: 0.0062 - val_loss: 0.0064\n",
      "Epoch 212/300\n",
      "60/60 [==============================] - 6s 95ms/step - loss: 0.0062 - val_loss: 0.0064\n",
      "Epoch 213/300\n",
      "60/60 [==============================] - 6s 99ms/step - loss: 0.0062 - val_loss: 0.0058\n",
      "Epoch 214/300\n",
      "60/60 [==============================] - 6s 92ms/step - loss: 0.0062 - val_loss: 0.0062\n",
      "Epoch 215/300\n",
      "60/60 [==============================] - 5s 89ms/step - loss: 0.0061 - val_loss: 0.0061\n",
      "Epoch 216/300\n",
      "60/60 [==============================] - 5s 87ms/step - loss: 0.0062 - val_loss: 0.0058\n",
      "Epoch 217/300\n",
      "60/60 [==============================] - 5s 90ms/step - loss: 0.0064 - val_loss: 0.0062\n",
      "Epoch 218/300\n",
      "60/60 [==============================] - 5s 86ms/step - loss: 0.0062 - val_loss: 0.0061\n",
      "Epoch 219/300\n",
      "60/60 [==============================] - 5s 89ms/step - loss: 0.0061 - val_loss: 0.0064\n",
      "Epoch 220/300\n",
      "60/60 [==============================] - 5s 86ms/step - loss: 0.0065 - val_loss: 0.0067\n",
      "Epoch 221/300\n",
      "60/60 [==============================] - 5s 90ms/step - loss: 0.0064 - val_loss: 0.0058\n",
      "Epoch 222/300\n",
      "60/60 [==============================] - 5s 86ms/step - loss: 0.0062 - val_loss: 0.0077\n",
      "Epoch 223/300\n",
      "60/60 [==============================] - 5s 84ms/step - loss: 0.0063 - val_loss: 0.0068\n",
      "Epoch 224/300\n",
      "60/60 [==============================] - 5s 84ms/step - loss: 0.0062 - val_loss: 0.0063\n",
      "Epoch 225/300\n",
      "60/60 [==============================] - 5s 85ms/step - loss: 0.0061 - val_loss: 0.0071\n",
      "Epoch 226/300\n",
      "60/60 [==============================] - 5s 91ms/step - loss: 0.0062 - val_loss: 0.0055\n",
      "Epoch 227/300\n",
      "60/60 [==============================] - 6s 98ms/step - loss: 0.0060 - val_loss: 0.0065\n",
      "Epoch 228/300\n",
      "60/60 [==============================] - 6s 94ms/step - loss: 0.0060 - val_loss: 0.0057\n",
      "Epoch 229/300\n",
      "60/60 [==============================] - 6s 94ms/step - loss: 0.0062 - val_loss: 0.0055\n",
      "Epoch 230/300\n",
      "60/60 [==============================] - 6s 99ms/step - loss: 0.0061 - val_loss: 0.0075\n",
      "Epoch 231/300\n",
      "60/60 [==============================] - 5s 90ms/step - loss: 0.0062 - val_loss: 0.0082\n",
      "Epoch 232/300\n",
      "60/60 [==============================] - 5s 91ms/step - loss: 0.0065 - val_loss: 0.0060\n",
      "Epoch 233/300\n",
      "60/60 [==============================] - 5s 91ms/step - loss: 0.0063 - val_loss: 0.0078\n",
      "Epoch 234/300\n",
      "60/60 [==============================] - 6s 92ms/step - loss: 0.0062 - val_loss: 0.0064\n",
      "Epoch 235/300\n",
      "60/60 [==============================] - 5s 87ms/step - loss: 0.0063 - val_loss: 0.0056\n",
      "Epoch 236/300\n",
      "60/60 [==============================] - 5s 87ms/step - loss: 0.0062 - val_loss: 0.0097\n",
      "Epoch 237/300\n",
      "60/60 [==============================] - 5s 86ms/step - loss: 0.0063 - val_loss: 0.0080\n",
      "Epoch 238/300\n",
      "60/60 [==============================] - 6s 93ms/step - loss: 0.0064 - val_loss: 0.0066\n",
      "Epoch 239/300\n",
      "60/60 [==============================] - 5s 87ms/step - loss: 0.0064 - val_loss: 0.0076\n",
      "Epoch 240/300\n",
      "60/60 [==============================] - 5s 88ms/step - loss: 0.0068 - val_loss: 0.0091\n",
      "Epoch 241/300\n",
      "60/60 [==============================] - 5s 88ms/step - loss: 0.0069 - val_loss: 0.0061\n",
      "Epoch 242/300\n",
      "60/60 [==============================] - 6s 92ms/step - loss: 0.0071 - val_loss: 0.0078\n",
      "Epoch 243/300\n",
      "60/60 [==============================] - 5s 87ms/step - loss: 0.0070 - val_loss: 0.0067\n",
      "Epoch 244/300\n",
      "60/60 [==============================] - 5s 86ms/step - loss: 0.0066 - val_loss: 0.0094\n",
      "Epoch 245/300\n",
      "60/60 [==============================] - 5s 87ms/step - loss: 0.0066 - val_loss: 0.0067\n",
      "Epoch 246/300\n",
      "60/60 [==============================] - 5s 85ms/step - loss: 0.0068 - val_loss: 0.0055\n",
      "Epoch 247/300\n",
      "60/60 [==============================] - 5s 91ms/step - loss: 0.0065 - val_loss: 0.0082\n",
      "Epoch 248/300\n",
      "60/60 [==============================] - 5s 85ms/step - loss: 0.0067 - val_loss: 0.0085\n",
      "Epoch 249/300\n",
      "60/60 [==============================] - 5s 85ms/step - loss: 0.0071 - val_loss: 0.0056\n",
      "Epoch 250/300\n",
      "60/60 [==============================] - 5s 85ms/step - loss: 0.0067 - val_loss: 0.0071\n",
      "Epoch 251/300\n",
      "60/60 [==============================] - 5s 90ms/step - loss: 0.0061 - val_loss: 0.0058\n",
      "Epoch 252/300\n",
      "60/60 [==============================] - 6s 92ms/step - loss: 0.0061 - val_loss: 0.0061\n",
      "Epoch 253/300\n",
      "60/60 [==============================] - 5s 85ms/step - loss: 0.0059 - val_loss: 0.0057\n",
      "Epoch 254/300\n",
      "60/60 [==============================] - 5s 85ms/step - loss: 0.0060 - val_loss: 0.0056\n",
      "Epoch 255/300\n",
      "60/60 [==============================] - 5s 86ms/step - loss: 0.0059 - val_loss: 0.0062\n",
      "Epoch 256/300\n",
      "60/60 [==============================] - 5s 85ms/step - loss: 0.0059 - val_loss: 0.0054\n",
      "Epoch 257/300\n",
      "60/60 [==============================] - 5s 86ms/step - loss: 0.0060 - val_loss: 0.0053\n",
      "Epoch 258/300\n",
      "60/60 [==============================] - 5s 85ms/step - loss: 0.0060 - val_loss: 0.0070\n",
      "Epoch 259/300\n",
      "60/60 [==============================] - 5s 89ms/step - loss: 0.0060 - val_loss: 0.0062\n",
      "Epoch 260/300\n",
      "60/60 [==============================] - 5s 84ms/step - loss: 0.0063 - val_loss: 0.0056\n",
      "Epoch 261/300\n",
      "60/60 [==============================] - 5s 84ms/step - loss: 0.0061 - val_loss: 0.0067\n",
      "Epoch 262/300\n",
      "60/60 [==============================] - 5s 85ms/step - loss: 0.0061 - val_loss: 0.0063\n",
      "Epoch 263/300\n",
      "60/60 [==============================] - 5s 85ms/step - loss: 0.0060 - val_loss: 0.0056\n",
      "Epoch 264/300\n",
      "60/60 [==============================] - 5s 90ms/step - loss: 0.0060 - val_loss: 0.0063\n",
      "Epoch 265/300\n",
      "60/60 [==============================] - 5s 86ms/step - loss: 0.0060 - val_loss: 0.0063\n",
      "Epoch 266/300\n",
      "60/60 [==============================] - 5s 87ms/step - loss: 0.0059 - val_loss: 0.0058\n",
      "Epoch 267/300\n",
      "60/60 [==============================] - 5s 84ms/step - loss: 0.0059 - val_loss: 0.0061\n",
      "Epoch 268/300\n",
      "60/60 [==============================] - 5s 90ms/step - loss: 0.0063 - val_loss: 0.0065\n",
      "Epoch 269/300\n",
      "60/60 [==============================] - 5s 86ms/step - loss: 0.0060 - val_loss: 0.0068\n",
      "Epoch 270/300\n",
      "60/60 [==============================] - 5s 85ms/step - loss: 0.0060 - val_loss: 0.0061\n",
      "Epoch 271/300\n",
      "60/60 [==============================] - 5s 85ms/step - loss: 0.0061 - val_loss: 0.0056\n",
      "Epoch 272/300\n",
      "60/60 [==============================] - 5s 90ms/step - loss: 0.0059 - val_loss: 0.0070\n",
      "Epoch 273/300\n",
      "60/60 [==============================] - 5s 85ms/step - loss: 0.0059 - val_loss: 0.0055\n",
      "Epoch 274/300\n",
      "60/60 [==============================] - 5s 85ms/step - loss: 0.0060 - val_loss: 0.0054\n",
      "Epoch 275/300\n",
      "60/60 [==============================] - 5s 86ms/step - loss: 0.0059 - val_loss: 0.0069\n",
      "Epoch 276/300\n",
      "60/60 [==============================] - 5s 87ms/step - loss: 0.0059 - val_loss: 0.0062\n",
      "Epoch 277/300\n",
      "60/60 [==============================] - 5s 90ms/step - loss: 0.0061 - val_loss: 0.0060\n",
      "Epoch 278/300\n",
      "60/60 [==============================] - 5s 86ms/step - loss: 0.0062 - val_loss: 0.0083\n",
      "Epoch 279/300\n",
      "60/60 [==============================] - 5s 86ms/step - loss: 0.0064 - val_loss: 0.0068\n",
      "Epoch 280/300\n",
      "60/60 [==============================] - 5s 84ms/step - loss: 0.0064 - val_loss: 0.0056\n",
      "Epoch 281/300\n",
      "60/60 [==============================] - 5s 91ms/step - loss: 0.0062 - val_loss: 0.0076\n",
      "Epoch 282/300\n",
      "60/60 [==============================] - 5s 85ms/step - loss: 0.0062 - val_loss: 0.0069\n",
      "Epoch 283/300\n",
      "60/60 [==============================] - 5s 84ms/step - loss: 0.0060 - val_loss: 0.0067\n",
      "Epoch 284/300\n",
      "60/60 [==============================] - 5s 84ms/step - loss: 0.0060 - val_loss: 0.0068\n",
      "Epoch 285/300\n",
      "60/60 [==============================] - 5s 89ms/step - loss: 0.0061 - val_loss: 0.0059\n",
      "Epoch 286/300\n",
      "60/60 [==============================] - 5s 84ms/step - loss: 0.0061 - val_loss: 0.0062\n",
      "Epoch 287/300\n",
      "60/60 [==============================] - 5s 85ms/step - loss: 0.0060 - val_loss: 0.0057\n",
      "Epoch 288/300\n",
      "60/60 [==============================] - 5s 86ms/step - loss: 0.0060 - val_loss: 0.0060\n",
      "Epoch 289/300\n",
      "60/60 [==============================] - 5s 84ms/step - loss: 0.0059 - val_loss: 0.0065\n",
      "Epoch 290/300\n",
      "60/60 [==============================] - 5s 89ms/step - loss: 0.0059 - val_loss: 0.0068\n",
      "Epoch 291/300\n",
      "60/60 [==============================] - 5s 84ms/step - loss: 0.0060 - val_loss: 0.0055\n",
      "Epoch 292/300\n",
      "60/60 [==============================] - 5s 84ms/step - loss: 0.0060 - val_loss: 0.0076\n",
      "Epoch 293/300\n",
      "60/60 [==============================] - 5s 84ms/step - loss: 0.0062 - val_loss: 0.0074\n",
      "Epoch 294/300\n",
      "60/60 [==============================] - 5s 86ms/step - loss: 0.0061 - val_loss: 0.0081\n",
      "Epoch 295/300\n",
      "60/60 [==============================] - 5s 89ms/step - loss: 0.0062 - val_loss: 0.0066\n",
      "Epoch 296/300\n",
      "60/60 [==============================] - 5s 84ms/step - loss: 0.0061 - val_loss: 0.0061\n",
      "Epoch 297/300\n",
      "60/60 [==============================] - 5s 84ms/step - loss: 0.0061 - val_loss: 0.0059\n",
      "Epoch 298/300\n",
      "60/60 [==============================] - 5s 85ms/step - loss: 0.0061 - val_loss: 0.0071\n",
      "Epoch 299/300\n",
      "60/60 [==============================] - 5s 84ms/step - loss: 0.0062 - val_loss: 0.0069\n",
      "Epoch 300/300\n",
      "60/60 [==============================] - 5s 86ms/step - loss: 0.0061 - val_loss: 0.0065\n"
     ]
    }
   ],
   "source": [
    "# from tensorflow.keras.callbacks import EarlyStopping\n",
    "# run the modelvalidat\n",
    "# early_stopping = EarlyStopping(monitor='val_loss', min_delta=0, patience=20, verbose=5, mode='auto')\n",
    "history = ae.fit(train_crops, epochs=300, steps_per_epoch=len(train_generator)*2, validation_data=val_crops, validation_steps =len(validation_generator),  verbose=1, shuffle = True)"
   ]
  },
  {
   "cell_type": "code",
   "execution_count": 20,
   "metadata": {},
   "outputs": [
    {
     "data": {
      "image/png": "[encoded data removed]",
      "text/plain": [
       "<Figure size 640x480 with 1 Axes>"
      ]
     },
     "metadata": {},
     "output_type": "display_data"
    }
   ],
   "source": [
    "\n",
    "# Get the training and validation loss values from the history object\n",
    "train_loss = history.history['loss']\n",
    "val_loss = history.history['val_loss']\n",
    "\n",
    "# Plot the training and validation loss\n",
    "epochs = range(1, len(train_loss) + 1)\n",
    "plt.plot(epochs, train_loss, 'b-', label='Training Loss')\n",
    "plt.plot(epochs, val_loss, 'r-', label='Validation Loss')\n",
    "plt.title('Training and Validation Loss')\n",
    "plt.xlabel('Epochs')\n",
    "plt.ylabel('Loss')\n",
    "plt.legend()\n",
    "plt.show()\n"
   ]
  },
  {
   "cell_type": "markdown",
   "metadata": {},
   "source": [
    "Saving the train and validation history data"
   ]
  },
  {
   "cell_type": "code",
   "execution_count": 21,
   "metadata": {},
   "outputs": [
    {
     "name": "stdout",
     "output_type": "stream",
     "text": [
      "train_loss written successfully\n",
      "val_loss written successfully\n"
     ]
    }
   ],
   "source": [
    "# open file\n",
    "with open('txtFilesAutoencoderBottles6/TrainingLoss.txt', 'w+') as g:\n",
    "    # write elements of list\n",
    "    for items in train_loss:\n",
    "        g.write('%s\\n' %items)\n",
    "    print(\"train_loss written successfully\")\n",
    "# close the file\n",
    "g.close() \n",
    "\n",
    "# open file\n",
    "with open('txtFilesAutoencoderBottles6/ValidationLoss.txt', 'w+') as g:\n",
    "    # write elements of list\n",
    "    for items in val_loss:\n",
    "        g.write('%s\\n' %items)\n",
    "    print(\"val_loss written successfully\")\n",
    "# close the file\n",
    "g.close()\n"
   ]
  },
  {
   "cell_type": "markdown",
   "metadata": {},
   "source": [
    "LOading the train and validation history data"
   ]
  },
  {
   "cell_type": "code",
   "execution_count": 22,
   "metadata": {},
   "outputs": [
    {
     "data": {
      "image/png": "[encoded data removed]",
      "text/plain": [
       "<Figure size 640x480 with 1 Axes>"
      ]
     },
     "metadata": {},
     "output_type": "display_data"
    }
   ],
   "source": [
    "# Load data from the text file\n",
    "with open(\"txtFilesAutoencoderBottles6/TrainingLoss.txt\", \"r\") as file:\n",
    "    train_loss_data = [float(line.strip()) for line in file]\n",
    "\n",
    "# Load data from the text file\n",
    "with open(\"txtFilesAutoencoderBottles6/ValidationLoss.txt\", \"r\") as file:\n",
    "    val_loss_data = [float(line.strip()) for line in file]\n",
    "\n",
    "# Plot the training and validation loss\n",
    "epochs = range(1, len(train_loss_data) + 1)\n",
    "plt.plot(epochs, train_loss_data, 'b-', label='Training Loss')\n",
    "plt.plot(epochs, val_loss_data, 'r-', label='Validation Loss')\n",
    "plt.title('Training and Validation Loss')\n",
    "plt.xlabel('Epochs')\n",
    "plt.ylabel('Loss')\n",
    "plt.legend()\n",
    "plt.show()"
   ]
  },
  {
   "cell_type": "code",
   "execution_count": 23,
   "metadata": {},
   "outputs": [],
   "source": [
    "filepath = \"models/Bottles6_playground\""
   ]
  },
  {
   "cell_type": "code",
   "execution_count": 24,
   "metadata": {},
   "outputs": [
    {
     "name": "stderr",
     "output_type": "stream",
     "text": [
      "2023-09-11 00:19:32.782670: W tensorflow/python/util/util.cc:329] Sets are not currently considered sequences, but this may change in the future, so consider avoiding using them.\n"
     ]
    },
    {
     "name": "stdout",
     "output_type": "stream",
     "text": [
      "WARNING:tensorflow:From /home/alexpc/.local/lib/python3.8/site-packages/tensorflow/python/ops/resource_variable_ops.py:1813: calling BaseResourceVariable.__init__ (from tensorflow.python.ops.resource_variable_ops) with constraint is deprecated and will be removed in a future version.\n",
      "Instructions for updating:\n",
      "If using Keras pass *_constraint arguments to layers.\n",
      "INFO:tensorflow:Assets written to: models/Bottles6_playground/assets\n"
     ]
    }
   ],
   "source": [
    "ae.save(f\"{filepath}\")"
   ]
  },
  {
   "attachments": {},
   "cell_type": "markdown",
   "metadata": {},
   "source": [
    "Loading the model that was previously saved\n"
   ]
  },
  {
   "cell_type": "code",
   "execution_count": 25,
   "metadata": {},
   "outputs": [
    {
     "name": "stdout",
     "output_type": "stream",
     "text": [
      "Model: \"model_3\"\n",
      "_________________________________________________________________\n",
      "Layer (type)                 Output Shape              Param #   \n",
      "=================================================================\n",
      "input_1 (InputLayer)         [(None, 160, 128, 3)]     0         \n",
      "_________________________________________________________________\n",
      "conv2d (Conv2D)              (None, 160, 128, 64)      1792      \n",
      "_________________________________________________________________\n",
      "max_pooling2d (MaxPooling2D) (None, 80, 64, 64)        0         \n",
      "_________________________________________________________________\n",
      "conv2d_1 (Conv2D)            (None, 80, 64, 32)        18464     \n",
      "_________________________________________________________________\n",
      "max_pooling2d_1 (MaxPooling2 (None, 40, 32, 32)        0         \n",
      "_________________________________________________________________\n",
      "conv2d_2 (Conv2D)            (None, 40, 32, 16)        4624      \n",
      "_________________________________________________________________\n",
      "max_pooling2d_2 (MaxPooling2 (None, 20, 16, 16)        0         \n",
      "_________________________________________________________________\n",
      "conv2d_3 (Conv2D)            (None, 20, 16, 4)         580       \n",
      "_________________________________________________________________\n",
      "max_pooling2d_3 (MaxPooling2 (None, 10, 8, 4)          0         \n",
      "_________________________________________________________________\n",
      "conv2d_4 (Conv2D)            (None, 10, 8, 1)          37        \n",
      "_________________________________________________________________\n",
      "flatten (Flatten)            (None, 80)                0         \n",
      "_________________________________________________________________\n",
      "dense (Dense)                (None, 80)                6480      \n",
      "_________________________________________________________________\n",
      "dense_1 (Dense)              (None, 40)                3240      \n",
      "_________________________________________________________________\n",
      "model_1 (Model)              (None, 160, 128, 3)       116203    \n",
      "=================================================================\n",
      "Total params: 151,420\n",
      "Trainable params: 151,420\n",
      "Non-trainable params: 0\n",
      "_________________________________________________________________\n"
     ]
    }
   ],
   "source": [
    "# VAE model statement\n",
    "model = Model(input_img,z_decoded)\n",
    "model.compile(optimizer='adam', loss='mean_squared_error')\n",
    "\n",
    "model.summary()"
   ]
  },
  {
   "cell_type": "code",
   "execution_count": 26,
   "metadata": {},
   "outputs": [
    {
     "name": "stdout",
     "output_type": "stream",
     "text": [
      "<class 'tensorflow.python.keras.engine.training.Model'>\n"
     ]
    }
   ],
   "source": [
    "model = keras.models.load_model(f'{filepath}')\n",
    "print(type(model))"
   ]
  },
  {
   "attachments": {},
   "cell_type": "markdown",
   "metadata": {},
   "source": [
    "# Quantifying the reconstruction error using \"evaluate_generator()\" function"
   ]
  },
  {
   "attachments": {},
   "cell_type": "markdown",
   "metadata": {},
   "source": [
    "Performing the computation of the reconstruction error of all the images in the training dataset. Computing the MSE of each image with its reconstructed version."
   ]
  },
  {
   "cell_type": "code",
   "execution_count": 27,
   "metadata": {},
   "outputs": [
    {
     "name": "stdout",
     "output_type": "stream",
     "text": [
      "WARNING:tensorflow:From /tmp/ipykernel_58832/1524259704.py:1: Model.evaluate_generator (from tensorflow.python.keras.engine.training) is deprecated and will be removed in a future version.\n",
      "Instructions for updating:\n",
      "Please use Model.evaluate, which supports generators.\n",
      "Recon. error for the training (non-anomaly) data is:  0.007476646453142166\n"
     ]
    }
   ],
   "source": [
    "\n",
    "training_error = model.evaluate_generator(train_crops, steps=len(train_generator)*2)\n",
    "print(\"Recon. error for the training (non-anomaly) data is: \", training_error)"
   ]
  },
  {
   "attachments": {},
   "cell_type": "markdown",
   "metadata": {},
   "source": [
    "# Computing the reconstruction error without using the \"evaluate_generator()\" function"
   ]
  },
  {
   "attachments": {},
   "cell_type": "markdown",
   "metadata": {},
   "source": [
    "The following function computes the reconstrution error per each batch of images. It does, for each of the batches:\n",
    "- Initialize a vector for storing the reconstruction errors.\n",
    "- A for loop that traverses all the images contained in a batch.\n",
    "    - Take the one image of the batch.\n",
    "    - Add a new size dimension to the image.\n",
    "    - Make a prediction of the selected image with the model that was built.\n",
    "    - Evaluate the performance of the prediction, i.e. compute the prediction error.\n",
    "    - Append the reconstruction error into a list.\n",
    "- Compute the mean and std deviation of the error.\n",
    " "
   ]
  },
  {
   "cell_type": "code",
   "execution_count": 28,
   "metadata": {},
   "outputs": [],
   "source": [
    "def mse(image1, image2):\n",
    "    squared_diff = np.square(image1 - image2)\n",
    "    mse_value = np.mean(squared_diff)\n",
    "    return mse_value"
   ]
  },
  {
   "cell_type": "code",
   "execution_count": 29,
   "metadata": {},
   "outputs": [],
   "source": [
    "def calc_recon_error(batch_images):   \n",
    "    recon_error_list=[]\n",
    "    for im in range(0, batch_images.shape[0]):\n",
    "        img  = batch_images[im]\n",
    "        img = img[np.newaxis, :,:,:]\n",
    "        reconstruction = model.predict([[img]])\n",
    "        # reconstruction_error = model.evaluate([reconstruction],[[img]], batch_size = 1)[0]    # The batch_size parameter for the moment can be supressed. Results were seen to be the same\n",
    "        # reconstruction_error = model.evaluate([reconstruction],[[img]])[0]                    # It included the [0] subscription but with this new model, the rec error is directly a float value, so no more need for subscription\n",
    "        reconstruction_error = mse(img[0],reconstruction[0])\n",
    "        recon_error_list.append(reconstruction_error)   \n",
    "    return recon_error_list"
   ]
  },
  {
   "cell_type": "code",
   "execution_count": 30,
   "metadata": {},
   "outputs": [
    {
     "name": "stdout",
     "output_type": "stream",
     "text": [
      "The list of rec. error contains  60 batches of rec. errors\n"
     ]
    }
   ],
   "source": [
    "total_rec_error = []\n",
    "for i in range(len(train_generator)):                               #This will traverse the train generator the number of batches it contains\n",
    "    images_in_batch, images_in_batch2 = next(train_crops)           #As for each next step of the \"train_crops\" generator it exists one batch of the augmented and one batch of the orignial images, we perform twice the calc_recon_error() function\n",
    "    batch_input_images1 = images_in_batch[0]\n",
    "    total_rec_error.append(calc_recon_error(batch_input_images1))\n",
    "    batch_input_images2 = images_in_batch2[0]\n",
    "    total_rec_error.append(calc_recon_error(batch_input_images2))\n",
    "    \n",
    "print(\"The list of rec. error contains \", len(total_rec_error), \"batches of rec. errors\")\n"
   ]
  },
  {
   "cell_type": "markdown",
   "metadata": {},
   "source": [
    "Above we can see, that it contains 60 batches and almost all of them includes 10 elements. Recall that the total number of images of the training dataset was 295. Hence in total we should have 295*2=590 error values. Let's convert it into a 590-length list."
   ]
  },
  {
   "cell_type": "code",
   "execution_count": 31,
   "metadata": {},
   "outputs": [
    {
     "name": "stdout",
     "output_type": "stream",
     "text": [
      "590\n"
     ]
    }
   ],
   "source": [
    "total_rec_error_list = [item for sublist in total_rec_error for item in sublist]\n",
    "print(len(total_rec_error_list))"
   ]
  },
  {
   "cell_type": "code",
   "execution_count": 32,
   "metadata": {},
   "outputs": [
    {
     "name": "stdout",
     "output_type": "stream",
     "text": [
      "THIS IS FOR THE TRAINING (NON-ANOMALY) IMAGES\n",
      "\n",
      "The average of the errors list is:  0.006679291954863631\n",
      "The standard deviation of the errors list is:  0.0015191878679130181\n",
      "The min value of the errors list is:  0.00419762082917865\n",
      "The max value of the errors list is:  0.014395334637249407\n"
     ]
    }
   ],
   "source": [
    "na_average_recon_error = np.mean(np.array(total_rec_error_list))  \n",
    "na_stdev_recon_error = np.std(np.array(total_rec_error_list)) \n",
    "min_prob = np.min(total_rec_error_list)\n",
    "max_prob = np.max(total_rec_error_list)\n",
    "print(\"THIS IS FOR THE TRAINING (NON-ANOMALY) IMAGES\\n\")\n",
    "print(\"The average of the errors list is: \", na_average_recon_error)\n",
    "print(\"The standard deviation of the errors list is: \", na_stdev_recon_error)\n",
    "print(\"The min value of the errors list is: \", min_prob)\n",
    "print(\"The max value of the errors list is: \", max_prob)"
   ]
  },
  {
   "cell_type": "markdown",
   "metadata": {},
   "source": [
    "Above it can be seen that computing the model.evaluate_generator() function does NOT output the same as computing the error of each image one by one. We will use this last approach, the one by one error computation."
   ]
  },
  {
   "cell_type": "markdown",
   "metadata": {},
   "source": [
    "Gaphically, the distribution of the reconstruction error values is shown below:"
   ]
  },
  {
   "cell_type": "code",
   "execution_count": 33,
   "metadata": {},
   "outputs": [
    {
     "data": {
      "image/png": "[encoded data removed]",
      "text/plain": [
       "<Figure size 640x480 with 1 Axes>"
      ]
     },
     "metadata": {},
     "output_type": "display_data"
    }
   ],
   "source": [
    "val = 0. # this is the value where you want the data to appear on the y-axis.\n",
    "plt.plot(total_rec_error_list, np.zeros_like(total_rec_error_list) + val, 'x')\n",
    "plt.show()"
   ]
  },
  {
   "cell_type": "markdown",
   "metadata": {},
   "source": [
    "Or displying in a histogram way:"
   ]
  },
  {
   "cell_type": "code",
   "execution_count": 35,
   "metadata": {},
   "outputs": [
    {
     "data": {
      "image/png": "[encoded data removed]",
      "text/plain": [
       "<Figure size 640x480 with 1 Axes>"
      ]
     },
     "metadata": {},
     "output_type": "display_data"
    }
   ],
   "source": [
    "bins = np.linspace(0.003, 0.02, 50)\n",
    "plt.hist(total_rec_error_list, bins, alpha=0.5, label='errors non-anomalies')\n",
    "plt.legend(loc='upper right')\n",
    "\n",
    "# Calculate average and standard deviation\n",
    "average = np.mean(total_rec_error_list)\n",
    "std = np.std(total_rec_error_list)\n",
    "\n",
    "# Plot average line\n",
    "plt.axvline(x=average, color='red', linestyle='--', label='Average')\n",
    "\n",
    "# Plot lines for standard deviation\n",
    "plt.axvline(x=average + std, color='black', linestyle=':', label='Average + Std')\n",
    "plt.axvline(x=average - std, color='black', linestyle=':', label='Average - Std')\n",
    "\n",
    "plt.legend()\n",
    "\n",
    "plt.show()"
   ]
  },
  {
   "cell_type": "markdown",
   "metadata": {},
   "source": [
    "# Checking the reconstruction of one sample"
   ]
  },
  {
   "cell_type": "code",
   "execution_count": 36,
   "metadata": {},
   "outputs": [
    {
     "data": {
      "image/png": "[encoded data removed]",
      "text/plain": [
       "<Figure size 1200x600 with 2 Axes>"
      ]
     },
     "metadata": {},
     "output_type": "display_data"
    }
   ],
   "source": [
    "images_in_batch, images_in_batch2 = next(train_crops)           #As for each next step of the \"train_crops\" generator it exists one batch of the augmented and one batch of the orignial images, we perform twice the calc_recon_error() function\n",
    "batch_input_images1 = images_in_batch[0]\n",
    "single_img  = batch_input_images1[0]\n",
    "single_img = single_img[np.newaxis, :,:,:]\n",
    "reconstruction = model.predict([[single_img]])\n",
    "\n",
    "plt.figure(figsize=(12, 6))\n",
    "plt.subplot(121)\n",
    "plt.title(\"input image\")\n",
    "plt.imshow(single_img[0])\n",
    "plt.subplot(122)\n",
    "plt.title(\"reconstructed image\")\n",
    "plt.imshow(reconstruction[0])\n",
    "plt.show()"
   ]
  },
  {
   "cell_type": "markdown",
   "metadata": {},
   "source": [
    "# Function to check if an image contains anomalies"
   ]
  },
  {
   "cell_type": "markdown",
   "metadata": {},
   "source": [
    "Based on the previously found histogram, its average and its standard deviation values, it can be built a function that maps the reconstruction error to a probability value of an image being considered as an anomaly or not.\n",
    "\n",
    "If the a given reconstruction value is outside the range of the standard deviation sum and subtraction to the average values, shown in the plot above, then that reconstruction error has more than 50% chance to be considered as an anomaly image."
   ]
  },
  {
   "cell_type": "code",
   "execution_count": 37,
   "metadata": {},
   "outputs": [],
   "source": [
    "def ranges_mapper(value, leftMin, leftMax, rightMin, rightMax):\n",
    "    # Figure out how 'wide' each range is\n",
    "    leftSpan = leftMax - leftMin\n",
    "    rightSpan = rightMax - rightMin\n",
    "\n",
    "    # Convert the left range into a 0-1 range (float)\n",
    "    valueScaled = float(value - leftMin) / float(leftSpan)\n",
    "\n",
    "    # Convert the 0-1 range into a value in the right range.\n",
    "    return rightMin + (valueScaled * rightSpan)"
   ]
  },
  {
   "cell_type": "code",
   "execution_count": 38,
   "metadata": {},
   "outputs": [],
   "source": [
    "def map_error2prob(value):\n",
    "    # Calculate the mean and standard deviation\n",
    "    mean = na_average_recon_error\n",
    "    std_dev = na_stdev_recon_error\n",
    "    aux_score = value - mean\n",
    "    prob_score = ranges_mapper(abs(aux_score), 0, std_dev, 0, 50)\n",
    "    if prob_score<0:\n",
    "        prob_score = 0\n",
    "    if prob_score>100:\n",
    "        prob_score = 100\n",
    "    return prob_score"
   ]
  },
  {
   "cell_type": "markdown",
   "metadata": {},
   "source": [
    "Testing a reconstruction error. Verifying that given some reconstruction error, the probability value is the one we expect. "
   ]
  },
  {
   "cell_type": "code",
   "execution_count": 39,
   "metadata": {},
   "outputs": [
    {
     "name": "stdout",
     "output_type": "stream",
     "text": [
      "49.99999999999998\n"
     ]
    }
   ],
   "source": [
    "print(map_error2prob(na_average_recon_error + na_stdev_recon_error))"
   ]
  },
  {
   "cell_type": "code",
   "execution_count": 40,
   "metadata": {},
   "outputs": [],
   "source": [
    "def map_error2prob_list(input_list):\n",
    "    # Calculate the mean and standard deviation\n",
    "    mean = na_average_recon_error\n",
    "    std_dev = na_stdev_recon_error\n",
    "    prob_score_list = []\n",
    "    for i in range (len(input_list)):\n",
    "        aux_score = input_list[i] - mean\n",
    "        prob_score = ranges_mapper(abs(aux_score), 0, std_dev, 0, 50)\n",
    "        if prob_score<0:\n",
    "            prob_score = 0\n",
    "        if prob_score>100:\n",
    "            prob_score = 100\n",
    "        prob_score_list.append(prob_score)\n",
    "    return prob_score_list"
   ]
  },
  {
   "cell_type": "markdown",
   "metadata": {},
   "source": [
    "# Validating the performance of the model with reconstruction error directly"
   ]
  },
  {
   "cell_type": "markdown",
   "metadata": {},
   "source": [
    "We will use the validation data set to find the best threshold value for predicting an image as anomaly or non-anomaly."
   ]
  },
  {
   "cell_type": "code",
   "execution_count": 41,
   "metadata": {},
   "outputs": [],
   "source": [
    "def calc_recon_error_for_val_eval(batch_images,batch_labels):   \n",
    "    recon_error_list=[]\n",
    "    labels_list = []\n",
    "    for im in range(0, batch_images.shape[0]):\n",
    "        label = batch_labels[im]\n",
    "        img  = batch_images[im]\n",
    "        img = img[np.newaxis, :,:,:]\n",
    "        reconstruction = model.predict([[img]])\n",
    "        # reconstruction_error = model.evaluate([reconstruction],[[img]], batch_size = 1)[0]    # The batch_size parameter for the moment can be supressed. Results were seen to be the same\n",
    "        # reconstruction_error = model.evaluate([reconstruction],[[img]])[0]                    # It included the [0] subscription but with this new model, the rec error is directly a float value, so no more need for subscription\n",
    "        reconstruction_error = mse(img[0],reconstruction[0])\n",
    "        recon_error_list.append(reconstruction_error)   \n",
    "        labels_list.append(label)\n",
    "    return recon_error_list, labels_list"
   ]
  },
  {
   "cell_type": "code",
   "execution_count": 42,
   "metadata": {},
   "outputs": [
    {
     "name": "stdout",
     "output_type": "stream",
     "text": [
      "The list of rec. error contains  3 batches of rec. errors\n"
     ]
    }
   ],
   "source": [
    "total_rec_error_val = []\n",
    "labels_list = []\n",
    "for i in range(len(validation_generator_for_threshold)):                               #This will traverse the train generator the number of batches it contains\n",
    "    images_in_batch, images_labels = next(val_crops_for_threshold)           #As for each next step of the \"train_crops\" generator it exists one batch of the augmented and one batch of the orignial images, we perform twice the calc_recon_error() function\n",
    "    rec_errors, labels = calc_recon_error_for_val_eval(images_in_batch,images_labels)\n",
    "    total_rec_error_val.append(rec_errors)\n",
    "    labels_list.append(labels)\n",
    "    \n",
    "print(\"The list of rec. error contains \", len(total_rec_error_val), \"batches of rec. errors\")"
   ]
  },
  {
   "cell_type": "code",
   "execution_count": 43,
   "metadata": {},
   "outputs": [
    {
     "name": "stdout",
     "output_type": "stream",
     "text": [
      "The reconstruction error list is:  [0.008797862066761569, 0.008058964243640176, 0.008074994778359127, 0.007862739014763033, 0.007218425464864108, 0.008273448993828501, 0.008391830556121587, 0.008385490691280174, 0.009149489251217757, 0.008956653776818283, 0.008616628070108854, 0.01053264494265967, 0.010363598689427628, 0.009543245999775605, 0.009943448083707741, 0.009387973684854877, 0.009085890985061894, 0.0065305930761454445, 0.005571916646984984, 0.00692167663685942, 0.00851753008404781, 0.014326063531862599, 0.01013525391372551, 0.006109970714854576, 0.0145501818574681, 0.008089871408134209, 0.008396742363189536, 0.006806132589649012, 0.009001666401811242, 0.005976644468324324]\n",
      "The ground truth labels are:  [0.0, 0.0, 0.0, 0.0, 0.0, 0.0, 0.0, 0.0, 0.0, 0.0, 0.0, 0.0, 0.0, 0.0, 0.0, 0.0, 0.0, 0.0, 0.0, 0.0, 1.0, 1.0, 1.0, 1.0, 1.0, 1.0, 1.0, 1.0, 1.0, 1.0]\n"
     ]
    }
   ],
   "source": [
    "total_rec_error_val_list = [item for sublist in total_rec_error_val for item in sublist]\n",
    "y_true = [item for sublist in labels_list for item in sublist]\n",
    "print(\"The reconstruction error list is: \", total_rec_error_val_list)\n",
    "print(\"The ground truth labels are: \", y_true)"
   ]
  },
  {
   "cell_type": "code",
   "execution_count": 44,
   "metadata": {},
   "outputs": [
    {
     "name": "stdout",
     "output_type": "stream",
     "text": [
      "AUC =  0.51\n"
     ]
    }
   ],
   "source": [
    "from sklearn import metrics\n",
    "print('AUC = ', metrics.roc_auc_score(y_true, total_rec_error_val_list))"
   ]
  },
  {
   "cell_type": "code",
   "execution_count": 45,
   "metadata": {},
   "outputs": [
    {
     "data": {
      "image/png": "[encoded data removed]",
      "text/plain": [
       "<Figure size 640x480 with 1 Axes>"
      ]
     },
     "metadata": {},
     "output_type": "display_data"
    }
   ],
   "source": [
    "fpr, tpr, thresholds = metrics.roc_curve(y_true, total_rec_error_val_list)\n",
    "plt.plot(fpr, tpr, marker='.', label='AUROC = %0.3f' % metrics.roc_auc_score(y_true, total_rec_error_val_list))\n",
    "# Title\n",
    "plt.title('ROC Plot')\n",
    "# Axis labels\n",
    "plt.xlabel('False Positive Rate')\n",
    "plt.ylabel('True Positive Rate')\n",
    "# Show legend\n",
    "plt.legend() # \n",
    "# Show plot\n",
    "plt.show()"
   ]
  },
  {
   "cell_type": "code",
   "execution_count": 46,
   "metadata": {},
   "outputs": [
    {
     "name": "stdout",
     "output_type": "stream",
     "text": [
      "The fpr is:  [0.   0.   0.   0.1  0.1  0.35 0.35 0.5  0.5  0.65 0.65 0.9  0.9  0.95\n",
      " 0.95 1.  ]\n",
      "The tpr is:  [0.  0.1 0.2 0.2 0.3 0.3 0.4 0.4 0.6 0.6 0.7 0.7 0.8 0.8 1.  1. ]\n",
      "The thresholds are:  [1.01455018 0.01455018 0.01432606 0.0103636  0.01013525 0.00908589\n",
      " 0.00900167 0.00861663 0.00839674 0.00827345 0.00808987 0.00692168\n",
      " 0.00680613 0.00653059 0.00597664 0.00557192]\n"
     ]
    }
   ],
   "source": [
    "print(\"The fpr is: \", fpr)\n",
    "print(\"The tpr is: \", tpr)\n",
    "print(\"The thresholds are: \", thresholds)"
   ]
  },
  {
   "cell_type": "markdown",
   "metadata": {},
   "source": [
    "The best threshold value for this is: 0.00605438 , let's asses this."
   ]
  },
  {
   "cell_type": "code",
   "execution_count": 47,
   "metadata": {},
   "outputs": [],
   "source": [
    "def pred_label_onProb(probs_list, prob_threshold):\n",
    "    pred_based_onProb = []\n",
    "    for i in range (len(probs_list)):\n",
    "        if probs_list[i] > prob_threshold:\n",
    "            prediction = 1                          ## Stands for classifiaction of anomaly bottle\n",
    "        else:\n",
    "            prediction = 0\n",
    "        pred_based_onProb.append(prediction)\n",
    "    return pred_based_onProb"
   ]
  },
  {
   "cell_type": "code",
   "execution_count": 48,
   "metadata": {},
   "outputs": [],
   "source": [
    "# from tensorflow.keras.metrics import Precision, Recall, BinaryAccuracy, SpecificityAtSensitivity\n",
    "from sklearn.metrics import confusion_matrix"
   ]
  },
  {
   "cell_type": "code",
   "execution_count": 49,
   "metadata": {},
   "outputs": [],
   "source": [
    "best_threshold_approach1 =  0.00557192"
   ]
  },
  {
   "cell_type": "code",
   "execution_count": 50,
   "metadata": {},
   "outputs": [
    {
     "name": "stdout",
     "output_type": "stream",
     "text": [
      "[[ 1 19]\n",
      " [ 0 10]]\n",
      "The FPR values are:  0.95\n",
      "The TPR values are:  1.0\n",
      "Using the threshold =  0.00557192\n"
     ]
    }
   ],
   "source": [
    "conf_matrix = confusion_matrix(y_true, pred_label_onProb(total_rec_error_val_list, best_threshold_approach1))\n",
    "print(conf_matrix)\n",
    "_tp = conf_matrix[1, 1]\n",
    "_fn = conf_matrix[1, 0]\n",
    "_fp = conf_matrix[0, 1]\n",
    "_tn = conf_matrix[0, 0]\n",
    "_tpr = _tp/(_tp+_fn)\n",
    "_fpr = _fp / (_tn + _fp)\n",
    "print(\"The FPR values are: \", _fpr)\n",
    "print(\"The TPR values are: \", _tpr)\n",
    "print(\"Using the threshold = \", best_threshold_approach1)"
   ]
  },
  {
   "cell_type": "markdown",
   "metadata": {},
   "source": [
    "# Validating the performance of the model with the mapping of the reconstruction error to a probability value"
   ]
  },
  {
   "cell_type": "code",
   "execution_count": 51,
   "metadata": {},
   "outputs": [
    {
     "name": "stdout",
     "output_type": "stream",
     "text": [
      "The probability list is:  [69.72706130178355, 45.40821836182338, 45.93582047929466, 38.94999048159727, 17.74413558018701, 52.46740948355652, 56.36362155822615, 56.154961886327825, 81.29992835407366, 74.95326516407658, 63.76222968087005, 100, 100, 94.2593771778314, 100, 89.14900478083374, 79.2067617517353, 4.894025349296057, 36.4462924983696, 7.97744265588312, 60.500684872814794, 100, 100, 18.73768386497055, 100, 46.42544490591407, 56.525280533119634, 4.1746197907579425, 76.43473516339915, 23.12576019661636]\n",
      "The ground truth labels are:  [0.0, 0.0, 0.0, 0.0, 0.0, 0.0, 0.0, 0.0, 0.0, 0.0, 0.0, 0.0, 0.0, 0.0, 0.0, 0.0, 0.0, 0.0, 0.0, 0.0, 1.0, 1.0, 1.0, 1.0, 1.0, 1.0, 1.0, 1.0, 1.0, 1.0]\n"
     ]
    }
   ],
   "source": [
    "probs_list = map_error2prob_list(total_rec_error_val_list)\n",
    "print(\"The probability list is: \", probs_list)\n",
    "print(\"The ground truth labels are: \", y_true)"
   ]
  },
  {
   "cell_type": "code",
   "execution_count": 52,
   "metadata": {},
   "outputs": [
    {
     "name": "stdout",
     "output_type": "stream",
     "text": [
      "AUC =  0.5075000000000001\n"
     ]
    }
   ],
   "source": [
    "from sklearn import metrics\n",
    "print('AUC = ', metrics.roc_auc_score(y_true, probs_list))"
   ]
  },
  {
   "cell_type": "code",
   "execution_count": 53,
   "metadata": {},
   "outputs": [
    {
     "data": {
      "image/png": "[encoded data removed]",
      "text/plain": [
       "<Figure size 640x480 with 1 Axes>"
      ]
     },
     "metadata": {},
     "output_type": "display_data"
    }
   ],
   "source": [
    "fpr, tpr, thresholds = metrics.roc_curve(y_true, probs_list)\n",
    "plt.plot(fpr, tpr, marker='.', label='AUROC = %0.3f' % metrics.roc_auc_score(y_true, probs_list))\n",
    "# Title\n",
    "plt.title('ROC Plot')\n",
    "# Axis labels\n",
    "plt.xlabel('False Positive Rate')\n",
    "plt.ylabel('True Positive Rate')\n",
    "# Show legend\n",
    "plt.legend() # \n",
    "# Show plot\n",
    "plt.show()"
   ]
  },
  {
   "cell_type": "code",
   "execution_count": 54,
   "metadata": {},
   "outputs": [
    {
     "name": "stdout",
     "output_type": "stream",
     "text": [
      "The fpr is:  [0.   0.15 0.35 0.35 0.5  0.5  0.65 0.65 0.85 0.85 1.   1.  ]\n",
      "The tpr is:  [0.  0.3 0.3 0.4 0.4 0.6 0.6 0.7 0.7 0.9 0.9 1. ]\n",
      "The thresholds are:  [101.         100.          79.20676175  76.43473516  63.76222968\n",
      "  56.52528053  52.46740948  46.42544491  36.4462925   18.73768386\n",
      "   4.89402535   4.17461979]\n"
     ]
    }
   ],
   "source": [
    "print(\"The fpr is: \", fpr)\n",
    "print(\"The tpr is: \", tpr)\n",
    "print(\"The thresholds are: \", thresholds)"
   ]
  },
  {
   "cell_type": "markdown",
   "metadata": {},
   "source": [
    "The best threshold in terms of FPR and TPR is 100-18.85658911. Let's asses that."
   ]
  },
  {
   "cell_type": "code",
   "execution_count": 55,
   "metadata": {},
   "outputs": [],
   "source": [
    "best_threshold_approach2 =     4.89402535 "
   ]
  },
  {
   "cell_type": "code",
   "execution_count": 56,
   "metadata": {},
   "outputs": [
    {
     "name": "stdout",
     "output_type": "stream",
     "text": [
      "[[ 1 19]\n",
      " [ 1  9]]\n",
      "The FPR values are:  0.95\n",
      "The TPR values are:  0.9\n",
      "Using the threshold =   4.89402535\n"
     ]
    }
   ],
   "source": [
    "conf_matrix = confusion_matrix(y_true, pred_label_onProb(probs_list,  best_threshold_approach2))\n",
    "print(conf_matrix)\n",
    "_tp = conf_matrix[1, 1]\n",
    "_fn = conf_matrix[1, 0]\n",
    "_fp = conf_matrix[0, 1]\n",
    "_tn = conf_matrix[0, 0]\n",
    "_tpr = _tp/(_tp+_fn)\n",
    "_fpr = _fp / (_tn + _fp)\n",
    "print(\"The FPR values are: \", _fpr)\n",
    "print(\"The TPR values are: \", _tpr)\n",
    "print(\"Using the threshold =  \", best_threshold_approach2)"
   ]
  },
  {
   "cell_type": "markdown",
   "metadata": {},
   "source": [
    "# Evaluating the model. With the threhsold value of the direct reconstruction error"
   ]
  },
  {
   "cell_type": "code",
   "execution_count": 57,
   "metadata": {},
   "outputs": [
    {
     "name": "stdout",
     "output_type": "stream",
     "text": [
      "The list of rec. error contains  3 batches of rec. errors\n"
     ]
    }
   ],
   "source": [
    "total_rec_error_eval = []\n",
    "labels_list_eval = []\n",
    "for i in range(len(test_set_generator)):                               #This will traverse the train generator the number of batches it contains\n",
    "    images_in_batch, images_labels = next(test_crops)           #As for each next step of the \"train_crops\" generator it exists one batch of the augmented and one batch of the orignial images, we perform twice the calc_recon_error() function\n",
    "    rec_errors, labels = calc_recon_error_for_val_eval(images_in_batch,images_labels)\n",
    "    total_rec_error_eval.append(rec_errors)\n",
    "    labels_list_eval.append(labels)\n",
    "    \n",
    "print(\"The list of rec. error contains \", len(total_rec_error_eval), \"batches of rec. errors\")"
   ]
  },
  {
   "cell_type": "code",
   "execution_count": 58,
   "metadata": {},
   "outputs": [
    {
     "name": "stdout",
     "output_type": "stream",
     "text": [
      "The reconstruction error list is:  [0.005534207375942069, 0.005701811411603761, 0.006043567600842283, 0.005985605801572694, 0.006146631013271965, 0.0062864764247281555, 0.006837922102216, 0.006231127308423556, 0.005518683212595581, 0.005771043966489102, 0.005663153815208549, 0.005977619659351444, 0.0054107114498510205, 0.0059941389787879235, 0.006247563451720451, 0.005536164583250655, 0.012287485256593685, 0.010814899961898087, 0.006791331502852557, 0.005312693142138638, 0.006806132589649012, 0.009198499470216193, 0.009001666401811242, 0.005976644468324324, 0.014326063531862599, 0.005451900428490935, 0.008608048579935473, 0.006939990102021937, 0.01361606398470931, 0.01132817794130495]\n",
      "The ground truth labels are:  [0.0, 0.0, 0.0, 0.0, 0.0, 0.0, 0.0, 0.0, 0.0, 0.0, 0.0, 0.0, 0.0, 0.0, 0.0, 0.0, 0.0, 0.0, 0.0, 0.0, 1.0, 1.0, 1.0, 1.0, 1.0, 1.0, 1.0, 1.0, 1.0, 1.0]\n"
     ]
    }
   ],
   "source": [
    "total_rec_error_eval_list = [item for sublist in total_rec_error_eval for item in sublist]\n",
    "y_true = [item for sublist in labels_list_eval for item in sublist]\n",
    "print(\"The reconstruction error list is: \", total_rec_error_eval_list)\n",
    "print(\"The ground truth labels are: \", y_true)"
   ]
  },
  {
   "cell_type": "code",
   "execution_count": 59,
   "metadata": {},
   "outputs": [
    {
     "name": "stdout",
     "output_type": "stream",
     "text": [
      "[[ 5 15]\n",
      " [ 1  9]]\n",
      "The FPR values are:  0.75\n",
      "The TPR values are:  0.9\n",
      "Using the threshold =  0.00557192\n"
     ]
    }
   ],
   "source": [
    "conf_matrix = confusion_matrix(y_true, pred_label_onProb(total_rec_error_eval_list, best_threshold_approach1))\n",
    "print(conf_matrix)\n",
    "_tp = conf_matrix[1, 1]\n",
    "_fn = conf_matrix[1, 0]\n",
    "_fp = conf_matrix[0, 1]\n",
    "_tn = conf_matrix[0, 0]\n",
    "_tpr = _tp/(_tp+_fn)\n",
    "_fpr = _fp / (_tn + _fp)\n",
    "print(\"The FPR values are: \", _fpr)\n",
    "print(\"The TPR values are: \", _tpr)\n",
    "print(\"Using the threshold = \", best_threshold_approach1)"
   ]
  },
  {
   "cell_type": "code",
   "execution_count": 60,
   "metadata": {},
   "outputs": [],
   "source": [
    "def computePredList(probs_list, threshold_value):\n",
    "    pred = 0\n",
    "    pred_list =[]\n",
    "    for i in range (len(probs_list)):\n",
    "        if probs_list[i] > threshold_value:              # Working with a threshold of 50%\n",
    "            pred = 1\n",
    "        else:\n",
    "            pred = 0\n",
    "        pred_list.append(pred)\n",
    "    return pred_list"
   ]
  },
  {
   "cell_type": "code",
   "execution_count": 61,
   "metadata": {},
   "outputs": [
    {
     "name": "stdout",
     "output_type": "stream",
     "text": [
      "The groudn truth is:  [0. 0. 0. 0. 0. 0. 0. 0. 0. 0. 0. 0. 0. 0. 0. 0. 0. 0. 0. 0. 1. 1. 1. 1.\n",
      " 1. 1. 1. 1. 1. 1.]\n",
      "The predicted label is:  [0, 1, 1, 1, 1, 1, 1, 1, 0, 1, 1, 1, 0, 1, 1, 0, 1, 1, 1, 0, 1, 1, 1, 1, 1, 0, 1, 1, 1, 1]\n"
     ]
    }
   ],
   "source": [
    "y_pred = computePredList(total_rec_error_eval_list, best_threshold_approach1)\n",
    "print(\"The groudn truth is: \", np.array(y_true))\n",
    "print(\"The predicted label is: \", y_pred)"
   ]
  },
  {
   "cell_type": "markdown",
   "metadata": {},
   "source": [
    "# Applying evaluation metrics to these results"
   ]
  },
  {
   "cell_type": "markdown",
   "metadata": {},
   "source": [
    "## Computing the confusion matrix"
   ]
  },
  {
   "cell_type": "code",
   "execution_count": 74,
   "metadata": {},
   "outputs": [],
   "source": [
    "from sklearn.metrics import confusion_matrix\n",
    "import pandas as pd\n",
    "import seaborn as sn"
   ]
  },
  {
   "cell_type": "code",
   "execution_count": 75,
   "metadata": {},
   "outputs": [
    {
     "name": "stdout",
     "output_type": "stream",
     "text": [
      "[[19  1]\n",
      " [ 1  9]]\n"
     ]
    }
   ],
   "source": [
    "conf_matrix = confusion_matrix(y_true, y_pred)\n",
    "print(conf_matrix)"
   ]
  },
  {
   "cell_type": "code",
   "execution_count": 76,
   "metadata": {},
   "outputs": [
    {
     "data": {
      "text/plain": [
       "Text(0.5, 23.52222222222222, 'Predicted label')"
      ]
     },
     "execution_count": 76,
     "metadata": {},
     "output_type": "execute_result"
    },
    {
     "data": {
      "image/png": "[encoded data removed]",
      "text/plain": [
       "<Figure size 640x480 with 2 Axes>"
      ]
     },
     "metadata": {},
     "output_type": "display_data"
    }
   ],
   "source": [
    "group_names = ['True Neg','False Pos','False Neg','True Pos']\n",
    "group_counts = [\"{0:0.0f}\".format(value) for value in\n",
    "                conf_matrix.flatten()]\n",
    "group_percentages = [\"{0:.2%}\".format(value) for value in\n",
    "                     conf_matrix.flatten()/np.sum(conf_matrix)]\n",
    "labels = [f\"{v1}\\n{v2}\\n{v3}\" for v1, v2, v3 in\n",
    "          zip(group_names,group_counts,group_percentages)]        #To print the group names as well \n",
    "\n",
    "labels = np.asarray(labels).reshape(2,2)\n",
    "categories = ['Positive bottles', 'Anomaly bottles']\n",
    "sn.heatmap(conf_matrix, annot=labels, fmt='', xticklabels=categories,yticklabels=categories, cmap='Blues')\n",
    "plt.ylabel('True label')\n",
    "plt.xlabel('Predicted label')"
   ]
  },
  {
   "cell_type": "code",
   "execution_count": 77,
   "metadata": {},
   "outputs": [
    {
     "name": "stdout",
     "output_type": "stream",
     "text": [
      "The FPR values are:  0.05\n",
      "The TPR values are:  0.9\n"
     ]
    }
   ],
   "source": [
    "_tp = conf_matrix[1, 1]\n",
    "_fn = conf_matrix[1, 0]\n",
    "_fp = conf_matrix[0, 1]\n",
    "_tn = conf_matrix[0, 0]\n",
    "_tpr = _tp/(_tp+_fn)\n",
    "_fpr = _fp / (_tn + _fp)\n",
    "print(\"The FPR values are: \", _fpr)\n",
    "print(\"The TPR values are: \", _tpr)"
   ]
  },
  {
   "cell_type": "markdown",
   "metadata": {},
   "source": [
    "## Precision metric"
   ]
  },
  {
   "cell_type": "markdown",
   "metadata": {},
   "source": [
    "Precision = True positives / (True positives + False positives).\n",
    "\n",
    "Answers the question: Which proportion of positive predictions is actually right?"
   ]
  },
  {
   "cell_type": "code",
   "execution_count": 78,
   "metadata": {},
   "outputs": [
    {
     "name": "stdout",
     "output_type": "stream",
     "text": [
      "The precision is:  0.9\n"
     ]
    }
   ],
   "source": [
    "precision = _tp/(_tp+_fp)\n",
    "print(\"The precision is: \", precision)\n"
   ]
  },
  {
   "cell_type": "markdown",
   "metadata": {},
   "source": [
    "## Recall metric"
   ]
  },
  {
   "cell_type": "markdown",
   "metadata": {},
   "source": [
    "Recall = TruePositives / (TruePositives + FalseNegatives)\n",
    "\n",
    "This metric is also called \"sensitiviy\" and TPR \"True Positive Rate\". It responds how good is the model at catching YESes?"
   ]
  },
  {
   "cell_type": "code",
   "execution_count": 79,
   "metadata": {},
   "outputs": [
    {
     "name": "stdout",
     "output_type": "stream",
     "text": [
      "The recall is:  0.9\n"
     ]
    }
   ],
   "source": [
    "recall = _tp/(_tp+_fn)\n",
    "print(\"The recall is: \", recall)"
   ]
  },
  {
   "cell_type": "markdown",
   "metadata": {},
   "source": [
    "## Specificity"
   ]
  },
  {
   "cell_type": "markdown",
   "metadata": {},
   "source": [
    "Specificity = True negatives / (True negatives + false positives)\n",
    "\n",
    "The specificity metric is the opposite as sensitivity, it tells us how good is the model at catching NOes. It measures the proportion of actual negatives that are correctly identified as such."
   ]
  },
  {
   "cell_type": "code",
   "execution_count": 80,
   "metadata": {},
   "outputs": [
    {
     "name": "stdout",
     "output_type": "stream",
     "text": [
      "The specificity is:  0.95\n"
     ]
    }
   ],
   "source": [
    "spec = _tn/(_tn+_fp)\n",
    "print(\"The specificity is: \", spec)"
   ]
  },
  {
   "cell_type": "markdown",
   "metadata": {},
   "source": [
    "## Accuracy"
   ]
  },
  {
   "cell_type": "markdown",
   "metadata": {},
   "source": [
    "Accuracy = (True negatives + True positives) / (True positives + True negatives + False positives + False negatives)"
   ]
  },
  {
   "cell_type": "code",
   "execution_count": 81,
   "metadata": {},
   "outputs": [
    {
     "name": "stdout",
     "output_type": "stream",
     "text": [
      "The accuracy is:  0.9333333333333333\n"
     ]
    }
   ],
   "source": [
    "acc = (_tn+_tp)/(_tn+_tp +_fp + _fn)\n",
    "print(\"The accuracy is: \", acc)"
   ]
  },
  {
   "cell_type": "markdown",
   "metadata": {},
   "source": [
    "## The ROC curve"
   ]
  },
  {
   "cell_type": "code",
   "execution_count": 82,
   "metadata": {},
   "outputs": [],
   "source": [
    "from sklearn.metrics import roc_curve, roc_auc_score\n"
   ]
  },
  {
   "cell_type": "markdown",
   "metadata": {},
   "source": [
    "Rather than the prediction of each sample (0 or 1 values) we need the probability of the samples to be predicted as an anomaly image. Hence, we compute this probability"
   ]
  },
  {
   "cell_type": "code",
   "execution_count": 83,
   "metadata": {},
   "outputs": [
    {
     "name": "stdout",
     "output_type": "stream",
     "text": [
      "AUROC = 0.965\n",
      "The fpr is:  [0.   0.   0.   0.05 0.05 0.1  0.1  1.  ]\n",
      "The tpr is:  [0.  0.1 0.4 0.4 0.9 0.9 1.  1. ]\n",
      "The thresholds are:  [1.01209511 0.01209511 0.00885612 0.00852386 0.00627448 0.00580831\n",
      " 0.00554858 0.00367905]\n"
     ]
    }
   ],
   "source": [
    "auc_score = roc_auc_score(y_true, total_rec_error_eval_list)\n",
    "print('AUROC = %.3f' % (auc_score))\n",
    "fpr, tpr, thresholds = roc_curve(y_true, total_rec_error_eval_list)\n",
    "print(\"The fpr is: \", fpr)\n",
    "print(\"The tpr is: \", tpr)\n",
    "print(\"The thresholds are: \", thresholds)"
   ]
  },
  {
   "cell_type": "code",
   "execution_count": 84,
   "metadata": {},
   "outputs": [
    {
     "data": {
      "image/png": "[encoded data removed]",
      "text/plain": [
       "<Figure size 640x480 with 1 Axes>"
      ]
     },
     "metadata": {},
     "output_type": "display_data"
    }
   ],
   "source": [
    "plt.plot(fpr, tpr, marker='.', label='AUROC = %0.3f' % auc_score)\n",
    "# Title\n",
    "plt.title('ROC Plot')\n",
    "# Axis labels\n",
    "plt.xlabel('False Positive Rate')\n",
    "plt.ylabel('True Positive Rate')\n",
    "# Show legend\n",
    "plt.legend() # \n",
    "# Show plot\n",
    "plt.show()"
   ]
  },
  {
   "cell_type": "markdown",
   "metadata": {},
   "source": [
    "# Evaluating the model. With the threhsold value computed from a probability value upon the reconstruction errors"
   ]
  },
  {
   "cell_type": "code",
   "execution_count": 62,
   "metadata": {},
   "outputs": [
    {
     "name": "stdout",
     "output_type": "stream",
     "text": [
      "The probability list is:  [37.68739216218926, 32.17115420368262, 20.923164522590408, 22.830821912891107, 17.531108325773054, 12.928471140146264, 5.220886458574962, 14.750139067913324, 38.1983284220942, 29.892550077504016, 33.44346545667853, 23.09366439570467, 41.751929824035564, 22.54997523831386, 14.209187430395504, 37.622975925398414, 100, 100, 3.6874816589616275, 44.97793991082737, 4.1746197907579425, 82.9129684537739, 76.43473516339915, 23.12576019661636, 100, 40.39630490397554, 63.4798587393101, 8.580181314784962, 100, 100]\n",
      "The ground truth labels are:  [0.0, 0.0, 0.0, 0.0, 0.0, 0.0, 0.0, 0.0, 0.0, 0.0, 0.0, 0.0, 0.0, 0.0, 0.0, 0.0, 0.0, 0.0, 0.0, 0.0, 1.0, 1.0, 1.0, 1.0, 1.0, 1.0, 1.0, 1.0, 1.0, 1.0]\n"
     ]
    }
   ],
   "source": [
    "probs_list = map_error2prob_list(total_rec_error_eval_list)\n",
    "print(\"The probability list is: \", probs_list)\n",
    "print(\"The ground truth labels are: \", y_true)"
   ]
  },
  {
   "cell_type": "code",
   "execution_count": 63,
   "metadata": {},
   "outputs": [
    {
     "name": "stdout",
     "output_type": "stream",
     "text": [
      "[[ 1 19]\n",
      " [ 1  9]]\n",
      "The FPR values are:  0.95\n",
      "The TPR values are:  0.9\n",
      "Using the threshold =  4.89402535\n"
     ]
    }
   ],
   "source": [
    "conf_matrix = confusion_matrix(y_true, pred_label_onProb(probs_list, best_threshold_approach2))\n",
    "print(conf_matrix)\n",
    "_tp = conf_matrix[1, 1]\n",
    "_fn = conf_matrix[1, 0]\n",
    "_fp = conf_matrix[0, 1]\n",
    "_tn = conf_matrix[0, 0]\n",
    "_tpr = _tp/(_tp+_fn)\n",
    "_fpr = _fp / (_tn + _fp)\n",
    "print(\"The FPR values are: \", _fpr)\n",
    "print(\"The TPR values are: \", _tpr)\n",
    "print(\"Using the threshold = \", best_threshold_approach2)"
   ]
  },
  {
   "cell_type": "code",
   "execution_count": 64,
   "metadata": {},
   "outputs": [
    {
     "name": "stdout",
     "output_type": "stream",
     "text": [
      "The groudn truth is:  [0. 0. 0. 0. 0. 0. 0. 0. 0. 0. 0. 0. 0. 0. 0. 0. 0. 0. 0. 0. 1. 1. 1. 1.\n",
      " 1. 1. 1. 1. 1. 1.]\n",
      "The predicted label is:  [1, 1, 1, 1, 1, 1, 1, 1, 1, 1, 1, 1, 1, 1, 1, 1, 1, 1, 0, 1, 0, 1, 1, 1, 1, 1, 1, 1, 1, 1]\n"
     ]
    }
   ],
   "source": [
    "y_pred = computePredList(probs_list, best_threshold_approach2)\n",
    "print(\"The groudn truth is: \", np.array(y_true))\n",
    "print(\"The predicted label is: \", y_pred)"
   ]
  },
  {
   "cell_type": "markdown",
   "metadata": {},
   "source": [
    "# Applying evaluation metrics to these results"
   ]
  },
  {
   "cell_type": "markdown",
   "metadata": {},
   "source": [
    "## Computing the confusion matrix"
   ]
  },
  {
   "cell_type": "code",
   "execution_count": 65,
   "metadata": {},
   "outputs": [],
   "source": [
    "from sklearn.metrics import confusion_matrix\n",
    "import pandas as pd\n",
    "import seaborn as sn"
   ]
  },
  {
   "cell_type": "code",
   "execution_count": 66,
   "metadata": {},
   "outputs": [
    {
     "name": "stdout",
     "output_type": "stream",
     "text": [
      "[[ 1 19]\n",
      " [ 1  9]]\n"
     ]
    }
   ],
   "source": [
    "conf_matrix = confusion_matrix(y_true, y_pred)\n",
    "print(conf_matrix)"
   ]
  },
  {
   "cell_type": "code",
   "execution_count": 67,
   "metadata": {},
   "outputs": [
    {
     "data": {
      "text/plain": [
       "Text(0.5, 23.52222222222222, 'Predicted label')"
      ]
     },
     "execution_count": 67,
     "metadata": {},
     "output_type": "execute_result"
    },
    {
     "data": {
      "image/png": "[encoded data removed]",
      "text/plain": [
       "<Figure size 640x480 with 2 Axes>"
      ]
     },
     "metadata": {},
     "output_type": "display_data"
    }
   ],
   "source": [
    "group_names = ['True Neg','False Pos','False Neg','True Pos']\n",
    "group_counts = [\"{0:0.0f}\".format(value) for value in\n",
    "                conf_matrix.flatten()]\n",
    "group_percentages = [\"{0:.2%}\".format(value) for value in\n",
    "                     conf_matrix.flatten()/np.sum(conf_matrix)]\n",
    "labels = [f\"{v1}\\n{v2}\\n{v3}\" for v1, v2, v3 in\n",
    "          zip(group_names,group_counts,group_percentages)]        #To print the group names as well \n",
    "\n",
    "labels = np.asarray(labels).reshape(2,2)\n",
    "categories = ['Positive bottles', 'Anomaly bottles']\n",
    "sn.heatmap(conf_matrix, annot=labels, fmt='', xticklabels=categories,yticklabels=categories, cmap='Blues')\n",
    "plt.ylabel('True label')\n",
    "plt.xlabel('Predicted label')"
   ]
  },
  {
   "cell_type": "code",
   "execution_count": 68,
   "metadata": {},
   "outputs": [
    {
     "name": "stdout",
     "output_type": "stream",
     "text": [
      "The FPR values are:  0.95\n",
      "The TPR values are:  0.9\n"
     ]
    }
   ],
   "source": [
    "_tp = conf_matrix[1, 1]\n",
    "_fn = conf_matrix[1, 0]\n",
    "_fp = conf_matrix[0, 1]\n",
    "_tn = conf_matrix[0, 0]\n",
    "_tpr = _tp/(_tp+_fn)\n",
    "_fpr = _fp / (_tn + _fp)\n",
    "print(\"The FPR values are: \", _fpr)\n",
    "print(\"The TPR values are: \", _tpr)"
   ]
  },
  {
   "cell_type": "markdown",
   "metadata": {},
   "source": [
    "## Precision metric"
   ]
  },
  {
   "cell_type": "markdown",
   "metadata": {},
   "source": [
    "Precision = True positives / (True positives + False positives).\n",
    "\n",
    "Answers the question: Which proportion of positive predictions is actually right?"
   ]
  },
  {
   "cell_type": "code",
   "execution_count": 69,
   "metadata": {},
   "outputs": [
    {
     "name": "stdout",
     "output_type": "stream",
     "text": [
      "The precision is:  0.32142857142857145\n"
     ]
    }
   ],
   "source": [
    "precision = _tp/(_tp+_fp)\n",
    "print(\"The precision is: \", precision)\n"
   ]
  },
  {
   "cell_type": "markdown",
   "metadata": {},
   "source": [
    "## Recall metric"
   ]
  },
  {
   "cell_type": "markdown",
   "metadata": {},
   "source": [
    "Recall = TruePositives / (TruePositives + FalseNegatives)\n",
    "\n",
    "This metric is also called \"sensitiviy\" and TPR \"True Positive Rate\". It responds how good is the model at catching YESes?"
   ]
  },
  {
   "cell_type": "code",
   "execution_count": 70,
   "metadata": {},
   "outputs": [
    {
     "name": "stdout",
     "output_type": "stream",
     "text": [
      "The recall is:  0.9\n"
     ]
    }
   ],
   "source": [
    "recall = _tp/(_tp+_fn)\n",
    "print(\"The recall is: \", recall)"
   ]
  },
  {
   "cell_type": "markdown",
   "metadata": {},
   "source": [
    "## Specificity"
   ]
  },
  {
   "cell_type": "markdown",
   "metadata": {},
   "source": [
    "Specificity = True negatives / (True negatives + false positives)\n",
    "\n",
    "The specificity metric is the opposite as sensitivity, it tells us how good is the model at catching NOes. It measures the proportion of actual negatives that are correctly identified as such."
   ]
  },
  {
   "cell_type": "code",
   "execution_count": 71,
   "metadata": {},
   "outputs": [
    {
     "name": "stdout",
     "output_type": "stream",
     "text": [
      "The specificity is:  0.05\n"
     ]
    }
   ],
   "source": [
    "spec = _tn/(_tn+_fp)\n",
    "print(\"The specificity is: \", spec)"
   ]
  },
  {
   "cell_type": "markdown",
   "metadata": {},
   "source": [
    "## Accuracy"
   ]
  },
  {
   "cell_type": "markdown",
   "metadata": {},
   "source": [
    "Accuracy = (True negatives + True positives) / (True positives + True negatives + False positives + False negatives)"
   ]
  },
  {
   "cell_type": "code",
   "execution_count": 72,
   "metadata": {},
   "outputs": [
    {
     "name": "stdout",
     "output_type": "stream",
     "text": [
      "The accuracy is:  0.3333333333333333\n"
     ]
    }
   ],
   "source": [
    "acc = (_tn+_tp)/(_tn+_tp +_fp + _fn)\n",
    "print(\"The accuracy is: \", acc)"
   ]
  },
  {
   "cell_type": "markdown",
   "metadata": {},
   "source": [
    "## The ROC curve"
   ]
  },
  {
   "cell_type": "code",
   "execution_count": 73,
   "metadata": {},
   "outputs": [],
   "source": [
    "from sklearn.metrics import roc_curve, roc_auc_score\n"
   ]
  },
  {
   "cell_type": "markdown",
   "metadata": {},
   "source": [
    "Rather than the prediction of each sample (0 or 1 values) we need the probability of the samples to be predicted as an anomaly image. Hence, we compute this probability"
   ]
  },
  {
   "cell_type": "code",
   "execution_count": 74,
   "metadata": {},
   "outputs": [
    {
     "name": "stdout",
     "output_type": "stream",
     "text": [
      "AUROC = 0.700\n",
      "The fpr is:  [0.   0.1  0.1  0.2  0.2  0.5  0.5  0.9  0.9  0.95 0.95 1.  ]\n",
      "The tpr is:  [0.  0.3 0.6 0.6 0.7 0.7 0.8 0.8 0.9 0.9 1.  1. ]\n",
      "The thresholds are:  [101.         100.          63.47985874  41.75192982  40.3963049\n",
      "  29.89255008  23.1257602   12.92847114   8.58018131   5.22088646\n",
      "   4.17461979   3.68748166]\n"
     ]
    }
   ],
   "source": [
    "auc_score = roc_auc_score(y_true, probs_list)\n",
    "print('AUROC = %.3f' % (auc_score))\n",
    "fpr, tpr, thresholds = roc_curve(y_true, probs_list)\n",
    "print(\"The fpr is: \", fpr)\n",
    "print(\"The tpr is: \", tpr)\n",
    "print(\"The thresholds are: \", thresholds)"
   ]
  },
  {
   "cell_type": "code",
   "execution_count": 75,
   "metadata": {},
   "outputs": [
    {
     "data": {
      "image/png": "[encoded data removed]",
      "text/plain": [
       "<Figure size 640x480 with 1 Axes>"
      ]
     },
     "metadata": {},
     "output_type": "display_data"
    }
   ],
   "source": [
    "plt.plot(fpr, tpr, marker='.', label='AUROC = %0.3f' % auc_score)\n",
    "# Title\n",
    "plt.title('ROC Plot')\n",
    "# Axis labels\n",
    "plt.xlabel('False Positive Rate')\n",
    "plt.ylabel('True Positive Rate')\n",
    "# Show legend\n",
    "plt.legend() # \n",
    "# Show plot\n",
    "plt.show()"
   ]
  }
 ],
 "metadata": {
  "kernelspec": {
   "display_name": "Python 3",
   "language": "python",
   "name": "python3"
  },
  "language_info": {
   "codemirror_mode": {
    "name": "ipython",
    "version": 3
   },
   "file_extension": ".py",
   "mimetype": "text/x-python",
   "name": "python",
   "nbconvert_exporter": "python",
   "pygments_lexer": "ipython3",
   "version": "3.8.10"
  },
  "orig_nbformat": 4,
  "vscode": {
   "interpreter": {
    "hash": "916dbcbb3f70747c44a77c7bcd40155683ae19c65e1c03b4aa3499c5328201f1"
   }
  }
 },
 "nbformat": 4,
 "nbformat_minor": 2
}
