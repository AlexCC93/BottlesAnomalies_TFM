{
 "cells": [
  {
   "cell_type": "code",
   "execution_count": 1,
   "metadata": {},
   "outputs": [],
   "source": [
    "# Importing libraries"
   ]
  },
  {
   "cell_type": "code",
   "execution_count": 2,
   "metadata": {},
   "outputs": [],
   "source": [
    "from tensorflow.keras.models import Sequential, Model\n",
    "from tensorflow.keras.layers import *\n",
    "from tensorflow.keras.preprocessing.image import ImageDataGenerator\n",
    "from tensorflow import keras\n",
    "import tensorflow as tf\n",
    "# from keras import layers\n",
    "\n",
    "\n",
    "from tensorflow.keras.optimizers import Adam, RMSprop\n",
    "from tensorflow.keras.preprocessing import image\n",
    "\n",
    "import tensorflow.keras.backend as K\n",
    "\n",
    "\n",
    "from PIL import Image\n",
    "import matplotlib.pyplot as plt\n",
    "import numpy as np\n",
    "import random\n",
    "\n"
   ]
  },
  {
   "cell_type": "code",
   "execution_count": 3,
   "metadata": {},
   "outputs": [
    {
     "name": "stdout",
     "output_type": "stream",
     "text": [
      "Num GPUs Available:  1\n"
     ]
    },
    {
     "name": "stderr",
     "output_type": "stream",
     "text": [
      "2023-08-19 22:06:46.648781: I tensorflow/stream_executor/platform/default/dso_loader.cc:44] Successfully opened dynamic library libcuda.so.1\n",
      "2023-08-19 22:06:46.674330: I tensorflow/stream_executor/cuda/cuda_gpu_executor.cc:981] successful NUMA node read from SysFS had negative value (-1), but there must be at least one NUMA node, so returning NUMA node zero\n",
      "2023-08-19 22:06:46.674701: I tensorflow/core/common_runtime/gpu/gpu_device.cc:1561] Found device 0 with properties: \n",
      "pciBusID: 0000:01:00.0 name: NVIDIA GeForce RTX 2080 with Max-Q Design computeCapability: 7.5\n",
      "coreClock: 1.23GHz coreCount: 46 deviceMemorySize: 7.79GiB deviceMemoryBandwidth: 357.69GiB/s\n",
      "2023-08-19 22:06:46.674884: I tensorflow/stream_executor/platform/default/dso_loader.cc:44] Successfully opened dynamic library libcudart.so.10.1\n",
      "2023-08-19 22:06:46.676132: I tensorflow/stream_executor/platform/default/dso_loader.cc:44] Successfully opened dynamic library libcublas.so.10\n",
      "2023-08-19 22:06:46.677297: I tensorflow/stream_executor/platform/default/dso_loader.cc:44] Successfully opened dynamic library libcufft.so.10\n",
      "2023-08-19 22:06:46.677553: I tensorflow/stream_executor/platform/default/dso_loader.cc:44] Successfully opened dynamic library libcurand.so.10\n",
      "2023-08-19 22:06:46.678847: I tensorflow/stream_executor/platform/default/dso_loader.cc:44] Successfully opened dynamic library libcusolver.so.10\n",
      "2023-08-19 22:06:46.679791: I tensorflow/stream_executor/platform/default/dso_loader.cc:44] Successfully opened dynamic library libcusparse.so.10\n",
      "2023-08-19 22:06:46.682813: I tensorflow/stream_executor/platform/default/dso_loader.cc:44] Successfully opened dynamic library libcudnn.so.7\n",
      "2023-08-19 22:06:46.682940: I tensorflow/stream_executor/cuda/cuda_gpu_executor.cc:981] successful NUMA node read from SysFS had negative value (-1), but there must be at least one NUMA node, so returning NUMA node zero\n",
      "2023-08-19 22:06:46.683297: I tensorflow/stream_executor/cuda/cuda_gpu_executor.cc:981] successful NUMA node read from SysFS had negative value (-1), but there must be at least one NUMA node, so returning NUMA node zero\n",
      "2023-08-19 22:06:46.683565: I tensorflow/core/common_runtime/gpu/gpu_device.cc:1703] Adding visible gpu devices: 0\n"
     ]
    }
   ],
   "source": [
    "physical_devices = tf.config.experimental.list_physical_devices('GPU')\n",
    "if len(physical_devices) == 0:\n",
    "    print(\"Not enough GPU hardware devices available\")\n",
    "else:\n",
    "    config = tf.config.experimental.set_memory_growth(physical_devices[0], True)\n",
    "print(\"Num GPUs Available: \", len(physical_devices))"
   ]
  },
  {
   "cell_type": "markdown",
   "metadata": {},
   "source": [
    "If uncommented it will print all the log information about where the tensorflow operations were performed, in the CPU or the GPU"
   ]
  },
  {
   "cell_type": "code",
   "execution_count": 4,
   "metadata": {},
   "outputs": [],
   "source": [
    "# tf.debugging.set_log_device_placement(True)       # Will print the log information of every execution of tensorflow, mainly about "
   ]
  },
  {
   "attachments": {},
   "cell_type": "markdown",
   "metadata": {},
   "source": [
    "# Loading the train data set"
   ]
  },
  {
   "attachments": {},
   "cell_type": "markdown",
   "metadata": {},
   "source": [
    "ImageDataGenerator.flow_from_directory: Takes the path to a directory and generates batches of augmented data."
   ]
  },
  {
   "cell_type": "code",
   "execution_count": 5,
   "metadata": {},
   "outputs": [],
   "source": [
    "def my_crop(img, start_y, start_x, desired_height, desired_width):\n",
    "  if K.image_data_format() == 'channels_last':\n",
    "    # Note: image_data_format is 'channel_last'\n",
    "    assert img.shape[2] == 3\n",
    "    dy = desired_height #input desired output size\n",
    "    dx = desired_width #input desired output size\n",
    "    # start_y = (height-dy)//2\n",
    "    # start_x = (width-dx)//2\n",
    "    return img[start_y:start_y+dy, start_x:(dx+start_x), :]\n",
    "  else:\n",
    "      assert img.shape[0] == 3\n",
    "      dy = desired_height #input desired output size\n",
    "      dx = desired_width #input desired output size\n",
    "      # start_y = (height-dy)//2\n",
    "      # start_x = (width-dx)//2\n",
    "      return img[:,start_y:start_y + dy, start_x:(dx + start_x)]\n",
    "\n",
    "def crop_augmented_generator(batches, start_y, start_x, crop_height, crop_width):\n",
    "    '''\n",
    "    Take as input a Keras ImageGen (Iterator) and generate\n",
    "    crops from the image batches generated by the original iterator\n",
    "    '''\n",
    "    # print(\"I'm in the crop_generataor function\")\n",
    "    while True:\n",
    "      batch_x, batch_y = next(batches)  # In batch_x there are the images, in batch_y there are the labels\n",
    "    #   print(\"hello\")\n",
    "    #   print('the shape of tensor batch_x is:', batch_x.shape)\n",
    "    #   print('batch_y is:', batch_y)\n",
    "    \n",
    "      if K.image_data_format() == 'channels_last':\n",
    "        # print(\"type of batch_x: \", type(batch_x))\n",
    "        # print(\"type of batch_y: \", type(batch_y))\n",
    "        # print(\"len of batch_x: \", len(batch_x))\n",
    "\n",
    "        # Either batch_x or batch_y could be augmented or original\n",
    "        batch_crops_input_x = np.zeros((batch_x[0].shape[0], crop_height, crop_width, 3))\n",
    "        batch_crops_target_x = np.zeros((batch_x[1].shape[0], crop_height, crop_width, 3))\n",
    "\n",
    "        batch_crops_input_y = np.zeros((batch_y[0].shape[0], crop_height, crop_width, 3))\n",
    "        batch_crops_target_y = np.zeros((batch_y[1].shape[0], crop_height, crop_width, 3))\n",
    "      else:\n",
    "        # Either batch_x or batch_y could be augmented or original\n",
    "        batch_crops_input_x = np.zeros((batch_x[0].shape[0], 3, crop_height, crop_width))\n",
    "        batch_crops_target_x = np.zeros((batch_x[1].shape[0], 3, crop_height, crop_width))\n",
    "\n",
    "        batch_crops_input_y = np.zeros((batch_y[0].shape[0], 3, crop_height, crop_width))\n",
    "        batch_crops_target_y = np.zeros((batch_y[1].shape[0], 3, crop_height, crop_width))\n",
    "\n",
    "      for i in range(batch_x[0].shape[0]):\n",
    "        #   print(\"THe shape of a single image before the cropping is: \", batch_x[i].shape)\n",
    "        batch_crops_input_x[i] = my_crop(batch_x[0][i], start_y, start_x, crop_height, crop_width)\n",
    "        batch_crops_target_x[i] = my_crop(batch_x[1][i], start_y, start_x, crop_height, crop_width)\n",
    "\n",
    "        batch_crops_input_y[i] = my_crop(batch_y[0][i], start_y, start_x, crop_height, crop_width)\n",
    "        batch_crops_target_y[i] = my_crop(batch_y[1][i], start_y, start_x, crop_height, crop_width)\n",
    "      \n",
    "      # print(type(batch_crops_input_x))\n",
    "      batch_crops_x = (batch_crops_input_x, batch_crops_target_x)\n",
    "      batch_crops_y = (batch_crops_input_y, batch_crops_target_y)\n",
    "\n",
    "      yield (batch_crops_x, batch_crops_y)\n",
    "\n",
    "  \n",
    "    \n",
    "def crop_generator(batches, start_y, start_x, crop_height, crop_width, flag=0):\n",
    "    '''\n",
    "    Take as input a Keras ImageGen (Iterator) and generate\n",
    "    crops from the image batches generated by the original iterator\n",
    "    '''\n",
    "    # print(\"I'm in the crop_generataor function\")\n",
    "    while True:\n",
    "      batch_x, batch_y = next(batches)  # In batch_x there are the images, in batch_y there are the labels\n",
    "    #   print(\"hello\")\n",
    "    #   print('the shape of tensor batch_x is:', batch_x.shape)\n",
    "    #   print('batch_y is:', batch_y)\n",
    "      if flag==0:\n",
    "        if K.image_data_format() == 'channels_last':\n",
    "          batch_crops = np.zeros((batch_x.shape[0], crop_height, crop_width, 3))\n",
    "          batch_crops_y = np.zeros((batch_y.shape[0], crop_height, crop_width, 3))\n",
    "        else:\n",
    "          batch_crops = np.zeros((batch_x.shape[0], 3, crop_height, crop_width))\n",
    "          batch_crops_y = np.zeros((batch_y.shape[0], 3, crop_height, crop_width))\n",
    "        for i in range(batch_x.shape[0]):\n",
    "          #   print(\"THe shape of a single image before the cropping is: \", batch_x[i].shape)\n",
    "            batch_crops[i] = my_crop(batch_x[i], start_y, start_x, crop_height, crop_width)\n",
    "            batch_crops_y[i] = my_crop(batch_x[i], start_y, start_x, crop_height, crop_width)\n",
    "        yield (batch_crops, batch_crops_y)\n",
    "      else: \n",
    "        if K.image_data_format() == 'channels_last':\n",
    "          batch_crops = np.zeros((batch_x.shape[0], crop_height, crop_width, 3))\n",
    "        else:\n",
    "          batch_crops = np.zeros((batch_x.shape[0], 3, crop_height, crop_width))\n",
    "        for i in range(batch_x.shape[0]):\n",
    "          #   print(\"THe shape of a single image before the cropping is: \", batch_x[i].shape)\n",
    "            batch_crops[i] = my_crop(batch_x[i], start_y, start_x, crop_height, crop_width)\n",
    "\n",
    "        yield (batch_crops, batch_y)\n",
    "         "
   ]
  },
  {
   "cell_type": "code",
   "execution_count": 6,
   "metadata": {},
   "outputs": [
    {
     "name": "stdout",
     "output_type": "stream",
     "text": [
      "Found 295 images belonging to 1 classes.\n",
      "Found 295 images belonging to 1 classes.\n"
     ]
    }
   ],
   "source": [
    "# batch_size = 64\n",
    "batch_size = 10\n",
    "train_datagen = ImageDataGenerator(rescale=1./255,\n",
    "                                    brightness_range=[0.88,1.0]) # Typically used for data augmentation. Here it is only rescaling the image pixels value to range 0 to 1 in decimals and changing the brightness\n",
    "\n",
    "\n",
    "original_datagen = ImageDataGenerator(rescale=1./255)\n",
    "\n",
    "\n",
    "train_generator = train_datagen.flow_from_directory(\n",
    "    \"../../Images/june5Night/Positive/\",         # For home laptop\n",
    "    # \"../../../BottleStoodUp_atNight/Positive/\",          # For work laptop\n",
    "    batch_size=batch_size,\n",
    "    shuffle = False,\n",
    "    class_mode='input'\n",
    "    )\n",
    "\n",
    "# Generate original images from the original data directory\n",
    "original_generator = original_datagen.flow_from_directory(\n",
    "    \"../../Images/june5Night/Positive/\",\n",
    "    batch_size=batch_size,\n",
    "    shuffle = False,\n",
    "    class_mode='input')\n",
    "\n",
    "# Combine the generators using the `keras.preprocessing.image.Iterator` class\n",
    "combined_generator = zip(train_generator, original_generator)"
   ]
  },
  {
   "cell_type": "code",
   "execution_count": 7,
   "metadata": {},
   "outputs": [
    {
     "name": "stdout",
     "output_type": "stream",
     "text": [
      "Found 20 images belonging to 1 classes.\n"
     ]
    }
   ],
   "source": [
    "validation_generator = original_datagen.flow_from_directory(\n",
    "    \"../../Images/june5Night/Positive_val/\",     # For home laptop\n",
    "    # \"../../../BottleStoodUp_atNight/Positive_val/\",           # For work lpatop   \n",
    "    batch_size=batch_size,\n",
    "    shuffle = False,\n",
    "    class_mode='input'\n",
    "    )\n"
   ]
  },
  {
   "cell_type": "code",
   "execution_count": 8,
   "metadata": {},
   "outputs": [
    {
     "name": "stdout",
     "output_type": "stream",
     "text": [
      "Found 10 images belonging to 1 classes.\n"
     ]
    }
   ],
   "source": [
    "anomaly_generator = original_datagen.flow_from_directory(\n",
    "    \"../../Images/june5Night/Anomalies2.0/\",         # For home laptop\n",
    "    # \"../../../BottleStoodUp_atNight/Anomalies2.0/\",           # For work lpatpo\n",
    "    batch_size=batch_size,\n",
    "    shuffle = False,\n",
    "    class_mode='input'\n",
    "    )\n"
   ]
  },
  {
   "cell_type": "code",
   "execution_count": 9,
   "metadata": {},
   "outputs": [
    {
     "name": "stdout",
     "output_type": "stream",
     "text": [
      "Found 30 images belonging to 2 classes.\n"
     ]
    }
   ],
   "source": [
    "test_set_generator = original_datagen.flow_from_directory(\n",
    "    \"../../Images/june5Night/Evaluation/\",       # For home laptop\n",
    "    # \"../../../BottleStoodUp_atNight/Evaluation/\",             # For work laptop  \n",
    "    batch_size=batch_size,\n",
    "    shuffle = False,\n",
    "    class_mode='binary'\n",
    "    )\n"
   ]
  },
  {
   "cell_type": "markdown",
   "metadata": {},
   "source": [
    "# Showing one sample of the training set images"
   ]
  },
  {
   "attachments": {},
   "cell_type": "markdown",
   "metadata": {},
   "source": [
    "Creating the cropped images"
   ]
  },
  {
   "cell_type": "code",
   "execution_count": 10,
   "metadata": {},
   "outputs": [],
   "source": [
    "HEIGHT = 160\n",
    "WIDTH = 128"
   ]
  },
  {
   "cell_type": "code",
   "execution_count": 11,
   "metadata": {},
   "outputs": [],
   "source": [
    "train_crops = crop_augmented_generator(combined_generator, 65, 69, HEIGHT,WIDTH)      # top, left, height, width\n",
    "val_crops = crop_generator(validation_generator, 65, 69, HEIGHT,WIDTH)      # top, left, height, width\n",
    "anomaly_crops = crop_generator(anomaly_generator, 65, 69, HEIGHT,WIDTH)      # top, left, height, width\n",
    "test_crops = crop_generator(test_set_generator, 65, 69, HEIGHT,WIDTH,1)      # top, left, height, width"
   ]
  },
  {
   "attachments": {},
   "cell_type": "markdown",
   "metadata": {},
   "source": [
    "Here we make sure that both of the returned elements of the cropped generator, that is \"imgaes_in_batch\" and \"imgaes_in_batch2\", are indeed cropped images."
   ]
  },
  {
   "cell_type": "code",
   "execution_count": 12,
   "metadata": {},
   "outputs": [],
   "source": [
    "images_in_batch, images_in_batch2 = next(train_crops)\n"
   ]
  },
  {
   "cell_type": "code",
   "execution_count": 13,
   "metadata": {},
   "outputs": [
    {
     "name": "stdout",
     "output_type": "stream",
     "text": [
      "(10, 160, 128, 3)\n",
      "(10, 160, 128, 3)\n"
     ]
    }
   ],
   "source": [
    "batch_input_images1 = images_in_batch[0]\n",
    "batch_expected_images1 = images_in_batch[1]\n",
    "print(batch_input_images1.shape)\n",
    "print(batch_expected_images1.shape)"
   ]
  },
  {
   "cell_type": "code",
   "execution_count": 14,
   "metadata": {},
   "outputs": [
    {
     "name": "stdout",
     "output_type": "stream",
     "text": [
      "(10, 160, 128, 3)\n",
      "(10, 160, 128, 3)\n"
     ]
    }
   ],
   "source": [
    "batch_input_images2 = images_in_batch2[0]\n",
    "batch_expected_images2 = images_in_batch2[1]\n",
    "print(batch_input_images2.shape)\n",
    "print(batch_expected_images2.shape)"
   ]
  },
  {
   "cell_type": "code",
   "execution_count": 15,
   "metadata": {},
   "outputs": [
    {
     "data": {
      "text/plain": [
       "<matplotlib.image.AxesImage at 0x7f994849a8e0>"
      ]
     },
     "execution_count": 15,
     "metadata": {},
     "output_type": "execute_result"
    },
    {
     "data": {
      "image/png": "[encoded data removed]",
      "text/plain": [
       "<Figure size 640x480 with 1 Axes>"
      ]
     },
     "metadata": {},
     "output_type": "display_data"
    }
   ],
   "source": [
    "single_img_batch1 = batch_input_images1[0]\n",
    "plt.imshow(single_img_batch1)"
   ]
  },
  {
   "cell_type": "code",
   "execution_count": 16,
   "metadata": {},
   "outputs": [
    {
     "data": {
      "text/plain": [
       "<matplotlib.image.AxesImage at 0x7f9948437250>"
      ]
     },
     "execution_count": 16,
     "metadata": {},
     "output_type": "execute_result"
    },
    {
     "data": {
      "image/png": "[encoded data removed]",
      "text/plain": [
       "<Figure size 640x480 with 1 Axes>"
      ]
     },
     "metadata": {},
     "output_type": "display_data"
    }
   ],
   "source": [
    "single_img_batch2 = batch_input_images2[0]\n",
    "plt.imshow(single_img_batch2)"
   ]
  },
  {
   "attachments": {},
   "cell_type": "markdown",
   "metadata": {},
   "source": [
    "# Building the model Autoencoder model"
   ]
  },
  {
   "cell_type": "code",
   "execution_count": 17,
   "metadata": {},
   "outputs": [
    {
     "name": "stderr",
     "output_type": "stream",
     "text": [
      "2023-08-19 22:06:47.246891: I tensorflow/core/platform/cpu_feature_guard.cc:143] Your CPU supports instructions that this TensorFlow binary was not compiled to use: AVX2 FMA\n",
      "2023-08-19 22:06:47.273581: I tensorflow/core/platform/profile_utils/cpu_utils.cc:102] CPU Frequency: 2599990000 Hz\n",
      "2023-08-19 22:06:47.273960: I tensorflow/compiler/xla/service/service.cc:168] XLA service 0x7f98c0001560 initialized for platform Host (this does not guarantee that XLA will be used). Devices:\n",
      "2023-08-19 22:06:47.273975: I tensorflow/compiler/xla/service/service.cc:176]   StreamExecutor device (0): Host, Default Version\n",
      "2023-08-19 22:06:47.356042: I tensorflow/stream_executor/cuda/cuda_gpu_executor.cc:981] successful NUMA node read from SysFS had negative value (-1), but there must be at least one NUMA node, so returning NUMA node zero\n",
      "2023-08-19 22:06:47.356436: I tensorflow/compiler/xla/service/service.cc:168] XLA service 0x4e478b0 initialized for platform CUDA (this does not guarantee that XLA will be used). Devices:\n",
      "2023-08-19 22:06:47.356451: I tensorflow/compiler/xla/service/service.cc:176]   StreamExecutor device (0): NVIDIA GeForce RTX 2080 with Max-Q Design, Compute Capability 7.5\n",
      "2023-08-19 22:06:47.356607: I tensorflow/stream_executor/cuda/cuda_gpu_executor.cc:981] successful NUMA node read from SysFS had negative value (-1), but there must be at least one NUMA node, so returning NUMA node zero\n",
      "2023-08-19 22:06:47.356901: I tensorflow/core/common_runtime/gpu/gpu_device.cc:1561] Found device 0 with properties: \n",
      "pciBusID: 0000:01:00.0 name: NVIDIA GeForce RTX 2080 with Max-Q Design computeCapability: 7.5\n",
      "coreClock: 1.23GHz coreCount: 46 deviceMemorySize: 7.79GiB deviceMemoryBandwidth: 357.69GiB/s\n",
      "2023-08-19 22:06:47.356932: I tensorflow/stream_executor/platform/default/dso_loader.cc:44] Successfully opened dynamic library libcudart.so.10.1\n",
      "2023-08-19 22:06:47.356944: I tensorflow/stream_executor/platform/default/dso_loader.cc:44] Successfully opened dynamic library libcublas.so.10\n",
      "2023-08-19 22:06:47.356954: I tensorflow/stream_executor/platform/default/dso_loader.cc:44] Successfully opened dynamic library libcufft.so.10\n",
      "2023-08-19 22:06:47.356965: I tensorflow/stream_executor/platform/default/dso_loader.cc:44] Successfully opened dynamic library libcurand.so.10\n",
      "2023-08-19 22:06:47.356976: I tensorflow/stream_executor/platform/default/dso_loader.cc:44] Successfully opened dynamic library libcusolver.so.10\n",
      "2023-08-19 22:06:47.356987: I tensorflow/stream_executor/platform/default/dso_loader.cc:44] Successfully opened dynamic library libcusparse.so.10\n",
      "2023-08-19 22:06:47.356998: I tensorflow/stream_executor/platform/default/dso_loader.cc:44] Successfully opened dynamic library libcudnn.so.7\n",
      "2023-08-19 22:06:47.357045: I tensorflow/stream_executor/cuda/cuda_gpu_executor.cc:981] successful NUMA node read from SysFS had negative value (-1), but there must be at least one NUMA node, so returning NUMA node zero\n",
      "2023-08-19 22:06:47.357355: I tensorflow/stream_executor/cuda/cuda_gpu_executor.cc:981] successful NUMA node read from SysFS had negative value (-1), but there must be at least one NUMA node, so returning NUMA node zero\n",
      "2023-08-19 22:06:47.357699: I tensorflow/core/common_runtime/gpu/gpu_device.cc:1703] Adding visible gpu devices: 0\n",
      "2023-08-19 22:06:47.357742: I tensorflow/stream_executor/platform/default/dso_loader.cc:44] Successfully opened dynamic library libcudart.so.10.1\n",
      "2023-08-19 22:06:47.358226: I tensorflow/core/common_runtime/gpu/gpu_device.cc:1102] Device interconnect StreamExecutor with strength 1 edge matrix:\n",
      "2023-08-19 22:06:47.358238: I tensorflow/core/common_runtime/gpu/gpu_device.cc:1108]      0 \n",
      "2023-08-19 22:06:47.358245: I tensorflow/core/common_runtime/gpu/gpu_device.cc:1121] 0:   N \n",
      "2023-08-19 22:06:47.358341: I tensorflow/stream_executor/cuda/cuda_gpu_executor.cc:981] successful NUMA node read from SysFS had negative value (-1), but there must be at least one NUMA node, so returning NUMA node zero\n",
      "2023-08-19 22:06:47.358677: I tensorflow/stream_executor/cuda/cuda_gpu_executor.cc:981] successful NUMA node read from SysFS had negative value (-1), but there must be at least one NUMA node, so returning NUMA node zero\n",
      "2023-08-19 22:06:47.358978: I tensorflow/core/common_runtime/gpu/gpu_device.cc:1247] Created TensorFlow device (/job:localhost/replica:0/task:0/device:GPU:0 with 5410 MB memory) -> physical GPU (device: 0, name: NVIDIA GeForce RTX 2080 with Max-Q Design, pci bus id: 0000:01:00.0, compute capability: 7.5)\n"
     ]
    },
    {
     "name": "stdout",
     "output_type": "stream",
     "text": [
      "(None, 10, 8, 1)\n",
      "(None, 40)\n",
      "Model: \"model\"\n",
      "_________________________________________________________________\n",
      "Layer (type)                 Output Shape              Param #   \n",
      "=================================================================\n",
      "input_1 (InputLayer)         [(None, 160, 128, 3)]     0         \n",
      "_________________________________________________________________\n",
      "conv2d (Conv2D)              (None, 160, 128, 64)      1792      \n",
      "_________________________________________________________________\n",
      "max_pooling2d (MaxPooling2D) (None, 80, 64, 64)        0         \n",
      "_________________________________________________________________\n",
      "conv2d_1 (Conv2D)            (None, 80, 64, 32)        18464     \n",
      "_________________________________________________________________\n",
      "max_pooling2d_1 (MaxPooling2 (None, 40, 32, 32)        0         \n",
      "_________________________________________________________________\n",
      "conv2d_2 (Conv2D)            (None, 40, 32, 16)        4624      \n",
      "_________________________________________________________________\n",
      "max_pooling2d_2 (MaxPooling2 (None, 20, 16, 16)        0         \n",
      "_________________________________________________________________\n",
      "conv2d_3 (Conv2D)            (None, 20, 16, 4)         580       \n",
      "_________________________________________________________________\n",
      "max_pooling2d_3 (MaxPooling2 (None, 10, 8, 4)          0         \n",
      "_________________________________________________________________\n",
      "conv2d_4 (Conv2D)            (None, 10, 8, 1)          37        \n",
      "_________________________________________________________________\n",
      "flatten (Flatten)            (None, 80)                0         \n",
      "_________________________________________________________________\n",
      "dense (Dense)                (None, 80)                6480      \n",
      "_________________________________________________________________\n",
      "dense_1 (Dense)              (None, 40)                3240      \n",
      "=================================================================\n",
      "Total params: 35,217\n",
      "Trainable params: 35,217\n",
      "Non-trainable params: 0\n",
      "_________________________________________________________________\n"
     ]
    }
   ],
   "source": [
    "latent_dim = 40  # Number of latent dimension parameters\n",
    "\n",
    "input_img = Input(shape=(HEIGHT, WIDTH, 3))\n",
    "x = Conv2D(64, (3, 3), activation='relu', padding='same')(input_img)\n",
    "x = MaxPooling2D((2, 2), padding='same')(x)\n",
    "x = Conv2D(32, (3, 3), activation='relu', padding='same')(x)\n",
    "x = MaxPool2D( (2, 2), padding='same')(x)\n",
    "x = Conv2D(16, (3, 3), activation='relu', padding='same')(x)\n",
    "x = MaxPool2D( (2, 2), padding='same')(x)\n",
    "\n",
    "x = Conv2D(4, (3, 3), activation='relu', padding='same')(x)\n",
    "x = MaxPool2D( (2, 2), padding='same')(x)\n",
    "x = Conv2D(1, (3, 3), activation='relu', padding='same')(x)\n",
    "\n",
    "shape_before_flattening = K.int_shape(x)\n",
    "print(shape_before_flattening)\n",
    "x = Flatten()(x)\n",
    "x = Dense(80, activation='relu')(x)        # Activation function is supposed to be none, i.e the output is the same as the input\n",
    "\n",
    "Z = Dense(latent_dim)(x)\n",
    "print(K.int_shape(Z))\n",
    "\n",
    "encoder = Model(input_img,Z)\n",
    "encoder.summary()"
   ]
  },
  {
   "cell_type": "code",
   "execution_count": 18,
   "metadata": {},
   "outputs": [
    {
     "name": "stdout",
     "output_type": "stream",
     "text": [
      "Model: \"model_1\"\n",
      "_________________________________________________________________\n",
      "Layer (type)                 Output Shape              Param #   \n",
      "=================================================================\n",
      "input_2 (InputLayer)         [(None, 40)]              0         \n",
      "_________________________________________________________________\n",
      "intermediate_decoder (Dense) (None, 320)               13120     \n",
      "_________________________________________________________________\n",
      "original_decoder (Dense)     (None, 320)               102720    \n",
      "_________________________________________________________________\n",
      "reshape (Reshape)            (None, 10, 8, 4)          0         \n",
      "_________________________________________________________________\n",
      "conv2d_transpose (Conv2DTran (None, 10, 8, 3)          111       \n",
      "_________________________________________________________________\n",
      "up_sampling2d (UpSampling2D) (None, 20, 16, 3)         0         \n",
      "_________________________________________________________________\n",
      "conv2d_transpose_1 (Conv2DTr (None, 20, 16, 3)         84        \n",
      "_________________________________________________________________\n",
      "up_sampling2d_1 (UpSampling2 (None, 40, 32, 3)         0         \n",
      "_________________________________________________________________\n",
      "conv2d_transpose_2 (Conv2DTr (None, 40, 32, 3)         84        \n",
      "_________________________________________________________________\n",
      "up_sampling2d_2 (UpSampling2 (None, 80, 64, 3)         0         \n",
      "_________________________________________________________________\n",
      "conv2d_transpose_3 (Conv2DTr (None, 80, 64, 3)         84        \n",
      "_________________________________________________________________\n",
      "up_sampling2d_3 (UpSampling2 (None, 160, 128, 3)       0         \n",
      "=================================================================\n",
      "Total params: 116,203\n",
      "Trainable params: 116,203\n",
      "Non-trainable params: 0\n",
      "_________________________________________________________________\n"
     ]
    }
   ],
   "source": [
    "# decoder takes the latent distribution sample as input\n",
    "decoder_input = Input(K.int_shape(Z)[1:])\n",
    "x = Dense(10*8*4, activation='relu', name=\"intermediate_decoder\", input_shape=(latent_dim,))(decoder_input)\n",
    "# Expand to 784 total pixels\n",
    "x = Dense(320, activation='sigmoid', name=\"original_decoder\")(x)\n",
    "x = Reshape((10,8,4),input_shape=(320,))(x)\n",
    "\n",
    "x = Conv2DTranspose(3, (3, 3), padding='same')(x)\n",
    "x = UpSampling2D( (2, 2))(x)\n",
    "x = Conv2DTranspose(3, (3, 3), padding='same')(x)\n",
    "x = UpSampling2D( (2, 2))(x)\n",
    "x = Conv2DTranspose(3, (3, 3), padding='same')(x)\n",
    "x = UpSampling2D( (2, 2))(x)\n",
    "x = Conv2DTranspose(3, (3, 3), padding='same')(x)\n",
    "x = UpSampling2D( (2, 2))(x)\n",
    "\n",
    "# decoder model statement\n",
    "decoder = Model(decoder_input, x)\n",
    "\n",
    "# apply the decoder to the sample from the latent distribution\n",
    "z_decoded = decoder(Z)\n",
    "\n",
    "decoder.summary()"
   ]
  },
  {
   "cell_type": "code",
   "execution_count": 19,
   "metadata": {},
   "outputs": [
    {
     "name": "stdout",
     "output_type": "stream",
     "text": [
      "Model: \"model_2\"\n",
      "_________________________________________________________________\n",
      "Layer (type)                 Output Shape              Param #   \n",
      "=================================================================\n",
      "input_1 (InputLayer)         [(None, 160, 128, 3)]     0         \n",
      "_________________________________________________________________\n",
      "conv2d (Conv2D)              (None, 160, 128, 64)      1792      \n",
      "_________________________________________________________________\n",
      "max_pooling2d (MaxPooling2D) (None, 80, 64, 64)        0         \n",
      "_________________________________________________________________\n",
      "conv2d_1 (Conv2D)            (None, 80, 64, 32)        18464     \n",
      "_________________________________________________________________\n",
      "max_pooling2d_1 (MaxPooling2 (None, 40, 32, 32)        0         \n",
      "_________________________________________________________________\n",
      "conv2d_2 (Conv2D)            (None, 40, 32, 16)        4624      \n",
      "_________________________________________________________________\n",
      "max_pooling2d_2 (MaxPooling2 (None, 20, 16, 16)        0         \n",
      "_________________________________________________________________\n",
      "conv2d_3 (Conv2D)            (None, 20, 16, 4)         580       \n",
      "_________________________________________________________________\n",
      "max_pooling2d_3 (MaxPooling2 (None, 10, 8, 4)          0         \n",
      "_________________________________________________________________\n",
      "conv2d_4 (Conv2D)            (None, 10, 8, 1)          37        \n",
      "_________________________________________________________________\n",
      "flatten (Flatten)            (None, 80)                0         \n",
      "_________________________________________________________________\n",
      "dense (Dense)                (None, 80)                6480      \n",
      "_________________________________________________________________\n",
      "dense_1 (Dense)              (None, 40)                3240      \n",
      "_________________________________________________________________\n",
      "model_1 (Model)              (None, 160, 128, 3)       116203    \n",
      "=================================================================\n",
      "Total params: 151,420\n",
      "Trainable params: 151,420\n",
      "Non-trainable params: 0\n",
      "_________________________________________________________________\n"
     ]
    }
   ],
   "source": [
    "# VAE model statement\n",
    "ae = Model(input_img,z_decoded)\n",
    "ae.compile(optimizer='adam', loss='mean_squared_error')\n",
    "\n",
    "ae.summary()"
   ]
  },
  {
   "cell_type": "markdown",
   "metadata": {},
   "source": [
    "# Training the model"
   ]
  },
  {
   "cell_type": "code",
   "execution_count": 20,
   "metadata": {},
   "outputs": [],
   "source": [
    "# # from tensorflow.keras.callbacks import EarlyStopping\n",
    "# # run the modelvalidat\n",
    "# # early_stopping = EarlyStopping(monitor='val_loss', min_delta=0, patience=20, verbose=5, mode='auto')\n",
    "# history = ae.fit(train_crops, epochs=300, steps_per_epoch=len(train_generator)*2, validation_data=val_crops, validation_steps =len(validation_generator),  verbose=1, shuffle = True)"
   ]
  },
  {
   "cell_type": "code",
   "execution_count": 21,
   "metadata": {},
   "outputs": [],
   "source": [
    "\n",
    "# # Get the training and validation loss values from the history object\n",
    "# train_loss = history.history['loss']\n",
    "# val_loss = history.history['val_loss']\n",
    "\n",
    "# # Plot the training and validation loss\n",
    "# epochs = range(1, len(train_loss) + 1)\n",
    "# plt.plot(epochs, train_loss, 'b-', label='Training Loss')\n",
    "# plt.plot(epochs, val_loss, 'r-', label='Validation Loss')\n",
    "# plt.title('Training and Validation Loss')\n",
    "# plt.xlabel('Epochs')\n",
    "# plt.ylabel('Loss')\n",
    "# plt.legend()\n",
    "# plt.show()\n"
   ]
  },
  {
   "cell_type": "markdown",
   "metadata": {},
   "source": [
    "Saving the train and validation history data"
   ]
  },
  {
   "cell_type": "code",
   "execution_count": 22,
   "metadata": {},
   "outputs": [],
   "source": [
    "# # open file\n",
    "# with open('txtFilesAutoencoderBottles6/TrainingLoss.txt', 'w+') as g:\n",
    "#     # write elements of list\n",
    "#     for items in train_loss:\n",
    "#         g.write('%s\\n' %items)\n",
    "#     print(\"train_loss written successfully\")\n",
    "# # close the file\n",
    "# g.close() \n",
    "\n",
    "# # open file\n",
    "# with open('txtFilesAutoencoderBottles6/ValidationLoss.txt', 'w+') as g:\n",
    "#     # write elements of list\n",
    "#     for items in val_loss:\n",
    "#         g.write('%s\\n' %items)\n",
    "#     print(\"val_loss written successfully\")\n",
    "# # close the file\n",
    "# g.close()\n"
   ]
  },
  {
   "cell_type": "markdown",
   "metadata": {},
   "source": [
    "LOading the train and validation history data"
   ]
  },
  {
   "cell_type": "code",
   "execution_count": 23,
   "metadata": {},
   "outputs": [
    {
     "data": {
      "image/png": "[encoded data removed]",
      "text/plain": [
       "<Figure size 640x480 with 1 Axes>"
      ]
     },
     "metadata": {},
     "output_type": "display_data"
    }
   ],
   "source": [
    "# Load data from the text file\n",
    "with open(\"txtFilesAutoencoderBottles6/TrainingLoss.txt\", \"r\") as file:\n",
    "    train_loss_data = [float(line.strip()) for line in file]\n",
    "\n",
    "# Load data from the text file\n",
    "with open(\"txtFilesAutoencoderBottles6/ValidationLoss.txt\", \"r\") as file:\n",
    "    val_loss_data = [float(line.strip()) for line in file]\n",
    "\n",
    "# Plot the training and validation loss\n",
    "epochs = range(1, len(train_loss_data) + 1)\n",
    "plt.plot(epochs, train_loss_data, 'b-', label='Training Loss')\n",
    "plt.plot(epochs, val_loss_data, 'r-', label='Validation Loss')\n",
    "plt.title('Training and Validation Loss')\n",
    "plt.xlabel('Epochs')\n",
    "plt.ylabel('Loss')\n",
    "plt.legend()\n",
    "plt.show()"
   ]
  },
  {
   "cell_type": "code",
   "execution_count": 24,
   "metadata": {},
   "outputs": [],
   "source": [
    "filepath = \"models/Bottles6_playground\""
   ]
  },
  {
   "cell_type": "code",
   "execution_count": 25,
   "metadata": {},
   "outputs": [],
   "source": [
    "# ae.save(f\"{filepath}\")"
   ]
  },
  {
   "attachments": {},
   "cell_type": "markdown",
   "metadata": {},
   "source": [
    "Loading the model that was previously saved\n"
   ]
  },
  {
   "cell_type": "code",
   "execution_count": 26,
   "metadata": {},
   "outputs": [
    {
     "name": "stdout",
     "output_type": "stream",
     "text": [
      "Model: \"model_3\"\n",
      "_________________________________________________________________\n",
      "Layer (type)                 Output Shape              Param #   \n",
      "=================================================================\n",
      "input_1 (InputLayer)         [(None, 160, 128, 3)]     0         \n",
      "_________________________________________________________________\n",
      "conv2d (Conv2D)              (None, 160, 128, 64)      1792      \n",
      "_________________________________________________________________\n",
      "max_pooling2d (MaxPooling2D) (None, 80, 64, 64)        0         \n",
      "_________________________________________________________________\n",
      "conv2d_1 (Conv2D)            (None, 80, 64, 32)        18464     \n",
      "_________________________________________________________________\n",
      "max_pooling2d_1 (MaxPooling2 (None, 40, 32, 32)        0         \n",
      "_________________________________________________________________\n",
      "conv2d_2 (Conv2D)            (None, 40, 32, 16)        4624      \n",
      "_________________________________________________________________\n",
      "max_pooling2d_2 (MaxPooling2 (None, 20, 16, 16)        0         \n",
      "_________________________________________________________________\n",
      "conv2d_3 (Conv2D)            (None, 20, 16, 4)         580       \n",
      "_________________________________________________________________\n",
      "max_pooling2d_3 (MaxPooling2 (None, 10, 8, 4)          0         \n",
      "_________________________________________________________________\n",
      "conv2d_4 (Conv2D)            (None, 10, 8, 1)          37        \n",
      "_________________________________________________________________\n",
      "flatten (Flatten)            (None, 80)                0         \n",
      "_________________________________________________________________\n",
      "dense (Dense)                (None, 80)                6480      \n",
      "_________________________________________________________________\n",
      "dense_1 (Dense)              (None, 40)                3240      \n",
      "_________________________________________________________________\n",
      "model_1 (Model)              (None, 160, 128, 3)       116203    \n",
      "=================================================================\n",
      "Total params: 151,420\n",
      "Trainable params: 151,420\n",
      "Non-trainable params: 0\n",
      "_________________________________________________________________\n"
     ]
    }
   ],
   "source": [
    "# VAE model statement\n",
    "model = Model(input_img,z_decoded)\n",
    "model.compile(optimizer='adam', loss='mean_squared_error')\n",
    "\n",
    "model.summary()"
   ]
  },
  {
   "cell_type": "code",
   "execution_count": 27,
   "metadata": {},
   "outputs": [
    {
     "name": "stdout",
     "output_type": "stream",
     "text": [
      "<class 'tensorflow.python.keras.engine.training.Model'>\n"
     ]
    }
   ],
   "source": [
    "model = keras.models.load_model(f'{filepath}')\n",
    "print(type(model))"
   ]
  },
  {
   "attachments": {},
   "cell_type": "markdown",
   "metadata": {},
   "source": [
    "# Quantifying the reconstruction error using \"evaluate_generator()\" function"
   ]
  },
  {
   "attachments": {},
   "cell_type": "markdown",
   "metadata": {},
   "source": [
    "Performing the computation of the reconstruction error of all the images in the training dataset. Computing the MSE of each image with its reconstructed version."
   ]
  },
  {
   "cell_type": "code",
   "execution_count": 28,
   "metadata": {},
   "outputs": [
    {
     "name": "stdout",
     "output_type": "stream",
     "text": [
      "WARNING:tensorflow:From /tmp/ipykernel_87498/1524259704.py:1: Model.evaluate_generator (from tensorflow.python.keras.engine.training) is deprecated and will be removed in a future version.\n",
      "Instructions for updating:\n",
      "Please use Model.evaluate, which supports generators.\n"
     ]
    },
    {
     "name": "stderr",
     "output_type": "stream",
     "text": [
      "2023-08-19 22:06:49.838057: I tensorflow/stream_executor/platform/default/dso_loader.cc:44] Successfully opened dynamic library libcublas.so.10\n",
      "2023-08-19 22:06:50.039711: I tensorflow/stream_executor/platform/default/dso_loader.cc:44] Successfully opened dynamic library libcudnn.so.7\n"
     ]
    },
    {
     "name": "stdout",
     "output_type": "stream",
     "text": [
      "Recon. error for the training (non-anomaly) data is:  0.004599393345415592\n"
     ]
    }
   ],
   "source": [
    "\n",
    "training_error = model.evaluate_generator(train_crops, steps=len(train_generator)*2)\n",
    "print(\"Recon. error for the training (non-anomaly) data is: \", training_error)"
   ]
  },
  {
   "attachments": {},
   "cell_type": "markdown",
   "metadata": {},
   "source": [
    "# Computing the reconstruction error without using the \"evaluate_generator()\" function"
   ]
  },
  {
   "attachments": {},
   "cell_type": "markdown",
   "metadata": {},
   "source": [
    "The following function computes the reconstrution error per each batch of images. It does, for each of the batches:\n",
    "- Initialize a vector for storing the reconstruction errors.\n",
    "- A for loop that traverses all the images contained in a batch.\n",
    "    - Take the one image of the batch.\n",
    "    - Add a new size dimension to the image.\n",
    "    - Make a prediction of the selected image with the model that was built.\n",
    "    - Evaluate the performance of the prediction, i.e. compute the prediction error.\n",
    "    - Append the reconstruction error into a list.\n",
    "- Compute the mean and std deviation of the error.\n",
    " "
   ]
  },
  {
   "cell_type": "code",
   "execution_count": 29,
   "metadata": {},
   "outputs": [],
   "source": [
    "def calc_recon_error(batch_images):   \n",
    "    recon_error_list=[]\n",
    "    for im in range(0, batch_images.shape[0]):\n",
    "        img  = batch_images[im]\n",
    "        img = img[np.newaxis, :,:,:]\n",
    "        reconstruction = model.predict([[img]])\n",
    "        # reconstruction_error = model.evaluate([reconstruction],[[img]], batch_size = 1)[0]    # The batch_size parameter for the moment can be supressed. Results were seen to be the same\n",
    "        # reconstruction_error = model.evaluate([reconstruction],[[img]])[0]                    # It included the [0] subscription but with this new model, the rec error is directly a float value, so no more need for subscription\n",
    "        reconstruction_error = model.evaluate([reconstruction],[[img]])\n",
    "        recon_error_list.append(reconstruction_error)   \n",
    "    return recon_error_list"
   ]
  },
  {
   "cell_type": "code",
   "execution_count": 30,
   "metadata": {},
   "outputs": [
    {
     "name": "stdout",
     "output_type": "stream",
     "text": [
      "1/1 [==============================] - 0s 715us/step - loss: 0.0057\n",
      "1/1 [==============================] - 0s 671us/step - loss: 0.0069\n",
      "1/1 [==============================] - 0s 643us/step - loss: 0.0069\n",
      "1/1 [==============================] - 0s 760us/step - loss: 0.0055\n",
      "1/1 [==============================] - 0s 709us/step - loss: 0.0073\n",
      "1/1 [==============================] - 0s 798us/step - loss: 0.0060\n",
      "1/1 [==============================] - 0s 678us/step - loss: 0.0080\n",
      "1/1 [==============================] - 0s 607us/step - loss: 0.0080\n",
      "1/1 [==============================] - 0s 745us/step - loss: 0.0060\n",
      "1/1 [==============================] - 0s 584us/step - loss: 0.0059\n",
      "1/1 [==============================] - 0s 863us/step - loss: 0.0055\n",
      "1/1 [==============================] - 0s 611us/step - loss: 0.0056\n",
      "1/1 [==============================] - 0s 981us/step - loss: 0.0056\n",
      "1/1 [==============================] - 0s 766us/step - loss: 0.0056\n",
      "1/1 [==============================] - 0s 853us/step - loss: 0.0052\n",
      "1/1 [==============================] - 0s 823us/step - loss: 0.0051\n",
      "1/1 [==============================] - 0s 820us/step - loss: 0.0049\n",
      "1/1 [==============================] - 0s 680us/step - loss: 0.0050\n",
      "1/1 [==============================] - 0s 777us/step - loss: 0.0055\n",
      "1/1 [==============================] - 0s 721us/step - loss: 0.0056\n",
      "1/1 [==============================] - 0s 778us/step - loss: 0.0055\n",
      "1/1 [==============================] - 0s 757us/step - loss: 0.0065\n",
      "1/1 [==============================] - 0s 801us/step - loss: 0.0078\n",
      "1/1 [==============================] - 0s 728us/step - loss: 0.0057\n",
      "1/1 [==============================] - 0s 911us/step - loss: 0.0123\n",
      "1/1 [==============================] - 0s 808us/step - loss: 0.0083\n",
      "1/1 [==============================] - 0s 909us/step - loss: 0.0101\n",
      "1/1 [==============================] - 0s 716us/step - loss: 0.0088\n",
      "1/1 [==============================] - 0s 913us/step - loss: 0.0069\n",
      "1/1 [==============================] - 0s 1ms/step - loss: 0.0050\n",
      "1/1 [==============================] - 0s 937us/step - loss: 0.0056\n",
      "1/1 [==============================] - 0s 1ms/step - loss: 0.0056\n",
      "1/1 [==============================] - 0s 623us/step - loss: 0.0049\n",
      "1/1 [==============================] - 0s 691us/step - loss: 0.0052\n",
      "1/1 [==============================] - 0s 2ms/step - loss: 0.0073\n",
      "1/1 [==============================] - 0s 717us/step - loss: 0.0073\n",
      "1/1 [==============================] - 0s 764us/step - loss: 0.0075\n",
      "1/1 [==============================] - 0s 1ms/step - loss: 0.0051\n",
      "1/1 [==============================] - 0s 753us/step - loss: 0.0049\n",
      "1/1 [==============================] - 0s 679us/step - loss: 0.0052\n",
      "1/1 [==============================] - 0s 668us/step - loss: 0.0052\n",
      "1/1 [==============================] - 0s 775us/step - loss: 0.0087\n",
      "1/1 [==============================] - 0s 651us/step - loss: 0.0073\n",
      "1/1 [==============================] - 0s 1ms/step - loss: 0.0095\n",
      "1/1 [==============================] - 0s 647us/step - loss: 0.0090\n",
      "1/1 [==============================] - 0s 646us/step - loss: 0.0128\n",
      "1/1 [==============================] - 0s 710us/step - loss: 0.0078\n",
      "1/1 [==============================] - 0s 603us/step - loss: 0.0117\n",
      "1/1 [==============================] - 0s 861us/step - loss: 0.0093\n",
      "1/1 [==============================] - 0s 620us/step - loss: 0.0059\n",
      "1/1 [==============================] - 0s 928us/step - loss: 0.0055\n",
      "1/1 [==============================] - 0s 1ms/step - loss: 0.0053\n",
      "1/1 [==============================] - 0s 619us/step - loss: 0.0058\n",
      "1/1 [==============================] - 0s 695us/step - loss: 0.0061\n",
      "1/1 [==============================] - 0s 1ms/step - loss: 0.0063\n",
      "1/1 [==============================] - 0s 757us/step - loss: 0.0069\n",
      "1/1 [==============================] - 0s 818us/step - loss: 0.0069\n",
      "1/1 [==============================] - 0s 640us/step - loss: 0.0073\n",
      "1/1 [==============================] - 0s 807us/step - loss: 0.0073\n",
      "1/1 [==============================] - 0s 625us/step - loss: 0.0052\n",
      "1/1 [==============================] - 0s 705us/step - loss: 0.0054\n",
      "1/1 [==============================] - 0s 713us/step - loss: 0.0064\n",
      "1/1 [==============================] - 0s 611us/step - loss: 0.0072\n",
      "1/1 [==============================] - 0s 855us/step - loss: 0.0058\n",
      "1/1 [==============================] - 0s 957us/step - loss: 0.0081\n",
      "1/1 [==============================] - 0s 680us/step - loss: 0.0081\n",
      "1/1 [==============================] - 0s 666us/step - loss: 0.0058\n",
      "1/1 [==============================] - 0s 587us/step - loss: 0.0070\n",
      "1/1 [==============================] - 0s 658us/step - loss: 0.0049\n",
      "1/1 [==============================] - 0s 693us/step - loss: 0.0048\n",
      "1/1 [==============================] - 0s 653us/step - loss: 0.0054\n",
      "1/1 [==============================] - 0s 642us/step - loss: 0.0057\n",
      "1/1 [==============================] - 0s 648us/step - loss: 0.0057\n",
      "1/1 [==============================] - 0s 680us/step - loss: 0.0057\n",
      "1/1 [==============================] - 0s 885us/step - loss: 0.0057\n",
      "1/1 [==============================] - 0s 679us/step - loss: 0.0057\n",
      "1/1 [==============================] - 0s 613us/step - loss: 0.0058\n",
      "1/1 [==============================] - 0s 716us/step - loss: 0.0058\n",
      "1/1 [==============================] - 0s 609us/step - loss: 0.0051\n",
      "1/1 [==============================] - 0s 884us/step - loss: 0.0055\n",
      "1/1 [==============================] - 0s 1ms/step - loss: 0.0061\n",
      "1/1 [==============================] - 0s 809us/step - loss: 0.0074\n",
      "1/1 [==============================] - 0s 715us/step - loss: 0.0062\n",
      "1/1 [==============================] - 0s 903us/step - loss: 0.0057\n",
      "1/1 [==============================] - 0s 767us/step - loss: 0.0087\n",
      "1/1 [==============================] - 0s 946us/step - loss: 0.0067\n",
      "1/1 [==============================] - 0s 942us/step - loss: 0.0068\n",
      "1/1 [==============================] - 0s 869us/step - loss: 0.0049\n",
      "1/1 [==============================] - 0s 1ms/step - loss: 0.0051\n",
      "1/1 [==============================] - 0s 571us/step - loss: 0.0053\n",
      "1/1 [==============================] - 0s 639us/step - loss: 0.0053\n",
      "1/1 [==============================] - 0s 669us/step - loss: 0.0053\n",
      "1/1 [==============================] - 0s 599us/step - loss: 0.0056\n",
      "1/1 [==============================] - 0s 1ms/step - loss: 0.0056\n",
      "1/1 [==============================] - 0s 1ms/step - loss: 0.0058\n",
      "1/1 [==============================] - 0s 1ms/step - loss: 0.0059\n",
      "1/1 [==============================] - 0s 1ms/step - loss: 0.0052\n",
      "1/1 [==============================] - 0s 1ms/step - loss: 0.0052\n",
      "1/1 [==============================] - 0s 1ms/step - loss: 0.0054\n",
      "1/1 [==============================] - 0s 1ms/step - loss: 0.0055\n",
      "1/1 [==============================] - 0s 912us/step - loss: 0.0051\n",
      "1/1 [==============================] - 0s 882us/step - loss: 0.0064\n",
      "1/1 [==============================] - 0s 899us/step - loss: 0.0057\n",
      "1/1 [==============================] - 0s 993us/step - loss: 0.0052\n",
      "1/1 [==============================] - 0s 917us/step - loss: 0.0051\n",
      "1/1 [==============================] - 0s 837us/step - loss: 0.0051\n",
      "1/1 [==============================] - 0s 815us/step - loss: 0.0072\n",
      "1/1 [==============================] - 0s 744us/step - loss: 0.0052\n",
      "1/1 [==============================] - 0s 671us/step - loss: 0.0049\n",
      "1/1 [==============================] - 0s 715us/step - loss: 0.0054\n",
      "1/1 [==============================] - 0s 620us/step - loss: 0.0056\n",
      "1/1 [==============================] - 0s 607us/step - loss: 0.0055\n",
      "1/1 [==============================] - 0s 640us/step - loss: 0.0054\n",
      "1/1 [==============================] - 0s 696us/step - loss: 0.0052\n",
      "1/1 [==============================] - 0s 803us/step - loss: 0.0052\n",
      "1/1 [==============================] - 0s 629us/step - loss: 0.0052\n",
      "1/1 [==============================] - 0s 670us/step - loss: 0.0052\n",
      "1/1 [==============================] - 0s 808us/step - loss: 0.0052\n",
      "1/1 [==============================] - 0s 727us/step - loss: 0.0059\n",
      "1/1 [==============================] - 0s 759us/step - loss: 0.0055\n",
      "1/1 [==============================] - 0s 668us/step - loss: 0.0054\n",
      "1/1 [==============================] - 0s 694us/step - loss: 0.0054\n",
      "1/1 [==============================] - 0s 1ms/step - loss: 0.0055\n",
      "1/1 [==============================] - 0s 686us/step - loss: 0.0054\n",
      "1/1 [==============================] - 0s 654us/step - loss: 0.0054\n",
      "1/1 [==============================] - 0s 759us/step - loss: 0.0060\n",
      "1/1 [==============================] - 0s 732us/step - loss: 0.0054\n",
      "1/1 [==============================] - 0s 639us/step - loss: 0.0052\n",
      "1/1 [==============================] - 0s 612us/step - loss: 0.0051\n",
      "1/1 [==============================] - 0s 665us/step - loss: 0.0053\n",
      "1/1 [==============================] - 0s 868us/step - loss: 0.0056\n",
      "1/1 [==============================] - 0s 675us/step - loss: 0.0056\n",
      "1/1 [==============================] - 0s 609us/step - loss: 0.0056\n",
      "1/1 [==============================] - 0s 603us/step - loss: 0.0056\n",
      "1/1 [==============================] - 0s 792us/step - loss: 0.0056\n",
      "1/1 [==============================] - 0s 704us/step - loss: 0.0062\n",
      "1/1 [==============================] - 0s 963us/step - loss: 0.0065\n",
      "1/1 [==============================] - 0s 908us/step - loss: 0.0064\n",
      "1/1 [==============================] - 0s 1ms/step - loss: 0.0056\n",
      "1/1 [==============================] - 0s 900us/step - loss: 0.0055\n",
      "1/1 [==============================] - 0s 1ms/step - loss: 0.0064\n",
      "1/1 [==============================] - 0s 1ms/step - loss: 0.0054\n",
      "1/1 [==============================] - 0s 955us/step - loss: 0.0053\n",
      "1/1 [==============================] - 0s 727us/step - loss: 0.0057\n",
      "1/1 [==============================] - 0s 876us/step - loss: 0.0074\n",
      "1/1 [==============================] - 0s 629us/step - loss: 0.0081\n",
      "1/1 [==============================] - 0s 1ms/step - loss: 0.0052\n",
      "1/1 [==============================] - 0s 1ms/step - loss: 0.0050\n",
      "1/1 [==============================] - 0s 693us/step - loss: 0.0053\n",
      "1/1 [==============================] - 0s 740us/step - loss: 0.0065\n",
      "1/1 [==============================] - 0s 966us/step - loss: 0.0055\n",
      "1/1 [==============================] - 0s 822us/step - loss: 0.0055\n",
      "1/1 [==============================] - 0s 791us/step - loss: 0.0064\n",
      "1/1 [==============================] - 0s 892us/step - loss: 0.0059\n",
      "1/1 [==============================] - 0s 734us/step - loss: 0.0056\n",
      "1/1 [==============================] - 0s 1ms/step - loss: 0.0054\n",
      "1/1 [==============================] - 0s 762us/step - loss: 0.0054\n",
      "1/1 [==============================] - 0s 810us/step - loss: 0.0058\n",
      "1/1 [==============================] - 0s 1ms/step - loss: 0.0068\n",
      "1/1 [==============================] - 0s 721us/step - loss: 0.0063\n",
      "1/1 [==============================] - 0s 736us/step - loss: 0.0062\n",
      "1/1 [==============================] - 0s 735us/step - loss: 0.0069\n",
      "1/1 [==============================] - 0s 1ms/step - loss: 0.0066\n",
      "1/1 [==============================] - 0s 730us/step - loss: 0.0068\n",
      "1/1 [==============================] - 0s 757us/step - loss: 0.0108\n",
      "1/1 [==============================] - 0s 622us/step - loss: 0.0079\n",
      "1/1 [==============================] - 0s 642us/step - loss: 0.0119\n",
      "1/1 [==============================] - 0s 679us/step - loss: 0.0056\n",
      "1/1 [==============================] - 0s 961us/step - loss: 0.0052\n",
      "1/1 [==============================] - 0s 859us/step - loss: 0.0050\n",
      "1/1 [==============================] - 0s 929us/step - loss: 0.0062\n",
      "1/1 [==============================] - 0s 935us/step - loss: 0.0064\n",
      "1/1 [==============================] - 0s 1ms/step - loss: 0.0065\n",
      "1/1 [==============================] - 0s 1ms/step - loss: 0.0066\n",
      "1/1 [==============================] - 0s 1ms/step - loss: 0.0070\n",
      "1/1 [==============================] - 0s 1ms/step - loss: 0.0066\n",
      "1/1 [==============================] - 0s 1ms/step - loss: 0.0077\n",
      "1/1 [==============================] - 0s 1ms/step - loss: 0.0086\n",
      "1/1 [==============================] - 0s 2ms/step - loss: 0.0085\n",
      "1/1 [==============================] - 0s 1ms/step - loss: 0.0085\n",
      "1/1 [==============================] - 0s 941us/step - loss: 0.0050\n",
      "1/1 [==============================] - 0s 1ms/step - loss: 0.0058\n",
      "1/1 [==============================] - 0s 1ms/step - loss: 0.0054\n",
      "1/1 [==============================] - 0s 918us/step - loss: 0.0049\n",
      "1/1 [==============================] - 0s 1ms/step - loss: 0.0048\n",
      "1/1 [==============================] - 0s 664us/step - loss: 0.0075\n",
      "1/1 [==============================] - 0s 601us/step - loss: 0.0052\n",
      "1/1 [==============================] - 0s 648us/step - loss: 0.0087\n",
      "1/1 [==============================] - 0s 859us/step - loss: 0.0054\n",
      "1/1 [==============================] - 0s 773us/step - loss: 0.0052\n",
      "1/1 [==============================] - 0s 828us/step - loss: 0.0086\n",
      "1/1 [==============================] - 0s 760us/step - loss: 0.0084\n",
      "1/1 [==============================] - 0s 854us/step - loss: 0.0090\n",
      "1/1 [==============================] - 0s 935us/step - loss: 0.0050\n",
      "1/1 [==============================] - 0s 736us/step - loss: 0.0048\n",
      "1/1 [==============================] - 0s 866us/step - loss: 0.0048\n",
      "1/1 [==============================] - 0s 903us/step - loss: 0.0075\n",
      "1/1 [==============================] - 0s 885us/step - loss: 0.0137\n",
      "1/1 [==============================] - 0s 1ms/step - loss: 0.0094\n",
      "1/1 [==============================] - 0s 1ms/step - loss: 0.0088\n",
      "1/1 [==============================] - 0s 766us/step - loss: 0.0052\n",
      "1/1 [==============================] - 0s 694us/step - loss: 0.0056\n",
      "1/1 [==============================] - 0s 959us/step - loss: 0.0053\n",
      "1/1 [==============================] - 0s 846us/step - loss: 0.0067\n",
      "1/1 [==============================] - 0s 698us/step - loss: 0.0057\n",
      "1/1 [==============================] - 0s 917us/step - loss: 0.0056\n",
      "1/1 [==============================] - 0s 1ms/step - loss: 0.0056\n",
      "1/1 [==============================] - 0s 840us/step - loss: 0.0055\n",
      "1/1 [==============================] - 0s 692us/step - loss: 0.0066\n",
      "1/1 [==============================] - 0s 772us/step - loss: 0.0049\n",
      "1/1 [==============================] - 0s 1ms/step - loss: 0.0085\n",
      "1/1 [==============================] - 0s 745us/step - loss: 0.0084\n",
      "1/1 [==============================] - 0s 990us/step - loss: 0.0084\n",
      "1/1 [==============================] - 0s 701us/step - loss: 0.0053\n",
      "1/1 [==============================] - 0s 680us/step - loss: 0.0052\n",
      "1/1 [==============================] - 0s 705us/step - loss: 0.0074\n",
      "1/1 [==============================] - 0s 752us/step - loss: 0.0075\n",
      "1/1 [==============================] - 0s 1ms/step - loss: 0.0074\n",
      "1/1 [==============================] - 0s 647us/step - loss: 0.0070\n",
      "1/1 [==============================] - 0s 869us/step - loss: 0.0072\n",
      "1/1 [==============================] - 0s 1ms/step - loss: 0.0048\n",
      "1/1 [==============================] - 0s 923us/step - loss: 0.0057\n",
      "1/1 [==============================] - 0s 1ms/step - loss: 0.0060\n",
      "1/1 [==============================] - 0s 825us/step - loss: 0.0070\n",
      "1/1 [==============================] - 0s 792us/step - loss: 0.0062\n",
      "1/1 [==============================] - 0s 757us/step - loss: 0.0061\n",
      "1/1 [==============================] - 0s 756us/step - loss: 0.0075\n",
      "1/1 [==============================] - 0s 735us/step - loss: 0.0059\n",
      "1/1 [==============================] - 0s 675us/step - loss: 0.0055\n",
      "1/1 [==============================] - 0s 706us/step - loss: 0.0057\n",
      "1/1 [==============================] - 0s 777us/step - loss: 0.0073\n",
      "1/1 [==============================] - 0s 698us/step - loss: 0.0071\n",
      "1/1 [==============================] - 0s 849us/step - loss: 0.0053\n",
      "1/1 [==============================] - 0s 675us/step - loss: 0.0056\n",
      "1/1 [==============================] - 0s 613us/step - loss: 0.0059\n",
      "1/1 [==============================] - 0s 632us/step - loss: 0.0058\n",
      "1/1 [==============================] - 0s 754us/step - loss: 0.0052\n",
      "1/1 [==============================] - 0s 573us/step - loss: 0.0058\n",
      "1/1 [==============================] - 0s 777us/step - loss: 0.0062\n",
      "1/1 [==============================] - 0s 626us/step - loss: 0.0072\n",
      "1/1 [==============================] - 0s 730us/step - loss: 0.0058\n",
      "1/1 [==============================] - 0s 671us/step - loss: 0.0062\n",
      "1/1 [==============================] - 0s 601us/step - loss: 0.0053\n",
      "1/1 [==============================] - 0s 644us/step - loss: 0.0084\n",
      "1/1 [==============================] - 0s 811us/step - loss: 0.0057\n",
      "1/1 [==============================] - 0s 797us/step - loss: 0.0078\n",
      "1/1 [==============================] - 0s 600us/step - loss: 0.0053\n",
      "1/1 [==============================] - 0s 1ms/step - loss: 0.0067\n",
      "1/1 [==============================] - 0s 685us/step - loss: 0.0053\n",
      "1/1 [==============================] - 0s 697us/step - loss: 0.0083\n",
      "1/1 [==============================] - 0s 618us/step - loss: 0.0052\n",
      "1/1 [==============================] - 0s 815us/step - loss: 0.0053\n",
      "1/1 [==============================] - 0s 608us/step - loss: 0.0051\n",
      "1/1 [==============================] - 0s 649us/step - loss: 0.0052\n",
      "1/1 [==============================] - 0s 792us/step - loss: 0.0052\n",
      "1/1 [==============================] - 0s 649us/step - loss: 0.0052\n",
      "1/1 [==============================] - 0s 709us/step - loss: 0.0050\n",
      "1/1 [==============================] - 0s 614us/step - loss: 0.0051\n",
      "1/1 [==============================] - 0s 913us/step - loss: 0.0051\n",
      "1/1 [==============================] - 0s 614us/step - loss: 0.0051\n",
      "1/1 [==============================] - 0s 595us/step - loss: 0.0055\n",
      "1/1 [==============================] - 0s 894us/step - loss: 0.0075\n",
      "1/1 [==============================] - 0s 615us/step - loss: 0.0052\n",
      "1/1 [==============================] - 0s 700us/step - loss: 0.0057\n",
      "1/1 [==============================] - 0s 1ms/step - loss: 0.0071\n",
      "1/1 [==============================] - 0s 935us/step - loss: 0.0063\n",
      "1/1 [==============================] - 0s 646us/step - loss: 0.0059\n",
      "1/1 [==============================] - 0s 756us/step - loss: 0.0058\n",
      "1/1 [==============================] - 0s 556us/step - loss: 0.0062\n",
      "1/1 [==============================] - 0s 776us/step - loss: 0.0056\n",
      "1/1 [==============================] - 0s 710us/step - loss: 0.0051\n",
      "1/1 [==============================] - 0s 660us/step - loss: 0.0051\n",
      "1/1 [==============================] - 0s 634us/step - loss: 0.0052\n",
      "1/1 [==============================] - 0s 822us/step - loss: 0.0051\n",
      "1/1 [==============================] - 0s 653us/step - loss: 0.0090\n",
      "1/1 [==============================] - 0s 709us/step - loss: 0.0077\n",
      "1/1 [==============================] - 0s 791us/step - loss: 0.0074\n",
      "1/1 [==============================] - 0s 1ms/step - loss: 0.0076\n",
      "1/1 [==============================] - 0s 718us/step - loss: 0.0066\n",
      "1/1 [==============================] - 0s 747us/step - loss: 0.0062\n",
      "1/1 [==============================] - 0s 688us/step - loss: 0.0060\n",
      "1/1 [==============================] - 0s 755us/step - loss: 0.0056\n",
      "1/1 [==============================] - 0s 685us/step - loss: 0.0054\n",
      "1/1 [==============================] - 0s 700us/step - loss: 0.0053\n",
      "1/1 [==============================] - 0s 773us/step - loss: 0.0062\n",
      "1/1 [==============================] - 0s 836us/step - loss: 0.0055\n",
      "1/1 [==============================] - 0s 575us/step - loss: 0.0084\n",
      "1/1 [==============================] - 0s 838us/step - loss: 0.0067\n",
      "1/1 [==============================] - 0s 672us/step - loss: 0.0080\n",
      "1/1 [==============================] - 0s 708us/step - loss: 0.0071\n",
      "1/1 [==============================] - 0s 583us/step - loss: 0.0062\n",
      "1/1 [==============================] - 0s 811us/step - loss: 0.0053\n",
      "1/1 [==============================] - 0s 586us/step - loss: 0.0058\n",
      "1/1 [==============================] - 0s 1ms/step - loss: 0.0055\n",
      "1/1 [==============================] - 0s 908us/step - loss: 0.0059\n",
      "1/1 [==============================] - 0s 669us/step - loss: 0.0091\n",
      "1/1 [==============================] - 0s 1ms/step - loss: 0.0098\n",
      "1/1 [==============================] - 0s 920us/step - loss: 0.0100\n",
      "1/1 [==============================] - 0s 588us/step - loss: 0.0098\n",
      "1/1 [==============================] - 0s 795us/step - loss: 0.0062\n",
      "1/1 [==============================] - 0s 646us/step - loss: 0.0065\n",
      "1/1 [==============================] - 0s 805us/step - loss: 0.0068\n",
      "1/1 [==============================] - 0s 651us/step - loss: 0.0053\n",
      "1/1 [==============================] - 0s 1ms/step - loss: 0.0058\n",
      "1/1 [==============================] - 0s 704us/step - loss: 0.0053\n",
      "1/1 [==============================] - 0s 901us/step - loss: 0.0053\n",
      "1/1 [==============================] - 0s 581us/step - loss: 0.0062\n",
      "1/1 [==============================] - 0s 612us/step - loss: 0.0066\n",
      "1/1 [==============================] - 0s 876us/step - loss: 0.0090\n",
      "1/1 [==============================] - 0s 678us/step - loss: 0.0124\n",
      "1/1 [==============================] - 0s 648us/step - loss: 0.0062\n",
      "1/1 [==============================] - 0s 671us/step - loss: 0.0054\n",
      "1/1 [==============================] - 0s 989us/step - loss: 0.0058\n",
      "1/1 [==============================] - 0s 731us/step - loss: 0.0059\n",
      "1/1 [==============================] - 0s 904us/step - loss: 0.0058\n",
      "1/1 [==============================] - 0s 606us/step - loss: 0.0061\n",
      "1/1 [==============================] - 0s 641us/step - loss: 0.0062\n",
      "1/1 [==============================] - 0s 870us/step - loss: 0.0053\n",
      "1/1 [==============================] - 0s 608us/step - loss: 0.0054\n",
      "1/1 [==============================] - 0s 690us/step - loss: 0.0060\n",
      "1/1 [==============================] - 0s 804us/step - loss: 0.0092\n",
      "1/1 [==============================] - 0s 691us/step - loss: 0.0055\n",
      "1/1 [==============================] - 0s 594us/step - loss: 0.0062\n",
      "1/1 [==============================] - 0s 649us/step - loss: 0.0069\n",
      "1/1 [==============================] - 0s 872us/step - loss: 0.0075\n",
      "1/1 [==============================] - 0s 605us/step - loss: 0.0053\n",
      "1/1 [==============================] - 0s 604us/step - loss: 0.0053\n",
      "1/1 [==============================] - 0s 723us/step - loss: 0.0050\n",
      "1/1 [==============================] - 0s 658us/step - loss: 0.0054\n",
      "1/1 [==============================] - 0s 697us/step - loss: 0.0089\n",
      "1/1 [==============================] - 0s 707us/step - loss: 0.0051\n",
      "1/1 [==============================] - 0s 715us/step - loss: 0.0050\n",
      "1/1 [==============================] - 0s 619us/step - loss: 0.0052\n",
      "1/1 [==============================] - 0s 668us/step - loss: 0.0057\n",
      "1/1 [==============================] - 0s 903us/step - loss: 0.0056\n",
      "1/1 [==============================] - 0s 585us/step - loss: 0.0058\n",
      "1/1 [==============================] - 0s 678us/step - loss: 0.0060\n",
      "1/1 [==============================] - 0s 697us/step - loss: 0.0081\n",
      "1/1 [==============================] - 0s 740us/step - loss: 0.0066\n",
      "1/1 [==============================] - 0s 842us/step - loss: 0.0059\n",
      "1/1 [==============================] - 0s 746us/step - loss: 0.0058\n",
      "1/1 [==============================] - 0s 558us/step - loss: 0.0078\n",
      "1/1 [==============================] - 0s 595us/step - loss: 0.0064\n",
      "1/1 [==============================] - 0s 757us/step - loss: 0.0060\n",
      "1/1 [==============================] - 0s 834us/step - loss: 0.0069\n",
      "1/1 [==============================] - 0s 695us/step - loss: 0.0061\n",
      "1/1 [==============================] - 0s 1ms/step - loss: 0.0048\n",
      "1/1 [==============================] - 0s 869us/step - loss: 0.0084\n",
      "1/1 [==============================] - 0s 609us/step - loss: 0.0085\n",
      "1/1 [==============================] - 0s 619us/step - loss: 0.0104\n",
      "1/1 [==============================] - 0s 614us/step - loss: 0.0056\n",
      "1/1 [==============================] - 0s 703us/step - loss: 0.0057\n",
      "1/1 [==============================] - 0s 585us/step - loss: 0.0057\n",
      "1/1 [==============================] - 0s 681us/step - loss: 0.0057\n",
      "1/1 [==============================] - 0s 691us/step - loss: 0.0056\n",
      "1/1 [==============================] - 0s 729us/step - loss: 0.0057\n",
      "1/1 [==============================] - 0s 675us/step - loss: 0.0050\n",
      "1/1 [==============================] - 0s 821us/step - loss: 0.0057\n",
      "1/1 [==============================] - 0s 805us/step - loss: 0.0054\n",
      "1/1 [==============================] - 0s 672us/step - loss: 0.0054\n",
      "1/1 [==============================] - 0s 633us/step - loss: 0.0059\n",
      "1/1 [==============================] - 0s 808us/step - loss: 0.0077\n",
      "1/1 [==============================] - 0s 991us/step - loss: 0.0099\n",
      "1/1 [==============================] - 0s 919us/step - loss: 0.0070\n",
      "1/1 [==============================] - 0s 946us/step - loss: 0.0051\n",
      "1/1 [==============================] - 0s 700us/step - loss: 0.0049\n",
      "1/1 [==============================] - 0s 652us/step - loss: 0.0072\n",
      "1/1 [==============================] - 0s 616us/step - loss: 0.0073\n",
      "1/1 [==============================] - 0s 639us/step - loss: 0.0079\n",
      "1/1 [==============================] - 0s 600us/step - loss: 0.0065\n",
      "1/1 [==============================] - 0s 663us/step - loss: 0.0054\n",
      "1/1 [==============================] - 0s 590us/step - loss: 0.0052\n",
      "1/1 [==============================] - 0s 964us/step - loss: 0.0053\n",
      "1/1 [==============================] - 0s 766us/step - loss: 0.0054\n",
      "1/1 [==============================] - 0s 610us/step - loss: 0.0052\n",
      "1/1 [==============================] - 0s 865us/step - loss: 0.0048\n",
      "1/1 [==============================] - 0s 1ms/step - loss: 0.0059\n",
      "1/1 [==============================] - 0s 822us/step - loss: 0.0056\n",
      "1/1 [==============================] - 0s 754us/step - loss: 0.0060\n",
      "1/1 [==============================] - 0s 618us/step - loss: 0.0058\n",
      "1/1 [==============================] - 0s 1ms/step - loss: 0.0083\n",
      "1/1 [==============================] - 0s 642us/step - loss: 0.0057\n",
      "1/1 [==============================] - 0s 618us/step - loss: 0.0058\n",
      "1/1 [==============================] - 0s 638us/step - loss: 0.0055\n",
      "1/1 [==============================] - 0s 636us/step - loss: 0.0056\n",
      "1/1 [==============================] - 0s 902us/step - loss: 0.0052\n",
      "1/1 [==============================] - 0s 964us/step - loss: 0.0055\n",
      "1/1 [==============================] - 0s 897us/step - loss: 0.0051\n",
      "1/1 [==============================] - 0s 1ms/step - loss: 0.0063\n",
      "1/1 [==============================] - 0s 614us/step - loss: 0.0057\n",
      "1/1 [==============================] - 0s 697us/step - loss: 0.0057\n",
      "1/1 [==============================] - 0s 710us/step - loss: 0.0059\n",
      "1/1 [==============================] - 0s 588us/step - loss: 0.0060\n",
      "1/1 [==============================] - 0s 618us/step - loss: 0.0078\n",
      "1/1 [==============================] - 0s 557us/step - loss: 0.0072\n",
      "1/1 [==============================] - 0s 686us/step - loss: 0.0068\n",
      "1/1 [==============================] - 0s 574us/step - loss: 0.0061\n",
      "1/1 [==============================] - 0s 599us/step - loss: 0.0059\n",
      "1/1 [==============================] - 0s 803us/step - loss: 0.0052\n",
      "1/1 [==============================] - 0s 662us/step - loss: 0.0060\n",
      "1/1 [==============================] - 0s 629us/step - loss: 0.0061\n",
      "1/1 [==============================] - 0s 700us/step - loss: 0.0054\n",
      "1/1 [==============================] - 0s 607us/step - loss: 0.0081\n",
      "1/1 [==============================] - 0s 908us/step - loss: 0.0072\n",
      "1/1 [==============================] - 0s 672us/step - loss: 0.0051\n",
      "1/1 [==============================] - 0s 643us/step - loss: 0.0063\n",
      "1/1 [==============================] - 0s 779us/step - loss: 0.0056\n",
      "1/1 [==============================] - 0s 612us/step - loss: 0.0063\n",
      "1/1 [==============================] - 0s 729us/step - loss: 0.0124\n",
      "1/1 [==============================] - 0s 601us/step - loss: 0.0104\n",
      "1/1 [==============================] - 0s 711us/step - loss: 0.0058\n",
      "1/1 [==============================] - 0s 674us/step - loss: 0.0054\n",
      "1/1 [==============================] - 0s 630us/step - loss: 0.0054\n",
      "1/1 [==============================] - 0s 681us/step - loss: 0.0054\n",
      "1/1 [==============================] - 0s 758us/step - loss: 0.0051\n",
      "1/1 [==============================] - 0s 1ms/step - loss: 0.0053\n",
      "1/1 [==============================] - 0s 617us/step - loss: 0.0082\n",
      "1/1 [==============================] - 0s 598us/step - loss: 0.0049\n",
      "1/1 [==============================] - 0s 634us/step - loss: 0.0070\n",
      "1/1 [==============================] - 0s 618us/step - loss: 0.0072\n",
      "1/1 [==============================] - 0s 651us/step - loss: 0.0084\n",
      "1/1 [==============================] - 0s 647us/step - loss: 0.0094\n",
      "1/1 [==============================] - 0s 827us/step - loss: 0.0097\n",
      "1/1 [==============================] - 0s 616us/step - loss: 0.0057\n",
      "1/1 [==============================] - 0s 641us/step - loss: 0.0066\n",
      "1/1 [==============================] - 0s 718us/step - loss: 0.0102\n",
      "1/1 [==============================] - 0s 612us/step - loss: 0.0078\n",
      "1/1 [==============================] - 0s 813us/step - loss: 0.0116\n",
      "1/1 [==============================] - 0s 596us/step - loss: 0.0066\n",
      "1/1 [==============================] - 0s 794us/step - loss: 0.0074\n",
      "1/1 [==============================] - 0s 637us/step - loss: 0.0075\n",
      "1/1 [==============================] - 0s 696us/step - loss: 0.0076\n",
      "1/1 [==============================] - 0s 631us/step - loss: 0.0073\n",
      "1/1 [==============================] - 0s 715us/step - loss: 0.0053\n",
      "1/1 [==============================] - 0s 653us/step - loss: 0.0060\n",
      "1/1 [==============================] - 0s 644us/step - loss: 0.0059\n",
      "1/1 [==============================] - 0s 596us/step - loss: 0.0057\n",
      "1/1 [==============================] - 0s 642us/step - loss: 0.0063\n",
      "1/1 [==============================] - 0s 621us/step - loss: 0.0060\n",
      "1/1 [==============================] - 0s 690us/step - loss: 0.0063\n",
      "1/1 [==============================] - 0s 554us/step - loss: 0.0118\n",
      "1/1 [==============================] - 0s 696us/step - loss: 0.0120\n",
      "1/1 [==============================] - 0s 586us/step - loss: 0.0085\n",
      "1/1 [==============================] - 0s 740us/step - loss: 0.0078\n",
      "1/1 [==============================] - 0s 588us/step - loss: 0.0115\n",
      "1/1 [==============================] - 0s 678us/step - loss: 0.0135\n",
      "1/1 [==============================] - 0s 650us/step - loss: 0.0115\n",
      "1/1 [==============================] - 0s 707us/step - loss: 0.0054\n",
      "1/1 [==============================] - 0s 621us/step - loss: 0.0054\n",
      "1/1 [==============================] - 0s 766us/step - loss: 0.0094\n",
      "1/1 [==============================] - 0s 635us/step - loss: 0.0066\n",
      "1/1 [==============================] - 0s 621us/step - loss: 0.0085\n",
      "1/1 [==============================] - 0s 612us/step - loss: 0.0076\n",
      "1/1 [==============================] - 0s 700us/step - loss: 0.0067\n",
      "1/1 [==============================] - 0s 641us/step - loss: 0.0072\n",
      "1/1 [==============================] - 0s 676us/step - loss: 0.0075\n",
      "1/1 [==============================] - 0s 698us/step - loss: 0.0073\n",
      "1/1 [==============================] - 0s 657us/step - loss: 0.0058\n",
      "1/1 [==============================] - 0s 710us/step - loss: 0.0059\n",
      "1/1 [==============================] - 0s 806us/step - loss: 0.0055\n",
      "1/1 [==============================] - 0s 738us/step - loss: 0.0096\n",
      "1/1 [==============================] - 0s 599us/step - loss: 0.0103\n",
      "1/1 [==============================] - 0s 611us/step - loss: 0.0122\n",
      "1/1 [==============================] - 0s 906us/step - loss: 0.0126\n",
      "1/1 [==============================] - 0s 712us/step - loss: 0.0101\n",
      "1/1 [==============================] - 0s 821us/step - loss: 0.0118\n",
      "1/1 [==============================] - 0s 668us/step - loss: 0.0125\n",
      "1/1 [==============================] - 0s 722us/step - loss: 0.0055\n",
      "1/1 [==============================] - 0s 622us/step - loss: 0.0051\n",
      "1/1 [==============================] - 0s 618us/step - loss: 0.0052\n",
      "1/1 [==============================] - 0s 716us/step - loss: 0.0078\n",
      "1/1 [==============================] - 0s 750us/step - loss: 0.0078\n",
      "1/1 [==============================] - 0s 621us/step - loss: 0.0078\n",
      "1/1 [==============================] - 0s 593us/step - loss: 0.0073\n",
      "1/1 [==============================] - 0s 599us/step - loss: 0.0069\n",
      "1/1 [==============================] - 0s 607us/step - loss: 0.0067\n",
      "1/1 [==============================] - 0s 680us/step - loss: 0.0067\n",
      "1/1 [==============================] - 0s 611us/step - loss: 0.0064\n",
      "1/1 [==============================] - 0s 648us/step - loss: 0.0064\n",
      "1/1 [==============================] - 0s 612us/step - loss: 0.0066\n",
      "1/1 [==============================] - 0s 608us/step - loss: 0.0058\n",
      "1/1 [==============================] - 0s 1ms/step - loss: 0.0052\n",
      "1/1 [==============================] - 0s 585us/step - loss: 0.0049\n",
      "1/1 [==============================] - 0s 910us/step - loss: 0.0063\n",
      "1/1 [==============================] - 0s 611us/step - loss: 0.0050\n",
      "1/1 [==============================] - 0s 737us/step - loss: 0.0047\n",
      "1/1 [==============================] - 0s 828us/step - loss: 0.0055\n",
      "1/1 [==============================] - 0s 561us/step - loss: 0.0058\n",
      "1/1 [==============================] - 0s 640us/step - loss: 0.0053\n",
      "1/1 [==============================] - 0s 774us/step - loss: 0.0137\n",
      "1/1 [==============================] - 0s 616us/step - loss: 0.0068\n",
      "1/1 [==============================] - 0s 595us/step - loss: 0.0065\n",
      "1/1 [==============================] - 0s 727us/step - loss: 0.0071\n",
      "1/1 [==============================] - 0s 623us/step - loss: 0.0074\n",
      "1/1 [==============================] - 0s 604us/step - loss: 0.0076\n",
      "1/1 [==============================] - 0s 716us/step - loss: 0.0062\n",
      "1/1 [==============================] - 0s 628us/step - loss: 0.0056\n",
      "1/1 [==============================] - 0s 667us/step - loss: 0.0091\n",
      "1/1 [==============================] - 0s 720us/step - loss: 0.0064\n",
      "1/1 [==============================] - 0s 637us/step - loss: 0.0091\n",
      "1/1 [==============================] - 0s 826us/step - loss: 0.0093\n",
      "1/1 [==============================] - 0s 602us/step - loss: 0.0157\n",
      "1/1 [==============================] - 0s 739us/step - loss: 0.0106\n",
      "1/1 [==============================] - 0s 586us/step - loss: 0.0123\n",
      "1/1 [==============================] - 0s 607us/step - loss: 0.0169\n",
      "1/1 [==============================] - 0s 582us/step - loss: 0.0108\n",
      "1/1 [==============================] - 0s 1ms/step - loss: 0.0115\n",
      "1/1 [==============================] - 0s 700us/step - loss: 0.0106\n",
      "1/1 [==============================] - 0s 642us/step - loss: 0.0089\n",
      "1/1 [==============================] - 0s 700us/step - loss: 0.0129\n",
      "1/1 [==============================] - 0s 598us/step - loss: 0.0090\n",
      "1/1 [==============================] - 0s 725us/step - loss: 0.0088\n",
      "1/1 [==============================] - 0s 780us/step - loss: 0.0087\n",
      "1/1 [==============================] - 0s 669us/step - loss: 0.0101\n",
      "1/1 [==============================] - 0s 746us/step - loss: 0.0107\n",
      "1/1 [==============================] - 0s 710us/step - loss: 0.0081\n",
      "1/1 [==============================] - 0s 641us/step - loss: 0.0081\n",
      "1/1 [==============================] - 0s 764us/step - loss: 0.0083\n",
      "1/1 [==============================] - 0s 645us/step - loss: 0.0083\n",
      "1/1 [==============================] - 0s 672us/step - loss: 0.0084\n",
      "1/1 [==============================] - 0s 615us/step - loss: 0.0091\n",
      "1/1 [==============================] - 0s 590us/step - loss: 0.0081\n",
      "1/1 [==============================] - 0s 677us/step - loss: 0.0068\n",
      "1/1 [==============================] - 0s 697us/step - loss: 0.0066\n",
      "1/1 [==============================] - 0s 623us/step - loss: 0.0072\n",
      "1/1 [==============================] - 0s 595us/step - loss: 0.0069\n",
      "1/1 [==============================] - 0s 631us/step - loss: 0.0078\n",
      "1/1 [==============================] - 0s 744us/step - loss: 0.0071\n",
      "1/1 [==============================] - 0s 743us/step - loss: 0.0079\n",
      "1/1 [==============================] - 0s 756us/step - loss: 0.0128\n",
      "1/1 [==============================] - 0s 623us/step - loss: 0.0085\n",
      "1/1 [==============================] - 0s 655us/step - loss: 0.0068\n",
      "1/1 [==============================] - 0s 616us/step - loss: 0.0073\n",
      "1/1 [==============================] - 0s 628us/step - loss: 0.0071\n",
      "1/1 [==============================] - 0s 618us/step - loss: 0.0089\n",
      "1/1 [==============================] - 0s 670us/step - loss: 0.0081\n",
      "1/1 [==============================] - 0s 612us/step - loss: 0.0081\n",
      "1/1 [==============================] - 0s 646us/step - loss: 0.0080\n",
      "1/1 [==============================] - 0s 799us/step - loss: 0.0070\n",
      "1/1 [==============================] - 0s 620us/step - loss: 0.0117\n",
      "1/1 [==============================] - 0s 621us/step - loss: 0.0208\n",
      "1/1 [==============================] - 0s 874us/step - loss: 0.0208\n",
      "1/1 [==============================] - 0s 602us/step - loss: 0.0209\n",
      "1/1 [==============================] - 0s 674us/step - loss: 0.0147\n",
      "1/1 [==============================] - 0s 662us/step - loss: 0.0207\n",
      "1/1 [==============================] - 0s 710us/step - loss: 0.0128\n",
      "1/1 [==============================] - 0s 690us/step - loss: 0.0122\n",
      "1/1 [==============================] - 0s 686us/step - loss: 0.0117\n",
      "1/1 [==============================] - 0s 723us/step - loss: 0.0120\n",
      "1/1 [==============================] - 0s 652us/step - loss: 0.0120\n",
      "1/1 [==============================] - 0s 752us/step - loss: 0.0052\n",
      "1/1 [==============================] - 0s 778us/step - loss: 0.0067\n",
      "1/1 [==============================] - 0s 669us/step - loss: 0.0056\n",
      "1/1 [==============================] - 0s 605us/step - loss: 0.0065\n",
      "1/1 [==============================] - 0s 676us/step - loss: 0.0055\n",
      "1/1 [==============================] - 0s 752us/step - loss: 0.0058\n",
      "1/1 [==============================] - 0s 609us/step - loss: 0.0068\n",
      "1/1 [==============================] - 0s 762us/step - loss: 0.0053\n",
      "1/1 [==============================] - 0s 768us/step - loss: 0.0060\n",
      "1/1 [==============================] - 0s 587us/step - loss: 0.0086\n",
      "1/1 [==============================] - 0s 636us/step - loss: 0.0049\n",
      "1/1 [==============================] - 0s 648us/step - loss: 0.0051\n",
      "1/1 [==============================] - 0s 722us/step - loss: 0.0053\n",
      "1/1 [==============================] - 0s 691us/step - loss: 0.0052\n",
      "1/1 [==============================] - 0s 584us/step - loss: 0.0051\n",
      "1/1 [==============================] - 0s 606us/step - loss: 0.0048\n",
      "1/1 [==============================] - 0s 606us/step - loss: 0.0049\n",
      "1/1 [==============================] - 0s 597us/step - loss: 0.0049\n",
      "1/1 [==============================] - 0s 735us/step - loss: 0.0049\n",
      "1/1 [==============================] - 0s 989us/step - loss: 0.0048\n",
      "1/1 [==============================] - 0s 671us/step - loss: 0.0056\n",
      "1/1 [==============================] - 0s 585us/step - loss: 0.0060\n",
      "1/1 [==============================] - 0s 605us/step - loss: 0.0054\n",
      "1/1 [==============================] - 0s 691us/step - loss: 0.0049\n",
      "1/1 [==============================] - 0s 748us/step - loss: 0.0063\n",
      "1/1 [==============================] - 0s 598us/step - loss: 0.0052\n",
      "1/1 [==============================] - 0s 700us/step - loss: 0.0060\n",
      "1/1 [==============================] - 0s 725us/step - loss: 0.0072\n",
      "1/1 [==============================] - 0s 745us/step - loss: 0.0082\n",
      "1/1 [==============================] - 0s 899us/step - loss: 0.0087\n",
      "1/1 [==============================] - 0s 664us/step - loss: 0.0047\n",
      "1/1 [==============================] - 0s 675us/step - loss: 0.0048\n",
      "1/1 [==============================] - 0s 752us/step - loss: 0.0050\n",
      "1/1 [==============================] - 0s 607us/step - loss: 0.0053\n",
      "1/1 [==============================] - 0s 667us/step - loss: 0.0052\n",
      "1/1 [==============================] - 0s 697us/step - loss: 0.0049\n",
      "1/1 [==============================] - 0s 604us/step - loss: 0.0056\n",
      "1/1 [==============================] - 0s 634us/step - loss: 0.0056\n",
      "1/1 [==============================] - 0s 591us/step - loss: 0.0056\n",
      "1/1 [==============================] - 0s 592us/step - loss: 0.0056\n",
      "The list of rec. error contains  60 batches of rec. errors\n"
     ]
    }
   ],
   "source": [
    "total_rec_error = []\n",
    "for i in range(len(train_generator)):                               #This will traverse the train generator the number of batches it contains\n",
    "    images_in_batch, images_in_batch2 = next(train_crops)           #As for each next step of the \"train_crops\" generator it exists one batch of the augmented and one batch of the orignial images, we perform twice the calc_recon_error() function\n",
    "    batch_input_images1 = images_in_batch[0]\n",
    "    total_rec_error.append(calc_recon_error(batch_input_images1))\n",
    "    batch_input_images2 = images_in_batch2[0]\n",
    "    total_rec_error.append(calc_recon_error(batch_input_images2))\n",
    "    \n",
    "print(\"The list of rec. error contains \", len(total_rec_error), \"batches of rec. errors\")\n"
   ]
  },
  {
   "cell_type": "markdown",
   "metadata": {},
   "source": [
    "Above we can see, that it contains 60 batches and almost all of them includes 10 elements. Recall that the total number of images of the training dataset was 295. Hence in total we should have 295*2=590 error values. Let's convert it into a 590-length list."
   ]
  },
  {
   "cell_type": "code",
   "execution_count": 31,
   "metadata": {},
   "outputs": [
    {
     "name": "stdout",
     "output_type": "stream",
     "text": [
      "590\n"
     ]
    }
   ],
   "source": [
    "total_rec_error_list = [item for sublist in total_rec_error for item in sublist]\n",
    "print(len(total_rec_error_list))"
   ]
  },
  {
   "cell_type": "code",
   "execution_count": 32,
   "metadata": {},
   "outputs": [
    {
     "name": "stdout",
     "output_type": "stream",
     "text": [
      "THIS IS FOR THE TRAINING (NON-ANOMALY) IMAGES\n",
      "\n",
      "The average of the errors list is:  0.0068161893312393106\n",
      "The standard deviation of the errors list is:  0.002247349706283888\n",
      "The min value of the errors list is:  0.004731549881398678\n",
      "The max value of the errors list is:  0.020867813378572464\n"
     ]
    }
   ],
   "source": [
    "na_average_recon_error = np.mean(np.array(total_rec_error_list))  \n",
    "na_stdev_recon_error = np.std(np.array(total_rec_error_list)) \n",
    "min_prob = np.min(total_rec_error_list)\n",
    "max_prob = np.max(total_rec_error_list)\n",
    "print(\"THIS IS FOR THE TRAINING (NON-ANOMALY) IMAGES\\n\")\n",
    "print(\"The average of the errors list is: \", na_average_recon_error)\n",
    "print(\"The standard deviation of the errors list is: \", na_stdev_recon_error)\n",
    "print(\"The min value of the errors list is: \", min_prob)\n",
    "print(\"The max value of the errors list is: \", max_prob)"
   ]
  },
  {
   "cell_type": "markdown",
   "metadata": {},
   "source": [
    "Above it can be seen that computing the model.evaluate_generator() function does NOT output the same as computing the error of each image one by one. We will use this last approach, the one by one error computation."
   ]
  },
  {
   "cell_type": "markdown",
   "metadata": {},
   "source": [
    "# Comparing with a custom created MSE function"
   ]
  },
  {
   "cell_type": "code",
   "execution_count": 33,
   "metadata": {},
   "outputs": [],
   "source": [
    "def mse(image1, image2):\n",
    "    squared_diff = np.square(image1 - image2)\n",
    "    mse_value = np.mean(squared_diff)\n",
    "    return mse_value"
   ]
  },
  {
   "cell_type": "code",
   "execution_count": 34,
   "metadata": {},
   "outputs": [],
   "source": [
    "def calc_recon_error_withOwnMSE(batch_images):   \n",
    "    recon_error_list=[]\n",
    "    for im in range(0, batch_images.shape[0]):\n",
    "        img  = batch_images[im]\n",
    "        img = img[np.newaxis, :,:,:]\n",
    "        reconstruction = model.predict([[img]])\n",
    "        # print(reconstruction[0].shape)\n",
    "        # print(img[0].shape)\n",
    "        # image_permuted1 = reconstruction[0].permute(1, 2, 0) \n",
    "        # image_permuted2 = img[0].permute(1, 2, 0) \n",
    "        # print(image_permuted1.shape)\n",
    "        # print(image_permuted2.shape)\n",
    "        \n",
    "        reconstruction_error = mse(img[0],reconstruction[0])\n",
    "        recon_error_list.append(reconstruction_error)   \n",
    "    return recon_error_list"
   ]
  },
  {
   "cell_type": "code",
   "execution_count": 35,
   "metadata": {},
   "outputs": [
    {
     "name": "stdout",
     "output_type": "stream",
     "text": [
      "1/1 [==============================] - 0s 768us/step - loss: 0.0056\n",
      "1/1 [==============================] - 0s 1ms/step - loss: 0.0069\n",
      "1/1 [==============================] - 0s 801us/step - loss: 0.0056\n",
      "1/1 [==============================] - 0s 733us/step - loss: 0.0075\n",
      "1/1 [==============================] - 0s 638us/step - loss: 0.0105\n",
      "1/1 [==============================] - 0s 596us/step - loss: 0.0090\n",
      "1/1 [==============================] - 0s 701us/step - loss: 0.0057\n",
      "1/1 [==============================] - 0s 585us/step - loss: 0.0084\n",
      "1/1 [==============================] - 0s 686us/step - loss: 0.0054\n",
      "1/1 [==============================] - 0s 783us/step - loss: 0.0057\n",
      "1/1 [==============================] - 0s 541us/step - loss: 0.0055\n",
      "1/1 [==============================] - 0s 620us/step - loss: 0.0056\n",
      "1/1 [==============================] - 0s 618us/step - loss: 0.0056\n",
      "1/1 [==============================] - 0s 912us/step - loss: 0.0056\n",
      "1/1 [==============================] - 0s 624us/step - loss: 0.0052\n",
      "1/1 [==============================] - 0s 594us/step - loss: 0.0051\n",
      "1/1 [==============================] - 0s 649us/step - loss: 0.0049\n",
      "1/1 [==============================] - 0s 638us/step - loss: 0.0050\n",
      "1/1 [==============================] - 0s 702us/step - loss: 0.0055\n",
      "1/1 [==============================] - 0s 640us/step - loss: 0.0056\n",
      "The list of rec. error contains  2 batches of rec. errors\n",
      "The list of rec. error contains  2 batches of rec. errors\n"
     ]
    }
   ],
   "source": [
    "total_rec_error = []\n",
    "total_rec_error2 = []\n",
    "for i in range(1):                               #This will traverse the train generator the number of batches it contains\n",
    "    images_in_batch, images_in_batch2 = next(train_crops)           #As for each next step of the \"train_crops\" generator it exists one batch of the augmented and one batch of the orignial images, we perform twice the calc_recon_error() function\n",
    "    \n",
    "    batch_input_images1 = images_in_batch[0]\n",
    "    total_rec_error.append(calc_recon_error_withOwnMSE(batch_input_images1))\n",
    "    batch_input_images2 = images_in_batch2[0]\n",
    "    total_rec_error.append(calc_recon_error_withOwnMSE(batch_input_images2))\n",
    "\n",
    "    total_rec_error2.append(calc_recon_error(batch_input_images1))\n",
    "    total_rec_error2.append(calc_recon_error(batch_input_images2))\n",
    "    \n",
    "print(\"The list of rec. error contains \", len(total_rec_error), \"batches of rec. errors\")\n",
    "print(\"The list of rec. error contains \", len(total_rec_error2), \"batches of rec. errors\")"
   ]
  },
  {
   "cell_type": "code",
   "execution_count": 36,
   "metadata": {},
   "outputs": [
    {
     "name": "stdout",
     "output_type": "stream",
     "text": [
      "20\n",
      "20\n"
     ]
    }
   ],
   "source": [
    "total_rec_error_list = [item for sublist in total_rec_error for item in sublist]\n",
    "print(len(total_rec_error_list))\n",
    "\n",
    "total_rec_error_list2 = [item for sublist in total_rec_error2 for item in sublist]\n",
    "print(len(total_rec_error_list2))"
   ]
  },
  {
   "cell_type": "code",
   "execution_count": 37,
   "metadata": {},
   "outputs": [
    {
     "name": "stdout",
     "output_type": "stream",
     "text": [
      "THIS IS FOR THE TRAINING (NON-ANOMALY) IMAGES\n",
      "\n",
      "The average of the errors list is:  0.005248125243101754\n",
      "The standard deviation of the errors list is:  0.001075651086122679\n",
      "The min value of the errors list is:  0.0039970471059443576\n",
      "The max value of the errors list is:  0.007466854805030381\n"
     ]
    }
   ],
   "source": [
    "na_average_recon_error = np.mean(np.array(total_rec_error_list))  \n",
    "na_stdev_recon_error = np.std(np.array(total_rec_error_list)) \n",
    "min_prob = np.min(total_rec_error_list)\n",
    "max_prob = np.max(total_rec_error_list)\n",
    "print(\"THIS IS FOR THE TRAINING (NON-ANOMALY) IMAGES\\n\")\n",
    "print(\"The average of the errors list is: \", na_average_recon_error)\n",
    "print(\"The standard deviation of the errors list is: \", na_stdev_recon_error)\n",
    "print(\"The min value of the errors list is: \", min_prob)\n",
    "print(\"The max value of the errors list is: \", max_prob)"
   ]
  },
  {
   "cell_type": "code",
   "execution_count": 38,
   "metadata": {},
   "outputs": [
    {
     "name": "stdout",
     "output_type": "stream",
     "text": [
      "THIS IS FOR THE TRAINING (NON-ANOMALY) IMAGES\n",
      "\n",
      "The average of the errors list is:  0.006202859105542302\n",
      "The standard deviation of the errors list is:  0.0014649847103773736\n",
      "The min value of the errors list is:  0.004927421920001507\n",
      "The max value of the errors list is:  0.010507719591259956\n"
     ]
    }
   ],
   "source": [
    "na_average_recon_error = np.mean(np.array(total_rec_error_list2))  \n",
    "na_stdev_recon_error = np.std(np.array(total_rec_error_list2)) \n",
    "min_prob = np.min(total_rec_error_list2)\n",
    "max_prob = np.max(total_rec_error_list2)\n",
    "print(\"THIS IS FOR THE TRAINING (NON-ANOMALY) IMAGES\\n\")\n",
    "print(\"The average of the errors list is: \", na_average_recon_error)\n",
    "print(\"The standard deviation of the errors list is: \", na_stdev_recon_error)\n",
    "print(\"The min value of the errors list is: \", min_prob)\n",
    "print(\"The max value of the errors list is: \", max_prob)"
   ]
  },
  {
   "cell_type": "markdown",
   "metadata": {},
   "source": [
    "Comparing only one image with both approaches"
   ]
  },
  {
   "cell_type": "code",
   "execution_count": 40,
   "metadata": {},
   "outputs": [
    {
     "name": "stdout",
     "output_type": "stream",
     "text": [
      "This is the rec error found by the MSE custom function: 0.004655175975908163\n",
      "1/1 [==============================] - 0s 574us/step - loss: 0.0000e+00\n",
      "This is the rec error found by the evaluate() function: 0.0\n",
      "This is comparisson imgs: True\n",
      "This is comparisson recs: True\n"
     ]
    }
   ],
   "source": [
    "total_rec_error = []\n",
    "total_rec_error2 = []\n",
    "for i in range(1):                               #This will traverse the train generator the number of batches it contains\n",
    "    images_in_batch, images_in_batch2 = next(train_crops)           #As for each next step of the \"train_crops\" generator it exists one batch of the augmented and one batch of the orignial images, we perform twice the calc_recon_error() function\n",
    "    \n",
    "    batch_input_images1 = images_in_batch[0]\n",
    "\n",
    "    for im in range(1):\n",
    "        img  = batch_input_images1[im]\n",
    "        img1 = img[np.newaxis, :,:,:]\n",
    "        reconstruction1 = model.predict([[img1]])\n",
    "        \n",
    "        reconstruction_error1 = mse(img1[0],reconstruction1[0])\n",
    "        print(\"This is the rec error found by the MSE custom function:\", reconstruction_error1)\n",
    "    \n",
    "    for im in range(1):\n",
    "        img  = batch_input_images1[im]\n",
    "        img2 = img[np.newaxis, :,:,:]\n",
    "        reconstruction2 = model.predict([[img2]])\n",
    "        \n",
    "        reconstruction_error2 = model.evaluate([img2],[reconstruction2])\n",
    "        print(\"This is the rec error found by the evaluate() function:\", reconstruction_error2)\n",
    "    compareImgs = img1==img2\n",
    "    compareRecs = reconstruction1==reconstruction2\n",
    "    res1 =  np.all(compareImgs)\n",
    "    res2 = np.all(compareRecs)\n",
    "\n",
    "    print(\"This is comparisson imgs:\", res1)\n",
    "    print(\"This is comparisson recs:\", res2)\n"
   ]
  },
  {
   "cell_type": "markdown",
   "metadata": {},
   "source": [
    "As it can be seen above, the results with the custo MSE and the evaluate function are NOT the same. These could be the cause for this difference.\n",
    "\n",
    "Normalization or Scaling: The model.evaluate() function in Keras often expects input data to be normalized or scaled in a certain way. If your custom mse() function operates on unnormalized data, it can lead to discrepancies.\n",
    "\n",
    "Data Type: Ensure that the data types of your images are the same in both cases. If there's a difference in data types, such as float32 vs float64, it can lead to different results due to precision differences.\n",
    "\n",
    "Channel Ordering: Keras can have different channel ordering conventions for images (either \"channels_first\" or \"channels_last\"). If the model and your custom function are using different conventions, it can cause discrepancies.\n",
    "\n",
    "Batch Size: The model.evaluate() function typically operates on batches of data. If you're passing a single image to it, it might internally wrap it in a batch, which could cause differences.\n",
    "\n",
    "Preprocessing or Postprocessing: Keras might apply preprocessing or postprocessing steps to the input data before calculating the loss. Make sure your custom function takes this into account."
   ]
  },
  {
   "cell_type": "markdown",
   "metadata": {},
   "source": [
    "Finally, we can also see that the custom MSE function does not depend on the channel ordering. See below:"
   ]
  },
  {
   "cell_type": "code",
   "execution_count": 42,
   "metadata": {},
   "outputs": [
    {
     "name": "stdout",
     "output_type": "stream",
     "text": [
      "(160, 128, 3)\n",
      "(160, 128, 3)\n"
     ]
    }
   ],
   "source": [
    "image1 = img1[0]\n",
    "image2 = reconstruction1[0]\n",
    "print(image1.shape)\n",
    "print(image2.shape)"
   ]
  },
  {
   "cell_type": "code",
   "execution_count": 44,
   "metadata": {},
   "outputs": [
    {
     "name": "stdout",
     "output_type": "stream",
     "text": [
      "0.004655175975908163\n"
     ]
    }
   ],
   "source": [
    "squared_diff = np.square(image1 - image2)\n",
    "mse_value = np.mean(squared_diff)\n",
    "print(mse_value)"
   ]
  },
  {
   "cell_type": "code",
   "execution_count": 45,
   "metadata": {},
   "outputs": [
    {
     "name": "stdout",
     "output_type": "stream",
     "text": [
      "(3, 160, 128)\n",
      "(3, 160, 128)\n"
     ]
    }
   ],
   "source": [
    "image_permuted1 = image1.transpose(2, 0, 1)\n",
    "image_permuted2 = image2.transpose(2, 0, 1)\n",
    "print(image_permuted1.shape)\n",
    "print(image_permuted1.shape)"
   ]
  },
  {
   "cell_type": "code",
   "execution_count": 46,
   "metadata": {},
   "outputs": [
    {
     "name": "stdout",
     "output_type": "stream",
     "text": [
      "0.004655175975908163\n"
     ]
    }
   ],
   "source": [
    "squared_diff = np.square(image_permuted1 - image_permuted2)\n",
    "mse_value = np.mean(squared_diff)\n",
    "print(mse_value)"
   ]
  }
 ],
 "metadata": {
  "kernelspec": {
   "display_name": "Python 3",
   "language": "python",
   "name": "python3"
  },
  "language_info": {
   "codemirror_mode": {
    "name": "ipython",
    "version": 3
   },
   "file_extension": ".py",
   "mimetype": "text/x-python",
   "name": "python",
   "nbconvert_exporter": "python",
   "pygments_lexer": "ipython3",
   "version": "3.8.10"
  },
  "orig_nbformat": 4,
  "vscode": {
   "interpreter": {
    "hash": "916dbcbb3f70747c44a77c7bcd40155683ae19c65e1c03b4aa3499c5328201f1"
   }
  }
 },
 "nbformat": 4,
 "nbformat_minor": 2
}
