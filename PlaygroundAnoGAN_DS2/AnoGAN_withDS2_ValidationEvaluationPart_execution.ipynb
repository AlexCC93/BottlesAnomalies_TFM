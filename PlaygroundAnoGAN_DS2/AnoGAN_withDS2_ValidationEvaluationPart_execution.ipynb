{
  "cells": [
    {
      "cell_type": "markdown",
      "metadata": {},
      "source": [
        "# Importing libraries"
      ]
    },
    {
      "cell_type": "code",
      "execution_count": 1,
      "metadata": {},
      "outputs": [
        {
          "name": "stderr",
          "output_type": "stream",
          "text": [
            "c:\\Users\\alexj\\.conda\\envs\\tfm_3\\lib\\site-packages\\tqdm\\auto.py:21: TqdmWarning: IProgress not found. Please update jupyter and ipywidgets. See https://ipywidgets.readthedocs.io/en/stable/user_install.html\n",
            "  from .autonotebook import tqdm as notebook_tqdm\n"
          ]
        }
      ],
      "source": [
        "import os\n",
        "\n",
        "from torch import nn\n",
        "from torch.autograd import grad\n",
        "import torch\n",
        "\n",
        "from torch.utils.data import DataLoader\n",
        "from torch import optim\n",
        "from torch import autograd\n",
        "from torch import nn\n",
        "from torchvision.utils import save_image\n",
        "from torchvision import datasets, transforms\n",
        "from torch.utils.data import sampler\n",
        "from argparse import ArgumentParser\n",
        "#from wgan64x64 import *\n",
        "from sklearn import metrics\n",
        "from tqdm.auto import tqdm\n",
        "import numpy as np\n",
        "import time\n",
        "import os\n",
        "import sys\n",
        "import random\n",
        "from sklearn.datasets import fetch_openml\n",
        "import matplotlib.pyplot as plt\n"
      ]
    },
    {
      "cell_type": "markdown",
      "metadata": {},
      "source": [
        "# Enabling GPU capabilites"
      ]
    },
    {
      "cell_type": "code",
      "execution_count": 2,
      "metadata": {},
      "outputs": [
        {
          "name": "stdout",
          "output_type": "stream",
          "text": [
            "max_split_size_mb:21\n"
          ]
        }
      ],
      "source": [
        "os.environ[\"PYTORCH_CUDA_ALLOC_CONF\"]= \"max_split_size_mb:21\"\n",
        "key = \"PYTORCH_CUDA_ALLOC_CONF\"\n",
        "value = os.getenv(key)\n",
        "\n",
        "print(value)"
      ]
    },
    {
      "cell_type": "code",
      "execution_count": 3,
      "metadata": {},
      "outputs": [
        {
          "name": "stdout",
          "output_type": "stream",
          "text": [
            "cuda:0\n"
          ]
        }
      ],
      "source": [
        "options_c     = 0 # <- normal class\n",
        "options_alpha = 1\n",
        "options_cuda  = '0'\n",
        "def get_device():\n",
        "    if torch.cuda.is_available():\n",
        "        device = 'cuda:0'\n",
        "        torch.cuda.set_device('cuda:{}'.format(options_cuda))\n",
        "    else:\n",
        "        device = 'cpu'\n",
        "    return device\n",
        "\n",
        "device = get_device()\n",
        "print(device)\n",
        "\n",
        "# device2 = torch.device('cuda:{}'.format(options_cuda))\n",
        "# torch.cuda.set_device('cuda:{}'.format(options_cuda))"
      ]
    },
    {
      "cell_type": "markdown",
      "metadata": {},
      "source": [
        "# Loading the train, validation and test data sets"
      ]
    },
    {
      "cell_type": "code",
      "execution_count": 4,
      "metadata": {},
      "outputs": [],
      "source": [
        "MODE = 'wgan-gp'  # Valid options are dcgan, wgan, or wgan-gp\n",
        "\n",
        "LAMBDA = 10  # Gradient penalty lambda hyperparameter\n",
        "CRITIC_ITERS = 12  # How many critic iterations per generator iteration\n",
        "BATCH_SIZE = 5  # Batch size\n",
        "\n",
        "LATENT_SPACE_SIZE = 230"
      ]
    },
    {
      "cell_type": "code",
      "execution_count": 5,
      "metadata": {},
      "outputs": [],
      "source": [
        "DIM = 160\n",
        "OUTPUT_DIM = 3*160*160\n",
        "\n",
        "TOP_CROP_POS = 50\n",
        "LEFT_CROP_POS = 35"
      ]
    },
    {
      "cell_type": "code",
      "execution_count": 6,
      "metadata": {},
      "outputs": [],
      "source": [
        "def one_class_dataloader(c, nw=0, bs=64):\n",
        "    nw = 0\n",
        "    # data_dir = '../../Images/BottleStoodUp_atNight/Positive'      #This is for the home laptop\n",
        "    # test_dir = '../../Images/BottleStoodUp_atNight/Evaluation'      #This is for the home laptop\n",
        "    data_dir = '../../Images/june5Night/Positive'      #This is for the home laptop\n",
        "    test_dir = '../../Images/june5Night/Evaluation'      #This is for the home laptop\n",
        "\n",
        "    val_dir = '../../Images/june5Night/Validation/'      #This is for the home laptop\n",
        "    \n",
        "    transform = transforms.Compose([\n",
        "            # transforms.RandomCrop(32, padding=4),\n",
        "            # transforms.RandomHorizontalFlip(),\n",
        "            transforms.Resize(255),\n",
        "            transforms.CenterCrop(224),\n",
        "            transforms.ToTensor(),\n",
        "            # transforms.Normalize((0.5, 0.5, 0.5),\n",
        "            #                      (0.5, 0.5, 0.5)),\n",
        "        ])\n",
        "\n",
        "    dataset = datasets.ImageFolder(data_dir, transform = transform)\n",
        "    trainloader = DataLoader(\n",
        "        dataset, bs, num_workers=nw, pin_memory=True, drop_last=True) \n",
        "    \n",
        "    dataset_test = datasets.ImageFolder(test_dir, transform = transform)\n",
        "    dataloader_test = DataLoader(\n",
        "        dataset_test, bs, num_workers=nw, pin_memory=True, drop_last=False) \n",
        "    \n",
        "    dataset_val = datasets.ImageFolder(val_dir, transform = transform)\n",
        "    dataloader_val = DataLoader(\n",
        "        dataset_val, bs, num_workers=nw, pin_memory=True, drop_last=False) \n",
        "\n",
        "\n",
        "    # return trainloader, dataloader_test\n",
        "    return trainloader, dataloader_test, dataloader_val"
      ]
    },
    {
      "cell_type": "markdown",
      "metadata": {},
      "source": [
        "# Showing one sample of the training set images"
      ]
    },
    {
      "cell_type": "code",
      "execution_count": 7,
      "metadata": {},
      "outputs": [],
      "source": [
        "dataloader, _, _ = one_class_dataloader(options_c, 0, BATCH_SIZE)"
      ]
    },
    {
      "cell_type": "code",
      "execution_count": 8,
      "metadata": {},
      "outputs": [
        {
          "name": "stdout",
          "output_type": "stream",
          "text": [
            "The images are stored in a variable of type:  <class 'torch.Tensor'>\n",
            "The classes labels are:  tensor([0, 0, 0, 0, 0])\n",
            "tensor(0.0157, device='cuda:0') tensor(1., device='cuda:0')\n"
          ]
        }
      ],
      "source": [
        "images, labels = next(iter(dataloader))\n",
        "images = images.to(device)\n",
        "print(\"The images are stored in a variable of type: \", type(images))\n",
        "print(\"The classes labels are: \", labels)\n",
        "print(torch.min(images), torch.max(images))"
      ]
    },
    {
      "cell_type": "code",
      "execution_count": 9,
      "metadata": {},
      "outputs": [
        {
          "data": {
            "text/plain": [
              "<matplotlib.image.AxesImage at 0x17d9b8517c0>"
            ]
          },
          "execution_count": 9,
          "metadata": {},
          "output_type": "execute_result"
        },
        {
          "data": {
            "image/png": "[encoded data removed]",
            "text/plain": [
              "<Figure size 432x288 with 1 Axes>"
            ]
          },
          "metadata": {
            "needs_background": "light"
          },
          "output_type": "display_data"
        }
      ],
      "source": [
        "imgs_croped = transforms.functional.crop(images.cuda(), TOP_CROP_POS, LEFT_CROP_POS, 160, 160)\n",
        "single_img = imgs_croped[0]\n",
        "single_img_permuted = single_img.permute(1, 2, 0) \n",
        "single_img_numpy = single_img_permuted.detach().cpu().numpy()\n",
        "\n",
        "plt.imshow(single_img_numpy)"
      ]
    },
    {
      "attachments": {},
      "cell_type": "markdown",
      "metadata": {
        "id": "AiW9HNm10Poe"
      },
      "source": [
        "# Auxiliar model structures and functions"
      ]
    },
    {
      "cell_type": "code",
      "execution_count": 10,
      "metadata": {
        "id": "oOGicuTv0ShK"
      },
      "outputs": [],
      "source": [
        "def num2fixstr(x,d):\n",
        "  # example num2fixstr(2,5) returns '00002'\n",
        "  # example num2fixstr(19,3) returns '019'\n",
        "  st = '%0*d' % (d,x)\n",
        "  return st\n",
        "\n",
        "\n",
        "class MyConvo2d(nn.Module):\n",
        "    def __init__(self, input_dim, output_dim, kernel_size, he_init=True,  stride=1, bias=True):\n",
        "        super(MyConvo2d, self).__init__()\n",
        "        self.he_init = he_init\n",
        "        self.padding = int((kernel_size - 1)/2)\n",
        "        self.conv = nn.Conv2d(input_dim, output_dim, kernel_size,\n",
        "                              stride=1, padding=self.padding, bias=bias)\n",
        "\n",
        "    def forward(self, input):\n",
        "        output = self.conv(input)\n",
        "        return output\n",
        "\n",
        "\n",
        "class ConvMeanPool(nn.Module):\n",
        "    def __init__(self, input_dim, output_dim, kernel_size, he_init=True):\n",
        "        super(ConvMeanPool, self).__init__()\n",
        "        self.he_init = he_init\n",
        "        self.conv = MyConvo2d(input_dim, output_dim,\n",
        "                              kernel_size, he_init=self.he_init)\n",
        "\n",
        "    def forward(self, input):\n",
        "        output = self.conv(input)\n",
        "        output = (output[:, :, ::2, ::2] + output[:, :, 1::2, ::2] +\n",
        "                  output[:, :, ::2, 1::2] + output[:, :, 1::2, 1::2]) / 4\n",
        "        return output\n",
        "\n",
        "\n",
        "class MeanPoolConv(nn.Module):\n",
        "    def __init__(self, input_dim, output_dim, kernel_size, he_init=True):\n",
        "        super(MeanPoolConv, self).__init__()\n",
        "        self.he_init = he_init\n",
        "        self.conv = MyConvo2d(input_dim, output_dim,\n",
        "                              kernel_size, he_init=self.he_init)\n",
        "\n",
        "    def forward(self, input):\n",
        "        output = input\n",
        "        output = (output[:, :, ::2, ::2] + output[:, :, 1::2, ::2] +\n",
        "                  output[:, :, ::2, 1::2] + output[:, :, 1::2, 1::2]) / 4\n",
        "        output = self.conv(output)\n",
        "        return output\n",
        "\n",
        "\n",
        "class DepthToSpace(nn.Module):\n",
        "    def __init__(self, block_size):\n",
        "        super(DepthToSpace, self).__init__()\n",
        "        self.block_size = block_size\n",
        "        self.block_size_sq = block_size*block_size\n",
        "\n",
        "    def forward(self, input):\n",
        "        output = input.permute(0, 2, 3, 1)\n",
        "        (batch_size, input_height, input_width, input_depth) = output.size()\n",
        "        output_depth = int(input_depth / self.block_size_sq)\n",
        "        output_width = int(input_width * self.block_size)\n",
        "        output_height = int(input_height * self.block_size)\n",
        "        t_1 = output.reshape(batch_size, input_height,\n",
        "                             input_width, self.block_size_sq, output_depth)\n",
        "        spl = t_1.split(self.block_size, 3)\n",
        "        stacks = [t_t.reshape(batch_size, input_height,\n",
        "                              output_width, output_depth) for t_t in spl]\n",
        "        output = torch.stack(stacks, 0).transpose(0, 1).permute(0, 2, 1, 3, 4).reshape(\n",
        "            batch_size, output_height, output_width, output_depth)\n",
        "        output = output.permute(0, 3, 1, 2)\n",
        "        return output\n",
        "\n",
        "\n",
        "class UpSampleConv(nn.Module):\n",
        "    def __init__(self, input_dim, output_dim, kernel_size, he_init=True, bias=True):\n",
        "        super(UpSampleConv, self).__init__()\n",
        "        self.he_init = he_init\n",
        "        self.conv = MyConvo2d(input_dim, output_dim,\n",
        "                              kernel_size, he_init=self.he_init, bias=bias)\n",
        "        self.depth_to_space = DepthToSpace(2)\n",
        "\n",
        "    def forward(self, input):\n",
        "        output = input\n",
        "        output = torch.cat((output, output, output, output), 1)\n",
        "        output = self.depth_to_space(output)\n",
        "        output = self.conv(output)\n",
        "        return output\n",
        "\n",
        "\n",
        "class ResidualBlock(nn.Module):\n",
        "    # ResidualBlock(dim, dim*2, 3, 'down', 64)\n",
        "    def __init__(self, input_dim, output_dim, kernel_size, resample=None, hw=DIM):\n",
        "        super(ResidualBlock, self).__init__()\n",
        "\n",
        "        self.input_dim = input_dim\n",
        "        self.output_dim = output_dim\n",
        "        self.kernel_size = kernel_size\n",
        "        self.resample = resample\n",
        "        self.bn1 = None\n",
        "        self.bn2 = None\n",
        "        self.relu1 = nn.ReLU()\n",
        "        self.relu2 = nn.ReLU()\n",
        "        if resample == 'down':\n",
        "            self.bn1 = nn.LayerNorm([input_dim, hw, hw])\n",
        "            self.bn2 = nn.LayerNorm([input_dim, hw, hw])\n",
        "        elif resample == 'up':\n",
        "            self.bn1 = nn.BatchNorm2d(input_dim)\n",
        "            self.bn2 = nn.BatchNorm2d(output_dim)\n",
        "        elif resample == None:\n",
        "            # TODO: ????\n",
        "            self.bn1 = nn.BatchNorm2d(output_dim)\n",
        "            self.bn2 = nn.LayerNorm([input_dim, hw, hw])\n",
        "        else:\n",
        "            raise Exception('invalid resample value')\n",
        "\n",
        "        if resample == 'down':\n",
        "            self.conv_shortcut = MeanPoolConv(\n",
        "                input_dim, output_dim, kernel_size=1, he_init=False)\n",
        "            self.conv_1 = MyConvo2d(\n",
        "                input_dim, input_dim, kernel_size=kernel_size, bias=False)\n",
        "            self.conv_2 = ConvMeanPool(\n",
        "                input_dim, output_dim, kernel_size=kernel_size)\n",
        "        elif resample == 'up':\n",
        "            self.conv_shortcut = UpSampleConv(\n",
        "                input_dim, output_dim, kernel_size=1, he_init=False)\n",
        "            self.conv_1 = UpSampleConv(\n",
        "                input_dim, output_dim, kernel_size=kernel_size, bias=False)\n",
        "            self.conv_2 = MyConvo2d(\n",
        "                output_dim, output_dim, kernel_size=kernel_size)\n",
        "        elif resample == None:\n",
        "            self.conv_shortcut = MyConvo2d(\n",
        "                input_dim, output_dim, kernel_size=1, he_init=False)\n",
        "            self.conv_1 = MyConvo2d(\n",
        "                input_dim, input_dim, kernel_size=kernel_size, bias=False)\n",
        "            self.conv_2 = MyConvo2d(\n",
        "                input_dim, output_dim, kernel_size=kernel_size)\n",
        "        else:\n",
        "            raise Exception('invalid resample value')\n",
        "\n",
        "    def forward(self, input):\n",
        "        if self.input_dim == self.output_dim and self.resample == None:\n",
        "            shortcut = input\n",
        "        else:\n",
        "            shortcut = self.conv_shortcut(input)\n",
        "\n",
        "        output = input\n",
        "        output = self.bn1(output)\n",
        "        output = self.relu1(output)\n",
        "        output = self.conv_1(output)\n",
        "        output = self.bn2(output)\n",
        "        output = self.relu2(output)\n",
        "        output = self.conv_2(output)\n",
        "\n",
        "        return shortcut + output\n",
        "\n",
        "\n",
        "class ReLULayer(nn.Module):\n",
        "    def __init__(self, n_in, n_out):\n",
        "        super(ReLULayer, self).__init__()\n",
        "        self.n_in = n_in\n",
        "        self.n_out = n_out\n",
        "        self.linear = nn.Linear(n_in, n_out)\n",
        "        self.relu = nn.ReLU()\n",
        "\n",
        "    def forward(self, input):\n",
        "        output = self.linear(input)\n",
        "        output = self.relu(output)\n",
        "        return output\n",
        "\n",
        "\n",
        "\n"
      ]
    },
    {
      "cell_type": "markdown",
      "metadata": {},
      "source": [
        "# Building the generator and discriminator models"
      ]
    },
    {
      "cell_type": "code",
      "execution_count": 11,
      "metadata": {},
      "outputs": [],
      "source": [
        "class FCGenerator(nn.Module):\n",
        "    def __init__(self, FC_DIM=512):\n",
        "        super(FCGenerator, self).__init__()\n",
        "        self.relulayer1 = ReLULayer(128, FC_DIM)\n",
        "        self.relulayer2 = ReLULayer(FC_DIM, FC_DIM)\n",
        "        self.relulayer3 = ReLULayer(FC_DIM, FC_DIM)\n",
        "        self.relulayer4 = ReLULayer(FC_DIM, FC_DIM)\n",
        "        self.linear = nn.Linear(FC_DIM, OUTPUT_DIM)\n",
        "        self.tanh = nn.Tanh()\n",
        "\n",
        "    def forward(self, input):\n",
        "        output = self.relulayer1(input)\n",
        "        output = self.relulayer2(output)\n",
        "        output = self.relulayer3(output)\n",
        "        output = self.relulayer4(output)\n",
        "        output = self.linear(output)\n",
        "        output = self.tanh(output)\n",
        "        return output\n",
        "\n",
        "class GoodGenerator(nn.Module):\n",
        "    def __init__(self, dim=DIM, output_dim=OUTPUT_DIM):\n",
        "        super(GoodGenerator, self).__init__()\n",
        "\n",
        "        self.dim = dim\n",
        "\n",
        "        # self.ln1 = nn.Linear(128, 4*4*8*self.dim)\n",
        "        self.ln1 = nn.Linear(LATENT_SPACE_SIZE, 10*10*8*self.dim)\n",
        "        self.rb1 = ResidualBlock(8*self.dim, 8*self.dim, 3, resample='up')\n",
        "        self.rb2 = ResidualBlock(8*self.dim, 4*self.dim, 3, resample='up')\n",
        "        self.rb3 = ResidualBlock(4*self.dim, 2*self.dim, 3, resample='up')\n",
        "        self.rb4 = ResidualBlock(2*self.dim, 1*self.dim, 3, resample='up')\n",
        "        self.bn = nn.BatchNorm2d(self.dim)\n",
        "\n",
        "        self.conv1 = MyConvo2d(1*self.dim, 3, 3)\n",
        "        self.relu = nn.ReLU()\n",
        "        self.tanh = nn.Tanh()\n",
        "        # print(\"PEROFORMING __init__\")\n",
        "        self.initialize()\n",
        "\n",
        "    def initialize(self):\n",
        "        # print(\"PEROFORMING INITIALIZATION\")\n",
        "        for m in self.modules():\n",
        "            if isinstance(m, nn.Conv2d):\n",
        "                nn.init.kaiming_normal_(m.weight)\n",
        "                if m.bias is not None:\n",
        "                    nn.init.constant_(m.bias, 0)\n",
        "            elif isinstance(m, nn.BatchNorm2d) or isinstance(m, nn.LayerNorm):\n",
        "                nn.init.constant_(m.weight, 1)\n",
        "                nn.init.constant_(m.bias, 0)\n",
        "            elif isinstance(m, nn.Linear):\n",
        "                nn.init.xavier_uniform_(m.weight)\n",
        "                nn.init.constant_(m.bias, 0)\n",
        "\n",
        "    def forward(self, input):\n",
        "        # print(\"PEROFORMING FORWARD FUNCTION\")\n",
        "        # print(\"input shape is: \", input.shape)\n",
        "        output = self.ln1(input.contiguous())\n",
        "        # print(\"self.ln1 shape is: \", output.shape)\n",
        "        # output = output.view(-1, 8*self.dim, 4, 4)\n",
        "        output = output.view(-1, 8*self.dim, 10, 10)\n",
        "        # print(\"output.view shape is: \", output.shape)\n",
        "        output = self.rb1(output)\n",
        "        # print(\"self.rb1 shape is: \", output.shape)\n",
        "        output = self.rb2(output)\n",
        "        # print(\"self.rb2 shape is: \", output.shape)\n",
        "        output = self.rb3(output)\n",
        "        # print(\"self.rb3 shape is: \", output.shape)\n",
        "        output = self.rb4(output)\n",
        "        # print(\"self.rb4 shape is: \", output.shape)\n",
        "\n",
        "        output = self.bn(output)\n",
        "        # print(\"self.bn shape is: \", output.shape)\n",
        "        output = self.relu(output)\n",
        "        # print(\"self.relu shape is: \", output.shape)\n",
        "        output = self.conv1(output)\n",
        "        # print(\"self.conv1 shape is: \", output.shape)\n",
        "        output = self.tanh(output)\n",
        "        # print(\"self.tanh shape is: \", output.shape)\n",
        "        # print(\"END OF FORWARD FUNCTION\")\n",
        "        # # output = output.view(-1, OUTPUT_DIM)\n",
        "        return output\n",
        "\n",
        "class GoodDiscriminator(nn.Module):\n",
        "    def __init__(self, dim=DIM):\n",
        "        super(GoodDiscriminator, self).__init__()\n",
        "\n",
        "        self.dim = dim\n",
        "\n",
        "        self.conv1 = MyConvo2d(3, self.dim, 3, he_init=False)\n",
        "        self.rb1 = ResidualBlock(self.dim, 2*self.dim,\n",
        "                                 3, resample='down', hw=DIM)\n",
        "        self.rb2 = ResidualBlock(\n",
        "            2*self.dim, 4*self.dim, 3, resample='down', hw=int(DIM/2))\n",
        "        self.rb3 = ResidualBlock(\n",
        "            4*self.dim, 8*self.dim, 3, resample='down', hw=int(DIM/4))\n",
        "        self.rb4 = ResidualBlock(\n",
        "            8*self.dim, 8*self.dim, 3, resample='down', hw=int(DIM/8))\n",
        "        # self.ln1 = nn.Linear(4*4*8*self.dim, 1)\n",
        "        self.ln1 = nn.Linear(10*10*8*self.dim, 1)\n",
        "        # print(\"PEROFORMING __init__\")\n",
        "        self.initialize()\n",
        "\n",
        "    def initialize(self):\n",
        "        # print(\"PEROFORMING INITIALIZATION\")\n",
        "        for m in self.modules():\n",
        "            if isinstance(m, nn.Conv2d):\n",
        "                nn.init.kaiming_normal_(m.weight)\n",
        "                if m.bias is not None:\n",
        "                    nn.init.constant_(m.bias, 0)\n",
        "            elif isinstance(m, nn.BatchNorm2d) or isinstance(m, nn.LayerNorm):\n",
        "                nn.init.constant_(m.weight, 1)\n",
        "                nn.init.constant_(m.bias, 0)\n",
        "            elif isinstance(m, nn.Linear):\n",
        "                nn.init.xavier_uniform_(m.weight)\n",
        "                nn.init.constant_(m.bias, 0)\n",
        "\n",
        "    def extract_feature(self, input):\n",
        "        # print(\"PEROFORMING EXTRACTING FEATURES FUNCTION\")\n",
        "        # print(\"input shape is: \", input.shape)\n",
        "        output = input.contiguous()\n",
        "        # print(\"input.contigous() shape is: \", output.shape)\n",
        "        output = output.view(-1, 3, DIM, DIM)\n",
        "        # print(\"new shape of output is: \", output.shape)\n",
        "        output = self.conv1(output)\n",
        "        # print(\"after self.conv1, the shape of output is: \", output.shape)\n",
        "        output = self.rb1(output)\n",
        "        # print(\"after self.rb1, the shape of output is: \", output.shape)\n",
        "        output = self.rb2(output)\n",
        "        # print(\"after self.rb2, the shape of output is: \", output.shape)\n",
        "        output = self.rb3(output)\n",
        "        # print(\"after self.rb3, the shape of output is: \", output.shape)\n",
        "        output = self.rb4(output)\n",
        "        # print(\"after self.rb4, the shape of output is: \", output.shape)\n",
        "        # # output = output.view(-1, 4*4*8*self.dim)\n",
        "        output = output.view(-1, 10*10*8*self.dim)\n",
        "        # print(\"after output.view, the shape of output is: \", output.shape)\n",
        "        # print(\"END OF THE EXTRACTING FEATURES FUNCTION\")  \n",
        "        return output\n",
        "\n",
        "    def forward(self, input):\n",
        "        output = self.extract_feature(input)\n",
        "        # print(\"after self.extract_feature, the shape of output is: \", output.shape)\n",
        "        output = self.ln1(output)\n",
        "        # print(\"after self.ln1(output), the shape of output is: \", output.shape)\n",
        "        output = output.view(-1)\n",
        "        # print(\"after output.view(-1), the shape of output is: \", output.shape)\n",
        "        # print(\"PEROFORMING FORWARD\")\n",
        "        return output"
      ]
    },
    {
      "cell_type": "markdown",
      "metadata": {},
      "source": [
        "# Building the encoder model"
      ]
    },
    {
      "cell_type": "code",
      "execution_count": 12,
      "metadata": {
        "id": "x6WIV0RTIpzN"
      },
      "outputs": [],
      "source": [
        "class Encoder(nn.Module):\n",
        "    def __init__(self):\n",
        "        super(Encoder, self).__init__()\n",
        "         # 15, 3, 160, 160.  Batch size, input channels, shape of the image.\n",
        "        input_channels = 3              # number of channels of the input image\n",
        "        output_channels = 55           # ~= 110/2. Shape of the input image divided by 2 approximately. \n",
        "        kernel_size = 9\n",
        "        padding_val = 1\n",
        "        stride_val = 5\n",
        "\n",
        "        \n",
        "        output_channels_layer2 = output_channels*2+5\n",
        "        output_channels_layer3 = output_channels_layer2*2\n",
        "        \n",
        "        self.conv2d_1 = nn.Conv2d(input_channels, output_channels, kernel_size, stride=stride_val, padding=padding_val)\n",
        "        self.conv2d_2 = nn.Conv2d(output_channels, output_channels_layer2, kernel_size, stride=stride_val, padding=padding_val)\n",
        "        self.conv2d_3 = nn.Conv2d(output_channels_layer2, output_channels_layer3, 5)\n",
        "        self.relu1 = nn.ReLU()\n",
        "        self.relu2 = nn.ReLU()\n",
        "\n",
        "\n",
        "    def forward(self, x, flag = False):\n",
        "        if flag:\n",
        "            print(\"The FORWARD function is starting\")\n",
        "\n",
        "            print(\"The ENCODER part is executing\")\n",
        "            output = x\n",
        "            print(\"The input image shape is: \", output.shape)\n",
        "            output = self.conv2d_1(output)\n",
        "            print(\"self.conv2d_1 shape is: \", output.shape)\n",
        "            output = self.relu1(output)\n",
        "            output = self.conv2d_2(output)\n",
        "            print(\"self.conv2d_2 shape is: \", output.shape)\n",
        "            output = self.relu2(output)\n",
        "            output = self.conv2d_3(output)\n",
        "            print(\"self.conv2d_3 shape is: \", output.shape)\n",
        "\n",
        "            output = output.view(output.size(0), -1)\n",
        "            print(\"output.view shape is: \", output.shape)\n",
        "\n",
        "            print(\"Finish the FORWARD function\")\n",
        "        else:\n",
        "            # print(\"The FORWARD function is starting\")\n",
        "\n",
        "            # print(\"The ENCODER part is executing\")\n",
        "            output = x\n",
        "            # print(\"The input image shape is: \", output.shape)\n",
        "            output = self.conv2d_1(output)\n",
        "            # print(\"self.conv2d_1 shape is: \", output.shape)\n",
        "            output = self.relu1(output)\n",
        "            output = self.conv2d_2(output)\n",
        "            # print(\"self.conv2d_2 shape is: \", output.shape)\n",
        "            output = self.relu2(output)\n",
        "            output = self.conv2d_3(output)\n",
        "            # print(\"self.conv2d_3 shape is: \", output.shape)\n",
        "            output = output.view(output.size(0), -1)\n",
        "            # print(\"output.view shape is: \", output.shape)\n",
        "        return output\n",
        "    \n",
        "    def show_modules(self):\n",
        "        print(\"This is the show modules function\")\n",
        "        i = 0\n",
        "        for m in self.modules():\n",
        "            print(m)\n",
        "            print(\"i is: \", i)\n",
        "            print(\"print the next module\")\n",
        "            i = i +1\n",
        "            \n",
        "    def show_one_layer_weights(self, index):\n",
        "        print(\"This is the one layer show function\")\n",
        "        i = 0\n",
        "        for name, m in self.named_modules():\n",
        "        # for m in self.modules():\n",
        "            if isinstance(m, nn.Conv2d) or isinstance(m, nn.Linear):\n",
        "                if i == index:\n",
        "                    print(\"Layer name is:\", name)\n",
        "                    print(\"The weights are: \", m.weight)\n",
        "                i = i +1          "
      ]
    },
    {
      "attachments": {},
      "cell_type": "markdown",
      "metadata": {
        "id": "adOqKZTtJI5S"
      },
      "source": [
        "# Implementing F-AnoGan functions"
      ]
    },
    {
      "cell_type": "code",
      "execution_count": 13,
      "metadata": {},
      "outputs": [],
      "source": [
        "sys.path.append(os.getcwd())        # Adding to the sys path, the current directory\n",
        "\n",
        "torch.manual_seed(0)\n",
        "np.random.seed(0)\n",
        "torch.backends.cudnn.benchmark = True\n",
        "torch.backends.cudnn.determinstic = False"
      ]
    },
    {
      "cell_type": "code",
      "execution_count": 14,
      "metadata": {
        "id": "E_-N-EyHJLjX"
      },
      "outputs": [],
      "source": [
        "def calc_gradient_penalty(netD, real_data, fake_data):\n",
        "    alpha = torch.rand(BATCH_SIZE, 1)\n",
        "    alpha = alpha.expand(BATCH_SIZE, int(real_data.nelement()/BATCH_SIZE)).contiguous()\n",
        "    alpha = alpha.view(BATCH_SIZE, 3, DIM, DIM)\n",
        "    alpha = alpha.to(device)\n",
        "\n",
        "    fake_data = fake_data.view(BATCH_SIZE, 3, DIM, DIM)\n",
        "    interpolates = alpha * real_data.cuda().detach() + ((1 - alpha) * fake_data.detach())           # For home laptop. GPU capabilites\n",
        "    # interpolates = alpha * real_data.detach() + ((1 - alpha) * fake_data.detach())                # For work laptop. No GPU\n",
        "    interpolates = interpolates.to(device)\n",
        "    interpolates.requires_grad_(True)\n",
        "\n",
        "    disc_interpolates = netD(interpolates)\n",
        "\n",
        "    gradients = autograd.grad(outputs=disc_interpolates, inputs=interpolates,\n",
        "                              grad_outputs=torch.ones(\n",
        "                                  disc_interpolates.size()).to(device),\n",
        "                              create_graph=True, retain_graph=True, only_inputs=True)[0]\n",
        "\n",
        "    gradients = gradients.view(gradients.size(0), -1)\n",
        "    gradient_penalty = ((gradients.norm(2, dim=1) - 1) ** 2).mean() * LAMBDA\n",
        "    return gradient_penalty\n",
        "\n"
      ]
    },
    {
      "cell_type": "markdown",
      "metadata": {},
      "source": [
        "# Implementing the validation and evaluation functions"
      ]
    },
    {
      "cell_type": "code",
      "execution_count": 15,
      "metadata": {},
      "outputs": [],
      "source": [
        "def validate():\n",
        "    netG = GoodGenerator().to(device)\n",
        "    # netG.load_state_dict(torch.load(G_Model))                                     #For home laptop, using GPU\n",
        "    netG.load_state_dict(torch.load(G_Model, map_location=torch.device('cpu')))     #For work laptop, without using GPU\n",
        "    netG.eval()\n",
        "    netD = GoodDiscriminator().to(device)\n",
        "    # netD.load_state_dict(torch.load(D_Model))                                     #For home laptop, using GPU\n",
        "    netD.load_state_dict(torch.load(D_Model, map_location=torch.device('cpu')))     #For work laptop, without using GPU\n",
        "    netD.eval()\n",
        "    netE = Encoder().to(device)\n",
        "    # netE.load_state_dict(torch.load(E_Model))                                     #For home laptop, using GPU\n",
        "    netE.load_state_dict(torch.load(E_Model, map_location=torch.device('cpu')))     #For work laptop, without using GPU\n",
        "    netE.eval()\n",
        "\n",
        "    _, _, dataloader = one_class_dataloader(options_c, 0, BATCH_SIZE)\n",
        "    # crit = nn.MSELoss()\n",
        "    y_true, y_score = [], []\n",
        "    in_real, out_real, in_rec, out_rec = [], [], [], []\n",
        "    with torch.no_grad():\n",
        "        for (x, label) in tqdm(dataloader):\n",
        "            bs            = x.size(0)\n",
        "            x             = x.to(device)\n",
        "            imgs_croped   = transforms.functional.crop(x, TOP_CROP_POS, LEFT_CROP_POS, 160, 160)\n",
        "            rec_image     = netG(netE(imgs_croped))\n",
        "\n",
        "            d_input       = torch.cat((imgs_croped, rec_image), dim=0)      # Concatenation of the batch of images and their generated image. \n",
        "            \n",
        "            \n",
        "            idx           = (label == options_c)\n",
        "            in_real.append(imgs_croped[idx])                                # Storing the non-anoamly real images into a list\n",
        "            in_rec.append(rec_image[idx])                                   # Storing the non-anoamly reconssructed images into a list\n",
        "            idx           = (label != options_c)                            \n",
        "            out_real.append(imgs_croped[idx])                               # Storing the anoamly real images into a list\n",
        "            out_rec.append(rec_image[idx])                                  # Storing the anoamly recontructed images into a list\n",
        "\n",
        "            f_x, f_gx     = netD.extract_feature(d_input).chunk(2, 0)       # Extracted features from the batches of the real images and their reconstructions\n",
        "            x0            = imgs_croped.reshape(imgs_croped.size(0),-1)     # Storing the real cropped images but in the shape (numElementsInBatch,whateverNecessaryForStoringInOneRow)\n",
        "            x1            = rec_image.reshape([bs, OUTPUT_DIM])             # Storing the reconstructed cropped images but in the shape (numElementsInBatch,whateverNecessaryForStoringInOneRow)\n",
        "\n",
        "            rec_diff      = (x1 - x0)**2                                    # Computation of the MSE of the images\n",
        "            rec_score     = rec_diff.mean(dim=1)                                \n",
        "\n",
        "            feat_diff     = ((f_x - f_gx)**2)                               # Computation of the MSE of the features vectors\n",
        "            feat_score    = feat_diff.mean(dim=1)\n",
        "\n",
        "            outlier_score = rec_score + options_alpha * feat_score\n",
        "\n",
        "            y_true.append(label)\n",
        "            y_score.append(outlier_score.cpu())\n",
        "\n",
        "    in_real = torch.cat(in_real, dim=0)[:32]\n",
        "    in_rec = torch.cat(in_rec, dim=0)[:32]\n",
        "    out_real = torch.cat(out_real, dim=0)[:32]\n",
        "    out_rec = torch.cat(out_rec, dim=0)[:32]\n",
        "\n",
        "    save_image(torch.cat((in_real, in_rec), dim=0), 'ForBottlesTrainingsV3/validationResultImages/non-anomalies_validation.png', normalize=True)\n",
        "    save_image(torch.cat((out_real, out_rec), dim=0),\n",
        "               'ForBottlesTrainingsV3/validationResultImages/anomalies_validation.png', normalize=True)\n",
        "    \n",
        "    y_score = np.concatenate(y_score)\n",
        "    y_true = np.concatenate(y_true)\n",
        "    y_true[y_true != options_c] = -1\n",
        "    y_true[y_true == options_c] = 1\n",
        "\n",
        "    return y_true, y_score\n",
        "\n",
        "def evaluate():\n",
        "    netG = GoodGenerator().to(device)\n",
        "    # netG.load_state_dict(torch.load(G_Model))                                     #For home laptop, using GPU\n",
        "    netG.load_state_dict(torch.load(G_Model, map_location=torch.device('cpu')))     #For work laptop, without using GPU\n",
        "    netG.eval()\n",
        "    netD = GoodDiscriminator().to(device)\n",
        "    # netD.load_state_dict(torch.load(D_Model))                                     #For home laptop, using GPU\n",
        "    netD.load_state_dict(torch.load(D_Model, map_location=torch.device('cpu')))     #For work laptop, without using GPU\n",
        "    netD.eval()\n",
        "    netE = Encoder().to(device)\n",
        "    # netE.load_state_dict(torch.load(E_Model))                                     #For home laptop, using GPU\n",
        "    netE.load_state_dict(torch.load(E_Model, map_location=torch.device('cpu')))     #For work laptop, without using GPU\n",
        "    netE.eval()\n",
        "\n",
        "    _, dataloader, _ = one_class_dataloader(options_c, 0, BATCH_SIZE)\n",
        "    # crit = nn.MSELoss()\n",
        "    y_true, y_score = [], []\n",
        "    in_real, out_real, in_rec, out_rec = [], [], [], []\n",
        "    with torch.no_grad():\n",
        "        for (x, label) in tqdm(dataloader):\n",
        "            bs            = x.size(0)\n",
        "            x             = x.to(device)\n",
        "            imgs_croped = transforms.functional.crop(x, TOP_CROP_POS, LEFT_CROP_POS, 160, 160)\n",
        "            rec_image     = netG(netE(imgs_croped))\n",
        "\n",
        "            d_input       = torch.cat((imgs_croped, rec_image), dim=0)\n",
        "\n",
        "            idx           = (label == options_c)\n",
        "            in_real.append(imgs_croped[idx])\n",
        "            in_rec.append(rec_image[idx])\n",
        "            idx           = (label != options_c)\n",
        "            out_real.append(imgs_croped[idx])\n",
        "            out_rec.append(rec_image[idx])\n",
        "\n",
        "            f_x, f_gx     = netD.extract_feature(d_input).chunk(2, 0)\n",
        "            x0            = imgs_croped.reshape(imgs_croped.size(0),-1)\n",
        "            x1            = rec_image.reshape([bs, OUTPUT_DIM]) \n",
        "\n",
        "            rec_diff      = (x1 - x0)**2\n",
        "            rec_score     = rec_diff.mean(dim=1)\n",
        "\n",
        "            feat_diff     = ((f_x - f_gx)**2)\n",
        "            feat_score    = feat_diff.mean(dim=1)\n",
        "\n",
        "            outlier_score = rec_score + options_alpha * feat_score\n",
        "\n",
        "            y_true.append(label)\n",
        "            y_score.append(outlier_score.cpu())\n",
        "\n",
        "    in_real = torch.cat(in_real, dim=0)[:32]\n",
        "    in_rec = torch.cat(in_rec, dim=0)[:32]\n",
        "    out_real = torch.cat(out_real, dim=0)[:32]\n",
        "    out_rec = torch.cat(out_rec, dim=0)[:32]\n",
        "\n",
        "    save_image(torch.cat((in_real, in_rec), dim=0), 'ForBottlesTrainingsV3/non-anomalies.png', normalize=True)\n",
        "    save_image(torch.cat((out_real, out_rec), dim=0),\n",
        "               'ForBottlesTrainingsV3/anomalies.png', normalize=True)\n",
        "    \n",
        "    y_score = np.concatenate(y_score)\n",
        "    y_true = np.concatenate(y_true)\n",
        "    y_true[y_true != options_c] = -1\n",
        "    y_true[y_true == options_c] = 1\n",
        "\n",
        "    return y_true, y_score"
      ]
    },
    {
      "attachments": {},
      "cell_type": "markdown",
      "metadata": {
        "id": "m-Bii1T0z3Uf"
      },
      "source": [
        "# Training WGAN"
      ]
    },
    {
      "cell_type": "code",
      "execution_count": 16,
      "metadata": {
        "id": "4vJSI54VIC7g"
      },
      "outputs": [],
      "source": [
        "# !mkdir wgangp\n",
        "# !mkdir rec\n",
        "# !mkdir models"
      ]
    },
    {
      "cell_type": "code",
      "execution_count": 17,
      "metadata": {},
      "outputs": [
        {
          "name": "stdout",
          "output_type": "stream",
          "text": [
            "True\n"
          ]
        }
      ],
      "source": [
        "print(torch.cuda.is_available())"
      ]
    },
    {
      "cell_type": "code",
      "execution_count": 18,
      "metadata": {},
      "outputs": [
        {
          "name": "stdout",
          "output_type": "stream",
          "text": [
            "ForBottlesTrainingsV3/models/netG_00000.pth\n",
            "ForBottlesTrainingsV3/models/netD_00000.pth\n"
          ]
        }
      ],
      "source": [
        "genstart   = 0 # generación de partida (en caso de existir entrenamiento previo)\n",
        "G_Model    = 'ForBottlesTrainingsV3/models/netG_' + num2fixstr(genstart,5) + '.pth'\n",
        "D_Model    = 'ForBottlesTrainingsV3/models/netD_' + num2fixstr(genstart,5) + '.pth'\n",
        "\n",
        "saveat     = 100   # cada cuantas iteraciones se guarda modelo\n",
        "WGAN_ITERS = 700  # iteraciones máximas del entrenamiento\n",
        "\n",
        "pretrained = genstart>0\n",
        "\n",
        "print(G_Model)\n",
        "print(D_Model)"
      ]
    },
    {
      "cell_type": "code",
      "execution_count": 19,
      "metadata": {},
      "outputs": [],
      "source": [
        "# wgan_training(PreTrained=pretrained,saveat=saveat,genstart=genstart)"
      ]
    },
    {
      "cell_type": "code",
      "execution_count": 20,
      "metadata": {},
      "outputs": [
        {
          "data": {
            "image/png": "[encoded data removed]",
            "text/plain": [
              "<Figure size 432x288 with 1 Axes>"
            ]
          },
          "metadata": {
            "needs_background": "light"
          },
          "output_type": "display_data"
        }
      ],
      "source": [
        "# Load data from the text file\n",
        "with open(\"ForBottlesTrainingsV3/D_cost_mean_list.txt\", \"r\") as file:\n",
        "    data = [float(line.strip()) for line in file]\n",
        "\n",
        "# Plot the data\n",
        "plt.plot(data)\n",
        "plt.xlabel(\"Epochs\")\n",
        "plt.ylabel(\"Cost\")\n",
        "plt.title(\"Discriminator cost mean values\")\n",
        "plt.grid(True)\n",
        "plt.show()"
      ]
    },
    {
      "cell_type": "code",
      "execution_count": 21,
      "metadata": {},
      "outputs": [
        {
          "data": {
            "image/png": "[encoded data removed]",
            "text/plain": [
              "<Figure size 432x288 with 1 Axes>"
            ]
          },
          "metadata": {
            "needs_background": "light"
          },
          "output_type": "display_data"
        }
      ],
      "source": [
        "# Load data from the text file\n",
        "with open(\"ForBottlesTrainingsV3/G_cost_list.txt\", \"r\") as file:\n",
        "    data = [float(line.strip()) for line in file]\n",
        "\n",
        "# Plot the data\n",
        "plt.plot(data)\n",
        "plt.xlabel(\"Epochs\")\n",
        "plt.ylabel(\"Cost\")\n",
        "plt.title(\"Generator cost values\")\n",
        "plt.grid(True)\n",
        "plt.show()"
      ]
    },
    {
      "cell_type": "markdown",
      "metadata": {},
      "source": [
        "# Training Encoder"
      ]
    },
    {
      "cell_type": "code",
      "execution_count": 22,
      "metadata": {},
      "outputs": [
        {
          "name": "stdout",
          "output_type": "stream",
          "text": [
            "ForBottlesTrainingsV3/models/netG_00700.pth\n",
            "ForBottlesTrainingsV3/models/netD_00700.pth\n",
            "ForBottlesTrainingsV3/models/netE_00000.pth\n"
          ]
        }
      ],
      "source": [
        "encstart      = 0\n",
        "# ENCODER_ITERS = 20\n",
        "# saveat        = 10 # cada cuantas iteraciones se guarda modelo\n",
        "ENCODER_ITERS = 60\n",
        "saveat        = 10 # cada cuantas iteraciones se guarda modelo\n",
        "\n",
        "gen           = WGAN_ITERS #generación del generator a usar\n",
        "G_Model       = 'ForBottlesTrainingsV3/models/netG_' + num2fixstr(gen,5) + '.pth'\n",
        "D_Model       = 'ForBottlesTrainingsV3/models/netD_' + num2fixstr(gen,5) + '.pth'\n",
        "E_Model       = 'ForBottlesTrainingsV3/models/netE_' + num2fixstr(encstart,5) + '.pth'\n",
        "\n",
        "pretrained    = encstart>0\n",
        "\n",
        "print(G_Model)\n",
        "print(D_Model)\n",
        "print(E_Model)\n"
      ]
    },
    {
      "cell_type": "code",
      "execution_count": 23,
      "metadata": {},
      "outputs": [],
      "source": [
        "# train_encoder(PreTrained=pretrained,saveat=saveat)"
      ]
    },
    {
      "cell_type": "code",
      "execution_count": 23,
      "metadata": {},
      "outputs": [
        {
          "data": {
            "image/png": "[encoded data removed]",
            "text/plain": [
              "<Figure size 432x288 with 1 Axes>"
            ]
          },
          "metadata": {
            "needs_background": "light"
          },
          "output_type": "display_data"
        }
      ],
      "source": [
        "# Load data from the text file\n",
        "with open(\"ForBottlesTrainingsV3/Encoder_mean_losses_list.txt\", \"r\") as file:\n",
        "    data = [float(line.strip()) for line in file]\n",
        "\n",
        "# Plot the data\n",
        "plt.plot(data)\n",
        "plt.xlabel(\"Epochs\")\n",
        "plt.ylabel(\"Cost\")\n",
        "plt.title(\"Encoder cost mean values\")\n",
        "plt.grid(True)\n",
        "plt.show()"
      ]
    },
    {
      "cell_type": "code",
      "execution_count": 24,
      "metadata": {},
      "outputs": [
        {
          "data": {
            "image/png": "[encoded data removed]",
            "text/plain": [
              "<Figure size 432x288 with 1 Axes>"
            ]
          },
          "metadata": {
            "needs_background": "light"
          },
          "output_type": "display_data"
        }
      ],
      "source": [
        "# Load data from the text file\n",
        "with open(\"ForBottlesTrainingsV3/Encoder_total_losses_list.txt\", \"r\") as file:\n",
        "    data = [float(line.strip()) for line in file]\n",
        "\n",
        "# Plot the data\n",
        "plt.plot(data)\n",
        "plt.xlabel(\"Epochs\")\n",
        "plt.ylabel(\"Cost\")\n",
        "plt.title(\"Encoder cost total values\")\n",
        "plt.grid(True)\n",
        "plt.show()"
      ]
    },
    {
      "cell_type": "markdown",
      "metadata": {},
      "source": [
        "# Checking the reconstruction of one sample"
      ]
    },
    {
      "cell_type": "code",
      "execution_count": 25,
      "metadata": {},
      "outputs": [
        {
          "name": "stdout",
          "output_type": "stream",
          "text": [
            "ForBottlesTrainingsV3/models/netG_00700.pth\n",
            "ForBottlesTrainingsV3/models/netD_00700.pth\n",
            "ForBottlesTrainingsV3/models/netE_00060.pth\n"
          ]
        }
      ],
      "source": [
        "Ggen    = WGAN_ITERS #generación del generator a usar del generator\n",
        "Egen    = ENCODER_ITERS #generación a usar del Encoder\n",
        "\n",
        "G_Model = 'ForBottlesTrainingsV3/models/netG_' + num2fixstr(Ggen,5) + '.pth'\n",
        "D_Model = 'ForBottlesTrainingsV3/models/netD_' + num2fixstr(Ggen,5) + '.pth'\n",
        "\n",
        "# E_Model = 'ForBottlesTrainingsV3/models/netE.pth'                             # To load the last trained Encoder model\n",
        "E_Model = 'ForBottlesTrainingsV3/models/netE_' + num2fixstr(Egen,5) + '.pth'    # This has the same result as the above command\n",
        "print(G_Model)\n",
        "print(D_Model)\n",
        "print(E_Model)"
      ]
    },
    {
      "cell_type": "code",
      "execution_count": 26,
      "metadata": {},
      "outputs": [
        {
          "data": {
            "text/plain": [
              "Encoder(\n",
              "  (conv2d_1): Conv2d(3, 55, kernel_size=(9, 9), stride=(5, 5), padding=(1, 1))\n",
              "  (conv2d_2): Conv2d(55, 115, kernel_size=(9, 9), stride=(5, 5), padding=(1, 1))\n",
              "  (conv2d_3): Conv2d(115, 230, kernel_size=(5, 5), stride=(1, 1))\n",
              "  (relu1): ReLU()\n",
              "  (relu2): ReLU()\n",
              ")"
            ]
          },
          "execution_count": 26,
          "metadata": {},
          "output_type": "execute_result"
        }
      ],
      "source": [
        "netG = GoodGenerator().to(device)\n",
        "netG.load_state_dict(torch.load(G_Model))                                     #For home laptop, using GPU\n",
        "# netG.load_state_dict(torch.load(G_Model, map_location=torch.device('cpu')))     #For work laptop, without using GPU\n",
        "netG.eval()\n",
        "netD = GoodDiscriminator().to(device)\n",
        "netD.load_state_dict(torch.load(D_Model))                                     #For home laptop, using GPU\n",
        "# netD.load_state_dict(torch.load(D_Model, map_location=torch.device('cpu')))     #For work laptop, without using GPU\n",
        "netD.eval()\n",
        "netE = Encoder().to(device)\n",
        "netE.load_state_dict(torch.load(E_Model))                                     #For home laptop, using GPU\n",
        "# netE.load_state_dict(torch.load(E_Model, map_location=torch.device('cpu')))     #For work laptop, without using GPU\n",
        "netE.eval()"
      ]
    },
    {
      "cell_type": "code",
      "execution_count": 27,
      "metadata": {},
      "outputs": [],
      "source": [
        "dataloader, _, _ = one_class_dataloader(options_c, 0, BATCH_SIZE)"
      ]
    },
    {
      "cell_type": "code",
      "execution_count": 28,
      "metadata": {},
      "outputs": [
        {
          "name": "stdout",
          "output_type": "stream",
          "text": [
            "The images are stored in a variable of type:  <class 'torch.Tensor'>\n",
            "The classes labels are:  tensor([0, 0, 0, 0, 0])\n",
            "tensor(0.0157, device='cuda:0') tensor(1., device='cuda:0')\n"
          ]
        }
      ],
      "source": [
        "images, labels = next(iter(dataloader))\n",
        "images = images.to(device)\n",
        "print(\"The images are stored in a variable of type: \", type(images))\n",
        "print(\"The classes labels are: \", labels)\n",
        "print(torch.min(images), torch.max(images))"
      ]
    },
    {
      "cell_type": "code",
      "execution_count": 29,
      "metadata": {},
      "outputs": [],
      "source": [
        "imgs_croped = transforms.functional.crop(images.cuda(), TOP_CROP_POS, LEFT_CROP_POS, 160, 160)\n",
        "single_img = imgs_croped[0]\n"
      ]
    },
    {
      "cell_type": "code",
      "execution_count": 30,
      "metadata": {},
      "outputs": [
        {
          "name": "stdout",
          "output_type": "stream",
          "text": [
            "torch.Size([3, 160, 160])\n"
          ]
        }
      ],
      "source": [
        "print(single_img.shape)"
      ]
    },
    {
      "cell_type": "code",
      "execution_count": 31,
      "metadata": {},
      "outputs": [
        {
          "name": "stdout",
          "output_type": "stream",
          "text": [
            "torch.Size([1, 3, 160, 160])\n"
          ]
        }
      ],
      "source": [
        "single_img = single_img[None, :]\n",
        "print(single_img.shape)"
      ]
    },
    {
      "cell_type": "code",
      "execution_count": 32,
      "metadata": {},
      "outputs": [],
      "source": [
        "rec_image     = netG(netE(single_img))\n",
        "d_input       = torch.cat((single_img, rec_image), dim=0)\n",
        "\n",
        "f_x, f_gx     = netD.extract_feature(d_input).chunk(2, 0)\n",
        "x0            = single_img.reshape(single_img.size(0),-1)\n",
        "x1            = rec_image.reshape([1, OUTPUT_DIM]) \n",
        "rec_diff      = (x1 - x0)**2\n",
        "rec_score     = rec_diff.mean(dim=1)\n",
        "feat_diff     = ((f_x - f_gx)**2)\n",
        "feat_score    = feat_diff.mean(dim=1)\n",
        "outlier_score = rec_score + options_alpha * feat_score\n"
      ]
    },
    {
      "cell_type": "code",
      "execution_count": 33,
      "metadata": {},
      "outputs": [
        {
          "data": {
            "text/plain": [
              "<matplotlib.image.AxesImage at 0x17d957860d0>"
            ]
          },
          "execution_count": 33,
          "metadata": {},
          "output_type": "execute_result"
        },
        {
          "data": {
            "image/png": "[encoded data removed]",
            "text/plain": [
              "<Figure size 432x288 with 1 Axes>"
            ]
          },
          "metadata": {
            "needs_background": "light"
          },
          "output_type": "display_data"
        }
      ],
      "source": [
        "real_img = single_img[0].permute(1, 2, 0) \n",
        "single_real_img_numpy = real_img.detach().cpu().numpy()\n",
        "\n",
        "plt.imshow(single_real_img_numpy)"
      ]
    },
    {
      "cell_type": "code",
      "execution_count": 34,
      "metadata": {},
      "outputs": [
        {
          "name": "stderr",
          "output_type": "stream",
          "text": [
            "Clipping input data to the valid range for imshow with RGB data ([0..1] for floats or [0..255] for integers).\n"
          ]
        },
        {
          "data": {
            "text/plain": [
              "<matplotlib.image.AxesImage at 0x17d9c10afd0>"
            ]
          },
          "execution_count": 34,
          "metadata": {},
          "output_type": "execute_result"
        },
        {
          "data": {
            "image/png": "[encoded data removed]",
            "text/plain": [
              "<Figure size 432x288 with 1 Axes>"
            ]
          },
          "metadata": {
            "needs_background": "light"
          },
          "output_type": "display_data"
        }
      ],
      "source": [
        "rec_img = rec_image[0].permute(1, 2, 0) \n",
        "rec_img_img_numpy = rec_img.detach().cpu().numpy()\n",
        "\n",
        "plt.imshow(rec_img_img_numpy)"
      ]
    },
    {
      "cell_type": "markdown",
      "metadata": {},
      "source": [
        "# Validation"
      ]
    },
    {
      "cell_type": "code",
      "execution_count": 35,
      "metadata": {},
      "outputs": [
        {
          "name": "stderr",
          "output_type": "stream",
          "text": [
            "100%|██████████| 6/6 [00:13<00:00,  2.25s/it]\n"
          ]
        }
      ],
      "source": [
        "ground_truth, prob_score = validate()"
      ]
    },
    {
      "cell_type": "code",
      "execution_count": 36,
      "metadata": {},
      "outputs": [],
      "source": [
        "y_true_new = np.copy(ground_truth)\n",
        "y_true_new[y_true_new==1]=0\n",
        "y_true_new[y_true_new==-1]=1"
      ]
    },
    {
      "cell_type": "code",
      "execution_count": 37,
      "metadata": {},
      "outputs": [
        {
          "name": "stdout",
          "output_type": "stream",
          "text": [
            "AUC =  0.98\n"
          ]
        }
      ],
      "source": [
        "from sklearn import metrics\n",
        "print('AUC = ', metrics.roc_auc_score(y_true_new, prob_score))"
      ]
    },
    {
      "cell_type": "code",
      "execution_count": 38,
      "metadata": {},
      "outputs": [
        {
          "data": {
            "image/png": "[encoded data removed]",
            "text/plain": [
              "<Figure size 432x288 with 1 Axes>"
            ]
          },
          "metadata": {
            "needs_background": "light"
          },
          "output_type": "display_data"
        }
      ],
      "source": [
        "fpr, tpr, thresholds = metrics.roc_curve(y_true_new, prob_score)\n",
        "plt.plot(fpr, tpr, marker='.', label='AUROC = %0.3f' % metrics.roc_auc_score(y_true_new, prob_score))\n",
        "# Title\n",
        "plt.title('ROC Plot')\n",
        "# Axis labels\n",
        "plt.xlabel('False Positive Rate')\n",
        "plt.ylabel('True Positive Rate')\n",
        "# Show legend\n",
        "plt.legend() # \n",
        "# Show plot\n",
        "plt.show()"
      ]
    },
    {
      "cell_type": "code",
      "execution_count": 39,
      "metadata": {},
      "outputs": [
        {
          "name": "stdout",
          "output_type": "stream",
          "text": [
            "The fpr is:  [0.   0.   0.   0.05 0.05 0.15 0.15 1.  ]\n",
            "The tpr is:  [0.  0.1 0.8 0.8 0.9 0.9 1.  1. ]\n",
            "The thresholds are:  [1.1789823  0.17898223 0.06191184 0.05630987 0.04119947 0.02997918\n",
            " 0.02592302 0.0054181 ]\n"
          ]
        }
      ],
      "source": [
        "print(\"The fpr is: \", fpr)\n",
        "print(\"The tpr is: \", tpr)\n",
        "print(\"The thresholds are: \", thresholds)"
      ]
    },
    {
      "cell_type": "markdown",
      "metadata": {},
      "source": [
        "The best threshold value for this is:  0.02592303  , let's asses this."
      ]
    },
    {
      "cell_type": "code",
      "execution_count": 40,
      "metadata": {},
      "outputs": [],
      "source": [
        "def pred_label_onProb(probs_list, prob_threshold):\n",
        "    pred_based_onProb = []\n",
        "    for i in range (len(probs_list)):\n",
        "        if probs_list[i] > prob_threshold:\n",
        "            prediction = 1                          ## Stands for classifiaction of anomaly bottle\n",
        "        else:\n",
        "            prediction = 0\n",
        "        pred_based_onProb.append(prediction)\n",
        "    return pred_based_onProb"
      ]
    },
    {
      "cell_type": "code",
      "execution_count": 41,
      "metadata": {},
      "outputs": [],
      "source": [
        "# from tensorflow.keras.metrics import Precision, Recall, BinaryAccuracy, SpecificityAtSensitivity\n",
        "from sklearn.metrics import confusion_matrix"
      ]
    },
    {
      "cell_type": "code",
      "execution_count": 42,
      "metadata": {},
      "outputs": [],
      "source": [
        "best_threshold_approach1 = 0.02592303"
      ]
    },
    {
      "cell_type": "code",
      "execution_count": 43,
      "metadata": {},
      "outputs": [
        {
          "name": "stdout",
          "output_type": "stream",
          "text": [
            "[[17  3]\n",
            " [ 1  9]]\n",
            "The FPR values are:  0.15\n",
            "The TPR values are:  0.9\n",
            "Using the threshold =  0.02592303\n"
          ]
        }
      ],
      "source": [
        "conf_matrix = confusion_matrix(y_true_new, pred_label_onProb(prob_score, best_threshold_approach1))\n",
        "print(conf_matrix)\n",
        "_tp = conf_matrix[1, 1]\n",
        "_fn = conf_matrix[1, 0]\n",
        "_fp = conf_matrix[0, 1]\n",
        "_tn = conf_matrix[0, 0]\n",
        "_tpr = _tp/(_tp+_fn)\n",
        "_fpr = _fp / (_tn + _fp)\n",
        "print(\"The FPR values are: \", _fpr)\n",
        "print(\"The TPR values are: \", _tpr)\n",
        "print(\"Using the threshold = \", best_threshold_approach1)"
      ]
    },
    {
      "cell_type": "markdown",
      "metadata": {},
      "source": [
        "# Evaluating the model. With the threhsold value of the direct prob score"
      ]
    },
    {
      "cell_type": "code",
      "execution_count": 44,
      "metadata": {},
      "outputs": [
        {
          "name": "stderr",
          "output_type": "stream",
          "text": [
            "100%|██████████| 6/6 [00:04<00:00,  1.44it/s]\n"
          ]
        }
      ],
      "source": [
        "ground_truth, prob_score = evaluate()"
      ]
    },
    {
      "cell_type": "code",
      "execution_count": 45,
      "metadata": {},
      "outputs": [],
      "source": [
        "y_true_new = np.copy(ground_truth)\n",
        "y_true_new[y_true_new==1]=0\n",
        "y_true_new[y_true_new==-1]=1"
      ]
    },
    {
      "cell_type": "code",
      "execution_count": 46,
      "metadata": {},
      "outputs": [
        {
          "name": "stdout",
          "output_type": "stream",
          "text": [
            "[[16  4]\n",
            " [ 1  9]]\n",
            "The FPR values are:  0.2\n",
            "The TPR values are:  0.9\n",
            "Using the threshold =  0.02592303\n"
          ]
        }
      ],
      "source": [
        "conf_matrix = confusion_matrix(y_true_new, pred_label_onProb(prob_score, best_threshold_approach1))\n",
        "print(conf_matrix)\n",
        "_tp = conf_matrix[1, 1]\n",
        "_fn = conf_matrix[1, 0]\n",
        "_fp = conf_matrix[0, 1]\n",
        "_tn = conf_matrix[0, 0]\n",
        "_tpr = _tp/(_tp+_fn)\n",
        "_fpr = _fp / (_tn + _fp)\n",
        "print(\"The FPR values are: \", _fpr)\n",
        "print(\"The TPR values are: \", _tpr)\n",
        "print(\"Using the threshold = \", best_threshold_approach1)"
      ]
    },
    {
      "cell_type": "code",
      "execution_count": 47,
      "metadata": {},
      "outputs": [
        {
          "name": "stdout",
          "output_type": "stream",
          "text": [
            "The groudn truth is:  [0 0 0 0 0 0 0 0 0 0 0 0 0 0 0 0 0 0 0 0 1 1 1 1 1 1 1 1 1 1]\n",
            "The predicted label is:  [0, 0, 0, 0, 0, 0, 0, 0, 0, 0, 1, 0, 0, 0, 0, 0, 0, 1, 1, 1, 1, 1, 1, 1, 1, 0, 1, 1, 1, 1]\n"
          ]
        }
      ],
      "source": [
        "y_pred = pred_label_onProb(prob_score, best_threshold_approach1)\n",
        "print(\"The groudn truth is: \", y_true_new)\n",
        "print(\"The predicted label is: \", y_pred)"
      ]
    },
    {
      "cell_type": "markdown",
      "metadata": {},
      "source": [
        "# Applying evaluation metrics to these results"
      ]
    },
    {
      "cell_type": "markdown",
      "metadata": {},
      "source": [
        "## Computing the confusion matrix"
      ]
    },
    {
      "cell_type": "code",
      "execution_count": 48,
      "metadata": {},
      "outputs": [],
      "source": [
        "from sklearn.metrics import confusion_matrix\n",
        "import pandas as pd\n",
        "import seaborn as sn"
      ]
    },
    {
      "cell_type": "code",
      "execution_count": 49,
      "metadata": {},
      "outputs": [
        {
          "name": "stdout",
          "output_type": "stream",
          "text": [
            "[[16  4]\n",
            " [ 1  9]]\n"
          ]
        }
      ],
      "source": [
        "conf_matrix = confusion_matrix(y_true_new, y_pred)\n",
        "print(conf_matrix)"
      ]
    },
    {
      "cell_type": "code",
      "execution_count": 50,
      "metadata": {},
      "outputs": [
        {
          "data": {
            "text/plain": [
              "Text(0.5, 15.0, 'Predicted label')"
            ]
          },
          "execution_count": 50,
          "metadata": {},
          "output_type": "execute_result"
        },
        {
          "data": {
            "image/png": "[encoded data removed]",
            "text/plain": [
              "<Figure size 432x288 with 2 Axes>"
            ]
          },
          "metadata": {
            "needs_background": "light"
          },
          "output_type": "display_data"
        }
      ],
      "source": [
        "group_names = ['True Neg','False Pos','False Neg','True Pos']\n",
        "group_counts = [\"{0:0.0f}\".format(value) for value in\n",
        "                conf_matrix.flatten()]\n",
        "group_percentages = [\"{0:.2%}\".format(value) for value in\n",
        "                     conf_matrix.flatten()/np.sum(conf_matrix)]\n",
        "labels = [f\"{v1}\\n{v2}\\n{v3}\" for v1, v2, v3 in\n",
        "          zip(group_names,group_counts,group_percentages)]        #To print the group names as well \n",
        "\n",
        "labels = np.asarray(labels).reshape(2,2)\n",
        "categories = ['Positive bottles', 'Anomaly bottles']\n",
        "sn.heatmap(conf_matrix, annot=labels, fmt='', xticklabels=categories,yticklabels=categories, cmap='Blues')\n",
        "plt.ylabel('True label')\n",
        "plt.xlabel('Predicted label')"
      ]
    },
    {
      "cell_type": "code",
      "execution_count": 51,
      "metadata": {},
      "outputs": [
        {
          "name": "stdout",
          "output_type": "stream",
          "text": [
            "The FPR values are:  0.2\n",
            "The TPR values are:  0.9\n"
          ]
        }
      ],
      "source": [
        "_tp = conf_matrix[1, 1]\n",
        "_fn = conf_matrix[1, 0]\n",
        "_fp = conf_matrix[0, 1]\n",
        "_tn = conf_matrix[0, 0]\n",
        "_tpr = _tp/(_tp+_fn)\n",
        "_fpr = _fp / (_tn + _fp)\n",
        "print(\"The FPR values are: \", _fpr)\n",
        "print(\"The TPR values are: \", _tpr)"
      ]
    },
    {
      "cell_type": "markdown",
      "metadata": {},
      "source": [
        "## Precision metric"
      ]
    },
    {
      "cell_type": "markdown",
      "metadata": {},
      "source": [
        "Precision = True positives / (True positives + False positives).\n",
        "\n",
        "Answers the question: Which proportion of positive predictions is actually right?"
      ]
    },
    {
      "cell_type": "code",
      "execution_count": 52,
      "metadata": {},
      "outputs": [
        {
          "name": "stdout",
          "output_type": "stream",
          "text": [
            "The precision is:  0.6923076923076923\n"
          ]
        }
      ],
      "source": [
        "precision = _tp/(_tp+_fp)\n",
        "print(\"The precision is: \", precision)\n"
      ]
    },
    {
      "cell_type": "markdown",
      "metadata": {},
      "source": [
        "## Recall metric"
      ]
    },
    {
      "cell_type": "markdown",
      "metadata": {},
      "source": [
        "Recall = TruePositives / (TruePositives + FalseNegatives)\n",
        "\n",
        "This metric is also called \"sensitiviy\" and TPR \"True Positive Rate\". It responds how good is the model at catching YESes?"
      ]
    },
    {
      "cell_type": "code",
      "execution_count": 53,
      "metadata": {},
      "outputs": [
        {
          "name": "stdout",
          "output_type": "stream",
          "text": [
            "The recall is:  0.9\n"
          ]
        }
      ],
      "source": [
        "recall = _tp/(_tp+_fn)\n",
        "print(\"The recall is: \", recall)"
      ]
    },
    {
      "cell_type": "markdown",
      "metadata": {},
      "source": [
        "## Specificity"
      ]
    },
    {
      "cell_type": "markdown",
      "metadata": {},
      "source": [
        "Specificity = True negatives / (True negatives + false positives)\n",
        "\n",
        "The specificity metric is the opposite as sensitivity, it tells us how good is the model at catching NOes. It measures the proportion of actual negatives that are correctly identified as such."
      ]
    },
    {
      "cell_type": "code",
      "execution_count": 54,
      "metadata": {},
      "outputs": [
        {
          "name": "stdout",
          "output_type": "stream",
          "text": [
            "The specificity is:  0.8\n"
          ]
        }
      ],
      "source": [
        "spec = _tn/(_tn+_fp)\n",
        "print(\"The specificity is: \", spec)"
      ]
    },
    {
      "cell_type": "markdown",
      "metadata": {},
      "source": [
        "## Accuracy"
      ]
    },
    {
      "cell_type": "markdown",
      "metadata": {},
      "source": [
        "Accuracy = (True negatives + True positives) / (True positives + True negatives + False positives + False negatives)"
      ]
    },
    {
      "cell_type": "code",
      "execution_count": 55,
      "metadata": {},
      "outputs": [
        {
          "name": "stdout",
          "output_type": "stream",
          "text": [
            "The accuracy is:  0.8333333333333334\n"
          ]
        }
      ],
      "source": [
        "acc = (_tn+_tp)/(_tn+_tp +_fp + _fn)\n",
        "print(\"The accuracy is: \", acc)"
      ]
    },
    {
      "cell_type": "markdown",
      "metadata": {},
      "source": [
        "## The ROC curve"
      ]
    },
    {
      "cell_type": "code",
      "execution_count": 56,
      "metadata": {},
      "outputs": [],
      "source": [
        "from sklearn.metrics import roc_curve, roc_auc_score\n"
      ]
    },
    {
      "cell_type": "markdown",
      "metadata": {},
      "source": [
        "Rather than the prediction of each sample (0 or 1 values) we need the probability of the samples to be predicted as an anomaly image. Hence, we compute this probability"
      ]
    },
    {
      "cell_type": "code",
      "execution_count": 57,
      "metadata": {},
      "outputs": [
        {
          "name": "stdout",
          "output_type": "stream",
          "text": [
            "AUROC = 0.980\n",
            "The fpr is:  [0.  0.  0.  0.2 0.2 1. ]\n",
            "The tpr is:  [0.  0.1 0.9 0.9 1.  1. ]\n",
            "The thresholds are:  [1.1016818  0.1016818  0.03932453 0.03019238 0.02461751 0.00596158]\n"
          ]
        }
      ],
      "source": [
        "auc_score = roc_auc_score(y_true_new, prob_score)\n",
        "print('AUROC = %.3f' % (auc_score))\n",
        "fpr, tpr, thresholds = roc_curve(y_true_new, prob_score)\n",
        "print(\"The fpr is: \", fpr)\n",
        "print(\"The tpr is: \", tpr)\n",
        "print(\"The thresholds are: \", thresholds)"
      ]
    },
    {
      "cell_type": "code",
      "execution_count": 58,
      "metadata": {},
      "outputs": [
        {
          "data": {
            "image/png": "[encoded data removed]",
            "text/plain": [
              "<Figure size 432x288 with 1 Axes>"
            ]
          },
          "metadata": {
            "needs_background": "light"
          },
          "output_type": "display_data"
        }
      ],
      "source": [
        "plt.plot(fpr, tpr, marker='.', label='AUROC = %0.3f' % auc_score)\n",
        "# Title\n",
        "plt.title('ROC Plot')\n",
        "# Axis labels\n",
        "plt.xlabel('False Positive Rate')\n",
        "plt.ylabel('True Positive Rate')\n",
        "# Show legend\n",
        "plt.legend() # \n",
        "# Show plot\n",
        "plt.show()"
      ]
    },
    {
      "cell_type": "code",
      "execution_count": null,
      "metadata": {},
      "outputs": [],
      "source": []
    }
  ],
  "metadata": {
    "accelerator": "GPU",
    "colab": {
      "machine_shape": "hm",
      "provenance": []
    },
    "kernelspec": {
      "display_name": "Python 3",
      "name": "python3"
    },
    "language_info": {
      "codemirror_mode": {
        "name": "ipython",
        "version": 3
      },
      "file_extension": ".py",
      "mimetype": "text/x-python",
      "name": "python",
      "nbconvert_exporter": "python",
      "pygments_lexer": "ipython3",
      "version": "3.9.16"
    },
    "widgets": {
      "application/vnd.jupyter.widget-state+json": {
        "00a196dbc58c4203a4437a08520f7765": {
          "model_module": "@jupyter-widgets/base",
          "model_module_version": "1.2.0",
          "model_name": "LayoutModel",
          "state": {
            "_model_module": "@jupyter-widgets/base",
            "_model_module_version": "1.2.0",
            "_model_name": "LayoutModel",
            "_view_count": null,
            "_view_module": "@jupyter-widgets/base",
            "_view_module_version": "1.2.0",
            "_view_name": "LayoutView",
            "align_content": null,
            "align_items": null,
            "align_self": null,
            "border": null,
            "bottom": null,
            "display": null,
            "flex": null,
            "flex_flow": null,
            "grid_area": null,
            "grid_auto_columns": null,
            "grid_auto_flow": null,
            "grid_auto_rows": null,
            "grid_column": null,
            "grid_gap": null,
            "grid_row": null,
            "grid_template_areas": null,
            "grid_template_columns": null,
            "grid_template_rows": null,
            "height": null,
            "justify_content": null,
            "justify_items": null,
            "left": null,
            "margin": null,
            "max_height": null,
            "max_width": null,
            "min_height": null,
            "min_width": null,
            "object_fit": null,
            "object_position": null,
            "order": null,
            "overflow": null,
            "overflow_x": null,
            "overflow_y": null,
            "padding": null,
            "right": null,
            "top": null,
            "visibility": null,
            "width": null
          }
        },
        "0134921b470d42679a10a09720ad1b26": {
          "model_module": "@jupyter-widgets/controls",
          "model_module_version": "1.5.0",
          "model_name": "HTMLModel",
          "state": {
            "_dom_classes": [],
            "_model_module": "@jupyter-widgets/controls",
            "_model_module_version": "1.5.0",
            "_model_name": "HTMLModel",
            "_view_count": null,
            "_view_module": "@jupyter-widgets/controls",
            "_view_module_version": "1.5.0",
            "_view_name": "HTMLView",
            "description": "",
            "description_tooltip": null,
            "layout": "IPY_MODEL_9656a580c2944e218f682b27e3aea9dd",
            "placeholder": "​",
            "style": "IPY_MODEL_7f73c23567bf4d45bbf0499f34553bc5",
            "value": "100%"
          }
        },
        "04c814ec09354fe4ab3aae92da4b0b92": {
          "model_module": "@jupyter-widgets/controls",
          "model_module_version": "1.5.0",
          "model_name": "DescriptionStyleModel",
          "state": {
            "_model_module": "@jupyter-widgets/controls",
            "_model_module_version": "1.5.0",
            "_model_name": "DescriptionStyleModel",
            "_view_count": null,
            "_view_module": "@jupyter-widgets/base",
            "_view_module_version": "1.2.0",
            "_view_name": "StyleView",
            "description_width": ""
          }
        },
        "0c7e91424e4841968524e2e67e056b17": {
          "model_module": "@jupyter-widgets/controls",
          "model_module_version": "1.5.0",
          "model_name": "HTMLModel",
          "state": {
            "_dom_classes": [],
            "_model_module": "@jupyter-widgets/controls",
            "_model_module_version": "1.5.0",
            "_model_name": "HTMLModel",
            "_view_count": null,
            "_view_module": "@jupyter-widgets/controls",
            "_view_module_version": "1.5.0",
            "_view_name": "HTMLView",
            "description": "",
            "description_tooltip": null,
            "layout": "IPY_MODEL_00a196dbc58c4203a4437a08520f7765",
            "placeholder": "​",
            "style": "IPY_MODEL_ec8be195185341f6bad2d5ed0d0410df",
            "value": ""
          }
        },
        "0da4ddf36c4a4105adfc5093c70e65cc": {
          "model_module": "@jupyter-widgets/base",
          "model_module_version": "1.2.0",
          "model_name": "LayoutModel",
          "state": {
            "_model_module": "@jupyter-widgets/base",
            "_model_module_version": "1.2.0",
            "_model_name": "LayoutModel",
            "_view_count": null,
            "_view_module": "@jupyter-widgets/base",
            "_view_module_version": "1.2.0",
            "_view_name": "LayoutView",
            "align_content": null,
            "align_items": null,
            "align_self": null,
            "border": null,
            "bottom": null,
            "display": null,
            "flex": null,
            "flex_flow": null,
            "grid_area": null,
            "grid_auto_columns": null,
            "grid_auto_flow": null,
            "grid_auto_rows": null,
            "grid_column": null,
            "grid_gap": null,
            "grid_row": null,
            "grid_template_areas": null,
            "grid_template_columns": null,
            "grid_template_rows": null,
            "height": null,
            "justify_content": null,
            "justify_items": null,
            "left": null,
            "margin": null,
            "max_height": null,
            "max_width": null,
            "min_height": null,
            "min_width": null,
            "object_fit": null,
            "object_position": null,
            "order": null,
            "overflow": null,
            "overflow_x": null,
            "overflow_y": null,
            "padding": null,
            "right": null,
            "top": null,
            "visibility": null,
            "width": null
          }
        },
        "230db93ae8a14096a7309b4297a35381": {
          "model_module": "@jupyter-widgets/base",
          "model_module_version": "1.2.0",
          "model_name": "LayoutModel",
          "state": {
            "_model_module": "@jupyter-widgets/base",
            "_model_module_version": "1.2.0",
            "_model_name": "LayoutModel",
            "_view_count": null,
            "_view_module": "@jupyter-widgets/base",
            "_view_module_version": "1.2.0",
            "_view_name": "LayoutView",
            "align_content": null,
            "align_items": null,
            "align_self": null,
            "border": null,
            "bottom": null,
            "display": null,
            "flex": null,
            "flex_flow": null,
            "grid_area": null,
            "grid_auto_columns": null,
            "grid_auto_flow": null,
            "grid_auto_rows": null,
            "grid_column": null,
            "grid_gap": null,
            "grid_row": null,
            "grid_template_areas": null,
            "grid_template_columns": null,
            "grid_template_rows": null,
            "height": null,
            "justify_content": null,
            "justify_items": null,
            "left": null,
            "margin": null,
            "max_height": null,
            "max_width": null,
            "min_height": null,
            "min_width": null,
            "object_fit": null,
            "object_position": null,
            "order": null,
            "overflow": null,
            "overflow_x": null,
            "overflow_y": null,
            "padding": null,
            "right": null,
            "top": null,
            "visibility": null,
            "width": null
          }
        },
        "240dbeeda70c4bce88dbdfa99e4289cf": {
          "model_module": "@jupyter-widgets/base",
          "model_module_version": "1.2.0",
          "model_name": "LayoutModel",
          "state": {
            "_model_module": "@jupyter-widgets/base",
            "_model_module_version": "1.2.0",
            "_model_name": "LayoutModel",
            "_view_count": null,
            "_view_module": "@jupyter-widgets/base",
            "_view_module_version": "1.2.0",
            "_view_name": "LayoutView",
            "align_content": null,
            "align_items": null,
            "align_self": null,
            "border": null,
            "bottom": null,
            "display": null,
            "flex": null,
            "flex_flow": null,
            "grid_area": null,
            "grid_auto_columns": null,
            "grid_auto_flow": null,
            "grid_auto_rows": null,
            "grid_column": null,
            "grid_gap": null,
            "grid_row": null,
            "grid_template_areas": null,
            "grid_template_columns": null,
            "grid_template_rows": null,
            "height": null,
            "justify_content": null,
            "justify_items": null,
            "left": null,
            "margin": null,
            "max_height": null,
            "max_width": null,
            "min_height": null,
            "min_width": null,
            "object_fit": null,
            "object_position": null,
            "order": null,
            "overflow": null,
            "overflow_x": null,
            "overflow_y": null,
            "padding": null,
            "right": null,
            "top": null,
            "visibility": null,
            "width": null
          }
        },
        "2c13fcfc4a9b42698017900f49c131dd": {
          "model_module": "@jupyter-widgets/controls",
          "model_module_version": "1.5.0",
          "model_name": "DescriptionStyleModel",
          "state": {
            "_model_module": "@jupyter-widgets/controls",
            "_model_module_version": "1.5.0",
            "_model_name": "DescriptionStyleModel",
            "_view_count": null,
            "_view_module": "@jupyter-widgets/base",
            "_view_module_version": "1.2.0",
            "_view_name": "StyleView",
            "description_width": ""
          }
        },
        "341ae4e15d194ada86b80e32bb55ea57": {
          "model_module": "@jupyter-widgets/controls",
          "model_module_version": "1.5.0",
          "model_name": "ProgressStyleModel",
          "state": {
            "_model_module": "@jupyter-widgets/controls",
            "_model_module_version": "1.5.0",
            "_model_name": "ProgressStyleModel",
            "_view_count": null,
            "_view_module": "@jupyter-widgets/base",
            "_view_module_version": "1.2.0",
            "_view_name": "StyleView",
            "bar_color": null,
            "description_width": ""
          }
        },
        "3675d32587624b6b8a7a9f54f24dcd9a": {
          "model_module": "@jupyter-widgets/controls",
          "model_module_version": "1.5.0",
          "model_name": "FloatProgressModel",
          "state": {
            "_dom_classes": [],
            "_model_module": "@jupyter-widgets/controls",
            "_model_module_version": "1.5.0",
            "_model_name": "FloatProgressModel",
            "_view_count": null,
            "_view_module": "@jupyter-widgets/controls",
            "_view_module_version": "1.5.0",
            "_view_name": "ProgressView",
            "bar_style": "success",
            "description": "",
            "description_tooltip": null,
            "layout": "IPY_MODEL_7c9f39da25e04e4ba3103bb9b434e82c",
            "max": 9912422,
            "min": 0,
            "orientation": "horizontal",
            "style": "IPY_MODEL_9ac71c72454b482c8926ad6431c20937",
            "value": 9912422
          }
        },
        "383e0645411a486bb46ae45c98d876fa": {
          "model_module": "@jupyter-widgets/controls",
          "model_module_version": "1.5.0",
          "model_name": "FloatProgressModel",
          "state": {
            "_dom_classes": [],
            "_model_module": "@jupyter-widgets/controls",
            "_model_module_version": "1.5.0",
            "_model_name": "FloatProgressModel",
            "_view_count": null,
            "_view_module": "@jupyter-widgets/controls",
            "_view_module_version": "1.5.0",
            "_view_name": "ProgressView",
            "bar_style": "success",
            "description": "",
            "description_tooltip": null,
            "layout": "IPY_MODEL_92a82edabb004b23905a1b31370dd3b9",
            "max": 1648877,
            "min": 0,
            "orientation": "horizontal",
            "style": "IPY_MODEL_c4b4655b8a6040338bfa994630c55295",
            "value": 1648877
          }
        },
        "3b567e0806144d71a6b7f993eeea2eb1": {
          "model_module": "@jupyter-widgets/controls",
          "model_module_version": "1.5.0",
          "model_name": "HBoxModel",
          "state": {
            "_dom_classes": [],
            "_model_module": "@jupyter-widgets/controls",
            "_model_module_version": "1.5.0",
            "_model_name": "HBoxModel",
            "_view_count": null,
            "_view_module": "@jupyter-widgets/controls",
            "_view_module_version": "1.5.0",
            "_view_name": "HBoxView",
            "box_style": "",
            "children": [
              "IPY_MODEL_fb51ff6a0d5148beb7c8a67f0efdabe8",
              "IPY_MODEL_5010e1bc6d65444c9ee2e20fdf4a2b36",
              "IPY_MODEL_7028b4f506c848da9eddbdcfef0173ab"
            ],
            "layout": "IPY_MODEL_d1de7f182e114dc6b8ccd9bff5a10a0a"
          }
        },
        "3be8a4c9253b4f95b286ca5205436aaa": {
          "model_module": "@jupyter-widgets/controls",
          "model_module_version": "1.5.0",
          "model_name": "HTMLModel",
          "state": {
            "_dom_classes": [],
            "_model_module": "@jupyter-widgets/controls",
            "_model_module_version": "1.5.0",
            "_model_name": "HTMLModel",
            "_view_count": null,
            "_view_module": "@jupyter-widgets/controls",
            "_view_module_version": "1.5.0",
            "_view_name": "HTMLView",
            "description": "",
            "description_tooltip": null,
            "layout": "IPY_MODEL_9e713a23678d4819865212d6f0d30164",
            "placeholder": "​",
            "style": "IPY_MODEL_b801a0357e264b9691c75846b4b87b56",
            "value": " 1649664/? [00:00&lt;00:00, 4777016.01it/s]"
          }
        },
        "42d43122f62445eabe79ddbffa56893e": {
          "model_module": "@jupyter-widgets/base",
          "model_module_version": "1.2.0",
          "model_name": "LayoutModel",
          "state": {
            "_model_module": "@jupyter-widgets/base",
            "_model_module_version": "1.2.0",
            "_model_name": "LayoutModel",
            "_view_count": null,
            "_view_module": "@jupyter-widgets/base",
            "_view_module_version": "1.2.0",
            "_view_name": "LayoutView",
            "align_content": null,
            "align_items": null,
            "align_self": null,
            "border": null,
            "bottom": null,
            "display": null,
            "flex": null,
            "flex_flow": null,
            "grid_area": null,
            "grid_auto_columns": null,
            "grid_auto_flow": null,
            "grid_auto_rows": null,
            "grid_column": null,
            "grid_gap": null,
            "grid_row": null,
            "grid_template_areas": null,
            "grid_template_columns": null,
            "grid_template_rows": null,
            "height": null,
            "justify_content": null,
            "justify_items": null,
            "left": null,
            "margin": null,
            "max_height": null,
            "max_width": null,
            "min_height": null,
            "min_width": null,
            "object_fit": null,
            "object_position": null,
            "order": null,
            "overflow": null,
            "overflow_x": null,
            "overflow_y": null,
            "padding": null,
            "right": null,
            "top": null,
            "visibility": null,
            "width": null
          }
        },
        "45c8efe0ae3c4552bdd6d7304d3e5139": {
          "model_module": "@jupyter-widgets/controls",
          "model_module_version": "1.5.0",
          "model_name": "HTMLModel",
          "state": {
            "_dom_classes": [],
            "_model_module": "@jupyter-widgets/controls",
            "_model_module_version": "1.5.0",
            "_model_name": "HTMLModel",
            "_view_count": null,
            "_view_module": "@jupyter-widgets/controls",
            "_view_module_version": "1.5.0",
            "_view_name": "HTMLView",
            "description": "",
            "description_tooltip": null,
            "layout": "IPY_MODEL_480138eae3a64cb481b782c028a8cbb7",
            "placeholder": "​",
            "style": "IPY_MODEL_ee807c42cfc749778341c8f64a83f248",
            "value": " 167/167 [00:26&lt;00:00,  2.69it/s]"
          }
        },
        "463f0ec49a1b42088dc9b1492a325ff3": {
          "model_module": "@jupyter-widgets/controls",
          "model_module_version": "1.5.0",
          "model_name": "ProgressStyleModel",
          "state": {
            "_model_module": "@jupyter-widgets/controls",
            "_model_module_version": "1.5.0",
            "_model_name": "ProgressStyleModel",
            "_view_count": null,
            "_view_module": "@jupyter-widgets/base",
            "_view_module_version": "1.2.0",
            "_view_name": "StyleView",
            "bar_color": null,
            "description_width": ""
          }
        },
        "480138eae3a64cb481b782c028a8cbb7": {
          "model_module": "@jupyter-widgets/base",
          "model_module_version": "1.2.0",
          "model_name": "LayoutModel",
          "state": {
            "_model_module": "@jupyter-widgets/base",
            "_model_module_version": "1.2.0",
            "_model_name": "LayoutModel",
            "_view_count": null,
            "_view_module": "@jupyter-widgets/base",
            "_view_module_version": "1.2.0",
            "_view_name": "LayoutView",
            "align_content": null,
            "align_items": null,
            "align_self": null,
            "border": null,
            "bottom": null,
            "display": null,
            "flex": null,
            "flex_flow": null,
            "grid_area": null,
            "grid_auto_columns": null,
            "grid_auto_flow": null,
            "grid_auto_rows": null,
            "grid_column": null,
            "grid_gap": null,
            "grid_row": null,
            "grid_template_areas": null,
            "grid_template_columns": null,
            "grid_template_rows": null,
            "height": null,
            "justify_content": null,
            "justify_items": null,
            "left": null,
            "margin": null,
            "max_height": null,
            "max_width": null,
            "min_height": null,
            "min_width": null,
            "object_fit": null,
            "object_position": null,
            "order": null,
            "overflow": null,
            "overflow_x": null,
            "overflow_y": null,
            "padding": null,
            "right": null,
            "top": null,
            "visibility": null,
            "width": null
          }
        },
        "4c5306c37d5d4769b5df5c2e8169eff2": {
          "model_module": "@jupyter-widgets/controls",
          "model_module_version": "1.5.0",
          "model_name": "HTMLModel",
          "state": {
            "_dom_classes": [],
            "_model_module": "@jupyter-widgets/controls",
            "_model_module_version": "1.5.0",
            "_model_name": "HTMLModel",
            "_view_count": null,
            "_view_module": "@jupyter-widgets/controls",
            "_view_module_version": "1.5.0",
            "_view_name": "HTMLView",
            "description": "",
            "description_tooltip": null,
            "layout": "IPY_MODEL_ba17bc2737924b6ab1c02255f061a005",
            "placeholder": "​",
            "style": "IPY_MODEL_2c13fcfc4a9b42698017900f49c131dd",
            "value": " 29696/? [00:00&lt;00:00, 1154903.68it/s]"
          }
        },
        "4d001546313543bd8616b748985272d3": {
          "model_module": "@jupyter-widgets/controls",
          "model_module_version": "1.5.0",
          "model_name": "DescriptionStyleModel",
          "state": {
            "_model_module": "@jupyter-widgets/controls",
            "_model_module_version": "1.5.0",
            "_model_name": "DescriptionStyleModel",
            "_view_count": null,
            "_view_module": "@jupyter-widgets/base",
            "_view_module_version": "1.2.0",
            "_view_name": "StyleView",
            "description_width": ""
          }
        },
        "4ec3cf1346374ea8b023f500dea9b997": {
          "model_module": "@jupyter-widgets/controls",
          "model_module_version": "1.5.0",
          "model_name": "HTMLModel",
          "state": {
            "_dom_classes": [],
            "_model_module": "@jupyter-widgets/controls",
            "_model_module_version": "1.5.0",
            "_model_name": "HTMLModel",
            "_view_count": null,
            "_view_module": "@jupyter-widgets/controls",
            "_view_module_version": "1.5.0",
            "_view_name": "HTMLView",
            "description": "",
            "description_tooltip": null,
            "layout": "IPY_MODEL_71f3b9e56dd74217b3f211e47ae2f38f",
            "placeholder": "​",
            "style": "IPY_MODEL_8f6418d664ee471f9f64877b1c0ac1ec",
            "value": ""
          }
        },
        "5010e1bc6d65444c9ee2e20fdf4a2b36": {
          "model_module": "@jupyter-widgets/controls",
          "model_module_version": "1.5.0",
          "model_name": "FloatProgressModel",
          "state": {
            "_dom_classes": [],
            "_model_module": "@jupyter-widgets/controls",
            "_model_module_version": "1.5.0",
            "_model_name": "FloatProgressModel",
            "_view_count": null,
            "_view_module": "@jupyter-widgets/controls",
            "_view_module_version": "1.5.0",
            "_view_name": "ProgressView",
            "bar_style": "success",
            "description": "",
            "description_tooltip": null,
            "layout": "IPY_MODEL_0da4ddf36c4a4105adfc5093c70e65cc",
            "max": 20,
            "min": 0,
            "orientation": "horizontal",
            "style": "IPY_MODEL_faf0cf9277f94e55b23a158b97f684e5",
            "value": 20
          }
        },
        "50fc161803794d12ab7de7691b4a0a73": {
          "model_module": "@jupyter-widgets/base",
          "model_module_version": "1.2.0",
          "model_name": "LayoutModel",
          "state": {
            "_model_module": "@jupyter-widgets/base",
            "_model_module_version": "1.2.0",
            "_model_name": "LayoutModel",
            "_view_count": null,
            "_view_module": "@jupyter-widgets/base",
            "_view_module_version": "1.2.0",
            "_view_name": "LayoutView",
            "align_content": null,
            "align_items": null,
            "align_self": null,
            "border": null,
            "bottom": null,
            "display": null,
            "flex": null,
            "flex_flow": null,
            "grid_area": null,
            "grid_auto_columns": null,
            "grid_auto_flow": null,
            "grid_auto_rows": null,
            "grid_column": null,
            "grid_gap": null,
            "grid_row": null,
            "grid_template_areas": null,
            "grid_template_columns": null,
            "grid_template_rows": null,
            "height": null,
            "justify_content": null,
            "justify_items": null,
            "left": null,
            "margin": null,
            "max_height": null,
            "max_width": null,
            "min_height": null,
            "min_width": null,
            "object_fit": null,
            "object_position": null,
            "order": null,
            "overflow": null,
            "overflow_x": null,
            "overflow_y": null,
            "padding": null,
            "right": null,
            "top": null,
            "visibility": null,
            "width": null
          }
        },
        "5779cb7d690b4adc8f0db47edf6fdb38": {
          "model_module": "@jupyter-widgets/base",
          "model_module_version": "1.2.0",
          "model_name": "LayoutModel",
          "state": {
            "_model_module": "@jupyter-widgets/base",
            "_model_module_version": "1.2.0",
            "_model_name": "LayoutModel",
            "_view_count": null,
            "_view_module": "@jupyter-widgets/base",
            "_view_module_version": "1.2.0",
            "_view_name": "LayoutView",
            "align_content": null,
            "align_items": null,
            "align_self": null,
            "border": null,
            "bottom": null,
            "display": null,
            "flex": null,
            "flex_flow": null,
            "grid_area": null,
            "grid_auto_columns": null,
            "grid_auto_flow": null,
            "grid_auto_rows": null,
            "grid_column": null,
            "grid_gap": null,
            "grid_row": null,
            "grid_template_areas": null,
            "grid_template_columns": null,
            "grid_template_rows": null,
            "height": null,
            "justify_content": null,
            "justify_items": null,
            "left": null,
            "margin": null,
            "max_height": null,
            "max_width": null,
            "min_height": null,
            "min_width": null,
            "object_fit": null,
            "object_position": null,
            "order": null,
            "overflow": null,
            "overflow_x": null,
            "overflow_y": null,
            "padding": null,
            "right": null,
            "top": null,
            "visibility": null,
            "width": null
          }
        },
        "61939e103466432ca0bda726e55305f4": {
          "model_module": "@jupyter-widgets/controls",
          "model_module_version": "1.5.0",
          "model_name": "HBoxModel",
          "state": {
            "_dom_classes": [],
            "_model_module": "@jupyter-widgets/controls",
            "_model_module_version": "1.5.0",
            "_model_name": "HBoxModel",
            "_view_count": null,
            "_view_module": "@jupyter-widgets/controls",
            "_view_module_version": "1.5.0",
            "_view_name": "HBoxView",
            "box_style": "",
            "children": [
              "IPY_MODEL_753cb48a90a0483b978541d1adaa86c8",
              "IPY_MODEL_b777812e2c67477bb01f91dada404672",
              "IPY_MODEL_86f37825d61548358f54a3170092e187"
            ],
            "layout": "IPY_MODEL_8df6a5d67a8346249e56c8e3d700a937"
          }
        },
        "61ba8f171fb44ae4afa497fec410179b": {
          "model_module": "@jupyter-widgets/controls",
          "model_module_version": "1.5.0",
          "model_name": "DescriptionStyleModel",
          "state": {
            "_model_module": "@jupyter-widgets/controls",
            "_model_module_version": "1.5.0",
            "_model_name": "DescriptionStyleModel",
            "_view_count": null,
            "_view_module": "@jupyter-widgets/base",
            "_view_module_version": "1.2.0",
            "_view_name": "StyleView",
            "description_width": ""
          }
        },
        "6adc9e8c6159486d9d70e3ae605995ff": {
          "model_module": "@jupyter-widgets/base",
          "model_module_version": "1.2.0",
          "model_name": "LayoutModel",
          "state": {
            "_model_module": "@jupyter-widgets/base",
            "_model_module_version": "1.2.0",
            "_model_name": "LayoutModel",
            "_view_count": null,
            "_view_module": "@jupyter-widgets/base",
            "_view_module_version": "1.2.0",
            "_view_name": "LayoutView",
            "align_content": null,
            "align_items": null,
            "align_self": null,
            "border": null,
            "bottom": null,
            "display": null,
            "flex": null,
            "flex_flow": null,
            "grid_area": null,
            "grid_auto_columns": null,
            "grid_auto_flow": null,
            "grid_auto_rows": null,
            "grid_column": null,
            "grid_gap": null,
            "grid_row": null,
            "grid_template_areas": null,
            "grid_template_columns": null,
            "grid_template_rows": null,
            "height": null,
            "justify_content": null,
            "justify_items": null,
            "left": null,
            "margin": null,
            "max_height": null,
            "max_width": null,
            "min_height": null,
            "min_width": null,
            "object_fit": null,
            "object_position": null,
            "order": null,
            "overflow": null,
            "overflow_x": null,
            "overflow_y": null,
            "padding": null,
            "right": null,
            "top": null,
            "visibility": null,
            "width": null
          }
        },
        "6b8bb207ca404ccea347db9d95a9d849": {
          "model_module": "@jupyter-widgets/controls",
          "model_module_version": "1.5.0",
          "model_name": "HBoxModel",
          "state": {
            "_dom_classes": [],
            "_model_module": "@jupyter-widgets/controls",
            "_model_module_version": "1.5.0",
            "_model_name": "HBoxModel",
            "_view_count": null,
            "_view_module": "@jupyter-widgets/controls",
            "_view_module_version": "1.5.0",
            "_view_name": "HBoxView",
            "box_style": "",
            "children": [
              "IPY_MODEL_4ec3cf1346374ea8b023f500dea9b997",
              "IPY_MODEL_c0e85c01dc4e43039ab02d8f4c8e683e",
              "IPY_MODEL_4c5306c37d5d4769b5df5c2e8169eff2"
            ],
            "layout": "IPY_MODEL_6adc9e8c6159486d9d70e3ae605995ff"
          }
        },
        "6cb0de394e7f428da92939439f1c6a8a": {
          "model_module": "@jupyter-widgets/controls",
          "model_module_version": "1.5.0",
          "model_name": "ProgressStyleModel",
          "state": {
            "_model_module": "@jupyter-widgets/controls",
            "_model_module_version": "1.5.0",
            "_model_name": "ProgressStyleModel",
            "_view_count": null,
            "_view_module": "@jupyter-widgets/base",
            "_view_module_version": "1.2.0",
            "_view_name": "StyleView",
            "bar_color": null,
            "description_width": ""
          }
        },
        "6deecaed355f44e098fab3215af96da8": {
          "model_module": "@jupyter-widgets/base",
          "model_module_version": "1.2.0",
          "model_name": "LayoutModel",
          "state": {
            "_model_module": "@jupyter-widgets/base",
            "_model_module_version": "1.2.0",
            "_model_name": "LayoutModel",
            "_view_count": null,
            "_view_module": "@jupyter-widgets/base",
            "_view_module_version": "1.2.0",
            "_view_name": "LayoutView",
            "align_content": null,
            "align_items": null,
            "align_self": null,
            "border": null,
            "bottom": null,
            "display": null,
            "flex": null,
            "flex_flow": null,
            "grid_area": null,
            "grid_auto_columns": null,
            "grid_auto_flow": null,
            "grid_auto_rows": null,
            "grid_column": null,
            "grid_gap": null,
            "grid_row": null,
            "grid_template_areas": null,
            "grid_template_columns": null,
            "grid_template_rows": null,
            "height": null,
            "justify_content": null,
            "justify_items": null,
            "left": null,
            "margin": null,
            "max_height": null,
            "max_width": null,
            "min_height": null,
            "min_width": null,
            "object_fit": null,
            "object_position": null,
            "order": null,
            "overflow": null,
            "overflow_x": null,
            "overflow_y": null,
            "padding": null,
            "right": null,
            "top": null,
            "visibility": null,
            "width": null
          }
        },
        "701519a99533478f8114d614f77c7356": {
          "model_module": "@jupyter-widgets/controls",
          "model_module_version": "1.5.0",
          "model_name": "HBoxModel",
          "state": {
            "_dom_classes": [],
            "_model_module": "@jupyter-widgets/controls",
            "_model_module_version": "1.5.0",
            "_model_name": "HBoxModel",
            "_view_count": null,
            "_view_module": "@jupyter-widgets/controls",
            "_view_module_version": "1.5.0",
            "_view_name": "HBoxView",
            "box_style": "",
            "children": [
              "IPY_MODEL_8b982dc11a5046d4aa33f8396678533a",
              "IPY_MODEL_383e0645411a486bb46ae45c98d876fa",
              "IPY_MODEL_3be8a4c9253b4f95b286ca5205436aaa"
            ],
            "layout": "IPY_MODEL_943c6e5e1277453894616aced43f863e"
          }
        },
        "7028b4f506c848da9eddbdcfef0173ab": {
          "model_module": "@jupyter-widgets/controls",
          "model_module_version": "1.5.0",
          "model_name": "HTMLModel",
          "state": {
            "_dom_classes": [],
            "_model_module": "@jupyter-widgets/controls",
            "_model_module_version": "1.5.0",
            "_model_name": "HTMLModel",
            "_view_count": null,
            "_view_module": "@jupyter-widgets/controls",
            "_view_module_version": "1.5.0",
            "_view_name": "HTMLView",
            "description": "",
            "description_tooltip": null,
            "layout": "IPY_MODEL_fb1a24d622c8417ca8a309a59078c925",
            "placeholder": "​",
            "style": "IPY_MODEL_ef171d369d1341c69f8343789f853574",
            "value": " 20/20 [13:13&lt;00:00, 39.71s/it]"
          }
        },
        "71f3b9e56dd74217b3f211e47ae2f38f": {
          "model_module": "@jupyter-widgets/base",
          "model_module_version": "1.2.0",
          "model_name": "LayoutModel",
          "state": {
            "_model_module": "@jupyter-widgets/base",
            "_model_module_version": "1.2.0",
            "_model_name": "LayoutModel",
            "_view_count": null,
            "_view_module": "@jupyter-widgets/base",
            "_view_module_version": "1.2.0",
            "_view_name": "LayoutView",
            "align_content": null,
            "align_items": null,
            "align_self": null,
            "border": null,
            "bottom": null,
            "display": null,
            "flex": null,
            "flex_flow": null,
            "grid_area": null,
            "grid_auto_columns": null,
            "grid_auto_flow": null,
            "grid_auto_rows": null,
            "grid_column": null,
            "grid_gap": null,
            "grid_row": null,
            "grid_template_areas": null,
            "grid_template_columns": null,
            "grid_template_rows": null,
            "height": null,
            "justify_content": null,
            "justify_items": null,
            "left": null,
            "margin": null,
            "max_height": null,
            "max_width": null,
            "min_height": null,
            "min_width": null,
            "object_fit": null,
            "object_position": null,
            "order": null,
            "overflow": null,
            "overflow_x": null,
            "overflow_y": null,
            "padding": null,
            "right": null,
            "top": null,
            "visibility": null,
            "width": null
          }
        },
        "753cb48a90a0483b978541d1adaa86c8": {
          "model_module": "@jupyter-widgets/controls",
          "model_module_version": "1.5.0",
          "model_name": "HTMLModel",
          "state": {
            "_dom_classes": [],
            "_model_module": "@jupyter-widgets/controls",
            "_model_module_version": "1.5.0",
            "_model_name": "HTMLModel",
            "_view_count": null,
            "_view_module": "@jupyter-widgets/controls",
            "_view_module_version": "1.5.0",
            "_view_name": "HTMLView",
            "description": "",
            "description_tooltip": null,
            "layout": "IPY_MODEL_50fc161803794d12ab7de7691b4a0a73",
            "placeholder": "​",
            "style": "IPY_MODEL_4d001546313543bd8616b748985272d3",
            "value": "100%"
          }
        },
        "78e00d32fdad4983a0ed35363aa0c0ac": {
          "model_module": "@jupyter-widgets/base",
          "model_module_version": "1.2.0",
          "model_name": "LayoutModel",
          "state": {
            "_model_module": "@jupyter-widgets/base",
            "_model_module_version": "1.2.0",
            "_model_name": "LayoutModel",
            "_view_count": null,
            "_view_module": "@jupyter-widgets/base",
            "_view_module_version": "1.2.0",
            "_view_name": "LayoutView",
            "align_content": null,
            "align_items": null,
            "align_self": null,
            "border": null,
            "bottom": null,
            "display": null,
            "flex": null,
            "flex_flow": null,
            "grid_area": null,
            "grid_auto_columns": null,
            "grid_auto_flow": null,
            "grid_auto_rows": null,
            "grid_column": null,
            "grid_gap": null,
            "grid_row": null,
            "grid_template_areas": null,
            "grid_template_columns": null,
            "grid_template_rows": null,
            "height": null,
            "justify_content": null,
            "justify_items": null,
            "left": null,
            "margin": null,
            "max_height": null,
            "max_width": null,
            "min_height": null,
            "min_width": null,
            "object_fit": null,
            "object_position": null,
            "order": null,
            "overflow": null,
            "overflow_x": null,
            "overflow_y": null,
            "padding": null,
            "right": null,
            "top": null,
            "visibility": null,
            "width": null
          }
        },
        "7b3f02f068ac42c6aace34da488a36d0": {
          "model_module": "@jupyter-widgets/controls",
          "model_module_version": "1.5.0",
          "model_name": "HTMLModel",
          "state": {
            "_dom_classes": [],
            "_model_module": "@jupyter-widgets/controls",
            "_model_module_version": "1.5.0",
            "_model_name": "HTMLModel",
            "_view_count": null,
            "_view_module": "@jupyter-widgets/controls",
            "_view_module_version": "1.5.0",
            "_view_name": "HTMLView",
            "description": "",
            "description_tooltip": null,
            "layout": "IPY_MODEL_240dbeeda70c4bce88dbdfa99e4289cf",
            "placeholder": "​",
            "style": "IPY_MODEL_cb022de130b649a59e2cbbccbe338481",
            "value": " 5120/? [00:00&lt;00:00, 226676.06it/s]"
          }
        },
        "7c9f39da25e04e4ba3103bb9b434e82c": {
          "model_module": "@jupyter-widgets/base",
          "model_module_version": "1.2.0",
          "model_name": "LayoutModel",
          "state": {
            "_model_module": "@jupyter-widgets/base",
            "_model_module_version": "1.2.0",
            "_model_name": "LayoutModel",
            "_view_count": null,
            "_view_module": "@jupyter-widgets/base",
            "_view_module_version": "1.2.0",
            "_view_name": "LayoutView",
            "align_content": null,
            "align_items": null,
            "align_self": null,
            "border": null,
            "bottom": null,
            "display": null,
            "flex": null,
            "flex_flow": null,
            "grid_area": null,
            "grid_auto_columns": null,
            "grid_auto_flow": null,
            "grid_auto_rows": null,
            "grid_column": null,
            "grid_gap": null,
            "grid_row": null,
            "grid_template_areas": null,
            "grid_template_columns": null,
            "grid_template_rows": null,
            "height": null,
            "justify_content": null,
            "justify_items": null,
            "left": null,
            "margin": null,
            "max_height": null,
            "max_width": null,
            "min_height": null,
            "min_width": null,
            "object_fit": null,
            "object_position": null,
            "order": null,
            "overflow": null,
            "overflow_x": null,
            "overflow_y": null,
            "padding": null,
            "right": null,
            "top": null,
            "visibility": null,
            "width": null
          }
        },
        "7f73c23567bf4d45bbf0499f34553bc5": {
          "model_module": "@jupyter-widgets/controls",
          "model_module_version": "1.5.0",
          "model_name": "DescriptionStyleModel",
          "state": {
            "_model_module": "@jupyter-widgets/controls",
            "_model_module_version": "1.5.0",
            "_model_name": "DescriptionStyleModel",
            "_view_count": null,
            "_view_module": "@jupyter-widgets/base",
            "_view_module_version": "1.2.0",
            "_view_name": "StyleView",
            "description_width": ""
          }
        },
        "86f37825d61548358f54a3170092e187": {
          "model_module": "@jupyter-widgets/controls",
          "model_module_version": "1.5.0",
          "model_name": "HTMLModel",
          "state": {
            "_dom_classes": [],
            "_model_module": "@jupyter-widgets/controls",
            "_model_module_version": "1.5.0",
            "_model_name": "HTMLModel",
            "_view_count": null,
            "_view_module": "@jupyter-widgets/controls",
            "_view_module_version": "1.5.0",
            "_view_name": "HTMLView",
            "description": "",
            "description_tooltip": null,
            "layout": "IPY_MODEL_ecb5b0a62a834075ac399281d96f946e",
            "placeholder": "​",
            "style": "IPY_MODEL_61ba8f171fb44ae4afa497fec410179b",
            "value": " 100/100 [03:39&lt;00:00,  2.19s/it]"
          }
        },
        "87bd878be495495baeb34bdc61a33ef2": {
          "model_module": "@jupyter-widgets/controls",
          "model_module_version": "1.5.0",
          "model_name": "DescriptionStyleModel",
          "state": {
            "_model_module": "@jupyter-widgets/controls",
            "_model_module_version": "1.5.0",
            "_model_name": "DescriptionStyleModel",
            "_view_count": null,
            "_view_module": "@jupyter-widgets/base",
            "_view_module_version": "1.2.0",
            "_view_name": "StyleView",
            "description_width": ""
          }
        },
        "8849f1f1ca9a4e278153397b44f61745": {
          "model_module": "@jupyter-widgets/controls",
          "model_module_version": "1.5.0",
          "model_name": "HBoxModel",
          "state": {
            "_dom_classes": [],
            "_model_module": "@jupyter-widgets/controls",
            "_model_module_version": "1.5.0",
            "_model_name": "HBoxModel",
            "_view_count": null,
            "_view_module": "@jupyter-widgets/controls",
            "_view_module_version": "1.5.0",
            "_view_name": "HBoxView",
            "box_style": "",
            "children": [
              "IPY_MODEL_0134921b470d42679a10a09720ad1b26",
              "IPY_MODEL_a6b0678cc2c546cb95817f56f20cbe00",
              "IPY_MODEL_45c8efe0ae3c4552bdd6d7304d3e5139"
            ],
            "layout": "IPY_MODEL_5779cb7d690b4adc8f0db47edf6fdb38"
          }
        },
        "8b982dc11a5046d4aa33f8396678533a": {
          "model_module": "@jupyter-widgets/controls",
          "model_module_version": "1.5.0",
          "model_name": "HTMLModel",
          "state": {
            "_dom_classes": [],
            "_model_module": "@jupyter-widgets/controls",
            "_model_module_version": "1.5.0",
            "_model_name": "HTMLModel",
            "_view_count": null,
            "_view_module": "@jupyter-widgets/controls",
            "_view_module_version": "1.5.0",
            "_view_name": "HTMLView",
            "description": "",
            "description_tooltip": null,
            "layout": "IPY_MODEL_b18d38442d644f3ea4a4b4dce8929c5e",
            "placeholder": "​",
            "style": "IPY_MODEL_cebe244832844b41bcd6445d06c89684",
            "value": ""
          }
        },
        "8df6a5d67a8346249e56c8e3d700a937": {
          "model_module": "@jupyter-widgets/base",
          "model_module_version": "1.2.0",
          "model_name": "LayoutModel",
          "state": {
            "_model_module": "@jupyter-widgets/base",
            "_model_module_version": "1.2.0",
            "_model_name": "LayoutModel",
            "_view_count": null,
            "_view_module": "@jupyter-widgets/base",
            "_view_module_version": "1.2.0",
            "_view_name": "LayoutView",
            "align_content": null,
            "align_items": null,
            "align_self": null,
            "border": null,
            "bottom": null,
            "display": null,
            "flex": null,
            "flex_flow": null,
            "grid_area": null,
            "grid_auto_columns": null,
            "grid_auto_flow": null,
            "grid_auto_rows": null,
            "grid_column": null,
            "grid_gap": null,
            "grid_row": null,
            "grid_template_areas": null,
            "grid_template_columns": null,
            "grid_template_rows": null,
            "height": null,
            "justify_content": null,
            "justify_items": null,
            "left": null,
            "margin": null,
            "max_height": null,
            "max_width": null,
            "min_height": null,
            "min_width": null,
            "object_fit": null,
            "object_position": null,
            "order": null,
            "overflow": null,
            "overflow_x": null,
            "overflow_y": null,
            "padding": null,
            "right": null,
            "top": null,
            "visibility": null,
            "width": null
          }
        },
        "8f6418d664ee471f9f64877b1c0ac1ec": {
          "model_module": "@jupyter-widgets/controls",
          "model_module_version": "1.5.0",
          "model_name": "DescriptionStyleModel",
          "state": {
            "_model_module": "@jupyter-widgets/controls",
            "_model_module_version": "1.5.0",
            "_model_name": "DescriptionStyleModel",
            "_view_count": null,
            "_view_module": "@jupyter-widgets/base",
            "_view_module_version": "1.2.0",
            "_view_name": "StyleView",
            "description_width": ""
          }
        },
        "92a82edabb004b23905a1b31370dd3b9": {
          "model_module": "@jupyter-widgets/base",
          "model_module_version": "1.2.0",
          "model_name": "LayoutModel",
          "state": {
            "_model_module": "@jupyter-widgets/base",
            "_model_module_version": "1.2.0",
            "_model_name": "LayoutModel",
            "_view_count": null,
            "_view_module": "@jupyter-widgets/base",
            "_view_module_version": "1.2.0",
            "_view_name": "LayoutView",
            "align_content": null,
            "align_items": null,
            "align_self": null,
            "border": null,
            "bottom": null,
            "display": null,
            "flex": null,
            "flex_flow": null,
            "grid_area": null,
            "grid_auto_columns": null,
            "grid_auto_flow": null,
            "grid_auto_rows": null,
            "grid_column": null,
            "grid_gap": null,
            "grid_row": null,
            "grid_template_areas": null,
            "grid_template_columns": null,
            "grid_template_rows": null,
            "height": null,
            "justify_content": null,
            "justify_items": null,
            "left": null,
            "margin": null,
            "max_height": null,
            "max_width": null,
            "min_height": null,
            "min_width": null,
            "object_fit": null,
            "object_position": null,
            "order": null,
            "overflow": null,
            "overflow_x": null,
            "overflow_y": null,
            "padding": null,
            "right": null,
            "top": null,
            "visibility": null,
            "width": null
          }
        },
        "943c6e5e1277453894616aced43f863e": {
          "model_module": "@jupyter-widgets/base",
          "model_module_version": "1.2.0",
          "model_name": "LayoutModel",
          "state": {
            "_model_module": "@jupyter-widgets/base",
            "_model_module_version": "1.2.0",
            "_model_name": "LayoutModel",
            "_view_count": null,
            "_view_module": "@jupyter-widgets/base",
            "_view_module_version": "1.2.0",
            "_view_name": "LayoutView",
            "align_content": null,
            "align_items": null,
            "align_self": null,
            "border": null,
            "bottom": null,
            "display": null,
            "flex": null,
            "flex_flow": null,
            "grid_area": null,
            "grid_auto_columns": null,
            "grid_auto_flow": null,
            "grid_auto_rows": null,
            "grid_column": null,
            "grid_gap": null,
            "grid_row": null,
            "grid_template_areas": null,
            "grid_template_columns": null,
            "grid_template_rows": null,
            "height": null,
            "justify_content": null,
            "justify_items": null,
            "left": null,
            "margin": null,
            "max_height": null,
            "max_width": null,
            "min_height": null,
            "min_width": null,
            "object_fit": null,
            "object_position": null,
            "order": null,
            "overflow": null,
            "overflow_x": null,
            "overflow_y": null,
            "padding": null,
            "right": null,
            "top": null,
            "visibility": null,
            "width": null
          }
        },
        "9656a580c2944e218f682b27e3aea9dd": {
          "model_module": "@jupyter-widgets/base",
          "model_module_version": "1.2.0",
          "model_name": "LayoutModel",
          "state": {
            "_model_module": "@jupyter-widgets/base",
            "_model_module_version": "1.2.0",
            "_model_name": "LayoutModel",
            "_view_count": null,
            "_view_module": "@jupyter-widgets/base",
            "_view_module_version": "1.2.0",
            "_view_name": "LayoutView",
            "align_content": null,
            "align_items": null,
            "align_self": null,
            "border": null,
            "bottom": null,
            "display": null,
            "flex": null,
            "flex_flow": null,
            "grid_area": null,
            "grid_auto_columns": null,
            "grid_auto_flow": null,
            "grid_auto_rows": null,
            "grid_column": null,
            "grid_gap": null,
            "grid_row": null,
            "grid_template_areas": null,
            "grid_template_columns": null,
            "grid_template_rows": null,
            "height": null,
            "justify_content": null,
            "justify_items": null,
            "left": null,
            "margin": null,
            "max_height": null,
            "max_width": null,
            "min_height": null,
            "min_width": null,
            "object_fit": null,
            "object_position": null,
            "order": null,
            "overflow": null,
            "overflow_x": null,
            "overflow_y": null,
            "padding": null,
            "right": null,
            "top": null,
            "visibility": null,
            "width": null
          }
        },
        "96fcc38bd8f444d4861ba868a989bf11": {
          "model_module": "@jupyter-widgets/base",
          "model_module_version": "1.2.0",
          "model_name": "LayoutModel",
          "state": {
            "_model_module": "@jupyter-widgets/base",
            "_model_module_version": "1.2.0",
            "_model_name": "LayoutModel",
            "_view_count": null,
            "_view_module": "@jupyter-widgets/base",
            "_view_module_version": "1.2.0",
            "_view_name": "LayoutView",
            "align_content": null,
            "align_items": null,
            "align_self": null,
            "border": null,
            "bottom": null,
            "display": null,
            "flex": null,
            "flex_flow": null,
            "grid_area": null,
            "grid_auto_columns": null,
            "grid_auto_flow": null,
            "grid_auto_rows": null,
            "grid_column": null,
            "grid_gap": null,
            "grid_row": null,
            "grid_template_areas": null,
            "grid_template_columns": null,
            "grid_template_rows": null,
            "height": null,
            "justify_content": null,
            "justify_items": null,
            "left": null,
            "margin": null,
            "max_height": null,
            "max_width": null,
            "min_height": null,
            "min_width": null,
            "object_fit": null,
            "object_position": null,
            "order": null,
            "overflow": null,
            "overflow_x": null,
            "overflow_y": null,
            "padding": null,
            "right": null,
            "top": null,
            "visibility": null,
            "width": null
          }
        },
        "9ac71c72454b482c8926ad6431c20937": {
          "model_module": "@jupyter-widgets/controls",
          "model_module_version": "1.5.0",
          "model_name": "ProgressStyleModel",
          "state": {
            "_model_module": "@jupyter-widgets/controls",
            "_model_module_version": "1.5.0",
            "_model_name": "ProgressStyleModel",
            "_view_count": null,
            "_view_module": "@jupyter-widgets/base",
            "_view_module_version": "1.2.0",
            "_view_name": "StyleView",
            "bar_color": null,
            "description_width": ""
          }
        },
        "9e713a23678d4819865212d6f0d30164": {
          "model_module": "@jupyter-widgets/base",
          "model_module_version": "1.2.0",
          "model_name": "LayoutModel",
          "state": {
            "_model_module": "@jupyter-widgets/base",
            "_model_module_version": "1.2.0",
            "_model_name": "LayoutModel",
            "_view_count": null,
            "_view_module": "@jupyter-widgets/base",
            "_view_module_version": "1.2.0",
            "_view_name": "LayoutView",
            "align_content": null,
            "align_items": null,
            "align_self": null,
            "border": null,
            "bottom": null,
            "display": null,
            "flex": null,
            "flex_flow": null,
            "grid_area": null,
            "grid_auto_columns": null,
            "grid_auto_flow": null,
            "grid_auto_rows": null,
            "grid_column": null,
            "grid_gap": null,
            "grid_row": null,
            "grid_template_areas": null,
            "grid_template_columns": null,
            "grid_template_rows": null,
            "height": null,
            "justify_content": null,
            "justify_items": null,
            "left": null,
            "margin": null,
            "max_height": null,
            "max_width": null,
            "min_height": null,
            "min_width": null,
            "object_fit": null,
            "object_position": null,
            "order": null,
            "overflow": null,
            "overflow_x": null,
            "overflow_y": null,
            "padding": null,
            "right": null,
            "top": null,
            "visibility": null,
            "width": null
          }
        },
        "a6b0678cc2c546cb95817f56f20cbe00": {
          "model_module": "@jupyter-widgets/controls",
          "model_module_version": "1.5.0",
          "model_name": "FloatProgressModel",
          "state": {
            "_dom_classes": [],
            "_model_module": "@jupyter-widgets/controls",
            "_model_module_version": "1.5.0",
            "_model_name": "FloatProgressModel",
            "_view_count": null,
            "_view_module": "@jupyter-widgets/controls",
            "_view_module_version": "1.5.0",
            "_view_name": "ProgressView",
            "bar_style": "success",
            "description": "",
            "description_tooltip": null,
            "layout": "IPY_MODEL_f2a0674953a84ba88a01cbda7fe9ff96",
            "max": 167,
            "min": 0,
            "orientation": "horizontal",
            "style": "IPY_MODEL_df1741d456534f1ba0c1b895d88f5945",
            "value": 167
          }
        },
        "ad68dbcb18214b7d80ef6b80900df205": {
          "model_module": "@jupyter-widgets/base",
          "model_module_version": "1.2.0",
          "model_name": "LayoutModel",
          "state": {
            "_model_module": "@jupyter-widgets/base",
            "_model_module_version": "1.2.0",
            "_model_name": "LayoutModel",
            "_view_count": null,
            "_view_module": "@jupyter-widgets/base",
            "_view_module_version": "1.2.0",
            "_view_name": "LayoutView",
            "align_content": null,
            "align_items": null,
            "align_self": null,
            "border": null,
            "bottom": null,
            "display": null,
            "flex": null,
            "flex_flow": null,
            "grid_area": null,
            "grid_auto_columns": null,
            "grid_auto_flow": null,
            "grid_auto_rows": null,
            "grid_column": null,
            "grid_gap": null,
            "grid_row": null,
            "grid_template_areas": null,
            "grid_template_columns": null,
            "grid_template_rows": null,
            "height": null,
            "justify_content": null,
            "justify_items": null,
            "left": null,
            "margin": null,
            "max_height": null,
            "max_width": null,
            "min_height": null,
            "min_width": null,
            "object_fit": null,
            "object_position": null,
            "order": null,
            "overflow": null,
            "overflow_x": null,
            "overflow_y": null,
            "padding": null,
            "right": null,
            "top": null,
            "visibility": null,
            "width": null
          }
        },
        "b18d38442d644f3ea4a4b4dce8929c5e": {
          "model_module": "@jupyter-widgets/base",
          "model_module_version": "1.2.0",
          "model_name": "LayoutModel",
          "state": {
            "_model_module": "@jupyter-widgets/base",
            "_model_module_version": "1.2.0",
            "_model_name": "LayoutModel",
            "_view_count": null,
            "_view_module": "@jupyter-widgets/base",
            "_view_module_version": "1.2.0",
            "_view_name": "LayoutView",
            "align_content": null,
            "align_items": null,
            "align_self": null,
            "border": null,
            "bottom": null,
            "display": null,
            "flex": null,
            "flex_flow": null,
            "grid_area": null,
            "grid_auto_columns": null,
            "grid_auto_flow": null,
            "grid_auto_rows": null,
            "grid_column": null,
            "grid_gap": null,
            "grid_row": null,
            "grid_template_areas": null,
            "grid_template_columns": null,
            "grid_template_rows": null,
            "height": null,
            "justify_content": null,
            "justify_items": null,
            "left": null,
            "margin": null,
            "max_height": null,
            "max_width": null,
            "min_height": null,
            "min_width": null,
            "object_fit": null,
            "object_position": null,
            "order": null,
            "overflow": null,
            "overflow_x": null,
            "overflow_y": null,
            "padding": null,
            "right": null,
            "top": null,
            "visibility": null,
            "width": null
          }
        },
        "b777812e2c67477bb01f91dada404672": {
          "model_module": "@jupyter-widgets/controls",
          "model_module_version": "1.5.0",
          "model_name": "FloatProgressModel",
          "state": {
            "_dom_classes": [],
            "_model_module": "@jupyter-widgets/controls",
            "_model_module_version": "1.5.0",
            "_model_name": "FloatProgressModel",
            "_view_count": null,
            "_view_module": "@jupyter-widgets/controls",
            "_view_module_version": "1.5.0",
            "_view_name": "ProgressView",
            "bar_style": "success",
            "description": "",
            "description_tooltip": null,
            "layout": "IPY_MODEL_baca7f9b6dcc4626996db74bceabd811",
            "max": 100,
            "min": 0,
            "orientation": "horizontal",
            "style": "IPY_MODEL_341ae4e15d194ada86b80e32bb55ea57",
            "value": 100
          }
        },
        "b801a0357e264b9691c75846b4b87b56": {
          "model_module": "@jupyter-widgets/controls",
          "model_module_version": "1.5.0",
          "model_name": "DescriptionStyleModel",
          "state": {
            "_model_module": "@jupyter-widgets/controls",
            "_model_module_version": "1.5.0",
            "_model_name": "DescriptionStyleModel",
            "_view_count": null,
            "_view_module": "@jupyter-widgets/base",
            "_view_module_version": "1.2.0",
            "_view_name": "StyleView",
            "description_width": ""
          }
        },
        "ba17bc2737924b6ab1c02255f061a005": {
          "model_module": "@jupyter-widgets/base",
          "model_module_version": "1.2.0",
          "model_name": "LayoutModel",
          "state": {
            "_model_module": "@jupyter-widgets/base",
            "_model_module_version": "1.2.0",
            "_model_name": "LayoutModel",
            "_view_count": null,
            "_view_module": "@jupyter-widgets/base",
            "_view_module_version": "1.2.0",
            "_view_name": "LayoutView",
            "align_content": null,
            "align_items": null,
            "align_self": null,
            "border": null,
            "bottom": null,
            "display": null,
            "flex": null,
            "flex_flow": null,
            "grid_area": null,
            "grid_auto_columns": null,
            "grid_auto_flow": null,
            "grid_auto_rows": null,
            "grid_column": null,
            "grid_gap": null,
            "grid_row": null,
            "grid_template_areas": null,
            "grid_template_columns": null,
            "grid_template_rows": null,
            "height": null,
            "justify_content": null,
            "justify_items": null,
            "left": null,
            "margin": null,
            "max_height": null,
            "max_width": null,
            "min_height": null,
            "min_width": null,
            "object_fit": null,
            "object_position": null,
            "order": null,
            "overflow": null,
            "overflow_x": null,
            "overflow_y": null,
            "padding": null,
            "right": null,
            "top": null,
            "visibility": null,
            "width": null
          }
        },
        "baca7f9b6dcc4626996db74bceabd811": {
          "model_module": "@jupyter-widgets/base",
          "model_module_version": "1.2.0",
          "model_name": "LayoutModel",
          "state": {
            "_model_module": "@jupyter-widgets/base",
            "_model_module_version": "1.2.0",
            "_model_name": "LayoutModel",
            "_view_count": null,
            "_view_module": "@jupyter-widgets/base",
            "_view_module_version": "1.2.0",
            "_view_name": "LayoutView",
            "align_content": null,
            "align_items": null,
            "align_self": null,
            "border": null,
            "bottom": null,
            "display": null,
            "flex": null,
            "flex_flow": null,
            "grid_area": null,
            "grid_auto_columns": null,
            "grid_auto_flow": null,
            "grid_auto_rows": null,
            "grid_column": null,
            "grid_gap": null,
            "grid_row": null,
            "grid_template_areas": null,
            "grid_template_columns": null,
            "grid_template_rows": null,
            "height": null,
            "justify_content": null,
            "justify_items": null,
            "left": null,
            "margin": null,
            "max_height": null,
            "max_width": null,
            "min_height": null,
            "min_width": null,
            "object_fit": null,
            "object_position": null,
            "order": null,
            "overflow": null,
            "overflow_x": null,
            "overflow_y": null,
            "padding": null,
            "right": null,
            "top": null,
            "visibility": null,
            "width": null
          }
        },
        "bdc0823bf28d4bab9e931c67b5183924": {
          "model_module": "@jupyter-widgets/base",
          "model_module_version": "1.2.0",
          "model_name": "LayoutModel",
          "state": {
            "_model_module": "@jupyter-widgets/base",
            "_model_module_version": "1.2.0",
            "_model_name": "LayoutModel",
            "_view_count": null,
            "_view_module": "@jupyter-widgets/base",
            "_view_module_version": "1.2.0",
            "_view_name": "LayoutView",
            "align_content": null,
            "align_items": null,
            "align_self": null,
            "border": null,
            "bottom": null,
            "display": null,
            "flex": null,
            "flex_flow": null,
            "grid_area": null,
            "grid_auto_columns": null,
            "grid_auto_flow": null,
            "grid_auto_rows": null,
            "grid_column": null,
            "grid_gap": null,
            "grid_row": null,
            "grid_template_areas": null,
            "grid_template_columns": null,
            "grid_template_rows": null,
            "height": null,
            "justify_content": null,
            "justify_items": null,
            "left": null,
            "margin": null,
            "max_height": null,
            "max_width": null,
            "min_height": null,
            "min_width": null,
            "object_fit": null,
            "object_position": null,
            "order": null,
            "overflow": null,
            "overflow_x": null,
            "overflow_y": null,
            "padding": null,
            "right": null,
            "top": null,
            "visibility": null,
            "width": null
          }
        },
        "c0e85c01dc4e43039ab02d8f4c8e683e": {
          "model_module": "@jupyter-widgets/controls",
          "model_module_version": "1.5.0",
          "model_name": "FloatProgressModel",
          "state": {
            "_dom_classes": [],
            "_model_module": "@jupyter-widgets/controls",
            "_model_module_version": "1.5.0",
            "_model_name": "FloatProgressModel",
            "_view_count": null,
            "_view_module": "@jupyter-widgets/controls",
            "_view_module_version": "1.5.0",
            "_view_name": "ProgressView",
            "bar_style": "success",
            "description": "",
            "description_tooltip": null,
            "layout": "IPY_MODEL_230db93ae8a14096a7309b4297a35381",
            "max": 28881,
            "min": 0,
            "orientation": "horizontal",
            "style": "IPY_MODEL_6cb0de394e7f428da92939439f1c6a8a",
            "value": 28881
          }
        },
        "c4b4655b8a6040338bfa994630c55295": {
          "model_module": "@jupyter-widgets/controls",
          "model_module_version": "1.5.0",
          "model_name": "ProgressStyleModel",
          "state": {
            "_model_module": "@jupyter-widgets/controls",
            "_model_module_version": "1.5.0",
            "_model_name": "ProgressStyleModel",
            "_view_count": null,
            "_view_module": "@jupyter-widgets/base",
            "_view_module_version": "1.2.0",
            "_view_name": "StyleView",
            "bar_color": null,
            "description_width": ""
          }
        },
        "c8317af686ba4e6cb1083b8d68cf6c95": {
          "model_module": "@jupyter-widgets/controls",
          "model_module_version": "1.5.0",
          "model_name": "HBoxModel",
          "state": {
            "_dom_classes": [],
            "_model_module": "@jupyter-widgets/controls",
            "_model_module_version": "1.5.0",
            "_model_name": "HBoxModel",
            "_view_count": null,
            "_view_module": "@jupyter-widgets/controls",
            "_view_module_version": "1.5.0",
            "_view_name": "HBoxView",
            "box_style": "",
            "children": [
              "IPY_MODEL_0c7e91424e4841968524e2e67e056b17",
              "IPY_MODEL_ead40d6a325945cca902b899ad1ad04d",
              "IPY_MODEL_7b3f02f068ac42c6aace34da488a36d0"
            ],
            "layout": "IPY_MODEL_bdc0823bf28d4bab9e931c67b5183924"
          }
        },
        "cb022de130b649a59e2cbbccbe338481": {
          "model_module": "@jupyter-widgets/controls",
          "model_module_version": "1.5.0",
          "model_name": "DescriptionStyleModel",
          "state": {
            "_model_module": "@jupyter-widgets/controls",
            "_model_module_version": "1.5.0",
            "_model_name": "DescriptionStyleModel",
            "_view_count": null,
            "_view_module": "@jupyter-widgets/base",
            "_view_module_version": "1.2.0",
            "_view_name": "StyleView",
            "description_width": ""
          }
        },
        "cebe244832844b41bcd6445d06c89684": {
          "model_module": "@jupyter-widgets/controls",
          "model_module_version": "1.5.0",
          "model_name": "DescriptionStyleModel",
          "state": {
            "_model_module": "@jupyter-widgets/controls",
            "_model_module_version": "1.5.0",
            "_model_name": "DescriptionStyleModel",
            "_view_count": null,
            "_view_module": "@jupyter-widgets/base",
            "_view_module_version": "1.2.0",
            "_view_name": "StyleView",
            "description_width": ""
          }
        },
        "d1de7f182e114dc6b8ccd9bff5a10a0a": {
          "model_module": "@jupyter-widgets/base",
          "model_module_version": "1.2.0",
          "model_name": "LayoutModel",
          "state": {
            "_model_module": "@jupyter-widgets/base",
            "_model_module_version": "1.2.0",
            "_model_name": "LayoutModel",
            "_view_count": null,
            "_view_module": "@jupyter-widgets/base",
            "_view_module_version": "1.2.0",
            "_view_name": "LayoutView",
            "align_content": null,
            "align_items": null,
            "align_self": null,
            "border": null,
            "bottom": null,
            "display": null,
            "flex": null,
            "flex_flow": null,
            "grid_area": null,
            "grid_auto_columns": null,
            "grid_auto_flow": null,
            "grid_auto_rows": null,
            "grid_column": null,
            "grid_gap": null,
            "grid_row": null,
            "grid_template_areas": null,
            "grid_template_columns": null,
            "grid_template_rows": null,
            "height": null,
            "justify_content": null,
            "justify_items": null,
            "left": null,
            "margin": null,
            "max_height": null,
            "max_width": null,
            "min_height": null,
            "min_width": null,
            "object_fit": null,
            "object_position": null,
            "order": null,
            "overflow": null,
            "overflow_x": null,
            "overflow_y": null,
            "padding": null,
            "right": null,
            "top": null,
            "visibility": null,
            "width": null
          }
        },
        "df1741d456534f1ba0c1b895d88f5945": {
          "model_module": "@jupyter-widgets/controls",
          "model_module_version": "1.5.0",
          "model_name": "ProgressStyleModel",
          "state": {
            "_model_module": "@jupyter-widgets/controls",
            "_model_module_version": "1.5.0",
            "_model_name": "ProgressStyleModel",
            "_view_count": null,
            "_view_module": "@jupyter-widgets/base",
            "_view_module_version": "1.2.0",
            "_view_name": "StyleView",
            "bar_color": null,
            "description_width": ""
          }
        },
        "e7244e9817284081accbc9a36eaa0f62": {
          "model_module": "@jupyter-widgets/controls",
          "model_module_version": "1.5.0",
          "model_name": "HTMLModel",
          "state": {
            "_dom_classes": [],
            "_model_module": "@jupyter-widgets/controls",
            "_model_module_version": "1.5.0",
            "_model_name": "HTMLModel",
            "_view_count": null,
            "_view_module": "@jupyter-widgets/controls",
            "_view_module_version": "1.5.0",
            "_view_name": "HTMLView",
            "description": "",
            "description_tooltip": null,
            "layout": "IPY_MODEL_42d43122f62445eabe79ddbffa56893e",
            "placeholder": "​",
            "style": "IPY_MODEL_f0bb536693bf45d0873b1839700ea31a",
            "value": ""
          }
        },
        "ead40d6a325945cca902b899ad1ad04d": {
          "model_module": "@jupyter-widgets/controls",
          "model_module_version": "1.5.0",
          "model_name": "FloatProgressModel",
          "state": {
            "_dom_classes": [],
            "_model_module": "@jupyter-widgets/controls",
            "_model_module_version": "1.5.0",
            "_model_name": "FloatProgressModel",
            "_view_count": null,
            "_view_module": "@jupyter-widgets/controls",
            "_view_module_version": "1.5.0",
            "_view_name": "ProgressView",
            "bar_style": "success",
            "description": "",
            "description_tooltip": null,
            "layout": "IPY_MODEL_96fcc38bd8f444d4861ba868a989bf11",
            "max": 4542,
            "min": 0,
            "orientation": "horizontal",
            "style": "IPY_MODEL_463f0ec49a1b42088dc9b1492a325ff3",
            "value": 4542
          }
        },
        "ec8be195185341f6bad2d5ed0d0410df": {
          "model_module": "@jupyter-widgets/controls",
          "model_module_version": "1.5.0",
          "model_name": "DescriptionStyleModel",
          "state": {
            "_model_module": "@jupyter-widgets/controls",
            "_model_module_version": "1.5.0",
            "_model_name": "DescriptionStyleModel",
            "_view_count": null,
            "_view_module": "@jupyter-widgets/base",
            "_view_module_version": "1.2.0",
            "_view_name": "StyleView",
            "description_width": ""
          }
        },
        "ecb5b0a62a834075ac399281d96f946e": {
          "model_module": "@jupyter-widgets/base",
          "model_module_version": "1.2.0",
          "model_name": "LayoutModel",
          "state": {
            "_model_module": "@jupyter-widgets/base",
            "_model_module_version": "1.2.0",
            "_model_name": "LayoutModel",
            "_view_count": null,
            "_view_module": "@jupyter-widgets/base",
            "_view_module_version": "1.2.0",
            "_view_name": "LayoutView",
            "align_content": null,
            "align_items": null,
            "align_self": null,
            "border": null,
            "bottom": null,
            "display": null,
            "flex": null,
            "flex_flow": null,
            "grid_area": null,
            "grid_auto_columns": null,
            "grid_auto_flow": null,
            "grid_auto_rows": null,
            "grid_column": null,
            "grid_gap": null,
            "grid_row": null,
            "grid_template_areas": null,
            "grid_template_columns": null,
            "grid_template_rows": null,
            "height": null,
            "justify_content": null,
            "justify_items": null,
            "left": null,
            "margin": null,
            "max_height": null,
            "max_width": null,
            "min_height": null,
            "min_width": null,
            "object_fit": null,
            "object_position": null,
            "order": null,
            "overflow": null,
            "overflow_x": null,
            "overflow_y": null,
            "padding": null,
            "right": null,
            "top": null,
            "visibility": null,
            "width": null
          }
        },
        "ee807c42cfc749778341c8f64a83f248": {
          "model_module": "@jupyter-widgets/controls",
          "model_module_version": "1.5.0",
          "model_name": "DescriptionStyleModel",
          "state": {
            "_model_module": "@jupyter-widgets/controls",
            "_model_module_version": "1.5.0",
            "_model_name": "DescriptionStyleModel",
            "_view_count": null,
            "_view_module": "@jupyter-widgets/base",
            "_view_module_version": "1.2.0",
            "_view_name": "StyleView",
            "description_width": ""
          }
        },
        "ef171d369d1341c69f8343789f853574": {
          "model_module": "@jupyter-widgets/controls",
          "model_module_version": "1.5.0",
          "model_name": "DescriptionStyleModel",
          "state": {
            "_model_module": "@jupyter-widgets/controls",
            "_model_module_version": "1.5.0",
            "_model_name": "DescriptionStyleModel",
            "_view_count": null,
            "_view_module": "@jupyter-widgets/base",
            "_view_module_version": "1.2.0",
            "_view_name": "StyleView",
            "description_width": ""
          }
        },
        "f0bb536693bf45d0873b1839700ea31a": {
          "model_module": "@jupyter-widgets/controls",
          "model_module_version": "1.5.0",
          "model_name": "DescriptionStyleModel",
          "state": {
            "_model_module": "@jupyter-widgets/controls",
            "_model_module_version": "1.5.0",
            "_model_name": "DescriptionStyleModel",
            "_view_count": null,
            "_view_module": "@jupyter-widgets/base",
            "_view_module_version": "1.2.0",
            "_view_name": "StyleView",
            "description_width": ""
          }
        },
        "f2a0674953a84ba88a01cbda7fe9ff96": {
          "model_module": "@jupyter-widgets/base",
          "model_module_version": "1.2.0",
          "model_name": "LayoutModel",
          "state": {
            "_model_module": "@jupyter-widgets/base",
            "_model_module_version": "1.2.0",
            "_model_name": "LayoutModel",
            "_view_count": null,
            "_view_module": "@jupyter-widgets/base",
            "_view_module_version": "1.2.0",
            "_view_name": "LayoutView",
            "align_content": null,
            "align_items": null,
            "align_self": null,
            "border": null,
            "bottom": null,
            "display": null,
            "flex": null,
            "flex_flow": null,
            "grid_area": null,
            "grid_auto_columns": null,
            "grid_auto_flow": null,
            "grid_auto_rows": null,
            "grid_column": null,
            "grid_gap": null,
            "grid_row": null,
            "grid_template_areas": null,
            "grid_template_columns": null,
            "grid_template_rows": null,
            "height": null,
            "justify_content": null,
            "justify_items": null,
            "left": null,
            "margin": null,
            "max_height": null,
            "max_width": null,
            "min_height": null,
            "min_width": null,
            "object_fit": null,
            "object_position": null,
            "order": null,
            "overflow": null,
            "overflow_x": null,
            "overflow_y": null,
            "padding": null,
            "right": null,
            "top": null,
            "visibility": null,
            "width": null
          }
        },
        "f761162893124d4abbdfcdb30e76ef78": {
          "model_module": "@jupyter-widgets/controls",
          "model_module_version": "1.5.0",
          "model_name": "HBoxModel",
          "state": {
            "_dom_classes": [],
            "_model_module": "@jupyter-widgets/controls",
            "_model_module_version": "1.5.0",
            "_model_name": "HBoxModel",
            "_view_count": null,
            "_view_module": "@jupyter-widgets/controls",
            "_view_module_version": "1.5.0",
            "_view_name": "HBoxView",
            "box_style": "",
            "children": [
              "IPY_MODEL_e7244e9817284081accbc9a36eaa0f62",
              "IPY_MODEL_3675d32587624b6b8a7a9f54f24dcd9a",
              "IPY_MODEL_f7ebd003f24549b6874190ece0856818"
            ],
            "layout": "IPY_MODEL_ad68dbcb18214b7d80ef6b80900df205"
          }
        },
        "f7ebd003f24549b6874190ece0856818": {
          "model_module": "@jupyter-widgets/controls",
          "model_module_version": "1.5.0",
          "model_name": "HTMLModel",
          "state": {
            "_dom_classes": [],
            "_model_module": "@jupyter-widgets/controls",
            "_model_module_version": "1.5.0",
            "_model_name": "HTMLModel",
            "_view_count": null,
            "_view_module": "@jupyter-widgets/controls",
            "_view_module_version": "1.5.0",
            "_view_name": "HTMLView",
            "description": "",
            "description_tooltip": null,
            "layout": "IPY_MODEL_6deecaed355f44e098fab3215af96da8",
            "placeholder": "​",
            "style": "IPY_MODEL_04c814ec09354fe4ab3aae92da4b0b92",
            "value": " 9913344/? [00:00&lt;00:00, 24151950.07it/s]"
          }
        },
        "faf0cf9277f94e55b23a158b97f684e5": {
          "model_module": "@jupyter-widgets/controls",
          "model_module_version": "1.5.0",
          "model_name": "ProgressStyleModel",
          "state": {
            "_model_module": "@jupyter-widgets/controls",
            "_model_module_version": "1.5.0",
            "_model_name": "ProgressStyleModel",
            "_view_count": null,
            "_view_module": "@jupyter-widgets/base",
            "_view_module_version": "1.2.0",
            "_view_name": "StyleView",
            "bar_color": null,
            "description_width": ""
          }
        },
        "fb1a24d622c8417ca8a309a59078c925": {
          "model_module": "@jupyter-widgets/base",
          "model_module_version": "1.2.0",
          "model_name": "LayoutModel",
          "state": {
            "_model_module": "@jupyter-widgets/base",
            "_model_module_version": "1.2.0",
            "_model_name": "LayoutModel",
            "_view_count": null,
            "_view_module": "@jupyter-widgets/base",
            "_view_module_version": "1.2.0",
            "_view_name": "LayoutView",
            "align_content": null,
            "align_items": null,
            "align_self": null,
            "border": null,
            "bottom": null,
            "display": null,
            "flex": null,
            "flex_flow": null,
            "grid_area": null,
            "grid_auto_columns": null,
            "grid_auto_flow": null,
            "grid_auto_rows": null,
            "grid_column": null,
            "grid_gap": null,
            "grid_row": null,
            "grid_template_areas": null,
            "grid_template_columns": null,
            "grid_template_rows": null,
            "height": null,
            "justify_content": null,
            "justify_items": null,
            "left": null,
            "margin": null,
            "max_height": null,
            "max_width": null,
            "min_height": null,
            "min_width": null,
            "object_fit": null,
            "object_position": null,
            "order": null,
            "overflow": null,
            "overflow_x": null,
            "overflow_y": null,
            "padding": null,
            "right": null,
            "top": null,
            "visibility": null,
            "width": null
          }
        },
        "fb51ff6a0d5148beb7c8a67f0efdabe8": {
          "model_module": "@jupyter-widgets/controls",
          "model_module_version": "1.5.0",
          "model_name": "HTMLModel",
          "state": {
            "_dom_classes": [],
            "_model_module": "@jupyter-widgets/controls",
            "_model_module_version": "1.5.0",
            "_model_name": "HTMLModel",
            "_view_count": null,
            "_view_module": "@jupyter-widgets/controls",
            "_view_module_version": "1.5.0",
            "_view_name": "HTMLView",
            "description": "",
            "description_tooltip": null,
            "layout": "IPY_MODEL_78e00d32fdad4983a0ed35363aa0c0ac",
            "placeholder": "​",
            "style": "IPY_MODEL_87bd878be495495baeb34bdc61a33ef2",
            "value": "100%"
          }
        }
      }
    }
  },
  "nbformat": 4,
  "nbformat_minor": 0
}
