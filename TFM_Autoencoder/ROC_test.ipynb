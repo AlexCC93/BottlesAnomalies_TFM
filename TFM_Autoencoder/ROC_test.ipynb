{
  "cells": [
    {
      "cell_type": "markdown",
      "metadata": {
        "colab_type": "text",
        "id": "oPUuSjJ96Au-"
      },
      "source": [
        "# **Machine Learning in Python: Making Receiver Operating Characteristic (ROC) curve**\n",
        "\n",
        "Chanin Nantasenamat\n",
        "\n",
        "<i>Data Professor YouTube channel, http://youtube.com/dataprofessor </i>\n",
        "\n",
        "In this Jupyter notebook, we will be making a Receiver Operating Characteristic (ROC) curve using the Iris data set as an example."
      ]
    },
    {
      "cell_type": "markdown",
      "metadata": {
        "colab_type": "text",
        "id": "_SJy5TKvuF9s"
      },
      "source": [
        "## **What is ROC curve?**\n",
        "\n",
        "The **ROC curve** summarizes the prediction performance of a classification model at all classification thresholds. Particularly, the ROC curve plots the **False Positive Rate (FPR)** on the *X-axis* and the **True Positive Rate (TPR)** on the *Y-axis*.\n",
        "\n",
        "$\\text{TPR (Sensitivity)} = \\frac{TP}{TP + FN}$\n",
        "\n",
        "$\\text{FPR (1 - Specificity)} = \\frac{FP}{TN + FP}$"
      ]
    },
    {
      "cell_type": "markdown",
      "metadata": {},
      "source": []
    },
    {
      "cell_type": "markdown",
      "metadata": {
        "colab_type": "text",
        "id": "KwebBKbP3Vsx"
      },
      "source": [
        "## **Generate synthetic dataset**"
      ]
    },
    {
      "cell_type": "code",
      "execution_count": 28,
      "metadata": {
        "colab": {},
        "colab_type": "code",
        "id": "ECJbWdcw5JMu"
      },
      "outputs": [],
      "source": [
        "from sklearn.datasets import make_classification\n",
        "import numpy as np"
      ]
    },
    {
      "cell_type": "code",
      "execution_count": 29,
      "metadata": {
        "colab": {},
        "colab_type": "code",
        "id": "Wl9Gu5Ba1d1X"
      },
      "outputs": [],
      "source": [
        "X, Y = make_classification(n_samples=2000, n_classes=2, n_features=10, random_state=0)"
      ]
    },
    {
      "cell_type": "markdown",
      "metadata": {
        "colab_type": "text",
        "id": "eqZsiSMtrdm9"
      },
      "source": [
        "## **Add noisy features to make the problem more difficult** $^1$\n"
      ]
    },
    {
      "cell_type": "code",
      "execution_count": 30,
      "metadata": {
        "colab": {},
        "colab_type": "code",
        "id": "r9otz_41rPXH"
      },
      "outputs": [],
      "source": [
        "random_state = np.random.RandomState(0)\n",
        "n_samples, n_features = X.shape\n",
        "X = np.c_[X, random_state.randn(n_samples, 200 * n_features)]"
      ]
    },
    {
      "cell_type": "markdown",
      "metadata": {
        "colab_type": "text",
        "id": "nAw93CgK4178"
      },
      "source": [
        "## **Data splitting**"
      ]
    },
    {
      "cell_type": "code",
      "execution_count": 31,
      "metadata": {
        "colab": {},
        "colab_type": "code",
        "id": "NRmlzFOA4x9Z"
      },
      "outputs": [],
      "source": [
        "from sklearn.model_selection import train_test_split"
      ]
    },
    {
      "cell_type": "code",
      "execution_count": 32,
      "metadata": {
        "colab": {},
        "colab_type": "code",
        "id": "yTep82KV9axn"
      },
      "outputs": [],
      "source": [
        "X_train, X_test, Y_train, Y_test = train_test_split(X, Y, test_size=.2,\n",
        "                                                    random_state=0)"
      ]
    },
    {
      "cell_type": "code",
      "execution_count": 33,
      "metadata": {},
      "outputs": [
        {
          "data": {
            "text/plain": [
              "array([0, 0, 1, 0, 1, 1, 1, 1, 1, 0, 1, 0, 1, 1, 0, 0, 0, 1, 1, 1, 1, 1,\n",
              "       0, 0, 0, 1, 0, 1, 1, 0, 0, 1, 0, 0, 0, 1, 1, 0, 1, 1, 0, 0, 1, 0,\n",
              "       1, 1, 1, 0, 1, 1, 0, 0, 0, 1, 1, 1, 0, 0, 0, 1, 1, 1, 1, 0, 0, 0,\n",
              "       1, 0, 0, 0, 1, 1, 0, 1, 1, 0, 0, 1, 0, 0, 0, 1, 1, 1, 0, 1, 0, 0,\n",
              "       0, 1, 0, 0, 0, 0, 0, 0, 0, 1, 1, 0, 1, 0, 1, 1, 1, 1, 0, 0, 0, 1,\n",
              "       0, 0, 1, 0, 1, 1, 0, 0, 0, 0, 0, 1, 1, 1, 1, 0, 1, 0, 0, 1, 0, 0,\n",
              "       1, 1, 1, 1, 1, 1, 1, 1, 0, 0, 1, 1, 0, 0, 1, 1, 1, 0, 1, 0, 0, 1,\n",
              "       0, 0, 1, 1, 1, 0, 0, 0, 0, 0, 0, 0, 0, 0, 0, 0, 0, 0, 0, 0, 0, 1,\n",
              "       1, 1, 0, 1, 0, 0, 1, 1, 1, 1, 1, 0, 0, 0, 1, 0, 1, 0, 0, 0, 1, 0,\n",
              "       1, 1, 0, 1, 1, 0, 0, 1, 1, 1, 0, 1, 0, 1, 1, 1, 0, 1, 0, 0, 1, 0,\n",
              "       1, 0, 1, 1, 1, 1, 0, 0, 0, 1, 0, 1, 1, 1, 1, 0, 1, 1, 0, 0, 1, 0,\n",
              "       0, 0, 1, 1, 0, 0, 1, 1, 0, 1, 1, 0, 1, 1, 1, 1, 0, 1, 1, 1, 0, 1,\n",
              "       0, 0, 0, 0, 0, 1, 1, 0, 0, 1, 1, 1, 0, 0, 1, 1, 0, 1, 1, 0, 1, 0,\n",
              "       0, 0, 1, 0, 0, 1, 1, 0, 0, 1, 0, 1, 1, 1, 1, 1, 1, 1, 0, 0, 1, 0,\n",
              "       0, 1, 1, 1, 1, 1, 1, 0, 1, 0, 0, 0, 0, 0, 0, 1, 1, 0, 0, 0, 1, 1,\n",
              "       0, 1, 0, 1, 0, 1, 0, 1, 0, 0, 0, 0, 1, 1, 1, 0, 0, 0, 0, 0, 0, 1,\n",
              "       0, 1, 0, 0, 0, 0, 0, 1, 0, 1, 1, 1, 1, 0, 1, 0, 0, 1, 1, 1, 0, 1,\n",
              "       1, 0, 0, 0, 1, 0, 0, 1, 1, 0, 0, 1, 0, 0, 1, 0, 0, 1, 1, 0, 0, 0,\n",
              "       0, 0, 0, 0])"
            ]
          },
          "execution_count": 33,
          "metadata": {},
          "output_type": "execute_result"
        }
      ],
      "source": [
        "Y_test"
      ]
    },
    {
      "cell_type": "code",
      "execution_count": 34,
      "metadata": {},
      "outputs": [
        {
          "data": {
            "text/plain": [
              "numpy.ndarray"
            ]
          },
          "execution_count": 34,
          "metadata": {},
          "output_type": "execute_result"
        }
      ],
      "source": [
        "type(Y_test)"
      ]
    },
    {
      "cell_type": "markdown",
      "metadata": {
        "colab_type": "text",
        "id": "V_MvToES4n_A"
      },
      "source": [
        "## **Build classification model**"
      ]
    },
    {
      "cell_type": "code",
      "execution_count": 35,
      "metadata": {
        "colab": {},
        "colab_type": "code",
        "id": "Fo9Xk5T94v6j"
      },
      "outputs": [],
      "source": [
        "from sklearn.ensemble import RandomForestClassifier\n",
        "from sklearn.naive_bayes import GaussianNB"
      ]
    },
    {
      "cell_type": "markdown",
      "metadata": {
        "colab_type": "text",
        "id": "0C3NRujmed_j"
      },
      "source": [
        "### Random Forest"
      ]
    },
    {
      "cell_type": "code",
      "execution_count": 36,
      "metadata": {
        "colab": {
          "base_uri": "https://localhost:8080/",
          "height": 153
        },
        "colab_type": "code",
        "id": "5WQ8UFXe9Zmx",
        "outputId": "59d40193-4955-4ef9-89e5-c258b82e0608"
      },
      "outputs": [
        {
          "data": {
            "text/html": [
              "<style>#sk-container-id-3 {color: black;background-color: white;}#sk-container-id-3 pre{padding: 0;}#sk-container-id-3 div.sk-toggleable {background-color: white;}#sk-container-id-3 label.sk-toggleable__label {cursor: pointer;display: block;width: 100%;margin-bottom: 0;padding: 0.3em;box-sizing: border-box;text-align: center;}#sk-container-id-3 label.sk-toggleable__label-arrow:before {content: \"▸\";float: left;margin-right: 0.25em;color: #696969;}#sk-container-id-3 label.sk-toggleable__label-arrow:hover:before {color: black;}#sk-container-id-3 div.sk-estimator:hover label.sk-toggleable__label-arrow:before {color: black;}#sk-container-id-3 div.sk-toggleable__content {max-height: 0;max-width: 0;overflow: hidden;text-align: left;background-color: #f0f8ff;}#sk-container-id-3 div.sk-toggleable__content pre {margin: 0.2em;color: black;border-radius: 0.25em;background-color: #f0f8ff;}#sk-container-id-3 input.sk-toggleable__control:checked~div.sk-toggleable__content {max-height: 200px;max-width: 100%;overflow: auto;}#sk-container-id-3 input.sk-toggleable__control:checked~label.sk-toggleable__label-arrow:before {content: \"▾\";}#sk-container-id-3 div.sk-estimator input.sk-toggleable__control:checked~label.sk-toggleable__label {background-color: #d4ebff;}#sk-container-id-3 div.sk-label input.sk-toggleable__control:checked~label.sk-toggleable__label {background-color: #d4ebff;}#sk-container-id-3 input.sk-hidden--visually {border: 0;clip: rect(1px 1px 1px 1px);clip: rect(1px, 1px, 1px, 1px);height: 1px;margin: -1px;overflow: hidden;padding: 0;position: absolute;width: 1px;}#sk-container-id-3 div.sk-estimator {font-family: monospace;background-color: #f0f8ff;border: 1px dotted black;border-radius: 0.25em;box-sizing: border-box;margin-bottom: 0.5em;}#sk-container-id-3 div.sk-estimator:hover {background-color: #d4ebff;}#sk-container-id-3 div.sk-parallel-item::after {content: \"\";width: 100%;border-bottom: 1px solid gray;flex-grow: 1;}#sk-container-id-3 div.sk-label:hover label.sk-toggleable__label {background-color: #d4ebff;}#sk-container-id-3 div.sk-serial::before {content: \"\";position: absolute;border-left: 1px solid gray;box-sizing: border-box;top: 0;bottom: 0;left: 50%;z-index: 0;}#sk-container-id-3 div.sk-serial {display: flex;flex-direction: column;align-items: center;background-color: white;padding-right: 0.2em;padding-left: 0.2em;position: relative;}#sk-container-id-3 div.sk-item {position: relative;z-index: 1;}#sk-container-id-3 div.sk-parallel {display: flex;align-items: stretch;justify-content: center;background-color: white;position: relative;}#sk-container-id-3 div.sk-item::before, #sk-container-id-3 div.sk-parallel-item::before {content: \"\";position: absolute;border-left: 1px solid gray;box-sizing: border-box;top: 0;bottom: 0;left: 50%;z-index: -1;}#sk-container-id-3 div.sk-parallel-item {display: flex;flex-direction: column;z-index: 1;position: relative;background-color: white;}#sk-container-id-3 div.sk-parallel-item:first-child::after {align-self: flex-end;width: 50%;}#sk-container-id-3 div.sk-parallel-item:last-child::after {align-self: flex-start;width: 50%;}#sk-container-id-3 div.sk-parallel-item:only-child::after {width: 0;}#sk-container-id-3 div.sk-dashed-wrapped {border: 1px dashed gray;margin: 0 0.4em 0.5em 0.4em;box-sizing: border-box;padding-bottom: 0.4em;background-color: white;}#sk-container-id-3 div.sk-label label {font-family: monospace;font-weight: bold;display: inline-block;line-height: 1.2em;}#sk-container-id-3 div.sk-label-container {text-align: center;}#sk-container-id-3 div.sk-container {/* jupyter's `normalize.less` sets `[hidden] { display: none; }` but bootstrap.min.css set `[hidden] { display: none !important; }` so we also need the `!important` here to be able to override the default hidden behavior on the sphinx rendered scikit-learn.org. See: https://github.com/scikit-learn/scikit-learn/issues/21755 */display: inline-block !important;position: relative;}#sk-container-id-3 div.sk-text-repr-fallback {display: none;}</style><div id=\"sk-container-id-3\" class=\"sk-top-container\"><div class=\"sk-text-repr-fallback\"><pre>RandomForestClassifier(max_features=5, n_estimators=500)</pre><b>In a Jupyter environment, please rerun this cell to show the HTML representation or trust the notebook. <br />On GitHub, the HTML representation is unable to render, please try loading this page with nbviewer.org.</b></div><div class=\"sk-container\" hidden><div class=\"sk-item\"><div class=\"sk-estimator sk-toggleable\"><input class=\"sk-toggleable__control sk-hidden--visually\" id=\"sk-estimator-id-3\" type=\"checkbox\" checked><label for=\"sk-estimator-id-3\" class=\"sk-toggleable__label sk-toggleable__label-arrow\">RandomForestClassifier</label><div class=\"sk-toggleable__content\"><pre>RandomForestClassifier(max_features=5, n_estimators=500)</pre></div></div></div></div></div>"
            ],
            "text/plain": [
              "RandomForestClassifier(max_features=5, n_estimators=500)"
            ]
          },
          "execution_count": 36,
          "metadata": {},
          "output_type": "execute_result"
        }
      ],
      "source": [
        "rf = RandomForestClassifier(max_features=5, n_estimators=500)\n",
        "rf.fit(X_train, Y_train)"
      ]
    },
    {
      "cell_type": "markdown",
      "metadata": {
        "colab_type": "text",
        "id": "Aw_Ax0cne2BC"
      },
      "source": [
        "### Naive Bayes"
      ]
    },
    {
      "cell_type": "code",
      "execution_count": 37,
      "metadata": {
        "colab": {
          "base_uri": "https://localhost:8080/",
          "height": 34
        },
        "colab_type": "code",
        "id": "nxmFVCs-e9Mz",
        "outputId": "6d8621b3-555e-41b7-c219-bd7c2118c0b7"
      },
      "outputs": [
        {
          "data": {
            "text/html": [
              "<style>#sk-container-id-4 {color: black;background-color: white;}#sk-container-id-4 pre{padding: 0;}#sk-container-id-4 div.sk-toggleable {background-color: white;}#sk-container-id-4 label.sk-toggleable__label {cursor: pointer;display: block;width: 100%;margin-bottom: 0;padding: 0.3em;box-sizing: border-box;text-align: center;}#sk-container-id-4 label.sk-toggleable__label-arrow:before {content: \"▸\";float: left;margin-right: 0.25em;color: #696969;}#sk-container-id-4 label.sk-toggleable__label-arrow:hover:before {color: black;}#sk-container-id-4 div.sk-estimator:hover label.sk-toggleable__label-arrow:before {color: black;}#sk-container-id-4 div.sk-toggleable__content {max-height: 0;max-width: 0;overflow: hidden;text-align: left;background-color: #f0f8ff;}#sk-container-id-4 div.sk-toggleable__content pre {margin: 0.2em;color: black;border-radius: 0.25em;background-color: #f0f8ff;}#sk-container-id-4 input.sk-toggleable__control:checked~div.sk-toggleable__content {max-height: 200px;max-width: 100%;overflow: auto;}#sk-container-id-4 input.sk-toggleable__control:checked~label.sk-toggleable__label-arrow:before {content: \"▾\";}#sk-container-id-4 div.sk-estimator input.sk-toggleable__control:checked~label.sk-toggleable__label {background-color: #d4ebff;}#sk-container-id-4 div.sk-label input.sk-toggleable__control:checked~label.sk-toggleable__label {background-color: #d4ebff;}#sk-container-id-4 input.sk-hidden--visually {border: 0;clip: rect(1px 1px 1px 1px);clip: rect(1px, 1px, 1px, 1px);height: 1px;margin: -1px;overflow: hidden;padding: 0;position: absolute;width: 1px;}#sk-container-id-4 div.sk-estimator {font-family: monospace;background-color: #f0f8ff;border: 1px dotted black;border-radius: 0.25em;box-sizing: border-box;margin-bottom: 0.5em;}#sk-container-id-4 div.sk-estimator:hover {background-color: #d4ebff;}#sk-container-id-4 div.sk-parallel-item::after {content: \"\";width: 100%;border-bottom: 1px solid gray;flex-grow: 1;}#sk-container-id-4 div.sk-label:hover label.sk-toggleable__label {background-color: #d4ebff;}#sk-container-id-4 div.sk-serial::before {content: \"\";position: absolute;border-left: 1px solid gray;box-sizing: border-box;top: 0;bottom: 0;left: 50%;z-index: 0;}#sk-container-id-4 div.sk-serial {display: flex;flex-direction: column;align-items: center;background-color: white;padding-right: 0.2em;padding-left: 0.2em;position: relative;}#sk-container-id-4 div.sk-item {position: relative;z-index: 1;}#sk-container-id-4 div.sk-parallel {display: flex;align-items: stretch;justify-content: center;background-color: white;position: relative;}#sk-container-id-4 div.sk-item::before, #sk-container-id-4 div.sk-parallel-item::before {content: \"\";position: absolute;border-left: 1px solid gray;box-sizing: border-box;top: 0;bottom: 0;left: 50%;z-index: -1;}#sk-container-id-4 div.sk-parallel-item {display: flex;flex-direction: column;z-index: 1;position: relative;background-color: white;}#sk-container-id-4 div.sk-parallel-item:first-child::after {align-self: flex-end;width: 50%;}#sk-container-id-4 div.sk-parallel-item:last-child::after {align-self: flex-start;width: 50%;}#sk-container-id-4 div.sk-parallel-item:only-child::after {width: 0;}#sk-container-id-4 div.sk-dashed-wrapped {border: 1px dashed gray;margin: 0 0.4em 0.5em 0.4em;box-sizing: border-box;padding-bottom: 0.4em;background-color: white;}#sk-container-id-4 div.sk-label label {font-family: monospace;font-weight: bold;display: inline-block;line-height: 1.2em;}#sk-container-id-4 div.sk-label-container {text-align: center;}#sk-container-id-4 div.sk-container {/* jupyter's `normalize.less` sets `[hidden] { display: none; }` but bootstrap.min.css set `[hidden] { display: none !important; }` so we also need the `!important` here to be able to override the default hidden behavior on the sphinx rendered scikit-learn.org. See: https://github.com/scikit-learn/scikit-learn/issues/21755 */display: inline-block !important;position: relative;}#sk-container-id-4 div.sk-text-repr-fallback {display: none;}</style><div id=\"sk-container-id-4\" class=\"sk-top-container\"><div class=\"sk-text-repr-fallback\"><pre>GaussianNB()</pre><b>In a Jupyter environment, please rerun this cell to show the HTML representation or trust the notebook. <br />On GitHub, the HTML representation is unable to render, please try loading this page with nbviewer.org.</b></div><div class=\"sk-container\" hidden><div class=\"sk-item\"><div class=\"sk-estimator sk-toggleable\"><input class=\"sk-toggleable__control sk-hidden--visually\" id=\"sk-estimator-id-4\" type=\"checkbox\" checked><label for=\"sk-estimator-id-4\" class=\"sk-toggleable__label sk-toggleable__label-arrow\">GaussianNB</label><div class=\"sk-toggleable__content\"><pre>GaussianNB()</pre></div></div></div></div></div>"
            ],
            "text/plain": [
              "GaussianNB()"
            ]
          },
          "execution_count": 37,
          "metadata": {},
          "output_type": "execute_result"
        }
      ],
      "source": [
        "nb = GaussianNB()\n",
        "nb.fit(X_train, Y_train)"
      ]
    },
    {
      "cell_type": "markdown",
      "metadata": {
        "colab_type": "text",
        "id": "hl_hDOsvDmyV"
      },
      "source": [
        "## **Prediction probabilities** $^2$"
      ]
    },
    {
      "cell_type": "code",
      "execution_count": 38,
      "metadata": {
        "colab": {},
        "colab_type": "code",
        "id": "jVkSSnnGCQ0O"
      },
      "outputs": [],
      "source": [
        "r_probs = [0 for _ in range(len(Y_test))]\n",
        "rf_probs = rf.predict_proba(X_test)\n",
        "nb_probs = nb.predict_proba(X_test)"
      ]
    },
    {
      "cell_type": "code",
      "execution_count": 39,
      "metadata": {},
      "outputs": [
        {
          "name": "stdout",
          "output_type": "stream",
          "text": [
            "[[0.552 0.448]\n",
            " [0.53  0.47 ]\n",
            " [0.538 0.462]\n",
            " [0.502 0.498]\n",
            " [0.498 0.502]\n",
            " [0.456 0.544]\n",
            " [0.448 0.552]\n",
            " [0.418 0.582]\n",
            " [0.448 0.552]\n",
            " [0.508 0.492]\n",
            " [0.474 0.526]\n",
            " [0.538 0.462]\n",
            " [0.506 0.494]\n",
            " [0.532 0.468]\n",
            " [0.554 0.446]\n",
            " [0.55  0.45 ]\n",
            " [0.564 0.436]\n",
            " [0.484 0.516]\n",
            " [0.49  0.51 ]\n",
            " [0.482 0.518]\n",
            " [0.532 0.468]\n",
            " [0.444 0.556]\n",
            " [0.512 0.488]\n",
            " [0.526 0.474]\n",
            " [0.552 0.448]\n",
            " [0.476 0.524]\n",
            " [0.522 0.478]\n",
            " [0.472 0.528]\n",
            " [0.466 0.534]\n",
            " [0.51  0.49 ]\n",
            " [0.492 0.508]\n",
            " [0.474 0.526]\n",
            " [0.506 0.494]\n",
            " [0.524 0.476]\n",
            " [0.552 0.448]\n",
            " [0.468 0.532]\n",
            " [0.474 0.526]\n",
            " [0.538 0.462]\n",
            " [0.486 0.514]\n",
            " [0.468 0.532]\n",
            " [0.548 0.452]\n",
            " [0.506 0.494]\n",
            " [0.478 0.522]\n",
            " [0.556 0.444]\n",
            " [0.44  0.56 ]\n",
            " [0.486 0.514]\n",
            " [0.462 0.538]\n",
            " [0.512 0.488]\n",
            " [0.462 0.538]\n",
            " [0.5   0.5  ]\n",
            " [0.51  0.49 ]\n",
            " [0.494 0.506]\n",
            " [0.562 0.438]\n",
            " [0.51  0.49 ]\n",
            " [0.448 0.552]\n",
            " [0.484 0.516]\n",
            " [0.554 0.446]\n",
            " [0.57  0.43 ]\n",
            " [0.524 0.476]\n",
            " [0.478 0.522]\n",
            " [0.472 0.528]\n",
            " [0.462 0.538]\n",
            " [0.464 0.536]\n",
            " [0.498 0.502]\n",
            " [0.52  0.48 ]\n",
            " [0.464 0.536]\n",
            " [0.432 0.568]\n",
            " [0.542 0.458]\n",
            " [0.476 0.524]\n",
            " [0.52  0.48 ]\n",
            " [0.444 0.556]\n",
            " [0.494 0.506]\n",
            " [0.538 0.462]\n",
            " [0.468 0.532]\n",
            " [0.48  0.52 ]\n",
            " [0.532 0.468]\n",
            " [0.506 0.494]\n",
            " [0.452 0.548]\n",
            " [0.502 0.498]\n",
            " [0.508 0.492]\n",
            " [0.542 0.458]\n",
            " [0.45  0.55 ]\n",
            " [0.436 0.564]\n",
            " [0.468 0.532]\n",
            " [0.52  0.48 ]\n",
            " [0.474 0.526]\n",
            " [0.496 0.504]\n",
            " [0.566 0.434]\n",
            " [0.478 0.522]\n",
            " [0.484 0.516]\n",
            " [0.528 0.472]\n",
            " [0.542 0.458]\n",
            " [0.558 0.442]\n",
            " [0.54  0.46 ]\n",
            " [0.522 0.478]\n",
            " [0.508 0.492]\n",
            " [0.546 0.454]\n",
            " [0.498 0.502]\n",
            " [0.492 0.508]\n",
            " [0.478 0.522]\n",
            " [0.462 0.538]\n",
            " [0.516 0.484]\n",
            " [0.506 0.494]\n",
            " [0.49  0.51 ]\n",
            " [0.482 0.518]\n",
            " [0.472 0.528]\n",
            " [0.5   0.5  ]\n",
            " [0.528 0.472]\n",
            " [0.53  0.47 ]\n",
            " [0.502 0.498]\n",
            " [0.512 0.488]\n",
            " [0.516 0.484]\n",
            " [0.434 0.566]\n",
            " [0.52  0.48 ]\n",
            " [0.45  0.55 ]\n",
            " [0.492 0.508]\n",
            " [0.528 0.472]\n",
            " [0.53  0.47 ]\n",
            " [0.516 0.484]\n",
            " [0.55  0.45 ]\n",
            " [0.512 0.488]\n",
            " [0.522 0.478]\n",
            " [0.496 0.504]\n",
            " [0.46  0.54 ]\n",
            " [0.5   0.5  ]\n",
            " [0.502 0.498]\n",
            " [0.458 0.542]\n",
            " [0.518 0.482]\n",
            " [0.552 0.448]\n",
            " [0.496 0.504]\n",
            " [0.51  0.49 ]\n",
            " [0.544 0.456]\n",
            " [0.45  0.55 ]\n",
            " [0.47  0.53 ]\n",
            " [0.472 0.528]\n",
            " [0.422 0.578]\n",
            " [0.466 0.534]\n",
            " [0.49  0.51 ]\n",
            " [0.456 0.544]\n",
            " [0.444 0.556]\n",
            " [0.488 0.512]\n",
            " [0.54  0.46 ]\n",
            " [0.468 0.532]\n",
            " [0.446 0.554]\n",
            " [0.492 0.508]\n",
            " [0.516 0.484]\n",
            " [0.448 0.552]\n",
            " [0.49  0.51 ]\n",
            " [0.44  0.56 ]\n",
            " [0.518 0.482]\n",
            " [0.46  0.54 ]\n",
            " [0.542 0.458]\n",
            " [0.524 0.476]\n",
            " [0.456 0.544]\n",
            " [0.498 0.502]\n",
            " [0.456 0.544]\n",
            " [0.486 0.514]\n",
            " [0.478 0.522]\n",
            " [0.456 0.544]\n",
            " [0.526 0.474]\n",
            " [0.508 0.492]\n",
            " [0.468 0.532]\n",
            " [0.508 0.492]\n",
            " [0.512 0.488]\n",
            " [0.504 0.496]\n",
            " [0.502 0.498]\n",
            " [0.528 0.472]\n",
            " [0.55  0.45 ]\n",
            " [0.516 0.484]\n",
            " [0.542 0.458]\n",
            " [0.554 0.446]\n",
            " [0.546 0.454]\n",
            " [0.482 0.518]\n",
            " [0.506 0.494]\n",
            " [0.522 0.478]\n",
            " [0.52  0.48 ]\n",
            " [0.434 0.566]\n",
            " [0.434 0.566]\n",
            " [0.494 0.506]\n",
            " [0.488 0.512]\n",
            " [0.516 0.484]\n",
            " [0.526 0.474]\n",
            " [0.504 0.496]\n",
            " [0.47  0.53 ]\n",
            " [0.444 0.556]\n",
            " [0.48  0.52 ]\n",
            " [0.506 0.494]\n",
            " [0.516 0.484]\n",
            " [0.508 0.492]\n",
            " [0.53  0.47 ]\n",
            " [0.464 0.536]\n",
            " [0.522 0.478]\n",
            " [0.486 0.514]\n",
            " [0.544 0.456]\n",
            " [0.548 0.452]\n",
            " [0.528 0.472]\n",
            " [0.426 0.574]\n",
            " [0.542 0.458]\n",
            " [0.502 0.498]\n",
            " [0.506 0.494]\n",
            " [0.536 0.464]\n",
            " [0.482 0.518]\n",
            " [0.436 0.564]\n",
            " [0.478 0.522]\n",
            " [0.564 0.436]\n",
            " [0.474 0.526]\n",
            " [0.438 0.562]\n",
            " [0.472 0.528]\n",
            " [0.512 0.488]\n",
            " [0.442 0.558]\n",
            " [0.536 0.464]\n",
            " [0.434 0.566]\n",
            " [0.416 0.584]\n",
            " [0.462 0.538]\n",
            " [0.516 0.484]\n",
            " [0.48  0.52 ]\n",
            " [0.492 0.508]\n",
            " [0.53  0.47 ]\n",
            " [0.448 0.552]\n",
            " [0.556 0.444]\n",
            " [0.452 0.548]\n",
            " [0.562 0.438]\n",
            " [0.426 0.574]\n",
            " [0.506 0.494]\n",
            " [0.436 0.564]\n",
            " [0.47  0.53 ]\n",
            " [0.474 0.526]\n",
            " [0.498 0.502]\n",
            " [0.506 0.494]\n",
            " [0.486 0.514]\n",
            " [0.478 0.522]\n",
            " [0.488 0.512]\n",
            " [0.496 0.504]\n",
            " [0.484 0.516]\n",
            " [0.47  0.53 ]\n",
            " [0.518 0.482]\n",
            " [0.444 0.556]\n",
            " [0.52  0.48 ]\n",
            " [0.504 0.496]\n",
            " [0.532 0.468]\n",
            " [0.434 0.566]\n",
            " [0.496 0.504]\n",
            " [0.558 0.442]\n",
            " [0.48  0.52 ]\n",
            " [0.44  0.56 ]\n",
            " [0.478 0.522]\n",
            " [0.508 0.492]\n",
            " [0.528 0.472]\n",
            " [0.51  0.49 ]\n",
            " [0.454 0.546]\n",
            " [0.58  0.42 ]\n",
            " [0.442 0.558]\n",
            " [0.478 0.522]\n",
            " [0.524 0.476]\n",
            " [0.488 0.512]\n",
            " [0.47  0.53 ]\n",
            " [0.522 0.478]\n",
            " [0.52  0.48 ]\n",
            " [0.494 0.506]\n",
            " [0.456 0.544]\n",
            " [0.462 0.538]\n",
            " [0.454 0.546]\n",
            " [0.488 0.512]\n",
            " [0.51  0.49 ]\n",
            " [0.562 0.438]\n",
            " [0.528 0.472]\n",
            " [0.542 0.458]\n",
            " [0.486 0.514]\n",
            " [0.518 0.482]\n",
            " [0.472 0.528]\n",
            " [0.458 0.542]\n",
            " [0.524 0.476]\n",
            " [0.494 0.506]\n",
            " [0.472 0.528]\n",
            " [0.446 0.554]\n",
            " [0.468 0.532]\n",
            " [0.526 0.474]\n",
            " [0.54  0.46 ]\n",
            " [0.49  0.51 ]\n",
            " [0.432 0.568]\n",
            " [0.546 0.454]\n",
            " [0.494 0.506]\n",
            " [0.492 0.508]\n",
            " [0.548 0.452]\n",
            " [0.472 0.528]\n",
            " [0.494 0.506]\n",
            " [0.52  0.48 ]\n",
            " [0.486 0.514]\n",
            " [0.434 0.566]\n",
            " [0.516 0.484]\n",
            " [0.55  0.45 ]\n",
            " [0.5   0.5  ]\n",
            " [0.442 0.558]\n",
            " [0.55  0.45 ]\n",
            " [0.5   0.5  ]\n",
            " [0.466 0.534]\n",
            " [0.53  0.47 ]\n",
            " [0.484 0.516]\n",
            " [0.486 0.514]\n",
            " [0.456 0.544]\n",
            " [0.434 0.566]\n",
            " [0.462 0.538]\n",
            " [0.492 0.508]\n",
            " [0.444 0.556]\n",
            " [0.542 0.458]\n",
            " [0.544 0.456]\n",
            " [0.522 0.478]\n",
            " [0.514 0.486]\n",
            " [0.548 0.452]\n",
            " [0.46  0.54 ]\n",
            " [0.496 0.504]\n",
            " [0.486 0.514]\n",
            " [0.42  0.58 ]\n",
            " [0.48  0.52 ]\n",
            " [0.462 0.538]\n",
            " [0.516 0.484]\n",
            " [0.432 0.568]\n",
            " [0.424 0.576]\n",
            " [0.476 0.524]\n",
            " [0.548 0.452]\n",
            " [0.526 0.474]\n",
            " [0.558 0.442]\n",
            " [0.55  0.45 ]\n",
            " [0.448 0.552]\n",
            " [0.438 0.562]\n",
            " [0.516 0.484]\n",
            " [0.53  0.47 ]\n",
            " [0.528 0.472]\n",
            " [0.496 0.504]\n",
            " [0.454 0.546]\n",
            " [0.506 0.494]\n",
            " [0.466 0.534]\n",
            " [0.536 0.464]\n",
            " [0.498 0.502]\n",
            " [0.534 0.466]\n",
            " [0.502 0.498]\n",
            " [0.548 0.452]\n",
            " [0.462 0.538]\n",
            " [0.51  0.49 ]\n",
            " [0.514 0.486]\n",
            " [0.528 0.472]\n",
            " [0.556 0.444]\n",
            " [0.512 0.488]\n",
            " [0.472 0.528]\n",
            " [0.486 0.514]\n",
            " [0.55  0.45 ]\n",
            " [0.542 0.458]\n",
            " [0.546 0.454]\n",
            " [0.516 0.484]\n",
            " [0.508 0.492]\n",
            " [0.516 0.484]\n",
            " [0.508 0.492]\n",
            " [0.522 0.478]\n",
            " [0.516 0.484]\n",
            " [0.492 0.508]\n",
            " [0.516 0.484]\n",
            " [0.518 0.482]\n",
            " [0.538 0.462]\n",
            " [0.534 0.466]\n",
            " [0.45  0.55 ]\n",
            " [0.532 0.468]\n",
            " [0.568 0.432]\n",
            " [0.488 0.512]\n",
            " [0.474 0.526]\n",
            " [0.448 0.552]\n",
            " [0.542 0.458]\n",
            " [0.456 0.544]\n",
            " [0.514 0.486]\n",
            " [0.554 0.446]\n",
            " [0.498 0.502]\n",
            " [0.484 0.516]\n",
            " [0.488 0.512]\n",
            " [0.542 0.458]\n",
            " [0.472 0.528]\n",
            " [0.466 0.534]\n",
            " [0.518 0.482]\n",
            " [0.532 0.468]\n",
            " [0.494 0.506]\n",
            " [0.48  0.52 ]\n",
            " [0.5   0.5  ]\n",
            " [0.536 0.464]\n",
            " [0.448 0.552]\n",
            " [0.422 0.578]\n",
            " [0.55  0.45 ]\n",
            " [0.566 0.434]\n",
            " [0.462 0.538]\n",
            " [0.522 0.478]\n",
            " [0.488 0.512]\n",
            " [0.468 0.532]\n",
            " [0.524 0.476]\n",
            " [0.528 0.472]\n",
            " [0.49  0.51 ]\n",
            " [0.488 0.512]\n",
            " [0.5   0.5  ]\n",
            " [0.518 0.482]\n",
            " [0.498 0.502]\n",
            " [0.506 0.494]\n",
            " [0.57  0.43 ]\n",
            " [0.522 0.478]\n",
            " [0.51  0.49 ]]\n"
          ]
        }
      ],
      "source": [
        "print(rf_probs)"
      ]
    },
    {
      "attachments": {},
      "cell_type": "markdown",
      "metadata": {},
      "source": [
        "Two columns corresponding to the probability of the sample to be classified as each of the possible classes. The first column corresponds to the probability for the class 0 and the second one, for the class 1. "
      ]
    },
    {
      "cell_type": "markdown",
      "metadata": {
        "colab_type": "text",
        "id": "GNha6VVeDsyb"
      },
      "source": [
        "Probabilities for the positive outcome is kept."
      ]
    },
    {
      "cell_type": "code",
      "execution_count": 41,
      "metadata": {
        "colab": {},
        "colab_type": "code",
        "id": "a4j8EtvZCdF8"
      },
      "outputs": [],
      "source": [
        "rf_probs = rf_probs[:, 1]\n",
        "nb_probs = nb_probs[:, 1]"
      ]
    },
    {
      "cell_type": "markdown",
      "metadata": {
        "colab_type": "text",
        "id": "rf9gjJcb4i0e"
      },
      "source": [
        "## **Computing AUROC and ROC curve values**"
      ]
    },
    {
      "cell_type": "code",
      "execution_count": 43,
      "metadata": {
        "colab": {},
        "colab_type": "code",
        "id": "cSfzTGWn4lXe"
      },
      "outputs": [],
      "source": [
        "from sklearn.metrics import roc_curve, roc_auc_score"
      ]
    },
    {
      "cell_type": "markdown",
      "metadata": {
        "colab_type": "text",
        "id": "gpr5ON6QC7ip"
      },
      "source": [
        "### **Calculate AUROC**\n",
        "**ROC** is the receiver operating characteristic\n",
        "**AUROC** is the area under the ROC curve"
      ]
    },
    {
      "cell_type": "code",
      "execution_count": 44,
      "metadata": {
        "colab": {},
        "colab_type": "code",
        "id": "yVwjOC6XC5lw"
      },
      "outputs": [],
      "source": [
        "r_auc = roc_auc_score(Y_test, r_probs)\n",
        "rf_auc = roc_auc_score(Y_test, rf_probs)\n",
        "nb_auc = roc_auc_score(Y_test, nb_probs)"
      ]
    },
    {
      "cell_type": "markdown",
      "metadata": {
        "colab_type": "text",
        "id": "TIzyhgstDMqw"
      },
      "source": [
        "### **Print AUROC scores**"
      ]
    },
    {
      "cell_type": "code",
      "execution_count": 45,
      "metadata": {
        "colab": {
          "base_uri": "https://localhost:8080/",
          "height": 68
        },
        "colab_type": "code",
        "id": "lUvZ8_BbC5uf",
        "outputId": "f7012c23-bfd5-4933-8a8c-49fa0c9931ed"
      },
      "outputs": [
        {
          "name": "stdout",
          "output_type": "stream",
          "text": [
            "Random (chance) Prediction: AUROC = 0.500\n",
            "Random Forest: AUROC = 0.918\n",
            "Naive Bayes: AUROC = 0.993\n"
          ]
        }
      ],
      "source": [
        "print('Random (chance) Prediction: AUROC = %.3f' % (r_auc))\n",
        "print('Random Forest: AUROC = %.3f' % (rf_auc))\n",
        "print('Naive Bayes: AUROC = %.3f' % (nb_auc))"
      ]
    },
    {
      "cell_type": "markdown",
      "metadata": {
        "colab_type": "text",
        "id": "7AsuB3AQE5FC"
      },
      "source": [
        "### **Calculate ROC curve**"
      ]
    },
    {
      "cell_type": "code",
      "execution_count": 46,
      "metadata": {
        "colab": {},
        "colab_type": "code",
        "id": "lApmrHMp9YDb"
      },
      "outputs": [],
      "source": [
        "r_fpr, r_tpr, _ = roc_curve(Y_test, r_probs)\n",
        "rf_fpr, rf_tpr, thresholds = roc_curve(Y_test, rf_probs)\n",
        "nb_fpr, nb_tpr, _ = roc_curve(Y_test, nb_probs)"
      ]
    },
    {
      "cell_type": "code",
      "execution_count": 53,
      "metadata": {},
      "outputs": [
        {
          "name": "stdout",
          "output_type": "stream",
          "text": [
            "[]\n"
          ]
        }
      ],
      "source": [
        "print(rf_probs[rf_probs>0.9])"
      ]
    },
    {
      "cell_type": "code",
      "execution_count": 49,
      "metadata": {},
      "outputs": [
        {
          "name": "stdout",
          "output_type": "stream",
          "text": [
            "[1.584 0.584 0.58  0.578 0.576 0.574 0.568 0.566 0.564 0.562 0.558 0.556\n",
            " 0.554 0.552 0.55  0.548 0.546 0.544 0.542 0.54  0.538 0.536 0.534 0.532\n",
            " 0.53  0.528 0.526 0.524 0.522 0.52  0.518 0.516 0.514 0.512 0.51  0.508\n",
            " 0.506 0.504 0.502 0.498 0.496 0.494 0.492 0.49  0.488 0.486 0.484 0.482\n",
            " 0.48  0.478 0.476 0.474 0.472 0.47  0.468 0.466 0.464 0.462 0.46  0.458\n",
            " 0.456 0.454 0.452 0.45  0.446 0.438 0.434 0.432 0.43  0.42 ]\n"
          ]
        }
      ],
      "source": [
        "print(thresholds)"
      ]
    },
    {
      "cell_type": "markdown",
      "metadata": {
        "colab_type": "text",
        "id": "tXpx2YMM4Gsb"
      },
      "source": [
        "## **Plot the ROC curve**"
      ]
    },
    {
      "cell_type": "code",
      "execution_count": 37,
      "metadata": {
        "colab": {},
        "colab_type": "code",
        "id": "oL96kXed4MvL"
      },
      "outputs": [],
      "source": [
        "import matplotlib.pyplot as plt"
      ]
    },
    {
      "cell_type": "code",
      "execution_count": 38,
      "metadata": {
        "colab": {
          "base_uri": "https://localhost:8080/",
          "height": 295
        },
        "colab_type": "code",
        "id": "v2Q6p9qmFVxB",
        "outputId": "99d38f38-6f9c-41bb-aadb-98f428720982"
      },
      "outputs": [
        {
          "data": {
            "image/png": "[encoded data removed]",
            "text/plain": [
              "<Figure size 640x480 with 1 Axes>"
            ]
          },
          "metadata": {},
          "output_type": "display_data"
        }
      ],
      "source": [
        "\n",
        "plt.plot(r_fpr, r_tpr, linestyle='--', label='Random prediction (AUROC = %0.3f)' % r_auc)\n",
        "plt.plot(rf_fpr, rf_tpr, marker='.', label='Random Forest (AUROC = %0.3f)' % rf_auc)\n",
        "plt.plot(nb_fpr, nb_tpr, marker='.', label='Naive Bayes (AUROC = %0.3f)' % nb_auc)\n",
        "\n",
        "# Title\n",
        "plt.title('ROC Plot')\n",
        "# Axis labels\n",
        "plt.xlabel('False Positive Rate')\n",
        "plt.ylabel('True Positive Rate')\n",
        "# Show legend\n",
        "plt.legend() # \n",
        "# Show plot\n",
        "plt.show()"
      ]
    },
    {
      "cell_type": "markdown",
      "metadata": {
        "colab_type": "text",
        "id": "KjKvljmy5O25"
      },
      "source": [
        "## **Reference**\n",
        "1. https://scikit-learn.org/stable/auto_examples/model_selection/plot_roc.html\n",
        "2. https://machinelearningmastery.com/roc-curves-and-precision-recall-curves-for-classification-in-python/\n"
      ]
    },
    {
      "cell_type": "markdown",
      "metadata": {
        "colab_type": "text",
        "id": "qen82yXu_VFw"
      },
      "source": [
        "---"
      ]
    },
    {
      "attachments": {},
      "cell_type": "markdown",
      "metadata": {},
      "source": [
        "## DEMO OF THE \"roc_curve\" function"
      ]
    },
    {
      "attachments": {},
      "cell_type": "markdown",
      "metadata": {},
      "source": [
        "Do notice that the \"roc_curve\" function receives the probability of samples to be predicted as positive samples. In the case above, the positive sample label is said to be \"2\" and as such the given probability values refer to the probability of being \"2\""
      ]
    },
    {
      "cell_type": "code",
      "execution_count": 33,
      "metadata": {},
      "outputs": [
        {
          "name": "stdout",
          "output_type": "stream",
          "text": [
            "The FPR values are:  [0.  0.  0.5 0.5 1. ]\n",
            "The TPR values are:  [0.  0.5 0.5 1.  1. ]\n",
            "The thresholds values are:  [1.8  0.8  0.4  0.35 0.1 ]\n"
          ]
        }
      ],
      "source": [
        "import numpy as np\n",
        "from sklearn import metrics\n",
        "y = np.array([1, 1, 2, 2])\n",
        "scores = np.array([0.1, 0.4, 0.35, 0.8])\n",
        "fpr, tpr, thresholds = metrics.roc_curve(y, scores, pos_label=2)\n",
        "print(\"The FPR values are: \", fpr)\n",
        "print(\"The TPR values are: \",tpr)\n",
        "\n",
        "print(\"The thresholds values are: \", thresholds)"
      ]
    },
    {
      "attachments": {},
      "cell_type": "markdown",
      "metadata": {},
      "source": [
        "From above, the first value of the thresholds is must not be considered. And as well, the last values of FPR and TPR are not taken into account. Hence, the relation among these three variables will be:\n",
        "\n",
        "FPR = [0, 0, 0.5, 0.5]\n",
        "\n",
        "TPR = [0, 0.5, 0.5, 1]\n",
        "\n",
        "Thresholds = [0.8, 0.4, 0.35, 0.1]\n",
        "\n"
      ]
    },
    {
      "attachments": {},
      "cell_type": "markdown",
      "metadata": {},
      "source": [
        "Verifying that the above statement is true:"
      ]
    },
    {
      "cell_type": "code",
      "execution_count": 39,
      "metadata": {},
      "outputs": [],
      "source": [
        "from tensorflow.keras.metrics import Precision, Recall, BinaryAccuracy, SpecificityAtSensitivity\n",
        "from sklearn.metrics import confusion_matrix"
      ]
    },
    {
      "cell_type": "code",
      "execution_count": 40,
      "metadata": {},
      "outputs": [],
      "source": [
        "def pred_label_onProb(probs_list, prob_threshold):\n",
        "    pred_based_onProb = []\n",
        "    for i in range (len(probs_list)):\n",
        "        if probs_list[i] > prob_threshold:\n",
        "            prediction = 2                          ## Stands for classifiaction of anomaly bottle\n",
        "        else:\n",
        "            prediction = 1\n",
        "        pred_based_onProb.append(prediction)\n",
        "    return pred_based_onProb"
      ]
    },
    {
      "cell_type": "code",
      "execution_count": 41,
      "metadata": {},
      "outputs": [
        {
          "data": {
            "text/plain": [
              "[1, 1, 1, 1]"
            ]
          },
          "execution_count": 41,
          "metadata": {},
          "output_type": "execute_result"
        }
      ],
      "source": [
        "pred_label_onProb([0.1, 0.4, 0.35, 0.8], 0.8)"
      ]
    },
    {
      "cell_type": "code",
      "execution_count": 45,
      "metadata": {},
      "outputs": [
        {
          "name": "stdout",
          "output_type": "stream",
          "text": [
            "[[2 0]\n",
            " [1 1]]\n",
            "The FPR values are:  0.0\n",
            "The TPR values are:  0.5\n",
            "Using the threshold = 0.4\n"
          ]
        }
      ],
      "source": [
        "conf_matrix = confusion_matrix([1, 1, 2, 2], pred_label_onProb([0.1, 0.4, 0.35, 0.8], 0.4))\n",
        "print(conf_matrix)\n",
        "_tp = conf_matrix[1, 1]\n",
        "_fn = conf_matrix[1, 0]\n",
        "_fp = conf_matrix[0, 1]\n",
        "_tn = conf_matrix[0, 0]\n",
        "_tpr = _tp/(_tp+_fn)\n",
        "_fpr = _fp / (_tn + _fp)\n",
        "print(\"The FPR values are: \", _fpr)\n",
        "print(\"The TPR values are: \", _tpr)\n",
        "print(\"Using the threshold = 0.4\")"
      ]
    },
    {
      "cell_type": "code",
      "execution_count": 46,
      "metadata": {},
      "outputs": [
        {
          "name": "stdout",
          "output_type": "stream",
          "text": [
            "[[1 1]\n",
            " [1 1]]\n",
            "The FPR values are:  0.5\n",
            "The TPR values are:  0.5\n",
            "Using the threshold = 0.35\n"
          ]
        }
      ],
      "source": [
        "conf_matrix = confusion_matrix([1, 1, 2, 2], pred_label_onProb([0.1, 0.4, 0.35, 0.8], 0.35))\n",
        "print(conf_matrix)\n",
        "_tp = conf_matrix[1, 1]\n",
        "_fn = conf_matrix[1, 0]\n",
        "_fp = conf_matrix[0, 1]\n",
        "_tn = conf_matrix[0, 0]\n",
        "_tpr = _tp/(_tp+_fn)\n",
        "_fpr = _fp / (_tn + _fp)\n",
        "print(\"The FPR values are: \", _fpr)\n",
        "print(\"The TPR values are: \", _tpr)\n",
        "print(\"Using the threshold = 0.35\")"
      ]
    },
    {
      "cell_type": "code",
      "execution_count": 47,
      "metadata": {},
      "outputs": [
        {
          "name": "stdout",
          "output_type": "stream",
          "text": [
            "[[1 1]\n",
            " [0 2]]\n",
            "The FPR values are:  0.5\n",
            "The TPR values are:  1.0\n",
            "Using the threshold = 0.1\n"
          ]
        }
      ],
      "source": [
        "conf_matrix = confusion_matrix([1, 1, 2, 2], pred_label_onProb([0.1, 0.4, 0.35, 0.8], 0.1))\n",
        "print(conf_matrix)\n",
        "_tp = conf_matrix[1, 1]\n",
        "_fn = conf_matrix[1, 0]\n",
        "_fp = conf_matrix[0, 1]\n",
        "_tn = conf_matrix[0, 0]\n",
        "_tpr = _tp/(_tp+_fn)\n",
        "_fpr = _fp / (_tn + _fp)\n",
        "print(\"The FPR values are: \", _fpr)\n",
        "print(\"The TPR values are: \", _tpr)\n",
        "print(\"Using the threshold = 0.1\")"
      ]
    },
    {
      "cell_type": "code",
      "execution_count": null,
      "metadata": {},
      "outputs": [],
      "source": []
    }
  ],
  "metadata": {
    "colab": {
      "collapsed_sections": [],
      "name": "ROC-curve.ipynb",
      "provenance": []
    },
    "kernelspec": {
      "display_name": "Python 3",
      "name": "python3"
    },
    "language_info": {
      "codemirror_mode": {
        "name": "ipython",
        "version": 3
      },
      "file_extension": ".py",
      "mimetype": "text/x-python",
      "name": "python",
      "nbconvert_exporter": "python",
      "pygments_lexer": "ipython3",
      "version": "3.9.16"
    }
  },
  "nbformat": 4,
  "nbformat_minor": 0
}
