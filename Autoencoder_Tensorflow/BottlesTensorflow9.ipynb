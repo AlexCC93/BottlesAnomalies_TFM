{
 "cells": [
  {
   "cell_type": "code",
   "execution_count": 1,
   "metadata": {},
   "outputs": [],
   "source": [
    "from tensorflow.keras.models import Sequential, Model\n",
    "from tensorflow.keras.layers import *\n",
    "from tensorflow.keras.preprocessing.image import ImageDataGenerator\n",
    "from tensorflow import keras\n",
    "import tensorflow as tf\n",
    "# from keras import layers\n",
    "\n",
    "\n",
    "from tensorflow.keras.optimizers import Adam, RMSprop\n",
    "from tensorflow.keras.preprocessing import image\n",
    "\n",
    "import tensorflow.keras.backend as K\n",
    "\n",
    "\n",
    "from PIL import Image\n",
    "import matplotlib.pyplot as plt\n",
    "import numpy as np\n",
    "import random\n",
    "\n"
   ]
  },
  {
   "cell_type": "code",
   "execution_count": 2,
   "metadata": {},
   "outputs": [
    {
     "name": "stdout",
     "output_type": "stream",
     "text": [
      "Num GPUs Available:  1\n"
     ]
    },
    {
     "name": "stderr",
     "output_type": "stream",
     "text": [
      "2023-06-01 22:50:25.798734: I tensorflow/stream_executor/platform/default/dso_loader.cc:44] Successfully opened dynamic library libcuda.so.1\n",
      "2023-06-01 22:50:25.830740: I tensorflow/stream_executor/cuda/cuda_gpu_executor.cc:981] successful NUMA node read from SysFS had negative value (-1), but there must be at least one NUMA node, so returning NUMA node zero\n",
      "2023-06-01 22:50:25.831088: I tensorflow/core/common_runtime/gpu/gpu_device.cc:1561] Found device 0 with properties: \n",
      "pciBusID: 0000:01:00.0 name: NVIDIA GeForce RTX 2080 with Max-Q Design computeCapability: 7.5\n",
      "coreClock: 1.23GHz coreCount: 46 deviceMemorySize: 7.79GiB deviceMemoryBandwidth: 357.69GiB/s\n",
      "2023-06-01 22:50:25.831320: I tensorflow/stream_executor/platform/default/dso_loader.cc:44] Successfully opened dynamic library libcudart.so.10.1\n",
      "2023-06-01 22:50:25.832719: I tensorflow/stream_executor/platform/default/dso_loader.cc:44] Successfully opened dynamic library libcublas.so.10\n",
      "2023-06-01 22:50:25.833919: I tensorflow/stream_executor/platform/default/dso_loader.cc:44] Successfully opened dynamic library libcufft.so.10\n",
      "2023-06-01 22:50:25.834124: I tensorflow/stream_executor/platform/default/dso_loader.cc:44] Successfully opened dynamic library libcurand.so.10\n",
      "2023-06-01 22:50:25.835568: I tensorflow/stream_executor/platform/default/dso_loader.cc:44] Successfully opened dynamic library libcusolver.so.10\n",
      "2023-06-01 22:50:25.836297: I tensorflow/stream_executor/platform/default/dso_loader.cc:44] Successfully opened dynamic library libcusparse.so.10\n",
      "2023-06-01 22:50:25.839145: I tensorflow/stream_executor/platform/default/dso_loader.cc:44] Successfully opened dynamic library libcudnn.so.7\n",
      "2023-06-01 22:50:25.839246: I tensorflow/stream_executor/cuda/cuda_gpu_executor.cc:981] successful NUMA node read from SysFS had negative value (-1), but there must be at least one NUMA node, so returning NUMA node zero\n",
      "2023-06-01 22:50:25.839677: I tensorflow/stream_executor/cuda/cuda_gpu_executor.cc:981] successful NUMA node read from SysFS had negative value (-1), but there must be at least one NUMA node, so returning NUMA node zero\n",
      "2023-06-01 22:50:25.840002: I tensorflow/core/common_runtime/gpu/gpu_device.cc:1703] Adding visible gpu devices: 0\n"
     ]
    }
   ],
   "source": [
    "physical_devices = tf.config.experimental.list_physical_devices('GPU')\n",
    "if len(physical_devices) == 0:\n",
    "    print(\"Not enough GPU hardware devices available\")\n",
    "else:\n",
    "    config = tf.config.experimental.set_memory_growth(physical_devices[0], True)\n",
    "print(\"Num GPUs Available: \", len(physical_devices))"
   ]
  },
  {
   "cell_type": "code",
   "execution_count": 3,
   "metadata": {},
   "outputs": [],
   "source": [
    "# tf.debugging.set_log_device_placement(True)       # Will print the log information of every execution of tensorflow, mainly about "
   ]
  },
  {
   "cell_type": "code",
   "execution_count": 4,
   "metadata": {},
   "outputs": [],
   "source": [
    "#Size of our input images\n",
    "# SIZE = 128        # It was this value at the beginning, but the image display was poor. \n",
    "SIZE = 224\n",
    "# SIZE = 228          # It was 224, but in order for the current autoencoder model configuration work adequately, we changed it 228"
   ]
  },
  {
   "attachments": {},
   "cell_type": "markdown",
   "metadata": {},
   "source": [
    "# Setting the training and testing datasets "
   ]
  },
  {
   "attachments": {},
   "cell_type": "markdown",
   "metadata": {},
   "source": [
    "ImageDataGenerator.flow_from_directory: Takes the path to a directory and generates batches of augmented data."
   ]
  },
  {
   "cell_type": "code",
   "execution_count": 5,
   "metadata": {},
   "outputs": [
    {
     "name": "stdout",
     "output_type": "stream",
     "text": [
      "Found 179 images belonging to 1 classes.\n"
     ]
    }
   ],
   "source": [
    "batch_size = 15\n",
    "datagen = ImageDataGenerator(rescale=1./255) # Typically used for data augmentation. Here it is only rescaling the image pixels value to range 0 to 1 in decimals\n",
    "\n",
    "train_generator = datagen.flow_from_directory(\n",
    "    \"../../Images/BottleStoodUp_atNight/Positive/\",     # For home laptop\n",
    "    # \"../../../BottleStoodUp_atNight/Positive/\",           # For work laptop\n",
    "    target_size=(SIZE, SIZE),\n",
    "    batch_size=batch_size,\n",
    "    shuffle = False,\n",
    "    class_mode='input'          # Class used for working with Autoencoders\n",
    "    \n",
    "    )"
   ]
  },
  {
   "cell_type": "code",
   "execution_count": 6,
   "metadata": {},
   "outputs": [
    {
     "name": "stdout",
     "output_type": "stream",
     "text": [
      "Found 30 images belonging to 1 classes.\n"
     ]
    }
   ],
   "source": [
    "validation_generator = datagen.flow_from_directory(\n",
    "    \"../../Images/BottleStoodUp_atNight/Positive_val/\",     # For home laptop\n",
    "    # \"../../../BottleStoodUp_atNight/Positive_val/\",           # For work lpatop   \n",
    "    target_size=(SIZE, SIZE),\n",
    "    batch_size=batch_size,\n",
    "    shuffle = False,\n",
    "    class_mode='input'\n",
    "    )\n"
   ]
  },
  {
   "cell_type": "code",
   "execution_count": 7,
   "metadata": {},
   "outputs": [
    {
     "name": "stdout",
     "output_type": "stream",
     "text": [
      "Found 6 images belonging to 1 classes.\n"
     ]
    }
   ],
   "source": [
    "anomaly_generator = datagen.flow_from_directory(\n",
    "    \"../../Images/BottleStoodUp_atNight/Anomalies2.0/\",         # For home laptop\n",
    "    # \"../../../BottleStoodUp_atNight/Anomalies2.0/\",           # For work lpatpo\n",
    "    target_size=(SIZE, SIZE),\n",
    "    batch_size=batch_size,\n",
    "    shuffle = False,\n",
    "    class_mode='input'\n",
    "    )\n"
   ]
  },
  {
   "cell_type": "code",
   "execution_count": 8,
   "metadata": {},
   "outputs": [
    {
     "name": "stdout",
     "output_type": "stream",
     "text": [
      "Found 30 images belonging to 2 classes.\n"
     ]
    }
   ],
   "source": [
    "test_set_generator = datagen.flow_from_directory(\n",
    "    \"../../Images/BottleStoodUp_atNight/Evaluation/\",       # For home laptop\n",
    "    # \"../../../BottleStoodUp_atNight/Evaluation/\",             # For work laptop  \n",
    "    target_size=(SIZE, SIZE),\n",
    "    batch_size=batch_size,\n",
    "    shuffle = False,\n",
    "    class_mode='input'\n",
    "    )\n"
   ]
  },
  {
   "attachments": {},
   "cell_type": "markdown",
   "metadata": {},
   "source": [
    "# Showing one sample of the training set images"
   ]
  },
  {
   "attachments": {},
   "cell_type": "markdown",
   "metadata": {},
   "source": [
    "Grabbing only one image of one batch of the training set."
   ]
  },
  {
   "cell_type": "code",
   "execution_count": 9,
   "metadata": {},
   "outputs": [
    {
     "name": "stdout",
     "output_type": "stream",
     "text": [
      "<class 'numpy.ndarray'>\n",
      "15\n"
     ]
    },
    {
     "name": "stderr",
     "output_type": "stream",
     "text": [
      "2023-06-01 22:50:28.938404: I tensorflow/core/platform/cpu_feature_guard.cc:143] Your CPU supports instructions that this TensorFlow binary was not compiled to use: AVX2 FMA\n",
      "2023-06-01 22:50:28.963596: I tensorflow/core/platform/profile_utils/cpu_utils.cc:102] CPU Frequency: 2599990000 Hz\n",
      "2023-06-01 22:50:28.964024: I tensorflow/compiler/xla/service/service.cc:168] XLA service 0x7f2ac0001640 initialized for platform Host (this does not guarantee that XLA will be used). Devices:\n",
      "2023-06-01 22:50:28.964059: I tensorflow/compiler/xla/service/service.cc:176]   StreamExecutor device (0): Host, Default Version\n",
      "2023-06-01 22:50:29.030537: I tensorflow/stream_executor/cuda/cuda_gpu_executor.cc:981] successful NUMA node read from SysFS had negative value (-1), but there must be at least one NUMA node, so returning NUMA node zero\n",
      "2023-06-01 22:50:29.030925: I tensorflow/compiler/xla/service/service.cc:168] XLA service 0x29c2630 initialized for platform CUDA (this does not guarantee that XLA will be used). Devices:\n",
      "2023-06-01 22:50:29.030940: I tensorflow/compiler/xla/service/service.cc:176]   StreamExecutor device (0): NVIDIA GeForce RTX 2080 with Max-Q Design, Compute Capability 7.5\n",
      "2023-06-01 22:50:29.031074: I tensorflow/stream_executor/cuda/cuda_gpu_executor.cc:981] successful NUMA node read from SysFS had negative value (-1), but there must be at least one NUMA node, so returning NUMA node zero\n",
      "2023-06-01 22:50:29.031379: I tensorflow/core/common_runtime/gpu/gpu_device.cc:1561] Found device 0 with properties: \n",
      "pciBusID: 0000:01:00.0 name: NVIDIA GeForce RTX 2080 with Max-Q Design computeCapability: 7.5\n",
      "coreClock: 1.23GHz coreCount: 46 deviceMemorySize: 7.79GiB deviceMemoryBandwidth: 357.69GiB/s\n",
      "2023-06-01 22:50:29.031444: I tensorflow/stream_executor/platform/default/dso_loader.cc:44] Successfully opened dynamic library libcudart.so.10.1\n",
      "2023-06-01 22:50:29.031470: I tensorflow/stream_executor/platform/default/dso_loader.cc:44] Successfully opened dynamic library libcublas.so.10\n",
      "2023-06-01 22:50:29.031480: I tensorflow/stream_executor/platform/default/dso_loader.cc:44] Successfully opened dynamic library libcufft.so.10\n",
      "2023-06-01 22:50:29.031489: I tensorflow/stream_executor/platform/default/dso_loader.cc:44] Successfully opened dynamic library libcurand.so.10\n",
      "2023-06-01 22:50:29.031499: I tensorflow/stream_executor/platform/default/dso_loader.cc:44] Successfully opened dynamic library libcusolver.so.10\n",
      "2023-06-01 22:50:29.031508: I tensorflow/stream_executor/platform/default/dso_loader.cc:44] Successfully opened dynamic library libcusparse.so.10\n",
      "2023-06-01 22:50:29.031518: I tensorflow/stream_executor/platform/default/dso_loader.cc:44] Successfully opened dynamic library libcudnn.so.7\n",
      "2023-06-01 22:50:29.031564: I tensorflow/stream_executor/cuda/cuda_gpu_executor.cc:981] successful NUMA node read from SysFS had negative value (-1), but there must be at least one NUMA node, so returning NUMA node zero\n",
      "2023-06-01 22:50:29.031891: I tensorflow/stream_executor/cuda/cuda_gpu_executor.cc:981] successful NUMA node read from SysFS had negative value (-1), but there must be at least one NUMA node, so returning NUMA node zero\n",
      "2023-06-01 22:50:29.032178: I tensorflow/core/common_runtime/gpu/gpu_device.cc:1703] Adding visible gpu devices: 0\n",
      "2023-06-01 22:50:29.032204: I tensorflow/stream_executor/platform/default/dso_loader.cc:44] Successfully opened dynamic library libcudart.so.10.1\n",
      "2023-06-01 22:50:29.032597: I tensorflow/core/common_runtime/gpu/gpu_device.cc:1102] Device interconnect StreamExecutor with strength 1 edge matrix:\n",
      "2023-06-01 22:50:29.032606: I tensorflow/core/common_runtime/gpu/gpu_device.cc:1108]      0 \n",
      "2023-06-01 22:50:29.032611: I tensorflow/core/common_runtime/gpu/gpu_device.cc:1121] 0:   N \n",
      "2023-06-01 22:50:29.032685: I tensorflow/stream_executor/cuda/cuda_gpu_executor.cc:981] successful NUMA node read from SysFS had negative value (-1), but there must be at least one NUMA node, so returning NUMA node zero\n",
      "2023-06-01 22:50:29.033015: I tensorflow/stream_executor/cuda/cuda_gpu_executor.cc:981] successful NUMA node read from SysFS had negative value (-1), but there must be at least one NUMA node, so returning NUMA node zero\n",
      "2023-06-01 22:50:29.033324: I tensorflow/core/common_runtime/gpu/gpu_device.cc:1247] Created TensorFlow device (/job:localhost/replica:0/task:0/device:GPU:0 with 7023 MB memory) -> physical GPU (device: 0, name: NVIDIA GeForce RTX 2080 with Max-Q Design, pci bus id: 0000:01:00.0, compute capability: 7.5)\n"
     ]
    },
    {
     "name": "stdout",
     "output_type": "stream",
     "text": [
      "tf.Tensor(0.0, shape=(), dtype=float32) tf.Tensor(1.0, shape=(), dtype=float32)\n"
     ]
    }
   ],
   "source": [
    "images_in_batch = next(train_generator)[0]\n",
    "print(type(images_in_batch))\n",
    "print(len(images_in_batch))\n",
    "print(tf.reduce_min(images_in_batch), tf.reduce_max(images_in_batch))"
   ]
  },
  {
   "cell_type": "code",
   "execution_count": 10,
   "metadata": {},
   "outputs": [
    {
     "name": "stdout",
     "output_type": "stream",
     "text": [
      "(15, 224, 224, 3)\n"
     ]
    }
   ],
   "source": [
    "print(images_in_batch.shape)"
   ]
  },
  {
   "cell_type": "code",
   "execution_count": 11,
   "metadata": {},
   "outputs": [
    {
     "data": {
      "text/plain": [
       "<matplotlib.image.AxesImage at 0x7f2b50522280>"
      ]
     },
     "execution_count": 11,
     "metadata": {},
     "output_type": "execute_result"
    },
    {
     "data": {
      "image/png": "[encoded data removed]",
      "text/plain": [
       "<Figure size 640x480 with 1 Axes>"
      ]
     },
     "metadata": {},
     "output_type": "display_data"
    }
   ],
   "source": [
    "single_img = images_in_batch[0]\n",
    "plt.imshow(single_img)"
   ]
  },
  {
   "attachments": {},
   "cell_type": "markdown",
   "metadata": {},
   "source": [
    "# Configuring the Autoencoder netwrok"
   ]
  },
  {
   "cell_type": "code",
   "execution_count": 12,
   "metadata": {},
   "outputs": [
    {
     "name": "stdout",
     "output_type": "stream",
     "text": [
      "(None, 7, 7, 1)\n",
      "(None, 32)\n",
      "Model: \"model\"\n",
      "_________________________________________________________________\n",
      "Layer (type)                 Output Shape              Param #   \n",
      "=================================================================\n",
      "input_1 (InputLayer)         [(None, 224, 224, 3)]     0         \n",
      "_________________________________________________________________\n",
      "conv2d (Conv2D)              (None, 224, 224, 128)     3584      \n",
      "_________________________________________________________________\n",
      "max_pooling2d (MaxPooling2D) (None, 112, 112, 128)     0         \n",
      "_________________________________________________________________\n",
      "conv2d_1 (Conv2D)            (None, 112, 112, 64)      73792     \n",
      "_________________________________________________________________\n",
      "max_pooling2d_1 (MaxPooling2 (None, 56, 56, 64)        0         \n",
      "_________________________________________________________________\n",
      "conv2d_2 (Conv2D)            (None, 56, 56, 32)        18464     \n",
      "_________________________________________________________________\n",
      "max_pooling2d_2 (MaxPooling2 (None, 28, 28, 32)        0         \n",
      "_________________________________________________________________\n",
      "conv2d_3 (Conv2D)            (None, 28, 28, 16)        4624      \n",
      "_________________________________________________________________\n",
      "max_pooling2d_3 (MaxPooling2 (None, 14, 14, 16)        0         \n",
      "_________________________________________________________________\n",
      "conv2d_4 (Conv2D)            (None, 14, 14, 4)         580       \n",
      "_________________________________________________________________\n",
      "max_pooling2d_4 (MaxPooling2 (None, 7, 7, 4)           0         \n",
      "_________________________________________________________________\n",
      "conv2d_5 (Conv2D)            (None, 7, 7, 1)           37        \n",
      "_________________________________________________________________\n",
      "flatten (Flatten)            (None, 49)                0         \n",
      "_________________________________________________________________\n",
      "dense (Dense)                (None, 64)                3200      \n",
      "_________________________________________________________________\n",
      "dense_1 (Dense)              (None, 32)                2080      \n",
      "=================================================================\n",
      "Total params: 106,361\n",
      "Trainable params: 106,361\n",
      "Non-trainable params: 0\n",
      "_________________________________________________________________\n"
     ]
    }
   ],
   "source": [
    "\n",
    "# batch_size = 16\n",
    "latent_dim = 32  # Number of latent dimension parameters\n",
    "\n",
    "input_img = Input(shape=(SIZE, SIZE, 3))\n",
    "x = Conv2D(128, (3, 3), activation='relu', padding='same') (input_img)\n",
    "x = MaxPooling2D((2, 2), padding='same')(x)\n",
    "x = Conv2D(64, (3, 3), activation='relu', padding='same')(x)\n",
    "x = MaxPooling2D((2, 2), padding='same')(x)\n",
    "\n",
    "\n",
    "x = Conv2D(32, (3, 3), activation='relu', padding='same')(x)\n",
    "x = MaxPool2D( (2, 2), padding='same')(x)\n",
    "\n",
    "x = Conv2D(16, (3, 3), activation='relu', padding='same')(x)\n",
    "x = MaxPool2D( (2, 2), padding='same')(x)\n",
    "\n",
    "x = Conv2D(4, (3, 3), activation='relu', padding='same')(x)\n",
    "x = MaxPool2D( (2, 2), padding='same')(x)\n",
    "\n",
    "x = Conv2D(1, (3, 3), activation='relu', padding='same')(x)\n",
    "\n",
    "shape_before_flattening = K.int_shape(x)\n",
    "print(shape_before_flattening)\n",
    "x = Flatten()(x)\n",
    "x = Dense(64, activation='relu')(x)\n",
    "\n",
    "Z = Dense(latent_dim)(x)\n",
    "print(K.int_shape(Z))\n",
    "\n",
    "encoder = Model(input_img,Z)\n",
    "encoder.summary()"
   ]
  },
  {
   "cell_type": "code",
   "execution_count": 13,
   "metadata": {},
   "outputs": [
    {
     "name": "stdout",
     "output_type": "stream",
     "text": [
      "Model: \"model_1\"\n",
      "_________________________________________________________________\n",
      "Layer (type)                 Output Shape              Param #   \n",
      "=================================================================\n",
      "input_2 (InputLayer)         [(None, 32)]              0         \n",
      "_________________________________________________________________\n",
      "intermediate_decoder (Dense) (None, 784)               25872     \n",
      "_________________________________________________________________\n",
      "original_decoder (Dense)     (None, 784)               615440    \n",
      "_________________________________________________________________\n",
      "reshape (Reshape)            (None, 14, 14, 4)         0         \n",
      "_________________________________________________________________\n",
      "conv2d_transpose (Conv2DTran (None, 14, 14, 3)         111       \n",
      "_________________________________________________________________\n",
      "up_sampling2d (UpSampling2D) (None, 28, 28, 3)         0         \n",
      "_________________________________________________________________\n",
      "conv2d_transpose_1 (Conv2DTr (None, 28, 28, 3)         84        \n",
      "_________________________________________________________________\n",
      "up_sampling2d_1 (UpSampling2 (None, 56, 56, 3)         0         \n",
      "_________________________________________________________________\n",
      "conv2d_transpose_2 (Conv2DTr (None, 56, 56, 3)         84        \n",
      "_________________________________________________________________\n",
      "up_sampling2d_2 (UpSampling2 (None, 112, 112, 3)       0         \n",
      "_________________________________________________________________\n",
      "conv2d_transpose_3 (Conv2DTr (None, 112, 112, 3)       84        \n",
      "_________________________________________________________________\n",
      "up_sampling2d_3 (UpSampling2 (None, 224, 224, 3)       0         \n",
      "=================================================================\n",
      "Total params: 641,675\n",
      "Trainable params: 641,675\n",
      "Non-trainable params: 0\n",
      "_________________________________________________________________\n"
     ]
    }
   ],
   "source": [
    "# decoder takes the latent distribution sample as input\n",
    "decoder_input = Input(K.int_shape(Z)[1:])\n",
    "x = Dense(14*14*4, activation='relu', name=\"intermediate_decoder\", input_shape=(latent_dim,))(decoder_input)\n",
    "# Expand to 784 total pixels\n",
    "x = Dense(784, activation='sigmoid', name=\"original_decoder\")(x)\n",
    "x = Reshape((14,14,4),input_shape=(784,))(x)\n",
    "\n",
    "x = Conv2DTranspose(3, (3, 3), padding='same')(x)\n",
    "x = UpSampling2D( (2, 2))(x)\n",
    "\n",
    "x = Conv2DTranspose(3, (3, 3), padding='same')(x)\n",
    "x = UpSampling2D( (2, 2))(x)\n",
    "\n",
    "x = Conv2DTranspose(3, (3, 3), padding='same')(x)\n",
    "x = UpSampling2D( (2, 2))(x)\n",
    "\n",
    "x = Conv2DTranspose(3, (3, 3), padding='same')(x)\n",
    "x = UpSampling2D( (2, 2))(x)\n",
    "\n",
    "# decoder model statement\n",
    "decoder = Model(decoder_input, x)\n",
    "\n",
    "# apply the decoder to the sample from the latent distribution\n",
    "z_decoded = decoder(Z)\n",
    "\n",
    "decoder.summary()"
   ]
  },
  {
   "cell_type": "code",
   "execution_count": 14,
   "metadata": {},
   "outputs": [
    {
     "name": "stdout",
     "output_type": "stream",
     "text": [
      "Model: \"model_2\"\n",
      "_________________________________________________________________\n",
      "Layer (type)                 Output Shape              Param #   \n",
      "=================================================================\n",
      "input_1 (InputLayer)         [(None, 224, 224, 3)]     0         \n",
      "_________________________________________________________________\n",
      "conv2d (Conv2D)              (None, 224, 224, 128)     3584      \n",
      "_________________________________________________________________\n",
      "max_pooling2d (MaxPooling2D) (None, 112, 112, 128)     0         \n",
      "_________________________________________________________________\n",
      "conv2d_1 (Conv2D)            (None, 112, 112, 64)      73792     \n",
      "_________________________________________________________________\n",
      "max_pooling2d_1 (MaxPooling2 (None, 56, 56, 64)        0         \n",
      "_________________________________________________________________\n",
      "conv2d_2 (Conv2D)            (None, 56, 56, 32)        18464     \n",
      "_________________________________________________________________\n",
      "max_pooling2d_2 (MaxPooling2 (None, 28, 28, 32)        0         \n",
      "_________________________________________________________________\n",
      "conv2d_3 (Conv2D)            (None, 28, 28, 16)        4624      \n",
      "_________________________________________________________________\n",
      "max_pooling2d_3 (MaxPooling2 (None, 14, 14, 16)        0         \n",
      "_________________________________________________________________\n",
      "conv2d_4 (Conv2D)            (None, 14, 14, 4)         580       \n",
      "_________________________________________________________________\n",
      "max_pooling2d_4 (MaxPooling2 (None, 7, 7, 4)           0         \n",
      "_________________________________________________________________\n",
      "conv2d_5 (Conv2D)            (None, 7, 7, 1)           37        \n",
      "_________________________________________________________________\n",
      "flatten (Flatten)            (None, 49)                0         \n",
      "_________________________________________________________________\n",
      "dense (Dense)                (None, 64)                3200      \n",
      "_________________________________________________________________\n",
      "dense_1 (Dense)              (None, 32)                2080      \n",
      "_________________________________________________________________\n",
      "model_1 (Model)              (None, 224, 224, 3)       641675    \n",
      "=================================================================\n",
      "Total params: 748,036\n",
      "Trainable params: 748,036\n",
      "Non-trainable params: 0\n",
      "_________________________________________________________________\n"
     ]
    }
   ],
   "source": [
    "# VAE model statement\n",
    "ae = Model(input_img,z_decoded)\n",
    "ae.compile(optimizer='adam', loss='mse')\n",
    "\n",
    "ae.summary()"
   ]
  },
  {
   "cell_type": "code",
   "execution_count": 15,
   "metadata": {},
   "outputs": [
    {
     "name": "stdout",
     "output_type": "stream",
     "text": [
      "Epoch 1/2000\n"
     ]
    },
    {
     "name": "stderr",
     "output_type": "stream",
     "text": [
      "2023-06-01 22:50:37.499077: I tensorflow/stream_executor/platform/default/dso_loader.cc:44] Successfully opened dynamic library libcublas.so.10\n",
      "2023-06-01 22:50:37.710322: I tensorflow/stream_executor/platform/default/dso_loader.cc:44] Successfully opened dynamic library libcudnn.so.7\n"
     ]
    },
    {
     "name": "stdout",
     "output_type": "stream",
     "text": [
      "12/12 [==============================] - 2s 167ms/step - loss: 0.4064 - val_loss: 0.1338\n",
      "Epoch 2/2000\n",
      "12/12 [==============================] - 1s 77ms/step - loss: 0.1207 - val_loss: 0.0574\n",
      "Epoch 3/2000\n",
      "12/12 [==============================] - 1s 75ms/step - loss: 0.0493 - val_loss: 0.0282\n",
      "Epoch 4/2000\n",
      "12/12 [==============================] - 1s 72ms/step - loss: 0.0230 - val_loss: 0.0145\n",
      "Epoch 5/2000\n",
      "12/12 [==============================] - 1s 76ms/step - loss: 0.0148 - val_loss: 0.0120\n",
      "Epoch 6/2000\n",
      "12/12 [==============================] - 1s 75ms/step - loss: 0.0114 - val_loss: 0.0102\n",
      "Epoch 7/2000\n",
      "12/12 [==============================] - 1s 81ms/step - loss: 0.0105 - val_loss: 0.0097\n",
      "Epoch 8/2000\n",
      "12/12 [==============================] - 1s 77ms/step - loss: 0.0104 - val_loss: 0.0093\n",
      "Epoch 9/2000\n",
      "12/12 [==============================] - 1s 81ms/step - loss: 0.0097 - val_loss: 0.0107\n",
      "Epoch 10/2000\n",
      "12/12 [==============================] - 1s 73ms/step - loss: 0.0097 - val_loss: 0.0094\n",
      "Epoch 11/2000\n",
      "12/12 [==============================] - 1s 84ms/step - loss: 0.0092 - val_loss: 0.0088\n",
      "Epoch 12/2000\n",
      "12/12 [==============================] - 1s 80ms/step - loss: 0.0087 - val_loss: 0.0081\n",
      "Epoch 13/2000\n",
      "12/12 [==============================] - 1s 75ms/step - loss: 0.0086 - val_loss: 0.0089\n",
      "Epoch 14/2000\n",
      "12/12 [==============================] - 1s 76ms/step - loss: 0.0089 - val_loss: 0.0074\n",
      "Epoch 15/2000\n",
      "12/12 [==============================] - 1s 75ms/step - loss: 0.0085 - val_loss: 0.0084\n",
      "Epoch 16/2000\n",
      "12/12 [==============================] - 1s 79ms/step - loss: 0.0081 - val_loss: 0.0076\n",
      "Epoch 17/2000\n",
      "12/12 [==============================] - 1s 80ms/step - loss: 0.0079 - val_loss: 0.0078\n",
      "Epoch 18/2000\n",
      "12/12 [==============================] - 1s 79ms/step - loss: 0.0078 - val_loss: 0.0073\n",
      "Epoch 19/2000\n",
      "12/12 [==============================] - 1s 79ms/step - loss: 0.0081 - val_loss: 0.0096\n",
      "Epoch 20/2000\n",
      "12/12 [==============================] - 1s 73ms/step - loss: 0.0084 - val_loss: 0.0089\n",
      "Epoch 21/2000\n",
      "12/12 [==============================] - 1s 75ms/step - loss: 0.0078 - val_loss: 0.0072\n",
      "Epoch 22/2000\n",
      "12/12 [==============================] - 1s 74ms/step - loss: 0.0075 - val_loss: 0.0062\n",
      "Epoch 23/2000\n",
      "12/12 [==============================] - 1s 78ms/step - loss: 0.0078 - val_loss: 0.0063\n",
      "Epoch 24/2000\n",
      "12/12 [==============================] - 1s 73ms/step - loss: 0.0077 - val_loss: 0.0068\n",
      "Epoch 25/2000\n",
      "12/12 [==============================] - 1s 77ms/step - loss: 0.0080 - val_loss: 0.0102\n",
      "Epoch 26/2000\n",
      "12/12 [==============================] - 1s 76ms/step - loss: 0.0081 - val_loss: 0.0094\n",
      "Epoch 27/2000\n",
      "12/12 [==============================] - 1s 72ms/step - loss: 0.0077 - val_loss: 0.0080\n",
      "Epoch 28/2000\n",
      "12/12 [==============================] - 1s 76ms/step - loss: 0.0072 - val_loss: 0.0085\n",
      "Epoch 29/2000\n",
      "12/12 [==============================] - 1s 71ms/step - loss: 0.0071 - val_loss: 0.0066\n",
      "Epoch 30/2000\n",
      "12/12 [==============================] - 1s 75ms/step - loss: 0.0068 - val_loss: 0.0068\n",
      "Epoch 31/2000\n",
      "12/12 [==============================] - 1s 78ms/step - loss: 0.0070 - val_loss: 0.0092\n",
      "Epoch 32/2000\n",
      "12/12 [==============================] - 1s 79ms/step - loss: 0.0072 - val_loss: 0.0093\n",
      "Epoch 33/2000\n",
      "12/12 [==============================] - 1s 73ms/step - loss: 0.0072 - val_loss: 0.0064\n",
      "Epoch 34/2000\n",
      "12/12 [==============================] - 1s 76ms/step - loss: 0.0069 - val_loss: 0.0062\n",
      "Epoch 35/2000\n",
      "12/12 [==============================] - 1s 72ms/step - loss: 0.0066 - val_loss: 0.0059\n",
      "Epoch 36/2000\n",
      "12/12 [==============================] - 1s 97ms/step - loss: 0.0065 - val_loss: 0.0066\n",
      "Epoch 37/2000\n",
      "12/12 [==============================] - 1s 80ms/step - loss: 0.0066 - val_loss: 0.0064\n",
      "Epoch 38/2000\n",
      "12/12 [==============================] - 1s 76ms/step - loss: 0.0065 - val_loss: 0.0062\n",
      "Epoch 39/2000\n",
      "12/12 [==============================] - 1s 73ms/step - loss: 0.0063 - val_loss: 0.0060\n",
      "Epoch 40/2000\n",
      "12/12 [==============================] - 1s 77ms/step - loss: 0.0063 - val_loss: 0.0058\n",
      "Epoch 41/2000\n",
      "12/12 [==============================] - 1s 70ms/step - loss: 0.0062 - val_loss: 0.0062\n",
      "Epoch 42/2000\n",
      "12/12 [==============================] - 1s 74ms/step - loss: 0.0063 - val_loss: 0.0050\n",
      "Epoch 43/2000\n",
      "12/12 [==============================] - 1s 79ms/step - loss: 0.0068 - val_loss: 0.0053\n",
      "Epoch 44/2000\n",
      "12/12 [==============================] - 1s 77ms/step - loss: 0.0074 - val_loss: 0.0076\n",
      "Epoch 45/2000\n",
      "12/12 [==============================] - 1s 75ms/step - loss: 0.0069 - val_loss: 0.0069\n",
      "Epoch 46/2000\n",
      "12/12 [==============================] - 1s 79ms/step - loss: 0.0075 - val_loss: 0.0073\n",
      "Epoch 47/2000\n",
      "12/12 [==============================] - 1s 77ms/step - loss: 0.0071 - val_loss: 0.0060\n",
      "Epoch 48/2000\n",
      "12/12 [==============================] - 1s 76ms/step - loss: 0.0066 - val_loss: 0.0052\n",
      "Epoch 49/2000\n",
      "12/12 [==============================] - 1s 74ms/step - loss: 0.0060 - val_loss: 0.0076\n",
      "Epoch 50/2000\n",
      "12/12 [==============================] - 1s 78ms/step - loss: 0.0067 - val_loss: 0.0063\n",
      "Epoch 51/2000\n",
      "12/12 [==============================] - 1s 81ms/step - loss: 0.0078 - val_loss: 0.0051\n",
      "Epoch 52/2000\n",
      "12/12 [==============================] - 1s 76ms/step - loss: 0.0066 - val_loss: 0.0050\n",
      "Epoch 53/2000\n",
      "12/12 [==============================] - 1s 74ms/step - loss: 0.0063 - val_loss: 0.0056\n",
      "Epoch 54/2000\n",
      "12/12 [==============================] - 1s 78ms/step - loss: 0.0069 - val_loss: 0.0073\n",
      "Epoch 55/2000\n",
      "12/12 [==============================] - 1s 77ms/step - loss: 0.0059 - val_loss: 0.0060\n",
      "Epoch 56/2000\n",
      "12/12 [==============================] - 1s 75ms/step - loss: 0.0058 - val_loss: 0.0072\n",
      "Epoch 57/2000\n",
      "12/12 [==============================] - 1s 78ms/step - loss: 0.0060 - val_loss: 0.0078\n",
      "Epoch 58/2000\n",
      "12/12 [==============================] - 1s 75ms/step - loss: 0.0060 - val_loss: 0.0065\n",
      "Epoch 59/2000\n",
      "12/12 [==============================] - 1s 102ms/step - loss: 0.0059 - val_loss: 0.0051\n",
      "Epoch 60/2000\n",
      "12/12 [==============================] - 1s 76ms/step - loss: 0.0063 - val_loss: 0.0048\n",
      "Epoch 61/2000\n",
      "12/12 [==============================] - 1s 74ms/step - loss: 0.0063 - val_loss: 0.0049\n",
      "Epoch 62/2000\n",
      "12/12 [==============================] - 1s 76ms/step - loss: 0.0062 - val_loss: 0.0062\n",
      "Epoch 63/2000\n",
      "12/12 [==============================] - 1s 79ms/step - loss: 0.0058 - val_loss: 0.0080\n",
      "Epoch 64/2000\n",
      "12/12 [==============================] - 1s 80ms/step - loss: 0.0057 - val_loss: 0.0050\n",
      "Epoch 65/2000\n",
      "12/12 [==============================] - 1s 81ms/step - loss: 0.0055 - val_loss: 0.0052\n",
      "Epoch 66/2000\n",
      "12/12 [==============================] - 1s 79ms/step - loss: 0.0055 - val_loss: 0.0061\n",
      "Epoch 67/2000\n",
      "12/12 [==============================] - 1s 82ms/step - loss: 0.0056 - val_loss: 0.0069\n",
      "Epoch 68/2000\n",
      "12/12 [==============================] - 1s 84ms/step - loss: 0.0059 - val_loss: 0.0046\n",
      "Epoch 69/2000\n",
      "12/12 [==============================] - 1s 85ms/step - loss: 0.0055 - val_loss: 0.0062\n",
      "Epoch 70/2000\n",
      "12/12 [==============================] - 1s 81ms/step - loss: 0.0054 - val_loss: 0.0052\n",
      "Epoch 71/2000\n",
      "12/12 [==============================] - 1s 79ms/step - loss: 0.0059 - val_loss: 0.0104\n",
      "Epoch 72/2000\n",
      "12/12 [==============================] - 1s 79ms/step - loss: 0.0067 - val_loss: 0.0062\n",
      "Epoch 73/2000\n",
      "12/12 [==============================] - 1s 86ms/step - loss: 0.0057 - val_loss: 0.0046\n",
      "Epoch 74/2000\n",
      "12/12 [==============================] - 1s 79ms/step - loss: 0.0062 - val_loss: 0.0044\n",
      "Epoch 75/2000\n",
      "12/12 [==============================] - 1s 83ms/step - loss: 0.0055 - val_loss: 0.0066\n",
      "Epoch 76/2000\n",
      "12/12 [==============================] - 1s 84ms/step - loss: 0.0062 - val_loss: 0.0087\n",
      "Epoch 77/2000\n",
      "12/12 [==============================] - 1s 79ms/step - loss: 0.0059 - val_loss: 0.0074\n",
      "Epoch 78/2000\n",
      "12/12 [==============================] - 1s 81ms/step - loss: 0.0056 - val_loss: 0.0050\n",
      "Epoch 79/2000\n",
      "12/12 [==============================] - 1s 96ms/step - loss: 0.0053 - val_loss: 0.0056\n",
      "Epoch 80/2000\n",
      "12/12 [==============================] - 1s 79ms/step - loss: 0.0053 - val_loss: 0.0094\n",
      "Epoch 81/2000\n",
      "12/12 [==============================] - 1s 81ms/step - loss: 0.0063 - val_loss: 0.0052\n",
      "Epoch 82/2000\n",
      "12/12 [==============================] - 1s 78ms/step - loss: 0.0055 - val_loss: 0.0047\n",
      "Epoch 83/2000\n",
      "12/12 [==============================] - 1s 80ms/step - loss: 0.0054 - val_loss: 0.0044\n",
      "Epoch 84/2000\n",
      "12/12 [==============================] - 1s 82ms/step - loss: 0.0052 - val_loss: 0.0065\n",
      "Epoch 85/2000\n",
      "12/12 [==============================] - 1s 80ms/step - loss: 0.0053 - val_loss: 0.0064\n",
      "Epoch 86/2000\n",
      "12/12 [==============================] - 1s 80ms/step - loss: 0.0050 - val_loss: 0.0045\n",
      "Epoch 87/2000\n",
      "12/12 [==============================] - 1s 80ms/step - loss: 0.0050 - val_loss: 0.0042\n",
      "Epoch 88/2000\n",
      "12/12 [==============================] - 1s 80ms/step - loss: 0.0048 - val_loss: 0.0042\n",
      "Epoch 89/2000\n",
      "12/12 [==============================] - 1s 75ms/step - loss: 0.0050 - val_loss: 0.0041\n",
      "Epoch 90/2000\n",
      "12/12 [==============================] - 1s 79ms/step - loss: 0.0054 - val_loss: 0.0055\n",
      "Epoch 91/2000\n",
      "12/12 [==============================] - 1s 78ms/step - loss: 0.0051 - val_loss: 0.0044\n",
      "Epoch 92/2000\n",
      "12/12 [==============================] - 1s 84ms/step - loss: 0.0053 - val_loss: 0.0044\n",
      "Epoch 93/2000\n",
      "12/12 [==============================] - 1s 82ms/step - loss: 0.0049 - val_loss: 0.0042\n",
      "Epoch 94/2000\n",
      "12/12 [==============================] - 1s 78ms/step - loss: 0.0050 - val_loss: 0.0049\n",
      "Epoch 95/2000\n",
      "12/12 [==============================] - 1s 86ms/step - loss: 0.0047 - val_loss: 0.0041\n",
      "Epoch 96/2000\n",
      "12/12 [==============================] - 1s 80ms/step - loss: 0.0046 - val_loss: 0.0040\n",
      "Epoch 97/2000\n",
      "12/12 [==============================] - 1s 78ms/step - loss: 0.0047 - val_loss: 0.0039\n",
      "Epoch 98/2000\n",
      "12/12 [==============================] - 1s 78ms/step - loss: 0.0046 - val_loss: 0.0041\n",
      "Epoch 99/2000\n",
      "12/12 [==============================] - 1s 94ms/step - loss: 0.0046 - val_loss: 0.0040\n",
      "Epoch 100/2000\n",
      "12/12 [==============================] - 1s 84ms/step - loss: 0.0046 - val_loss: 0.0049\n",
      "Epoch 101/2000\n",
      "12/12 [==============================] - 1s 82ms/step - loss: 0.0048 - val_loss: 0.0039\n",
      "Epoch 102/2000\n",
      "12/12 [==============================] - 1s 82ms/step - loss: 0.0044 - val_loss: 0.0041\n",
      "Epoch 103/2000\n",
      "12/12 [==============================] - 1s 78ms/step - loss: 0.0045 - val_loss: 0.0041\n",
      "Epoch 104/2000\n",
      "12/12 [==============================] - 1s 81ms/step - loss: 0.0045 - val_loss: 0.0039\n",
      "Epoch 105/2000\n",
      "12/12 [==============================] - 1s 84ms/step - loss: 0.0046 - val_loss: 0.0054\n",
      "Epoch 106/2000\n",
      "12/12 [==============================] - 1s 78ms/step - loss: 0.0045 - val_loss: 0.0045\n",
      "Epoch 107/2000\n",
      "12/12 [==============================] - 1s 81ms/step - loss: 0.0044 - val_loss: 0.0043\n",
      "Epoch 108/2000\n",
      "12/12 [==============================] - 1s 79ms/step - loss: 0.0046 - val_loss: 0.0041\n",
      "Epoch 109/2000\n",
      "12/12 [==============================] - 1s 84ms/step - loss: 0.0047 - val_loss: 0.0049\n",
      "Epoch 110/2000\n",
      "12/12 [==============================] - 1s 81ms/step - loss: 0.0043 - val_loss: 0.0038\n",
      "Epoch 111/2000\n",
      "12/12 [==============================] - 1s 89ms/step - loss: 0.0044 - val_loss: 0.0039\n",
      "Epoch 112/2000\n",
      "12/12 [==============================] - 1s 88ms/step - loss: 0.0046 - val_loss: 0.0038\n",
      "Epoch 113/2000\n",
      "12/12 [==============================] - 1s 84ms/step - loss: 0.0041 - val_loss: 0.0042\n",
      "Epoch 114/2000\n",
      "12/12 [==============================] - 1s 83ms/step - loss: 0.0042 - val_loss: 0.0040\n",
      "Epoch 115/2000\n",
      "12/12 [==============================] - 1s 85ms/step - loss: 0.0041 - val_loss: 0.0038\n",
      "Epoch 116/2000\n",
      "12/12 [==============================] - 1s 81ms/step - loss: 0.0041 - val_loss: 0.0037\n",
      "Epoch 117/2000\n",
      "12/12 [==============================] - 1s 84ms/step - loss: 0.0040 - val_loss: 0.0040\n",
      "Epoch 118/2000\n",
      "12/12 [==============================] - 1s 104ms/step - loss: 0.0043 - val_loss: 0.0044\n",
      "Epoch 119/2000\n",
      "12/12 [==============================] - 1s 84ms/step - loss: 0.0044 - val_loss: 0.0038\n",
      "Epoch 120/2000\n",
      "12/12 [==============================] - 1s 76ms/step - loss: 0.0043 - val_loss: 0.0041\n",
      "Epoch 121/2000\n",
      "12/12 [==============================] - 1s 80ms/step - loss: 0.0041 - val_loss: 0.0040\n",
      "Epoch 122/2000\n",
      "12/12 [==============================] - 1s 87ms/step - loss: 0.0042 - val_loss: 0.0040\n",
      "Epoch 123/2000\n",
      "12/12 [==============================] - 1s 80ms/step - loss: 0.0041 - val_loss: 0.0047\n",
      "Epoch 124/2000\n",
      "12/12 [==============================] - 1s 82ms/step - loss: 0.0042 - val_loss: 0.0037\n",
      "Epoch 125/2000\n",
      "12/12 [==============================] - 1s 79ms/step - loss: 0.0044 - val_loss: 0.0038\n",
      "Epoch 126/2000\n",
      "12/12 [==============================] - 1s 85ms/step - loss: 0.0044 - val_loss: 0.0045\n",
      "Epoch 127/2000\n",
      "12/12 [==============================] - 1s 81ms/step - loss: 0.0046 - val_loss: 0.0037\n",
      "Epoch 128/2000\n",
      "12/12 [==============================] - 1s 79ms/step - loss: 0.0043 - val_loss: 0.0039\n",
      "Epoch 129/2000\n",
      "12/12 [==============================] - 1s 80ms/step - loss: 0.0043 - val_loss: 0.0041\n",
      "Epoch 130/2000\n",
      "12/12 [==============================] - 1s 83ms/step - loss: 0.0041 - val_loss: 0.0046\n",
      "Epoch 131/2000\n",
      "12/12 [==============================] - 1s 80ms/step - loss: 0.0041 - val_loss: 0.0037\n",
      "Epoch 132/2000\n",
      "12/12 [==============================] - 1s 78ms/step - loss: 0.0040 - val_loss: 0.0037\n",
      "Epoch 133/2000\n",
      "12/12 [==============================] - 1s 82ms/step - loss: 0.0043 - val_loss: 0.0037\n",
      "Epoch 134/2000\n",
      "12/12 [==============================] - 1s 84ms/step - loss: 0.0043 - val_loss: 0.0048\n",
      "Epoch 135/2000\n",
      "12/12 [==============================] - 1s 84ms/step - loss: 0.0043 - val_loss: 0.0037\n",
      "Epoch 136/2000\n",
      "12/12 [==============================] - 1s 77ms/step - loss: 0.0043 - val_loss: 0.0037\n",
      "Epoch 137/2000\n",
      "12/12 [==============================] - 1s 81ms/step - loss: 0.0043 - val_loss: 0.0041\n",
      "Epoch 138/2000\n",
      "12/12 [==============================] - 1s 80ms/step - loss: 0.0041 - val_loss: 0.0036\n",
      "Epoch 139/2000\n",
      "12/12 [==============================] - 1s 76ms/step - loss: 0.0040 - val_loss: 0.0038\n",
      "Epoch 140/2000\n",
      "12/12 [==============================] - 1s 81ms/step - loss: 0.0039 - val_loss: 0.0037\n",
      "Epoch 141/2000\n",
      "12/12 [==============================] - 1s 87ms/step - loss: 0.0040 - val_loss: 0.0038\n",
      "Epoch 142/2000\n",
      "12/12 [==============================] - 1s 101ms/step - loss: 0.0040 - val_loss: 0.0036\n",
      "Epoch 143/2000\n",
      "12/12 [==============================] - 1s 85ms/step - loss: 0.0039 - val_loss: 0.0036\n",
      "Epoch 144/2000\n",
      "12/12 [==============================] - 1s 85ms/step - loss: 0.0039 - val_loss: 0.0037\n",
      "Epoch 145/2000\n",
      "12/12 [==============================] - 1s 81ms/step - loss: 0.0040 - val_loss: 0.0037\n",
      "Epoch 146/2000\n",
      "12/12 [==============================] - 1s 78ms/step - loss: 0.0042 - val_loss: 0.0039\n",
      "Epoch 147/2000\n",
      "12/12 [==============================] - 1s 85ms/step - loss: 0.0040 - val_loss: 0.0037\n",
      "Epoch 148/2000\n",
      "12/12 [==============================] - 1s 81ms/step - loss: 0.0039 - val_loss: 0.0036\n",
      "Epoch 149/2000\n",
      "12/12 [==============================] - 1s 80ms/step - loss: 0.0042 - val_loss: 0.0037\n",
      "Epoch 150/2000\n",
      "12/12 [==============================] - 1s 84ms/step - loss: 0.0041 - val_loss: 0.0044\n",
      "Epoch 151/2000\n",
      "12/12 [==============================] - 1s 78ms/step - loss: 0.0040 - val_loss: 0.0038\n",
      "Epoch 152/2000\n",
      "12/12 [==============================] - 1s 83ms/step - loss: 0.0039 - val_loss: 0.0036\n",
      "Epoch 153/2000\n",
      "12/12 [==============================] - 1s 81ms/step - loss: 0.0039 - val_loss: 0.0046\n",
      "Epoch 154/2000\n",
      "12/12 [==============================] - 1s 83ms/step - loss: 0.0041 - val_loss: 0.0036\n",
      "Epoch 155/2000\n",
      "12/12 [==============================] - 1s 81ms/step - loss: 0.0038 - val_loss: 0.0036\n",
      "Epoch 156/2000\n",
      "12/12 [==============================] - 1s 80ms/step - loss: 0.0038 - val_loss: 0.0037\n",
      "Epoch 157/2000\n",
      "12/12 [==============================] - 1s 81ms/step - loss: 0.0039 - val_loss: 0.0040\n",
      "Epoch 158/2000\n",
      "12/12 [==============================] - 1s 78ms/step - loss: 0.0041 - val_loss: 0.0036\n",
      "Epoch 159/2000\n",
      "12/12 [==============================] - 1s 84ms/step - loss: 0.0038 - val_loss: 0.0037\n",
      "Epoch 160/2000\n",
      "12/12 [==============================] - 1s 82ms/step - loss: 0.0040 - val_loss: 0.0038\n",
      "Epoch 161/2000\n",
      "12/12 [==============================] - 1s 85ms/step - loss: 0.0038 - val_loss: 0.0037\n",
      "Epoch 162/2000\n",
      "12/12 [==============================] - 1s 84ms/step - loss: 0.0040 - val_loss: 0.0038\n",
      "Epoch 163/2000\n",
      "12/12 [==============================] - 1s 84ms/step - loss: 0.0040 - val_loss: 0.0045\n",
      "Epoch 164/2000\n",
      "12/12 [==============================] - 1s 97ms/step - loss: 0.0040 - val_loss: 0.0037\n",
      "Epoch 165/2000\n",
      "12/12 [==============================] - 1s 84ms/step - loss: 0.0042 - val_loss: 0.0035\n",
      "Epoch 166/2000\n",
      "12/12 [==============================] - 1s 85ms/step - loss: 0.0039 - val_loss: 0.0036\n",
      "Epoch 167/2000\n",
      "12/12 [==============================] - 1s 82ms/step - loss: 0.0038 - val_loss: 0.0038\n",
      "Epoch 168/2000\n",
      "12/12 [==============================] - 1s 86ms/step - loss: 0.0040 - val_loss: 0.0035\n",
      "Epoch 169/2000\n",
      "12/12 [==============================] - 1s 87ms/step - loss: 0.0038 - val_loss: 0.0038\n",
      "Epoch 170/2000\n",
      "12/12 [==============================] - 1s 86ms/step - loss: 0.0038 - val_loss: 0.0035\n",
      "Epoch 171/2000\n",
      "12/12 [==============================] - 1s 88ms/step - loss: 0.0038 - val_loss: 0.0035\n",
      "Epoch 172/2000\n",
      "12/12 [==============================] - 1s 82ms/step - loss: 0.0039 - val_loss: 0.0035\n",
      "Epoch 173/2000\n",
      "12/12 [==============================] - 1s 85ms/step - loss: 0.0039 - val_loss: 0.0037\n",
      "Epoch 174/2000\n",
      "12/12 [==============================] - 1s 82ms/step - loss: 0.0039 - val_loss: 0.0036\n",
      "Epoch 175/2000\n",
      "12/12 [==============================] - 1s 84ms/step - loss: 0.0038 - val_loss: 0.0035\n",
      "Epoch 176/2000\n",
      "12/12 [==============================] - 1s 83ms/step - loss: 0.0037 - val_loss: 0.0036\n",
      "Epoch 177/2000\n",
      "12/12 [==============================] - 1s 88ms/step - loss: 0.0037 - val_loss: 0.0035\n",
      "Epoch 178/2000\n",
      "12/12 [==============================] - 1s 82ms/step - loss: 0.0038 - val_loss: 0.0036\n",
      "Epoch 179/2000\n",
      "12/12 [==============================] - 1s 83ms/step - loss: 0.0039 - val_loss: 0.0035\n",
      "Epoch 180/2000\n",
      "12/12 [==============================] - 1s 80ms/step - loss: 0.0038 - val_loss: 0.0052\n",
      "Epoch 181/2000\n",
      "12/12 [==============================] - 1s 85ms/step - loss: 0.0043 - val_loss: 0.0036\n",
      "Epoch 182/2000\n",
      "12/12 [==============================] - 1s 89ms/step - loss: 0.0040 - val_loss: 0.0037\n",
      "Epoch 183/2000\n",
      "12/12 [==============================] - 1s 87ms/step - loss: 0.0038 - val_loss: 0.0035\n",
      "Epoch 184/2000\n",
      "12/12 [==============================] - 1s 88ms/step - loss: 0.0038 - val_loss: 0.0035\n",
      "Epoch 185/2000\n",
      "12/12 [==============================] - 1s 102ms/step - loss: 0.0038 - val_loss: 0.0035\n",
      "Epoch 186/2000\n",
      "12/12 [==============================] - 1s 110ms/step - loss: 0.0038 - val_loss: 0.0036\n",
      "Epoch 187/2000\n",
      "12/12 [==============================] - 1s 100ms/step - loss: 0.0038 - val_loss: 0.0035\n",
      "Epoch 188/2000\n",
      "12/12 [==============================] - 1s 83ms/step - loss: 0.0037 - val_loss: 0.0035\n",
      "Epoch 189/2000\n",
      "12/12 [==============================] - 1s 91ms/step - loss: 0.0038 - val_loss: 0.0035\n",
      "Epoch 190/2000\n",
      "12/12 [==============================] - 1s 84ms/step - loss: 0.0038 - val_loss: 0.0036\n",
      "Epoch 191/2000\n",
      "12/12 [==============================] - 1s 83ms/step - loss: 0.0043 - val_loss: 0.0044\n",
      "Epoch 192/2000\n",
      "12/12 [==============================] - 1s 84ms/step - loss: 0.0040 - val_loss: 0.0035\n",
      "Epoch 193/2000\n",
      "12/12 [==============================] - 1s 84ms/step - loss: 0.0038 - val_loss: 0.0035\n",
      "Epoch 194/2000\n",
      "12/12 [==============================] - 1s 87ms/step - loss: 0.0037 - val_loss: 0.0034\n",
      "Epoch 195/2000\n",
      "12/12 [==============================] - 1s 87ms/step - loss: 0.0039 - val_loss: 0.0035\n",
      "Epoch 196/2000\n",
      "12/12 [==============================] - 1s 94ms/step - loss: 0.0037 - val_loss: 0.0039\n",
      "Epoch 197/2000\n",
      "12/12 [==============================] - 1s 88ms/step - loss: 0.0037 - val_loss: 0.0035\n",
      "Epoch 198/2000\n",
      "12/12 [==============================] - 1s 92ms/step - loss: 0.0037 - val_loss: 0.0038\n",
      "Epoch 199/2000\n",
      "12/12 [==============================] - 1s 90ms/step - loss: 0.0037 - val_loss: 0.0035\n",
      "Epoch 200/2000\n",
      "12/12 [==============================] - 1s 83ms/step - loss: 0.0039 - val_loss: 0.0036\n",
      "Epoch 201/2000\n",
      "12/12 [==============================] - 1s 85ms/step - loss: 0.0038 - val_loss: 0.0036\n",
      "Epoch 202/2000\n",
      "12/12 [==============================] - 1s 91ms/step - loss: 0.0037 - val_loss: 0.0038\n",
      "Epoch 203/2000\n",
      "12/12 [==============================] - 1s 89ms/step - loss: 0.0038 - val_loss: 0.0035\n",
      "Epoch 204/2000\n",
      "12/12 [==============================] - 1s 90ms/step - loss: 0.0040 - val_loss: 0.0034\n",
      "Epoch 205/2000\n",
      "12/12 [==============================] - 1s 89ms/step - loss: 0.0040 - val_loss: 0.0040\n",
      "Epoch 206/2000\n",
      "12/12 [==============================] - 1s 92ms/step - loss: 0.0039 - val_loss: 0.0035\n",
      "Epoch 207/2000\n",
      "12/12 [==============================] - 1s 109ms/step - loss: 0.0037 - val_loss: 0.0034\n",
      "Epoch 208/2000\n",
      "12/12 [==============================] - 1s 89ms/step - loss: 0.0037 - val_loss: 0.0034\n",
      "Epoch 209/2000\n",
      "12/12 [==============================] - 1s 85ms/step - loss: 0.0037 - val_loss: 0.0035\n",
      "Epoch 210/2000\n",
      "12/12 [==============================] - 1s 89ms/step - loss: 0.0037 - val_loss: 0.0034\n",
      "Epoch 211/2000\n",
      "12/12 [==============================] - 1s 93ms/step - loss: 0.0036 - val_loss: 0.0034\n",
      "Epoch 212/2000\n",
      "12/12 [==============================] - 1s 91ms/step - loss: 0.0036 - val_loss: 0.0036\n",
      "Epoch 213/2000\n",
      "12/12 [==============================] - 1s 94ms/step - loss: 0.0039 - val_loss: 0.0035\n",
      "Epoch 214/2000\n",
      "12/12 [==============================] - 1s 88ms/step - loss: 0.0037 - val_loss: 0.0039\n",
      "Epoch 215/2000\n",
      "12/12 [==============================] - 1s 87ms/step - loss: 0.0038 - val_loss: 0.0034\n",
      "Epoch 216/2000\n",
      "12/12 [==============================] - 1s 92ms/step - loss: 0.0037 - val_loss: 0.0035\n",
      "Epoch 217/2000\n",
      "12/12 [==============================] - 1s 91ms/step - loss: 0.0037 - val_loss: 0.0034\n",
      "Epoch 218/2000\n",
      "12/12 [==============================] - 1s 87ms/step - loss: 0.0038 - val_loss: 0.0040\n",
      "Epoch 219/2000\n",
      "12/12 [==============================] - 1s 94ms/step - loss: 0.0040 - val_loss: 0.0035\n",
      "Epoch 220/2000\n",
      "12/12 [==============================] - 1s 90ms/step - loss: 0.0038 - val_loss: 0.0034\n",
      "Epoch 221/2000\n",
      "12/12 [==============================] - 1s 87ms/step - loss: 0.0038 - val_loss: 0.0041\n",
      "Epoch 222/2000\n",
      "12/12 [==============================] - 1s 88ms/step - loss: 0.0038 - val_loss: 0.0035\n",
      "Epoch 223/2000\n",
      "12/12 [==============================] - 1s 97ms/step - loss: 0.0037 - val_loss: 0.0035\n",
      "Epoch 224/2000\n",
      "12/12 [==============================] - 1s 95ms/step - loss: 0.0036 - val_loss: 0.0033\n",
      "Epoch 225/2000\n",
      "12/12 [==============================] - 1s 91ms/step - loss: 0.0036 - val_loss: 0.0036\n",
      "Epoch 226/2000\n",
      "12/12 [==============================] - 1s 107ms/step - loss: 0.0036 - val_loss: 0.0034\n",
      "Epoch 227/2000\n",
      "12/12 [==============================] - 1s 110ms/step - loss: 0.0036 - val_loss: 0.0039\n",
      "Epoch 228/2000\n",
      "12/12 [==============================] - 1s 106ms/step - loss: 0.0037 - val_loss: 0.0034\n",
      "Epoch 229/2000\n",
      "12/12 [==============================] - 1s 109ms/step - loss: 0.0038 - val_loss: 0.0035\n",
      "Epoch 230/2000\n",
      "12/12 [==============================] - 1s 100ms/step - loss: 0.0038 - val_loss: 0.0037\n",
      "Epoch 231/2000\n",
      "12/12 [==============================] - 1s 115ms/step - loss: 0.0039 - val_loss: 0.0034\n",
      "Epoch 232/2000\n",
      "12/12 [==============================] - 1s 117ms/step - loss: 0.0041 - val_loss: 0.0040\n",
      "Epoch 233/2000\n",
      "12/12 [==============================] - 1s 108ms/step - loss: 0.0039 - val_loss: 0.0034\n",
      "Epoch 234/2000\n",
      "12/12 [==============================] - 1s 105ms/step - loss: 0.0036 - val_loss: 0.0038\n",
      "Epoch 235/2000\n",
      "12/12 [==============================] - 1s 90ms/step - loss: 0.0038 - val_loss: 0.0034\n",
      "Epoch 236/2000\n",
      "12/12 [==============================] - 1s 91ms/step - loss: 0.0037 - val_loss: 0.0037\n",
      "Epoch 237/2000\n",
      "12/12 [==============================] - 1s 90ms/step - loss: 0.0036 - val_loss: 0.0034\n",
      "Epoch 238/2000\n",
      "12/12 [==============================] - 1s 88ms/step - loss: 0.0036 - val_loss: 0.0034\n",
      "Epoch 239/2000\n",
      "12/12 [==============================] - 1s 89ms/step - loss: 0.0036 - val_loss: 0.0034\n",
      "Epoch 240/2000\n",
      "12/12 [==============================] - 1s 88ms/step - loss: 0.0036 - val_loss: 0.0036\n",
      "Epoch 241/2000\n",
      "12/12 [==============================] - 1s 92ms/step - loss: 0.0036 - val_loss: 0.0034\n",
      "Epoch 242/2000\n",
      "12/12 [==============================] - 1s 88ms/step - loss: 0.0036 - val_loss: 0.0034\n",
      "Epoch 243/2000\n",
      "12/12 [==============================] - 1s 88ms/step - loss: 0.0038 - val_loss: 0.0038\n",
      "Epoch 244/2000\n",
      "12/12 [==============================] - 1s 88ms/step - loss: 0.0036 - val_loss: 0.0033\n",
      "Epoch 245/2000\n",
      "12/12 [==============================] - 1s 91ms/step - loss: 0.0037 - val_loss: 0.0035\n",
      "Epoch 246/2000\n",
      "12/12 [==============================] - 1s 88ms/step - loss: 0.0037 - val_loss: 0.0035\n",
      "Epoch 247/2000\n",
      "12/12 [==============================] - 1s 85ms/step - loss: 0.0036 - val_loss: 0.0037\n",
      "Epoch 248/2000\n",
      "12/12 [==============================] - 1s 89ms/step - loss: 0.0036 - val_loss: 0.0033\n",
      "Epoch 249/2000\n",
      "12/12 [==============================] - 1s 91ms/step - loss: 0.0036 - val_loss: 0.0036\n",
      "Epoch 250/2000\n",
      "12/12 [==============================] - 1s 94ms/step - loss: 0.0036 - val_loss: 0.0035\n",
      "Epoch 251/2000\n",
      "12/12 [==============================] - 1s 91ms/step - loss: 0.0037 - val_loss: 0.0033\n",
      "Epoch 252/2000\n",
      "12/12 [==============================] - 1s 88ms/step - loss: 0.0039 - val_loss: 0.0041\n",
      "Epoch 253/2000\n",
      "12/12 [==============================] - 1s 91ms/step - loss: 0.0037 - val_loss: 0.0036\n",
      "Epoch 254/2000\n",
      "12/12 [==============================] - 1s 91ms/step - loss: 0.0035 - val_loss: 0.0035\n",
      "Epoch 255/2000\n",
      "12/12 [==============================] - 1s 101ms/step - loss: 0.0036 - val_loss: 0.0034\n",
      "Epoch 256/2000\n",
      "12/12 [==============================] - 1s 108ms/step - loss: 0.0036 - val_loss: 0.0034\n",
      "Epoch 257/2000\n",
      "12/12 [==============================] - 1s 110ms/step - loss: 0.0037 - val_loss: 0.0034\n",
      "Epoch 258/2000\n",
      "12/12 [==============================] - 1s 113ms/step - loss: 0.0036 - val_loss: 0.0034\n",
      "Epoch 259/2000\n",
      "12/12 [==============================] - 1s 89ms/step - loss: 0.0036 - val_loss: 0.0034\n",
      "Epoch 260/2000\n",
      "12/12 [==============================] - 1s 86ms/step - loss: 0.0036 - val_loss: 0.0034\n",
      "Epoch 261/2000\n",
      "12/12 [==============================] - 1s 88ms/step - loss: 0.0035 - val_loss: 0.0036\n",
      "Epoch 262/2000\n",
      "12/12 [==============================] - 1s 88ms/step - loss: 0.0036 - val_loss: 0.0034\n",
      "Epoch 263/2000\n",
      "12/12 [==============================] - 1s 88ms/step - loss: 0.0037 - val_loss: 0.0035\n",
      "Epoch 264/2000\n",
      "12/12 [==============================] - 1s 88ms/step - loss: 0.0035 - val_loss: 0.0035\n",
      "Epoch 265/2000\n",
      "12/12 [==============================] - 1s 89ms/step - loss: 0.0035 - val_loss: 0.0034\n",
      "Epoch 266/2000\n",
      "12/12 [==============================] - 1s 88ms/step - loss: 0.0035 - val_loss: 0.0034\n",
      "Epoch 267/2000\n",
      "12/12 [==============================] - 1s 92ms/step - loss: 0.0035 - val_loss: 0.0033\n",
      "Epoch 268/2000\n",
      "12/12 [==============================] - 1s 88ms/step - loss: 0.0037 - val_loss: 0.0035\n",
      "Epoch 269/2000\n",
      "12/12 [==============================] - 1s 89ms/step - loss: 0.0036 - val_loss: 0.0036\n",
      "Epoch 270/2000\n",
      "12/12 [==============================] - 1s 87ms/step - loss: 0.0035 - val_loss: 0.0033\n",
      "Epoch 271/2000\n",
      "12/12 [==============================] - 1s 88ms/step - loss: 0.0035 - val_loss: 0.0034\n",
      "Epoch 272/2000\n",
      "12/12 [==============================] - 1s 91ms/step - loss: 0.0035 - val_loss: 0.0034\n",
      "Epoch 273/2000\n",
      "12/12 [==============================] - 1s 88ms/step - loss: 0.0035 - val_loss: 0.0033\n",
      "Epoch 274/2000\n",
      "12/12 [==============================] - 1s 91ms/step - loss: 0.0036 - val_loss: 0.0036\n",
      "Epoch 275/2000\n",
      "12/12 [==============================] - 1s 95ms/step - loss: 0.0035 - val_loss: 0.0032\n",
      "Epoch 276/2000\n",
      "12/12 [==============================] - 1s 110ms/step - loss: 0.0035 - val_loss: 0.0037\n",
      "Epoch 277/2000\n",
      "12/12 [==============================] - 1s 107ms/step - loss: 0.0035 - val_loss: 0.0032\n",
      "Epoch 278/2000\n",
      "12/12 [==============================] - 1s 111ms/step - loss: 0.0035 - val_loss: 0.0042\n",
      "Epoch 279/2000\n",
      "12/12 [==============================] - 1s 108ms/step - loss: 0.0035 - val_loss: 0.0035\n",
      "Epoch 280/2000\n",
      "12/12 [==============================] - 1s 108ms/step - loss: 0.0036 - val_loss: 0.0034\n",
      "Epoch 281/2000\n",
      "12/12 [==============================] - 1s 106ms/step - loss: 0.0035 - val_loss: 0.0034\n",
      "Epoch 282/2000\n",
      "12/12 [==============================] - 1s 107ms/step - loss: 0.0035 - val_loss: 0.0033\n",
      "Epoch 283/2000\n",
      "12/12 [==============================] - 1s 111ms/step - loss: 0.0035 - val_loss: 0.0033\n",
      "Epoch 284/2000\n",
      "12/12 [==============================] - 1s 106ms/step - loss: 0.0036 - val_loss: 0.0038\n",
      "Epoch 285/2000\n",
      "12/12 [==============================] - 1s 110ms/step - loss: 0.0035 - val_loss: 0.0036\n",
      "Epoch 286/2000\n",
      "12/12 [==============================] - 1s 106ms/step - loss: 0.0037 - val_loss: 0.0039\n",
      "Epoch 287/2000\n",
      "12/12 [==============================] - 1s 100ms/step - loss: 0.0037 - val_loss: 0.0033\n",
      "Epoch 288/2000\n",
      "12/12 [==============================] - 1s 110ms/step - loss: 0.0036 - val_loss: 0.0034\n",
      "Epoch 289/2000\n",
      "12/12 [==============================] - 1s 103ms/step - loss: 0.0035 - val_loss: 0.0033\n",
      "Epoch 290/2000\n",
      "12/12 [==============================] - 1s 109ms/step - loss: 0.0035 - val_loss: 0.0034\n",
      "Epoch 291/2000\n",
      "12/12 [==============================] - 1s 105ms/step - loss: 0.0035 - val_loss: 0.0033\n",
      "Epoch 292/2000\n",
      "12/12 [==============================] - 1s 102ms/step - loss: 0.0036 - val_loss: 0.0033\n",
      "Epoch 293/2000\n",
      "12/12 [==============================] - 1s 100ms/step - loss: 0.0036 - val_loss: 0.0034\n",
      "Epoch 294/2000\n",
      "12/12 [==============================] - 1s 88ms/step - loss: 0.0035 - val_loss: 0.0036\n",
      "Epoch 295/2000\n",
      "12/12 [==============================] - 1s 91ms/step - loss: 0.0034 - val_loss: 0.0035\n",
      "Epoch 296/2000\n",
      "12/12 [==============================] - 1s 91ms/step - loss: 0.0034 - val_loss: 0.0033\n",
      "Epoch 297/2000\n",
      "12/12 [==============================] - 1s 92ms/step - loss: 0.0036 - val_loss: 0.0034\n",
      "Epoch 298/2000\n",
      "12/12 [==============================] - 1s 88ms/step - loss: 0.0037 - val_loss: 0.0033\n",
      "Epoch 299/2000\n",
      "12/12 [==============================] - 1s 93ms/step - loss: 0.0037 - val_loss: 0.0031\n",
      "Epoch 300/2000\n",
      "12/12 [==============================] - 1s 91ms/step - loss: 0.0035 - val_loss: 0.0034\n",
      "Epoch 301/2000\n",
      "12/12 [==============================] - 1s 85ms/step - loss: 0.0035 - val_loss: 0.0034\n",
      "Epoch 302/2000\n",
      "12/12 [==============================] - 1s 89ms/step - loss: 0.0036 - val_loss: 0.0033\n",
      "Epoch 303/2000\n",
      "12/12 [==============================] - 1s 88ms/step - loss: 0.0037 - val_loss: 0.0035\n",
      "Epoch 304/2000\n",
      "12/12 [==============================] - 1s 90ms/step - loss: 0.0037 - val_loss: 0.0038\n",
      "Epoch 305/2000\n",
      "12/12 [==============================] - 1s 90ms/step - loss: 0.0036 - val_loss: 0.0033\n",
      "Epoch 306/2000\n",
      "12/12 [==============================] - 1s 92ms/step - loss: 0.0036 - val_loss: 0.0038\n",
      "Epoch 307/2000\n",
      "12/12 [==============================] - 1s 96ms/step - loss: 0.0036 - val_loss: 0.0034\n",
      "Epoch 308/2000\n",
      "12/12 [==============================] - 1s 83ms/step - loss: 0.0037 - val_loss: 0.0034\n",
      "Epoch 309/2000\n",
      "12/12 [==============================] - 1s 89ms/step - loss: 0.0035 - val_loss: 0.0032\n",
      "Epoch 310/2000\n",
      "12/12 [==============================] - 1s 91ms/step - loss: 0.0036 - val_loss: 0.0035\n",
      "Epoch 311/2000\n",
      "12/12 [==============================] - 1s 111ms/step - loss: 0.0035 - val_loss: 0.0033\n",
      "Epoch 312/2000\n",
      "12/12 [==============================] - 1s 106ms/step - loss: 0.0034 - val_loss: 0.0037\n",
      "Epoch 313/2000\n",
      "12/12 [==============================] - 1s 106ms/step - loss: 0.0035 - val_loss: 0.0036\n",
      "Epoch 314/2000\n",
      "12/12 [==============================] - 1s 110ms/step - loss: 0.0034 - val_loss: 0.0033\n",
      "Epoch 315/2000\n",
      "12/12 [==============================] - 1s 113ms/step - loss: 0.0034 - val_loss: 0.0036\n",
      "Epoch 316/2000\n",
      "12/12 [==============================] - 1s 106ms/step - loss: 0.0035 - val_loss: 0.0032\n",
      "Epoch 317/2000\n",
      "12/12 [==============================] - 1s 100ms/step - loss: 0.0035 - val_loss: 0.0031\n",
      "Epoch 318/2000\n",
      "12/12 [==============================] - 1s 105ms/step - loss: 0.0035 - val_loss: 0.0031\n",
      "Epoch 319/2000\n",
      "12/12 [==============================] - 1s 111ms/step - loss: 0.0034 - val_loss: 0.0033\n",
      "Epoch 320/2000\n",
      "12/12 [==============================] - 1s 103ms/step - loss: 0.0034 - val_loss: 0.0033\n",
      "Epoch 321/2000\n",
      "12/12 [==============================] - 1s 113ms/step - loss: 0.0034 - val_loss: 0.0034\n",
      "Epoch 322/2000\n",
      "12/12 [==============================] - 1s 106ms/step - loss: 0.0036 - val_loss: 0.0038\n",
      "Epoch 323/2000\n",
      "12/12 [==============================] - 1s 107ms/step - loss: 0.0036 - val_loss: 0.0032\n",
      "Epoch 324/2000\n",
      "12/12 [==============================] - 1s 106ms/step - loss: 0.0035 - val_loss: 0.0032\n",
      "Epoch 325/2000\n",
      "12/12 [==============================] - 1s 91ms/step - loss: 0.0034 - val_loss: 0.0033\n",
      "Epoch 326/2000\n",
      "12/12 [==============================] - 1s 84ms/step - loss: 0.0034 - val_loss: 0.0032\n",
      "Epoch 327/2000\n",
      "12/12 [==============================] - 1s 89ms/step - loss: 0.0036 - val_loss: 0.0033\n",
      "Epoch 328/2000\n",
      "12/12 [==============================] - 1s 82ms/step - loss: 0.0035 - val_loss: 0.0034\n",
      "Epoch 329/2000\n",
      "12/12 [==============================] - 1s 84ms/step - loss: 0.0034 - val_loss: 0.0036\n",
      "Epoch 330/2000\n",
      "12/12 [==============================] - 1s 90ms/step - loss: 0.0035 - val_loss: 0.0031\n",
      "Epoch 331/2000\n",
      "12/12 [==============================] - 1s 91ms/step - loss: 0.0035 - val_loss: 0.0033\n",
      "Epoch 332/2000\n",
      "12/12 [==============================] - 1s 93ms/step - loss: 0.0034 - val_loss: 0.0032\n",
      "Epoch 333/2000\n",
      "12/12 [==============================] - 1s 86ms/step - loss: 0.0034 - val_loss: 0.0039\n",
      "Epoch 334/2000\n",
      "12/12 [==============================] - 1s 87ms/step - loss: 0.0036 - val_loss: 0.0032\n",
      "Epoch 335/2000\n",
      "12/12 [==============================] - 1s 85ms/step - loss: 0.0034 - val_loss: 0.0032\n",
      "Epoch 336/2000\n",
      "12/12 [==============================] - 1s 88ms/step - loss: 0.0033 - val_loss: 0.0032\n",
      "Epoch 337/2000\n",
      "12/12 [==============================] - 1s 90ms/step - loss: 0.0033 - val_loss: 0.0032\n",
      "Epoch 338/2000\n",
      "12/12 [==============================] - 1s 84ms/step - loss: 0.0033 - val_loss: 0.0033\n",
      "Epoch 339/2000\n",
      "12/12 [==============================] - 1s 89ms/step - loss: 0.0034 - val_loss: 0.0033\n",
      "Epoch 340/2000\n",
      "12/12 [==============================] - 1s 91ms/step - loss: 0.0035 - val_loss: 0.0031\n",
      "Epoch 341/2000\n",
      "12/12 [==============================] - 1s 89ms/step - loss: 0.0036 - val_loss: 0.0038\n",
      "Epoch 342/2000\n",
      "12/12 [==============================] - 1s 89ms/step - loss: 0.0035 - val_loss: 0.0034\n",
      "Epoch 343/2000\n",
      "12/12 [==============================] - 1s 97ms/step - loss: 0.0034 - val_loss: 0.0033\n",
      "Epoch 344/2000\n",
      "12/12 [==============================] - 1s 103ms/step - loss: 0.0036 - val_loss: 0.0041\n",
      "Epoch 345/2000\n",
      "12/12 [==============================] - 1s 104ms/step - loss: 0.0035 - val_loss: 0.0032\n",
      "Epoch 346/2000\n",
      "12/12 [==============================] - 1s 106ms/step - loss: 0.0033 - val_loss: 0.0033\n",
      "Epoch 347/2000\n",
      "12/12 [==============================] - 1s 106ms/step - loss: 0.0033 - val_loss: 0.0035\n",
      "Epoch 348/2000\n",
      "12/12 [==============================] - 1s 108ms/step - loss: 0.0033 - val_loss: 0.0032\n",
      "Epoch 349/2000\n",
      "12/12 [==============================] - 1s 101ms/step - loss: 0.0033 - val_loss: 0.0032\n",
      "Epoch 350/2000\n",
      "12/12 [==============================] - 1s 106ms/step - loss: 0.0035 - val_loss: 0.0038\n",
      "Epoch 351/2000\n",
      "12/12 [==============================] - 1s 106ms/step - loss: 0.0033 - val_loss: 0.0032\n",
      "Epoch 352/2000\n",
      "12/12 [==============================] - 1s 107ms/step - loss: 0.0034 - val_loss: 0.0033\n",
      "Epoch 353/2000\n",
      "12/12 [==============================] - 1s 104ms/step - loss: 0.0033 - val_loss: 0.0034\n",
      "Epoch 354/2000\n",
      "12/12 [==============================] - 1s 107ms/step - loss: 0.0032 - val_loss: 0.0032\n",
      "Epoch 355/2000\n",
      "12/12 [==============================] - 1s 110ms/step - loss: 0.0032 - val_loss: 0.0034\n",
      "Epoch 356/2000\n",
      "12/12 [==============================] - 1s 107ms/step - loss: 0.0035 - val_loss: 0.0041\n",
      "Epoch 357/2000\n",
      "12/12 [==============================] - 1s 92ms/step - loss: 0.0036 - val_loss: 0.0033\n",
      "Epoch 358/2000\n",
      "12/12 [==============================] - 1s 92ms/step - loss: 0.0035 - val_loss: 0.0037\n",
      "Epoch 359/2000\n",
      "12/12 [==============================] - 1s 91ms/step - loss: 0.0035 - val_loss: 0.0034\n",
      "Epoch 360/2000\n",
      "12/12 [==============================] - 1s 92ms/step - loss: 0.0033 - val_loss: 0.0032\n",
      "Epoch 361/2000\n",
      "12/12 [==============================] - 1s 93ms/step - loss: 0.0032 - val_loss: 0.0033\n",
      "Epoch 362/2000\n",
      "12/12 [==============================] - 1s 93ms/step - loss: 0.0033 - val_loss: 0.0031\n",
      "Epoch 363/2000\n",
      "12/12 [==============================] - 1s 92ms/step - loss: 0.0033 - val_loss: 0.0032\n",
      "Epoch 364/2000\n",
      "12/12 [==============================] - 1s 92ms/step - loss: 0.0032 - val_loss: 0.0032\n",
      "Epoch 365/2000\n",
      "12/12 [==============================] - 1s 94ms/step - loss: 0.0032 - val_loss: 0.0032\n",
      "Epoch 366/2000\n",
      "12/12 [==============================] - 1s 90ms/step - loss: 0.0033 - val_loss: 0.0031\n",
      "Epoch 367/2000\n",
      "12/12 [==============================] - 1s 96ms/step - loss: 0.0032 - val_loss: 0.0032\n",
      "Epoch 368/2000\n",
      "12/12 [==============================] - 1s 89ms/step - loss: 0.0033 - val_loss: 0.0037\n",
      "Epoch 369/2000\n",
      "12/12 [==============================] - 1s 94ms/step - loss: 0.0036 - val_loss: 0.0035\n",
      "Epoch 370/2000\n",
      "12/12 [==============================] - 1s 90ms/step - loss: 0.0033 - val_loss: 0.0033\n",
      "Epoch 371/2000\n",
      "12/12 [==============================] - 1s 92ms/step - loss: 0.0036 - val_loss: 0.0039\n",
      "Epoch 372/2000\n",
      "12/12 [==============================] - 1s 92ms/step - loss: 0.0034 - val_loss: 0.0032\n",
      "Epoch 373/2000\n",
      "12/12 [==============================] - 1s 100ms/step - loss: 0.0033 - val_loss: 0.0033\n",
      "Epoch 374/2000\n",
      "12/12 [==============================] - 1s 93ms/step - loss: 0.0032 - val_loss: 0.0035\n",
      "Epoch 375/2000\n",
      "12/12 [==============================] - 1s 105ms/step - loss: 0.0032 - val_loss: 0.0032\n",
      "Epoch 376/2000\n",
      "12/12 [==============================] - 1s 113ms/step - loss: 0.0033 - val_loss: 0.0037\n",
      "Epoch 377/2000\n",
      "12/12 [==============================] - 1s 109ms/step - loss: 0.0033 - val_loss: 0.0034\n",
      "Epoch 378/2000\n",
      "12/12 [==============================] - 1s 106ms/step - loss: 0.0032 - val_loss: 0.0032\n",
      "Epoch 379/2000\n",
      "12/12 [==============================] - 1s 115ms/step - loss: 0.0033 - val_loss: 0.0037\n",
      "Epoch 380/2000\n",
      "12/12 [==============================] - 1s 104ms/step - loss: 0.0033 - val_loss: 0.0032\n",
      "Epoch 381/2000\n",
      "12/12 [==============================] - 1s 108ms/step - loss: 0.0033 - val_loss: 0.0032\n",
      "Epoch 382/2000\n",
      "12/12 [==============================] - 1s 112ms/step - loss: 0.0032 - val_loss: 0.0032\n",
      "Epoch 383/2000\n",
      "12/12 [==============================] - 1s 106ms/step - loss: 0.0032 - val_loss: 0.0032\n",
      "Epoch 384/2000\n",
      "12/12 [==============================] - 1s 114ms/step - loss: 0.0032 - val_loss: 0.0032\n",
      "Epoch 385/2000\n",
      "12/12 [==============================] - 1s 111ms/step - loss: 0.0032 - val_loss: 0.0034\n",
      "Epoch 386/2000\n",
      "12/12 [==============================] - 1s 111ms/step - loss: 0.0032 - val_loss: 0.0032\n",
      "Epoch 387/2000\n",
      "12/12 [==============================] - 1s 96ms/step - loss: 0.0031 - val_loss: 0.0034\n",
      "Epoch 388/2000\n",
      "12/12 [==============================] - 1s 95ms/step - loss: 0.0032 - val_loss: 0.0032\n",
      "Epoch 389/2000\n",
      "12/12 [==============================] - 1s 92ms/step - loss: 0.0032 - val_loss: 0.0033\n",
      "Epoch 390/2000\n",
      "12/12 [==============================] - 1s 89ms/step - loss: 0.0031 - val_loss: 0.0032\n",
      "Epoch 391/2000\n",
      "12/12 [==============================] - 1s 87ms/step - loss: 0.0032 - val_loss: 0.0033\n",
      "Epoch 392/2000\n",
      "12/12 [==============================] - 1s 89ms/step - loss: 0.0032 - val_loss: 0.0033\n",
      "Epoch 393/2000\n",
      "12/12 [==============================] - 1s 88ms/step - loss: 0.0032 - val_loss: 0.0032\n",
      "Epoch 394/2000\n",
      "12/12 [==============================] - 1s 94ms/step - loss: 0.0032 - val_loss: 0.0034\n",
      "Epoch 395/2000\n",
      "12/12 [==============================] - 1s 89ms/step - loss: 0.0032 - val_loss: 0.0038\n",
      "Epoch 396/2000\n",
      "12/12 [==============================] - 1s 93ms/step - loss: 0.0035 - val_loss: 0.0034\n",
      "Epoch 397/2000\n",
      "12/12 [==============================] - 1s 92ms/step - loss: 0.0033 - val_loss: 0.0033\n",
      "Epoch 398/2000\n",
      "12/12 [==============================] - 1s 89ms/step - loss: 0.0031 - val_loss: 0.0034\n",
      "Epoch 399/2000\n",
      "12/12 [==============================] - 1s 95ms/step - loss: 0.0032 - val_loss: 0.0033\n",
      "Epoch 400/2000\n",
      "12/12 [==============================] - 1s 91ms/step - loss: 0.0033 - val_loss: 0.0034\n",
      "Epoch 401/2000\n",
      "12/12 [==============================] - 1s 93ms/step - loss: 0.0032 - val_loss: 0.0033\n",
      "Epoch 402/2000\n",
      "12/12 [==============================] - 1s 98ms/step - loss: 0.0031 - val_loss: 0.0034\n",
      "Epoch 403/2000\n",
      "12/12 [==============================] - 1s 108ms/step - loss: 0.0031 - val_loss: 0.0033\n",
      "Epoch 404/2000\n",
      "12/12 [==============================] - 1s 115ms/step - loss: 0.0032 - val_loss: 0.0034\n",
      "Epoch 405/2000\n",
      "12/12 [==============================] - 1s 108ms/step - loss: 0.0032 - val_loss: 0.0035\n",
      "Epoch 406/2000\n",
      "12/12 [==============================] - 1s 109ms/step - loss: 0.0031 - val_loss: 0.0033\n",
      "Epoch 407/2000\n",
      "12/12 [==============================] - 1s 114ms/step - loss: 0.0031 - val_loss: 0.0034\n",
      "Epoch 408/2000\n",
      "12/12 [==============================] - 1s 107ms/step - loss: 0.0031 - val_loss: 0.0033\n",
      "Epoch 409/2000\n",
      "12/12 [==============================] - 1s 102ms/step - loss: 0.0031 - val_loss: 0.0033\n",
      "Epoch 410/2000\n",
      "12/12 [==============================] - 1s 101ms/step - loss: 0.0031 - val_loss: 0.0033\n",
      "Epoch 411/2000\n",
      "12/12 [==============================] - 1s 112ms/step - loss: 0.0031 - val_loss: 0.0033\n",
      "Epoch 412/2000\n",
      "12/12 [==============================] - 1s 101ms/step - loss: 0.0031 - val_loss: 0.0037\n",
      "Epoch 00412: early stopping\n"
     ]
    }
   ],
   "source": [
    "from tensorflow.keras.callbacks import EarlyStopping\n",
    "# run the model\n",
    "early_stopping = EarlyStopping(monitor='val_loss', min_delta=0, patience=50, verbose=5, mode='auto')\n",
    "history = ae.fit(train_generator, epochs=2000, validation_data=validation_generator, callbacks=[early_stopping],verbose=1)"
   ]
  },
  {
   "cell_type": "code",
   "execution_count": 16,
   "metadata": {},
   "outputs": [],
   "source": [
    "# #Fit the model. \n",
    "# history = ae.fit(\n",
    "#         train_generator,\n",
    "#         # epochs=10,\n",
    "#         epochs=200,\n",
    "#         validation_data=validation_generator,\n",
    "#         shuffle = True)"
   ]
  },
  {
   "cell_type": "code",
   "execution_count": 18,
   "metadata": {},
   "outputs": [
    {
     "data": {
      "image/png": "[encoded data removed]",
      "text/plain": [
       "<Figure size 640x480 with 1 Axes>"
      ]
     },
     "metadata": {},
     "output_type": "display_data"
    }
   ],
   "source": [
    "\n",
    "# Get the training and validation loss values from the history object\n",
    "train_loss = history.history['loss']\n",
    "val_loss = history.history['val_loss']\n",
    "\n",
    "# Plot the training and validation loss\n",
    "epochs = range(1, len(train_loss) + 1)\n",
    "plt.plot(epochs, train_loss, 'b-', label='Training Loss')\n",
    "plt.plot(epochs, val_loss, 'r-', label='Validation Loss')\n",
    "plt.title('Training and Validation Loss')\n",
    "plt.xlabel('Epochs')\n",
    "plt.ylabel('Loss')\n",
    "plt.legend()\n",
    "plt.show()\n"
   ]
  },
  {
   "cell_type": "code",
   "execution_count": 19,
   "metadata": {},
   "outputs": [
    {
     "name": "stdout",
     "output_type": "stream",
     "text": [
      "NewAutoencoderModel11\n"
     ]
    }
   ],
   "source": [
    "model_version = 'NewAutoencoderModel11'\n",
    "print(model_version)"
   ]
  },
  {
   "cell_type": "code",
   "execution_count": 20,
   "metadata": {},
   "outputs": [
    {
     "name": "stderr",
     "output_type": "stream",
     "text": [
      "2023-06-01 23:19:27.253704: W tensorflow/python/util/util.cc:329] Sets are not currently considered sequences, but this may change in the future, so consider avoiding using them.\n"
     ]
    },
    {
     "name": "stdout",
     "output_type": "stream",
     "text": [
      "WARNING:tensorflow:From /home/alexpc/.local/lib/python3.8/site-packages/tensorflow/python/ops/resource_variable_ops.py:1813: calling BaseResourceVariable.__init__ (from tensorflow.python.ops.resource_variable_ops) with constraint is deprecated and will be removed in a future version.\n",
      "Instructions for updating:\n",
      "If using Keras pass *_constraint arguments to layers.\n",
      "INFO:tensorflow:Assets written to: ../../BottlesAnomalies_TFM/models/NewAutoencoderModel11/assets\n"
     ]
    }
   ],
   "source": [
    "ae.save(f\"../../BottlesAnomalies_TFM/models/{model_version}\")"
   ]
  },
  {
   "cell_type": "code",
   "execution_count": 21,
   "metadata": {},
   "outputs": [
    {
     "name": "stdout",
     "output_type": "stream",
     "text": [
      "<class 'tensorflow.python.keras.engine.training.Model'>\n"
     ]
    }
   ],
   "source": [
    "print(type(ae))"
   ]
  },
  {
   "attachments": {},
   "cell_type": "markdown",
   "metadata": {},
   "source": [
    "Loading the model that was previously saved\n"
   ]
  },
  {
   "cell_type": "code",
   "execution_count": 22,
   "metadata": {},
   "outputs": [
    {
     "name": "stdout",
     "output_type": "stream",
     "text": [
      "<class 'tensorflow.python.keras.engine.training.Model'>\n"
     ]
    }
   ],
   "source": [
    "model = keras.models.load_model('../models/NewAutoencoderModel11')\n",
    "print(type(model))"
   ]
  },
  {
   "attachments": {},
   "cell_type": "markdown",
   "metadata": {},
   "source": [
    "Get all batches generated by the datagen and pick a batch for prediction"
   ]
  },
  {
   "cell_type": "code",
   "execution_count": 23,
   "metadata": {},
   "outputs": [
    {
     "name": "stdout",
     "output_type": "stream",
     "text": [
      "number of batches are:  12\n"
     ]
    }
   ],
   "source": [
    "#Just to test the model. \n",
    "data_batch = []  #Capture all training batches as a numpy array\n",
    "img_num = 0\n",
    "# while img_num <= train_generator.batch_index:   #gets each generated batch of size batch_size\n",
    "while img_num < len(train_generator):        #I think this should be the correct while clause\n",
    "    data = train_generator.next()\n",
    "    data_batch.append(data[0])\n",
    "    img_num = img_num + 1\n",
    "    \n",
    "print(\"number of batches are: \", img_num)\n"
   ]
  },
  {
   "cell_type": "code",
   "execution_count": 24,
   "metadata": {},
   "outputs": [
    {
     "name": "stdout",
     "output_type": "stream",
     "text": [
      "12\n"
     ]
    }
   ],
   "source": [
    "print(len(data_batch))"
   ]
  },
  {
   "attachments": {},
   "cell_type": "markdown",
   "metadata": {},
   "source": [
    "Predict on the first batch of images. Do also notice that the prediction is being carried out over the images we used for training."
   ]
  },
  {
   "cell_type": "code",
   "execution_count": 25,
   "metadata": {},
   "outputs": [
    {
     "name": "stdout",
     "output_type": "stream",
     "text": [
      "(15, 224, 224, 3)\n",
      "(15, 224, 224, 3)\n"
     ]
    }
   ],
   "source": [
    "print(data_batch[0].shape)\n",
    "predicted = model.predict(data_batch[0])  \n",
    "print(predicted.shape)"
   ]
  },
  {
   "attachments": {},
   "cell_type": "markdown",
   "metadata": {},
   "source": [
    "The above is 15 length because it corresponds to the 15 predicted images of a batch. Recall that the predictions are reconstructions of the input images, since we are working with the autoencoder network."
   ]
  },
  {
   "cell_type": "code",
   "execution_count": 26,
   "metadata": {},
   "outputs": [],
   "source": [
    "single_img = data_batch[0][0]"
   ]
  },
  {
   "cell_type": "code",
   "execution_count": 27,
   "metadata": {},
   "outputs": [
    {
     "name": "stdout",
     "output_type": "stream",
     "text": [
      "(224, 224, 3)\n"
     ]
    }
   ],
   "source": [
    "print(single_img.shape)"
   ]
  },
  {
   "cell_type": "code",
   "execution_count": 28,
   "metadata": {},
   "outputs": [
    {
     "data": {
      "text/plain": [
       "0"
      ]
     },
     "execution_count": 28,
     "metadata": {},
     "output_type": "execute_result"
    }
   ],
   "source": [
    "random.randint(0, 2)"
   ]
  },
  {
   "cell_type": "code",
   "execution_count": 29,
   "metadata": {},
   "outputs": [
    {
     "name": "stderr",
     "output_type": "stream",
     "text": [
      "Clipping input data to the valid range for imshow with RGB data ([0..1] for floats or [0..255] for integers).\n"
     ]
    },
    {
     "data": {
      "image/png": "[encoded data removed]",
      "text/plain": [
       "<Figure size 1200x600 with 2 Axes>"
      ]
     },
     "metadata": {},
     "output_type": "display_data"
    }
   ],
   "source": [
    "#Sanity check, view few images and corresponding reconstructions\n",
    "image_number = random.randint(0, predicted.shape[0]-1)\n",
    "plt.figure(figsize=(12, 6))\n",
    "plt.subplot(121)\n",
    "plt.title(\"input image\")\n",
    "plt.imshow(data_batch[0][image_number])\n",
    "plt.subplot(122)\n",
    "plt.title(\"reconstructed image\")\n",
    "plt.imshow(predicted[image_number])\n",
    "plt.show()"
   ]
  },
  {
   "attachments": {},
   "cell_type": "markdown",
   "metadata": {},
   "source": [
    "THe reconstructed image is way much better now.\n"
   ]
  },
  {
   "attachments": {},
   "cell_type": "markdown",
   "metadata": {},
   "source": [
    "# Quantifying the reconstruction error"
   ]
  },
  {
   "attachments": {},
   "cell_type": "markdown",
   "metadata": {},
   "source": [
    "Let us examine the reconstruction error of our validation data (good/normal images) and the anomaly images"
   ]
  },
  {
   "cell_type": "code",
   "execution_count": null,
   "metadata": {},
   "outputs": [],
   "source": [
    "validation_error = model.evaluate_generator(validation_generator)\n",
    "print(\"Recon. error for the validation (normal) data is: \", validation_error)"
   ]
  },
  {
   "attachments": {},
   "cell_type": "markdown",
   "metadata": {},
   "source": [
    "Here above we see a vector with two components which happen to be the same between them. This is because in the model, when we define the outputs, the loss function type and the metric are the same parameter, the mse (mean square error)."
   ]
  },
  {
   "attachments": {},
   "cell_type": "markdown",
   "metadata": {},
   "source": [
    "This reconstruction error above should be very low, since the validation generator is full of normal images (good images)"
   ]
  },
  {
   "attachments": {},
   "cell_type": "markdown",
   "metadata": {},
   "source": [
    "Whereas the reconstruction error here below, for the \"anomaly_generator\" should be higher, since this dataset is comprised of full anomaly images."
   ]
  },
  {
   "cell_type": "code",
   "execution_count": null,
   "metadata": {},
   "outputs": [],
   "source": [
    "anomaly_error = model.evaluate_generator(anomaly_generator)\n",
    "print(\"Recon. error for the anomaly data is: \", anomaly_error)"
   ]
  },
  {
   "attachments": {},
   "cell_type": "markdown",
   "metadata": {},
   "source": [
    "See that this error is slightly higher than the error in the validation dataset. This is good, but the difference is not that significant and this could result in wrong anomaly detections. Let's see some detections."
   ]
  },
  {
   "attachments": {},
   "cell_type": "markdown",
   "metadata": {},
   "source": [
    "SIDENOTE: Additionally, we can check the train generator error according to the \"evaluate_generator()\" function."
   ]
  },
  {
   "cell_type": "code",
   "execution_count": null,
   "metadata": {},
   "outputs": [],
   "source": [
    "training_error = model.evaluate_generator(train_generator)\n",
    "print(\"Recon. error for the training (non-anomaly) data is: \", training_error)"
   ]
  },
  {
   "attachments": {},
   "cell_type": "markdown",
   "metadata": {},
   "source": [
    "See that the above value does not correspond with the below mean reconstruction error of the training set that will be computed. It should at least be close, I think. This is something to check."
   ]
  },
  {
   "attachments": {},
   "cell_type": "markdown",
   "metadata": {},
   "source": [
    "# Computing the reconstruction error without using the \"evaluate_generator()\" function"
   ]
  },
  {
   "attachments": {},
   "cell_type": "markdown",
   "metadata": {},
   "source": [
    "The following function computes the reconstrution error per each batch of images. It does, for each of the batches:\n",
    "- Initialize a vector for storing the reconstruction errors.\n",
    "- A for loop that traverses all the images contained in a batch.\n",
    "    - Take the one image of the batch.\n",
    "    - Add a new size dimension to the image.\n",
    "    - Make a prediction of the selected image with the model that was built.\n",
    "    - Evaluate the performance of the prediction, i.e. compute the prediction error.\n",
    "    - Append the reconstruction error into a list.\n",
    "- Compute the mean and std deviation of the error.\n",
    " "
   ]
  },
  {
   "cell_type": "code",
   "execution_count": null,
   "metadata": {},
   "outputs": [],
   "source": [
    "def calc_recon_error(batch_images):   \n",
    "    recon_error_list=[]\n",
    "    for im in range(0, batch_images.shape[0]):\n",
    "        img  = batch_images[im]\n",
    "        img = img[np.newaxis, :,:,:]\n",
    "        reconstruction = model.predict([[img]])\n",
    "        # reconstruction_error = model.evaluate([reconstruction],[[img]], batch_size = 1)[0]    # The batch_size parameter for the moment can be supressed. Results were seen to be the same\n",
    "        # reconstruction_error = model.evaluate([reconstruction],[[img]])[0]                    # It included the [0] subscription but with this new model, the rec error is directly a float value, so no more need for subscription\n",
    "        reconstruction_error = model.evaluate([reconstruction],[[img]])\n",
    "        recon_error_list.append(reconstruction_error)   \n",
    "    return recon_error_list"
   ]
  },
  {
   "cell_type": "code",
   "execution_count": null,
   "metadata": {},
   "outputs": [],
   "source": [
    "total_rec_error = []\n",
    "for i in range(len(train_generator)):        #I think this should be the correct while clause\n",
    "    data = train_generator.next()\n",
    "    total_rec_error.append(calc_recon_error(data[0]))\n",
    "    \n",
    "print(\"The list of rec. error contains \", len(total_rec_error), \"batches of rec. errors\")"
   ]
  },
  {
   "cell_type": "code",
   "execution_count": null,
   "metadata": {},
   "outputs": [],
   "source": [
    "print(type(total_rec_error[0]))"
   ]
  },
  {
   "cell_type": "code",
   "execution_count": null,
   "metadata": {},
   "outputs": [],
   "source": [
    "total_rec_error_list = [item for sublist in total_rec_error for item in sublist]\n",
    "print(len(total_rec_error_list))"
   ]
  },
  {
   "cell_type": "code",
   "execution_count": null,
   "metadata": {},
   "outputs": [],
   "source": [
    "na_average_recon_error = np.mean(np.array(total_rec_error_list))  \n",
    "na_stdev_recon_error = np.std(np.array(total_rec_error_list)) \n",
    "min_prob = np.min(total_rec_error_list)\n",
    "max_prob = np.max(total_rec_error_list)\n",
    "print(\"THIS IS FOR THE TRAINING (NON-ANOMALY) IMAGES\\n\")\n",
    "print(\"The average of the errors list is: \", na_average_recon_error)\n",
    "print(\"The standard deviation of the errors list is: \", na_stdev_recon_error)\n",
    "print(\"The min value of the errors list is: \", min_prob)\n",
    "print(\"The max value of the errors list is: \", max_prob)"
   ]
  },
  {
   "attachments": {},
   "cell_type": "markdown",
   "metadata": {},
   "source": [
    "Compute the average and std dev. of recon. error for positive (anomalies) samples. \n"
   ]
  },
  {
   "cell_type": "code",
   "execution_count": null,
   "metadata": {},
   "outputs": [],
   "source": [
    "anomaly_batch = anomaly_generator.next()"
   ]
  },
  {
   "cell_type": "code",
   "execution_count": null,
   "metadata": {},
   "outputs": [],
   "source": [
    "total_rec_error_anomalies = []\n",
    "data = anomaly_generator.next()\n",
    "total_rec_error_anomalies=calc_recon_error(data[0])\n",
    "print(len(total_rec_error_anomalies))"
   ]
  },
  {
   "cell_type": "code",
   "execution_count": null,
   "metadata": {},
   "outputs": [],
   "source": [
    "a_average_recon_error = np.mean(np.array(total_rec_error_anomalies))  \n",
    "a_stdev_recon_error = np.std(np.array(total_rec_error_anomalies)) \n",
    "min_prob = np.min(total_rec_error_anomalies)\n",
    "max_prob = np.max(total_rec_error_anomalies)\n",
    "print(\"THIS IS FOR THE ANOMALY IMAGES\\n\")\n",
    "print(\"The average of the errors list is: \", a_average_recon_error)\n",
    "print(\"The standard deviation of the errors list is: \", a_stdev_recon_error)\n",
    "print(\"The min value of the errors list is: \", min_prob)\n",
    "print(\"The max value of the errors list is: \", max_prob)"
   ]
  },
  {
   "attachments": {},
   "cell_type": "markdown",
   "metadata": {},
   "source": [
    "See above that results are alreayd shit. The average reconstruction error for non-anomaly images is hihgher than the average for anomaly images"
   ]
  },
  {
   "attachments": {},
   "cell_type": "markdown",
   "metadata": {},
   "source": [
    "Below, we can see the plot of the reconstruction error values, of the non-anomaly list (blue) and the anomaly list (red)."
   ]
  },
  {
   "cell_type": "code",
   "execution_count": null,
   "metadata": {},
   "outputs": [],
   "source": [
    "plt.figure(figsize=(10, 10))\n",
    "val = 0. # this is the value where you want the data to appear on the y-axis.\n",
    "plt.plot(total_rec_error_list, np.zeros_like(total_rec_error_list) + val, 'x')\n",
    "plt.plot(total_rec_error_anomalies, np.zeros_like(total_rec_error_anomalies) + val, 'ro')\n",
    "plt.show()"
   ]
  },
  {
   "attachments": {},
   "cell_type": "markdown",
   "metadata": {},
   "source": [
    "AT THIS POINT THE TEST COULD END. The reuslts are already worthless."
   ]
  },
  {
   "cell_type": "code",
   "execution_count": null,
   "metadata": {},
   "outputs": [],
   "source": []
  }
 ],
 "metadata": {
  "kernelspec": {
   "display_name": "Python 3",
   "language": "python",
   "name": "python3"
  },
  "language_info": {
   "codemirror_mode": {
    "name": "ipython",
    "version": 3
   },
   "file_extension": ".py",
   "mimetype": "text/x-python",
   "name": "python",
   "nbconvert_exporter": "python",
   "pygments_lexer": "ipython3",
   "version": "3.8.10"
  },
  "orig_nbformat": 4,
  "vscode": {
   "interpreter": {
    "hash": "916dbcbb3f70747c44a77c7bcd40155683ae19c65e1c03b4aa3499c5328201f1"
   }
  }
 },
 "nbformat": 4,
 "nbformat_minor": 2
}
